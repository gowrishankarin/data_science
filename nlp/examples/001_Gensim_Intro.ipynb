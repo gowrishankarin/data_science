{
 "cells": [
  {
   "cell_type": "code",
   "execution_count": null,
   "metadata": {},
   "outputs": [],
   "source": [
    "from gensim.test.utils import common_texts, get_tmpfile\n",
    "from gensim.models import Word2Vec"
   ]
  },
  {
   "cell_type": "code",
   "execution_count": 1,
   "metadata": {},
   "outputs": [],
   "source": [
    "from gensim import corpora, models, similarities\n",
    "import jieba"
   ]
  },
  {
   "cell_type": "markdown",
   "metadata": {},
   "source": [
    "### Text Similarity using Gensim"
   ]
  },
  {
   "cell_type": "code",
   "execution_count": 2,
   "metadata": {},
   "outputs": [],
   "source": [
    "texts = ['I love reading Japanese novels. My favorite Japanese writer is Tanizaki Junichiro.', 'Natsume Soseki is a well-known Japanese novelist and his Kokoro is a masterpiece.', 'American modern poetry is good. ']"
   ]
  },
  {
   "cell_type": "code",
   "execution_count": 3,
   "metadata": {},
   "outputs": [
    {
     "name": "stderr",
     "output_type": "stream",
     "text": [
      "Building prefix dict from the default dictionary ...\n",
      "Dumping model to file cache /var/folders/wh/h43cl57j4ljf1x5_4p1bqmx80000gn/T/jieba.cache\n",
      "Loading model cost 0.933 seconds.\n",
      "Prefix dict has been built succesfully.\n"
     ]
    }
   ],
   "source": [
    "keyword = 'Japan has some great novelists. Who is your favorite Japanese writer?'\n",
    "\n",
    "texts = [jieba.lcut(text) for text in texts]\n",
    "dictionary = corpora.Dictionary(texts)\n",
    "feature_cnt = len(dictionary.token2id)\n",
    "corpus = [dictionary.doc2bow(text) for text in texts]\n",
    "tfidf = models.TfidfModel(corpus)\n",
    "kw_vector = dictionary.doc2bow(jieba.lcut(keyword))"
   ]
  },
  {
   "cell_type": "code",
   "execution_count": 5,
   "metadata": {},
   "outputs": [
    {
     "name": "stdout",
     "output_type": "stream",
     "text": [
      "Keyword is similar to text1: 0.5032488703727722\n",
      "Keyword is similar to text2: 0.02478730119764805\n",
      "Keyword is similar to text3: 0.0\n"
     ]
    }
   ],
   "source": [
    "index = similarities.SparseMatrixSimilarity(tfidf[corpus], num_features=feature_cnt)\n",
    "sim = index[tfidf[kw_vector]]\n",
    "\n",
    "for i in range(len(sim)):\n",
    "    print('Keyword is similar to text{0}: {1}'.format(i+1, sim[i]))"
   ]
  },
  {
   "cell_type": "markdown",
   "metadata": {},
   "source": [
    "### Obtain Features based on Dictionary"
   ]
  },
  {
   "cell_type": "code",
   "execution_count": 9,
   "metadata": {},
   "outputs": [
    {
     "name": "stdout",
     "output_type": "stream",
     "text": [
      "Text set: [['痴人', 'の', '愛'], ['よ', 'く', '世間', 'で', 'は', '「', '女', 'が', '男', 'を', '欺', 'す', '」', 'と', '云', 'い', 'ま', 'す', '。']]\n"
     ]
    }
   ],
   "source": [
    "text1 = '痴人の愛'\n",
    "text2 = 'よく世間では「女が男を欺す」と云います。'\n",
    "texts = [text1, text2]\n",
    "texts = [jieba.lcut(text) for text in texts]\n",
    "print('Text set:', texts)"
   ]
  },
  {
   "cell_type": "code",
   "execution_count": 10,
   "metadata": {},
   "outputs": [
    {
     "name": "stdout",
     "output_type": "stream",
     "text": [
      "Dictionary: Dictionary(21 unique tokens: ['の', '愛', '痴人', '。', '「']...)\n",
      "Dictionary feature number: 21\n"
     ]
    }
   ],
   "source": [
    "dictionary = corpora.Dictionary(texts)\n",
    "print('Dictionary:', dictionary)\n",
    "feature_cnt = len(dictionary.token2id)\n",
    "print('Dictionary feature number: {0}'.format(feature_cnt))"
   ]
  },
  {
   "cell_type": "markdown",
   "metadata": {},
   "source": [
    "### Obtain Corpus based on Dictionary"
   ]
  },
  {
   "cell_type": "code",
   "execution_count": 12,
   "metadata": {},
   "outputs": [
    {
     "name": "stdout",
     "output_type": "stream",
     "text": [
      "Dictionary (dictionary): {' ': 0, '.': 1, 'I': 2, 'boast': 3, 'everyone': 4, 'to': 5, 'wanted': 6, 'Take': 7, 'This': 8, 'a': 9, 'at': 10, 'is': 11, 'look': 12, 'mine': 13, 'my': 14, 'treasure': 15, 'woman': 16}\n",
      "Corpus: \n"
     ]
    }
   ],
   "source": [
    "text1 = 'I wanted to boast to everyone.'\n",
    "text2 = 'This woman is mine. Take a look at my treasure.'\n",
    "texts = [text1, text2]\n",
    "texts = [jieba.lcut(text) for text in texts]\n",
    "dictionary = corpora.Dictionary(texts)\n",
    "corpus = [dictionary.doc2bow(text) for text in texts]\n",
    "print('Dictionary (dictionary): {0}'.format(dictionary.token2id))\n",
    "print('Corpus: '.format(corpus))"
   ]
  },
  {
   "cell_type": "code",
   "execution_count": null,
   "metadata": {},
   "outputs": [],
   "source": [
    "#https://medium.com/better-programming/introduction-to-gensim-calculating-text-similarity-9e8b55de342d"
   ]
  }
 ],
 "metadata": {
  "kernelspec": {
   "display_name": "Python 3",
   "language": "python",
   "name": "python3"
  },
  "language_info": {
   "codemirror_mode": {
    "name": "ipython",
    "version": 3
   },
   "file_extension": ".py",
   "mimetype": "text/x-python",
   "name": "python",
   "nbconvert_exporter": "python",
   "pygments_lexer": "ipython3",
   "version": "3.6.9"
  }
 },
 "nbformat": 4,
 "nbformat_minor": 4
}
