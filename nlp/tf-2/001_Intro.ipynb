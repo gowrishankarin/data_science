{
 "cells": [
  {
   "cell_type": "code",
   "execution_count": 1,
   "metadata": {},
   "outputs": [],
   "source": [
    "import tensorflow as tf\n",
    "import tensorflow_datasets as tfds"
   ]
  },
  {
   "cell_type": "code",
   "execution_count": 2,
   "metadata": {},
   "outputs": [],
   "source": [
    "tfds.disable_progress_bar()"
   ]
  },
  {
   "cell_type": "code",
   "execution_count": 3,
   "metadata": {},
   "outputs": [],
   "source": [
    "embedding_layer = tf.keras.layers.Embedding(1000, 5)"
   ]
  },
  {
   "cell_type": "code",
   "execution_count": 4,
   "metadata": {},
   "outputs": [
    {
     "data": {
      "text/plain": [
       "array([[ 0.03468472, -0.00533147,  0.04026114, -0.02045738, -0.0430477 ],\n",
       "       [-0.04905209, -0.01952353, -0.00417323, -0.04221625, -0.0111053 ],\n",
       "       [ 0.02062475, -0.00154465,  0.04502643, -0.03934557, -0.02605118]],\n",
       "      dtype=float32)"
      ]
     },
     "execution_count": 4,
     "metadata": {},
     "output_type": "execute_result"
    }
   ],
   "source": [
    "result = embedding_layer(tf.constant([1, 2, 3]))\n",
    "result.numpy()"
   ]
  },
  {
   "cell_type": "code",
   "execution_count": 5,
   "metadata": {},
   "outputs": [
    {
     "data": {
      "text/plain": [
       "TensorShape([2, 3, 5])"
      ]
     },
     "execution_count": 5,
     "metadata": {},
     "output_type": "execute_result"
    }
   ],
   "source": [
    "result = embedding_layer(tf.constant([[0, 1, 2], [3, 4, 5]]))\n",
    "result.shape"
   ]
  },
  {
   "cell_type": "code",
   "execution_count": 6,
   "metadata": {},
   "outputs": [],
   "source": [
    "### Learning embeddings from scratch\n",
    "(train_data, test_data), info = tfds.load(\n",
    "    'imdb_reviews/subwords8k',\n",
    "    split = (tfds.Split.TRAIN, tfds.Split.TEST),\n",
    "    with_info=True,\n",
    "    as_supervised=True\n",
    ")"
   ]
  },
  {
   "cell_type": "code",
   "execution_count": 7,
   "metadata": {},
   "outputs": [
    {
     "data": {
      "text/plain": [
       "['the_',\n",
       " ', ',\n",
       " '. ',\n",
       " 'a_',\n",
       " 'and_',\n",
       " 'of_',\n",
       " 'to_',\n",
       " 's_',\n",
       " 'is_',\n",
       " 'br',\n",
       " 'in_',\n",
       " 'I_',\n",
       " 'that_',\n",
       " 'this_',\n",
       " 'it_',\n",
       " ' /><',\n",
       " ' />',\n",
       " 'was_',\n",
       " 'The_',\n",
       " 'as_']"
      ]
     },
     "execution_count": 7,
     "metadata": {},
     "output_type": "execute_result"
    }
   ],
   "source": [
    "# SubwordTextEncoder\n",
    "\n",
    "encoder = info.features['text'].encoder\n",
    "encoder.subwords[:20]"
   ]
  },
  {
   "cell_type": "code",
   "execution_count": 8,
   "metadata": {},
   "outputs": [
    {
     "data": {
      "text/plain": [
       "<DatasetV1Adapter shapes: ((None,), ()), types: (tf.int64, tf.int64)>"
      ]
     },
     "execution_count": 8,
     "metadata": {},
     "output_type": "execute_result"
    }
   ],
   "source": [
    "train_data"
   ]
  },
  {
   "cell_type": "code",
   "execution_count": 9,
   "metadata": {},
   "outputs": [],
   "source": [
    "train_batches = train_data.shuffle(1000).padded_batch(10, padded_shapes=([None], []))\n",
    "test_batches = test_data.shuffle(1000).padded_batch(10, padded_shapes=([None], []))"
   ]
  },
  {
   "cell_type": "code",
   "execution_count": 10,
   "metadata": {},
   "outputs": [
    {
     "data": {
      "text/plain": [
       "array([[2079,   36, 7998, ...,    0,    0,    0],\n",
       "       [ 131,  129,   13, ...,    0,    0,    0],\n",
       "       [ 201,   23,   14, ...,    0,    0,    0],\n",
       "       ...,\n",
       "       [6691,  246, 3271, ...,    0,    0,    0],\n",
       "       [ 147,    4, 1275, ...,    0,    0,    0],\n",
       "       [1869,  350,   32, ...,    0,    0,    0]])"
      ]
     },
     "execution_count": 10,
     "metadata": {},
     "output_type": "execute_result"
    }
   ],
   "source": [
    "train_batch, train_labels = next(iter(train_batches))\n",
    "train_batch.numpy()"
   ]
  },
  {
   "cell_type": "code",
   "execution_count": 11,
   "metadata": {},
   "outputs": [
    {
     "name": "stdout",
     "output_type": "stream",
     "text": [
      "Model: \"sequential\"\n",
      "_________________________________________________________________\n",
      "Layer (type)                 Output Shape              Param #   \n",
      "=================================================================\n",
      "embedding_1 (Embedding)      (None, None, 16)          130960    \n",
      "_________________________________________________________________\n",
      "global_average_pooling1d (Gl (None, 16)                0         \n",
      "_________________________________________________________________\n",
      "dense (Dense)                (None, 16)                272       \n",
      "_________________________________________________________________\n",
      "dense_1 (Dense)              (None, 1)                 17        \n",
      "=================================================================\n",
      "Total params: 131,249\n",
      "Trainable params: 131,249\n",
      "Non-trainable params: 0\n",
      "_________________________________________________________________\n"
     ]
    }
   ],
   "source": [
    "embedding_dim = 16\n",
    "model = tf.keras.Sequential([\n",
    "    tf.keras.layers.Embedding(encoder.vocab_size, embedding_dim), \n",
    "    tf.keras.layers.GlobalAveragePooling1D(),\n",
    "    tf.keras.layers.Dense(16, activation='relu'),\n",
    "    tf.keras.layers.Dense(1)\n",
    "])\n",
    "model.summary()"
   ]
  },
  {
   "cell_type": "code",
   "execution_count": 12,
   "metadata": {},
   "outputs": [
    {
     "name": "stdout",
     "output_type": "stream",
     "text": [
      "Epoch 1/10\n",
      "2500/2500 [==============================] - 12s 5ms/step - loss: 0.5061 - accuracy: 0.6979 - val_loss: 0.4106 - val_accuracy: 0.8250\n",
      "Epoch 2/10\n",
      "2500/2500 [==============================] - 7s 3ms/step - loss: 0.2867 - accuracy: 0.8818 - val_loss: 0.3691 - val_accuracy: 0.8600\n",
      "Epoch 3/10\n",
      "2500/2500 [==============================] - 7s 3ms/step - loss: 0.2295 - accuracy: 0.9088 - val_loss: 0.4133 - val_accuracy: 0.8800\n",
      "Epoch 4/10\n",
      "2500/2500 [==============================] - 6s 3ms/step - loss: 0.1970 - accuracy: 0.9229 - val_loss: 0.3646 - val_accuracy: 0.8650\n",
      "Epoch 5/10\n",
      "2500/2500 [==============================] - 7s 3ms/step - loss: 0.1740 - accuracy: 0.9359 - val_loss: 0.3614 - val_accuracy: 0.8750\n",
      "Epoch 6/10\n",
      "2500/2500 [==============================] - 7s 3ms/step - loss: 0.1579 - accuracy: 0.9432 - val_loss: 0.4558 - val_accuracy: 0.8750\n",
      "Epoch 7/10\n",
      "2500/2500 [==============================] - 6s 3ms/step - loss: 0.1414 - accuracy: 0.9472 - val_loss: 0.4164 - val_accuracy: 0.8650\n",
      "Epoch 8/10\n",
      "2500/2500 [==============================] - 7s 3ms/step - loss: 0.1310 - accuracy: 0.9530 - val_loss: 0.3983 - val_accuracy: 0.8850\n",
      "Epoch 9/10\n",
      "2500/2500 [==============================] - 7s 3ms/step - loss: 0.1189 - accuracy: 0.9572 - val_loss: 0.4811 - val_accuracy: 0.8700\n",
      "Epoch 10/10\n",
      "2500/2500 [==============================] - 7s 3ms/step - loss: 0.1099 - accuracy: 0.9614 - val_loss: 0.5445 - val_accuracy: 0.8250\n"
     ]
    }
   ],
   "source": [
    "model.compile(\n",
    "    optimizer='adam',\n",
    "    loss=tf.keras.losses.BinaryCrossentropy(from_logits=True),\n",
    "    metrics=['accuracy']\n",
    ")\n",
    "history = model.fit(\n",
    "    train_batches,\n",
    "    epochs=10,\n",
    "    validation_data=test_batches, \n",
    "    validation_steps=20\n",
    ")\n",
    "\n",
    "def train_simple():\n",
    "    model.compile(\n",
    "        optimizer='adam',\n",
    "        loss=tf.keras.losses.BinaryCrossentropy(from_logits=True),\n",
    "        metrics=['accuracy']\n",
    "    )\n",
    "    history = model.fit(\n",
    "        train_batches,\n",
    "        epochs=10,\n",
    "        validation_data=test_batches, \n",
    "        validation_steps=20\n",
    "    )\n",
    "    \n",
    "    return model, history\n",
    "\n",
    "# model, history = train_simple()"
   ]
  },
  {
   "cell_type": "code",
   "execution_count": 13,
   "metadata": {},
   "outputs": [],
   "source": [
    "import matplotlib as mpl\n",
    "import matplotlib.pyplot as plt\n",
    "mpl.rcParams['figure.figsize'] = (15, 10)\n",
    "colors = plt.rcParams['axes.prop_cycle'].by_key()['color']"
   ]
  },
  {
   "cell_type": "code",
   "execution_count": 14,
   "metadata": {},
   "outputs": [
    {
     "data": {
      "image/png": "[encoded data removed]",
      "text/plain": [
       "<Figure size 432x288 with 2 Axes>"
      ]
     },
     "metadata": {
      "needs_background": "light"
     },
     "output_type": "display_data"
    }
   ],
   "source": [
    "def plot_metrics(history):\n",
    "    metrics = ['loss', 'accuracy']\n",
    "    \n",
    "    for n, metric in enumerate(metrics):\n",
    "        name = metric.replace(\"_\", \" \").capitalize()\n",
    "        plt.subplot(2, 2, n+1)\n",
    "        plt.plot(\n",
    "            history.epoch, \n",
    "            history.history[metric], \n",
    "            color=colors[0], \n",
    "            label='Train'\n",
    "        )\n",
    "        plt.plot(\n",
    "            history.epoch, \n",
    "            history.history['val_' + metric], \n",
    "            color=colors[0], \n",
    "            linestyle=\"--\", \n",
    "            label='val'\n",
    "        )\n",
    "        plt.title(metric.upper())\n",
    "        plt.xlabel('Epoch')\n",
    "        plt.ylabel(name)\n",
    "        if(metric == 'loss'):\n",
    "            plt.ylim([0, plt.ylim()[1]])\n",
    "        elif(metric == 'auc'):\n",
    "            plt.ylim([0, 1])\n",
    "        else:\n",
    "            plt.ylim([0, 1])\n",
    "        plt.legend()\n",
    "        \n",
    "plot_metrics(history)"
   ]
  },
  {
   "cell_type": "code",
   "execution_count": 15,
   "metadata": {},
   "outputs": [
    {
     "name": "stdout",
     "output_type": "stream",
     "text": [
      "Layer Count: 4\n"
     ]
    }
   ],
   "source": [
    "e = model.layers[0]\n",
    "print(f\"Layer Count: {len(model.layers)}\")"
   ]
  },
  {
   "cell_type": "code",
   "execution_count": 16,
   "metadata": {},
   "outputs": [
    {
     "name": "stdout",
     "output_type": "stream",
     "text": [
      "(8185, 16)\n"
     ]
    }
   ],
   "source": [
    "weights = e.get_weights()[0]\n",
    "print(weights.shape)"
   ]
  },
  {
   "cell_type": "code",
   "execution_count": 17,
   "metadata": {},
   "outputs": [],
   "source": [
    "import io\n",
    "\n",
    "encoder = info.features['text'].encoder\n",
    "\n",
    "out_v = io.open('vecs.tsv', 'w', encoding='utf-8')\n",
    "out_m = io.open('meta.tsv', 'w', encoding='utf-8')\n",
    "\n",
    "for num, word in enumerate(encoder.subwords):\n",
    "    vec = weights[num + 1]\n",
    "    out_m.write(word + '\\n')\n",
    "    out_v.write('\\t'.join([str(x) for x in vec]) + \"\\n\")\n",
    "    \n",
    "out_v.close()\n",
    "out_m.close()"
   ]
  },
  {
   "cell_type": "markdown",
   "metadata": {},
   "source": [
    "## Text Classification"
   ]
  },
  {
   "cell_type": "code",
   "execution_count": 18,
   "metadata": {},
   "outputs": [
    {
     "name": "stdout",
     "output_type": "stream",
     "text": [
      "Vocabulary size: 8185\n"
     ]
    }
   ],
   "source": [
    "print(f'Vocabulary size: {encoder.vocab_size}')"
   ]
  },
  {
   "cell_type": "code",
   "execution_count": 19,
   "metadata": {},
   "outputs": [
    {
     "name": "stdout",
     "output_type": "stream",
     "text": [
      "Encoded String is [4025, 222, 6307, 2327, 2934]\n"
     ]
    }
   ],
   "source": [
    "sample_string = \"Hello Tensorflow\"\n",
    "encoded_string = encoder.encode(sample_string)\n",
    "print(f\"Encoded String is {encoded_string}\")"
   ]
  },
  {
   "cell_type": "code",
   "execution_count": 20,
   "metadata": {},
   "outputs": [
    {
     "name": "stdout",
     "output_type": "stream",
     "text": [
      "Original String is Hello Tensorflow\n"
     ]
    }
   ],
   "source": [
    "original_string = encoder.decode(encoded_string)\n",
    "print(f\"Original String is {original_string}\")"
   ]
  },
  {
   "cell_type": "code",
   "execution_count": 21,
   "metadata": {},
   "outputs": [
    {
     "name": "stdout",
     "output_type": "stream",
     "text": [
      "4025 ---> Hell\n",
      "222 ---> o \n",
      "6307 ---> Ten\n",
      "2327 ---> sor\n",
      "2934 ---> flow\n"
     ]
    }
   ],
   "source": [
    "for index in encoded_string:\n",
    "    print(f\"{index} ---> {encoder.decode([index])}\")"
   ]
  },
  {
   "cell_type": "code",
   "execution_count": 22,
   "metadata": {},
   "outputs": [],
   "source": [
    "BUFFER_SIZE = 10000\n",
    "BATCH_SIZE = 64"
   ]
  },
  {
   "cell_type": "code",
   "execution_count": 23,
   "metadata": {},
   "outputs": [],
   "source": [
    "# Data Preparation\n",
    "# train_data, test_data\n",
    "train_dataset = (train_data.shuffle(BUFFER_SIZE).padded_batch(BATCH_SIZE, padded_shapes=([None], [])))\n",
    "test_dataset = (test_data.padded_batch(BATCH_SIZE, padded_shapes=([None], [])))"
   ]
  },
  {
   "cell_type": "code",
   "execution_count": 24,
   "metadata": {},
   "outputs": [],
   "source": [
    "# train_dataset = (train_data.shuffle(BUFFER_SIZE).padded_batch(BATCH_SIZE))\n",
    "# test_dataset = (test_data.padded_batch(BATCH_SIZE))"
   ]
  },
  {
   "cell_type": "code",
   "execution_count": 25,
   "metadata": {},
   "outputs": [],
   "source": [
    "model = tf.keras.Sequential([\n",
    "    tf.keras.layers.Embedding(encoder.vocab_size, 64),\n",
    "    tf.keras.layers.Bidirectional(tf.keras.layers.LSTM(64)),\n",
    "    tf.keras.layers.Dense(64, activation='relu'),\n",
    "    tf.keras.layers.Dense(1)\n",
    "])"
   ]
  },
  {
   "cell_type": "code",
   "execution_count": 27,
   "metadata": {},
   "outputs": [],
   "source": [
    "model.compile(\n",
    "    loss=tf.keras.losses.BinaryCrossentropy(from_logits=True),\n",
    "    optimizer=tf.keras.optimizers.Adam(1e-4),\n",
    "    metrics=['accuracy']\n",
    ")"
   ]
  },
  {
   "cell_type": "code",
   "execution_count": 28,
   "metadata": {},
   "outputs": [
    {
     "name": "stdout",
     "output_type": "stream",
     "text": [
      "Epoch 1/10\n",
      "391/391 [==============================] - 616s 2s/step - loss: 0.6570 - accuracy: 0.5396 - val_loss: 0.4856 - val_accuracy: 0.7344\n",
      "Epoch 2/10\n",
      "391/391 [==============================] - 647s 2s/step - loss: 0.3591 - accuracy: 0.8419 - val_loss: 0.3709 - val_accuracy: 0.8396\n",
      "Epoch 3/10\n",
      "391/391 [==============================] - 681s 2s/step - loss: 0.2518 - accuracy: 0.8995 - val_loss: 0.3286 - val_accuracy: 0.8547\n",
      "Epoch 4/10\n",
      "391/391 [==============================] - 701s 2s/step - loss: 0.2095 - accuracy: 0.9217 - val_loss: 0.3289 - val_accuracy: 0.8615\n",
      "Epoch 5/10\n",
      "391/391 [==============================] - 668s 2s/step - loss: 0.1878 - accuracy: 0.9310 - val_loss: 0.3943 - val_accuracy: 0.8573\n",
      "Epoch 6/10\n",
      "391/391 [==============================] - 656s 2s/step - loss: 0.1597 - accuracy: 0.9429 - val_loss: 0.3666 - val_accuracy: 0.8719\n",
      "Epoch 7/10\n",
      "391/391 [==============================] - 636s 2s/step - loss: 0.1420 - accuracy: 0.9499 - val_loss: 0.3816 - val_accuracy: 0.8667\n",
      "Epoch 8/10\n",
      "391/391 [==============================] - 662s 2s/step - loss: 0.1288 - accuracy: 0.9555 - val_loss: 0.4205 - val_accuracy: 0.8583\n",
      "Epoch 9/10\n",
      "391/391 [==============================] - 671s 2s/step - loss: 0.1227 - accuracy: 0.9571 - val_loss: 0.4187 - val_accuracy: 0.8547\n",
      "Epoch 10/10\n",
      "391/391 [==============================] - 668s 2s/step - loss: 0.1138 - accuracy: 0.9629 - val_loss: 0.3808 - val_accuracy: 0.8427\n"
     ]
    }
   ],
   "source": [
    "history = model.fit(\n",
    "    train_dataset,\n",
    "    epochs=10,\n",
    "    validation_data=test_dataset,\n",
    "    validation_steps=30\n",
    ")"
   ]
  },
  {
   "cell_type": "code",
   "execution_count": 31,
   "metadata": {},
   "outputs": [
    {
     "name": "stdout",
     "output_type": "stream",
     "text": [
      "    391/Unknown - 106s 270ms/step - loss: 0.3998 - accuracy: 0.8294"
     ]
    }
   ],
   "source": [
    "test_loss, test_acc = model.evaluate(test_dataset)\n"
   ]
  },
  {
   "cell_type": "code",
   "execution_count": 32,
   "metadata": {},
   "outputs": [
    {
     "name": "stdout",
     "output_type": "stream",
     "text": [
      "Test Loss: 0.3998409665530295\n",
      "Test Accuracy: 0.8293600082397461\n"
     ]
    }
   ],
   "source": [
    "print(f'Test Loss: {test_loss}')\n",
    "print(f'Test Accuracy: {test_acc}')"
   ]
  },
  {
   "cell_type": "code",
   "execution_count": 33,
   "metadata": {},
   "outputs": [],
   "source": [
    "def pad_to_size(vec, size):\n",
    "    zeros = [0] * (size - len(vec))\n",
    "    vec.extend(zeros)\n",
    "    return vec\n",
    "\n",
    "def sample_predict(sample_pred_text, pad):\n",
    "    encoded_sample_pred_text = encoder.encode(sample_pred_text)\n",
    "    \n",
    "    if(pad):\n",
    "        encoded_sample_pred_text = pad_to_size(encoded_sample_pred_text, 64)\n",
    "    encoded_sample_pred_text = tf.cast(encoded_sample_pred_text, tf.float32)\n",
    "    predictions = model.predict(tf.expand_dims(encoded_sample_pred_text, 0))\n",
    "    \n",
    "    return (predictions)"
   ]
  },
  {
   "cell_type": "code",
   "execution_count": 34,
   "metadata": {},
   "outputs": [
    {
     "name": "stdout",
     "output_type": "stream",
     "text": [
      "[[-0.34882498]]\n"
     ]
    }
   ],
   "source": [
    "sample_pred_text = ('The move was cool. The animation and the graphics '\n",
    "                    'were out of this world. I would recommend this movie'\n",
    "                   )\n",
    "predictions = sample_predict(sample_pred_text, pad=False)\n",
    "print(predictions)"
   ]
  },
  {
   "cell_type": "code",
   "execution_count": 35,
   "metadata": {},
   "outputs": [
    {
     "name": "stdout",
     "output_type": "stream",
     "text": [
      "[[0.451206]]\n"
     ]
    }
   ],
   "source": [
    "predictions = sample_predict(sample_pred_text, pad=True)\n",
    "print(predictions)"
   ]
  },
  {
   "cell_type": "code",
   "execution_count": 36,
   "metadata": {},
   "outputs": [
    {
     "data": {
      "image/png": "[encoded data removed]",
      "text/plain": [
       "<Figure size 432x288 with 2 Axes>"
      ]
     },
     "metadata": {
      "needs_background": "light"
     },
     "output_type": "display_data"
    }
   ],
   "source": [
    "plot_metrics(history)"
   ]
  },
  {
   "cell_type": "markdown",
   "metadata": {},
   "source": [
    "## LSTM Layers"
   ]
  },
  {
   "cell_type": "code",
   "execution_count": 38,
   "metadata": {},
   "outputs": [],
   "source": [
    "model = tf.keras.Sequential([\n",
    "    tf.keras.layers.Embedding(encoder.vocab_size, 64),\n",
    "    tf.keras.layers.Bidirectional(tf.keras.layers.LSTM(64, return_sequences=True)),\n",
    "    tf.keras.layers.Bidirectional(tf.keras.layers.LSTM(32)),\n",
    "    tf.keras.layers.Dense(64, activation='relu'),\n",
    "    tf.keras.layers.Dropout(0.5),\n",
    "    tf.keras.layers.Dense(1)\n",
    "])"
   ]
  },
  {
   "cell_type": "code",
   "execution_count": 39,
   "metadata": {},
   "outputs": [
    {
     "name": "stdout",
     "output_type": "stream",
     "text": [
      "Epoch 1/10\n",
      "391/391 [==============================] - 1262s 3s/step - loss: 0.6767 - accuracy: 0.5224 - val_loss: 0.5362 - val_accuracy: 0.7557\n",
      "Epoch 2/10\n",
      "391/391 [==============================] - 2428s 6s/step - loss: 0.4137 - accuracy: 0.8272 - val_loss: 0.3662 - val_accuracy: 0.8615\n",
      "Epoch 3/10\n",
      "391/391 [==============================] - 10596s 27s/step - loss: 0.2877 - accuracy: 0.8918 - val_loss: 0.3349 - val_accuracy: 0.8604\n",
      "Epoch 4/10\n",
      "391/391 [==============================] - 1171s 3s/step - loss: 0.2257 - accuracy: 0.9216 - val_loss: 0.4004 - val_accuracy: 0.8562\n",
      "Epoch 5/10\n",
      "391/391 [==============================] - 1266s 3s/step - loss: 0.1890 - accuracy: 0.9376 - val_loss: 0.4001 - val_accuracy: 0.8646\n",
      "Epoch 6/10\n",
      "391/391 [==============================] - 1488s 4s/step - loss: 0.1640 - accuracy: 0.9488 - val_loss: 0.4168 - val_accuracy: 0.8505\n",
      "Epoch 7/10\n",
      "391/391 [==============================] - 1228s 3s/step - loss: 0.1528 - accuracy: 0.9539 - val_loss: 0.4386 - val_accuracy: 0.8562\n",
      "Epoch 8/10\n",
      "391/391 [==============================] - 1234s 3s/step - loss: 0.1210 - accuracy: 0.9676 - val_loss: 0.4721 - val_accuracy: 0.8583\n",
      "Epoch 9/10\n",
      "391/391 [==============================] - 1172s 3s/step - loss: 0.1061 - accuracy: 0.9727 - val_loss: 0.4881 - val_accuracy: 0.8557\n",
      "Epoch 10/10\n",
      "391/391 [==============================] - 1110s 3s/step - loss: 0.0909 - accuracy: 0.9786 - val_loss: 0.5070 - val_accuracy: 0.8562\n"
     ]
    }
   ],
   "source": [
    "model.compile(\n",
    "    loss=tf.keras.losses.BinaryCrossentropy(from_logits=True),\n",
    "    optimizer=tf.keras.optimizers.Adam(1e-4),\n",
    "    metrics=['accuracy']\n",
    ")\n",
    "\n",
    "history = model.fit(\n",
    "    train_dataset, epochs=10,\n",
    "    validation_data=test_dataset,\n",
    "    validation_steps=30\n",
    ")"
   ]
  },
  {
   "cell_type": "code",
   "execution_count": null,
   "metadata": {},
   "outputs": [],
   "source": []
  },
  {
   "cell_type": "code",
   "execution_count": 40,
   "metadata": {},
   "outputs": [
    {
     "name": "stdout",
     "output_type": "stream",
     "text": [
      "    391/Unknown - 239s 611ms/step - loss: 0.5108 - accuracy: 0.8531Test Loss: 0.5107880719482442\n",
      "Test Accuracy: 0.8530799746513367\n"
     ]
    }
   ],
   "source": [
    "test_loss, test_acc = model.evaluate(test_dataset)\n",
    "print(f'Test Loss: {test_loss}')\n",
    "print(f'Test Accuracy: {test_acc}')"
   ]
  },
  {
   "cell_type": "code",
   "execution_count": 41,
   "metadata": {},
   "outputs": [
    {
     "name": "stdout",
     "output_type": "stream",
     "text": [
      "[[0.3578727]]\n"
     ]
    }
   ],
   "source": [
    "neg_text = ('The movie was not good. The animation and the graphics were terrible. I would not recommend this movie')\n",
    "predictions = sample_predict(sample_pred_text, pad=False)\n",
    "print(predictions)"
   ]
  },
  {
   "cell_type": "code",
   "execution_count": 42,
   "metadata": {},
   "outputs": [
    {
     "name": "stdout",
     "output_type": "stream",
     "text": [
      "[[2.768681]]\n"
     ]
    }
   ],
   "source": [
    "predictions = sample_predict(sample_pred_text, pad=True)\n",
    "print(predictions)"
   ]
  },
  {
   "cell_type": "code",
   "execution_count": 43,
   "metadata": {},
   "outputs": [
    {
     "data": {
      "image/png": "[encoded data removed]",
      "text/plain": [
       "<Figure size 432x288 with 2 Axes>"
      ]
     },
     "metadata": {
      "needs_background": "light"
     },
     "output_type": "display_data"
    }
   ],
   "source": [
    "plot_metrics(history)"
   ]
  },
  {
   "cell_type": "code",
   "execution_count": 44,
   "metadata": {},
   "outputs": [
    {
     "data": {
      "text/plain": [
       "'The move was cool. The animation and the graphics were out of this world. I would recommend this movie'"
      ]
     },
     "execution_count": 44,
     "metadata": {},
     "output_type": "execute_result"
    }
   ],
   "source": [
    "sample_pred_text"
   ]
  },
  {
   "cell_type": "code",
   "execution_count": null,
   "metadata": {},
   "outputs": [],
   "source": []
  }
 ],
 "metadata": {
  "kernelspec": {
   "display_name": "Python 3",
   "language": "python",
   "name": "python3"
  },
  "language_info": {
   "codemirror_mode": {
    "name": "ipython",
    "version": 3
   },
   "file_extension": ".py",
   "mimetype": "text/x-python",
   "name": "python",
   "nbconvert_exporter": "python",
   "pygments_lexer": "ipython3",
   "version": "3.7.5"
  }
 },
 "nbformat": 4,
 "nbformat_minor": 4
}
