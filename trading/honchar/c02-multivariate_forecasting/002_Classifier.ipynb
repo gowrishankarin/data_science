{
 "cells": [
  {
   "cell_type": "code",
   "execution_count": 1,
   "metadata": {},
   "outputs": [],
   "source": [
    "IMG_HELP_PATH = '/Users/shankar/dev/code/ds/studies/data_science/trading/honchar'\n",
    "import os\n",
    "import sys\n",
    "sys.path.append(os.path.abspath(IMG_HELP_PATH))\n",
    "from common.preprocessing import split_train_test_in_unison"
   ]
  },
  {
   "cell_type": "code",
   "execution_count": 2,
   "metadata": {},
   "outputs": [],
   "source": [
    "import pandas as pd\n",
    "import numpy as np\n",
    "import matplotlib.pylab as plt\n",
    "import seaborn as sns\n",
    "sns.despine()"
   ]
  },
  {
   "cell_type": "code",
   "execution_count": 3,
   "metadata": {},
   "outputs": [
    {
     "data": {
      "text/html": [
       "<div>\n",
       "<style scoped>\n",
       "    .dataframe tbody tr th:only-of-type {\n",
       "        vertical-align: middle;\n",
       "    }\n",
       "\n",
       "    .dataframe tbody tr th {\n",
       "        vertical-align: top;\n",
       "    }\n",
       "\n",
       "    .dataframe thead th {\n",
       "        text-align: right;\n",
       "    }\n",
       "</style>\n",
       "<table border=\"1\" class=\"dataframe\">\n",
       "  <thead>\n",
       "    <tr style=\"text-align: right;\">\n",
       "      <th></th>\n",
       "      <th>Date</th>\n",
       "      <th>Open</th>\n",
       "      <th>High</th>\n",
       "      <th>Low</th>\n",
       "      <th>Close</th>\n",
       "      <th>Adj Close</th>\n",
       "      <th>Volume</th>\n",
       "    </tr>\n",
       "  </thead>\n",
       "  <tbody>\n",
       "    <tr>\n",
       "      <th>3088</th>\n",
       "      <td>2017-04-07</td>\n",
       "      <td>143.729996</td>\n",
       "      <td>144.179993</td>\n",
       "      <td>143.270004</td>\n",
       "      <td>143.339996</td>\n",
       "      <td>140.565704</td>\n",
       "      <td>16672200</td>\n",
       "    </tr>\n",
       "    <tr>\n",
       "      <th>3087</th>\n",
       "      <td>2017-04-06</td>\n",
       "      <td>144.289993</td>\n",
       "      <td>144.520004</td>\n",
       "      <td>143.449997</td>\n",
       "      <td>143.660004</td>\n",
       "      <td>140.879517</td>\n",
       "      <td>21149000</td>\n",
       "    </tr>\n",
       "    <tr>\n",
       "      <th>3086</th>\n",
       "      <td>2017-04-05</td>\n",
       "      <td>144.220001</td>\n",
       "      <td>145.460007</td>\n",
       "      <td>143.809998</td>\n",
       "      <td>144.020004</td>\n",
       "      <td>141.232559</td>\n",
       "      <td>27717900</td>\n",
       "    </tr>\n",
       "    <tr>\n",
       "      <th>3085</th>\n",
       "      <td>2017-04-04</td>\n",
       "      <td>143.250000</td>\n",
       "      <td>144.889999</td>\n",
       "      <td>143.169998</td>\n",
       "      <td>144.770004</td>\n",
       "      <td>141.968033</td>\n",
       "      <td>19891400</td>\n",
       "    </tr>\n",
       "    <tr>\n",
       "      <th>3084</th>\n",
       "      <td>2017-04-03</td>\n",
       "      <td>143.710007</td>\n",
       "      <td>144.119995</td>\n",
       "      <td>143.050003</td>\n",
       "      <td>143.699997</td>\n",
       "      <td>140.918762</td>\n",
       "      <td>19985700</td>\n",
       "    </tr>\n",
       "  </tbody>\n",
       "</table>\n",
       "</div>"
      ],
      "text/plain": [
       "            Date        Open        High         Low       Close   Adj Close  \\\n",
       "3088  2017-04-07  143.729996  144.179993  143.270004  143.339996  140.565704   \n",
       "3087  2017-04-06  144.289993  144.520004  143.449997  143.660004  140.879517   \n",
       "3086  2017-04-05  144.220001  145.460007  143.809998  144.020004  141.232559   \n",
       "3085  2017-04-04  143.250000  144.889999  143.169998  144.770004  141.968033   \n",
       "3084  2017-04-03  143.710007  144.119995  143.050003  143.699997  140.918762   \n",
       "\n",
       "        Volume  \n",
       "3088  16672200  \n",
       "3087  21149000  \n",
       "3086  27717900  \n",
       "3085  19891400  \n",
       "3084  19985700  "
      ]
     },
     "execution_count": 3,
     "metadata": {},
     "output_type": "execute_result"
    }
   ],
   "source": [
    "data = pd.read_csv(\"../datasets/apple/AAPL.csv\")[::-1]\n",
    "data.head()"
   ]
  },
  {
   "cell_type": "code",
   "execution_count": 4,
   "metadata": {},
   "outputs": [],
   "source": [
    "from common.preprocessing import Classification, Regression\n",
    "WINDOW = 30\n",
    "EMB_SIZE = 5\n",
    "STEP = 1\n",
    "FORECAST = 1"
   ]
  },
  {
   "cell_type": "code",
   "execution_count": 5,
   "metadata": {},
   "outputs": [
    {
     "name": "stdout",
     "output_type": "stream",
     "text": [
      "list index out of range\n"
     ]
    }
   ],
   "source": [
    "classifier = Classification(multivariate=True)\n",
    "X, Y = classifier.preprocess(data, WINDOW, STEP, FORECAST)"
   ]
  },
  {
   "cell_type": "code",
   "execution_count": 6,
   "metadata": {},
   "outputs": [],
   "source": [
    "X_train, X_test, Y_train, Y_test = split_train_test_in_unison(X, Y)"
   ]
  },
  {
   "cell_type": "code",
   "execution_count": 7,
   "metadata": {},
   "outputs": [
    {
     "name": "stdout",
     "output_type": "stream",
     "text": [
      "(3058, 30, 5)\n",
      "(3058, 2)\n",
      "(2446, 30, 5)\n",
      "(2446, 2)\n",
      "(612, 30, 5)\n",
      "(612, 2)\n"
     ]
    }
   ],
   "source": [
    "print(X.shape)\n",
    "print(Y.shape)\n",
    "print(X_train.shape)\n",
    "print(Y_train.shape)\n",
    "print(X_test.shape)\n",
    "print(Y_test.shape)"
   ]
  },
  {
   "cell_type": "code",
   "execution_count": null,
   "metadata": {},
   "outputs": [],
   "source": []
  }
 ],
 "metadata": {
  "kernelspec": {
   "display_name": "Python 3",
   "language": "python",
   "name": "python3"
  },
  "language_info": {
   "codemirror_mode": {
    "name": "ipython",
    "version": 3
   },
   "file_extension": ".py",
   "mimetype": "text/x-python",
   "name": "python",
   "nbconvert_exporter": "python",
   "pygments_lexer": "ipython3",
   "version": "3.6.4"
  }
 },
 "nbformat": 4,
 "nbformat_minor": 2
}
