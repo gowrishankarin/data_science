{
 "cells": [
  {
   "cell_type": "markdown",
   "metadata": {},
   "source": [
    "### Hyperparameters\n",
    "| ** Hyper-parameter ** | ** Variants ** |\n",
    "| -------------------- | ---------------- |\n",
    "| Non-linearity | linear, tanh, sigmoid, ReLU, VLReLU, RReLU, PReLU, ELU, maxout, APL, combination |\n",
    "| Batch Normalization | Before Non-Linearity, After Non-Linearity |\n",
    "| BN + Non-Linearity | linear, tanh, sigmoid, ReLU, VLReLU, RReLU, PReLU, ELU, maxout |\n",
    "| Pooling | max, average, stochastic, max+average, stided convolution |\n",
    "| Pooling Window Size | 3x3, 2x2, 3x3 with Zero-Paddding |\n",
    "| Learning Rate Decay Policy | step, Square, square-root, linear |\n",
    "| Colorspace & Pre-Processing | RGB, HSV, YCrCb, grayscale, learned, CLAHE, histogram equalized |\n",
    "| Classifier Design | pooling-FC-FC-clf, SPP-FC-FC-clf, pooling-conv-conv-clf-avepool, pooling-conv-conv-avepool-clf |\n",
    "| Network Width | 1/4, 1/2root2, 1/2, 1/root2, 1, root2, 2, 2root2, 4, 4root2 |\n",
    "| Input Image Size | 64, 96, 128, 180, 224 |\n",
    "| Dataset Size | 200K, 400K, 600K, 800K, 1200K(full) |\n",
    "| Batch Size | 1, 32, 64, 128, 256, 512, 1024 |\n",
    "| Percentage of noisy data | 0, 5%, 10%, 15%, 32% |\n",
    "| Using Bias | yes/no |"
   ]
  },
  {
   "cell_type": "code",
   "execution_count": 1,
   "metadata": {},
   "outputs": [],
   "source": [
    "import json\n",
    "import glob\n",
    "import sys\n",
    "\n",
    "import numpy as np\n",
    "import pandas as pd\n",
    "\n",
    "\n",
    "import matplotlib.pylab as plt\n",
    "import seaborn as sns\n",
    "sns.despine()\n"
   ]
  },
  {
   "cell_type": "code",
   "execution_count": 2,
   "metadata": {},
   "outputs": [],
   "source": [
    "IMG_HELP_PATH = '/Users/shankar/dev/code/ds/studies/data_science/trading/honchar'\n",
    "import os\n",
    "import sys\n",
    "sys.path.append(os.path.abspath(IMG_HELP_PATH))\n",
    "from common.preprocessing import split_train_test_in_unison\n",
    "from common.datasets.bitcoin import BitCoinPreprocess"
   ]
  },
  {
   "cell_type": "code",
   "execution_count": 3,
   "metadata": {},
   "outputs": [],
   "source": [
    "data = pd.read_csv('../datasets/bitcoin/krakenUSD_1-min_data_2014-01-07_to_2017-05-31.csv')[-10000:]\n",
    "data = data.dropna()"
   ]
  },
  {
   "cell_type": "code",
   "execution_count": 4,
   "metadata": {},
   "outputs": [],
   "source": [
    "STEP = 1\n",
    "FORECAST = 10\n",
    "WINDOW = 30"
   ]
  },
  {
   "cell_type": "code",
   "execution_count": 5,
   "metadata": {},
   "outputs": [
    {
     "name": "stdout",
     "output_type": "stream",
     "text": [
      "list index out of range\n"
     ]
    }
   ],
   "source": [
    "btcPreprocess = BitCoinPreprocess()\n",
    "X, Y = btcPreprocess.preprocess(data, WINDOW, STEP, FORECAST)"
   ]
  },
  {
   "cell_type": "code",
   "execution_count": 6,
   "metadata": {},
   "outputs": [],
   "source": [
    "X_train, X_test, Y_train, Y_test = split_train_test_in_unison(X, Y)"
   ]
  },
  {
   "cell_type": "code",
   "execution_count": 7,
   "metadata": {},
   "outputs": [
    {
     "name": "stderr",
     "output_type": "stream",
     "text": [
      "/anaconda3/envs/dlcv/lib/python3.6/site-packages/h5py/__init__.py:36: FutureWarning: Conversion of the second argument of issubdtype from `float` to `np.floating` is deprecated. In future, it will be treated as `np.float64 == np.dtype(float).type`.\n",
      "  from ._conv import register_converters as _register_converters\n",
      "Using TensorFlow backend.\n"
     ]
    }
   ],
   "source": [
    "from keras.layers.core import Dense\n",
    "from keras.models import Model\n",
    "from keras.optimizers import Adam\n",
    "from hyperopt import fmin, tpe, hp, STATUS_OK, Trials\n",
    "from keras import losses"
   ]
  },
  {
   "cell_type": "code",
   "execution_count": 8,
   "metadata": {},
   "outputs": [],
   "source": [
    "def experiment(params):\n",
    "    print('Trying {}'.format(params))\n",
    "    try:\n",
    "        input_ = Input(shape=(len(X_train[0]), ), name='input_')\n",
    "        X = Dense(params['units1'], activation=params['activation'])(input_)\n",
    "        X = Dense(params['units2'], activation=params['activation'])(X)\n",
    "        X = Dense(params['units3'], activation=params['activation'])(X)\n",
    "        \n",
    "        output = Dense(1, activation='linear', name='out')(X)\n",
    "        model = Model(inputs[input_], outputs=[output])\n",
    "        \n",
    "        opt = Adam(lr=params['lr'])\n",
    "        model.compile(optimizer=opt, loss=params['loss'])\n",
    "        \n",
    "        H = model.fit(X_train, Y_train, epochs=5, batch_size=256, verbose=1, validation_data=(X_test, Y_test), shuffle=True)\n",
    "        \n",
    "        pred = model.predict(X_test)\n",
    "        \n",
    "    except Exception as e: \n",
    "        print(e)\n",
    "        return {'loss': 999999, 'status': STATUS_OK}\n",
    "    \n",
    "    predicted = pred\n",
    "    original = Y_test\n",
    "    \n",
    "    if(np.isnan(mse)):\n",
    "        print('NaN Happened')\n",
    "        print('-' * 10)\n",
    "        return {'loss': 999999, 'status': STATUS_OK}\n",
    "    \n",
    "    print(mse)\n",
    "    print('-' * 10)\n",
    "        \n",
    "    sys.stdout.flush()\n",
    "    return {'loss': mse, 'status': STATUS_OK}\n",
    "        "
   ]
  },
  {
   "cell_type": "code",
   "execution_count": 9,
   "metadata": {},
   "outputs": [
    {
     "name": "stdout",
     "output_type": "stream",
     "text": [
      "Trying {'activation': 'tanh', 'loss': <function mean_absolute_error at 0x1a2514c158>, 'lr': 0.01, 'units1': 64, 'units2': 512, 'units3': 64, 'window': 120}\n",
      "name 'Input' is not defined\n",
      "Trying {'activation': 'tanh', 'loss': <function logcosh at 0x1a2514c488>, 'lr': 0.0001, 'units1': 64, 'units2': 64, 'units3': 64, 'window': 120}\n",
      "name 'Input' is not defined\n",
      "Trying {'activation': 'linear', 'loss': <function mean_absolute_error at 0x1a2514c158>, 'lr': 0.0001, 'units1': 512, 'units2': 512, 'units3': 512, 'window': 60}\n",
      "name 'Input' is not defined\n",
      "Trying {'activation': 'relu', 'loss': <function mean_absolute_percentage_error at 0x1a2514c1e0>, 'lr': 0.0001, 'units1': 512, 'units2': 64, 'units3': 64, 'window': 30}\n",
      "name 'Input' is not defined\n",
      "Trying {'activation': 'sigmoid', 'loss': <function mean_absolute_percentage_error at 0x1a2514c1e0>, 'lr': 0.01, 'units1': 64, 'units2': 512, 'units3': 512, 'window': 120}\n",
      "name 'Input' is not defined\n",
      "Trying {'activation': 'relu', 'loss': <function logcosh at 0x1a2514c488>, 'lr': 0.01, 'units1': 512, 'units2': 512, 'units3': 512, 'window': 180}\n",
      "name 'Input' is not defined\n",
      "Trying {'activation': 'linear', 'loss': <function mean_absolute_error at 0x1a2514c158>, 'lr': 0.01, 'units1': 512, 'units2': 64, 'units3': 64, 'window': 180}\n",
      "name 'Input' is not defined\n",
      "Trying {'activation': 'linear', 'loss': <function mean_absolute_percentage_error at 0x1a2514c1e0>, 'lr': 0.001, 'units1': 64, 'units2': 64, 'units3': 64, 'window': 180}\n",
      "name 'Input' is not defined\n",
      "Trying {'activation': 'linear', 'loss': <function mean_absolute_error at 0x1a2514c158>, 'lr': 0.01, 'units1': 64, 'units2': 512, 'units3': 512, 'window': 180}\n",
      "name 'Input' is not defined\n",
      "Trying {'activation': 'relu', 'loss': <function mean_squared_error at 0x1a2514c0d0>, 'lr': 0.0001, 'units1': 512, 'units2': 512, 'units3': 512, 'window': 180}\n",
      "name 'Input' is not defined\n",
      "Trying {'activation': 'relu', 'loss': <function mean_absolute_error at 0x1a2514c158>, 'lr': 0.001, 'units1': 512, 'units2': 64, 'units3': 512, 'window': 120}\n",
      "name 'Input' is not defined\n",
      "Trying {'activation': 'sigmoid', 'loss': <function mean_squared_error at 0x1a2514c0d0>, 'lr': 0.01, 'units1': 64, 'units2': 512, 'units3': 64, 'window': 60}\n",
      "name 'Input' is not defined\n",
      "Trying {'activation': 'relu', 'loss': <function mean_absolute_error at 0x1a2514c158>, 'lr': 0.001, 'units1': 64, 'units2': 64, 'units3': 64, 'window': 30}\n",
      "name 'Input' is not defined\n",
      "Trying {'activation': 'linear', 'loss': <function logcosh at 0x1a2514c488>, 'lr': 0.01, 'units1': 64, 'units2': 512, 'units3': 512, 'window': 120}\n",
      "name 'Input' is not defined\n",
      "Trying {'activation': 'linear', 'loss': <function mean_squared_error at 0x1a2514c0d0>, 'lr': 0.001, 'units1': 512, 'units2': 64, 'units3': 64, 'window': 30}\n",
      "name 'Input' is not defined\n",
      "Trying {'activation': 'relu', 'loss': <function logcosh at 0x1a2514c488>, 'lr': 0.001, 'units1': 64, 'units2': 512, 'units3': 512, 'window': 180}\n",
      "name 'Input' is not defined\n",
      "Trying {'activation': 'relu', 'loss': <function mean_absolute_error at 0x1a2514c158>, 'lr': 0.01, 'units1': 64, 'units2': 512, 'units3': 512, 'window': 60}\n",
      "name 'Input' is not defined\n",
      "Trying {'activation': 'relu', 'loss': <function logcosh at 0x1a2514c488>, 'lr': 0.0001, 'units1': 64, 'units2': 512, 'units3': 512, 'window': 180}\n",
      "name 'Input' is not defined\n",
      "Trying {'activation': 'tanh', 'loss': <function logcosh at 0x1a2514c488>, 'lr': 0.0001, 'units1': 64, 'units2': 512, 'units3': 512, 'window': 30}\n",
      "name 'Input' is not defined\n",
      "Trying {'activation': 'sigmoid', 'loss': <function mean_absolute_percentage_error at 0x1a2514c1e0>, 'lr': 0.001, 'units1': 64, 'units2': 512, 'units3': 64, 'window': 180}\n",
      "name 'Input' is not defined\n",
      "Trying {'activation': 'tanh', 'loss': <function logcosh at 0x1a2514c488>, 'lr': 0.0001, 'units1': 64, 'units2': 512, 'units3': 64, 'window': 120}\n",
      "name 'Input' is not defined\n",
      "Trying {'activation': 'tanh', 'loss': <function mean_absolute_error at 0x1a2514c158>, 'lr': 0.0001, 'units1': 64, 'units2': 512, 'units3': 64, 'window': 30}\n",
      "name 'Input' is not defined\n",
      "Trying {'activation': 'sigmoid', 'loss': <function mean_absolute_percentage_error at 0x1a2514c1e0>, 'lr': 0.001, 'units1': 64, 'units2': 512, 'units3': 64, 'window': 120}\n",
      "name 'Input' is not defined\n",
      "Trying {'activation': 'tanh', 'loss': <function logcosh at 0x1a2514c488>, 'lr': 0.0001, 'units1': 64, 'units2': 512, 'units3': 64, 'window': 120}\n",
      "name 'Input' is not defined\n",
      "Trying {'activation': 'tanh', 'loss': <function mean_absolute_error at 0x1a2514c158>, 'lr': 0.01, 'units1': 64, 'units2': 512, 'units3': 64, 'window': 30}\n",
      "name 'Input' is not defined\n",
      "Trying {'activation': 'sigmoid', 'loss': <function mean_absolute_percentage_error at 0x1a2514c1e0>, 'lr': 0.001, 'units1': 64, 'units2': 512, 'units3': 64, 'window': 120}\n",
      "name 'Input' is not defined\n",
      "Trying {'activation': 'tanh', 'loss': <function mean_squared_error at 0x1a2514c0d0>, 'lr': 0.0001, 'units1': 64, 'units2': 512, 'units3': 64, 'window': 120}\n",
      "name 'Input' is not defined\n",
      "Trying {'activation': 'tanh', 'loss': <function mean_absolute_error at 0x1a2514c158>, 'lr': 0.01, 'units1': 64, 'units2': 512, 'units3': 64, 'window': 30}\n",
      "name 'Input' is not defined\n",
      "Trying {'activation': 'sigmoid', 'loss': <function mean_absolute_percentage_error at 0x1a2514c1e0>, 'lr': 0.001, 'units1': 64, 'units2': 512, 'units3': 64, 'window': 120}\n",
      "name 'Input' is not defined\n",
      "Trying {'activation': 'tanh', 'loss': <function mean_squared_error at 0x1a2514c0d0>, 'lr': 0.0001, 'units1': 64, 'units2': 512, 'units3': 64, 'window': 120}\n",
      "name 'Input' is not defined\n",
      "Trying {'activation': 'tanh', 'loss': <function mean_absolute_error at 0x1a2514c158>, 'lr': 0.01, 'units1': 64, 'units2': 64, 'units3': 64, 'window': 30}\n",
      "name 'Input' is not defined\n",
      "Trying {'activation': 'sigmoid', 'loss': <function mean_absolute_percentage_error at 0x1a2514c1e0>, 'lr': 0.001, 'units1': 512, 'units2': 512, 'units3': 64, 'window': 120}\n",
      "name 'Input' is not defined\n",
      "Trying {'activation': 'tanh', 'loss': <function mean_squared_error at 0x1a2514c0d0>, 'lr': 0.0001, 'units1': 64, 'units2': 512, 'units3': 64, 'window': 60}\n",
      "name 'Input' is not defined\n",
      "Trying {'activation': 'tanh', 'loss': <function mean_absolute_error at 0x1a2514c158>, 'lr': 0.01, 'units1': 512, 'units2': 64, 'units3': 64, 'window': 30}\n",
      "name 'Input' is not defined\n",
      "Trying {'activation': 'sigmoid', 'loss': <function mean_absolute_percentage_error at 0x1a2514c1e0>, 'lr': 0.001, 'units1': 512, 'units2': 512, 'units3': 64, 'window': 120}\n",
      "name 'Input' is not defined\n",
      "Trying {'activation': 'sigmoid', 'loss': <function mean_absolute_percentage_error at 0x1a2514c1e0>, 'lr': 0.01, 'units1': 64, 'units2': 512, 'units3': 64, 'window': 180}\n",
      "name 'Input' is not defined\n",
      "Trying {'activation': 'tanh', 'loss': <function logcosh at 0x1a2514c488>, 'lr': 0.0001, 'units1': 64, 'units2': 64, 'units3': 64, 'window': 120}\n",
      "name 'Input' is not defined\n",
      "Trying {'activation': 'tanh', 'loss': <function logcosh at 0x1a2514c488>, 'lr': 0.0001, 'units1': 64, 'units2': 512, 'units3': 64, 'window': 120}\n",
      "name 'Input' is not defined\n",
      "Trying {'activation': 'tanh', 'loss': <function mean_absolute_error at 0x1a2514c158>, 'lr': 0.01, 'units1': 512, 'units2': 512, 'units3': 64, 'window': 30}\n",
      "name 'Input' is not defined\n",
      "Trying {'activation': 'tanh', 'loss': <function mean_absolute_error at 0x1a2514c158>, 'lr': 0.0001, 'units1': 64, 'units2': 64, 'units3': 64, 'window': 60}\n",
      "name 'Input' is not defined\n",
      "Trying {'activation': 'sigmoid', 'loss': <function mean_absolute_percentage_error at 0x1a2514c1e0>, 'lr': 0.001, 'units1': 64, 'units2': 512, 'units3': 64, 'window': 120}\n",
      "name 'Input' is not defined\n",
      "Trying {'activation': 'linear', 'loss': <function mean_absolute_percentage_error at 0x1a2514c1e0>, 'lr': 0.001, 'units1': 512, 'units2': 512, 'units3': 512, 'window': 120}\n",
      "name 'Input' is not defined\n",
      "Trying {'activation': 'tanh', 'loss': <function logcosh at 0x1a2514c488>, 'lr': 0.01, 'units1': 64, 'units2': 64, 'units3': 64, 'window': 60}\n",
      "name 'Input' is not defined\n",
      "Trying {'activation': 'linear', 'loss': <function logcosh at 0x1a2514c488>, 'lr': 0.01, 'units1': 64, 'units2': 512, 'units3': 64, 'window': 120}\n",
      "name 'Input' is not defined\n",
      "Trying {'activation': 'tanh', 'loss': <function mean_absolute_error at 0x1a2514c158>, 'lr': 0.01, 'units1': 512, 'units2': 512, 'units3': 512, 'window': 30}\n",
      "name 'Input' is not defined\n",
      "Trying {'activation': 'linear', 'loss': <function mean_absolute_error at 0x1a2514c158>, 'lr': 0.01, 'units1': 64, 'units2': 64, 'units3': 64, 'window': 30}\n",
      "name 'Input' is not defined\n",
      "Trying {'activation': 'sigmoid', 'loss': <function mean_absolute_percentage_error at 0x1a2514c1e0>, 'lr': 0.001, 'units1': 64, 'units2': 512, 'units3': 512, 'window': 120}\n",
      "name 'Input' is not defined\n",
      "Trying {'activation': 'sigmoid', 'loss': <function mean_absolute_percentage_error at 0x1a2514c1e0>, 'lr': 0.001, 'units1': 64, 'units2': 512, 'units3': 64, 'window': 60}\n",
      "name 'Input' is not defined\n",
      "Trying {'activation': 'relu', 'loss': <function mean_squared_error at 0x1a2514c0d0>, 'lr': 0.0001, 'units1': 512, 'units2': 64, 'units3': 512, 'window': 120}\n",
      "name 'Input' is not defined\n",
      "Trying {'activation': 'tanh', 'loss': <function mean_squared_error at 0x1a2514c0d0>, 'lr': 0.0001, 'units1': 64, 'units2': 512, 'units3': 64, 'window': 120}\n",
      "name 'Input' is not defined\n",
      "best\n",
      "{'activation': 2, 'loss': 2, 'lr': 0, 'units1': 0, 'units2': 1, 'units3': 0, 'window': 2}\n"
     ]
    }
   ],
   "source": [
    "space = {\n",
    "    'window': hp.choice('window', [30, 60, 120, 180]),\n",
    "    'units1': hp.choice('units1', [64, 512]),\n",
    "    'units2': hp.choice('units2', [64, 512]),\n",
    "    'units3': hp.choice('units3', [64, 512]),\n",
    "    'lr': hp.choice('lr', [0.01, 0.001, 0.0001]),\n",
    "    'activation': hp.choice('activation', ['relu', 'sigmoid', 'tanh', 'linear']),\n",
    "    'loss': hp.choice('loss', [losses.logcosh, losses.mse, losses.mae, losses.mape])\n",
    "}\n",
    "trials = Trials()\n",
    "best = fmin(experiment, space, algo=tpe.suggest, max_evals=50, trials=trials)\n",
    "print('best')\n",
    "print(best)"
   ]
  },
  {
   "cell_type": "code",
   "execution_count": null,
   "metadata": {},
   "outputs": [],
   "source": []
  }
 ],
 "metadata": {
  "kernelspec": {
   "display_name": "Python 3",
   "language": "python",
   "name": "python3"
  },
  "language_info": {
   "codemirror_mode": {
    "name": "ipython",
    "version": 3
   },
   "file_extension": ".py",
   "mimetype": "text/x-python",
   "name": "python",
   "nbconvert_exporter": "python",
   "pygments_lexer": "ipython3",
   "version": "3.6.4"
  }
 },
 "nbformat": 4,
 "nbformat_minor": 2
}
