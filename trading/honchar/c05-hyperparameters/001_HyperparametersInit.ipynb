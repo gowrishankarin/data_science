{
 "cells": [
  {
   "cell_type": "markdown",
   "metadata": {},
   "source": [
    "### Hyperparameters\n",
    "| ** Hyper-parameter ** | ** Variants ** |\n",
    "| -------------------- | ---------------- |\n",
    "| Non-linearity | linear, tanh, sigmoid, ReLU, VLReLU, RReLU, PReLU, ELU, maxout, APL, combination |\n",
    "| Batch Normalization | Before Non-Linearity, After Non-Linearity |\n",
    "| BN + Non-Linearity | linear, tanh, sigmoid, ReLU, VLReLU, RReLU, PReLU, ELU, maxout |\n",
    "| Pooling | max, average, stochastic, max+average, stided convolution |\n",
    "| Pooling Window Size | 3x3, 2x2, 3x3 with Zero-Paddding |\n",
    "| Learning Rate Decay Policy | step, Square, square-root, linear |\n",
    "| Colorspace & Pre-Processing | RGB, HSV, YCrCb, grayscale, learned, CLAHE, histogram equalized |\n",
    "| Classifier Design | pooling-FC-FC-clf, SPP-FC-FC-clf, pooling-conv-conv-clf-avepool, pooling-conv-conv-avepool-clf |\n",
    "| Network Width | 1/4, 1/2root2, 1/2, 1/root2, 1, root2, 2, 2root2, 4, 4root2 |\n",
    "| Input Image Size | 64, 96, 128, 180, 224 |\n",
    "| Dataset Size | 200K, 400K, 600K, 800K, 1200K(full) |\n",
    "| Batch Size | 1, 32, 64, 128, 256, 512, 1024 |\n",
    "| Percentage of noisy data | 0, 5%, 10%, 15%, 32% |\n",
    "| Using Bias | yes/no |"
   ]
  },
  {
   "cell_type": "code",
   "execution_count": 1,
   "metadata": {},
   "outputs": [],
   "source": [
    "import json\n",
    "import glob\n",
    "import sys\n",
    "\n",
    "import numpy as np\n",
    "import pandas as pd\n",
    "\n",
    "\n",
    "import matplotlib.pylab as plt\n",
    "import seaborn as sns\n",
    "sns.despine()\n"
   ]
  },
  {
   "cell_type": "code",
   "execution_count": 3,
   "metadata": {},
   "outputs": [],
   "source": [
    "IMG_HELP_PATH = '/Users/shankar/dev/code/ds/studies/data_science/trading/honchar'\n",
    "import os\n",
    "import sys\n",
    "sys.path.append(os.path.abspath(IMG_HELP_PATH))\n",
    "from common.preprocessing import split_train_test_in_unison\n",
    "from common.datasets.bitcoin import BitCoinPreprocess"
   ]
  },
  {
   "cell_type": "code",
   "execution_count": 4,
   "metadata": {},
   "outputs": [],
   "source": [
    "data = pd.read_csv('../datasets/bitcoin/krakenUSD_1-min_data_2014-01-07_to_2017-05-31.csv')[-10000:]\n",
    "data = data.dropna()"
   ]
  },
  {
   "cell_type": "code",
   "execution_count": 5,
   "metadata": {},
   "outputs": [],
   "source": [
    "STEP = 1\n",
    "FORECAST = 10\n",
    "WINDOW = 30"
   ]
  },
  {
   "cell_type": "code",
   "execution_count": 8,
   "metadata": {},
   "outputs": [
    {
     "name": "stdout",
     "output_type": "stream",
     "text": [
      "list index out of range\n"
     ]
    }
   ],
   "source": [
    "btcPreprocess = BitCoinPreprocess()\n",
    "X, Y = btcPreprocess.preprocess(data, WINDOW, STEP, FORECAST)"
   ]
  },
  {
   "cell_type": "code",
   "execution_count": 9,
   "metadata": {},
   "outputs": [],
   "source": [
    "X_train, X_test, Y_train, Y_test = split_train_test_in_unison(X, Y)"
   ]
  },
  {
   "cell_type": "code",
   "execution_count": null,
   "metadata": {},
   "outputs": [],
   "source": []
  }
 ],
 "metadata": {
  "kernelspec": {
   "display_name": "Python 3",
   "language": "python",
   "name": "python3"
  },
  "language_info": {
   "codemirror_mode": {
    "name": "ipython",
    "version": 3
   },
   "file_extension": ".py",
   "mimetype": "text/x-python",
   "name": "python",
   "nbconvert_exporter": "python",
   "pygments_lexer": "ipython3",
   "version": "3.6.4"
  }
 },
 "nbformat": 4,
 "nbformat_minor": 2
}
