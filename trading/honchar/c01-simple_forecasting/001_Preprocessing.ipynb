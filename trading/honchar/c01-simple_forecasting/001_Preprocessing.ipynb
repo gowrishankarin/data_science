{
 "cells": [
  {
   "cell_type": "code",
   "execution_count": null,
   "metadata": {},
   "outputs": [],
   "source": [
    "from sklearn import preprocessing\n",
    "from sklearn.metrics import mean_squared_error, classification_report\n",
    "import numpy as np\n",
    "import matplotlib.pylab as plt\n",
    "import datetime as dt\n",
    "import time\n",
    "import numpy as np"
   ]
  },
  {
   "cell_type": "code",
   "execution_count": null,
   "metadata": {},
   "outputs": [],
   "source": [
    "def load_snp_returns():\n",
    "    f = open(\"../datasets/snp/table.csv\", \"r\").readlines()[1:]\n",
    "    raw_data = []\n",
    "    raw_dates = []\n",
    "    i = 0\n",
    "    for line in f:\n",
    "       # if i == 0 or i % 500000 == 0: \n",
    "       #     print(line)\n",
    "        try:\n",
    "            splits = line.split(',')\n",
    "            open_price = float(splits[1])\n",
    "            close_price = float(splits[4])\n",
    "            raw_data.append(close_price - open_price)\n",
    "            raw_dates.append(splits[0])\n",
    "        except:\n",
    "            continue\n",
    "    \n",
    "    return raw_data[::-1], raw_dates[::-1]"
   ]
  },
  {
   "cell_type": "code",
   "execution_count": null,
   "metadata": {},
   "outputs": [],
   "source": [
    "data = load_snp_returns()"
   ]
  },
  {
   "cell_type": "code",
   "execution_count": null,
   "metadata": {},
   "outputs": [],
   "source": [
    "import pandas as pd\n",
    "\n",
    "def load_snp_returns_pd():\n",
    "    return pd.read_csv(\"../datasets/snp/table.csv\")"
   ]
  },
  {
   "cell_type": "code",
   "execution_count": null,
   "metadata": {},
   "outputs": [],
   "source": [
    "data_pd = load_snp_returns_pd()"
   ]
  },
  {
   "cell_type": "code",
   "execution_count": null,
   "metadata": {},
   "outputs": [],
   "source": [
    "data_pd.head()"
   ]
  },
  {
   "cell_type": "code",
   "execution_count": null,
   "metadata": {},
   "outputs": [],
   "source": [
    "def load_snp_close():\n",
    "    f = open('../datasets/snp/table.csv', 'r').readlines()[1:]\n",
    "    raw_data = []\n",
    "    raw_dates = []\n",
    "    for line in f:\n",
    "        try:\n",
    "            splits = line.split(',')\n",
    "            close_price = float(splits[4])\n",
    "            raw_data.append(close_price)\n",
    "            raw_dates.append(splits[0])\n",
    "        except:\n",
    "            continue\n",
    "            \n",
    "    return raw_data, raw_dates\n",
    "            "
   ]
  },
  {
   "cell_type": "code",
   "execution_count": null,
   "metadata": {},
   "outputs": [],
   "source": [
    "snp_close = load_snp_close()"
   ]
  },
  {
   "cell_type": "code",
   "execution_count": null,
   "metadata": {},
   "outputs": [],
   "source": [
    "def split_into_chunks(data, train, predict, step, binary=True, scale=True):\n",
    "    X, Y = [], []\n",
    "    for i in range(0, len(data), step):\n",
    "        try:\n",
    "            \n",
    "            x_i = data[i:i+train]\n",
    "            y_i = data[i+train+predict]\n",
    "            \n",
    "            if binary:\n",
    "                if y_i > 0:\n",
    "                    y_i = [1., 0.]\n",
    "                else:\n",
    "                    y_i = [0., 1.]\n",
    "                    \n",
    "                if scale: \n",
    "                    x_i = preprocessing.scale(x_i)\n",
    "            \n",
    "            else:\n",
    "                timeseries = np.array(data[i:i+train+predict])\n",
    "                if scale: \n",
    "                    timeseries = preprocessing.scale(timeseries)\n",
    "                x_i = timeseries[:-1]\n",
    "                y_i = timeseries[-1]\n",
    "                    \n",
    "        except:\n",
    "            break\n",
    "            \n",
    "        X.append(x_i)\n",
    "        Y.append(y_i)\n",
    "        \n",
    "        return X, Y\n",
    "                \n",
    "        "
   ]
  },
  {
   "cell_type": "code",
   "execution_count": null,
   "metadata": {},
   "outputs": [],
   "source": [
    "def shuffle_in_unison(a, b):\n",
    "    # courtsey http://stackoverflow.com/users/190280/josh-bleecher-snyder\n",
    "    \n",
    "    assert len(a) == len(b)\n",
    "    shuffled_a = np.empty(a.shape, dtype=a.dtype)\n",
    "    shuffled_b = np.empty(b.shape, dtype=b.dtype)\n",
    "    permutation = np.random.permutation(len(a))\n",
    "    for old_index, new_index in enumerate(permutation):\n",
    "        shuffled_a[new_index] = a[old_index]\n",
    "        shuffled_b[new_index] = b[old_index]\n",
    "    \n",
    "    return shuffled_a, shuffled_b"
   ]
  },
  {
   "cell_type": "code",
   "execution_count": null,
   "metadata": {},
   "outputs": [],
   "source": [
    "def create_Xt_Yt(X, y, percentage=0.8):\n",
    "    X_train = X[0:int(np.floor(len(X) * percentage))]\n",
    "    Y_train = y[0:int(np.floor(len(y) * percentage))]\n",
    "    \n",
    "    X_train, Y_train = shuffle_in_unison(X_train, Y_train)\n",
    "    \n",
    "    X_test = X[int(np.floor(len(X) * percentage))]\n",
    "    Y_test = y[int(np.floor(len(X) * percentage))]\n",
    "    \n",
    "    return X_train, X_test, Y_train, Y_test"
   ]
  },
  {
   "cell_type": "code",
   "execution_count": 3,
   "metadata": {},
   "outputs": [
    {
     "data": {
      "text/plain": [
       "10"
      ]
     },
     "execution_count": 3,
     "metadata": {},
     "output_type": "execute_result"
    }
   ],
   "source": [
    "import numpy as np\n",
    "int(np.floor(10.34))"
   ]
  },
  {
   "cell_type": "code",
   "execution_count": null,
   "metadata": {},
   "outputs": [],
   "source": [
    "\n",
    "\n",
    "\n",
    "\n",
    "\n",
    "\n",
    "\n",
    "\n",
    "\n",
    "\n",
    "\n",
    "\n",
    "\n",
    "\n",
    "\n",
    "\n",
    "\n",
    "\n",
    "\n",
    "\n",
    "\n",
    "\n",
    "\n",
    "\n",
    "\n",
    "\n",
    "\n",
    "\n",
    "\n",
    "\n",
    "\n",
    "\n",
    "\n"
   ]
  }
 ],
 "metadata": {
  "kernelspec": {
   "display_name": "Python 3",
   "language": "python",
   "name": "python3"
  },
  "language_info": {
   "codemirror_mode": {
    "name": "ipython",
    "version": 3
   },
   "file_extension": ".py",
   "mimetype": "text/x-python",
   "name": "python",
   "nbconvert_exporter": "python",
   "pygments_lexer": "ipython3",
   "version": "3.6.4"
  }
 },
 "nbformat": 4,
 "nbformat_minor": 2
}
