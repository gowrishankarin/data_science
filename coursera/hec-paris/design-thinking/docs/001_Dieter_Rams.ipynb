{
 "cells": [
  {
   "cell_type": "markdown",
   "metadata": {},
   "source": [
    "## What is a Good Design - Remembering Dieter Rams and Mahatma Gandhi\n",
    "\n",
    "Been worked significantly for Japanese consumer products companies during my first decade of my career, My admiration for German teknik and aesthetics is endless.\n",
    "Among the crowd, there is one company stood unique and unicorn when it comes to design - **Braun**.\n",
    "Braun was acquired by **The Gillette Company** and The Gillette was acquired by **Procter & Gamble**, Now Braun is wholly owned subsidiary of Procter.\n",
    "\n",
    "After a short stint with Otto Apel, Dieter Rams - an industrial engineer with architecture degree who has tremendous interest for carpentary started working for Braun. They say, Rams made Braun a household name for electronic gadgets in the 50s. \n",
    "\n",
    "I was searching for some design inspiration for my current work, Rams' 10 principles of **Good Design** came quite handy and provoked my thought."
   ]
  },
  {
   "cell_type": "markdown",
   "metadata": {},
   "source": [
    "## The 3 Stakeholder - Designer, Business Leader and the Engineer\n",
    "\n",
    "Before getting into Dieter Rams' 10 principles of Good Design, I asked myself few critical questions. I am conscious not to bring the **Consumer** into the stakeholder category... explained later.\n",
    "\n",
    "- What does it mean \"A Good Design\" for a **Designer**? - Designer is the one who understands the consumer of his creation, he is inventive, iterative and creative\n",
    "- What does it mean for a **Business Leader**? - A business leader is the one who invests for profit if he finds a market need\n",
    "- What does it mean for an **Engineer**? - The engineer is the one who builds the product\n",
    "- What exactly a designer is capable? - Ergonomics, Aesthetic, Functionality, Emotion etc\n",
    "- What are a business leader's thoughts? - Value of the product, Profitability, Data Driven Investment Planning, Time to Market etc\n",
    "- What is there in the Engineer's mind? - Process driven spproach to build the product, Technology, Execution etc"
   ]
  },
  {
   "cell_type": "markdown",
   "metadata": {},
   "source": [
    "## For the Consumer\n",
    "Consumer is the god because the whole product is built for the consumers by the above 3 stakeholders.\n",
    "\n",
    "“A customer is the most important visitor on our premises.  He is not dependent on us. We are dependent on him.  He is not an interruption in our work – he is the purpose of it.  We are not doing him a favor by serving him. He is doing us a favor by giving us the opportunity to serve him\"  \n",
    "– Mahatma Gandhi”"
   ]
  },
  {
   "cell_type": "markdown",
   "metadata": {},
   "source": [
    "## What is a Good Design - Dieter Rams\n",
    "\n",
    "Dieter Rams' 10 principles of a Good Design are...\n",
    "\n",
    "- **Innovative**: An innovation is not just technological advance or extraordinary engineering. A medium that triggers change in thought process from what is usually done is also innovation. \n",
    "- **Useful**:  Anything that is not useful is not a saleable product product. Search for **The Palmumbrella**\n",
    "- **Aesthetic**: Don't we all wish to have an iPhone at least once in our lifetime\n",
    "- **Makes a Product Understandable**: A product should be self explanatory, Imagine a spherical mobile phone \n",
    "- **Unobtrusive**: A product is expected to work within the boundary of it's utility, anything more is unacceptable \n",
    "- **Honest**: A product cannot fool the consumer with false promises\n",
    "- **Long Lasting**: Will you buy a product that expires before you intent it to expire\n",
    "- **Thorough Down to the Last Detail** - Dieter in his own words... Nothing must be arbitrary or left to chance. Care and accuracy in the design process show respect towards the consumer.\n",
    "- **Environment Friendly**: Design should ensure the product is minimalist and strive not to hinder the environment and its equillibrium\n",
    "- **Minimal**: - In his own words... Less, but better – because it concentrates on the essential aspects, and the products are not burdened with non-essentials. Back to purity, back to simplicity."
   ]
  },
  {
   "cell_type": "code",
   "execution_count": null,
   "metadata": {},
   "outputs": [],
   "source": []
  },
  {
   "cell_type": "code",
   "execution_count": null,
   "metadata": {},
   "outputs": [],
   "source": []
  },
  {
   "cell_type": "code",
   "execution_count": null,
   "metadata": {},
   "outputs": [],
   "source": []
  }
 ],
 "metadata": {
  "kernelspec": {
   "display_name": "Python 3",
   "language": "python",
   "name": "python3"
  },
  "language_info": {
   "codemirror_mode": {
    "name": "ipython",
    "version": 3
   },
   "file_extension": ".py",
   "mimetype": "text/x-python",
   "name": "python",
   "nbconvert_exporter": "python",
   "pygments_lexer": "ipython3",
   "version": "3.7.5"
  }
 },
 "nbformat": 4,
 "nbformat_minor": 4
}
