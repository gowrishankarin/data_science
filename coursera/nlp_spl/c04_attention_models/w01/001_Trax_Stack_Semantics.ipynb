{
 "cells": [
  {
   "cell_type": "markdown",
   "metadata": {},
   "source": [
    "# Stack Semantics in Trax\n",
    "\n",
    "- How to used `Select` and `Residual` which operates on elements in the stack\n",
    "- Stack is a LIFO data structures"
   ]
  },
  {
   "cell_type": "code",
   "execution_count": 1,
   "metadata": {
    "execution": {
     "iopub.execute_input": "2020-09-27T06:18:38.639035Z",
     "iopub.status.busy": "2020-09-27T06:18:38.638806Z",
     "iopub.status.idle": "2020-09-27T06:18:59.202363Z",
     "shell.execute_reply": "2020-09-27T06:18:59.201581Z",
     "shell.execute_reply.started": "2020-09-27T06:18:38.639005Z"
    }
   },
   "outputs": [
    {
     "name": "stdout",
     "output_type": "stream",
     "text": [
      "INFO:tensorflow:tokens_length=568 inputs_length=512 targets_length=114 noise_density=0.15 mean_noise_span_length=3.0 \n"
     ]
    }
   ],
   "source": [
    "import numpy as np\n",
    "from trax import layers as tl\n",
    "from trax import shapes\n",
    "from trax import fastmath"
   ]
  },
  {
   "cell_type": "markdown",
   "metadata": {},
   "source": [
    "## The tl.Serial Combinator is Stack Oriented\n",
    "**(3 + 4)*15 + 3** Perform this operation as follows\n",
    "\n",
    "### Addition"
   ]
  },
  {
   "cell_type": "code",
   "execution_count": 4,
   "metadata": {
    "execution": {
     "iopub.execute_input": "2020-09-27T06:27:27.016156Z",
     "iopub.status.busy": "2020-09-27T06:27:27.015927Z",
     "iopub.status.idle": "2020-09-27T06:27:27.023834Z",
     "shell.execute_reply": "2020-09-27T06:27:27.023075Z",
     "shell.execute_reply.started": "2020-09-27T06:27:27.016132Z"
    }
   },
   "outputs": [
    {
     "name": "stdout",
     "output_type": "stream",
     "text": [
      "Layer Name: Addition, Expected Inputs: 2, Promised Outputs: 1\n",
      "-- Inputs --\n",
      "x : [3] \n",
      "\n",
      "y : [4] \n",
      "\n",
      "-- Outputs --\n",
      "z : [7]\n"
     ]
    }
   ],
   "source": [
    "def Addition():\n",
    "    layer_name = \"Addition\" # Dont forget to give your  custom layer a name to identify\n",
    "    \n",
    "    # Custom function for the custom layer\n",
    "    def func(x, y):\n",
    "        return x + y\n",
    "    \n",
    "    return tl.Fn(layer_name, func)\n",
    "\n",
    "# Test\n",
    "add = Addition()\n",
    "print(f'Layer Name: {add.name}, Expected Inputs: {add.n_in}, Promised Outputs: {add.n_out}')\n",
    "\n",
    "# Inputs\n",
    "x = np.array([3])\n",
    "y = np.array([4])\n",
    "print(\"-- Inputs --\")\n",
    "print(\"x :\", x, \"\\n\")\n",
    "print(\"y :\", y, \"\\n\")\n",
    "\n",
    "# Outputs\n",
    "z = add((x, y))\n",
    "print(\"-- Outputs --\")\n",
    "print(\"z :\", z)"
   ]
  },
  {
   "cell_type": "markdown",
   "metadata": {},
   "source": [
    "### Multiply"
   ]
  },
  {
   "cell_type": "code",
   "execution_count": 7,
   "metadata": {
    "execution": {
     "iopub.execute_input": "2020-09-27T06:32:41.910557Z",
     "iopub.status.busy": "2020-09-27T06:32:41.910327Z",
     "iopub.status.idle": "2020-09-27T06:32:41.917773Z",
     "shell.execute_reply": "2020-09-27T06:32:41.916987Z",
     "shell.execute_reply.started": "2020-09-27T06:32:41.910533Z"
    }
   },
   "outputs": [
    {
     "name": "stdout",
     "output_type": "stream",
     "text": [
      "Layer Name: Multiplication, Expected Inputs: 2, Promised Outputs: 1\n",
      "-- Inputs --\n",
      "x : [3] \n",
      "\n",
      "y : [4] \n",
      "\n",
      "-- Outputs --\n",
      "z : [7]\n"
     ]
    }
   ],
   "source": [
    "def Multiplication():\n",
    "    layer_name = \"Multiplication\" # Dont forget to give your  custom layer a name to identify\n",
    "    \n",
    "    # Custom function for the custom layer\n",
    "    def func(x, y):\n",
    "        return x * y\n",
    "    \n",
    "    return tl.Fn(layer_name, func)\n",
    "\n",
    "# Test\n",
    "mul = Multiplication()\n",
    "print(f'Layer Name: {mul.name}, Expected Inputs: {mul.n_in}, Promised Outputs: {mul.n_out}')\n",
    "\n",
    "# Inputs\n",
    "x = np.array([3])\n",
    "y = np.array([4])\n",
    "print(\"-- Inputs --\")\n",
    "print(\"x :\", x, \"\\n\")\n",
    "print(\"y :\", y, \"\\n\")\n",
    "\n",
    "# Outputs\n",
    "z = add((x, y))\n",
    "print(\"-- Outputs --\")\n",
    "print(\"z :\", z)"
   ]
  },
  {
   "cell_type": "markdown",
   "metadata": {},
   "source": [
    "### Implement using a Serial Combinator: **(3 + 4)*15 + 3**"
   ]
  },
  {
   "cell_type": "code",
   "execution_count": 9,
   "metadata": {
    "execution": {
     "iopub.execute_input": "2020-09-27T07:19:19.949858Z",
     "iopub.status.busy": "2020-09-27T07:19:19.949622Z",
     "iopub.status.idle": "2020-09-27T07:19:20.142912Z",
     "shell.execute_reply": "2020-09-27T07:19:20.142352Z",
     "shell.execute_reply.started": "2020-09-27T07:19:19.949834Z"
    }
   },
   "outputs": [
    {
     "name": "stdout",
     "output_type": "stream",
     "text": [
      "Serial Modle\n",
      "Serial_in4[\n",
      "  Addition_in2\n",
      "  Multiplication_in2\n",
      "  Addition_in2\n",
      "] \n",
      "\n",
      "Name: Serial, Sublayers: [Addition_in2, Multiplication_in2, Addition_in2], Expected Inputs: 4, Promised Outputs: 1\n",
      "-- Inputs --\n",
      "x : (array([3]), array([4]), array([15]), array([3])) \n",
      "\n",
      "-- Outputs --\n",
      "y : [108]\n"
     ]
    }
   ],
   "source": [
    "# Serial Combinator\n",
    "serial = tl.Serial(\n",
    "    Addition(),\n",
    "    Multiplication(),\n",
    "    Addition()\n",
    ")\n",
    "\n",
    "# Initialization\n",
    "x = (np.array([3]), np.array([4]), np.array([15]), np.array([3]))\n",
    "\n",
    "serial.init(shapes.signature(x)) # initializing serial instance\n",
    "\n",
    "print('Serial Modle')\n",
    "print(serial, '\\n')\n",
    "print(f'Name: {serial.name}, Sublayers: {serial.sublayers}, Expected Inputs: {serial.n_in}, Promised Outputs: {serial.n_out}')\n",
    "\n",
    "# Inputs\n",
    "print(\"-- Inputs --\")\n",
    "print(\"x :\", x, \"\\n\")\n",
    "\n",
    "# Outputs\n",
    "y = serial(x)\n",
    "print(\"-- Outputs --\")\n",
    "print(\"y :\", y)"
   ]
  },
  {
   "cell_type": "markdown",
   "metadata": {
    "execution": {
     "iopub.execute_input": "2020-09-27T07:26:00.433763Z",
     "iopub.status.busy": "2020-09-27T07:26:00.433524Z",
     "iopub.status.idle": "2020-09-27T07:26:00.439544Z",
     "shell.execute_reply": "2020-09-27T07:26:00.438393Z",
     "shell.execute_reply.started": "2020-09-27T07:26:00.433737Z"
    }
   },
   "source": [
    "### (3 + 4) * 3 + 4 - Using tl.Select\n",
    "1. `4`\n",
    "2. `3`\n",
    "3. `tl.Select([0, 1, 0, 1])`\n",
    "4. `add`\n",
    "5. `mul`\n",
    "6. `add`\n",
    "\n",
    "- `tl.Select` requires a list of tuple 0-based indices to select elements relative to the top of the stak\n",
    "- Top of the stack is `3` at index `0` and `4` at index `1`\n",
    "- Select to add in an ordered manner to the top of the stack, after the command is `3` `4` `3` `4`\n",
    "- The steps of the calculation for our example are shown below\n",
    "\n",
    "1. Push(4) `Stack Tail` $\\Rightarrow$  `4` $\\Leftarrow$ `Stack Head`\n",
    "2. Push(3) `Stack Tail` $\\Rightarrow$ `4` `3` $\\Leftarrow$ `Stack Head`\n",
    "3. Push(select([0,1,0,1])) `Stack Tail` $\\Rightarrow$ `4` `3` `4` `3` $\\Leftarrow$ `Stack Head`\n",
    "4. Push(Add Pop() Pop()) `Stack Tail` $\\Rightarrow$ `4` `3` `7`$\\Leftarrow$ `Stack Head`\n",
    "5. Push(Mul Pop() Pop()) `Stack Tail` $\\Rightarrow$ `4` `21`$\\Leftarrow$ `Stack Head`\n",
    "6. Push(Add Pop() Pop()) `Stack Tail` $\\Rightarrow$ `25`$\\Leftarrow$ `Stack Head`"
   ]
  },
  {
   "cell_type": "code",
   "execution_count": 11,
   "metadata": {
    "execution": {
     "iopub.execute_input": "2020-09-27T08:20:15.846801Z",
     "iopub.status.busy": "2020-09-27T08:20:15.846561Z",
     "iopub.status.idle": "2020-09-27T08:20:16.050179Z",
     "shell.execute_reply": "2020-09-27T08:20:16.049317Z",
     "shell.execute_reply.started": "2020-09-27T08:20:15.846776Z"
    }
   },
   "outputs": [
    {
     "name": "stdout",
     "output_type": "stream",
     "text": [
      "Serial Modle\n",
      "Serial_in2[\n",
      "  Select[0,1,0,1]_in2_out4\n",
      "  Addition_in2\n",
      "  Multiplication_in2\n",
      "  Addition_in2\n",
      "] \n",
      "\n",
      "Name: Serial, Sublayers: [Select[0,1,0,1]_in2_out4, Addition_in2, Multiplication_in2, Addition_in2], Expected Inputs: 2, Promised Outputs: 1\n",
      "-- Inputs --\n",
      "x : (array([3]), array([4])) \n",
      "\n",
      "-- Outputs --\n",
      "y : [25]\n"
     ]
    }
   ],
   "source": [
    "serial = tl.Serial(\n",
    "    tl.Select([0, 1, 0, 1]),\n",
    "    Addition(),\n",
    "    Multiplication(),\n",
    "    Addition()\n",
    ")\n",
    "\n",
    "# Initialization\n",
    "x = (np.array([3]), np.array([4]))\n",
    "serial.init(shapes.signature(x))\n",
    "\n",
    "print('Serial Modle')\n",
    "print(serial, '\\n')\n",
    "print(f'Name: {serial.name}, Sublayers: {serial.sublayers}, Expected Inputs: {serial.n_in}, Promised Outputs: {serial.n_out}')\n",
    "\n",
    "# Inputs\n",
    "print(\"-- Inputs --\")\n",
    "print(\"x :\", x, \"\\n\")\n",
    "\n",
    "# Outputs\n",
    "y = serial(x)\n",
    "print(\"-- Outputs --\")\n",
    "print(\"y :\", y)"
   ]
  },
  {
   "cell_type": "markdown",
   "metadata": {},
   "source": [
    "### (3 + 4) * 3 + 4 - Using tl.Select\n",
    "1. Push(4) `Stack Tail` $\\Rightarrow$  `4` $\\Leftarrow$ `Stack Head`\n",
    "2. Push(3) `Stack Tail` $\\Rightarrow$ `4` `3` $\\Leftarrow$ `Stack Head`\n",
    "3. Push(select([0,1,0,1])) `Stack Tail` $\\Rightarrow$ `4` `3` `4` `3` $\\Leftarrow$ `Stack Head`\n",
    "4. Push(Add Pop() Pop()) `Stack Tail` $\\Rightarrow$ `4` `3` `7`$\\Leftarrow$ `Stack Head`\n",
    "5. Push(select([0], n_in=2)) `Stack Tail` $\\Rightarrow$ `4` `7`$\\Leftarrow$ `Stack Head`\n",
    "6. Push(Mul Pop() Pop()) `Stack Tail` $\\Rightarrow$ `28`$\\Leftarrow$ `Stack Head`"
   ]
  },
  {
   "cell_type": "code",
   "execution_count": 13,
   "metadata": {
    "execution": {
     "iopub.execute_input": "2020-09-27T08:26:10.332610Z",
     "iopub.status.busy": "2020-09-27T08:26:10.332365Z",
     "iopub.status.idle": "2020-09-27T08:26:10.345994Z",
     "shell.execute_reply": "2020-09-27T08:26:10.345195Z",
     "shell.execute_reply.started": "2020-09-27T08:26:10.332583Z"
    }
   },
   "outputs": [
    {
     "name": "stdout",
     "output_type": "stream",
     "text": [
      "Serial Modle\n",
      "Serial_in2[\n",
      "  Select[0,1,0,1]_in2_out4\n",
      "  Addition_in2\n",
      "  Select[0]_in2\n",
      "  Multiplication_in2\n",
      "] \n",
      "\n",
      "Name: Serial, Sublayers: [Select[0,1,0,1]_in2_out4, Addition_in2, Select[0]_in2, Multiplication_in2], Expected Inputs: 2, Promised Outputs: 1\n",
      "-- Inputs --\n",
      "x : (array([3]), array([4])) \n",
      "\n",
      "-- Outputs --\n",
      "y : [28]\n"
     ]
    }
   ],
   "source": [
    "serial = tl.Serial(\n",
    "    tl.Select([0, 1, 0, 1]),\n",
    "    Addition(),\n",
    "    tl.Select([0], n_in=2),\n",
    "    Multiplication()\n",
    ")\n",
    "\n",
    "# Initialization\n",
    "x = (np.array([3]), np.array([4]))\n",
    "serial.init(shapes.signature(x))\n",
    "\n",
    "print('Serial Modle')\n",
    "print(serial, '\\n')\n",
    "print(f'Name: {serial.name}, Sublayers: {serial.sublayers}, Expected Inputs: {serial.n_in}, Promised Outputs: {serial.n_out}')\n",
    "\n",
    "# Inputs\n",
    "print(\"-- Inputs --\")\n",
    "print(\"x :\", x, \"\\n\")\n",
    "\n",
    "# Outputs\n",
    "y = serial(x)\n",
    "print(\"-- Outputs --\")\n",
    "print(\"y :\", y)"
   ]
  },
  {
   "cell_type": "markdown",
   "metadata": {
    "execution": {
     "iopub.execute_input": "2020-09-27T08:43:00.396287Z",
     "iopub.status.busy": "2020-09-27T08:43:00.396056Z",
     "iopub.status.idle": "2020-09-27T08:43:00.406496Z",
     "shell.execute_reply": "2020-09-27T08:43:00.405292Z",
     "shell.execute_reply.started": "2020-09-27T08:43:00.396263Z"
    }
   },
   "source": [
    "## Residual Combinator \n",
    "- Residual networks are frequently used to make deep models easier to train\n",
    "- Resuidual layer computes the element wise sum of the stack-top input with the output of the layer\n",
    "- For ex. if we wanted the cumulatirve sum of the follwing series of computation `(3+4)*3 + 4`, result can be obtained with the use of the Residual combinator\n",
    "\n",
    "1. 4\n",
    "2. 3\n",
    "3. tl.Select([0,1,0,1])\n",
    "4. add\n",
    "5. mul\n",
    "6. tl.Residual\n",
    "\n",
    "a. Push(4) `Stack Tail` $\\Rightarrow$  `4` $\\Leftarrow$ `Stack Head` $\\Rightarrow$ `4`  \n",
    "b. Push(3) `Stack Tail` $\\Rightarrow$ `4` `3` $\\Leftarrow$ `Stack Head` `11`  \n",
    "c. Push(select([0,1,0,1])) `Stack Tail` $\\Rightarrow$ `4` `3` `4` `3` $\\Leftarrow$ `Stack Head` `21`  \n",
    "d. Push(Add Pop() Pop()) `Stack Tail` $\\Rightarrow$ `4` `3` `7`$\\Leftarrow$ `Stack Head` `28`  \n",
    "e. Push(Mul Pop() Pop()) `Stack Tail` $\\Rightarrow$ `4` `21`$\\Leftarrow$ `Stack Head` `39`  \n",
    "f. Push(Add Pop() Pop()) `Stack Tail` $\\Rightarrow$ `25`$\\Leftarrow$ `Stack Head` `50`  \n",
    "g. Push(Residual Pop()) `50`"
   ]
  },
  {
   "cell_type": "code",
   "execution_count": 16,
   "metadata": {
    "execution": {
     "iopub.execute_input": "2020-09-27T08:44:23.397649Z",
     "iopub.status.busy": "2020-09-27T08:44:23.397413Z",
     "iopub.status.idle": "2020-09-27T08:44:23.863882Z",
     "shell.execute_reply": "2020-09-27T08:44:23.863146Z",
     "shell.execute_reply.started": "2020-09-27T08:44:23.397624Z"
    }
   },
   "outputs": [
    {
     "name": "stdout",
     "output_type": "stream",
     "text": [
      "-- Serial Model --\n",
      "Serial_in2[\n",
      "  Select[0,1,0,1]_in2_out4\n",
      "  Addition_in2\n",
      "  Multiplication_in2\n",
      "  Addition_in2\n",
      "  Serial[\n",
      "    Branch_out2[\n",
      "      None\n",
      "      Serial\n",
      "    ]\n",
      "    Add_in2\n",
      "  ]\n",
      "] \n",
      "\n",
      "-- Properties --\n",
      "name : Serial\n",
      "sublayers : [Select[0,1,0,1]_in2_out4, Addition_in2, Multiplication_in2, Addition_in2, Serial[\n",
      "  Branch_out2[\n",
      "    None\n",
      "    Serial\n",
      "  ]\n",
      "  Add_in2\n",
      "]]\n",
      "expected inputs : 2\n",
      "promised outputs : 1 \n",
      "\n",
      "-- Inputs --\n",
      "x : (array([3]), array([4])) \n",
      "\n",
      "-- Outputs --\n",
      "y : [50]\n"
     ]
    }
   ],
   "source": [
    "serial = tl.Serial(\n",
    "    tl.Select([0, 1, 0, 1]), \n",
    "    Addition(), \n",
    "    Multiplication(), \n",
    "    Addition(), \n",
    "    tl.Residual()\n",
    ")\n",
    "\n",
    "# Initialization\n",
    "x = (np.array([3]), np.array([4]))  # input\n",
    "\n",
    "serial.init(shapes.signature(x))  # initializing serial instance\n",
    "\n",
    "\n",
    "print(\"-- Serial Model --\")\n",
    "print(serial, \"\\n\")\n",
    "print(\"-- Properties --\")\n",
    "print(\"name :\", serial.name)\n",
    "print(\"sublayers :\", serial.sublayers)\n",
    "print(\"expected inputs :\", serial.n_in)\n",
    "print(\"promised outputs :\", serial.n_out, \"\\n\")\n",
    "\n",
    "# Inputs\n",
    "print(\"-- Inputs --\")\n",
    "print(\"x :\", x, \"\\n\")\n",
    "\n",
    "# Outputs\n",
    "y = serial(x)\n",
    "print(\"-- Outputs --\")\n",
    "print(\"y :\", y)"
   ]
  },
  {
   "cell_type": "markdown",
   "metadata": {},
   "source": [
    "### Trickier Example\n",
    "Residual layer accept a layer as an argument and it will add the output of that layer to the current stack top input\n"
   ]
  },
  {
   "cell_type": "code",
   "execution_count": 17,
   "metadata": {
    "execution": {
     "iopub.execute_input": "2020-09-27T08:46:08.255721Z",
     "iopub.status.busy": "2020-09-27T08:46:08.255474Z",
     "iopub.status.idle": "2020-09-27T08:46:08.293428Z",
     "shell.execute_reply": "2020-09-27T08:46:08.292561Z",
     "shell.execute_reply.started": "2020-09-27T08:46:08.255695Z"
    }
   },
   "outputs": [
    {
     "name": "stdout",
     "output_type": "stream",
     "text": [
      "-- Serial Model --\n",
      "Serial_in2[\n",
      "  Select[0,1,0,1]_in2_out4\n",
      "  Addition_in2\n",
      "  Multiplication_in2\n",
      "  Serial_in2[\n",
      "    Branch_in2_out2[\n",
      "      None\n",
      "      Addition_in2\n",
      "    ]\n",
      "    Add_in2\n",
      "  ]\n",
      "] \n",
      "\n",
      "-- Properties --\n",
      "name : Serial\n",
      "sublayers : [Select[0,1,0,1]_in2_out4, Addition_in2, Multiplication_in2, Serial_in2[\n",
      "  Branch_in2_out2[\n",
      "    None\n",
      "    Addition_in2\n",
      "  ]\n",
      "  Add_in2\n",
      "]]\n",
      "expected inputs : 2\n",
      "promised outputs : 1 \n",
      "\n",
      "-- Inputs --\n",
      "x : (array([3]), array([4])) \n",
      "\n",
      "-- Outputs --\n",
      "y : [46]\n"
     ]
    }
   ],
   "source": [
    "serial = tl.Serial(\n",
    "    tl.Select([0, 1, 0, 1]), Addition(), Multiplication(), tl.Residual(Addition()) \n",
    ")\n",
    "\n",
    "# Initialization\n",
    "x = (np.array([3]), np.array([4]))  # input\n",
    "\n",
    "serial.init(shapes.signature(x))  # initializing serial instance\n",
    "\n",
    "\n",
    "print(\"-- Serial Model --\")\n",
    "print(serial, \"\\n\")\n",
    "print(\"-- Properties --\")\n",
    "print(\"name :\", serial.name)\n",
    "print(\"sublayers :\", serial.sublayers)\n",
    "print(\"expected inputs :\", serial.n_in)\n",
    "print(\"promised outputs :\", serial.n_out, \"\\n\")\n",
    "\n",
    "# Inputs\n",
    "print(\"-- Inputs --\")\n",
    "print(\"x :\", x, \"\\n\")\n",
    "\n",
    "# Outputs\n",
    "y = serial(x)\n",
    "print(\"-- Outputs --\")\n",
    "print(\"y :\", y)"
   ]
  },
  {
   "cell_type": "code",
   "execution_count": null,
   "metadata": {},
   "outputs": [],
   "source": []
  }
 ],
 "metadata": {
  "kernelspec": {
   "display_name": "Python 3",
   "language": "python",
   "name": "python3"
  },
  "language_info": {
   "codemirror_mode": {
    "name": "ipython",
    "version": 3
   },
   "file_extension": ".py",
   "mimetype": "text/x-python",
   "name": "python",
   "nbconvert_exporter": "python",
   "pygments_lexer": "ipython3",
   "version": "3.8.3"
  }
 },
 "nbformat": 4,
 "nbformat_minor": 4
}
