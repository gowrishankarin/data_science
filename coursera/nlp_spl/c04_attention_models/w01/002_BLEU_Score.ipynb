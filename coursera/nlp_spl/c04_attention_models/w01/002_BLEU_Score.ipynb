{
 "cells": [
  {
   "cell_type": "markdown",
   "metadata": {},
   "source": [
    "# Bilingual Evaluation Understudy(BLEU) Score"
   ]
  },
  {
   "cell_type": "code",
   "execution_count": 4,
   "metadata": {
    "execution": {
     "iopub.execute_input": "2020-09-27T09:28:29.961491Z",
     "iopub.status.busy": "2020-09-27T09:28:29.961261Z",
     "iopub.status.idle": "2020-09-27T09:28:30.254484Z",
     "shell.execute_reply": "2020-09-27T09:28:30.253942Z",
     "shell.execute_reply.started": "2020-09-27T09:28:29.961465Z"
    }
   },
   "outputs": [
    {
     "name": "stderr",
     "output_type": "stream",
     "text": [
      "[nltk_data] Downloading package punkt to /Users/shankar/nltk_data...\n",
      "[nltk_data]   Package punkt is already up-to-date!\n"
     ]
    }
   ],
   "source": [
    "import numpy as np\n",
    "import nltk\n",
    "nltk.download('punkt')\n",
    "from nltk.util import ngrams\n",
    "from collections import Counter\n",
    "import sacrebleu\n",
    "import matplotlib.pyplot as plt"
   ]
  },
  {
   "cell_type": "markdown",
   "metadata": {},
   "source": [
    "## BLEU Score\n",
    "$$BLEU = BP(\\prod_{i=1}^4 precision_i)^{(1/4)}$$\n",
    "with the Brevity Penalty and Precision defined as...\n",
    "$$BP = min(1, e^{(1-\\frac{ref}{cand})})$$\n",
    "$$precision_i = \\frac{\\sum_{snt\\in cand}\\sum_{i \\in snt}min(m_{cand}^i, m_{ref}^i)}{w_t^i}$$\n",
    "\n",
    "Where,\n",
    "- $m_{cand}^i$, is the count of i-gram in candidate matching the referece translation\n",
    "- $m_{ref}^i$, is the count of i-gram in the reference translation\n",
    "- $w_t^i$ is the total number of i-grams in candidate translation"
   ]
  },
  {
   "cell_type": "code",
   "execution_count": 5,
   "metadata": {
    "execution": {
     "iopub.execute_input": "2020-09-27T12:44:41.809182Z",
     "iopub.status.busy": "2020-09-27T12:44:41.808952Z",
     "iopub.status.idle": "2020-09-27T12:44:42.800340Z",
     "shell.execute_reply": "2020-09-27T12:44:42.799830Z",
     "shell.execute_reply.started": "2020-09-27T12:44:41.809157Z"
    }
   },
   "outputs": [
    {
     "data": {
      "image/png": "[encoded data removed]",
      "text/plain": [
       "<Figure size 432x288 with 1 Axes>"
      ]
     },
     "metadata": {
      "needs_background": "light"
     },
     "output_type": "display_data"
    }
   ],
   "source": [
    "ref_length = np.ones(100)\n",
    "can_length = np.linspace(1.5, 0.5, 100)\n",
    "x = ref_length / can_length\n",
    "y = 1 - x\n",
    "y = np.exp(y)\n",
    "y = np.minimum(np.ones(y.shape), y)\n",
    "\n",
    "# Code for in order to make the plot\n",
    "fig, ax = plt.subplots(1)\n",
    "lines = ax.plot(x, y)\n",
    "ax.set(\n",
    "    xlabel = \"Ratio of the length of the reference to the condiate text\",\n",
    "    ylabel = \"Brevity Penalty\"\n",
    ")\n",
    "plt.show()"
   ]
  },
  {
   "cell_type": "markdown",
   "metadata": {
    "execution": {
     "iopub.execute_input": "2020-09-27T12:52:23.876400Z",
     "iopub.status.busy": "2020-09-27T12:52:23.876169Z",
     "iopub.status.idle": "2020-09-27T12:52:23.881129Z",
     "shell.execute_reply": "2020-09-27T12:52:23.880023Z",
     "shell.execute_reply.started": "2020-09-27T12:52:23.876376Z"
    }
   },
   "source": [
    "- The brevity penalty penalizes generated translations that are too short compared to the closest reference length with an exponential decay\n",
    "- The brevity penalty compensates for the fact that the BLEU score has no recall term.\n",
    "\n",
    "### N-Gram Precision"
   ]
  },
  {
   "cell_type": "code",
   "execution_count": 7,
   "metadata": {
    "execution": {
     "iopub.execute_input": "2020-09-27T12:54:31.432819Z",
     "iopub.status.busy": "2020-09-27T12:54:31.432610Z",
     "iopub.status.idle": "2020-09-27T12:54:31.561215Z",
     "shell.execute_reply": "2020-09-27T12:54:31.560406Z",
     "shell.execute_reply.started": "2020-09-27T12:54:31.432797Z"
    }
   },
   "outputs": [
    {
     "data": {
      "image/png": "[encoded data removed]",
      "text/plain": [
       "<Figure size 432x288 with 1 Axes>"
      ]
     },
     "metadata": {
      "needs_background": "light"
     },
     "output_type": "display_data"
    }
   ],
   "source": [
    "data = {\"1-gram\": 0.8, \"2-gram\": 0.7, \"3-gram\": 0.6, \"4-gram\": 0.5}\n",
    "names = list(data.keys())\n",
    "values = list(data.values())\n",
    "\n",
    "fig, ax = plt.subplots(1)\n",
    "bars = ax.bar(names, values)\n",
    "ax.set(ylabel=\"N-gram precision\")\n",
    "plt.show()"
   ]
  },
  {
   "cell_type": "markdown",
   "metadata": {},
   "source": [
    "- The n-gram precision counts how many unigrams, bigrams, trigrams and four-grams (i=1,2,3,4) match their n-gram counterpart in the reference translations\n",
    "- This term acts as a precision metric. \n",
    "- Unigrams account for adequacy while longer n-grams account for fluency of the translation\n",
    "- To avoid overcounting, the n-gram counts are clipped to the maximal n-gram count occurring in the reference $m_n^{ref}$\n",
    "- Precision shows exponential decay with the with the degree of the n-gram\n",
    "\n",
    "### N-gram BLEU Score"
   ]
  },
  {
   "cell_type": "code",
   "execution_count": 8,
   "metadata": {
    "execution": {
     "iopub.execute_input": "2020-09-27T13:22:08.677869Z",
     "iopub.status.busy": "2020-09-27T13:22:08.677626Z",
     "iopub.status.idle": "2020-09-27T13:22:08.820981Z",
     "shell.execute_reply": "2020-09-27T13:22:08.820141Z",
     "shell.execute_reply.started": "2020-09-27T13:22:08.677843Z"
    }
   },
   "outputs": [
    {
     "data": {
      "image/png": "[encoded data removed]",
      "text/plain": [
       "<Figure size 432x288 with 1 Axes>"
      ]
     },
     "metadata": {
      "needs_background": "light"
     },
     "output_type": "display_data"
    }
   ],
   "source": [
    "data = {\"1-gram\": 0.8, \"2-gram\": 0.77, \"3-gram\": 0.74, \"4-gram\": 0.71}\n",
    "names = list(data.keys())\n",
    "values = list(data.values())\n",
    "\n",
    "fig, ax = plt.subplots(1)\n",
    "bars = ax.bar(names, values)\n",
    "ax.set(ylabel=\"N-gram precision\")\n",
    "plt.show()"
   ]
  },
  {
   "cell_type": "markdown",
   "metadata": {
    "execution": {
     "iopub.execute_input": "2020-09-27T13:23:33.524644Z",
     "iopub.status.busy": "2020-09-27T13:23:33.524420Z",
     "iopub.status.idle": "2020-09-27T13:23:33.530221Z",
     "shell.execute_reply": "2020-09-27T13:23:33.528930Z",
     "shell.execute_reply.started": "2020-09-27T13:23:33.524620Z"
    }
   },
   "source": [
    "- When the n-gram precisin is multiplied by the BP, then the exponential decay of n-grams is almost fully compensated\n",
    "- The BLEU score corresponds to a geometric average of this modified n-gram precision\n",
    "\n",
    "## Calculations of BLEU Score"
   ]
  },
  {
   "cell_type": "code",
   "execution_count": 10,
   "metadata": {
    "execution": {
     "iopub.execute_input": "2020-09-27T13:24:01.357023Z",
     "iopub.status.busy": "2020-09-27T13:24:01.356772Z",
     "iopub.status.idle": "2020-09-27T13:24:01.383314Z",
     "shell.execute_reply": "2020-09-27T13:24:01.382374Z",
     "shell.execute_reply.started": "2020-09-27T13:24:01.356997Z"
    }
   },
   "outputs": [
    {
     "name": "stdout",
     "output_type": "stream",
     "text": [
      "The NASA Opportunity rover is battling a massive dust storm on planet Mars. -> ['the', 'nasa', 'opportunity', 'rover', 'is', 'battling', 'a', 'massive', 'dust', 'storm', 'on', 'planet', 'mars', '.']\n",
      "\n",
      "\n",
      "The Opportunity rover is combating a big sandstorm on planet Mars. -> ['the', 'opportunity', 'rover', 'is', 'combating', 'a', 'big', 'sandstorm', 'on', 'planet', 'mars', '.']\n",
      "\n",
      "\n",
      "A NASA rover is fighting a massive storm on planet Mars. -> ['a', 'nasa', 'rover', 'is', 'fighting', 'a', 'massive', 'storm', 'on', 'planet', 'mars', '.']\n"
     ]
    }
   ],
   "source": [
    "reference = \"The NASA Opportunity rover is battling a massive dust storm on planet Mars.\"\n",
    "candidate_1 = \"The Opportunity rover is combating a big sandstorm on planet Mars.\"\n",
    "candidate_2 = \"A NASA rover is fighting a massive storm on planet Mars.\"\n",
    "\n",
    "tokenized_ref = nltk.word_tokenize(reference.lower())\n",
    "tokenized_cand_1 = nltk.word_tokenize(candidate_1.lower())\n",
    "tokenized_cand_2 = nltk.word_tokenize(candidate_2.lower())\n",
    "\n",
    "print(f\"{reference} -> {tokenized_ref}\")\n",
    "print(\"\\n\")\n",
    "print(f\"{candidate_1} -> {tokenized_cand_1}\")\n",
    "print(\"\\n\")\n",
    "print(f\"{candidate_2} -> {tokenized_cand_2}\")"
   ]
  },
  {
   "cell_type": "markdown",
   "metadata": {},
   "source": [
    "### Step 1: Computing Brevity Penalty"
   ]
  },
  {
   "cell_type": "code",
   "execution_count": 11,
   "metadata": {
    "execution": {
     "iopub.execute_input": "2020-09-27T13:26:15.204496Z",
     "iopub.status.busy": "2020-09-27T13:26:15.204264Z",
     "iopub.status.idle": "2020-09-27T13:26:15.209077Z",
     "shell.execute_reply": "2020-09-27T13:26:15.208323Z",
     "shell.execute_reply.started": "2020-09-27T13:26:15.204472Z"
    }
   },
   "outputs": [],
   "source": [
    "def brevity_penalty(reference, candidate):\n",
    "    ref_length = len(reference)\n",
    "    can_length = len(candidate)\n",
    "    \n",
    "    # Brevity Penalty\n",
    "    if(ref_length > can_length):\n",
    "        BP = 1\n",
    "    else:\n",
    "        penalty = 1 - (ref_length / can_length)\n",
    "        BP = np.exp(penalty)\n",
    "        \n",
    "    return BP"
   ]
  },
  {
   "cell_type": "markdown",
   "metadata": {
    "execution": {
     "iopub.execute_input": "2020-09-27T13:26:32.381822Z",
     "iopub.status.busy": "2020-09-27T13:26:32.381574Z",
     "iopub.status.idle": "2020-09-27T13:26:32.385217Z",
     "shell.execute_reply": "2020-09-27T13:26:32.384290Z",
     "shell.execute_reply.started": "2020-09-27T13:26:32.381794Z"
    }
   },
   "source": [
    "### Step 2: Computing the Precision"
   ]
  },
  {
   "cell_type": "code",
   "execution_count": 13,
   "metadata": {
    "execution": {
     "iopub.execute_input": "2020-09-27T13:49:30.501873Z",
     "iopub.status.busy": "2020-09-27T13:49:30.501642Z",
     "iopub.status.idle": "2020-09-27T13:49:30.509149Z",
     "shell.execute_reply": "2020-09-27T13:49:30.508382Z",
     "shell.execute_reply.started": "2020-09-27T13:49:30.501847Z"
    }
   },
   "outputs": [],
   "source": [
    "def clipped_precision(reference, candidate):\n",
    "    # BLEU score function given a original and machine translated sentences\n",
    "    clipped_precision_score = []\n",
    "    \n",
    "    for i in range(1, 5):\n",
    "        # Counts of n-gram = n = 1,...,4 tokens for the candidate\n",
    "        candidate_n_gram = Counter(ngrams(candidate, i))\n",
    "        # Counts of n-gram n=1,...4 tokens for the reference\n",
    "        reference_n_gram = Counter(ngrams(reference, i))\n",
    "        # Sum of the values of the reference the denominator in the precision formula\n",
    "        c = sum(reference_n_gram.values())\n",
    "        \n",
    "        # For every n_gram token in the reference\n",
    "        for j in reference_n_gram:\n",
    "            if(j in candidate_n_gram):\n",
    "                if(reference_n_gram[j] > candidate_n_gram[j]):\n",
    "                    # if the count of the reference n-gram is bigger\n",
    "                    # than the corresponding count in the candidate n-gram\n",
    "                    reference_n_gram[j] = candidate_n_gram[j]\n",
    "            else:\n",
    "                reference_n_gram[j] = 0\n",
    "        clipped_precision_score.append(sum(reference_n_gram.values()) / c)\n",
    "        \n",
    "    weights = [0.25] * 4\n",
    "    \n",
    "    s = (w_i * np.log(p_i) for w_i, p_i in zip(weights, clipped_precision_score))\n",
    "    s = np.exp(np.sum(s))\n",
    "    \n",
    "    return s"
   ]
  },
  {
   "cell_type": "markdown",
   "metadata": {},
   "source": [
    "### Step 3: Computing the BLEU Score"
   ]
  },
  {
   "cell_type": "code",
   "execution_count": 14,
   "metadata": {
    "execution": {
     "iopub.execute_input": "2020-09-27T13:52:39.299689Z",
     "iopub.status.busy": "2020-09-27T13:52:39.299456Z",
     "iopub.status.idle": "2020-09-27T13:52:39.303383Z",
     "shell.execute_reply": "2020-09-27T13:52:39.302684Z",
     "shell.execute_reply.started": "2020-09-27T13:52:39.299664Z"
    }
   },
   "outputs": [],
   "source": [
    "def bleu_score(reference, candidate):\n",
    "    BP = brevity_penalty(reference, candidate)\n",
    "    precision = clipped_precision(reference, candidate)\n",
    "    return BP * precision"
   ]
  },
  {
   "cell_type": "markdown",
   "metadata": {},
   "source": [
    "### Step 4: Testing with Reference Sentences"
   ]
  },
  {
   "cell_type": "code",
   "execution_count": 15,
   "metadata": {
    "execution": {
     "iopub.execute_input": "2020-09-27T13:53:22.184980Z",
     "iopub.status.busy": "2020-09-27T13:53:22.184727Z",
     "iopub.status.idle": "2020-09-27T13:53:22.190717Z",
     "shell.execute_reply": "2020-09-27T13:53:22.189869Z",
     "shell.execute_reply.started": "2020-09-27T13:53:22.184953Z"
    }
   },
   "outputs": [
    {
     "name": "stdout",
     "output_type": "stream",
     "text": [
      "Results reference versus candidate 1 our own code BLEU:  27.4\n",
      "Results reference versus candidate 2 our own code BLEU:  35.0\n"
     ]
    },
    {
     "name": "stderr",
     "output_type": "stream",
     "text": [
      "<ipython-input-13-864f85b74cb6>:27: DeprecationWarning: Calling np.sum(generator) is deprecated, and in the future will give a different result. Use np.sum(np.fromiter(generator)) or the python sum builtin instead.\n",
      "  s = np.exp(np.sum(s))\n"
     ]
    }
   ],
   "source": [
    "print(\n",
    "    \"Results reference versus candidate 1 our own code BLEU: \",\n",
    "    round(bleu_score(tokenized_ref, tokenized_cand_1) * 100, 1),\n",
    ")\n",
    "print(\n",
    "    \"Results reference versus candidate 2 our own code BLEU: \",\n",
    "    round(bleu_score(tokenized_ref, tokenized_cand_2) * 100, 1),\n",
    ")"
   ]
  },
  {
   "cell_type": "markdown",
   "metadata": {},
   "source": [
    "### Step 5: Compare Results with SacreBleu"
   ]
  },
  {
   "cell_type": "code",
   "execution_count": 16,
   "metadata": {
    "execution": {
     "iopub.execute_input": "2020-09-27T13:54:21.074316Z",
     "iopub.status.busy": "2020-09-27T13:54:21.074078Z",
     "iopub.status.idle": "2020-09-27T13:54:21.079871Z",
     "shell.execute_reply": "2020-09-27T13:54:21.079183Z",
     "shell.execute_reply.started": "2020-09-27T13:54:21.074290Z"
    }
   },
   "outputs": [
    {
     "name": "stdout",
     "output_type": "stream",
     "text": [
      "Results reference versus candidate 1 sacrebleu library sentence BLEU:  27.4\n",
      "Results reference versus candidate 2 sacrebleu library sentence BLEU:  35.0\n"
     ]
    }
   ],
   "source": [
    "print(\n",
    "    \"Results reference versus candidate 1 sacrebleu library sentence BLEU: \",\n",
    "    round(sacrebleu.corpus_bleu(reference, candidate_1).score, 1),\n",
    ")\n",
    "print(\n",
    "    \"Results reference versus candidate 2 sacrebleu library sentence BLEU: \",\n",
    "    round(sacrebleu.corpus_bleu(reference, candidate_2).score, 1),\n",
    ")"
   ]
  },
  {
   "cell_type": "markdown",
   "metadata": {},
   "source": [
    "## 2. BLEU computation on a Corpus\n",
    "- A simple pipeline for evaluating machine translated text is demonstrated\n",
    "- Google translate is used to generate English to German translations\n",
    "- Results are evaluated against a known evaluation set\n",
    "\n",
    "1. A src text in englies. first 1671 words of wmt19 eval set downloaded via SacreBLEU from a subset.\n",
    "2. A reference translation to German for corresponding 1671 words, provided by SacreBLEU\n",
    "3. A candidate Machine Translation to German from the same 1671 words, This is generated by feeding the src text to a MT model"
   ]
  },
  {
   "cell_type": "code",
   "execution_count": 17,
   "metadata": {
    "execution": {
     "iopub.execute_input": "2020-09-27T14:04:59.347747Z",
     "iopub.status.busy": "2020-09-27T14:04:59.347507Z",
     "iopub.status.idle": "2020-09-27T14:04:59.400177Z",
     "shell.execute_reply": "2020-09-27T14:04:59.399189Z",
     "shell.execute_reply.started": "2020-09-27T14:04:59.347722Z"
    }
   },
   "outputs": [
    {
     "name": "stderr",
     "output_type": "stream",
     "text": [
      "<ipython-input-17-3375405ab084>:4: DeprecationWarning: 'U' mode is deprecated\n",
      "  wmt19news_src = open(src_file, \"rU\")\n",
      "<ipython-input-17-3375405ab084>:9: DeprecationWarning: 'U' mode is deprecated\n",
      "  wmt19news_ref = open(ref_file, \"rU\")\n",
      "<ipython-input-17-3375405ab084>:14: DeprecationWarning: 'U' mode is deprecated\n",
      "  wmt19news_can = open(can_file, \"rU\")\n"
     ]
    }
   ],
   "source": [
    "import os\n",
    "DATA_DIR = './data/01'\n",
    "src_file = os.path.join(DATA_DIR, \"wmt19_src.txt\")\n",
    "wmt19news_src = open(src_file, \"rU\")\n",
    "wmt19news_src_1 = wmt19news_src.read()\n",
    "wmt19news_src.close()\n",
    "\n",
    "ref_file = os.path.join(DATA_DIR, \"wmt19_ref.txt\")\n",
    "wmt19news_ref = open(ref_file, \"rU\")\n",
    "wmt19news_ref_1 = wmt19news_ref.read()\n",
    "wmt19news_ref.close()\n",
    "\n",
    "can_file = os.path.join(DATA_DIR, \"wmt19_can.txt\")\n",
    "wmt19news_can = open(can_file, \"rU\")\n",
    "wmt19news_can_1 = wmt19news_can.read()\n",
    "wmt19news_can.close()\n",
    "\n",
    "# Tokenizing the raw data\n",
    "tokenized_corpus_src = nltk.word_tokenize(wmt19news_src_1.lower())\n",
    "tokenized_corpus_ref = nltk.word_tokenize(wmt19news_ref_1.lower())\n",
    "tokenized_corpus_cand = nltk.word_tokenize(wmt19news_can_1.lower())"
   ]
  },
  {
   "cell_type": "code",
   "execution_count": 18,
   "metadata": {
    "execution": {
     "iopub.execute_input": "2020-09-27T14:05:16.983036Z",
     "iopub.status.busy": "2020-09-27T14:05:16.982795Z",
     "iopub.status.idle": "2020-09-27T14:05:16.988845Z",
     "shell.execute_reply": "2020-09-27T14:05:16.988049Z",
     "shell.execute_reply.started": "2020-09-27T14:05:16.983011Z"
    }
   },
   "outputs": [
    {
     "name": "stdout",
     "output_type": "stream",
     "text": [
      "English source text:\n",
      "\n",
      "\n",
      "﻿Welsh AMs worried about 'looking like muppets'\n",
      "There is consternation among some AMs at a suggestion their title should change to MWPs (Member of the Welsh Parliament).\n",
      " -> ['\\ufeffwelsh', 'ams', 'worried', 'about', \"'looking\", 'like', \"muppets'\", 'there', 'is', 'consternation', 'among', 'some', 'ams', 'at', 'a', 'suggestion', 'their', 'title', 'should', 'change', 'to', 'mwps', '(', 'member', 'of', 'the', 'welsh', 'parliament', ')', '.']\n",
      "\n",
      "\n",
      "German reference translation:\n",
      "\n",
      "\n",
      "﻿Walisische Ageordnete sorgen sich \"wie Dödel auszusehen\"\n",
      "Es herrscht Bestürzung unter einigen Mitgliedern der Versammlung über einen Vorschlag, der ihren Titel zu MWPs (Mitglied der walisischen Parlament) ändern soll.\n",
      " -> ['\\ufeffwalisische', 'ageordnete', 'sorgen', 'sich', '``', 'wie', 'dödel', 'auszusehen', \"''\", 'es', 'herrscht', 'bestürzung', 'unter', 'einigen', 'mitgliedern', 'der', 'versammlung', 'über', 'einen', 'vorschlag', ',', 'der', 'ihren', 'titel', 'zu', 'mwps', '(', 'mitglied', 'der', 'walisischen', 'parlament', ')', 'ändern', 'soll', '.']\n",
      "\n",
      "\n",
      "German machine translation:\n",
      "\n",
      "\n",
      "﻿Walisische AMs machten sich Sorgen, dass sie wie Muppets aussehen könnten\n",
      "Einige AMs sind bestürzt über den Vorschlag, ihren Titel in MWPs (Mitglied des walisischen Parlaments) zu ändern.\n",
      "Es ist auf -> ['\\ufeffwalisische', 'ams', 'machten', 'sich', 'sorgen', ',', 'dass', 'sie', 'wie', 'muppets', 'aussehen', 'könnten', 'einige', 'ams', 'sind', 'bestürzt', 'über', 'den', 'vorschlag', ',', 'ihren', 'titel', 'in', 'mwps', '(', 'mitglied', 'des', 'walisischen', 'parlaments']\n"
     ]
    }
   ],
   "source": [
    "print(\"English source text:\")\n",
    "print(\"\\n\")\n",
    "print(f\"{wmt19news_src_1[0:170]} -> {tokenized_corpus_src[0:30]}\")\n",
    "print(\"\\n\")\n",
    "print(\"German reference translation:\")\n",
    "print(\"\\n\")\n",
    "print(f\"{wmt19news_ref_1[0:219]} -> {tokenized_corpus_ref[0:35]}\")\n",
    "print(\"\\n\")\n",
    "print(\"German machine translation:\")\n",
    "print(\"\\n\")\n",
    "print(f\"{wmt19news_can_1[0:199]} -> {tokenized_corpus_cand[0:29]}\")"
   ]
  },
  {
   "cell_type": "code",
   "execution_count": 19,
   "metadata": {
    "execution": {
     "iopub.execute_input": "2020-09-27T14:05:53.878362Z",
     "iopub.status.busy": "2020-09-27T14:05:53.878153Z",
     "iopub.status.idle": "2020-09-27T14:05:53.891397Z",
     "shell.execute_reply": "2020-09-27T14:05:53.890444Z",
     "shell.execute_reply.started": "2020-09-27T14:05:53.878339Z"
    }
   },
   "outputs": [
    {
     "name": "stdout",
     "output_type": "stream",
     "text": [
      "Results reference versus candidate 1 our own BLEU implementation:  23.6\n"
     ]
    },
    {
     "name": "stderr",
     "output_type": "stream",
     "text": [
      "<ipython-input-13-864f85b74cb6>:27: DeprecationWarning: Calling np.sum(generator) is deprecated, and in the future will give a different result. Use np.sum(np.fromiter(generator)) or the python sum builtin instead.\n",
      "  s = np.exp(np.sum(s))\n"
     ]
    }
   ],
   "source": [
    "print(\n",
    "    \"Results reference versus candidate 1 our own BLEU implementation: \",\n",
    "    round(bleu_score(tokenized_corpus_ref, tokenized_corpus_cand) * 100, 1),\n",
    ")"
   ]
  },
  {
   "cell_type": "code",
   "execution_count": 20,
   "metadata": {
    "execution": {
     "iopub.execute_input": "2020-09-27T14:06:01.471212Z",
     "iopub.status.busy": "2020-09-27T14:06:01.471000Z",
     "iopub.status.idle": "2020-09-27T14:06:01.506089Z",
     "shell.execute_reply": "2020-09-27T14:06:01.505072Z",
     "shell.execute_reply.started": "2020-09-27T14:06:01.471190Z"
    }
   },
   "outputs": [
    {
     "name": "stdout",
     "output_type": "stream",
     "text": [
      "Results reference versus candidate 1 sacrebleu library BLEU:  23.5\n"
     ]
    }
   ],
   "source": [
    "print(\n",
    "    \"Results reference versus candidate 1 sacrebleu library BLEU: \",\n",
    "    round(sacrebleu.corpus_bleu(wmt19news_ref_1, wmt19news_can_1).score, 1),\n",
    ")"
   ]
  },
  {
   "cell_type": "markdown",
   "metadata": {},
   "source": [
    "**BLEU Score Interpretation on a Corpus**\n",
    "\n",
    "|Score      | Interpretation                                                |\n",
    "|:---------:|:-------------------------------------------------------------:|\n",
    "| < 10      | Almost useless                                                |\n",
    "| 10 - 19   | Hard to get the gist                                          |\n",
    "| 20 - 29   | The gist is clear, but has significant grammatical errors     |\n",
    "| 30 - 40   | Understandable to good translations                           |\n",
    "| 40 - 50   | High quality translations                                     |\n",
    "| 50 - 60   | Very high quality, adequate, and fluent translations          |\n",
    "| > 60      | Quality often better than human                               |"
   ]
  },
  {
   "cell_type": "code",
   "execution_count": null,
   "metadata": {},
   "outputs": [],
   "source": []
  }
 ],
 "metadata": {
  "kernelspec": {
   "display_name": "Python 3",
   "language": "python",
   "name": "python3"
  },
  "language_info": {
   "codemirror_mode": {
    "name": "ipython",
    "version": 3
   },
   "file_extension": ".py",
   "mimetype": "text/x-python",
   "name": "python",
   "nbconvert_exporter": "python",
   "pygments_lexer": "ipython3",
   "version": "3.8.3"
  }
 },
 "nbformat": 4,
 "nbformat_minor": 4
}
