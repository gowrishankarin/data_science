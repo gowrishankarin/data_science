{
 "cells": [
  {
   "cell_type": "code",
   "execution_count": 1,
   "metadata": {},
   "outputs": [],
   "source": [
    "import random\n",
    "import numpy as np"
   ]
  },
  {
   "cell_type": "code",
   "execution_count": 2,
   "metadata": {},
   "outputs": [
    {
     "name": "stdout",
     "output_type": "stream",
     "text": [
      "[1, 2, 3, 4, 1, 2, 3, 4, 1, 2]\n"
     ]
    }
   ],
   "source": [
    "# Example of traversing a list of indexes to create a circular list\n",
    "a = [1, 2, 3, 4]\n",
    "b = [0] * 10\n",
    "\n",
    "a_size = len(a)\n",
    "b_size = len(b)\n",
    "lines_index = [*range(a_size)]\n",
    "index = 0\n",
    "\n",
    "for i in range(b_size):\n",
    "    if(index >= a_size):\n",
    "        index = 0\n",
    "        \n",
    "    b[i] = a[lines_index[index]]\n",
    "    index += 1\n",
    "    \n",
    "print(b)"
   ]
  },
  {
   "cell_type": "markdown",
   "metadata": {},
   "source": [
    "### Shuffling the data order"
   ]
  },
  {
   "cell_type": "code",
   "execution_count": 4,
   "metadata": {},
   "outputs": [
    {
     "name": "stdout",
     "output_type": "stream",
     "text": [
      "Original order of index: [0, 1, 2, 3]\n",
      "Shuffled order of index: [0, 1, 3, 2]\n",
      "New value order for first batch: [1, 2, 4, 3]\n",
      "\n",
      "Shuffled Indexes for Batch No. 2 :[2, 3, 0, 1]\n",
      "Values for Batch No. 2, [3, 4, 1, 2]\n",
      "\n",
      "Shuffled Indexes for Batch No. 3 :[3, 2, 0, 1]\n",
      "Values for Batch No. 3, [4, 3, 1, 2]\n",
      "\n",
      "Final value of b: [1, 2, 4, 3, 3, 4, 1, 2, 4, 3]\n"
     ]
    }
   ],
   "source": [
    "# Example of traversing a list of indexes to create a circular list\n",
    "a = [1, 2, 3, 4]\n",
    "b = []\n",
    "\n",
    "a_size = len(a)\n",
    "b_size = 10\n",
    "lines_index = [*range(a_size)]\n",
    "print(\"Original order of index:\",lines_index)\n",
    "\n",
    "\n",
    "# If we shuffle the index_list we can change the order of our circular list\n",
    "# without modifying the order or our original data\n",
    "random.shuffle(lines_index)\n",
    "print(f'Shuffled order of index: {lines_index}')\n",
    "\n",
    "print(f'New value order for first batch: {[a[index] for index in lines_index]}')\n",
    "batch_counter = 1\n",
    "index = 0\n",
    "\n",
    "for i in range(b_size):\n",
    "    # We wrap by resetting index to 0\n",
    "    if(index >= a_size):\n",
    "        index = 0\n",
    "        batch_counter += 1\n",
    "        random.shuffle(lines_index)\n",
    "        print(f'\\nShuffled Indexes for Batch No. {batch_counter} :{lines_index}')\n",
    "        print(f'Values for Batch No. {batch_counter}, {[a[index] for index in lines_index]}')\n",
    "        \n",
    "    b.append(a[lines_index[index]])\n",
    "    index += 1\n",
    "    \n",
    "print()\n",
    "print(f\"Final value of b: {b}\")"
   ]
  },
  {
   "cell_type": "markdown",
   "metadata": {},
   "source": [
    "#### Epochs\n",
    "- Epoch is each time an algorithm passes over all the training sample\n",
    "- Shuffling the samples for each epoch reduces the variance\n",
    "- Makes the model more general and less overfit\n",
    "\n"
   ]
  },
  {
   "cell_type": "code",
   "execution_count": 15,
   "metadata": {},
   "outputs": [],
   "source": [
    "def data_generator(batch_size, data_x, data_y, shuffle=True):\n",
    "    \"\"\"\n",
    "    Input:\n",
    "        batch_size: Integer describing the batch size\n",
    "        data_x - List containing samples\n",
    "        data_y - List containing labels\n",
    "        shuffle - Shuffle the data order\n",
    "    Output: \n",
    "        a tuple containing 2 elements\n",
    "        X - List of dim (batch_size) of samples\n",
    "        Y - List of dim (batch_size) of labels\n",
    "    \"\"\"\n",
    "    # len(data_x) must be equal to len(data_y)\n",
    "    data_lng = len(data_x) \n",
    "    index_list = [*range(data_lng)]\n",
    "    \n",
    "    if(shuffle == True):\n",
    "        random.shuffle(index_list) # Inplace shuffle of the list \n",
    "    index = 0\n",
    "    \n",
    "    while(True):\n",
    "        # Create a list with batch_size elements\n",
    "        X = [0] * batch_size\n",
    "        Y = [0] * batch_size\n",
    "        \n",
    "        for i in range(batch_size):\n",
    "            # Wrap the index each time that we reach the end of the list\n",
    "            if(index >= data_lng):\n",
    "                index = 0\n",
    "                if(shuffle == True):\n",
    "                    random.shuffle(index_list)\n",
    "                    \n",
    "            X[i] = data_x[index_list[index]]\n",
    "            Y[i] = data_y[index_list[index]]\n",
    "            \n",
    "            index += 1\n",
    "        yield((X, Y))"
   ]
  },
  {
   "cell_type": "code",
   "execution_count": 16,
   "metadata": {},
   "outputs": [
    {
     "name": "stdout",
     "output_type": "stream",
     "text": [
      "\u001b[92mAll tests passed!\n"
     ]
    }
   ],
   "source": [
    "def test_data_generator():\n",
    "    \n",
    "    x = [1, 2, 3, 4]\n",
    "    y = [xi**2 for xi in x]\n",
    "    \n",
    "    generator = data_generator(3, x, y, shuffle=False)\n",
    "    \n",
    "    assert np.allclose(next(generator), ([1, 2, 3], [1, 4, 9])),  \"First batch does not match\"\n",
    "    assert np.allclose(next(generator), ([4, 1, 2], [16, 1, 4])), \"Second batch does not match\"\n",
    "    assert np.allclose(next(generator), ([3, 4, 1], [9, 16, 1])), \"Third batch does not match\"\n",
    "    assert np.allclose(next(generator), ([2, 3, 4], [4, 9, 16])), \"Fourth batch does not match\"\n",
    "\n",
    "    print(\"\\033[92mAll tests passed!\")\n",
    "\n",
    "test_data_generator()"
   ]
  },
  {
   "cell_type": "code",
   "execution_count": null,
   "metadata": {},
   "outputs": [],
   "source": []
  }
 ],
 "metadata": {
  "kernelspec": {
   "display_name": "Python 3",
   "language": "python",
   "name": "python3"
  },
  "language_info": {
   "codemirror_mode": {
    "name": "ipython",
    "version": 3
   },
   "file_extension": ".py",
   "mimetype": "text/x-python",
   "name": "python",
   "nbconvert_exporter": "python",
   "pygments_lexer": "ipython3",
   "version": "3.8.3"
  }
 },
 "nbformat": 4,
 "nbformat_minor": 4
}
