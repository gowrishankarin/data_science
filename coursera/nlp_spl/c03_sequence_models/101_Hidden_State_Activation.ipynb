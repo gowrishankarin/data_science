{
 "cells": [
  {
   "cell_type": "markdown",
   "metadata": {},
   "source": [
    "# Hidden State Activation\n",
    "Hidden state activation of a vanilla RNN\n",
    "$$h^{<t>} = g\\left(W_h\\left[h^{<t-1>}, x^{<t>}\\right] + b_h \\right)  $$\n",
    "Otherwise written as\n",
    "$$h^{<t>} = g\\left(W_{hh}h^{<t-1>} \\oplus W_{hx}x^{<t>} + b_h \\right) $$\n",
    "\n",
    "Where\n",
    "- $W_h$ in the first formula denotes the horizontal concatenation of $W_{hh}$ and $W_{hx}$ form the second formula\n",
    "- $W_h$ in the first formula then multiplied by $[h^{<t-1>}, x^{<t>}]$ another concatenation of parameters from the second formula but this time in a different direction\n",
    "\n"
   ]
  },
  {
   "cell_type": "code",
   "execution_count": 1,
   "metadata": {},
   "outputs": [],
   "source": [
    "import numpy as np"
   ]
  },
  {
   "cell_type": "markdown",
   "metadata": {},
   "source": [
    "### Joining(Concatenation)\n",
    "#### Weights\n",
    "A join along the vertical boundary is called a horizontal contatenation stack\n",
    "\n",
    "Visually it looks likes this:- $W_h$ = $[W_{hh}|W_{hx}]$"
   ]
  },
  {
   "cell_type": "code",
   "execution_count": 8,
   "metadata": {},
   "outputs": [
    {
     "name": "stdout",
     "output_type": "stream",
     "text": [
      "__Data__\n",
      "\n",
      "w_hh : \n",
      "[[1 1]\n",
      " [1 1]\n",
      " [1 1]]\n",
      "w_hh shape : (3, 2) \n",
      "\n",
      "w_hx :\n",
      "[[9 9 9]\n",
      " [9 9 9]\n",
      " [9 9 9]]\n",
      "w_hx shape : (3, 3) \n",
      "\n"
     ]
    }
   ],
   "source": [
    "# Create some dummy data\n",
    "\n",
    "w_hh = np.full((3, 2), 1)\n",
    "w_hx = np.full((3, 3), 9)\n",
    "\n",
    "# Some random initialization\n",
    "# w_hh = np.random.standard_normal((3, 2))\n",
    "# w_hx = np.random.standard_normal((3, 3))\n",
    "\n",
    "print(\"__Data__\\n\")\n",
    "print(\"w_hh : \")\n",
    "print(w_hh)\n",
    "print(\"w_hh shape :\", w_hh.shape, \"\\n\")\n",
    "print(\"w_hx :\")\n",
    "print(w_hx)\n",
    "print(\"w_hx shape :\", w_hx.shape, \"\\n\")"
   ]
  },
  {
   "cell_type": "code",
   "execution_count": 9,
   "metadata": {},
   "outputs": [
    {
     "name": "stdout",
     "output_type": "stream",
     "text": [
      "__Joining__\n",
      "\n",
      "Option 1: concatenate\n",
      "\n",
      "w_h : \n",
      "[[1 1 9 9 9]\n",
      " [1 1 9 9 9]\n",
      " [1 1 9 9 9]]\n",
      "w_h shape: (3, 5)\n"
     ]
    }
   ],
   "source": [
    "# Joining the array\n",
    "print(\"__Joining__\\n\")\n",
    "w_h1 = np.concatenate((w_hh, w_hx), axis=1)\n",
    "print(\"Option 1: concatenate\\n\")\n",
    "print(\"w_h : \")\n",
    "print(w_h1)\n",
    "print(f'w_h shape: {w_h1.shape}')"
   ]
  },
  {
   "cell_type": "code",
   "execution_count": 10,
   "metadata": {},
   "outputs": [
    {
     "name": "stdout",
     "output_type": "stream",
     "text": [
      "option 2 : hstack\n",
      "\n",
      "w_h :\n",
      "[[1 1 9 9 9]\n",
      " [1 1 9 9 9]\n",
      " [1 1 9 9 9]]\n",
      "w_h shape : (3, 5)\n"
     ]
    }
   ],
   "source": [
    "# Option 2: hstack\n",
    "w_h2 = np.hstack((w_hh, w_hx))\n",
    "print(\"option 2 : hstack\\n\")\n",
    "print(\"w_h :\")\n",
    "print(w_h2)\n",
    "print(\"w_h shape :\", w_h2.shape)"
   ]
  },
  {
   "cell_type": "code",
   "execution_count": 14,
   "metadata": {},
   "outputs": [
    {
     "data": {
      "text/plain": [
       "array([[9, 9, 9, 1, 1],\n",
       "       [9, 9, 9, 1, 1],\n",
       "       [9, 9, 9, 1, 1]])"
      ]
     },
     "execution_count": 14,
     "metadata": {},
     "output_type": "execute_result"
    }
   ],
   "source": [
    "np.hstack((w_hx, w_hh))"
   ]
  },
  {
   "cell_type": "markdown",
   "metadata": {},
   "source": [
    "### Hidden State & Inputs\n",
    "Joining along a horizontal boundary is called a vertical concatenation or vertical stack. Visually it looks like this...\n",
    "\n",
    "$$[h^{<t-1>}, x^{<t>}] = \\left[\\frac{h^{<t-1>}}{x^{<t>}}\\right] $$"
   ]
  },
  {
   "cell_type": "code",
   "execution_count": 15,
   "metadata": {},
   "outputs": [
    {
     "name": "stdout",
     "output_type": "stream",
     "text": [
      "-- Data --\n",
      "\n",
      "h_t_prev :\n",
      "[[1]\n",
      " [1]]\n",
      "h_t_prev shape : (2, 1) \n",
      "\n",
      "x_t :\n",
      "[[9]\n",
      " [9]\n",
      " [9]]\n",
      "x_t shape : (3, 1) \n",
      "\n"
     ]
    }
   ],
   "source": [
    "# Create some more dummy data\n",
    "h_t_prev = np.full((2, 1), 1)\n",
    "x_t = np.full((3, 1), 9)\n",
    "\n",
    "### START CODE HERE ###\n",
    "# h_t_prev = np.random.standard_normal((2,1))\n",
    "# x_t = np.random.standard_normal((3,1))\n",
    "### END CODE HERE ###\n",
    "\n",
    "print(\"-- Data --\\n\")\n",
    "print(\"h_t_prev :\")\n",
    "print(h_t_prev)\n",
    "print(\"h_t_prev shape :\", h_t_prev.shape, \"\\n\")\n",
    "print(\"x_t :\")\n",
    "print(x_t)\n",
    "print(\"x_t shape :\", x_t.shape, \"\\n\")\n"
   ]
  },
  {
   "cell_type": "code",
   "execution_count": 16,
   "metadata": {},
   "outputs": [
    {
     "name": "stdout",
     "output_type": "stream",
     "text": [
      "-- Joining --\n",
      "\n",
      "option 1 : concatenate\n",
      "\n",
      "ax_1 :\n",
      "[[1]\n",
      " [1]\n",
      " [9]\n",
      " [9]\n",
      " [9]]\n",
      "ax_1 shape : (5, 1) \n",
      "\n"
     ]
    }
   ],
   "source": [
    "# Joining the arrays\n",
    "print(\"-- Joining --\\n\")\n",
    "\n",
    "# Option 1: concatenate - vertical\n",
    "ax_1 = np.concatenate(\n",
    "    (h_t_prev, x_t), axis=0\n",
    ")  # note the difference in axis parameter vs earlier\n",
    "print(\"option 1 : concatenate\\n\")\n",
    "print(\"ax_1 :\")\n",
    "print(ax_1)\n",
    "print(\"ax_1 shape :\", ax_1.shape, \"\\n\")"
   ]
  },
  {
   "cell_type": "code",
   "execution_count": 17,
   "metadata": {},
   "outputs": [
    {
     "name": "stdout",
     "output_type": "stream",
     "text": [
      "option 2 : vstack\n",
      "\n",
      "ax_2 :\n",
      "[[1]\n",
      " [1]\n",
      " [9]\n",
      " [9]\n",
      " [9]]\n",
      "ax_2 shape : (5, 1)\n"
     ]
    }
   ],
   "source": [
    "# Option 2: vstack\n",
    "ax_2 = np.vstack((h_t_prev, x_t))\n",
    "print(\"option 2 : vstack\\n\")\n",
    "print(\"ax_2 :\")\n",
    "print(ax_2)\n",
    "print(\"ax_2 shape :\", ax_2.shape)"
   ]
  },
  {
   "cell_type": "code",
   "execution_count": 18,
   "metadata": {},
   "outputs": [
    {
     "data": {
      "text/plain": [
       "array([[9],\n",
       "       [9],\n",
       "       [9],\n",
       "       [1],\n",
       "       [1]])"
      ]
     },
     "execution_count": 18,
     "metadata": {},
     "output_type": "execute_result"
    }
   ],
   "source": [
    "np.vstack((x_t, h_t_prev))"
   ]
  },
  {
   "cell_type": "markdown",
   "metadata": {},
   "source": [
    "### Verify Formulas\n",
    "Hidden state activation of a vanilla RNN\n",
    "$$h^{<t>} = g\\left(W_h\\left[h^{<t-1>}, x^{<t>}\\right] + b_h \\right) \\tag{1} $$\n",
    "Otherwise written as\n",
    "$$h^{<t>} = g\\left(W_{hh}h^{<t-1>} \\oplus W_{hx}x^{<t>} + b_h \\right) \\tag{1}$$\n"
   ]
  },
  {
   "cell_type": "code",
   "execution_count": 20,
   "metadata": {},
   "outputs": [
    {
     "name": "stdout",
     "output_type": "stream",
     "text": [
      "__Results__\n",
      "\n",
      "Formula 1\n",
      "Term 1:\n",
      " [[1 1 9 9 9]\n",
      " [1 1 9 9 9]\n",
      " [1 1 9 9 9]]\n",
      "Term 2:\n",
      " [[1]\n",
      " [1]\n",
      " [9]\n",
      " [9]\n",
      " [9]]\n",
      "\n",
      "Output:\n",
      "[[245]\n",
      " [245]\n",
      " [245]]\n"
     ]
    }
   ],
   "source": [
    "# Data\n",
    "w_hh = np.full((3, 2), 1)\n",
    "w_hx = np.full((3, 3), 9)\n",
    "h_t_prev = np.full((2, 1), 1)\n",
    "x_t = np.full((3, 1), 9)\n",
    "\n",
    "# Results\n",
    "print(\"__Results__\")\n",
    "stack_1 = np.hstack((w_hh, w_hx))\n",
    "stack_2 = np.vstack((h_t_prev, x_t))\n",
    "\n",
    "print(\"\\nFormula 1\")\n",
    "print(f'Term 1:\\n {stack_1}')\n",
    "print(f'Term 2:\\n {stack_2}')\n",
    "formula_1 = np.matmul(np.hstack((w_hh, w_hx)), np.vstack((h_t_prev, x_t)))\n",
    "print(\"\\nOutput:\")\n",
    "print(formula_1)"
   ]
  },
  {
   "cell_type": "code",
   "execution_count": 21,
   "metadata": {},
   "outputs": [
    {
     "name": "stdout",
     "output_type": "stream",
     "text": [
      "\n",
      "Formula 2\n",
      "Term1:\n",
      " [[2]\n",
      " [2]\n",
      " [2]]\n",
      "Term2:\n",
      " [[243]\n",
      " [243]\n",
      " [243]]\n"
     ]
    }
   ],
   "source": [
    "# Formula 2\n",
    "mul_1 = np.matmul(w_hh, h_t_prev)\n",
    "mul_2 = np.matmul(w_hx, x_t)\n",
    "print(\"\\nFormula 2\")\n",
    "print(\"Term1:\\n\",mul_1)\n",
    "print(\"Term2:\\n\",mul_2)"
   ]
  },
  {
   "cell_type": "code",
   "execution_count": 22,
   "metadata": {},
   "outputs": [
    {
     "name": "stdout",
     "output_type": "stream",
     "text": [
      "\n",
      "Ouput:\n",
      "[[245]\n",
      " [245]\n",
      " [245]]\n"
     ]
    }
   ],
   "source": [
    "formula_2 = np.matmul(w_hh, h_t_prev) + np.matmul(w_hx, x_t)\n",
    "print(\"\\nOuput:\")\n",
    "print(formula_2)"
   ]
  },
  {
   "cell_type": "code",
   "execution_count": 23,
   "metadata": {},
   "outputs": [
    {
     "name": "stdout",
     "output_type": "stream",
     "text": [
      "-- Verify --\n",
      "Results are the same : True\n"
     ]
    }
   ],
   "source": [
    "print(\"-- Verify --\")\n",
    "print(\"Results are the same :\", np.allclose(formula_1, formula_2))\n"
   ]
  },
  {
   "cell_type": "code",
   "execution_count": 24,
   "metadata": {},
   "outputs": [
    {
     "name": "stdout",
     "output_type": "stream",
     "text": [
      "Formula 1 Output:\n",
      " [[1.]\n",
      " [1.]\n",
      " [1.]]\n",
      "Formula 2 Output:\n",
      " [[1.]\n",
      " [1.]\n",
      " [1.]]\n",
      "Results after activation are the same : True\n"
     ]
    }
   ],
   "source": [
    "# # Try adding a sigmoid activation function and bias term as a final check\n",
    "# # Activation\n",
    "def sigmoid(x):\n",
    "    return 1 / (1 + np.exp(-x))\n",
    "\n",
    "# Bias and check\n",
    "b = np.random.standard_normal((formula_1.shape[0],1))\n",
    "print(\"Formula 1 Output:\\n\",sigmoid(formula_1+b))\n",
    "print(\"Formula 2 Output:\\n\",sigmoid(formula_2+b))\n",
    "\n",
    "all_close = np.allclose(sigmoid(formula_1+b), sigmoid(formula_2+b))\n",
    "print(\"Results after activation are the same :\",all_close)\n",
    "### END CODE HERE ###"
   ]
  },
  {
   "cell_type": "code",
   "execution_count": null,
   "metadata": {},
   "outputs": [],
   "source": []
  }
 ],
 "metadata": {
  "kernelspec": {
   "display_name": "Python 3",
   "language": "python",
   "name": "python3"
  },
  "language_info": {
   "codemirror_mode": {
    "name": "ipython",
    "version": 3
   },
   "file_extension": ".py",
   "mimetype": "text/x-python",
   "name": "python",
   "nbconvert_exporter": "python",
   "pygments_lexer": "ipython3",
   "version": "3.8.3"
  }
 },
 "nbformat": 4,
 "nbformat_minor": 4
}
