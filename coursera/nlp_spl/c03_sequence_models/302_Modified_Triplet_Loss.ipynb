{
 "cells": [
  {
   "cell_type": "markdown",
   "metadata": {},
   "source": [
    "# Modified Triplet Loss\n",
    "- Step by step calculation of triplet loss\n",
    "- Mean negative\n",
    "- Closest Negative\n",
    "\n",
    "### Original Triplet Loss Function\n",
    "$$\\mathcal{L_{original}} = \\max{(s(A, N) - s(A, P) + \\alpha, 0)}$$\n",
    "To create a full loss funtion, improved by including \n",
    "- Mean Negative and\n",
    "- Closest Negative\n",
    "\n",
    "The inputs are `Anchor A`, `Positive P` and `Negative N`\n",
    "$$\\mathcal{L_1} = \\max(mean\\_neg - s(A, P) + \\alpha, 0)$$\n",
    "$$\\mathcal{L_2} = \\max(closest\\_neg - s(A, P) + \\alpha, 0)$$\n",
    "$$\\mathcal{L_{full}} = \\mathcal{L_1} + \\mathcal{L_2}$$"
   ]
  },
  {
   "cell_type": "code",
   "execution_count": 1,
   "metadata": {},
   "outputs": [],
   "source": [
    "import numpy as np"
   ]
  },
  {
   "cell_type": "markdown",
   "metadata": {},
   "source": [
    "### Similarity Scores\n",
    "- Step 1, Calculate the matrix of similarity scores using `Cosine Similarity`\n",
    "- Step 2, Loop up, s(A, P), s(A, N)\n",
    "\n",
    "### Two Vectors\n",
    "$$s(v_1, v_2) = cosine\\ similarity(v_1, v_2) = \\frac{v_1.v_2}{||v_1||~||v_2||}$$"
   ]
  },
  {
   "cell_type": "code",
   "execution_count": 5,
   "metadata": {},
   "outputs": [
    {
     "name": "stdout",
     "output_type": "stream",
     "text": [
      "-- Inputs --\n",
      "v1 : [1. 2. 3.]\n",
      "v2 : [-1. -2. -3.] \n",
      "\n"
     ]
    }
   ],
   "source": [
    "# Two vector example\n",
    "# Input Data\n",
    "print(\"-- Inputs --\")\n",
    "v1 = np.array([1, 2, 3], dtype=float)\n",
    "v2 = np.array([1, 2, 3.5])  # notice the 3rd element is offset by 0.5\n",
    "\n",
    "### START CODE HERE ###\n",
    "# Try modifying the vector v2 to see how it impacts the cosine similarity\n",
    "# v2 = v1                   # identical vector\n",
    "v2 = v1 * -1              # opposite vector\n",
    "# v2 = np.array([0,-42,1])  # random example\n",
    "### END CODE HERE ###\n",
    "print(\"v1 :\", v1)\n",
    "print(\"v2 :\", v2, \"\\n\")\n"
   ]
  },
  {
   "cell_type": "code",
   "execution_count": 6,
   "metadata": {},
   "outputs": [
    {
     "name": "stdout",
     "output_type": "stream",
     "text": [
      "-- Outputs --\n",
      "cosine similarity : -1.0\n"
     ]
    }
   ],
   "source": [
    "def cosine_similarity(v1, v2):\n",
    "    numerator = np.dot(v1, v2)\n",
    "    denominator = np.sqrt(np.dot(v1, v1)) * np.sqrt(np.dot(v2, v2))\n",
    "    \n",
    "    return numerator / denominator\n",
    "\n",
    "print(\"-- Outputs --\")\n",
    "print(\"cosine similarity :\", cosine_similarity(v1, v2))"
   ]
  },
  {
   "cell_type": "code",
   "execution_count": 7,
   "metadata": {},
   "outputs": [
    {
     "name": "stdout",
     "output_type": "stream",
     "text": [
      "-- Outputs --\n",
      "cosine similarity : 1.0\n"
     ]
    }
   ],
   "source": [
    "print(\"-- Outputs --\")\n",
    "print(\"cosine similarity :\", cosine_similarity(v1, -v2))"
   ]
  },
  {
   "cell_type": "code",
   "execution_count": 8,
   "metadata": {},
   "outputs": [
    {
     "name": "stdout",
     "output_type": "stream",
     "text": [
      "-- Outputs --\n",
      "cosine similarity : -0.6872431934890912\n"
     ]
    }
   ],
   "source": [
    "print(\"-- Outputs --\")\n",
    "print(\"cosine similarity :\", cosine_similarity(v1, 1/v2))"
   ]
  },
  {
   "cell_type": "markdown",
   "metadata": {},
   "source": [
    "### Two Batches of Vectors\n",
    "- Rows of individual vectors $v_1$ and $v_2$\n",
    "- They are stacked vertically into a matrix\n",
    "- Each rows... $v_{1_1}, v_{1_2}, v_{1_3}...v_{1_n}$ and $v_{2_1}, v_{2_2}, v_{2_3}...v_{2_n}$"
   ]
  },
  {
   "cell_type": "code",
   "execution_count": 9,
   "metadata": {},
   "outputs": [
    {
     "name": "stdout",
     "output_type": "stream",
     "text": [
      "-- Inputs --\n",
      "v1 :\n",
      "[[ 1  2  3]\n",
      " [ 9  8  7]\n",
      " [-1 -4 -2]\n",
      " [ 1 -7  2]] \n",
      "\n",
      "v2 :\n",
      "[[-1.17703254  1.91714351  2.04691421]\n",
      " [ 7.95172226  7.67435762  8.84009569]\n",
      " [-1.63004695 -4.21517061  0.81863153]\n",
      " [ 0.98246623 -6.18612952  1.57645296]] \n",
      "\n"
     ]
    }
   ],
   "source": [
    "# Two batches of vectors example\n",
    "# Input data\n",
    "print(\"-- Inputs --\")\n",
    "v1_1 = np.array([1, 2, 3])\n",
    "v1_2 = np.array([9, 8, 7])\n",
    "v1_3 = np.array([-1, -4, -2])\n",
    "v1_4 = np.array([1, -7, 2])\n",
    "v1 = np.vstack([v1_1, v1_2, v1_3, v1_4])\n",
    "print(\"v1 :\")\n",
    "print(v1, \"\\n\")\n",
    "v2_1 = v1_1 + np.random.normal(0, 2, 3)  # add some noise to create approximate duplicate\n",
    "v2_2 = v1_2 + np.random.normal(0, 2, 3)\n",
    "v2_3 = v1_3 + np.random.normal(0, 2, 3)\n",
    "v2_4 = v1_4 + np.random.normal(0, 2, 3)\n",
    "v2 = np.vstack([v2_1, v2_2, v2_3, v2_4])\n",
    "print(\"v2 :\")\n",
    "print(v2, \"\\n\")"
   ]
  },
  {
   "cell_type": "code",
   "execution_count": 10,
   "metadata": {},
   "outputs": [
    {
     "name": "stdout",
     "output_type": "stream",
     "text": [
      "Batch sizes match: True\n"
     ]
    }
   ],
   "source": [
    "# Batch sizes must match\n",
    "b = len(v1)\n",
    "print(f\"Batch sizes match: {b == len(v2)}\")"
   ]
  },
  {
   "cell_type": "code",
   "execution_count": 11,
   "metadata": {},
   "outputs": [
    {
     "name": "stdout",
     "output_type": "stream",
     "text": [
      "option 1 : loop\n",
      "[[ 0.77309424  0.9408814  -0.44250462 -0.27559633]\n",
      " [ 0.45020863  0.9884812  -0.66687653 -0.32915234]\n",
      " [-0.75946722 -0.86858816  0.80073926  0.69628215]\n",
      " [-0.46993496 -0.27009834  0.87444812  0.99946355]] \n",
      "\n"
     ]
    }
   ],
   "source": [
    "# Similarity Scores - Nested Loops, Cosine Similarity\n",
    "\n",
    "sim_1 = np.zeros([b, b]) # Empty array to take similarity scores\n",
    "\n",
    "for row in range(0, sim_1.shape[0]):\n",
    "    for col in range(0, sim_1.shape[1]):\n",
    "        sim_1[row, col] = cosine_similarity(v1[row], v2[col])\n",
    "\n",
    "print(\"option 1 : loop\")\n",
    "print(sim_1, \"\\n\")"
   ]
  },
  {
   "cell_type": "code",
   "execution_count": 12,
   "metadata": {},
   "outputs": [
    {
     "name": "stdout",
     "output_type": "stream",
     "text": [
      "option 2 : vec norm & dot product\n",
      "[[ 0.77309424  0.9408814  -0.44250462 -0.27559633]\n",
      " [ 0.45020863  0.9884812  -0.66687653 -0.32915234]\n",
      " [-0.75946722 -0.86858816  0.80073926  0.69628215]\n",
      " [-0.46993496 -0.27009834  0.87444812  0.99946355]] \n",
      "\n",
      "outputs are the same : True\n"
     ]
    }
   ],
   "source": [
    "# Similarity Scores - Vector Normalization and Dot Product\n",
    "def norm(x):\n",
    "    return x / np.sqrt(np.sum(x*x, axis=1, keepdims=True))\n",
    "\n",
    "sim_2 = np.dot(norm(v1), norm(v2).T)\n",
    "print(\"option 2 : vec norm & dot product\")\n",
    "print(sim_2, \"\\n\")\n",
    "\n",
    "# Check\n",
    "print(\"outputs are the same :\", np.allclose(sim_1, sim_2))"
   ]
  },
  {
   "cell_type": "markdown",
   "metadata": {},
   "source": [
    "## Hard Negative Mining\n",
    "Mean Negative: Mean Neg is the average of the off diagonals, th s(A, N) values for each row\n",
    "    \n",
    "Closest Negative: Closest Negative is the largest off  diagonal valus s(A, N) that is smaller than the diagonal s(A, P for each row)"
   ]
  },
  {
   "cell_type": "code",
   "execution_count": 13,
   "metadata": {},
   "outputs": [
    {
     "name": "stdout",
     "output_type": "stream",
     "text": [
      "-- Inputs --\n",
      "sim :\n",
      "[[ 0.9 -0.8  0.3 -0.5]\n",
      " [-0.4  0.5  0.1 -0.1]\n",
      " [ 0.3  0.1 -0.4 -0.8]\n",
      " [-0.5 -0.2 -0.7  0.5]]\n",
      "shape : (4, 4) \n",
      "\n"
     ]
    }
   ],
   "source": [
    "# Hardcoded matrix of similarity scores\n",
    "sim_hardcoded = np.array(\n",
    "    [\n",
    "        [0.9, -0.8, 0.3, -0.5],\n",
    "        [-0.4, 0.5, 0.1, -0.1],\n",
    "        [0.3, 0.1, -0.4, -0.8],\n",
    "        [-0.5, -0.2, -0.7, 0.5],\n",
    "    ]\n",
    ")\n",
    "\n",
    "sim = sim_hardcoded\n",
    "### START CODE HERE ###\n",
    "# Try using different values for the matrix of similarity scores\n",
    "# sim = 2 * np.random.random_sample((b,b)) -1   # random similarity scores between -1 and 1\n",
    "# sim = sim_2                                   # the matrix calculated previously\n",
    "### END CODE HERE ###\n",
    "\n",
    "# Batch size\n",
    "b = sim.shape[0]\n",
    "\n",
    "print(\"-- Inputs --\")\n",
    "print(\"sim :\")\n",
    "print(sim)\n",
    "print(\"shape :\", sim.shape, \"\\n\")"
   ]
  },
  {
   "cell_type": "code",
   "execution_count": 14,
   "metadata": {},
   "outputs": [
    {
     "name": "stdout",
     "output_type": "stream",
     "text": [
      "sim_ap: \n",
      "[[ 0.9  0.   0.   0. ]\n",
      " [ 0.   0.5  0.   0. ]\n",
      " [ 0.   0.  -0.4  0. ]\n",
      " [ 0.   0.   0.   0.5]] \n",
      "\n"
     ]
    }
   ],
   "source": [
    "# Positives\n",
    "# All the s(A, P) values: Similarities from duplicate question pairs (aka positives)\n",
    "# These are along the diagonal\n",
    "sim_ap = np.diag(sim)\n",
    "print(\"sim_ap: \")\n",
    "print(np.diag(sim_ap), '\\n')"
   ]
  },
  {
   "cell_type": "code",
   "execution_count": 15,
   "metadata": {},
   "outputs": [
    {
     "name": "stdout",
     "output_type": "stream",
     "text": [
      "sim_an :\n",
      "[[ 0.  -0.8  0.3 -0.5]\n",
      " [-0.4  0.   0.1 -0.1]\n",
      " [ 0.3  0.1  0.  -0.8]\n",
      " [-0.5 -0.2 -0.7  0. ]] \n",
      "\n"
     ]
    }
   ],
   "source": [
    "# Negatives\n",
    "# All the s(A, N) values: Similarities the non duplicate question pairs (aka Negatives)\n",
    "# These are in the off diagonals\n",
    "sim_an = sim - np.diag(sim_ap)\n",
    "print(\"sim_an :\")\n",
    "print(sim_an, \"\\n\")"
   ]
  },
  {
   "cell_type": "code",
   "execution_count": 16,
   "metadata": {},
   "outputs": [
    {
     "data": {
      "text/plain": [
       "array([ 0.9,  0.5, -0.4,  0.5])"
      ]
     },
     "execution_count": 16,
     "metadata": {},
     "output_type": "execute_result"
    }
   ],
   "source": [
    "sim_ap"
   ]
  },
  {
   "cell_type": "code",
   "execution_count": 17,
   "metadata": {},
   "outputs": [
    {
     "name": "stdout",
     "output_type": "stream",
     "text": [
      "--- Outputs ---\n",
      "Mean Neg: \n",
      "[[-0.33333333]\n",
      " [-0.13333333]\n",
      " [-0.13333333]\n",
      " [-0.46666667]]\n"
     ]
    }
   ],
   "source": [
    "print(\"--- Outputs ---\")\n",
    "# Mean Negative\n",
    "# Averaage of the s(A, N) values of each row\n",
    "mean_neg = np.sum(sim_an, axis=1, keepdims=True) / (b - 1)\n",
    "print(\"Mean Neg: \")\n",
    "print(mean_neg)"
   ]
  },
  {
   "cell_type": "code",
   "execution_count": 24,
   "metadata": {},
   "outputs": [],
   "source": [
    "# Closest Negative\n",
    "# Max s(A, N) that is <= s(A, P) for each row\n",
    "mask_1 = np.identity(b) == 1\n",
    "mask_2 = sim_an > sim_ap.reshape(b, 1)"
   ]
  },
  {
   "cell_type": "code",
   "execution_count": 25,
   "metadata": {},
   "outputs": [
    {
     "data": {
      "text/plain": [
       "array([[1., 0., 0., 0.],\n",
       "       [0., 1., 0., 0.],\n",
       "       [0., 0., 1., 0.],\n",
       "       [0., 0., 0., 1.]])"
      ]
     },
     "execution_count": 25,
     "metadata": {},
     "output_type": "execute_result"
    }
   ],
   "source": [
    "np.identity(b)"
   ]
  },
  {
   "cell_type": "code",
   "execution_count": 26,
   "metadata": {},
   "outputs": [
    {
     "data": {
      "text/plain": [
       "array([[ 0.9],\n",
       "       [ 0.5],\n",
       "       [-0.4],\n",
       "       [ 0.5]])"
      ]
     },
     "execution_count": 26,
     "metadata": {},
     "output_type": "execute_result"
    }
   ],
   "source": [
    "sim_ap.reshape(b, 1)"
   ]
  },
  {
   "cell_type": "code",
   "execution_count": 27,
   "metadata": {},
   "outputs": [
    {
     "data": {
      "text/plain": [
       "array([[False, False, False, False],\n",
       "       [False, False, False, False],\n",
       "       [ True,  True,  True, False],\n",
       "       [False, False, False, False]])"
      ]
     },
     "execution_count": 27,
     "metadata": {},
     "output_type": "execute_result"
    }
   ],
   "source": [
    "mask_2"
   ]
  },
  {
   "cell_type": "code",
   "execution_count": 28,
   "metadata": {},
   "outputs": [
    {
     "name": "stdout",
     "output_type": "stream",
     "text": [
      "Closest Neg: \n",
      "[[ 0.3]\n",
      " [ 0.1]\n",
      " [-0.8]\n",
      " [-0.2]] \n",
      "\n"
     ]
    }
   ],
   "source": [
    "mask = mask_1 | mask_2\n",
    "sim_an_masked = np.copy(sim_an)\n",
    "sim_an_masked[mask] = -2\n",
    "\n",
    "closest_neg = np.max(sim_an_masked, axis=1, keepdims=True)\n",
    "print(\"Closest Neg: \")\n",
    "print(closest_neg, '\\n')"
   ]
  },
  {
   "cell_type": "code",
   "execution_count": 29,
   "metadata": {},
   "outputs": [
    {
     "data": {
      "text/plain": [
       "array([[ True, False, False, False],\n",
       "       [False,  True, False, False],\n",
       "       [ True,  True,  True, False],\n",
       "       [False, False, False,  True]])"
      ]
     },
     "execution_count": 29,
     "metadata": {},
     "output_type": "execute_result"
    }
   ],
   "source": [
    "mask_1 | mask_2"
   ]
  },
  {
   "cell_type": "code",
   "execution_count": 30,
   "metadata": {},
   "outputs": [
    {
     "data": {
      "text/plain": [
       "array([[ 0. , -0.8,  0.3, -0.5],\n",
       "       [-0.4,  0. ,  0.1, -0.1],\n",
       "       [ 0.3,  0.1,  0. , -0.8],\n",
       "       [-0.5, -0.2, -0.7,  0. ]])"
      ]
     },
     "execution_count": 30,
     "metadata": {},
     "output_type": "execute_result"
    }
   ],
   "source": [
    "np.copy(sim_an)"
   ]
  },
  {
   "cell_type": "code",
   "execution_count": 33,
   "metadata": {},
   "outputs": [
    {
     "data": {
      "text/plain": [
       "array([[-2. , -0.8,  0.3, -0.5],\n",
       "       [-0.4, -2. ,  0.1, -0.1],\n",
       "       [-2. , -2. , -2. , -0.8],\n",
       "       [-0.5, -0.2, -0.7, -2. ]])"
      ]
     },
     "execution_count": 33,
     "metadata": {},
     "output_type": "execute_result"
    }
   ],
   "source": [
    "copied = np.copy(sim_an)\n",
    "copied[mask] = -2\n",
    "copied"
   ]
  },
  {
   "cell_type": "markdown",
   "metadata": {},
   "source": [
    "## The Loss Functions\n",
    "\n",
    "The last step is to calculate the loss functions.\n",
    "\n",
    "$\\mathcal{L_\\mathrm{1}} = \\max{(mean\\_neg -\\mathrm{s}(A,P)  +\\alpha, 0)}$\n",
    "\n",
    "$\\mathcal{L_\\mathrm{2}} = \\max{(closest\\_neg -\\mathrm{s}(A,P)  +\\alpha, 0)}$\n",
    "\n",
    "$\\mathcal{L_\\mathrm{Full}} = \\mathcal{L_\\mathrm{1}} + \\mathcal{L_\\mathrm{2}}$"
   ]
  },
  {
   "cell_type": "code",
   "execution_count": 34,
   "metadata": {},
   "outputs": [
    {
     "name": "stdout",
     "output_type": "stream",
     "text": [
      "-- Outputs --\n",
      "loss full :\n",
      "[[0.   0.   0.   0.  ]\n",
      " [0.   0.   0.   0.  ]\n",
      " [0.   0.25 0.25 0.  ]\n",
      " [0.   0.   0.   0.  ]] \n",
      "\n",
      "cost : 0.500\n"
     ]
    }
   ],
   "source": [
    "# Alpha margin\n",
    "alpha = 0.25\n",
    "\n",
    "# Modified triplet loss\n",
    "# Loss 1\n",
    "l_1 = np.maximum(mean_neg - sim_ap.reshape(b, 1) + alpha, 0)\n",
    "l_2 = np.maximum(closest_neg - sim_ap.reshape(b, 1) + alpha, 0)\n",
    "l_full = l_1 + l_2\n",
    "cost = np.sum(l_full)\n",
    "\n",
    "print(\"-- Outputs --\")\n",
    "print(\"loss full :\")\n",
    "print(l_full, \"\\n\")\n",
    "print(\"cost :\", \"{:.3f}\".format(cost))"
   ]
  },
  {
   "cell_type": "code",
   "execution_count": null,
   "metadata": {},
   "outputs": [],
   "source": []
  }
 ],
 "metadata": {
  "kernelspec": {
   "display_name": "Python 3",
   "language": "python",
   "name": "python3"
  },
  "language_info": {
   "codemirror_mode": {
    "name": "ipython",
    "version": 3
   },
   "file_extension": ".py",
   "mimetype": "text/x-python",
   "name": "python",
   "nbconvert_exporter": "python",
   "pygments_lexer": "ipython3",
   "version": "3.8.3"
  }
 },
 "nbformat": 4,
 "nbformat_minor": 4
}
