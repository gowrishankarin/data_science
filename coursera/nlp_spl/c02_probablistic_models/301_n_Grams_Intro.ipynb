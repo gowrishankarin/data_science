{
 "cells": [
  {
   "cell_type": "markdown",
   "metadata": {},
   "source": [
    "## N Grams\n",
    "- Conditional Probabilities\n",
    "- Text Pre-Processing\n",
    "- Language Modelling\n",
    "- Perplexity\n",
    "- K-Smoothing\n",
    "- N-Grams\n",
    "- Backoff\n",
    "- Tokenization"
   ]
  },
  {
   "cell_type": "code",
   "execution_count": 1,
   "metadata": {},
   "outputs": [
    {
     "name": "stderr",
     "output_type": "stream",
     "text": [
      "[nltk_data] Downloading package punkt to /Users/shankar/nltk_data...\n",
      "[nltk_data]   Unzipping tokenizers/punkt.zip.\n"
     ]
    },
    {
     "data": {
      "text/plain": [
       "True"
      ]
     },
     "execution_count": 1,
     "metadata": {},
     "output_type": "execute_result"
    }
   ],
   "source": [
    "import nltk\n",
    "import re\n",
    "\n",
    "nltk.download('punkt')"
   ]
  },
  {
   "cell_type": "code",
   "execution_count": 2,
   "metadata": {},
   "outputs": [
    {
     "name": "stdout",
     "output_type": "stream",
     "text": [
      "learning% makes 'me' happy. i am happy be-cause i am learning! :)\n"
     ]
    }
   ],
   "source": [
    "corpus = \"Learning% makes 'me' happy. I am happy be-cause I am learning! :)\"\n",
    "corpus = corpus.lower()\n",
    "\n",
    "print(corpus)"
   ]
  },
  {
   "cell_type": "code",
   "execution_count": 3,
   "metadata": {},
   "outputs": [
    {
     "name": "stdout",
     "output_type": "stream",
     "text": [
      "learning makes me happy. i am happy because i am learning! \n"
     ]
    }
   ],
   "source": [
    "# Remove special character\n",
    "corpus = \"learning% makes 'me' happy. i am happy be-cause i am learning! :)\"\n",
    "corpus = re.sub(r\"[^a-zA-Z0-9.?! ]+\", \"\", corpus)\n",
    "print(corpus)"
   ]
  },
  {
   "cell_type": "code",
   "execution_count": 4,
   "metadata": {},
   "outputs": [
    {
     "name": "stdout",
     "output_type": "stream",
     "text": [
      "Date Parts = ['Sat', 'May', '', '9', '07:33:35', 'CEST', '2020']\n",
      "Time Parts = ['07', '33', '35']\n"
     ]
    }
   ],
   "source": [
    "# Text Splitting\n",
    "# split text by a delimiter to array\n",
    "input_date=\"Sat May  9 07:33:35 CEST 2020\"\n",
    "\n",
    "# Get the date parts\n",
    "date_parts = input_date.split(\" \")\n",
    "print(f\"Date Parts = {date_parts}\")\n",
    "\n",
    "# Get the time parts in array\n",
    "time_parts = date_parts[4].split(\":\")\n",
    "print(f\"Time Parts = {time_parts}\")"
   ]
  },
  {
   "cell_type": "markdown",
   "metadata": {},
   "source": [
    "### Sentence Tokenizing"
   ]
  },
  {
   "cell_type": "code",
   "execution_count": 5,
   "metadata": {},
   "outputs": [
    {
     "name": "stdout",
     "output_type": "stream",
     "text": [
      "i am happy because i am learning. -> ['i', 'am', 'happy', 'because', 'i', 'am', 'learning', '.']\n"
     ]
    }
   ],
   "source": [
    "sentence = \"i am happy because i am learning.\"\n",
    "tokenized_sentence = nltk.word_tokenize(sentence)\n",
    "print(f\"{sentence} -> {tokenized_sentence}\")"
   ]
  },
  {
   "cell_type": "code",
   "execution_count": 8,
   "metadata": {},
   "outputs": [
    {
     "name": "stdout",
     "output_type": "stream",
     "text": [
      "Lengths of the words: \n",
      "[('i', 1), ('am', 2), ('happy', 5), ('because', 7), ('i', 1), ('am', 2), ('learning', 8), ('.', 1)]\n"
     ]
    }
   ],
   "source": [
    "# Find length of each word in the tokenized sentence\n",
    "sentence = ['i', 'am', 'happy', 'because', 'i', 'am', 'learning', '.']\n",
    "word_lengths = [(a_word, len(a_word)) for a_word in sentence]\n",
    "\n",
    "print(f\"Lengths of the words: \\n{word_lengths}\")"
   ]
  },
  {
   "cell_type": "markdown",
   "metadata": {},
   "source": [
    "## N-Grams\n",
    "Sentence to n-grams is\n",
    "- A sliding window of size n words can generate n-grams\n",
    "- the window scans the lis of words starting at the sentence beginning...\n",
    "- Moving by a step of one word until it reaches the end of the sentence"
   ]
  },
  {
   "cell_type": "code",
   "execution_count": 22,
   "metadata": {},
   "outputs": [],
   "source": [
    "def sentence_to_trigram(tokenized_sentence):\n",
    "    \n",
    "    # Note that the last position of i is 3rd to the end\n",
    "    trigrams = [tokenized_sentence[i:i+3] for i in range(len(tokenized_sentence) - 2)]\n",
    "    print(trigrams)"
   ]
  },
  {
   "cell_type": "code",
   "execution_count": 23,
   "metadata": {},
   "outputs": [
    {
     "name": "stdout",
     "output_type": "stream",
     "text": [
      "[['i', 'am', 'happy'], ['am', 'happy', 'because'], ['happy', 'because', 'i'], ['because', 'i', 'am'], ['i', 'am', 'learning'], ['am', 'learning', '.']]\n"
     ]
    }
   ],
   "source": [
    "sentence_to_trigram(sentence)"
   ]
  },
  {
   "cell_type": "code",
   "execution_count": 24,
   "metadata": {},
   "outputs": [],
   "source": [
    "def sentence_to_n_gram(tokenized_sentence, n):\n",
    "    \n",
    "    # Note that the last position of i is 3rd to the end\n",
    "    trigrams = [tokenized_sentence[i:i+n] for i in range(len(tokenized_sentence) - (n-1))]\n",
    "    print(trigrams)\n",
    "    "
   ]
  },
  {
   "cell_type": "code",
   "execution_count": 26,
   "metadata": {},
   "outputs": [
    {
     "name": "stdout",
     "output_type": "stream",
     "text": [
      "[['i', 'am', 'happy'], ['am', 'happy', 'because'], ['happy', 'because', 'i'], ['because', 'i', 'am'], ['i', 'am', 'learning'], ['am', 'learning', '.']]\n"
     ]
    }
   ],
   "source": [
    "sentence_to_n_gram(sentence, 3)"
   ]
  },
  {
   "cell_type": "code",
   "execution_count": 27,
   "metadata": {},
   "outputs": [
    {
     "name": "stdout",
     "output_type": "stream",
     "text": [
      "[['i', 'am'], ['am', 'happy'], ['happy', 'because'], ['because', 'i'], ['i', 'am'], ['am', 'learning'], ['learning', '.']]\n"
     ]
    }
   ],
   "source": [
    "sentence_to_n_gram(sentence, 2)"
   ]
  },
  {
   "cell_type": "code",
   "execution_count": 28,
   "metadata": {},
   "outputs": [
    {
     "name": "stdout",
     "output_type": "stream",
     "text": [
      "[['i', 'am', 'happy', 'because'], ['am', 'happy', 'because', 'i'], ['happy', 'because', 'i', 'am'], ['because', 'i', 'am', 'learning'], ['i', 'am', 'learning', '.']]\n"
     ]
    }
   ],
   "source": [
    "sentence_to_n_gram(sentence, 4)"
   ]
  },
  {
   "cell_type": "markdown",
   "metadata": {},
   "source": [
    "### Prefix to an n-gram\n",
    "\n",
    "$$\n",
    "P \\left ( w_n | w^{n-1}_1 \\right) = \\frac{C\\left(w^n_1 \\right)}{C\\left(w^{n-1}_1\\right)}\n",
    "$$"
   ]
  },
  {
   "cell_type": "code",
   "execution_count": 29,
   "metadata": {},
   "outputs": [
    {
     "name": "stdout",
     "output_type": "stream",
     "text": [
      "['i', 'am', 'happy']\n"
     ]
    }
   ],
   "source": [
    "# Get trigram prefix form a 4-gram\n",
    "fourgram = ['i', 'am', 'happy','because']\n",
    "trigram = fourgram[0:-1] # Get the elements from 0, included, up to the last element, not included.\n",
    "print(trigram)"
   ]
  },
  {
   "cell_type": "markdown",
   "metadata": {},
   "source": [
    "**Start and end of sentence word $<s>$ and $</s>$**"
   ]
  },
  {
   "cell_type": "code",
   "execution_count": 33,
   "metadata": {},
   "outputs": [
    {
     "name": "stdout",
     "output_type": "stream",
     "text": [
      "[['<s>', '<s>', 'i', 'am', 'happy', 'because', 'i', 'am', 'learning', '.', '</s>']]\n"
     ]
    }
   ],
   "source": [
    "n = 3\n",
    "tokenized_sentence = [[\"<s>\"] * (n-1) + sentence + [\"</s>\"]]\n",
    "print(tokenized_sentence)"
   ]
  },
  {
   "cell_type": "code",
   "execution_count": null,
   "metadata": {},
   "outputs": [],
   "source": []
  }
 ],
 "metadata": {
  "kernelspec": {
   "display_name": "Python 3",
   "language": "python",
   "name": "python3"
  },
  "language_info": {
   "codemirror_mode": {
    "name": "ipython",
    "version": 3
   },
   "file_extension": ".py",
   "mimetype": "text/x-python",
   "name": "python",
   "nbconvert_exporter": "python",
   "pygments_lexer": "ipython3",
   "version": "3.8.3"
  }
 },
 "nbformat": 4,
 "nbformat_minor": 4
}
