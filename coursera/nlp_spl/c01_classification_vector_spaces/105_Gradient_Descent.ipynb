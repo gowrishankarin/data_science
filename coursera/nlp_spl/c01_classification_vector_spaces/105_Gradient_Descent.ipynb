{
 "cells": [
  {
   "cell_type": "markdown",
   "metadata": {},
   "source": [
    "# Demystifying Gradient Descent"
   ]
  },
  {
   "cell_type": "markdown",
   "metadata": {},
   "source": [
    "The Goal  \n",
    "The goal of any machine learning problem is to minimize the error to achieve maximum accuracy or predictability.\n",
    "\n",
    "The Cost Function  \n",
    "The cost functions gives deeper and finer insight into the error component. What is left out is minimizing the error.\n",
    "\n",
    "$$Net Loss = -\\frac{1}{n} \\sum_{i=1}^n y^{(i)}\\log (\\hat{y_{i}}) + (1-y^{(i)})\\log (1-\\hat{y_{i}})\\tag{1} $$\n",
    "\n",
    "What is Gradient Descent?\n",
    "- It is an optimization alogrithm\n",
    "- It's goal is to minimize the given function(eg. a polynomial function) iteratively \n",
    "- That is, find the right coefficients for the polynomial to minimize the output\n",
    "- A right analogy could be, you are standing on the peak of a mountaineous range and your goal is to reach the lowest point of the range by crossing various peaks\n",
    "- In the process of reaching lowest point(local minima) one will ascent and descent repeatedly \n",
    "- This iterative process is quite analogous to gradient descent, note there are ascents as well \n",
    "- Local Minima, why not Global Minima - A global minima(our aspirations are high) can be achieved only during singularity, until then let us wait"
   ]
  },
  {
   "cell_type": "markdown",
   "metadata": {},
   "source": [
    "Some Assumptions and Presumptions\n",
    "- Let us say we have $m$ features available to predict an outcome\n",
    "- For example these features could be humidity, pressure, date of the year etc to predict - Whether there is a rain or not?\n",
    "- Let $n$ be the number of samples we have in the dataset - ie 10 years of daily weather observations, 365 * 10 is $n$\n",
    "- With m features and n samples, our data matrix looks as follows"
   ]
  },
  {
   "cell_type": "markdown",
   "metadata": {},
   "source": [
    "|   \t|$x_1$   \t| $x_2$  \t|$x_3$   \t|$...$   \t|$x_j$   \t|$...$   \t|$x_m$   \t|\n",
    "|:-:\t|:-:\t|:-:\t|:-:\t|:-:\t|:-:\t|:-:\t|:-:\t|\n",
    "|$1$   \t|0.999   \t|True   \t|0.001   \t|$...$   \t|1   \t|$...$   \t|$A$   \t|\n",
    "|$2$   \t|0.001   \t|False   \t|0.001   \t|$...$   \t|5   \t|$...$   \t|$C$   \t|\n",
    "|$3$   \t|0.999   \t|False   \t|6.90   \t| $...$  \t|2   \t|$...$   \t|$X$   \t|\n",
    "|$.$   \t|.   \t|.   \t|.   \t|$.$   \t|.   \t|$.$   \t|$.$   \t|\n",
    "|$i$   \t|0.423   \t|False   \t|0.092   \t|$...$   \t|5   \t|$...$   \t|$E$   \t|\n",
    "|$.$   \t|.   \t|.   \t|.   \t|$.$   \t|.   \t|$.$   \t|$.$   \t|\n",
    "|$n$   \t|0.632   \t|False   \t|2.0   \t|$...$   \t|1   \t|$...$   \t|$B$   \t|\n",
    "\n",
    "\n",
    "Dimension  of  our  dataset is $$n \\times m $$\n",
    "\n",
    "Let $\\theta$ be the weights or coefficients of the polynomial function, then\n",
    "$$\\mathbf{\\theta} = \\begin{pmatrix}\n",
    "\\theta_0\n",
    "\\\\\n",
    "\\theta_1\n",
    "\\\\ \n",
    "\\theta_2 \n",
    "\\\\ \n",
    "\\vdots\n",
    "\\\\ \n",
    "\\theta_m\n",
    "\\end{pmatrix}$$"
   ]
  },
  {
   "cell_type": "markdown",
   "metadata": {},
   "source": [
    "The Polynomial Function  \n",
    "Let us derive the polynomial function of intereste that we are trying to minimize will be $\\theta \\times x$, ie\n",
    "\n",
    "\\begin{equation*}\n",
    "f(x) = \\begin{pmatrix}\n",
    "\\theta_0\n",
    "\\\\\n",
    "\\theta_1\n",
    "\\\\ \n",
    "\\theta_2 \n",
    "\\\\ \n",
    "\\vdots\n",
    "\\\\ \n",
    "\\theta_m\n",
    "\\end{pmatrix} \\times \n",
    "\\begin{pmatrix}\n",
    "x_1 & x_2 & x_3 \\cdots & x_m\n",
    "\\end{pmatrix}\n",
    "\\end{equation*}\n",
    "\n",
    "$$ie$$\n",
    "$$f(x) = \\theta_1 x_1 + \\theta_2 x_2 + \\theta_3 x_3 + \\cdots + \\theta_i x_i + \\cdots + \\theta_m x_m\\tag{2}$$"
   ]
  },
  {
   "cell_type": "markdown",
   "metadata": {},
   "source": [
    "- Something unusual in the equation (2) $\\theta_0$ is missing. It is the bias term, we shall talk about this some other day.\n",
    "- Equation $f(x)$ represents only one observation in the dataset but we have $n$ observations in large\n",
    "\n",
    "Then the equation transforms into\n",
    "$$f(x_1) = \\theta_{1, 1} x_{1, 1} + \\theta_{1, 2} x_{1, 2} + \\theta_{1, 3} x_{1, 3} + \\cdots + \\theta_{1, i} x_{1, i} + \\cdots + \\theta_{1, m} x_{1, m}$$\n",
    "$$f(x_2) = \\theta_{2, 1} x_{2, 1} + \\theta_{2, 2} x_{2, 2} + \\theta_{2, 3} x_{2, 3} + \\cdots + \\theta_{2, i} x_{2, i} + \\cdots + \\theta_{2, m} x_{2, m}$$\n",
    "$$f(x_3) = \\theta_{3, 1} x_{3, 1} + \\theta_{3, 2} x_{3, 2} + \\theta_{3, 3} x_{3, 3} + \\cdots + \\theta_{3, i} x_{3, i} + \\cdots + \\theta_{3, m} x_{3, m}$$\n",
    "$$\\vdots$$\n",
    "$$f(x_n) = \\theta_{n, 1} x_{n, 1} + \\theta_{n, 2} x_{m, 2} + \\theta_{n, 3} x_{n, 3} + \\cdots + \\theta_{n, i} x_{n, i} + \\cdots + \\theta_{n, m} x_{n, m}$$"
   ]
  },
  {
   "cell_type": "markdown",
   "metadata": {},
   "source": [
    "Let us check the dimensions of all our variables for clarity, 1 extra for the bias which is not represented above  \n",
    "- $\\theta, (m+1, 1)$\n",
    "- $X, (n, m+1)$\n",
    "- the function  $f, (n, 1)$"
   ]
  },
  {
   "cell_type": "markdown",
   "metadata": {},
   "source": [
    "The Activation Function  \n",
    "- We have to predict the outcome with the above set of details we have\n",
    "- ie The second part of our goal, minimize the error to predict the outcome. Rest all are repeated\n",
    "- Let us call our prediction as h, in the cost function we called it y_hat or 𝑦^\n",
    "- It is time for us to expand the variable y_hat with corresponding influencing variables\n",
    "\n",
    "$$\\hat{y} = h(f(x)) = h(x\\theta) = h(z) \\tag{3}$$\n",
    "\n",
    "ie $\\hat{y}$ is a function of $\\theta$ and $x$ and we call it $z$\n",
    "\n",
    "- Since it is a classification function, we are expecting a result value between $[0, 1]$\n",
    "- Corresponding activation function is \"Sigmoid\"\n",
    "- The beauty of sigmoid, it squeezes the output between $[0, 1]$\n",
    "$$ie$$\n",
    "$$h(z) = sigmoid(z)$$\n",
    "$$ h(z) = \\frac{1}{1+\\exp^{-z}} \\tag{4}$$"
   ]
  },
  {
   "cell_type": "markdown",
   "metadata": {},
   "source": [
    "The Finale - Gradient Descent  \n",
    "- Once again, our goal is to minimize the error and identify the right corresponding coefficient\n",
    "- From equation (2), $x.\\theta$ we got $z$\n",
    "- From equation (4), we got $h(x.\\theta)$\n",
    "- From equation (1), we got the error/loss/cost. Let us call it $J$\n",
    "- Update $\\theta$ iteratively by applying the following gradient descent function"
   ]
  },
  {
   "cell_type": "markdown",
   "metadata": {},
   "source": [
    "$$\\nabla_{\\theta_j}J(\\theta) = \\frac{1}{n} \\sum_{i=1}^n(h^{(i)}-y^{(i)})x_j \\tag{5}$$"
   ]
  },
  {
   "cell_type": "markdown",
   "metadata": {},
   "source": [
    "- $i$ is the index of all $m$ observations\n",
    "- $j$ is the index of the weight associated with the corresponding $x_j$\n",
    "- The weight $\\theta_j$ is updated by subtracting a fraction of the gradient determined by the learning rate $\\alpha$"
   ]
  },
  {
   "cell_type": "markdown",
   "metadata": {},
   "source": [
    "$$\\theta_j = \\theta_j - \\alpha \\times \\nabla_{\\theta_j}J(\\theta) \\tag{6}$$"
   ]
  },
  {
   "cell_type": "code",
   "execution_count": 5,
   "metadata": {},
   "outputs": [
    {
     "data": {
      "text/plain": [
       "[<matplotlib.lines.Line2D at 0x7fc7c7dc8910>]"
      ]
     },
     "execution_count": 5,
     "metadata": {},
     "output_type": "execute_result"
    },
    {
     "data": {
      "image/png": "[encoded data removed]",
      "text/plain": [
       "<Figure size 432x288 with 1 Axes>"
      ]
     },
     "metadata": {
      "needs_background": "light"
     },
     "output_type": "display_data"
    }
   ],
   "source": [
    "import numpy as np\n",
    "import matplotlib.pyplot as plt\n",
    "\n",
    "def sigmoid(z): \n",
    "    h = 1 / (1 + np.exp(-z))\n",
    "    return h\n",
    "x = np.arange(-10, 10, 0.1)\n",
    "h = [sigmoid(a) for a in x]\n",
    "plt.plot(x, h)"
   ]
  },
  {
   "cell_type": "code",
   "execution_count": null,
   "metadata": {},
   "outputs": [],
   "source": []
  }
 ],
 "metadata": {
  "kernelspec": {
   "display_name": "Python 3",
   "language": "python",
   "name": "python3"
  },
  "language_info": {
   "codemirror_mode": {
    "name": "ipython",
    "version": 3
   },
   "file_extension": ".py",
   "mimetype": "text/x-python",
   "name": "python",
   "nbconvert_exporter": "python",
   "pygments_lexer": "ipython3",
   "version": "3.7.5"
  }
 },
 "nbformat": 4,
 "nbformat_minor": 4
}
