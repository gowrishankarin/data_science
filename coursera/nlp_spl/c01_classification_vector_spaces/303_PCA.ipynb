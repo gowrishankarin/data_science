{
 "cells": [
  {
   "cell_type": "markdown",
   "metadata": {},
   "source": [
    "## Principal Component Analysis\n",
    "- Reduction of vector representation of higher dimension to lower dimension\n",
    "- Through dimensionality reduction\n",
    "- Original Space -> Uncorrelated Features -> Dimension Reduction\n",
    "- Using orthogonal transformations to map a set of variables into a set of linearly uncorrelated variables called Principal Components\n",
    "- SVD of the Covariance matrix of the dataset\n",
    "- Eigen vectors are used as a rotation matrix\n",
    "- Arranged in decreasing order to its explained variance\n",
    "\n",
    "**Algorithm**.  \n",
    "- Eigen Vector(U): Uncorrelated features for your data (Taken from covariance of the features). It gives direction of uncorrelated features.\n",
    "- Eigen Value(S): The amount of information retained by each feature (Variance of the feature)\n",
    "\n",
    "1. Mean normalize the data\n",
    "2. Get covariance Matrix\n",
    "3. Perform Singular Value Decomposition"
   ]
  },
  {
   "cell_type": "code",
   "execution_count": 1,
   "metadata": {},
   "outputs": [],
   "source": [
    "import numpy as np\n",
    "import matplotlib.pyplot as plt\n",
    "from sklearn.decomposition import PCA\n",
    "import pandas as pd\n",
    "import math\n",
    "import random"
   ]
  },
  {
   "cell_type": "code",
   "execution_count": 2,
   "metadata": {},
   "outputs": [
    {
     "data": {
      "image/png": "[encoded data removed]",
      "text/plain": [
       "<Figure size 432x288 with 1 Axes>"
      ]
     },
     "metadata": {
      "needs_background": "light"
     },
     "output_type": "display_data"
    }
   ],
   "source": [
    "n = 1\n",
    "x = np.random.uniform(1, 2, 1000)\n",
    "y = x.copy() * n\n",
    "\n",
    "# PCA works better if the data is centered\n",
    "x = x - np.mean(x)\n",
    "y = y - np.mean(y)\n",
    "\n",
    "data = pd.DataFrame({\n",
    "    'x': x, 'y': y\n",
    "})\n",
    "plt.scatter(data.x, data.y)\n",
    "\n",
    "pca = PCA(n_components=2)\n",
    "\n",
    "# create the transformation model for this data. Internally, it gets the rotation\n",
    "# matrix and explained variance\n",
    "pca_tr = pca.fit(data)\n",
    "\n",
    "rotated_data = pca_tr.transform(data)\n",
    "# Transform the data base on the rtation matrix of pca_tr \n",
    "\n",
    "# Create a dataframe with the new variables. We call these new variables PC1 and PC2\n",
    "data_pca = pd.DataFrame(data=rotated_data, columns=['PC1', 'PC2'])\n",
    "\n",
    "plt.scatter(data_pca.PC1, data_pca.PC2)\n",
    "plt.show()"
   ]
  },
  {
   "cell_type": "markdown",
   "metadata": {},
   "source": [
    "### Transformation Model pca_tr\n",
    "- PCA model composed of rotatin matrix and its corresponding explained variance"
   ]
  },
  {
   "cell_type": "code",
   "execution_count": 3,
   "metadata": {},
   "outputs": [
    {
     "name": "stdout",
     "output_type": "stream",
     "text": [
      "Eigen vectors or PC: 1st row in the direction o [1, n]\n",
      "[[ 0.70710678  0.70710678]\n",
      " [-0.70710678  0.70710678]]\n"
     ]
    }
   ],
   "source": [
    "print('Eigen vectors or PC: 1st row in the direction o [1, n]')\n",
    "print(pca_tr.components_)"
   ]
  },
  {
   "cell_type": "code",
   "execution_count": 5,
   "metadata": {},
   "outputs": [
    {
     "name": "stdout",
     "output_type": "stream",
     "text": [
      "Eigen values or explained varience\n"
     ]
    },
    {
     "data": {
      "text/plain": [
       "array([1.60798373e-01, 1.43512706e-34])"
      ]
     },
     "execution_count": 5,
     "metadata": {},
     "output_type": "execute_result"
    }
   ],
   "source": [
    "print('Eigen values or explained varience')\n",
    "pca_tr.explained_variance_"
   ]
  },
  {
   "cell_type": "markdown",
   "metadata": {},
   "source": [
    "$cos(45^o) = 0.7071$\n",
    "\n",
    "The rotation matrix is equal to:\n",
    "\n",
    "$$R = \\begin{bmatrix} cos(45^o) & sin(45^o) \\\\ -sin(45^o) & cos(45^o) \\end{bmatrix}$$ \n",
    "\n",
    "And $45^o$ is the same angle that form the variables y = 1 * x.\n",
    "\n",
    "Then, PCA has identified the angle in which point the original variables.\n",
    "\n",
    "And the explained Variance is around [0.166 0]. Remember that the Variance of a uniform random variable x ~ U(1, 2), as our x and y, is equal to:\n",
    "\n",
    "$$Var(x) = \\frac {(2 - 1)^2}{12} = 0.083333$$\n",
    "    \n",
    "Then the explained variance given by the PCA can be interpret as\n",
    "\n",
    "$$[Var(x) + Var(y)  \\ 0] = [0.0833 + 0.0833 \\  0] = [0.166 \\ 0]$$\n",
    "\n",
    "Which means that all the explained variance of our new system is explained by our first principal component."
   ]
  },
  {
   "cell_type": "markdown",
   "metadata": {},
   "source": [
    "### Correlated Normal Random Variables\n",
    "- Use controlled dataset composed of 2 variables with different variance and with a specific covariance\n",
    "- To get such a dataset, Create 2 independent random variables with desired variance\n",
    "- Then combine those variables using a rotation matrix\n",
    "- The new resulting variable will be a linear combination of the original random variables and dependent and correlated"
   ]
  },
  {
   "cell_type": "code",
   "execution_count": 7,
   "metadata": {},
   "outputs": [],
   "source": [
    "import matplotlib.lines as mlines\n",
    "import matplotlib.transforms as mtransforms"
   ]
  },
  {
   "cell_type": "code",
   "execution_count": 10,
   "metadata": {},
   "outputs": [
    {
     "name": "stdout",
     "output_type": "stream",
     "text": [
      "angle: 45.0\n",
      "Rotation Matrix\n",
      "[[ 0.70710678  0.70710678]\n",
      " [-0.70710678  0.70710678]]\n",
      "Shape of xy: (1000, 2)\n"
     ]
    },
    {
     "data": {
      "image/png": "[encoded data removed]",
      "text/plain": [
       "<Figure size 432x288 with 1 Axes>"
      ]
     },
     "metadata": {
      "needs_background": "light"
     },
     "output_type": "display_data"
    }
   ],
   "source": [
    "random.seed(100)\n",
    "std1 = 1\n",
    "std2 = 0.333\n",
    "\n",
    "x = np.random.normal(0, std1, 1000)\n",
    "y = np.random.normal(0, std2, 1000)\n",
    "#y = y + np.random.normal(0,1,1000)*noiseLevel * np.sin(0.78)\n",
    "\n",
    "x = x - np.mean(x)\n",
    "y = y - np.mean(y)\n",
    "\n",
    "# Define a pair of dependent variables with a desired amount of covariance\n",
    "n = 1 # Magnitude of covariance\n",
    "angle = np.arctan(1/n) # Convert the covariance to an angle\n",
    "print(f'angle: {angle * 180 / math.pi}')\n",
    "\n",
    "# Create a rotation matrix using the given angle\n",
    "rotation_matrix = np.array([\n",
    "    [np.cos(angle), np.sin(angle)],\n",
    "    [-np.sin(angle), np.cos(angle)]\n",
    "])\n",
    "\n",
    "print('Rotation Matrix')\n",
    "print(rotation_matrix)\n",
    "\n",
    "xy = np.concatenate(([x], [y]), axis=0).T # Create a matrix with columns x and y\n",
    "print(f'Shape of xy: {xy.shape}')\n",
    "# Transform the data using the rotation matrix. It correlates the two variables\n",
    "plt.scatter(xy[:,0], xy[:,1])\n",
    "data = xy @ rotation_matrix\n",
    "\n",
    "plt.scatter(data[:, 0], data[:, 1])\n",
    "plt.show()\n"
   ]
  },
  {
   "cell_type": "markdown",
   "metadata": {},
   "source": [
    "- Print the original and the resuliting transformed system using the result of PCA\n",
    "- Used the same plot with 2 PC vectors in red and blue"
   ]
  },
  {
   "cell_type": "code",
   "execution_count": 13,
   "metadata": {},
   "outputs": [
    {
     "name": "stdout",
     "output_type": "stream",
     "text": [
      "Eigen ectors or PC: first row in the direction [1, n]\n",
      "[[-0.70949732 -0.70470813]\n",
      " [ 0.70470813 -0.70949732]]\n",
      "Eigen Values or Explained Variance\n",
      "[1.02113679 0.11233356]\n"
     ]
    },
    {
     "data": {
      "image/png": "[encoded data removed]",
      "text/plain": [
       "<Figure size 432x288 with 1 Axes>"
      ]
     },
     "metadata": {
      "needs_background": "light"
     },
     "output_type": "display_data"
    }
   ],
   "source": [
    "plt.scatter(data[:, 0], data[:, 1])\n",
    "\n",
    "# Apply PCA. In theory, the eigenvector matrix must be the\n",
    "# inverse of the original rotation matrix\n",
    "pca = PCA(n_components=2) # Instantiate a PCA, Choose to get 2 output variables\n",
    "\n",
    "# Create the transformation model for thsi data\n",
    "# Internally it gets the rotation matrix and the explained variance\n",
    "pca_tr = pca.fit(data)\n",
    "\n",
    "# Create an array with the transformed data\n",
    "data_pca = pca_tr.transform(data)\n",
    "\n",
    "print('Eigen ectors or PC: first row in the direction [1, n]')\n",
    "print(pca_tr.components_)\n",
    "\n",
    "print('Eigen Values or Explained Variance')\n",
    "print(pca_tr.explained_variance_)\n",
    "\n",
    "# Print the rotated data\n",
    "plt.scatter(data_pca[:, 0], data_pca[:, 1])\n",
    "\n",
    "# Plot the first compenent axe, use the explained variance to scale the vector\n",
    "plt.plot(\n",
    "    [0, rotation_matrix[0][0] * std1 * 3],\n",
    "    [0, rotation_matrix[0][1] * std1 * 3],\n",
    "    'k-', color='red'\n",
    ")\n",
    "plt.plot(\n",
    "    [0, rotation_matrix[1][0] * std2 * 3],\n",
    "    [0, rotation_matrix[1][1] * std2 * 3],\n",
    "    'k-', color='green'\n",
    ")\n",
    "plt.show()"
   ]
  },
  {
   "cell_type": "markdown",
   "metadata": {},
   "source": [
    "The explanation of this chart is as follows:\n",
    "* The rotation matrix used to create our correlated variables took the original uncorrelated variables `x` and `y` and transformed them into the blue points.\n",
    "* The PCA transformation finds out the rotation matrix used to create our correlated variables (blue points). Using the PCA model to transform our data, puts back the variables as our original uncorrelated variables.\n",
    "* The explained Variance of the PCA is \n",
    "\n",
    "$$[1.0094, 0.1125] $$\n",
    "\n",
    "which is approximately\n",
    "\n",
    "$$[1, 0.333 * 0.333] = [std1^2, std2^2],$$\n",
    "\n",
    "the parameters of our original random variables x and y\n",
    "\n",
    "You can use the previous code to try with other standard deviations and correlations and convince your self of this fact.   "
   ]
  },
  {
   "cell_type": "markdown",
   "metadata": {},
   "source": [
    "### PCA strategy for Dimensionality Reduction\n",
    "- The PC contains the rotation matrix, \n",
    "- Theya re sorted decreasing on its explained variance\n",
    "- Means, 1st component retain most of the power od the data to explain the patterns that generalize the data\n",
    "- Interest are the patterns that explain much less variance for example novelty detection\n",
    "\n",
    "Let us visualize the original data dn its corresponding projection over the 1st and 2nd PCs. ie Data comprised of a single variable"
   ]
  },
  {
   "cell_type": "code",
   "execution_count": 16,
   "metadata": {},
   "outputs": [
    {
     "data": {
      "image/png": "[encoded data removed]",
      "text/plain": [
       "<Figure size 432x288 with 1 Axes>"
      ]
     },
     "metadata": {
      "needs_background": "light"
     },
     "output_type": "display_data"
    }
   ],
   "source": [
    "n_points = len(data)\n",
    "\n",
    "# Plot the original data in blue\n",
    "plt.scatter(data[:, 0], data[:, 1])\n",
    "\n",
    "# Plot the projection along the first component in orange\n",
    "plt.scatter(data[:, 0], np.zeros(n_points))\n",
    "\n",
    "# Plot the projection along the second component in green\n",
    "plt.scatter(np.zeros(n_points), data[:,1])\n",
    "\n",
    "plt.show()"
   ]
  },
  {
   "cell_type": "code",
   "execution_count": null,
   "metadata": {},
   "outputs": [],
   "source": []
  }
 ],
 "metadata": {
  "kernelspec": {
   "display_name": "Python 3",
   "language": "python",
   "name": "python3"
  },
  "language_info": {
   "codemirror_mode": {
    "name": "ipython",
    "version": 3
   },
   "file_extension": ".py",
   "mimetype": "text/x-python",
   "name": "python",
   "nbconvert_exporter": "python",
   "pygments_lexer": "ipython3",
   "version": "3.7.5"
  }
 },
 "nbformat": 4,
 "nbformat_minor": 4
}
