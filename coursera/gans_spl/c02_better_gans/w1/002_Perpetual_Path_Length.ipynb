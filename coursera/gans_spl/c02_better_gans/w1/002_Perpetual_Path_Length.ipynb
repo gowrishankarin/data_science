{
 "cells": [
  {
   "cell_type": "markdown",
   "metadata": {
    "execution": {
     "iopub.execute_input": "2020-11-26T16:25:01.075589Z",
     "iopub.status.busy": "2020-11-26T16:25:01.075392Z",
     "iopub.status.idle": "2020-11-26T16:25:01.081403Z",
     "shell.execute_reply": "2020-11-26T16:25:01.080347Z",
     "shell.execute_reply.started": "2020-11-26T16:25:01.075568Z"
    }
   },
   "source": [
    "# Perpetual Path Length\n",
    "- PPL is a metric that is introduced as part of StyleGAN to evalute how well a gnerator manages to smoothly interpolate between points in its latent space.\n",
    "- If you travel between two points images produced by a generator on a straight line in the latent space, it measures the total \"jarringness\" of the interpolation, When you add together the jarringness of each step\n",
    "- `StyleGAN2` - correlates with consistency and stability of shapes, that led to one of the major changes between the two papers\n"
   ]
  },
  {
   "cell_type": "markdown",
   "metadata": {},
   "source": [
    "## Perpetual Similarity\n",
    "- Like FID, PPL uses the feature embeddings of DConvNN\n",
    "- It is the distance between t20 image embedding\n",
    "- It is closely similar to the distance between two feature vectors, with one difference\n",
    "- The features are passed through a learned transformtion, which is trained to match human intuition on image similarity\n",
    "- Specifically, when shown 2 images with various transformations from a base image - the LPIPS, Learned Perceptual Image Patch Similarity5.\n",
    "- LPIPS metric is meant to have a lower distance for the image that people think is closer"
   ]
  },
  {
   "cell_type": "code",
   "execution_count": null,
   "metadata": {},
   "outputs": [],
   "source": [
    "# !pip install lpips"
   ]
  },
  {
   "cell_type": "code",
   "execution_count": 1,
   "metadata": {
    "execution": {
     "iopub.execute_input": "2020-11-26T17:23:15.448772Z",
     "iopub.status.busy": "2020-11-26T17:23:15.448557Z",
     "iopub.status.idle": "2020-11-26T17:23:18.237844Z",
     "shell.execute_reply": "2020-11-26T17:23:18.237239Z",
     "shell.execute_reply.started": "2020-11-26T17:23:15.448749Z"
    }
   },
   "outputs": [
    {
     "name": "stdout",
     "output_type": "stream",
     "text": [
      "Setting up [LPIPS] perceptual loss: trunk [vgg], v[0.1], spatial [off]\n",
      "Loading model from: /Users/shankar/dev/tools/anaconda3/envs/torch/lib/python3.8/site-packages/lpips/weights/v0.1/vgg.pth\n"
     ]
    }
   ],
   "source": [
    "import lpips\n",
    "loss_fn_vgg = lpips.LPIPS(net='vgg')"
   ]
  },
  {
   "cell_type": "code",
   "execution_count": 2,
   "metadata": {
    "execution": {
     "iopub.execute_input": "2020-11-26T17:23:18.239620Z",
     "iopub.status.busy": "2020-11-26T17:23:18.239369Z",
     "iopub.status.idle": "2020-11-26T17:23:18.523658Z",
     "shell.execute_reply": "2020-11-26T17:23:18.523124Z",
     "shell.execute_reply.started": "2020-11-26T17:23:18.239584Z"
    }
   },
   "outputs": [],
   "source": [
    "import torch\n",
    "import numpy as np\n",
    "from torch import nn\n",
    "from tqdm.auto import tqdm\n",
    "from torchvision import transforms\n",
    "from torchvision.datasets import CelebA\n",
    "\n",
    "from torch.utils.data import DataLoader\n",
    "import matplotlib.pyplot as plt"
   ]
  },
  {
   "cell_type": "code",
   "execution_count": 3,
   "metadata": {
    "execution": {
     "iopub.execute_input": "2020-11-26T17:23:18.525386Z",
     "iopub.status.busy": "2020-11-26T17:23:18.525164Z",
     "iopub.status.idle": "2020-11-26T17:23:18.531853Z",
     "shell.execute_reply": "2020-11-26T17:23:18.530739Z",
     "shell.execute_reply.started": "2020-11-26T17:23:18.525352Z"
    }
   },
   "outputs": [],
   "source": [
    "from generator import Generator\n",
    "from gans_utils import show_tensor_images"
   ]
  },
  {
   "cell_type": "code",
   "execution_count": 4,
   "metadata": {
    "execution": {
     "iopub.execute_input": "2020-11-26T17:23:19.502177Z",
     "iopub.status.busy": "2020-11-26T17:23:19.501976Z",
     "iopub.status.idle": "2020-11-26T17:23:19.571860Z",
     "shell.execute_reply": "2020-11-26T17:23:19.571109Z",
     "shell.execute_reply.started": "2020-11-26T17:23:19.502156Z"
    }
   },
   "outputs": [],
   "source": [
    "z_dim = 64\n",
    "device = 'cpu'\n",
    "\n",
    "gen = Generator(z_dim).to(device)\n",
    "gen.load_state_dict(torch.load(f\"../../celeba/pretrained_celeba.pth\", map_location=torch.device(device))[\"gen\"])\n",
    "gen = gen.eval()"
   ]
  },
  {
   "cell_type": "markdown",
   "metadata": {},
   "source": [
    "### From LPIPS to PPL\n",
    "Perpetual path length builds directly on the LPIPS metric\n",
    "\n",
    "- StyleGAN does not operate directly on the randomly sampled laten vector\n",
    "- It learns a mapping $f$ from $z$ to $w$ - that is $f(z) = w$\n",
    "- ie there are two spaces over wich you can calculate PPL\n",
    "\n",
    "#### Linear Interpolation ($w$-space)\n",
    "For the $w$ space, PPL is defined as follows using linear interpolation.\n",
    "\n",
    "First, you sample two points in $w$-space, $w_1 = f(z_1)$ and $w_2 = f(z_2)$ - from randomly sampled points in $z$-space. For simplicity, we will let $f$ be the identity function"
   ]
  },
  {
   "cell_type": "code",
   "execution_count": 5,
   "metadata": {
    "execution": {
     "iopub.execute_input": "2020-11-26T17:23:22.655226Z",
     "iopub.status.busy": "2020-11-26T17:23:22.654966Z",
     "iopub.status.idle": "2020-11-26T17:23:22.660001Z",
     "shell.execute_reply": "2020-11-26T17:23:22.659260Z",
     "shell.execute_reply.started": "2020-11-26T17:23:22.655189Z"
    }
   },
   "outputs": [],
   "source": [
    "map_fn = nn.Identity()\n",
    "w_1, w_2 = map_fn(torch.randn(1, z_dim)), map_fn(torch.randn(1, z_dim))"
   ]
  },
  {
   "cell_type": "code",
   "execution_count": 6,
   "metadata": {
    "execution": {
     "iopub.execute_input": "2020-11-26T17:23:22.886223Z",
     "iopub.status.busy": "2020-11-26T17:23:22.885916Z",
     "iopub.status.idle": "2020-11-26T17:23:22.893197Z",
     "shell.execute_reply": "2020-11-26T17:23:22.892505Z",
     "shell.execute_reply.started": "2020-11-26T17:23:22.886190Z"
    }
   },
   "outputs": [
    {
     "data": {
      "text/plain": [
       "tensor([[-0.7205, -1.6847,  0.0128, -0.2560, -0.2029, -0.1019,  1.4497,  0.6856,\n",
       "         -1.4219, -0.0796,  2.2689, -1.3475,  0.2152,  1.5086,  0.9154,  0.2868,\n",
       "         -1.1332, -0.5811,  0.3696, -1.1742,  1.3489,  0.0813, -0.8726, -1.1079,\n",
       "         -1.0668,  0.6317, -0.1935, -1.0297, -0.8981, -0.5514, -0.3748, -0.4804,\n",
       "          0.8844, -0.6326, -0.3634, -0.2232, -0.3755, -1.7077,  1.1272, -1.2323,\n",
       "          0.6116, -0.4921, -0.8778,  0.1506,  1.5381, -0.6457, -1.1055, -1.9267,\n",
       "          0.3923,  0.3265, -0.4505,  0.2812, -1.4531, -1.0537,  0.0562,  1.6375,\n",
       "         -0.0779,  0.9646, -1.5910, -0.3198,  0.7092, -0.3452, -0.8008, -0.3188]])"
      ]
     },
     "execution_count": 6,
     "metadata": {},
     "output_type": "execute_result"
    }
   ],
   "source": [
    "x = torch.randn(1, z_dim)\n",
    "x"
   ]
  },
  {
   "cell_type": "code",
   "execution_count": 7,
   "metadata": {
    "execution": {
     "iopub.execute_input": "2020-11-26T17:23:23.094185Z",
     "iopub.status.busy": "2020-11-26T17:23:23.093979Z",
     "iopub.status.idle": "2020-11-26T17:23:23.100538Z",
     "shell.execute_reply": "2020-11-26T17:23:23.099860Z",
     "shell.execute_reply.started": "2020-11-26T17:23:23.094161Z"
    }
   },
   "outputs": [
    {
     "data": {
      "text/plain": [
       "tensor([[-0.7205, -1.6847,  0.0128, -0.2560, -0.2029, -0.1019,  1.4497,  0.6856,\n",
       "         -1.4219, -0.0796,  2.2689, -1.3475,  0.2152,  1.5086,  0.9154,  0.2868,\n",
       "         -1.1332, -0.5811,  0.3696, -1.1742,  1.3489,  0.0813, -0.8726, -1.1079,\n",
       "         -1.0668,  0.6317, -0.1935, -1.0297, -0.8981, -0.5514, -0.3748, -0.4804,\n",
       "          0.8844, -0.6326, -0.3634, -0.2232, -0.3755, -1.7077,  1.1272, -1.2323,\n",
       "          0.6116, -0.4921, -0.8778,  0.1506,  1.5381, -0.6457, -1.1055, -1.9267,\n",
       "          0.3923,  0.3265, -0.4505,  0.2812, -1.4531, -1.0537,  0.0562,  1.6375,\n",
       "         -0.0779,  0.9646, -1.5910, -0.3198,  0.7092, -0.3452, -0.8008, -0.3188]])"
      ]
     },
     "execution_count": 7,
     "metadata": {},
     "output_type": "execute_result"
    }
   ],
   "source": [
    "map_fn(x)"
   ]
  },
  {
   "cell_type": "markdown",
   "metadata": {
    "execution": {
     "iopub.execute_input": "2020-11-26T17:19:39.470866Z",
     "iopub.status.busy": "2020-11-26T17:19:39.470663Z",
     "iopub.status.idle": "2020-11-26T17:19:39.477340Z",
     "shell.execute_reply": "2020-11-26T17:19:39.476110Z",
     "shell.execute_reply.started": "2020-11-26T17:19:39.470845Z"
    }
   },
   "source": [
    "You will use your generator to produce two images interpolating between $w_1$ and $w_2$, where the amount of $w_1$ is $t$, one where the amount of $w_1$ is $t+\\epsilon$. You can think of $t$ as sampling a random point along the path interpolating between $w_1$ and $w_2$.\n",
    "\n",
    "You can use the `torch.lerp` function for linear interpolation, and sample a random $t$ uniformly from 0 to 1 using `torch.rand`. Also, here we can set $\\epsilon = 2 \\cdot 10^{-1}$ for visualization, even though in the StyleGAN paper $\\epsilon = 10^{-4}$."
   ]
  },
  {
   "cell_type": "code",
   "execution_count": 8,
   "metadata": {
    "execution": {
     "iopub.execute_input": "2020-11-26T17:23:23.494428Z",
     "iopub.status.busy": "2020-11-26T17:23:23.494203Z",
     "iopub.status.idle": "2020-11-26T17:23:23.582091Z",
     "shell.execute_reply": "2020-11-26T17:23:23.581196Z",
     "shell.execute_reply.started": "2020-11-26T17:23:23.494404Z"
    }
   },
   "outputs": [],
   "source": [
    "eps = 2e-1\n",
    "t = torch.rand(1)\n",
    "interpolated_1 = torch.lerp(w_1, w_2, t)\n",
    "interpolated_2 = torch.lerp(w_1, w_2, t + eps)\n",
    "y_1, y_2 = gen(interpolated_1), gen(interpolated_2)"
   ]
  },
  {
   "cell_type": "code",
   "execution_count": 9,
   "metadata": {
    "execution": {
     "iopub.execute_input": "2020-11-26T17:23:24.335806Z",
     "iopub.status.busy": "2020-11-26T17:23:24.335572Z",
     "iopub.status.idle": "2020-11-26T17:23:24.341221Z",
     "shell.execute_reply": "2020-11-26T17:23:24.340523Z",
     "shell.execute_reply.started": "2020-11-26T17:23:24.335782Z"
    }
   },
   "outputs": [
    {
     "data": {
      "text/plain": [
       "tensor([0.5445])"
      ]
     },
     "execution_count": 9,
     "metadata": {},
     "output_type": "execute_result"
    }
   ],
   "source": [
    "t"
   ]
  },
  {
   "cell_type": "code",
   "execution_count": 10,
   "metadata": {
    "execution": {
     "iopub.execute_input": "2020-11-26T17:23:24.862026Z",
     "iopub.status.busy": "2020-11-26T17:23:24.861816Z",
     "iopub.status.idle": "2020-11-26T17:23:25.180287Z",
     "shell.execute_reply": "2020-11-26T17:23:25.179453Z",
     "shell.execute_reply.started": "2020-11-26T17:23:24.862003Z"
    }
   },
   "outputs": [
    {
     "data": {
      "image/png": "[encoded data removed]",
      "text/plain": [
       "<Figure size 432x288 with 1 Axes>"
      ]
     },
     "metadata": {
      "needs_background": "light"
     },
     "output_type": "display_data"
    },
    {
     "name": "stdout",
     "output_type": "stream",
     "text": [
      "Image LPIPS is 0.2343052625656128\n"
     ]
    }
   ],
   "source": [
    "show_tensor_images(torch.cat([y_1, y_2]))\n",
    "cur_lpips = loss_fn_vgg(y_1, y_2).item()\n",
    "print(f'Image LPIPS is {cur_lpips}')"
   ]
  },
  {
   "cell_type": "markdown",
   "metadata": {},
   "source": [
    "Finally, you need to account for the impact of different values of $\\epsilon$, so that the perceptual path length converges $\\epsilon\\rightarrow \\infty$. In order to do this, PPL divides by $\\epsilon^2$"
   ]
  },
  {
   "cell_type": "code",
   "execution_count": 11,
   "metadata": {
    "execution": {
     "iopub.execute_input": "2020-11-26T17:31:05.755585Z",
     "iopub.status.busy": "2020-11-26T17:31:05.755338Z",
     "iopub.status.idle": "2020-11-26T17:31:05.759932Z",
     "shell.execute_reply": "2020-11-26T17:31:05.759220Z",
     "shell.execute_reply.started": "2020-11-26T17:31:05.755564Z"
    }
   },
   "outputs": [
    {
     "name": "stdout",
     "output_type": "stream",
     "text": [
      "Our final sample PPL is 5.857631564140319\n"
     ]
    }
   ],
   "source": [
    "ppl = cur_lpips / (eps ** 2)\n",
    "print(f'Our final sample PPL is {ppl}')"
   ]
  },
  {
   "cell_type": "markdown",
   "metadata": {
    "execution": {
     "iopub.execute_input": "2020-11-26T17:35:16.941942Z",
     "iopub.status.busy": "2020-11-26T17:35:16.941704Z",
     "iopub.status.idle": "2020-11-26T17:35:16.947633Z",
     "shell.execute_reply": "2020-11-26T17:35:16.946206Z",
     "shell.execute_reply.started": "2020-11-26T17:35:16.941920Z"
    }
   },
   "source": [
    "$$PPL_w = \\mathbb{E}\\left[\\frac{1}{\\epsilon^2}\n",
    "d_{LPIPS}\\left(G(lerp(w_1, w_2, t)),  G(lerp(w_1, w_2, t+\\epsilon))\\right)\n",
    "\\right]$$\n",
    "\n",
    "You'll notice the expectation symbol: that's because this is all repeated many times in order to approximate PPL."
   ]
  },
  {
   "cell_type": "code",
   "execution_count": 13,
   "metadata": {
    "execution": {
     "iopub.execute_input": "2020-11-26T18:51:28.104736Z",
     "iopub.status.busy": "2020-11-26T18:51:28.104527Z",
     "iopub.status.idle": "2020-11-26T18:51:29.100705Z",
     "shell.execute_reply": "2020-11-26T18:51:29.099809Z",
     "shell.execute_reply.started": "2020-11-26T18:51:28.104714Z"
    }
   },
   "outputs": [
    {
     "name": "stdout",
     "output_type": "stream",
     "text": [
      "PPL_w: 9.232742309570312\n"
     ]
    }
   ],
   "source": [
    "def ppl_w(gen, map_fn, num_samples=10, eps=1e-4):\n",
    "    \"\"\"\n",
    "    Perceptual paath length function: combines the above steps into on PPL function\n",
    "    \"\"\"\n",
    "    # Sample of a batch of num_samples pairs of points\n",
    "    w_1 = map_fn(torch.randn(num_samples, z_dim))\n",
    "    w_2 = map_fn(torch.randn(num_samples, z_dim))\n",
    "    \n",
    "    # Sample num saples points along the interpolated lines\n",
    "    t = torch.randn(num_samples)[:, None]\n",
    "    # Interpolate between the points\n",
    "    interpolated_1 = torch.lerp(w_1, w_2, t)\n",
    "    interpolated_2 = torch.lerp(w_1, w_2, t + eps)\n",
    "    # Generated the interpolated images\n",
    "    y_1, y_2 = gen(interpolated_1), gen(interpolated_2)\n",
    "    # Calculate teh per sample LPIPS\n",
    "    cur_lpips = loss_fn_vgg(y_1, y_2)\n",
    "    # Calculate the PPL from the LPIPS\n",
    "    ppl = cur_lpips / (eps ** 2)\n",
    "    \n",
    "    return ppl.mean()\n",
    "\n",
    "print(f'PPL_w: {ppl_w(gen, nn.Identity()).item()}')"
   ]
  },
  {
   "cell_type": "markdown",
   "metadata": {
    "execution": {
     "iopub.execute_input": "2020-11-26T18:53:38.319728Z",
     "iopub.status.busy": "2020-11-26T18:53:38.319509Z",
     "iopub.status.idle": "2020-11-26T18:53:38.327329Z",
     "shell.execute_reply": "2020-11-26T18:53:38.326054Z",
     "shell.execute_reply.started": "2020-11-26T18:53:38.319704Z"
    }
   },
   "source": [
    "#### Spherical Interpolation (z-space)\n",
    "- Sample points in $z$ from a Gaussian, use spherical interpolation instead of linear interpolation to interpolate $z$-space\n",
    "- Use `scipy.spatial.geometric_slerp`\n",
    "\n",
    "$$slerp(z_1, z_2, t) = \\frac{\\sin[(1 - t) \\cdot \\Omega]}{\\sin\\Omega} z_1 + \\frac{\\sin[t \\cdot \\Omega]}{\\sin\\Omega} z_2$$\n",
    "\n",
    "where $ \\Omega = \\cos^{-1}(\\mathrm{dot}(\\bar{z}_1, \\bar{z}_2))$ and $\\bar{x}$ denotes the normalized version of x."
   ]
  },
  {
   "cell_type": "code",
   "execution_count": 15,
   "metadata": {
    "execution": {
     "iopub.execute_input": "2020-11-26T18:55:56.903521Z",
     "iopub.status.busy": "2020-11-26T18:55:56.903231Z",
     "iopub.status.idle": "2020-11-26T18:55:56.910435Z",
     "shell.execute_reply": "2020-11-26T18:55:56.909352Z",
     "shell.execute_reply.started": "2020-11-26T18:55:56.903484Z"
    }
   },
   "outputs": [],
   "source": [
    "def normalize(x):\n",
    "    return x / torch.norm(x, dim=1)[:, None]\n",
    "\n",
    "def get_omega(x, y):\n",
    "    return torch.acos((normalize(x) * normalize(y)).sum(1))\n",
    "\n",
    "def slerp(x, y, t):\n",
    "    omega = get_omega(x, y)[:, None]\n",
    "    c1 = torch.sin(omega * (1-t)) / torch.sin(omega)\n",
    "    c2 = torch.sin(omega * t) / torch.sin(omega)\n",
    "    return c1 * x + c2 * y"
   ]
  },
  {
   "cell_type": "code",
   "execution_count": 18,
   "metadata": {
    "execution": {
     "iopub.execute_input": "2020-11-26T19:04:12.286437Z",
     "iopub.status.busy": "2020-11-26T19:04:12.286208Z",
     "iopub.status.idle": "2020-11-26T19:04:13.199744Z",
     "shell.execute_reply": "2020-11-26T19:04:13.199037Z",
     "shell.execute_reply.started": "2020-11-26T19:04:12.286413Z"
    }
   },
   "outputs": [
    {
     "name": "stdout",
     "output_type": "stream",
     "text": [
      "PPL_z: 18.534107208251953\n"
     ]
    }
   ],
   "source": [
    "def ppl_z(gen, num_samples=10, eps=1e-4):\n",
    "    \n",
    "    # Sample of a batch of num_samples pairs of points\n",
    "    z_1 = torch.randn(num_samples, z_dim)\n",
    "    z_2 = torch.randn(num_samples, z_dim)\n",
    "    \n",
    "    # Sample num_samples points along the interpolated lines\n",
    "    t = torch.rand(num_samples)[:, None]\n",
    "    \n",
    "    # Interpolate between the points\n",
    "    interpolated_1 = slerp(z_1, z_2, t)\n",
    "    interpolated_2 = slerp(z_1, z_2, t + eps)\n",
    "    \n",
    "    # Generated the interpolated images\n",
    "    y_1, y_2 = gen(interpolated_1), gen(interpolated_2)\n",
    "    \n",
    "    # Calculate the per-sample LPIPS\n",
    "    cur_lpips = loss_fn_vgg(y_1, y_2)\n",
    "    \n",
    "    # Calculate the PPL from the LPIPS\n",
    "    ppl = cur_lpips / (eps ** 2)\n",
    "    \n",
    "    return ppl.mean()\n",
    "\n",
    "print(f'PPL_z: {ppl_z(gen).item()}')"
   ]
  },
  {
   "cell_type": "code",
   "execution_count": null,
   "metadata": {},
   "outputs": [],
   "source": []
  }
 ],
 "metadata": {
  "kernelspec": {
   "display_name": "Python 3",
   "language": "python",
   "name": "python3"
  },
  "language_info": {
   "codemirror_mode": {
    "name": "ipython",
    "version": 3
   },
   "file_extension": ".py",
   "mimetype": "text/x-python",
   "name": "python",
   "nbconvert_exporter": "python",
   "pygments_lexer": "ipython3",
   "version": "3.8.3"
  }
 },
 "nbformat": 4,
 "nbformat_minor": 4
}
