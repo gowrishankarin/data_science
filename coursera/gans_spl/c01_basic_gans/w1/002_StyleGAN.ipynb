{
 "cells": [
  {
   "cell_type": "markdown",
   "metadata": {},
   "source": [
    "# Pre-trained Model Exploration\n",
    "\n",
    "- Explore some generative models in action\n",
    "\n",
    "## StyleGAN - Faces"
   ]
  },
  {
   "cell_type": "code",
   "execution_count": null,
   "metadata": {},
   "outputs": [],
   "source": [
    "!git clone https://github.com/NVlabs/stylegan.git\n",
    "# conda activate aihub_tf1"
   ]
  },
  {
   "cell_type": "code",
   "execution_count": 1,
   "metadata": {
    "execution": {
     "iopub.execute_input": "2020-11-03T16:14:49.508129Z",
     "iopub.status.busy": "2020-11-03T16:14:49.507868Z",
     "iopub.status.idle": "2020-11-03T16:14:49.620897Z",
     "shell.execute_reply": "2020-11-03T16:14:49.620074Z",
     "shell.execute_reply.started": "2020-11-03T16:14:49.508100Z"
    }
   },
   "outputs": [],
   "source": [
    "import os\n",
    "import pickle\n",
    "import warnings\n",
    "import numpy as np\n",
    "import PIL"
   ]
  },
  {
   "cell_type": "code",
   "execution_count": 2,
   "metadata": {
    "execution": {
     "iopub.execute_input": "2020-11-03T16:14:49.916131Z",
     "iopub.status.busy": "2020-11-03T16:14:49.915870Z",
     "iopub.status.idle": "2020-11-03T16:14:52.237236Z",
     "shell.execute_reply": "2020-11-03T16:14:52.236502Z",
     "shell.execute_reply.started": "2020-11-03T16:14:49.916102Z"
    }
   },
   "outputs": [],
   "source": [
    "from tensorflow.python.util import module_wrapper\n",
    "module_wrapper._PER_MODULE_WARNING_LIMIT = 0"
   ]
  },
  {
   "cell_type": "code",
   "execution_count": 3,
   "metadata": {
    "execution": {
     "iopub.execute_input": "2020-11-03T16:14:52.238923Z",
     "iopub.status.busy": "2020-11-03T16:14:52.238704Z",
     "iopub.status.idle": "2020-11-03T16:14:52.274729Z",
     "shell.execute_reply": "2020-11-03T16:14:52.273950Z",
     "shell.execute_reply.started": "2020-11-03T16:14:52.238895Z"
    }
   },
   "outputs": [],
   "source": [
    "import stylegan\n",
    "from stylegan.dnnlib import tflib\n",
    "from stylegan import config\n",
    "\n",
    "tflib.init_tf()\n",
    "\n",
    "# Move into the StyleGAN directory, if you're not in it already\n",
    "path = 'stylegan/'\n",
    "if \"stylegan\" not in os.getcwd():\n",
    "    os.chdir(path)"
   ]
  },
  {
   "cell_type": "code",
   "execution_count": 4,
   "metadata": {
    "execution": {
     "iopub.execute_input": "2020-11-03T16:15:49.094102Z",
     "iopub.status.busy": "2020-11-03T16:15:49.093795Z",
     "iopub.status.idle": "2020-11-03T16:23:18.398936Z",
     "shell.execute_reply": "2020-11-03T16:23:18.398090Z",
     "shell.execute_reply.started": "2020-11-03T16:15:49.094070Z"
    }
   },
   "outputs": [
    {
     "name": "stdout",
     "output_type": "stream",
     "text": [
      "Downloading https://bitbucket.org/ezelikman/gans/downloads/karras2019stylegan-ffhq-1024x1024.pkl ... done\n",
      "WARNING:tensorflow:From <string>:364: where (from tensorflow.python.ops.array_ops) is deprecated and will be removed in a future version.\n",
      "Instructions for updating:\n",
      "Use tf.where in 2.0, which has the same broadcast rule as np.where\n",
      "StyleGAN package loaded successfully!\n"
     ]
    }
   ],
   "source": [
    "# Load pre-trained StyleGAN network\n",
    "url = 'https://bitbucket.org/ezelikman/gans/downloads/karras2019stylegan-ffhq-1024x1024.pkl' # karras2019stylegan-ffhq-1024x1024.pkl\n",
    "with stylegan.dnnlib.util.open_url(url, cache_dir=stylegan.config.cache_dir) as f:\n",
    "    # You'll load 3 components, and use the last one Gs for sampling images.\n",
    "    #   _G = Instantaneous snapshot of the generator. Mainly useful for resuming a previous training run.\n",
    "    #   _D = Instantaneous snapshot of the discriminator. Mainly useful for resuming a previous training run.\n",
    "    #   Gs = Long-term average of the generator. Yields higher-quality results than the instantaneous snapshot.\n",
    "    _G, _D, Gs = pickle.load(f)\n",
    "\n",
    "    print('StyleGAN package loaded successfully!')"
   ]
  },
  {
   "cell_type": "code",
   "execution_count": 5,
   "metadata": {
    "execution": {
     "iopub.execute_input": "2020-11-03T16:23:18.400940Z",
     "iopub.status.busy": "2020-11-03T16:23:18.400550Z",
     "iopub.status.idle": "2020-11-03T16:23:18.406046Z",
     "shell.execute_reply": "2020-11-03T16:23:18.404776Z",
     "shell.execute_reply.started": "2020-11-03T16:23:18.400905Z"
    }
   },
   "outputs": [
    {
     "name": "stdout",
     "output_type": "stream",
     "text": [
      "Truncation set to 0.7. \n",
      "Now run the cells below to generate images with this truncation value.\n"
     ]
    }
   ],
   "source": [
    "#@title Generate faces with StyleGAN\n",
    "#@markdown Double click here to see the code. After setting truncation, run the cells below to generate images. This adjusts the truncation, you will learn more about this soon! Truncation trades off fidelity (quality) and diversity of the generated images - play with it!\n",
    "\n",
    "Truncation = 0.7 #@param {type:\"slider\", min:0.1, max:1, step:0.1}\n",
    "\n",
    "print(f'Truncation set to {Truncation}. \\nNow run the cells below to generate images with this truncation value.')"
   ]
  },
  {
   "cell_type": "code",
   "execution_count": 6,
   "metadata": {
    "execution": {
     "iopub.execute_input": "2020-11-03T16:23:18.411112Z",
     "iopub.status.busy": "2020-11-03T16:23:18.410563Z",
     "iopub.status.idle": "2020-11-03T16:23:18.419367Z",
     "shell.execute_reply": "2020-11-03T16:23:18.417871Z",
     "shell.execute_reply.started": "2020-11-03T16:23:18.411036Z"
    }
   },
   "outputs": [
    {
     "name": "stdout",
     "output_type": "stream",
     "text": [
      "Random state is set.\n"
     ]
    }
   ],
   "source": [
    "# Set the random state. Nothing special about 42,\n",
    "#   except that it's the meaning of life.\n",
    "rnd = np.random.RandomState(42)\n",
    "\n",
    "print(f'Random state is set.')"
   ]
  },
  {
   "cell_type": "code",
   "execution_count": 7,
   "metadata": {
    "execution": {
     "iopub.execute_input": "2020-11-03T16:23:18.422644Z",
     "iopub.status.busy": "2020-11-03T16:23:18.422333Z",
     "iopub.status.idle": "2020-11-03T16:23:18.427459Z",
     "shell.execute_reply": "2020-11-03T16:23:18.426363Z",
     "shell.execute_reply.started": "2020-11-03T16:23:18.422606Z"
    }
   },
   "outputs": [
    {
     "name": "stdout",
     "output_type": "stream",
     "text": [
      "Batch size is 4...\n"
     ]
    }
   ],
   "source": [
    "batch_size = 4 #@param {type:\"slider\", min:1, max:10, step:1}\n",
    "\n",
    "print(f'Batch size is {batch_size}...')"
   ]
  },
  {
   "cell_type": "markdown",
   "metadata": {},
   "source": [
    "- Noise vectors make sure the generated images are randomly - stochastically different, not all the same\n",
    "- There is a noise vector for each image in the batch\n",
    "- Run the next cell to get new noise vectors and asa result new images"
   ]
  },
  {
   "cell_type": "code",
   "execution_count": 10,
   "metadata": {
    "execution": {
     "iopub.execute_input": "2020-11-03T16:31:17.880827Z",
     "iopub.status.busy": "2020-11-03T16:31:17.880585Z",
     "iopub.status.idle": "2020-11-03T16:31:17.885213Z",
     "shell.execute_reply": "2020-11-03T16:31:17.884264Z",
     "shell.execute_reply.started": "2020-11-03T16:31:17.880799Z"
    }
   },
   "outputs": [
    {
     "name": "stdout",
     "output_type": "stream",
     "text": [
      "There are 4 noise vectors, each with 512 random values between -0.7 and 0.7.\n"
     ]
    }
   ],
   "source": [
    "input_shape = Gs.input_shape[1]\n",
    "noise_vectors = rnd.randn(batch_size, input_shape)\n",
    "\n",
    "print(f'There are {noise_vectors.shape[0]} noise vectors, each with {noise_vectors.shape[1]} random values between -{Truncation} and {Truncation}.')"
   ]
  },
  {
   "cell_type": "markdown",
   "metadata": {},
   "source": [
    "- Run the model to generate the images\n",
    "- Notice that truncation and noise vectors are passed in\n",
    "- Focus on output formats and adding additional randomness/diversity to the output"
   ]
  },
  {
   "cell_type": "code",
   "execution_count": 12,
   "metadata": {
    "execution": {
     "iopub.execute_input": "2020-11-03T16:41:08.161612Z",
     "iopub.status.busy": "2020-11-03T16:41:08.161360Z",
     "iopub.status.idle": "2020-11-03T16:41:08.166651Z",
     "shell.execute_reply": "2020-11-03T16:41:08.165708Z",
     "shell.execute_reply.started": "2020-11-03T16:41:08.161584Z"
    }
   },
   "outputs": [
    {
     "name": "stdout",
     "output_type": "stream",
     "text": [
      "Successfully sampled 4 images from the model.\n"
     ]
    }
   ],
   "source": [
    "fmt = dict(func=tflib.convert_images_from_uint8, nchw_to_nhwc=True)\n",
    "images = Gs.run(noise_vectors, None, truncation_psi=Truncation, randomize_noise=False, ouput_tranform=fmt)\n",
    "\n",
    "print(f'Successfully sampled {batch_size} images from the model.')"
   ]
  },
  {
   "cell_type": "code",
   "execution_count": null,
   "metadata": {},
   "outputs": [],
   "source": [
    "os.makedires(config.result_dir, exist_ok=True)\n",
    "png_filename = os.path.join(config.result_dir, 'stylegan-example.png')\n",
    "\n",
    "if(batch_size > 1):\n",
    "    img = np.concatenate(images, axis=1)\n",
    "else:\n",
    "    img = images[0]\n",
    "    \n",
    "PIL.Image.fromarray(img, 'RGB').save(png_filename)\n",
    "\n",
    "# Check the images out\n",
    "from IPython.display import Image\n",
    "Image(png_filename, width=256*batch_size, height=256)"
   ]
  },
  {
   "cell_type": "markdown",
   "metadata": {
    "execution": {
     "iopub.execute_input": "2020-11-03T16:45:46.091162Z",
     "iopub.status.busy": "2020-11-03T16:45:46.090904Z",
     "iopub.status.idle": "2020-11-03T16:45:46.105245Z",
     "shell.execute_reply": "2020-11-03T16:45:46.103532Z",
     "shell.execute_reply.started": "2020-11-03T16:45:46.091133Z"
    }
   },
   "source": []
  },
  {
   "cell_type": "code",
   "execution_count": 18,
   "metadata": {
    "execution": {
     "iopub.execute_input": "2020-11-03T17:02:48.069576Z",
     "iopub.status.busy": "2020-11-03T17:02:48.069250Z",
     "iopub.status.idle": "2020-11-03T17:02:48.086493Z",
     "shell.execute_reply": "2020-11-03T17:02:48.085476Z",
     "shell.execute_reply.started": "2020-11-03T17:02:48.069532Z"
    }
   },
   "outputs": [
    {
     "ename": "ModuleNotFoundError",
     "evalue": "No module named 'tensorflow_hub'",
     "output_type": "error",
     "traceback": [
      "\u001b[0;31m---------------------------------------------------------------------------\u001b[0m",
      "\u001b[0;31mModuleNotFoundError\u001b[0m                       Traceback (most recent call last)",
      "\u001b[0;32m<ipython-input-18-9c314edc60cf>\u001b[0m in \u001b[0;36m<module>\u001b[0;34m\u001b[0m\n\u001b[1;32m      9\u001b[0m \u001b[0;32mimport\u001b[0m \u001b[0mIPython\u001b[0m\u001b[0;34m.\u001b[0m\u001b[0mdisplay\u001b[0m\u001b[0;34m\u001b[0m\u001b[0;34m\u001b[0m\u001b[0m\n\u001b[1;32m     10\u001b[0m \u001b[0;32mimport\u001b[0m \u001b[0mtensorflow\u001b[0m \u001b[0;32mas\u001b[0m \u001b[0mtf\u001b[0m\u001b[0;34m\u001b[0m\u001b[0;34m\u001b[0m\u001b[0m\n\u001b[0;32m---> 11\u001b[0;31m \u001b[0;32mimport\u001b[0m \u001b[0mtensorflow_hub\u001b[0m \u001b[0;32mas\u001b[0m \u001b[0mhub\u001b[0m\u001b[0;34m\u001b[0m\u001b[0;34m\u001b[0m\u001b[0m\n\u001b[0m\u001b[1;32m     12\u001b[0m \u001b[0;34m\u001b[0m\u001b[0m\n\u001b[1;32m     13\u001b[0m \u001b[0mprint\u001b[0m\u001b[0;34m(\u001b[0m\u001b[0;34mf'Successfully imported packages.'\u001b[0m\u001b[0;34m)\u001b[0m\u001b[0;34m\u001b[0m\u001b[0;34m\u001b[0m\u001b[0m\n",
      "\u001b[0;31mModuleNotFoundError\u001b[0m: No module named 'tensorflow_hub'"
     ]
    }
   ],
   "source": []
  },
  {
   "cell_type": "code",
   "execution_count": null,
   "metadata": {},
   "outputs": [],
   "source": []
  }
 ],
 "metadata": {
  "kernelspec": {
   "display_name": "Python 3",
   "language": "python",
   "name": "python3"
  },
  "language_info": {
   "codemirror_mode": {
    "name": "ipython",
    "version": 3
   },
   "file_extension": ".py",
   "mimetype": "text/x-python",
   "name": "python",
   "nbconvert_exporter": "python",
   "pygments_lexer": "ipython3",
   "version": "3.7.7"
  }
 },
 "nbformat": 4,
 "nbformat_minor": 4
}
