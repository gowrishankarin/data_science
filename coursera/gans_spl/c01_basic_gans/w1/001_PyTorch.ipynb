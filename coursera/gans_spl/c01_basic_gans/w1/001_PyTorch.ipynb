{
 "cells": [
  {
   "cell_type": "markdown",
   "metadata": {},
   "source": [
    "# PyTorch Intro\n",
    "\n",
    "### Why PyTorch?\n",
    "[the Gradient](https://thegradient.pub/state-of-ml-frameworks-2019-pytorch-dominates-research-tensorflow-dominates-industry/)\n",
    "\n",
    "## Tensor Properties"
   ]
  },
  {
   "cell_type": "code",
   "execution_count": 2,
   "metadata": {
    "execution": {
     "iopub.execute_input": "2020-11-02T18:29:40.368090Z",
     "iopub.status.busy": "2020-11-02T18:29:40.367846Z",
     "iopub.status.idle": "2020-11-02T18:29:52.350623Z",
     "shell.execute_reply": "2020-11-02T18:29:52.349924Z",
     "shell.execute_reply.started": "2020-11-02T18:29:40.368062Z"
    }
   },
   "outputs": [],
   "source": [
    "import torch"
   ]
  },
  {
   "cell_type": "code",
   "execution_count": 3,
   "metadata": {
    "execution": {
     "iopub.execute_input": "2020-11-02T18:30:26.850693Z",
     "iopub.status.busy": "2020-11-02T18:30:26.850447Z",
     "iopub.status.idle": "2020-11-02T18:30:26.864240Z",
     "shell.execute_reply": "2020-11-02T18:30:26.863405Z",
     "shell.execute_reply.started": "2020-11-02T18:30:26.850667Z"
    }
   },
   "outputs": [
    {
     "data": {
      "text/plain": [
       "tensor([[[1., 2.],\n",
       "         [3., 4.]],\n",
       "\n",
       "        [[5., 6.],\n",
       "         [7., 8.]],\n",
       "\n",
       "        [[9., 0.],\n",
       "         [1., 2.]]])"
      ]
     },
     "execution_count": 3,
     "metadata": {},
     "output_type": "execute_result"
    }
   ],
   "source": [
    "example_tensor = torch.Tensor(\n",
    "    [\n",
    "     [[1, 2], [3, 4]], \n",
    "     [[5, 6], [7, 8]], \n",
    "     [[9, 0], [1, 2]]\n",
    "    ]\n",
    ")\n",
    "example_tensor"
   ]
  },
  {
   "cell_type": "code",
   "execution_count": 4,
   "metadata": {
    "execution": {
     "iopub.execute_input": "2020-11-02T18:30:50.371941Z",
     "iopub.status.busy": "2020-11-02T18:30:50.371693Z",
     "iopub.status.idle": "2020-11-02T18:30:50.376477Z",
     "shell.execute_reply": "2020-11-02T18:30:50.375714Z",
     "shell.execute_reply.started": "2020-11-02T18:30:50.371916Z"
    }
   },
   "outputs": [
    {
     "data": {
      "text/plain": [
       "device(type='cpu')"
      ]
     },
     "execution_count": 4,
     "metadata": {},
     "output_type": "execute_result"
    }
   ],
   "source": [
    "example_tensor.device"
   ]
  },
  {
   "cell_type": "code",
   "execution_count": 5,
   "metadata": {
    "execution": {
     "iopub.execute_input": "2020-11-02T18:31:41.448190Z",
     "iopub.status.busy": "2020-11-02T18:31:41.447976Z",
     "iopub.status.idle": "2020-11-02T18:31:41.452626Z",
     "shell.execute_reply": "2020-11-02T18:31:41.451840Z",
     "shell.execute_reply.started": "2020-11-02T18:31:41.448169Z"
    }
   },
   "outputs": [
    {
     "data": {
      "text/plain": [
       "torch.Size([3, 2, 2])"
      ]
     },
     "execution_count": 5,
     "metadata": {},
     "output_type": "execute_result"
    }
   ],
   "source": [
    "example_tensor.shape"
   ]
  },
  {
   "cell_type": "code",
   "execution_count": 6,
   "metadata": {
    "execution": {
     "iopub.execute_input": "2020-11-02T18:32:29.106483Z",
     "iopub.status.busy": "2020-11-02T18:32:29.106227Z",
     "iopub.status.idle": "2020-11-02T18:32:29.111420Z",
     "shell.execute_reply": "2020-11-02T18:32:29.110375Z",
     "shell.execute_reply.started": "2020-11-02T18:32:29.106457Z"
    }
   },
   "outputs": [
    {
     "name": "stdout",
     "output_type": "stream",
     "text": [
      "shape[0] = 3\n",
      "size(1) = 2\n"
     ]
    }
   ],
   "source": [
    "print(\"shape[0] =\", example_tensor.shape[0])\n",
    "print(\"size(1) =\", example_tensor.size(1))"
   ]
  },
  {
   "cell_type": "code",
   "execution_count": 7,
   "metadata": {
    "execution": {
     "iopub.execute_input": "2020-11-02T18:33:01.066639Z",
     "iopub.status.busy": "2020-11-02T18:33:01.066384Z",
     "iopub.status.idle": "2020-11-02T18:33:01.070951Z",
     "shell.execute_reply": "2020-11-02T18:33:01.070157Z",
     "shell.execute_reply.started": "2020-11-02T18:33:01.066614Z"
    }
   },
   "outputs": [
    {
     "name": "stdout",
     "output_type": "stream",
     "text": [
      "Rank = 3\n",
      "Number of elements = 12\n"
     ]
    }
   ],
   "source": [
    "print(\"Rank =\", len(example_tensor.shape))\n",
    "print(\"Number of elements =\", example_tensor.numel())"
   ]
  },
  {
   "cell_type": "markdown",
   "metadata": {},
   "source": [
    "### Initializing Tensors"
   ]
  },
  {
   "cell_type": "code",
   "execution_count": 8,
   "metadata": {
    "execution": {
     "iopub.execute_input": "2020-11-02T18:34:06.226722Z",
     "iopub.status.busy": "2020-11-02T18:34:06.226466Z",
     "iopub.status.idle": "2020-11-02T18:34:06.232065Z",
     "shell.execute_reply": "2020-11-02T18:34:06.231356Z",
     "shell.execute_reply.started": "2020-11-02T18:34:06.226696Z"
    }
   },
   "outputs": [
    {
     "data": {
      "text/plain": [
       "tensor([[[1., 1.],\n",
       "         [1., 1.]],\n",
       "\n",
       "        [[1., 1.],\n",
       "         [1., 1.]],\n",
       "\n",
       "        [[1., 1.],\n",
       "         [1., 1.]]])"
      ]
     },
     "execution_count": 8,
     "metadata": {},
     "output_type": "execute_result"
    }
   ],
   "source": [
    "torch.ones_like(example_tensor)"
   ]
  },
  {
   "cell_type": "code",
   "execution_count": 9,
   "metadata": {
    "execution": {
     "iopub.execute_input": "2020-11-02T18:34:22.391748Z",
     "iopub.status.busy": "2020-11-02T18:34:22.391465Z",
     "iopub.status.idle": "2020-11-02T18:34:22.397381Z",
     "shell.execute_reply": "2020-11-02T18:34:22.396611Z",
     "shell.execute_reply.started": "2020-11-02T18:34:22.391721Z"
    }
   },
   "outputs": [
    {
     "data": {
      "text/plain": [
       "tensor([[[0., 0.],\n",
       "         [0., 0.]],\n",
       "\n",
       "        [[0., 0.],\n",
       "         [0., 0.]],\n",
       "\n",
       "        [[0., 0.],\n",
       "         [0., 0.]]])"
      ]
     },
     "execution_count": 9,
     "metadata": {},
     "output_type": "execute_result"
    }
   ],
   "source": [
    "torch.zeros_like(example_tensor)"
   ]
  },
  {
   "cell_type": "code",
   "execution_count": 10,
   "metadata": {
    "execution": {
     "iopub.execute_input": "2020-11-02T18:35:07.632039Z",
     "iopub.status.busy": "2020-11-02T18:35:07.631769Z",
     "iopub.status.idle": "2020-11-02T18:35:07.638313Z",
     "shell.execute_reply": "2020-11-02T18:35:07.637589Z",
     "shell.execute_reply.started": "2020-11-02T18:35:07.632004Z"
    }
   },
   "outputs": [
    {
     "data": {
      "text/plain": [
       "tensor([[[-0.7398, -1.0145],\n",
       "         [ 0.0854, -0.5984]],\n",
       "\n",
       "        [[-0.2352, -0.2661],\n",
       "         [-0.8248, -0.7447]],\n",
       "\n",
       "        [[-0.8401, -0.3857],\n",
       "         [-1.6909,  0.4557]]])"
      ]
     },
     "execution_count": 10,
     "metadata": {},
     "output_type": "execute_result"
    }
   ],
   "source": [
    "torch.randn_like(example_tensor)"
   ]
  },
  {
   "cell_type": "code",
   "execution_count": 11,
   "metadata": {
    "execution": {
     "iopub.execute_input": "2020-11-02T18:35:18.277247Z",
     "iopub.status.busy": "2020-11-02T18:35:18.277027Z",
     "iopub.status.idle": "2020-11-02T18:35:18.283201Z",
     "shell.execute_reply": "2020-11-02T18:35:18.282371Z",
     "shell.execute_reply.started": "2020-11-02T18:35:18.277225Z"
    }
   },
   "outputs": [
    {
     "data": {
      "text/plain": [
       "tensor([[ 0.8383,  1.7842],\n",
       "        [-0.1754,  2.1677]])"
      ]
     },
     "execution_count": 11,
     "metadata": {},
     "output_type": "execute_result"
    }
   ],
   "source": [
    "torch.randn(2, 2, device='cpu') # Alternatively, for a GPU tensor, you'd use device='cuda'"
   ]
  },
  {
   "cell_type": "markdown",
   "metadata": {},
   "source": [
    "### Basic Functions"
   ]
  },
  {
   "cell_type": "code",
   "execution_count": 12,
   "metadata": {
    "execution": {
     "iopub.execute_input": "2020-11-02T18:37:08.246910Z",
     "iopub.status.busy": "2020-11-02T18:37:08.246661Z",
     "iopub.status.idle": "2020-11-02T18:37:08.253137Z",
     "shell.execute_reply": "2020-11-02T18:37:08.252320Z",
     "shell.execute_reply.started": "2020-11-02T18:37:08.246884Z"
    }
   },
   "outputs": [
    {
     "data": {
      "text/plain": [
       "tensor([[[ -8.,  -6.],\n",
       "         [ -4.,  -2.]],\n",
       "\n",
       "        [[  0.,   2.],\n",
       "         [  4.,   6.]],\n",
       "\n",
       "        [[  8., -10.],\n",
       "         [ -8.,  -6.]]])"
      ]
     },
     "execution_count": 12,
     "metadata": {},
     "output_type": "execute_result"
    }
   ],
   "source": [
    "(example_tensor - 5) * 2"
   ]
  },
  {
   "cell_type": "code",
   "execution_count": 13,
   "metadata": {
    "execution": {
     "iopub.execute_input": "2020-11-02T18:37:19.565955Z",
     "iopub.status.busy": "2020-11-02T18:37:19.565741Z",
     "iopub.status.idle": "2020-11-02T18:37:19.572256Z",
     "shell.execute_reply": "2020-11-02T18:37:19.571390Z",
     "shell.execute_reply.started": "2020-11-02T18:37:19.565933Z"
    }
   },
   "outputs": [
    {
     "name": "stdout",
     "output_type": "stream",
     "text": [
      "Mean: tensor(4.)\n",
      "Stdev: tensor(2.9848)\n"
     ]
    }
   ],
   "source": [
    "print(\"Mean:\", example_tensor.mean())\n",
    "print(\"Stdev:\", example_tensor.std())"
   ]
  },
  {
   "cell_type": "code",
   "execution_count": 16,
   "metadata": {
    "execution": {
     "iopub.execute_input": "2020-11-02T18:39:49.120593Z",
     "iopub.status.busy": "2020-11-02T18:39:49.120360Z",
     "iopub.status.idle": "2020-11-02T18:39:49.126727Z",
     "shell.execute_reply": "2020-11-02T18:39:49.125788Z",
     "shell.execute_reply.started": "2020-11-02T18:39:49.120567Z"
    }
   },
   "outputs": [
    {
     "data": {
      "text/plain": [
       "tensor([[[1., 2.],\n",
       "         [3., 4.]],\n",
       "\n",
       "        [[5., 6.],\n",
       "         [7., 8.]],\n",
       "\n",
       "        [[9., 0.],\n",
       "         [1., 2.]]])"
      ]
     },
     "execution_count": 16,
     "metadata": {},
     "output_type": "execute_result"
    }
   ],
   "source": [
    "example_tensor"
   ]
  },
  {
   "cell_type": "code",
   "execution_count": 14,
   "metadata": {
    "execution": {
     "iopub.execute_input": "2020-11-02T18:37:36.278793Z",
     "iopub.status.busy": "2020-11-02T18:37:36.278540Z",
     "iopub.status.idle": "2020-11-02T18:37:36.284784Z",
     "shell.execute_reply": "2020-11-02T18:37:36.283936Z",
     "shell.execute_reply.started": "2020-11-02T18:37:36.278767Z"
    }
   },
   "outputs": [
    {
     "data": {
      "text/plain": [
       "tensor([[5.0000, 2.6667],\n",
       "        [3.6667, 4.6667]])"
      ]
     },
     "execution_count": 14,
     "metadata": {},
     "output_type": "execute_result"
    }
   ],
   "source": [
    "example_tensor.mean(0)"
   ]
  },
  {
   "cell_type": "code",
   "execution_count": 17,
   "metadata": {
    "execution": {
     "iopub.execute_input": "2020-11-02T18:40:10.037490Z",
     "iopub.status.busy": "2020-11-02T18:40:10.036968Z",
     "iopub.status.idle": "2020-11-02T18:40:10.048043Z",
     "shell.execute_reply": "2020-11-02T18:40:10.046455Z",
     "shell.execute_reply.started": "2020-11-02T18:40:10.037433Z"
    }
   },
   "outputs": [
    {
     "data": {
      "text/plain": [
       "tensor([[2., 3.],\n",
       "        [6., 7.],\n",
       "        [5., 1.]])"
      ]
     },
     "execution_count": 17,
     "metadata": {},
     "output_type": "execute_result"
    }
   ],
   "source": [
    "example_tensor.mean(1)"
   ]
  },
  {
   "cell_type": "code",
   "execution_count": 18,
   "metadata": {
    "execution": {
     "iopub.execute_input": "2020-11-02T18:40:56.350494Z",
     "iopub.status.busy": "2020-11-02T18:40:56.350248Z",
     "iopub.status.idle": "2020-11-02T18:40:56.356666Z",
     "shell.execute_reply": "2020-11-02T18:40:56.355665Z",
     "shell.execute_reply.started": "2020-11-02T18:40:56.350467Z"
    }
   },
   "outputs": [
    {
     "data": {
      "text/plain": [
       "tensor([[1.5000, 3.5000],\n",
       "        [5.5000, 7.5000],\n",
       "        [4.5000, 1.5000]])"
      ]
     },
     "execution_count": 18,
     "metadata": {},
     "output_type": "execute_result"
    }
   ],
   "source": [
    "example_tensor.mean(2)"
   ]
  },
  {
   "cell_type": "markdown",
   "metadata": {},
   "source": [
    "#### Equivalently, you could also write:\n",
    "- example_tensor.mean(dim=0)\n",
    "- example_tensor.mean(axis=0)\n",
    "- torch.mean(example_tensor, 0)\n",
    "- torch.mean(example_tensor, dim=0)\n",
    "- torch.mean(example_tensor, axis=0)"
   ]
  },
  {
   "cell_type": "markdown",
   "metadata": {},
   "source": [
    "## PyTorch NN Module"
   ]
  },
  {
   "cell_type": "code",
   "execution_count": 20,
   "metadata": {
    "execution": {
     "iopub.execute_input": "2020-11-02T18:48:30.221017Z",
     "iopub.status.busy": "2020-11-02T18:48:30.220771Z",
     "iopub.status.idle": "2020-11-02T18:48:30.224221Z",
     "shell.execute_reply": "2020-11-02T18:48:30.223520Z",
     "shell.execute_reply.started": "2020-11-02T18:48:30.220991Z"
    }
   },
   "outputs": [],
   "source": [
    "import torch.nn as nn"
   ]
  },
  {
   "cell_type": "markdown",
   "metadata": {},
   "source": [
    "### nn.Linear\n",
    "- To create a linear layer, pass the input dimension and output dimension\n",
    "- A linear object initialized as `nn.Linear(10, 2)` will take in a n x 10 matrix and return n x 2 matrix\n",
    "-  Where, all n elements have had the same linear transformation performed"
   ]
  },
  {
   "cell_type": "code",
   "execution_count": 28,
   "metadata": {
    "execution": {
     "iopub.execute_input": "2020-11-02T18:55:46.396701Z",
     "iopub.status.busy": "2020-11-02T18:55:46.396452Z",
     "iopub.status.idle": "2020-11-02T18:55:46.403848Z",
     "shell.execute_reply": "2020-11-02T18:55:46.403036Z",
     "shell.execute_reply.started": "2020-11-02T18:55:46.396675Z"
    }
   },
   "outputs": [
    {
     "data": {
      "text/plain": [
       "tensor([[-0.0120,  0.6726],\n",
       "        [ 0.0487, -0.5285],\n",
       "        [-0.1308, -0.4747]], grad_fn=<AddmmBackward>)"
      ]
     },
     "execution_count": 28,
     "metadata": {},
     "output_type": "execute_result"
    }
   ],
   "source": [
    "linear = nn.Linear(10, 2)\n",
    "example_input = torch.randn(3, 10)\n",
    "example_output = linear(example_input)\n",
    "example_output"
   ]
  },
  {
   "cell_type": "code",
   "execution_count": 29,
   "metadata": {
    "execution": {
     "iopub.execute_input": "2020-11-02T18:55:46.629654Z",
     "iopub.status.busy": "2020-11-02T18:55:46.629374Z",
     "iopub.status.idle": "2020-11-02T18:55:46.635982Z",
     "shell.execute_reply": "2020-11-02T18:55:46.635270Z",
     "shell.execute_reply.started": "2020-11-02T18:55:46.629621Z"
    }
   },
   "outputs": [
    {
     "data": {
      "text/plain": [
       "tensor([[-0.3423],\n",
       "        [-0.3423],\n",
       "        [-0.3423]], grad_fn=<AddmmBackward>)"
      ]
     },
     "execution_count": 29,
     "metadata": {},
     "output_type": "execute_result"
    }
   ],
   "source": [
    "linear = nn.Linear(10, 1)\n",
    "example_input = torch.ones_like(example_input)\n",
    "example_output_2 = linear(example_input)\n",
    "example_output_2"
   ]
  },
  {
   "cell_type": "code",
   "execution_count": 30,
   "metadata": {
    "execution": {
     "iopub.execute_input": "2020-11-02T18:55:46.917271Z",
     "iopub.status.busy": "2020-11-02T18:55:46.916974Z",
     "iopub.status.idle": "2020-11-02T18:55:46.922951Z",
     "shell.execute_reply": "2020-11-02T18:55:46.922233Z",
     "shell.execute_reply.started": "2020-11-02T18:55:46.917242Z"
    }
   },
   "outputs": [
    {
     "data": {
      "text/plain": [
       "tensor([[1., 1., 1., 1., 1., 1., 1., 1., 1., 1.],\n",
       "        [1., 1., 1., 1., 1., 1., 1., 1., 1., 1.],\n",
       "        [1., 1., 1., 1., 1., 1., 1., 1., 1., 1.]])"
      ]
     },
     "execution_count": 30,
     "metadata": {},
     "output_type": "execute_result"
    }
   ],
   "source": [
    "example_input"
   ]
  },
  {
   "cell_type": "markdown",
   "metadata": {},
   "source": [
    "### nn.ReLU"
   ]
  },
  {
   "cell_type": "code",
   "execution_count": 37,
   "metadata": {
    "execution": {
     "iopub.execute_input": "2020-11-02T19:00:41.994334Z",
     "iopub.status.busy": "2020-11-02T19:00:41.994073Z",
     "iopub.status.idle": "2020-11-02T19:00:41.999565Z",
     "shell.execute_reply": "2020-11-02T19:00:41.998853Z",
     "shell.execute_reply.started": "2020-11-02T19:00:41.994311Z"
    }
   },
   "outputs": [
    {
     "data": {
      "text/plain": [
       "tensor([[0.0000, 0.6726],\n",
       "        [0.0487, 0.0000],\n",
       "        [0.0000, 0.0000]], grad_fn=<ReluBackward0>)"
      ]
     },
     "execution_count": 37,
     "metadata": {},
     "output_type": "execute_result"
    }
   ],
   "source": [
    "relu = nn.ReLU()\n",
    "relu_output = relu(example_output)\n",
    "relu_output"
   ]
  },
  {
   "cell_type": "code",
   "execution_count": 38,
   "metadata": {
    "execution": {
     "iopub.execute_input": "2020-11-02T19:00:42.936949Z",
     "iopub.status.busy": "2020-11-02T19:00:42.936606Z",
     "iopub.status.idle": "2020-11-02T19:00:42.941419Z",
     "shell.execute_reply": "2020-11-02T19:00:42.940845Z",
     "shell.execute_reply.started": "2020-11-02T19:00:42.936918Z"
    }
   },
   "outputs": [
    {
     "data": {
      "text/plain": [
       "tensor([[0.],\n",
       "        [0.],\n",
       "        [0.]], grad_fn=<ReluBackward0>)"
      ]
     },
     "execution_count": 38,
     "metadata": {},
     "output_type": "execute_result"
    }
   ],
   "source": [
    "relu_output_2 = relu(example_output_2)\n",
    "relu_output_2"
   ]
  },
  {
   "cell_type": "code",
   "execution_count": 39,
   "metadata": {
    "execution": {
     "iopub.execute_input": "2020-11-02T19:00:43.384739Z",
     "iopub.status.busy": "2020-11-02T19:00:43.384517Z",
     "iopub.status.idle": "2020-11-02T19:00:43.389672Z",
     "shell.execute_reply": "2020-11-02T19:00:43.389067Z",
     "shell.execute_reply.started": "2020-11-02T19:00:43.384710Z"
    }
   },
   "outputs": [
    {
     "data": {
      "text/plain": [
       "ELU(\n",
       "  alpha=tensor([[-0.0120,  0.6726],\n",
       "          [ 0.0487, -0.5285],\n",
       "          [-0.1308, -0.4747]], grad_fn=<AddmmBackward>)\n",
       ")"
      ]
     },
     "execution_count": 39,
     "metadata": {},
     "output_type": "execute_result"
    }
   ],
   "source": [
    "nn.ELU(example_output)"
   ]
  },
  {
   "cell_type": "code",
   "execution_count": 40,
   "metadata": {
    "execution": {
     "iopub.execute_input": "2020-11-02T19:00:43.737036Z",
     "iopub.status.busy": "2020-11-02T19:00:43.736775Z",
     "iopub.status.idle": "2020-11-02T19:00:43.741849Z",
     "shell.execute_reply": "2020-11-02T19:00:43.741225Z",
     "shell.execute_reply.started": "2020-11-02T19:00:43.737013Z"
    }
   },
   "outputs": [
    {
     "data": {
      "text/plain": [
       "ELU(\n",
       "  alpha=tensor([[-0.3423],\n",
       "          [-0.3423],\n",
       "          [-0.3423]], grad_fn=<AddmmBackward>)\n",
       ")"
      ]
     },
     "execution_count": 40,
     "metadata": {},
     "output_type": "execute_result"
    }
   ],
   "source": [
    "nn.ELU(example_output_2)"
   ]
  },
  {
   "cell_type": "markdown",
   "metadata": {},
   "source": [
    "### nn.BatchNorm1d\n",
    "- Normalization technique that will rescale a batch of n inputs to have a constant mean and std between batches\n",
    "- 1d - for situtations where one expects a set of inputs - each of them is a flat list of numbers \n",
    "- ie Input vector not a matrix or higher rank tensor\n",
    "- `nn.BatchNorm2d` is used for images"
   ]
  },
  {
   "cell_type": "code",
   "execution_count": 41,
   "metadata": {
    "execution": {
     "iopub.execute_input": "2020-11-02T19:00:44.809606Z",
     "iopub.status.busy": "2020-11-02T19:00:44.809357Z",
     "iopub.status.idle": "2020-11-02T19:00:44.815387Z",
     "shell.execute_reply": "2020-11-02T19:00:44.814671Z",
     "shell.execute_reply.started": "2020-11-02T19:00:44.809579Z"
    }
   },
   "outputs": [
    {
     "data": {
      "text/plain": [
       "tensor([[-0.7005,  1.4141],\n",
       "        [ 1.4010, -0.7071],\n",
       "        [-0.7005, -0.7071]], grad_fn=<NativeBatchNormBackward>)"
      ]
     },
     "execution_count": 41,
     "metadata": {},
     "output_type": "execute_result"
    }
   ],
   "source": [
    "batch_norm = nn.BatchNorm1d(2)\n",
    "batch_norm_output = batch_norm(relu_output)\n",
    "batch_norm_output"
   ]
  },
  {
   "cell_type": "code",
   "execution_count": 42,
   "metadata": {
    "execution": {
     "iopub.execute_input": "2020-11-02T19:01:16.066530Z",
     "iopub.status.busy": "2020-11-02T19:01:16.066291Z",
     "iopub.status.idle": "2020-11-02T19:01:16.069493Z",
     "shell.execute_reply": "2020-11-02T19:01:16.068726Z",
     "shell.execute_reply.started": "2020-11-02T19:01:16.066504Z"
    }
   },
   "outputs": [],
   "source": [
    "### nn.Sequential"
   ]
  },
  {
   "cell_type": "code",
   "execution_count": 45,
   "metadata": {
    "execution": {
     "iopub.execute_input": "2020-11-02T19:02:57.364223Z",
     "iopub.status.busy": "2020-11-02T19:02:57.363949Z",
     "iopub.status.idle": "2020-11-02T19:02:57.372834Z",
     "shell.execute_reply": "2020-11-02T19:02:57.372022Z",
     "shell.execute_reply.started": "2020-11-02T19:02:57.364196Z"
    }
   },
   "outputs": [
    {
     "name": "stdout",
     "output_type": "stream",
     "text": [
      "input: \n",
      "tensor([[ 0.0232,  1.0344,  1.0607,  1.5545,  1.9843],\n",
      "        [ 0.4536,  3.6048,  0.6400,  1.7168,  2.7016],\n",
      "        [-0.4710,  0.9583,  2.8970,  1.9307,  2.5374],\n",
      "        [ 1.4215,  0.9669,  0.6048, -0.5217,  0.0539],\n",
      "        [ 0.0519,  1.7444,  0.8946,  1.4093,  2.7785]])\n",
      "output: \n",
      "tensor([[0.0000, 0.1471],\n",
      "        [1.6699, 0.0000],\n",
      "        [0.0000, 0.0000],\n",
      "        [0.0000, 1.8640],\n",
      "        [0.4609, 0.0000]], grad_fn=<ReluBackward0>)\n"
     ]
    }
   ],
   "source": [
    "mlp_layer = nn.Sequential(\n",
    "    nn.Linear(5, 2),\n",
    "    nn.BatchNorm1d(2),\n",
    "    nn.ReLU()\n",
    ")\n",
    "\n",
    "test_example = torch.randn(5, 5) + 1\n",
    "print(\"input: \")\n",
    "print(test_example)\n",
    "print(\"output: \")\n",
    "print(mlp_layer(test_example))"
   ]
  },
  {
   "cell_type": "markdown",
   "metadata": {},
   "source": [
    "## Optimization\n",
    "One of the most important aspects of essentially any machine learning framework is its automatic differentiation library.\n",
    "\n",
    "### Optimizers\n",
    "`torch.optim` module offers the optimization functions"
   ]
  },
  {
   "cell_type": "code",
   "execution_count": 46,
   "metadata": {
    "execution": {
     "iopub.execute_input": "2020-11-02T19:08:25.394773Z",
     "iopub.status.busy": "2020-11-02T19:08:25.394553Z",
     "iopub.status.idle": "2020-11-02T19:08:25.398433Z",
     "shell.execute_reply": "2020-11-02T19:08:25.397688Z",
     "shell.execute_reply.started": "2020-11-02T19:08:25.394750Z"
    }
   },
   "outputs": [],
   "source": [
    "import torch.optim as optim\n",
    "adam_opt = optim.Adam(mlp_layer.parameters(), lr=1e-1)"
   ]
  },
  {
   "cell_type": "markdown",
   "metadata": {},
   "source": [
    "### Training Loop\n",
    "A (basic) training step in PyTorch consists of four basic parts:\n",
    "\n",
    "\n",
    "1.   Set all of the gradients to zero using `opt.zero_grad()`\n",
    "2.   Calculate the loss, `loss`\n",
    "3.   Calculate the gradients with respect to the loss using `loss.backward()`\n",
    "4.   Update the parameters being optimized using `opt.step()`\n",
    "\n",
    "That might look like the following code (and you'll notice that if you run it several times, the loss goes down):\n"
   ]
  },
  {
   "cell_type": "code",
   "execution_count": 47,
   "metadata": {
    "execution": {
     "iopub.execute_input": "2020-11-02T19:12:19.908892Z",
     "iopub.status.busy": "2020-11-02T19:12:19.908674Z",
     "iopub.status.idle": "2020-11-02T19:12:19.915986Z",
     "shell.execute_reply": "2020-11-02T19:12:19.915190Z",
     "shell.execute_reply.started": "2020-11-02T19:12:19.908869Z"
    }
   },
   "outputs": [
    {
     "name": "stdout",
     "output_type": "stream",
     "text": [
      "tensor(0.7670, grad_fn=<MeanBackward0>)\n"
     ]
    }
   ],
   "source": [
    "train_example = torch.randn(100,5) + 1\n",
    "adam_opt.zero_grad()\n",
    "\n",
    "# We'll use a simple loss function of mean distance from 1\n",
    "# torch.abs takes the absolute value of a tensor\n",
    "cur_loss = torch.abs(1 - mlp_layer(train_example)).mean()\n",
    "\n",
    "cur_loss.backward()\n",
    "adam_opt.step()\n",
    "print(cur_loss)"
   ]
  },
  {
   "cell_type": "code",
   "execution_count": 52,
   "metadata": {
    "execution": {
     "iopub.execute_input": "2020-11-02T19:14:11.957334Z",
     "iopub.status.busy": "2020-11-02T19:14:11.957109Z",
     "iopub.status.idle": "2020-11-02T19:14:11.962165Z",
     "shell.execute_reply": "2020-11-02T19:14:11.961394Z",
     "shell.execute_reply.started": "2020-11-02T19:14:11.957311Z"
    }
   },
   "outputs": [
    {
     "name": "stdout",
     "output_type": "stream",
     "text": [
      "tensor(0.7670, grad_fn=<MeanBackward0>)\n"
     ]
    }
   ],
   "source": [
    "\n",
    "adam_opt.step()\n",
    "print(cur_loss)"
   ]
  },
  {
   "cell_type": "markdown",
   "metadata": {},
   "source": [
    "## New `nn` Classes"
   ]
  },
  {
   "cell_type": "code",
   "execution_count": 53,
   "metadata": {
    "execution": {
     "iopub.execute_input": "2020-11-02T19:18:58.721858Z",
     "iopub.status.busy": "2020-11-02T19:18:58.721600Z",
     "iopub.status.idle": "2020-11-02T19:18:58.727194Z",
     "shell.execute_reply": "2020-11-02T19:18:58.726441Z",
     "shell.execute_reply.started": "2020-11-02T19:18:58.721830Z"
    }
   },
   "outputs": [],
   "source": [
    "class ExampleModule(nn.Module):\n",
    "    def __init__(self, input_dims, output_dims):\n",
    "        super(ExampleModule, self).__init__()\n",
    "        self.linear = nn.Linear(input_dims, output_dims)\n",
    "        self.exponent = nn.Parameter(torch.tensor(1.))\n",
    "\n",
    "    def forward(self, x):\n",
    "        x = self.linear(x)\n",
    "\n",
    "        # This is the notation for element-wise exponentiation, \n",
    "        # which matches python in general\n",
    "        x = x ** self.exponent \n",
    "        \n",
    "        return x"
   ]
  },
  {
   "cell_type": "code",
   "execution_count": 54,
   "metadata": {
    "execution": {
     "iopub.execute_input": "2020-11-02T19:19:09.918344Z",
     "iopub.status.busy": "2020-11-02T19:19:09.918129Z",
     "iopub.status.idle": "2020-11-02T19:19:09.925577Z",
     "shell.execute_reply": "2020-11-02T19:19:09.924852Z",
     "shell.execute_reply.started": "2020-11-02T19:19:09.918321Z"
    }
   },
   "outputs": [
    {
     "data": {
      "text/plain": [
       "[Parameter containing:\n",
       " tensor(1., requires_grad=True),\n",
       " Parameter containing:\n",
       " tensor([[ 0.2270, -0.2372,  0.0722,  0.0638, -0.2157, -0.0459,  0.0849, -0.2476,\n",
       "           0.0833,  0.2897],\n",
       "         [-0.2389, -0.0873, -0.1533, -0.2492, -0.2355, -0.0893, -0.0969,  0.3143,\n",
       "           0.2190,  0.3067]], requires_grad=True),\n",
       " Parameter containing:\n",
       " tensor([-0.0011,  0.1198], requires_grad=True)]"
      ]
     },
     "execution_count": 54,
     "metadata": {},
     "output_type": "execute_result"
    }
   ],
   "source": [
    "example_model = ExampleModule(10, 2)\n",
    "list(example_model.parameters())"
   ]
  },
  {
   "cell_type": "code",
   "execution_count": 55,
   "metadata": {
    "execution": {
     "iopub.execute_input": "2020-11-02T19:19:22.450600Z",
     "iopub.status.busy": "2020-11-02T19:19:22.450356Z",
     "iopub.status.idle": "2020-11-02T19:19:22.457292Z",
     "shell.execute_reply": "2020-11-02T19:19:22.456563Z",
     "shell.execute_reply.started": "2020-11-02T19:19:22.450573Z"
    }
   },
   "outputs": [
    {
     "data": {
      "text/plain": [
       "[('exponent',\n",
       "  Parameter containing:\n",
       "  tensor(1., requires_grad=True)),\n",
       " ('linear.weight',\n",
       "  Parameter containing:\n",
       "  tensor([[ 0.2270, -0.2372,  0.0722,  0.0638, -0.2157, -0.0459,  0.0849, -0.2476,\n",
       "            0.0833,  0.2897],\n",
       "          [-0.2389, -0.0873, -0.1533, -0.2492, -0.2355, -0.0893, -0.0969,  0.3143,\n",
       "            0.2190,  0.3067]], requires_grad=True)),\n",
       " ('linear.bias',\n",
       "  Parameter containing:\n",
       "  tensor([-0.0011,  0.1198], requires_grad=True))]"
      ]
     },
     "execution_count": 55,
     "metadata": {},
     "output_type": "execute_result"
    }
   ],
   "source": [
    "list(example_model.named_parameters())"
   ]
  },
  {
   "cell_type": "code",
   "execution_count": 56,
   "metadata": {
    "execution": {
     "iopub.execute_input": "2020-11-02T19:19:34.573438Z",
     "iopub.status.busy": "2020-11-02T19:19:34.573192Z",
     "iopub.status.idle": "2020-11-02T19:19:34.579589Z",
     "shell.execute_reply": "2020-11-02T19:19:34.578842Z",
     "shell.execute_reply.started": "2020-11-02T19:19:34.573413Z"
    }
   },
   "outputs": [
    {
     "data": {
      "text/plain": [
       "tensor([[-0.5685,  0.6811],\n",
       "        [-0.1088,  0.2884]], grad_fn=<PowBackward1>)"
      ]
     },
     "execution_count": 56,
     "metadata": {},
     "output_type": "execute_result"
    }
   ],
   "source": [
    "input = torch.randn(2, 10)\n",
    "example_model(input)"
   ]
  },
  {
   "cell_type": "code",
   "execution_count": null,
   "metadata": {},
   "outputs": [],
   "source": []
  }
 ],
 "metadata": {
  "kernelspec": {
   "display_name": "Python 3",
   "language": "python",
   "name": "python3"
  },
  "language_info": {
   "codemirror_mode": {
    "name": "ipython",
    "version": 3
   },
   "file_extension": ".py",
   "mimetype": "text/x-python",
   "name": "python",
   "nbconvert_exporter": "python",
   "pygments_lexer": "ipython3",
   "version": "3.8.3"
  }
 },
 "nbformat": 4,
 "nbformat_minor": 4
}
