{
 "cells": [
  {
   "cell_type": "markdown",
   "metadata": {},
   "source": [
    "# Methods of Communicarion\n",
    "\n",
    "## Types of Neurons\n",
    "- Sensory Neurons: Convert external stimul into electrical signals\n",
    "- Inter Neurons: Process and Relay Information\n",
    "- Morot Neuron - Convert electrical signals into muscle or gland movement\n",
    "\n",
    "\n",
    "\n",
    "- Ion channels and ions pumps - Potential difference in concentration of Sodium(Na), Chloride(Cl) and Calcium(Ca)\n",
    "- Results in electrical charge or a resting state potential in the neuron\n",
    "\n",
    "\n",
    "- Axonal nerve endings form synames with dendrites of adjoining neurons\n",
    "- The synames forms the site where an electrical or chemical signal is transferred from one neuron to another\n",
    "- Synapses form the primary site of interneuronal communication\n"
   ]
  },
  {
   "cell_type": "markdown",
   "metadata": {},
   "source": [
    "EPSP - Excitatory post synaptic potential\n",
    "\n",
    "## Neurotransmitters\n",
    "- Amino Acids\n",
    "    - Glutamate\n",
    "    - Aspartate\n",
    "    - Glycine\n",
    "    - D-Serine\n",
    "- Peptides\n",
    "    - Somatostatin\n",
    "    - Vaspressin\n",
    "    - Oxytocin\n",
    "    - Opioid Peptides\n",
    "- Others\n",
    "    - Setotonin\n",
    "    - Norepinephrine\n",
    "    - Histamine\n",
    "    - Melatonin etc"
   ]
  },
  {
   "cell_type": "code",
   "execution_count": null,
   "metadata": {},
   "outputs": [],
   "source": []
  }
 ],
 "metadata": {
  "kernelspec": {
   "display_name": "Python 3",
   "language": "python",
   "name": "python3"
  },
  "language_info": {
   "codemirror_mode": {
    "name": "ipython",
    "version": 3
   },
   "file_extension": ".py",
   "mimetype": "text/x-python",
   "name": "python",
   "nbconvert_exporter": "python",
   "pygments_lexer": "ipython3",
   "version": "3.8.3"
  }
 },
 "nbformat": 4,
 "nbformat_minor": 4
}
