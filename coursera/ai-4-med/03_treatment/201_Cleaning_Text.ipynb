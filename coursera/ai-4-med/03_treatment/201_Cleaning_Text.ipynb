{
 "cells": [
  {
   "cell_type": "code",
   "execution_count": 1,
   "metadata": {},
   "outputs": [],
   "source": [
    "import re"
   ]
  },
  {
   "cell_type": "markdown",
   "metadata": {},
   "source": [
    "### Examples of Search Patterns"
   ]
  },
  {
   "cell_type": "code",
   "execution_count": 2,
   "metadata": {},
   "outputs": [
    {
     "name": "stdout",
     "output_type": "stream",
     "text": [
      "Pl\n"
     ]
    }
   ],
   "source": [
    "m = re.search(pattern=\"^Pl|ion$\", string = \"Pleural Effusion\")\n",
    "\n",
    "if(m):\n",
    "    print(m.group(0))\n",
    "else:\n",
    "    print(None)"
   ]
  },
  {
   "cell_type": "code",
   "execution_count": 3,
   "metadata": {},
   "outputs": [
    {
     "name": "stdout",
     "output_type": "stream",
     "text": [
      "ion\n"
     ]
    }
   ],
   "source": [
    "m = re.search(pattern = \"^Sa|ion$\", string = \"Pleural Effusion\")\n",
    "if(m):\n",
    "    print(m.group(0))\n",
    "else:\n",
    "    print(None)"
   ]
  },
  {
   "cell_type": "code",
   "execution_count": 4,
   "metadata": {},
   "outputs": [
    {
     "name": "stdout",
     "output_type": "stream",
     "text": [
      "None\n"
     ]
    }
   ],
   "source": [
    "m = re.search(pattern=\"^Eff\", string=\"Pleural Effusion\")\n",
    "if(m):\n",
    "    print(m.group())\n",
    "else:\n",
    "    print(None)"
   ]
  },
  {
   "cell_type": "markdown",
   "metadata": {},
   "source": [
    "### Characters in a Set [a-zA-Z]\n",
    "\n",
    "**Look Behind**: (?<=)"
   ]
  },
  {
   "cell_type": "code",
   "execution_count": 5,
   "metadata": {},
   "outputs": [
    {
     "name": "stdout",
     "output_type": "stream",
     "text": [
      "C123\n"
     ]
    }
   ],
   "source": [
    "m = re.search(pattern='[a-zA-Z]123', string = \"99C123\")\n",
    "print(f\"{m.group(0)}\")"
   ]
  },
  {
   "cell_type": "code",
   "execution_count": 6,
   "metadata": {},
   "outputs": [
    {
     "name": "stdout",
     "output_type": "stream",
     "text": [
      "123\n"
     ]
    }
   ],
   "source": [
    "m = re.search(pattern = '(?<=[a-zA-Z])123', string = \"99C12399\")\n",
    "print(f\"{m.group(0)}\")"
   ]
  },
  {
   "cell_type": "code",
   "execution_count": 7,
   "metadata": {},
   "outputs": [
    {
     "name": "stdout",
     "output_type": "stream",
     "text": [
      "123C\n"
     ]
    }
   ],
   "source": [
    "m = re.search(pattern = '123[a-zA-Z]', string = \"99123C99\")\n",
    "print(f\"{m.group(0)}\")"
   ]
  },
  {
   "cell_type": "markdown",
   "metadata": {},
   "source": [
    "**Look Ahead**: (?=)"
   ]
  },
  {
   "cell_type": "code",
   "execution_count": 8,
   "metadata": {},
   "outputs": [
    {
     "name": "stdout",
     "output_type": "stream",
     "text": [
      "123\n"
     ]
    }
   ],
   "source": [
    "# Match 123 followed by a letter, exclude the letter from returned match.\n",
    "m = re.search(pattern = '123(?=[a-zA-Z])', string = \"99123C99\")\n",
    "print(f\"{m.group(0)}\")"
   ]
  },
  {
   "cell_type": "markdown",
   "metadata": {},
   "source": [
    "### String Cleaning."
   ]
  },
  {
   "cell_type": "code",
   "execution_count": 9,
   "metadata": {},
   "outputs": [],
   "source": [
    "sentence = \"     BIBASILAR OPACITIES,likely representing bilateral pleural effusions with ATELECTASIS   and/or PNEUMONIA/bronchopneumonia..\""
   ]
  },
  {
   "cell_type": "code",
   "execution_count": 10,
   "metadata": {},
   "outputs": [
    {
     "data": {
      "text/plain": [
       "'     bibasilar opacities,likely representing bilateral pleural effusions with atelectasis   and/or pneumonia/bronchopneumonia..'"
      ]
     },
     "execution_count": 10,
     "metadata": {},
     "output_type": "execute_result"
    }
   ],
   "source": [
    "sentence = sentence.lower()\n",
    "sentence"
   ]
  },
  {
   "cell_type": "code",
   "execution_count": 11,
   "metadata": {},
   "outputs": [
    {
     "data": {
      "text/plain": [
       "'     bibasilar opacities,likely representing bilateral pleural effusions with atelectasis   or pneumonia/bronchopneumonia..'"
      ]
     },
     "execution_count": 11,
     "metadata": {},
     "output_type": "execute_result"
    }
   ],
   "source": [
    "sentence = re.sub('and/or', 'or', sentence)\n",
    "sentence"
   ]
  },
  {
   "cell_type": "code",
   "execution_count": 12,
   "metadata": {},
   "outputs": [
    {
     "data": {
      "text/plain": [
       "'     bibasilar opacities,likely representing bilateral pleural effusions with atelectasis   or pneumonia or bronchopneumonia..'"
      ]
     },
     "execution_count": 12,
     "metadata": {},
     "output_type": "execute_result"
    }
   ],
   "source": [
    "sentence = re.sub('(?<=[a-zA-Z])/(?=[a-zA-Z])', ' or ', sentence)\n",
    "sentence"
   ]
  },
  {
   "cell_type": "code",
   "execution_count": 13,
   "metadata": {},
   "outputs": [
    {
     "name": "stdout",
     "output_type": "stream",
     "text": [
      "     bibasilar opacities,likely representing bilateral pleural effusions with atelectasis   or pneumonia or bronchopneumonia.\n",
      "     bibasilar opacities,likely representing bilateral pleural effusions with atelectasis   or pneumonia or bronchopneumonia.\n"
     ]
    }
   ],
   "source": [
    "# Replace .. with . using re.sub (option 1)\n",
    "tmp1 = re.sub(\"\\.\\.\", \".\", sentence)\n",
    "print(tmp1)\n",
    "\n",
    "# Replace .. with . using string.replace (option 2)\n",
    "tmp2 = sentence.replace('..','.')\n",
    "print(tmp2)"
   ]
  },
  {
   "cell_type": "code",
   "execution_count": 14,
   "metadata": {},
   "outputs": [
    {
     "data": {
      "text/plain": [
       "'     bibasilar opacities,likely representing bilateral pleural effusions with atelectasis   or pneumonia or bronchopneumonia.'"
      ]
     },
     "execution_count": 14,
     "metadata": {},
     "output_type": "execute_result"
    }
   ],
   "source": [
    "sentence = sentence.replace(\"..\", \".\")\n",
    "sentence"
   ]
  },
  {
   "cell_type": "code",
   "execution_count": 15,
   "metadata": {},
   "outputs": [
    {
     "name": "stdout",
     "output_type": "stream",
     "text": [
      "{'!': '!!!', 'z': 's'}\n",
      "{33: '!!!', 122: 's'}\n"
     ]
    }
   ],
   "source": [
    "# Define a dictionary to specify that ! is replaced by !!!\n",
    "# and 's' is replaced by ''\n",
    "translation_dict = {'!': '!!!',\n",
    "                    'z': 's'\n",
    "                   }\n",
    "print(translation_dict)\n",
    "# Create the translation table\n",
    "translation_tbl = str.maketrans(translation_dict)\n",
    "print(translation_tbl)"
   ]
  },
  {
   "cell_type": "code",
   "execution_count": 16,
   "metadata": {},
   "outputs": [
    {
     "name": "stdout",
     "output_type": "stream",
     "text": [
      "colonization, realization, organization!\n",
      "colonisation, realisation, organisation!!!\n"
     ]
    }
   ],
   "source": [
    "# Choose a string to be translated\n",
    "tmp_str = \"colonization, realization, organization!\"\n",
    "print(tmp_str)\n",
    "\n",
    "# Translate the string using the translation table\n",
    "tmp_str2 = tmp_str.translate(translation_tbl)\n",
    "print(tmp_str2)"
   ]
  },
  {
   "cell_type": "code",
   "execution_count": 17,
   "metadata": {},
   "outputs": [
    {
     "data": {
      "text/plain": [
       "{'.': '. ', ',': ', '}"
      ]
     },
     "metadata": {},
     "output_type": "display_data"
    },
    {
     "name": "stdout",
     "output_type": "stream",
     "text": [
      "key: |.| \tval:|. |\n",
      "key: |,| \tval:|, |\n"
     ]
    }
   ],
   "source": [
    "# Creat translation table using a dictionary comprehension\n",
    "translation_dict = {key: f\"{key} \" for key in \".,\"}\n",
    "\n",
    "# View the translation dictionary\n",
    "display(translation_dict)\n",
    "\n",
    "# View the translation dictionary with some formatting for easier reading\n",
    "# Use vertical bars to help see the whitespace more easily.\n",
    "for key, val in translation_dict.items():\n",
    "    print(f\"key: |{key}| \\tval:|{val}|\")"
   ]
  },
  {
   "cell_type": "code",
   "execution_count": 18,
   "metadata": {},
   "outputs": [
    {
     "data": {
      "text/plain": [
       "'     bibasilar opacities, likely representing bilateral pleural effusions with atelectasis   or pneumonia or bronchopneumonia. '"
      ]
     },
     "execution_count": 18,
     "metadata": {},
     "output_type": "execute_result"
    }
   ],
   "source": [
    "# Create the translation table using the translation dictionary\n",
    "punctuation_spacer = str.maketrans(translation_dict)\n",
    "\n",
    "# Apply the translation table to add whitespace after punctuation\n",
    "sentence = sentence.translate(punctuation_spacer)\n",
    "sentence"
   ]
  },
  {
   "cell_type": "code",
   "execution_count": 19,
   "metadata": {},
   "outputs": [
    {
     "data": {
      "text/plain": [
       "['bibasilar',\n",
       " 'opacities,',\n",
       " 'likely',\n",
       " 'representing',\n",
       " 'bilateral',\n",
       " 'pleural',\n",
       " 'effusions',\n",
       " 'with',\n",
       " 'atelectasis',\n",
       " 'or',\n",
       " 'pneumonia',\n",
       " 'or',\n",
       " 'bronchopneumonia.']"
      ]
     },
     "execution_count": 19,
     "metadata": {},
     "output_type": "execute_result"
    }
   ],
   "source": [
    "# Split the string using whitespace as the delimiter\n",
    "# This removes all whitespace between words\n",
    "sentence_list = sentence.split()\n",
    "sentence_list"
   ]
  },
  {
   "cell_type": "code",
   "execution_count": 20,
   "metadata": {},
   "outputs": [
    {
     "data": {
      "text/plain": [
       "'bibasilar opacities, likely representing bilateral pleural effusions with atelectasis or pneumonia or bronchopneumonia.'"
      ]
     },
     "execution_count": 20,
     "metadata": {},
     "output_type": "execute_result"
    }
   ],
   "source": [
    "# Join the tokens with a single whitespace.\n",
    "# This ensures that there is a single whitespace between words\n",
    "sentence = ' '.join(sentence_list)\n",
    "sentence"
   ]
  },
  {
   "cell_type": "code",
   "execution_count": 21,
   "metadata": {},
   "outputs": [
    {
     "name": "stdout",
     "output_type": "stream",
     "text": [
      "\n",
      "##########################\n",
      "\n",
      "Sentence number: 1\n",
      "Raw sentence: \n",
      "     BIBASILAR OPACITIES,likely representing bilateral pleural effusions with ATELECTASIS   and/or PNEUMONIA..\n",
      "Cleaned sentence: \n",
      "bibasilar opacities, likely representing bilateral pleural effusions with atelectasis or pneumonia.\n",
      "\n",
      "##########################\n",
      "\n",
      "Sentence number: 2\n",
      "Raw sentence: \n",
      "Small left pleural effusion/decreased lung volumes bilaterally.left RetroCardiac Atelectasis.\n",
      "Cleaned sentence: \n",
      "small left pleural effusion or decreased lung volumes bilaterally. left retrocardiac atelectasis.\n",
      "\n",
      "##########################\n",
      "\n",
      "Sentence number: 3\n",
      "Raw sentence: \n",
      "PA  and lateral views of the chest demonstrate   clear lungs,with NO focal air space opacity and/or pleural effusion.\n",
      "Cleaned sentence: \n",
      "pa and lateral views of the chest demonstrate clear lungs, with no focal air space opacity or pleural effusion.\n",
      "\n",
      "##########################\n",
      "\n",
      "Sentence number: 4\n",
      "Raw sentence: \n",
      "worrisome nodule in the Right Upper  lobe.CANNOT exclude neoplasm..\n",
      "Cleaned sentence: \n",
      "worrisome nodule in the right upper lobe. cannot exclude neoplasm.\n"
     ]
    }
   ],
   "source": [
    "def clean(sentence):\n",
    "    lower_sentence = sentence.lower()\n",
    "    corrected_sentence = re.sub('and/or', 'or', lower_sentence)\n",
    "    corrected_sentence = re.sub('(?<=[a-zA-Z])/(?=[a-zA-Z])', ' or ', corrected_sentence)\n",
    "    clean_sentence = corrected_sentence.replace(\"..\", \".\")\n",
    "    punctuation_spacer = str.maketrans({key: f\"{key} \" for key in \".,\"})\n",
    "    clean_sentence = clean_sentence.translate(punctuation_spacer)\n",
    "    clean_sentence = ' '.join(clean_sentence.split())\n",
    "    return clean_sentence\n",
    "\n",
    "sentences = [\"     BIBASILAR OPACITIES,likely representing bilateral pleural effusions with ATELECTASIS   and/or PNEUMONIA..\",\n",
    "             \"Small left pleural effusion/decreased lung volumes bilaterally.left RetroCardiac Atelectasis.\",\n",
    "             \"PA  and lateral views of the chest demonstrate   clear lungs,with NO focal air space opacity and/or pleural effusion.\",\n",
    "             \"worrisome nodule in the Right Upper  lobe.CANNOT exclude neoplasm..\"]\n",
    "\n",
    "for n, sentence in enumerate(sentences):\n",
    "    print(\"\\n##########################\\n\")\n",
    "    print(f\"Sentence number: {n+1}\")\n",
    "    print(f\"Raw sentence: \\n{sentence}\")\n",
    "    print(f\"Cleaned sentence: \\n{clean(sentence)}\")"
   ]
  },
  {
   "cell_type": "code",
   "execution_count": null,
   "metadata": {},
   "outputs": [],
   "source": []
  }
 ],
 "metadata": {
  "kernelspec": {
   "display_name": "Python 3",
   "language": "python",
   "name": "python3"
  },
  "language_info": {
   "codemirror_mode": {
    "name": "ipython",
    "version": 3
   },
   "file_extension": ".py",
   "mimetype": "text/x-python",
   "name": "python",
   "nbconvert_exporter": "python",
   "pygments_lexer": "ipython3",
   "version": "3.7.5"
  }
 },
 "nbformat": 4,
 "nbformat_minor": 4
}
