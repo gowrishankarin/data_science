{
 "cells": [
  {
   "cell_type": "code",
   "execution_count": 5,
   "metadata": {},
   "outputs": [
    {
     "name": "stdout",
     "output_type": "stream",
     "text": [
      "2.0.0\n"
     ]
    }
   ],
   "source": [
    "import tensorflow as tf\n",
    "print(tf.__version__)\n",
    "\n",
    "import numpy as np\n",
    "import json\n",
    "\n",
    "from tensorflow.keras.preprocessing.text import Tokenizer\n",
    "from tensorflow.keras.preprocessing.sequence import pad_sequences"
   ]
  },
  {
   "cell_type": "code",
   "execution_count": 2,
   "metadata": {},
   "outputs": [],
   "source": [
    "# Hyperparameters\n",
    "vocab_size = 10000\n",
    "embedding_dim =16\n",
    "max_length = 32\n",
    "trunc_type = 'post'\n",
    "padding_type = 'post'\n",
    "oov_tok = '<OOV>'\n",
    "training_size = 20000"
   ]
  },
  {
   "cell_type": "code",
   "execution_count": 3,
   "metadata": {},
   "outputs": [
    {
     "name": "stdout",
     "output_type": "stream",
     "text": [
      "--2019-10-05 14:18:27--  https://storage.googleapis.com/laurencemoroney-blog.appspot.com/sarcasm.json\n",
      "Resolving storage.googleapis.com... 172.217.160.144\n",
      "Connecting to storage.googleapis.com|172.217.160.144|:443... connected.\n",
      "HTTP request sent, awaiting response... 200 OK\n",
      "Length: 5643545 (5.4M) [application/json]\n",
      "Saving to: ‘/tmp/sarcasm.json’\n",
      "\n",
      "/tmp/sarcasm.json   100%[===================>]   5.38M  1.11MB/s    in 4.8s    \n",
      "\n",
      "2019-10-05 14:18:33 (1.11 MB/s) - ‘/tmp/sarcasm.json’ saved [5643545/5643545]\n",
      "\n"
     ]
    }
   ],
   "source": [
    "!wget --no-check-certificate https://storage.googleapis.com/laurencemoroney-blog.appspot.com/sarcasm.json -O /tmp/sarcasm.json"
   ]
  },
  {
   "cell_type": "code",
   "execution_count": 6,
   "metadata": {},
   "outputs": [],
   "source": [
    "with open('/tmp/sarcasm.json', 'r') as f:\n",
    "    datastore = json.load(f)\n",
    "    \n",
    "sentences = []\n",
    "labels = []\n",
    "\n",
    "for item in datastore:\n",
    "    sentences.append(item['headline'])\n",
    "    labels.append(item['is_sarcastic'])"
   ]
  },
  {
   "cell_type": "code",
   "execution_count": 16,
   "metadata": {},
   "outputs": [],
   "source": [
    "training_sentences = sentences[0:training_size]\n",
    "testing_sentences = sentences[training_size:]\n",
    "training_labels = labels[0:training_size]\n",
    "testing_labels = labels[training_size:]\n",
    "\n",
    "training_labels_final = np.array(training_labels)\n",
    "testing_labels_final = np.array(testing_labels)"
   ]
  },
  {
   "cell_type": "code",
   "execution_count": 17,
   "metadata": {},
   "outputs": [],
   "source": [
    "# create word vector\n",
    "tokenizer = Tokenizer(num_words=vocab_size, oov_token=oov_tok)\n",
    "tokenizer.fit_on_texts(training_sentences)\n",
    "word_index = tokenizer.word_index\n",
    "# create padded matrix of the sentences - sequences\n",
    "sequences = tokenizer.texts_to_sequences(training_sentences)\n",
    "padded = pad_sequences(sequences, maxlen=max_length, truncating=trunc_type)\n",
    "\n",
    "testing_sequences = tokenizer.texts_to_sequences(testing_sentences)\n",
    "testing_padded = pad_sequences(testing_sequences, maxlen=max_length)\n"
   ]
  },
  {
   "cell_type": "code",
   "execution_count": 18,
   "metadata": {},
   "outputs": [
    {
     "name": "stdout",
     "output_type": "stream",
     "text": [
      "Model: \"sequential_1\"\n",
      "_________________________________________________________________\n",
      "Layer (type)                 Output Shape              Param #   \n",
      "=================================================================\n",
      "embedding_1 (Embedding)      (None, 32, 16)            160000    \n",
      "_________________________________________________________________\n",
      "global_average_pooling1d_1 ( (None, 16)                0         \n",
      "_________________________________________________________________\n",
      "dense_2 (Dense)              (None, 6)                 102       \n",
      "_________________________________________________________________\n",
      "dense_3 (Dense)              (None, 1)                 7         \n",
      "=================================================================\n",
      "Total params: 160,109\n",
      "Trainable params: 160,109\n",
      "Non-trainable params: 0\n",
      "_________________________________________________________________\n"
     ]
    }
   ],
   "source": [
    "# build a model\n",
    "model = tf.keras.Sequential([\n",
    "    tf.keras.layers.Embedding(vocab_size, embedding_dim, input_length=max_length),\n",
    "    tf.keras.layers.GlobalAveragePooling1D(),\n",
    "    tf.keras.layers.Dense(6, activation='relu'),\n",
    "    tf.keras.layers.Dense(1, activation='sigmoid')\n",
    "])\n",
    "\n",
    "# compile and summary the model\n",
    "model.compile(loss='binary_crossentropy', optimizer='adam', metrics=['accuracy'])\n",
    "model.summary()\n",
    "\n",
    "\n"
   ]
  },
  {
   "cell_type": "code",
   "execution_count": 29,
   "metadata": {},
   "outputs": [
    {
     "name": "stdout",
     "output_type": "stream",
     "text": [
      "Train on 20000 samples, validate on 6709 samples\n",
      "Epoch 1/30\n",
      "20000/20000 [==============================] - 1s 69us/sample - loss: 0.0276 - accuracy: 0.9927 - val_loss: 0.9184 - val_accuracy: 0.8155\n",
      "Epoch 2/30\n",
      "20000/20000 [==============================] - 1s 70us/sample - loss: 0.0247 - accuracy: 0.9941 - val_loss: 0.9726 - val_accuracy: 0.8147\n",
      "Epoch 3/30\n",
      "20000/20000 [==============================] - 1s 69us/sample - loss: 0.0224 - accuracy: 0.9944 - val_loss: 1.0453 - val_accuracy: 0.8135\n",
      "Epoch 4/30\n",
      "20000/20000 [==============================] - 1s 68us/sample - loss: 0.0203 - accuracy: 0.9945 - val_loss: 1.1217 - val_accuracy: 0.8109\n",
      "Epoch 5/30\n",
      "20000/20000 [==============================] - 1s 68us/sample - loss: 0.0191 - accuracy: 0.9948 - val_loss: 1.1318 - val_accuracy: 0.8106\n",
      "Epoch 6/30\n",
      "20000/20000 [==============================] - 1s 68us/sample - loss: 0.0166 - accuracy: 0.9956 - val_loss: 1.1827 - val_accuracy: 0.8098\n",
      "Epoch 7/30\n",
      "20000/20000 [==============================] - 1s 70us/sample - loss: 0.0151 - accuracy: 0.9962 - val_loss: 1.2250 - val_accuracy: 0.8040\n",
      "Epoch 8/30\n",
      "20000/20000 [==============================] - 1s 70us/sample - loss: 0.0138 - accuracy: 0.9962 - val_loss: 1.2900 - val_accuracy: 0.8062\n",
      "Epoch 9/30\n",
      "20000/20000 [==============================] - 1s 74us/sample - loss: 0.0120 - accuracy: 0.9970 - val_loss: 1.3565 - val_accuracy: 0.8061\n",
      "Epoch 10/30\n",
      "20000/20000 [==============================] - 2s 76us/sample - loss: 0.0113 - accuracy: 0.9976 - val_loss: 1.3828 - val_accuracy: 0.8022\n",
      "Epoch 11/30\n",
      "20000/20000 [==============================] - 1s 74us/sample - loss: 0.0092 - accuracy: 0.9980 - val_loss: 1.4654 - val_accuracy: 0.8035\n",
      "Epoch 12/30\n",
      "20000/20000 [==============================] - 2s 79us/sample - loss: 0.0086 - accuracy: 0.9980 - val_loss: 1.5215 - val_accuracy: 0.8040\n",
      "Epoch 13/30\n",
      "20000/20000 [==============================] - 1s 73us/sample - loss: 0.0076 - accuracy: 0.9983 - val_loss: 1.5724 - val_accuracy: 0.8027\n",
      "Epoch 14/30\n",
      "20000/20000 [==============================] - 1s 72us/sample - loss: 0.0076 - accuracy: 0.9981 - val_loss: 1.6149 - val_accuracy: 0.8019\n",
      "Epoch 15/30\n",
      "20000/20000 [==============================] - 1s 73us/sample - loss: 0.0070 - accuracy: 0.9984 - val_loss: 1.6835 - val_accuracy: 0.8021\n",
      "Epoch 16/30\n",
      "20000/20000 [==============================] - 1s 74us/sample - loss: 0.0063 - accuracy: 0.9983 - val_loss: 1.7197 - val_accuracy: 0.7971\n",
      "Epoch 17/30\n",
      "20000/20000 [==============================] - 1s 74us/sample - loss: 0.0059 - accuracy: 0.9985 - val_loss: 1.7562 - val_accuracy: 0.7977\n",
      "Epoch 18/30\n",
      "20000/20000 [==============================] - 1s 74us/sample - loss: 0.0053 - accuracy: 0.9987 - val_loss: 1.8026 - val_accuracy: 0.7945\n",
      "Epoch 19/30\n",
      "20000/20000 [==============================] - 2s 75us/sample - loss: 0.0054 - accuracy: 0.9986 - val_loss: 1.8956 - val_accuracy: 0.7988\n",
      "Epoch 20/30\n",
      "20000/20000 [==============================] - 1s 74us/sample - loss: 0.0053 - accuracy: 0.9984 - val_loss: 1.9402 - val_accuracy: 0.7948\n",
      "Epoch 21/30\n",
      "20000/20000 [==============================] - 1s 75us/sample - loss: 0.0042 - accuracy: 0.9992 - val_loss: 1.9274 - val_accuracy: 0.7925\n",
      "Epoch 22/30\n",
      "20000/20000 [==============================] - 1s 75us/sample - loss: 0.0038 - accuracy: 0.9989 - val_loss: 2.0596 - val_accuracy: 0.7959\n",
      "Epoch 23/30\n",
      "20000/20000 [==============================] - 1s 74us/sample - loss: 0.0045 - accuracy: 0.9985 - val_loss: 2.0483 - val_accuracy: 0.7948\n",
      "Epoch 24/30\n",
      "20000/20000 [==============================] - 2s 76us/sample - loss: 0.0038 - accuracy: 0.9990 - val_loss: 2.1670 - val_accuracy: 0.7964\n",
      "Epoch 25/30\n",
      "20000/20000 [==============================] - 2s 76us/sample - loss: 0.0034 - accuracy: 0.9991 - val_loss: 2.1589 - val_accuracy: 0.7955\n",
      "Epoch 26/30\n",
      "20000/20000 [==============================] - 1s 73us/sample - loss: 0.0029 - accuracy: 0.9994 - val_loss: 2.2295 - val_accuracy: 0.7934\n",
      "Epoch 27/30\n",
      "20000/20000 [==============================] - 1s 73us/sample - loss: 0.0035 - accuracy: 0.9988 - val_loss: 2.1987 - val_accuracy: 0.7903\n",
      "Epoch 28/30\n",
      "20000/20000 [==============================] - 1s 74us/sample - loss: 0.0027 - accuracy: 0.9994 - val_loss: 2.2689 - val_accuracy: 0.7931\n",
      "Epoch 29/30\n",
      "20000/20000 [==============================] - 1s 73us/sample - loss: 0.0029 - accuracy: 0.9993 - val_loss: 2.2348 - val_accuracy: 0.7872\n",
      "Epoch 30/30\n",
      "20000/20000 [==============================] - 1s 74us/sample - loss: 0.0026 - accuracy: 0.9993 - val_loss: 2.3387 - val_accuracy: 0.7924\n"
     ]
    }
   ],
   "source": [
    "# fit the model\n",
    "num_epochs = 30\n",
    "history = model.fit(padded, training_labels_final, epochs=num_epochs, validation_data=(testing_padded, testing_labels_final))\n",
    "# predict from the model\n",
    "# calculate the accuracy"
   ]
  },
  {
   "cell_type": "code",
   "execution_count": 30,
   "metadata": {},
   "outputs": [
    {
     "data": {
      "image/png": "[encoded data removed]",
      "text/plain": [
       "<matplotlib.figure.Figure at 0x182eb71828>"
      ]
     },
     "metadata": {},
     "output_type": "display_data"
    },
    {
     "data": {
      "image/png": "[encoded data removed]",
      "text/plain": [
       "<matplotlib.figure.Figure at 0x182eb47198>"
      ]
     },
     "metadata": {},
     "output_type": "display_data"
    }
   ],
   "source": [
    "import matplotlib.pyplot as plt\n",
    "\n",
    "def plot_graphs(history, string):\n",
    "    plt.plot(history.history[string])\n",
    "    plt.plot(history.history['val_' + string])\n",
    "    plt.xlabel(\"Epochs\")\n",
    "    plt.ylabel(string)\n",
    "    plt.legend([string, 'val_'+string])\n",
    "    plt.show()\n",
    "    \n",
    "plot_graphs(history, \"accuracy\")\n",
    "plot_graphs(history, \"loss\")"
   ]
  },
  {
   "cell_type": "code",
   "execution_count": 27,
   "metadata": {},
   "outputs": [
    {
     "data": {
      "text/plain": [
       "{'batch_size': 32,\n",
       " 'do_validation': True,\n",
       " 'epochs': 10,\n",
       " 'metrics': ['loss', 'accuracy', 'val_loss', 'val_accuracy'],\n",
       " 'samples': 20000,\n",
       " 'steps': 625,\n",
       " 'verbose': 0}"
      ]
     },
     "execution_count": 27,
     "metadata": {},
     "output_type": "execute_result"
    }
   ],
   "source": [
    "history.params"
   ]
  },
  {
   "cell_type": "code",
   "execution_count": null,
   "metadata": {},
   "outputs": [],
   "source": []
  }
 ],
 "metadata": {
  "kernelspec": {
   "display_name": "Python 3",
   "language": "python",
   "name": "python3"
  },
  "language_info": {
   "codemirror_mode": {
    "name": "ipython",
    "version": 3
   },
   "file_extension": ".py",
   "mimetype": "text/x-python",
   "name": "python",
   "nbconvert_exporter": "python",
   "pygments_lexer": "ipython3",
   "version": "3.6.9"
  }
 },
 "nbformat": 4,
 "nbformat_minor": 4
}
