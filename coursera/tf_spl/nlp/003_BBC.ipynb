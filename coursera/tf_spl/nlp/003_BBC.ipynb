{
 "cells": [
  {
   "cell_type": "code",
   "execution_count": 1,
   "metadata": {},
   "outputs": [
    {
     "name": "stderr",
     "output_type": "stream",
     "text": [
      "/anaconda3/envs/dlcv/lib/python3.6/site-packages/h5py/__init__.py:36: FutureWarning: Conversion of the second argument of issubdtype from `float` to `np.floating` is deprecated. In future, it will be treated as `np.float64 == np.dtype(float).type`.\n",
      "  from ._conv import register_converters as _register_converters\n"
     ]
    },
    {
     "name": "stdout",
     "output_type": "stream",
     "text": [
      "2.0.0\n"
     ]
    }
   ],
   "source": [
    "import tensorflow as tf\n",
    "print(tf.__version__)\n",
    "\n",
    "import numpy as np\n",
    "import csv\n",
    "\n",
    "from tensorflow.keras.preprocessing.text import Tokenizer\n",
    "from tensorflow.keras.preprocessing.sequence import pad_sequences"
   ]
  },
  {
   "cell_type": "code",
   "execution_count": 2,
   "metadata": {},
   "outputs": [],
   "source": [
    "# Hyperparameters\n",
    "vocab_size = 1000\n",
    "embedding_dim =16\n",
    "max_length = 120\n",
    "trunc_type = 'post'\n",
    "padding_type = 'post'\n",
    "oov_tok = '<OOV>'\n",
    "training_size = 1750"
   ]
  },
  {
   "cell_type": "code",
   "execution_count": 3,
   "metadata": {},
   "outputs": [
    {
     "name": "stdout",
     "output_type": "stream",
     "text": [
      "153\n"
     ]
    }
   ],
   "source": [
    "sentences = []\n",
    "labels = []\n",
    "stopwords = [ \"a\", \"about\", \"above\", \"after\", \"again\", \"against\", \"all\", \"am\", \"an\", \"and\", \"any\", \"are\", \"as\", \"at\", \"be\", \"because\", \"been\", \"before\", \"being\", \"below\", \"between\", \"both\", \"but\", \"by\", \"could\", \"did\", \"do\", \"does\", \"doing\", \"down\", \"during\", \"each\", \"few\", \"for\", \"from\", \"further\", \"had\", \"has\", \"have\", \"having\", \"he\", \"he'd\", \"he'll\", \"he's\", \"her\", \"here\", \"here's\", \"hers\", \"herself\", \"him\", \"himself\", \"his\", \"how\", \"how's\", \"i\", \"i'd\", \"i'll\", \"i'm\", \"i've\", \"if\", \"in\", \"into\", \"is\", \"it\", \"it's\", \"its\", \"itself\", \"let's\", \"me\", \"more\", \"most\", \"my\", \"myself\", \"nor\", \"of\", \"on\", \"once\", \"only\", \"or\", \"other\", \"ought\", \"our\", \"ours\", \"ourselves\", \"out\", \"over\", \"own\", \"same\", \"she\", \"she'd\", \"she'll\", \"she's\", \"should\", \"so\", \"some\", \"such\", \"than\", \"that\", \"that's\", \"the\", \"their\", \"theirs\", \"them\", \"themselves\", \"then\", \"there\", \"there's\", \"these\", \"they\", \"they'd\", \"they'll\", \"they're\", \"they've\", \"this\", \"those\", \"through\", \"to\", \"too\", \"under\", \"until\", \"up\", \"very\", \"was\", \"we\", \"we'd\", \"we'll\", \"we're\", \"we've\", \"were\", \"what\", \"what's\", \"when\", \"when's\", \"where\", \"where's\", \"which\", \"while\", \"who\", \"who's\", \"whom\", \"why\", \"why's\", \"with\", \"would\", \"you\", \"you'd\", \"you'll\", \"you're\", \"you've\", \"your\", \"yours\", \"yourself\", \"yourselves\" ]\n",
    "print(len(stopwords))\n",
    "# Expected Output\n",
    "# 153"
   ]
  },
  {
   "cell_type": "code",
   "execution_count": 4,
   "metadata": {},
   "outputs": [
    {
     "name": "stdout",
     "output_type": "stream",
     "text": [
      "--2019-10-05 22:09:04--  https://storage.googleapis.com/laurencemoroney-blog.appspot.com/bbc-text.csv\n",
      "Resolving storage.googleapis.com... 172.217.160.144\n",
      "Connecting to storage.googleapis.com|172.217.160.144|:443... connected.\n",
      "HTTP request sent, awaiting response... 200 OK\n",
      "Length: 5057493 (4.8M) [application/octet-stream]\n",
      "Saving to: ‘/tmp/bbc-text.csv’\n",
      "\n",
      "/tmp/bbc-text.csv   100%[===================>]   4.82M  1.11MB/s    in 4.4s    \n",
      "\n",
      "2019-10-05 22:09:09 (1.10 MB/s) - ‘/tmp/bbc-text.csv’ saved [5057493/5057493]\n",
      "\n"
     ]
    }
   ],
   "source": [
    "!wget --no-check-certificate https://storage.googleapis.com/laurencemoroney-blog.appspot.com/bbc-text.csv -O /tmp/bbc-text.csv"
   ]
  },
  {
   "cell_type": "code",
   "execution_count": 5,
   "metadata": {},
   "outputs": [
    {
     "name": "stdout",
     "output_type": "stream",
     "text": [
      "2225\n",
      "2225\n",
      "tv future hands viewers home theatre systems  plasma high-definition tvs  digital video recorders moving living room  way people watch tv will radically different five years  time.  according expert panel gathered annual consumer electronics show las vegas discuss new technologies will impact one favourite pastimes. us leading trend  programmes content will delivered viewers via home networks  cable  satellite  telecoms companies  broadband service providers front rooms portable devices.  one talked-about technologies ces digital personal video recorders (dvr pvr). set-top boxes  like us s tivo uk s sky+ system  allow people record  store  play  pause forward wind tv programmes want.  essentially  technology allows much personalised tv. also built-in high-definition tv sets  big business japan us  slower take off europe lack high-definition programming. not can people forward wind adverts  can also forget abiding network channel schedules  putting together a-la-carte entertainment. us networks cable satellite companies worried means terms advertising revenues well  brand identity  viewer loyalty channels. although us leads technology moment  also concern raised europe  particularly growing uptake services like sky+.  happens today  will see nine months years  time uk   adam hume  bbc broadcast s futurologist told bbc news website. likes bbc  no issues lost advertising revenue yet. pressing issue moment commercial uk broadcasters  brand loyalty important everyone.  will talking content brands rather network brands   said tim hanlon  brand communications firm starcom mediavest.  reality broadband connections  anybody can producer content.  added:  challenge now hard promote programme much choice.   means  said stacey jolna  senior vice president tv guide tv group  way people find content want watch simplified tv viewers. means networks  us terms  channels take leaf google s book search engine future  instead scheduler help people find want watch. kind channel model might work younger ipod generation used taking control gadgets play them. might not suit everyone  panel recognised. older generations comfortable familiar schedules channel brands know getting. perhaps not want much choice put hands  mr hanlon suggested.  end  kids just diapers pushing buttons already - everything possible available   said mr hanlon.  ultimately  consumer will tell market want.   50 000 new gadgets technologies showcased ces  many enhancing tv-watching experience. high-definition tv sets everywhere many new models lcd (liquid crystal display) tvs launched dvr capability built  instead external boxes. one example launched show humax s 26-inch lcd tv 80-hour tivo dvr dvd recorder. one us s biggest satellite tv companies  directtv  even launched branded dvr show 100-hours recording capability  instant replay  search function. set can pause rewind tv 90 hours. microsoft chief bill gates announced pre-show keynote speech partnership tivo  called tivotogo  means people can play recorded programmes windows pcs mobile devices. reflect increasing trend freeing multimedia people can watch want  want.\n"
     ]
    }
   ],
   "source": [
    "sentences = []\n",
    "labels = []\n",
    "with open('/tmp/bbc-text.csv', 'r') as csvfile:\n",
    "    reader = csv.reader(csvfile, delimiter=',')\n",
    "    next(reader)\n",
    "    for row in reader:\n",
    "        labels.append(row[0])\n",
    "        sentence = row[1]\n",
    "        for word in stopwords:\n",
    "            token = \" \" + word + \" \"\n",
    "            sentence = sentence.replace(token, \" \")\n",
    "        sentences.append(sentence)\n",
    "        \n",
    "print(len(labels))\n",
    "print(len(sentences))\n",
    "print(sentences[0])\n"
   ]
  },
  {
   "cell_type": "code",
   "execution_count": 6,
   "metadata": {},
   "outputs": [],
   "source": [
    "training_sentences = sentences[:training_size]\n",
    "testing_sentences = sentences[training_size:]\n",
    "training_labels = labels[:training_size]\n",
    "testing_labels = labels[training_size:]"
   ]
  },
  {
   "cell_type": "code",
   "execution_count": 7,
   "metadata": {},
   "outputs": [
    {
     "name": "stdout",
     "output_type": "stream",
     "text": [
      "1750\n",
      "1750\n",
      "1750\n",
      "475\n",
      "475\n"
     ]
    }
   ],
   "source": [
    "print(training_size)\n",
    "print(len(training_sentences))\n",
    "print(len(training_labels))\n",
    "print(len(testing_sentences))\n",
    "print(len(testing_labels))"
   ]
  },
  {
   "cell_type": "code",
   "execution_count": 8,
   "metadata": {},
   "outputs": [],
   "source": [
    "# create word vector\n",
    "tokenizer = Tokenizer(num_words=vocab_size, oov_token=oov_tok)\n",
    "tokenizer.fit_on_texts(training_sentences)\n",
    "word_index = tokenizer.word_index\n",
    "# create padded matrix of the sentences - sequences\n",
    "train_sequences = tokenizer.texts_to_sequences(training_sentences)\n",
    "train_padded = pad_sequences(train_sequences, maxlen=max_length, truncating=trunc_type)\n",
    "\n",
    "testing_sequences = tokenizer.texts_to_sequences(testing_sentences)\n",
    "testing_padded = pad_sequences(testing_sequences, maxlen=max_length, truncating=trunc_type)"
   ]
  },
  {
   "cell_type": "code",
   "execution_count": 9,
   "metadata": {},
   "outputs": [
    {
     "name": "stdout",
     "output_type": "stream",
     "text": [
      "449\n",
      "120\n",
      "200\n",
      "120\n",
      "192\n",
      "120\n"
     ]
    }
   ],
   "source": [
    "print(len(train_sequences[0]))\n",
    "print(len(train_padded[0]))\n",
    "\n",
    "print(len(train_sequences[1]))\n",
    "print(len(train_padded[1]))\n",
    "\n",
    "print(len(train_sequences[10]))\n",
    "print(len(train_padded[10]))"
   ]
  },
  {
   "cell_type": "code",
   "execution_count": 10,
   "metadata": {},
   "outputs": [],
   "source": [
    "label_tokenizer = Tokenizer()\n",
    "label_tokenizer.fit_on_texts(labels)\n",
    "\n",
    "training_lable_seq = np.array(label_tokenizer.texts_to_sequences(training_labels))\n",
    "validation_label_seq = np.array(label_tokenizer.texts_to_sequences(testing_labels))"
   ]
  },
  {
   "cell_type": "code",
   "execution_count": 11,
   "metadata": {},
   "outputs": [
    {
     "name": "stdout",
     "output_type": "stream",
     "text": [
      "Model: \"sequential\"\n",
      "_________________________________________________________________\n",
      "Layer (type)                 Output Shape              Param #   \n",
      "=================================================================\n",
      "embedding (Embedding)        (None, 120, 16)           16000     \n",
      "_________________________________________________________________\n",
      "global_average_pooling1d (Gl (None, 16)                0         \n",
      "_________________________________________________________________\n",
      "dense (Dense)                (None, 24)                408       \n",
      "_________________________________________________________________\n",
      "dense_1 (Dense)              (None, 6)                 150       \n",
      "=================================================================\n",
      "Total params: 16,558\n",
      "Trainable params: 16,558\n",
      "Non-trainable params: 0\n",
      "_________________________________________________________________\n"
     ]
    }
   ],
   "source": [
    "# build a model\n",
    "model = tf.keras.Sequential([\n",
    "    tf.keras.layers.Embedding(vocab_size, embedding_dim, input_length=max_length),\n",
    "    tf.keras.layers.GlobalAveragePooling1D(),\n",
    "    tf.keras.layers.Dense(24, activation='relu'),\n",
    "    tf.keras.layers.Dense(6, activation='softmax')\n",
    "])\n",
    "\n",
    "# compile and summary the model\n",
    "model.compile(loss='sparse_categorical_crossentropy', optimizer='adam', metrics=['accuracy'])\n",
    "model.summary()\n"
   ]
  },
  {
   "cell_type": "code",
   "execution_count": 12,
   "metadata": {},
   "outputs": [
    {
     "name": "stdout",
     "output_type": "stream",
     "text": [
      "Train on 1750 samples, validate on 475 samples\n",
      "Epoch 1/30\n",
      "1750/1750 - 1s - loss: 1.7646 - accuracy: 0.2417 - val_loss: 1.7322 - val_accuracy: 0.4295\n",
      "Epoch 2/30\n",
      "1750/1750 - 0s - loss: 1.6809 - accuracy: 0.5354 - val_loss: 1.6200 - val_accuracy: 0.5874\n",
      "Epoch 3/30\n",
      "1750/1750 - 0s - loss: 1.5461 - accuracy: 0.5440 - val_loss: 1.4691 - val_accuracy: 0.6063\n",
      "Epoch 4/30\n",
      "1750/1750 - 0s - loss: 1.3676 - accuracy: 0.6691 - val_loss: 1.2854 - val_accuracy: 0.7053\n",
      "Epoch 5/30\n",
      "1750/1750 - 0s - loss: 1.1560 - accuracy: 0.7491 - val_loss: 1.0815 - val_accuracy: 0.7305\n",
      "Epoch 6/30\n",
      "1750/1750 - 0s - loss: 0.9527 - accuracy: 0.8423 - val_loss: 0.9002 - val_accuracy: 0.7768\n",
      "Epoch 7/30\n",
      "1750/1750 - 0s - loss: 0.7726 - accuracy: 0.8554 - val_loss: 0.7552 - val_accuracy: 0.8632\n",
      "Epoch 8/30\n",
      "1750/1750 - 0s - loss: 0.6252 - accuracy: 0.9217 - val_loss: 0.6284 - val_accuracy: 0.9158\n",
      "Epoch 9/30\n",
      "1750/1750 - 0s - loss: 0.5062 - accuracy: 0.9383 - val_loss: 0.5300 - val_accuracy: 0.9305\n",
      "Epoch 10/30\n",
      "1750/1750 - 0s - loss: 0.4093 - accuracy: 0.9497 - val_loss: 0.4538 - val_accuracy: 0.9326\n",
      "Epoch 11/30\n",
      "1750/1750 - 0s - loss: 0.3339 - accuracy: 0.9571 - val_loss: 0.3940 - val_accuracy: 0.9326\n",
      "Epoch 12/30\n",
      "1750/1750 - 0s - loss: 0.2751 - accuracy: 0.9714 - val_loss: 0.3483 - val_accuracy: 0.9326\n",
      "Epoch 13/30\n",
      "1750/1750 - 0s - loss: 0.2287 - accuracy: 0.9766 - val_loss: 0.3132 - val_accuracy: 0.9368\n",
      "Epoch 14/30\n",
      "1750/1750 - 0s - loss: 0.1946 - accuracy: 0.9783 - val_loss: 0.2911 - val_accuracy: 0.9347\n",
      "Epoch 15/30\n",
      "1750/1750 - 0s - loss: 0.1656 - accuracy: 0.9823 - val_loss: 0.2687 - val_accuracy: 0.9368\n",
      "Epoch 16/30\n",
      "1750/1750 - 0s - loss: 0.1412 - accuracy: 0.9840 - val_loss: 0.2525 - val_accuracy: 0.9347\n",
      "Epoch 17/30\n",
      "1750/1750 - 0s - loss: 0.1224 - accuracy: 0.9874 - val_loss: 0.2357 - val_accuracy: 0.9368\n",
      "Epoch 18/30\n",
      "1750/1750 - 0s - loss: 0.1067 - accuracy: 0.9880 - val_loss: 0.2256 - val_accuracy: 0.9389\n",
      "Epoch 19/30\n",
      "1750/1750 - 0s - loss: 0.0936 - accuracy: 0.9897 - val_loss: 0.2187 - val_accuracy: 0.9411\n",
      "Epoch 20/30\n",
      "1750/1750 - 0s - loss: 0.0830 - accuracy: 0.9909 - val_loss: 0.2117 - val_accuracy: 0.9411\n",
      "Epoch 21/30\n",
      "1750/1750 - 0s - loss: 0.0735 - accuracy: 0.9926 - val_loss: 0.2071 - val_accuracy: 0.9432\n",
      "Epoch 22/30\n",
      "1750/1750 - 0s - loss: 0.0656 - accuracy: 0.9937 - val_loss: 0.2011 - val_accuracy: 0.9411\n",
      "Epoch 23/30\n",
      "1750/1750 - 0s - loss: 0.0586 - accuracy: 0.9949 - val_loss: 0.1993 - val_accuracy: 0.9411\n",
      "Epoch 24/30\n",
      "1750/1750 - 0s - loss: 0.0522 - accuracy: 0.9949 - val_loss: 0.1981 - val_accuracy: 0.9432\n",
      "Epoch 25/30\n",
      "1750/1750 - 0s - loss: 0.0475 - accuracy: 0.9949 - val_loss: 0.1999 - val_accuracy: 0.9411\n",
      "Epoch 26/30\n",
      "1750/1750 - 0s - loss: 0.0422 - accuracy: 0.9971 - val_loss: 0.1945 - val_accuracy: 0.9474\n",
      "Epoch 27/30\n",
      "1750/1750 - 0s - loss: 0.0381 - accuracy: 0.9971 - val_loss: 0.1955 - val_accuracy: 0.9453\n",
      "Epoch 28/30\n",
      "1750/1750 - 0s - loss: 0.0343 - accuracy: 0.9994 - val_loss: 0.1911 - val_accuracy: 0.9453\n",
      "Epoch 29/30\n",
      "1750/1750 - 0s - loss: 0.0311 - accuracy: 0.9989 - val_loss: 0.1917 - val_accuracy: 0.9453\n",
      "Epoch 30/30\n",
      "1750/1750 - 0s - loss: 0.0281 - accuracy: 1.0000 - val_loss: 0.1914 - val_accuracy: 0.9453\n"
     ]
    }
   ],
   "source": [
    "num_epochs = 30\n",
    "history = model.fit(train_padded, training_lable_seq, epochs=num_epochs, validation_data=(testing_padded, validation_label_seq), verbose=2)"
   ]
  },
  {
   "cell_type": "code",
   "execution_count": 14,
   "metadata": {},
   "outputs": [
    {
     "data": {
      "image/png": "[encoded data removed]",
      "text/plain": [
       "<matplotlib.figure.Figure at 0x183b33d550>"
      ]
     },
     "metadata": {},
     "output_type": "display_data"
    },
    {
     "data": {
      "image/png": "[encoded data removed]",
      "text/plain": [
       "<matplotlib.figure.Figure at 0x183a90ccf8>"
      ]
     },
     "metadata": {},
     "output_type": "display_data"
    }
   ],
   "source": [
    "import matplotlib.pyplot as plt\n",
    "%matplotlib inline\n",
    "\n",
    "def plot_graphs(history, string):\n",
    "    plt.plot(history.history[string])\n",
    "    plt.plot(history.history['val_' + string])\n",
    "    plt.xlabel(\"Epochs\")\n",
    "    plt.ylabel(string)\n",
    "    plt.legend([string, 'val_'+string])\n",
    "    plt.show()\n",
    "    \n",
    "plot_graphs(history, \"accuracy\")\n",
    "plot_graphs(history, \"loss\")"
   ]
  },
  {
   "cell_type": "code",
   "execution_count": null,
   "metadata": {},
   "outputs": [],
   "source": []
  }
 ],
 "metadata": {
  "kernelspec": {
   "display_name": "Python 3",
   "language": "python",
   "name": "python3"
  },
  "language_info": {
   "codemirror_mode": {
    "name": "ipython",
    "version": 3
   },
   "file_extension": ".py",
   "mimetype": "text/x-python",
   "name": "python",
   "nbconvert_exporter": "python",
   "pygments_lexer": "ipython3",
   "version": "3.6.9"
  }
 },
 "nbformat": 4,
 "nbformat_minor": 4
}
