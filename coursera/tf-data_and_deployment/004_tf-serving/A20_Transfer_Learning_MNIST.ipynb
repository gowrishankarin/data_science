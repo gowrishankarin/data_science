{
 "cells": [
  {
   "cell_type": "code",
   "execution_count": 1,
   "metadata": {},
   "outputs": [],
   "source": [
    "import numpy as np\n",
    "\n",
    "import tensorflow as tf\n",
    "import tensorflow_hub as hub\n",
    "import tensorflow_datasets as tfds\n",
    "tfds.disable_progress_bar()"
   ]
  },
  {
   "cell_type": "code",
   "execution_count": null,
   "metadata": {},
   "outputs": [],
   "source": [
    "class MNIST:\n",
    "    def __init__(self, export_path, buffer_size=1000, batch_size=32, learning_rate=1e-3, epochs=10):\n",
    "        self._export_path = export_path\n",
    "        self._buffer_size = buffer_size\n",
    "        self._batch_size = batch_size\n",
    "        self._learning_rate = learning_rate\n",
    "        self._epochs = epochs\n",
    "        \n",
    "        self._build_model()\n",
    "        self.train_dataset, self.test_dataset = self._prepare_dataset()\n",
    "        \n",
    "    def preprocess_fn(self, x):\n",
    "        # Cast x to tf.float32 using the tf.cast func\n",
    "        # Also normalize the func between [0, 1]\n",
    "        x = tf.cast(x, dtype=tf.float32) / 255.0\n",
    "        return x\n",
    "    \n",
    "    def _build_model(self):\n",
    "        \n",
    "        self._model = tf.keran.models.Sequential([\n",
    "            tf.keras.layers.Input(shape=(28, 28, 1), dtype=tf.uint8),\n",
    "            tf.keras.layers.Lambda(lambda x: self._preprocess_fn(x)),\n",
    "            tf.keras.layers.Conv2D(8, 3, padding='same'),\n",
    "            tf.keras.layers.MaxPool2D(),\n",
    "            tf.keras.layers.Conv2D(16, 3, padding='same'),\n",
    "            tf.keras.layers.MaxPool2D(),\n",
    "            tf.keras.layers.Conv2D(32, 3, padding='same'),\n",
    "            tf.keras.layers.Flatten(),\n",
    "            tf.keras.layers.Dense(128),\n",
    "            tf.keras.layers.Dense(10)\n",
    "        ])\n",
    "        optimizer_fn = tf.keras.optimizers.Adam(lr=self._learning_rate)\n",
    "        loss_fn = tf.keras.losses.SparseCategoricalCrossentropy()\n",
    "        metrics_list = ['accuracy']\n",
    "        \n",
    "        self._model.compile(optimizer_fn, loss=loss_fn, metrics=metrics_list)\n",
    "        \n",
    "    def _prepare_dataset(self):\n",
    "        filePath = f\"{getcwd()}/../tmp2\"\n",
    "        \n",
    "        dataset = tfds.load(data_dir=filePath, split=tfds.Split.TRAIN + tfds.split.TEST)"
   ]
  },
  {
   "cell_type": "code",
   "execution_count": null,
   "metadata": {},
   "outputs": [],
   "source": [
    "Layer (type)                 Output Shape              Param #   \n",
    "=================================================================\n",
    "lambda_1 (Lambda)            (None, 28, 28, 1)         0         \n",
    "_________________________________________________________________\n",
    "conv2d_3 (Conv2D)            (None, 28, 28, 8)         80        \n",
    "_________________________________________________________________\n",
    "max_pooling2d_2 (MaxPooling2 (None, 14, 14, 8)         0         \n",
    "_________________________________________________________________\n",
    "conv2d_4 (Conv2D)            (None, 14, 14, 16)        1168      \n",
    "_________________________________________________________________\n",
    "max_pooling2d_3 (MaxPooling2 (None, 7, 7, 16)          0         \n",
    "_________________________________________________________________\n",
    "conv2d_5 (Conv2D)            (None, 7, 7, 32)          4640      \n",
    "_________________________________________________________________\n",
    "flatten_1 (Flatten)          (None, 1568)              0         \n",
    "_________________________________________________________________\n",
    "dense_2 (Dense)              (None, 128)               200832    \n",
    "_________________________________________________________________\n",
    "dense_3 (Dense)              (None, 10)                1290      \n",
    "=================================================================\n",
    "Total params: 208,010\n",
    "Trainable params: 208,010\n",
    "Non-trainable params: 0\n",
    "_________________________________________________________________"
   ]
  }
 ],
 "metadata": {
  "kernelspec": {
   "display_name": "Python 3",
   "language": "python",
   "name": "python3"
  },
  "language_info": {
   "codemirror_mode": {
    "name": "ipython",
    "version": 3
   },
   "file_extension": ".py",
   "mimetype": "text/x-python",
   "name": "python",
   "nbconvert_exporter": "python",
   "pygments_lexer": "ipython3",
   "version": "3.7.5"
  }
 },
 "nbformat": 4,
 "nbformat_minor": 4
}
