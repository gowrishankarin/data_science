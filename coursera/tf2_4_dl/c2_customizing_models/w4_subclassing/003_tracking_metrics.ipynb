{
 "cells": [
  {
   "cell_type": "markdown",
   "metadata": {},
   "source": [
    "# Tracking metrics in custom training loops\n",
    "In this reading you will learn how to track metrics such as accuracy within custom training loops. "
   ]
  },
  {
   "cell_type": "code",
   "execution_count": 1,
   "metadata": {
    "execution": {
     "iopub.execute_input": "2021-02-22T08:05:43.564759Z",
     "iopub.status.busy": "2021-02-22T08:05:43.564466Z",
     "iopub.status.idle": "2021-02-22T08:05:49.011443Z",
     "shell.execute_reply": "2021-02-22T08:05:49.010709Z",
     "shell.execute_reply.started": "2021-02-22T08:05:43.564723Z"
    }
   },
   "outputs": [
    {
     "name": "stdout",
     "output_type": "stream",
     "text": [
      "2.4.0\n"
     ]
    }
   ],
   "source": [
    "import tensorflow as tf\n",
    "print(tf.__version__)"
   ]
  },
  {
   "cell_type": "markdown",
   "metadata": {},
   "source": [
    "Tracking performance metrics is useful to check the performance of your model during and after training. Previously, we have passed in a list of metrics to the `model.fit` or `model.evaluate` methods when using the higher level APIs. However, we would still like to be able to evaluate our model on performance metrics in a custom training loop."
   ]
  },
  {
   "cell_type": "markdown",
   "metadata": {},
   "source": [
    "## Load the dataset\n",
    "For this reading notebook we will use the Reuters dataset. The cells below load and process the dataset, and prepare it as `tf.data.Dataset` objects."
   ]
  },
  {
   "cell_type": "code",
   "execution_count": 2,
   "metadata": {
    "execution": {
     "iopub.execute_input": "2021-02-22T08:05:49.013206Z",
     "iopub.status.busy": "2021-02-22T08:05:49.013012Z",
     "iopub.status.idle": "2021-02-22T08:05:50.441510Z",
     "shell.execute_reply": "2021-02-22T08:05:50.440826Z",
     "shell.execute_reply.started": "2021-02-22T08:05:49.013185Z"
    }
   },
   "outputs": [
    {
     "name": "stdout",
     "output_type": "stream",
     "text": [
      "Downloading data from https://storage.googleapis.com/tensorflow/tf-keras-datasets/reuters.npz\n",
      "2113536/2110848 [==============================] - 0s 0us/step\n"
     ]
    },
    {
     "name": "stderr",
     "output_type": "stream",
     "text": [
      "/Users/shankar/dev/tools/anaconda3/envs/od/lib/python3.8/site-packages/tensorflow/python/keras/datasets/reuters.py:148: VisibleDeprecationWarning: Creating an ndarray from ragged nested sequences (which is a list-or-tuple of lists-or-tuples-or ndarrays with different lengths or shapes) is deprecated. If you meant to do this, you must specify 'dtype=object' when creating the ndarray\n",
      "  x_train, y_train = np.array(xs[:idx]), np.array(labels[:idx])\n",
      "/Users/shankar/dev/tools/anaconda3/envs/od/lib/python3.8/site-packages/tensorflow/python/keras/datasets/reuters.py:149: VisibleDeprecationWarning: Creating an ndarray from ragged nested sequences (which is a list-or-tuple of lists-or-tuples-or ndarrays with different lengths or shapes) is deprecated. If you meant to do this, you must specify 'dtype=object' when creating the ndarray\n",
      "  x_test, y_test = np.array(xs[idx:]), np.array(labels[idx:])\n"
     ]
    }
   ],
   "source": [
    "# Load the dataset\n",
    "\n",
    "from tensorflow.keras.datasets import reuters\n",
    "\n",
    "(train_data, train_labels), (test_data, test_labels) = reuters.load_data(num_words=10000, skip_top=50)"
   ]
  },
  {
   "cell_type": "code",
   "execution_count": 3,
   "metadata": {
    "execution": {
     "iopub.execute_input": "2021-02-22T08:05:50.443790Z",
     "iopub.status.busy": "2021-02-22T08:05:50.443501Z",
     "iopub.status.idle": "2021-02-22T08:05:50.448924Z",
     "shell.execute_reply": "2021-02-22T08:05:50.447999Z",
     "shell.execute_reply.started": "2021-02-22T08:05:50.443749Z"
    }
   },
   "outputs": [],
   "source": [
    "# Define the class names\n",
    "\n",
    "class_names = ['cocoa','grain','veg-oil','earn','acq','wheat','copper','housing','money-supply',\n",
    "   'coffee','sugar','trade','reserves','ship','cotton','carcass','crude','nat-gas',\n",
    "   'cpi','money-fx','interest','gnp','meal-feed','alum','oilseed','gold','tin',\n",
    "   'strategic-metal','livestock','retail','ipi','iron-steel','rubber','heat','jobs',\n",
    "   'lei','bop','zinc','orange','pet-chem','dlr','gas','silver','wpi','hog','lead']"
   ]
  },
  {
   "cell_type": "code",
   "execution_count": 4,
   "metadata": {
    "execution": {
     "iopub.execute_input": "2021-02-22T08:05:50.451344Z",
     "iopub.status.busy": "2021-02-22T08:05:50.451121Z",
     "iopub.status.idle": "2021-02-22T08:05:50.601526Z",
     "shell.execute_reply": "2021-02-22T08:05:50.600879Z",
     "shell.execute_reply.started": "2021-02-22T08:05:50.451319Z"
    }
   },
   "outputs": [],
   "source": [
    "# Pad and truncate the train and test inputs\n",
    "\n",
    "from tensorflow.keras.preprocessing.sequence import pad_sequences\n",
    "\n",
    "padded_train_data = pad_sequences(train_data, maxlen=100, truncating='post')\n",
    "padded_test_data = pad_sequences(test_data, maxlen=100, truncating='post')"
   ]
  },
  {
   "cell_type": "code",
   "execution_count": 5,
   "metadata": {
    "execution": {
     "iopub.execute_input": "2021-02-22T08:05:50.602920Z",
     "iopub.status.busy": "2021-02-22T08:05:50.602720Z",
     "iopub.status.idle": "2021-02-22T08:05:51.586183Z",
     "shell.execute_reply": "2021-02-22T08:05:51.585408Z",
     "shell.execute_reply.started": "2021-02-22T08:05:50.602896Z"
    }
   },
   "outputs": [],
   "source": [
    "# Split the training data into training and validation sets\n",
    "\n",
    "from sklearn.model_selection import train_test_split\n",
    "\n",
    "train_data, val_data, train_labels, val_labels = train_test_split(padded_train_data, train_labels, \n",
    "                                                                  test_size=0.3)"
   ]
  },
  {
   "cell_type": "code",
   "execution_count": 6,
   "metadata": {
    "execution": {
     "iopub.execute_input": "2021-02-22T08:05:51.587403Z",
     "iopub.status.busy": "2021-02-22T08:05:51.587152Z",
     "iopub.status.idle": "2021-02-22T08:05:51.625216Z",
     "shell.execute_reply": "2021-02-22T08:05:51.624591Z",
     "shell.execute_reply.started": "2021-02-22T08:05:51.587375Z"
    }
   },
   "outputs": [],
   "source": [
    "# Create Datasets for training, validation and test data\n",
    "\n",
    "train_dataset = tf.data.Dataset.from_tensor_slices((train_data, train_labels))\n",
    "train_dataset = train_dataset.batch(32)\n",
    "\n",
    "val_dataset = tf.data.Dataset.from_tensor_slices((val_data, val_labels))\n",
    "val_dataset = val_dataset.shuffle(500)\n",
    "val_dataset = val_dataset.batch(32)\n",
    "\n",
    "test_dataset = tf.data.Dataset.from_tensor_slices((padded_test_data, test_labels))\n",
    "test_dataset = test_dataset.batch(32)"
   ]
  },
  {
   "cell_type": "markdown",
   "metadata": {},
   "source": [
    "## Define the model, optimizer and loss function"
   ]
  },
  {
   "cell_type": "markdown",
   "metadata": {},
   "source": [
    "Before getting to the custom training loop, we first define the model. We will use the model subclassing API to build a recurrent neural network for this example."
   ]
  },
  {
   "cell_type": "code",
   "execution_count": 7,
   "metadata": {
    "execution": {
     "iopub.execute_input": "2021-02-22T08:05:51.626858Z",
     "iopub.status.busy": "2021-02-22T08:05:51.626421Z",
     "iopub.status.idle": "2021-02-22T08:05:51.635554Z",
     "shell.execute_reply": "2021-02-22T08:05:51.634714Z",
     "shell.execute_reply.started": "2021-02-22T08:05:51.626833Z"
    }
   },
   "outputs": [],
   "source": [
    "# Build the model\n",
    "\n",
    "from tensorflow.keras.layers import Embedding, GRU, Bidirectional, Dense\n",
    "from tensorflow.keras.models import Model\n",
    "\n",
    "class RNNModel(Model):\n",
    "\n",
    "    def __init__(self, units_1, units_2, num_classes, **kwargs):\n",
    "        super(RNNModel, self).__init__(**kwargs)\n",
    "        self.embedding = Embedding(input_dim=10000, output_dim=16, input_length=100)\n",
    "        self.gru_1 = Bidirectional(GRU(units_1, return_sequences=True), merge_mode='sum')\n",
    "        self.gru_2 = GRU(units_2)\n",
    "        self.dense = Dense(num_classes, activation='softmax')\n",
    "\n",
    "    def call(self, inputs):\n",
    "        h = self.embedding(inputs)\n",
    "        h = self.gru_1(h)\n",
    "        h = self.gru_2(h)\n",
    "        return self.dense(h)"
   ]
  },
  {
   "cell_type": "code",
   "execution_count": 8,
   "metadata": {
    "execution": {
     "iopub.execute_input": "2021-02-22T08:05:51.640295Z",
     "iopub.status.busy": "2021-02-22T08:05:51.639958Z",
     "iopub.status.idle": "2021-02-22T08:05:51.678973Z",
     "shell.execute_reply": "2021-02-22T08:05:51.678154Z",
     "shell.execute_reply.started": "2021-02-22T08:05:51.640249Z"
    }
   },
   "outputs": [],
   "source": [
    "# Instantiate the model\n",
    "\n",
    "model = RNNModel(units_1=32, units_2=16, num_classes=46, name='rnn_model')"
   ]
  },
  {
   "cell_type": "markdown",
   "metadata": {},
   "source": [
    "We will use the `SGD` optimizer with Nesterov momentum, and a learning rate of 0.005:"
   ]
  },
  {
   "cell_type": "code",
   "execution_count": 9,
   "metadata": {
    "execution": {
     "iopub.execute_input": "2021-02-22T08:05:51.682609Z",
     "iopub.status.busy": "2021-02-22T08:05:51.682218Z",
     "iopub.status.idle": "2021-02-22T08:05:51.687914Z",
     "shell.execute_reply": "2021-02-22T08:05:51.686849Z",
     "shell.execute_reply.started": "2021-02-22T08:05:51.682570Z"
    }
   },
   "outputs": [],
   "source": [
    "# Define the optimizer\n",
    "\n",
    "optimizer = tf.keras.optimizers.SGD(learning_rate=0.005, momentum=0.9, nesterov=True)"
   ]
  },
  {
   "cell_type": "markdown",
   "metadata": {},
   "source": [
    "The loss function for our model should be the sparse categorical cross entropy, since the labels are in sparse form:"
   ]
  },
  {
   "cell_type": "code",
   "execution_count": 10,
   "metadata": {
    "execution": {
     "iopub.execute_input": "2021-02-22T08:05:51.689890Z",
     "iopub.status.busy": "2021-02-22T08:05:51.689252Z",
     "iopub.status.idle": "2021-02-22T08:05:51.695291Z",
     "shell.execute_reply": "2021-02-22T08:05:51.693507Z",
     "shell.execute_reply.started": "2021-02-22T08:05:51.689848Z"
    }
   },
   "outputs": [],
   "source": [
    "# Define the loss\n",
    "\n",
    "loss = tf.keras.losses.SparseCategoricalCrossentropy()"
   ]
  },
  {
   "cell_type": "markdown",
   "metadata": {},
   "source": [
    "## Build the custom training loop"
   ]
  },
  {
   "cell_type": "markdown",
   "metadata": {},
   "source": [
    "The following function computes the model predictions, loss and gradients, for use in the custom training loop."
   ]
  },
  {
   "cell_type": "code",
   "execution_count": 11,
   "metadata": {
    "execution": {
     "iopub.execute_input": "2021-02-22T08:05:51.697507Z",
     "iopub.status.busy": "2021-02-22T08:05:51.697140Z",
     "iopub.status.idle": "2021-02-22T08:05:51.701911Z",
     "shell.execute_reply": "2021-02-22T08:05:51.701197Z",
     "shell.execute_reply.started": "2021-02-22T08:05:51.697471Z"
    }
   },
   "outputs": [],
   "source": [
    "# Define a function to compute the loss and gradients\n",
    "\n",
    "def grad(model, inputs, targets, loss):\n",
    "    with tf.GradientTape() as tape:\n",
    "        preds = model(inputs)\n",
    "        loss_value = loss(targets, preds)\n",
    "    return preds, loss_value, tape.gradient(loss_value, model.trainable_variables)"
   ]
  },
  {
   "cell_type": "markdown",
   "metadata": {},
   "source": [
    "Metric objects can be created and used to track performance measures in the custom training loop. We will set up our custom training loop to track the average loss, and area under the [ROC curve](https://en.wikipedia.org/wiki/Receiver_operating_characteristic) (ROC AUC). Of course there are many more metrics that you could use. "
   ]
  },
  {
   "cell_type": "code",
   "execution_count": 12,
   "metadata": {
    "execution": {
     "iopub.execute_input": "2021-02-22T08:05:51.703374Z",
     "iopub.status.busy": "2021-02-22T08:05:51.703097Z",
     "iopub.status.idle": "2021-02-22T08:05:51.706462Z",
     "shell.execute_reply": "2021-02-22T08:05:51.705696Z",
     "shell.execute_reply.started": "2021-02-22T08:05:51.703352Z"
    }
   },
   "outputs": [],
   "source": [
    "# Create lists to accumulate the metric values\n",
    "\n",
    "train_loss_results = []\n",
    "train_roc_auc_results = []\n",
    "\n",
    "val_loss_results = []\n",
    "val_roc_auc_results = []"
   ]
  },
  {
   "cell_type": "markdown",
   "metadata": {},
   "source": [
    "In the following custom training loop, we define an outer loop for the epochs, and an inner loop for the batches in the training dataset. At the end of each epoch we run a validation loop for a number of iterations.\n",
    "\n",
    "Inside the inner loop we use the metric objects to calculate the metric evaluation values. These values are then appended to the empty lists. The metric objects are re-initialised at the start of each epoch.\n",
    "\n",
    "The following training loop may take a while to run. Feel free to reduce the number of epochs if you want."
   ]
  },
  {
   "cell_type": "code",
   "execution_count": 13,
   "metadata": {
    "execution": {
     "iopub.execute_input": "2021-02-22T08:05:51.708699Z",
     "iopub.status.busy": "2021-02-22T08:05:51.708104Z",
     "iopub.status.idle": "2021-02-22T08:16:48.198117Z",
     "shell.execute_reply": "2021-02-22T08:16:48.197389Z",
     "shell.execute_reply.started": "2021-02-22T08:05:51.708655Z"
    }
   },
   "outputs": [
    {
     "name": "stdout",
     "output_type": "stream",
     "text": [
      "Epoch 000: Training loss: 2.836, ROC AUC: 82.880%\n",
      "              Validation loss: 2.590, ROC AUC 86.927%\n",
      "Epoch 001: Training loss: 2.392, ROC AUC: 89.040%\n",
      "              Validation loss: 2.483, ROC AUC 88.698%\n",
      "Epoch 002: Training loss: 2.365, ROC AUC: 89.499%\n",
      "              Validation loss: 2.454, ROC AUC 88.266%\n",
      "Epoch 003: Training loss: 2.347, ROC AUC: 89.621%\n",
      "              Validation loss: 2.535, ROC AUC 87.957%\n",
      "Epoch 004: Training loss: 2.334, ROC AUC: 89.746%\n",
      "              Validation loss: 2.425, ROC AUC 89.379%\n"
     ]
    }
   ],
   "source": [
    "# Run the custom training loop\n",
    "\n",
    "from tensorflow.keras.utils import to_categorical\n",
    "\n",
    "num_epochs = 5\n",
    "val_steps = 10\n",
    "\n",
    "for epoch in range(num_epochs):\n",
    "    train_epoch_loss_avg = tf.keras.metrics.Mean()\n",
    "    train_epoch_roc_auc = tf.keras.metrics.AUC(curve='ROC')\n",
    "    \n",
    "    val_epoch_loss_avg = tf.keras.metrics.Mean()\n",
    "    val_epoch_roc_auc = tf.keras.metrics.AUC(curve='ROC')\n",
    "\n",
    "    for inputs, labels in train_dataset:\n",
    "        model_preds, loss_value, grads = grad(model, inputs, labels, loss)\n",
    "        optimizer.apply_gradients(zip(grads, model.trainable_variables))\n",
    "\n",
    "        train_epoch_loss_avg(loss_value)\n",
    "        train_epoch_roc_auc(to_categorical(labels, num_classes=46), model_preds)\n",
    "        \n",
    "    for inputs, labels in val_dataset.take(val_steps):\n",
    "        model_preds = model(inputs)\n",
    "        val_epoch_loss_avg(loss(labels, model_preds))\n",
    "        val_epoch_roc_auc(to_categorical(labels, num_classes=46), model_preds)\n",
    "        \n",
    "    train_loss_results.append(train_epoch_loss_avg.result().numpy())\n",
    "    train_roc_auc_results.append(train_epoch_roc_auc.result().numpy())\n",
    "    \n",
    "    val_loss_results.append(val_epoch_loss_avg.result().numpy())\n",
    "    val_roc_auc_results.append(val_epoch_roc_auc.result().numpy())\n",
    "\n",
    "    print(\"Epoch {:03d}: Training loss: {:.3f}, ROC AUC: {:.3%}\".format(epoch, train_epoch_loss_avg.result(), \n",
    "                                                                        train_epoch_roc_auc.result()))\n",
    "    print(\"              Validation loss: {:.3f}, ROC AUC {:.3%}\".format(val_epoch_loss_avg.result(),\n",
    "                                                                         val_epoch_roc_auc.result()))"
   ]
  },
  {
   "cell_type": "markdown",
   "metadata": {},
   "source": [
    "#### Plot the learning curves"
   ]
  },
  {
   "cell_type": "code",
   "execution_count": 14,
   "metadata": {
    "execution": {
     "iopub.execute_input": "2021-02-22T08:16:48.199787Z",
     "iopub.status.busy": "2021-02-22T08:16:48.199539Z",
     "iopub.status.idle": "2021-02-22T08:16:48.994274Z",
     "shell.execute_reply": "2021-02-22T08:16:48.993558Z",
     "shell.execute_reply.started": "2021-02-22T08:16:48.199756Z"
    }
   },
   "outputs": [
    {
     "data": {
      "image/png": "[encoded data removed]",
      "text/plain": [
       "<Figure size 1080x360 with 2 Axes>"
      ]
     },
     "metadata": {
      "needs_background": "light"
     },
     "output_type": "display_data"
    }
   ],
   "source": [
    "import matplotlib.pyplot as plt\n",
    "\n",
    "fig = plt.figure(figsize=(15, 5))\n",
    "\n",
    "fig.add_subplot(121)\n",
    "plt.plot(train_loss_results)\n",
    "plt.plot(val_loss_results)\n",
    "plt.title('Loss vs. epochs')\n",
    "plt.ylabel('Loss')\n",
    "plt.xlabel('Epoch')\n",
    "plt.legend(['Training', 'Validation'], loc='upper right')\n",
    "\n",
    "fig.add_subplot(122)\n",
    "plt.plot(train_roc_auc_results)\n",
    "plt.plot(val_roc_auc_results)\n",
    "plt.title('ROC AUC vs. epochs')\n",
    "plt.ylabel('ROC AUC')\n",
    "plt.xlabel('Epoch')\n",
    "plt.legend(['Training', 'Validation'], loc='lower right')\n",
    "plt.show() "
   ]
  },
  {
   "cell_type": "markdown",
   "metadata": {},
   "source": [
    "## Test the model\n",
    "Similarly, we can calculate the loss and metric values on the test dataset."
   ]
  },
  {
   "cell_type": "code",
   "execution_count": 15,
   "metadata": {
    "execution": {
     "iopub.execute_input": "2021-02-22T08:16:48.995771Z",
     "iopub.status.busy": "2021-02-22T08:16:48.995474Z",
     "iopub.status.idle": "2021-02-22T08:16:49.010914Z",
     "shell.execute_reply": "2021-02-22T08:16:49.010168Z",
     "shell.execute_reply.started": "2021-02-22T08:16:48.995744Z"
    }
   },
   "outputs": [],
   "source": [
    "# Create metric objects for testing\n",
    "\n",
    "test_epoch_loss_avg = tf.keras.metrics.Mean()\n",
    "test_epoch_roc_auc = tf.keras.metrics.AUC(curve='ROC')"
   ]
  },
  {
   "cell_type": "code",
   "execution_count": 16,
   "metadata": {
    "execution": {
     "iopub.execute_input": "2021-02-22T08:16:49.012485Z",
     "iopub.status.busy": "2021-02-22T08:16:49.012255Z",
     "iopub.status.idle": "2021-02-22T08:17:04.372731Z",
     "shell.execute_reply": "2021-02-22T08:17:04.371929Z",
     "shell.execute_reply.started": "2021-02-22T08:16:49.012459Z"
    }
   },
   "outputs": [
    {
     "name": "stdout",
     "output_type": "stream",
     "text": [
      "Test loss: 2.365\n",
      "Test ROC AUC: 89.088%\n"
     ]
    }
   ],
   "source": [
    "# Calculate metrics on the test set\n",
    "\n",
    "for inputs, labels in test_dataset:\n",
    "    model_pred = model(inputs)\n",
    "    test_epoch_loss_avg(loss(labels, model_pred))  \n",
    "    test_epoch_roc_auc(to_categorical(labels, num_classes=46), model_pred)\n",
    "\n",
    "print(\"Test loss: {:.3f}\".format(test_epoch_loss_avg.result().numpy()))\n",
    "print(\"Test ROC AUC: {:.3%}\".format(test_epoch_roc_auc.result().numpy()))"
   ]
  },
  {
   "cell_type": "markdown",
   "metadata": {},
   "source": [
    "## Further reading and resources \n",
    "* https://www.tensorflow.org/tutorials/customization/custom_training_walkthrough#training_loop\n",
    "* https://www.tensorflow.org/api_docs/python/tf/keras/metrics\n",
    "* https://en.wikipedia.org/wiki/Receiver_operating_characteristic#Area_under_the_curve"
   ]
  }
 ],
 "metadata": {
  "kernelspec": {
   "display_name": "Python 3",
   "language": "python",
   "name": "python3"
  },
  "language_info": {
   "codemirror_mode": {
    "name": "ipython",
    "version": 3
   },
   "file_extension": ".py",
   "mimetype": "text/x-python",
   "name": "python",
   "nbconvert_exporter": "python",
   "pygments_lexer": "ipython3",
   "version": "3.8.3"
  }
 },
 "nbformat": 4,
 "nbformat_minor": 4
}
