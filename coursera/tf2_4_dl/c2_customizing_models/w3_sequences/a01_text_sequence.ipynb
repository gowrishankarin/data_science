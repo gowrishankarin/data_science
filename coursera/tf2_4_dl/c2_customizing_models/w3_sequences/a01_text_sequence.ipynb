{
  "nbformat": 4,
  "nbformat_minor": 0,
  "metadata": {
    "coursera": {
      "course_slug": "tensor-flow-2-2",
      "graded_item_id": "4eYSM",
      "launcher_item_id": "HEV6h"
    },
    "kernelspec": {
      "display_name": "Python 3",
      "language": "python",
      "name": "python3"
    },
    "language_info": {
      "codemirror_mode": {
        "name": "ipython",
        "version": 3
      },
      "file_extension": ".py",
      "mimetype": "text/x-python",
      "name": "python",
      "nbconvert_exporter": "python",
      "pygments_lexer": "ipython3",
      "version": "3.7.1"
    },
    "colab": {
      "name": "icl_c2_w3_assignment.ipynb",
      "provenance": [],
      "collapsed_sections": []
    },
    "accelerator": "GPU"
  },
  "cells": [
    {
      "cell_type": "markdown",
      "metadata": {
        "id": "wJQu9UWtRfRx"
      },
      "source": [
        "# Programming Assignment"
      ]
    },
    {
      "cell_type": "markdown",
      "metadata": {
        "id": "pFRRArflRfR1"
      },
      "source": [
        "## Language model for the Shakespeare dataset"
      ]
    },
    {
      "cell_type": "markdown",
      "metadata": {
        "id": "iPU9O33bRfR3"
      },
      "source": [
        "### Instructions\n",
        "\n",
        "In this notebook, you will use the text preprocessing tools and RNN models to build a character-level language model. You will then train your model on the works of Shakespeare, and use the network to generate your own text.\n",
        "\n",
        "Some code cells are provided you in the notebook. You should avoid editing provided code, and make sure to execute the cells in order to avoid unexpected errors. Some cells begin with the line: \n",
        "\n",
        "`#### GRADED CELL ####`\n",
        "\n",
        "Don't move or edit this first line - this is what the automatic grader looks for to recognise graded cells. These cells require you to write your own code to complete them, and are automatically graded when you submit the notebook. Don't edit the function name or signature provided in these cells, otherwise the automatic grader might not function properly. Inside these graded cells, you can use any functions or classes that are imported below, but make sure you don't use any variables that are outside the scope of the function.\n",
        "\n",
        "### How to submit\n",
        "\n",
        "Complete all the tasks you are asked for in the worksheet. When you have finished and are happy with your code, press the **Submit Assignment** button at the top of this notebook.\n",
        "\n",
        "### Let's get started!\n",
        "\n",
        "We'll start running some imports, and loading the dataset. Do not edit the existing imports in the following cell. If you would like to make further Tensorflow imports, you should add them here."
      ]
    },
    {
      "cell_type": "code",
      "metadata": {
        "id": "2j_QtDXtRfR4"
      },
      "source": [
        "#### PACKAGE IMPORTS ####\n",
        "\n",
        "# Run this cell first to import all required packages. Do not make any imports elsewhere in the notebook\n",
        "\n",
        "import tensorflow as tf\n",
        "import numpy as np\n",
        "import json\n",
        "import matplotlib.pyplot as plt\n",
        "%matplotlib inline\n",
        "\n",
        "# If you would like to make further imports from tensorflow, add them here\n",
        "\n"
      ],
      "execution_count": 1,
      "outputs": []
    },
    {
      "cell_type": "markdown",
      "metadata": {
        "id": "r3wpZrx7RfR-"
      },
      "source": [
        "#### The Shakespeare dataset\n",
        "\n",
        "In this assignment, you will use a subset of the [Shakespeare dataset](http://shakespeare.mit.edu). It consists of a single text file with several excerpts concatenated together. The data is in raw text form, and so far has not yet had any preprocessing. \n",
        "\n",
        "Your goal is to construct an unsupervised character-level sequence model that can generate text according to a distribution learned from the dataset."
      ]
    },
    {
      "cell_type": "markdown",
      "metadata": {
        "id": "2XZu3DSPRkE4"
      },
      "source": [
        "#### Import the data\n",
        "\n",
        "The dataset required for this project can be downloaded from the following link:\n",
        "\n",
        "https://drive.google.com/open?id=1pQI1ryDnuMKl5FtgBI9k9vXQ65S8xLv2\n",
        "\n",
        "You should store this file in Drive for use in this Colab notebook."
      ]
    },
    {
      "cell_type": "code",
      "metadata": {
        "id": "3fRagWNBR0-E",
        "colab": {
          "base_uri": "https://localhost:8080/"
        },
        "outputId": "93a3c353-199a-474d-8041-9342e830a031"
      },
      "source": [
        "# Run this cell to connect to your Drive folder\n",
        "\n",
        "from google.colab import drive\n",
        "drive.mount('/content/gdrive')"
      ],
      "execution_count": 2,
      "outputs": [
        {
          "output_type": "stream",
          "text": [
            "Mounted at /content/gdrive\n"
          ],
          "name": "stdout"
        }
      ]
    },
    {
      "cell_type": "code",
      "metadata": {
        "colab": {
          "base_uri": "https://localhost:8080/"
        },
        "id": "LK3nLb8X_02j",
        "outputId": "a3f58122-62ef-4414-ba46-58b97b7795b2"
      },
      "source": [
        "!cp /content/gdrive/MyDrive/data/shakespeare/*.* .\n",
        "!ls"
      ],
      "execution_count": 3,
      "outputs": [
        {
          "output_type": "stream",
          "text": [
            "gdrive\tsample_data  Shakespeare.txt\n"
          ],
          "name": "stdout"
        }
      ]
    },
    {
      "cell_type": "markdown",
      "metadata": {
        "id": "ppOL7TDHRfSA"
      },
      "source": [
        "#### Load and inspect the dataset"
      ]
    },
    {
      "cell_type": "code",
      "metadata": {
        "id": "XXwzWcB-RfSD"
      },
      "source": [
        "# Load the text file into a string\n",
        "\n",
        "with open('Shakespeare.txt', 'r', encoding='utf-8') as file:\n",
        "    text = file.read()"
      ],
      "execution_count": 4,
      "outputs": []
    },
    {
      "cell_type": "code",
      "metadata": {
        "id": "YzHw4wbCRfSH"
      },
      "source": [
        "# Create a list of chunks of text\n",
        "\n",
        "text_chunks = text.split('.')"
      ],
      "execution_count": 5,
      "outputs": []
    },
    {
      "cell_type": "markdown",
      "metadata": {
        "id": "pik73Zq2RfSO"
      },
      "source": [
        "To give you a feel for what the text looks like, we will print a few chunks from the list."
      ]
    },
    {
      "cell_type": "code",
      "metadata": {
        "id": "CMZj2MIYRfSP",
        "colab": {
          "base_uri": "https://localhost:8080/"
        },
        "outputId": "277554f4-8eb4-47e3-b12c-900e2babb156"
      },
      "source": [
        "# Display some randomly selected text samples\n",
        "\n",
        "num_samples = 5\n",
        "inx = np.random.choice(len(text_chunks), num_samples, replace=False)\n",
        "for chunk in np.array(text_chunks)[inx]:\n",
        "    print(chunk)"
      ],
      "execution_count": 6,
      "outputs": [
        {
          "output_type": "stream",
          "text": [
            "\n",
            "\n",
            "Second Keeper:\n",
            "Well, if you be a king crown'd with content,\n",
            "Your crown content and you must be contented\n",
            "To go along with us; for as we think,\n",
            "You are the king King Edward hath deposed;\n",
            "And we his subjects sworn in all allegiance\n",
            "Will apprehend you as his enemy\n",
            "\n",
            "\n",
            "HERMIONE:\n",
            "By this we gather\n",
            "You have tripp'd since\n",
            "\n",
            "\n",
            "MOPSA:\n",
            "Is it true, think you?\n",
            "\n",
            "AUTOLYCUS:\n",
            "Very true, and but a month old\n",
            "\n",
            "\n",
            "BRUTUS:\n",
            "Say, you ne'er had done't--\n",
            "Harp on that still--but by our putting on;\n",
            "And presently, when you have drawn your number,\n",
            "Repair to the Capitol\n",
            "\n",
            "I did but tell her she mistook her frets,\n",
            "And bow'd her hand to teach her fingering;\n",
            "When, with a most impatient devilish spirit,\n",
            "'Frets, call you these?' quoth she; 'I'll fume\n",
            "with them:'\n",
            "And, with that word, she struck me on the head,\n",
            "And through the instrument my pate made way;\n",
            "And there I stood amazed for a while,\n",
            "As on a pillory, looking through the lute;\n",
            "While she did call me rascal fiddler\n",
            "And twangling Jack; with twenty such vile terms,\n",
            "As had she studied to misuse me so\n"
          ],
          "name": "stdout"
        }
      ]
    },
    {
      "cell_type": "markdown",
      "metadata": {
        "id": "QSxfAsFARfSX"
      },
      "source": [
        "#### Create a character-level tokenizer"
      ]
    },
    {
      "cell_type": "markdown",
      "metadata": {
        "id": "SBukx3SDRfSY"
      },
      "source": [
        "You should now write a function that returns a `Tokenizer` object. The function takes a list of strings as an argument, and should create a `Tokenizer` according to the following specification:\n",
        "\n",
        "* The number of tokens should be unlimited (there should be as many as required by the dataset).\n",
        "* Tokens should be created at the character level (not at the word level, which is the default behaviour).\n",
        "* No characters should be filtered out or ignored.\n",
        "* The original capitalization should be retained (do not convert the text to lower case)\n",
        "\n",
        "The `Tokenizer` should be fit to the `list_of_strings` argument and returned by the function. \n",
        "\n",
        "**Hint:** you may need to refer to the [documentation](https://www.tensorflow.org/api_docs/python/tf/keras/preprocessing/text/Tokenizer) for the `Tokenizer`."
      ]
    },
    {
      "cell_type": "code",
      "metadata": {
        "id": "Q8s2aR4oRfSb"
      },
      "source": [
        "#### GRADED CELL ####\n",
        "\n",
        "# Complete the following function.\n",
        "# Make sure not to change the function name or arguments.\n",
        "\n",
        "def create_character_tokenizer(list_of_strings):\n",
        "    \"\"\"\n",
        "    This function takes a list of strings as its argument. It should create \n",
        "    and return a Tokenizer according to the above specifications. \n",
        "    \"\"\"\n",
        "    tokenizer = tf.keras.preprocessing.text.Tokenizer(\n",
        "        num_words=None,\n",
        "        char_level=True,\n",
        "        lower=False,\n",
        "        filters=None\n",
        "        # oov_token='<UNK>',\n",
        "        # document_count=len(list_of_strings)\n",
        "    )\n",
        "    tokenizer.fit_on_texts(list_of_strings)\n",
        "    return tokenizer"
      ],
      "execution_count": 7,
      "outputs": []
    },
    {
      "cell_type": "code",
      "metadata": {
        "id": "aKZpIcn_RfSf"
      },
      "source": [
        "# Get the tokenizer\n",
        "\n",
        "tokenizer = create_character_tokenizer(text_chunks)"
      ],
      "execution_count": 8,
      "outputs": []
    },
    {
      "cell_type": "markdown",
      "metadata": {
        "id": "gWObVg6DRfSi"
      },
      "source": [
        "#### Tokenize the text\n",
        "\n",
        "You should now write a function to use the tokenizer to map each string in `text_chunks` to its corresponding encoded sequence. The following function takes a fitted `Tokenizer` object in the first argument (as returned by `create_character_tokenizer`) and a list of strings in the second argument. The function should return a list of lists, where each sublist is a sequence of integer tokens encoding the text sequences according to the mapping stored in the tokenizer.\n",
        "\n",
        "**Hint:** you may need to refer to the [documentation](https://www.tensorflow.org/api_docs/python/tf/keras/preprocessing/text/Tokenizer) for the `Tokenizer`."
      ]
    },
    {
      "cell_type": "code",
      "metadata": {
        "id": "lkKDCvV1RfSj"
      },
      "source": [
        "#### GRADED CELL ####\n",
        "\n",
        "# Complete the following function.\n",
        "# Make sure not to change the function name or arguments.\n",
        "\n",
        "def strings_to_sequences(tokenizer, list_of_strings):\n",
        "    \"\"\"\n",
        "    This function takes a tokenizer object and a list of strings as its arguments.\n",
        "    It should use the tokenizer to map the text chunks to sequences of tokens and\n",
        "    then return this list of encoded sequences.\n",
        "    \"\"\"\n",
        "    return tokenizer.texts_to_sequences(list_of_strings)\n",
        "    "
      ],
      "execution_count": 9,
      "outputs": []
    },
    {
      "cell_type": "code",
      "metadata": {
        "id": "hhYb2mSlRfSo"
      },
      "source": [
        "# Encode the text chunks into tokens\n",
        "\n",
        "seq_chunks = strings_to_sequences(tokenizer, text_chunks)"
      ],
      "execution_count": 10,
      "outputs": []
    },
    {
      "cell_type": "markdown",
      "metadata": {
        "id": "iRCN70xkRfSt"
      },
      "source": [
        "#### Pad the encoded sequences and store them in a numpy array"
      ]
    },
    {
      "cell_type": "markdown",
      "metadata": {
        "id": "3ucADRYoRfSu"
      },
      "source": [
        "Since not all of the text chunks are the same length, you will need to pad them in order to train on batches. You should now complete the following function, which takes the list of lists of tokens, and creates a single numpy array with the token sequences in the rows, according to the following specification:\n",
        "\n",
        "* The longest allowed sequence should be 500 tokens. Any sequence that is longer should be shortened by truncating the beginning of the sequence.\n",
        "* Use zeros for padding the sequences. The zero padding should be placed before the sequences as required.\n",
        "\n",
        "The function should then return the resulting numpy array.\n",
        "\n",
        "**Hint:** you may want to refer to the [documentation](https://www.tensorflow.org/api_docs/python/tf/keras/preprocessing/sequence/pad_sequences) for the `pad_sequences` function."
      ]
    },
    {
      "cell_type": "code",
      "metadata": {
        "id": "zLf-9KxWRfSw"
      },
      "source": [
        "#### GRADED CELL ####\n",
        "\n",
        "# Complete the following function.\n",
        "# Make sure not to change the function name or arguments.\n",
        "\n",
        "def make_padded_dataset(sequence_chunks):\n",
        "    \"\"\"\n",
        "    This function takes a list of lists of tokenized sequences, and transforms\n",
        "    them into a 2D numpy array, padding the sequences as necessary according to\n",
        "    the above specification. The function should then return the numpy array.\n",
        "    \"\"\"\n",
        "    sequence_chunks_npa = np.array(sequence_chunks)\n",
        "    return tf.keras.preprocessing.sequence.pad_sequences(\n",
        "        sequence_chunks_npa,\n",
        "        maxlen=500, \n",
        "        padding=\"pre\",\n",
        "        value=0.0\n",
        "    )\n",
        "    "
      ],
      "execution_count": 11,
      "outputs": []
    },
    {
      "cell_type": "code",
      "metadata": {
        "id": "IKB26MgJRfS0",
        "colab": {
          "base_uri": "https://localhost:8080/"
        },
        "outputId": "29a8c84d-746b-4fd4-fb44-7f55b4d929d1"
      },
      "source": [
        "# Pad the token sequence chunks and get the numpy array\n",
        "\n",
        "padded_sequences = make_padded_dataset(seq_chunks)"
      ],
      "execution_count": 12,
      "outputs": [
        {
          "output_type": "stream",
          "text": [
            "/usr/local/lib/python3.6/dist-packages/ipykernel_launcher.py:12: VisibleDeprecationWarning: Creating an ndarray from ragged nested sequences (which is a list-or-tuple of lists-or-tuples-or ndarrays with different lengths or shapes) is deprecated. If you meant to do this, you must specify 'dtype=object' when creating the ndarray\n",
            "  if sys.path[0] == '':\n"
          ],
          "name": "stderr"
        }
      ]
    },
    {
      "cell_type": "code",
      "metadata": {
        "colab": {
          "base_uri": "https://localhost:8080/"
        },
        "id": "aDqR3USkG5Fd",
        "outputId": "be7c7c4e-89a2-4722-902c-9ca0b6f1a6ce"
      },
      "source": [
        "padded_sequences.shape"
      ],
      "execution_count": 13,
      "outputs": [
        {
          "output_type": "execute_result",
          "data": {
            "text/plain": [
              "(7886, 500)"
            ]
          },
          "metadata": {
            "tags": []
          },
          "execution_count": 13
        }
      ]
    },
    {
      "cell_type": "markdown",
      "metadata": {
        "id": "U-4W2iICRfS3"
      },
      "source": [
        "#### Create model inputs and targets\n",
        "\n",
        "Now you are ready to build your RNN model. The model will receive a sequence of characters and predict the next character in the sequence. At training time, the model can be passed an input sequence, with the target sequence is shifted by one.\n",
        "\n",
        "For example, the expression `To be or not to be` appears in Shakespeare's play 'Hamlet'. Given input `To be or not to b`, the correct prediction is `o be or not to be`. Notice that the prediction is the same length as the input!\n",
        "\n",
        "![sequence_prediction_example](data/rnn_example.png)\n",
        "\n",
        "You should now write the following function to create an input and target array from the current `padded_sequences` array. The function has a single argument that is a 2D numpy array of shape `(num_examples, max_seq_len)`. It should fulfil the following specification:\n",
        "\n",
        "* The function should return an input array and an output array, both of size `(num_examples, max_seq_len - 1)`.\n",
        "* The input array should contain the first `max_seq_len - 1` tokens of each sequence. \n",
        "* The output array should contain the last `max_seq_len - 1` tokens of each sequence. \n",
        "\n",
        "The function should then return the tuple `(input_array, output_array)`. Note that it is possible to complete this function using numpy indexing alone!"
      ]
    },
    {
      "cell_type": "code",
      "metadata": {
        "id": "pzLY5mT3RfS5"
      },
      "source": [
        "#### GRADED CELL ####\n",
        "\n",
        "# Complete the following function.\n",
        "# Make sure not to change the function name or arguments.\n",
        "\n",
        "def create_inputs_and_targets(array_of_sequences):\n",
        "    \"\"\"\n",
        "    This function takes a 2D numpy array of token sequences, and returns a tuple of two\n",
        "    elements: the first element is the input array and the second element is the output\n",
        "    array, which are defined according to the above specification.\n",
        "    \"\"\"   \n",
        "    input_array = []\n",
        "    output_array = []\n",
        "    for a_sequence in array_of_sequences:\n",
        "        input_array.append(a_sequence[:-1]) \n",
        "        output_array.append(a_sequence[1:]) \n",
        "    \n",
        "    return (np.array(input_array), np.array(output_array))"
      ],
      "execution_count": 14,
      "outputs": []
    },
    {
      "cell_type": "code",
      "metadata": {
        "id": "MzHXg9HcRfTB"
      },
      "source": [
        "# Create the input and output arrays\n",
        "\n",
        "input_seq, target_seq = create_inputs_and_targets(padded_sequences)"
      ],
      "execution_count": 15,
      "outputs": []
    },
    {
      "cell_type": "code",
      "metadata": {
        "colab": {
          "base_uri": "https://localhost:8080/"
        },
        "id": "bxCACqwILMaM",
        "outputId": "e1600c46-800c-49c1-e9b1-9cb074d2bf9f"
      },
      "source": [
        "input_seq.shape"
      ],
      "execution_count": 16,
      "outputs": [
        {
          "output_type": "execute_result",
          "data": {
            "text/plain": [
              "(7886, 499)"
            ]
          },
          "metadata": {
            "tags": []
          },
          "execution_count": 16
        }
      ]
    },
    {
      "cell_type": "markdown",
      "metadata": {
        "id": "YFTEK7hnRfTJ"
      },
      "source": [
        "#### Preprocess sequence array for stateful RNN\n",
        "\n",
        "We will build our RNN language model to be stateful, so that the internal state of the RNN will be maintained across batches. For this to be effective, we need to make sure that each element of every batch follows on from the corresponding element of the preceding batch (you may want to look back at the \"Stateful RNNs\" reading notebook earlier in the week).\n",
        "\n",
        "The following code processes the input and output sequence arrays so that they are ready to be split into batches for training a stateful RNN, by re-ordering the sequence examples (the rows) according to a specified batch size. "
      ]
    },
    {
      "cell_type": "code",
      "metadata": {
        "id": "S4gsVamxRfTK"
      },
      "source": [
        "# Fix the batch size for training\n",
        "\n",
        "batch_size = 32"
      ],
      "execution_count": 17,
      "outputs": []
    },
    {
      "cell_type": "code",
      "metadata": {
        "id": "cJu9VgWFRfTP"
      },
      "source": [
        "# Prepare input and output arrays for training the stateful RNN\n",
        "\n",
        "num_examples = input_seq.shape[0]\n",
        "\n",
        "num_processed_examples = num_examples - (num_examples % batch_size)\n",
        "\n",
        "input_seq = input_seq[:num_processed_examples]\n",
        "target_seq = target_seq[:num_processed_examples]\n",
        "\n",
        "steps = int(num_processed_examples / 32)  # steps per epoch\n",
        "\n",
        "inx = np.empty((0,), dtype=np.int32)\n",
        "for i in range(steps):\n",
        "    inx = np.concatenate((inx, i + np.arange(0, num_processed_examples, steps)))\n",
        "\n",
        "input_seq_stateful = input_seq[inx]\n",
        "target_seq_stateful = target_seq[inx]"
      ],
      "execution_count": 18,
      "outputs": []
    },
    {
      "cell_type": "markdown",
      "metadata": {
        "id": "Rm8gNoNJRfTT"
      },
      "source": [
        "#### Split the data into training and validation sets\n",
        "\n",
        "We will set aside approximately 20% of the data for validation."
      ]
    },
    {
      "cell_type": "code",
      "metadata": {
        "id": "iiLWfyemRfTU"
      },
      "source": [
        "# Create the training and validation splits\n",
        "\n",
        "num_train_examples = int(batch_size * ((0.8 * num_processed_examples) // batch_size))\n",
        "\n",
        "input_train = input_seq_stateful[:num_train_examples]\n",
        "target_train = target_seq_stateful[:num_train_examples]\n",
        "\n",
        "input_valid = input_seq_stateful[num_train_examples:]\n",
        "target_valid = target_seq_stateful[num_train_examples:]"
      ],
      "execution_count": 19,
      "outputs": []
    },
    {
      "cell_type": "markdown",
      "metadata": {
        "id": "FQ_mAEoPRfTX"
      },
      "source": [
        "#### Create training and validation Dataset objects\n",
        "\n",
        "You should now write a function to take the training and validation input and target arrays, and create training and validation `tf.data.Dataset` objects. The function takes an input array and target array in the first two arguments, and the batch size in the third argument. Your function should do the following:\n",
        "\n",
        "* Create a `Dataset` using the `from_tensor_slices` static method, passing in a tuple of the input and output numpy arrays.\n",
        "* Batch the `Dataset` using the `batch_size` argument, setting `drop_remainder` to `True`. \n",
        "\n",
        "The function should then return the `Dataset` object."
      ]
    },
    {
      "cell_type": "code",
      "metadata": {
        "id": "_DJAjEHKRfTY"
      },
      "source": [
        "#### GRADED CELL ####\n",
        "\n",
        "# Complete the following function.\n",
        "# Make sure not to change the function name or arguments.\n",
        "\n",
        "def make_Dataset(input_array, target_array, batch_size):\n",
        "    \"\"\"\n",
        "    This function takes two 2D numpy arrays in the first two arguments, and an integer\n",
        "    batch_size in the third argument. It should create and return a Dataset object \n",
        "    using the two numpy arrays and batch size according to the above specification.\n",
        "    \"\"\"\n",
        "    dataset = tf.data.Dataset.from_tensor_slices(\n",
        "        (input_array, target_array)\n",
        "    )\n",
        "\n",
        "    return dataset.batch(batch_size, drop_remainder=True)\n",
        "    "
      ],
      "execution_count": 20,
      "outputs": []
    },
    {
      "cell_type": "code",
      "metadata": {
        "id": "rzqK_qVARfTc"
      },
      "source": [
        "# Create the training and validation Datasets\n",
        "\n",
        "train_data = make_Dataset(input_train, target_train, batch_size)\n",
        "valid_data = make_Dataset(input_valid, target_valid, batch_size)"
      ],
      "execution_count": 21,
      "outputs": []
    },
    {
      "cell_type": "markdown",
      "metadata": {
        "id": "IKfaWcCCRfTf"
      },
      "source": [
        "#### Build the recurrent neural network model"
      ]
    },
    {
      "cell_type": "markdown",
      "metadata": {
        "id": "KcPyteqDRfTh"
      },
      "source": [
        "You are now ready to build your RNN character-level language model. You should write the following function to build the model; the function takes arguments for the batch size and vocabulary size (number of tokens). Using the Sequential API, your function should build your model according to the following specifications:\n",
        "\n",
        "* The first layer should be an Embedding layer with an embedding dimension of 256 and set the vocabulary size to `vocab_size` from the function argument.\n",
        "* The Embedding layer should also mask the zero padding in the input sequences.\n",
        "* The Embedding layer should also set the `batch_input_shape` to `(batch_size, None)` (a fixed batch size is required for stateful RNNs).\n",
        "* The next layer should be a (uni-directional) GRU layer with 1024 units, set to be a stateful RNN layer.\n",
        "* The GRU layer should return the full sequence, instead of just the output state at the final time step.\n",
        "* The final layer should be a Dense layer with `vocab_size` units and no activation function.\n",
        "\n",
        "In total, the network should have 3 layers."
      ]
    },
    {
      "cell_type": "code",
      "metadata": {
        "id": "oauekqOSRfTi"
      },
      "source": [
        "#### GRADED CELL ####\n",
        "\n",
        "# Complete the following function.\n",
        "# Make sure not to change the function name or arguments.\n",
        "\n",
        "def get_model(vocab_size, batch_size):\n",
        "    \"\"\"\n",
        "    This function takes a vocabulary size and batch size, and builds and returns a \n",
        "    Sequential model according to the above specification.\n",
        "    \"\"\"\n",
        "    model = tf.keras.models.Sequential([\n",
        "        tf.keras.layers.Embedding(input_dim=vocab_size, output_dim=256, mask_zero=True, batch_input_shape=(batch_size, None)),\n",
        "        tf.keras.layers.GRU(1024, stateful=True, return_sequences=True, name=\"gru\"),\n",
        "        tf.keras.layers.Dense(vocab_size)\n",
        "    ])\n",
        "    \n",
        "    return model"
      ],
      "execution_count": 47,
      "outputs": []
    },
    {
      "cell_type": "code",
      "metadata": {
        "id": "AmmEfYo-RfTl",
        "colab": {
          "base_uri": "https://localhost:8080/"
        },
        "outputId": "3cfe851f-1591-4829-b3a0-6ebf58b8efa0"
      },
      "source": [
        "# Build the model and print the model summary\n",
        "\n",
        "model = get_model(len(tokenizer.word_index) + 1, batch_size)\n",
        "model.summary()"
      ],
      "execution_count": 48,
      "outputs": [
        {
          "output_type": "stream",
          "text": [
            "Model: \"sequential_3\"\n",
            "_________________________________________________________________\n",
            "Layer (type)                 Output Shape              Param #   \n",
            "=================================================================\n",
            "embedding_3 (Embedding)      (32, None, 256)           16640     \n",
            "_________________________________________________________________\n",
            "gru (GRU)                    (32, None, 1024)          3938304   \n",
            "_________________________________________________________________\n",
            "dense_3 (Dense)              (32, None, 65)            66625     \n",
            "=================================================================\n",
            "Total params: 4,021,569\n",
            "Trainable params: 4,021,569\n",
            "Non-trainable params: 0\n",
            "_________________________________________________________________\n"
          ],
          "name": "stdout"
        }
      ]
    },
    {
      "cell_type": "markdown",
      "metadata": {
        "id": "4PJ4cU0YRfTo"
      },
      "source": [
        "#### Compile and train the model\n",
        "\n",
        "You are now ready to compile and train the model. For this model and dataset, the training time is very long. Therefore for this assignment it is not a requirement to train the model. We have pre-trained a model for you (using the code below) and saved the model weights, which can be loaded to get the model predictions. \n",
        "\n",
        "It is recommended to use accelerator hardware (e.g. using Colab) when training this model. It would also be beneficial to increase the size of the model, e.g. by stacking extra recurrent layers."
      ]
    },
    {
      "cell_type": "code",
      "metadata": {
        "id": "62k8AD8eRfTp"
      },
      "source": [
        "# Choose whether to train a new model or load the pre-trained model\n",
        "\n",
        "skip_training = False"
      ],
      "execution_count": 49,
      "outputs": []
    },
    {
      "cell_type": "code",
      "metadata": {
        "id": "DJhnIUHSRfTt",
        "colab": {
          "base_uri": "https://localhost:8080/"
        },
        "outputId": "b9cfe45d-a478-49a2-a095-c16afd860bed"
      },
      "source": [
        "# Compile and train the model, or load pre-trained weights\n",
        "\n",
        "if not skip_training:\n",
        "    checkpoint_callback=tf.keras.callbacks.ModelCheckpoint(filepath='./models/ckpt',\n",
        "                                                           save_weights_only=True,\n",
        "                                                           save_best_only=True)\n",
        "    model.compile(optimizer='adam', loss=tf.keras.losses.SparseCategoricalCrossentropy(from_logits=True),\n",
        "                  metrics=['sparse_categorical_accuracy'])\n",
        "    history = model.fit(train_data, epochs=10, validation_data=valid_data, \n",
        "                        validation_steps=50, callbacks=[checkpoint_callback])"
      ],
      "execution_count": 50,
      "outputs": [
        {
          "output_type": "stream",
          "text": [
            "Epoch 1/10\n",
            "196/196 [==============================] - 85s 426ms/step - loss: 0.8747 - sparse_categorical_accuracy: 0.2081 - val_loss: 0.5869 - val_sparse_categorical_accuracy: 0.3894\n",
            "Epoch 2/10\n",
            "196/196 [==============================] - 83s 422ms/step - loss: 0.5426 - sparse_categorical_accuracy: 0.4196 - val_loss: 0.4854 - val_sparse_categorical_accuracy: 0.4862\n",
            "Epoch 3/10\n",
            "196/196 [==============================] - 83s 424ms/step - loss: 0.4562 - sparse_categorical_accuracy: 0.5051 - val_loss: 0.4354 - val_sparse_categorical_accuracy: 0.5343\n",
            "Epoch 4/10\n",
            "196/196 [==============================] - 83s 422ms/step - loss: 0.4102 - sparse_categorical_accuracy: 0.5497 - val_loss: 0.4097 - val_sparse_categorical_accuracy: 0.5592\n",
            "Epoch 5/10\n",
            "196/196 [==============================] - 83s 423ms/step - loss: 0.3822 - sparse_categorical_accuracy: 0.5759 - val_loss: 0.3956 - val_sparse_categorical_accuracy: 0.5729\n",
            "Epoch 6/10\n",
            "196/196 [==============================] - 83s 423ms/step - loss: 0.3623 - sparse_categorical_accuracy: 0.5942 - val_loss: 0.3877 - val_sparse_categorical_accuracy: 0.5805\n",
            "Epoch 7/10\n",
            "196/196 [==============================] - 83s 423ms/step - loss: 0.3460 - sparse_categorical_accuracy: 0.6090 - val_loss: 0.3851 - val_sparse_categorical_accuracy: 0.5835\n",
            "Epoch 8/10\n",
            "196/196 [==============================] - 83s 423ms/step - loss: 0.3318 - sparse_categorical_accuracy: 0.6228 - val_loss: 0.3842 - val_sparse_categorical_accuracy: 0.5845\n",
            "Epoch 9/10\n",
            "196/196 [==============================] - 83s 423ms/step - loss: 0.3179 - sparse_categorical_accuracy: 0.6370 - val_loss: 0.3864 - val_sparse_categorical_accuracy: 0.5847\n",
            "Epoch 10/10\n",
            "196/196 [==============================] - 83s 421ms/step - loss: 0.3044 - sparse_categorical_accuracy: 0.6509 - val_loss: 0.3924 - val_sparse_categorical_accuracy: 0.5844\n"
          ],
          "name": "stdout"
        }
      ]
    },
    {
      "cell_type": "code",
      "metadata": {
        "id": "yqjTlQyoRfTx"
      },
      "source": [
        "# Save model history as a json file, or load it if using pre-trained weights\n",
        "\n",
        "if not skip_training:\n",
        "    history_dict = dict()\n",
        "    for k, v in history.history.items():\n",
        "        history_dict[k] = [float(val) for val in history.history[k]]\n",
        "    with open('models/history.json', 'w+') as json_file:\n",
        "        json.dump(history_dict, json_file, sort_keys=True, indent=4)\n",
        "else:\n",
        "    with open('models/history.json', 'r') as json_file:\n",
        "        history_dict = json.load(json_file)"
      ],
      "execution_count": 51,
      "outputs": []
    },
    {
      "cell_type": "markdown",
      "metadata": {
        "id": "upDpsmf9RfT2"
      },
      "source": [
        "#### Plot the learning curves"
      ]
    },
    {
      "cell_type": "code",
      "metadata": {
        "id": "gGpPk5bbRfT3",
        "colab": {
          "base_uri": "https://localhost:8080/",
          "height": 350
        },
        "outputId": "0804f969-1109-4d18-a988-b65054ab8789"
      },
      "source": [
        "# Run this cell to plot accuracy vs epoch and loss vs epoch\n",
        "\n",
        "plt.figure(figsize=(15,5))\n",
        "plt.subplot(121)\n",
        "plt.plot(history_dict['sparse_categorical_accuracy'])\n",
        "plt.plot(history_dict['val_sparse_categorical_accuracy'])\n",
        "plt.title('Accuracy vs. epochs')\n",
        "plt.ylabel('Accuracy')\n",
        "plt.xlabel('Epoch')\n",
        "plt.xticks(np.arange(len(history_dict['sparse_categorical_accuracy'])))\n",
        "ax = plt.gca()\n",
        "ax.set_xticklabels(1 + np.arange(len(history_dict['sparse_categorical_accuracy'])))\n",
        "plt.legend(['Training', 'Validation'], loc='lower right')\n",
        "\n",
        "plt.subplot(122)\n",
        "plt.plot(history_dict['loss'])\n",
        "plt.plot(history_dict['val_loss'])\n",
        "plt.title('Loss vs. epochs')\n",
        "plt.ylabel('Loss')\n",
        "plt.xlabel('Epoch')\n",
        "plt.xticks(np.arange(len(history_dict['sparse_categorical_accuracy'])))\n",
        "ax = plt.gca()\n",
        "ax.set_xticklabels(1 + np.arange(len(history_dict['sparse_categorical_accuracy'])))\n",
        "plt.legend(['Training', 'Validation'], loc='upper right')\n",
        "plt.show() "
      ],
      "execution_count": 52,
      "outputs": [
        {
          "output_type": "display_data",
          "data": {
            "image/png": "[encoded data removed]",
            "text/plain": [
              "<Figure size 1080x360 with 2 Axes>"
            ]
          },
          "metadata": {
            "tags": [],
            "needs_background": "light"
          }
        }
      ]
    },
    {
      "cell_type": "markdown",
      "metadata": {
        "id": "2msBeLSoRfT7"
      },
      "source": [
        "#### Write a text generation algorithm\n",
        "\n",
        "You can now use the model to generate text! In order to generate a single text sequence, the model needs to be rebuilt with a batch size of 1."
      ]
    },
    {
      "cell_type": "code",
      "metadata": {
        "id": "zzQW69qxRfT_",
        "colab": {
          "base_uri": "https://localhost:8080/"
        },
        "outputId": "ede09bd6-4257-4aa0-d807-aa9ad4e36de1"
      },
      "source": [
        "# Re-build the model and load the saved weights\n",
        "\n",
        "model = get_model(len(tokenizer.word_index) + 1, batch_size=1)\n",
        "model.load_weights(tf.train.latest_checkpoint('./models/'))"
      ],
      "execution_count": 53,
      "outputs": [
        {
          "output_type": "execute_result",
          "data": {
            "text/plain": [
              "<tensorflow.python.training.tracking.util.CheckpointLoadStatus at 0x7f0e880ac978>"
            ]
          },
          "metadata": {
            "tags": []
          },
          "execution_count": 53
        }
      ]
    },
    {
      "cell_type": "markdown",
      "metadata": {
        "id": "TM3LHQAgRfUD"
      },
      "source": [
        "An algorithm to generate text is as follows:\n",
        "\n",
        "1. Specify a seed string (e.g. `'ROMEO:'`) to get the network started, and a define number of characters for the model to generate, `num_generation_steps`.\n",
        "2. Tokenize this sentence to obtain a list containing one list of the integer tokens.\n",
        "3. Reset the initial state of the network. \n",
        "4. Convert the token list into a Tensor (or numpy array) and pass it to your model as a batch of size one.\n",
        "5. Get the model prediction (logits) for the last time step and extract the state of the recurrent layer.\n",
        "6. Use the logits to construct a categorical distribution and sample a token from it.\n",
        "7. Repeat the following for `num_generation_steps - 1` steps:\n",
        "\n",
        "    1. Use the saved state of the recurrent layer and the last sampled token to get new logit predictions\n",
        "    2. Use the logits to construct a new categorical distribution and sample a token from it.\n",
        "    3. Save the updated state of the recurrent layer.    \n",
        "\n",
        "8. Take the final list of tokens and convert to text using the Tokenizer.\n",
        "\n",
        "Note that the internal state of the recurrent layer can be accessed using the `states` property. For the GRU layer, it is a list of one variable:"
      ]
    },
    {
      "cell_type": "code",
      "metadata": {
        "id": "DDbzdt0LRfUE",
        "colab": {
          "base_uri": "https://localhost:8080/"
        },
        "outputId": "67acf370-f5b3-4f50-a5ff-468a5b85bb36"
      },
      "source": [
        "# Inspect the model's current recurrent state\n",
        "\n",
        "model.layers[1].states"
      ],
      "execution_count": 54,
      "outputs": [
        {
          "output_type": "execute_result",
          "data": {
            "text/plain": [
              "[<tf.Variable 'gru/Variable:0' shape=(1, 1024) dtype=float32, numpy=array([[0., 0., 0., ..., 0., 0., 0.]], dtype=float32)>]"
            ]
          },
          "metadata": {
            "tags": []
          },
          "execution_count": 54
        }
      ]
    },
    {
      "cell_type": "markdown",
      "metadata": {
        "id": "2KvmtkvrRfUI"
      },
      "source": [
        "We will break the algorithm down into two steps. First, you should now complete the following function that takes a sequence of tokens of any length and returns the model's prediction (the logits) for the last time step. The specification is as follows:\n",
        "\n",
        "* The token sequence will be a python list, containing one list of integer tokens, e.g. `[[1, 2, 3, 4]]`\n",
        "* The function should convert the list into a 2D Tensor or numpy array\n",
        "* If the function argument `initial_state` is `None`, then the function should reset the state of the recurrent layer to zeros.\n",
        "* Otherwise, if the function argument `initial_state` is a 2D Tensor or numpy array, assign the value of the internal state of the GRU layer to this argument.\n",
        "* Get the model's prediction (logits) for the last time step only.\n",
        "\n",
        "The function should then return the logits as a 2D numpy array, where the first dimension is equal to 1 (batch size).\n",
        "\n",
        "**Hint:** the internal state of the recurrent can be reset to zeros using the `reset_states` method."
      ]
    },
    {
      "cell_type": "code",
      "metadata": {
        "id": "3aHg6y44RfUJ"
      },
      "source": [
        "#### GRADED CELL ####\n",
        "\n",
        "# Complete the following function.\n",
        "# Make sure not to change the function name or arguments.\n",
        "\n",
        "def get_logits(model, token_sequence, initial_state=None):\n",
        "    \"\"\"\n",
        "    This function takes a model object, a token sequence and an optional initial\n",
        "    state for the recurrent layer. The function should return the logits prediction\n",
        "    for the final time step as a 2D numpy array.\n",
        "    \"\"\"\n",
        "    token_sequence_npa = np.array(token_sequence)\n",
        "    if(initial_state is None):\n",
        "        # Reset\n",
        "        model.layers[1].reset_states()\n",
        "    else:\n",
        "        model.layers[1].reset_states(states = initial_state)\n",
        "\n",
        "    predictions = model.predict(token_sequence_npa)\n",
        "    predictions = np.expand_dims(predictions[0, -1, :], 0)\n",
        "    \n",
        "    return predictions"
      ],
      "execution_count": 55,
      "outputs": []
    },
    {
      "cell_type": "code",
      "metadata": {
        "id": "La2CNRzqRfUN",
        "colab": {
          "base_uri": "https://localhost:8080/"
        },
        "outputId": "4189cc4d-a9c9-45c2-9c3f-2a5027336e60"
      },
      "source": [
        "# Test the get_logits function by passing a dummy token sequence\n",
        "\n",
        "dummy_initial_state = tf.random.normal(model.layers[1].states[0].shape)\n",
        "get_logits(model, [[1, 2, 3, 4]], initial_state=dummy_initial_state)"
      ],
      "execution_count": 56,
      "outputs": [
        {
          "output_type": "execute_result",
          "data": {
            "text/plain": [
              "array([[-4.1423    ,  3.2522178 ,  2.7423382 ,  0.52070385,  1.1176143 ,\n",
              "        -3.1657891 , -3.2376008 ,  6.1198306 ,  6.8627276 ,  3.6613572 ,\n",
              "         1.8165005 ,  1.1983454 ,  3.3101988 ,  4.005957  ,  7.1861725 ,\n",
              "         6.2778378 , -2.956877  , -0.29436606,  2.2189023 ,  0.92525905,\n",
              "         2.474779  ,  0.19377844, -5.9853635 ,  2.7910922 ,  5.814127  ,\n",
              "         0.37665495, -7.502276  ,  0.04881577, -2.5282292 , -4.2470484 ,\n",
              "         1.1124607 , -6.41674   , -7.681648  , -1.9918871 , -4.451042  ,\n",
              "        -1.8536315 , -5.8708797 , -8.024151  , -1.4550593 , -4.039068  ,\n",
              "        -4.46732   , -6.236351  , -4.6510563 , -2.0256486 , -2.4614663 ,\n",
              "        -7.0562067 , -2.7146916 , -7.019243  ,  0.92017955, -5.6352344 ,\n",
              "        -7.3838725 , -3.8534942 , -8.160831  , -4.967659  , -0.7688341 ,\n",
              "        -2.7175684 , -1.5413398 , -1.6230507 , -5.9881887 , -7.0415654 ,\n",
              "        -4.275264  , -3.1698797 , -5.7510624 , -5.3416862 , -6.4242015 ]],\n",
              "      dtype=float32)"
            ]
          },
          "metadata": {
            "tags": []
          },
          "execution_count": 56
        }
      ]
    },
    {
      "cell_type": "markdown",
      "metadata": {
        "id": "KcMB8Yv5RfUQ"
      },
      "source": [
        "You should now write a function that takes a logits prediction similar to the above, uses it to create a categorical distribution, and samples a token from this distribution. The following function takes a 2D numpy array `logits` as an argument, and should return a single integer prediction that is sampled from the categorical distribution. \n",
        "\n",
        "**Hint:** you might find the `tf.random.categorical` function useful for this; see the documentation [here](https://www.tensorflow.org/api_docs/python/tf/random/categorical)."
      ]
    },
    {
      "cell_type": "code",
      "metadata": {
        "id": "LObVBMdzRfUS"
      },
      "source": [
        "#### GRADED CELL ####\n",
        "\n",
        "# Complete the following function.\n",
        "# Make sure not to change the function name or arguments.\n",
        "\n",
        "def sample_token(logits):\n",
        "    \"\"\"\n",
        "    This function takes a 2D numpy array as an input, and constructs a \n",
        "    categorical distribution using it. It should then sample from this\n",
        "    distribution and return the sample as a single integer.\n",
        "    \"\"\"\n",
        "    predicted_ids = tf.random.categorical(logits, num_samples=1)\n",
        "    predicted_ids = tf.squeeze(predicted_ids, axis=-1)\n",
        "    return predicted_ids.numpy()[0]\n",
        "    "
      ],
      "execution_count": 80,
      "outputs": []
    },
    {
      "cell_type": "code",
      "metadata": {
        "id": "MrgPsuOYRfUV",
        "colab": {
          "base_uri": "https://localhost:8080/"
        },
        "outputId": "31a43a4b-0797-460e-b1f5-085171dfd360"
      },
      "source": [
        "# Test the sample_token function by passing dummy logits\n",
        "\n",
        "dummy_initial_state = tf.random.normal(model.layers[1].states[0].shape)\n",
        "dummy_logits = get_logits(model, [[1, 2, 3, 4]], initial_state=dummy_initial_state)\n",
        "sample_token(dummy_logits)"
      ],
      "execution_count": 81,
      "outputs": [
        {
          "output_type": "execute_result",
          "data": {
            "text/plain": [
              "14"
            ]
          },
          "metadata": {
            "tags": []
          },
          "execution_count": 81
        }
      ]
    },
    {
      "cell_type": "code",
      "metadata": {
        "id": "Q23e4MNpRfUY",
        "colab": {
          "base_uri": "https://localhost:8080/"
        },
        "outputId": "8848c0c4-1c1c-40f5-b9ca-abd836f3b10e"
      },
      "source": [
        "logits_size = dummy_logits.shape[1]\n",
        "dummy_logits = -np.inf*np.ones((1, logits_size))\n",
        "dummy_logits[0, 20] = 0\n",
        "out = sample_token(dummy_logits)\n",
        "random_inx = np.random.choice(logits_size, 2, replace=False)\n",
        "random_inx1, random_inx2 = random_inx[0], random_inx[1]\n",
        "print(random_inx1, random_inx2, out)\n",
        "dummy_logits = -np.inf*np.ones((1, logits_size))\n",
        "dummy_logits[0, random_inx1] = 0\n",
        "dummy_logits[0, random_inx2] = 0\n",
        "sampled_token = []\n",
        "for _ in range(100):\n",
        "    sampled_token.append(sample_token(dummy_logits))\n",
        "    \n",
        "l_tokens, l_counts = np.unique(np.array(sampled_token), return_counts=True)\n",
        "len(l_tokens) == 2"
      ],
      "execution_count": 83,
      "outputs": [
        {
          "output_type": "stream",
          "text": [
            "17 33 20\n"
          ],
          "name": "stdout"
        },
        {
          "output_type": "execute_result",
          "data": {
            "text/plain": [
              "True"
            ]
          },
          "metadata": {
            "tags": []
          },
          "execution_count": 83
        }
      ]
    },
    {
      "cell_type": "markdown",
      "metadata": {
        "id": "7A0FOxOTRfUc"
      },
      "source": [
        "#### Generate text from the model\n",
        "\n",
        "You are now ready to generate text from the model!"
      ]
    },
    {
      "cell_type": "code",
      "metadata": {
        "id": "KgXNTiaYRfUd"
      },
      "source": [
        "# Create a seed string and number of generation steps\n",
        "\n",
        "init_string = 'ROMEO:'\n",
        "num_generation_steps = 1000"
      ],
      "execution_count": 84,
      "outputs": []
    },
    {
      "cell_type": "code",
      "metadata": {
        "id": "6jm4JeyyRfUf",
        "colab": {
          "base_uri": "https://localhost:8080/"
        },
        "outputId": "2188e64d-dcb7-49b0-af4e-36780b58c2b3"
      },
      "source": [
        "# Use the model to generate a token sequence\n",
        "\n",
        "token_sequence = tokenizer.texts_to_sequences([init_string])\n",
        "initial_state = None\n",
        "input_sequence = token_sequence\n",
        "\n",
        "for _ in range(num_generation_steps):\n",
        "    logits = get_logits(model, input_sequence, initial_state=initial_state)\n",
        "    sampled_token = sample_token(logits)\n",
        "    token_sequence[0].append(sampled_token)\n",
        "    input_sequence = [[sampled_token]]\n",
        "    initial_state = model.layers[1].states[0].numpy()\n",
        "    \n",
        "print(tokenizer.sequences_to_texts(token_sequence)[0][::2])"
      ],
      "execution_count": 85,
      "outputs": [
        {
          "output_type": "stream",
          "text": [
            "ROMEO:\n",
            "Gentleman!\n",
            "\n",
            "COMINIUS:\n",
            "The wendernce, man, your banish'd child!\n",
            "WARUMERLE:\n",
            "Sis hardon, end thou pand'st therefore;\n",
            "That can you twenty-scend my power--\n",
            "Toge how long fap was from blood: never too lover it I\n",
            "may, sir; as I quiee, 'tis goney are, yet talk;\n",
            "And, to ass the way, let us repoice,\n",
            "That my gratlers in writes here delay,\n",
            "How the man, Penry, in Warwick, and blamed\n",
            "If nobly seas and many's needing,\n",
            "I pray you, bring for eventationably:\n",
            "To give my lech-ckare, this glass, have done wou have,\n",
            "That Took an nent things nor favourable:\n",
            "Being course: what is thy very tale, no\n",
            "\n",
            "LADY CAPULET:\n",
            "Then never is banish'd that he of, like dicine\n",
            "The incredion of hurtine away\n",
            "The world himself: and make may be appointed,\n",
            "That hail, hear their death,\n",
            "Report cheer and the main did make thee;\n",
            "For he is now then did our deeds go another of my means,\n",
            "To liele the sea, and I come, to draw in this young passor,\n",
            "Marchs have at fivour'd now give you, sither rediest\n",
            "The golded beoks that their love is so l\n"
          ],
          "name": "stdout"
        }
      ]
    },
    {
      "cell_type": "markdown",
      "metadata": {
        "id": "O9mUfLUyRfUl"
      },
      "source": [
        "Congratulations for completing this programming assignment! In the next week of the course we will see how to build customised models and layers, and make custom training loops."
      ]
    }
  ]
}