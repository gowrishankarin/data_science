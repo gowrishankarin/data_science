{
 "cells": [
  {
   "cell_type": "code",
   "execution_count": 2,
   "metadata": {
    "execution": {
     "iopub.execute_input": "2021-04-01T10:47:40.619464Z",
     "iopub.status.busy": "2021-04-01T10:47:40.619198Z",
     "iopub.status.idle": "2021-04-01T10:47:40.623125Z",
     "shell.execute_reply": "2021-04-01T10:47:40.622364Z",
     "shell.execute_reply.started": "2021-04-01T10:47:40.619443Z"
    }
   },
   "outputs": [],
   "source": [
    "import tensorflow as tf\n",
    "import tensorflow_probability as tfp\n",
    "tfd = tfp.distributions\n",
    "tfb = tfp.bijectors"
   ]
  },
  {
   "cell_type": "code",
   "execution_count": 3,
   "metadata": {
    "execution": {
     "iopub.execute_input": "2021-04-01T10:48:06.304091Z",
     "iopub.status.busy": "2021-04-01T10:48:06.303876Z",
     "iopub.status.idle": "2021-04-01T10:48:06.322267Z",
     "shell.execute_reply": "2021-04-01T10:48:06.321430Z",
     "shell.execute_reply.started": "2021-04-01T10:48:06.304068Z"
    }
   },
   "outputs": [],
   "source": [
    "scale_tril = tfb.FillScaleTriL()([-0.5, 1.25, 1.])"
   ]
  },
  {
   "cell_type": "code",
   "execution_count": 7,
   "metadata": {
    "execution": {
     "iopub.execute_input": "2021-04-01T10:51:38.716086Z",
     "iopub.status.busy": "2021-04-01T10:51:38.715849Z",
     "iopub.status.idle": "2021-04-01T10:51:38.721433Z",
     "shell.execute_reply": "2021-04-01T10:51:38.720669Z",
     "shell.execute_reply.started": "2021-04-01T10:51:38.716061Z"
    }
   },
   "outputs": [],
   "source": [
    "scale_tril_chain = tfb.Chain([\n",
    "    tfb.TransformDiagonal(tfb.Chain([\n",
    "        tfb.Shift(1e-5), \n",
    "        tfb.Softplus()\n",
    "    ])),\n",
    "    tfb.FillTriangular()\n",
    "])"
   ]
  },
  {
   "cell_type": "code",
   "execution_count": 9,
   "metadata": {
    "execution": {
     "iopub.execute_input": "2021-04-01T10:51:59.930467Z",
     "iopub.status.busy": "2021-04-01T10:51:59.930228Z",
     "iopub.status.idle": "2021-04-01T10:51:59.938167Z",
     "shell.execute_reply": "2021-04-01T10:51:59.937383Z",
     "shell.execute_reply.started": "2021-04-01T10:51:59.930441Z"
    }
   },
   "outputs": [],
   "source": [
    "p = tfd.MultivariateNormalTriL(loc=0, scale_tril=scale_tril)\n",
    "# p2 = tfd.MultivariateNormalTriL(loc=0, scale_tril=scale_tril_chain)"
   ]
  },
  {
   "cell_type": "code",
   "execution_count": 10,
   "metadata": {
    "execution": {
     "iopub.execute_input": "2021-04-01T10:53:31.576468Z",
     "iopub.status.busy": "2021-04-01T10:53:31.576107Z",
     "iopub.status.idle": "2021-04-01T10:53:31.584813Z",
     "shell.execute_reply": "2021-04-01T10:53:31.583662Z",
     "shell.execute_reply.started": "2021-04-01T10:53:31.576436Z"
    }
   },
   "outputs": [],
   "source": [
    "# Symmetric and positive definite\n",
    "\n",
    "# isotropic gaussian with zero mean\n",
    "q = tfd.MultivariateNormalDiag(loc=[0., 0.])"
   ]
  },
  {
   "cell_type": "code",
   "execution_count": 11,
   "metadata": {
    "execution": {
     "iopub.execute_input": "2021-04-01T10:53:43.696464Z",
     "iopub.status.busy": "2021-04-01T10:53:43.696074Z",
     "iopub.status.idle": "2021-04-01T10:53:43.709313Z",
     "shell.execute_reply": "2021-04-01T10:53:43.708060Z",
     "shell.execute_reply.started": "2021-04-01T10:53:43.696417Z"
    }
   },
   "outputs": [
    {
     "data": {
      "text/plain": [
       "<tf.Tensor: shape=(), dtype=float32, numpy=3.0560925>"
      ]
     },
     "execution_count": 11,
     "metadata": {},
     "output_type": "execute_result"
    }
   ],
   "source": [
    "tfd.kl_divergence(q, p)"
   ]
  },
  {
   "cell_type": "markdown",
   "metadata": {},
   "source": [
    "### KL Divergence as an objective function"
   ]
  },
  {
   "cell_type": "code",
   "execution_count": 12,
   "metadata": {
    "execution": {
     "iopub.execute_input": "2021-04-01T10:56:24.253186Z",
     "iopub.status.busy": "2021-04-01T10:56:24.252890Z",
     "iopub.status.idle": "2021-04-01T10:56:24.269346Z",
     "shell.execute_reply": "2021-04-01T10:56:24.268496Z",
     "shell.execute_reply.started": "2021-04-01T10:56:24.253142Z"
    }
   },
   "outputs": [],
   "source": [
    "q = tfd.MultivariateNormalDiag(\n",
    "    loc=tf.Variable(tf.random.normal([2])), # isotropic gaussian\n",
    "    scale_diag=tfp.util.TransformedVariable(\n",
    "        tf.random.uniform([2]), bijector=tfb.Exp()\n",
    "    )\n",
    ")"
   ]
  },
  {
   "cell_type": "code",
   "execution_count": 13,
   "metadata": {
    "execution": {
     "iopub.execute_input": "2021-04-01T10:56:37.859734Z",
     "iopub.status.busy": "2021-04-01T10:56:37.859490Z",
     "iopub.status.idle": "2021-04-01T10:56:37.871718Z",
     "shell.execute_reply": "2021-04-01T10:56:37.870904Z",
     "shell.execute_reply.started": "2021-04-01T10:56:37.859711Z"
    }
   },
   "outputs": [
    {
     "data": {
      "text/plain": [
       "<tf.Tensor: shape=(), dtype=float32, numpy=4.878487>"
      ]
     },
     "execution_count": 13,
     "metadata": {},
     "output_type": "execute_result"
    }
   ],
   "source": [
    "tfd.kl_divergence(q, p)"
   ]
  },
  {
   "cell_type": "code",
   "execution_count": 14,
   "metadata": {
    "execution": {
     "iopub.execute_input": "2021-04-01T10:59:13.967928Z",
     "iopub.status.busy": "2021-04-01T10:59:13.967547Z",
     "iopub.status.idle": "2021-04-01T10:59:13.973273Z",
     "shell.execute_reply": "2021-04-01T10:59:13.972233Z",
     "shell.execute_reply.started": "2021-04-01T10:59:13.967894Z"
    }
   },
   "outputs": [],
   "source": [
    "@tf.function\n",
    "def loss_and_grads(q_dist):\n",
    "    with tf.GradientTape() as tape:\n",
    "        loss = tfd.kl_divergence(q_dist, p)\n",
    "    \n",
    "    return loss, tape.gradient(loss, q_dist.trainable_variables)"
   ]
  },
  {
   "cell_type": "code",
   "execution_count": 16,
   "metadata": {
    "execution": {
     "iopub.execute_input": "2021-04-01T11:01:07.585202Z",
     "iopub.status.busy": "2021-04-01T11:01:07.584946Z",
     "iopub.status.idle": "2021-04-01T11:01:07.637278Z",
     "shell.execute_reply": "2021-04-01T11:01:07.636509Z",
     "shell.execute_reply.started": "2021-04-01T11:01:07.585177Z"
    }
   },
   "outputs": [
    {
     "name": "stdout",
     "output_type": "stream",
     "text": [
      "0 tf.Tensor(4.878487, shape=(), dtype=float32)\n",
      "1 tf.Tensor(4.8662114, shape=(), dtype=float32)\n",
      "2 tf.Tensor(4.8539586, shape=(), dtype=float32)\n",
      "3 tf.Tensor(4.8417306, shape=(), dtype=float32)\n",
      "4 tf.Tensor(4.8295264, shape=(), dtype=float32)\n",
      "5 tf.Tensor(4.817347, shape=(), dtype=float32)\n",
      "6 tf.Tensor(4.805195, shape=(), dtype=float32)\n",
      "7 tf.Tensor(4.7930675, shape=(), dtype=float32)\n",
      "8 tf.Tensor(4.780965, shape=(), dtype=float32)\n",
      "9 tf.Tensor(4.7688894, shape=(), dtype=float32)\n"
     ]
    }
   ],
   "source": [
    "opt = tf.keras.optimizers.Adam()\n",
    "for i in range(10):\n",
    "    loss, grads = loss_and_grads(q)\n",
    "    print(i, loss)\n",
    "    opt.apply_gradients(zip(grads, q.trainable_variables))"
   ]
  },
  {
   "cell_type": "code",
   "execution_count": 17,
   "metadata": {
    "execution": {
     "iopub.execute_input": "2021-04-01T11:01:53.141900Z",
     "iopub.status.busy": "2021-04-01T11:01:53.141655Z",
     "iopub.status.idle": "2021-04-01T11:01:53.145923Z",
     "shell.execute_reply": "2021-04-01T11:01:53.144653Z",
     "shell.execute_reply.started": "2021-04-01T11:01:53.141874Z"
    }
   },
   "outputs": [],
   "source": [
    "# target density is a full covariance gausian dist\n",
    "# diagonal distribution"
   ]
  },
  {
   "cell_type": "markdown",
   "metadata": {},
   "source": [
    "### ELBO"
   ]
  },
  {
   "cell_type": "code",
   "execution_count": 20,
   "metadata": {
    "execution": {
     "iopub.execute_input": "2021-04-01T15:10:29.313768Z",
     "iopub.status.busy": "2021-04-01T15:10:29.313506Z",
     "iopub.status.idle": "2021-04-01T15:10:29.498098Z",
     "shell.execute_reply": "2021-04-01T15:10:29.497393Z",
     "shell.execute_reply.started": "2021-04-01T15:10:29.313740Z"
    }
   },
   "outputs": [
    {
     "name": "stdout",
     "output_type": "stream",
     "text": [
      "WARNING:tensorflow:From /Users/shankar/dev/tools/anaconda3/envs/od/lib/python3.8/site-packages/tensorflow/python/ops/linalg/linear_operator_diag.py:167: calling LinearOperator.__init__ (from tensorflow.python.ops.linalg.linear_operator) with graph_parents is deprecated and will be removed in a future version.\n",
      "Instructions for updating:\n",
      "Do not pass `graph_parents`.  They will  no longer be used.\n"
     ]
    }
   ],
   "source": [
    "latent_size = 2\n",
    "event_shape = (28, 28, 1)\n",
    "\n",
    "encoder = tf.keras.models.Sequential([\n",
    "    tf.keras.layers.Conv2D(8, (5, 5), strides=2, activation=\"tanh\", input_shape=event_shape),\n",
    "    tf.keras.layers.Conv2D(8, (5, 5), strides=2, activation=\"tanh\"),\n",
    "    tf.keras.layers.Flatten(),\n",
    "    tf.keras.layers.Dense(64, activation=\"tanh\"),\n",
    "    tf.keras.layers.Dense(2 * latent_size),\n",
    "    tfp.layers.DistributionLambda(\n",
    "        lambda t: tfd.MultivariateNormalDiag(\n",
    "            loc=t[..., :latent_size],\n",
    "            scale_diag=tf.math.exp(t[..., latent_size:])\n",
    "        )\n",
    "    )\n",
    "], name=\"encoder\")"
   ]
  },
  {
   "cell_type": "code",
   "execution_count": 24,
   "metadata": {
    "execution": {
     "iopub.execute_input": "2021-04-01T15:18:02.388167Z",
     "iopub.status.busy": "2021-04-01T15:18:02.387910Z",
     "iopub.status.idle": "2021-04-01T15:18:02.569933Z",
     "shell.execute_reply": "2021-04-01T15:18:02.569170Z",
     "shell.execute_reply.started": "2021-04-01T15:18:02.388140Z"
    }
   },
   "outputs": [],
   "source": [
    "decoder = tf.keras.models.Sequential([\n",
    "    tf.keras.layers.Dense(64, activation=\"tanh\", input_shape=(latent_size,)),\n",
    "    tf.keras.layers.Dense(128, activation=\"tanh\"),\n",
    "    tf.keras.layers.Reshape((4, 4, 8)),\n",
    "    tf.keras.layers.Conv2DTranspose(8, (5, 5), strides=2, output_padding=1, activation=\"tanh\"),\n",
    "    tf.keras.layers.Conv2DTranspose(8, (5, 5), strides=2, output_padding=1, activation=\"tanh\"),\n",
    "    tf.keras.layers.Conv2D(1, (3, 3), padding=\"SAME\"),\n",
    "    tf.keras.layers.Flatten(),\n",
    "    tfp.layers.IndependentBernoulli(\n",
    "        event_shape\n",
    "    )\n",
    "], name=\"encoder\")"
   ]
  },
  {
   "cell_type": "code",
   "execution_count": 25,
   "metadata": {
    "execution": {
     "iopub.execute_input": "2021-04-01T15:18:02.996037Z",
     "iopub.status.busy": "2021-04-01T15:18:02.995799Z",
     "iopub.status.idle": "2021-04-01T15:18:03.033222Z",
     "shell.execute_reply": "2021-04-01T15:18:03.032578Z",
     "shell.execute_reply.started": "2021-04-01T15:18:02.996012Z"
    }
   },
   "outputs": [
    {
     "data": {
      "text/plain": [
       "<tfp.distributions.Independent 'encoder_independent_bernoulli_1_IndependentBernoulli_Independentencoder_independent_bernoulli_1_IndependentBernoulli_Bernoulli' batch_shape=[16] event_shape=[28, 28, 1] dtype=float32>"
      ]
     },
     "execution_count": 25,
     "metadata": {},
     "output_type": "execute_result"
    }
   ],
   "source": [
    "decoder(tf.random.normal([16, latent_size]))"
   ]
  },
  {
   "cell_type": "code",
   "execution_count": 26,
   "metadata": {
    "execution": {
     "iopub.execute_input": "2021-04-01T15:19:41.547116Z",
     "iopub.status.busy": "2021-04-01T15:19:41.546869Z",
     "iopub.status.idle": "2021-04-01T15:19:41.558192Z",
     "shell.execute_reply": "2021-04-01T15:19:41.557090Z",
     "shell.execute_reply.started": "2021-04-01T15:19:41.547090Z"
    }
   },
   "outputs": [
    {
     "data": {
      "text/plain": [
       "<tfp.distributions.MultivariateNormalDiag 'MultivariateNormalDiag' batch_shape=[] event_shape=[2] dtype=float32>"
      ]
     },
     "execution_count": 26,
     "metadata": {},
     "output_type": "execute_result"
    }
   ],
   "source": [
    "prior = tfd.MultivariateNormalDiag(loc=tf.zeros(latent_size))\n",
    "prior"
   ]
  },
  {
   "cell_type": "code",
   "execution_count": 27,
   "metadata": {
    "execution": {
     "iopub.execute_input": "2021-04-01T15:22:39.551102Z",
     "iopub.status.busy": "2021-04-01T15:22:39.550855Z",
     "iopub.status.idle": "2021-04-01T15:22:39.555212Z",
     "shell.execute_reply": "2021-04-01T15:22:39.554393Z",
     "shell.execute_reply.started": "2021-04-01T15:22:39.551076Z"
    }
   },
   "outputs": [],
   "source": [
    "def loss_fn(x_true, approx_posterior, x_pred, prior_dist):\n",
    "    return tf.reduce_mean(\n",
    "        tfd.kl_divergence(\n",
    "            approx_posterior, prior_dist\n",
    "        ) - x_pred.log_prob(x_true)\n",
    "    )"
   ]
  },
  {
   "cell_type": "code",
   "execution_count": 28,
   "metadata": {
    "execution": {
     "iopub.execute_input": "2021-04-01T15:25:13.636017Z",
     "iopub.status.busy": "2021-04-01T15:25:13.635682Z",
     "iopub.status.idle": "2021-04-01T15:25:13.642741Z",
     "shell.execute_reply": "2021-04-01T15:25:13.641373Z",
     "shell.execute_reply.started": "2021-04-01T15:25:13.635974Z"
    }
   },
   "outputs": [],
   "source": [
    "def loss_fn(x_true, approx_posterior, x_pred, prior_dist):\n",
    "    reconstruction_loss = -x_pred.log_prob(x_true)\n",
    "    approx_posterior_sample = approx_posterior.sample()\n",
    "    kl_approx = (approx_posterior.log_prob(approx_posterior_sample) \n",
    "        - prior_dist.log_prob(approx_posterior_sample))\n",
    "    return tf.reduce_mean(\n",
    "        kl_approx + reconstruction_loss\n",
    "    )"
   ]
  },
  {
   "cell_type": "code",
   "execution_count": 29,
   "metadata": {
    "execution": {
     "iopub.execute_input": "2021-04-01T15:37:05.631868Z",
     "iopub.status.busy": "2021-04-01T15:37:05.631632Z",
     "iopub.status.idle": "2021-04-01T15:37:05.636777Z",
     "shell.execute_reply": "2021-04-01T15:37:05.636034Z",
     "shell.execute_reply.started": "2021-04-01T15:37:05.631842Z"
    }
   },
   "outputs": [],
   "source": [
    "@tf.function\n",
    "def get_loss_and_grads(x):\n",
    "    with tf.GradientTape() as tape:\n",
    "        approx_posterior = encoder(x)\n",
    "        approx_posterior_sample = approx_posterior.sample()\n",
    "        x_pred = decoder(approx_posterior_sample)\n",
    "        current_loss = loss_fn(x, approx_posterior, x_pred, prior)\n",
    "        \n",
    "    grads = tape.gradient(current_loss, encoder.trainable_variables + decoder.trainable_variables)\n",
    "    \n",
    "    return current_loss, grads"
   ]
  },
  {
   "cell_type": "code",
   "execution_count": null,
   "metadata": {},
   "outputs": [],
   "source": []
  }
 ],
 "metadata": {
  "kernelspec": {
   "display_name": "Python 3",
   "language": "python",
   "name": "python3"
  },
  "language_info": {
   "codemirror_mode": {
    "name": "ipython",
    "version": 3
   },
   "file_extension": ".py",
   "mimetype": "text/x-python",
   "name": "python",
   "nbconvert_exporter": "python",
   "pygments_lexer": "ipython3",
   "version": "3.8.3"
  }
 },
 "nbformat": 4,
 "nbformat_minor": 4
}
