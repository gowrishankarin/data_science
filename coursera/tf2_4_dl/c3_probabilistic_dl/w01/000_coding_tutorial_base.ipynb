{
 "cells": [
  {
   "cell_type": "code",
   "execution_count": 1,
   "metadata": {
    "execution": {
     "iopub.execute_input": "2021-03-15T08:15:10.882671Z",
     "iopub.status.busy": "2021-03-15T08:15:10.882465Z",
     "iopub.status.idle": "2021-03-15T08:15:16.075483Z",
     "shell.execute_reply": "2021-03-15T08:15:16.074853Z",
     "shell.execute_reply.started": "2021-03-15T08:15:10.882648Z"
    }
   },
   "outputs": [
    {
     "name": "stdout",
     "output_type": "stream",
     "text": [
      "TF version: 2.4.0\n",
      "TFP version: 0.12.1\n"
     ]
    }
   ],
   "source": [
    "import tensorflow as tf\n",
    "import tensorflow_probability as tfp\n",
    "tfd = tfp.distributions\n",
    "\n",
    "print(\"TF version:\", tf.__version__)\n",
    "print(\"TFP version:\", tfp.__version__)"
   ]
  },
  {
   "cell_type": "code",
   "execution_count": 2,
   "metadata": {
    "execution": {
     "iopub.execute_input": "2021-03-15T08:15:16.077163Z",
     "iopub.status.busy": "2021-03-15T08:15:16.076837Z",
     "iopub.status.idle": "2021-03-15T08:15:16.384372Z",
     "shell.execute_reply": "2021-03-15T08:15:16.383526Z",
     "shell.execute_reply.started": "2021-03-15T08:15:16.077138Z"
    }
   },
   "outputs": [],
   "source": [
    "# Additional imports and setting fixed random seed to have reproducibility\n",
    "\n",
    "import matplotlib.pyplot as plt\n",
    "import numpy as np\n",
    "tf.random.set_seed(123)"
   ]
  },
  {
   "cell_type": "markdown",
   "metadata": {},
   "source": [
    "# Tensorflow Distributions"
   ]
  },
  {
   "cell_type": "markdown",
   "metadata": {},
   "source": [
    "## Coding Tutorials\n",
    "#### 1. [Univariate Distributions](#univariate_distributions)\n",
    "#### 2. [Multivariate Distributions](#multivariate_distributions)\n",
    "#### 3. [The Independent Distribution](#the_independent_distribution)\n",
    "#### 4. [Sampling and log probs](#sampling_and_log_probs)\n",
    "#### 5. [Trainable Distributions](#trainable_distributions)"
   ]
  },
  {
   "cell_type": "markdown",
   "metadata": {},
   "source": [
    "***\n",
    "## Univariate distributions\n",
    "<a id='univariate_distributions'></a>"
   ]
  },
  {
   "cell_type": "code",
   "execution_count": 3,
   "metadata": {
    "execution": {
     "iopub.execute_input": "2021-03-15T08:15:16.386335Z",
     "iopub.status.busy": "2021-03-15T08:15:16.386087Z",
     "iopub.status.idle": "2021-03-15T08:15:16.396273Z",
     "shell.execute_reply": "2021-03-15T08:15:16.395486Z",
     "shell.execute_reply.started": "2021-03-15T08:15:16.386308Z"
    }
   },
   "outputs": [
    {
     "data": {
      "text/plain": [
       "<tfp.distributions.Normal 'Normal' batch_shape=[] event_shape=[] dtype=float32>"
      ]
     },
     "execution_count": 3,
     "metadata": {},
     "output_type": "execute_result"
    }
   ],
   "source": [
    "# Create a normal distribution from Tensorflow Distributions\n",
    "\n",
    "normal = tfd.Normal(loc=0, scale=1)\n",
    "normal"
   ]
  },
  {
   "cell_type": "code",
   "execution_count": 4,
   "metadata": {
    "execution": {
     "iopub.execute_input": "2021-03-15T08:15:16.398223Z",
     "iopub.status.busy": "2021-03-15T08:15:16.398024Z",
     "iopub.status.idle": "2021-03-15T08:15:16.406906Z",
     "shell.execute_reply": "2021-03-15T08:15:16.406299Z",
     "shell.execute_reply.started": "2021-03-15T08:15:16.398202Z"
    }
   },
   "outputs": [
    {
     "data": {
      "text/plain": [
       "<tf.Tensor: shape=(), dtype=float32, numpy=-0.8980837>"
      ]
     },
     "execution_count": 4,
     "metadata": {},
     "output_type": "execute_result"
    }
   ],
   "source": [
    "# Sample from the chosen distribution...\n",
    "\n",
    "normal.sample()"
   ]
  },
  {
   "cell_type": "code",
   "execution_count": 5,
   "metadata": {
    "execution": {
     "iopub.execute_input": "2021-03-15T08:15:16.408181Z",
     "iopub.status.busy": "2021-03-15T08:15:16.408000Z",
     "iopub.status.idle": "2021-03-15T08:15:16.415789Z",
     "shell.execute_reply": "2021-03-15T08:15:16.415132Z",
     "shell.execute_reply.started": "2021-03-15T08:15:16.408160Z"
    }
   },
   "outputs": [
    {
     "data": {
      "text/plain": [
       "<tf.Tensor: shape=(10,), dtype=float32, numpy=\n",
       "array([ 0.33875433,  0.3449861 , -0.6605785 , -0.2854994 ,  0.43852386,\n",
       "        0.8288566 , -0.53591555, -0.5353483 , -1.0324248 , -2.942705  ],\n",
       "      dtype=float32)>"
      ]
     },
     "execution_count": 5,
     "metadata": {},
     "output_type": "execute_result"
    }
   ],
   "source": [
    "# ... or sample multiple times\n",
    "\n",
    "normal.sample(10)"
   ]
  },
  {
   "cell_type": "code",
   "execution_count": 6,
   "metadata": {
    "execution": {
     "iopub.execute_input": "2021-03-15T08:15:16.417106Z",
     "iopub.status.busy": "2021-03-15T08:15:16.416832Z",
     "iopub.status.idle": "2021-03-15T08:15:16.423659Z",
     "shell.execute_reply": "2021-03-15T08:15:16.422753Z",
     "shell.execute_reply.started": "2021-03-15T08:15:16.417082Z"
    }
   },
   "outputs": [
    {
     "data": {
      "text/plain": [
       "<tf.Tensor: shape=(), dtype=float32, numpy=0.3989423>"
      ]
     },
     "execution_count": 6,
     "metadata": {},
     "output_type": "execute_result"
    }
   ],
   "source": [
    "# Obtain value of probability's density\n",
    "\n",
    "normal.prob(0)"
   ]
  },
  {
   "cell_type": "code",
   "execution_count": 7,
   "metadata": {
    "execution": {
     "iopub.execute_input": "2021-03-15T08:15:16.425361Z",
     "iopub.status.busy": "2021-03-15T08:15:16.424958Z",
     "iopub.status.idle": "2021-03-15T08:15:16.431944Z",
     "shell.execute_reply": "2021-03-15T08:15:16.431186Z",
     "shell.execute_reply.started": "2021-03-15T08:15:16.425326Z"
    }
   },
   "outputs": [
    {
     "data": {
      "text/plain": [
       "<tf.Tensor: shape=(), dtype=float32, numpy=-0.9189385>"
      ]
     },
     "execution_count": 7,
     "metadata": {},
     "output_type": "execute_result"
    }
   ],
   "source": [
    "# Obtain value of logprobability\n",
    "\n",
    "normal.log_prob(0)"
   ]
  },
  {
   "cell_type": "code",
   "execution_count": 8,
   "metadata": {
    "execution": {
     "iopub.execute_input": "2021-03-15T08:15:16.435491Z",
     "iopub.status.busy": "2021-03-15T08:15:16.435278Z",
     "iopub.status.idle": "2021-03-15T08:15:16.441039Z",
     "shell.execute_reply": "2021-03-15T08:15:16.440290Z",
     "shell.execute_reply.started": "2021-03-15T08:15:16.435470Z"
    }
   },
   "outputs": [
    {
     "data": {
      "text/plain": [
       "-0.9189385"
      ]
     },
     "execution_count": 8,
     "metadata": {},
     "output_type": "execute_result"
    }
   ],
   "source": [
    "# Verify that this really is the log of the probability\n",
    "np.log(normal.prob(0))\n"
   ]
  },
  {
   "cell_type": "code",
   "execution_count": 9,
   "metadata": {
    "execution": {
     "iopub.execute_input": "2021-03-15T08:15:16.443288Z",
     "iopub.status.busy": "2021-03-15T08:15:16.443052Z",
     "iopub.status.idle": "2021-03-15T08:15:16.798347Z",
     "shell.execute_reply": "2021-03-15T08:15:16.797758Z",
     "shell.execute_reply.started": "2021-03-15T08:15:16.443267Z"
    }
   },
   "outputs": [
    {
     "data": {
      "image/png": "[encoded data removed]",
      "text/plain": [
       "<Figure size 432x288 with 1 Axes>"
      ]
     },
     "metadata": {
      "needs_background": "light"
     },
     "output_type": "display_data"
    }
   ],
   "source": [
    "# Plot a histogram, approximating the density\n",
    "\n",
    "plt.hist(normal.sample(10000), bins=50, density=True)\n",
    "plt.show()"
   ]
  },
  {
   "cell_type": "code",
   "execution_count": 10,
   "metadata": {
    "execution": {
     "iopub.execute_input": "2021-03-15T08:15:16.799617Z",
     "iopub.status.busy": "2021-03-15T08:15:16.799432Z",
     "iopub.status.idle": "2021-03-15T08:15:17.017909Z",
     "shell.execute_reply": "2021-03-15T08:15:17.017264Z",
     "shell.execute_reply.started": "2021-03-15T08:15:16.799596Z"
    }
   },
   "outputs": [
    {
     "data": {
      "image/png": "[encoded data removed]",
      "text/plain": [
       "<Figure size 432x288 with 1 Axes>"
      ]
     },
     "metadata": {
      "needs_background": "light"
     },
     "output_type": "display_data"
    }
   ],
   "source": [
    "# Do the same for the exponential distribution\n",
    "\n",
    "exponential = tfd.Exponential(rate=1)\n",
    "plt.hist(exponential.sample(10000), bins=50, density=True)\n",
    "plt.show()"
   ]
  },
  {
   "cell_type": "code",
   "execution_count": 11,
   "metadata": {
    "execution": {
     "iopub.execute_input": "2021-03-15T08:15:17.019241Z",
     "iopub.status.busy": "2021-03-15T08:15:17.018872Z",
     "iopub.status.idle": "2021-03-15T08:15:17.032409Z",
     "shell.execute_reply": "2021-03-15T08:15:17.031665Z",
     "shell.execute_reply.started": "2021-03-15T08:15:17.019204Z"
    }
   },
   "outputs": [
    {
     "data": {
      "text/plain": [
       "<tf.Tensor: shape=(10,), dtype=float32, numpy=\n",
       "array([0.3179616 , 0.9595855 , 0.6190708 , 1.3738598 , 1.6796893 ,\n",
       "       0.40142855, 1.6830153 , 1.78942   , 0.38126466, 0.55283946],\n",
       "      dtype=float32)>"
      ]
     },
     "execution_count": 11,
     "metadata": {},
     "output_type": "execute_result"
    }
   ],
   "source": [
    "# Sample as before\n",
    "\n",
    "exponential.sample(10)"
   ]
  },
  {
   "cell_type": "code",
   "execution_count": 12,
   "metadata": {
    "execution": {
     "iopub.execute_input": "2021-03-15T08:15:17.033925Z",
     "iopub.status.busy": "2021-03-15T08:15:17.033707Z",
     "iopub.status.idle": "2021-03-15T08:15:17.043548Z",
     "shell.execute_reply": "2021-03-15T08:15:17.042710Z",
     "shell.execute_reply.started": "2021-03-15T08:15:17.033900Z"
    }
   },
   "outputs": [
    {
     "data": {
      "text/plain": [
       "<tf.Tensor: shape=(20,), dtype=int32, numpy=\n",
       "array([0, 1, 1, 0, 0, 1, 1, 0, 1, 1, 1, 0, 1, 1, 1, 0, 1, 0, 1, 1],\n",
       "      dtype=int32)>"
      ]
     },
     "execution_count": 12,
     "metadata": {},
     "output_type": "execute_result"
    }
   ],
   "source": [
    "# Create a Bernoulli distribution (discrete)\n",
    "bernoulli = tfd.Bernoulli(probs=0.8)\n",
    "bernoulli.sample(20)"
   ]
  },
  {
   "cell_type": "markdown",
   "metadata": {},
   "source": [
    "#### A word of caution on discrete distributions"
   ]
  },
  {
   "cell_type": "code",
   "execution_count": 13,
   "metadata": {
    "execution": {
     "iopub.execute_input": "2021-03-15T08:15:17.045163Z",
     "iopub.status.busy": "2021-03-15T08:15:17.044924Z",
     "iopub.status.idle": "2021-03-15T08:15:17.054750Z",
     "shell.execute_reply": "2021-03-15T08:15:17.053944Z",
     "shell.execute_reply.started": "2021-03-15T08:15:17.045135Z"
    }
   },
   "outputs": [
    {
     "name": "stdout",
     "output_type": "stream",
     "text": [
      "prob result 0.19999998807907104 for k = 0 \n",
      "prob result 0.3999999761581421 for k = 0.5 \n",
      "prob result 0.800000011920929 for k = 1 \n",
      "prob result 0.04999999701976776 for k = -1 \n"
     ]
    }
   ],
   "source": [
    "# Calculate Bernoulli prob and see that 0.5 and -1 do not give the correct probability!\n",
    "\n",
    "for k in [0,0.5,1,-1]:\n",
    "    print('prob result {} for k = {} '.format(bernoulli.prob(k), k))"
   ]
  },
  {
   "cell_type": "code",
   "execution_count": 14,
   "metadata": {
    "execution": {
     "iopub.execute_input": "2021-03-15T08:15:17.056211Z",
     "iopub.status.busy": "2021-03-15T08:15:17.055998Z",
     "iopub.status.idle": "2021-03-15T08:15:17.060100Z",
     "shell.execute_reply": "2021-03-15T08:15:17.059225Z",
     "shell.execute_reply.started": "2021-03-15T08:15:17.056187Z"
    }
   },
   "outputs": [],
   "source": [
    "# Replicate the scores to see what is occurring under the hood\n",
    "\n",
    "def my_bernoulli(p_success, k):\n",
    "    return np.power(p_success,k)*np.power((1-p_success),(1-k))"
   ]
  },
  {
   "cell_type": "code",
   "execution_count": 15,
   "metadata": {
    "execution": {
     "iopub.execute_input": "2021-03-15T08:15:17.061973Z",
     "iopub.status.busy": "2021-03-15T08:15:17.061682Z",
     "iopub.status.idle": "2021-03-15T08:15:17.067549Z",
     "shell.execute_reply": "2021-03-15T08:15:17.066729Z",
     "shell.execute_reply.started": "2021-03-15T08:15:17.061935Z"
    }
   },
   "outputs": [
    {
     "name": "stdout",
     "output_type": "stream",
     "text": [
      "prob result 0.19999999999999996 for k = 0 \n",
      "prob result 0.3999999999999999 for k = 0.5 \n",
      "prob result 0.8 for k = 1 \n",
      "prob result 0.049999999999999975 for k = -1 \n"
     ]
    }
   ],
   "source": [
    "# Evaluate it as before\n",
    "\n",
    "for k in [0,0.5,1,-1]:\n",
    "    print('prob result {} for k = {} '.format(my_bernoulli(p_success=0.8, k=k), k))"
   ]
  },
  {
   "cell_type": "markdown",
   "metadata": {},
   "source": [
    "#### Work with batch distributions"
   ]
  },
  {
   "cell_type": "code",
   "execution_count": 16,
   "metadata": {
    "execution": {
     "iopub.execute_input": "2021-03-15T08:15:17.069872Z",
     "iopub.status.busy": "2021-03-15T08:15:17.069439Z",
     "iopub.status.idle": "2021-03-15T08:15:17.098755Z",
     "shell.execute_reply": "2021-03-15T08:15:17.097571Z",
     "shell.execute_reply.started": "2021-03-15T08:15:17.069811Z"
    }
   },
   "outputs": [
    {
     "data": {
      "text/plain": [
       "<tfp.distributions.Bernoulli 'Bernoulli' batch_shape=[5] event_shape=[] dtype=int32>"
      ]
     },
     "execution_count": 16,
     "metadata": {},
     "output_type": "execute_result"
    }
   ],
   "source": [
    "# Create a batched Bernoulli distribution\n",
    "\n",
    "bernoulli_batch = tfd.Bernoulli(probs=[0.1, 0.25, 0.5, 0.75, 0.9])\n",
    "bernoulli_batch"
   ]
  },
  {
   "cell_type": "code",
   "execution_count": 17,
   "metadata": {
    "execution": {
     "iopub.execute_input": "2021-03-15T08:15:17.101181Z",
     "iopub.status.busy": "2021-03-15T08:15:17.100607Z",
     "iopub.status.idle": "2021-03-15T08:15:17.109456Z",
     "shell.execute_reply": "2021-03-15T08:15:17.108775Z",
     "shell.execute_reply.started": "2021-03-15T08:15:17.101114Z"
    }
   },
   "outputs": [
    {
     "data": {
      "text/plain": [
       "<tf.Tensor: shape=(5, 5), dtype=int32, numpy=\n",
       "array([[0, 0, 0, 1, 1],\n",
       "       [0, 1, 0, 1, 1],\n",
       "       [0, 0, 1, 1, 1],\n",
       "       [0, 0, 0, 1, 1],\n",
       "       [0, 0, 0, 1, 1]], dtype=int32)>"
      ]
     },
     "execution_count": 17,
     "metadata": {},
     "output_type": "execute_result"
    }
   ],
   "source": [
    "# Sample from it, noting the shape\n",
    "\n",
    "bernoulli_batch.sample(5)"
   ]
  },
  {
   "cell_type": "code",
   "execution_count": 18,
   "metadata": {
    "execution": {
     "iopub.execute_input": "2021-03-15T08:15:17.111062Z",
     "iopub.status.busy": "2021-03-15T08:15:17.110699Z",
     "iopub.status.idle": "2021-03-15T08:15:17.117982Z",
     "shell.execute_reply": "2021-03-15T08:15:17.117064Z",
     "shell.execute_reply.started": "2021-03-15T08:15:17.111019Z"
    }
   },
   "outputs": [
    {
     "data": {
      "text/plain": [
       "<tfp.distributions.Bernoulli 'Bernoulli' batch_shape=[1, 3, 2] event_shape=[] dtype=int32>"
      ]
     },
     "execution_count": 18,
     "metadata": {},
     "output_type": "execute_result"
    }
   ],
   "source": [
    "# Use a batch shape with higher rank\n",
    "\n",
    "probs = [[[0.5, 0.5], \n",
    "          [0.8, 0.3], \n",
    "          [0.25, 0.75]]]\n",
    "bernoulli_batch_2D = tfd.Bernoulli(probs=probs)\n",
    "bernoulli_batch_2D"
   ]
  },
  {
   "cell_type": "code",
   "execution_count": 19,
   "metadata": {
    "execution": {
     "iopub.execute_input": "2021-03-15T08:15:17.119459Z",
     "iopub.status.busy": "2021-03-15T08:15:17.119130Z",
     "iopub.status.idle": "2021-03-15T08:15:17.127291Z",
     "shell.execute_reply": "2021-03-15T08:15:17.126483Z",
     "shell.execute_reply.started": "2021-03-15T08:15:17.119429Z"
    }
   },
   "outputs": [
    {
     "data": {
      "text/plain": [
       "<tf.Tensor: shape=(5, 1, 3, 2), dtype=int32, numpy=\n",
       "array([[[[0, 0],\n",
       "         [1, 1],\n",
       "         [0, 1]]],\n",
       "\n",
       "\n",
       "       [[[0, 0],\n",
       "         [1, 0],\n",
       "         [0, 1]]],\n",
       "\n",
       "\n",
       "       [[[1, 0],\n",
       "         [1, 1],\n",
       "         [0, 1]]],\n",
       "\n",
       "\n",
       "       [[[1, 0],\n",
       "         [0, 0],\n",
       "         [0, 1]]],\n",
       "\n",
       "\n",
       "       [[[0, 1],\n",
       "         [1, 1],\n",
       "         [1, 0]]]], dtype=int32)>"
      ]
     },
     "execution_count": 19,
     "metadata": {},
     "output_type": "execute_result"
    }
   ],
   "source": [
    "# Sample from this batch of distributions\n",
    "\n",
    "bernoulli_batch_2D.sample(5)"
   ]
  },
  {
   "cell_type": "code",
   "execution_count": 20,
   "metadata": {
    "execution": {
     "iopub.execute_input": "2021-03-15T08:15:17.129095Z",
     "iopub.status.busy": "2021-03-15T08:15:17.128812Z",
     "iopub.status.idle": "2021-03-15T08:15:17.135344Z",
     "shell.execute_reply": "2021-03-15T08:15:17.134681Z",
     "shell.execute_reply.started": "2021-03-15T08:15:17.129065Z"
    }
   },
   "outputs": [
    {
     "data": {
      "text/plain": [
       "<tf.Tensor: shape=(1, 3, 2), dtype=float32, numpy=\n",
       "array([[[0.5       , 0.5       ],\n",
       "        [0.19999999, 0.7       ],\n",
       "        [0.25      , 0.75      ]]], dtype=float32)>"
      ]
     },
     "execution_count": 20,
     "metadata": {},
     "output_type": "execute_result"
    }
   ],
   "source": [
    "# Determine probabilities from this batch distribution\n",
    "\n",
    "bernoulli_batch_2D.prob([[[1, 0], \n",
    "                         [0, 0], \n",
    "                         [1, 1]]])"
   ]
  },
  {
   "cell_type": "markdown",
   "metadata": {},
   "source": [
    "***\n",
    "<a id='multivariate_distributions'></a>\n",
    "## Multivariate Distributions\n"
   ]
  },
  {
   "cell_type": "markdown",
   "metadata": {},
   "source": [
    "#### Basic multivariate distributions"
   ]
  },
  {
   "cell_type": "code",
   "execution_count": 21,
   "metadata": {
    "execution": {
     "iopub.execute_input": "2021-03-15T08:15:17.136775Z",
     "iopub.status.busy": "2021-03-15T08:15:17.136561Z",
     "iopub.status.idle": "2021-03-15T08:15:17.147900Z",
     "shell.execute_reply": "2021-03-15T08:15:17.147196Z",
     "shell.execute_reply.started": "2021-03-15T08:15:17.136751Z"
    }
   },
   "outputs": [
    {
     "data": {
      "text/plain": [
       "<tfp.distributions.MultivariateNormalDiag 'MultivariateNormalDiag' batch_shape=[] event_shape=[3] dtype=float32>"
      ]
     },
     "execution_count": 21,
     "metadata": {},
     "output_type": "execute_result"
    }
   ],
   "source": [
    "# Define 2D multivariate Gaussian with diagonal covariance matrix\n",
    "# loc is mean\n",
    "# diagonal entries in the covariance matrix, standard deviations is scale_diag\n",
    "normal_diag = tfd.MultivariateNormalDiag(loc=[0, 1, 2], scale_diag=[1, 20, 3])\n",
    "normal_diag"
   ]
  },
  {
   "cell_type": "code",
   "execution_count": 22,
   "metadata": {
    "execution": {
     "iopub.execute_input": "2021-03-15T08:15:17.149288Z",
     "iopub.status.busy": "2021-03-15T08:15:17.149083Z",
     "iopub.status.idle": "2021-03-15T08:15:17.161927Z",
     "shell.execute_reply": "2021-03-15T08:15:17.161178Z",
     "shell.execute_reply.started": "2021-03-15T08:15:17.149264Z"
    }
   },
   "outputs": [
    {
     "data": {
      "text/plain": [
       "<tf.Tensor: shape=(10, 3), dtype=float32, numpy=\n",
       "array([[ -0.37992278,  14.674164  ,  -4.672015  ],\n",
       "       [ -0.6425722 ,  19.46166   ,  -1.6793337 ],\n",
       "       [ -0.62774605, -12.385238  ,   0.12411475],\n",
       "       [ -1.1662073 ,  -7.4908333 ,   2.478828  ],\n",
       "       [ -1.702882  ,   9.533869  ,   0.6174872 ],\n",
       "       [ -0.85117614, -22.838707  ,   0.30701566],\n",
       "       [  0.48053816, -11.693485  ,   1.4539297 ],\n",
       "       [  1.0352719 ,  26.380934  ,  -3.8903842 ],\n",
       "       [  0.25674748, -26.473867  ,   4.930067  ],\n",
       "       [ -0.18495418,  25.313843  ,   1.8352889 ]], dtype=float32)>"
      ]
     },
     "execution_count": 22,
     "metadata": {},
     "output_type": "execute_result"
    }
   ],
   "source": [
    "# Sample from it\n",
    "\n",
    "normal_diag.sample(10)"
   ]
  },
  {
   "cell_type": "code",
   "execution_count": 23,
   "metadata": {
    "execution": {
     "iopub.execute_input": "2021-03-15T08:15:17.169476Z",
     "iopub.status.busy": "2021-03-15T08:15:17.169135Z",
     "iopub.status.idle": "2021-03-15T08:15:17.359107Z",
     "shell.execute_reply": "2021-03-15T08:15:17.358449Z",
     "shell.execute_reply.started": "2021-03-15T08:15:17.169448Z"
    }
   },
   "outputs": [
    {
     "data": {
      "image/png": "[encoded data removed]",
      "text/plain": [
       "<Figure size 432x288 with 1 Axes>"
      ]
     },
     "metadata": {
      "needs_background": "light"
     },
     "output_type": "display_data"
    }
   ],
   "source": [
    "# Make a plot\n",
    "\n",
    "plt_sample = normal_diag.sample(10000)\n",
    "plt.scatter(plt_sample[:, 0], plt_sample[:, 1], marker='.', alpha=0.05)\n",
    "plt.axis('equal')\n",
    "plt.show()"
   ]
  },
  {
   "cell_type": "markdown",
   "metadata": {},
   "source": [
    "#### Batches of multivariate distributions\n",
    "\n",
    "`Covariance matrix should be positive semi-definite`"
   ]
  },
  {
   "cell_type": "code",
   "execution_count": 24,
   "metadata": {
    "execution": {
     "iopub.execute_input": "2021-03-15T08:15:17.363442Z",
     "iopub.status.busy": "2021-03-15T08:15:17.363213Z",
     "iopub.status.idle": "2021-03-15T08:15:17.377567Z",
     "shell.execute_reply": "2021-03-15T08:15:17.376470Z",
     "shell.execute_reply.started": "2021-03-15T08:15:17.363417Z"
    }
   },
   "outputs": [
    {
     "data": {
      "text/plain": [
       "<tfp.distributions.MultivariateNormalDiag 'MultivariateNormalDiag' batch_shape=[3] event_shape=[2] dtype=float32>"
      ]
     },
     "execution_count": 24,
     "metadata": {},
     "output_type": "execute_result"
    }
   ],
   "source": [
    "# Create three \"batches\" of multivariate normals\n",
    "normal_diag_batch = tfd.MultivariateNormalDiag(\n",
    "    loc = [[0,0],[0,0],[0,0]],\n",
    "    scale_diag=[[1,2],[2,1],[2,2]]\n",
    ")\n",
    "normal_diag_batch"
   ]
  },
  {
   "cell_type": "code",
   "execution_count": 25,
   "metadata": {
    "execution": {
     "iopub.execute_input": "2021-03-15T08:15:17.380164Z",
     "iopub.status.busy": "2021-03-15T08:15:17.379720Z",
     "iopub.status.idle": "2021-03-15T08:15:17.396897Z",
     "shell.execute_reply": "2021-03-15T08:15:17.395952Z",
     "shell.execute_reply.started": "2021-03-15T08:15:17.380119Z"
    }
   },
   "outputs": [
    {
     "data": {
      "text/plain": [
       "<tf.Tensor: shape=(5, 3, 2), dtype=float32, numpy=\n",
       "array([[[-0.8012545 , -2.128108  ],\n",
       "        [ 2.0774972 , -2.7921855 ],\n",
       "        [ 0.52665955,  0.6095758 ]],\n",
       "\n",
       "       [[ 0.9923561 , -0.9778331 ],\n",
       "        [-0.8376892 ,  0.70630246],\n",
       "        [-1.0894657 , -0.65969497]],\n",
       "\n",
       "       [[-1.6264789 ,  2.2429495 ],\n",
       "        [-4.301875  , -0.7626804 ],\n",
       "        [-0.43451956, -0.57022095]],\n",
       "\n",
       "       [[ 0.73075646,  2.8356621 ],\n",
       "        [ 1.8173586 ,  1.2079152 ],\n",
       "        [-3.2939956 ,  2.33647   ]],\n",
       "\n",
       "       [[-0.24759005,  0.5630618 ],\n",
       "        [-0.6053428 ,  0.06578209],\n",
       "        [ 1.4922864 , -0.55439734]]], dtype=float32)>"
      ]
     },
     "execution_count": 25,
     "metadata": {},
     "output_type": "execute_result"
    }
   ],
   "source": [
    "# Sample from it\n",
    "samples = normal_diag_batch.sample((5))\n",
    "# No of Samples x Batch Size x Event Shape\n",
    "samples"
   ]
  },
  {
   "cell_type": "code",
   "execution_count": 26,
   "metadata": {
    "execution": {
     "iopub.execute_input": "2021-03-15T08:15:17.398674Z",
     "iopub.status.busy": "2021-03-15T08:15:17.398437Z",
     "iopub.status.idle": "2021-03-15T08:15:17.418653Z",
     "shell.execute_reply": "2021-03-15T08:15:17.417870Z",
     "shell.execute_reply.started": "2021-03-15T08:15:17.398648Z"
    }
   },
   "outputs": [
    {
     "data": {
      "text/plain": [
       "<tf.Tensor: shape=(5, 3), dtype=float32, numpy=\n",
       "array([[-3.4181342, -6.9686737, -3.3052905],\n",
       "       [-3.142929 , -2.8681712, -3.426938 ],\n",
       "       [-4.4825935, -5.1351314, -3.2884164],\n",
       "       [-3.8031492, -3.6734028, -5.262859 ],\n",
       "       [-2.6013045, -2.5789928, -3.5409558]], dtype=float32)>"
      ]
     },
     "execution_count": 26,
     "metadata": {},
     "output_type": "execute_result"
    }
   ],
   "source": [
    "# Compute log probs\n",
    "log_probs = normal_diag_batch.log_prob(samples)\n",
    "# No of Samples x Batch Size\n",
    "log_probs"
   ]
  },
  {
   "cell_type": "code",
   "execution_count": 27,
   "metadata": {
    "execution": {
     "iopub.execute_input": "2021-03-15T08:15:17.420215Z",
     "iopub.status.busy": "2021-03-15T08:15:17.419970Z",
     "iopub.status.idle": "2021-03-15T08:15:17.437324Z",
     "shell.execute_reply": "2021-03-15T08:15:17.436601Z",
     "shell.execute_reply.started": "2021-03-15T08:15:17.420189Z"
    }
   },
   "outputs": [
    {
     "data": {
      "text/plain": [
       "TensorShape([10000, 3, 2])"
      ]
     },
     "execution_count": 27,
     "metadata": {},
     "output_type": "execute_result"
    }
   ],
   "source": [
    "# Create a sample for a plot -- notice the shape\n",
    "plt_sample_batch = normal_diag_batch.sample(10000)\n",
    "plt_sample_batch.shape"
   ]
  },
  {
   "cell_type": "code",
   "execution_count": 28,
   "metadata": {
    "execution": {
     "iopub.execute_input": "2021-03-15T08:15:17.439077Z",
     "iopub.status.busy": "2021-03-15T08:15:17.438842Z",
     "iopub.status.idle": "2021-03-15T08:15:17.867689Z",
     "shell.execute_reply": "2021-03-15T08:15:17.866951Z",
     "shell.execute_reply.started": "2021-03-15T08:15:17.439051Z"
    }
   },
   "outputs": [
    {
     "data": {
      "image/png": "[encoded data removed]",
      "text/plain": [
       "<Figure size 720x216 with 3 Axes>"
      ]
     },
     "metadata": {
      "needs_background": "light"
     },
     "output_type": "display_data"
    }
   ],
   "source": [
    "# Plot samples from the batched multivariate Gaussian\n",
    "\n",
    "fig, axs = (plt.subplots(1, 3, sharex=True, sharey=True, figsize=(10, 3)))\n",
    "titles = ['cov_diag=[1, 2]','cov_diag=[2, 1]', 'cov_diag=[2, 2]']\n",
    "\n",
    "for i, (ax, title) in enumerate(zip(axs,titles)):\n",
    "    samples = plt_sample_batch[:,i,:] #take the ith batch [samples x event_shape]\n",
    "    ax.scatter(samples[:, 0], samples[:, 1], marker='.', alpha=0.05)\n",
    "    ax.set_title(title)\n",
    "plt.show()"
   ]
  },
  {
   "cell_type": "markdown",
   "metadata": {},
   "source": [
    "\n",
    "\n",
    "***\n",
    "<a id='the_independent_distribution'></a>\n",
    "## The Independent Distribution"
   ]
  },
  {
   "cell_type": "code",
   "execution_count": 29,
   "metadata": {
    "execution": {
     "iopub.execute_input": "2021-03-15T08:15:17.869586Z",
     "iopub.status.busy": "2021-03-15T08:15:17.869300Z",
     "iopub.status.idle": "2021-03-15T08:15:17.875068Z",
     "shell.execute_reply": "2021-03-15T08:15:17.874258Z",
     "shell.execute_reply.started": "2021-03-15T08:15:17.869546Z"
    }
   },
   "outputs": [],
   "source": [
    "# Start by defining a batch of two univariate Gaussians, then\n",
    "# combine them into a bivariate Gaussian with independent components\n",
    "locs = [-1, 1]\n",
    "scales = [0.5, 1.]\n",
    "batch_of_normals = tfd.Normal(loc=locs, scale=scales)\n"
   ]
  },
  {
   "cell_type": "code",
   "execution_count": 30,
   "metadata": {
    "execution": {
     "iopub.execute_input": "2021-03-15T08:15:17.876901Z",
     "iopub.status.busy": "2021-03-15T08:15:17.876396Z",
     "iopub.status.idle": "2021-03-15T08:15:20.666073Z",
     "shell.execute_reply": "2021-03-15T08:15:20.665487Z",
     "shell.execute_reply.started": "2021-03-15T08:15:17.876869Z"
    }
   },
   "outputs": [
    {
     "name": "stderr",
     "output_type": "stream",
     "text": [
      "/Users/shankar/dev/tools/anaconda3/envs/od/lib/python3.8/site-packages/seaborn/_decorators.py:36: FutureWarning: Pass the following variables as keyword args: x, y. From version 0.12, the only valid positional argument will be `data`, and passing other arguments without an explicit keyword will result in an error or misinterpretation.\n",
      "  warnings.warn(\n",
      "/Users/shankar/dev/tools/anaconda3/envs/od/lib/python3.8/site-packages/seaborn/_decorators.py:36: FutureWarning: Pass the following variables as keyword args: x, y. From version 0.12, the only valid positional argument will be `data`, and passing other arguments without an explicit keyword will result in an error or misinterpretation.\n",
      "  warnings.warn(\n"
     ]
    },
    {
     "data": {
      "image/png": "[encoded data removed]",
      "text/plain": [
       "<Figure size 432x288 with 1 Axes>"
      ]
     },
     "metadata": {
      "needs_background": "light"
     },
     "output_type": "display_data"
    }
   ],
   "source": [
    "# Univariate density functions\n",
    "\n",
    "import seaborn as sns\n",
    "\n",
    "t = np.linspace(-4, 4, 10000)\n",
    "densities = batch_of_normals.prob(np.repeat(t[:, np.newaxis], 2, axis=1)) # each column is a vector of densities for one distn\n",
    "\n",
    "sns.lineplot(t, densities[:, 0], label='loc={}, scale={}'.format(locs[0], scales[0]))\n",
    "sns.lineplot(t, densities[:, 1], label='loc={}, scale={}'.format(locs[1], scales[1]))\n",
    "plt.ylabel('Probability density')\n",
    "plt.xlabel('Value')\n",
    "plt.legend()\n",
    "plt.show()"
   ]
  },
  {
   "cell_type": "code",
   "execution_count": 31,
   "metadata": {
    "execution": {
     "iopub.execute_input": "2021-03-15T08:15:20.667360Z",
     "iopub.status.busy": "2021-03-15T08:15:20.667110Z",
     "iopub.status.idle": "2021-03-15T08:15:20.671286Z",
     "shell.execute_reply": "2021-03-15T08:15:20.670714Z",
     "shell.execute_reply.started": "2021-03-15T08:15:20.667335Z"
    }
   },
   "outputs": [
    {
     "data": {
      "text/plain": [
       "<tfp.distributions.Normal 'Normal' batch_shape=[2] event_shape=[] dtype=float32>"
      ]
     },
     "execution_count": 31,
     "metadata": {},
     "output_type": "execute_result"
    }
   ],
   "source": [
    "# Check their batch_shape and event_shape\n",
    "\n",
    "batch_of_normals"
   ]
  },
  {
   "cell_type": "code",
   "execution_count": 32,
   "metadata": {
    "execution": {
     "iopub.execute_input": "2021-03-15T08:15:20.672476Z",
     "iopub.status.busy": "2021-03-15T08:15:20.672234Z",
     "iopub.status.idle": "2021-03-15T08:15:20.678458Z",
     "shell.execute_reply": "2021-03-15T08:15:20.677903Z",
     "shell.execute_reply.started": "2021-03-15T08:15:20.672455Z"
    }
   },
   "outputs": [],
   "source": [
    "# Use Independent to convert the batch shape to the event shape\n",
    "bivariate_normal_from_Independent = tfd.Independent(batch_of_normals, reinterpreted_batch_ndims=1)\n"
   ]
  },
  {
   "cell_type": "code",
   "execution_count": 33,
   "metadata": {
    "execution": {
     "iopub.execute_input": "2021-03-15T08:15:20.679577Z",
     "iopub.status.busy": "2021-03-15T08:15:20.679285Z",
     "iopub.status.idle": "2021-03-15T08:15:20.683609Z",
     "shell.execute_reply": "2021-03-15T08:15:20.682901Z",
     "shell.execute_reply.started": "2021-03-15T08:15:20.679545Z"
    }
   },
   "outputs": [
    {
     "data": {
      "text/plain": [
       "<tfp.distributions.Independent 'IndependentNormal' batch_shape=[] event_shape=[2] dtype=float32>"
      ]
     },
     "execution_count": 33,
     "metadata": {},
     "output_type": "execute_result"
    }
   ],
   "source": [
    "# Note that dimension from batch_shape has shifted to event_shape\n",
    "bivariate_normal_from_Independent\n"
   ]
  },
  {
   "cell_type": "code",
   "execution_count": 34,
   "metadata": {
    "execution": {
     "iopub.execute_input": "2021-03-15T08:15:20.684981Z",
     "iopub.status.busy": "2021-03-15T08:15:20.684688Z",
     "iopub.status.idle": "2021-03-15T08:15:27.297245Z",
     "shell.execute_reply": "2021-03-15T08:15:27.296408Z",
     "shell.execute_reply.started": "2021-03-15T08:15:20.684948Z"
    }
   },
   "outputs": [
    {
     "name": "stderr",
     "output_type": "stream",
     "text": [
      "/Users/shankar/dev/tools/anaconda3/envs/od/lib/python3.8/site-packages/seaborn/_decorators.py:36: FutureWarning: Pass the following variables as keyword args: x, y. From version 0.12, the only valid positional argument will be `data`, and passing other arguments without an explicit keyword will result in an error or misinterpretation.\n",
      "  warnings.warn(\n"
     ]
    },
    {
     "data": {
      "text/plain": [
       "<seaborn.axisgrid.JointGrid at 0x7fe1105376d0>"
      ]
     },
     "execution_count": 34,
     "metadata": {},
     "output_type": "execute_result"
    },
    {
     "data": {
      "image/png": "[encoded data removed]",
      "text/plain": [
       "<Figure size 432x432 with 3 Axes>"
      ]
     },
     "metadata": {
      "needs_background": "light"
     },
     "output_type": "display_data"
    }
   ],
   "source": [
    "# Create a plot showing joint density contours and marginal density functions\n",
    "\n",
    "samples = bivariate_normal_from_Independent.sample(10000)\n",
    "x1 = samples[:, 0]\n",
    "x2 = samples[:, 1]\n",
    "sns.jointplot(x1, x2, kind=\"kde\", space=0, color='b', xlim=[-4, 4], ylim=[-4, 4])"
   ]
  },
  {
   "cell_type": "code",
   "execution_count": 35,
   "metadata": {
    "execution": {
     "iopub.execute_input": "2021-03-15T08:15:27.299121Z",
     "iopub.status.busy": "2021-03-15T08:15:27.298623Z",
     "iopub.status.idle": "2021-03-15T08:15:27.309587Z",
     "shell.execute_reply": "2021-03-15T08:15:27.308722Z",
     "shell.execute_reply.started": "2021-03-15T08:15:27.298993Z"
    }
   },
   "outputs": [
    {
     "data": {
      "text/plain": [
       "<tfp.distributions.MultivariateNormalDiag 'MultivariateNormalDiag' batch_shape=[] event_shape=[2] dtype=float32>"
      ]
     },
     "execution_count": 35,
     "metadata": {},
     "output_type": "execute_result"
    }
   ],
   "source": [
    "# Use MultivariateNormalDiag to create the equivalent distribution\n",
    "# Note that diagonal covariance matrix => no correlation => independence (for the multivariate normal distribution)\n",
    "\n",
    "bivariate_normal_from_Multivariate = tfd.MultivariateNormalDiag(loc=locs, scale_diag=scales)\n",
    "bivariate_normal_from_Multivariate"
   ]
  },
  {
   "cell_type": "code",
   "execution_count": 36,
   "metadata": {
    "execution": {
     "iopub.execute_input": "2021-03-15T08:15:27.310918Z",
     "iopub.status.busy": "2021-03-15T08:15:27.310708Z",
     "iopub.status.idle": "2021-03-15T08:15:33.708666Z",
     "shell.execute_reply": "2021-03-15T08:15:33.708025Z",
     "shell.execute_reply.started": "2021-03-15T08:15:27.310893Z"
    }
   },
   "outputs": [
    {
     "name": "stderr",
     "output_type": "stream",
     "text": [
      "/Users/shankar/dev/tools/anaconda3/envs/od/lib/python3.8/site-packages/seaborn/_decorators.py:36: FutureWarning: Pass the following variables as keyword args: x, y. From version 0.12, the only valid positional argument will be `data`, and passing other arguments without an explicit keyword will result in an error or misinterpretation.\n",
      "  warnings.warn(\n"
     ]
    },
    {
     "data": {
      "text/plain": [
       "<seaborn.axisgrid.JointGrid at 0x7fe11082f3a0>"
      ]
     },
     "execution_count": 36,
     "metadata": {},
     "output_type": "execute_result"
    },
    {
     "data": {
      "image/png": "[encoded data removed]",
      "text/plain": [
       "<Figure size 432x432 with 3 Axes>"
      ]
     },
     "metadata": {
      "needs_background": "light"
     },
     "output_type": "display_data"
    }
   ],
   "source": [
    "# Plot the joint density function of bivariate_normal_from_Independent\n",
    "# Refer back to bivariate_normal_from_Independent to show that the plot is the same\n",
    "# Summarise how Independent has been used\n",
    "\n",
    "samples = bivariate_normal_from_Multivariate.sample(10000)\n",
    "x1 = samples[:, 0]\n",
    "x2 = samples[:, 1]\n",
    "sns.jointplot(x1, x2, kind=\"kde\", space=0, color='b', xlim=[-4, 4], ylim=[-4, 4])"
   ]
  },
  {
   "cell_type": "markdown",
   "metadata": {},
   "source": [
    "#### Shifting batch dimensions to event dimensions using \n",
    "`reinterpreted_batch_ndims`"
   ]
  },
  {
   "cell_type": "code",
   "execution_count": 37,
   "metadata": {
    "execution": {
     "iopub.execute_input": "2021-03-15T08:15:33.710040Z",
     "iopub.status.busy": "2021-03-15T08:15:33.709844Z",
     "iopub.status.idle": "2021-03-15T08:15:33.714846Z",
     "shell.execute_reply": "2021-03-15T08:15:33.714091Z",
     "shell.execute_reply.started": "2021-03-15T08:15:33.710018Z"
    }
   },
   "outputs": [],
   "source": [
    "# Demonstrate use of reinterpreted_batch_ndims\n",
    "# By default all batch dims except the first are transferred to event dims\n",
    "\n",
    "loc_grid = [[-100., -100.],\n",
    "            [100., 100.],\n",
    "            [0., 0.]]\n",
    "scale_grid = [[1., 10.],\n",
    "              [1., 10.],\n",
    "              [1., 1.]]\n",
    "\n",
    "normals_batch_3by2_event_1 = tfd.Normal(loc=loc_grid, scale=scale_grid)"
   ]
  },
  {
   "cell_type": "code",
   "execution_count": 38,
   "metadata": {
    "execution": {
     "iopub.execute_input": "2021-03-15T08:15:33.716152Z",
     "iopub.status.busy": "2021-03-15T08:15:33.715943Z",
     "iopub.status.idle": "2021-03-15T08:15:33.723735Z",
     "shell.execute_reply": "2021-03-15T08:15:33.722911Z",
     "shell.execute_reply.started": "2021-03-15T08:15:33.716129Z"
    }
   },
   "outputs": [
    {
     "data": {
      "text/plain": [
       "<tfp.distributions.Normal 'Normal' batch_shape=[3, 2] event_shape=[] dtype=float32>"
      ]
     },
     "execution_count": 38,
     "metadata": {},
     "output_type": "execute_result"
    }
   ],
   "source": [
    "# Highlight batch_shape\n",
    "\n",
    "normals_batch_3by2_event_1"
   ]
  },
  {
   "cell_type": "code",
   "execution_count": 39,
   "metadata": {
    "execution": {
     "iopub.execute_input": "2021-03-15T08:15:33.725228Z",
     "iopub.status.busy": "2021-03-15T08:15:33.724813Z",
     "iopub.status.idle": "2021-03-15T08:15:33.730434Z",
     "shell.execute_reply": "2021-03-15T08:15:33.729758Z",
     "shell.execute_reply.started": "2021-03-15T08:15:33.725200Z"
    }
   },
   "outputs": [
    {
     "data": {
      "text/plain": [
       "<tfp.distributions.Independent 'IndependentNormal' batch_shape=[3] event_shape=[2] dtype=float32>"
      ]
     },
     "execution_count": 39,
     "metadata": {},
     "output_type": "execute_result"
    }
   ],
   "source": [
    "# We now have a batch of 3 bivariate normal distributions,\n",
    "# each parametrised by a column of our original parameter grid\n",
    "normals_batch_3_event_2 = tfd.Independent(normals_batch_3by2_event_1)\n",
    "normals_batch_3_event_2"
   ]
  },
  {
   "cell_type": "code",
   "execution_count": 40,
   "metadata": {
    "execution": {
     "iopub.execute_input": "2021-03-15T08:15:33.731901Z",
     "iopub.status.busy": "2021-03-15T08:15:33.731690Z",
     "iopub.status.idle": "2021-03-15T08:15:33.738469Z",
     "shell.execute_reply": "2021-03-15T08:15:33.737542Z",
     "shell.execute_reply.started": "2021-03-15T08:15:33.731878Z"
    }
   },
   "outputs": [
    {
     "data": {
      "text/plain": [
       "<tf.Tensor: shape=(3,), dtype=float32, numpy=array([-4.1146406e+03, -4.1404624e+00, -2.8378770e+00], dtype=float32)>"
      ]
     },
     "execution_count": 40,
     "metadata": {},
     "output_type": "execute_result"
    }
   ],
   "source": [
    "# Evaluate log_prob\n",
    "\n",
    "normals_batch_3_event_2.log_prob(\n",
    "    value=[[-10, 10],[100, 100],[1,1]]\n",
    ")"
   ]
  },
  {
   "cell_type": "code",
   "execution_count": 41,
   "metadata": {
    "execution": {
     "iopub.execute_input": "2021-03-15T08:15:33.739921Z",
     "iopub.status.busy": "2021-03-15T08:15:33.739662Z",
     "iopub.status.idle": "2021-03-15T08:15:33.745485Z",
     "shell.execute_reply": "2021-03-15T08:15:33.744781Z",
     "shell.execute_reply.started": "2021-03-15T08:15:33.739891Z"
    }
   },
   "outputs": [
    {
     "data": {
      "text/plain": [
       "<tfp.distributions.Independent 'IndependentNormal' batch_shape=[] event_shape=[3, 2] dtype=float32>"
      ]
     },
     "execution_count": 41,
     "metadata": {},
     "output_type": "execute_result"
    }
   ],
   "source": [
    "# Can reinterpret _all_ batch dimensions as event dimensions\n",
    "normals_batch_1_event_3by2 = tfd.Independent(\n",
    "    normals_batch_3by2_event_1,\n",
    "    reinterpreted_batch_ndims=2\n",
    ")\n",
    "normals_batch_1_event_3by2"
   ]
  },
  {
   "cell_type": "code",
   "execution_count": 42,
   "metadata": {
    "execution": {
     "iopub.execute_input": "2021-03-15T08:15:33.747231Z",
     "iopub.status.busy": "2021-03-15T08:15:33.746800Z",
     "iopub.status.idle": "2021-03-15T08:15:33.755214Z",
     "shell.execute_reply": "2021-03-15T08:15:33.754118Z",
     "shell.execute_reply.started": "2021-03-15T08:15:33.747190Z"
    }
   },
   "outputs": [
    {
     "data": {
      "text/plain": [
       "<tf.Tensor: shape=(), dtype=float32, numpy=-4121.619>"
      ]
     },
     "execution_count": 42,
     "metadata": {},
     "output_type": "execute_result"
    }
   ],
   "source": [
    "# Take log_probs \n",
    "normals_batch_1_event_3by2.log_prob(value = [[-10, 10],[100, 100],[1,1]])\n"
   ]
  },
  {
   "cell_type": "markdown",
   "metadata": {},
   "source": [
    "#### Using `Independent` to build a Naive Bayes classifier"
   ]
  },
  {
   "cell_type": "markdown",
   "metadata": {},
   "source": [
    "#### Introduction to `newsgroups` data set"
   ]
  },
  {
   "cell_type": "markdown",
   "metadata": {},
   "source": [
    "In this tutorial, just load the dataset, fetch train/test splits, probably choose a subset of the data.\n",
    "\n",
    "Construct the class conditional feature distribution (with Independent, using the Naive Bayes assumption) and sample from it.\n",
    "\n",
    "We can just use the ML estimates for parameters, in later tutorials we will learn them."
   ]
  },
  {
   "cell_type": "code",
   "execution_count": 43,
   "metadata": {
    "execution": {
     "iopub.execute_input": "2021-03-15T08:15:33.758272Z",
     "iopub.status.busy": "2021-03-15T08:15:33.757587Z",
     "iopub.status.idle": "2021-03-15T08:15:34.060943Z",
     "shell.execute_reply": "2021-03-15T08:15:34.060130Z",
     "shell.execute_reply.started": "2021-03-15T08:15:33.758226Z"
    }
   },
   "outputs": [],
   "source": [
    "# Convenience function for retrieving the 20 newsgroups data set\n",
    "\n",
    "# Usenet was a forerunner to modern internet forums\n",
    "# Users could post and read articles\n",
    "# Newsgroup corresponded to a topic\n",
    "# Example topics in this data set: IBM computer hardware, baseball\n",
    "# Our objective is to use an article's contents to predict its newsgroup,\n",
    "# a 20-class classification problem.\n",
    "\n",
    "# 18000 newsgroups, posts on 20 topics\n",
    "from sklearn.datasets import fetch_20newsgroups\n",
    "from sklearn.feature_extraction.text import CountVectorizer\n"
   ]
  },
  {
   "cell_type": "code",
   "execution_count": 44,
   "metadata": {
    "execution": {
     "iopub.execute_input": "2021-03-15T08:15:34.062783Z",
     "iopub.status.busy": "2021-03-15T08:15:34.062563Z",
     "iopub.status.idle": "2021-03-15T08:15:34.381708Z",
     "shell.execute_reply": "2021-03-15T08:15:34.380834Z",
     "shell.execute_reply.started": "2021-03-15T08:15:34.062761Z"
    }
   },
   "outputs": [],
   "source": [
    "# Get the train data\n",
    "\n",
    "newsgroups_data = fetch_20newsgroups(data_home=\"./\", subset=\"train\")"
   ]
  },
  {
   "cell_type": "code",
   "execution_count": 45,
   "metadata": {
    "execution": {
     "iopub.execute_input": "2021-03-15T08:15:34.383296Z",
     "iopub.status.busy": "2021-03-15T08:15:34.383055Z",
     "iopub.status.idle": "2021-03-15T08:15:34.389137Z",
     "shell.execute_reply": "2021-03-15T08:15:34.388293Z",
     "shell.execute_reply.started": "2021-03-15T08:15:34.383270Z"
    }
   },
   "outputs": [
    {
     "name": "stdout",
     "output_type": "stream",
     "text": [
      ".. _20newsgroups_dataset:\n",
      "\n",
      "The 20 newsgroups text dataset\n",
      "------------------------------\n",
      "\n",
      "The 20 newsgroups dataset comprises around 18000 newsgroups posts on\n",
      "20 topics split in two subsets: one for training (or development)\n",
      "and the other one for testing (or for performance evaluation). The split\n",
      "between the train and test set is based upon a messages posted before\n",
      "and after a specific date.\n",
      "\n",
      "This module contains two loaders. The first one,\n",
      ":func:`sklearn.datasets.fetch_20newsgroups`,\n",
      "returns a list of the raw texts that can be fed to text feature\n",
      "extractors such as :class:`sklearn.feature_extraction.text.CountVectorizer`\n",
      "with custom parameters so as to extract feature vectors.\n",
      "The second one, :func:`sklearn.datasets.fetch_20newsgroups_vectorized`,\n",
      "returns ready-to-use features, i.e., it is not necessary to use a feature\n",
      "extractor.\n",
      "\n",
      "**Data Set Characteristics:**\n",
      "\n",
      "    =================   ==========\n",
      "    Classes                     20\n",
      "    Samples total            18846\n",
      "    Dimensionality               1\n",
      "    Features                  text\n",
      "    =================   ==========\n",
      "\n",
      "Usage\n",
      "~~~~~\n",
      "\n",
      "The :func:`sklearn.datasets.fetch_20newsgroups` function is a data\n",
      "fetching / caching functions that downloads the data archive from\n",
      "the original `20 newsgroups website`_, extracts the archive contents\n",
      "in the ``~/scikit_learn_data/20news_home`` folder and calls the\n",
      ":func:`sklearn.datasets.load_files` on either the training or\n",
      "testing set folder, or both of them::\n",
      "\n",
      "  >>> from sklearn.datasets import fetch_20newsgroups\n",
      "  >>> newsgroups_train = fetch_20newsgroups(subset='train')\n",
      "\n",
      "  >>> from pprint import pprint\n",
      "  >>> pprint(list(newsgroups_train.target_names))\n",
      "  ['alt.atheism',\n",
      "   'comp.graphics',\n",
      "   'comp.os.ms-windows.misc',\n",
      "   'comp.sys.ibm.pc.hardware',\n",
      "   'comp.sys.mac.hardware',\n",
      "   'comp.windows.x',\n",
      "   'misc.forsale',\n",
      "   'rec.autos',\n",
      "   'rec.motorcycles',\n",
      "   'rec.sport.baseball',\n",
      "   'rec.sport.hockey',\n",
      "   'sci.crypt',\n",
      "   'sci.electronics',\n",
      "   'sci.med',\n",
      "   'sci.space',\n",
      "   'soc.religion.christian',\n",
      "   'talk.politics.guns',\n",
      "   'talk.politics.mideast',\n",
      "   'talk.politics.misc',\n",
      "   'talk.religion.misc']\n",
      "\n",
      "The real data lies in the ``filenames`` and ``target`` attributes. The target\n",
      "attribute is the integer index of the category::\n",
      "\n",
      "  >>> newsgroups_train.filenames.shape\n",
      "  (11314,)\n",
      "  >>> newsgroups_train.target.shape\n",
      "  (11314,)\n",
      "  >>> newsgroups_train.target[:10]\n",
      "  array([ 7,  4,  4,  1, 14, 16, 13,  3,  2,  4])\n",
      "\n",
      "It is possible to load only a sub-selection of the categories by passing the\n",
      "list of the categories to load to the\n",
      ":func:`sklearn.datasets.fetch_20newsgroups` function::\n",
      "\n",
      "  >>> cats = ['alt.atheism', 'sci.space']\n",
      "  >>> newsgroups_train = fetch_20newsgroups(subset='train', categories=cats)\n",
      "\n",
      "  >>> list(newsgroups_train.target_names)\n",
      "  ['alt.atheism', 'sci.space']\n",
      "  >>> newsgroups_train.filenames.shape\n",
      "  (1073,)\n",
      "  >>> newsgroups_train.target.shape\n",
      "  (1073,)\n",
      "  >>> newsgroups_train.target[:10]\n",
      "  array([0, 1, 1, 1, 0, 1, 1, 0, 0, 0])\n",
      "\n",
      "Converting text to vectors\n",
      "~~~~~~~~~~~~~~~~~~~~~~~~~~\n",
      "\n",
      "In order to feed predictive or clustering models with the text data,\n",
      "one first need to turn the text into vectors of numerical values suitable\n",
      "for statistical analysis. This can be achieved with the utilities of the\n",
      "``sklearn.feature_extraction.text`` as demonstrated in the following\n",
      "example that extract `TF-IDF`_ vectors of unigram tokens\n",
      "from a subset of 20news::\n",
      "\n",
      "  >>> from sklearn.feature_extraction.text import TfidfVectorizer\n",
      "  >>> categories = ['alt.atheism', 'talk.religion.misc',\n",
      "  ...               'comp.graphics', 'sci.space']\n",
      "  >>> newsgroups_train = fetch_20newsgroups(subset='train',\n",
      "  ...                                       categories=categories)\n",
      "  >>> vectorizer = TfidfVectorizer()\n",
      "  >>> vectors = vectorizer.fit_transform(newsgroups_train.data)\n",
      "  >>> vectors.shape\n",
      "  (2034, 34118)\n",
      "\n",
      "The extracted TF-IDF vectors are very sparse, with an average of 159 non-zero\n",
      "components by sample in a more than 30000-dimensional space\n",
      "(less than .5% non-zero features)::\n",
      "\n",
      "  >>> vectors.nnz / float(vectors.shape[0])\n",
      "  159.01327...\n",
      "\n",
      ":func:`sklearn.datasets.fetch_20newsgroups_vectorized` is a function which \n",
      "returns ready-to-use token counts features instead of file names.\n",
      "\n",
      ".. _`20 newsgroups website`: http://people.csail.mit.edu/jrennie/20Newsgroups/\n",
      ".. _`TF-IDF`: https://en.wikipedia.org/wiki/Tf-idf\n",
      "\n",
      "\n",
      "Filtering text for more realistic training\n",
      "~~~~~~~~~~~~~~~~~~~~~~~~~~~~~~~~~~~~~~~~~~\n",
      "\n",
      "It is easy for a classifier to overfit on particular things that appear in the\n",
      "20 Newsgroups data, such as newsgroup headers. Many classifiers achieve very\n",
      "high F-scores, but their results would not generalize to other documents that\n",
      "aren't from this window of time.\n",
      "\n",
      "For example, let's look at the results of a multinomial Naive Bayes classifier,\n",
      "which is fast to train and achieves a decent F-score::\n",
      "\n",
      "  >>> from sklearn.naive_bayes import MultinomialNB\n",
      "  >>> from sklearn import metrics\n",
      "  >>> newsgroups_test = fetch_20newsgroups(subset='test',\n",
      "  ...                                      categories=categories)\n",
      "  >>> vectors_test = vectorizer.transform(newsgroups_test.data)\n",
      "  >>> clf = MultinomialNB(alpha=.01)\n",
      "  >>> clf.fit(vectors, newsgroups_train.target)\n",
      "  MultinomialNB(alpha=0.01, class_prior=None, fit_prior=True)\n",
      "\n",
      "  >>> pred = clf.predict(vectors_test)\n",
      "  >>> metrics.f1_score(newsgroups_test.target, pred, average='macro')\n",
      "  0.88213...\n",
      "\n",
      "(The example :ref:`sphx_glr_auto_examples_text_plot_document_classification_20newsgroups.py` shuffles\n",
      "the training and test data, instead of segmenting by time, and in that case\n",
      "multinomial Naive Bayes gets a much higher F-score of 0.88. Are you suspicious\n",
      "yet of what's going on inside this classifier?)\n",
      "\n",
      "Let's take a look at what the most informative features are:\n",
      "\n",
      "  >>> import numpy as np\n",
      "  >>> def show_top10(classifier, vectorizer, categories):\n",
      "  ...     feature_names = np.asarray(vectorizer.get_feature_names())\n",
      "  ...     for i, category in enumerate(categories):\n",
      "  ...         top10 = np.argsort(classifier.coef_[i])[-10:]\n",
      "  ...         print(\"%s: %s\" % (category, \" \".join(feature_names[top10])))\n",
      "  ...\n",
      "  >>> show_top10(clf, vectorizer, newsgroups_train.target_names)\n",
      "  alt.atheism: edu it and in you that is of to the\n",
      "  comp.graphics: edu in graphics it is for and of to the\n",
      "  sci.space: edu it that is in and space to of the\n",
      "  talk.religion.misc: not it you in is that and to of the\n",
      "\n",
      "\n",
      "You can now see many things that these features have overfit to:\n",
      "\n",
      "- Almost every group is distinguished by whether headers such as\n",
      "  ``NNTP-Posting-Host:`` and ``Distribution:`` appear more or less often.\n",
      "- Another significant feature involves whether the sender is affiliated with\n",
      "  a university, as indicated either by their headers or their signature.\n",
      "- The word \"article\" is a significant feature, based on how often people quote\n",
      "  previous posts like this: \"In article [article ID], [name] <[e-mail address]>\n",
      "  wrote:\"\n",
      "- Other features match the names and e-mail addresses of particular people who\n",
      "  were posting at the time.\n",
      "\n",
      "With such an abundance of clues that distinguish newsgroups, the classifiers\n",
      "barely have to identify topics from text at all, and they all perform at the\n",
      "same high level.\n",
      "\n",
      "For this reason, the functions that load 20 Newsgroups data provide a\n",
      "parameter called **remove**, telling it what kinds of information to strip out\n",
      "of each file. **remove** should be a tuple containing any subset of\n",
      "``('headers', 'footers', 'quotes')``, telling it to remove headers, signature\n",
      "blocks, and quotation blocks respectively.\n",
      "\n",
      "  >>> newsgroups_test = fetch_20newsgroups(subset='test',\n",
      "  ...                                      remove=('headers', 'footers', 'quotes'),\n",
      "  ...                                      categories=categories)\n",
      "  >>> vectors_test = vectorizer.transform(newsgroups_test.data)\n",
      "  >>> pred = clf.predict(vectors_test)\n",
      "  >>> metrics.f1_score(pred, newsgroups_test.target, average='macro')\n",
      "  0.77310...\n",
      "\n",
      "This classifier lost over a lot of its F-score, just because we removed\n",
      "metadata that has little to do with topic classification.\n",
      "It loses even more if we also strip this metadata from the training data:\n",
      "\n",
      "  >>> newsgroups_train = fetch_20newsgroups(subset='train',\n",
      "  ...                                       remove=('headers', 'footers', 'quotes'),\n",
      "  ...                                       categories=categories)\n",
      "  >>> vectors = vectorizer.fit_transform(newsgroups_train.data)\n",
      "  >>> clf = MultinomialNB(alpha=.01)\n",
      "  >>> clf.fit(vectors, newsgroups_train.target)\n",
      "  MultinomialNB(alpha=0.01, class_prior=None, fit_prior=True)\n",
      "\n",
      "  >>> vectors_test = vectorizer.transform(newsgroups_test.data)\n",
      "  >>> pred = clf.predict(vectors_test)\n",
      "  >>> metrics.f1_score(newsgroups_test.target, pred, average='macro')\n",
      "  0.76995...\n",
      "\n",
      "Some other classifiers cope better with this harder version of the task. Try\n",
      "running :ref:`sphx_glr_auto_examples_model_selection_grid_search_text_feature_extraction.py` with and without\n",
      "the ``--filter`` option to compare the results.\n",
      "\n",
      ".. topic:: Recommendation\n",
      "\n",
      "  When evaluating text classifiers on the 20 Newsgroups data, you\n",
      "  should strip newsgroup-related metadata. In scikit-learn, you can do this by\n",
      "  setting ``remove=('headers', 'footers', 'quotes')``. The F-score will be\n",
      "  lower because it is more realistic.\n",
      "\n",
      ".. topic:: Examples\n",
      "\n",
      "   * :ref:`sphx_glr_auto_examples_model_selection_grid_search_text_feature_extraction.py`\n",
      "\n",
      "   * :ref:`sphx_glr_auto_examples_text_plot_document_classification_20newsgroups.py`\n",
      "\n"
     ]
    }
   ],
   "source": [
    "# More information about the data set\n",
    "print(newsgroups_data[\"DESCR\"])\n"
   ]
  },
  {
   "cell_type": "code",
   "execution_count": 46,
   "metadata": {
    "execution": {
     "iopub.execute_input": "2021-03-15T08:15:34.390815Z",
     "iopub.status.busy": "2021-03-15T08:15:34.390575Z",
     "iopub.status.idle": "2021-03-15T08:15:34.394962Z",
     "shell.execute_reply": "2021-03-15T08:15:34.394114Z",
     "shell.execute_reply.started": "2021-03-15T08:15:34.390788Z"
    }
   },
   "outputs": [
    {
     "name": "stdout",
     "output_type": "stream",
     "text": [
      "From: lerxst@wam.umd.edu (where's my thing)\n",
      "Subject: WHAT car is this!?\n",
      "Nntp-Posting-Host: rac3.wam.umd.edu\n",
      "Organization: University of Maryland, College Park\n",
      "Lines: 15\n",
      "\n",
      " I was wondering if anyone out there could enlighten me on this car I saw\n",
      "the other day. It was a 2-door sports car, looked to be from the late 60s/\n",
      "early 70s. It was called a Bricklin. The doors were really small. In addition,\n",
      "the front bumper was separate from the rest of the body. This is \n",
      "all I know. If anyone can tellme a model name, engine specs, years\n",
      "of production, where this car is made, history, or whatever info you\n",
      "have on this funky looking car, please e-mail.\n",
      "\n",
      "Thanks,\n",
      "- IL\n",
      "   ---- brought to you by your neighborhood Lerxst ----\n",
      "\n",
      "\n",
      "\n",
      "\n",
      "\n"
     ]
    }
   ],
   "source": [
    "# Example article\n",
    "\n",
    "print(newsgroups_data[\"data\"][0])"
   ]
  },
  {
   "cell_type": "code",
   "execution_count": 47,
   "metadata": {
    "execution": {
     "iopub.execute_input": "2021-03-15T08:15:34.396913Z",
     "iopub.status.busy": "2021-03-15T08:15:34.396539Z",
     "iopub.status.idle": "2021-03-15T08:15:34.403327Z",
     "shell.execute_reply": "2021-03-15T08:15:34.402352Z",
     "shell.execute_reply.started": "2021-03-15T08:15:34.396878Z"
    }
   },
   "outputs": [
    {
     "data": {
      "text/plain": [
       "(7, 'rec.autos')"
      ]
     },
     "execution_count": 47,
     "metadata": {},
     "output_type": "execute_result"
    }
   ],
   "source": [
    "# Associated label\n",
    "\n",
    "newsgroups_data[\"target\"][0], newsgroups_data[\"target_names\"][7]"
   ]
  },
  {
   "cell_type": "code",
   "execution_count": 48,
   "metadata": {
    "execution": {
     "iopub.execute_input": "2021-03-15T08:15:34.404812Z",
     "iopub.status.busy": "2021-03-15T08:15:34.404548Z",
     "iopub.status.idle": "2021-03-15T08:15:34.407870Z",
     "shell.execute_reply": "2021-03-15T08:15:34.407110Z",
     "shell.execute_reply.started": "2021-03-15T08:15:34.404787Z"
    }
   },
   "outputs": [],
   "source": [
    "# Name of label\n",
    "\n"
   ]
  },
  {
   "cell_type": "code",
   "execution_count": 49,
   "metadata": {
    "execution": {
     "iopub.execute_input": "2021-03-15T08:15:34.409363Z",
     "iopub.status.busy": "2021-03-15T08:15:34.409049Z",
     "iopub.status.idle": "2021-03-15T08:15:37.681236Z",
     "shell.execute_reply": "2021-03-15T08:15:37.680345Z",
     "shell.execute_reply.started": "2021-03-15T08:15:34.409337Z"
    }
   },
   "outputs": [],
   "source": [
    "# Preprocessing boilerplate\n",
    "\n",
    "n_documents = len(newsgroups_data['data'])\n",
    "\n",
    "count_vectorizer = CountVectorizer(input='content', binary=True,\n",
    "                                   max_df=0.25, min_df=1.01/n_documents) # ignore common words, words that appear once\n",
    "binary_bag_of_words = count_vectorizer.fit_transform(newsgroups_data['data']) # input is a list of strings\n"
   ]
  },
  {
   "cell_type": "code",
   "execution_count": 50,
   "metadata": {
    "execution": {
     "iopub.execute_input": "2021-03-15T08:15:37.682760Z",
     "iopub.status.busy": "2021-03-15T08:15:37.682444Z",
     "iopub.status.idle": "2021-03-15T08:15:37.688244Z",
     "shell.execute_reply": "2021-03-15T08:15:37.687258Z",
     "shell.execute_reply.started": "2021-03-15T08:15:37.682728Z"
    }
   },
   "outputs": [
    {
     "data": {
      "text/plain": [
       "(11314, 56365)"
      ]
     },
     "execution_count": 50,
     "metadata": {},
     "output_type": "execute_result"
    }
   ],
   "source": [
    "# Check shape\n",
    "\n",
    "binary_bag_of_words.shape"
   ]
  },
  {
   "cell_type": "code",
   "execution_count": 51,
   "metadata": {
    "execution": {
     "iopub.execute_input": "2021-03-15T08:15:37.689720Z",
     "iopub.status.busy": "2021-03-15T08:15:37.689380Z",
     "iopub.status.idle": "2021-03-15T08:15:37.750780Z",
     "shell.execute_reply": "2021-03-15T08:15:37.749947Z",
     "shell.execute_reply.started": "2021-03-15T08:15:37.689679Z"
    }
   },
   "outputs": [
    {
     "data": {
      "text/plain": [
       "[array(['lerxst', 'wam', 'umd', 'where', 'thing', 'car', 'rac3',\n",
       "        'maryland', 'college', 'park', '15', 'wondering', 'anyone',\n",
       "        'could', 'enlighten', 'saw', 'day', 'door', 'sports', 'looked',\n",
       "        'late', '60s', 'early', '70s', 'called', 'bricklin', 'doors',\n",
       "        'were', 'really', 'small', 'addition', 'front', 'bumper',\n",
       "        'separate', 'rest', 'body', 'tellme', 'model', 'name', 'engine',\n",
       "        'specs', 'years', 'production', 'made', 'history', 'whatever',\n",
       "        'info', 'funky', 'looking', 'please', 'mail', 'thanks', 'il',\n",
       "        'brought', 'neighborhood'], dtype='<U80')]"
      ]
     },
     "execution_count": 51,
     "metadata": {},
     "output_type": "execute_result"
    }
   ],
   "source": [
    "# Check that the fit has been successful\n",
    "\n",
    "count_vectorizer.inverse_transform(binary_bag_of_words[0, :])"
   ]
  },
  {
   "cell_type": "code",
   "execution_count": 52,
   "metadata": {
    "execution": {
     "iopub.execute_input": "2021-03-15T08:15:37.752509Z",
     "iopub.status.busy": "2021-03-15T08:15:37.752269Z",
     "iopub.status.idle": "2021-03-15T08:15:37.784616Z",
     "shell.execute_reply": "2021-03-15T08:15:37.783679Z",
     "shell.execute_reply.started": "2021-03-15T08:15:37.752483Z"
    }
   },
   "outputs": [],
   "source": [
    "# Dict that will be useful later \n",
    "\n",
    "inv_vocabulary = {value:key for key, value in count_vectorizer.vocabulary_.items()}"
   ]
  },
  {
   "cell_type": "markdown",
   "metadata": {},
   "source": [
    "#### A Naive Bayes classifier for `newsgroup`"
   ]
  },
  {
   "cell_type": "markdown",
   "metadata": {},
   "source": [
    "Each feature vector $x$ is a list of indicators for whether a word appears in the article. $x_i$ is 1 if the $i$th word appears, and 0 otherwise. `inv_vocabulary` matches word indices $i$ to words.\n",
    "\n",
    "Each label $y$ is a value in $0, 1, \\ldots, 19$.\n",
    "\n",
    "The parts of a naive Bayes classifier for this problem can be summarised as:  \n",
    "\n",
    "\n",
    "- A probability distribution for the feature vector by class, $p(x|y = j)$ for each $j = 0, 1, \\ldots, 19$. These probability distributions are assumed to have independent components: we can factorize the joint probability as a product of marginal probabilities\n",
    "\\begin{equation}\n",
    "    p(x|y = j) = \\prod_{i=1}^d p(x_i|y = j)\n",
    "\\end{equation}\n",
    "These marginal probability distributions are Bernoulli distributions, each of which has a single parameter $\\theta_{ji} := p(x_i = 1|y = j)$. This parameter is the probability of observing word $i$ in an article of class $j$. \n",
    "\n",
    "- We will use the Laplace smoothed maximum likelihood estimate to compute these parameters. Laplace smoothing involves adding small counts to every feature for each class. Else, if a feature did not appear in the training set of a class, but then we observed it in our test data the log probability would be undefined.\n",
    "\n",
    "- A collection of class prior probabilities $p(y = j)$. These will be set by computing the class base rates in the training set.  \n",
    "\n",
    "\n",
    "- A function for computing the probability of class membership via Bayes' theorem:  \n",
    "\n",
    "\\begin{equation}\n",
    "    p(y = j|x) = \\frac{p(x|y = j)p(y = j)}{p(x)}\n",
    "\\end{equation}"
   ]
  },
  {
   "cell_type": "code",
   "execution_count": 53,
   "metadata": {
    "execution": {
     "iopub.execute_input": "2021-03-15T08:15:37.786184Z",
     "iopub.status.busy": "2021-03-15T08:15:37.785796Z",
     "iopub.status.idle": "2021-03-15T08:15:37.815553Z",
     "shell.execute_reply": "2021-03-15T08:15:37.814881Z",
     "shell.execute_reply.started": "2021-03-15T08:15:37.786153Z"
    }
   },
   "outputs": [],
   "source": [
    "# Compute the parameter estimates (adjusted fraction of documents in class that contain word)\n",
    "\n",
    "n_classes = newsgroups_data['target'].max() + 1\n",
    "y = newsgroups_data['target']\n",
    "n_words = binary_bag_of_words.shape[1]\n",
    "\n",
    "alpha = 1e-6 # parameters for Laplace smoothing\n",
    "\n",
    "theta = np.zeros([n_classes, n_words]) # stores parameter values - prob. word given class\n",
    "for c_k in range(n_classes): # 0, 1, ..., 19\n",
    "    class_mask = (y == c_k)\n",
    "    N = class_mask.sum() # number of articles in class\n",
    "    theta[c_k, :] = (binary_bag_of_words[class_mask, :].sum(axis=0) + alpha)/(N + alpha*2)"
   ]
  },
  {
   "cell_type": "code",
   "execution_count": 54,
   "metadata": {
    "execution": {
     "iopub.execute_input": "2021-03-15T08:15:37.817032Z",
     "iopub.status.busy": "2021-03-15T08:15:37.816671Z",
     "iopub.status.idle": "2021-03-15T08:15:37.825781Z",
     "shell.execute_reply": "2021-03-15T08:15:37.824471Z",
     "shell.execute_reply.started": "2021-03-15T08:15:37.816994Z"
    }
   },
   "outputs": [
    {
     "data": {
      "text/plain": [
       "array([False,  True,  True, ..., False, False, False])"
      ]
     },
     "execution_count": 54,
     "metadata": {},
     "output_type": "execute_result"
    }
   ],
   "source": [
    "y == 4"
   ]
  },
  {
   "cell_type": "code",
   "execution_count": 55,
   "metadata": {
    "execution": {
     "iopub.execute_input": "2021-03-15T08:15:37.828276Z",
     "iopub.status.busy": "2021-03-15T08:15:37.828008Z",
     "iopub.status.idle": "2021-03-15T08:15:37.836981Z",
     "shell.execute_reply": "2021-03-15T08:15:37.836054Z",
     "shell.execute_reply.started": "2021-03-15T08:15:37.828245Z"
    }
   },
   "outputs": [
    {
     "name": "stdout",
     "output_type": "stream",
     "text": [
      "Most probable word in class alt.atheism is \"people\".\n",
      "Most probable word in class comp.graphics is \"graphics\".\n",
      "Most probable word in class comp.os.ms-windows.misc is \"windows\".\n",
      "Most probable word in class comp.sys.ibm.pc.hardware is \"thanks\".\n",
      "Most probable word in class comp.sys.mac.hardware is \"mac\".\n",
      "Most probable word in class comp.windows.x is \"window\".\n",
      "Most probable word in class misc.forsale is \"sale\".\n",
      "Most probable word in class rec.autos is \"car\".\n",
      "Most probable word in class rec.motorcycles is \"dod\".\n",
      "Most probable word in class rec.sport.baseball is \"he\".\n",
      "Most probable word in class rec.sport.hockey is \"ca\".\n",
      "Most probable word in class sci.crypt is \"clipper\".\n",
      "Most probable word in class sci.electronics is \"use\".\n",
      "Most probable word in class sci.med is \"reply\".\n",
      "Most probable word in class sci.space is \"space\".\n",
      "Most probable word in class soc.religion.christian is \"god\".\n",
      "Most probable word in class talk.politics.guns is \"people\".\n",
      "Most probable word in class talk.politics.mideast is \"people\".\n",
      "Most probable word in class talk.politics.misc is \"people\".\n",
      "Most probable word in class talk.religion.misc is \"he\".\n"
     ]
    }
   ],
   "source": [
    "# Check whether the most probable word in each class is reasonable\n",
    "\n",
    "most_probable_word_ix = theta.argmax(axis=1) # most probable word for each class\n",
    "\n",
    "for j, ix in enumerate(most_probable_word_ix):\n",
    "    print('Most probable word in class {} is \"{}\".'.format(newsgroups_data['target_names'][j],\n",
    "                                                           inv_vocabulary[ix]))"
   ]
  },
  {
   "cell_type": "code",
   "execution_count": 56,
   "metadata": {
    "execution": {
     "iopub.execute_input": "2021-03-15T08:15:37.839587Z",
     "iopub.status.busy": "2021-03-15T08:15:37.839120Z",
     "iopub.status.idle": "2021-03-15T08:15:37.848117Z",
     "shell.execute_reply": "2021-03-15T08:15:37.847387Z",
     "shell.execute_reply.started": "2021-03-15T08:15:37.839543Z"
    }
   },
   "outputs": [
    {
     "data": {
      "text/plain": [
       "<tfp.distributions.Independent 'IndependentBernoulli' batch_shape=[20] event_shape=[56365] dtype=int32>"
      ]
     },
     "execution_count": 56,
     "metadata": {},
     "output_type": "execute_result"
    }
   ],
   "source": [
    "# Define a distribution for each class\n",
    "batch_of_bernoullis = tfd.Bernoulli(probs=theta)\n",
    "p_x_given_y = tfd.Independent(batch_of_bernoullis, reinterpreted_batch_ndims=1)\n",
    "p_x_given_y"
   ]
  },
  {
   "cell_type": "code",
   "execution_count": 57,
   "metadata": {
    "execution": {
     "iopub.execute_input": "2021-03-15T08:15:37.849599Z",
     "iopub.status.busy": "2021-03-15T08:15:37.849261Z",
     "iopub.status.idle": "2021-03-15T08:15:37.969169Z",
     "shell.execute_reply": "2021-03-15T08:15:37.968382Z",
     "shell.execute_reply.started": "2021-03-15T08:15:37.849567Z"
    }
   },
   "outputs": [
    {
     "data": {
      "text/plain": [
       "TensorShape([10, 20, 56365])"
      ]
     },
     "execution_count": 57,
     "metadata": {},
     "output_type": "execute_result"
    }
   ],
   "source": [
    "# Take a sample of words from each class\n",
    "\n",
    "n_samples = 10\n",
    "sample = p_x_given_y.sample(n_samples)\n",
    "sample.shape"
   ]
  },
  {
   "cell_type": "code",
   "execution_count": 58,
   "metadata": {
    "execution": {
     "iopub.execute_input": "2021-03-15T08:15:37.971213Z",
     "iopub.status.busy": "2021-03-15T08:15:37.970885Z",
     "iopub.status.idle": "2021-03-15T08:15:37.976411Z",
     "shell.execute_reply": "2021-03-15T08:15:37.975605Z",
     "shell.execute_reply.started": "2021-03-15T08:15:37.971185Z"
    }
   },
   "outputs": [
    {
     "data": {
      "text/plain": [
       "'soc.religion.christian'"
      ]
     },
     "execution_count": 58,
     "metadata": {},
     "output_type": "execute_result"
    }
   ],
   "source": [
    "# Choose a class\n",
    "\n",
    "chosen_class = 15\n",
    "newsgroups_data['target_names'][chosen_class]"
   ]
  },
  {
   "cell_type": "code",
   "execution_count": 59,
   "metadata": {
    "execution": {
     "iopub.execute_input": "2021-03-15T08:15:37.977936Z",
     "iopub.status.busy": "2021-03-15T08:15:37.977635Z",
     "iopub.status.idle": "2021-03-15T08:15:37.985195Z",
     "shell.execute_reply": "2021-03-15T08:15:37.984378Z",
     "shell.execute_reply.started": "2021-03-15T08:15:37.977909Z"
    }
   },
   "outputs": [
    {
     "data": {
      "text/plain": [
       "<tf.Tensor: shape=(10, 56365), dtype=int32, numpy=\n",
       "array([[0, 0, 0, ..., 0, 0, 0],\n",
       "       [0, 0, 0, ..., 0, 0, 0],\n",
       "       [0, 0, 0, ..., 0, 0, 0],\n",
       "       ...,\n",
       "       [0, 0, 0, ..., 0, 0, 0],\n",
       "       [0, 0, 0, ..., 0, 0, 0],\n",
       "       [0, 0, 0, ..., 0, 0, 0]], dtype=int32)>"
      ]
     },
     "execution_count": 59,
     "metadata": {},
     "output_type": "execute_result"
    }
   ],
   "source": [
    "# Indicators for words that appear in the sample\n",
    "\n",
    "class_sample = sample[:, chosen_class, :]\n",
    "class_sample"
   ]
  },
  {
   "cell_type": "code",
   "execution_count": 60,
   "metadata": {
    "execution": {
     "iopub.execute_input": "2021-03-15T08:15:37.987067Z",
     "iopub.status.busy": "2021-03-15T08:15:37.986830Z",
     "iopub.status.idle": "2021-03-15T08:15:38.048039Z",
     "shell.execute_reply": "2021-03-15T08:15:38.047247Z",
     "shell.execute_reply.started": "2021-03-15T08:15:37.987041Z"
    }
   },
   "outputs": [
    {
     "data": {
      "text/plain": [
       "array(['09', '19', '23', '28', '31', '34', '35', '41', '78228', 'acs',\n",
       "       'actually', 'advise', 'ages', 'also', 'andrew', 'anyone',\n",
       "       'anything', 'appease', 'apr', 'bathroom', 'bc', 'because',\n",
       "       'beggar', 'believe', 'better', 'bigelow', 'brains', 'chest',\n",
       "       'child', 'claim', 'cleaned', 'commented', 'concepts', 'country',\n",
       "       'day', 'daycare', 'death', 'decided', 'definition', 'detailed',\n",
       "       'difference', 'disciple', 'discuss', 'does', 'emotional',\n",
       "       'encourage', 'even', 'excellent', 'explain', 'faith', 'familiar',\n",
       "       'fellowship', 'forgiven', 'free', 'garnet', 'gentiles', 'go',\n",
       "       'god', 'good', 'growing', 'guess', 'hear', 'heard', 'here', 'him',\n",
       "       'hold', 'honoring', 'however', 'ignore', 'kind', 'knowing', 'last',\n",
       "       'lawrence', 'least', 'legal', 'less', 'life', 'minds', 'moment',\n",
       "       'monotheism', 'must', 'never', 'now', 'offers', 'original', 'our',\n",
       "       'over', 'pa', 'path', 'perception', 'person', 'personally', 'phil',\n",
       "       'political', 'predestination', 'previously', 'problem', 'problems',\n",
       "       'prove', 'punish', 'questionnaire', 'qui', 'quite', 'quote',\n",
       "       'quotes', 'reading', 'real', 'reasonable', 'requirement', 'result',\n",
       "       'reversed', 'say', 'second', 'sense', 'shaken', 'small', 'sons',\n",
       "       'souls', 'span', 'speaking', 'spiritually', 'ssd', 'statements',\n",
       "       'stem', 'still', 'study', 'take', 'talk', 'testament', 'than',\n",
       "       'their', 'them', 'then', 'theories', 'these', 'things', 'think',\n",
       "       'through', 'trying', 'two', 'uk', 'understand', 'us', 'uu4',\n",
       "       'verse', 'very', 'views', 'vituperousness', 'wasn', 'watt', 'way',\n",
       "       'well', 'whose', 'why', 'willing', 'wisdom', 'words', 'world'],\n",
       "      dtype='<U80')"
      ]
     },
     "execution_count": 60,
     "metadata": {},
     "output_type": "execute_result"
    }
   ],
   "source": [
    "# Perform inverse transform to test quality of fit\n",
    "\n",
    "count_vectorizer.inverse_transform(class_sample)[0]"
   ]
  },
  {
   "cell_type": "markdown",
   "metadata": {},
   "source": [
    "***\n",
    "<a id='sampling_and_log_probs'></a>\n",
    "## Sampling and log probs"
   ]
  },
  {
   "cell_type": "code",
   "execution_count": 82,
   "metadata": {
    "execution": {
     "iopub.execute_input": "2021-03-15T08:38:31.045639Z",
     "iopub.status.busy": "2021-03-15T08:38:31.045376Z",
     "iopub.status.idle": "2021-03-15T08:38:31.056791Z",
     "shell.execute_reply": "2021-03-15T08:38:31.056055Z",
     "shell.execute_reply.started": "2021-03-15T08:38:31.045611Z"
    }
   },
   "outputs": [
    {
     "data": {
      "text/plain": [
       "<tfp.distributions.MultivariateNormalDiag 'MultivariateNormalDiag' batch_shape=[3] event_shape=[2] dtype=float32>"
      ]
     },
     "execution_count": 82,
     "metadata": {},
     "output_type": "execute_result"
    }
   ],
   "source": [
    "# Make Multivariate Distribution\n",
    "\n",
    "normal_distributions = tfd.MultivariateNormalDiag(loc=[[0.5, 1], [0.1, 0], [0, 0.2]],\n",
    "                                 scale_diag=[[2, 3], [1, 3], [4, 4]])\n",
    "normal_distributions"
   ]
  },
  {
   "cell_type": "code",
   "execution_count": 83,
   "metadata": {
    "execution": {
     "iopub.execute_input": "2021-03-15T08:38:36.021584Z",
     "iopub.status.busy": "2021-03-15T08:38:36.021348Z",
     "iopub.status.idle": "2021-03-15T08:38:36.033032Z",
     "shell.execute_reply": "2021-03-15T08:38:36.032340Z",
     "shell.execute_reply.started": "2021-03-15T08:38:36.021559Z"
    }
   },
   "outputs": [
    {
     "data": {
      "text/plain": [
       "<tf.Tensor: shape=(5, 3, 2), dtype=float32, numpy=\n",
       "array([[[ 0.5091041 , -0.8445163 ],\n",
       "        [ 0.02850274, -3.0092049 ],\n",
       "        [-0.3974903 , -1.042958  ]],\n",
       "\n",
       "       [[ 0.6262561 ,  5.6087756 ],\n",
       "        [ 1.1215973 ,  1.2328973 ],\n",
       "        [-0.40560478,  3.1582508 ]],\n",
       "\n",
       "       [[-0.6722883 , -0.80218244],\n",
       "        [-1.9256128 ,  4.744498  ],\n",
       "        [-6.2904224 ,  6.541386  ]],\n",
       "\n",
       "       [[ 0.9676162 ,  1.5398908 ],\n",
       "        [ 0.71216375,  0.40687203],\n",
       "        [-4.891378  ,  5.1315327 ]],\n",
       "\n",
       "       [[ 5.7533975 , -2.2254767 ],\n",
       "        [-1.2845665 ,  3.3190064 ],\n",
       "        [ 0.9985346 , -4.582544  ]]], dtype=float32)>"
      ]
     },
     "execution_count": 83,
     "metadata": {},
     "output_type": "execute_result"
    }
   ],
   "source": [
    "# Sample\n",
    "normal_distributions.sample(5)\n",
    "# Samples X Batch X Events == 5 X (3) X 2"
   ]
  },
  {
   "cell_type": "code",
   "execution_count": 84,
   "metadata": {
    "execution": {
     "iopub.execute_input": "2021-03-15T08:42:26.026149Z",
     "iopub.status.busy": "2021-03-15T08:42:26.025763Z",
     "iopub.status.idle": "2021-03-15T08:42:26.037357Z",
     "shell.execute_reply": "2021-03-15T08:42:26.036596Z",
     "shell.execute_reply.started": "2021-03-15T08:42:26.026117Z"
    }
   },
   "outputs": [
    {
     "data": {
      "text/plain": [
       "<tfp.distributions.MultivariateNormalDiag 'MultivariateNormalDiag' batch_shape=[2, 2] event_shape=[3] dtype=float32>"
      ]
     },
     "execution_count": 84,
     "metadata": {},
     "output_type": "execute_result"
    }
   ],
   "source": [
    "# Multivariate Normal batched Distribution\n",
    "# We are broadcasting batch shapes of `loc` and `scal_diag` \n",
    "# against each other\n",
    "\n",
    "loc = [[[0.3, 1.5, 1.], [0.2, 0.4, 2.8]],\n",
    "        [[2., 2.3, 8], [1.4, 1, 1.3]]]\n",
    "scale_diag = [0.4, 1., 0.7]\n",
    "normal_distributions = tfd.MultivariateNormalDiag(loc=loc, scale_diag=scale_diag)\n",
    "normal_distributions"
   ]
  },
  {
   "cell_type": "code",
   "execution_count": 90,
   "metadata": {
    "execution": {
     "iopub.execute_input": "2021-03-15T08:45:34.886670Z",
     "iopub.status.busy": "2021-03-15T08:45:34.886367Z",
     "iopub.status.idle": "2021-03-15T08:45:34.902233Z",
     "shell.execute_reply": "2021-03-15T08:45:34.901120Z",
     "shell.execute_reply.started": "2021-03-15T08:45:34.886638Z"
    }
   },
   "outputs": [
    {
     "data": {
      "text/plain": [
       "(5, TensorShape([2, 2, 3]), TensorShape([3]), TensorShape([5, 2, 2, 3]))"
      ]
     },
     "execution_count": 90,
     "metadata": {},
     "output_type": "execute_result"
    }
   ],
   "source": [
    "s = normal_distributions.sample(5)\n",
    "\n",
    "5, normal_distributions.loc.shape, normal_distributions.event_shape, s.shape\n",
    "# Samples X Batch X Events == 5 X (3) X 2"
   ]
  },
  {
   "cell_type": "code",
   "execution_count": 92,
   "metadata": {
    "execution": {
     "iopub.execute_input": "2021-03-15T08:46:34.104400Z",
     "iopub.status.busy": "2021-03-15T08:46:34.104158Z",
     "iopub.status.idle": "2021-03-15T08:46:34.110495Z",
     "shell.execute_reply": "2021-03-15T08:46:34.109737Z",
     "shell.execute_reply.started": "2021-03-15T08:46:34.104375Z"
    }
   },
   "outputs": [
    {
     "data": {
      "text/plain": [
       "<tfp.distributions.Independent 'IndependentMultivariateNormalDiag' batch_shape=[2] event_shape=[2, 3] dtype=float32>"
      ]
     },
     "execution_count": 92,
     "metadata": {},
     "output_type": "execute_result"
    }
   ],
   "source": [
    "# Use independent to move part of the batch shape\n",
    "ind_normal_distribution = tfd.Independent(normal_distributions, reinterpreted_batch_ndims=1)\n",
    "ind_normal_distribution"
   ]
  },
  {
   "cell_type": "code",
   "execution_count": 96,
   "metadata": {
    "execution": {
     "iopub.execute_input": "2021-03-15T08:48:59.039936Z",
     "iopub.status.busy": "2021-03-15T08:48:59.039693Z",
     "iopub.status.idle": "2021-03-15T08:48:59.053866Z",
     "shell.execute_reply": "2021-03-15T08:48:59.053093Z",
     "shell.execute_reply.started": "2021-03-15T08:48:59.039911Z"
    }
   },
   "outputs": [
    {
     "data": {
      "text/plain": [
       "(5, TensorShape([2, 2, 3]), TensorShape([3]), TensorShape([5, 2, 2, 3]))"
      ]
     },
     "execution_count": 96,
     "metadata": {},
     "output_type": "execute_result"
    }
   ],
   "source": [
    "# Draw some samples\n",
    "i = ind_normal_distribution.sample(5)\n",
    "\n",
    "5, normal_distributions.loc.shape, normal_distributions.event_shape, i.shape\n",
    "# Samples X Batch X Events == 5 X (2 x 2) X 3\n"
   ]
  },
  {
   "cell_type": "code",
   "execution_count": 99,
   "metadata": {
    "execution": {
     "iopub.execute_input": "2021-03-15T08:57:25.198543Z",
     "iopub.status.busy": "2021-03-15T08:57:25.198301Z",
     "iopub.status.idle": "2021-03-15T08:57:25.216806Z",
     "shell.execute_reply": "2021-03-15T08:57:25.216129Z",
     "shell.execute_reply.started": "2021-03-15T08:57:25.198518Z"
    }
   },
   "outputs": [
    {
     "data": {
      "text/plain": [
       "<tf.Tensor: shape=(2,), dtype=float32, numpy=array([-13.950086, -68.69079 ], dtype=float32)>"
      ]
     },
     "execution_count": 99,
     "metadata": {},
     "output_type": "execute_result"
    }
   ],
   "source": [
    "# `[B, E]` shaped input\n",
    "inp = tf.random.uniform((2, 2, 3))\n",
    "ind_normal_distribution.log_prob(inp)\n"
   ]
  },
  {
   "cell_type": "code",
   "execution_count": 100,
   "metadata": {
    "execution": {
     "iopub.execute_input": "2021-03-15T08:57:29.499740Z",
     "iopub.status.busy": "2021-03-15T08:57:29.499495Z",
     "iopub.status.idle": "2021-03-15T08:57:29.517491Z",
     "shell.execute_reply": "2021-03-15T08:57:29.516848Z",
     "shell.execute_reply.started": "2021-03-15T08:57:29.499715Z"
    }
   },
   "outputs": [
    {
     "data": {
      "text/plain": [
       "<tf.Tensor: shape=(2,), dtype=float32, numpy=array([-11.7914095, -79.1826   ], dtype=float32)>"
      ]
     },
     "execution_count": 100,
     "metadata": {},
     "output_type": "execute_result"
    }
   ],
   "source": [
    "# `[E]` shaped input (broadcasting over batch size)\n",
    "\n",
    "inp = tf.random.uniform((2, 3))\n",
    "ind_normal_distribution.log_prob(inp)\n"
   ]
  },
  {
   "cell_type": "code",
   "execution_count": 101,
   "metadata": {
    "execution": {
     "iopub.execute_input": "2021-03-15T08:59:28.890097Z",
     "iopub.status.busy": "2021-03-15T08:59:28.889842Z",
     "iopub.status.idle": "2021-03-15T08:59:28.911238Z",
     "shell.execute_reply": "2021-03-15T08:59:28.910208Z",
     "shell.execute_reply.started": "2021-03-15T08:59:28.890070Z"
    }
   },
   "outputs": [
    {
     "data": {
      "text/plain": [
       "<tf.Tensor: shape=(9, 2), dtype=float32, numpy=\n",
       "array([[-11.406372, -75.58726 ],\n",
       "       [ -8.064721, -83.413994],\n",
       "       [-12.821418, -77.65944 ],\n",
       "       [-11.311207, -70.01783 ],\n",
       "       [ -9.488418, -68.55484 ],\n",
       "       [-11.219614, -74.679   ],\n",
       "       [-12.240426, -63.95919 ],\n",
       "       [-11.799001, -67.494774],\n",
       "       [ -8.375119, -71.195526]], dtype=float32)>"
      ]
     },
     "execution_count": 101,
     "metadata": {},
     "output_type": "execute_result"
    }
   ],
   "source": [
    "#`[S, B, E]` shaped input (broadcasting over samples)\n",
    "\n",
    "inp = tf.random.uniform((9, 2, 2, 3))\n",
    "ind_normal_distribution.log_prob(inp)"
   ]
  },
  {
   "cell_type": "code",
   "execution_count": 103,
   "metadata": {
    "execution": {
     "iopub.execute_input": "2021-03-15T09:00:44.325995Z",
     "iopub.status.busy": "2021-03-15T09:00:44.325745Z",
     "iopub.status.idle": "2021-03-15T09:00:44.347117Z",
     "shell.execute_reply": "2021-03-15T09:00:44.346410Z",
     "shell.execute_reply.started": "2021-03-15T09:00:44.325969Z"
    }
   },
   "outputs": [
    {
     "name": "stdout",
     "output_type": "stream",
     "text": [
      "WARNING: Nested component \"MultivariateNormalDiag_scale_matvec_linear_operator\" in composition \"MultivariateNormalDiag_chain_of_MultivariateNormalDiag_shift_of_MultivariateNormalDiag_scale_matvec_linear_operator\" operates on inputs with increased degrees of freedom. This may result in an incorrect log_det_jacobian.\n"
     ]
    },
    {
     "data": {
      "text/plain": [
       "<tf.Tensor: shape=(5, 2), dtype=float32, numpy=\n",
       "array([[ -9.5304365, -60.808144 ],\n",
       "       [-10.777533 , -74.77597  ],\n",
       "       [-12.63054  , -85.354744 ],\n",
       "       [-11.650404 , -82.67503  ],\n",
       "       [-10.774995 , -85.23078  ]], dtype=float32)>"
      ]
     },
     "execution_count": 103,
     "metadata": {},
     "output_type": "execute_result"
    }
   ],
   "source": [
    "# `[S, b, e]` shaped input, where [b, e] is broadcastable over [B, E]\n",
    "\n",
    "inp = tf.random.uniform((5, 1, 2, 1))\n",
    "ind_normal_distribution.log_prob(inp)"
   ]
  },
  {
   "cell_type": "markdown",
   "metadata": {},
   "source": [
    "#### Naive Bayes example\n",
    "\n",
    "Lets now use what we have learned and continue the Naive Bayes classifier we were building last tutorial."
   ]
  },
  {
   "cell_type": "code",
   "execution_count": 104,
   "metadata": {
    "execution": {
     "iopub.execute_input": "2021-03-15T09:01:21.963415Z",
     "iopub.status.busy": "2021-03-15T09:01:21.963174Z",
     "iopub.status.idle": "2021-03-15T09:01:21.967771Z",
     "shell.execute_reply": "2021-03-15T09:01:21.966804Z",
     "shell.execute_reply.started": "2021-03-15T09:01:21.963389Z"
    }
   },
   "outputs": [],
   "source": [
    "from sklearn.datasets import fetch_20newsgroups\n",
    "from sklearn.feature_extraction.text import CountVectorizer\n",
    "from sklearn.naive_bayes import BernoulliNB\n",
    "from sklearn.metrics import f1_score"
   ]
  },
  {
   "cell_type": "code",
   "execution_count": 105,
   "metadata": {
    "execution": {
     "iopub.execute_input": "2021-03-15T09:01:22.643762Z",
     "iopub.status.busy": "2021-03-15T09:01:22.643525Z",
     "iopub.status.idle": "2021-03-15T09:01:22.650346Z",
     "shell.execute_reply": "2021-03-15T09:01:22.649341Z",
     "shell.execute_reply.started": "2021-03-15T09:01:22.643737Z"
    }
   },
   "outputs": [],
   "source": [
    "# Making a function get_data which:\n",
    "#   1) Fetches the 20 newsgroup dataset\n",
    "#   2) Performs a word count on the articles and binarizes the result\n",
    "#   3) Returns the data as a numpy matrix with the labels\n",
    "\n",
    "def get_data(categories):\n",
    "    \n",
    "    newsgroups_train_data = fetch_20newsgroups(data_home='20_Newsgroup_Data/',\n",
    "                                               subset='train', categories=categories)\n",
    "    newsgroups_test_data = fetch_20newsgroups(data_home='20_Newsgroup_Data/',\n",
    "                                              subset='test', categories=categories)\n",
    "\n",
    "    n_documents = len(newsgroups_train_data['data'])\n",
    "    count_vectorizer = CountVectorizer(input='content', binary=True,max_df=0.25, min_df=1.01/n_documents)\n",
    "    \n",
    "    train_binary_bag_of_words = count_vectorizer.fit_transform(newsgroups_train_data['data'])\n",
    "    test_binary_bag_of_words = count_vectorizer.transform(newsgroups_test_data['data']) \n",
    "\n",
    "    return (train_binary_bag_of_words.todense(), newsgroups_train_data['target']),  (test_binary_bag_of_words.todense(), newsgroups_test_data['target'])"
   ]
  },
  {
   "cell_type": "code",
   "execution_count": 106,
   "metadata": {
    "execution": {
     "iopub.execute_input": "2021-03-15T09:01:41.000692Z",
     "iopub.status.busy": "2021-03-15T09:01:41.000436Z",
     "iopub.status.idle": "2021-03-15T09:01:41.006246Z",
     "shell.execute_reply": "2021-03-15T09:01:41.005497Z",
     "shell.execute_reply.started": "2021-03-15T09:01:41.000665Z"
    }
   },
   "outputs": [],
   "source": [
    "# Defining a function to conduct Laplace smoothing. This adds a base level of probability for a given feature\n",
    "# to occur in every class.\n",
    "\n",
    "def laplace_smoothing(labels, binary_data, n_classes):\n",
    "    # Compute the parameter estimates (adjusted fraction of documents in class that contain word)\n",
    "    n_words = binary_data.shape[1]\n",
    "    alpha = 1 # parameters for Laplace smoothing\n",
    "    theta = np.zeros([n_classes, n_words]) # stores parameter values - prob. word given class\n",
    "    for c_k in range(n_classes): # 0, 1, ..., 19\n",
    "        class_mask = (labels == c_k)\n",
    "        N = class_mask.sum() # number of articles in class\n",
    "        theta[c_k, :] = (binary_data[class_mask, :].sum(axis=0) + alpha)/(N + alpha*2)\n",
    "\n",
    "    return theta"
   ]
  },
  {
   "cell_type": "code",
   "execution_count": 107,
   "metadata": {
    "execution": {
     "iopub.execute_input": "2021-03-15T09:02:13.966853Z",
     "iopub.status.busy": "2021-03-15T09:02:13.966591Z",
     "iopub.status.idle": "2021-03-15T09:02:16.022393Z",
     "shell.execute_reply": "2021-03-15T09:02:16.021741Z",
     "shell.execute_reply.started": "2021-03-15T09:02:13.966825Z"
    }
   },
   "outputs": [],
   "source": [
    "# Getting a subset of the 20 newsgroup dataset\n",
    "\n",
    "categories = ['alt.atheism', 'talk.religion.misc', 'comp.graphics', 'sci.space']\n",
    "\n",
    "(train_data, train_labels), (test_data, test_labels) = get_data(categories=categories)\n",
    "smoothed_counts = laplace_smoothing(labels=train_labels, binary_data=train_data, n_classes=len(categories))"
   ]
  },
  {
   "cell_type": "markdown",
   "metadata": {},
   "source": [
    "To now make our NB classifier we need to build three functions:\n",
    "* Compute the class priors\n",
    "* Build our class conditional distributions\n",
    "* Put it all together and classify our data"
   ]
  },
  {
   "cell_type": "code",
   "execution_count": 108,
   "metadata": {
    "execution": {
     "iopub.execute_input": "2021-03-15T09:02:19.432079Z",
     "iopub.status.busy": "2021-03-15T09:02:19.431764Z",
     "iopub.status.idle": "2021-03-15T09:02:19.438182Z",
     "shell.execute_reply": "2021-03-15T09:02:19.437349Z",
     "shell.execute_reply.started": "2021-03-15T09:02:19.432038Z"
    }
   },
   "outputs": [],
   "source": [
    "# Function which computes the prior probability of every class based on frequency of occurence in \n",
    "# the dataset\n",
    "\n",
    "def class_priors(n_classes, labels):\n",
    "    counts = np.zeros(n_classes)\n",
    "    for c_k in range(n_classes):\n",
    "        counts[c_k] = np.sum(np.where(labels==c_k, 1, 0))\n",
    "    priors = counts / np.sum(counts)\n",
    "    print('The class priors are {}'.format(priors))\n",
    "    return priors"
   ]
  },
  {
   "cell_type": "code",
   "execution_count": 113,
   "metadata": {
    "execution": {
     "iopub.execute_input": "2021-03-15T09:13:49.135322Z",
     "iopub.status.busy": "2021-03-15T09:13:49.135079Z",
     "iopub.status.idle": "2021-03-15T09:13:49.142474Z",
     "shell.execute_reply": "2021-03-15T09:13:49.141644Z",
     "shell.execute_reply.started": "2021-03-15T09:13:49.135296Z"
    }
   },
   "outputs": [
    {
     "name": "stdout",
     "output_type": "stream",
     "text": [
      "The class priors are [0.2359882  0.28711898 0.29154376 0.18534907]\n"
     ]
    },
    {
     "data": {
      "text/plain": [
       "(4, array([1, 3, 2, ..., 1, 0, 1]), 1.0)"
      ]
     },
     "execution_count": 113,
     "metadata": {},
     "output_type": "execute_result"
    }
   ],
   "source": [
    "# Run the function \n",
    "priors = class_priors(n_classes=len(categories), labels=train_labels)\n",
    "len(categories), train_labels, sum(priors)"
   ]
  },
  {
   "cell_type": "code",
   "execution_count": 114,
   "metadata": {
    "execution": {
     "iopub.execute_input": "2021-03-15T10:38:15.483199Z",
     "iopub.status.busy": "2021-03-15T10:38:15.482903Z",
     "iopub.status.idle": "2021-03-15T10:38:15.499610Z",
     "shell.execute_reply": "2021-03-15T10:38:15.498983Z",
     "shell.execute_reply.started": "2021-03-15T10:38:15.483148Z"
    }
   },
   "outputs": [
    {
     "data": {
      "text/plain": [
       "<tfp.distributions.Independent 'IndependentBernoulli' batch_shape=[4] event_shape=[17495] dtype=int32>"
      ]
     },
     "execution_count": 114,
     "metadata": {},
     "output_type": "execute_result"
    }
   ],
   "source": [
    "# Now we will do a function that given the feature occurence counts returns a Bernoulli distribution of \n",
    "# batch_shape=number of classes and event_shape=number of features.\n",
    "\n",
    "def make_distribution(probs):\n",
    "    batch_of_bernoullis = tfd.Bernoulli(probs=probs)\n",
    "    dist = tfd.Independent(batch_of_bernoullis, reinterpreted_batch_ndims=1)\n",
    "    \n",
    "    return dist\n",
    "\n",
    "tf_dist = make_distribution(smoothed_counts)\n",
    "tf_dist\n",
    "    "
   ]
  },
  {
   "cell_type": "code",
   "execution_count": 115,
   "metadata": {
    "execution": {
     "iopub.execute_input": "2021-03-15T10:47:39.598662Z",
     "iopub.status.busy": "2021-03-15T10:47:39.598423Z",
     "iopub.status.idle": "2021-03-15T10:47:39.603884Z",
     "shell.execute_reply": "2021-03-15T10:47:39.603074Z",
     "shell.execute_reply.started": "2021-03-15T10:47:39.598636Z"
    }
   },
   "outputs": [],
   "source": [
    "# The final function predict_sample which given the distribution, a test sample, and the class priors:\n",
    "#   1) Computes the class conditional probabilities given the sample\n",
    "#   2) Forms the joint likelihood\n",
    "#   3) Normalises the joint likelihood and returns the log prob\n",
    "\n",
    "def predict_sample(dist, sample, priors):\n",
    "    cond_probs = dist.log_prob(sample)\n",
    "    joint_liklihood = tf.add(np.log(priors), cond_probs)\n",
    "    norm_factor = tf.math.reduce_logsumexp(joint_liklihood, axis=-1, keepdims=True)\n",
    "    log_prob = joint_liklihood - norm_factor\n",
    "    \n",
    "    return log_prob\n"
   ]
  },
  {
   "cell_type": "markdown",
   "metadata": {},
   "source": [
    "#### Computing log_probs"
   ]
  },
  {
   "cell_type": "code",
   "execution_count": 116,
   "metadata": {
    "execution": {
     "iopub.execute_input": "2021-03-15T10:48:15.490296Z",
     "iopub.status.busy": "2021-03-15T10:48:15.490045Z",
     "iopub.status.idle": "2021-03-15T10:48:15.511242Z",
     "shell.execute_reply": "2021-03-15T10:48:15.510431Z",
     "shell.execute_reply.started": "2021-03-15T10:48:15.490269Z"
    }
   },
   "outputs": [
    {
     "data": {
      "text/plain": [
       "<tf.Tensor: shape=(5, 3), dtype=float32, numpy=\n",
       "array([[-3.4181342, -6.9686737, -3.3052905],\n",
       "       [-3.142929 , -2.8681712, -3.426938 ],\n",
       "       [-4.4825935, -5.1351314, -3.2884164],\n",
       "       [-3.8031492, -3.6734028, -5.262859 ],\n",
       "       [-2.6013045, -2.5789928, -3.5409558]], dtype=float32)>"
      ]
     },
     "execution_count": 116,
     "metadata": {},
     "output_type": "execute_result"
    }
   ],
   "source": [
    "# Predicting one example from our test data\n",
    "\n",
    "log_Rpobs = predict_sample(tf_dist, test_data[0], priors)\n",
    "log_probs"
   ]
  },
  {
   "cell_type": "code",
   "execution_count": 117,
   "metadata": {
    "execution": {
     "iopub.execute_input": "2021-03-15T10:48:19.079944Z",
     "iopub.status.busy": "2021-03-15T10:48:19.079722Z",
     "iopub.status.idle": "2021-03-15T10:48:20.867637Z",
     "shell.execute_reply": "2021-03-15T10:48:20.866905Z",
     "shell.execute_reply.started": "2021-03-15T10:48:19.079921Z"
    }
   },
   "outputs": [
    {
     "name": "stdout",
     "output_type": "stream",
     "text": [
      "f1  0.7848499112849504\n"
     ]
    }
   ],
   "source": [
    "# Loop over our test data and classify.\n",
    "\n",
    "probabilities = []\n",
    "for sample, label in zip(test_data, test_labels):\n",
    "    probabilities.append(tf.exp(predict_sample(tf_dist, sample, priors)))\n",
    "\n",
    "probabilities = np.asarray(probabilities)\n",
    "predicted_classes = np.argmax(probabilities, axis =-1)\n",
    "print('f1 ', f1_score(test_labels, predicted_classes, average='macro'))"
   ]
  },
  {
   "cell_type": "code",
   "execution_count": 118,
   "metadata": {
    "execution": {
     "iopub.execute_input": "2021-03-15T10:48:51.807096Z",
     "iopub.status.busy": "2021-03-15T10:48:51.806845Z",
     "iopub.status.idle": "2021-03-15T10:48:54.522520Z",
     "shell.execute_reply": "2021-03-15T10:48:54.521677Z",
     "shell.execute_reply.started": "2021-03-15T10:48:51.807070Z"
    }
   },
   "outputs": [
    {
     "name": "stdout",
     "output_type": "stream",
     "text": [
      "f1 from sklean  0.7848499112849504\n"
     ]
    }
   ],
   "source": [
    "# Make a Bernoulli Naive Bayes classifier using sklearn with the same level of alpha smoothing. \n",
    "\n",
    "clf = BernoulliNB(alpha=1)\n",
    "clf.fit(train_data, train_labels)\n",
    "pred = clf.predict(test_data)\n",
    "print('f1 from sklean ', f1_score(test_labels, pred, average='macro'))"
   ]
  },
  {
   "cell_type": "markdown",
   "metadata": {},
   "source": [
    "***\n",
    "<a id='trainable_distributions'></a>\n",
    "## Trainable Distributions"
   ]
  },
  {
   "cell_type": "code",
   "execution_count": null,
   "metadata": {
    "execution": {
     "iopub.status.busy": "2021-03-15T08:16:20.975991Z",
     "iopub.status.idle": "2021-03-15T08:16:20.976546Z"
    }
   },
   "outputs": [],
   "source": [
    "from sklearn.datasets import fetch_20newsgroups\n",
    "from sklearn.feature_extraction.text import CountVectorizer\n",
    "from sklearn.naive_bayes import BernoulliNB\n",
    "from sklearn.metrics import f1_score"
   ]
  },
  {
   "cell_type": "code",
   "execution_count": null,
   "metadata": {
    "execution": {
     "iopub.status.busy": "2021-03-15T08:16:20.977945Z",
     "iopub.status.idle": "2021-03-15T08:16:20.978435Z"
    }
   },
   "outputs": [],
   "source": [
    "# Define an exponential distribution\n",
    "\n"
   ]
  },
  {
   "cell_type": "code",
   "execution_count": null,
   "metadata": {
    "execution": {
     "iopub.status.busy": "2021-03-15T08:16:20.979614Z",
     "iopub.status.idle": "2021-03-15T08:16:20.980073Z"
    }
   },
   "outputs": [],
   "source": [
    "# Plot\n",
    "\n",
    "plt.hist(exponential.sample(5000), bins=100, density=True)\n",
    "plt.show()"
   ]
  },
  {
   "cell_type": "code",
   "execution_count": null,
   "metadata": {
    "execution": {
     "iopub.status.busy": "2021-03-15T08:16:20.981246Z",
     "iopub.status.idle": "2021-03-15T08:16:20.981670Z"
    }
   },
   "outputs": [],
   "source": [
    "# Define an exponential distribution with a trainable rate parameter\n",
    "\n"
   ]
  },
  {
   "cell_type": "code",
   "execution_count": null,
   "metadata": {
    "execution": {
     "iopub.status.busy": "2021-03-15T08:16:20.982929Z",
     "iopub.status.idle": "2021-03-15T08:16:20.983245Z"
    }
   },
   "outputs": [],
   "source": [
    "# Define the negative log likelihood\n",
    "\n"
   ]
  },
  {
   "cell_type": "code",
   "execution_count": null,
   "metadata": {
    "execution": {
     "iopub.status.busy": "2021-03-15T08:16:20.984539Z",
     "iopub.status.idle": "2021-03-15T08:16:20.984859Z"
    }
   },
   "outputs": [],
   "source": [
    "# Define a function to compute the loss and gradients\n",
    "\n"
   ]
  },
  {
   "cell_type": "code",
   "execution_count": null,
   "metadata": {
    "execution": {
     "iopub.status.busy": "2021-03-15T08:16:20.985942Z",
     "iopub.status.idle": "2021-03-15T08:16:20.986420Z"
    }
   },
   "outputs": [],
   "source": [
    "# Optimize\n",
    "\n",
    "def exponential_dist_optimisation(data, distribution):\n",
    "\n",
    "    # Keep results for plotting\n",
    "    train_loss_results = []\n",
    "    train_rate_results = []\n",
    "    \n",
    "    optimizer = tf.keras.optimizers.SGD(learning_rate=0.05)\n",
    "\n",
    "    num_steps = 10\n",
    "\n",
    "    for i in range(num_steps):\n",
    "        \n",
    "        print(\"Step {:03d}: Loss: {:.3f}: Rate: {:.3f}\".format())\n",
    "        \n",
    "    return train_loss_results, train_rate_results"
   ]
  },
  {
   "cell_type": "code",
   "execution_count": null,
   "metadata": {
    "execution": {
     "iopub.status.busy": "2021-03-15T08:16:20.987614Z",
     "iopub.status.idle": "2021-03-15T08:16:20.987986Z"
    }
   },
   "outputs": [],
   "source": [
    "# Get some data and train\n",
    "\n"
   ]
  },
  {
   "cell_type": "code",
   "execution_count": null,
   "metadata": {
    "execution": {
     "iopub.status.busy": "2021-03-15T08:16:20.989209Z",
     "iopub.status.idle": "2021-03-15T08:16:20.990062Z"
    }
   },
   "outputs": [],
   "source": [
    "# Predicted value for the rate parameter\n",
    "\n",
    "pred_value = exp_train.rate.numpy()\n",
    "exact_value = exponential.rate.numpy()\n",
    "\n",
    "print(\"Exact rate: \", exact_value)\n",
    "print(\"Pred rate:  \", pred_value)"
   ]
  },
  {
   "cell_type": "code",
   "execution_count": null,
   "metadata": {
    "execution": {
     "iopub.status.busy": "2021-03-15T08:16:20.991380Z",
     "iopub.status.idle": "2021-03-15T08:16:20.991701Z"
    }
   },
   "outputs": [],
   "source": [
    "# Plot to see the convergence of the estimated and true parameters\n",
    "\n",
    "tensor_exact_value = tf.constant(exact_value, shape=[len(train_rate_results)])\n",
    "\n",
    "fig, axes = plt.subplots(2, sharex=True, figsize=(12, 8))\n",
    "fig.suptitle('Convergence')\n",
    "\n",
    "axes[0].set_ylabel(\"Loss\", fontsize=14)\n",
    "axes[0].plot(train_loss_results)\n",
    "\n",
    "axes[1].set_ylabel(\"Rate\", fontsize=14)\n",
    "axes[1].set_xlabel(\"Epoch\", fontsize=14)\n",
    "axes[1].plot(train_rate_results, label='trainable rate variable')\n",
    "axes[1].plot(tensor_exact_value, label='exact rate')\n",
    "axes[1].legend()\n",
    "plt.show()"
   ]
  },
  {
   "cell_type": "code",
   "execution_count": null,
   "metadata": {
    "execution": {
     "iopub.status.busy": "2021-03-15T08:16:20.993002Z",
     "iopub.status.idle": "2021-03-15T08:16:20.993345Z"
    }
   },
   "outputs": [],
   "source": [
    "# Making a function get_data which:\n",
    "#   1) Fetches the 20 newsgroup dataset\n",
    "#   2) Performs a word count on the articles and binarizes the result\n",
    "#   3) Returns the data as a numpy matrix with the labels\n",
    "\n",
    "def get_data(categories):\n",
    "\n",
    "    newsgroups_train_data = fetch_20newsgroups(data_home='20_Newsgroup_Data/',\n",
    "                                               subset='train', categories=categories)\n",
    "    newsgroups_test_data = fetch_20newsgroups(data_home='20_Newsgroup_Data/',\n",
    "                                              subset='test', categories=categories)\n",
    "\n",
    "    n_documents = len(newsgroups_train_data['data'])\n",
    "    count_vectorizer = CountVectorizer(input='content', binary=True,max_df=0.25, min_df=1.01/n_documents) \n",
    "    train_binary_bag_of_words = count_vectorizer.fit_transform(newsgroups_train_data['data']) \n",
    "    test_binary_bag_of_words = count_vectorizer.transform(newsgroups_test_data['data']) \n",
    "\n",
    "    return (train_binary_bag_of_words.todense(), newsgroups_train_data['target']),  (test_binary_bag_of_words.todense(), newsgroups_test_data['target'])\n"
   ]
  },
  {
   "cell_type": "code",
   "execution_count": null,
   "metadata": {
    "execution": {
     "iopub.status.busy": "2021-03-15T08:16:20.994387Z",
     "iopub.status.idle": "2021-03-15T08:16:20.994868Z"
    }
   },
   "outputs": [],
   "source": [
    "# Defining a function to conduct laplace smoothing. This adds a base level of probability for a given feature\n",
    "# to occur in every class.\n",
    "\n",
    "def laplace_smoothing(labels, binary_data, n_classes):\n",
    "    # Compute the parameter estimates (adjusted fraction of documents in class that contain word)\n",
    "    n_words = binary_data.shape[1]\n",
    "    alpha = 1 # parameters for Laplace smoothing\n",
    "    theta = np.zeros([n_classes, n_words]) # stores parameter values - prob. word given class\n",
    "    for c_k in range(n_classes): # 0, 1, ..., 19\n",
    "        class_mask = (labels == c_k)\n",
    "        N = class_mask.sum() # number of articles in class\n",
    "        theta[c_k, :] = (binary_data[class_mask, :].sum(axis=0) + alpha)/(N + alpha*2)\n",
    "\n",
    "    return theta"
   ]
  },
  {
   "cell_type": "code",
   "execution_count": null,
   "metadata": {
    "execution": {
     "iopub.status.busy": "2021-03-15T08:16:20.995920Z",
     "iopub.status.idle": "2021-03-15T08:16:20.996516Z"
    }
   },
   "outputs": [],
   "source": [
    "# Now we will do a function that given the feature occurence counts returns a Bernoulli distribution of \n",
    "# batch_shape=number of classes and event_shape=number of features.\n",
    "\n",
    "def make_distributions(probs):\n",
    "    batch_of_bernoullis = tfd.Bernoulli(probs=probs) # shape (n_classes, n_words)\n",
    "    dist = tfd.Independent(batch_of_bernoullis, reinterpreted_batch_ndims=1)\n",
    "    return dist"
   ]
  },
  {
   "cell_type": "code",
   "execution_count": null,
   "metadata": {
    "execution": {
     "iopub.status.busy": "2021-03-15T08:16:20.997850Z",
     "iopub.status.idle": "2021-03-15T08:16:20.998172Z"
    }
   },
   "outputs": [],
   "source": [
    "# Function which computes the prior probability of every class based on frequency of occurence in \n",
    "# the dataset\n",
    "\n",
    "def class_priors(n_classes, labels):\n",
    "    counts = np.zeros(n_classes)\n",
    "    for c_k in range(n_classes):\n",
    "        counts[c_k] = np.sum(np.where(labels==c_k, 1, 0))\n",
    "    priors = counts / np.sum(counts)\n",
    "    print('The class priors are {}'.format(priors))\n",
    "    return priors"
   ]
  },
  {
   "cell_type": "code",
   "execution_count": null,
   "metadata": {
    "execution": {
     "iopub.status.busy": "2021-03-15T08:16:20.999302Z",
     "iopub.status.idle": "2021-03-15T08:16:20.999678Z"
    }
   },
   "outputs": [],
   "source": [
    "# The final function predict_sample which given the distribution, a test sample, and the class priors:\n",
    "#   1) Computes the class conditional probabilities given the sample\n",
    "#   2) Forms the joint likelihood\n",
    "#   3) Normalises the joint likelihood and returns the log prob\n",
    "\n",
    "def predict_sample(dist, sample, priors):\n",
    "    cond_probs = dist.log_prob(sample)\n",
    "    joint_likelihood = tf.add(np.log(priors), cond_probs)\n",
    "    norm_factor = tf.math.reduce_logsumexp(joint_likelihood, axis=-1, keepdims=True)\n",
    "    log_prob = joint_likelihood - norm_factor\n",
    "\n",
    "    return log_prob"
   ]
  },
  {
   "cell_type": "code",
   "execution_count": null,
   "metadata": {
    "execution": {
     "iopub.status.busy": "2021-03-15T08:16:21.000954Z",
     "iopub.status.idle": "2021-03-15T08:16:21.001465Z"
    }
   },
   "outputs": [],
   "source": [
    "# Now we learn the distribution using gradient tape\n",
    "\n",
    "def make_distribution_withGT(data, labels, nb_classes):\n",
    "\n",
    "    class_data = []\n",
    "    train_vars = []\n",
    "    distributions = []\n",
    "    for c in range(nb_classes):\n",
    "        train_vars.append(tf.Variable(initial_value=np.random.uniform(low=0.01, high =0.1, size=data.shape[-1])))\n",
    "        distributions.append(tfd.Bernoulli(probs=train_vars[c]))\n",
    "        class_mask = (labels == c)\n",
    "        class_data.append(data[class_mask, :])\n",
    "\n",
    "    for c_num in range(0,nb_classes):\n",
    "        optimizer = tf.keras.optimizers.Adam()\n",
    "        print('\\n%-------------------%')\n",
    "        print('Class ', c_num)\n",
    "        print('%-------------------%')\n",
    "\n",
    "        for i in range(0,100):\n",
    "            \n",
    "\n",
    "    dist = tfd.Bernoulli(probs=train_vars)\n",
    "    dist = tfd.Independent(dist,reinterpreted_batch_ndims=1)\n",
    "\n",
    "    print(dist)\n",
    "\n",
    "    return dist\n"
   ]
  },
  {
   "cell_type": "code",
   "execution_count": null,
   "metadata": {
    "execution": {
     "iopub.status.busy": "2021-03-15T08:16:21.002827Z",
     "iopub.status.idle": "2021-03-15T08:16:21.003148Z"
    }
   },
   "outputs": [],
   "source": [
    "# Make the same Naive Bayes classifier we did last tutorial\n",
    "\n",
    "categories = ['alt.atheism', 'talk.religion.misc', 'comp.graphics', 'sci.space']\n",
    "\n",
    "(train_data, train_labels), (test_data, test_labels) = get_data(categories)\n",
    "\n",
    "smoothed_counts = laplace_smoothing(labels=train_labels, binary_data=train_data, n_classes=len(categories))\n",
    "\n",
    "priors = class_priors(n_classes=len(categories), labels=train_labels)\n",
    "tf_dist = make_distributions(smoothed_counts)"
   ]
  },
  {
   "cell_type": "code",
   "execution_count": null,
   "metadata": {
    "execution": {
     "iopub.status.busy": "2021-03-15T08:16:21.004438Z",
     "iopub.status.idle": "2021-03-15T08:16:21.005272Z"
    }
   },
   "outputs": [],
   "source": [
    "# Now train the distributions with gradient tape\n",
    "\n",
    "GT_dist = make_distribution_withGT(data=train_data, labels=train_labels, nb_classes=4)"
   ]
  },
  {
   "cell_type": "code",
   "execution_count": null,
   "metadata": {
    "execution": {
     "iopub.status.busy": "2021-03-15T08:16:21.007069Z",
     "iopub.status.idle": "2021-03-15T08:16:21.007728Z"
    }
   },
   "outputs": [],
   "source": [
    "# Compare the two results\n",
    "\n",
    "for dist in [GT_dist,tf_dist]:\n",
    "    probabilities = []\n",
    "    for sample, label in zip(test_data, test_labels):\n",
    "        probabilities.append(predict_sample(dist, sample, priors))\n",
    "\n",
    "    probabilities = np.asarray(probabilities)\n",
    "    predicted_classes = np.argmax(probabilities, axis =-1)\n",
    "    print('f1 ', f1_score(test_labels, predicted_classes, average='macro'))"
   ]
  }
 ],
 "metadata": {
  "kernelspec": {
   "display_name": "Python 3",
   "language": "python",
   "name": "python3"
  },
  "language_info": {
   "codemirror_mode": {
    "name": "ipython",
    "version": 3
   },
   "file_extension": ".py",
   "mimetype": "text/x-python",
   "name": "python",
   "nbconvert_exporter": "python",
   "pygments_lexer": "ipython3",
   "version": "3.8.3"
  }
 },
 "nbformat": 4,
 "nbformat_minor": 4
}
