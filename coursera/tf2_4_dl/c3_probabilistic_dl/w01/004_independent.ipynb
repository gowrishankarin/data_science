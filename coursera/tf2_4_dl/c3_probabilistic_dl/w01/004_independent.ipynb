{
 "cells": [
  {
   "cell_type": "markdown",
   "metadata": {
    "execution": {
     "iopub.execute_input": "2021-01-15T10:22:42.450712Z",
     "iopub.status.busy": "2021-01-15T10:22:42.450461Z",
     "iopub.status.idle": "2021-01-15T10:22:42.453994Z",
     "shell.execute_reply": "2021-01-15T10:22:42.453176Z",
     "shell.execute_reply.started": "2021-01-15T10:22:42.450685Z"
    }
   },
   "source": [
    "# Independent Distribution"
   ]
  },
  {
   "cell_type": "code",
   "execution_count": 1,
   "metadata": {
    "execution": {
     "iopub.execute_input": "2021-01-15T10:37:36.240266Z",
     "iopub.status.busy": "2021-01-15T10:37:36.239961Z",
     "iopub.status.idle": "2021-01-15T10:37:39.468928Z",
     "shell.execute_reply": "2021-01-15T10:37:39.468080Z",
     "shell.execute_reply.started": "2021-01-15T10:37:36.240227Z"
    }
   },
   "outputs": [
    {
     "name": "stdout",
     "output_type": "stream",
     "text": [
      "TF version: 2.4.0\n",
      "TFP version: 0.12.1\n"
     ]
    }
   ],
   "source": [
    "import tensorflow as tf\n",
    "import tensorflow_probability as tfp\n",
    "tfd = tfp.distributions\n",
    "\n",
    "print(\"TF version:\", tf.__version__)\n",
    "print(\"TFP version:\", tfp.__version__)"
   ]
  },
  {
   "cell_type": "code",
   "execution_count": 2,
   "metadata": {
    "execution": {
     "iopub.execute_input": "2021-01-15T10:37:39.470909Z",
     "iopub.status.busy": "2021-01-15T10:37:39.470584Z",
     "iopub.status.idle": "2021-01-15T10:37:39.676347Z",
     "shell.execute_reply": "2021-01-15T10:37:39.675641Z",
     "shell.execute_reply.started": "2021-01-15T10:37:39.470861Z"
    }
   },
   "outputs": [],
   "source": [
    "import matplotlib.pyplot as plt\n",
    "import numpy as np\n",
    "tf.random.set_seed(123)"
   ]
  },
  {
   "cell_type": "code",
   "execution_count": 3,
   "metadata": {
    "execution": {
     "iopub.execute_input": "2021-01-15T10:37:39.679124Z",
     "iopub.status.busy": "2021-01-15T10:37:39.678792Z",
     "iopub.status.idle": "2021-01-15T10:37:39.697756Z",
     "shell.execute_reply": "2021-01-15T10:37:39.696654Z",
     "shell.execute_reply.started": "2021-01-15T10:37:39.679088Z"
    }
   },
   "outputs": [
    {
     "data": {
      "text/plain": [
       "<tf.Tensor: shape=(2,), dtype=float32, numpy=array([-13.862944, -13.862944], dtype=float32)>"
      ]
     },
     "execution_count": 3,
     "metadata": {},
     "output_type": "execute_result"
    }
   ],
   "source": [
    "import numpy as np\n",
    "tfd = tfp.distributions\t\n",
    "probs = 0.5 * tf.ones((2, 4, 5))\n",
    "dist = tfd.Independent(tfd.Bernoulli(probs=probs))\n",
    "dist.log_prob(np.zeros((4, 5)))"
   ]
  },
  {
   "cell_type": "code",
   "execution_count": 4,
   "metadata": {
    "execution": {
     "iopub.execute_input": "2021-01-15T10:37:39.700503Z",
     "iopub.status.busy": "2021-01-15T10:37:39.700021Z",
     "iopub.status.idle": "2021-01-15T10:37:39.709500Z",
     "shell.execute_reply": "2021-01-15T10:37:39.708189Z",
     "shell.execute_reply.started": "2021-01-15T10:37:39.700450Z"
    }
   },
   "outputs": [],
   "source": [
    "# Start by defining a batch of two univariate Gaussians, then\n",
    "# Combine them into a bivariate Gaussian with independent components\n",
    "\n",
    "locs = [-1, 1]\n",
    "scales = [0.5, 1.]\n",
    "batch_of_normals = tfd.Normal(loc=locs, scale=scales)"
   ]
  },
  {
   "cell_type": "code",
   "execution_count": 5,
   "metadata": {
    "execution": {
     "iopub.execute_input": "2021-01-15T10:37:39.712112Z",
     "iopub.status.busy": "2021-01-15T10:37:39.711667Z",
     "iopub.status.idle": "2021-01-15T10:37:42.115932Z",
     "shell.execute_reply": "2021-01-15T10:37:42.115125Z",
     "shell.execute_reply.started": "2021-01-15T10:37:39.712070Z"
    }
   },
   "outputs": [
    {
     "name": "stderr",
     "output_type": "stream",
     "text": [
      "/Users/shankar/dev/tools/anaconda3/envs/od/lib/python3.8/site-packages/seaborn/_decorators.py:36: FutureWarning: Pass the following variables as keyword args: x, y. From version 0.12, the only valid positional argument will be `data`, and passing other arguments without an explicit keyword will result in an error or misinterpretation.\n",
      "  warnings.warn(\n",
      "/Users/shankar/dev/tools/anaconda3/envs/od/lib/python3.8/site-packages/seaborn/_decorators.py:36: FutureWarning: Pass the following variables as keyword args: x, y. From version 0.12, the only valid positional argument will be `data`, and passing other arguments without an explicit keyword will result in an error or misinterpretation.\n",
      "  warnings.warn(\n"
     ]
    },
    {
     "data": {
      "image/png": "[encoded data removed]",
      "text/plain": [
       "<Figure size 432x288 with 1 Axes>"
      ]
     },
     "metadata": {
      "needs_background": "light"
     },
     "output_type": "display_data"
    }
   ],
   "source": [
    "import seaborn as sns\n",
    "\n",
    "t = np.linspace(-4, 4, 10000)\n",
    "densities = batch_of_normals.prob(\n",
    "    np.repeat(t[:, np.newaxis], 2, axis=1)\n",
    ")\n",
    "\n",
    "sns.lineplot(t, densities[:, 0], label=f'loc={locs[0]}, scale={scales[0]}')\n",
    "sns.lineplot(t, densities[:, 1], label=f'loc={locs[1]}, scale={scales[1]}')\n",
    "plt.ylabel('Probability density')\n",
    "plt.xlabel('Value')\n",
    "plt.legend()\n",
    "plt.show()"
   ]
  },
  {
   "cell_type": "code",
   "execution_count": 6,
   "metadata": {
    "execution": {
     "iopub.execute_input": "2021-01-15T10:41:31.725709Z",
     "iopub.status.busy": "2021-01-15T10:41:31.725442Z",
     "iopub.status.idle": "2021-01-15T10:41:31.731118Z",
     "shell.execute_reply": "2021-01-15T10:41:31.730306Z",
     "shell.execute_reply.started": "2021-01-15T10:41:31.725682Z"
    }
   },
   "outputs": [
    {
     "data": {
      "text/plain": [
       "<tfp.distributions.Normal 'Normal' batch_shape=[2] event_shape=[] dtype=float32>"
      ]
     },
     "execution_count": 6,
     "metadata": {},
     "output_type": "execute_result"
    }
   ],
   "source": [
    "batch_of_normals"
   ]
  },
  {
   "cell_type": "code",
   "execution_count": 10,
   "metadata": {
    "execution": {
     "iopub.execute_input": "2021-01-15T10:44:14.785977Z",
     "iopub.status.busy": "2021-01-15T10:44:14.785733Z",
     "iopub.status.idle": "2021-01-15T10:44:14.790013Z",
     "shell.execute_reply": "2021-01-15T10:44:14.789195Z",
     "shell.execute_reply.started": "2021-01-15T10:44:14.785952Z"
    }
   },
   "outputs": [],
   "source": [
    "# Use Independent to convert the batch shape to the event shape\n",
    "\n",
    "bivariate_normal_from_Independent = tfd.Independent(\n",
    "    batch_of_normals,\n",
    "    reinterpreted_batch_ndims=1\n",
    ")"
   ]
  },
  {
   "cell_type": "code",
   "execution_count": 11,
   "metadata": {
    "execution": {
     "iopub.execute_input": "2021-01-15T10:44:15.062195Z",
     "iopub.status.busy": "2021-01-15T10:44:15.061941Z",
     "iopub.status.idle": "2021-01-15T10:44:15.068452Z",
     "shell.execute_reply": "2021-01-15T10:44:15.066878Z",
     "shell.execute_reply.started": "2021-01-15T10:44:15.062167Z"
    }
   },
   "outputs": [
    {
     "data": {
      "text/plain": [
       "<tfp.distributions.Independent 'IndependentNormal' batch_shape=[] event_shape=[2] dtype=float32>"
      ]
     },
     "execution_count": 11,
     "metadata": {},
     "output_type": "execute_result"
    }
   ],
   "source": [
    "# Note that the dimension from batch shape shifted to event shape\n",
    "\n",
    "bivariate_normal_from_Independent"
   ]
  },
  {
   "cell_type": "code",
   "execution_count": 12,
   "metadata": {
    "execution": {
     "iopub.execute_input": "2021-01-15T10:44:15.751623Z",
     "iopub.status.busy": "2021-01-15T10:44:15.751369Z",
     "iopub.status.idle": "2021-01-15T10:44:21.952995Z",
     "shell.execute_reply": "2021-01-15T10:44:21.952143Z",
     "shell.execute_reply.started": "2021-01-15T10:44:15.751596Z"
    }
   },
   "outputs": [
    {
     "name": "stderr",
     "output_type": "stream",
     "text": [
      "/Users/shankar/dev/tools/anaconda3/envs/od/lib/python3.8/site-packages/seaborn/_decorators.py:36: FutureWarning: Pass the following variables as keyword args: x, y. From version 0.12, the only valid positional argument will be `data`, and passing other arguments without an explicit keyword will result in an error or misinterpretation.\n",
      "  warnings.warn(\n"
     ]
    },
    {
     "data": {
      "text/plain": [
       "<seaborn.axisgrid.JointGrid at 0x7fee3b013eb0>"
      ]
     },
     "execution_count": 12,
     "metadata": {},
     "output_type": "execute_result"
    },
    {
     "data": {
      "image/png": "[encoded data removed]",
      "text/plain": [
       "<Figure size 432x432 with 3 Axes>"
      ]
     },
     "metadata": {
      "needs_background": "light"
     },
     "output_type": "display_data"
    }
   ],
   "source": [
    "# Create a plot showing joint density contours and marginal density functions\n",
    "\n",
    "samples = bivariate_normal_from_Independent.sample(10000)\n",
    "x1 = samples[:, 0]\n",
    "x2 = samples[:, 1]\n",
    "sns.jointplot(x1, x2, kind=\"kde\", space=0, color='b', xlim=[-4, 4], ylim=[-4, 4])"
   ]
  },
  {
   "cell_type": "code",
   "execution_count": 13,
   "metadata": {
    "execution": {
     "iopub.execute_input": "2021-01-15T10:46:46.441796Z",
     "iopub.status.busy": "2021-01-15T10:46:46.441563Z",
     "iopub.status.idle": "2021-01-15T10:46:46.452549Z",
     "shell.execute_reply": "2021-01-15T10:46:46.451736Z",
     "shell.execute_reply.started": "2021-01-15T10:46:46.441772Z"
    }
   },
   "outputs": [
    {
     "data": {
      "text/plain": [
       "<tfp.distributions.MultivariateNormalDiag 'MultivariateNormalDiag' batch_shape=[] event_shape=[2] dtype=float32>"
      ]
     },
     "execution_count": 13,
     "metadata": {},
     "output_type": "execute_result"
    }
   ],
   "source": [
    "# Use multivariateNormalDiag to create the equivalent distribution\n",
    "# Note that diagonal covariance matrix => no correlation => independence (for the multivariate normal distribution)\n",
    "\n",
    "bivariate_normal_from_Multivariate = tfd.MultivariateNormalDiag(loc=locs, scale_diag=scales)\n",
    "bivariate_normal_from_Multivariate"
   ]
  },
  {
   "cell_type": "code",
   "execution_count": 14,
   "metadata": {
    "execution": {
     "iopub.execute_input": "2021-01-15T10:47:00.887067Z",
     "iopub.status.busy": "2021-01-15T10:47:00.886628Z",
     "iopub.status.idle": "2021-01-15T10:47:07.389622Z",
     "shell.execute_reply": "2021-01-15T10:47:07.389028Z",
     "shell.execute_reply.started": "2021-01-15T10:47:00.887035Z"
    }
   },
   "outputs": [
    {
     "name": "stderr",
     "output_type": "stream",
     "text": [
      "/Users/shankar/dev/tools/anaconda3/envs/od/lib/python3.8/site-packages/seaborn/_decorators.py:36: FutureWarning: Pass the following variables as keyword args: x, y. From version 0.12, the only valid positional argument will be `data`, and passing other arguments without an explicit keyword will result in an error or misinterpretation.\n",
      "  warnings.warn(\n"
     ]
    },
    {
     "data": {
      "text/plain": [
       "<seaborn.axisgrid.JointGrid at 0x7fee3aa0b4c0>"
      ]
     },
     "execution_count": 14,
     "metadata": {},
     "output_type": "execute_result"
    },
    {
     "data": {
      "image/png": "[encoded data removed]",
      "text/plain": [
       "<Figure size 432x432 with 3 Axes>"
      ]
     },
     "metadata": {
      "needs_background": "light"
     },
     "output_type": "display_data"
    }
   ],
   "source": [
    "# Plot the joint density function of bivariate_normal_from_Independent\n",
    "# Refer back to bivariate_normal_from_Independent to show that the plot is the same\n",
    "# Summarise how Independent has been used\n",
    "\n",
    "samples = bivariate_normal_from_Multivariate.sample(10000)\n",
    "x1 = samples[:, 0]\n",
    "x2 = samples[:, 1]\n",
    "sns.jointplot(x1, x2, kind=\"kde\", space=0, color='b', xlim=[-4, 4], ylim=[-4, 4])"
   ]
  },
  {
   "cell_type": "markdown",
   "metadata": {},
   "source": [
    "#### Shifting batch dimensions to event dimensions using \n",
    "`reinterpreted_batch_ndims`"
   ]
  },
  {
   "cell_type": "code",
   "execution_count": 15,
   "metadata": {
    "execution": {
     "iopub.execute_input": "2021-01-15T10:51:47.587383Z",
     "iopub.status.busy": "2021-01-15T10:51:47.587141Z",
     "iopub.status.idle": "2021-01-15T10:51:47.592396Z",
     "shell.execute_reply": "2021-01-15T10:51:47.591544Z",
     "shell.execute_reply.started": "2021-01-15T10:51:47.587358Z"
    }
   },
   "outputs": [],
   "source": [
    "# Demonstrate use of reinterpreted_batch_ndims\n",
    "# By default all batch dims except the first are transferred to event dims\n",
    "\n",
    "loc_grid = [[-100., -100.],\n",
    "            [100., 100.],\n",
    "            [0., 0.]]\n",
    "scale_grid = [[1., 10.],\n",
    "              [1., 10.],\n",
    "              [1., 1.]]\n",
    "\n",
    "normals_batch_3by2_event_1 = tfd.Normal(loc=loc_grid, scale=scale_grid)"
   ]
  },
  {
   "cell_type": "code",
   "execution_count": 16,
   "metadata": {
    "execution": {
     "iopub.execute_input": "2021-01-15T10:52:07.107373Z",
     "iopub.status.busy": "2021-01-15T10:52:07.107132Z",
     "iopub.status.idle": "2021-01-15T10:52:07.112174Z",
     "shell.execute_reply": "2021-01-15T10:52:07.111433Z",
     "shell.execute_reply.started": "2021-01-15T10:52:07.107347Z"
    }
   },
   "outputs": [
    {
     "data": {
      "text/plain": [
       "<tfp.distributions.Normal 'Normal' batch_shape=[3, 2] event_shape=[] dtype=float32>"
      ]
     },
     "execution_count": 16,
     "metadata": {},
     "output_type": "execute_result"
    }
   ],
   "source": [
    "normals_batch_3by2_event_1"
   ]
  },
  {
   "cell_type": "code",
   "execution_count": 17,
   "metadata": {
    "execution": {
     "iopub.execute_input": "2021-01-15T10:54:04.060074Z",
     "iopub.status.busy": "2021-01-15T10:54:04.059831Z",
     "iopub.status.idle": "2021-01-15T10:54:04.065298Z",
     "shell.execute_reply": "2021-01-15T10:54:04.064572Z",
     "shell.execute_reply.started": "2021-01-15T10:54:04.060048Z"
    }
   },
   "outputs": [
    {
     "data": {
      "text/plain": [
       "<tfp.distributions.Independent 'IndependentNormal' batch_shape=[3] event_shape=[2] dtype=float32>"
      ]
     },
     "execution_count": 17,
     "metadata": {},
     "output_type": "execute_result"
    }
   ],
   "source": [
    "# We now have a batch of 3 bivariate normal distributions,\n",
    "# each parametrised by a column of our original parameter grid\n",
    "\n",
    "normals_batch_3_event_2 = tfd.Independent(normals_batch_3by2_event_1)\n",
    "normals_batch_3_event_2"
   ]
  },
  {
   "cell_type": "code",
   "execution_count": 19,
   "metadata": {
    "execution": {
     "iopub.execute_input": "2021-01-15T10:56:04.174716Z",
     "iopub.status.busy": "2021-01-15T10:56:04.174496Z",
     "iopub.status.idle": "2021-01-15T10:56:04.181341Z",
     "shell.execute_reply": "2021-01-15T10:56:04.180563Z",
     "shell.execute_reply.started": "2021-01-15T10:56:04.174675Z"
    }
   },
   "outputs": [
    {
     "data": {
      "text/plain": [
       "<tf.Tensor: shape=(3,), dtype=float32, numpy=array([-4.1146406e+03, -4.1404624e+00, -2.8378770e+00], dtype=float32)>"
      ]
     },
     "execution_count": 19,
     "metadata": {},
     "output_type": "execute_result"
    }
   ],
   "source": [
    "# evaluate the log_prob\n",
    "\n",
    "normals_batch_3_event_2.log_prob(value=[[-10, 10], [100, 100], [1, 1]])"
   ]
  },
  {
   "cell_type": "code",
   "execution_count": 20,
   "metadata": {
    "execution": {
     "iopub.execute_input": "2021-01-15T10:57:54.949237Z",
     "iopub.status.busy": "2021-01-15T10:57:54.949000Z",
     "iopub.status.idle": "2021-01-15T10:57:54.955396Z",
     "shell.execute_reply": "2021-01-15T10:57:54.954652Z",
     "shell.execute_reply.started": "2021-01-15T10:57:54.949213Z"
    }
   },
   "outputs": [
    {
     "data": {
      "text/plain": [
       "<tfp.distributions.Independent 'IndependentNormal' batch_shape=[] event_shape=[3, 2] dtype=float32>"
      ]
     },
     "execution_count": 20,
     "metadata": {},
     "output_type": "execute_result"
    }
   ],
   "source": [
    "# Can interpret all batch dimensions as event dimensions\n",
    "\n",
    "normals_batch_1_event_3by2 = tfd.Independent(\n",
    "    normals_batch_3by2_event_1,\n",
    "    reinterpreted_batch_ndims=2\n",
    ")\n",
    "normals_batch_1_event_3by2"
   ]
  },
  {
   "cell_type": "code",
   "execution_count": 21,
   "metadata": {
    "execution": {
     "iopub.execute_input": "2021-01-15T10:58:25.571923Z",
     "iopub.status.busy": "2021-01-15T10:58:25.571677Z",
     "iopub.status.idle": "2021-01-15T10:58:25.577875Z",
     "shell.execute_reply": "2021-01-15T10:58:25.577185Z",
     "shell.execute_reply.started": "2021-01-15T10:58:25.571897Z"
    }
   },
   "outputs": [
    {
     "data": {
      "text/plain": [
       "<tf.Tensor: shape=(), dtype=float32, numpy=-4121.619>"
      ]
     },
     "execution_count": 21,
     "metadata": {},
     "output_type": "execute_result"
    }
   ],
   "source": [
    "normals_batch_1_event_3by2.log_prob(value=[[-10, 10], [100, 100], [1, 1]])"
   ]
  },
  {
   "cell_type": "markdown",
   "metadata": {},
   "source": [
    "#### Using `Independent` to build a Naive Bayes classifier\n",
    "\n",
    "#### Introduction to `newsgroups` data set\n",
    "\n",
    "In this tutorial, just load the dataset, fetch train/test splits, probably choose a subset of the data.\n",
    "\n",
    "Construct the class conditional feature distribution (with Independent, using the Naive Bayes assumption) and sample from it.\n",
    "\n",
    "We can just use the ML estimates for parameters, in later tutorials we will learn them."
   ]
  },
  {
   "cell_type": "code",
   "execution_count": 22,
   "metadata": {
    "execution": {
     "iopub.execute_input": "2021-01-15T11:01:13.174190Z",
     "iopub.status.busy": "2021-01-15T11:01:13.173947Z",
     "iopub.status.idle": "2021-01-15T11:01:13.177706Z",
     "shell.execute_reply": "2021-01-15T11:01:13.176998Z",
     "shell.execute_reply.started": "2021-01-15T11:01:13.174164Z"
    }
   },
   "outputs": [],
   "source": [
    "# Convenience function for retrieving the 20 newsgroups data set\n",
    "\n",
    "# Usenet was a forerunner to modern internet forums\n",
    "# Users could post and read articles\n",
    "# Newsgroup corresponded to a topic\n",
    "# Example topics in this data set: IBM computer hardware, baseball\n",
    "# Our objective is to use an article's contents to predict its newsgroup,\n",
    "# a 20-class classification problem.\n",
    "\n",
    "# 18000 newsgroups posts on 20 topics\n",
    "from sklearn.datasets import fetch_20newsgroups\n",
    "from sklearn.feature_extraction.text import CountVectorizer"
   ]
  },
  {
   "cell_type": "code",
   "execution_count": 23,
   "metadata": {
    "execution": {
     "iopub.execute_input": "2021-01-15T18:04:11.888501Z",
     "iopub.status.busy": "2021-01-15T18:04:11.888086Z",
     "iopub.status.idle": "2021-01-15T18:04:12.285954Z",
     "shell.execute_reply": "2021-01-15T18:04:12.285123Z",
     "shell.execute_reply.started": "2021-01-15T18:04:11.888443Z"
    }
   },
   "outputs": [],
   "source": [
    "newsgroups_data = fetch_20newsgroups(data_home=\"./\", subset=\"train\")"
   ]
  },
  {
   "cell_type": "code",
   "execution_count": 25,
   "metadata": {
    "execution": {
     "iopub.execute_input": "2021-01-15T18:04:40.541013Z",
     "iopub.status.busy": "2021-01-15T18:04:40.540755Z",
     "iopub.status.idle": "2021-01-15T18:04:40.554972Z",
     "shell.execute_reply": "2021-01-15T18:04:40.554220Z",
     "shell.execute_reply.started": "2021-01-15T18:04:40.540987Z"
    }
   },
   "outputs": [
    {
     "name": "stdout",
     "output_type": "stream",
     "text": [
      ".. _20newsgroups_dataset:\n",
      "\n",
      "The 20 newsgroups text dataset\n",
      "------------------------------\n",
      "\n",
      "The 20 newsgroups dataset comprises around 18000 newsgroups posts on\n",
      "20 topics split in two subsets: one for training (or development)\n",
      "and the other one for testing (or for performance evaluation). The split\n",
      "between the train and test set is based upon a messages posted before\n",
      "and after a specific date.\n",
      "\n",
      "This module contains two loaders. The first one,\n",
      ":func:`sklearn.datasets.fetch_20newsgroups`,\n",
      "returns a list of the raw texts that can be fed to text feature\n",
      "extractors such as :class:`sklearn.feature_extraction.text.CountVectorizer`\n",
      "with custom parameters so as to extract feature vectors.\n",
      "The second one, :func:`sklearn.datasets.fetch_20newsgroups_vectorized`,\n",
      "returns ready-to-use features, i.e., it is not necessary to use a feature\n",
      "extractor.\n",
      "\n",
      "**Data Set Characteristics:**\n",
      "\n",
      "    =================   ==========\n",
      "    Classes                     20\n",
      "    Samples total            18846\n",
      "    Dimensionality               1\n",
      "    Features                  text\n",
      "    =================   ==========\n",
      "\n",
      "Usage\n",
      "~~~~~\n",
      "\n",
      "The :func:`sklearn.datasets.fetch_20newsgroups` function is a data\n",
      "fetching / caching functions that downloads the data archive from\n",
      "the original `20 newsgroups website`_, extracts the archive contents\n",
      "in the ``~/scikit_learn_data/20news_home`` folder and calls the\n",
      ":func:`sklearn.datasets.load_files` on either the training or\n",
      "testing set folder, or both of them::\n",
      "\n",
      "  >>> from sklearn.datasets import fetch_20newsgroups\n",
      "  >>> newsgroups_train = fetch_20newsgroups(subset='train')\n",
      "\n",
      "  >>> from pprint import pprint\n",
      "  >>> pprint(list(newsgroups_train.target_names))\n",
      "  ['alt.atheism',\n",
      "   'comp.graphics',\n",
      "   'comp.os.ms-windows.misc',\n",
      "   'comp.sys.ibm.pc.hardware',\n",
      "   'comp.sys.mac.hardware',\n",
      "   'comp.windows.x',\n",
      "   'misc.forsale',\n",
      "   'rec.autos',\n",
      "   'rec.motorcycles',\n",
      "   'rec.sport.baseball',\n",
      "   'rec.sport.hockey',\n",
      "   'sci.crypt',\n",
      "   'sci.electronics',\n",
      "   'sci.med',\n",
      "   'sci.space',\n",
      "   'soc.religion.christian',\n",
      "   'talk.politics.guns',\n",
      "   'talk.politics.mideast',\n",
      "   'talk.politics.misc',\n",
      "   'talk.religion.misc']\n",
      "\n",
      "The real data lies in the ``filenames`` and ``target`` attributes. The target\n",
      "attribute is the integer index of the category::\n",
      "\n",
      "  >>> newsgroups_train.filenames.shape\n",
      "  (11314,)\n",
      "  >>> newsgroups_train.target.shape\n",
      "  (11314,)\n",
      "  >>> newsgroups_train.target[:10]\n",
      "  array([ 7,  4,  4,  1, 14, 16, 13,  3,  2,  4])\n",
      "\n",
      "It is possible to load only a sub-selection of the categories by passing the\n",
      "list of the categories to load to the\n",
      ":func:`sklearn.datasets.fetch_20newsgroups` function::\n",
      "\n",
      "  >>> cats = ['alt.atheism', 'sci.space']\n",
      "  >>> newsgroups_train = fetch_20newsgroups(subset='train', categories=cats)\n",
      "\n",
      "  >>> list(newsgroups_train.target_names)\n",
      "  ['alt.atheism', 'sci.space']\n",
      "  >>> newsgroups_train.filenames.shape\n",
      "  (1073,)\n",
      "  >>> newsgroups_train.target.shape\n",
      "  (1073,)\n",
      "  >>> newsgroups_train.target[:10]\n",
      "  array([0, 1, 1, 1, 0, 1, 1, 0, 0, 0])\n",
      "\n",
      "Converting text to vectors\n",
      "~~~~~~~~~~~~~~~~~~~~~~~~~~\n",
      "\n",
      "In order to feed predictive or clustering models with the text data,\n",
      "one first need to turn the text into vectors of numerical values suitable\n",
      "for statistical analysis. This can be achieved with the utilities of the\n",
      "``sklearn.feature_extraction.text`` as demonstrated in the following\n",
      "example that extract `TF-IDF`_ vectors of unigram tokens\n",
      "from a subset of 20news::\n",
      "\n",
      "  >>> from sklearn.feature_extraction.text import TfidfVectorizer\n",
      "  >>> categories = ['alt.atheism', 'talk.religion.misc',\n",
      "  ...               'comp.graphics', 'sci.space']\n",
      "  >>> newsgroups_train = fetch_20newsgroups(subset='train',\n",
      "  ...                                       categories=categories)\n",
      "  >>> vectorizer = TfidfVectorizer()\n",
      "  >>> vectors = vectorizer.fit_transform(newsgroups_train.data)\n",
      "  >>> vectors.shape\n",
      "  (2034, 34118)\n",
      "\n",
      "The extracted TF-IDF vectors are very sparse, with an average of 159 non-zero\n",
      "components by sample in a more than 30000-dimensional space\n",
      "(less than .5% non-zero features)::\n",
      "\n",
      "  >>> vectors.nnz / float(vectors.shape[0])\n",
      "  159.01327...\n",
      "\n",
      ":func:`sklearn.datasets.fetch_20newsgroups_vectorized` is a function which \n",
      "returns ready-to-use token counts features instead of file names.\n",
      "\n",
      ".. _`20 newsgroups website`: http://people.csail.mit.edu/jrennie/20Newsgroups/\n",
      ".. _`TF-IDF`: https://en.wikipedia.org/wiki/Tf-idf\n",
      "\n",
      "\n",
      "Filtering text for more realistic training\n",
      "~~~~~~~~~~~~~~~~~~~~~~~~~~~~~~~~~~~~~~~~~~\n",
      "\n",
      "It is easy for a classifier to overfit on particular things that appear in the\n",
      "20 Newsgroups data, such as newsgroup headers. Many classifiers achieve very\n",
      "high F-scores, but their results would not generalize to other documents that\n",
      "aren't from this window of time.\n",
      "\n",
      "For example, let's look at the results of a multinomial Naive Bayes classifier,\n",
      "which is fast to train and achieves a decent F-score::\n",
      "\n",
      "  >>> from sklearn.naive_bayes import MultinomialNB\n",
      "  >>> from sklearn import metrics\n",
      "  >>> newsgroups_test = fetch_20newsgroups(subset='test',\n",
      "  ...                                      categories=categories)\n",
      "  >>> vectors_test = vectorizer.transform(newsgroups_test.data)\n",
      "  >>> clf = MultinomialNB(alpha=.01)\n",
      "  >>> clf.fit(vectors, newsgroups_train.target)\n",
      "  MultinomialNB(alpha=0.01, class_prior=None, fit_prior=True)\n",
      "\n",
      "  >>> pred = clf.predict(vectors_test)\n",
      "  >>> metrics.f1_score(newsgroups_test.target, pred, average='macro')\n",
      "  0.88213...\n",
      "\n",
      "(The example :ref:`sphx_glr_auto_examples_text_plot_document_classification_20newsgroups.py` shuffles\n",
      "the training and test data, instead of segmenting by time, and in that case\n",
      "multinomial Naive Bayes gets a much higher F-score of 0.88. Are you suspicious\n",
      "yet of what's going on inside this classifier?)\n",
      "\n",
      "Let's take a look at what the most informative features are:\n",
      "\n",
      "  >>> import numpy as np\n",
      "  >>> def show_top10(classifier, vectorizer, categories):\n",
      "  ...     feature_names = np.asarray(vectorizer.get_feature_names())\n",
      "  ...     for i, category in enumerate(categories):\n",
      "  ...         top10 = np.argsort(classifier.coef_[i])[-10:]\n",
      "  ...         print(\"%s: %s\" % (category, \" \".join(feature_names[top10])))\n",
      "  ...\n",
      "  >>> show_top10(clf, vectorizer, newsgroups_train.target_names)\n",
      "  alt.atheism: edu it and in you that is of to the\n",
      "  comp.graphics: edu in graphics it is for and of to the\n",
      "  sci.space: edu it that is in and space to of the\n",
      "  talk.religion.misc: not it you in is that and to of the\n",
      "\n",
      "\n",
      "You can now see many things that these features have overfit to:\n",
      "\n",
      "- Almost every group is distinguished by whether headers such as\n",
      "  ``NNTP-Posting-Host:`` and ``Distribution:`` appear more or less often.\n",
      "- Another significant feature involves whether the sender is affiliated with\n",
      "  a university, as indicated either by their headers or their signature.\n",
      "- The word \"article\" is a significant feature, based on how often people quote\n",
      "  previous posts like this: \"In article [article ID], [name] <[e-mail address]>\n",
      "  wrote:\"\n",
      "- Other features match the names and e-mail addresses of particular people who\n",
      "  were posting at the time.\n",
      "\n",
      "With such an abundance of clues that distinguish newsgroups, the classifiers\n",
      "barely have to identify topics from text at all, and they all perform at the\n",
      "same high level.\n",
      "\n",
      "For this reason, the functions that load 20 Newsgroups data provide a\n",
      "parameter called **remove**, telling it what kinds of information to strip out\n",
      "of each file. **remove** should be a tuple containing any subset of\n",
      "``('headers', 'footers', 'quotes')``, telling it to remove headers, signature\n",
      "blocks, and quotation blocks respectively.\n",
      "\n",
      "  >>> newsgroups_test = fetch_20newsgroups(subset='test',\n",
      "  ...                                      remove=('headers', 'footers', 'quotes'),\n",
      "  ...                                      categories=categories)\n",
      "  >>> vectors_test = vectorizer.transform(newsgroups_test.data)\n",
      "  >>> pred = clf.predict(vectors_test)\n",
      "  >>> metrics.f1_score(pred, newsgroups_test.target, average='macro')\n",
      "  0.77310...\n",
      "\n",
      "This classifier lost over a lot of its F-score, just because we removed\n",
      "metadata that has little to do with topic classification.\n",
      "It loses even more if we also strip this metadata from the training data:\n",
      "\n",
      "  >>> newsgroups_train = fetch_20newsgroups(subset='train',\n",
      "  ...                                       remove=('headers', 'footers', 'quotes'),\n",
      "  ...                                       categories=categories)\n",
      "  >>> vectors = vectorizer.fit_transform(newsgroups_train.data)\n",
      "  >>> clf = MultinomialNB(alpha=.01)\n",
      "  >>> clf.fit(vectors, newsgroups_train.target)\n",
      "  MultinomialNB(alpha=0.01, class_prior=None, fit_prior=True)\n",
      "\n",
      "  >>> vectors_test = vectorizer.transform(newsgroups_test.data)\n",
      "  >>> pred = clf.predict(vectors_test)\n",
      "  >>> metrics.f1_score(newsgroups_test.target, pred, average='macro')\n",
      "  0.76995...\n",
      "\n",
      "Some other classifiers cope better with this harder version of the task. Try\n",
      "running :ref:`sphx_glr_auto_examples_model_selection_grid_search_text_feature_extraction.py` with and without\n",
      "the ``--filter`` option to compare the results.\n",
      "\n",
      ".. topic:: Recommendation\n",
      "\n",
      "  When evaluating text classifiers on the 20 Newsgroups data, you\n",
      "  should strip newsgroup-related metadata. In scikit-learn, you can do this by\n",
      "  setting ``remove=('headers', 'footers', 'quotes')``. The F-score will be\n",
      "  lower because it is more realistic.\n",
      "\n",
      ".. topic:: Examples\n",
      "\n",
      "   * :ref:`sphx_glr_auto_examples_model_selection_grid_search_text_feature_extraction.py`\n",
      "\n",
      "   * :ref:`sphx_glr_auto_examples_text_plot_document_classification_20newsgroups.py`\n",
      "\n"
     ]
    }
   ],
   "source": [
    "print(newsgroups_data[\"DESCR\"])"
   ]
  },
  {
   "cell_type": "code",
   "execution_count": 26,
   "metadata": {
    "execution": {
     "iopub.execute_input": "2021-01-15T18:25:16.642042Z",
     "iopub.status.busy": "2021-01-15T18:25:16.641828Z",
     "iopub.status.idle": "2021-01-15T18:25:16.645938Z",
     "shell.execute_reply": "2021-01-15T18:25:16.645068Z",
     "shell.execute_reply.started": "2021-01-15T18:25:16.642021Z"
    }
   },
   "outputs": [
    {
     "name": "stdout",
     "output_type": "stream",
     "text": [
      "From: lerxst@wam.umd.edu (where's my thing)\n",
      "Subject: WHAT car is this!?\n",
      "Nntp-Posting-Host: rac3.wam.umd.edu\n",
      "Organization: University of Maryland, College Park\n",
      "Lines: 15\n",
      "\n",
      " I was wondering if anyone out there could enlighten me on this car I saw\n",
      "the other day. It was a 2-door sports car, looked to be from the late 60s/\n",
      "early 70s. It was called a Bricklin. The doors were really small. In addition,\n",
      "the front bumper was separate from the rest of the body. This is \n",
      "all I know. If anyone can tellme a model name, engine specs, years\n",
      "of production, where this car is made, history, or whatever info you\n",
      "have on this funky looking car, please e-mail.\n",
      "\n",
      "Thanks,\n",
      "- IL\n",
      "   ---- brought to you by your neighborhood Lerxst ----\n",
      "\n",
      "\n",
      "\n",
      "\n",
      "\n"
     ]
    }
   ],
   "source": [
    "print(newsgroups_data[\"data\"][0])"
   ]
  },
  {
   "cell_type": "code",
   "execution_count": 28,
   "metadata": {
    "execution": {
     "iopub.execute_input": "2021-01-15T18:30:54.676102Z",
     "iopub.status.busy": "2021-01-15T18:30:54.675865Z",
     "iopub.status.idle": "2021-01-15T18:30:54.681431Z",
     "shell.execute_reply": "2021-01-15T18:30:54.680652Z",
     "shell.execute_reply.started": "2021-01-15T18:30:54.676077Z"
    }
   },
   "outputs": [
    {
     "data": {
      "text/plain": [
       "(7, 'rec.autos')"
      ]
     },
     "execution_count": 28,
     "metadata": {},
     "output_type": "execute_result"
    }
   ],
   "source": [
    "newsgroups_data[\"target\"][0], newsgroups_data[\"target_names\"][7]"
   ]
  },
  {
   "cell_type": "code",
   "execution_count": 29,
   "metadata": {
    "execution": {
     "iopub.execute_input": "2021-01-15T18:34:03.647986Z",
     "iopub.status.busy": "2021-01-15T18:34:03.647700Z",
     "iopub.status.idle": "2021-01-15T18:34:06.950893Z",
     "shell.execute_reply": "2021-01-15T18:34:06.949830Z",
     "shell.execute_reply.started": "2021-01-15T18:34:03.647958Z"
    }
   },
   "outputs": [],
   "source": [
    "# Preprocessing boilerplate\n",
    "\n",
    "n_documents = len(newsgroups_data['data'])\n",
    "\n",
    "count_vectorizer = CountVectorizer(input='content', binary=True,\n",
    "                                   max_df=0.25, min_df=1.01/n_documents) # ignore common words, words that appear once\n",
    "binary_bag_of_words = count_vectorizer.fit_transform(newsgroups_data['data']) # input is a list of strings\n"
   ]
  },
  {
   "cell_type": "code",
   "execution_count": 30,
   "metadata": {
    "execution": {
     "iopub.execute_input": "2021-01-15T18:34:46.057591Z",
     "iopub.status.busy": "2021-01-15T18:34:46.057374Z",
     "iopub.status.idle": "2021-01-15T18:34:46.061461Z",
     "shell.execute_reply": "2021-01-15T18:34:46.060805Z",
     "shell.execute_reply.started": "2021-01-15T18:34:46.057570Z"
    }
   },
   "outputs": [
    {
     "data": {
      "text/plain": [
       "(11314, 56365)"
      ]
     },
     "execution_count": 30,
     "metadata": {},
     "output_type": "execute_result"
    }
   ],
   "source": [
    "# Check Shape\n",
    "binary_bag_of_words.shape"
   ]
  },
  {
   "cell_type": "code",
   "execution_count": 32,
   "metadata": {
    "execution": {
     "iopub.execute_input": "2021-01-15T18:43:43.043839Z",
     "iopub.status.busy": "2021-01-15T18:43:43.043586Z",
     "iopub.status.idle": "2021-01-15T18:43:43.095297Z",
     "shell.execute_reply": "2021-01-15T18:43:43.094396Z",
     "shell.execute_reply.started": "2021-01-15T18:43:43.043812Z"
    }
   },
   "outputs": [
    {
     "data": {
      "text/plain": [
       "[array(['lerxst', 'wam', 'umd', 'where', 'thing', 'car', 'rac3',\n",
       "        'maryland', 'college', 'park', '15', 'wondering', 'anyone',\n",
       "        'could', 'enlighten', 'saw', 'day', 'door', 'sports', 'looked',\n",
       "        'late', '60s', 'early', '70s', 'called', 'bricklin', 'doors',\n",
       "        'were', 'really', 'small', 'addition', 'front', 'bumper',\n",
       "        'separate', 'rest', 'body', 'tellme', 'model', 'name', 'engine',\n",
       "        'specs', 'years', 'production', 'made', 'history', 'whatever',\n",
       "        'info', 'funky', 'looking', 'please', 'mail', 'thanks', 'il',\n",
       "        'brought', 'neighborhood'], dtype='<U80')]"
      ]
     },
     "execution_count": 32,
     "metadata": {},
     "output_type": "execute_result"
    }
   ],
   "source": [
    "# Check that fit has been successful\n",
    "count_vectorizer.inverse_transform(binary_bag_of_words[0, :])"
   ]
  },
  {
   "cell_type": "code",
   "execution_count": 35,
   "metadata": {
    "execution": {
     "iopub.execute_input": "2021-01-15T18:45:19.085130Z",
     "iopub.status.busy": "2021-01-15T18:45:19.084883Z",
     "iopub.status.idle": "2021-01-15T18:45:19.100486Z",
     "shell.execute_reply": "2021-01-15T18:45:19.099368Z",
     "shell.execute_reply.started": "2021-01-15T18:45:19.085105Z"
    }
   },
   "outputs": [],
   "source": [
    "# Dict that will be useful later\n",
    "\n",
    "inv_vocabulary = {value: key for key, value in count_vectorizer.vocabulary_.items()}\n"
   ]
  },
  {
   "cell_type": "markdown",
   "metadata": {},
   "source": [
    "#### A Naive Bayes classifier for `newsgroup`\n",
    "\n",
    "Each feature vector $x$ is a list of indicators for whether a word appears in the article. $x_i$ is 1 if the $i$th word appears, and 0 otherwise. `inv_vocabulary` matches word indices $i$ to words.\n",
    "\n",
    "Each label $y$ is a value in $0, 1, \\ldots, 19$.\n",
    "\n",
    "The parts of a naive Bayes classifier for this problem can be summarised as:  \n",
    "\n",
    "\n",
    "- A probability distribution for the feature vector by class, $p(x|y = j)$ for each $j = 0, 1, \\ldots, 19$. These probability distributions are assumed to have independent components: we can factorize the joint probability as a product of marginal probabilities\n",
    "\\begin{equation}\n",
    "    p(x|y = j) = \\prod_{i=1}^d p(x_i|y = j)\n",
    "\\end{equation}\n",
    "These marginal probability distributions are Bernoulli distributions, each of which has a single parameter $\\theta_{ji} := p(x_i = 1|y = j)$. This parameter is the probability of observing word $i$ in an article of class $j$. \n",
    "\n",
    "- We will use the Laplace smoothed maximum likelihood estimate to compute these parameters. Laplace smoothing involves adding small counts to every feature for each class. Else, if a feature did not appear in the training set of a class, but then we observed it in our test data the log probability would be undefined.\n",
    "\n",
    "- A collection of class prior probabilities $p(y = j)$. These will be set by computing the class base rates in the training set.  \n",
    "\n",
    "\n",
    "- A function for computing the probability of class membership via Bayes' theorem:  \n",
    "\n",
    "\\begin{equation}\n",
    "    p(y = j|x) = \\frac{p(x|y = j)p(y = j)}{p(x)}\n",
    "\\end{equation}"
   ]
  },
  {
   "cell_type": "code",
   "execution_count": 38,
   "metadata": {
    "execution": {
     "iopub.execute_input": "2021-01-15T19:03:34.326648Z",
     "iopub.status.busy": "2021-01-15T19:03:34.326379Z",
     "iopub.status.idle": "2021-01-15T19:03:34.371113Z",
     "shell.execute_reply": "2021-01-15T19:03:34.369623Z",
     "shell.execute_reply.started": "2021-01-15T19:03:34.326620Z"
    }
   },
   "outputs": [],
   "source": [
    "# Compute the parameter estimates (adjusted fraction of documents in class that contain words)\n",
    "\n",
    "n_classes = newsgroups_data['target'].max() + 1\n",
    "y = newsgroups_data['target']\n",
    "n_words = binary_bag_of_words.shape[1]\n",
    "\n",
    "alpha = 1e-5 # Parameters for Laplace smoothing\n",
    "theta = np.zeros([n_classes, n_words]) # stores parameter values - prob. word given class\n",
    "\n",
    "for c_k in range(n_classes):\n",
    "    class_mask = ( y == c_k)\n",
    "    N = class_mask.sum() # number of articles in class\n",
    "    theta[c_k, :] = (binary_bag_of_words[class_mask, :].sum(axis=0) + alpha)/(N + alpha*2)"
   ]
  },
  {
   "cell_type": "code",
   "execution_count": 39,
   "metadata": {
    "execution": {
     "iopub.execute_input": "2021-01-15T19:03:34.820394Z",
     "iopub.status.busy": "2021-01-15T19:03:34.820141Z",
     "iopub.status.idle": "2021-01-15T19:03:34.828708Z",
     "shell.execute_reply": "2021-01-15T19:03:34.827724Z",
     "shell.execute_reply.started": "2021-01-15T19:03:34.820369Z"
    }
   },
   "outputs": [
    {
     "name": "stdout",
     "output_type": "stream",
     "text": [
      "Most probable word in class alt.atheism is \"people\".\n",
      "Most probable word in class comp.graphics is \"graphics\".\n",
      "Most probable word in class comp.os.ms-windows.misc is \"windows\".\n",
      "Most probable word in class comp.sys.ibm.pc.hardware is \"thanks\".\n",
      "Most probable word in class comp.sys.mac.hardware is \"mac\".\n",
      "Most probable word in class comp.windows.x is \"window\".\n",
      "Most probable word in class misc.forsale is \"sale\".\n",
      "Most probable word in class rec.autos is \"car\".\n",
      "Most probable word in class rec.motorcycles is \"dod\".\n",
      "Most probable word in class rec.sport.baseball is \"he\".\n",
      "Most probable word in class rec.sport.hockey is \"ca\".\n",
      "Most probable word in class sci.crypt is \"clipper\".\n",
      "Most probable word in class sci.electronics is \"use\".\n",
      "Most probable word in class sci.med is \"reply\".\n",
      "Most probable word in class sci.space is \"space\".\n",
      "Most probable word in class soc.religion.christian is \"god\".\n",
      "Most probable word in class talk.politics.guns is \"people\".\n",
      "Most probable word in class talk.politics.mideast is \"people\".\n",
      "Most probable word in class talk.politics.misc is \"people\".\n",
      "Most probable word in class talk.religion.misc is \"he\".\n"
     ]
    }
   ],
   "source": [
    "# Check whether the most probable word in each class is reasonable\n",
    "\n",
    "most_probable_word_ix = theta.argmax(axis=1) # most probable word for each class\n",
    "\n",
    "for j, ix in enumerate(most_probable_word_ix):\n",
    "    print('Most probable word in class {} is \"{}\".'.format(newsgroups_data['target_names'][j],\n",
    "                                                           inv_vocabulary[ix]))"
   ]
  },
  {
   "cell_type": "code",
   "execution_count": 40,
   "metadata": {
    "execution": {
     "iopub.execute_input": "2021-01-15T19:05:43.859715Z",
     "iopub.status.busy": "2021-01-15T19:05:43.859478Z",
     "iopub.status.idle": "2021-01-15T19:05:43.881748Z",
     "shell.execute_reply": "2021-01-15T19:05:43.880725Z",
     "shell.execute_reply.started": "2021-01-15T19:05:43.859689Z"
    }
   },
   "outputs": [
    {
     "data": {
      "text/plain": [
       "<tfp.distributions.Independent 'IndependentBernoulli' batch_shape=[20] event_shape=[56365] dtype=int32>"
      ]
     },
     "execution_count": 40,
     "metadata": {},
     "output_type": "execute_result"
    }
   ],
   "source": [
    "# Define a distribution for each class\n",
    "batch_of_bernoullis = tfd.Bernoulli(probs=theta)\n",
    "p_x_given_y = tfd.Independent(batch_of_bernoullis, reinterpreted_batch_ndims=1)\n",
    "p_x_given_y"
   ]
  },
  {
   "cell_type": "code",
   "execution_count": 41,
   "metadata": {
    "execution": {
     "iopub.execute_input": "2021-01-15T19:06:39.118674Z",
     "iopub.status.busy": "2021-01-15T19:06:39.118395Z",
     "iopub.status.idle": "2021-01-15T19:06:39.287744Z",
     "shell.execute_reply": "2021-01-15T19:06:39.286399Z",
     "shell.execute_reply.started": "2021-01-15T19:06:39.118643Z"
    }
   },
   "outputs": [
    {
     "data": {
      "text/plain": [
       "TensorShape([10, 20, 56365])"
      ]
     },
     "execution_count": 41,
     "metadata": {},
     "output_type": "execute_result"
    }
   ],
   "source": [
    "# Take a sample of words from each class\n",
    "n_samples = 10\n",
    "sample = p_x_given_y.sample(n_samples)\n",
    "sample.shape"
   ]
  },
  {
   "cell_type": "code",
   "execution_count": 45,
   "metadata": {
    "execution": {
     "iopub.execute_input": "2021-01-15T19:09:25.395419Z",
     "iopub.status.busy": "2021-01-15T19:09:25.395171Z",
     "iopub.status.idle": "2021-01-15T19:09:25.400607Z",
     "shell.execute_reply": "2021-01-15T19:09:25.399696Z",
     "shell.execute_reply.started": "2021-01-15T19:09:25.395394Z"
    }
   },
   "outputs": [
    {
     "data": {
      "text/plain": [
       "'sci.crypt'"
      ]
     },
     "execution_count": 45,
     "metadata": {},
     "output_type": "execute_result"
    }
   ],
   "source": [
    "# Choos a class\n",
    "choose_class = 11\n",
    "newsgroups_data['target_names'][choose_class]"
   ]
  },
  {
   "cell_type": "code",
   "execution_count": 46,
   "metadata": {
    "execution": {
     "iopub.execute_input": "2021-01-15T19:09:25.819104Z",
     "iopub.status.busy": "2021-01-15T19:09:25.818812Z",
     "iopub.status.idle": "2021-01-15T19:09:25.825757Z",
     "shell.execute_reply": "2021-01-15T19:09:25.824812Z",
     "shell.execute_reply.started": "2021-01-15T19:09:25.819075Z"
    }
   },
   "outputs": [
    {
     "data": {
      "text/plain": [
       "<tf.Tensor: shape=(10, 56365), dtype=int32, numpy=\n",
       "array([[0, 0, 0, ..., 0, 0, 0],\n",
       "       [0, 0, 0, ..., 0, 0, 0],\n",
       "       [0, 0, 0, ..., 0, 0, 0],\n",
       "       ...,\n",
       "       [0, 0, 0, ..., 0, 0, 0],\n",
       "       [0, 0, 0, ..., 0, 0, 0],\n",
       "       [0, 0, 0, ..., 0, 0, 0]], dtype=int32)>"
      ]
     },
     "execution_count": 46,
     "metadata": {},
     "output_type": "execute_result"
    }
   ],
   "source": [
    "# Indicators for words that appear in the sample\n",
    "class_sample = sample[:, choose_class, :]\n",
    "class_sample"
   ]
  },
  {
   "cell_type": "code",
   "execution_count": 47,
   "metadata": {
    "execution": {
     "iopub.execute_input": "2021-01-15T19:09:26.622927Z",
     "iopub.status.busy": "2021-01-15T19:09:26.622641Z",
     "iopub.status.idle": "2021-01-15T19:09:26.682813Z",
     "shell.execute_reply": "2021-01-15T19:09:26.681154Z",
     "shell.execute_reply.started": "2021-01-15T19:09:26.622895Z"
    }
   },
   "outputs": [
    {
     "data": {
      "text/plain": [
       "[array(['1000', '150', '16', '1993apr21', '216', '225502', '2f', '3rd',\n",
       "        '6y5', 'after', 'agency', 'almost', 'although', 'amolitor',\n",
       "        'amsterdam', 'andrew', 'another', 'answered', 'anyone', 'appears',\n",
       "        'apr', 'archiving', 'argument', 'ask', 'asymmetric', 'based',\n",
       "        'batf', 'because', 'becomes', 'bit', 'bush', 'bust', 'ca', 'call',\n",
       "        'cause', 'cd', 'celestial', 'chances', 'chinet', 'chip', 'cl',\n",
       "        'commerce', 'commercial', 'complex', 'core', 'correctly',\n",
       "        'cryptography', 'dd', 'decrypt', 'descriptions', 'different',\n",
       "        'dippold', 'early', 'effectiveness', 'encryption', 'even',\n",
       "        'except', 'experience', 'fed', 'few', 'find', 'first', 'free',\n",
       "        'ftpdf', 'function', 'going', 'government', 'great', 'greater',\n",
       "        'greetings', 'group', 'guvax', 'he', 'houses', 'however', 'imho',\n",
       "        'intentions', 'isn', 'jq', 'key', 'keys', 'kind', 'leave', 'make',\n",
       "        'markowitz', 'mass', 'matching', 'message', 'methods', 'mit',\n",
       "        'modify', 'most', 'mr0b', 'much', 'nationals', 'never', 'next',\n",
       "        'number', 'occur', 'order', 'originally', 'ought', 'pad', 'party',\n",
       "        'people', 'pitted', 'pmetzger', 'postings', 'pretty', 'probably',\n",
       "        'protects', 'puzzle', 'quality', 'quick', 'refusal', 'related',\n",
       "        'reply', 'researchers', 's1', 'say', 'scheme', 'science', 'screw',\n",
       "        'security', 'send', 'several', 'shall', 'shapiro', 'shelf',\n",
       "        'shouldn', 'slightest', 'software', 'solutions', 'something',\n",
       "        'strnlght', 'style', 'suspected', 'system', 'tal', 'target',\n",
       "        'than', 'these', 'things', 'think', 'thoughts', 'times', 'today',\n",
       "        'took', 'toxicwaste', 'transmitted', 'triple', 'tuesday', 'two',\n",
       "        'type', 'underway', 'uniformly', 'until', 'useful', 'users',\n",
       "        'version', 'views', 'voice', 'way', 'well', 'went', 'whether',\n",
       "        'while', 'whoever', 'why', 'wi', 'without', 'write'], dtype='<U80'),\n",
       " array(['115863', '1355', '18', '192105', '1993apr17', '31', '37', '703',\n",
       "        'ac', 'acs', 'after', 'am', 'amazed', 'amount', 'angeles',\n",
       "        'application', 'around', 'australia', 'average', 'backup', 'bbn',\n",
       "        'beginning', 'being', 'bell', 'ber91', 'better', 'buried',\n",
       "        'busted', 'bytes', 'chip', 'companies', 'containing', 'could',\n",
       "        'council', 'country', 'cripple', 'crossings', 'cryptography', 'cs',\n",
       "        'cyberspace', 'david', 'decipher', 'did', 'effectively', 'eifrig',\n",
       "        'elected', 'erroneous', 'escrow', 'escrowed', 'facts', 'farm',\n",
       "        'feelings', 'few', 'gee', 'generator', 'gold', 'good', 'guarantee',\n",
       "        'guidelines', 'gutmann', 'gwyn', 'her', 'hut', 'idea',\n",
       "        'identifiers', 'intelligence', 'intercepts', 'jbotz', 'jmp', 'jq',\n",
       "        'key', 'league', 'life', 'line', 'link', 'load', 'local', 'luck',\n",
       "        'mack', 'management', 'matter', 'maybe', 'mean', 'measures',\n",
       "        'mode', 'molitor', 'mp', 'nauseam', 'ncsl', 'need', 'nih', 'now',\n",
       "        'offered', 'oldtown', 'people', 'perhaps', 'pgp', 'police',\n",
       "        'possibly', 'president', 'privacy', 'rainier', 'real', 'really',\n",
       "        'reason', 'refused', 'repercussions', 'resolve', 'reverse',\n",
       "        'right', 'saving', 'say', 'scrambling', 'secure', 'sent',\n",
       "        'serious', 'sfu', 'shearson', 'side', 'since', 'situated',\n",
       "        'society', 'still', 'strnlghtc5puor', 'strong', 'student',\n",
       "        'stupid', 'substantive', 'take', 'tall', 'terrorists', 'their',\n",
       "        'thinking', 'thread', 'time', 'times', 'today', 'toward',\n",
       "        'tuinstra', 'uk', 'umbc7', 'undergraduate', 'unix', 'unsupported',\n",
       "        'use', 'useful', 'using', 'vote', 'ways', 'were', 'whenever',\n",
       "        'yet'], dtype='<U80'),\n",
       " array(['18', '192105', '30', '3rd', 'acc', 'along', 'am', 'among',\n",
       "        'andrew', 'answers', 'anyone', 'arises', 'ask', 'available',\n",
       "        'average', 'bell', 'big', 'bit', 'black', 'blew', 'brea',\n",
       "        'breakfast', 'briefing', 'cabling', 'cannot', 'changed', 'chip',\n",
       "        'code', 'codes', 'comments', 'commercial', 'company', 'course',\n",
       "        'csli', 'data', 'degauss', 'denning', 'develop', 'devices', 'did',\n",
       "        'disk', 'done', 'door', 'electorate', 'elsewhere', 'embedded',\n",
       "        'emmisions', 'encode', 'encrypted', 'encrypting', 'entail',\n",
       "        'eskimo', 'even', 'every', 'evidence', 'fax', 'fo', 'found',\n",
       "        'free', 'fruition', 'funds', 'going', 'governments', 'group',\n",
       "        'growth', 'hackers', 'high', 'hostage', 'industry', 'isdn', 'joke',\n",
       "        'keyspace', 'kgb', 'knows', 'learn', 'list', 'living', 'lot',\n",
       "        'management', 'mccarthy', 'mentioned', 'message', 'method',\n",
       "        'middle', 'months', 'morgan', 'n2', 'newspaper', 'normal', 'off',\n",
       "        'our', 'pat', 'patents', 'phoenix', 'positive', 'practical',\n",
       "        'priori', 'program', 'proposed', 'providers', 'rc2', 'reading',\n",
       "        'real', 'relatively', 'reply', 'research', 'routine', 's2', 'same',\n",
       "        'security', 'sense', 'sheet', 'signature', 'silicon', 'sitting',\n",
       "        'solution', 'soon', 'stable', 'stream', 'sure', 'talking',\n",
       "        'telecom', 'tell', 'these', 'thing', 'threatens', 'too', 'traffic',\n",
       "        'trei', 'trial', 'trying', 'tw', 'u1', 'unacceptable', 'us', 'use',\n",
       "        'used', 'various', 've', 'very', 'virginia', 'vjs', 'vnet', 'well',\n",
       "        'wound', 'years'], dtype='<U80'),\n",
       " array(['04', '15', '22', '_know_', 'ability', 'acronym', 'add',\n",
       "        'affecting', 'agency', 'albert', 'algorithms', 'also', 'approved',\n",
       "        'astron', 'available', 'back', 'beach', 'because', 'been',\n",
       "        'beethoven', 'behind', 'being', 'big', 'bits', 'broadcast', 'c2',\n",
       "        'call', 'clipper', 'code', 'communications', 'company',\n",
       "        'compromised', 'conduct', 'court', 'craig', 'defined', 'demon',\n",
       "        'des', 'details', 'difficulty', 'divulging', 'eg', 'electronic',\n",
       "        'encourage', 'encryption', 'escrow', 'example', 'extremist',\n",
       "        'flaws', 'gain', 'gar', 'gmt', 'gn', 'goat', 'goes', 'good',\n",
       "        'hackers', 'he', 'help', 'hip', 'house', 'housewives', 'idea',\n",
       "        'including', 'information', 'initial', 'institute', 'involving',\n",
       "        'issue', 'jersey', 'job', 'key', 'later', 'little', 'loral',\n",
       "        'match', 'matter', 'mbeckman', 'might', 'msdos', 'na', 'naturally',\n",
       "        'newsreader', 'nobody', 'northern', 'number', 'obfuscation',\n",
       "        'obvious', 'offender', 'offer', 'officials', 'operations',\n",
       "        'optional', 'order', 'own', 'pass', 'past', 'pencil', 'pervasive',\n",
       "        'pgp2', 'popular', 'president', 'previously', 'probably',\n",
       "        'protect', 'purposes', 'question', 'r1', 'read', 'regarding',\n",
       "        'regularly', 'retribution', 'rough', 'rsa', 'ry', 'safe', 'scheme',\n",
       "        'scrutiny', 'seem', 'seems', 'set', 'should', 'significant',\n",
       "        'single', 'solution', 'special', 'stops', 'stupidity', 'support',\n",
       "        'system', 'taken', 'text', 'their', 'them', 'then', 'thereby',\n",
       "        'these', 'things', 'though', 'through', 'time', 'tracing',\n",
       "        'transcribed', 'tue', 'turning', 'two', 'unless', 'unorganized',\n",
       "        'uucp', 'virginia', 'wanted', 'way', 'well', 'workstation',\n",
       "        'wrong'], dtype='<U80'),\n",
       " array(['16', '1993', '226', '50', 'able', 'absolutely', 'access',\n",
       "        'agencies', 'allow', 'although', 'am', 'anarchy', 'anonymous',\n",
       "        'anyone', 'approving', 'bad', 'barrett', 'been', 'believe',\n",
       "        'between', 'bondage', 'brad', 'cans', 'cellular', 'change',\n",
       "        'charter', 'chip', 'clear', 'close', 'communications',\n",
       "        'completely', 'compression', 'compute', 'cooperating', 'correct',\n",
       "        'could', 'crypto', 'dds', 'decipher', 'depending', 'desires',\n",
       "        'detrimental', 'distribution', 'disturbing', 'does', 'dozen',\n",
       "        'each', 'east', 'elektronik', 'encryption', 'evading', 'exchanges',\n",
       "        'exist', 'fancy', 'fast', 'figuring', 'floppy', 'free', 'give',\n",
       "        'glendenning', 'gordon', 'gotten', 'grow', 'hands', 'hardcopy',\n",
       "        'holland', 'hoodlums', 'hoping', 'id', 'increasing', 'index',\n",
       "        'initiative', 'inkling', 'interest', 'into', 'isn', 'its', 'jex',\n",
       "        'kadie', 'key', 'keys', 'leonard', 'less', 'let', 'likely', 'make',\n",
       "        'marc', 'market', 'md5', 'mind', 'molester', 'most', 'na', 'named',\n",
       "        'ncsc', 'negative', 'newsreader', 'nightline', 'now', 'omelet',\n",
       "        'organized', 'our', 'outline', 'pa', 'people', 'perhaps', 'person',\n",
       "        'phone', 'please', 'police', 'privacy', 'pub', 'request',\n",
       "        'require', 'requirements', 'right', 'running', 'sci', 'search',\n",
       "        'secure', 'serial', 'serum', 'situation', 'sockets', 'steve',\n",
       "        'subvert', 'such', 'suspected', 'systems', 'techniques', 'tell',\n",
       "        'them', 'theoretic', 'thinking', 'those', 'toward', 'triple',\n",
       "        'uni', 'unprecedented', 'util', 'utmost', 'vax', 'very', 'via',\n",
       "        'want', 'whether', 'white', 'wi', 'worry'], dtype='<U80'),\n",
       " array(['11', '1990s', '1993apr18', '9760', 'administrations', 'algorythm',\n",
       "        'am', 'announcement', 'anonymous', 'argue', 'around', 'arranges',\n",
       "        'authentication', 'avenue', 'between', 'big', 'block', 'brian',\n",
       "        'church', 'civilian', 'code', 'commerce', 'computer',\n",
       "        'computervision', 'crimes', 'cryptographic', 'data', 'dave',\n",
       "        'designed', 'digital', 'distribution', 'dockmaster', 'doesen',\n",
       "        'doesn', 'dorothy', 'each', 'ebrandt', 'else', 'email',\n",
       "        'encrypted', 'errors', 'even', 'everybody', 'expertise', 'export',\n",
       "        'family', 'federal', 'file', 'floppy', 'flowing', 'form',\n",
       "        'further', 'girl', 'good', 'gov', 'government', 'hall', 'happen',\n",
       "        'help', 'helps', 'houghton', 'ibm', 'illegal', 'impossible',\n",
       "        'incapable', 'independently', 'individual', 'interface', 'its',\n",
       "        'keys', 'law', 'le', 'legal', 'lewis', 'magnus', 'make', 'mean',\n",
       "        'means', 'mechanism', 'methods', 'might', 'momentarily', 'money',\n",
       "        'most', 'murder', 'na', 'necessary', 'need', 'negotiation',\n",
       "        'neither', 'obtain', 'once', 'open', 'opposed', 'perhaps', 'phone',\n",
       "        'pledged', 'pmetzger', 'point', 'political', 'privately',\n",
       "        'processors', 'projects', 'provides', 'purposes', 'qualcomm', 'r2',\n",
       "        'record', 'refers', 'release', 'republican', 'rsa', 'ruled',\n",
       "        'same', 'science', 'secret', 'senior', 'sign', 'sipb', 'someone',\n",
       "        'sort', 'stanford', 'sternlight', 'still', 'stuck', 'sucking',\n",
       "        'supreme', 'team', 'technology', 'their', 'them', 'thin', 'things',\n",
       "        'thomas', 'those', 'times', 'unix', 'used', 'uses', 'valid',\n",
       "        'vernon', 'violation', 'wait', 'warrants', 'white', 'whole',\n",
       "        'whom', 'whose', 'wouldn', 'writer'], dtype='<U80'),\n",
       " array(['000', '0h', '12', '155', '1993', '508', '768', 'add',\n",
       "        'additional', 'algorithm', 'also', 'analysis', 'aren', 'army',\n",
       "        'assassination', 'being', 'bit', 'botz', 'brian', 'bringing',\n",
       "        'brinich', 'cain', 'chip', 'circulating', 'clearly', 'clipper',\n",
       "        'codebreakers', 'coming', 'compelling', 'computation', 'computer',\n",
       "        'constitute', 'content', 'costs', 'could', 'd1', 'davenport',\n",
       "        'design', 'discrimination', 'distribution', 'dockmaster', 'dumb',\n",
       "        'each', 'entitled', 'first', 'full', 'gained', 'generate',\n",
       "        'generation', 'gibson', 'gobbledly', 'good', 'government',\n",
       "        'hadley', 'hamburg', 'hash', 'heard', 'house', 'imho', 'implied',\n",
       "        'information', 'interception', 'interested', 'interpretation',\n",
       "        'ip', 'issues', 'jail', 'keys', 'keyseach', 'language',\n",
       "        'liberties', 'list', 'mailing', 'management', 'manufactured',\n",
       "        'math', 'medium', 'meetings', 'menudo', 'merged', 'messages', 'mi',\n",
       "        'modified', 'netcom', 'new', 'northern', 'number', 'nz',\n",
       "        'occasional', 'once', 'optimism', 'our', 'output', 'over',\n",
       "        'patent', 'pattern', 'pem', 'people', 'perfect', 'perhaps',\n",
       "        'present', 'preserves', 'programming', 'promises', 'proof',\n",
       "        'proposal', 'propose', 'protect', 'ready', 'reply', 'right',\n",
       "        'rumors', 'security', 'sequence', 'show', 'side', 'simply',\n",
       "        'social', 'sophisticated', 'stolen', 'such', 'suitable', 'system',\n",
       "        'taiwanese', 'take', 'talk', 'talking', 'targets', 'templeton',\n",
       "        'thanks', 'traffic', 'tried', 'two', 'understand', 'use', 've',\n",
       "        'very', 'via', 'way', 'while', 'why', 'wisdom', 'worm'],\n",
       "       dtype='<U80'),\n",
       " array(['128', '14262', '15', '17', '1993apr20', '2u', '56', 'after',\n",
       "        'again', 'agency', 'algorithm', 'approaches', 'approved', 'art',\n",
       "        'beethoven', 'being', 'belief', 'bell', 'best', 'big', 'bit',\n",
       "        'bothered', 'brains', 'cards', 'cc', 'chip', 'clarinet',\n",
       "        'classified', 'cloner', 'code', 'companies', 'could', 'custom',\n",
       "        'cyberspace', 'denning', 'did', 'does', 'easy', 'eff', 'employer',\n",
       "        'encapsulated', 'encrypt', 'encryption', 'encrypts', 'escrow',\n",
       "        'example', 'exchange', 'exploitative', 'export', 'fair', 'fairly',\n",
       "        'force', 'forwarding', 'function', 'give', 'going', 'government',\n",
       "        'handguns', 'harmoniously', 'him', 'honest', 'house', 'independt',\n",
       "        'intelligence', 'jebright', 'kelsey', 'last', 'let', 'made',\n",
       "        'mail', 'maker', 'mode', 'mr', 'much', 'nasty', 'network',\n",
       "        'noticed', 'ny', 'old', 'omissions', 'patents', 'people', 'pgp',\n",
       "        'phone', 'pin', 'plot', 'pmetzger', 'point', 'present', 'private',\n",
       "        'probably', 'protected', 'protocol', 'question', 'reasons',\n",
       "        'reject', 'released', 'reserve', 'role', 'scheme', 'secure', 'see',\n",
       "        'serious', 'servers', 'simply', 'since', 'soft', 'someone',\n",
       "        'speed', 'spot', 'starting', 'state', 'stature', 'successfully',\n",
       "        'surprising', 'system', 'taken', 'tests', 'them', 'theory',\n",
       "        'through', 'time', 'trusted', 'try', 'unable', 'under', 'us',\n",
       "        'used', 'using', 'via', 'video', 'wants', 'well', 'whether',\n",
       "        'white', 'win', 'won', 'work', 'working', 'works', 'world',\n",
       "        'written', 'years'], dtype='<U80'),\n",
       " array(['100', '1993apr21', '1993apr4', '20755', '45', 'act', 'addition',\n",
       "        'alternatives', 'always', 'around', 'ask', 'authority',\n",
       "        'automatically', 'because', 'been', 'brea', 'conscious', 'context',\n",
       "        'control', 'copy', 'custom', 'desy', 'difficulty', 'digex',\n",
       "        'digitial', 'directions', 'disinformation', 'distribution',\n",
       "        'document', 'does', 'earlier', 'electrical', 'encryption', 'even',\n",
       "        'export', 'find', 'first', 'flaming', 'found', 'further',\n",
       "        'generated', 'gmt', 'hard', 'he', 'hesse', 'house', 'human',\n",
       "        'idea', 'imagine', 'incorporating', 'input', 'integers',\n",
       "        'intercon', 'johnl', 'keeping', 'key', 'kind', 'koelln', 'law',\n",
       "        'liability', 'll', 'local', 'long', 'main', 'marc', 'megabytes',\n",
       "        'might', 'ms', 'mvanheyn', 'netcom', 'next', 'nist', 'notes',\n",
       "        'own', 'parts', 'people', 'point', 'possession', 'possible',\n",
       "        'potential', 'privacy', 'processes', 'program', 'protect',\n",
       "        'randomly', 'refrained', 'relatively', 'required', 'reserve',\n",
       "        'robin', 'routers', 'say', 'secret', 'sector', 'secure', 'seems',\n",
       "        'senator', 'sfu', 'shall', 'share', 'sheet', 'shortest', 'someone',\n",
       "        'something', 'sounds', 'spent', 'start', 'std', 'strength',\n",
       "        'strips', 'sure', 'systems', 'tdi', 'technology', 'their', 'them',\n",
       "        'though', 'toxicwaste', 'trials', 'ucla', 'uky', 'under',\n",
       "        'unfortunately', 'us', 'use', 'users', 'vince', 'walker', 'ways',\n",
       "        'worse', 'york', 'yours'], dtype='<U80'),\n",
       " array(['10', '12650', '22', '26', '27', '42', '49', '70', '77', '86',\n",
       "        'act', 'adminstrator', 'agree', 'also', 'always', 'ample',\n",
       "        'anchor', 'anderson', 'anyone', 'aol', 'apr18', 'arcane', 'aware',\n",
       "        'away', 'bear', 'because', 'black', 'brute', 'canada', 'carefully',\n",
       "        'center', 'certainly', 'check', 'choosing', 'citizens', 'clients',\n",
       "        'colnet', 'commercial', 'completely', 'convenience', 'cs', 'david',\n",
       "        'descriptions', 'design', 'distributed', 'drug', 'each', 'encrypt',\n",
       "        'encryption', 'end', 'escrow', 'established', 'etc', 'everyone',\n",
       "        'experiments', 'exploited', 'f7', 'fairbanks', 'fbi', 'files',\n",
       "        'first', 'flat', 'force', 'function', 'ga', 'general', 'go',\n",
       "        'good', 'got', 'group', 'guard', 'guess', 'himself', 'iastate',\n",
       "        'icf', 'inc', 'indeed', 'information', 'interested',\n",
       "        'investigation', 'kadie', 'keep', 'keys', 'koelln', 'laws', 'less',\n",
       "        'lifetime', 'll', 'machines', 'methods', 'mg', 'mirrors',\n",
       "        'mission', 'modem', 'mr', 'mrr', 'much', 'must', 'netcom',\n",
       "        'notation', 'now', 'number', 'ocs', 'often', 'old', 'oswald',\n",
       "        'output', 'particular', 'performance', 'possible', 'preferably',\n",
       "        'prison', 'programming', 'publication', 'random', 'real',\n",
       "        'receiving', 'recent', 'remember', 'reply', 'research', 'rights',\n",
       "        'room', 'rueppel', 'rwing', 'same', 'scrambled', 'scrutable',\n",
       "        'seconds', 'server', 'services', 'session', 'side', 'sign',\n",
       "        'signature', 'since', 'sore', 'source', 'spit', 'step', 'such',\n",
       "        'sure', 'take', 'tex', 'text', 'thai', 'than', 'them', 'thing',\n",
       "        'time', 'too', 'tools', 'trend', 'trust', 'upgrading', 'use',\n",
       "        'useful', 'using', 'value', 'very', 'want', 'whole', 'why',\n",
       "        'worried', 'worth', 'years'], dtype='<U80')]"
      ]
     },
     "execution_count": 47,
     "metadata": {},
     "output_type": "execute_result"
    }
   ],
   "source": [
    "# Perform inverse transform to test quality of fit\n",
    "count_vectorizer.inverse_transform(class_sample)"
   ]
  },
  {
   "cell_type": "code",
   "execution_count": null,
   "metadata": {},
   "outputs": [],
   "source": []
  }
 ],
 "metadata": {
  "kernelspec": {
   "display_name": "Python 3",
   "language": "python",
   "name": "python3"
  },
  "language_info": {
   "codemirror_mode": {
    "name": "ipython",
    "version": 3
   },
   "file_extension": ".py",
   "mimetype": "text/x-python",
   "name": "python",
   "nbconvert_exporter": "python",
   "pygments_lexer": "ipython3",
   "version": "3.8.3"
  }
 },
 "nbformat": 4,
 "nbformat_minor": 4
}
