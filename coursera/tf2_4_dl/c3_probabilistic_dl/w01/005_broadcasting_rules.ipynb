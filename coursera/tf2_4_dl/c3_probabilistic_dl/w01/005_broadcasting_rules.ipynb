{
 "cells": [
  {
   "cell_type": "markdown",
   "metadata": {
    "id": "4AsV5AyeB0lZ"
   },
   "source": [
    "# Broadcasting rules"
   ]
  },
  {
   "cell_type": "markdown",
   "metadata": {
    "id": "Wc-AIXTdB0la"
   },
   "source": [
    "This reading will introduce you to numpy's broadcasting rules and show how you can use broadcasting when specifying batches of distributions in TensorFlow, as well as with the `prob` and `log_prob` methods.\n",
    "\n",
    "Broadcasting will also be discussed and demonstrated in the following videos."
   ]
  },
  {
   "cell_type": "code",
   "execution_count": 1,
   "metadata": {
    "execution": {
     "iopub.execute_input": "2021-03-15T07:27:00.542282Z",
     "iopub.status.busy": "2021-03-15T07:27:00.542034Z",
     "iopub.status.idle": "2021-03-15T07:27:05.714755Z",
     "shell.execute_reply": "2021-03-15T07:27:05.713918Z",
     "shell.execute_reply.started": "2021-03-15T07:27:00.542256Z"
    },
    "id": "xw4u5VRQB0lb"
   },
   "outputs": [
    {
     "name": "stdout",
     "output_type": "stream",
     "text": [
      "TF version: 2.4.0\n",
      "TFP version: 0.12.1\n"
     ]
    }
   ],
   "source": [
    "import tensorflow as tf\n",
    "import tensorflow_probability as tfp\n",
    "tfd = tfp.distributions\n",
    "\n",
    "print(\"TF version:\", tf.__version__)\n",
    "print(\"TFP version:\", tfp.__version__)"
   ]
  },
  {
   "cell_type": "code",
   "execution_count": 2,
   "metadata": {
    "execution": {
     "iopub.execute_input": "2021-03-15T07:27:05.716382Z",
     "iopub.status.busy": "2021-03-15T07:27:05.716140Z",
     "iopub.status.idle": "2021-03-15T07:27:05.719215Z",
     "shell.execute_reply": "2021-03-15T07:27:05.718513Z",
     "shell.execute_reply.started": "2021-03-15T07:27:05.716360Z"
    },
    "id": "EBXqg0RuB0ld"
   },
   "outputs": [],
   "source": [
    "import numpy as np"
   ]
  },
  {
   "cell_type": "markdown",
   "metadata": {
    "id": "fXlnBPY0B0lg"
   },
   "source": [
    "## Operations on arrays of different sizes in numpy"
   ]
  },
  {
   "cell_type": "markdown",
   "metadata": {
    "id": "Ilprv2iaB0lg"
   },
   "source": [
    "Numpy operations can be applied to arrays that are not of the same shape, but only if the shapes satisfy certain conditions.\n",
    "\n",
    "As a demonstration of this, let us add together two arrays of different shapes:"
   ]
  },
  {
   "cell_type": "code",
   "execution_count": 3,
   "metadata": {
    "execution": {
     "iopub.execute_input": "2021-03-15T07:27:05.721054Z",
     "iopub.status.busy": "2021-03-15T07:27:05.720844Z",
     "iopub.status.idle": "2021-03-15T07:27:05.731084Z",
     "shell.execute_reply": "2021-03-15T07:27:05.730366Z",
     "shell.execute_reply.started": "2021-03-15T07:27:05.721034Z"
    },
    "id": "Rq5NwCWJB0lh"
   },
   "outputs": [
    {
     "data": {
      "text/plain": [
       "array([[1., 2., 3.],\n",
       "       [2., 3., 4.],\n",
       "       [3., 4., 5.],\n",
       "       [4., 5., 6.]])"
      ]
     },
     "execution_count": 3,
     "metadata": {},
     "output_type": "execute_result"
    }
   ],
   "source": [
    "# Add two arrays with different shapes\n",
    "\n",
    "a = np.array([[1.],\n",
    "              [2.],\n",
    "              [3.],\n",
    "              [4.]])  # shape (4, 1)\n",
    "\n",
    "b = np.array([0., 1., 2.])  # shape (3,) \n",
    "\n",
    "a + b"
   ]
  },
  {
   "cell_type": "markdown",
   "metadata": {
    "id": "qmqhmOBUB0lj"
   },
   "source": [
    "This is the addition\n",
    "\n",
    "    [ [1.],    +  [0., 1., 2.]  \n",
    "      [2.],  \n",
    "      [3.],  \n",
    "      [4.] ]\n",
    "\n",
    "To execute it, numpy:\n",
    "1. Aligned the shapes of `a` and `b` on the last axis and prepended 1s to the shape with fewer axes:\n",
    "        a: 4 x 1     --->    a: 4 x 1\n",
    "        b:     3     --->    b: 1 x 3\n",
    "        \n",
    "\n",
    "2. Checked that the sizes of the axes matched or were equal to 1:\n",
    "        a: 4 x 1  \n",
    "        b: 1 x 3\n",
    "`a` and `b` satisfied this criterion. \n",
    "\n",
    "\n",
    "3. Stretched both arrays on their 1-valued axes so that their shapes matched, then added them together.  \n",
    "`a` was replicated 3 times in the second axis, while `b` was replicated 4 times in the first axis.\n",
    "\n",
    "This meant that the addition in the final step was\n",
    "\n",
    "    [ [1., 1., 1.],    +  [ [0., 1., 2.],  \n",
    "      [2., 2., 2.],         [0., 1., 2.],  \n",
    "      [3., 3., 3.],         [0., 1., 2.],  \n",
    "      [4., 4., 4.] ]        [0., 1., 2.] ]\n",
    "      \n",
    "Addition was then carried out element-by-element, as you can verify by referring back to the output of the code cell above.  \n",
    "This resulted in an output with shape 4 x 3.\n",
    "\n",
    "\n",
    "## Numpy's broadcasting rule\n",
    "\n",
    "Broadcasting rules describe how values should be transmitted when the inputs to an operation do not match.  \n",
    "In numpy, the broadcasting rule is very simple:\n",
    "> Prepend 1s to the smaller shape,   \n",
    "check that the axes of both arrays have sizes that are equal or 1,  \n",
    "then stretch the arrays in their size-1 axes.\n",
    "\n",
    "A crucial aspect of this rule is that it does not require the input arrays have the same number of axes.  \n",
    "Another consequence of it is that a broadcasting output will have the largest size of its inputs in each axis.  \n",
    "Take the following multiplication as an example:\n",
    "\n",
    "        a: 3 x 7 x 1  \n",
    "        b:     1 x 5  \n",
    "    a * b: 3 x 7 x 5\n",
    "\n",
    "You can see that the output shape is the maximum of the sizes in each axis.\n",
    "\n",
    "Numpy's broadcasting rule also does not require that one of the arrays has to be bigger in all axes.  \n",
    "This is seen in the following example, where `a` is smaller than `b` in its third axis but is bigger in its second axis."
   ]
  },
  {
   "cell_type": "code",
   "execution_count": 4,
   "metadata": {
    "execution": {
     "iopub.execute_input": "2021-03-15T07:27:05.733182Z",
     "iopub.status.busy": "2021-03-15T07:27:05.732956Z",
     "iopub.status.idle": "2021-03-15T07:27:05.739545Z",
     "shell.execute_reply": "2021-03-15T07:27:05.738673Z",
     "shell.execute_reply.started": "2021-03-15T07:27:05.733148Z"
    },
    "id": "Ei8CqFoPB0lk"
   },
   "outputs": [
    {
     "data": {
      "text/plain": [
       "array([[[2.e-02, 2.e-02],\n",
       "        [2.e-01, 2.e-01]],\n",
       "\n",
       "       [[3.e+00, 3.e+00],\n",
       "        [3.e+01, 3.e+01]]])"
      ]
     },
     "execution_count": 4,
     "metadata": {},
     "output_type": "execute_result"
    }
   ],
   "source": [
    "# Multiply two arrays with different shapes\n",
    "\n",
    "a = np.array([[[0.01], [0.1]],\n",
    "              [[1.00], [10.]]])  # shape (2, 2, 1)\n",
    "b = np.array([[[2., 2.]],\n",
    "              [[3., 3.]]])       # shape (2, 1, 2)\n",
    "\n",
    "a * b # shape (2, 2, 2)"
   ]
  },
  {
   "cell_type": "markdown",
   "metadata": {
    "id": "7-mRho1QB0lm"
   },
   "source": [
    "Broadcasting behaviour also points to an efficient way to compute an outer product in numpy:"
   ]
  },
  {
   "cell_type": "code",
   "execution_count": 5,
   "metadata": {
    "execution": {
     "iopub.execute_input": "2021-03-15T07:27:05.740875Z",
     "iopub.status.busy": "2021-03-15T07:27:05.740593Z",
     "iopub.status.idle": "2021-03-15T07:27:05.747418Z",
     "shell.execute_reply": "2021-03-15T07:27:05.746720Z",
     "shell.execute_reply.started": "2021-03-15T07:27:05.740850Z"
    },
    "id": "FRgof7OoB0ln"
   },
   "outputs": [
    {
     "name": "stdout",
     "output_type": "stream",
     "text": [
      "Shape of a: (3,), b: (4,), a_x_b: (3, 4)\n"
     ]
    },
    {
     "data": {
      "text/plain": [
       "array([[-0., -1., -2., -3.],\n",
       "       [ 0.,  0.,  0.,  0.],\n",
       "       [ 0.,  1.,  2.,  3.]])"
      ]
     },
     "execution_count": 5,
     "metadata": {},
     "output_type": "execute_result"
    }
   ],
   "source": [
    "# Use broadcasting to compute an outer product\n",
    "\n",
    "a = np.array([-1., 0., 1.])\n",
    "b = np.array([0., 1., 2., 3.])\n",
    "\n",
    "\n",
    "\n",
    "a_x_b = a[:, np.newaxis] * b  # outer product ab^T, where a and b are column vectors\n",
    "\n",
    "print(f'Shape of a: {a.shape}, b: {b.shape}, a_x_b: {a_x_b.shape}')\n",
    "a_x_b"
   ]
  },
  {
   "cell_type": "code",
   "execution_count": 6,
   "metadata": {
    "execution": {
     "iopub.execute_input": "2021-03-15T07:27:05.748764Z",
     "iopub.status.busy": "2021-03-15T07:27:05.748379Z",
     "iopub.status.idle": "2021-03-15T07:27:05.752126Z",
     "shell.execute_reply": "2021-03-15T07:27:05.751319Z",
     "shell.execute_reply.started": "2021-03-15T07:27:05.748722Z"
    }
   },
   "outputs": [],
   "source": [
    "np.newaxis"
   ]
  },
  {
   "cell_type": "markdown",
   "metadata": {
    "id": "cfDPtyr8B0lp"
   },
   "source": [
    "The idea of numpy stretching the arrays in their size-1 axes is useful and is functionally correct. But this is not what numpy literally does behind the scenes, since that would be an inefficient use of memory. Instead, numpy carries out the operation by looping over singleton (size-1) dimensions.\n",
    "\n",
    "To give you some practise with broadcasting, try predicting the output shapes for the following operations:"
   ]
  },
  {
   "cell_type": "code",
   "execution_count": 7,
   "metadata": {
    "execution": {
     "iopub.execute_input": "2021-03-15T07:27:05.753571Z",
     "iopub.status.busy": "2021-03-15T07:27:05.753301Z",
     "iopub.status.idle": "2021-03-15T07:27:05.758783Z",
     "shell.execute_reply": "2021-03-15T07:27:05.757585Z",
     "shell.execute_reply.started": "2021-03-15T07:27:05.753546Z"
    },
    "id": "KNXuZL19B0lp"
   },
   "outputs": [],
   "source": [
    "# Define three arrays with different shapes\n",
    "\n",
    "a = [[1.], [2.], [3.]]\n",
    "b = np.zeros(shape=[10, 1, 1])\n",
    "c = np.ones(shape=[4])"
   ]
  },
  {
   "cell_type": "code",
   "execution_count": 8,
   "metadata": {
    "execution": {
     "iopub.execute_input": "2021-03-15T07:27:05.762596Z",
     "iopub.status.busy": "2021-03-15T07:27:05.762279Z",
     "iopub.status.idle": "2021-03-15T07:27:05.768120Z",
     "shell.execute_reply": "2021-03-15T07:27:05.767483Z",
     "shell.execute_reply.started": "2021-03-15T07:27:05.762552Z"
    },
    "id": "kT4fGb-kB0ls"
   },
   "outputs": [
    {
     "name": "stdout",
     "output_type": "stream",
     "text": [
      "Shape of a: (3, 1), b: (10, 1, 1), c: (4,)\n"
     ]
    },
    {
     "data": {
      "text/plain": [
       "(10, 3, 1)"
      ]
     },
     "execution_count": 8,
     "metadata": {},
     "output_type": "execute_result"
    }
   ],
   "source": [
    "# Predict the shape before executing this cell\n",
    "print(f'Shape of a: {np.array(a).shape}, b: {b.shape}, c: {c.shape}')\n",
    "\n",
    "(a + b).shape"
   ]
  },
  {
   "cell_type": "code",
   "execution_count": 9,
   "metadata": {
    "execution": {
     "iopub.execute_input": "2021-03-15T07:27:09.410690Z",
     "iopub.status.busy": "2021-03-15T07:27:09.410418Z",
     "iopub.status.idle": "2021-03-15T07:27:09.415451Z",
     "shell.execute_reply": "2021-03-15T07:27:09.414834Z",
     "shell.execute_reply.started": "2021-03-15T07:27:09.410660Z"
    },
    "id": "ALiWS10dB0lv"
   },
   "outputs": [
    {
     "data": {
      "text/plain": [
       "(3, 4)"
      ]
     },
     "execution_count": 9,
     "metadata": {},
     "output_type": "execute_result"
    }
   ],
   "source": [
    "# Predict the shape before executing this cell\n",
    "\n",
    "(a*c).shape"
   ]
  },
  {
   "cell_type": "code",
   "execution_count": 10,
   "metadata": {
    "execution": {
     "iopub.execute_input": "2021-03-15T07:27:09.737989Z",
     "iopub.status.busy": "2021-03-15T07:27:09.737747Z",
     "iopub.status.idle": "2021-03-15T07:27:09.742831Z",
     "shell.execute_reply": "2021-03-15T07:27:09.741871Z",
     "shell.execute_reply.started": "2021-03-15T07:27:09.737964Z"
    },
    "id": "V-Ij6P5yB0lx"
   },
   "outputs": [
    {
     "data": {
      "text/plain": [
       "(10, 3, 4)"
      ]
     },
     "execution_count": 10,
     "metadata": {},
     "output_type": "execute_result"
    }
   ],
   "source": [
    "# Predict the shape before executing this cell\n",
    "\n",
    "(a*b + c).shape"
   ]
  },
  {
   "cell_type": "markdown",
   "metadata": {
    "id": "s8LB6VMYB0lz"
   },
   "source": [
    "## Broadcasting for univariate TensorFlow Distributions"
   ]
  },
  {
   "cell_type": "markdown",
   "metadata": {
    "id": "1-kOD9oiB0l0"
   },
   "source": [
    "The broadcasting rule for TensorFlow is the same as that for numpy. For example, TensorFlow also allows you to specify the parameters of Distribution objects using broadcasting. \n",
    "\n",
    "What is meant by this can be understood through an example with the univariate normal distribution. Say that we wish to specify a parameter grid for six Gaussians. The parameter combinations to be used, `(loc, scale)`, are:  \n",
    "\n",
    "    (0, 1)  \n",
    "    (0, 10)  \n",
    "    (0, 100)  \n",
    "    (1, 1)  \n",
    "    (1, 10)  \n",
    "    (1, 100)\n",
    "    \n",
    "A laborious way of doing this is to explicitly pass each parameter to `tfd.Normal`:"
   ]
  },
  {
   "cell_type": "code",
   "execution_count": 11,
   "metadata": {
    "execution": {
     "iopub.execute_input": "2021-03-15T07:31:10.244887Z",
     "iopub.status.busy": "2021-03-15T07:31:10.244638Z",
     "iopub.status.idle": "2021-03-15T07:31:10.251703Z",
     "shell.execute_reply": "2021-03-15T07:31:10.250749Z",
     "shell.execute_reply.started": "2021-03-15T07:31:10.244860Z"
    },
    "id": "V6cKtszcB0l0"
   },
   "outputs": [],
   "source": [
    "# Define a batch of Normal distributions without broadcasting\n",
    "\n",
    "batch_of_normals = tfd.Normal(loc=[0., 0., 0., 1., 1., 1.], scale=[1., 10., 100., 1., 10., 100.])"
   ]
  },
  {
   "cell_type": "code",
   "execution_count": 12,
   "metadata": {
    "execution": {
     "iopub.execute_input": "2021-03-15T07:31:10.716470Z",
     "iopub.status.busy": "2021-03-15T07:31:10.716214Z",
     "iopub.status.idle": "2021-03-15T07:31:10.721527Z",
     "shell.execute_reply": "2021-03-15T07:31:10.720703Z",
     "shell.execute_reply.started": "2021-03-15T07:31:10.716444Z"
    },
    "id": "Rs52fx9KB0l3"
   },
   "outputs": [
    {
     "data": {
      "text/plain": [
       "<tfp.distributions.Normal 'Normal' batch_shape=[6] event_shape=[] dtype=float32>"
      ]
     },
     "execution_count": 12,
     "metadata": {},
     "output_type": "execute_result"
    }
   ],
   "source": [
    "# Print the distribution and notice the batch and event shapes\n",
    "\n",
    "batch_of_normals"
   ]
  },
  {
   "cell_type": "code",
   "execution_count": 13,
   "metadata": {
    "execution": {
     "iopub.execute_input": "2021-03-15T07:31:19.997794Z",
     "iopub.status.busy": "2021-03-15T07:31:19.997519Z",
     "iopub.status.idle": "2021-03-15T07:31:20.002769Z",
     "shell.execute_reply": "2021-03-15T07:31:20.002057Z",
     "shell.execute_reply.started": "2021-03-15T07:31:19.997765Z"
    },
    "id": "c8-YMamrB0l5"
   },
   "outputs": [
    {
     "data": {
      "text/plain": [
       "<tf.Tensor: shape=(6,), dtype=float32, numpy=array([0., 0., 0., 1., 1., 1.], dtype=float32)>"
      ]
     },
     "execution_count": 13,
     "metadata": {},
     "output_type": "execute_result"
    }
   ],
   "source": [
    "# Check the parameter values for loc\n",
    "\n",
    "batch_of_normals.loc"
   ]
  },
  {
   "cell_type": "code",
   "execution_count": 14,
   "metadata": {
    "execution": {
     "iopub.execute_input": "2021-03-15T07:31:25.597686Z",
     "iopub.status.busy": "2021-03-15T07:31:25.597417Z",
     "iopub.status.idle": "2021-03-15T07:31:25.602941Z",
     "shell.execute_reply": "2021-03-15T07:31:25.602186Z",
     "shell.execute_reply.started": "2021-03-15T07:31:25.597658Z"
    },
    "id": "B1QiP1-RB0l7"
   },
   "outputs": [
    {
     "data": {
      "text/plain": [
       "<tf.Tensor: shape=(6,), dtype=float32, numpy=array([  1.,  10., 100.,   1.,  10., 100.], dtype=float32)>"
      ]
     },
     "execution_count": 14,
     "metadata": {},
     "output_type": "execute_result"
    }
   ],
   "source": [
    "# Check the parameter values for scale\n",
    "\n",
    "batch_of_normals.scale"
   ]
  },
  {
   "cell_type": "markdown",
   "metadata": {
    "id": "qRoVcY6zB0l9"
   },
   "source": [
    "A more succinct way to create a batch of distributions for this parameter grid is to use broadcasting.  \n",
    "Consider what would happen if we were to broadcast these arrays according the rule discussed earlier: \n",
    "    \n",
    "    loc = [ [0.],\n",
    "            [1.] ]\n",
    "    scale = [1., 10., 100.]\n",
    "    \n",
    "The shapes would be stretched according to\n",
    "\n",
    "    loc:   2 x 1 ---> 2 x 3\n",
    "    scale: 1 x 3 ---> 2 x 3\n",
    "    \n",
    "resulting in\n",
    "\n",
    "    loc = [ [0., 0., 0.],\n",
    "            [1., 1., 1.] ]\n",
    "    scale = [ [1., 10., 100.],\n",
    "              [1., 10., 100.] ]\n",
    "              \n",
    "which are compatible with the `loc` and `scale` arguments of `tfd.Normal`.  \n",
    "Sure enough, this is precisely what TensorFlow does:"
   ]
  },
  {
   "cell_type": "code",
   "execution_count": 15,
   "metadata": {
    "execution": {
     "iopub.execute_input": "2021-03-15T07:36:02.097434Z",
     "iopub.status.busy": "2021-03-15T07:36:02.097192Z",
     "iopub.status.idle": "2021-03-15T07:36:02.101394Z",
     "shell.execute_reply": "2021-03-15T07:36:02.100808Z",
     "shell.execute_reply.started": "2021-03-15T07:36:02.097408Z"
    },
    "id": "OtNwpd6sB0l-"
   },
   "outputs": [],
   "source": [
    "# Define a batch of Normal distributions with broadcasting\n",
    "\n",
    "loc = [[0.],\n",
    "       [1.]]\n",
    "scale = [1., 10., 100.]\n",
    "\n",
    "another_batch_of_normals = tfd.Normal(loc=loc, scale=scale)"
   ]
  },
  {
   "cell_type": "code",
   "execution_count": 16,
   "metadata": {
    "execution": {
     "iopub.execute_input": "2021-03-15T07:36:03.271614Z",
     "iopub.status.busy": "2021-03-15T07:36:03.271345Z",
     "iopub.status.idle": "2021-03-15T07:36:03.275974Z",
     "shell.execute_reply": "2021-03-15T07:36:03.275376Z",
     "shell.execute_reply.started": "2021-03-15T07:36:03.271586Z"
    },
    "id": "BLMOwp6OB0mA"
   },
   "outputs": [
    {
     "data": {
      "text/plain": [
       "<tfp.distributions.Normal 'Normal' batch_shape=[2, 3] event_shape=[] dtype=float32>"
      ]
     },
     "execution_count": 16,
     "metadata": {},
     "output_type": "execute_result"
    }
   ],
   "source": [
    "# Print the distribution and notice the batch and event shapes\n",
    "\n",
    "another_batch_of_normals"
   ]
  },
  {
   "cell_type": "code",
   "execution_count": 17,
   "metadata": {
    "execution": {
     "iopub.execute_input": "2021-03-15T07:36:11.775978Z",
     "iopub.status.busy": "2021-03-15T07:36:11.775704Z",
     "iopub.status.idle": "2021-03-15T07:36:11.780840Z",
     "shell.execute_reply": "2021-03-15T07:36:11.780134Z",
     "shell.execute_reply.started": "2021-03-15T07:36:11.775949Z"
    },
    "id": "_yTSVcyoB0mD"
   },
   "outputs": [
    {
     "data": {
      "text/plain": [
       "<tf.Tensor: shape=(2, 1), dtype=float32, numpy=\n",
       "array([[0.],\n",
       "       [1.]], dtype=float32)>"
      ]
     },
     "execution_count": 17,
     "metadata": {},
     "output_type": "execute_result"
    }
   ],
   "source": [
    "# The stored loc parameter values are what you pass in, not what is used after broadcasting\n",
    "\n",
    "another_batch_of_normals.loc"
   ]
  },
  {
   "cell_type": "code",
   "execution_count": 18,
   "metadata": {
    "execution": {
     "iopub.execute_input": "2021-03-15T07:36:13.815390Z",
     "iopub.status.busy": "2021-03-15T07:36:13.815119Z",
     "iopub.status.idle": "2021-03-15T07:36:13.820355Z",
     "shell.execute_reply": "2021-03-15T07:36:13.819632Z",
     "shell.execute_reply.started": "2021-03-15T07:36:13.815362Z"
    },
    "id": "j0Nde2vWB0mG"
   },
   "outputs": [
    {
     "data": {
      "text/plain": [
       "<tf.Tensor: shape=(3,), dtype=float32, numpy=array([  1.,  10., 100.], dtype=float32)>"
      ]
     },
     "execution_count": 18,
     "metadata": {},
     "output_type": "execute_result"
    }
   ],
   "source": [
    "# The stored scale parameter values are what you pass in, not what is used after broadcasting\n",
    "\n",
    "another_batch_of_normals.scale"
   ]
  },
  {
   "cell_type": "markdown",
   "metadata": {
    "id": "N5fs-qA0B0mI"
   },
   "source": [
    "In summary, TensorFlow broadcasts parameter arrays: it stretches them according to the broadcasting rule, then creates a distribution on an element-by-element basis."
   ]
  },
  {
   "cell_type": "markdown",
   "metadata": {
    "id": "twMTIKqHB0mI"
   },
   "source": [
    "#### Broadcasting with `prob` and `log_prob` methods"
   ]
  },
  {
   "cell_type": "markdown",
   "metadata": {
    "id": "yBgjn_KFB0mJ"
   },
   "source": [
    "When using `prob` and  `log_prob` with broadcasting, we follow the same principles as before. Let's make a new batch of normals as before but with means which are centered at different locations to help distinguish the results we get."
   ]
  },
  {
   "cell_type": "code",
   "execution_count": 19,
   "metadata": {
    "execution": {
     "iopub.execute_input": "2021-03-15T07:36:34.991834Z",
     "iopub.status.busy": "2021-03-15T07:36:34.991557Z",
     "iopub.status.idle": "2021-03-15T07:36:34.998031Z",
     "shell.execute_reply": "2021-03-15T07:36:34.997328Z",
     "shell.execute_reply.started": "2021-03-15T07:36:34.991806Z"
    },
    "id": "jzxIS-r-B0mJ"
   },
   "outputs": [
    {
     "data": {
      "text/plain": [
       "<tfp.distributions.Normal 'Normal' batch_shape=[2, 3] event_shape=[] dtype=float32>"
      ]
     },
     "execution_count": 19,
     "metadata": {},
     "output_type": "execute_result"
    }
   ],
   "source": [
    "# Define a batch of Normal distributions with broadcasting\n",
    "\n",
    "loc = [[0.],\n",
    "       [10.]]\n",
    "scale = [1., 1., 1.]\n",
    "\n",
    "another_batch_of_normals = tfd.Normal(loc=loc, scale=scale)\n",
    "another_batch_of_normals"
   ]
  },
  {
   "cell_type": "markdown",
   "metadata": {
    "id": "p6FY_x8cB0mL"
   },
   "source": [
    "We can feed in samples of any shape as long as it can be broadcast agasint our batch shape for this example. "
   ]
  },
  {
   "cell_type": "code",
   "execution_count": 20,
   "metadata": {
    "execution": {
     "iopub.execute_input": "2021-03-15T07:36:50.878631Z",
     "iopub.status.busy": "2021-03-15T07:36:50.878412Z",
     "iopub.status.idle": "2021-03-15T07:36:50.886190Z",
     "shell.execute_reply": "2021-03-15T07:36:50.885320Z",
     "shell.execute_reply.started": "2021-03-15T07:36:50.878609Z"
    },
    "id": "tgDX0R72B0mL"
   },
   "outputs": [
    {
     "data": {
      "text/plain": [
       "<tf.Tensor: shape=(2, 3), dtype=float32, numpy=\n",
       "array([[3.9744771e-01, 3.9744771e-01, 3.9744771e-01],\n",
       "       [2.4053673e-19, 2.4053673e-19, 2.4053673e-19]], dtype=float32)>"
      ]
     },
     "execution_count": 20,
     "metadata": {},
     "output_type": "execute_result"
    }
   ],
   "source": [
    "# Use broadcasting along the second axis with the prob method\n",
    "\n",
    "sample = tf.random.uniform((2,1))\n",
    "another_batch_of_normals.prob(sample)"
   ]
  },
  {
   "cell_type": "markdown",
   "metadata": {
    "id": "4uYymGXhB0mN"
   },
   "source": [
    "Or boradcasting along the first axis instead:"
   ]
  },
  {
   "cell_type": "code",
   "execution_count": 21,
   "metadata": {
    "execution": {
     "iopub.execute_input": "2021-03-15T07:36:58.639417Z",
     "iopub.status.busy": "2021-03-15T07:36:58.639142Z",
     "iopub.status.idle": "2021-03-15T07:36:58.645854Z",
     "shell.execute_reply": "2021-03-15T07:36:58.645087Z",
     "shell.execute_reply.started": "2021-03-15T07:36:58.639386Z"
    },
    "id": "JIIh14u0B0mO"
   },
   "outputs": [
    {
     "data": {
      "text/plain": [
       "<tf.Tensor: shape=(2, 3), dtype=float32, numpy=\n",
       "array([[2.8978544e-01, 3.7462324e-01, 3.1030229e-01],\n",
       "       [1.6593940e-19, 2.5072018e-21, 7.1742512e-20]], dtype=float32)>"
      ]
     },
     "execution_count": 21,
     "metadata": {},
     "output_type": "execute_result"
    }
   ],
   "source": [
    "# Use broadcasting along the first axis with the prob method\n",
    "\n",
    "sample = tf.random.uniform((1,3))\n",
    "another_batch_of_normals.prob(sample)"
   ]
  },
  {
   "cell_type": "markdown",
   "metadata": {
    "id": "yjIvboCxB0mQ"
   },
   "source": [
    "Or even both axes:"
   ]
  },
  {
   "cell_type": "code",
   "execution_count": 22,
   "metadata": {
    "execution": {
     "iopub.execute_input": "2021-03-15T07:37:07.095144Z",
     "iopub.status.busy": "2021-03-15T07:37:07.094866Z",
     "iopub.status.idle": "2021-03-15T07:37:07.101919Z",
     "shell.execute_reply": "2021-03-15T07:37:07.101172Z",
     "shell.execute_reply.started": "2021-03-15T07:37:07.095113Z"
    },
    "id": "H4-SQnv_B0mQ"
   },
   "outputs": [
    {
     "data": {
      "text/plain": [
       "<tf.Tensor: shape=(2, 3), dtype=float32, numpy=\n",
       "array([[3.9112225e-01, 3.9112225e-01, 3.9112225e-01],\n",
       "       [5.5175804e-22, 5.5175804e-22, 5.5175804e-22]], dtype=float32)>"
      ]
     },
     "execution_count": 22,
     "metadata": {},
     "output_type": "execute_result"
    }
   ],
   "source": [
    "# Use broadcasting along both axes with the prob method\n",
    "\n",
    "sample = tf.random.uniform((1,1))\n",
    "another_batch_of_normals.prob(sample)"
   ]
  },
  {
   "cell_type": "markdown",
   "metadata": {
    "id": "1a6xQjywB0mT"
   },
   "source": [
    "`log_prob` works in the exact same way with broadcasting. We can replace `prob` with `log_prob` in any of the previous examples:"
   ]
  },
  {
   "cell_type": "code",
   "execution_count": 23,
   "metadata": {
    "execution": {
     "iopub.execute_input": "2021-03-15T07:39:27.397790Z",
     "iopub.status.busy": "2021-03-15T07:39:27.397507Z",
     "iopub.status.idle": "2021-03-15T07:39:27.404135Z",
     "shell.execute_reply": "2021-03-15T07:39:27.403399Z",
     "shell.execute_reply.started": "2021-03-15T07:39:27.397760Z"
    },
    "id": "OWL5JdA4B0mT"
   },
   "outputs": [
    {
     "data": {
      "text/plain": [
       "<tf.Tensor: shape=(2, 3), dtype=float32, numpy=\n",
       "array([[ -1.1653507 ,  -0.99497247,  -0.9351881 ],\n",
       "       [-44.145203  , -47.09538   , -49.13244   ]], dtype=float32)>"
      ]
     },
     "execution_count": 23,
     "metadata": {},
     "output_type": "execute_result"
    }
   ],
   "source": [
    "# Use broadcasting along the first axis with the log_prob method\n",
    "\n",
    "sample = tf.random.uniform((1,3))\n",
    "another_batch_of_normals.log_prob(sample)"
   ]
  },
  {
   "cell_type": "markdown",
   "metadata": {
    "id": "u2SDMySvB0mW"
   },
   "source": [
    "## Broadcasting for multivariate TensorFlow distributions"
   ]
  },
  {
   "cell_type": "markdown",
   "metadata": {
    "id": "pxvySIX1B0mX"
   },
   "source": [
    "Broadcasting behaviour for multivariate distributions is only a little more sophisticated than it is for univariate distributions.\n",
    "\n",
    "Recall that `MultivariateNormalDiag` has two parameter arguments: `loc` and `scale_diag`. When specifying a single distribution, these arguments are vectors of the same length:"
   ]
  },
  {
   "cell_type": "code",
   "execution_count": 24,
   "metadata": {
    "execution": {
     "iopub.execute_input": "2021-03-15T07:41:54.740116Z",
     "iopub.status.busy": "2021-03-15T07:41:54.739846Z",
     "iopub.status.idle": "2021-03-15T07:41:54.757756Z",
     "shell.execute_reply": "2021-03-15T07:41:54.757058Z",
     "shell.execute_reply.started": "2021-03-15T07:41:54.740087Z"
    },
    "id": "3NpcdNEfB0mX"
   },
   "outputs": [
    {
     "data": {
      "text/plain": [
       "<tfp.distributions.MultivariateNormalDiag 'MultivariateNormalDiag' batch_shape=[] event_shape=[2] dtype=float32>"
      ]
     },
     "execution_count": 24,
     "metadata": {},
     "output_type": "execute_result"
    }
   ],
   "source": [
    "# Define a multivariate Gaussian distribution without broadcasting\n",
    "\n",
    "single_mvt_normal = tfd.MultivariateNormalDiag(loc=[0., 0.], scale_diag=[1., 0.5])\n",
    "single_mvt_normal"
   ]
  },
  {
   "cell_type": "code",
   "execution_count": 25,
   "metadata": {
    "execution": {
     "iopub.execute_input": "2021-03-15T07:41:56.786971Z",
     "iopub.status.busy": "2021-03-15T07:41:56.786720Z",
     "iopub.status.idle": "2021-03-15T07:41:56.792100Z",
     "shell.execute_reply": "2021-03-15T07:41:56.791132Z",
     "shell.execute_reply.started": "2021-03-15T07:41:56.786945Z"
    },
    "id": "0oLHuNnrB0mZ"
   },
   "outputs": [
    {
     "data": {
      "text/plain": [
       "<tf.Tensor: shape=(2,), dtype=float32, numpy=array([0., 0.], dtype=float32)>"
      ]
     },
     "execution_count": 25,
     "metadata": {},
     "output_type": "execute_result"
    }
   ],
   "source": [
    "# Print the loc parameter\n",
    "\n",
    "single_mvt_normal.loc"
   ]
  },
  {
   "cell_type": "code",
   "execution_count": 26,
   "metadata": {
    "execution": {
     "iopub.execute_input": "2021-03-15T07:41:57.595559Z",
     "iopub.status.busy": "2021-03-15T07:41:57.595118Z",
     "iopub.status.idle": "2021-03-15T07:41:57.606946Z",
     "shell.execute_reply": "2021-03-15T07:41:57.606122Z",
     "shell.execute_reply.started": "2021-03-15T07:41:57.595504Z"
    },
    "id": "hSfz6hOjB0mb"
   },
   "outputs": [
    {
     "data": {
      "text/plain": [
       "<tf.Tensor: shape=(2, 2), dtype=float32, numpy=\n",
       "array([[1.  , 0.  ],\n",
       "       [0.  , 0.25]], dtype=float32)>"
      ]
     },
     "execution_count": 26,
     "metadata": {},
     "output_type": "execute_result"
    }
   ],
   "source": [
    "# Print the covariance matrix - the diagonal is scale_diag^2\n",
    "\n",
    "single_mvt_normal.covariance()"
   ]
  },
  {
   "cell_type": "markdown",
   "metadata": {
    "id": "Ym9A5tFJB0md"
   },
   "source": [
    "The size of the final axis of the inputs determines the event shape for each distribution in the batch.  This means that if we pass\n",
    "    \n",
    "    loc = [ [0., 0.],\n",
    "            [1., 1.] ]\n",
    "    scale_diag = [1., 0.5]\n",
    "    \n",
    "such that\n",
    "\n",
    "    loc:        2 x 2\n",
    "    scale_diag: 1 x 2\n",
    "                    ^ final dimension is interpreted as event dimension\n",
    "                ^ other dimensions are interpreted as batch dimensions  \n",
    "then a batch of two bivariate normal distributions will be created."
   ]
  },
  {
   "cell_type": "code",
   "execution_count": 27,
   "metadata": {
    "execution": {
     "iopub.execute_input": "2021-03-15T07:44:59.465987Z",
     "iopub.status.busy": "2021-03-15T07:44:59.465713Z",
     "iopub.status.idle": "2021-03-15T07:44:59.476320Z",
     "shell.execute_reply": "2021-03-15T07:44:59.475109Z",
     "shell.execute_reply.started": "2021-03-15T07:44:59.465958Z"
    },
    "id": "1ayuBOfMB0md"
   },
   "outputs": [],
   "source": [
    "# Define a multivariate Gaussian distribution with broadcasting\n",
    "\n",
    "loc = [ [0., 0.],\n",
    "        [1., 1.] ]\n",
    "scale_diag = [1., 0.5]\n",
    "\n",
    "batch_of_mvt_normals = tfd.MultivariateNormalDiag(loc=loc, scale_diag=scale_diag)"
   ]
  },
  {
   "cell_type": "code",
   "execution_count": 28,
   "metadata": {
    "execution": {
     "iopub.execute_input": "2021-03-15T07:45:03.624523Z",
     "iopub.status.busy": "2021-03-15T07:45:03.624176Z",
     "iopub.status.idle": "2021-03-15T07:45:03.629882Z",
     "shell.execute_reply": "2021-03-15T07:45:03.629059Z",
     "shell.execute_reply.started": "2021-03-15T07:45:03.624484Z"
    },
    "id": "D7RoWZ7uB0mg"
   },
   "outputs": [
    {
     "data": {
      "text/plain": [
       "<tfp.distributions.MultivariateNormalDiag 'MultivariateNormalDiag' batch_shape=[2] event_shape=[2] dtype=float32>"
      ]
     },
     "execution_count": 28,
     "metadata": {},
     "output_type": "execute_result"
    }
   ],
   "source": [
    "# Print the distribution - note the event_shape and batch_shape\n",
    "\n",
    "batch_of_mvt_normals"
   ]
  },
  {
   "cell_type": "code",
   "execution_count": 29,
   "metadata": {
    "execution": {
     "iopub.execute_input": "2021-03-15T07:45:09.664489Z",
     "iopub.status.busy": "2021-03-15T07:45:09.664229Z",
     "iopub.status.idle": "2021-03-15T07:45:09.669077Z",
     "shell.execute_reply": "2021-03-15T07:45:09.668418Z",
     "shell.execute_reply.started": "2021-03-15T07:45:09.664463Z"
    },
    "id": "uLiSBvH8B0mj"
   },
   "outputs": [
    {
     "data": {
      "text/plain": [
       "{'loc': ListWrapper([ListWrapper([0.0, 0.0]), ListWrapper([1.0, 1.0])]),\n",
       " 'scale_diag': ListWrapper([1.0, 0.5]),\n",
       " 'scale_identity_multiplier': None,\n",
       " 'validate_args': False,\n",
       " 'allow_nan_stats': True,\n",
       " 'name': 'MultivariateNormalDiag'}"
      ]
     },
     "execution_count": 29,
     "metadata": {},
     "output_type": "execute_result"
    }
   ],
   "source": [
    "# Print the distribution parameters\n",
    "# There is a batch of two distributions with different means and same covariance\n",
    "\n",
    "batch_of_mvt_normals.parameters"
   ]
  },
  {
   "cell_type": "markdown",
   "metadata": {
    "id": "vxFjfOaWB0mk"
   },
   "source": [
    "Knowing that, for multivariate distributions, TensorFlow \n",
    "\n",
    "- interprets the final axis of an array of parameters as the event shape, \n",
    "\n",
    "\n",
    "- and broadcasts over the remaining axes,  \n",
    "\n",
    "can you predict what the batch and event shapes will if we pass the arguments\n",
    "\n",
    "\n",
    "    loc = [ [ 1.,  1.,  1.],\n",
    "            [-1., -1., -1.] ] # shape (2, 3)\n",
    "    scale_diag = [ [[0.1, 0.1, 0.1]],\n",
    "                   [[10., 10., 10.]] ] # shape (2, 1, 3)\n",
    "                   \n",
    "to `MultivariateNormalDiag`?"
   ]
  },
  {
   "cell_type": "markdown",
   "metadata": {
    "id": "_hjyvkW-B0ml"
   },
   "source": [
    "Solution:\n",
    "\n",
    "Align the parameter array shapes on their last axis, prepending 1s where necessary:  \n",
    "    \n",
    "           loc: 1 x 2 x 3  \n",
    "    scale_diag: 2 x 1 x 3  \n",
    "\n",
    "The final axis has size 3, so `event_shape = (3)`. The remaining axes are broadcast over to yield  \n",
    "    \n",
    "           loc: 2 x 2 x 3  \n",
    "    scale_diag: 2 x 2 x 3  \n",
    "\n",
    "so `batch_shape = (2, 2)`.\n",
    "\n",
    "Let's see if this is correct!"
   ]
  },
  {
   "cell_type": "code",
   "execution_count": 30,
   "metadata": {
    "execution": {
     "iopub.execute_input": "2021-03-15T07:47:45.775348Z",
     "iopub.status.busy": "2021-03-15T07:47:45.775081Z",
     "iopub.status.idle": "2021-03-15T07:47:45.784113Z",
     "shell.execute_reply": "2021-03-15T07:47:45.783341Z",
     "shell.execute_reply.started": "2021-03-15T07:47:45.775319Z"
    },
    "id": "pVPE8_C6B0ml"
   },
   "outputs": [],
   "source": [
    "# Define a multivariate Gaussian distribution with broadcasting\n",
    "\n",
    "loc = [ [ 1.,  1.,  1.],\n",
    "        [-1., -1., -1.] ]  # shape (2, 3)\n",
    "scale_diag = [ [[0.1, 0.1, 0.1]],\n",
    "               [[10., 10., 10.]] ]  # shape (2, 1, 3)\n",
    "\n",
    "another_batch_of_mvt_normals = tfd.MultivariateNormalDiag(loc=loc, scale_diag=scale_diag)"
   ]
  },
  {
   "cell_type": "code",
   "execution_count": 31,
   "metadata": {
    "execution": {
     "iopub.execute_input": "2021-03-15T07:47:46.262394Z",
     "iopub.status.busy": "2021-03-15T07:47:46.262140Z",
     "iopub.status.idle": "2021-03-15T07:47:46.267383Z",
     "shell.execute_reply": "2021-03-15T07:47:46.266783Z",
     "shell.execute_reply.started": "2021-03-15T07:47:46.262366Z"
    },
    "id": "54utgyM-B0mn"
   },
   "outputs": [
    {
     "data": {
      "text/plain": [
       "<tfp.distributions.MultivariateNormalDiag 'MultivariateNormalDiag' batch_shape=[2, 2] event_shape=[3] dtype=float32>"
      ]
     },
     "execution_count": 31,
     "metadata": {},
     "output_type": "execute_result"
    }
   ],
   "source": [
    "# Print the distribution and note batch and event shapes - bingo!\n",
    "\n",
    "another_batch_of_mvt_normals"
   ]
  },
  {
   "cell_type": "code",
   "execution_count": 32,
   "metadata": {
    "execution": {
     "iopub.execute_input": "2021-03-15T07:47:47.230997Z",
     "iopub.status.busy": "2021-03-15T07:47:47.230729Z",
     "iopub.status.idle": "2021-03-15T07:47:47.235768Z",
     "shell.execute_reply": "2021-03-15T07:47:47.234943Z",
     "shell.execute_reply.started": "2021-03-15T07:47:47.230968Z"
    },
    "id": "396iTbOzB0mp"
   },
   "outputs": [
    {
     "data": {
      "text/plain": [
       "{'loc': ListWrapper([ListWrapper([1.0, 1.0, 1.0]), ListWrapper([-1.0, -1.0, -1.0])]),\n",
       " 'scale_diag': ListWrapper([ListWrapper([ListWrapper([0.1, 0.1, 0.1])]), ListWrapper([ListWrapper([10.0, 10.0, 10.0])])]),\n",
       " 'scale_identity_multiplier': None,\n",
       " 'validate_args': False,\n",
       " 'allow_nan_stats': True,\n",
       " 'name': 'MultivariateNormalDiag'}"
      ]
     },
     "execution_count": 32,
     "metadata": {},
     "output_type": "execute_result"
    }
   ],
   "source": [
    "# Print the distribution parameters\n",
    "\n",
    "another_batch_of_mvt_normals.parameters"
   ]
  },
  {
   "cell_type": "markdown",
   "metadata": {
    "id": "J-t1_QR3B0mr"
   },
   "source": [
    "As we did before lets also look at broadcasting when we have batches of multivariate distributions."
   ]
  },
  {
   "cell_type": "code",
   "execution_count": 33,
   "metadata": {
    "execution": {
     "iopub.execute_input": "2021-03-15T07:48:10.575668Z",
     "iopub.status.busy": "2021-03-15T07:48:10.575386Z",
     "iopub.status.idle": "2021-03-15T07:48:10.582464Z",
     "shell.execute_reply": "2021-03-15T07:48:10.581761Z",
     "shell.execute_reply.started": "2021-03-15T07:48:10.575639Z"
    },
    "id": "pF4xI1VxB0mr"
   },
   "outputs": [
    {
     "data": {
      "text/plain": [
       "<tfp.distributions.Normal 'Normal' batch_shape=[3, 6] event_shape=[] dtype=float32>"
      ]
     },
     "execution_count": 33,
     "metadata": {},
     "output_type": "execute_result"
    }
   ],
   "source": [
    "# Define a batch of Normal distributions with broadcasting\n",
    "\n",
    "loc = [[0.],\n",
    "       [1.],\n",
    "       [0.]]\n",
    "scale = [1., 10., 100., 1., 10, 100.]\n",
    "\n",
    "another_batch_of_normals = tfd.Normal(loc=loc, scale=scale)\n",
    "another_batch_of_normals"
   ]
  },
  {
   "cell_type": "markdown",
   "metadata": {
    "id": "gG4I5i3PB0mt"
   },
   "source": [
    "And to refresh our memory of `Independent` we'll use it below to roll the rightmost batch shape into the event shape. "
   ]
  },
  {
   "cell_type": "code",
   "execution_count": 34,
   "metadata": {
    "execution": {
     "iopub.execute_input": "2021-03-15T07:48:17.295553Z",
     "iopub.status.busy": "2021-03-15T07:48:17.295282Z",
     "iopub.status.idle": "2021-03-15T07:48:17.300894Z",
     "shell.execute_reply": "2021-03-15T07:48:17.300222Z",
     "shell.execute_reply.started": "2021-03-15T07:48:17.295524Z"
    },
    "id": "fwrCFa-KB0mt"
   },
   "outputs": [
    {
     "data": {
      "text/plain": [
       "<tfp.distributions.Independent 'IndependentNormal' batch_shape=[3] event_shape=[6] dtype=float32>"
      ]
     },
     "execution_count": 34,
     "metadata": {},
     "output_type": "execute_result"
    }
   ],
   "source": [
    "# Create a multivariate Independent distribution\n",
    "\n",
    "another_batch_of_mvt_normals = tfd.Independent(another_batch_of_normals)\n",
    "another_batch_of_mvt_normals"
   ]
  },
  {
   "cell_type": "markdown",
   "metadata": {
    "id": "37mmasOiB0mv"
   },
   "source": [
    "Now, onto the broadcasting: "
   ]
  },
  {
   "cell_type": "code",
   "execution_count": 35,
   "metadata": {
    "execution": {
     "iopub.execute_input": "2021-03-15T07:48:25.365655Z",
     "iopub.status.busy": "2021-03-15T07:48:25.365402Z",
     "iopub.status.idle": "2021-03-15T07:48:25.378098Z",
     "shell.execute_reply": "2021-03-15T07:48:25.377315Z",
     "shell.execute_reply.started": "2021-03-15T07:48:25.365620Z"
    },
    "id": "YDfl-pqzB0mw"
   },
   "outputs": [
    {
     "data": {
      "text/plain": [
       "<tf.Tensor: shape=(3,), dtype=float32, numpy=array([3.6562131e-09, 2.7142903e-09, 3.5175141e-09], dtype=float32)>"
      ]
     },
     "execution_count": 35,
     "metadata": {},
     "output_type": "execute_result"
    }
   ],
   "source": [
    "# Use broadcasting with the prob method\n",
    "# B shaped input (broadcast over event)\n",
    "\n",
    "sample = tf.random.uniform((3, 1))\n",
    "another_batch_of_mvt_normals.prob(sample)"
   ]
  },
  {
   "cell_type": "code",
   "execution_count": 36,
   "metadata": {
    "execution": {
     "iopub.execute_input": "2021-03-15T07:48:28.950068Z",
     "iopub.status.busy": "2021-03-15T07:48:28.949814Z",
     "iopub.status.idle": "2021-03-15T07:48:28.956212Z",
     "shell.execute_reply": "2021-03-15T07:48:28.955558Z",
     "shell.execute_reply.started": "2021-03-15T07:48:28.950044Z"
    },
    "id": "tYu7hrNyB0my"
   },
   "outputs": [
    {
     "data": {
      "text/plain": [
       "<tf.Tensor: shape=(3,), dtype=float32, numpy=array([3.8987946e-09, 2.0341973e-09, 3.8987946e-09], dtype=float32)>"
      ]
     },
     "execution_count": 36,
     "metadata": {},
     "output_type": "execute_result"
    }
   ],
   "source": [
    "# Use broadcasting with the prob method\n",
    "# E shaped input (broadcast over batch)\n",
    "\n",
    "sample = tf.random.uniform((1, 6))\n",
    "another_batch_of_mvt_normals.prob(sample)"
   ]
  },
  {
   "cell_type": "code",
   "execution_count": 37,
   "metadata": {
    "execution": {
     "iopub.execute_input": "2021-03-15T07:48:33.759377Z",
     "iopub.status.busy": "2021-03-15T07:48:33.759099Z",
     "iopub.status.idle": "2021-03-15T07:48:33.766335Z",
     "shell.execute_reply": "2021-03-15T07:48:33.765580Z",
     "shell.execute_reply.started": "2021-03-15T07:48:33.759348Z"
    },
    "id": "Ou7NVaQkB0mz"
   },
   "outputs": [
    {
     "data": {
      "text/plain": [
       "<tf.Tensor: shape=(2, 3), dtype=float32, numpy=\n",
       "array([[2.4349915e-09, 3.0520848e-09, 2.3096949e-09],\n",
       "       [3.4401164e-09, 2.4652080e-09, 2.8968352e-09]], dtype=float32)>"
      ]
     },
     "execution_count": 37,
     "metadata": {},
     "output_type": "execute_result"
    }
   ],
   "source": [
    "# Use broadcasting with the prob method\n",
    "# [S,B,E] shaped input (broadcast over samples)\n",
    "\n",
    "sample = tf.random.uniform((2, 3, 6))\n",
    "another_batch_of_mvt_normals.prob(sample)"
   ]
  },
  {
   "cell_type": "code",
   "execution_count": 38,
   "metadata": {
    "execution": {
     "iopub.execute_input": "2021-03-15T07:48:53.191151Z",
     "iopub.status.busy": "2021-03-15T07:48:53.190871Z",
     "iopub.status.idle": "2021-03-15T07:48:53.204567Z",
     "shell.execute_reply": "2021-03-15T07:48:53.203418Z",
     "shell.execute_reply.started": "2021-03-15T07:48:53.191122Z"
    },
    "id": "Q3S322z_B0m2"
   },
   "outputs": [
    {
     "data": {
      "text/plain": [
       "<tf.Tensor: shape=(2, 3), dtype=float32, numpy=\n",
       "array([[2.2987559e-09, 3.6289782e-09, 2.2987559e-09],\n",
       "       [3.0775424e-09, 3.0867897e-09, 3.0775424e-09]], dtype=float32)>"
      ]
     },
     "execution_count": 38,
     "metadata": {},
     "output_type": "execute_result"
    }
   ],
   "source": [
    "# [S,b,e] shaped input where [b,e] can be broadcast agaisnt [B,E]\n",
    "sample = tf.random.uniform((2, 1, 6))\n",
    "another_batch_of_mvt_normals.prob(sample)"
   ]
  },
  {
   "cell_type": "markdown",
   "metadata": {
    "id": "hceF4UCdB0m4"
   },
   "source": [
    "As a final example with `log_prob` instead of `prob`"
   ]
  },
  {
   "cell_type": "code",
   "execution_count": 39,
   "metadata": {
    "execution": {
     "iopub.execute_input": "2021-03-15T07:48:56.678613Z",
     "iopub.status.busy": "2021-03-15T07:48:56.678350Z",
     "iopub.status.idle": "2021-03-15T07:48:56.685257Z",
     "shell.execute_reply": "2021-03-15T07:48:56.684506Z",
     "shell.execute_reply.started": "2021-03-15T07:48:56.678586Z"
    },
    "id": "oqw4WtVFB0m4"
   },
   "outputs": [
    {
     "data": {
      "text/plain": [
       "<tf.Tensor: shape=(2, 3), dtype=float32, numpy=\n",
       "array([[3.8649435e-09, 3.3928793e-09, 1.9079505e-09],\n",
       "       [3.3808252e-09, 2.1111033e-09, 2.5900879e-09]], dtype=float32)>"
      ]
     },
     "execution_count": 39,
     "metadata": {},
     "output_type": "execute_result"
    }
   ],
   "source": [
    "# Use broadcasting with the log_prob method\n",
    "# [S,b,e] shaped input where [b,e] can be broadcast agaisnt [B,E]\n",
    "\n",
    "sample = tf.random.uniform((2, 3, 1))\n",
    "another_batch_of_mvt_normals.prob(sample)"
   ]
  },
  {
   "cell_type": "markdown",
   "metadata": {
    "id": "B4nnQyxzB0m7"
   },
   "source": [
    "You should now feel confident specifying batches of distributions using broadcasting. As you may have already guessed, broadcasting is especially useful when specifying grids of hyperparameters. \n",
    "\n",
    "If you don't feel entirely comfortable with broadcasting quite yet, don't worry: re-read this notebook, go through the further reading provided below, and experiment with broadcasting in both numpy and TensorFlow, and you'll be broadcasting in no time."
   ]
  },
  {
   "cell_type": "markdown",
   "metadata": {
    "id": "y9Mz2mOeB0m8"
   },
   "source": [
    "### Further reading and resources\n",
    "* Numpy documentation on broadcasting: https://numpy.org/devdocs/user/theory.broadcasting.html\n",
    "* https://www.tensorflow.org/xla/broadcasting"
   ]
  }
 ],
 "metadata": {
  "colab": {
   "collapsed_sections": [
    "s8LB6VMYB0lz",
    "twMTIKqHB0mI",
    "u2SDMySvB0mW",
    "y9Mz2mOeB0m8"
   ],
   "name": "Broadcasting rules.ipynb",
   "provenance": []
  },
  "kernelspec": {
   "display_name": "Python 3",
   "language": "python",
   "name": "python3"
  },
  "language_info": {
   "codemirror_mode": {
    "name": "ipython",
    "version": 3
   },
   "file_extension": ".py",
   "mimetype": "text/x-python",
   "name": "python",
   "nbconvert_exporter": "python",
   "pygments_lexer": "ipython3",
   "version": "3.8.3"
  }
 },
 "nbformat": 4,
 "nbformat_minor": 4
}
