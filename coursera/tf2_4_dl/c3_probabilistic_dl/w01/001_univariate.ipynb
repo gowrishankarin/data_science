{
 "cells": [
  {
   "cell_type": "code",
   "execution_count": 4,
   "metadata": {
    "execution": {
     "iopub.execute_input": "2021-01-14T13:03:20.255663Z",
     "iopub.status.busy": "2021-01-14T13:03:20.255382Z",
     "iopub.status.idle": "2021-01-14T13:03:20.261710Z",
     "shell.execute_reply": "2021-01-14T13:03:20.260247Z",
     "shell.execute_reply.started": "2021-01-14T13:03:20.255632Z"
    }
   },
   "outputs": [
    {
     "name": "stdout",
     "output_type": "stream",
     "text": [
      "TF version: 2.4.0\n",
      "TFP version: 0.12.1\n"
     ]
    }
   ],
   "source": [
    "import tensorflow as tf\n",
    "import tensorflow_probability as tfp\n",
    "tfd = tfp.distributions\n",
    "\n",
    "print(f\"TF version: {tf.__version__}\")\n",
    "print(f\"TFP version: {tfp.__version__}\")"
   ]
  },
  {
   "cell_type": "code",
   "execution_count": 5,
   "metadata": {
    "execution": {
     "iopub.execute_input": "2021-01-14T13:03:47.625861Z",
     "iopub.status.busy": "2021-01-14T13:03:47.625422Z",
     "iopub.status.idle": "2021-01-14T13:03:48.005132Z",
     "shell.execute_reply": "2021-01-14T13:03:48.004307Z",
     "shell.execute_reply.started": "2021-01-14T13:03:47.625823Z"
    }
   },
   "outputs": [],
   "source": [
    "import matplotlib.pyplot as plt\n",
    "import numpy as np\n",
    "tf.random.set_seed(123)"
   ]
  },
  {
   "cell_type": "markdown",
   "metadata": {},
   "source": [
    "## Tensorflow Distributions\n",
    "- Univariate Distributions\n",
    "- Multivariate Disributions\n",
    "- The Independent Distributions\n",
    "- Sampling and Log Probs\n",
    "- Trainable Distributions"
   ]
  },
  {
   "cell_type": "markdown",
   "metadata": {},
   "source": [
    "### Univariate Distribution\n",
    "\n",
    "- Batch shape and event shape shows it is a single scaler distributions\n",
    "- Draw samples"
   ]
  },
  {
   "cell_type": "code",
   "execution_count": 7,
   "metadata": {
    "execution": {
     "iopub.execute_input": "2021-01-14T13:12:49.510993Z",
     "iopub.status.busy": "2021-01-14T13:12:49.510710Z",
     "iopub.status.idle": "2021-01-14T13:12:49.524233Z",
     "shell.execute_reply": "2021-01-14T13:12:49.523437Z",
     "shell.execute_reply.started": "2021-01-14T13:12:49.510962Z"
    }
   },
   "outputs": [
    {
     "data": {
      "text/plain": [
       "<tfp.distributions.Normal 'Normal' batch_shape=[] event_shape=[] dtype=float32>"
      ]
     },
     "execution_count": 7,
     "metadata": {},
     "output_type": "execute_result"
    }
   ],
   "source": [
    "normal = tfd.Normal(loc=0, scale=1)\n",
    "normal"
   ]
  },
  {
   "cell_type": "code",
   "execution_count": 8,
   "metadata": {
    "execution": {
     "iopub.execute_input": "2021-01-14T13:13:37.165578Z",
     "iopub.status.busy": "2021-01-14T13:13:37.165055Z",
     "iopub.status.idle": "2021-01-14T13:13:37.184540Z",
     "shell.execute_reply": "2021-01-14T13:13:37.182786Z",
     "shell.execute_reply.started": "2021-01-14T13:13:37.165522Z"
    }
   },
   "outputs": [
    {
     "data": {
      "text/plain": [
       "<tf.Tensor: shape=(), dtype=float32, numpy=-0.8980837>"
      ]
     },
     "execution_count": 8,
     "metadata": {},
     "output_type": "execute_result"
    }
   ],
   "source": [
    "normal.sample()"
   ]
  },
  {
   "cell_type": "code",
   "execution_count": 9,
   "metadata": {
    "execution": {
     "iopub.execute_input": "2021-01-14T13:14:15.127593Z",
     "iopub.status.busy": "2021-01-14T13:14:15.127320Z",
     "iopub.status.idle": "2021-01-14T13:14:15.136242Z",
     "shell.execute_reply": "2021-01-14T13:14:15.135322Z",
     "shell.execute_reply.started": "2021-01-14T13:14:15.127563Z"
    }
   },
   "outputs": [
    {
     "data": {
      "text/plain": [
       "<tf.Tensor: shape=(10,), dtype=float32, numpy=\n",
       "array([ 0.33875433,  0.3449861 , -0.6605785 , -0.2854994 ,  0.43852386,\n",
       "        0.8288566 , -0.53591555, -0.5353483 , -1.0324248 , -2.942705  ],\n",
       "      dtype=float32)>"
      ]
     },
     "execution_count": 9,
     "metadata": {},
     "output_type": "execute_result"
    }
   ],
   "source": [
    "normal.sample(10)"
   ]
  },
  {
   "cell_type": "code",
   "execution_count": 11,
   "metadata": {
    "execution": {
     "iopub.execute_input": "2021-01-14T13:14:53.738892Z",
     "iopub.status.busy": "2021-01-14T13:14:53.738568Z",
     "iopub.status.idle": "2021-01-14T13:14:53.755747Z",
     "shell.execute_reply": "2021-01-14T13:14:53.754526Z",
     "shell.execute_reply.started": "2021-01-14T13:14:53.738855Z"
    }
   },
   "outputs": [
    {
     "data": {
      "text/plain": [
       "<tf.Tensor: shape=(), dtype=float32, numpy=0.3989423>"
      ]
     },
     "execution_count": 11,
     "metadata": {},
     "output_type": "execute_result"
    }
   ],
   "source": [
    "# Obtain value of Probability's Density\n",
    "normal.prob(0)"
   ]
  },
  {
   "cell_type": "code",
   "execution_count": 12,
   "metadata": {
    "execution": {
     "iopub.execute_input": "2021-01-14T13:15:28.551557Z",
     "iopub.status.busy": "2021-01-14T13:15:28.551259Z",
     "iopub.status.idle": "2021-01-14T13:15:28.558871Z",
     "shell.execute_reply": "2021-01-14T13:15:28.557670Z",
     "shell.execute_reply.started": "2021-01-14T13:15:28.551526Z"
    }
   },
   "outputs": [
    {
     "data": {
      "text/plain": [
       "<tf.Tensor: shape=(), dtype=float32, numpy=-0.9189385>"
      ]
     },
     "execution_count": 12,
     "metadata": {},
     "output_type": "execute_result"
    }
   ],
   "source": [
    "# Obtain Log Probability\n",
    "normal.log_prob(0)"
   ]
  },
  {
   "cell_type": "code",
   "execution_count": 13,
   "metadata": {
    "execution": {
     "iopub.execute_input": "2021-01-14T13:25:53.921088Z",
     "iopub.status.busy": "2021-01-14T13:25:53.920712Z",
     "iopub.status.idle": "2021-01-14T13:25:53.937061Z",
     "shell.execute_reply": "2021-01-14T13:25:53.936010Z",
     "shell.execute_reply.started": "2021-01-14T13:25:53.921040Z"
    }
   },
   "outputs": [
    {
     "data": {
      "text/plain": [
       "-0.9189385"
      ]
     },
     "execution_count": 13,
     "metadata": {},
     "output_type": "execute_result"
    }
   ],
   "source": [
    "# Verify this is really a log probability\n",
    "np.log(normal.prob(0))"
   ]
  },
  {
   "cell_type": "code",
   "execution_count": 14,
   "metadata": {
    "execution": {
     "iopub.execute_input": "2021-01-14T13:26:47.749632Z",
     "iopub.status.busy": "2021-01-14T13:26:47.749195Z",
     "iopub.status.idle": "2021-01-14T13:26:48.100960Z",
     "shell.execute_reply": "2021-01-14T13:26:48.099778Z",
     "shell.execute_reply.started": "2021-01-14T13:26:47.749590Z"
    }
   },
   "outputs": [
    {
     "data": {
      "image/png": "[encoded data removed]",
      "text/plain": [
       "<Figure size 432x288 with 1 Axes>"
      ]
     },
     "metadata": {
      "needs_background": "light"
     },
     "output_type": "display_data"
    }
   ],
   "source": [
    "# Plot a histogram, approximating the density\n",
    "plt.hist(normal.sample(10000), bins=50, density=True)\n",
    "plt.show()"
   ]
  },
  {
   "cell_type": "code",
   "execution_count": 20,
   "metadata": {
    "execution": {
     "iopub.execute_input": "2021-01-14T14:48:43.595353Z",
     "iopub.status.busy": "2021-01-14T14:48:43.595087Z",
     "iopub.status.idle": "2021-01-14T14:48:43.811251Z",
     "shell.execute_reply": "2021-01-14T14:48:43.810564Z",
     "shell.execute_reply.started": "2021-01-14T14:48:43.595324Z"
    }
   },
   "outputs": [
    {
     "data": {
      "image/png": "[encoded data removed]",
      "text/plain": [
       "<Figure size 432x288 with 1 Axes>"
      ]
     },
     "metadata": {
      "needs_background": "light"
     },
     "output_type": "display_data"
    }
   ],
   "source": [
    "# Do the smae for the exponential distribution\n",
    "exponential = tfd.Exponential(rate=1)\n",
    "plt.hist(exponential.sample(10000), bins=50, density=True)\n",
    "plt.show()"
   ]
  },
  {
   "cell_type": "code",
   "execution_count": 17,
   "metadata": {
    "execution": {
     "iopub.execute_input": "2021-01-14T14:46:01.669273Z",
     "iopub.status.busy": "2021-01-14T14:46:01.669014Z",
     "iopub.status.idle": "2021-01-14T14:46:01.687853Z",
     "shell.execute_reply": "2021-01-14T14:46:01.686549Z",
     "shell.execute_reply.started": "2021-01-14T14:46:01.669244Z"
    }
   },
   "outputs": [
    {
     "data": {
      "text/plain": [
       "<tf.Tensor: shape=(20,), dtype=int32, numpy=\n",
       "array([1, 1, 1, 1, 1, 1, 1, 1, 1, 1, 1, 0, 0, 1, 0, 1, 1, 1, 1, 0],\n",
       "      dtype=int32)>"
      ]
     },
     "execution_count": 17,
     "metadata": {},
     "output_type": "execute_result"
    }
   ],
   "source": [
    "# Create a discrete Bernoulli's Distribution (It will ouput 1)\n",
    "bernoulli = tfd.Bernoulli(probs=0.8)\n",
    "bernoulli.sample(20)"
   ]
  },
  {
   "cell_type": "code",
   "execution_count": 18,
   "metadata": {
    "execution": {
     "iopub.execute_input": "2021-01-14T14:48:11.543396Z",
     "iopub.status.busy": "2021-01-14T14:48:11.543133Z",
     "iopub.status.idle": "2021-01-14T14:48:11.557949Z",
     "shell.execute_reply": "2021-01-14T14:48:11.557151Z",
     "shell.execute_reply.started": "2021-01-14T14:48:11.543367Z"
    }
   },
   "outputs": [
    {
     "name": "stdout",
     "output_type": "stream",
     "text": [
      "Prob result 0.19999998807907104 for k = 0\n",
      "Prob result 0.3999999761581421 for k = 0.5\n",
      "Prob result 0.800000011920929 for k = 1\n",
      "Prob result 0.04999999701976776 for k = -1\n"
     ]
    }
   ],
   "source": [
    "# Calculate Bernoulli prob and see that 0.5 and -1 do not give the correct probability\n",
    "for k in [0, 0.5, 1, -1]:\n",
    "    print(f'Prob result {bernoulli.prob(k)} for k = {k}')"
   ]
  },
  {
   "cell_type": "code",
   "execution_count": 21,
   "metadata": {
    "execution": {
     "iopub.execute_input": "2021-01-14T15:56:31.548205Z",
     "iopub.status.busy": "2021-01-14T15:56:31.547892Z",
     "iopub.status.idle": "2021-01-14T15:56:31.552529Z",
     "shell.execute_reply": "2021-01-14T15:56:31.551631Z",
     "shell.execute_reply.started": "2021-01-14T15:56:31.548176Z"
    }
   },
   "outputs": [],
   "source": [
    "# Replicate the scores to see what is occuring under the hood\n",
    "def my_bernoulli(p_success, k):\n",
    "    return np.power(p_success, k) * np.power((1-p_success), (1-k))"
   ]
  },
  {
   "cell_type": "code",
   "execution_count": 22,
   "metadata": {
    "execution": {
     "iopub.execute_input": "2021-01-14T15:57:21.530983Z",
     "iopub.status.busy": "2021-01-14T15:57:21.530688Z",
     "iopub.status.idle": "2021-01-14T15:57:21.536394Z",
     "shell.execute_reply": "2021-01-14T15:57:21.535078Z",
     "shell.execute_reply.started": "2021-01-14T15:57:21.530954Z"
    }
   },
   "outputs": [
    {
     "name": "stdout",
     "output_type": "stream",
     "text": [
      "Prob result 0.19999999999999996 for k = 0\n",
      "Prob result 0.3999999999999999 for k = 0.5\n",
      "Prob result 0.8 for k = 1\n",
      "Prob result 0.049999999999999975 for k = -1\n"
     ]
    }
   ],
   "source": [
    "for k in [0, 0.5, 1, -1]:\n",
    "    print(f'Prob result {my_bernoulli(p_success=0.8, k=k)} for k = {k}')"
   ]
  },
  {
   "cell_type": "markdown",
   "metadata": {},
   "source": [
    "## Batch Distributions"
   ]
  },
  {
   "cell_type": "code",
   "execution_count": 24,
   "metadata": {
    "execution": {
     "iopub.execute_input": "2021-01-14T16:02:12.689878Z",
     "iopub.status.busy": "2021-01-14T16:02:12.689623Z",
     "iopub.status.idle": "2021-01-14T16:02:12.696297Z",
     "shell.execute_reply": "2021-01-14T16:02:12.695209Z",
     "shell.execute_reply.started": "2021-01-14T16:02:12.689851Z"
    }
   },
   "outputs": [
    {
     "data": {
      "text/plain": [
       "<tfp.distributions.Bernoulli 'Bernoulli' batch_shape=[5] event_shape=[] dtype=int32>"
      ]
     },
     "execution_count": 24,
     "metadata": {},
     "output_type": "execute_result"
    }
   ],
   "source": [
    "# Create a batched Bernoulli Distribution\n",
    "bernoulli_batch = tfd.Bernoulli(probs=[0.1, 0.25, 0.5, 0.75, 0.9])\n",
    "bernoulli_batch\n"
   ]
  },
  {
   "cell_type": "code",
   "execution_count": 27,
   "metadata": {
    "execution": {
     "iopub.execute_input": "2021-01-14T16:03:10.204901Z",
     "iopub.status.busy": "2021-01-14T16:03:10.204632Z",
     "iopub.status.idle": "2021-01-14T16:03:10.212909Z",
     "shell.execute_reply": "2021-01-14T16:03:10.212014Z",
     "shell.execute_reply.started": "2021-01-14T16:03:10.204873Z"
    }
   },
   "outputs": [
    {
     "data": {
      "text/plain": [
       "<tf.Tensor: shape=(1, 5), dtype=int32, numpy=array([[0, 0, 1, 1, 1]], dtype=int32)>"
      ]
     },
     "execution_count": 27,
     "metadata": {},
     "output_type": "execute_result"
    }
   ],
   "source": [
    "bernoulli_batch.sample(1)"
   ]
  },
  {
   "cell_type": "code",
   "execution_count": 29,
   "metadata": {
    "execution": {
     "iopub.execute_input": "2021-01-14T16:03:26.300566Z",
     "iopub.status.busy": "2021-01-14T16:03:26.300309Z",
     "iopub.status.idle": "2021-01-14T16:03:26.308431Z",
     "shell.execute_reply": "2021-01-14T16:03:26.307590Z",
     "shell.execute_reply.started": "2021-01-14T16:03:26.300538Z"
    }
   },
   "outputs": [
    {
     "data": {
      "text/plain": [
       "<tf.Tensor: shape=(3, 5), dtype=int32, numpy=\n",
       "array([[1, 0, 1, 0, 1],\n",
       "       [0, 0, 1, 1, 1],\n",
       "       [0, 0, 1, 1, 1]], dtype=int32)>"
      ]
     },
     "execution_count": 29,
     "metadata": {},
     "output_type": "execute_result"
    }
   ],
   "source": [
    "bernoulli_batch.sample(3)"
   ]
  },
  {
   "cell_type": "code",
   "execution_count": 30,
   "metadata": {
    "execution": {
     "iopub.execute_input": "2021-01-14T16:08:39.674850Z",
     "iopub.status.busy": "2021-01-14T16:08:39.674607Z",
     "iopub.status.idle": "2021-01-14T16:08:39.680591Z",
     "shell.execute_reply": "2021-01-14T16:08:39.679824Z",
     "shell.execute_reply.started": "2021-01-14T16:08:39.674824Z"
    }
   },
   "outputs": [
    {
     "data": {
      "text/plain": [
       "<tfp.distributions.Bernoulli 'Bernoulli' batch_shape=[1, 3, 2] event_shape=[] dtype=int32>"
      ]
     },
     "execution_count": 30,
     "metadata": {},
     "output_type": "execute_result"
    }
   ],
   "source": [
    "# Use a batch shape with higher rang\n",
    "probs = [[[0.5, 0.5], [0.8, 0.3], [0.25, 0.75] ]]\n",
    "\n",
    "bernoulli_batch_2D = tfd.Bernoulli(probs=probs)\n",
    "bernoulli_batch_2D"
   ]
  },
  {
   "cell_type": "code",
   "execution_count": 31,
   "metadata": {
    "execution": {
     "iopub.execute_input": "2021-01-14T16:08:55.606653Z",
     "iopub.status.busy": "2021-01-14T16:08:55.606381Z",
     "iopub.status.idle": "2021-01-14T16:08:55.614874Z",
     "shell.execute_reply": "2021-01-14T16:08:55.614089Z",
     "shell.execute_reply.started": "2021-01-14T16:08:55.606624Z"
    }
   },
   "outputs": [
    {
     "data": {
      "text/plain": [
       "<tf.Tensor: shape=(1, 1, 3, 2), dtype=int32, numpy=\n",
       "array([[[[1, 0],\n",
       "         [1, 0],\n",
       "         [0, 0]]]], dtype=int32)>"
      ]
     },
     "execution_count": 31,
     "metadata": {},
     "output_type": "execute_result"
    }
   ],
   "source": [
    "bernoulli_batch_2D.sample(1)"
   ]
  },
  {
   "cell_type": "code",
   "execution_count": 32,
   "metadata": {
    "execution": {
     "iopub.execute_input": "2021-01-14T16:09:12.700305Z",
     "iopub.status.busy": "2021-01-14T16:09:12.699933Z",
     "iopub.status.idle": "2021-01-14T16:09:12.710068Z",
     "shell.execute_reply": "2021-01-14T16:09:12.708917Z",
     "shell.execute_reply.started": "2021-01-14T16:09:12.700268Z"
    }
   },
   "outputs": [
    {
     "data": {
      "text/plain": [
       "<tf.Tensor: shape=(2, 1, 3, 2), dtype=int32, numpy=\n",
       "array([[[[0, 1],\n",
       "         [1, 1],\n",
       "         [0, 1]]],\n",
       "\n",
       "\n",
       "       [[[1, 1],\n",
       "         [1, 1],\n",
       "         [0, 1]]]], dtype=int32)>"
      ]
     },
     "execution_count": 32,
     "metadata": {},
     "output_type": "execute_result"
    }
   ],
   "source": [
    "bernoulli_batch_2D.sample(2)"
   ]
  },
  {
   "cell_type": "code",
   "execution_count": 33,
   "metadata": {
    "execution": {
     "iopub.execute_input": "2021-01-14T16:10:58.216544Z",
     "iopub.status.busy": "2021-01-14T16:10:58.216265Z",
     "iopub.status.idle": "2021-01-14T16:10:58.228500Z",
     "shell.execute_reply": "2021-01-14T16:10:58.227702Z",
     "shell.execute_reply.started": "2021-01-14T16:10:58.216514Z"
    }
   },
   "outputs": [
    {
     "data": {
      "text/plain": [
       "<tf.Tensor: shape=(1, 3, 2), dtype=float32, numpy=\n",
       "array([[[0.5       , 0.5       ],\n",
       "        [0.19999999, 0.7       ],\n",
       "        [0.25      , 0.75      ]]], dtype=float32)>"
      ]
     },
     "execution_count": 33,
     "metadata": {},
     "output_type": "execute_result"
    }
   ],
   "source": [
    "bernoulli_batch_2D.prob([[[1, 0], [0, 0], [1, 1]]])"
   ]
  },
  {
   "cell_type": "code",
   "execution_count": null,
   "metadata": {},
   "outputs": [],
   "source": []
  }
 ],
 "metadata": {
  "kernelspec": {
   "display_name": "Python 3",
   "language": "python",
   "name": "python3"
  },
  "language_info": {
   "codemirror_mode": {
    "name": "ipython",
    "version": 3
   },
   "file_extension": ".py",
   "mimetype": "text/x-python",
   "name": "python",
   "nbconvert_exporter": "python",
   "pygments_lexer": "ipython3",
   "version": "3.8.3"
  }
 },
 "nbformat": 4,
 "nbformat_minor": 4
}
