{
 "cells": [
  {
   "cell_type": "markdown",
   "metadata": {},
   "source": [
    "# Class Notes\n",
    "\n",
    "## Bijectors Intro"
   ]
  },
  {
   "cell_type": "code",
   "execution_count": 1,
   "metadata": {
    "execution": {
     "iopub.execute_input": "2021-03-26T05:43:57.875863Z",
     "iopub.status.busy": "2021-03-26T05:43:57.875648Z",
     "iopub.status.idle": "2021-03-26T05:44:03.641351Z",
     "shell.execute_reply": "2021-03-26T05:44:03.640716Z",
     "shell.execute_reply.started": "2021-03-26T05:43:57.875841Z"
    }
   },
   "outputs": [],
   "source": [
    "import tensorflow as tf\n",
    "import tensorflow_probability as tfp\n",
    "tfd = tfp.distributions\n",
    "tfb = tfp.bijectors"
   ]
  },
  {
   "cell_type": "code",
   "execution_count": 2,
   "metadata": {
    "execution": {
     "iopub.execute_input": "2021-03-26T05:44:03.643119Z",
     "iopub.status.busy": "2021-03-26T05:44:03.642870Z",
     "iopub.status.idle": "2021-03-26T05:44:03.660528Z",
     "shell.execute_reply": "2021-03-26T05:44:03.659299Z",
     "shell.execute_reply.started": "2021-03-26T05:44:03.643070Z"
    }
   },
   "outputs": [
    {
     "data": {
      "text/plain": [
       "<tf.Tensor: shape=(3,), dtype=float32, numpy=array([2., 4., 6.], dtype=float32)>"
      ]
     },
     "execution_count": 2,
     "metadata": {},
     "output_type": "execute_result"
    }
   ],
   "source": [
    "z = tf.constant([1., 2., 3.])\n",
    "scale = tfb.Scale(2.)\n",
    "\n",
    "x = scale.forward(z)\n",
    "x"
   ]
  },
  {
   "cell_type": "code",
   "execution_count": 3,
   "metadata": {
    "execution": {
     "iopub.execute_input": "2021-03-26T05:44:03.665210Z",
     "iopub.status.busy": "2021-03-26T05:44:03.664798Z",
     "iopub.status.idle": "2021-03-26T05:44:03.671866Z",
     "shell.execute_reply": "2021-03-26T05:44:03.671214Z",
     "shell.execute_reply.started": "2021-03-26T05:44:03.665165Z"
    }
   },
   "outputs": [
    {
     "data": {
      "text/plain": [
       "<tf.Tensor: shape=(3,), dtype=float32, numpy=array([2.5, 1.5, 0.5], dtype=float32)>"
      ]
     },
     "execution_count": 3,
     "metadata": {},
     "output_type": "execute_result"
    }
   ],
   "source": [
    "scale.inverse(tf.constant([5., 3., 1.])) # ie x / scale"
   ]
  },
  {
   "cell_type": "markdown",
   "metadata": {
    "execution": {
     "iopub.execute_input": "2021-03-25T06:58:05.063138Z",
     "iopub.status.busy": "2021-03-25T06:58:05.062898Z",
     "iopub.status.idle": "2021-03-25T06:58:05.067832Z",
     "shell.execute_reply": "2021-03-25T06:58:05.067050Z",
     "shell.execute_reply.started": "2021-03-25T06:58:05.063113Z"
    }
   },
   "source": [
    "### Shift"
   ]
  },
  {
   "cell_type": "code",
   "execution_count": 4,
   "metadata": {
    "execution": {
     "iopub.execute_input": "2021-03-26T05:44:03.674614Z",
     "iopub.status.busy": "2021-03-26T05:44:03.674143Z",
     "iopub.status.idle": "2021-03-26T05:44:03.684193Z",
     "shell.execute_reply": "2021-03-26T05:44:03.683545Z",
     "shell.execute_reply.started": "2021-03-26T05:44:03.674439Z"
    }
   },
   "outputs": [
    {
     "data": {
      "text/plain": [
       "<tensorflow_probability.python.bijectors.chain.Chain at 0x7fc05cf24c10>"
      ]
     },
     "execution_count": 4,
     "metadata": {},
     "output_type": "execute_result"
    }
   ],
   "source": [
    "z = tf.constant([1., 2., 3.])\n",
    "scale = tfb.Scale(2.)\n",
    "shift = tfb.Shift(1.)\n",
    "\n",
    "scale_and_shift = tfb.Chain([shift, scale])\n",
    "scale_and_shift"
   ]
  },
  {
   "cell_type": "code",
   "execution_count": 5,
   "metadata": {
    "execution": {
     "iopub.execute_input": "2021-03-26T05:44:03.685572Z",
     "iopub.status.busy": "2021-03-26T05:44:03.685318Z",
     "iopub.status.idle": "2021-03-26T05:44:03.694379Z",
     "shell.execute_reply": "2021-03-26T05:44:03.693210Z",
     "shell.execute_reply.started": "2021-03-26T05:44:03.685547Z"
    }
   },
   "outputs": [
    {
     "data": {
      "text/plain": [
       "<tf.Tensor: shape=(3,), dtype=float32, numpy=array([3., 5., 7.], dtype=float32)>"
      ]
     },
     "execution_count": 5,
     "metadata": {},
     "output_type": "execute_result"
    }
   ],
   "source": [
    "scale_and_shift.forward(z)"
   ]
  },
  {
   "cell_type": "code",
   "execution_count": 6,
   "metadata": {
    "execution": {
     "iopub.execute_input": "2021-03-26T05:44:03.696994Z",
     "iopub.status.busy": "2021-03-26T05:44:03.696126Z",
     "iopub.status.idle": "2021-03-26T05:44:03.707247Z",
     "shell.execute_reply": "2021-03-26T05:44:03.706471Z",
     "shell.execute_reply.started": "2021-03-26T05:44:03.696948Z"
    }
   },
   "outputs": [
    {
     "data": {
      "text/plain": [
       "<tf.Tensor: shape=(3,), dtype=float32, numpy=array([0. , 0.5, 1. ], dtype=float32)>"
      ]
     },
     "execution_count": 6,
     "metadata": {},
     "output_type": "execute_result"
    }
   ],
   "source": [
    "scale_and_shift.inverse(z) # Subtract and Scale(divide)"
   ]
  },
  {
   "cell_type": "markdown",
   "metadata": {},
   "source": [
    "### Transform Random Variables"
   ]
  },
  {
   "cell_type": "code",
   "execution_count": 7,
   "metadata": {
    "execution": {
     "iopub.execute_input": "2021-03-26T05:44:03.709125Z",
     "iopub.status.busy": "2021-03-26T05:44:03.708636Z",
     "iopub.status.idle": "2021-03-26T05:44:03.721304Z",
     "shell.execute_reply": "2021-03-26T05:44:03.720164Z",
     "shell.execute_reply.started": "2021-03-26T05:44:03.709087Z"
    }
   },
   "outputs": [
    {
     "data": {
      "text/plain": [
       "<tf.Tensor: shape=(3,), dtype=float32, numpy=array([-0.34980565,  0.6862305 , -0.70671827], dtype=float32)>"
      ]
     },
     "execution_count": 7,
     "metadata": {},
     "output_type": "execute_result"
    }
   ],
   "source": [
    "normal = tfd.Normal(loc=0, scale=1.)\n",
    "z = normal.sample(3)\n",
    "z"
   ]
  },
  {
   "cell_type": "code",
   "execution_count": 8,
   "metadata": {
    "execution": {
     "iopub.execute_input": "2021-03-26T05:44:03.725458Z",
     "iopub.status.busy": "2021-03-26T05:44:03.724988Z",
     "iopub.status.idle": "2021-03-26T05:44:03.734584Z",
     "shell.execute_reply": "2021-03-26T05:44:03.733529Z",
     "shell.execute_reply.started": "2021-03-26T05:44:03.725404Z"
    }
   },
   "outputs": [
    {
     "data": {
      "text/plain": [
       "<tensorflow_probability.python.bijectors.chain.Chain at 0x7fc064eae520>"
      ]
     },
     "execution_count": 8,
     "metadata": {},
     "output_type": "execute_result"
    }
   ],
   "source": [
    "scale_and_shift = tfb.Chain([tfb.Shift(1.), tfb.Scale(2.)])\n",
    "scale_and_shift"
   ]
  },
  {
   "cell_type": "code",
   "execution_count": 9,
   "metadata": {
    "execution": {
     "iopub.execute_input": "2021-03-26T05:44:03.736956Z",
     "iopub.status.busy": "2021-03-26T05:44:03.736735Z",
     "iopub.status.idle": "2021-03-26T05:44:03.749797Z",
     "shell.execute_reply": "2021-03-26T05:44:03.748778Z",
     "shell.execute_reply.started": "2021-03-26T05:44:03.736934Z"
    }
   },
   "outputs": [
    {
     "data": {
      "text/plain": [
       "<tf.Tensor: shape=(3,), dtype=float32, numpy=array([ 0.3003887 ,  2.3724608 , -0.41343653], dtype=float32)>"
      ]
     },
     "execution_count": 9,
     "metadata": {},
     "output_type": "execute_result"
    }
   ],
   "source": [
    "x = scale_and_shift.forward(z)\n",
    "x"
   ]
  },
  {
   "cell_type": "code",
   "execution_count": 10,
   "metadata": {
    "execution": {
     "iopub.execute_input": "2021-03-26T05:44:03.751529Z",
     "iopub.status.busy": "2021-03-26T05:44:03.751198Z",
     "iopub.status.idle": "2021-03-26T05:44:03.758979Z",
     "shell.execute_reply": "2021-03-26T05:44:03.757969Z",
     "shell.execute_reply.started": "2021-03-26T05:44:03.751498Z"
    }
   },
   "outputs": [
    {
     "data": {
      "text/plain": [
       "<tf.Tensor: shape=(3,), dtype=float32, numpy=array([-0.98012054, -1.1543946 , -1.1686639 ], dtype=float32)>"
      ]
     },
     "execution_count": 10,
     "metadata": {},
     "output_type": "execute_result"
    }
   ],
   "source": [
    "log_prob_z = normal.log_prob(z)\n",
    "log_prob_z"
   ]
  },
  {
   "cell_type": "code",
   "execution_count": 11,
   "metadata": {
    "execution": {
     "iopub.execute_input": "2021-03-26T05:44:03.761555Z",
     "iopub.status.busy": "2021-03-26T05:44:03.760912Z",
     "iopub.status.idle": "2021-03-26T05:44:03.781800Z",
     "shell.execute_reply": "2021-03-26T05:44:03.779863Z",
     "shell.execute_reply.started": "2021-03-26T05:44:03.761509Z"
    }
   },
   "outputs": [
    {
     "data": {
      "text/plain": [
       "<tf.Tensor: shape=(3,), dtype=float32, numpy=array([-1.6732677, -1.8475418, -1.861811 ], dtype=float32)>"
      ]
     },
     "execution_count": 11,
     "metadata": {},
     "output_type": "execute_result"
    }
   ],
   "source": [
    "# Change of variable formula\n",
    "log_prob_x = normal.log_prob(z) - scale_and_shift.forward_log_det_jacobian(z, event_ndims=0)\n",
    "log_prob_x"
   ]
  },
  {
   "cell_type": "markdown",
   "metadata": {},
   "source": [
    "## The Tranformed Distributation Class"
   ]
  },
  {
   "cell_type": "code",
   "execution_count": 14,
   "metadata": {
    "execution": {
     "iopub.execute_input": "2021-03-26T05:48:52.405600Z",
     "iopub.status.busy": "2021-03-26T05:48:52.405311Z",
     "iopub.status.idle": "2021-03-26T05:48:52.417557Z",
     "shell.execute_reply": "2021-03-26T05:48:52.416816Z",
     "shell.execute_reply.started": "2021-03-26T05:48:52.405569Z"
    }
   },
   "outputs": [
    {
     "data": {
      "text/plain": [
       "<tf.Tensor: shape=(3,), dtype=float32, numpy=array([-1.6732677, -1.8475418, -1.861811 ], dtype=float32)>"
      ]
     },
     "execution_count": 14,
     "metadata": {},
     "output_type": "execute_result"
    }
   ],
   "source": [
    "log_prob_x = (normal.log_prob(scale_and_shift.inverse(x)) + scale_and_shift.inverse_log_det_jacobian(x, event_ndims=0))\n",
    "log_prob_x"
   ]
  },
  {
   "cell_type": "code",
   "execution_count": 16,
   "metadata": {
    "execution": {
     "iopub.execute_input": "2021-03-26T06:01:28.956261Z",
     "iopub.status.busy": "2021-03-26T06:01:28.956019Z",
     "iopub.status.idle": "2021-03-26T06:01:28.963261Z",
     "shell.execute_reply": "2021-03-26T06:01:28.962624Z",
     "shell.execute_reply.started": "2021-03-26T06:01:28.956236Z"
    }
   },
   "outputs": [],
   "source": [
    "normal = tfd.Normal(loc=0, scale=1.)\n",
    "z = normal.sample(3)\n",
    "\n",
    "exp = tfb.Exp()\n",
    "x = exp.forward(z)"
   ]
  },
  {
   "cell_type": "code",
   "execution_count": 18,
   "metadata": {
    "execution": {
     "iopub.execute_input": "2021-03-26T06:02:14.733227Z",
     "iopub.status.busy": "2021-03-26T06:02:14.732988Z",
     "iopub.status.idle": "2021-03-26T06:02:14.738227Z",
     "shell.execute_reply": "2021-03-26T06:02:14.737523Z",
     "shell.execute_reply.started": "2021-03-26T06:02:14.733202Z"
    }
   },
   "outputs": [
    {
     "data": {
      "text/plain": [
       "<tfp.distributions.TransformedDistribution 'expNormal' batch_shape=[] event_shape=[] dtype=float32>"
      ]
     },
     "execution_count": 18,
     "metadata": {},
     "output_type": "execute_result"
    }
   ],
   "source": [
    "log_normal = tfd.TransformedDistribution(normal, exp)\n",
    "log_normal"
   ]
  },
  {
   "cell_type": "code",
   "execution_count": 19,
   "metadata": {
    "execution": {
     "iopub.execute_input": "2021-03-26T06:02:52.067929Z",
     "iopub.status.busy": "2021-03-26T06:02:52.067664Z",
     "iopub.status.idle": "2021-03-26T06:02:52.072894Z",
     "shell.execute_reply": "2021-03-26T06:02:52.072224Z",
     "shell.execute_reply.started": "2021-03-26T06:02:52.067904Z"
    }
   },
   "outputs": [
    {
     "data": {
      "text/plain": [
       "<tfp.distributions.TransformedDistribution 'expNormal' batch_shape=[] event_shape=[] dtype=float32>"
      ]
     },
     "execution_count": 19,
     "metadata": {},
     "output_type": "execute_result"
    }
   ],
   "source": [
    "log_normal = exp(normal)\n",
    "log_normal"
   ]
  },
  {
   "cell_type": "code",
   "execution_count": 20,
   "metadata": {
    "execution": {
     "iopub.execute_input": "2021-03-26T06:09:13.706065Z",
     "iopub.status.busy": "2021-03-26T06:09:13.705834Z",
     "iopub.status.idle": "2021-03-26T06:09:13.711253Z",
     "shell.execute_reply": "2021-03-26T06:09:13.710483Z",
     "shell.execute_reply.started": "2021-03-26T06:09:13.706042Z"
    }
   },
   "outputs": [],
   "source": [
    "normal = tfd.Normal(loc=0, scale=1.)\n",
    "scale_tril = [[[1.,0], [1., 1.]], [[0.5, 0], [-1, 0.5]]]\n",
    "scale = tfb.ScaleMatvecTriL(scale_tril=scale_tril)"
   ]
  },
  {
   "cell_type": "code",
   "execution_count": 21,
   "metadata": {
    "execution": {
     "iopub.execute_input": "2021-03-26T06:09:44.183516Z",
     "iopub.status.busy": "2021-03-26T06:09:44.183292Z",
     "iopub.status.idle": "2021-03-26T06:09:44.199282Z",
     "shell.execute_reply": "2021-03-26T06:09:44.198152Z",
     "shell.execute_reply.started": "2021-03-26T06:09:44.183491Z"
    }
   },
   "outputs": [
    {
     "ename": "TypeError",
     "evalue": "__init__() got an unexpected keyword argument 'batch_shape'",
     "output_type": "error",
     "traceback": [
      "\u001b[0;31m---------------------------------------------------------------------------\u001b[0m",
      "\u001b[0;31mTypeError\u001b[0m                                 Traceback (most recent call last)",
      "\u001b[0;32m<ipython-input-21-87ef302002a3>\u001b[0m in \u001b[0;36m<module>\u001b[0;34m\u001b[0m\n\u001b[0;32m----> 1\u001b[0;31m \u001b[0mmvn\u001b[0m \u001b[0;34m=\u001b[0m \u001b[0mtfd\u001b[0m\u001b[0;34m.\u001b[0m\u001b[0mTransformedDistribution\u001b[0m\u001b[0;34m(\u001b[0m\u001b[0mnormal\u001b[0m\u001b[0;34m,\u001b[0m \u001b[0mscale\u001b[0m\u001b[0;34m,\u001b[0m \u001b[0mbatch_shape\u001b[0m\u001b[0;34m=\u001b[0m\u001b[0;34m[\u001b[0m\u001b[0;36m2\u001b[0m\u001b[0;34m]\u001b[0m\u001b[0;34m,\u001b[0m \u001b[0mevent_shape\u001b[0m\u001b[0;34m=\u001b[0m\u001b[0;34m[\u001b[0m\u001b[0;36m2\u001b[0m\u001b[0;34m]\u001b[0m\u001b[0;34m)\u001b[0m\u001b[0;34m\u001b[0m\u001b[0;34m\u001b[0m\u001b[0m\n\u001b[0m",
      "\u001b[0;31mTypeError\u001b[0m: __init__() got an unexpected keyword argument 'batch_shape'"
     ]
    }
   ],
   "source": [
    "mvn = tfd.TransformedDistribution(normal, scale, batch_shape=[2], event_shape=[2])"
   ]
  },
  {
   "cell_type": "code",
   "execution_count": 23,
   "metadata": {
    "execution": {
     "iopub.execute_input": "2021-03-26T06:25:59.273273Z",
     "iopub.status.busy": "2021-03-26T06:25:59.273025Z",
     "iopub.status.idle": "2021-03-26T06:25:59.280002Z",
     "shell.execute_reply": "2021-03-26T06:25:59.279318Z",
     "shell.execute_reply.started": "2021-03-26T06:25:59.273247Z"
    }
   },
   "outputs": [
    {
     "data": {
      "text/plain": [
       "<tfp.distributions.TransformedDistribution 'scaleNormal' batch_shape=[2] event_shape=[] dtype=float32>"
      ]
     },
     "execution_count": 23,
     "metadata": {},
     "output_type": "execute_result"
    }
   ],
   "source": [
    "# Quiz\n",
    "\n",
    "normal = tfd.Normal(loc=0., scale=[1., 1.])\n",
    "scale = tfb.Scale([1., 2.])\n",
    "mvn = tfd.TransformedDistribution(normal, scale)\n",
    "mvn"
   ]
  },
  {
   "cell_type": "markdown",
   "metadata": {},
   "source": [
    "## Subclassing Bijectors"
   ]
  },
  {
   "cell_type": "code",
   "execution_count": 24,
   "metadata": {
    "execution": {
     "iopub.execute_input": "2021-03-26T08:25:39.423112Z",
     "iopub.status.busy": "2021-03-26T08:25:39.422787Z",
     "iopub.status.idle": "2021-03-26T08:25:39.431226Z",
     "shell.execute_reply": "2021-03-26T08:25:39.430441Z",
     "shell.execute_reply.started": "2021-03-26T08:25:39.423079Z"
    }
   },
   "outputs": [],
   "source": [
    "class MySigmoid(tfb.Bijector):\n",
    "    \n",
    "    def __init__(self, validate_args=False, name='sigmoid'):\n",
    "        super(MySigmoid, self).__init__(\n",
    "            validate_args=validate_args,\n",
    "            forward_min_event_ndims=0,\n",
    "            name=name,\n",
    "            is_constant_jacobian=True\n",
    "        )\n",
    "        \n",
    "    def _forward(self, x):\n",
    "        return tf.math.sigmoid(x)\n",
    "    \n",
    "    def _inverse(self, y):\n",
    "        return tf.math.log(y) - tf.math.log(1-y)\n",
    "    \n",
    "    def _inverse_log_det_jacobian(self, y):\n",
    "        return -tf.math.log(y) - tf.math.log(1-y)\n",
    "    \n",
    "#     def _forward_log_det_jacobian(self, x):\n",
    "#         return -tf.math.softplus(-x) - tf.math.softplus(x)\n",
    "\n",
    "    def _forward_log_det_jacobian(self, x):\n",
    "        return -self._inverse_log_det_jacobian(self.forward(x))"
   ]
  },
  {
   "cell_type": "code",
   "execution_count": null,
   "metadata": {},
   "outputs": [],
   "source": []
  }
 ],
 "metadata": {
  "kernelspec": {
   "display_name": "Python 3",
   "language": "python",
   "name": "python3"
  },
  "language_info": {
   "codemirror_mode": {
    "name": "ipython",
    "version": 3
   },
   "file_extension": ".py",
   "mimetype": "text/x-python",
   "name": "python",
   "nbconvert_exporter": "python",
   "pygments_lexer": "ipython3",
   "version": "3.8.3"
  }
 },
 "nbformat": 4,
 "nbformat_minor": 4
}
