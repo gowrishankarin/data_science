{
 "cells": [
  {
   "cell_type": "markdown",
   "metadata": {},
   "source": [
    "# Class Notes\n",
    "\n",
    "## Bijectors Intro"
   ]
  },
  {
   "cell_type": "code",
   "execution_count": 1,
   "metadata": {
    "execution": {
     "iopub.execute_input": "2021-03-25T06:55:42.434529Z",
     "iopub.status.busy": "2021-03-25T06:55:42.434296Z",
     "iopub.status.idle": "2021-03-25T06:55:48.429575Z",
     "shell.execute_reply": "2021-03-25T06:55:48.428814Z",
     "shell.execute_reply.started": "2021-03-25T06:55:42.434503Z"
    }
   },
   "outputs": [],
   "source": [
    "import tensorflow as tf\n",
    "import tensorflow_probability as tfp\n",
    "tfd = tfp.distributions\n",
    "tfb = tfp.bijectors"
   ]
  },
  {
   "cell_type": "code",
   "execution_count": 3,
   "metadata": {
    "execution": {
     "iopub.execute_input": "2021-03-25T06:56:21.378775Z",
     "iopub.status.busy": "2021-03-25T06:56:21.378537Z",
     "iopub.status.idle": "2021-03-25T06:56:21.390523Z",
     "shell.execute_reply": "2021-03-25T06:56:21.389488Z",
     "shell.execute_reply.started": "2021-03-25T06:56:21.378749Z"
    }
   },
   "outputs": [
    {
     "data": {
      "text/plain": [
       "<tf.Tensor: shape=(3,), dtype=float32, numpy=array([2., 4., 6.], dtype=float32)>"
      ]
     },
     "execution_count": 3,
     "metadata": {},
     "output_type": "execute_result"
    }
   ],
   "source": [
    "z = tf.constant([1., 2., 3.])\n",
    "scale = tfb.Scale(2.)\n",
    "\n",
    "x = scale.forward(z)\n",
    "x"
   ]
  },
  {
   "cell_type": "code",
   "execution_count": 4,
   "metadata": {
    "execution": {
     "iopub.execute_input": "2021-03-25T06:57:03.454871Z",
     "iopub.status.busy": "2021-03-25T06:57:03.454577Z",
     "iopub.status.idle": "2021-03-25T06:57:03.462288Z",
     "shell.execute_reply": "2021-03-25T06:57:03.461127Z",
     "shell.execute_reply.started": "2021-03-25T06:57:03.454839Z"
    }
   },
   "outputs": [
    {
     "data": {
      "text/plain": [
       "<tf.Tensor: shape=(3,), dtype=float32, numpy=array([2.5, 1.5, 0.5], dtype=float32)>"
      ]
     },
     "execution_count": 4,
     "metadata": {},
     "output_type": "execute_result"
    }
   ],
   "source": [
    "scale.inverse(tf.constant([5., 3., 1.])) # ie x / scale"
   ]
  },
  {
   "cell_type": "markdown",
   "metadata": {
    "execution": {
     "iopub.execute_input": "2021-03-25T06:58:05.063138Z",
     "iopub.status.busy": "2021-03-25T06:58:05.062898Z",
     "iopub.status.idle": "2021-03-25T06:58:05.067832Z",
     "shell.execute_reply": "2021-03-25T06:58:05.067050Z",
     "shell.execute_reply.started": "2021-03-25T06:58:05.063113Z"
    }
   },
   "source": [
    "### Shift"
   ]
  },
  {
   "cell_type": "code",
   "execution_count": 9,
   "metadata": {
    "execution": {
     "iopub.execute_input": "2021-03-25T06:59:58.649482Z",
     "iopub.status.busy": "2021-03-25T06:59:58.649219Z",
     "iopub.status.idle": "2021-03-25T06:59:58.657254Z",
     "shell.execute_reply": "2021-03-25T06:59:58.656386Z",
     "shell.execute_reply.started": "2021-03-25T06:59:58.649456Z"
    }
   },
   "outputs": [
    {
     "data": {
      "text/plain": [
       "<tensorflow_probability.python.bijectors.chain.Chain at 0x7faed9816f40>"
      ]
     },
     "execution_count": 9,
     "metadata": {},
     "output_type": "execute_result"
    }
   ],
   "source": [
    "z = tf.constant([1., 2., 3.])\n",
    "scale = tfb.Scale(2.)\n",
    "shift = tfb.Shift(1.)\n",
    "\n",
    "scale_and_shift = tfb.Chain([shift, scale])\n",
    "scale_and_shift"
   ]
  },
  {
   "cell_type": "code",
   "execution_count": 10,
   "metadata": {
    "execution": {
     "iopub.execute_input": "2021-03-25T07:01:14.023208Z",
     "iopub.status.busy": "2021-03-25T07:01:14.022964Z",
     "iopub.status.idle": "2021-03-25T07:01:14.031425Z",
     "shell.execute_reply": "2021-03-25T07:01:14.030478Z",
     "shell.execute_reply.started": "2021-03-25T07:01:14.023181Z"
    }
   },
   "outputs": [
    {
     "data": {
      "text/plain": [
       "<tf.Tensor: shape=(3,), dtype=float32, numpy=array([3., 5., 7.], dtype=float32)>"
      ]
     },
     "execution_count": 10,
     "metadata": {},
     "output_type": "execute_result"
    }
   ],
   "source": [
    "scale_and_shift.forward(z)"
   ]
  },
  {
   "cell_type": "code",
   "execution_count": 13,
   "metadata": {
    "execution": {
     "iopub.execute_input": "2021-03-25T07:01:49.441970Z",
     "iopub.status.busy": "2021-03-25T07:01:49.441729Z",
     "iopub.status.idle": "2021-03-25T07:01:49.450178Z",
     "shell.execute_reply": "2021-03-25T07:01:49.449417Z",
     "shell.execute_reply.started": "2021-03-25T07:01:49.441943Z"
    }
   },
   "outputs": [
    {
     "data": {
      "text/plain": [
       "<tf.Tensor: shape=(3,), dtype=float32, numpy=array([0. , 0.5, 1. ], dtype=float32)>"
      ]
     },
     "execution_count": 13,
     "metadata": {},
     "output_type": "execute_result"
    }
   ],
   "source": [
    "scale_and_shift.inverse(z) # Subtract and Scale(divide)"
   ]
  },
  {
   "cell_type": "markdown",
   "metadata": {},
   "source": [
    "### Transform Random Variables"
   ]
  },
  {
   "cell_type": "code",
   "execution_count": 14,
   "metadata": {
    "execution": {
     "iopub.execute_input": "2021-03-25T07:04:52.657017Z",
     "iopub.status.busy": "2021-03-25T07:04:52.656740Z",
     "iopub.status.idle": "2021-03-25T07:04:52.665554Z",
     "shell.execute_reply": "2021-03-25T07:04:52.664704Z",
     "shell.execute_reply.started": "2021-03-25T07:04:52.656974Z"
    }
   },
   "outputs": [
    {
     "data": {
      "text/plain": [
       "<tf.Tensor: shape=(3,), dtype=float32, numpy=array([-0.18415736,  1.0752617 ,  0.15316185], dtype=float32)>"
      ]
     },
     "execution_count": 14,
     "metadata": {},
     "output_type": "execute_result"
    }
   ],
   "source": [
    "normal = tfd.Normal(loc=0, scale=1.)\n",
    "z = normal.sample(3)\n",
    "z"
   ]
  },
  {
   "cell_type": "code",
   "execution_count": 15,
   "metadata": {
    "execution": {
     "iopub.execute_input": "2021-03-25T07:05:24.769016Z",
     "iopub.status.busy": "2021-03-25T07:05:24.768776Z",
     "iopub.status.idle": "2021-03-25T07:05:24.775164Z",
     "shell.execute_reply": "2021-03-25T07:05:24.774164Z",
     "shell.execute_reply.started": "2021-03-25T07:05:24.768990Z"
    }
   },
   "outputs": [
    {
     "data": {
      "text/plain": [
       "<tensorflow_probability.python.bijectors.chain.Chain at 0x7faed9816ac0>"
      ]
     },
     "execution_count": 15,
     "metadata": {},
     "output_type": "execute_result"
    }
   ],
   "source": [
    "scale_and_shift = tfb.Chain([tfb.Shift(1.), tfb.Scale(2.)])\n",
    "scale_and_shift"
   ]
  },
  {
   "cell_type": "code",
   "execution_count": 16,
   "metadata": {
    "execution": {
     "iopub.execute_input": "2021-03-25T07:05:41.831589Z",
     "iopub.status.busy": "2021-03-25T07:05:41.831308Z",
     "iopub.status.idle": "2021-03-25T07:05:41.839398Z",
     "shell.execute_reply": "2021-03-25T07:05:41.838363Z",
     "shell.execute_reply.started": "2021-03-25T07:05:41.831559Z"
    }
   },
   "outputs": [
    {
     "data": {
      "text/plain": [
       "<tf.Tensor: shape=(3,), dtype=float32, numpy=array([0.63168526, 3.1505234 , 1.3063238 ], dtype=float32)>"
      ]
     },
     "execution_count": 16,
     "metadata": {},
     "output_type": "execute_result"
    }
   ],
   "source": [
    "x = scale_and_shift.forward(z)\n",
    "x"
   ]
  },
  {
   "cell_type": "code",
   "execution_count": 19,
   "metadata": {
    "execution": {
     "iopub.execute_input": "2021-03-25T07:09:43.229157Z",
     "iopub.status.busy": "2021-03-25T07:09:43.228898Z",
     "iopub.status.idle": "2021-03-25T07:09:43.235501Z",
     "shell.execute_reply": "2021-03-25T07:09:43.234730Z",
     "shell.execute_reply.started": "2021-03-25T07:09:43.229130Z"
    }
   },
   "outputs": [
    {
     "data": {
      "text/plain": [
       "<tf.Tensor: shape=(3,), dtype=float32, numpy=array([-0.9358955, -1.4970324, -0.9306678], dtype=float32)>"
      ]
     },
     "execution_count": 19,
     "metadata": {},
     "output_type": "execute_result"
    }
   ],
   "source": [
    "log_prob_z = normal.log_prob(z)\n",
    "log_prob_z"
   ]
  },
  {
   "cell_type": "code",
   "execution_count": 21,
   "metadata": {
    "execution": {
     "iopub.execute_input": "2021-03-25T07:10:54.762608Z",
     "iopub.status.busy": "2021-03-25T07:10:54.762350Z",
     "iopub.status.idle": "2021-03-25T07:10:54.773638Z",
     "shell.execute_reply": "2021-03-25T07:10:54.772936Z",
     "shell.execute_reply.started": "2021-03-25T07:10:54.762579Z"
    }
   },
   "outputs": [
    {
     "data": {
      "text/plain": [
       "<tf.Tensor: shape=(3,), dtype=float32, numpy=array([-1.6290426, -2.1901796, -1.6238151], dtype=float32)>"
      ]
     },
     "execution_count": 21,
     "metadata": {},
     "output_type": "execute_result"
    }
   ],
   "source": [
    "log_prob_x = normal.log_prob(z) - scale_and_shift.forward_log_det_jacobian(z, event_ndims=0)\n",
    "log_prob_x"
   ]
  },
  {
   "cell_type": "code",
   "execution_count": null,
   "metadata": {},
   "outputs": [],
   "source": []
  }
 ],
 "metadata": {
  "kernelspec": {
   "display_name": "Python 3",
   "language": "python",
   "name": "python3"
  },
  "language_info": {
   "codemirror_mode": {
    "name": "ipython",
    "version": 3
   },
   "file_extension": ".py",
   "mimetype": "text/x-python",
   "name": "python",
   "nbconvert_exporter": "python",
   "pygments_lexer": "ipython3",
   "version": "3.8.3"
  }
 },
 "nbformat": 4,
 "nbformat_minor": 4
}
