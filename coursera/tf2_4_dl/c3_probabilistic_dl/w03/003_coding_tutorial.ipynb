{
 "cells": [
  {
   "cell_type": "code",
   "execution_count": 1,
   "metadata": {
    "execution": {
     "iopub.execute_input": "2021-03-25T07:21:54.179719Z",
     "iopub.status.busy": "2021-03-25T07:21:54.179463Z",
     "iopub.status.idle": "2021-03-25T07:21:57.348302Z",
     "shell.execute_reply": "2021-03-25T07:21:57.347478Z",
     "shell.execute_reply.started": "2021-03-25T07:21:54.179690Z"
    },
    "id": "zx3E09_-qySM"
   },
   "outputs": [
    {
     "name": "stdout",
     "output_type": "stream",
     "text": [
      "TF version: 2.4.0\n",
      "TFP version: 0.12.1\n"
     ]
    }
   ],
   "source": [
    "import tensorflow as tf\n",
    "import tensorflow_probability as tfp\n",
    "tfd = tfp.distributions\n",
    "tfb = tfp.bijectors\n",
    "tfpl = tfp.layers\n",
    "\n",
    "print(\"TF version:\", tf.__version__)\n",
    "print(\"TFP version:\", tfp.__version__)"
   ]
  },
  {
   "cell_type": "code",
   "execution_count": 2,
   "metadata": {
    "execution": {
     "iopub.execute_input": "2021-03-25T07:21:57.350194Z",
     "iopub.status.busy": "2021-03-25T07:21:57.349916Z",
     "iopub.status.idle": "2021-03-25T07:21:57.660377Z",
     "shell.execute_reply": "2021-03-25T07:21:57.659839Z",
     "shell.execute_reply.started": "2021-03-25T07:21:57.350153Z"
    },
    "id": "gphvfXHHqySR"
   },
   "outputs": [],
   "source": [
    "import numpy as np\n",
    "import pandas as pd\n",
    "import matplotlib.pyplot as plt"
   ]
  },
  {
   "cell_type": "markdown",
   "metadata": {
    "id": "rLPDgg2wqySU"
   },
   "source": [
    "# Bijectors and normalising flows"
   ]
  },
  {
   "cell_type": "markdown",
   "metadata": {
    "id": "N3qO9kPxqySV"
   },
   "source": [
    " ## Coding tutorials\n",
    " #### [1. Bijectors](#coding_tutorial_1)\n",
    " #### [2. The TransformedDistribution class](#coding_tutorial_2)\n",
    " #### [3. Subclassing bijectors](#coding_tutorial_3)\n",
    " #### [4. Normalising flows](#coding_tutorial_4)"
   ]
  },
  {
   "cell_type": "markdown",
   "metadata": {
    "id": "DG5tqsTrqySV"
   },
   "source": [
    "***\n",
    "<a id=\"coding_tutorial_1\"></a>\n",
    "## Bijectors"
   ]
  },
  {
   "cell_type": "code",
   "execution_count": 4,
   "metadata": {
    "execution": {
     "iopub.execute_input": "2021-03-25T07:27:26.228770Z",
     "iopub.status.busy": "2021-03-25T07:27:26.228565Z",
     "iopub.status.idle": "2021-03-25T07:27:26.238365Z",
     "shell.execute_reply": "2021-03-25T07:27:26.237234Z",
     "shell.execute_reply.started": "2021-03-25T07:27:26.228748Z"
    },
    "id": "YJ8lkWUbqySW"
   },
   "outputs": [],
   "source": [
    "# Define base distribution\n",
    "normal = tfd.Normal(loc=0, scale=1.)\n"
   ]
  },
  {
   "cell_type": "code",
   "execution_count": 5,
   "metadata": {
    "execution": {
     "iopub.execute_input": "2021-03-25T07:27:44.592712Z",
     "iopub.status.busy": "2021-03-25T07:27:44.592473Z",
     "iopub.status.idle": "2021-03-25T07:27:44.599413Z",
     "shell.execute_reply": "2021-03-25T07:27:44.598701Z",
     "shell.execute_reply.started": "2021-03-25T07:27:44.592686Z"
    },
    "id": "5uJ7uomKqySZ"
   },
   "outputs": [],
   "source": [
    "# Sample from base distribution\n",
    "\n",
    "n = 1000\n",
    "z = normal.sample(n)"
   ]
  },
  {
   "cell_type": "markdown",
   "metadata": {
    "id": "-NnivmlaqySc"
   },
   "source": [
    "### Scale and shift bijector"
   ]
  },
  {
   "cell_type": "code",
   "execution_count": 6,
   "metadata": {
    "execution": {
     "iopub.execute_input": "2021-03-25T07:27:55.846228Z",
     "iopub.status.busy": "2021-03-25T07:27:55.845989Z",
     "iopub.status.idle": "2021-03-25T07:27:55.849687Z",
     "shell.execute_reply": "2021-03-25T07:27:55.848773Z",
     "shell.execute_reply.started": "2021-03-25T07:27:55.846202Z"
    },
    "id": "qf5C5iRBqySd"
   },
   "outputs": [],
   "source": [
    "# Define scale and shift\n",
    "\n",
    "scale = 4.5\n",
    "shift = 7"
   ]
  },
  {
   "cell_type": "code",
   "execution_count": 7,
   "metadata": {
    "execution": {
     "iopub.execute_input": "2021-03-25T07:28:30.941417Z",
     "iopub.status.busy": "2021-03-25T07:28:30.941179Z",
     "iopub.status.idle": "2021-03-25T07:28:30.946691Z",
     "shell.execute_reply": "2021-03-25T07:28:30.945856Z",
     "shell.execute_reply.started": "2021-03-25T07:28:30.941391Z"
    },
    "id": "BUsrueO0qySf"
   },
   "outputs": [],
   "source": [
    "# Define chain bijector\n",
    "\n",
    "scale_and_shift = tfb.Chain([tfb.Shift(shift), tfb.Scale(scale)])"
   ]
  },
  {
   "cell_type": "code",
   "execution_count": 12,
   "metadata": {
    "execution": {
     "iopub.execute_input": "2021-03-25T07:31:08.342922Z",
     "iopub.status.busy": "2021-03-25T07:31:08.342677Z",
     "iopub.status.idle": "2021-03-25T07:31:08.348095Z",
     "shell.execute_reply": "2021-03-25T07:31:08.347248Z",
     "shell.execute_reply.started": "2021-03-25T07:31:08.342896Z"
    },
    "id": "RCEgLBz7qySi"
   },
   "outputs": [],
   "source": [
    "# We can also use call methods\n",
    "scale_transf = tfb.Scale(scale)\n",
    "shift_transf = tfb.Shift(shift)\n",
    "\n",
    "scale_and_shift = shift_transf(scale_transf)"
   ]
  },
  {
   "cell_type": "code",
   "execution_count": 13,
   "metadata": {
    "execution": {
     "iopub.execute_input": "2021-03-25T07:31:21.390369Z",
     "iopub.status.busy": "2021-03-25T07:31:21.390121Z",
     "iopub.status.idle": "2021-03-25T07:31:21.394947Z",
     "shell.execute_reply": "2021-03-25T07:31:21.394142Z",
     "shell.execute_reply.started": "2021-03-25T07:31:21.390342Z"
    },
    "id": "qSXf4yGhqySm"
   },
   "outputs": [],
   "source": [
    "# Apply the forward transformation\n",
    "\n",
    "x = scale_and_shift.forward(z)"
   ]
  },
  {
   "cell_type": "code",
   "execution_count": 14,
   "metadata": {
    "execution": {
     "iopub.execute_input": "2021-03-25T07:31:57.471914Z",
     "iopub.status.busy": "2021-03-25T07:31:57.471670Z",
     "iopub.status.idle": "2021-03-25T07:31:57.478085Z",
     "shell.execute_reply": "2021-03-25T07:31:57.477132Z",
     "shell.execute_reply.started": "2021-03-25T07:31:57.471888Z"
    },
    "id": "hrJAn2BcqySo"
   },
   "outputs": [
    {
     "data": {
      "text/plain": [
       "<tf.Tensor: shape=(), dtype=float32, numpy=0.0>"
      ]
     },
     "execution_count": 14,
     "metadata": {},
     "output_type": "execute_result"
    }
   ],
   "source": [
    "# Check the forward transformation\n",
    "\n",
    "tf.norm(x - (scale*z + shift))"
   ]
  },
  {
   "cell_type": "markdown",
   "metadata": {
    "id": "HzUkVbu7qySs"
   },
   "source": [
    "#### Plots"
   ]
  },
  {
   "cell_type": "code",
   "execution_count": 17,
   "metadata": {
    "execution": {
     "iopub.execute_input": "2021-03-25T07:33:19.931471Z",
     "iopub.status.busy": "2021-03-25T07:33:19.931222Z",
     "iopub.status.idle": "2021-03-25T07:33:20.179578Z",
     "shell.execute_reply": "2021-03-25T07:33:20.178611Z",
     "shell.execute_reply.started": "2021-03-25T07:33:19.931444Z"
    },
    "id": "IXWKCQOKqySt"
   },
   "outputs": [
    {
     "data": {
      "image/png": "[encoded data removed]",
      "text/plain": [
       "<Figure size 432x288 with 1 Axes>"
      ]
     },
     "metadata": {
      "needs_background": "light"
     },
     "output_type": "display_data"
    }
   ],
   "source": [
    "# Plot z density\n",
    "\n",
    "plt.hist(z, bins=60, density=True)\n",
    "plt.show()"
   ]
  },
  {
   "cell_type": "code",
   "execution_count": 18,
   "metadata": {
    "execution": {
     "iopub.execute_input": "2021-03-25T07:33:20.330299Z",
     "iopub.status.busy": "2021-03-25T07:33:20.330028Z",
     "iopub.status.idle": "2021-03-25T07:33:20.588637Z",
     "shell.execute_reply": "2021-03-25T07:33:20.587921Z",
     "shell.execute_reply.started": "2021-03-25T07:33:20.330272Z"
    },
    "id": "b6jaxQfyqySv"
   },
   "outputs": [
    {
     "data": {
      "image/png": "[encoded data removed]",
      "text/plain": [
       "<Figure size 432x288 with 1 Axes>"
      ]
     },
     "metadata": {
      "needs_background": "light"
     },
     "output_type": "display_data"
    }
   ],
   "source": [
    "# Plot x density\n",
    "\n",
    "plt.hist(x, bins=60, density=True)\n",
    "plt.show()"
   ]
  },
  {
   "cell_type": "markdown",
   "metadata": {
    "id": "YwoQHX7sqySy"
   },
   "source": [
    "#### Inverse transformation"
   ]
  },
  {
   "cell_type": "code",
   "execution_count": 19,
   "metadata": {
    "execution": {
     "iopub.execute_input": "2021-03-25T07:38:23.660519Z",
     "iopub.status.busy": "2021-03-25T07:38:23.660267Z",
     "iopub.status.idle": "2021-03-25T07:38:23.665122Z",
     "shell.execute_reply": "2021-03-25T07:38:23.664177Z",
     "shell.execute_reply.started": "2021-03-25T07:38:23.660492Z"
    },
    "id": "OaTMta04qySy"
   },
   "outputs": [],
   "source": [
    "# Apply inverse transformation\n",
    "\n",
    "inv_x = scale_and_shift.inverse(x)"
   ]
  },
  {
   "cell_type": "code",
   "execution_count": 20,
   "metadata": {
    "execution": {
     "iopub.execute_input": "2021-03-25T07:38:35.533690Z",
     "iopub.status.busy": "2021-03-25T07:38:35.533447Z",
     "iopub.status.idle": "2021-03-25T07:38:35.538772Z",
     "shell.execute_reply": "2021-03-25T07:38:35.537995Z",
     "shell.execute_reply.started": "2021-03-25T07:38:35.533664Z"
    },
    "id": "lA-aZWb7qyS1"
   },
   "outputs": [
    {
     "data": {
      "text/plain": [
       "<tf.Tensor: shape=(), dtype=float32, numpy=0.0>"
      ]
     },
     "execution_count": 20,
     "metadata": {},
     "output_type": "execute_result"
    }
   ],
   "source": [
    "# Check inverse transformation\n",
    "tf.norm(inv_x -z)\n"
   ]
  },
  {
   "cell_type": "code",
   "execution_count": 21,
   "metadata": {
    "execution": {
     "iopub.execute_input": "2021-03-25T07:38:49.967448Z",
     "iopub.status.busy": "2021-03-25T07:38:49.967197Z",
     "iopub.status.idle": "2021-03-25T07:38:50.212609Z",
     "shell.execute_reply": "2021-03-25T07:38:50.211859Z",
     "shell.execute_reply.started": "2021-03-25T07:38:49.967420Z"
    }
   },
   "outputs": [
    {
     "data": {
      "image/png": "[encoded data removed]",
      "text/plain": [
       "<Figure size 432x288 with 1 Axes>"
      ]
     },
     "metadata": {
      "needs_background": "light"
     },
     "output_type": "display_data"
    }
   ],
   "source": [
    "plt.hist(inv_x, bins=60, density=True)\n",
    "plt.show()"
   ]
  },
  {
   "cell_type": "markdown",
   "metadata": {
    "id": "-dsVcPrkqyS3"
   },
   "source": [
    "#### Log probability"
   ]
  },
  {
   "cell_type": "code",
   "execution_count": 25,
   "metadata": {
    "execution": {
     "iopub.execute_input": "2021-03-25T07:41:52.134594Z",
     "iopub.status.busy": "2021-03-25T07:41:52.134348Z",
     "iopub.status.idle": "2021-03-25T07:41:52.146379Z",
     "shell.execute_reply": "2021-03-25T07:41:52.145501Z",
     "shell.execute_reply.started": "2021-03-25T07:41:52.134568Z"
    },
    "id": "gOT_fEIcqyS3"
   },
   "outputs": [
    {
     "data": {
      "text/plain": [
       "<tf.Tensor: shape=(10,), dtype=float32, numpy=\n",
       "array([-3.3911173, -3.0398223, -2.8290808, -2.4283984, -2.4290495,\n",
       "       -2.7627068, -2.4243681, -2.4238553, -2.717133 , -2.4371343],\n",
       "      dtype=float32)>"
      ]
     },
     "execution_count": 25,
     "metadata": {},
     "output_type": "execute_result"
    }
   ],
   "source": [
    "# Compute log prob for x\n",
    "log_prob_x = normal.log_prob(z) - scale_and_shift.forward_log_det_jacobian(z, event_ndims=0)\n",
    "log_prob_x[:10]"
   ]
  },
  {
   "cell_type": "code",
   "execution_count": 27,
   "metadata": {
    "execution": {
     "iopub.execute_input": "2021-03-25T07:44:35.521674Z",
     "iopub.status.busy": "2021-03-25T07:44:35.521431Z",
     "iopub.status.idle": "2021-03-25T07:44:35.533619Z",
     "shell.execute_reply": "2021-03-25T07:44:35.532888Z",
     "shell.execute_reply.started": "2021-03-25T07:44:35.521647Z"
    },
    "id": "d59VoBnuqyS6"
   },
   "outputs": [
    {
     "data": {
      "text/plain": [
       "<tf.Tensor: shape=(10,), dtype=float32, numpy=\n",
       "array([-3.3911173, -3.0398223, -2.8290808, -2.4283984, -2.4290495,\n",
       "       -2.7627068, -2.4243681, -2.4238553, -2.717133 , -2.4371343],\n",
       "      dtype=float32)>"
      ]
     },
     "execution_count": 27,
     "metadata": {},
     "output_type": "execute_result"
    }
   ],
   "source": [
    "# We can also use the inverse transformation\n",
    "log_prob_x = (normal.log_prob(scale_and_shift.inverse(x)) + scale_and_shift.inverse_log_det_jacobian(x, event_ndims=0))\n",
    "log_prob_x[:10]"
   ]
  },
  {
   "cell_type": "markdown",
   "metadata": {
    "id": "TX4Pa-mhqyS8"
   },
   "source": [
    "### Broadcasting"
   ]
  },
  {
   "cell_type": "code",
   "execution_count": 28,
   "metadata": {
    "execution": {
     "iopub.execute_input": "2021-03-25T07:45:11.617910Z",
     "iopub.status.busy": "2021-03-25T07:45:11.617674Z",
     "iopub.status.idle": "2021-03-25T07:45:11.621817Z",
     "shell.execute_reply": "2021-03-25T07:45:11.621148Z",
     "shell.execute_reply.started": "2021-03-25T07:45:11.617884Z"
    },
    "id": "Bylt-_zRqyS9"
   },
   "outputs": [],
   "source": [
    "x = tf.random.normal(shape=(100, 1))"
   ]
  },
  {
   "cell_type": "code",
   "execution_count": 29,
   "metadata": {
    "execution": {
     "iopub.execute_input": "2021-03-25T07:45:53.001626Z",
     "iopub.status.busy": "2021-03-25T07:45:53.001392Z",
     "iopub.status.idle": "2021-03-25T07:45:53.012816Z",
     "shell.execute_reply": "2021-03-25T07:45:53.011446Z",
     "shell.execute_reply.started": "2021-03-25T07:45:53.001601Z"
    },
    "id": "ETxaa6c7qyS_"
   },
   "outputs": [
    {
     "name": "stdout",
     "output_type": "stream",
     "text": [
      "(100, 1)\n"
     ]
    }
   ],
   "source": [
    "# Softfloor bijector\n",
    "softfloor = tfb.Softfloor(temperature=0.01)\n",
    "y = softfloor.forward(x)\n",
    "print(y.shape)"
   ]
  },
  {
   "cell_type": "code",
   "execution_count": 30,
   "metadata": {
    "execution": {
     "iopub.execute_input": "2021-03-25T07:48:07.049693Z",
     "iopub.status.busy": "2021-03-25T07:48:07.049440Z",
     "iopub.status.idle": "2021-03-25T07:48:07.057951Z",
     "shell.execute_reply": "2021-03-25T07:48:07.057193Z",
     "shell.execute_reply.started": "2021-03-25T07:48:07.049664Z"
    },
    "id": "w39w_c3WqyTB"
   },
   "outputs": [
    {
     "name": "stdout",
     "output_type": "stream",
     "text": [
      "(100, 2)\n"
     ]
    }
   ],
   "source": [
    "# Softfloor bijector using broadcasting\n",
    "softfloor = tfb.Softfloor(temperature=[0.2, 1.])\n",
    "y = softfloor.forward(x)\n",
    "print(y.shape)"
   ]
  },
  {
   "cell_type": "code",
   "execution_count": 31,
   "metadata": {
    "execution": {
     "iopub.execute_input": "2021-03-25T07:48:47.481677Z",
     "iopub.status.busy": "2021-03-25T07:48:47.481430Z",
     "iopub.status.idle": "2021-03-25T07:48:47.485394Z",
     "shell.execute_reply": "2021-03-25T07:48:47.484664Z",
     "shell.execute_reply.started": "2021-03-25T07:48:47.481650Z"
    },
    "id": "kTZoiF1AqyTE"
   },
   "outputs": [],
   "source": [
    "# Softfloor bijector using broadcasting\n",
    "\n",
    "softfloor = tfb.Softfloor(temperature=[0.01, 0.1, 1.])"
   ]
  },
  {
   "cell_type": "code",
   "execution_count": 32,
   "metadata": {
    "execution": {
     "iopub.execute_input": "2021-03-25T07:48:48.041666Z",
     "iopub.status.busy": "2021-03-25T07:48:48.041425Z",
     "iopub.status.idle": "2021-03-25T07:48:48.048243Z",
     "shell.execute_reply": "2021-03-25T07:48:48.047312Z",
     "shell.execute_reply.started": "2021-03-25T07:48:48.041640Z"
    },
    "id": "AwiBI1xsqyTG"
   },
   "outputs": [],
   "source": [
    "# Plot routine\n",
    "\n",
    "def _plot(nparams, bijector, params, x):\n",
    "    bijector_params = tuple(getattr(bijector, name) for name in params)\n",
    "    upper_params = [name[0].upper() + name[1:] for name in params]\n",
    "    fig = plt.figure(figsize=(14, 5))\n",
    "    lines = plt.plot(np.tile(x, nparams), bijector.forward(x))\n",
    "    for l in zip(lines, *bijector_params):\n",
    "        labels = \": {:.2f}, \".join(upper_params) + ': {:.2f}'\n",
    "        l[0].set_label(labels.format(*l[1:]))\n",
    "    plt.legend()\n",
    "    plt.show()"
   ]
  },
  {
   "cell_type": "code",
   "execution_count": 34,
   "metadata": {
    "execution": {
     "iopub.execute_input": "2021-03-25T07:50:00.224305Z",
     "iopub.status.busy": "2021-03-25T07:50:00.224074Z",
     "iopub.status.idle": "2021-03-25T07:50:00.437630Z",
     "shell.execute_reply": "2021-03-25T07:50:00.436953Z",
     "shell.execute_reply.started": "2021-03-25T07:50:00.224280Z"
    },
    "id": "eBwXfWLHqyTI"
   },
   "outputs": [
    {
     "data": {
      "image/png": "[encoded data removed]",
      "text/plain": [
       "<Figure size 1008x360 with 1 Axes>"
      ]
     },
     "metadata": {
      "needs_background": "light"
     },
     "output_type": "display_data"
    }
   ],
   "source": [
    "# Plot\n",
    "\n",
    "x = np.linspace(-2, 2, 2000)[..., np.newaxis]\n",
    "_plot(3, softfloor, ['temperature'], x)"
   ]
  },
  {
   "cell_type": "code",
   "execution_count": 35,
   "metadata": {
    "execution": {
     "iopub.execute_input": "2021-03-25T07:51:05.584880Z",
     "iopub.status.busy": "2021-03-25T07:51:05.584633Z",
     "iopub.status.idle": "2021-03-25T07:51:05.589097Z",
     "shell.execute_reply": "2021-03-25T07:51:05.588322Z",
     "shell.execute_reply.started": "2021-03-25T07:51:05.584853Z"
    },
    "id": "U1aJ0CZ0qyTK"
   },
   "outputs": [],
   "source": [
    "# Gumbel bijector using broadcasting\n",
    "exps = tfb.GumbelCDF(loc=[0.5, 1, 1.5, 2, 3], scale=[1, 2, 2, 3, 4])\n"
   ]
  },
  {
   "cell_type": "code",
   "execution_count": 37,
   "metadata": {
    "execution": {
     "iopub.execute_input": "2021-03-25T07:51:29.995349Z",
     "iopub.status.busy": "2021-03-25T07:51:29.995103Z",
     "iopub.status.idle": "2021-03-25T07:51:30.215997Z",
     "shell.execute_reply": "2021-03-25T07:51:30.215265Z",
     "shell.execute_reply.started": "2021-03-25T07:51:29.995323Z"
    },
    "id": "KK904tTZqyTM"
   },
   "outputs": [
    {
     "data": {
      "image/png": "[encoded data removed]",
      "text/plain": [
       "<Figure size 1008x360 with 1 Axes>"
      ]
     },
     "metadata": {
      "needs_background": "light"
     },
     "output_type": "display_data"
    }
   ],
   "source": [
    "# Plot\n",
    "\n",
    "x = np.linspace(-10, 10, 2000, dtype=np.float32)[..., np.newaxis]\n",
    "_plot(5, exps, ['loc', 'scale'], x)"
   ]
  },
  {
   "cell_type": "markdown",
   "metadata": {
    "id": "OZ-2ibBFqyTP"
   },
   "source": [
    "***\n",
    "<a id=\"coding_tutorial_2\"></a>\n",
    "## The TransformedDistribution class"
   ]
  },
  {
   "cell_type": "markdown",
   "metadata": {
    "id": "bWIFwTDdqyTP"
   },
   "source": [
    "### TransformedDistribution"
   ]
  },
  {
   "cell_type": "code",
   "execution_count": null,
   "metadata": {
    "id": "MkC4skb3qyTP"
   },
   "outputs": [],
   "source": [
    "# Parameters\n",
    "\n",
    "n = 10000\n",
    "loc = 0\n",
    "scale = 0.5"
   ]
  },
  {
   "cell_type": "code",
   "execution_count": null,
   "metadata": {
    "id": "jTAecDzMqyTS"
   },
   "outputs": [],
   "source": [
    "# Normal distribution\n",
    "\n",
    "normal = tfd.Normal(loc=loc, scale=scale)"
   ]
  },
  {
   "cell_type": "code",
   "execution_count": null,
   "metadata": {
    "id": "MYxeM2L9qyTV"
   },
   "outputs": [],
   "source": [
    "# Display event and batch shape\n",
    "\n",
    "print('batch shape: ', normal.batch_shape)\n",
    "print('event shape: ', normal.event_shape)"
   ]
  },
  {
   "cell_type": "code",
   "execution_count": null,
   "metadata": {
    "id": "FTnmDabyqyTW"
   },
   "outputs": [],
   "source": [
    "# Exponential bijector\n",
    "\n"
   ]
  },
  {
   "cell_type": "code",
   "execution_count": null,
   "metadata": {
    "id": "bRUNwCsDqyTY"
   },
   "outputs": [],
   "source": [
    "# Log normal transformed distribution using exp and normal bijectors\n",
    "\n"
   ]
  },
  {
   "cell_type": "code",
   "execution_count": null,
   "metadata": {
    "id": "klj7vbeoqyTb"
   },
   "outputs": [],
   "source": [
    "# Display event and batch shape\n",
    "\n"
   ]
  },
  {
   "cell_type": "code",
   "execution_count": null,
   "metadata": {
    "id": "PuuSQJMxqyTf"
   },
   "outputs": [],
   "source": [
    "# Base distribution\n",
    "\n"
   ]
  },
  {
   "cell_type": "markdown",
   "metadata": {
    "id": "fjaV0vv8qyTh"
   },
   "source": [
    "#### Plots"
   ]
  },
  {
   "cell_type": "code",
   "execution_count": null,
   "metadata": {
    "id": "5vsevwMmqyTh"
   },
   "outputs": [],
   "source": [
    "# Plot z density\n",
    "\n"
   ]
  },
  {
   "cell_type": "code",
   "execution_count": null,
   "metadata": {
    "id": "Upg79Mg5qyTj"
   },
   "outputs": [],
   "source": [
    "# Transformed distribution\n",
    "\n"
   ]
  },
  {
   "cell_type": "code",
   "execution_count": null,
   "metadata": {
    "id": "GPbS_5vhqyTl"
   },
   "outputs": [],
   "source": [
    "# Plot x density\n",
    "\n"
   ]
  },
  {
   "cell_type": "code",
   "execution_count": null,
   "metadata": {
    "id": "TIF-JCclqyTm"
   },
   "outputs": [],
   "source": [
    "# Define log normal distribution\n",
    "\n"
   ]
  },
  {
   "cell_type": "code",
   "execution_count": null,
   "metadata": {
    "id": "SphofY4BqyTp"
   },
   "outputs": [],
   "source": [
    "# Sample log_normal\n",
    "\n"
   ]
  },
  {
   "cell_type": "code",
   "execution_count": null,
   "metadata": {
    "id": "QByGzaCxqyTs"
   },
   "outputs": [],
   "source": [
    "# Plot l density\n",
    "\n"
   ]
  },
  {
   "cell_type": "markdown",
   "metadata": {
    "id": "YYtqzyA-qyTt"
   },
   "source": [
    "#### Log probability"
   ]
  },
  {
   "cell_type": "code",
   "execution_count": null,
   "metadata": {
    "id": "l9Frh0AIqyTu"
   },
   "outputs": [],
   "source": [
    "# Log prob of LogNormal\n",
    "\n"
   ]
  },
  {
   "cell_type": "code",
   "execution_count": null,
   "metadata": {
    "id": "K-xNVY4jqyTv"
   },
   "outputs": [],
   "source": [
    "# Log prob of log normal transformed distribution\n",
    "\n"
   ]
  },
  {
   "cell_type": "code",
   "execution_count": null,
   "metadata": {
    "id": "JinGI17bqyTx"
   },
   "outputs": [],
   "source": [
    "# Check log probs\n",
    "\n"
   ]
  },
  {
   "cell_type": "markdown",
   "metadata": {
    "id": "oEjWcd6KqyT0"
   },
   "source": [
    "### Event shape and batch shape"
   ]
  },
  {
   "cell_type": "code",
   "execution_count": null,
   "metadata": {
    "id": "YNPyJmH8qyT0"
   },
   "outputs": [],
   "source": [
    "# Set a scaling lower triangular matrix\n",
    "\n"
   ]
  },
  {
   "cell_type": "code",
   "execution_count": null,
   "metadata": {
    "id": "feEjq5cJqyT2"
   },
   "outputs": [],
   "source": [
    "# View of scale_low_tri\n",
    "\n"
   ]
  },
  {
   "cell_type": "code",
   "execution_count": null,
   "metadata": {
    "id": "0Hql45GcqyT6"
   },
   "outputs": [],
   "source": [
    "# Define scale linear operator\n",
    "\n"
   ]
  },
  {
   "cell_type": "code",
   "execution_count": null,
   "metadata": {
    "id": "ph0lmqLIqyT7"
   },
   "outputs": [],
   "source": [
    "# Define scale linear operator transformed distribution with a batch and event shape\n",
    "\n"
   ]
  },
  {
   "cell_type": "code",
   "execution_count": null,
   "metadata": {
    "id": "fBojWcgzqyT-"
   },
   "outputs": [],
   "source": [
    "# Display event and batch shape\n",
    "\n"
   ]
  },
  {
   "cell_type": "code",
   "execution_count": null,
   "metadata": {
    "id": "UclD1H7AqyUA"
   },
   "outputs": [],
   "source": [
    "# Sample\n",
    "\n"
   ]
  },
  {
   "cell_type": "code",
   "execution_count": null,
   "metadata": {
    "id": "yTYmhzYzqyUC"
   },
   "outputs": [],
   "source": [
    "# Define a MultivariateNormalLinearOperator distribution\n",
    "\n"
   ]
  },
  {
   "cell_type": "code",
   "execution_count": null,
   "metadata": {
    "id": "tlpVFOG1qyUE"
   },
   "outputs": [],
   "source": [
    "# Display event and batch shape\n",
    "\n"
   ]
  },
  {
   "cell_type": "code",
   "execution_count": null,
   "metadata": {
    "id": "ApRuznulqyUF"
   },
   "outputs": [],
   "source": [
    "# Sample\n",
    "\n"
   ]
  },
  {
   "cell_type": "code",
   "execution_count": null,
   "metadata": {
    "id": "LeGt0xwGqyUJ"
   },
   "outputs": [],
   "source": [
    "# Check\n",
    "\n"
   ]
  },
  {
   "cell_type": "markdown",
   "metadata": {
    "id": "FShWrkqaqyUN"
   },
   "source": [
    "***\n",
    "<a id=\"coding_tutorial_3\"></a>\n",
    "## Subclassing bijectors"
   ]
  },
  {
   "cell_type": "code",
   "execution_count": null,
   "metadata": {
    "id": "mfApknEiqyUN"
   },
   "outputs": [],
   "source": [
    "# Define a new bijector: Cubic\n",
    "\n",
    "class Cubic(tfb.Bijector):\n",
    "\n",
    "    def __init__(self, a, b, validate_args=False, name='Cubic'):\n",
    "        self.a = tf.cast(a, tf.float32)\n",
    "        self.b = tf.cast(b, tf.float32)\n",
    "        if validate_args:\n",
    "            assert tf.reduce_mean(tf.cast(tf.math.greater_equal(tf.abs(self.a), 1e-5), tf.float32)) == 1.0\n",
    "            assert tf.reduce_mean(tf.cast(tf.math.greater_equal(tf.abs(self.b), 1e-5), tf.float32)) == 1.0\n",
    "        super(Cubic, self).__init__(\n",
    "            validate_args=validate_args, forward_min_event_ndims=0, name=name)\n"
   ]
  },
  {
   "cell_type": "code",
   "execution_count": null,
   "metadata": {
    "id": "61v6_UadqyUO"
   },
   "outputs": [],
   "source": [
    "# Cubic bijector\n",
    "\n"
   ]
  },
  {
   "cell_type": "code",
   "execution_count": null,
   "metadata": {
    "id": "dP0KVSPAqyUQ"
   },
   "outputs": [],
   "source": [
    "# Apply forward transformation\n",
    "\n"
   ]
  },
  {
   "cell_type": "code",
   "execution_count": null,
   "metadata": {
    "id": "-JOM7vN5qyUR"
   },
   "outputs": [],
   "source": [
    "# Check inverse\n",
    "\n"
   ]
  },
  {
   "cell_type": "markdown",
   "metadata": {
    "id": "q6Fm70pBqyUU"
   },
   "source": [
    "#### Function plots"
   ]
  },
  {
   "cell_type": "code",
   "execution_count": null,
   "metadata": {
    "id": "qacTwL10qyUV"
   },
   "outputs": [],
   "source": [
    "# Plot the forward transformation\n",
    "\n",
    "x = np.linspace(-10, 10, 500).reshape(-1, 1)"
   ]
  },
  {
   "cell_type": "code",
   "execution_count": null,
   "metadata": {
    "id": "DflIQl4zqyUW"
   },
   "outputs": [],
   "source": [
    "# Display shape\n",
    "\n"
   ]
  },
  {
   "cell_type": "code",
   "execution_count": null,
   "metadata": {
    "id": "uAwqKnCfqyUZ"
   },
   "outputs": [],
   "source": [
    "# Plot the inverse\n",
    "\n"
   ]
  },
  {
   "cell_type": "code",
   "execution_count": null,
   "metadata": {
    "id": "-GEn9ID8qyUb"
   },
   "outputs": [],
   "source": [
    "# Plot the forward log Jacobian determinant\n",
    "\n"
   ]
  },
  {
   "cell_type": "code",
   "execution_count": null,
   "metadata": {
    "id": "OjCMa4EUqyUd"
   },
   "outputs": [],
   "source": [
    "# Plot the inverse log Jacobian determinant\n",
    "\n"
   ]
  },
  {
   "cell_type": "markdown",
   "metadata": {
    "id": "fw7wNX9hqyUf"
   },
   "source": [
    "#### TransformedDistribution and plots"
   ]
  },
  {
   "cell_type": "code",
   "execution_count": null,
   "metadata": {
    "id": "FmdHPhMGqyUf"
   },
   "outputs": [],
   "source": [
    "# Create a transformed distribution with Cubic\n",
    "\n"
   ]
  },
  {
   "cell_type": "code",
   "execution_count": null,
   "metadata": {
    "id": "vogUAeM4qyUg"
   },
   "outputs": [],
   "source": [
    "# Sample cubed_normal\n",
    "\n"
   ]
  },
  {
   "cell_type": "code",
   "execution_count": null,
   "metadata": {
    "id": "_z33eU-iqyUi"
   },
   "outputs": [],
   "source": [
    "# Plot histograms\n",
    "\n",
    "plt.figure(figsize=(12, 4))\n",
    "plt.subplot(1, 2, 1)\n",
    "plt.hist(g[..., 0], bins=50, density=True)\n",
    "plt.subplot(1, 2, 2)\n",
    "plt.hist(g[..., 1], bins=50, density=True)\n",
    "plt.show()"
   ]
  },
  {
   "cell_type": "code",
   "execution_count": null,
   "metadata": {
    "id": "RlnwzvOxqyUj"
   },
   "outputs": [],
   "source": [
    "# Make contour plot\n",
    "\n",
    "xx = np.linspace(-0.5, 0.5, 100)\n",
    "yy = np.linspace(-0.5, 0.5, 100)\n",
    "X, Y = np.meshgrid(xx, yy)\n",
    "\n",
    "fig,ax=plt.subplots(1,1)\n",
    "Z = cubed_normal.prob(np.dstack((X, Y)))\n",
    "cp = ax.contourf(X, Y, Z)\n",
    "fig.colorbar(cp) # Add a colorbar to a plot\n",
    "ax.set_title('Filled Contours Plot')\n",
    "ax.set_xlabel('x')\n",
    "ax.set_ylabel('y')\n",
    "plt.show()"
   ]
  },
  {
   "cell_type": "code",
   "execution_count": null,
   "metadata": {
    "id": "ehElEd0FqyUl"
   },
   "outputs": [],
   "source": [
    "# Create a transformed distribution with the inverse of Cube\n",
    "\n"
   ]
  },
  {
   "cell_type": "code",
   "execution_count": null,
   "metadata": {
    "id": "6KYCX9P1qyUm"
   },
   "outputs": [],
   "source": [
    "# Samble inv_cubed_normal\n",
    "\n"
   ]
  },
  {
   "cell_type": "code",
   "execution_count": null,
   "metadata": {
    "id": "t49rULQ_qyUn"
   },
   "outputs": [],
   "source": [
    "# Make contour plot\n",
    "\n",
    "xx = np.linspace(-3.0, 3.0, 100)\n",
    "yy = np.linspace(-2.0, 2.0, 100)\n",
    "X, Y = np.meshgrid(xx, yy)\n",
    "\n",
    "fig,ax=plt.subplots(1,1)\n",
    "Z = inv_cubed_normal.prob(np.dstack((X, Y)))\n",
    "cp = ax.contourf(X, Y, Z)\n",
    "fig.colorbar(cp) # Add a colorbar to a plot\n",
    "ax.set_title('Filled Contours Plot')\n",
    "ax.set_xlabel('x')\n",
    "ax.set_ylabel('y')\n",
    "plt.show()"
   ]
  },
  {
   "cell_type": "code",
   "execution_count": null,
   "metadata": {
    "id": "fTyvYmUHqyUp"
   },
   "outputs": [],
   "source": [
    "# Plot histograms\n",
    "\n",
    "plt.figure(figsize=(12, 4))\n",
    "plt.subplot(1, 2, 1)\n",
    "plt.hist(g[..., 0], bins=50, density=True)\n",
    "plt.subplot(1, 2, 2)\n",
    "plt.hist(g[..., 1], bins=50, density=True)\n",
    "plt.show()"
   ]
  },
  {
   "cell_type": "markdown",
   "metadata": {
    "id": "fHx5KxujqyUq"
   },
   "source": [
    "#### Training the bijector"
   ]
  },
  {
   "cell_type": "code",
   "execution_count": null,
   "metadata": {
    "id": "J7VvHu5CqyUs"
   },
   "outputs": [],
   "source": [
    "# Create a mixture of four Gaussians\n",
    "\n"
   ]
  },
  {
   "cell_type": "code",
   "execution_count": null,
   "metadata": {
    "id": "nmqyyHeTqyUt"
   },
   "outputs": [],
   "source": [
    "# Create the dataset\n",
    "\n",
    "x_train = mix_gauss.sample(10000)\n",
    "x_train = tf.data.Dataset.from_tensor_slices(x_train)\n",
    "x_train = x_train.batch(128)\n",
    "\n",
    "x_valid = mix_gauss.sample(1000)\n",
    "x_valid = tf.data.Dataset.from_tensor_slices(x_valid)\n",
    "x_valid = x_valid.batch(128)\n",
    "\n",
    "print(x_train.element_spec)\n",
    "print(x_valid.element_spec)"
   ]
  },
  {
   "cell_type": "code",
   "execution_count": null,
   "metadata": {
    "id": "JMno9UzMqyUu"
   },
   "outputs": [],
   "source": [
    "# Plot the data distribution\n",
    "\n"
   ]
  },
  {
   "cell_type": "code",
   "execution_count": null,
   "metadata": {
    "id": "4LH4I4KVqyUw"
   },
   "outputs": [],
   "source": [
    "# Make a trainable bijector\n",
    "\n"
   ]
  },
  {
   "cell_type": "code",
   "execution_count": null,
   "metadata": {
    "id": "WG6crdTvqyUx"
   },
   "outputs": [],
   "source": [
    "# Make a trainable transformed distribution\n",
    "\n"
   ]
  },
  {
   "cell_type": "code",
   "execution_count": null,
   "metadata": {
    "id": "Hr6-oaz8qyUy"
   },
   "outputs": [],
   "source": [
    "# Plot the data and learned distributions\n",
    "\n"
   ]
  },
  {
   "cell_type": "code",
   "execution_count": null,
   "metadata": {
    "id": "zdxDCN9aqyU0"
   },
   "outputs": [],
   "source": [
    "# Train the bijector\n",
    "\n",
    "num_epochs = 10\n",
    "opt = tf.keras.optimizers.Adam()\n",
    "train_losses = []\n",
    "valid_losses = []\n",
    "\n",
    "for epoch in range(num_epochs):\n",
    "    print(\"Epoch {}...\".format(epoch))\n",
    "    train_loss = tf.keras.metrics.Mean()\n",
    "    val_loss = tf.keras.metrics.Mean()\n",
    "    for train_batch in x_train:\n",
    "        with tf.GradientTape() as tape:\n",
    "            tape.watch(trainable_inv_cubic.trainable_variables)\n",
    "            loss = -trainable_dist.log_prob(train_batch)\n",
    "        train_loss(loss)\n",
    "        grads = tape.gradient(loss, trainable_inv_cubic.trainable_variables)\n",
    "        opt.apply_gradients(zip(grads, trainable_inv_cubic.trainable_variables))\n",
    "    train_losses.append(train_loss.result().numpy())\n",
    "        \n",
    "    # Validation\n",
    "    for valid_batch in x_valid:\n",
    "        loss = -trainable_dist.log_prob(valid_batch)\n",
    "        val_loss(loss)\n",
    "    valid_losses.append(val_loss.result().numpy())"
   ]
  },
  {
   "cell_type": "code",
   "execution_count": null,
   "metadata": {
    "id": "n-90MDohqyU1"
   },
   "outputs": [],
   "source": [
    "# Plot the learning curves\n",
    "\n",
    "plt.plot(train_losses, label='train')\n",
    "plt.plot(valid_losses, label='valid')\n",
    "plt.legend()\n",
    "plt.xlabel(\"Epochs\")\n",
    "plt.ylabel(\"Negative log likelihood\")\n",
    "plt.title(\"Training and validation loss curves\")\n",
    "plt.show()"
   ]
  },
  {
   "cell_type": "code",
   "execution_count": null,
   "metadata": {
    "id": "wZF_T5-aqyU3"
   },
   "outputs": [],
   "source": [
    "# Plot the data and learned distributions\n",
    "\n"
   ]
  },
  {
   "cell_type": "code",
   "execution_count": null,
   "metadata": {
    "id": "W498x2lrqyU4"
   },
   "outputs": [],
   "source": [
    "# Display trainable variables\n",
    "\n"
   ]
  },
  {
   "cell_type": "markdown",
   "metadata": {
    "id": "_ggueBWOqyU5"
   },
   "source": [
    "***\n",
    "<a id=\"coding_tutorial_4\"></a>\n",
    "## Normalising flows"
   ]
  },
  {
   "cell_type": "code",
   "execution_count": null,
   "metadata": {
    "id": "lf4w-RPtqyU7"
   },
   "outputs": [],
   "source": [
    "# Load dataset\n",
    "\n",
    "from sklearn import datasets\n",
    "from sklearn.preprocessing import StandardScaler\n",
    "n_samples = 1000\n",
    "noisy_moons = datasets.make_moons(n_samples=n_samples, noise=.05)\n",
    "X, y = noisy_moons\n",
    "X_data = StandardScaler().fit_transform(X)\n",
    "xlim, ylim = [-2, 2], [-2, 2]"
   ]
  },
  {
   "cell_type": "code",
   "execution_count": null,
   "metadata": {
    "id": "EoSWeEBLqyU8"
   },
   "outputs": [],
   "source": [
    "# Plot with labels\n",
    "\n",
    "y_label = y.astype(np.bool)\n",
    "X_train, Y_train = X_data[..., 0], X_data[..., 1]\n",
    "plt.scatter(X_train[y_label], Y_train[y_label], s=10, color='blue')\n",
    "plt.scatter(X_train[y_label == False], Y_train[y_label == False], s=10, color='red')\n",
    "plt.legend(['label: 1', 'label: 0'])\n",
    "plt.xlim(xlim)\n",
    "plt.ylim(ylim)"
   ]
  },
  {
   "cell_type": "code",
   "execution_count": null,
   "metadata": {
    "id": "1S5R9vFsqyU-"
   },
   "outputs": [],
   "source": [
    "# Define base distribution\n",
    "\n"
   ]
  },
  {
   "cell_type": "code",
   "execution_count": null,
   "metadata": {
    "id": "yukChitnqyVA"
   },
   "outputs": [],
   "source": [
    "# Define the trainable distribution\n",
    "\n"
   ]
  },
  {
   "cell_type": "code",
   "execution_count": null,
   "metadata": {
    "id": "HNuYzlWfqyVC"
   },
   "outputs": [],
   "source": [
    "from mpl_toolkits.axes_grid1 import make_axes_locatable\n",
    "from tensorflow.compat.v1 import logging\n",
    "logging.set_verbosity(logging.ERROR)"
   ]
  },
  {
   "cell_type": "code",
   "execution_count": null,
   "metadata": {
    "id": "0H9N-DsPqyVD"
   },
   "outputs": [],
   "source": [
    "# Define a plot contour routine\n",
    "\n",
    "def plot_contour_prob(dist, rows=1, title=[''], scale_fig=4):\n",
    "    cols = int(len(dist) / rows)\n",
    "    xx = np.linspace(-5.0, 5.0, 100)\n",
    "    yy = np.linspace(-5.0, 5.0, 100)\n",
    "    X, Y = np.meshgrid(xx, yy)\n",
    "\n",
    "    fig, ax = plt.subplots(rows, cols, figsize=(scale_fig * cols, scale_fig * rows))\n",
    "    fig.tight_layout(pad=4.5)\n",
    "\n",
    "    i = 0\n",
    "    for r in range(rows):\n",
    "        for c in range(cols):\n",
    "            Z = dist[i].prob(np.dstack((X, Y)))\n",
    "            if len(dist) == 1:\n",
    "                axi = ax\n",
    "            elif rows == 1:\n",
    "                axi = ax[c]\n",
    "            else:\n",
    "                axi = ax[r, c]\n",
    "\n",
    "            # Plot contour\n",
    "            p = axi.contourf(X, Y, Z)\n",
    "\n",
    "            # Add a colorbar\n",
    "            divider = make_axes_locatable(axi)\n",
    "            cax = divider.append_axes(\"right\", size=\"5%\", pad=0.1)\n",
    "            cbar = fig.colorbar(p, cax=cax)\n",
    "\n",
    "            # Set title and labels\n",
    "            axi.set_title('Filled Contours Plot: ' + str(title[i]))\n",
    "            axi.set_xlabel('x')\n",
    "            axi.set_ylabel('y')\n",
    "\n",
    "            i += 1\n",
    "    plt.show()"
   ]
  },
  {
   "cell_type": "code",
   "execution_count": null,
   "metadata": {
    "id": "44oF42rqqyVE"
   },
   "outputs": [],
   "source": [
    "# Plot contour\n",
    "\n"
   ]
  },
  {
   "cell_type": "code",
   "execution_count": null,
   "metadata": {
    "id": "72Wq79I-qyVH"
   },
   "outputs": [],
   "source": [
    "from tensorflow.keras.layers import Input\n",
    "from tensorflow.keras import Model"
   ]
  },
  {
   "cell_type": "code",
   "execution_count": null,
   "metadata": {
    "id": "OcDJOfGvqyVI"
   },
   "outputs": [],
   "source": [
    "# Make samples\n",
    "\n"
   ]
  },
  {
   "cell_type": "code",
   "execution_count": null,
   "metadata": {
    "id": "OGIJqluXqyVK"
   },
   "outputs": [],
   "source": [
    "# Define a scatter plot routine for the bijectors\n",
    "\n",
    "def _plot(results, rows=1, legend=False):\n",
    "    cols = int(len(results) / rows)\n",
    "    f, arr = plt.subplots(rows, cols, figsize=(4 * cols, 4 * rows))\n",
    "    i = 0\n",
    "    for r in range(rows):\n",
    "        for c in range(cols):\n",
    "            res = results[i]\n",
    "            X, Y = res[..., 0].numpy(), res[..., 1].numpy()\n",
    "            if rows == 1:\n",
    "                p = arr[c]\n",
    "            else:\n",
    "                p = arr[r, c]\n",
    "            p.scatter(X, Y, s=10, color='red')\n",
    "            p.set_xlim([-5, 5])\n",
    "            p.set_ylim([-5, 5])\n",
    "            p.set_title(names[i])\n",
    "            \n",
    "            i += 1"
   ]
  },
  {
   "cell_type": "code",
   "execution_count": null,
   "metadata": {
    "id": "7XJkvd0DqyVL"
   },
   "outputs": [],
   "source": [
    "# Plot\n",
    "\n"
   ]
  },
  {
   "cell_type": "markdown",
   "metadata": {
    "id": "qVUEl_FuqyVM"
   },
   "source": [
    "#### Training a MaskedAutoregressiveFlow bijector"
   ]
  },
  {
   "cell_type": "code",
   "execution_count": null,
   "metadata": {
    "id": "XcKcNND0qyVM"
   },
   "outputs": [],
   "source": [
    "from tensorflow.keras.callbacks import LambdaCallback"
   ]
  },
  {
   "cell_type": "code",
   "execution_count": null,
   "metadata": {
    "id": "X9xg-02vqyVO"
   },
   "outputs": [],
   "source": [
    "# Define a training routine\n",
    "\n",
    "def train_dist_routine(trainable_distribution, n_epochs=200, batch_size=None, n_disp=100):\n",
    "    x_ = Input(shape=(2,), dtype=tf.float32)\n",
    "    log_prob_ = trainable_distribution.log_prob(x_)\n",
    "    model = Model(x_, log_prob_)\n",
    "\n",
    "    model.compile(optimizer=tf.optimizers.Adam(),\n",
    "                  loss=lambda _, log_prob: -log_prob)\n",
    "\n",
    "    ns = X_data.shape[0]\n",
    "    if batch_size is None:\n",
    "        batch_size = ns\n",
    "\n",
    "    # Display the loss every n_disp epoch\n",
    "    epoch_callback = LambdaCallback(\n",
    "        on_epoch_end=lambda epoch, logs: \n",
    "                        print('\\n Epoch {}/{}'.format(epoch+1, n_epochs, logs),\n",
    "                              '\\n\\t ' + (': {:.4f}, '.join(logs.keys()) + ': {:.4f}').format(*logs.values()))\n",
    "                                       if epoch % n_disp == 0 else False \n",
    "    )\n",
    "\n",
    "\n",
    "    history = model.fit(x=X_data,\n",
    "                        y=np.zeros((ns, 0), dtype=np.float32),\n",
    "                        batch_size=batch_size,\n",
    "                        epochs=n_epochs,\n",
    "                        validation_split=0.2,\n",
    "                        shuffle=True,\n",
    "                        verbose=False,\n",
    "                        callbacks=[epoch_callback])\n",
    "    return history"
   ]
  },
  {
   "cell_type": "code",
   "execution_count": null,
   "metadata": {
    "id": "fFbqlQsDqyVP"
   },
   "outputs": [],
   "source": [
    "# Train the distribution\n",
    "\n"
   ]
  },
  {
   "cell_type": "code",
   "execution_count": null,
   "metadata": {
    "id": "UYqVhr02qyVR"
   },
   "outputs": [],
   "source": [
    "# Get losses\n",
    "\n",
    "train_losses = history.history['loss']\n",
    "valid_losses = history.history['val_loss']"
   ]
  },
  {
   "cell_type": "code",
   "execution_count": null,
   "metadata": {
    "id": "c_r1WhYMqyVS"
   },
   "outputs": [],
   "source": [
    "# Plot loss vs epoch\n",
    "\n",
    "plt.plot(train_losses, label='train')\n",
    "plt.plot(valid_losses, label='valid')\n",
    "plt.legend()\n",
    "plt.xlabel(\"Epochs\")\n",
    "plt.ylabel(\"Negative log likelihood\")\n",
    "plt.title(\"Training and validation loss curves\")\n",
    "plt.show()"
   ]
  },
  {
   "cell_type": "code",
   "execution_count": null,
   "metadata": {
    "id": "Kt8EddLxqyVU"
   },
   "outputs": [],
   "source": [
    "# Make samples\n",
    "\n"
   ]
  },
  {
   "cell_type": "code",
   "execution_count": null,
   "metadata": {
    "id": "wLDj22cMqyVW"
   },
   "outputs": [],
   "source": [
    "# Plot\n",
    "\n"
   ]
  },
  {
   "cell_type": "code",
   "execution_count": null,
   "metadata": {
    "id": "paVq1v0hqyVY"
   },
   "outputs": [],
   "source": [
    "# Define a plot routine\n",
    "\n",
    "def visualize_training_data(samples):\n",
    "    f, arr = plt.subplots(1, 2, figsize=(15, 6))\n",
    "    names = ['Data', 'Trainable']\n",
    "    samples = [tf.constant(X_data), samples[-1]]\n",
    "\n",
    "    for i in range(2):\n",
    "        res = samples[i]\n",
    "        X, Y = res[..., 0].numpy(), res[..., 1].numpy()\n",
    "        arr[i].scatter(X, Y, s=10, color='red')\n",
    "        arr[i].set_xlim([-2, 2])\n",
    "        arr[i].set_ylim([-2, 2])\n",
    "        arr[i].set_title(names[i])\n",
    "\n",
    "visualize_training_data(samples)"
   ]
  },
  {
   "cell_type": "code",
   "execution_count": null,
   "metadata": {
    "id": "M4cLbKdeqyVa"
   },
   "outputs": [],
   "source": [
    "# Plot contour\n",
    "\n"
   ]
  },
  {
   "cell_type": "markdown",
   "metadata": {
    "id": "MV74vXBYqyVb"
   },
   "source": [
    "#### Training a chain of MaskedAutoregressiveFlow bijectors"
   ]
  },
  {
   "cell_type": "code",
   "execution_count": null,
   "metadata": {
    "id": "CY-wC-KlqyVb"
   },
   "outputs": [],
   "source": [
    "# Define a more expressive model\n",
    "\n"
   ]
  },
  {
   "cell_type": "code",
   "execution_count": null,
   "metadata": {
    "id": "NJpc214EqyVc"
   },
   "outputs": [],
   "source": [
    "# Define the trainable distribution\n",
    "\n"
   ]
  },
  {
   "cell_type": "code",
   "execution_count": null,
   "metadata": {
    "id": "-BpDIWDYqyVd"
   },
   "outputs": [],
   "source": [
    "# Make samples\n",
    "\n",
    "def make_samples():\n",
    "    x = base_distribution.sample((1000, 2))\n",
    "    samples = [x]\n",
    "    names = [base_distribution.name]\n",
    "    for bijector in reversed(trainable_distribution.bijector.bijectors):\n",
    "        x = bijector.forward(x)\n",
    "        samples.append(x)\n",
    "        names.append(bijector.name)\n",
    "    return names, samples\n",
    "\n",
    "names, samples = make_samples()"
   ]
  },
  {
   "cell_type": "code",
   "execution_count": null,
   "metadata": {
    "id": "vULwOEnBqyVf"
   },
   "outputs": [],
   "source": [
    "# Plot\n",
    "\n"
   ]
  },
  {
   "cell_type": "code",
   "execution_count": null,
   "metadata": {
    "id": "bD3Iv--OqyVg"
   },
   "outputs": [],
   "source": [
    "# Plot\n",
    "\n"
   ]
  },
  {
   "cell_type": "code",
   "execution_count": null,
   "metadata": {
    "id": "ODoyDXHVqyVh"
   },
   "outputs": [],
   "source": [
    "# Train the distribution\n",
    "\n"
   ]
  },
  {
   "cell_type": "code",
   "execution_count": null,
   "metadata": {
    "id": "87-MiD_EqyVj"
   },
   "outputs": [],
   "source": [
    "# Get losses\n",
    "\n",
    "train_losses = history.history['loss']\n",
    "valid_losses = history.history['val_loss']"
   ]
  },
  {
   "cell_type": "code",
   "execution_count": null,
   "metadata": {
    "id": "uq9fFP7kqyVk"
   },
   "outputs": [],
   "source": [
    "# Plot loss vs epoch\n",
    "\n",
    "plt.plot(train_losses, label='train')\n",
    "plt.plot(valid_losses, label='valid')\n",
    "plt.legend()\n",
    "plt.xlabel(\"Epochs\")\n",
    "plt.ylabel(\"Negative log likelihood\")\n",
    "plt.title(\"Training and validation loss curves\")\n",
    "plt.show()"
   ]
  },
  {
   "cell_type": "code",
   "execution_count": null,
   "metadata": {
    "id": "swTZ4Db_qyVl"
   },
   "outputs": [],
   "source": [
    "# Make samples and plot\n",
    "\n"
   ]
  },
  {
   "cell_type": "code",
   "execution_count": null,
   "metadata": {
    "id": "nNp-Kq7ZqyVm"
   },
   "outputs": [],
   "source": [
    "# Plot\n",
    "\n"
   ]
  },
  {
   "cell_type": "code",
   "execution_count": null,
   "metadata": {
    "id": "fer7CuS4qyVo"
   },
   "outputs": [],
   "source": [
    "# Plot\n",
    "\n"
   ]
  }
 ],
 "metadata": {
  "colab": {
   "collapsed_sections": [
    "YwoQHX7sqySy",
    "-dsVcPrkqyS3",
    "TX4Pa-mhqyS8",
    "q6Fm70pBqyUU",
    "fw7wNX9hqyUf",
    "fHx5KxujqyUq",
    "qVUEl_FuqyVM",
    "MV74vXBYqyVb"
   ],
   "name": "Coding Tutorial.ipynb",
   "provenance": []
  },
  "kernelspec": {
   "display_name": "Python 3",
   "language": "python",
   "name": "python3"
  },
  "language_info": {
   "codemirror_mode": {
    "name": "ipython",
    "version": 3
   },
   "file_extension": ".py",
   "mimetype": "text/x-python",
   "name": "python",
   "nbconvert_exporter": "python",
   "pygments_lexer": "ipython3",
   "version": "3.8.3"
  }
 },
 "nbformat": 4,
 "nbformat_minor": 4
}
