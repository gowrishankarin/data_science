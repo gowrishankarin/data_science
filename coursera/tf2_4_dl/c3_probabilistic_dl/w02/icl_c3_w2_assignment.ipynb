{
 "cells": [
  {
   "cell_type": "markdown",
   "metadata": {
    "id": "jABhOvG_oFV5"
   },
   "source": [
    "# Programming Assignment"
   ]
  },
  {
   "cell_type": "markdown",
   "metadata": {
    "id": "BOfScRJ_oFV6"
   },
   "source": [
    "## Bayesian convolutional neural network"
   ]
  },
  {
   "cell_type": "markdown",
   "metadata": {
    "id": "1kTxcfwxoFV6"
   },
   "source": [
    "### Instructions\n",
    "\n",
    "In this notebook, you will create a Bayesian convolutional neural network to classify the famous MNIST handwritten digits. This will be a probabilistic model, designed to capture both aleatoric and epistemic uncertainty. You will test the uncertainty quantifications against a corrupted version of the dataset.\n",
    "\n",
    "Some code cells are provided for you in the notebook. You should avoid editing provided code, and make sure to execute the cells in order to avoid unexpected errors. Some cells begin with the line: \n",
    "\n",
    "`#### GRADED CELL ####`\n",
    "\n",
    "Don't move or edit this first line - this is what the automatic grader looks for to recognise graded cells. These cells require you to write your own code to complete them, and are automatically graded when you submit the notebook. Don't edit the function name or signature provided in these cells, otherwise the automatic grader might not function properly.\n",
    "\n",
    "### How to submit\n",
    "\n",
    "Complete all the tasks you are asked for in the worksheet. When you have finished and are happy with your code, press the **Submit Assignment** button at the top of this notebook.\n",
    "\n",
    "### Let's get started!\n",
    "\n",
    "We'll start running some imports, and loading the dataset. Do not edit the existing imports in the following cell. If you would like to make further Tensorflow imports, you should add them here."
   ]
  },
  {
   "cell_type": "code",
   "execution_count": 1,
   "metadata": {
    "execution": {
     "iopub.execute_input": "2021-03-24T13:27:06.648053Z",
     "iopub.status.busy": "2021-03-24T13:27:06.647797Z",
     "iopub.status.idle": "2021-03-24T13:27:12.005695Z",
     "shell.execute_reply": "2021-03-24T13:27:12.004868Z",
     "shell.execute_reply.started": "2021-03-24T13:27:06.648022Z"
    },
    "id": "GdB-aS_aoFV7"
   },
   "outputs": [],
   "source": [
    "#### PACKAGE IMPORTS ####\n",
    "\n",
    "# Run this cell first to import all required packages. Do not make any imports elsewhere in the notebook\n",
    "\n",
    "import tensorflow as tf\n",
    "import tensorflow_probability as tfp\n",
    "import os\n",
    "import numpy as np\n",
    "import matplotlib.pyplot as plt\n",
    "\n",
    "from tensorflow.keras.models import Sequential\n",
    "from tensorflow.keras.layers import Dense, Flatten, Conv2D, MaxPooling2D\n",
    "from tensorflow.keras.losses import SparseCategoricalCrossentropy\n",
    "from tensorflow.keras.optimizers import RMSprop\n",
    "\n",
    "tfd = tfp.distributions\n",
    "tfpl = tfp.layers\n",
    "\n",
    "# If you would like to make further imports from tensorflow, add them here\n",
    "\n"
   ]
  },
  {
   "cell_type": "markdown",
   "metadata": {
    "id": "tLoEIz_5oFV-"
   },
   "source": [
    "#### The MNIST and MNIST-C datasets\n",
    "\n",
    "In this assignment, you will use the [MNIST](http://yann.lecun.com/exdb/mnist/) and [MNIST-C](https://github.com/google-research/mnist-c) datasets, which both consist of a training set of 60,000 handwritten digits with corresponding labels, and a test set of 10,000 images. The images have been normalised and centred. The MNIST-C dataset is a corrupted version of the MNIST dataset, to test out-of-distribution robustness of computer vision models.\n",
    "\n",
    "- Y. LeCun, L. Bottou, Y. Bengio, and P. Haffner. \"Gradient-based learning applied to document recognition.\" Proceedings of the IEEE, 86(11):2278-2324, November 1998.\n",
    "- N. Mu and J. Gilmeer. \"MNIST-C: A Robustness Benchmark for Computer Vision\" https://arxiv.org/abs/1906.02337\n",
    "\n",
    "Your goal is to construct a neural network that classifies images of handwritten digits into one of 10 classes."
   ]
  },
  {
   "cell_type": "markdown",
   "metadata": {
    "id": "67o1JQ9yqWuv"
   },
   "source": [
    "#### Import the data\n",
    "\n",
    "The datasets required for this project can be downloaded from the following links:\n",
    "\n",
    "https://drive.google.com/file/d/10VhBL5zo4cOA_28trFCu3WtxFBHbj3yV/view?usp=sharing\n",
    "\n",
    "https://drive.google.com/file/d/11013-Bk-iJjVZ1rPn1TFPut12WNhMu5q/view?usp=sharing\n",
    "\n",
    "You should store these files in Drive for use in this Colab notebook."
   ]
  },
  {
   "cell_type": "code",
   "execution_count": 2,
   "metadata": {
    "execution": {
     "iopub.execute_input": "2021-03-24T13:27:12.007736Z",
     "iopub.status.busy": "2021-03-24T13:27:12.007440Z",
     "iopub.status.idle": "2021-03-24T13:27:12.010842Z",
     "shell.execute_reply": "2021-03-24T13:27:12.009930Z",
     "shell.execute_reply.started": "2021-03-24T13:27:12.007715Z"
    },
    "id": "Nn-dqkOBqxxg"
   },
   "outputs": [],
   "source": [
    "# Run this cell to connect to your Drive folder\n",
    "\n",
    "# from google.colab import drive\n",
    "# drive.mount('/content/gdrive')"
   ]
  },
  {
   "cell_type": "markdown",
   "metadata": {
    "id": "Wdq_bGwyoFV-"
   },
   "source": [
    "#### Load the datasets\n",
    "\n",
    "We'll start by importing two datasets. The first is the MNIST dataset of handwritten digits, and the second is the MNIST-C dataset, which is a corrupted version of the MNIST dataset. This dataset is available on [TensorFlow datasets](https://www.tensorflow.org/datasets/catalog/mnist_corrupted). We'll be using the dataset with \"spatters\". We will load and inspect the datasets below. We'll use the notation `_c` to denote `corrupted`. The images are the same as in the original MNIST, but are \"corrupted\" by some grey spatters."
   ]
  },
  {
   "cell_type": "code",
   "execution_count": 3,
   "metadata": {
    "execution": {
     "iopub.execute_input": "2021-03-24T13:27:12.013548Z",
     "iopub.status.busy": "2021-03-24T13:27:12.013284Z",
     "iopub.status.idle": "2021-03-24T13:27:12.021037Z",
     "shell.execute_reply": "2021-03-24T13:27:12.020086Z",
     "shell.execute_reply.started": "2021-03-24T13:27:12.013516Z"
    },
    "id": "hoZrjcjsoFV_"
   },
   "outputs": [],
   "source": [
    "# Function to load training and testing data, with labels in integer and one-hot form\n",
    "\n",
    "def load_data(name):\n",
    "    data_dir = os.path.join('./', name)\n",
    "    x_train = 1 - np.load(os.path.join(data_dir, 'x_train.npy')) / 255.\n",
    "    x_train = x_train.astype(np.float32)\n",
    "    y_train = np.load(os.path.join(data_dir, 'y_train.npy'))\n",
    "    y_train_oh = tf.keras.utils.to_categorical(y_train)\n",
    "    x_test  = 1 - np.load(os.path.join(data_dir, 'x_test.npy')) / 255.\n",
    "    x_test = x_test.astype(np.float32)\n",
    "    y_test  = np.load(os.path.join(data_dir, 'y_test.npy'))\n",
    "    y_test_oh = tf.keras.utils.to_categorical(y_test)\n",
    "    \n",
    "    return (x_train, y_train, y_train_oh), (x_test, y_test, y_test_oh)"
   ]
  },
  {
   "cell_type": "code",
   "execution_count": 4,
   "metadata": {
    "execution": {
     "iopub.execute_input": "2021-03-24T13:27:12.023622Z",
     "iopub.status.busy": "2021-03-24T13:27:12.023284Z",
     "iopub.status.idle": "2021-03-24T13:27:12.029019Z",
     "shell.execute_reply": "2021-03-24T13:27:12.027927Z",
     "shell.execute_reply.started": "2021-03-24T13:27:12.023600Z"
    },
    "id": "ICc0b73GoFWB"
   },
   "outputs": [],
   "source": [
    "# Function to inspect dataset digits\n",
    "\n",
    "def inspect_images(data, num_images):\n",
    "    fig, ax = plt.subplots(nrows=1, ncols=num_images, figsize=(2*num_images, 2))\n",
    "    for i in range(num_images):\n",
    "        ax[i].imshow(data[i, ..., 0], cmap='gray')\n",
    "        ax[i].axis('off')\n",
    "    plt.show()"
   ]
  },
  {
   "cell_type": "code",
   "execution_count": 5,
   "metadata": {
    "execution": {
     "iopub.execute_input": "2021-03-24T13:27:12.030995Z",
     "iopub.status.busy": "2021-03-24T13:27:12.030659Z",
     "iopub.status.idle": "2021-03-24T13:27:13.157561Z",
     "shell.execute_reply": "2021-03-24T13:27:13.156837Z",
     "shell.execute_reply.started": "2021-03-24T13:27:12.030946Z"
    },
    "id": "7Q_akHFvoFWF"
   },
   "outputs": [
    {
     "data": {
      "image/png": "[encoded data removed]",
      "text/plain": [
       "<Figure size 1152x144 with 8 Axes>"
      ]
     },
     "metadata": {
      "needs_background": "light"
     },
     "output_type": "display_data"
    }
   ],
   "source": [
    "# Load and inspect the MNIST dataset\n",
    "\n",
    "(x_train, y_train, y_train_oh), (x_test, y_test, y_test_oh) = load_data('MNIST')\n",
    "inspect_images(data=x_train, num_images=8)"
   ]
  },
  {
   "cell_type": "code",
   "execution_count": 6,
   "metadata": {
    "execution": {
     "iopub.execute_input": "2021-03-24T13:27:13.159187Z",
     "iopub.status.busy": "2021-03-24T13:27:13.158909Z",
     "iopub.status.idle": "2021-03-24T13:27:14.046494Z",
     "shell.execute_reply": "2021-03-24T13:27:14.045638Z",
     "shell.execute_reply.started": "2021-03-24T13:27:13.159153Z"
    },
    "id": "ER5aLNPnoFWI"
   },
   "outputs": [
    {
     "data": {
      "image/png": "[encoded data removed]",
      "text/plain": [
       "<Figure size 1152x144 with 8 Axes>"
      ]
     },
     "metadata": {
      "needs_background": "light"
     },
     "output_type": "display_data"
    }
   ],
   "source": [
    "# Load and inspect the MNIST-C dataset\n",
    "\n",
    "(x_c_train, y_c_train, y_c_train_oh), (x_c_test, y_c_test, y_c_test_oh) = load_data('MNIST_corrupted')\n",
    "inspect_images(data=x_c_train, num_images=8)"
   ]
  },
  {
   "cell_type": "markdown",
   "metadata": {
    "id": "ATtylddtoFWK"
   },
   "source": [
    "#### Create the deterministic model\n",
    "\n",
    "We will first train a standard deterministic CNN classifier model as a base model before implementing the probabilistic and Bayesian neural networks. You should now build the deterministic model using the Sequential API according to the following specifications:\n",
    "\n",
    "* The first layer should be Conv2D layer with 8 filters, 5x5 kernel size, ReLU activation and `'VALID'` padding.\n",
    "    * This layer should set the `input_shape` according to the function argument\n",
    "* The second layer should be a MaxPooling2D layer with a 6x6 window size.\n",
    "* The third layer should be a Flatten layer\n",
    "* The final layer should be a Dense layer with 10 units and softmax activation\n",
    "\n",
    "In total, the network should have 4 layers.\n",
    "\n",
    "The model should then be compiled with the loss function, optimiser and list of metrics supplied in the function arguments."
   ]
  },
  {
   "cell_type": "code",
   "execution_count": 7,
   "metadata": {
    "execution": {
     "iopub.execute_input": "2021-03-24T13:27:14.048209Z",
     "iopub.status.busy": "2021-03-24T13:27:14.047834Z",
     "iopub.status.idle": "2021-03-24T13:27:14.054225Z",
     "shell.execute_reply": "2021-03-24T13:27:14.053500Z",
     "shell.execute_reply.started": "2021-03-24T13:27:14.048181Z"
    },
    "id": "mwu2unFloFWK"
   },
   "outputs": [],
   "source": [
    "#### GRADED CELL ####\n",
    "\n",
    "# Complete the following function. \n",
    "# Make sure to not change the function name or arguments.\n",
    "\n",
    "def get_deterministic_model(input_shape, loss, optimizer, metrics):\n",
    "    \"\"\"\n",
    "    This function should build and compile a CNN model according to the above specification. \n",
    "    The function takes input_shape, loss, optimizer and metrics as arguments, which should be\n",
    "    used to define and compile the model.\n",
    "    Your function should return the compiled model.\n",
    "    \"\"\"\n",
    "    model = Sequential([\n",
    "        Conv2D(filters=8, kernel_size=(5, 5), activation=\"relu\", padding=\"valid\", input_shape=input_shape),\n",
    "        MaxPooling2D(pool_size=(6, 6)),\n",
    "        Flatten(),\n",
    "        Dense(10, activation=\"softmax\")\n",
    "    ])\n",
    "    \n",
    "    model.compile(loss=loss, optimizer=optimizer, metrics=metrics)\n",
    "    \n",
    "    return model\n",
    "    "
   ]
  },
  {
   "cell_type": "code",
   "execution_count": 8,
   "metadata": {
    "execution": {
     "iopub.execute_input": "2021-03-24T13:27:14.056115Z",
     "iopub.status.busy": "2021-03-24T13:27:14.055621Z",
     "iopub.status.idle": "2021-03-24T13:27:14.117182Z",
     "shell.execute_reply": "2021-03-24T13:27:14.116365Z",
     "shell.execute_reply.started": "2021-03-24T13:27:14.056085Z"
    },
    "id": "m7MPJousoFWN"
   },
   "outputs": [],
   "source": [
    "# Run your function to get the benchmark model\n",
    "\n",
    "tf.random.set_seed(0)\n",
    "deterministic_model = get_deterministic_model(\n",
    "    input_shape=(28, 28, 1), \n",
    "    loss=SparseCategoricalCrossentropy(), \n",
    "    optimizer=RMSprop(), \n",
    "    metrics=['accuracy']\n",
    ")"
   ]
  },
  {
   "cell_type": "code",
   "execution_count": 9,
   "metadata": {
    "execution": {
     "iopub.execute_input": "2021-03-24T13:27:14.122349Z",
     "iopub.status.busy": "2021-03-24T13:27:14.122102Z",
     "iopub.status.idle": "2021-03-24T13:27:14.127792Z",
     "shell.execute_reply": "2021-03-24T13:27:14.126778Z",
     "shell.execute_reply.started": "2021-03-24T13:27:14.122324Z"
    },
    "id": "bHH61DKIoFWP"
   },
   "outputs": [
    {
     "name": "stdout",
     "output_type": "stream",
     "text": [
      "Model: \"sequential\"\n",
      "_________________________________________________________________\n",
      "Layer (type)                 Output Shape              Param #   \n",
      "=================================================================\n",
      "conv2d (Conv2D)              (None, 24, 24, 8)         208       \n",
      "_________________________________________________________________\n",
      "max_pooling2d (MaxPooling2D) (None, 4, 4, 8)           0         \n",
      "_________________________________________________________________\n",
      "flatten (Flatten)            (None, 128)               0         \n",
      "_________________________________________________________________\n",
      "dense (Dense)                (None, 10)                1290      \n",
      "=================================================================\n",
      "Total params: 1,498\n",
      "Trainable params: 1,498\n",
      "Non-trainable params: 0\n",
      "_________________________________________________________________\n"
     ]
    }
   ],
   "source": [
    "# Print the model summary\n",
    "\n",
    "deterministic_model.summary()"
   ]
  },
  {
   "cell_type": "code",
   "execution_count": 10,
   "metadata": {
    "execution": {
     "iopub.execute_input": "2021-03-24T13:27:14.131365Z",
     "iopub.status.busy": "2021-03-24T13:27:14.131041Z",
     "iopub.status.idle": "2021-03-24T13:27:53.217915Z",
     "shell.execute_reply": "2021-03-24T13:27:53.216913Z",
     "shell.execute_reply.started": "2021-03-24T13:27:14.131335Z"
    },
    "id": "TKQwGmx4oFWR"
   },
   "outputs": [
    {
     "name": "stdout",
     "output_type": "stream",
     "text": [
      "Epoch 1/5\n",
      "1875/1875 [==============================] - 8s 4ms/step - loss: 0.9633 - accuracy: 0.7325\n",
      "Epoch 2/5\n",
      "1875/1875 [==============================] - 8s 4ms/step - loss: 0.1602 - accuracy: 0.9529\n",
      "Epoch 3/5\n",
      "1875/1875 [==============================] - 8s 4ms/step - loss: 0.1227 - accuracy: 0.9626\n",
      "Epoch 4/5\n",
      "1875/1875 [==============================] - 8s 4ms/step - loss: 0.1066 - accuracy: 0.9672\n",
      "Epoch 5/5\n",
      "1875/1875 [==============================] - 8s 4ms/step - loss: 0.0959 - accuracy: 0.9709\n"
     ]
    },
    {
     "data": {
      "text/plain": [
       "<tensorflow.python.keras.callbacks.History at 0x7fa0ab2c2250>"
      ]
     },
     "execution_count": 10,
     "metadata": {},
     "output_type": "execute_result"
    }
   ],
   "source": [
    "# Train the model\n",
    "\n",
    "deterministic_model.fit(x_train, y_train, epochs=5)"
   ]
  },
  {
   "cell_type": "code",
   "execution_count": 11,
   "metadata": {
    "execution": {
     "iopub.execute_input": "2021-03-24T13:27:53.219939Z",
     "iopub.status.busy": "2021-03-24T13:27:53.219302Z",
     "iopub.status.idle": "2021-03-24T13:27:54.343048Z",
     "shell.execute_reply": "2021-03-24T13:27:54.342462Z",
     "shell.execute_reply.started": "2021-03-24T13:27:53.219898Z"
    },
    "id": "QH4evy33oFWT"
   },
   "outputs": [
    {
     "name": "stdout",
     "output_type": "stream",
     "text": [
      "Accuracy on MNIST test set:  0.9732000231742859\n",
      "Accuracy on corrupted MNIST test set:  0.9412000179290771\n"
     ]
    }
   ],
   "source": [
    "# Evaluate the model\n",
    "\n",
    "print('Accuracy on MNIST test set: ',\n",
    "      str(deterministic_model.evaluate(x_test, y_test, verbose=False)[1]))\n",
    "print('Accuracy on corrupted MNIST test set: ',\n",
    "      str(deterministic_model.evaluate(x_c_test, y_c_test, verbose=False)[1]))"
   ]
  },
  {
   "cell_type": "markdown",
   "metadata": {
    "id": "6gL4XmbLoFWW"
   },
   "source": [
    "As you might expect, the pointwise performance on the corrupted MNIST set is worse. This makes sense, since this dataset is slightly different, and noisier, than the uncorrupted version. Furthermore, the model was trained on the uncorrupted MNIST data, so has no experience with the spatters."
   ]
  },
  {
   "cell_type": "markdown",
   "metadata": {
    "id": "IgADj27goFWX"
   },
   "source": [
    "### Probabilistic CNN model\n",
    "\n",
    "You'll start by turning this deterministic network into a probabilistic one, by letting the model output a distribution instead of a deterministic tensor. This model will capture the aleatoric uncertainty on the image labels. You will do this by adding a probabilistic layer to the end of the model and training using the negative loglikelihood. \n",
    "\n",
    "You should first define the negative loss likelihood loss function below. This function has arguments `y_true` for the correct label (as a one-hot vector), and `y_pred` as the model prediction (a `OneHotCategorical` distribution). It should return the negative log-likelihood of each sample in `y_true` given the predicted distribution `y_pred`. If `y_true` is of shape `[B, E]` and `y_pred` has batch shape `[B]` and event shape `[E]`, the output should be a Tensor of shape `[B]`."
   ]
  },
  {
   "cell_type": "code",
   "execution_count": 12,
   "metadata": {
    "execution": {
     "iopub.execute_input": "2021-03-24T13:27:54.344273Z",
     "iopub.status.busy": "2021-03-24T13:27:54.343993Z",
     "iopub.status.idle": "2021-03-24T13:27:54.348405Z",
     "shell.execute_reply": "2021-03-24T13:27:54.347602Z",
     "shell.execute_reply.started": "2021-03-24T13:27:54.344242Z"
    },
    "id": "aBLyvWOtoFWX"
   },
   "outputs": [],
   "source": [
    "#### GRADED CELL ####\n",
    "\n",
    "# Complete the following functions. \n",
    "# Make sure to not change the function name or arguments.\n",
    "\n",
    "def nll(y_true, y_pred):\n",
    "    \"\"\"\n",
    "    This function should return the negative log-likelihood of each sample\n",
    "    in y_true given the predicted distribution y_pred. If y_true is of shape \n",
    "    [B, E] and y_pred has batch shape [B] and event_shape [E], the output \n",
    "    should be a Tensor of shape [B].\n",
    "    \"\"\"\n",
    "    loss = -y_pred.log_prob(y_true)\n",
    "    # print(y_true.shape, y_pred.shape, loss.shape)\n",
    "    \n",
    "    return loss\n",
    "    "
   ]
  },
  {
   "cell_type": "markdown",
   "metadata": {
    "id": "AtXrZEWpoFWZ"
   },
   "source": [
    "You should now build your probabilistic model according to the following specification:\n",
    "\n",
    "* The first three layers are the same as for the deterministic model above\n",
    "* The fourth layer should be a Dense layer with no activation function, and the correct number of units needed to parameterise the probabilistic layer that follows\n",
    "* The final layer should be a probabilistic layer that outputs a `OneHotCategorical` distribution with an event shape of `[10]`, corresponding to the 10 digits\n",
    "* The `convert_to_tensor_fn` in the categorical layer should be set to the mode\n",
    "\n",
    "In total, your model should have 5 layers.\n",
    "\n",
    "The model should then be compiled with the loss function, optimiser and list of metrics supplied in the function arguments."
   ]
  },
  {
   "cell_type": "code",
   "execution_count": 13,
   "metadata": {
    "execution": {
     "iopub.execute_input": "2021-03-24T13:27:54.350021Z",
     "iopub.status.busy": "2021-03-24T13:27:54.349818Z",
     "iopub.status.idle": "2021-03-24T13:27:54.359700Z",
     "shell.execute_reply": "2021-03-24T13:27:54.358629Z",
     "shell.execute_reply.started": "2021-03-24T13:27:54.350000Z"
    },
    "id": "aRtkNN_loFWa",
    "scrolled": true
   },
   "outputs": [],
   "source": [
    "#### GRADED CELL ####\n",
    "\n",
    "# Complete the following functions. \n",
    "# Make sure to not change the function name or arguments.\n",
    "\n",
    "def get_probabilistic_model(input_shape, loss, optimizer, metrics):\n",
    "    \"\"\"\n",
    "    This function should return the probabilistic model according to the \n",
    "    above specification.\n",
    "    The function takes input_shape, loss, optimizer and metrics as arguments, which should be\n",
    "    used to define and compile the model.\n",
    "    Your function should return the compiled model.\n",
    "    \"\"\"\n",
    "    model = Sequential([\n",
    "        Conv2D(filters=8, kernel_size=(5, 5), activation=\"relu\", padding=\"valid\", input_shape=input_shape),\n",
    "        MaxPooling2D(pool_size=(6, 6)),\n",
    "        Flatten(),\n",
    "        Dense(\n",
    "            units=tfpl.OneHotCategorical.params_size(10)\n",
    "        ),\n",
    "        tfpl.OneHotCategorical(10, convert_to_tensor_fn=tfp.distributions.Distribution.mode)\n",
    "    ])\n",
    "    \n",
    "    model.compile(loss=loss, optimizer=optimizer, metrics=metrics)\n",
    "    \n",
    "    return model\n",
    "    "
   ]
  },
  {
   "cell_type": "code",
   "execution_count": 14,
   "metadata": {
    "execution": {
     "iopub.execute_input": "2021-03-24T13:27:54.361188Z",
     "iopub.status.busy": "2021-03-24T13:27:54.360779Z",
     "iopub.status.idle": "2021-03-24T13:27:54.491550Z",
     "shell.execute_reply": "2021-03-24T13:27:54.490837Z",
     "shell.execute_reply.started": "2021-03-24T13:27:54.361152Z"
    },
    "id": "fCLuN7lpoFWc"
   },
   "outputs": [],
   "source": [
    "# Run your function to get the probabilistic model\n",
    "\n",
    "tf.random.set_seed(0)\n",
    "probabilistic_model = get_probabilistic_model(\n",
    "    input_shape=(28, 28, 1), \n",
    "    loss=nll, \n",
    "    optimizer=RMSprop(), \n",
    "    metrics=['accuracy']\n",
    ")"
   ]
  },
  {
   "cell_type": "code",
   "execution_count": 15,
   "metadata": {
    "execution": {
     "iopub.execute_input": "2021-03-24T13:27:54.493193Z",
     "iopub.status.busy": "2021-03-24T13:27:54.492846Z",
     "iopub.status.idle": "2021-03-24T13:27:54.503921Z",
     "shell.execute_reply": "2021-03-24T13:27:54.502539Z",
     "shell.execute_reply.started": "2021-03-24T13:27:54.493163Z"
    },
    "id": "WITIcnsyoFWe"
   },
   "outputs": [
    {
     "name": "stdout",
     "output_type": "stream",
     "text": [
      "Model: \"sequential_1\"\n",
      "_________________________________________________________________\n",
      "Layer (type)                 Output Shape              Param #   \n",
      "=================================================================\n",
      "conv2d_1 (Conv2D)            (None, 24, 24, 8)         208       \n",
      "_________________________________________________________________\n",
      "max_pooling2d_1 (MaxPooling2 (None, 4, 4, 8)           0         \n",
      "_________________________________________________________________\n",
      "flatten_1 (Flatten)          (None, 128)               0         \n",
      "_________________________________________________________________\n",
      "dense_1 (Dense)              (None, 10)                1290      \n",
      "_________________________________________________________________\n",
      "one_hot_categorical (OneHotC multiple                  0         \n",
      "=================================================================\n",
      "Total params: 1,498\n",
      "Trainable params: 1,498\n",
      "Non-trainable params: 0\n",
      "_________________________________________________________________\n"
     ]
    }
   ],
   "source": [
    "# Print the model summary\n",
    "\n",
    "probabilistic_model.summary()"
   ]
  },
  {
   "cell_type": "markdown",
   "metadata": {
    "id": "SN6VkX4-oFWg"
   },
   "source": [
    "Now, you can train the probabilistic model on the MNIST data using the code below. \n",
    "\n",
    "Note that the target data now uses the one-hot version of the labels, instead of the sparse version. This is to match the categorical distribution you added at the end."
   ]
  },
  {
   "cell_type": "code",
   "execution_count": 16,
   "metadata": {
    "execution": {
     "iopub.execute_input": "2021-03-24T13:27:54.507543Z",
     "iopub.status.busy": "2021-03-24T13:27:54.507140Z",
     "iopub.status.idle": "2021-03-24T13:28:34.769886Z",
     "shell.execute_reply": "2021-03-24T13:28:34.769184Z",
     "shell.execute_reply.started": "2021-03-24T13:27:54.507516Z"
    },
    "id": "KAW94TLLoFWh"
   },
   "outputs": [
    {
     "name": "stdout",
     "output_type": "stream",
     "text": [
      "Epoch 1/5\n",
      "1875/1875 [==============================] - 8s 4ms/step - loss: 0.9633 - accuracy: 0.7325\n",
      "Epoch 2/5\n",
      "1875/1875 [==============================] - 8s 4ms/step - loss: 0.1602 - accuracy: 0.9529\n",
      "Epoch 3/5\n",
      "1875/1875 [==============================] - 8s 4ms/step - loss: 0.1227 - accuracy: 0.9626\n",
      "Epoch 4/5\n",
      "1875/1875 [==============================] - 8s 4ms/step - loss: 0.1066 - accuracy: 0.9672\n",
      "Epoch 5/5\n",
      "1875/1875 [==============================] - 8s 4ms/step - loss: 0.0959 - accuracy: 0.9709\n"
     ]
    },
    {
     "data": {
      "text/plain": [
       "<tensorflow.python.keras.callbacks.History at 0x7fa120f2beb0>"
      ]
     },
     "execution_count": 16,
     "metadata": {},
     "output_type": "execute_result"
    }
   ],
   "source": [
    "# Train the model\n",
    "\n",
    "probabilistic_model.fit(x_train, y_train_oh, epochs=2)"
   ]
  },
  {
   "cell_type": "code",
   "execution_count": 17,
   "metadata": {
    "execution": {
     "iopub.execute_input": "2021-03-24T13:28:34.771343Z",
     "iopub.status.busy": "2021-03-24T13:28:34.771133Z",
     "iopub.status.idle": "2021-03-24T13:28:35.903432Z",
     "shell.execute_reply": "2021-03-24T13:28:35.902836Z",
     "shell.execute_reply.started": "2021-03-24T13:28:34.771319Z"
    },
    "id": "vczPrd_8oFWj"
   },
   "outputs": [
    {
     "name": "stdout",
     "output_type": "stream",
     "text": [
      "Accuracy on MNIST test set:  0.9732000231742859\n",
      "Accuracy on corrupted MNIST test set:  0.9412000179290771\n"
     ]
    }
   ],
   "source": [
    "# Evaluate the model\n",
    "\n",
    "print('Accuracy on MNIST test set: ',\n",
    "      str(probabilistic_model.evaluate(x_test, y_test_oh, verbose=False)[1]))\n",
    "print('Accuracy on corrupted MNIST test set: ',\n",
    "      str(probabilistic_model.evaluate(x_c_test, y_c_test_oh, verbose=False)[1]))"
   ]
  },
  {
   "cell_type": "markdown",
   "metadata": {
    "id": "KMILWQefoFWl"
   },
   "source": [
    "Note that the test accuracy of the probabilistic model is identical to the deterministic model. This is because the model architectures for both are equivalent; the only difference being that the probabilistic model returns a distribution object. Since we have also set the same random seed for both models, the trained variables are in fact identical, as the following cell shows."
   ]
  },
  {
   "cell_type": "code",
   "execution_count": 18,
   "metadata": {
    "execution": {
     "iopub.execute_input": "2021-03-24T13:28:35.904769Z",
     "iopub.status.busy": "2021-03-24T13:28:35.904577Z",
     "iopub.status.idle": "2021-03-24T13:28:35.911962Z",
     "shell.execute_reply": "2021-03-24T13:28:35.911207Z",
     "shell.execute_reply.started": "2021-03-24T13:28:35.904748Z"
    },
    "id": "SiznxCoVoFWl"
   },
   "outputs": [
    {
     "name": "stdout",
     "output_type": "stream",
     "text": [
      "True\n",
      "True\n",
      "True\n",
      "True\n"
     ]
    }
   ],
   "source": [
    "# Check all the weights of the deterministic and probabilistic models are identical\n",
    "\n",
    "for deterministic_variable, probabilistic_variable in zip(deterministic_model.weights, probabilistic_model.weights):\n",
    "    print(np.allclose(deterministic_variable.numpy(), probabilistic_variable.numpy()))"
   ]
  },
  {
   "cell_type": "markdown",
   "metadata": {
    "id": "QlTlUeeroFWo"
   },
   "source": [
    "#### Analyse the model predictions\n",
    "\n",
    "We will now do some deeper analysis by looking at the probabilities the model assigns to each class instead of its single prediction. \n",
    "\n",
    "The function below will be useful to help us analyse the probabilistic model predictions."
   ]
  },
  {
   "cell_type": "code",
   "execution_count": 19,
   "metadata": {
    "execution": {
     "iopub.execute_input": "2021-03-24T13:28:35.913358Z",
     "iopub.status.busy": "2021-03-24T13:28:35.913107Z",
     "iopub.status.idle": "2021-03-24T13:28:35.924786Z",
     "shell.execute_reply": "2021-03-24T13:28:35.923706Z",
     "shell.execute_reply.started": "2021-03-24T13:28:35.913335Z"
    },
    "id": "iOeY0WmboFWp"
   },
   "outputs": [],
   "source": [
    "# Function to make plots of the probabilities that the model estimates for an image\n",
    "\n",
    "def analyse_model_prediction(data, true_labels, model, image_num, run_ensemble=False):\n",
    "    if run_ensemble:\n",
    "        ensemble_size = 200\n",
    "    else:\n",
    "        ensemble_size = 1\n",
    "    image = data[image_num]\n",
    "    true_label = true_labels[image_num, 0]\n",
    "    predicted_probabilities = np.empty(shape=(ensemble_size, 10))\n",
    "    for i in range(ensemble_size):\n",
    "        predicted_probabilities[i] = model(image[np.newaxis, :]).mean().numpy()[0]\n",
    "    model_prediction = model(image[np.newaxis, :])\n",
    "    fig, (ax1, ax2) = plt.subplots(nrows=1, ncols=2, figsize=(10, 2),\n",
    "                                   gridspec_kw={'width_ratios': [2, 4]})\n",
    "    \n",
    "    # Show the image and the true label\n",
    "    ax1.imshow(image[..., 0], cmap='gray')\n",
    "    ax1.axis('off')\n",
    "    ax1.set_title('True label: {}'.format(str(true_label)))\n",
    "    \n",
    "    # Show a 95% prediction interval of model predicted probabilities\n",
    "    pct_2p5 = np.array([np.percentile(predicted_probabilities[:, i], 2.5) for i in range(10)])\n",
    "    pct_97p5 = np.array([np.percentile(predicted_probabilities[:, i], 97.5) for i in range(10)])    \n",
    "    bar = ax2.bar(np.arange(10), pct_97p5, color='red')\n",
    "    bar[int(true_label)].set_color('green')\n",
    "    ax2.bar(np.arange(10), pct_2p5-0.02, color='white', linewidth=1, edgecolor='white')\n",
    "    ax2.set_xticks(np.arange(10))\n",
    "    ax2.set_ylim([0, 1])\n",
    "    ax2.set_ylabel('Probability')\n",
    "    ax2.set_title('Model estimated probabilities')\n",
    "    plt.show()"
   ]
  },
  {
   "cell_type": "code",
   "execution_count": 20,
   "metadata": {
    "execution": {
     "iopub.execute_input": "2021-03-24T13:28:35.927082Z",
     "iopub.status.busy": "2021-03-24T13:28:35.926490Z",
     "iopub.status.idle": "2021-03-24T13:28:36.386531Z",
     "shell.execute_reply": "2021-03-24T13:28:36.385549Z",
     "shell.execute_reply.started": "2021-03-24T13:28:35.927038Z"
    },
    "id": "3c8vqn9PoFWq",
    "scrolled": true
   },
   "outputs": [
    {
     "data": {
      "image/png": "[encoded data removed]",
      "text/plain": [
       "<Figure size 720x144 with 2 Axes>"
      ]
     },
     "metadata": {
      "needs_background": "light"
     },
     "output_type": "display_data"
    },
    {
     "data": {
      "image/png": "[encoded data removed]",
      "text/plain": [
       "<Figure size 720x144 with 2 Axes>"
      ]
     },
     "metadata": {
      "needs_background": "light"
     },
     "output_type": "display_data"
    }
   ],
   "source": [
    "# Prediction examples on MNIST\n",
    "\n",
    "for i in [0, 1577]:\n",
    "    analyse_model_prediction(x_test, y_test, probabilistic_model, i)"
   ]
  },
  {
   "cell_type": "markdown",
   "metadata": {
    "id": "DHdUTb7UoFWt"
   },
   "source": [
    "The model is very confident that the first image is a 6, which is correct. For the second image, the model struggles, assigning nonzero probabilities to many different classes. \n",
    "\n",
    "Run the code below to do the same for 2 images from the corrupted MNIST test set."
   ]
  },
  {
   "cell_type": "code",
   "execution_count": 21,
   "metadata": {
    "execution": {
     "iopub.execute_input": "2021-03-24T13:28:36.388987Z",
     "iopub.status.busy": "2021-03-24T13:28:36.388664Z",
     "iopub.status.idle": "2021-03-24T13:28:36.794260Z",
     "shell.execute_reply": "2021-03-24T13:28:36.793620Z",
     "shell.execute_reply.started": "2021-03-24T13:28:36.388945Z"
    },
    "id": "9--Bv_ZpoFWt"
   },
   "outputs": [
    {
     "data": {
      "image/png": "[encoded data removed]",
      "text/plain": [
       "<Figure size 720x144 with 2 Axes>"
      ]
     },
     "metadata": {
      "needs_background": "light"
     },
     "output_type": "display_data"
    },
    {
     "data": {
      "image/png": "[encoded data removed]",
      "text/plain": [
       "<Figure size 720x144 with 2 Axes>"
      ]
     },
     "metadata": {
      "needs_background": "light"
     },
     "output_type": "display_data"
    }
   ],
   "source": [
    "# Prediction examples on MNIST-C\n",
    "\n",
    "for i in [0, 3710]:\n",
    "    analyse_model_prediction(x_c_test, y_c_test, probabilistic_model, i)"
   ]
  },
  {
   "cell_type": "markdown",
   "metadata": {
    "id": "Li3vTiOYoFWv"
   },
   "source": [
    "The first is the same 6 as you saw above, but the second image is different. Notice how the model can still say with high certainty that the first image is a 6, but struggles for the second, assigning an almost uniform distribution to all possible labels.\n",
    "\n",
    "Finally, have a look at an image for which the model is very sure on MNIST data but very unsure on corrupted MNIST data:"
   ]
  },
  {
   "cell_type": "code",
   "execution_count": 22,
   "metadata": {
    "execution": {
     "iopub.execute_input": "2021-03-24T13:28:36.796108Z",
     "iopub.status.busy": "2021-03-24T13:28:36.795732Z",
     "iopub.status.idle": "2021-03-24T13:28:37.326897Z",
     "shell.execute_reply": "2021-03-24T13:28:37.326254Z",
     "shell.execute_reply.started": "2021-03-24T13:28:36.796078Z"
    },
    "id": "zD9Qj3izoFWw"
   },
   "outputs": [
    {
     "data": {
      "image/png": "[encoded data removed]",
      "text/plain": [
       "<Figure size 720x144 with 2 Axes>"
      ]
     },
     "metadata": {
      "needs_background": "light"
     },
     "output_type": "display_data"
    },
    {
     "data": {
      "image/png": "[encoded data removed]",
      "text/plain": [
       "<Figure size 720x144 with 2 Axes>"
      ]
     },
     "metadata": {
      "needs_background": "light"
     },
     "output_type": "display_data"
    }
   ],
   "source": [
    "# Prediction examples from both datasets\n",
    "\n",
    "for i in [9241]:\n",
    "    analyse_model_prediction(x_test, y_test, probabilistic_model, i)\n",
    "    analyse_model_prediction(x_c_test, y_c_test, probabilistic_model, i)"
   ]
  },
  {
   "cell_type": "markdown",
   "metadata": {
    "id": "o6OLDYt-oFWx"
   },
   "source": [
    "It's not surprising what's happening here: the spatters cover up most of the number. You would hope a model indicates that it's unsure here, since there's very little information to go by. This is exactly what's happened."
   ]
  },
  {
   "cell_type": "markdown",
   "metadata": {
    "id": "zKPz3vv-oFWy"
   },
   "source": [
    "#### Uncertainty quantification using entropy\n",
    "\n",
    "We can also make some analysis of the model's uncertainty across the full test set, instead of for individual values. One way to do this is to calculate the [entropy](https://en.wikipedia.org/wiki/Entropy_%28information_theory%29) of the distribution. The entropy is the expected information (or informally, the expected 'surprise') of a random variable, and is a measure of the uncertainty of the random variable. The entropy of the estimated probabilities for sample $i$ is defined as\n",
    "\n",
    "$$\n",
    "H_i = -\\sum_{j=1}^{10} p_{ij} \\text{log}_{2}(p_{ij})\n",
    "$$\n",
    "\n",
    "where $p_{ij}$ is the probability that the model assigns to sample $i$ corresponding to label $j$. The entropy as above is measured in _bits_. If the natural logarithm is used instead, the entropy is measured in _nats_.\n",
    "\n",
    "The key point is that the higher the value, the more unsure the model is. Let's see the distribution of the entropy of the model's predictions across the MNIST and corrupted MNIST test sets. The plots will be split between predictions the model gets correct and incorrect."
   ]
  },
  {
   "cell_type": "code",
   "execution_count": 23,
   "metadata": {
    "execution": {
     "iopub.execute_input": "2021-03-24T13:28:37.328443Z",
     "iopub.status.busy": "2021-03-24T13:28:37.328134Z",
     "iopub.status.idle": "2021-03-24T13:28:37.340258Z",
     "shell.execute_reply": "2021-03-24T13:28:37.339483Z",
     "shell.execute_reply.started": "2021-03-24T13:28:37.328418Z"
    },
    "id": "b0Ev31u7oFWy"
   },
   "outputs": [],
   "source": [
    "# Functions to plot the distribution of the information entropy across samples,\n",
    "# split into whether the model prediction is correct or incorrect\n",
    "\n",
    "\n",
    "def get_correct_indices(model, x, labels):\n",
    "    y_model = model(x)\n",
    "    correct = np.argmax(y_model.mean(), axis=1) == np.squeeze(labels)\n",
    "    correct_indices = [i for i in range(x.shape[0]) if correct[i]]\n",
    "    incorrect_indices = [i for i in range(x.shape[0]) if not correct[i]]\n",
    "    return correct_indices, incorrect_indices\n",
    "\n",
    "\n",
    "def plot_entropy_distribution(model, x, labels):\n",
    "    probs = model(x).mean().numpy()\n",
    "    entropy = -np.sum(probs * np.log2(probs), axis=1)\n",
    "    fig, axes = plt.subplots(1, 2, figsize=(10, 4))\n",
    "    for i, category in zip(range(2), ['Correct', 'Incorrect']):\n",
    "        entropy_category = entropy[get_correct_indices(model, x, labels)[i]]\n",
    "        mean_entropy = np.mean(entropy_category)\n",
    "        num_samples = entropy_category.shape[0]\n",
    "        title = category + 'ly labelled ({:.1f}% of total)'.format(num_samples / x.shape[0] * 100)\n",
    "        axes[i].hist(entropy_category, weights=(1/num_samples)*np.ones(num_samples))\n",
    "        axes[i].annotate('Mean: {:.3f} bits'.format(mean_entropy), (0.4, 0.9), ha='center')\n",
    "        axes[i].set_xlabel('Entropy (bits)')\n",
    "        axes[i].set_ylim([0, 1])\n",
    "        axes[i].set_ylabel('Probability')\n",
    "        axes[i].set_title(title)\n",
    "    plt.show()"
   ]
  },
  {
   "cell_type": "code",
   "execution_count": 24,
   "metadata": {
    "execution": {
     "iopub.execute_input": "2021-03-24T13:28:37.342765Z",
     "iopub.status.busy": "2021-03-24T13:28:37.342081Z",
     "iopub.status.idle": "2021-03-24T13:28:38.594718Z",
     "shell.execute_reply": "2021-03-24T13:28:38.594171Z",
     "shell.execute_reply.started": "2021-03-24T13:28:37.342718Z"
    },
    "id": "6dYsfnipoFW1"
   },
   "outputs": [
    {
     "name": "stdout",
     "output_type": "stream",
     "text": [
      "MNIST test set:\n"
     ]
    },
    {
     "data": {
      "image/png": "[encoded data removed]",
      "text/plain": [
       "<Figure size 720x288 with 2 Axes>"
      ]
     },
     "metadata": {
      "needs_background": "light"
     },
     "output_type": "display_data"
    }
   ],
   "source": [
    "# Entropy plots for the MNIST dataset\n",
    "\n",
    "print('MNIST test set:')\n",
    "plot_entropy_distribution(probabilistic_model, x_test, y_test)"
   ]
  },
  {
   "cell_type": "code",
   "execution_count": 25,
   "metadata": {
    "execution": {
     "iopub.execute_input": "2021-03-24T13:28:38.596129Z",
     "iopub.status.busy": "2021-03-24T13:28:38.595937Z",
     "iopub.status.idle": "2021-03-24T13:28:39.827135Z",
     "shell.execute_reply": "2021-03-24T13:28:39.826375Z",
     "shell.execute_reply.started": "2021-03-24T13:28:38.596108Z"
    },
    "id": "txpCTZEsoFW3"
   },
   "outputs": [
    {
     "name": "stdout",
     "output_type": "stream",
     "text": [
      "Corrupted MNIST test set:\n"
     ]
    },
    {
     "data": {
      "image/png": "[encoded data removed]",
      "text/plain": [
       "<Figure size 720x288 with 2 Axes>"
      ]
     },
     "metadata": {
      "needs_background": "light"
     },
     "output_type": "display_data"
    }
   ],
   "source": [
    "# Entropy plots for the MNIST-C dataset\n",
    "\n",
    "print('Corrupted MNIST test set:')\n",
    "plot_entropy_distribution(probabilistic_model, x_c_test, y_c_test)"
   ]
  },
  {
   "cell_type": "markdown",
   "metadata": {
    "id": "-h18QpMRoFW5"
   },
   "source": [
    "There are two main conclusions:\n",
    "- The model is more unsure on the predictions it got wrong: this means it \"knows\" when the prediction may be wrong.\n",
    "- The model is more unsure for the corrupted MNIST test than for the uncorrupted version. Futhermore, this is more pronounced for correct predictions than for those it labels incorrectly.\n",
    "\n",
    "In this way, the model seems to \"know\" when it is unsure. This is a great property to have in a machine learning model, and is one of the advantages of probabilistic modelling."
   ]
  },
  {
   "cell_type": "markdown",
   "metadata": {
    "id": "yTHlkzWvoFW5"
   },
   "source": [
    "### Bayesian CNN model\n",
    "\n",
    "The probabilistic model you just created considered only aleatoric uncertainty, assigning probabilities to each image instead of deterministic labels. The model still had deterministic weights. However, as you've seen, there is also 'epistemic' uncertainty over the weights, due to uncertainty about the parameters that explain the training data. \n",
    "\n",
    "You'll now be adding weight uncertainty to the model you just created. Your new model will again have the following layers:\n",
    "- 2D convolution\n",
    "- Max pooling\n",
    "- Flatten\n",
    "- Dense\n",
    "- OneHotCategorical\n",
    "\n",
    "but where the convolutional and dense layers include weight uncertainty. You'll embed weight uncertainty as follows:\n",
    "- The 2D convolution layer will be replaced by a `Convolution2DReparameterization` layer\n",
    "- The Dense layer will be replaced by a `DenseVariational` layer."
   ]
  },
  {
   "cell_type": "markdown",
   "metadata": {
    "id": "Hl5EroY8oFW6"
   },
   "source": [
    "You should start by creating the convolutional layer in the function below. The function should return an instance of the `Convolution2DReparameterization` layer, according to the following specification: \n",
    "\n",
    "* The function takes the `input_shape` and `divergence_fn` as arguments\n",
    "* The layer should set the input shape in its constructor using the `input_shape` argument\n",
    "* This layer should have 8 filters, a kernel size of `(5, 5)`, a ReLU activation, and `\"VALID\"` padding\n",
    "* The prior for both the kernel and bias should be the standard `default_multivariate_normal_fn`, as seen in the coding tutorial\n",
    "* The posterior for each parameter in both the kernel and bias should be an independent normal distribution with trainable mean and variance (_hint: use the_ `default_mean_field_normal_fn`_)_\n",
    "* The divergence function should be set using the `divergence_fn` argument for both the kernel and the bias\n",
    "\n",
    "_HINT: Review the arguments you used in the coding tutorial on Reparameterization layers._"
   ]
  },
  {
   "cell_type": "code",
   "execution_count": 69,
   "metadata": {
    "execution": {
     "iopub.execute_input": "2021-03-24T13:47:06.632908Z",
     "iopub.status.busy": "2021-03-24T13:47:06.632638Z",
     "iopub.status.idle": "2021-03-24T13:47:06.639089Z",
     "shell.execute_reply": "2021-03-24T13:47:06.638334Z",
     "shell.execute_reply.started": "2021-03-24T13:47:06.632869Z"
    },
    "id": "lhcswiqxoFW6"
   },
   "outputs": [],
   "source": [
    "#### GRADED CELL ####\n",
    "\n",
    "# Complete the following functions. \n",
    "# Make sure to not change the function name or arguments.\n",
    "\n",
    "def get_convolutional_reparameterization_layer(input_shape, divergence_fn):\n",
    "    \"\"\"\n",
    "    This function should create an instance of a Convolution2DReparameterization \n",
    "    layer according to the above specification. \n",
    "    The function takes the input_shape and divergence_fn as arguments, which should \n",
    "    be used to define the layer.\n",
    "    Your function should then return the layer instance.\n",
    "    \"\"\"\n",
    "    \n",
    "    conv2d_reparam_layer = tfpl.Convolution2DReparameterization(\n",
    "        filters=8, kernel_size=(5, 5), activation=\"relu\", padding=\"valid\", \n",
    "        input_shape=input_shape,\n",
    "        kernel_prior_fn=tfp.layers.default_multivariate_normal_fn,\n",
    "        bias_prior_fn=tfp.layers.default_multivariate_normal_fn,\n",
    "        kernel_posterior_fn=tfp.layers.default_mean_field_normal_fn(is_singular=False),\n",
    "        #kernel_posterior_tensor_fn = tfd.Distribution.sample,\n",
    "        bias_posterior_fn=tfp.layers.default_mean_field_normal_fn(is_singular=False),\n",
    "        #bias_posterior_tensor_fn = tfd.Distribution.sample,\n",
    "        kernel_divergence_fn=divergence_fn,\n",
    "        bias_divergence_fn=divergence_fn\n",
    "    )\n",
    "    \n",
    "    return conv2d_reparam_layer"
   ]
  },
  {
   "cell_type": "markdown",
   "metadata": {
    "id": "6Qegf6tkoFW8"
   },
   "source": [
    "You'll use this function to create your model a little bit later on. "
   ]
  },
  {
   "cell_type": "markdown",
   "metadata": {
    "id": "fNVmkwyToFW8"
   },
   "source": [
    "#### Custom prior\n",
    "\n",
    "For the parameters of the `DenseVariational` layer, we will use a custom prior: the \"spike and slab\" (also called a *scale mixture prior*) distribution. This distribution has a density that is the weighted sum of two normally distributed ones: one with a standard deviation of 1 and one with a standard deviation of 10. In this way, it has a sharp spike around 0 (from the normal distribution with standard deviation 1), but is also more spread out towards far away values (from the contribution from the normal distribution with standard deviation 10). The reason for using such a prior is that it is like a standard unit normal, but makes values far away from 0 more likely, allowing the model to explore a larger weight space. Run the code below to create a \"spike and slab\" distribution and plot its probability density function, compared with a standard unit normal."
   ]
  },
  {
   "cell_type": "code",
   "execution_count": 70,
   "metadata": {
    "execution": {
     "iopub.execute_input": "2021-03-24T13:47:07.393681Z",
     "iopub.status.busy": "2021-03-24T13:47:07.393340Z",
     "iopub.status.idle": "2021-03-24T13:47:07.400636Z",
     "shell.execute_reply": "2021-03-24T13:47:07.399667Z",
     "shell.execute_reply.started": "2021-03-24T13:47:07.393653Z"
    },
    "id": "i26mlCWooFW9"
   },
   "outputs": [],
   "source": [
    "# Function to define the spike and slab distribution\n",
    "\n",
    "def spike_and_slab(event_shape, dtype):\n",
    "    distribution = tfd.Mixture(\n",
    "        cat=tfd.Categorical(probs=[0.5, 0.5]),\n",
    "        components=[\n",
    "            tfd.Independent(tfd.Normal(\n",
    "                loc=tf.zeros(event_shape, dtype=dtype), \n",
    "                scale=1.0*tf.ones(event_shape, dtype=dtype)),\n",
    "                            reinterpreted_batch_ndims=1),\n",
    "            tfd.Independent(tfd.Normal(\n",
    "                loc=tf.zeros(event_shape, dtype=dtype), \n",
    "                scale=10.0*tf.ones(event_shape, dtype=dtype)),\n",
    "                            reinterpreted_batch_ndims=1)],\n",
    "    name='spike_and_slab')\n",
    "    return distribution"
   ]
  },
  {
   "cell_type": "code",
   "execution_count": 71,
   "metadata": {
    "execution": {
     "iopub.execute_input": "2021-03-24T13:47:07.619787Z",
     "iopub.status.busy": "2021-03-24T13:47:07.619543Z",
     "iopub.status.idle": "2021-03-24T13:47:07.812552Z",
     "shell.execute_reply": "2021-03-24T13:47:07.811645Z",
     "shell.execute_reply.started": "2021-03-24T13:47:07.619762Z"
    },
    "id": "WFDxViE4oFW_"
   },
   "outputs": [
    {
     "data": {
      "image/png": "[encoded data removed]",
      "text/plain": [
       "<Figure size 432x288 with 1 Axes>"
      ]
     },
     "metadata": {
      "needs_background": "light"
     },
     "output_type": "display_data"
    }
   ],
   "source": [
    "# Plot the spike and slab distribution pdf\n",
    "\n",
    "x_plot = np.linspace(-5, 5, 1000)[:, np.newaxis]\n",
    "plt.plot(x_plot, tfd.Normal(loc=0, scale=1).prob(x_plot).numpy(), label='unit normal', linestyle='--')\n",
    "plt.plot(x_plot, spike_and_slab(1, dtype=tf.float32).prob(x_plot).numpy(), label='spike and slab')\n",
    "plt.xlabel('x')\n",
    "plt.ylabel('Density')\n",
    "plt.legend()\n",
    "plt.show()"
   ]
  },
  {
   "cell_type": "markdown",
   "metadata": {
    "id": "eqlCcUdLoFXB"
   },
   "source": [
    "You should now complete the function below to create the prior distribution for the `DenseVariational` layer, using the spike and slab distribution above.\n",
    "\n",
    "* The function has the required signature for the `make_prior_fn` argument of the `DenseVariational` layer\n",
    "* The prior will have no trainable parameters\n",
    "* It should use the spike and slab distribution for both the kernel and the bias, setting the `dtype` according to the function argument\n",
    "* The distribution should have the correct event shape, according to the `kernel_size` and `bias_size` arguments\n",
    "* The function should return a callable, that returns the spike and slab distribution\n",
    "\n",
    "_Hints:_ \n",
    "* _Refer to the lecture video and/or coding tutorial to review the_ `DenseVariational` _layer arguments_\n",
    "* _Use the_ `Sequential` _API with a_ `DistributionLambda` _layer to create the callable that is returned by the function_"
   ]
  },
  {
   "cell_type": "code",
   "execution_count": 125,
   "metadata": {
    "execution": {
     "iopub.execute_input": "2021-03-24T14:24:29.934847Z",
     "iopub.status.busy": "2021-03-24T14:24:29.934598Z",
     "iopub.status.idle": "2021-03-24T14:24:29.940944Z",
     "shell.execute_reply": "2021-03-24T14:24:29.940158Z",
     "shell.execute_reply.started": "2021-03-24T14:24:29.934821Z"
    },
    "id": "zByNMRX-oFXB"
   },
   "outputs": [],
   "source": [
    "#### GRADED CELL ####\n",
    "\n",
    "# Complete the following functions. \n",
    "# Make sure to not change the function name or arguments.\n",
    "\n",
    "def get_prior(kernel_size, bias_size, dtype=None):\n",
    "    \"\"\"\n",
    "    This function should create the prior distribution, consisting of the \n",
    "    \"spike and slab\" distribution that is described above. \n",
    "    The distribution should be created using the kernel_size, bias_size and dtype\n",
    "    function arguments above.\n",
    "    The function should then return a callable, that returns the prior distribution.\n",
    "    \"\"\"\n",
    "    n = kernel_size + bias_size\n",
    "    return Sequential([\n",
    "        tfpl.DistributionLambda(\n",
    "            lambda t: tfd.Normal(\n",
    "                loc=tf.zeros(n), scale=tf.ones(n)\n",
    "            )\n",
    "            \n",
    "        )\n",
    "    \n",
    "    ])\n",
    "    "
   ]
  },
  {
   "cell_type": "markdown",
   "metadata": {
    "id": "FPQ1S25woFXD"
   },
   "source": [
    "You'll use this function when you create the `DenseVariational` layer later on."
   ]
  },
  {
   "cell_type": "markdown",
   "metadata": {
    "id": "rCy-J9eDoFXE"
   },
   "source": [
    "You should now complete the function below to create the variational posterior distribution for the `DenseVariational` layer. This distribution will be an independent Gaussian with trainable mean and standard deviation for each parameter in the layer.\n",
    "\n",
    "* The function has the required signature for the `make_posterior_fn` argument of the `DenseVariational` layer\n",
    "* The posterior will have 2 trainable variables for each layer parameter, one for the mean and one for the standard deviation\n",
    "* The distribution should have the correct event shape, according to the `kernel_size` and `bias_size` arguments\n",
    "* The function should return a callable, that returns the trainable independent Gaussian distribution\n",
    "\n",
    "_Hints:_ \n",
    "* _Refer to the lecture video and/or coding tutorial to review the_ `DenseVariational` _layer arguments_\n",
    "* _Use the_ `Sequential` _API with a_ `VariableLayer` and an `IndependentNormal` _layer to create the callable that is returned by the function_"
   ]
  },
  {
   "cell_type": "code",
   "execution_count": 126,
   "metadata": {
    "execution": {
     "iopub.execute_input": "2021-03-24T14:24:30.745474Z",
     "iopub.status.busy": "2021-03-24T14:24:30.745210Z",
     "iopub.status.idle": "2021-03-24T14:24:30.750305Z",
     "shell.execute_reply": "2021-03-24T14:24:30.749572Z",
     "shell.execute_reply.started": "2021-03-24T14:24:30.745447Z"
    },
    "id": "zspebbazoFXE"
   },
   "outputs": [],
   "source": [
    "#### GRADED CELL ####\n",
    "\n",
    "# Complete the following functions. \n",
    "# Make sure to not change the function name or arguments.\n",
    "\n",
    "def get_posterior(kernel_size, bias_size, dtype=None):\n",
    "    \"\"\"\n",
    "    This function should create the posterior distribution as specified above.\n",
    "    The distribution should be created using the kernel_size, bias_size and dtype\n",
    "    function arguments above.\n",
    "    The function should then return a callable, that returns the posterior distribution.\n",
    "    \"\"\"\n",
    "    n = kernel_size + bias_size\n",
    "    posterior_model = Sequential([\n",
    "        tfpl.VariableLayer(tfpl.IndependentNormal.params_size(n), dtype=dtype),\n",
    "        tfpl.IndependentNormal(n)\n",
    "    ])\n",
    "    return posterior_model\n",
    "    "
   ]
  },
  {
   "cell_type": "markdown",
   "metadata": {
    "id": "_qklM5W5oFXG"
   },
   "source": [
    "You should now use your `prior` and `posterior` functions to complete the function below to create the `DenseVariational` layer. \n",
    "\n",
    "* The function has `prior_fn`, `posterior_fn` and `kl_weight` arguments, to be used in the constructor of the `DenseVariational` layer\n",
    "* The layer should have the correct number of units in order to parameterize a `OneHotCategorical` layer with 10 categories\n",
    "* The `make_prior_fn`, `make_posterior_fn` and `kl_weight` arguments should be set with the corresponding function arguments\n",
    "* An exact KL-divergence is unavailable for this choice of prior and posterior, so the layer should not attempt to use an analytical expression for this\n",
    "* Your function should then return an instance of the `DenseVariational` layer"
   ]
  },
  {
   "cell_type": "code",
   "execution_count": 127,
   "metadata": {
    "execution": {
     "iopub.execute_input": "2021-03-24T14:24:31.252505Z",
     "iopub.status.busy": "2021-03-24T14:24:31.252175Z",
     "iopub.status.idle": "2021-03-24T14:24:31.258348Z",
     "shell.execute_reply": "2021-03-24T14:24:31.257194Z",
     "shell.execute_reply.started": "2021-03-24T14:24:31.252477Z"
    },
    "id": "VKVzcCPdoFXG"
   },
   "outputs": [],
   "source": [
    "#### GRADED CELL ####\n",
    "\n",
    "# Complete the following functions. \n",
    "# Make sure to not change the function name or arguments.\n",
    "\n",
    "def get_dense_variational_layer(prior_fn, posterior_fn, kl_weight):\n",
    "    \"\"\"\n",
    "    This function should create an instance of a DenseVariational layer according \n",
    "    to the above specification. \n",
    "    The function takes the prior_fn, posterior_fn and kl_weight as arguments, which should \n",
    "    be used to define the layer.\n",
    "    Your function should then return the layer instance.\n",
    "    \"\"\"\n",
    "    return tfpl.DenseVariational(\n",
    "        units=10,\n",
    "        make_prior_fn=prior_fn,\n",
    "        make_posterior_fn=posterior_fn,\n",
    "        kl_weight=kl_weight,\n",
    "        kl_use_exact=True\n",
    "    )\n",
    "    "
   ]
  },
  {
   "cell_type": "markdown",
   "metadata": {
    "id": "NhsF2-0boFXI"
   },
   "source": [
    "Now, you're ready to use the functions you defined to create the convolutional reparameterization and dense variational layers, and use them in your Bayesian convolutional neural network model."
   ]
  },
  {
   "cell_type": "code",
   "execution_count": 128,
   "metadata": {
    "execution": {
     "iopub.execute_input": "2021-03-24T14:24:31.738454Z",
     "iopub.status.busy": "2021-03-24T14:24:31.738213Z",
     "iopub.status.idle": "2021-03-24T14:24:31.746065Z",
     "shell.execute_reply": "2021-03-24T14:24:31.745006Z",
     "shell.execute_reply.started": "2021-03-24T14:24:31.738429Z"
    },
    "id": "vazOUoF8oFXI"
   },
   "outputs": [],
   "source": [
    "# Create the layers\n",
    "\n",
    "tf.random.set_seed(0)\n",
    "divergence_fn = lambda q, p, _ : tfd.kl_divergence(q, p) / x_train.shape[0]\n",
    "convolutional_reparameterization_layer = get_convolutional_reparameterization_layer(\n",
    "    input_shape=(28, 28, 1), divergence_fn=divergence_fn\n",
    ")\n",
    "dense_variational_layer = get_dense_variational_layer(\n",
    "    get_prior, get_posterior, kl_weight=1/x_train.shape[0]\n",
    ")"
   ]
  },
  {
   "cell_type": "code",
   "execution_count": 129,
   "metadata": {
    "execution": {
     "iopub.execute_input": "2021-03-24T14:24:32.181953Z",
     "iopub.status.busy": "2021-03-24T14:24:32.181708Z",
     "iopub.status.idle": "2021-03-24T14:24:32.595931Z",
     "shell.execute_reply": "2021-03-24T14:24:32.594680Z",
     "shell.execute_reply.started": "2021-03-24T14:24:32.181927Z"
    },
    "id": "PnvIoaxyoFXL"
   },
   "outputs": [
    {
     "ename": "NotImplementedError",
     "evalue": "No KL(distribution_a || distribution_b) registered for distribution_a type Independent and distribution_b type Normal",
     "output_type": "error",
     "traceback": [
      "\u001b[0;31m---------------------------------------------------------------------------\u001b[0m",
      "\u001b[0;31mNotImplementedError\u001b[0m                       Traceback (most recent call last)",
      "\u001b[0;32m<ipython-input-129-a18d44a4b259>\u001b[0m in \u001b[0;36m<module>\u001b[0;34m\u001b[0m\n\u001b[1;32m      1\u001b[0m \u001b[0;31m# Build and compile the Bayesian CNN model\u001b[0m\u001b[0;34m\u001b[0m\u001b[0;34m\u001b[0m\u001b[0;34m\u001b[0m\u001b[0m\n\u001b[1;32m      2\u001b[0m \u001b[0;34m\u001b[0m\u001b[0m\n\u001b[0;32m----> 3\u001b[0;31m bayesian_model = Sequential([\n\u001b[0m\u001b[1;32m      4\u001b[0m     \u001b[0mconvolutional_reparameterization_layer\u001b[0m\u001b[0;34m,\u001b[0m\u001b[0;34m\u001b[0m\u001b[0;34m\u001b[0m\u001b[0m\n\u001b[1;32m      5\u001b[0m     \u001b[0mMaxPooling2D\u001b[0m\u001b[0;34m(\u001b[0m\u001b[0mpool_size\u001b[0m\u001b[0;34m=\u001b[0m\u001b[0;34m(\u001b[0m\u001b[0;36m6\u001b[0m\u001b[0;34m,\u001b[0m \u001b[0;36m6\u001b[0m\u001b[0;34m)\u001b[0m\u001b[0;34m)\u001b[0m\u001b[0;34m,\u001b[0m\u001b[0;34m\u001b[0m\u001b[0;34m\u001b[0m\u001b[0m\n",
      "\u001b[0;32m~/dev/tools/anaconda3/envs/od/lib/python3.8/site-packages/tensorflow/python/training/tracking/base.py\u001b[0m in \u001b[0;36m_method_wrapper\u001b[0;34m(self, *args, **kwargs)\u001b[0m\n\u001b[1;32m    515\u001b[0m     \u001b[0mself\u001b[0m\u001b[0;34m.\u001b[0m\u001b[0m_self_setattr_tracking\u001b[0m \u001b[0;34m=\u001b[0m \u001b[0;32mFalse\u001b[0m  \u001b[0;31m# pylint: disable=protected-access\u001b[0m\u001b[0;34m\u001b[0m\u001b[0;34m\u001b[0m\u001b[0m\n\u001b[1;32m    516\u001b[0m     \u001b[0;32mtry\u001b[0m\u001b[0;34m:\u001b[0m\u001b[0;34m\u001b[0m\u001b[0;34m\u001b[0m\u001b[0m\n\u001b[0;32m--> 517\u001b[0;31m       \u001b[0mresult\u001b[0m \u001b[0;34m=\u001b[0m \u001b[0mmethod\u001b[0m\u001b[0;34m(\u001b[0m\u001b[0mself\u001b[0m\u001b[0;34m,\u001b[0m \u001b[0;34m*\u001b[0m\u001b[0margs\u001b[0m\u001b[0;34m,\u001b[0m \u001b[0;34m**\u001b[0m\u001b[0mkwargs\u001b[0m\u001b[0;34m)\u001b[0m\u001b[0;34m\u001b[0m\u001b[0;34m\u001b[0m\u001b[0m\n\u001b[0m\u001b[1;32m    518\u001b[0m     \u001b[0;32mfinally\u001b[0m\u001b[0;34m:\u001b[0m\u001b[0;34m\u001b[0m\u001b[0;34m\u001b[0m\u001b[0m\n\u001b[1;32m    519\u001b[0m       \u001b[0mself\u001b[0m\u001b[0;34m.\u001b[0m\u001b[0m_self_setattr_tracking\u001b[0m \u001b[0;34m=\u001b[0m \u001b[0mprevious_value\u001b[0m  \u001b[0;31m# pylint: disable=protected-access\u001b[0m\u001b[0;34m\u001b[0m\u001b[0;34m\u001b[0m\u001b[0m\n",
      "\u001b[0;32m~/dev/tools/anaconda3/envs/od/lib/python3.8/site-packages/tensorflow/python/keras/engine/sequential.py\u001b[0m in \u001b[0;36m__init__\u001b[0;34m(self, layers, name)\u001b[0m\n\u001b[1;32m    142\u001b[0m         \u001b[0mlayers\u001b[0m \u001b[0;34m=\u001b[0m \u001b[0;34m[\u001b[0m\u001b[0mlayers\u001b[0m\u001b[0;34m]\u001b[0m\u001b[0;34m\u001b[0m\u001b[0;34m\u001b[0m\u001b[0m\n\u001b[1;32m    143\u001b[0m       \u001b[0;32mfor\u001b[0m \u001b[0mlayer\u001b[0m \u001b[0;32min\u001b[0m \u001b[0mlayers\u001b[0m\u001b[0;34m:\u001b[0m\u001b[0;34m\u001b[0m\u001b[0;34m\u001b[0m\u001b[0m\n\u001b[0;32m--> 144\u001b[0;31m         \u001b[0mself\u001b[0m\u001b[0;34m.\u001b[0m\u001b[0madd\u001b[0m\u001b[0;34m(\u001b[0m\u001b[0mlayer\u001b[0m\u001b[0;34m)\u001b[0m\u001b[0;34m\u001b[0m\u001b[0;34m\u001b[0m\u001b[0m\n\u001b[0m\u001b[1;32m    145\u001b[0m \u001b[0;34m\u001b[0m\u001b[0m\n\u001b[1;32m    146\u001b[0m   \u001b[0;34m@\u001b[0m\u001b[0mproperty\u001b[0m\u001b[0;34m\u001b[0m\u001b[0;34m\u001b[0m\u001b[0m\n",
      "\u001b[0;32m~/dev/tools/anaconda3/envs/od/lib/python3.8/site-packages/tensorflow/python/training/tracking/base.py\u001b[0m in \u001b[0;36m_method_wrapper\u001b[0;34m(self, *args, **kwargs)\u001b[0m\n\u001b[1;32m    515\u001b[0m     \u001b[0mself\u001b[0m\u001b[0;34m.\u001b[0m\u001b[0m_self_setattr_tracking\u001b[0m \u001b[0;34m=\u001b[0m \u001b[0;32mFalse\u001b[0m  \u001b[0;31m# pylint: disable=protected-access\u001b[0m\u001b[0;34m\u001b[0m\u001b[0;34m\u001b[0m\u001b[0m\n\u001b[1;32m    516\u001b[0m     \u001b[0;32mtry\u001b[0m\u001b[0;34m:\u001b[0m\u001b[0;34m\u001b[0m\u001b[0;34m\u001b[0m\u001b[0m\n\u001b[0;32m--> 517\u001b[0;31m       \u001b[0mresult\u001b[0m \u001b[0;34m=\u001b[0m \u001b[0mmethod\u001b[0m\u001b[0;34m(\u001b[0m\u001b[0mself\u001b[0m\u001b[0;34m,\u001b[0m \u001b[0;34m*\u001b[0m\u001b[0margs\u001b[0m\u001b[0;34m,\u001b[0m \u001b[0;34m**\u001b[0m\u001b[0mkwargs\u001b[0m\u001b[0;34m)\u001b[0m\u001b[0;34m\u001b[0m\u001b[0;34m\u001b[0m\u001b[0m\n\u001b[0m\u001b[1;32m    518\u001b[0m     \u001b[0;32mfinally\u001b[0m\u001b[0;34m:\u001b[0m\u001b[0;34m\u001b[0m\u001b[0;34m\u001b[0m\u001b[0m\n\u001b[1;32m    519\u001b[0m       \u001b[0mself\u001b[0m\u001b[0;34m.\u001b[0m\u001b[0m_self_setattr_tracking\u001b[0m \u001b[0;34m=\u001b[0m \u001b[0mprevious_value\u001b[0m  \u001b[0;31m# pylint: disable=protected-access\u001b[0m\u001b[0;34m\u001b[0m\u001b[0;34m\u001b[0m\u001b[0m\n",
      "\u001b[0;32m~/dev/tools/anaconda3/envs/od/lib/python3.8/site-packages/tensorflow/python/keras/engine/sequential.py\u001b[0m in \u001b[0;36madd\u001b[0;34m(self, layer)\u001b[0m\n\u001b[1;32m    221\u001b[0m       \u001b[0;31m# If the model is being built continuously on top of an input layer:\u001b[0m\u001b[0;34m\u001b[0m\u001b[0;34m\u001b[0m\u001b[0;34m\u001b[0m\u001b[0m\n\u001b[1;32m    222\u001b[0m       \u001b[0;31m# refresh its output.\u001b[0m\u001b[0;34m\u001b[0m\u001b[0;34m\u001b[0m\u001b[0;34m\u001b[0m\u001b[0m\n\u001b[0;32m--> 223\u001b[0;31m       \u001b[0moutput_tensor\u001b[0m \u001b[0;34m=\u001b[0m \u001b[0mlayer\u001b[0m\u001b[0;34m(\u001b[0m\u001b[0mself\u001b[0m\u001b[0;34m.\u001b[0m\u001b[0moutputs\u001b[0m\u001b[0;34m[\u001b[0m\u001b[0;36m0\u001b[0m\u001b[0;34m]\u001b[0m\u001b[0;34m)\u001b[0m\u001b[0;34m\u001b[0m\u001b[0;34m\u001b[0m\u001b[0m\n\u001b[0m\u001b[1;32m    224\u001b[0m       \u001b[0;32mif\u001b[0m \u001b[0mlen\u001b[0m\u001b[0;34m(\u001b[0m\u001b[0mnest\u001b[0m\u001b[0;34m.\u001b[0m\u001b[0mflatten\u001b[0m\u001b[0;34m(\u001b[0m\u001b[0moutput_tensor\u001b[0m\u001b[0;34m)\u001b[0m\u001b[0;34m)\u001b[0m \u001b[0;34m!=\u001b[0m \u001b[0;36m1\u001b[0m\u001b[0;34m:\u001b[0m\u001b[0;34m\u001b[0m\u001b[0;34m\u001b[0m\u001b[0m\n\u001b[1;32m    225\u001b[0m         \u001b[0;32mraise\u001b[0m \u001b[0mValueError\u001b[0m\u001b[0;34m(\u001b[0m\u001b[0mSINGLE_LAYER_OUTPUT_ERROR_MSG\u001b[0m\u001b[0;34m)\u001b[0m\u001b[0;34m\u001b[0m\u001b[0;34m\u001b[0m\u001b[0m\n",
      "\u001b[0;32m~/dev/tools/anaconda3/envs/od/lib/python3.8/site-packages/tensorflow/python/keras/engine/base_layer.py\u001b[0m in \u001b[0;36m__call__\u001b[0;34m(self, *args, **kwargs)\u001b[0m\n\u001b[1;32m    949\u001b[0m     \u001b[0;31m# >> model = tf.keras.Model(inputs, outputs)\u001b[0m\u001b[0;34m\u001b[0m\u001b[0;34m\u001b[0m\u001b[0;34m\u001b[0m\u001b[0m\n\u001b[1;32m    950\u001b[0m     \u001b[0;32mif\u001b[0m \u001b[0m_in_functional_construction_mode\u001b[0m\u001b[0;34m(\u001b[0m\u001b[0mself\u001b[0m\u001b[0;34m,\u001b[0m \u001b[0minputs\u001b[0m\u001b[0;34m,\u001b[0m \u001b[0margs\u001b[0m\u001b[0;34m,\u001b[0m \u001b[0mkwargs\u001b[0m\u001b[0;34m,\u001b[0m \u001b[0minput_list\u001b[0m\u001b[0;34m)\u001b[0m\u001b[0;34m:\u001b[0m\u001b[0;34m\u001b[0m\u001b[0;34m\u001b[0m\u001b[0m\n\u001b[0;32m--> 951\u001b[0;31m       return self._functional_construction_call(inputs, args, kwargs,\n\u001b[0m\u001b[1;32m    952\u001b[0m                                                 input_list)\n\u001b[1;32m    953\u001b[0m \u001b[0;34m\u001b[0m\u001b[0m\n",
      "\u001b[0;32m~/dev/tools/anaconda3/envs/od/lib/python3.8/site-packages/tensorflow/python/keras/engine/base_layer.py\u001b[0m in \u001b[0;36m_functional_construction_call\u001b[0;34m(self, inputs, args, kwargs, input_list)\u001b[0m\n\u001b[1;32m   1088\u001b[0m           layer=self, inputs=inputs, build_graph=True, training=training_value):\n\u001b[1;32m   1089\u001b[0m         \u001b[0;31m# Check input assumptions set after layer building, e.g. input shape.\u001b[0m\u001b[0;34m\u001b[0m\u001b[0;34m\u001b[0m\u001b[0;34m\u001b[0m\u001b[0m\n\u001b[0;32m-> 1090\u001b[0;31m         outputs = self._keras_tensor_symbolic_call(\n\u001b[0m\u001b[1;32m   1091\u001b[0m             inputs, input_masks, args, kwargs)\n\u001b[1;32m   1092\u001b[0m \u001b[0;34m\u001b[0m\u001b[0m\n",
      "\u001b[0;32m~/dev/tools/anaconda3/envs/od/lib/python3.8/site-packages/tensorflow/python/keras/engine/base_layer.py\u001b[0m in \u001b[0;36m_keras_tensor_symbolic_call\u001b[0;34m(self, inputs, input_masks, args, kwargs)\u001b[0m\n\u001b[1;32m    820\u001b[0m       \u001b[0;32mreturn\u001b[0m \u001b[0mnest\u001b[0m\u001b[0;34m.\u001b[0m\u001b[0mmap_structure\u001b[0m\u001b[0;34m(\u001b[0m\u001b[0mkeras_tensor\u001b[0m\u001b[0;34m.\u001b[0m\u001b[0mKerasTensor\u001b[0m\u001b[0;34m,\u001b[0m \u001b[0moutput_signature\u001b[0m\u001b[0;34m)\u001b[0m\u001b[0;34m\u001b[0m\u001b[0;34m\u001b[0m\u001b[0m\n\u001b[1;32m    821\u001b[0m     \u001b[0;32melse\u001b[0m\u001b[0;34m:\u001b[0m\u001b[0;34m\u001b[0m\u001b[0;34m\u001b[0m\u001b[0m\n\u001b[0;32m--> 822\u001b[0;31m       \u001b[0;32mreturn\u001b[0m \u001b[0mself\u001b[0m\u001b[0;34m.\u001b[0m\u001b[0m_infer_output_signature\u001b[0m\u001b[0;34m(\u001b[0m\u001b[0minputs\u001b[0m\u001b[0;34m,\u001b[0m \u001b[0margs\u001b[0m\u001b[0;34m,\u001b[0m \u001b[0mkwargs\u001b[0m\u001b[0;34m,\u001b[0m \u001b[0minput_masks\u001b[0m\u001b[0;34m)\u001b[0m\u001b[0;34m\u001b[0m\u001b[0;34m\u001b[0m\u001b[0m\n\u001b[0m\u001b[1;32m    823\u001b[0m \u001b[0;34m\u001b[0m\u001b[0m\n\u001b[1;32m    824\u001b[0m   \u001b[0;32mdef\u001b[0m \u001b[0m_infer_output_signature\u001b[0m\u001b[0;34m(\u001b[0m\u001b[0mself\u001b[0m\u001b[0;34m,\u001b[0m \u001b[0minputs\u001b[0m\u001b[0;34m,\u001b[0m \u001b[0margs\u001b[0m\u001b[0;34m,\u001b[0m \u001b[0mkwargs\u001b[0m\u001b[0;34m,\u001b[0m \u001b[0minput_masks\u001b[0m\u001b[0;34m)\u001b[0m\u001b[0;34m:\u001b[0m\u001b[0;34m\u001b[0m\u001b[0;34m\u001b[0m\u001b[0m\n",
      "\u001b[0;32m~/dev/tools/anaconda3/envs/od/lib/python3.8/site-packages/tensorflow/python/keras/engine/base_layer.py\u001b[0m in \u001b[0;36m_infer_output_signature\u001b[0;34m(self, inputs, args, kwargs, input_masks)\u001b[0m\n\u001b[1;32m    861\u001b[0m           \u001b[0;31m# TODO(kaftan): do we maybe_build here, or have we already done it?\u001b[0m\u001b[0;34m\u001b[0m\u001b[0;34m\u001b[0m\u001b[0;34m\u001b[0m\u001b[0m\n\u001b[1;32m    862\u001b[0m           \u001b[0mself\u001b[0m\u001b[0;34m.\u001b[0m\u001b[0m_maybe_build\u001b[0m\u001b[0;34m(\u001b[0m\u001b[0minputs\u001b[0m\u001b[0;34m)\u001b[0m\u001b[0;34m\u001b[0m\u001b[0;34m\u001b[0m\u001b[0m\n\u001b[0;32m--> 863\u001b[0;31m           \u001b[0moutputs\u001b[0m \u001b[0;34m=\u001b[0m \u001b[0mcall_fn\u001b[0m\u001b[0;34m(\u001b[0m\u001b[0minputs\u001b[0m\u001b[0;34m,\u001b[0m \u001b[0;34m*\u001b[0m\u001b[0margs\u001b[0m\u001b[0;34m,\u001b[0m \u001b[0;34m**\u001b[0m\u001b[0mkwargs\u001b[0m\u001b[0;34m)\u001b[0m\u001b[0;34m\u001b[0m\u001b[0;34m\u001b[0m\u001b[0m\n\u001b[0m\u001b[1;32m    864\u001b[0m \u001b[0;34m\u001b[0m\u001b[0m\n\u001b[1;32m    865\u001b[0m         \u001b[0mself\u001b[0m\u001b[0;34m.\u001b[0m\u001b[0m_handle_activity_regularization\u001b[0m\u001b[0;34m(\u001b[0m\u001b[0minputs\u001b[0m\u001b[0;34m,\u001b[0m \u001b[0moutputs\u001b[0m\u001b[0;34m)\u001b[0m\u001b[0;34m\u001b[0m\u001b[0;34m\u001b[0m\u001b[0m\n",
      "\u001b[0;32m~/dev/tools/anaconda3/envs/od/lib/python3.8/site-packages/tensorflow/python/autograph/impl/api.py\u001b[0m in \u001b[0;36mwrapper\u001b[0;34m(*args, **kwargs)\u001b[0m\n\u001b[1;32m    665\u001b[0m       \u001b[0;32mtry\u001b[0m\u001b[0;34m:\u001b[0m\u001b[0;34m\u001b[0m\u001b[0;34m\u001b[0m\u001b[0m\n\u001b[1;32m    666\u001b[0m         \u001b[0;32mwith\u001b[0m \u001b[0mconversion_ctx\u001b[0m\u001b[0;34m:\u001b[0m\u001b[0;34m\u001b[0m\u001b[0;34m\u001b[0m\u001b[0m\n\u001b[0;32m--> 667\u001b[0;31m           \u001b[0;32mreturn\u001b[0m \u001b[0mconverted_call\u001b[0m\u001b[0;34m(\u001b[0m\u001b[0mf\u001b[0m\u001b[0;34m,\u001b[0m \u001b[0margs\u001b[0m\u001b[0;34m,\u001b[0m \u001b[0mkwargs\u001b[0m\u001b[0;34m,\u001b[0m \u001b[0moptions\u001b[0m\u001b[0;34m=\u001b[0m\u001b[0moptions\u001b[0m\u001b[0;34m)\u001b[0m\u001b[0;34m\u001b[0m\u001b[0;34m\u001b[0m\u001b[0m\n\u001b[0m\u001b[1;32m    668\u001b[0m       \u001b[0;32mexcept\u001b[0m \u001b[0mException\u001b[0m \u001b[0;32mas\u001b[0m \u001b[0me\u001b[0m\u001b[0;34m:\u001b[0m  \u001b[0;31m# pylint:disable=broad-except\u001b[0m\u001b[0;34m\u001b[0m\u001b[0;34m\u001b[0m\u001b[0m\n\u001b[1;32m    669\u001b[0m         \u001b[0;32mif\u001b[0m \u001b[0mhasattr\u001b[0m\u001b[0;34m(\u001b[0m\u001b[0me\u001b[0m\u001b[0;34m,\u001b[0m \u001b[0;34m'ag_error_metadata'\u001b[0m\u001b[0;34m)\u001b[0m\u001b[0;34m:\u001b[0m\u001b[0;34m\u001b[0m\u001b[0;34m\u001b[0m\u001b[0m\n",
      "\u001b[0;32m~/dev/tools/anaconda3/envs/od/lib/python3.8/site-packages/tensorflow/python/autograph/impl/api.py\u001b[0m in \u001b[0;36mconverted_call\u001b[0;34m(f, args, kwargs, caller_fn_scope, options)\u001b[0m\n\u001b[1;32m    348\u001b[0m   \u001b[0;32mif\u001b[0m \u001b[0mconversion\u001b[0m\u001b[0;34m.\u001b[0m\u001b[0mis_in_allowlist_cache\u001b[0m\u001b[0;34m(\u001b[0m\u001b[0mf\u001b[0m\u001b[0;34m,\u001b[0m \u001b[0moptions\u001b[0m\u001b[0;34m)\u001b[0m\u001b[0;34m:\u001b[0m\u001b[0;34m\u001b[0m\u001b[0;34m\u001b[0m\u001b[0m\n\u001b[1;32m    349\u001b[0m     \u001b[0mlogging\u001b[0m\u001b[0;34m.\u001b[0m\u001b[0mlog\u001b[0m\u001b[0;34m(\u001b[0m\u001b[0;36m2\u001b[0m\u001b[0;34m,\u001b[0m \u001b[0;34m'Allowlisted %s: from cache'\u001b[0m\u001b[0;34m,\u001b[0m \u001b[0mf\u001b[0m\u001b[0;34m)\u001b[0m\u001b[0;34m\u001b[0m\u001b[0;34m\u001b[0m\u001b[0m\n\u001b[0;32m--> 350\u001b[0;31m     \u001b[0;32mreturn\u001b[0m \u001b[0m_call_unconverted\u001b[0m\u001b[0;34m(\u001b[0m\u001b[0mf\u001b[0m\u001b[0;34m,\u001b[0m \u001b[0margs\u001b[0m\u001b[0;34m,\u001b[0m \u001b[0mkwargs\u001b[0m\u001b[0;34m,\u001b[0m \u001b[0moptions\u001b[0m\u001b[0;34m,\u001b[0m \u001b[0;32mFalse\u001b[0m\u001b[0;34m)\u001b[0m\u001b[0;34m\u001b[0m\u001b[0;34m\u001b[0m\u001b[0m\n\u001b[0m\u001b[1;32m    351\u001b[0m \u001b[0;34m\u001b[0m\u001b[0m\n\u001b[1;32m    352\u001b[0m   \u001b[0;32mif\u001b[0m \u001b[0mag_ctx\u001b[0m\u001b[0;34m.\u001b[0m\u001b[0mcontrol_status_ctx\u001b[0m\u001b[0;34m(\u001b[0m\u001b[0;34m)\u001b[0m\u001b[0;34m.\u001b[0m\u001b[0mstatus\u001b[0m \u001b[0;34m==\u001b[0m \u001b[0mag_ctx\u001b[0m\u001b[0;34m.\u001b[0m\u001b[0mStatus\u001b[0m\u001b[0;34m.\u001b[0m\u001b[0mDISABLED\u001b[0m\u001b[0;34m:\u001b[0m\u001b[0;34m\u001b[0m\u001b[0;34m\u001b[0m\u001b[0m\n",
      "\u001b[0;32m~/dev/tools/anaconda3/envs/od/lib/python3.8/site-packages/tensorflow/python/autograph/impl/api.py\u001b[0m in \u001b[0;36m_call_unconverted\u001b[0;34m(f, args, kwargs, options, update_cache)\u001b[0m\n\u001b[1;32m    476\u001b[0m \u001b[0;34m\u001b[0m\u001b[0m\n\u001b[1;32m    477\u001b[0m   \u001b[0;32mif\u001b[0m \u001b[0mkwargs\u001b[0m \u001b[0;32mis\u001b[0m \u001b[0;32mnot\u001b[0m \u001b[0;32mNone\u001b[0m\u001b[0;34m:\u001b[0m\u001b[0;34m\u001b[0m\u001b[0;34m\u001b[0m\u001b[0m\n\u001b[0;32m--> 478\u001b[0;31m     \u001b[0;32mreturn\u001b[0m \u001b[0mf\u001b[0m\u001b[0;34m(\u001b[0m\u001b[0;34m*\u001b[0m\u001b[0margs\u001b[0m\u001b[0;34m,\u001b[0m \u001b[0;34m**\u001b[0m\u001b[0mkwargs\u001b[0m\u001b[0;34m)\u001b[0m\u001b[0;34m\u001b[0m\u001b[0;34m\u001b[0m\u001b[0m\n\u001b[0m\u001b[1;32m    479\u001b[0m   \u001b[0;32mreturn\u001b[0m \u001b[0mf\u001b[0m\u001b[0;34m(\u001b[0m\u001b[0;34m*\u001b[0m\u001b[0margs\u001b[0m\u001b[0;34m)\u001b[0m\u001b[0;34m\u001b[0m\u001b[0;34m\u001b[0m\u001b[0m\n\u001b[1;32m    480\u001b[0m \u001b[0;34m\u001b[0m\u001b[0m\n",
      "\u001b[0;32m~/dev/tools/anaconda3/envs/od/lib/python3.8/site-packages/tensorflow_probability/python/layers/dense_variational_v2.py\u001b[0m in \u001b[0;36mcall\u001b[0;34m(self, inputs)\u001b[0m\n\u001b[1;32m    121\u001b[0m     \u001b[0mq\u001b[0m \u001b[0;34m=\u001b[0m \u001b[0mself\u001b[0m\u001b[0;34m.\u001b[0m\u001b[0m_posterior\u001b[0m\u001b[0;34m(\u001b[0m\u001b[0minputs\u001b[0m\u001b[0;34m)\u001b[0m\u001b[0;34m\u001b[0m\u001b[0;34m\u001b[0m\u001b[0m\n\u001b[1;32m    122\u001b[0m     \u001b[0mr\u001b[0m \u001b[0;34m=\u001b[0m \u001b[0mself\u001b[0m\u001b[0;34m.\u001b[0m\u001b[0m_prior\u001b[0m\u001b[0;34m(\u001b[0m\u001b[0minputs\u001b[0m\u001b[0;34m)\u001b[0m\u001b[0;34m\u001b[0m\u001b[0;34m\u001b[0m\u001b[0m\n\u001b[0;32m--> 123\u001b[0;31m     \u001b[0mself\u001b[0m\u001b[0;34m.\u001b[0m\u001b[0madd_loss\u001b[0m\u001b[0;34m(\u001b[0m\u001b[0mself\u001b[0m\u001b[0;34m.\u001b[0m\u001b[0m_kl_divergence_fn\u001b[0m\u001b[0;34m(\u001b[0m\u001b[0mq\u001b[0m\u001b[0;34m,\u001b[0m \u001b[0mr\u001b[0m\u001b[0;34m)\u001b[0m\u001b[0;34m)\u001b[0m\u001b[0;34m\u001b[0m\u001b[0;34m\u001b[0m\u001b[0m\n\u001b[0m\u001b[1;32m    124\u001b[0m \u001b[0;34m\u001b[0m\u001b[0m\n\u001b[1;32m    125\u001b[0m     \u001b[0mw\u001b[0m \u001b[0;34m=\u001b[0m \u001b[0mtf\u001b[0m\u001b[0;34m.\u001b[0m\u001b[0mconvert_to_tensor\u001b[0m\u001b[0;34m(\u001b[0m\u001b[0mvalue\u001b[0m\u001b[0;34m=\u001b[0m\u001b[0mq\u001b[0m\u001b[0;34m)\u001b[0m\u001b[0;34m\u001b[0m\u001b[0;34m\u001b[0m\u001b[0m\n",
      "\u001b[0;32m~/dev/tools/anaconda3/envs/od/lib/python3.8/site-packages/tensorflow_probability/python/layers/dense_variational_v2.py\u001b[0m in \u001b[0;36m_fn\u001b[0;34m(distribution_a, distribution_b)\u001b[0m\n\u001b[1;32m    166\u001b[0m     \u001b[0;34m\"\"\"Closure that computes KLDiv as a function of `a` as in `KL[a, b]`.\"\"\"\u001b[0m\u001b[0;34m\u001b[0m\u001b[0;34m\u001b[0m\u001b[0m\n\u001b[1;32m    167\u001b[0m     \u001b[0;32mwith\u001b[0m \u001b[0mtf\u001b[0m\u001b[0;34m.\u001b[0m\u001b[0mname_scope\u001b[0m\u001b[0;34m(\u001b[0m\u001b[0;34m'kldivergence_loss'\u001b[0m\u001b[0;34m)\u001b[0m\u001b[0;34m:\u001b[0m\u001b[0;34m\u001b[0m\u001b[0;34m\u001b[0m\u001b[0m\n\u001b[0;32m--> 168\u001b[0;31m       \u001b[0mkl\u001b[0m \u001b[0;34m=\u001b[0m \u001b[0mkl_divergence_fn\u001b[0m\u001b[0;34m(\u001b[0m\u001b[0mdistribution_a\u001b[0m\u001b[0;34m,\u001b[0m \u001b[0mdistribution_b\u001b[0m\u001b[0;34m)\u001b[0m\u001b[0;34m\u001b[0m\u001b[0;34m\u001b[0m\u001b[0m\n\u001b[0m\u001b[1;32m    169\u001b[0m       \u001b[0;32mif\u001b[0m \u001b[0mweight\u001b[0m \u001b[0;32mis\u001b[0m \u001b[0;32mnot\u001b[0m \u001b[0;32mNone\u001b[0m\u001b[0;34m:\u001b[0m\u001b[0;34m\u001b[0m\u001b[0;34m\u001b[0m\u001b[0m\n\u001b[1;32m    170\u001b[0m         \u001b[0mkl\u001b[0m \u001b[0;34m=\u001b[0m \u001b[0mtf\u001b[0m\u001b[0;34m.\u001b[0m\u001b[0mcast\u001b[0m\u001b[0;34m(\u001b[0m\u001b[0mweight\u001b[0m\u001b[0;34m,\u001b[0m \u001b[0mdtype\u001b[0m\u001b[0;34m=\u001b[0m\u001b[0mkl\u001b[0m\u001b[0;34m.\u001b[0m\u001b[0mdtype\u001b[0m\u001b[0;34m)\u001b[0m \u001b[0;34m*\u001b[0m \u001b[0mkl\u001b[0m\u001b[0;34m\u001b[0m\u001b[0;34m\u001b[0m\u001b[0m\n",
      "\u001b[0;32m~/dev/tools/anaconda3/envs/od/lib/python3.8/site-packages/tensorflow_probability/python/distributions/kullback_leibler.py\u001b[0m in \u001b[0;36mkl_divergence\u001b[0;34m(distribution_a, distribution_b, allow_nan_stats, name)\u001b[0m\n\u001b[1;32m     89\u001b[0m   \u001b[0mkl_fn\u001b[0m \u001b[0;34m=\u001b[0m \u001b[0m_registered_kl\u001b[0m\u001b[0;34m(\u001b[0m\u001b[0mtype\u001b[0m\u001b[0;34m(\u001b[0m\u001b[0mdistribution_a\u001b[0m\u001b[0;34m)\u001b[0m\u001b[0;34m,\u001b[0m \u001b[0mtype\u001b[0m\u001b[0;34m(\u001b[0m\u001b[0mdistribution_b\u001b[0m\u001b[0;34m)\u001b[0m\u001b[0;34m)\u001b[0m\u001b[0;34m\u001b[0m\u001b[0;34m\u001b[0m\u001b[0m\n\u001b[1;32m     90\u001b[0m   \u001b[0;32mif\u001b[0m \u001b[0mkl_fn\u001b[0m \u001b[0;32mis\u001b[0m \u001b[0;32mNone\u001b[0m\u001b[0;34m:\u001b[0m\u001b[0;34m\u001b[0m\u001b[0;34m\u001b[0m\u001b[0m\n\u001b[0;32m---> 91\u001b[0;31m     raise NotImplementedError(\n\u001b[0m\u001b[1;32m     92\u001b[0m         \u001b[0;34m\"No KL(distribution_a || distribution_b) registered for distribution_a \"\u001b[0m\u001b[0;34m\u001b[0m\u001b[0;34m\u001b[0m\u001b[0m\n\u001b[1;32m     93\u001b[0m         \"type {} and distribution_b type {}\".format(\n",
      "\u001b[0;31mNotImplementedError\u001b[0m: No KL(distribution_a || distribution_b) registered for distribution_a type Independent and distribution_b type Normal"
     ]
    }
   ],
   "source": [
    "# Build and compile the Bayesian CNN model\n",
    "\n",
    "bayesian_model = Sequential([\n",
    "    convolutional_reparameterization_layer,\n",
    "    MaxPooling2D(pool_size=(6, 6)),\n",
    "    Flatten(),\n",
    "    dense_variational_layer,\n",
    "    tfpl.OneHotCategorical(10, convert_to_tensor_fn=tfd.Distribution.mode)\n",
    "])\n",
    "bayesian_model.compile(loss=nll,\n",
    "              optimizer=RMSprop(),\n",
    "              metrics=['accuracy'],\n",
    "              experimental_run_tf_function=False)"
   ]
  },
  {
   "cell_type": "code",
   "execution_count": 130,
   "metadata": {
    "execution": {
     "iopub.execute_input": "2021-03-24T14:24:32.781651Z",
     "iopub.status.busy": "2021-03-24T14:24:32.781406Z",
     "iopub.status.idle": "2021-03-24T14:24:32.799281Z",
     "shell.execute_reply": "2021-03-24T14:24:32.798065Z",
     "shell.execute_reply.started": "2021-03-24T14:24:32.781625Z"
    },
    "id": "VqH-uyc4oFXN"
   },
   "outputs": [
    {
     "ename": "NameError",
     "evalue": "name 'bayesian_model' is not defined",
     "output_type": "error",
     "traceback": [
      "\u001b[0;31m---------------------------------------------------------------------------\u001b[0m",
      "\u001b[0;31mNameError\u001b[0m                                 Traceback (most recent call last)",
      "\u001b[0;32m<ipython-input-130-2bcf83c210d5>\u001b[0m in \u001b[0;36m<module>\u001b[0;34m\u001b[0m\n\u001b[1;32m      1\u001b[0m \u001b[0;31m# Print the model summary\u001b[0m\u001b[0;34m\u001b[0m\u001b[0;34m\u001b[0m\u001b[0;34m\u001b[0m\u001b[0m\n\u001b[1;32m      2\u001b[0m \u001b[0;34m\u001b[0m\u001b[0m\n\u001b[0;32m----> 3\u001b[0;31m \u001b[0mbayesian_model\u001b[0m\u001b[0;34m.\u001b[0m\u001b[0msummary\u001b[0m\u001b[0;34m(\u001b[0m\u001b[0;34m)\u001b[0m\u001b[0;34m\u001b[0m\u001b[0;34m\u001b[0m\u001b[0m\n\u001b[0m",
      "\u001b[0;31mNameError\u001b[0m: name 'bayesian_model' is not defined"
     ]
    }
   ],
   "source": [
    "# Print the model summary\n",
    "\n",
    "bayesian_model.summary()"
   ]
  },
  {
   "cell_type": "code",
   "execution_count": null,
   "metadata": {
    "execution": {
     "iopub.status.busy": "2021-03-24T13:28:40.936238Z",
     "iopub.status.idle": "2021-03-24T13:28:40.936668Z"
    },
    "id": "U_Xy3mCsoFXP"
   },
   "outputs": [],
   "source": [
    "# Train the model\n",
    "\n",
    "bayesian_model.fit(x=x_train, y=y_train_oh, epochs=10, verbose=True)"
   ]
  },
  {
   "cell_type": "code",
   "execution_count": null,
   "metadata": {
    "execution": {
     "iopub.status.busy": "2021-03-24T13:28:40.937983Z",
     "iopub.status.idle": "2021-03-24T13:28:40.938436Z"
    },
    "id": "cy6zxkbBoFXR"
   },
   "outputs": [],
   "source": [
    "# Evaluate the model\n",
    "\n",
    "print('Accuracy on MNIST test set: ',\n",
    "      str(bayesian_model.evaluate(x_test, y_test_oh, verbose=False)[1]))\n",
    "print('Accuracy on corrupted MNIST test set: ',\n",
    "      str(bayesian_model.evaluate(x_c_test, y_c_test_oh, verbose=False)[1]))"
   ]
  },
  {
   "cell_type": "markdown",
   "metadata": {
    "id": "e1DORpGooFXT"
   },
   "source": [
    "#### Analyse the model predictions\n",
    "\n",
    "Now that the model has trained, run the code below to create the same plots as before, starting with an analysis of the predicted probabilities for the same images. \n",
    "\n",
    "This model now has weight uncertainty, so running the forward pass multiple times will not generate the same estimated probabilities. For this reason, the estimated probabilities do not have single values. The plots are adjusted to show a 95% prediction interval for the model's estimated probabilities."
   ]
  },
  {
   "cell_type": "code",
   "execution_count": null,
   "metadata": {
    "execution": {
     "iopub.status.busy": "2021-03-24T13:28:40.940426Z",
     "iopub.status.idle": "2021-03-24T13:28:40.940988Z"
    },
    "id": "qtBvyfPMoFXU",
    "scrolled": true
   },
   "outputs": [],
   "source": [
    "# Prediction examples on MNIST\n",
    "\n",
    "for i in [0, 1577]:\n",
    "    analyse_model_prediction(x_test, y_test, bayesian_model, i, run_ensemble=True)"
   ]
  },
  {
   "cell_type": "markdown",
   "metadata": {
    "id": "FflDcYZgoFXW"
   },
   "source": [
    "For the first image, the model assigns a probability of almost one for the 6 label. Furthermore, it is confident in this probability: this probability remains close to one for every sample from the posterior weight distribution (as seen by the horizontal green line having very small height, indicating a narrow prediction interval). This means that the epistemic uncertainty on this probability is very low. \n",
    "\n",
    "For the second image, the epistemic uncertainty on the probabilities is much larger, which indicates that the estimated probabilities may be unreliable. In this way, the model indicates whether estimates may be inaccurate."
   ]
  },
  {
   "cell_type": "code",
   "execution_count": null,
   "metadata": {
    "execution": {
     "iopub.status.busy": "2021-03-24T13:28:40.942349Z",
     "iopub.status.idle": "2021-03-24T13:28:40.942916Z"
    },
    "id": "_rApHmbNoFXW"
   },
   "outputs": [],
   "source": [
    "# Prediction examples on MNIST-C\n",
    "\n",
    "for i in [0, 3710]:\n",
    "    analyse_model_prediction(x_c_test, y_c_test, bayesian_model, i, run_ensemble=True)"
   ]
  },
  {
   "cell_type": "markdown",
   "metadata": {
    "id": "K0G-_2tyoFXZ"
   },
   "source": [
    "Even with the spatters, the Bayesian model is confident in predicting the correct label for the first image above. The model struggles with the second image, which is reflected in the range of probabilities output by the network."
   ]
  },
  {
   "cell_type": "code",
   "execution_count": null,
   "metadata": {
    "execution": {
     "iopub.status.busy": "2021-03-24T13:28:40.944364Z",
     "iopub.status.idle": "2021-03-24T13:28:40.944688Z"
    },
    "id": "RjQcz_lroFXa"
   },
   "outputs": [],
   "source": [
    "# Prediction examples from both datasets\n",
    "\n",
    "for i in [9241]:\n",
    "    analyse_model_prediction(x_test, y_test, bayesian_model, i, run_ensemble=True)\n",
    "    analyse_model_prediction(x_c_test, y_c_test, bayesian_model, i, run_ensemble=True)"
   ]
  },
  {
   "cell_type": "markdown",
   "metadata": {
    "id": "tLp9mTcpoFXc"
   },
   "source": [
    "Similar to before, the model struggles with the second number, as it is mostly covered up by the spatters. However, this time is clear to see the epistemic uncertainty in the model."
   ]
  },
  {
   "cell_type": "markdown",
   "metadata": {
    "id": "mH6wmfNAoFXc"
   },
   "source": [
    "#### Uncertainty quantification using entropy\n",
    "\n",
    "We also again plot the distribution of distribution entropy across the different test sets below. In these plots, no consideration has been made for the epistemic uncertainty, and the conclusions are broadly similar to those for the previous model."
   ]
  },
  {
   "cell_type": "code",
   "execution_count": null,
   "metadata": {
    "execution": {
     "iopub.status.busy": "2021-03-24T13:28:40.946272Z",
     "iopub.status.idle": "2021-03-24T13:28:40.946854Z"
    },
    "id": "jbz3LvrhoFXc"
   },
   "outputs": [],
   "source": [
    "# Entropy plots for the MNIST dataset\n",
    "\n",
    "print('MNIST test set:')\n",
    "plot_entropy_distribution(bayesian_model, x_test, y_test)"
   ]
  },
  {
   "cell_type": "code",
   "execution_count": null,
   "metadata": {
    "execution": {
     "iopub.status.busy": "2021-03-24T13:28:40.948042Z",
     "iopub.status.idle": "2021-03-24T13:28:40.948351Z"
    },
    "id": "AhswTB_boFXf"
   },
   "outputs": [],
   "source": [
    "# Entropy plots for the MNIST-C dataset\n",
    "\n",
    "print('Corrupted MNIST test set:')\n",
    "plot_entropy_distribution(bayesian_model, x_c_test, y_c_test)"
   ]
  },
  {
   "cell_type": "markdown",
   "metadata": {
    "id": "9jIdp-sKoFXh"
   },
   "source": [
    "Congratulations on completing this programming assignment! In the next week of the course we will look at the bijectors module and normalising flows."
   ]
  }
 ],
 "metadata": {
  "colab": {
   "collapsed_sections": [
    "QlTlUeeroFWo",
    "zKPz3vv-oFWy",
    "fNVmkwyToFW8",
    "e1DORpGooFXT",
    "mH6wmfNAoFXc"
   ],
   "name": "Week 2 Programming Assignment.ipynb",
   "provenance": []
  },
  "kernelspec": {
   "display_name": "Python 3",
   "language": "python",
   "name": "python3"
  },
  "language_info": {
   "codemirror_mode": {
    "name": "ipython",
    "version": 3
   },
   "file_extension": ".py",
   "mimetype": "text/x-python",
   "name": "python",
   "nbconvert_exporter": "python",
   "pygments_lexer": "ipython3",
   "version": "3.8.3"
  }
 },
 "nbformat": 4,
 "nbformat_minor": 4
}
