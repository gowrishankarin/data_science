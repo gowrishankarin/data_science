{
 "cells": [
  {
   "cell_type": "code",
   "execution_count": 1,
   "metadata": {},
   "outputs": [],
   "source": [
    "import numpy as np"
   ]
  },
  {
   "cell_type": "code",
   "execution_count": 2,
   "metadata": {},
   "outputs": [],
   "source": [
    "def is_singular(A):\n",
    "    B = np.array(A, dtype=np.float_)\n",
    "    try:\n",
    "        fixRowZero(B)\n",
    "        fixRowOne(B)\n",
    "        fixRowTwo(B)\n",
    "        fixRowThree(B)\n",
    "    except MatrixIsSingular:\n",
    "        return True\n",
    "    return False\n",
    "\n",
    "class MatrixIsSingular(Exception): pass"
   ]
  },
  {
   "cell_type": "code",
   "execution_count": 3,
   "metadata": {},
   "outputs": [],
   "source": [
    "def fixRowZero(A):\n",
    "    if(A[0, 0] == 0):\n",
    "        A[0] = A[0] + A[1]\n",
    "    if(A[0, 0] == 0):\n",
    "        A[0] = A[0] + A[2]\n",
    "    if(A[0, 0] == 0):\n",
    "        A[0] = A[0] + A[3]\n",
    "    if(A[0, 0] == 0):\n",
    "        raise MatrixIsSingular()\n",
    "    A[0] = A[0] / A[0, 0]\n",
    "    print(A)\n",
    "    return A"
   ]
  },
  {
   "cell_type": "code",
   "execution_count": 4,
   "metadata": {},
   "outputs": [],
   "source": [
    "def fixRowOne(A):\n",
    "    A[1] = A[1] - A[1, 0] * A[0]\n",
    "    if(A[1, 1] == 0):\n",
    "        A[1] = A[1] + A[0]\n",
    "        A[1] = A[1] - A[1, 0] * A[0]\n",
    "    if(A[1, 1] == 0):\n",
    "        A[1] = A[1] + A[2]\n",
    "        A[1] = A[1] - A[1, 0] * A[0]\n",
    "    if(A[1, 1] == 0):\n",
    "        A[1] = A[1] + A[3]\n",
    "        A[1] = A[1] - A[1, 0] * A[0]\n",
    "    if(A[1, 1] == 0):\n",
    "        raise MatrixIsSingular()\n",
    "    A[1] = A[1] / A[1, 1]\n",
    "    print(A)\n",
    "    return A"
   ]
  },
  {
   "cell_type": "code",
   "execution_count": 5,
   "metadata": {},
   "outputs": [],
   "source": [
    "def fixRowTwo(A):\n",
    "    A[2] = A[2] - A[2, 0] * A[0]\n",
    "    A[2] = A[2] - A[2, 1] * A[1]\n",
    "    if(A[2, 2] == 0):\n",
    "        A[2] = A[2] + A[3]\n",
    "        \n",
    "        A[2] = A[2] - A[2, 0] * A[0]\n",
    "        A[2] = A[2] - A[2, 1] * A[1]\n",
    "        \n",
    "    if(A[2, 2] == 0):\n",
    "        raise MatrixIsSingular()\n",
    "    A[2] = A[2] / A[2, 2]\n",
    "    print(A)\n",
    "    return A"
   ]
  },
  {
   "cell_type": "code",
   "execution_count": 6,
   "metadata": {},
   "outputs": [],
   "source": [
    "def fixRowThree(A):\n",
    "    A[3] = A[3] - A[3, 0] * A[0]\n",
    "    A[3] = A[3] - A[3, 1] * A[1]\n",
    "    A[3] = A[3] - A[3, 2] * A[2]\n",
    "    \n",
    "    if(A[3, 3] == 0):\n",
    "        raise MatrixIsSingular()\n",
    "        \n",
    "    A[3] = A[3] / A[3, 3]\n",
    "    print(A)\n",
    "    return A"
   ]
  },
  {
   "cell_type": "code",
   "execution_count": 7,
   "metadata": {},
   "outputs": [
    {
     "name": "stdout",
     "output_type": "stream",
     "text": [
      "[[1. 0. 0. 0.]\n",
      " [0. 3. 0. 0.]\n",
      " [0. 0. 4. 4.]\n",
      " [0. 0. 5. 5.]]\n",
      "[[1. 0. 0. 0.]\n",
      " [0. 1. 0. 0.]\n",
      " [0. 0. 4. 4.]\n",
      " [0. 0. 5. 5.]]\n",
      "[[1. 0. 0. 0.]\n",
      " [0. 1. 0. 0.]\n",
      " [0. 0. 1. 1.]\n",
      " [0. 0. 5. 5.]]\n"
     ]
    },
    {
     "data": {
      "text/plain": [
       "True"
      ]
     },
     "execution_count": 7,
     "metadata": {},
     "output_type": "execute_result"
    }
   ],
   "source": [
    "A = np.array([\n",
    "        [2, 0, 0, 0],\n",
    "        [0, 3, 0, 0],\n",
    "        [0, 0, 4, 4],\n",
    "        [0, 0, 5, 5]\n",
    "    ], dtype=np.float_)\n",
    "is_singular(A)"
   ]
  },
  {
   "cell_type": "code",
   "execution_count": null,
   "metadata": {},
   "outputs": [],
   "source": []
  }
 ],
 "metadata": {
  "kernelspec": {
   "display_name": "Python 3",
   "language": "python",
   "name": "python3"
  },
  "language_info": {
   "codemirror_mode": {
    "name": "ipython",
    "version": 3
   },
   "file_extension": ".py",
   "mimetype": "text/x-python",
   "name": "python",
   "nbconvert_exporter": "python",
   "pygments_lexer": "ipython3",
   "version": "3.8.3"
  }
 },
 "nbformat": 4,
 "nbformat_minor": 4
}
