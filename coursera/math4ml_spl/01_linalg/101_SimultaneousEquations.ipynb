{
 "cells": [
  {
   "cell_type": "markdown",
   "metadata": {},
   "source": [
    "### 1\n",
    "Solving simultaneous equations is the process of finding the values of the variables (here $x$ and $y$) that satisfy the system of equations. Let's start with the simplest type of simultaneous equation, where we already know all but one of the variables:\n",
    "\n",
    "$$3x−y=2$$\n",
    "\n",
    "$$x = 4$$\n",
    "\n",
    "Substitute the value of $x$ into the first equation to find $y$, then select the correct values of xx and yy below."
   ]
  },
  {
   "cell_type": "code",
   "execution_count": 5,
   "metadata": {},
   "outputs": [
    {
     "data": {
      "text/plain": [
       "10"
      ]
     },
     "execution_count": 5,
     "metadata": {},
     "output_type": "execute_result"
    }
   ],
   "source": [
    "x = 4\n",
    "y = -2 + 3 * x\n",
    "y"
   ]
  },
  {
   "cell_type": "markdown",
   "metadata": {},
   "source": [
    "### 2\n",
    "The first goal when solving simple simultaneous equations should be to isolate one of the variables. For example, try taking the second equation away from the first to solve the following pair of equations:\n",
    "\n",
    "$$3x - 2y = 7$$\n",
    "\n",
    "$$2x - 2y = 2$$\n",
    "\n",
    "What value did you find for xx? Now substitute xx into one of the equations to find yy, and select the correct pair below:"
   ]
  },
  {
   "cell_type": "code",
   "execution_count": 7,
   "metadata": {},
   "outputs": [
    {
     "data": {
      "text/plain": [
       "(5, 4.0)"
      ]
     },
     "execution_count": 7,
     "metadata": {},
     "output_type": "execute_result"
    }
   ],
   "source": [
    "x = 7 - 2\n",
    "y = (7 - 3 * x) / -2\n",
    "x, y"
   ]
  },
  {
   "cell_type": "markdown",
   "metadata": {},
   "source": [
    "### 3\n",
    "This method is called elimination, and you can use it even when the coefficients, the numbers in front of xx and yy, aren't the same.\n",
    "\n",
    "For example, to solve the following equations try multiplying both sides of the first equation by 22, then solve using the same method as the last question.\n",
    "\n",
    "$$3x - 2y = 4$$\n",
    "\n",
    "$$6x + 3y = 15$$\n",
    "\n",
    "Select the correct values of xx and yy below:"
   ]
  },
  {
   "cell_type": "code",
   "execution_count": 8,
   "metadata": {},
   "outputs": [
    {
     "data": {
      "text/plain": [
       "(2.0, 1.0)"
      ]
     },
     "execution_count": 8,
     "metadata": {},
     "output_type": "execute_result"
    }
   ],
   "source": [
    "# 2* (3𝑥−2𝑦=4) -  6𝑥+3𝑦=15\n",
    "# 0x -4y -3y = 8 - 15\n",
    "# -7y = -7\n",
    "y = 7/7\n",
    "x = (4 + 2 *y) / 3\n",
    "x, y"
   ]
  },
  {
   "cell_type": "markdown",
   "metadata": {},
   "source": [
    "### 4\n",
    "A very similar technique can be used to find the inverse of a matrix, which you will learn about in week three of this course.\n",
    "\n",
    "There is also the substitution method, where we rearrange one of the equations to the form x = ay+bx=ay+b or y = cx+dy=cx+d and then substitute xx or yy into the other equation. Use any method you'd like to solve the following simultaneous equations:\n",
    "\n",
    "$$-2x + 2y = 20$$\n",
    "\n",
    "$$5x + 3y = 6$$\n",
    "\n",
    "Select the correct values of xx and yy below:"
   ]
  },
  {
   "cell_type": "code",
   "execution_count": 9,
   "metadata": {},
   "outputs": [
    {
     "data": {
      "text/plain": [
       "(-3, 7)"
      ]
     },
     "execution_count": 9,
     "metadata": {},
     "output_type": "execute_result"
    }
   ],
   "source": [
    "# y = (20 + 2x) / 2 => y =  10 + x\n",
    "# 5 * x + 3 (10 + x) = 6\n",
    "# 5x + 30 + 3x = 6 => 8x = -24\n",
    "x = -3\n",
    "y = 10 + x\n",
    "x, y"
   ]
  },
  {
   "cell_type": "markdown",
   "metadata": {},
   "source": [
    "### 5\n",
    "Systems of simultaneous equations can have more than two unknown variables. Below there is a system with three; xx, yy and zz. First try to find one of the variables by elimination or substitution, which will lead to two equations and two unknown variables. Continue the process to find all of the variables.\n",
    "\n",
    "Which values of xx, yy and zz solve the following equations?\n",
    "\n",
    "3x - 2y + z = 7\n",
    "\n",
    "x + y + z = 2\n",
    "\n",
    "3x - 2y - z = 3\n",
    "\n",
    "Before you move on you might like to think about how many equations you would need to uniquely determine four, five, or more variables. Are there are any other rules for how the equations have to be related? In week two of this course you will learn about linear independence, which is very closely related to this."
   ]
  },
  {
   "cell_type": "code",
   "execution_count": 14,
   "metadata": {},
   "outputs": [],
   "source": [
    "import numpy as np\n",
    "A = np.array([[3, -2, 1], [1, 1, 1], [3, -2, -1]])\n",
    "a = np.array([7, 2, 3])\n",
    "\n",
    "[x, y, z] = a / A"
   ]
  },
  {
   "cell_type": "code",
   "execution_count": 15,
   "metadata": {},
   "outputs": [
    {
     "data": {
      "text/plain": [
       "(array([ 2.33333333, -1.        ,  3.        ]),\n",
       " array([7., 2., 3.]),\n",
       " array([ 2.33333333, -1.        , -3.        ]))"
      ]
     },
     "execution_count": 15,
     "metadata": {},
     "output_type": "execute_result"
    }
   ],
   "source": [
    "x, y, z"
   ]
  },
  {
   "cell_type": "code",
   "execution_count": 16,
   "metadata": {},
   "outputs": [
    {
     "data": {
      "text/plain": [
       "array([[7., 2., 3.],\n",
       "       [7., 2., 3.],\n",
       "       [7., 2., 3.]])"
      ]
     },
     "execution_count": 16,
     "metadata": {},
     "output_type": "execute_result"
    }
   ],
   "source": [
    "A * [x, y, z]"
   ]
  },
  {
   "cell_type": "code",
   "execution_count": 17,
   "metadata": {},
   "outputs": [
    {
     "data": {
      "text/plain": [
       "array([[-28,   2,  -6],\n",
       "       [-14,  -4,  -6],\n",
       "       [-28,   2,   0]])"
      ]
     },
     "execution_count": 17,
     "metadata": {},
     "output_type": "execute_result"
    }
   ],
   "source": [
    "np.invert(A) * a"
   ]
  },
  {
   "cell_type": "code",
   "execution_count": 20,
   "metadata": {},
   "outputs": [
    {
     "data": {
      "text/plain": [
       "array([-1, -1])"
      ]
     },
     "execution_count": 20,
     "metadata": {},
     "output_type": "execute_result"
    }
   ],
   "source": [
    "np.add([1, -2], [-2, 1])"
   ]
  },
  {
   "cell_type": "code",
   "execution_count": 21,
   "metadata": {},
   "outputs": [
    {
     "data": {
      "text/plain": [
       "array([-2,  4])"
      ]
     },
     "execution_count": 21,
     "metadata": {},
     "output_type": "execute_result"
    }
   ],
   "source": [
    "np.subtract([-1, 2], [1, -2])"
   ]
  },
  {
   "cell_type": "code",
   "execution_count": 24,
   "metadata": {},
   "outputs": [
    {
     "data": {
      "text/plain": [
       "array([ 1,  9, 16,  4])"
      ]
     },
     "execution_count": 24,
     "metadata": {},
     "output_type": "execute_result"
    }
   ],
   "source": [
    "np.square([1, 3, 4, 2])"
   ]
  },
  {
   "cell_type": "code",
   "execution_count": 25,
   "metadata": {},
   "outputs": [
    {
     "data": {
      "text/plain": [
       "30"
      ]
     },
     "execution_count": 25,
     "metadata": {},
     "output_type": "execute_result"
    }
   ],
   "source": [
    "np.sum(np.square([1, 3, 4, 2]))"
   ]
  },
  {
   "cell_type": "code",
   "execution_count": 27,
   "metadata": {},
   "outputs": [
    {
     "data": {
      "text/plain": [
       "-1"
      ]
     },
     "execution_count": 27,
     "metadata": {},
     "output_type": "execute_result"
    }
   ],
   "source": [
    "np.array([-5, 3, 2, 8]) @ np.array([1, 2, -1, 0])"
   ]
  },
  {
   "cell_type": "code",
   "execution_count": 36,
   "metadata": {},
   "outputs": [
    {
     "data": {
      "text/plain": [
       "10"
      ]
     },
     "execution_count": 36,
     "metadata": {},
     "output_type": "execute_result"
    }
   ],
   "source": [
    "r = np.array([3, -4, 0])\n",
    "s = np.array([10, 5, -6])\n",
    "\n",
    "r @ s "
   ]
  },
  {
   "cell_type": "code",
   "execution_count": 39,
   "metadata": {},
   "outputs": [
    {
     "data": {
      "text/plain": [
       "3"
      ]
     },
     "execution_count": 39,
     "metadata": {},
     "output_type": "execute_result"
    }
   ],
   "source": [
    "np.abs(3)"
   ]
  },
  {
   "cell_type": "code",
   "execution_count": null,
   "metadata": {},
   "outputs": [],
   "source": []
  }
 ],
 "metadata": {
  "kernelspec": {
   "display_name": "Python 3",
   "language": "python",
   "name": "python3"
  },
  "language_info": {
   "codemirror_mode": {
    "name": "ipython",
    "version": 3
   },
   "file_extension": ".py",
   "mimetype": "text/x-python",
   "name": "python",
   "nbconvert_exporter": "python",
   "pygments_lexer": "ipython3",
   "version": "3.8.3"
  }
 },
 "nbformat": 4,
 "nbformat_minor": 4
}
