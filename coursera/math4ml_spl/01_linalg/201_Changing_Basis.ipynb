{
 "cells": [
  {
   "cell_type": "markdown",
   "metadata": {},
   "source": [
    "## Changing Basis\n",
    "Changing from the standard basis to a basis consisting of orthogonal vectors.\n",
    "\n",
    "![Changing Basis](201_Changing_Basis.png)"
   ]
  },
  {
   "cell_type": "code",
   "execution_count": 1,
   "metadata": {},
   "outputs": [],
   "source": [
    "import numpy as np"
   ]
  },
  {
   "cell_type": "markdown",
   "metadata": {},
   "source": [
    "### 1\n",
    "Written in the standard basis, what is $\\mathbf{v}$ in the basis defined by $\\mathbf{b_1}$ and $\\mathbf{b_2}$\n",
    "You are given that $\\mathbf{b_1}$ and $\\mathbf{b_2}$ are orthogonal to each other."
   ]
  },
  {
   "cell_type": "code",
   "execution_count": 2,
   "metadata": {},
   "outputs": [],
   "source": [
    "v = np.array([10, -5])\n",
    "b_1 = np.array([3, 4])\n",
    "b_2 = np.array([4, -3])"
   ]
  },
  {
   "cell_type": "markdown",
   "metadata": {},
   "source": [
    "$ c_1(b_1) + c_2(b_2) = v $  \n",
    "$ c_1(3, 4) + c_2(4, -3) = (10, -5) $  \n",
    "$ 3c_1 + 4c_2 = 10 $  \n",
    "$ 4c_1 - 3c_2 = -5 $  \n",
    "\n",
    "$ 9c_1 + 16c_1 = 30 - 20 $  \n",
    "$ 25c_1 = 10 $  \n",
    "$ c_1= 2/5 $  \n",
    "\n",
    "$ 3(2/5) + 4c_2 = 10 $  \n",
    "$ 4c_2 = 10 - 6/5 $  \n",
    "$ c_2 = 11/5 $  \n",
    "\n",
    "Hence c is `[2/5, 11/5]`"
   ]
  },
  {
   "cell_type": "markdown",
   "metadata": {},
   "source": [
    "### 2"
   ]
  },
  {
   "cell_type": "code",
   "execution_count": 3,
   "metadata": {},
   "outputs": [],
   "source": [
    "v = np.array([5, -1])\n",
    "b_1 = np.array([1, 1])\n",
    "b_2 = np.array([1 -1])"
   ]
  },
  {
   "cell_type": "markdown",
   "metadata": {},
   "source": [
    "$ c_1(b_1) + c_2(b_2) = v $  \n",
    "$ c_1(1, 1) + c_2(1, -1) = (5, -1) $  \n",
    "$ c_1 + c_2 = 5 $  \n",
    "$ c_1 - c_2 = -1 $  \n",
    "\n",
    "$ 2c_1 = 5 - 1 $  \n",
    "$ c_1 = 2 $  \n",
    "\n",
    "$ 2 + c_2 = 5 $  \n",
    "$ c_2 = 3 $ \n",
    "\n",
    "Hence c is `[2, 3]`"
   ]
  },
  {
   "cell_type": "markdown",
   "metadata": {},
   "source": [
    "### 3"
   ]
  },
  {
   "cell_type": "code",
   "execution_count": 4,
   "metadata": {},
   "outputs": [],
   "source": [
    "v = np.array([2, 2])\n",
    "b_1 = np.array([-3, 1])\n",
    "b_2 = np.array([1, 3])"
   ]
  },
  {
   "cell_type": "markdown",
   "metadata": {},
   "source": [
    "$ c_1(b_1) + c_2(b_2) = v $  \n",
    "$ c_1(-3, 1) + c_2(1, 3) = (2, 2) $  \n",
    "$ -3c_1 + c_2 = 2 $  \n",
    "$ c_1 + 3c_2 = 2 $  \n",
    "\n",
    "$ c_2 + 9c_2 = 2 + 6 $  \n",
    "$ c_2 = 4/5 $   \n",
    "\n",
    "$ -3(c_1) + 4/5 = 2 $  \n",
    "$ -3c_1 = 2 - 4/5 $  \n",
    "$ c_2 = -2/5 $  \n",
    "\n",
    "Hence c is `[-2/5, 4/5]`"
   ]
  },
  {
   "cell_type": "markdown",
   "metadata": {},
   "source": [
    "### 4"
   ]
  },
  {
   "cell_type": "code",
   "execution_count": 5,
   "metadata": {},
   "outputs": [],
   "source": [
    "v = np.array([1, 1, 2, 3])\n",
    "b_1 = np.array([1, 0, 0, 0])\n",
    "b_2 = np.array([0, -2, -1, 0])\n",
    "b_3 = np.array([0, 1, 2, 0])\n",
    "b_4 = np.array([0, 0, 0, 3])\n",
    "\n",
    "b = np.array([b_1, b_2, b_3, b_4])"
   ]
  },
  {
   "cell_type": "code",
   "execution_count": 6,
   "metadata": {},
   "outputs": [
    {
     "data": {
      "text/plain": [
       "array([[ 1,  0,  0,  0],\n",
       "       [ 0, -2, -1,  0],\n",
       "       [ 0,  1,  2,  0],\n",
       "       [ 0,  0,  0,  3]])"
      ]
     },
     "execution_count": 6,
     "metadata": {},
     "output_type": "execute_result"
    }
   ],
   "source": [
    "b"
   ]
  },
  {
   "cell_type": "code",
   "execution_count": 7,
   "metadata": {},
   "outputs": [
    {
     "data": {
      "text/plain": [
       "array([1, 1, 2, 3])"
      ]
     },
     "execution_count": 7,
     "metadata": {},
     "output_type": "execute_result"
    }
   ],
   "source": [
    "v_v = [1, 0, 1, 1]\n",
    "\n",
    "b.T @ v_v"
   ]
  },
  {
   "cell_type": "markdown",
   "metadata": {},
   "source": [
    "### 5"
   ]
  },
  {
   "cell_type": "code",
   "execution_count": 8,
   "metadata": {},
   "outputs": [],
   "source": [
    "v = np.array([1, 1, 1])\n",
    "b_1 = np.array([2, 1, 0])\n",
    "b_2 = np.array([1, -2, -1])\n",
    "b_3 = np.array([-1, 2, -5])"
   ]
  },
  {
   "cell_type": "code",
   "execution_count": 9,
   "metadata": {},
   "outputs": [],
   "source": [
    "a_1 = np.array([3/5, -1/3, -2/15])\n",
    "a_2 = np.array([3, -1, -2])\n",
    "a_3 = np.array([-3/5, -1/3, 2/15])\n",
    "a_4 = np.array([-3/5, -1/3, -2/15])\n",
    "\n",
    "b = np.array([b_1, b_2, b_3])"
   ]
  },
  {
   "cell_type": "code",
   "execution_count": 10,
   "metadata": {},
   "outputs": [
    {
     "name": "stdout",
     "output_type": "stream",
     "text": [
      "[1. 1. 1.]\n",
      "[ 7  1 11]\n",
      "[-1.66666667  0.33333333 -0.33333333]\n",
      "[-1.4 -0.2  1. ]\n"
     ]
    }
   ],
   "source": [
    "print(b.T @ a_1)\n",
    "print(b.T @ a_2)\n",
    "print(b.T @ a_3)\n",
    "print(b.T @ a_4)"
   ]
  },
  {
   "cell_type": "markdown",
   "metadata": {},
   "source": [
    "### 6"
   ]
  },
  {
   "cell_type": "code",
   "execution_count": 11,
   "metadata": {},
   "outputs": [],
   "source": [
    "v = np.array([-4, -3, 8])\n",
    "b_1 = np.array([1, 2, 3])\n",
    "b_2 = np.array([-2, 1, 0])\n",
    "b_3 = np.array([-3, -6, 5])"
   ]
  },
  {
   "cell_type": "code",
   "execution_count": 12,
   "metadata": {},
   "outputs": [],
   "source": [
    "a_1 = np.array([1, 1, 1])\n",
    "a_2 = np.array([0, 1, 1])\n",
    "a_3 = np.array([1, 0, 1])\n",
    "a_4 = np.array([1, 1, 0])\n",
    "\n",
    "b = np.array([b_1, b_2, b_3])"
   ]
  },
  {
   "cell_type": "code",
   "execution_count": 13,
   "metadata": {},
   "outputs": [
    {
     "name": "stdout",
     "output_type": "stream",
     "text": [
      "[-4 -3  8]\n",
      "[-5 -5  5]\n",
      "[-2 -4  8]\n",
      "[-1  3  3]\n"
     ]
    }
   ],
   "source": [
    "print(b.T @ a_1)\n",
    "print(b.T @ a_2)\n",
    "print(b.T @ a_3)\n",
    "print(b.T @ a_4)"
   ]
  },
  {
   "cell_type": "code",
   "execution_count": null,
   "metadata": {},
   "outputs": [],
   "source": []
  }
 ],
 "metadata": {
  "kernelspec": {
   "display_name": "Python 3",
   "language": "python",
   "name": "python3"
  },
  "language_info": {
   "codemirror_mode": {
    "name": "ipython",
    "version": 3
   },
   "file_extension": ".py",
   "mimetype": "text/x-python",
   "name": "python",
   "nbconvert_exporter": "python",
   "pygments_lexer": "ipython3",
   "version": "3.8.3"
  }
 },
 "nbformat": 4,
 "nbformat_minor": 4
}
