{
 "cells": [
  {
   "cell_type": "markdown",
   "metadata": {},
   "source": [
    "# Stationarity and Non-Stationarity\n",
    "\n",
    "- $H_0$: Null Hypothesis assumes Non Stationarity. ie Autocorrelation coefficient is less than 1\n",
    "$$\\varphi < 1$$\n",
    "- $H_1$: Alternative Hypothesis assumes Stationarity. ie Autocorrelation coefficient is 1\n",
    "$$\\varphi = 1$$\n",
    "$$test\\_statistic < critical\\_value \\geq stationarity$$ "
   ]
  },
  {
   "cell_type": "code",
   "execution_count": 1,
   "metadata": {
    "execution": {
     "iopub.execute_input": "2020-12-15T14:35:27.707071Z",
     "iopub.status.busy": "2020-12-15T14:35:27.706819Z",
     "iopub.status.idle": "2020-12-15T14:35:28.699772Z",
     "shell.execute_reply": "2020-12-15T14:35:28.698758Z",
     "shell.execute_reply.started": "2020-12-15T14:35:27.707040Z"
    }
   },
   "outputs": [],
   "source": [
    "import os\n",
    "import pandas as pd\n",
    "import numpy as np\n",
    "import matplotlib.pyplot as plt\n",
    "import statsmodels.graphics.tsaplots as sgt\n",
    "import statsmodels.tsa.stattools as sts\n",
    "from statsmodels.tsa.seasonal import seasonal_decompose\n",
    "import seaborn as sns\n",
    "sns.set()\n",
    "DATA_DIR = '../data'"
   ]
  },
  {
   "cell_type": "code",
   "execution_count": 2,
   "metadata": {
    "execution": {
     "iopub.execute_input": "2020-12-15T14:35:28.701586Z",
     "iopub.status.busy": "2020-12-15T14:35:28.701331Z",
     "iopub.status.idle": "2020-12-15T14:35:28.707258Z",
     "shell.execute_reply": "2020-12-15T14:35:28.706550Z",
     "shell.execute_reply.started": "2020-12-15T14:35:28.701557Z"
    }
   },
   "outputs": [],
   "source": [
    "import utils"
   ]
  },
  {
   "cell_type": "code",
   "execution_count": 3,
   "metadata": {
    "execution": {
     "iopub.execute_input": "2020-12-15T14:35:28.710862Z",
     "iopub.status.busy": "2020-12-15T14:35:28.710567Z",
     "iopub.status.idle": "2020-12-15T14:35:28.848392Z",
     "shell.execute_reply": "2020-12-15T14:35:28.847729Z",
     "shell.execute_reply.started": "2020-12-15T14:35:28.710819Z"
    }
   },
   "outputs": [
    {
     "name": "stderr",
     "output_type": "stream",
     "text": [
      "/Users/shankar/dev/code/ds/main/data_science/coursera/u-time_series_analysis/s05_working_with_ts/utils.py:32: SettingWithCopyWarning: \n",
      "A value is trying to be set on a copy of a slice from a DataFrame.\n",
      "Try using .loc[row_indexer,col_indexer] = value instead\n",
      "\n",
      "See the caveats in the documentation: https://pandas.pydata.org/pandas-docs/stable/user_guide/indexing.html#returning-a-view-versus-a-copy\n",
      "  df['wn'] = wn\n"
     ]
    }
   ],
   "source": [
    "df, df_test = utils.get_index_2018_market_value_splits()"
   ]
  },
  {
   "cell_type": "markdown",
   "metadata": {},
   "source": [
    "## Dickey Fuller Test"
   ]
  },
  {
   "cell_type": "code",
   "execution_count": 4,
   "metadata": {
    "execution": {
     "iopub.execute_input": "2020-12-15T14:35:28.850025Z",
     "iopub.status.busy": "2020-12-15T14:35:28.849834Z",
     "iopub.status.idle": "2020-12-15T14:35:29.020308Z",
     "shell.execute_reply": "2020-12-15T14:35:29.019481Z",
     "shell.execute_reply.started": "2020-12-15T14:35:28.850004Z"
    }
   },
   "outputs": [
    {
     "data": {
      "text/plain": [
       "(-1.7369847452352425,\n",
       " 0.4121645696770626,\n",
       " 18,\n",
       " 5002,\n",
       " {'1%': -3.431658008603046,\n",
       "  '5%': -2.862117998412982,\n",
       "  '10%': -2.567077669247375},\n",
       " 39904.880607487445)"
      ]
     },
     "execution_count": 4,
     "metadata": {},
     "output_type": "execute_result"
    }
   ],
   "source": [
    "sts.adfuller(df.market_value)"
   ]
  },
  {
   "cell_type": "markdown",
   "metadata": {},
   "source": [
    "- -1.7369847452352425, - `Test(t) Statistic`\n",
    "- 0.4121645696770626, - `p-Value`, 40% chance that not rejecting the null\n",
    "- 18, - `No of lags` used in regression while determining the statistics\n",
    "- 5002, - `No of observations`\n",
    "- {'1%': -3.431658008603046,\n",
    "  '5%': -2.862117998412982,\n",
    "  '10%': -2.567077669247375}, - `Critical Value`\n",
    "- 39904.880607487445 - `auto correlation`"
   ]
  },
  {
   "cell_type": "markdown",
   "metadata": {},
   "source": [
    "### Observations\n",
    "- t-Statistics is greater than any of the critical values\n",
    "\n",
    "## On White Noise"
   ]
  },
  {
   "cell_type": "code",
   "execution_count": 5,
   "metadata": {
    "execution": {
     "iopub.execute_input": "2020-12-15T14:35:29.021650Z",
     "iopub.status.busy": "2020-12-15T14:35:29.021399Z",
     "iopub.status.idle": "2020-12-15T14:35:29.194615Z",
     "shell.execute_reply": "2020-12-15T14:35:29.193863Z",
     "shell.execute_reply.started": "2020-12-15T14:35:29.021618Z"
    }
   },
   "outputs": [
    {
     "data": {
      "text/plain": [
       "(-51.642990990789684,\n",
       " 0.0,\n",
       " 1,\n",
       " 5019,\n",
       " {'1%': -3.4316535759402753,\n",
       "  '5%': -2.8621160400844468,\n",
       "  '10%': -2.567076626752987},\n",
       " 70999.04550285518)"
      ]
     },
     "execution_count": 5,
     "metadata": {},
     "output_type": "execute_result"
    }
   ],
   "source": [
    "sts.adfuller(df.wn)"
   ]
  },
  {
   "cell_type": "code",
   "execution_count": 7,
   "metadata": {
    "execution": {
     "iopub.execute_input": "2020-12-15T14:35:48.962937Z",
     "iopub.status.busy": "2020-12-15T14:35:48.962683Z",
     "iopub.status.idle": "2020-12-15T14:35:49.113232Z",
     "shell.execute_reply": "2020-12-15T14:35:49.112399Z",
     "shell.execute_reply.started": "2020-12-15T14:35:48.962911Z"
    }
   },
   "outputs": [
    {
     "data": {
      "text/html": [
       "<div>\n",
       "<style scoped>\n",
       "    .dataframe tbody tr th:only-of-type {\n",
       "        vertical-align: middle;\n",
       "    }\n",
       "\n",
       "    .dataframe tbody tr th {\n",
       "        vertical-align: top;\n",
       "    }\n",
       "\n",
       "    .dataframe thead th {\n",
       "        text-align: right;\n",
       "    }\n",
       "</style>\n",
       "<table border=\"1\" class=\"dataframe\">\n",
       "  <thead>\n",
       "    <tr style=\"text-align: right;\">\n",
       "      <th></th>\n",
       "      <th>market_value</th>\n",
       "      <th>wn</th>\n",
       "      <th>rw</th>\n",
       "    </tr>\n",
       "    <tr>\n",
       "      <th>date</th>\n",
       "      <th></th>\n",
       "      <th></th>\n",
       "      <th></th>\n",
       "    </tr>\n",
       "  </thead>\n",
       "  <tbody>\n",
       "    <tr>\n",
       "      <th>1994-01-07</th>\n",
       "      <td>469.90</td>\n",
       "      <td>1167.122767</td>\n",
       "      <td>1122.139662</td>\n",
       "    </tr>\n",
       "    <tr>\n",
       "      <th>1994-01-10</th>\n",
       "      <td>475.27</td>\n",
       "      <td>979.293474</td>\n",
       "      <td>1080.347860</td>\n",
       "    </tr>\n",
       "    <tr>\n",
       "      <th>1994-01-11</th>\n",
       "      <td>474.13</td>\n",
       "      <td>1210.826868</td>\n",
       "      <td>1082.095245</td>\n",
       "    </tr>\n",
       "    <tr>\n",
       "      <th>1994-01-12</th>\n",
       "      <td>474.17</td>\n",
       "      <td>1072.766098</td>\n",
       "      <td>1083.639265</td>\n",
       "    </tr>\n",
       "    <tr>\n",
       "      <th>1994-01-13</th>\n",
       "      <td>472.47</td>\n",
       "      <td>1479.942338</td>\n",
       "      <td>1067.146255</td>\n",
       "    </tr>\n",
       "  </tbody>\n",
       "</table>\n",
       "</div>"
      ],
      "text/plain": [
       "            market_value           wn           rw\n",
       "date                                              \n",
       "1994-01-07        469.90  1167.122767  1122.139662\n",
       "1994-01-10        475.27   979.293474  1080.347860\n",
       "1994-01-11        474.13  1210.826868  1082.095245\n",
       "1994-01-12        474.17  1072.766098  1083.639265\n",
       "1994-01-13        472.47  1479.942338  1067.146255"
      ]
     },
     "execution_count": 7,
     "metadata": {},
     "output_type": "execute_result"
    }
   ],
   "source": [
    "df['rw'] = utils.get_random_walk_data()\n",
    "df.head()"
   ]
  },
  {
   "cell_type": "markdown",
   "metadata": {},
   "source": [
    "## On Random Walk"
   ]
  },
  {
   "cell_type": "code",
   "execution_count": 9,
   "metadata": {
    "execution": {
     "iopub.execute_input": "2020-12-15T14:36:27.242385Z",
     "iopub.status.busy": "2020-12-15T14:36:27.242133Z",
     "iopub.status.idle": "2020-12-15T14:36:27.460975Z",
     "shell.execute_reply": "2020-12-15T14:36:27.460071Z",
     "shell.execute_reply.started": "2020-12-15T14:36:27.242359Z"
    }
   },
   "outputs": [
    {
     "data": {
      "text/plain": [
       "(-1.3286073927689726,\n",
       " 0.6159849181617382,\n",
       " 24,\n",
       " 4996,\n",
       " {'1%': -3.4316595802782865,\n",
       "  '5%': -2.8621186927706463,\n",
       "  '10%': -2.567078038881065},\n",
       " 46299.333497595144)"
      ]
     },
     "execution_count": 9,
     "metadata": {},
     "output_type": "execute_result"
    }
   ],
   "source": [
    "sts.adfuller(df.rw)"
   ]
  },
  {
   "cell_type": "markdown",
   "metadata": {},
   "source": [
    "- Covariances of two such intervals with identical size would very rarely be equal\n",
    "- We expect Random walks to be a non-stationary process"
   ]
  },
  {
   "cell_type": "code",
   "execution_count": null,
   "metadata": {},
   "outputs": [],
   "source": []
  }
 ],
 "metadata": {
  "kernelspec": {
   "display_name": "Python 3",
   "language": "python",
   "name": "python3"
  },
  "language_info": {
   "codemirror_mode": {
    "name": "ipython",
    "version": 3
   },
   "file_extension": ".py",
   "mimetype": "text/x-python",
   "name": "python",
   "nbconvert_exporter": "python",
   "pygments_lexer": "ipython3",
   "version": "3.8.3"
  }
 },
 "nbformat": 4,
 "nbformat_minor": 4
}
