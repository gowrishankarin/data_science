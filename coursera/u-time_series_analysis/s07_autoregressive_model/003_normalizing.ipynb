{
 "cells": [
  {
   "cell_type": "markdown",
   "metadata": {
    "execution": {
     "iopub.execute_input": "2020-12-16T15:46:55.355999Z",
     "iopub.status.busy": "2020-12-16T15:46:55.355406Z",
     "iopub.status.idle": "2020-12-16T15:46:55.359275Z",
     "shell.execute_reply": "2020-12-16T15:46:55.358540Z",
     "shell.execute_reply.started": "2020-12-16T15:46:55.355953Z"
    }
   },
   "source": [
    "# Normalizing"
   ]
  },
  {
   "cell_type": "code",
   "execution_count": 1,
   "metadata": {
    "execution": {
     "iopub.execute_input": "2020-12-17T09:28:22.689582Z",
     "iopub.status.busy": "2020-12-17T09:28:22.689331Z",
     "iopub.status.idle": "2020-12-17T09:28:23.389931Z",
     "shell.execute_reply": "2020-12-17T09:28:23.389018Z",
     "shell.execute_reply.started": "2020-12-17T09:28:22.689549Z"
    }
   },
   "outputs": [],
   "source": [
    "import sys\n",
    "sys.path.append('..')\n",
    "import utils"
   ]
  },
  {
   "cell_type": "code",
   "execution_count": 2,
   "metadata": {
    "execution": {
     "iopub.execute_input": "2020-12-17T09:28:23.391515Z",
     "iopub.status.busy": "2020-12-17T09:28:23.391308Z",
     "iopub.status.idle": "2020-12-17T09:28:23.625159Z",
     "shell.execute_reply": "2020-12-17T09:28:23.624437Z",
     "shell.execute_reply.started": "2020-12-17T09:28:23.391491Z"
    }
   },
   "outputs": [
    {
     "name": "stderr",
     "output_type": "stream",
     "text": [
      "../utils.py:32: SettingWithCopyWarning: \n",
      "A value is trying to be set on a copy of a slice from a DataFrame.\n",
      "Try using .loc[row_indexer,col_indexer] = value instead\n",
      "\n",
      "See the caveats in the documentation: https://pandas.pydata.org/pandas-docs/stable/user_guide/indexing.html#returning-a-view-versus-a-copy\n",
      "  df['wn'] = wn\n"
     ]
    },
    {
     "data": {
      "text/html": [
       "<div>\n",
       "<style scoped>\n",
       "    .dataframe tbody tr th:only-of-type {\n",
       "        vertical-align: middle;\n",
       "    }\n",
       "\n",
       "    .dataframe tbody tr th {\n",
       "        vertical-align: top;\n",
       "    }\n",
       "\n",
       "    .dataframe thead th {\n",
       "        text-align: right;\n",
       "    }\n",
       "</style>\n",
       "<table border=\"1\" class=\"dataframe\">\n",
       "  <thead>\n",
       "    <tr style=\"text-align: right;\">\n",
       "      <th></th>\n",
       "      <th>market_value</th>\n",
       "      <th>wn</th>\n",
       "      <th>rw</th>\n",
       "    </tr>\n",
       "    <tr>\n",
       "      <th>date</th>\n",
       "      <th></th>\n",
       "      <th></th>\n",
       "      <th></th>\n",
       "    </tr>\n",
       "  </thead>\n",
       "  <tbody>\n",
       "    <tr>\n",
       "      <th>1994-01-07</th>\n",
       "      <td>3445.98</td>\n",
       "      <td>4281.452265</td>\n",
       "      <td>1122.139662</td>\n",
       "    </tr>\n",
       "    <tr>\n",
       "      <th>1994-01-10</th>\n",
       "      <td>3440.58</td>\n",
       "      <td>6330.626269</td>\n",
       "      <td>1080.347860</td>\n",
       "    </tr>\n",
       "    <tr>\n",
       "      <th>1994-01-11</th>\n",
       "      <td>3413.77</td>\n",
       "      <td>3796.365352</td>\n",
       "      <td>1082.095245</td>\n",
       "    </tr>\n",
       "    <tr>\n",
       "      <th>1994-01-12</th>\n",
       "      <td>3372.02</td>\n",
       "      <td>6560.803610</td>\n",
       "      <td>1083.639265</td>\n",
       "    </tr>\n",
       "    <tr>\n",
       "      <th>1994-01-13</th>\n",
       "      <td>3360.01</td>\n",
       "      <td>5847.603454</td>\n",
       "      <td>1067.146255</td>\n",
       "    </tr>\n",
       "  </tbody>\n",
       "</table>\n",
       "</div>"
      ],
      "text/plain": [
       "            market_value           wn           rw\n",
       "date                                              \n",
       "1994-01-07       3445.98  4281.452265  1122.139662\n",
       "1994-01-10       3440.58  6330.626269  1080.347860\n",
       "1994-01-11       3413.77  3796.365352  1082.095245\n",
       "1994-01-12       3372.02  6560.803610  1083.639265\n",
       "1994-01-13       3360.01  5847.603454  1067.146255"
      ]
     },
     "execution_count": 2,
     "metadata": {},
     "output_type": "execute_result"
    }
   ],
   "source": [
    "df, df_test = utils.get_index_2018_market_value_splits(market_name='ftse')\n",
    "df['rw'] = utils.get_random_walk_data()\n",
    "df.head()"
   ]
  },
  {
   "cell_type": "code",
   "execution_count": 3,
   "metadata": {
    "execution": {
     "iopub.execute_input": "2020-12-17T09:28:23.627533Z",
     "iopub.status.busy": "2020-12-17T09:28:23.627315Z",
     "iopub.status.idle": "2020-12-17T09:28:23.635115Z",
     "shell.execute_reply": "2020-12-17T09:28:23.634254Z",
     "shell.execute_reply.started": "2020-12-17T09:28:23.627508Z"
    }
   },
   "outputs": [],
   "source": [
    "import statsmodels.tsa.stattools as sts"
   ]
  },
  {
   "cell_type": "code",
   "execution_count": 4,
   "metadata": {
    "execution": {
     "iopub.execute_input": "2020-12-17T09:28:23.637404Z",
     "iopub.status.busy": "2020-12-17T09:28:23.637161Z",
     "iopub.status.idle": "2020-12-17T09:28:23.812918Z",
     "shell.execute_reply": "2020-12-17T09:28:23.812302Z",
     "shell.execute_reply.started": "2020-12-17T09:28:23.637378Z"
    }
   },
   "outputs": [
    {
     "data": {
      "text/plain": [
       "(-1.9041551418836287,\n",
       " 0.3301089327703105,\n",
       " 6,\n",
       " 5014,\n",
       " {'1%': -3.4316548765428174,\n",
       "  '5%': -2.8621166146845334,\n",
       "  '10%': -2.5670769326348926},\n",
       " 19541.17381480549)"
      ]
     },
     "execution_count": 4,
     "metadata": {},
     "output_type": "execute_result"
    }
   ],
   "source": [
    "benchmark = df.market_value.iloc[0]\n",
    "df['norm'] = df.market_value.div(benchmark).mul(100)\n",
    "sts.adfuller(df.norm)"
   ]
  },
  {
   "cell_type": "markdown",
   "metadata": {},
   "source": [
    "## Normalizing Returns"
   ]
  },
  {
   "cell_type": "code",
   "execution_count": 5,
   "metadata": {
    "execution": {
     "iopub.execute_input": "2020-12-17T09:28:23.814467Z",
     "iopub.status.busy": "2020-12-17T09:28:23.814243Z",
     "iopub.status.idle": "2020-12-17T09:28:23.822161Z",
     "shell.execute_reply": "2020-12-17T09:28:23.821436Z",
     "shell.execute_reply.started": "2020-12-17T09:28:23.814433Z"
    }
   },
   "outputs": [],
   "source": [
    "df[\"returns\"] = df.market_value.pct_change(1).mul(100)\n",
    "df = df.iloc[1:]"
   ]
  },
  {
   "cell_type": "markdown",
   "metadata": {
    "execution": {
     "iopub.execute_input": "2020-12-16T16:08:39.650375Z",
     "iopub.status.busy": "2020-12-16T16:08:39.650140Z",
     "iopub.status.idle": "2020-12-16T16:08:39.655503Z",
     "shell.execute_reply": "2020-12-16T16:08:39.654283Z",
     "shell.execute_reply.started": "2020-12-16T16:08:39.650351Z"
    }
   },
   "source": [
    "- We often rely on normalized returns\n",
    "- They account for the absolute profitability of the investment in contrast to prices\n",
    "- They allow us to compare the relative profitability as opposed to non-normalized returns"
   ]
  },
  {
   "cell_type": "code",
   "execution_count": 6,
   "metadata": {
    "execution": {
     "iopub.execute_input": "2020-12-17T09:28:23.824038Z",
     "iopub.status.busy": "2020-12-17T09:28:23.823584Z",
     "iopub.status.idle": "2020-12-17T09:28:24.022847Z",
     "shell.execute_reply": "2020-12-17T09:28:24.022162Z",
     "shell.execute_reply.started": "2020-12-17T09:28:23.823999Z"
    }
   },
   "outputs": [
    {
     "data": {
      "text/plain": [
       "(-12.770265719497212,\n",
       " 7.798058336039225e-24,\n",
       " 32,\n",
       " 4987,\n",
       " {'1%': -3.431661944885779,\n",
       "  '5%': -2.8621197374408225,\n",
       "  '10%': -2.5670785949998973},\n",
       " 80114.49116124898)"
      ]
     },
     "execution_count": 6,
     "metadata": {},
     "output_type": "execute_result"
    }
   ],
   "source": [
    "benchmark_returns = df.returns.iloc[0]\n",
    "df['norm_returns'] = df.returns.div(benchmark_returns).mul(100)\n",
    "sts.adfuller(df.norm_returns)"
   ]
  },
  {
   "cell_type": "code",
   "execution_count": 7,
   "metadata": {
    "execution": {
     "iopub.execute_input": "2020-12-17T09:28:24.024383Z",
     "iopub.status.busy": "2020-12-17T09:28:24.024164Z",
     "iopub.status.idle": "2020-12-17T09:28:34.991589Z",
     "shell.execute_reply": "2020-12-17T09:28:34.990985Z",
     "shell.execute_reply.started": "2020-12-17T09:28:24.024357Z"
    }
   },
   "outputs": [
    {
     "name": "stderr",
     "output_type": "stream",
     "text": [
      "/Users/shankar/dev/tools/anaconda3/envs/time/lib/python3.8/site-packages/statsmodels/tsa/arima_model.py:472: FutureWarning: \n",
      "statsmodels.tsa.arima_model.ARMA and statsmodels.tsa.arima_model.ARIMA have\n",
      "been deprecated in favor of statsmodels.tsa.arima.model.ARIMA (note the .\n",
      "between arima and model) and\n",
      "statsmodels.tsa.SARIMAX. These will be removed after the 0.12 release.\n",
      "\n",
      "statsmodels.tsa.arima.model.ARIMA makes use of the statespace framework and\n",
      "is both well tested and maintained.\n",
      "\n",
      "To silence this warning and continue using ARMA and ARIMA until they are\n",
      "removed, use:\n",
      "\n",
      "import warnings\n",
      "warnings.filterwarnings('ignore', 'statsmodels.tsa.arima_model.ARMA',\n",
      "                        FutureWarning)\n",
      "warnings.filterwarnings('ignore', 'statsmodels.tsa.arima_model.ARIMA',\n",
      "                        FutureWarning)\n",
      "\n",
      "  warnings.warn(ARIMA_DEPRECATION_WARN, FutureWarning)\n"
     ]
    },
    {
     "name": "stdout",
     "output_type": "stream",
     "text": [
      "LLR test, Lags: 1, p-value: None\n",
      "LLR test, Lags: 2, p-value: 0.0\n",
      "LLR test, Lags: 3, p-value: 0.0\n",
      "LLR test, Lags: 4, p-value: 0.001\n",
      "LLR test, Lags: 5, p-value: 0.0\n",
      "LLR test, Lags: 6, p-value: 0.001\n",
      "LLR test, Lags: 7, p-value: 0.44\n",
      "LLR test, Lags: 8, p-value: 0.148\n",
      "LLR test, Lags: 9, p-value: 0.885\n"
     ]
    }
   ],
   "source": [
    "import numpy as np\n",
    "models = [None]\n",
    "llrs = []\n",
    "model_ar_x_1 = None\n",
    "for i in np.arange(1, 10):\n",
    "    (model_ar_x_1, llr_x) = utils.ARMA_LLR_test(df.norm_returns, model_ar_x_1, (i, 0))\n",
    "    models.append(model_ar_x_1)\n",
    "    llrs.append(llr_x)\n",
    "    print(f'LLR test, Lags: {i}, p-value: {llr_x}')"
   ]
  },
  {
   "cell_type": "code",
   "execution_count": 8,
   "metadata": {
    "execution": {
     "iopub.execute_input": "2020-12-17T09:28:34.994882Z",
     "iopub.status.busy": "2020-12-17T09:28:34.994650Z",
     "iopub.status.idle": "2020-12-17T09:28:35.052046Z",
     "shell.execute_reply": "2020-12-17T09:28:35.051276Z",
     "shell.execute_reply.started": "2020-12-17T09:28:34.994854Z"
    }
   },
   "outputs": [
    {
     "data": {
      "text/html": [
       "<table class=\"simpletable\">\n",
       "<caption>ARMA Model Results</caption>\n",
       "<tr>\n",
       "  <th>Dep. Variable:</th>   <td>norm_returns</td>   <th>  No. Observations:  </th>    <td>5020</td>   \n",
       "</tr>\n",
       "<tr>\n",
       "  <th>Model:</th>            <td>ARMA(1, 0)</td>    <th>  Log Likelihood     </th> <td>-40351.743</td>\n",
       "</tr>\n",
       "<tr>\n",
       "  <th>Method:</th>             <td>css-mle</td>     <th>  S.D. of innovations</th>   <td>749.388</td> \n",
       "</tr>\n",
       "<tr>\n",
       "  <th>Date:</th>          <td>Thu, 17 Dec 2020</td> <th>  AIC                </th>  <td>80709.487</td>\n",
       "</tr>\n",
       "<tr>\n",
       "  <th>Time:</th>              <td>14:58:35</td>     <th>  BIC                </th>  <td>80729.050</td>\n",
       "</tr>\n",
       "<tr>\n",
       "  <th>Sample:</th>           <td>01-10-1994</td>    <th>  HQIC               </th>  <td>80716.342</td>\n",
       "</tr>\n",
       "<tr>\n",
       "  <th></th>                 <td>- 04-05-2013</td>   <th>                     </th>      <td> </td>    \n",
       "</tr>\n",
       "</table>\n",
       "<table class=\"simpletable\">\n",
       "<tr>\n",
       "           <td></td>             <th>coef</th>     <th>std err</th>      <th>z</th>      <th>P>|z|</th>  <th>[0.025</th>    <th>0.975]</th>  \n",
       "</tr>\n",
       "<tr>\n",
       "  <th>const</th>              <td>  -11.9731</td> <td>   10.339</td> <td>   -1.158</td> <td> 0.247</td> <td>  -32.237</td> <td>    8.291</td>\n",
       "</tr>\n",
       "<tr>\n",
       "  <th>ar.L1.norm_returns</th> <td>   -0.0230</td> <td>    0.014</td> <td>   -1.631</td> <td> 0.103</td> <td>   -0.051</td> <td>    0.005</td>\n",
       "</tr>\n",
       "</table>\n",
       "<table class=\"simpletable\">\n",
       "<caption>Roots</caption>\n",
       "<tr>\n",
       "    <td></td>   <th>            Real</th>  <th>         Imaginary</th> <th>         Modulus</th>  <th>        Frequency</th>\n",
       "</tr>\n",
       "<tr>\n",
       "  <th>AR.1</th> <td>         -43.4387</td> <td>          +0.0000j</td> <td>          43.4387</td> <td>           0.5000</td>\n",
       "</tr>\n",
       "</table>"
      ],
      "text/plain": [
       "<class 'statsmodels.iolib.summary.Summary'>\n",
       "\"\"\"\n",
       "                              ARMA Model Results                              \n",
       "==============================================================================\n",
       "Dep. Variable:           norm_returns   No. Observations:                 5020\n",
       "Model:                     ARMA(1, 0)   Log Likelihood              -40351.743\n",
       "Method:                       css-mle   S.D. of innovations            749.388\n",
       "Date:                Thu, 17 Dec 2020   AIC                          80709.487\n",
       "Time:                        14:58:35   BIC                          80729.050\n",
       "Sample:                    01-10-1994   HQIC                         80716.342\n",
       "                         - 04-05-2013                                         \n",
       "======================================================================================\n",
       "                         coef    std err          z      P>|z|      [0.025      0.975]\n",
       "--------------------------------------------------------------------------------------\n",
       "const                -11.9731     10.339     -1.158      0.247     -32.237       8.291\n",
       "ar.L1.norm_returns    -0.0230      0.014     -1.631      0.103      -0.051       0.005\n",
       "                                    Roots                                    \n",
       "=============================================================================\n",
       "                  Real          Imaginary           Modulus         Frequency\n",
       "-----------------------------------------------------------------------------\n",
       "AR.1          -43.4387           +0.0000j           43.4387            0.5000\n",
       "-----------------------------------------------------------------------------\n",
       "\"\"\""
      ]
     },
     "execution_count": 8,
     "metadata": {},
     "output_type": "execute_result"
    }
   ],
   "source": [
    "model_ret_ar_1 = models[1].fit()\n",
    "model_ret_ar_1.summary()"
   ]
  },
  {
   "cell_type": "markdown",
   "metadata": {},
   "source": [
    "- Normalizing has no effect on model selection"
   ]
  },
  {
   "cell_type": "code",
   "execution_count": null,
   "metadata": {},
   "outputs": [],
   "source": []
  }
 ],
 "metadata": {
  "kernelspec": {
   "display_name": "Python 3",
   "language": "python",
   "name": "python3"
  },
  "language_info": {
   "codemirror_mode": {
    "name": "ipython",
    "version": 3
   },
   "file_extension": ".py",
   "mimetype": "text/x-python",
   "name": "python",
   "nbconvert_exporter": "python",
   "pygments_lexer": "ipython3",
   "version": "3.8.3"
  }
 },
 "nbformat": 4,
 "nbformat_minor": 4
}
