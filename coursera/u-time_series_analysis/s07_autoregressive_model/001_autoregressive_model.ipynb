{
 "cells": [
  {
   "cell_type": "markdown",
   "metadata": {},
   "source": [
    "# Autoregressive Model (AR)\n",
    "\n",
    "- A linear model, where current period values are a sum of past outcomes multiplied by a numeric factor\n",
    "$$x_t = C + \\varphi x_{t-1} + \\epsilon_t$$\n",
    "\n",
    "Where, \n",
    "- $x_{t-1}$: The values of X during the previous period\n",
    "- $\\varphi$: Any numeric constant by which we multiply the lagged variable. range $-1 < \\varphi < 1$\n",
    "- $\\epsilon_t$: Residual, The difference between our prediction for period $t$ and the correct value\n",
    "\n",
    "More lag values\n",
    "\n",
    "$$x_t = C + \\varphi_1 x_{t-1} + \\varphi_2 x_{t-2} + \\epsilon_t$$"
   ]
  },
  {
   "cell_type": "code",
   "execution_count": null,
   "metadata": {},
   "outputs": [],
   "source": [
    "import sys\n"
   ]
  },
  {
   "cell_type": "code",
   "execution_count": null,
   "metadata": {},
   "outputs": [],
   "source": [
    "sys.path.append('..')"
   ]
  },
  {
   "cell_type": "code",
   "execution_count": 3,
   "metadata": {
    "execution": {
     "iopub.status.idle": "2020-12-17T09:27:00.125523Z",
     "shell.execute_reply": "2020-12-17T09:27:00.124758Z",
     "shell.execute_reply.started": "2020-12-17T09:26:59.235268Z"
    }
   },
   "outputs": [],
   "source": [
    "import utils"
   ]
  },
  {
   "cell_type": "code",
   "execution_count": 4,
   "metadata": {
    "execution": {
     "iopub.execute_input": "2020-12-17T09:27:00.127212Z",
     "iopub.status.busy": "2020-12-17T09:27:00.126967Z",
     "iopub.status.idle": "2020-12-17T09:27:00.356862Z",
     "shell.execute_reply": "2020-12-17T09:27:00.356321Z",
     "shell.execute_reply.started": "2020-12-17T09:27:00.127188Z"
    }
   },
   "outputs": [
    {
     "name": "stderr",
     "output_type": "stream",
     "text": [
      "../utils.py:32: SettingWithCopyWarning: \n",
      "A value is trying to be set on a copy of a slice from a DataFrame.\n",
      "Try using .loc[row_indexer,col_indexer] = value instead\n",
      "\n",
      "See the caveats in the documentation: https://pandas.pydata.org/pandas-docs/stable/user_guide/indexing.html#returning-a-view-versus-a-copy\n",
      "  df['wn'] = wn\n"
     ]
    },
    {
     "data": {
      "text/html": [
       "<div>\n",
       "<style scoped>\n",
       "    .dataframe tbody tr th:only-of-type {\n",
       "        vertical-align: middle;\n",
       "    }\n",
       "\n",
       "    .dataframe tbody tr th {\n",
       "        vertical-align: top;\n",
       "    }\n",
       "\n",
       "    .dataframe thead th {\n",
       "        text-align: right;\n",
       "    }\n",
       "</style>\n",
       "<table border=\"1\" class=\"dataframe\">\n",
       "  <thead>\n",
       "    <tr style=\"text-align: right;\">\n",
       "      <th></th>\n",
       "      <th>market_value</th>\n",
       "      <th>wn</th>\n",
       "      <th>rw</th>\n",
       "    </tr>\n",
       "    <tr>\n",
       "      <th>date</th>\n",
       "      <th></th>\n",
       "      <th></th>\n",
       "      <th></th>\n",
       "    </tr>\n",
       "  </thead>\n",
       "  <tbody>\n",
       "    <tr>\n",
       "      <th>1994-01-07</th>\n",
       "      <td>3445.98</td>\n",
       "      <td>5656.111684</td>\n",
       "      <td>1122.139662</td>\n",
       "    </tr>\n",
       "    <tr>\n",
       "      <th>1994-01-10</th>\n",
       "      <td>3440.58</td>\n",
       "      <td>6651.600549</td>\n",
       "      <td>1080.347860</td>\n",
       "    </tr>\n",
       "    <tr>\n",
       "      <th>1994-01-11</th>\n",
       "      <td>3413.77</td>\n",
       "      <td>4621.706788</td>\n",
       "      <td>1082.095245</td>\n",
       "    </tr>\n",
       "    <tr>\n",
       "      <th>1994-01-12</th>\n",
       "      <td>3372.02</td>\n",
       "      <td>5349.725859</td>\n",
       "      <td>1083.639265</td>\n",
       "    </tr>\n",
       "    <tr>\n",
       "      <th>1994-01-13</th>\n",
       "      <td>3360.01</td>\n",
       "      <td>6251.862940</td>\n",
       "      <td>1067.146255</td>\n",
       "    </tr>\n",
       "  </tbody>\n",
       "</table>\n",
       "</div>"
      ],
      "text/plain": [
       "            market_value           wn           rw\n",
       "date                                              \n",
       "1994-01-07       3445.98  5656.111684  1122.139662\n",
       "1994-01-10       3440.58  6651.600549  1080.347860\n",
       "1994-01-11       3413.77  4621.706788  1082.095245\n",
       "1994-01-12       3372.02  5349.725859  1083.639265\n",
       "1994-01-13       3360.01  6251.862940  1067.146255"
      ]
     },
     "execution_count": 4,
     "metadata": {},
     "output_type": "execute_result"
    }
   ],
   "source": [
    "df, df_test = utils.get_index_2018_market_value_splits(market_name='ftse')\n",
    "df['rw'] = utils.get_random_walk_data()\n",
    "df.head()"
   ]
  },
  {
   "cell_type": "code",
   "execution_count": 5,
   "metadata": {
    "execution": {
     "iopub.execute_input": "2020-12-17T09:27:00.358237Z",
     "iopub.status.busy": "2020-12-17T09:27:00.357948Z",
     "iopub.status.idle": "2020-12-17T09:27:00.769543Z",
     "shell.execute_reply": "2020-12-17T09:27:00.768861Z",
     "shell.execute_reply.started": "2020-12-17T09:27:00.358207Z"
    }
   },
   "outputs": [],
   "source": [
    "import matplotlib.pyplot as plt\n",
    "import statsmodels.graphics.tsaplots as sgt\n",
    "import statsmodels.tsa.stattools as sts\n",
    "from statsmodels.tsa.seasonal import seasonal_decompose\n",
    "import seaborn as sns\n",
    "sns.set()\n",
    "DATA_DIR = '../data'"
   ]
  },
  {
   "cell_type": "code",
   "execution_count": 6,
   "metadata": {
    "execution": {
     "iopub.execute_input": "2020-12-17T09:27:00.770840Z",
     "iopub.status.busy": "2020-12-17T09:27:00.770594Z",
     "iopub.status.idle": "2020-12-17T09:27:00.774851Z",
     "shell.execute_reply": "2020-12-17T09:27:00.774107Z",
     "shell.execute_reply.started": "2020-12-17T09:27:00.770815Z"
    }
   },
   "outputs": [],
   "source": [
    "import warnings\n",
    "warnings.filterwarnings('ignore', 'statsmodels.tsa.arima_model.ARMA',\n",
    "                        FutureWarning)\n",
    "warnings.filterwarnings('ignore', 'statsmodels.tsa.arima_model.ARIMA',\n",
    "                        FutureWarning)\n",
    "# warnings.warn(ARIMA_DEPRECATION_WARN, FutureWarning)"
   ]
  },
  {
   "cell_type": "markdown",
   "metadata": {},
   "source": [
    "## ACF"
   ]
  },
  {
   "cell_type": "code",
   "execution_count": 7,
   "metadata": {
    "execution": {
     "iopub.execute_input": "2020-12-17T09:27:00.776096Z",
     "iopub.status.busy": "2020-12-17T09:27:00.775906Z",
     "iopub.status.idle": "2020-12-17T09:27:01.061905Z",
     "shell.execute_reply": "2020-12-17T09:27:01.061235Z",
     "shell.execute_reply.started": "2020-12-17T09:27:00.776075Z"
    }
   },
   "outputs": [
    {
     "data": {
      "image/png": "[encoded data removed]",
      "text/plain": [
       "<Figure size 432x288 with 1 Axes>"
      ]
     },
     "metadata": {},
     "output_type": "display_data"
    }
   ],
   "source": [
    "sgt.plot_acf(df.market_value, zero=False, lags=40)\n",
    "plt.title(\"ACF for FTSE\", size=20)\n",
    "plt.show()"
   ]
  },
  {
   "cell_type": "markdown",
   "metadata": {},
   "source": [
    "- Effects are barely deteriorating over time\n",
    "- The two time series ae similar in the way they behvae and the way past values affect preset ones\n",
    "- The more lags we include the beter our model will fit the data set we feed it\n",
    "- Coefficients might predict the data set `too` well"
   ]
  },
  {
   "cell_type": "markdown",
   "metadata": {},
   "source": [
    "## PACF"
   ]
  },
  {
   "cell_type": "code",
   "execution_count": 8,
   "metadata": {
    "execution": {
     "iopub.execute_input": "2020-12-17T09:27:01.064151Z",
     "iopub.status.busy": "2020-12-17T09:27:01.063778Z",
     "iopub.status.idle": "2020-12-17T09:27:01.466898Z",
     "shell.execute_reply": "2020-12-17T09:27:01.466235Z",
     "shell.execute_reply.started": "2020-12-17T09:27:01.064113Z"
    }
   },
   "outputs": [
    {
     "data": {
      "image/png": "[encoded data removed]",
      "text/plain": [
       "<Figure size 432x288 with 1 Axes>"
      ]
     },
     "metadata": {},
     "output_type": "display_data"
    }
   ],
   "source": [
    "sgt.plot_pacf(df.market_value, lags=40, alpha=0.05, zero=False, method=('ols'))\n",
    "plt.title(\"PACF for FTSE\")\n",
    "plt.show()"
   ]
  },
  {
   "cell_type": "markdown",
   "metadata": {},
   "source": [
    "- Coefficient values will be extremely close to 0\n",
    "- Their impact on the model is minimal, so they are not relevant to us\n",
    "\n",
    "## ARMA"
   ]
  },
  {
   "cell_type": "code",
   "execution_count": 9,
   "metadata": {
    "execution": {
     "iopub.execute_input": "2020-12-17T09:27:01.471268Z",
     "iopub.status.busy": "2020-12-17T09:27:01.471008Z",
     "iopub.status.idle": "2020-12-17T09:27:01.475194Z",
     "shell.execute_reply": "2020-12-17T09:27:01.474240Z",
     "shell.execute_reply.started": "2020-12-17T09:27:01.471240Z"
    }
   },
   "outputs": [],
   "source": [
    "from statsmodels.tsa.arima_model import ARMA"
   ]
  },
  {
   "cell_type": "code",
   "execution_count": 10,
   "metadata": {
    "execution": {
     "iopub.execute_input": "2020-12-17T09:27:01.479583Z",
     "iopub.status.busy": "2020-12-17T09:27:01.479214Z",
     "iopub.status.idle": "2020-12-17T09:27:01.486039Z",
     "shell.execute_reply": "2020-12-17T09:27:01.485343Z",
     "shell.execute_reply.started": "2020-12-17T09:27:01.479548Z"
    }
   },
   "outputs": [
    {
     "name": "stderr",
     "output_type": "stream",
     "text": [
      "/Users/shankar/dev/tools/anaconda3/envs/time/lib/python3.8/site-packages/statsmodels/tsa/arima_model.py:472: FutureWarning: \n",
      "statsmodels.tsa.arima_model.ARMA and statsmodels.tsa.arima_model.ARIMA have\n",
      "been deprecated in favor of statsmodels.tsa.arima.model.ARIMA (note the .\n",
      "between arima and model) and\n",
      "statsmodels.tsa.SARIMAX. These will be removed after the 0.12 release.\n",
      "\n",
      "statsmodels.tsa.arima.model.ARIMA makes use of the statespace framework and\n",
      "is both well tested and maintained.\n",
      "\n",
      "To silence this warning and continue using ARMA and ARIMA until they are\n",
      "removed, use:\n",
      "\n",
      "import warnings\n",
      "warnings.filterwarnings('ignore', 'statsmodels.tsa.arima_model.ARMA',\n",
      "                        FutureWarning)\n",
      "warnings.filterwarnings('ignore', 'statsmodels.tsa.arima_model.ARIMA',\n",
      "                        FutureWarning)\n",
      "\n",
      "  warnings.warn(ARIMA_DEPRECATION_WARN, FutureWarning)\n"
     ]
    }
   ],
   "source": [
    "# Order, (# of past values wish to incorporate into the model, Not taking any of the residual values into consideration)\n",
    "model_ar = ARMA(df.market_value, order=(1, 0))"
   ]
  },
  {
   "cell_type": "code",
   "execution_count": 11,
   "metadata": {
    "execution": {
     "iopub.execute_input": "2020-12-17T09:27:01.487445Z",
     "iopub.status.busy": "2020-12-17T09:27:01.487182Z",
     "iopub.status.idle": "2020-12-17T09:27:01.791275Z",
     "shell.execute_reply": "2020-12-17T09:27:01.790326Z",
     "shell.execute_reply.started": "2020-12-17T09:27:01.487420Z"
    }
   },
   "outputs": [],
   "source": [
    "results_ar = model_ar.fit()"
   ]
  },
  {
   "cell_type": "code",
   "execution_count": 12,
   "metadata": {
    "execution": {
     "iopub.execute_input": "2020-12-17T09:27:01.792811Z",
     "iopub.status.busy": "2020-12-17T09:27:01.792600Z",
     "iopub.status.idle": "2020-12-17T09:27:01.817107Z",
     "shell.execute_reply": "2020-12-17T09:27:01.816159Z",
     "shell.execute_reply.started": "2020-12-17T09:27:01.792787Z"
    }
   },
   "outputs": [
    {
     "data": {
      "text/html": [
       "<table class=\"simpletable\">\n",
       "<caption>ARMA Model Results</caption>\n",
       "<tr>\n",
       "  <th>Dep. Variable:</th>   <td>market_value</td>   <th>  No. Observations:  </th>    <td>5021</td>   \n",
       "</tr>\n",
       "<tr>\n",
       "  <th>Model:</th>            <td>ARMA(1, 0)</td>    <th>  Log Likelihood     </th> <td>-27622.598</td>\n",
       "</tr>\n",
       "<tr>\n",
       "  <th>Method:</th>             <td>css-mle</td>     <th>  S.D. of innovations</th>   <td>59.258</td>  \n",
       "</tr>\n",
       "<tr>\n",
       "  <th>Date:</th>          <td>Thu, 17 Dec 2020</td> <th>  AIC                </th>  <td>55251.196</td>\n",
       "</tr>\n",
       "<tr>\n",
       "  <th>Time:</th>              <td>14:57:01</td>     <th>  BIC                </th>  <td>55270.760</td>\n",
       "</tr>\n",
       "<tr>\n",
       "  <th>Sample:</th>           <td>01-07-1994</td>    <th>  HQIC               </th>  <td>55258.052</td>\n",
       "</tr>\n",
       "<tr>\n",
       "  <th></th>                 <td>- 04-05-2013</td>   <th>                     </th>      <td> </td>    \n",
       "</tr>\n",
       "</table>\n",
       "<table class=\"simpletable\">\n",
       "<tr>\n",
       "           <td></td>             <th>coef</th>     <th>std err</th>      <th>z</th>      <th>P>|z|</th>  <th>[0.025</th>    <th>0.975]</th>  \n",
       "</tr>\n",
       "<tr>\n",
       "  <th>const</th>              <td> 5055.8541</td> <td>  485.798</td> <td>   10.407</td> <td> 0.000</td> <td> 4103.707</td> <td> 6008.001</td>\n",
       "</tr>\n",
       "<tr>\n",
       "  <th>ar.L1.market_value</th> <td>    0.9985</td> <td>    0.001</td> <td> 1298.620</td> <td> 0.000</td> <td>    0.997</td> <td>    1.000</td>\n",
       "</tr>\n",
       "</table>\n",
       "<table class=\"simpletable\">\n",
       "<caption>Roots</caption>\n",
       "<tr>\n",
       "    <td></td>   <th>            Real</th>  <th>         Imaginary</th> <th>         Modulus</th>  <th>        Frequency</th>\n",
       "</tr>\n",
       "<tr>\n",
       "  <th>AR.1</th> <td>           1.0015</td> <td>          +0.0000j</td> <td>           1.0015</td> <td>           0.0000</td>\n",
       "</tr>\n",
       "</table>"
      ],
      "text/plain": [
       "<class 'statsmodels.iolib.summary.Summary'>\n",
       "\"\"\"\n",
       "                              ARMA Model Results                              \n",
       "==============================================================================\n",
       "Dep. Variable:           market_value   No. Observations:                 5021\n",
       "Model:                     ARMA(1, 0)   Log Likelihood              -27622.598\n",
       "Method:                       css-mle   S.D. of innovations             59.258\n",
       "Date:                Thu, 17 Dec 2020   AIC                          55251.196\n",
       "Time:                        14:57:01   BIC                          55270.760\n",
       "Sample:                    01-07-1994   HQIC                         55258.052\n",
       "                         - 04-05-2013                                         \n",
       "======================================================================================\n",
       "                         coef    std err          z      P>|z|      [0.025      0.975]\n",
       "--------------------------------------------------------------------------------------\n",
       "const               5055.8541    485.798     10.407      0.000    4103.707    6008.001\n",
       "ar.L1.market_value     0.9985      0.001   1298.620      0.000       0.997       1.000\n",
       "                                    Roots                                    \n",
       "=============================================================================\n",
       "                  Real          Imaginary           Modulus         Frequency\n",
       "-----------------------------------------------------------------------------\n",
       "AR.1            1.0015           +0.0000j            1.0015            0.0000\n",
       "-----------------------------------------------------------------------------\n",
       "\"\"\""
      ]
     },
     "execution_count": 12,
     "metadata": {},
     "output_type": "execute_result"
    }
   ],
   "source": [
    "results_ar.summary()"
   ]
  },
  {
   "cell_type": "markdown",
   "metadata": {},
   "source": [
    "- coef: `const-coef` is $C$ and `ar.L1.market_value-coef` is $\\varphi$\n",
    "- std err: How far away on average the model predictions are from the true value\n",
    "- z-value: test statistics\n",
    "- p-Value"
   ]
  },
  {
   "cell_type": "code",
   "execution_count": 13,
   "metadata": {
    "execution": {
     "iopub.execute_input": "2020-12-17T09:27:01.819287Z",
     "iopub.status.busy": "2020-12-17T09:27:01.818918Z",
     "iopub.status.idle": "2020-12-17T09:27:02.143690Z",
     "shell.execute_reply": "2020-12-17T09:27:02.142978Z",
     "shell.execute_reply.started": "2020-12-17T09:27:01.819248Z"
    }
   },
   "outputs": [
    {
     "name": "stderr",
     "output_type": "stream",
     "text": [
      "/Users/shankar/dev/tools/anaconda3/envs/time/lib/python3.8/site-packages/statsmodels/tsa/arima_model.py:472: FutureWarning: \n",
      "statsmodels.tsa.arima_model.ARMA and statsmodels.tsa.arima_model.ARIMA have\n",
      "been deprecated in favor of statsmodels.tsa.arima.model.ARIMA (note the .\n",
      "between arima and model) and\n",
      "statsmodels.tsa.SARIMAX. These will be removed after the 0.12 release.\n",
      "\n",
      "statsmodels.tsa.arima.model.ARIMA makes use of the statespace framework and\n",
      "is both well tested and maintained.\n",
      "\n",
      "To silence this warning and continue using ARMA and ARIMA until they are\n",
      "removed, use:\n",
      "\n",
      "import warnings\n",
      "warnings.filterwarnings('ignore', 'statsmodels.tsa.arima_model.ARMA',\n",
      "                        FutureWarning)\n",
      "warnings.filterwarnings('ignore', 'statsmodels.tsa.arima_model.ARIMA',\n",
      "                        FutureWarning)\n",
      "\n",
      "  warnings.warn(ARIMA_DEPRECATION_WARN, FutureWarning)\n"
     ]
    },
    {
     "data": {
      "text/html": [
       "<table class=\"simpletable\">\n",
       "<caption>ARMA Model Results</caption>\n",
       "<tr>\n",
       "  <th>Dep. Variable:</th>   <td>market_value</td>   <th>  No. Observations:  </th>    <td>5021</td>   \n",
       "</tr>\n",
       "<tr>\n",
       "  <th>Model:</th>            <td>ARMA(2, 0)</td>    <th>  Log Likelihood     </th> <td>-27621.871</td>\n",
       "</tr>\n",
       "<tr>\n",
       "  <th>Method:</th>             <td>css-mle</td>     <th>  S.D. of innovations</th>   <td>59.249</td>  \n",
       "</tr>\n",
       "<tr>\n",
       "  <th>Date:</th>          <td>Thu, 17 Dec 2020</td> <th>  AIC                </th>  <td>55251.742</td>\n",
       "</tr>\n",
       "<tr>\n",
       "  <th>Time:</th>              <td>14:57:02</td>     <th>  BIC                </th>  <td>55277.827</td>\n",
       "</tr>\n",
       "<tr>\n",
       "  <th>Sample:</th>           <td>01-07-1994</td>    <th>  HQIC               </th>  <td>55260.883</td>\n",
       "</tr>\n",
       "<tr>\n",
       "  <th></th>                 <td>- 04-05-2013</td>   <th>                     </th>      <td> </td>    \n",
       "</tr>\n",
       "</table>\n",
       "<table class=\"simpletable\">\n",
       "<tr>\n",
       "           <td></td>             <th>coef</th>     <th>std err</th>      <th>z</th>      <th>P>|z|</th>  <th>[0.025</th>    <th>0.975]</th>  \n",
       "</tr>\n",
       "<tr>\n",
       "  <th>const</th>              <td> 5089.6411</td> <td>  495.674</td> <td>   10.268</td> <td> 0.000</td> <td> 4118.138</td> <td> 6061.144</td>\n",
       "</tr>\n",
       "<tr>\n",
       "  <th>ar.L1.market_value</th> <td>    0.9814</td> <td>    0.014</td> <td>   69.595</td> <td> 0.000</td> <td>    0.954</td> <td>    1.009</td>\n",
       "</tr>\n",
       "<tr>\n",
       "  <th>ar.L2.market_value</th> <td>    0.0171</td> <td>    0.014</td> <td>    1.211</td> <td> 0.226</td> <td>   -0.011</td> <td>    0.045</td>\n",
       "</tr>\n",
       "</table>\n",
       "<table class=\"simpletable\">\n",
       "<caption>Roots</caption>\n",
       "<tr>\n",
       "    <td></td>   <th>            Real</th>  <th>         Imaginary</th> <th>         Modulus</th>  <th>        Frequency</th>\n",
       "</tr>\n",
       "<tr>\n",
       "  <th>AR.1</th> <td>           1.0015</td> <td>          +0.0000j</td> <td>           1.0015</td> <td>           0.0000</td>\n",
       "</tr>\n",
       "<tr>\n",
       "  <th>AR.2</th> <td>         -58.4636</td> <td>          +0.0000j</td> <td>          58.4636</td> <td>           0.5000</td>\n",
       "</tr>\n",
       "</table>"
      ],
      "text/plain": [
       "<class 'statsmodels.iolib.summary.Summary'>\n",
       "\"\"\"\n",
       "                              ARMA Model Results                              \n",
       "==============================================================================\n",
       "Dep. Variable:           market_value   No. Observations:                 5021\n",
       "Model:                     ARMA(2, 0)   Log Likelihood              -27621.871\n",
       "Method:                       css-mle   S.D. of innovations             59.249\n",
       "Date:                Thu, 17 Dec 2020   AIC                          55251.742\n",
       "Time:                        14:57:02   BIC                          55277.827\n",
       "Sample:                    01-07-1994   HQIC                         55260.883\n",
       "                         - 04-05-2013                                         \n",
       "======================================================================================\n",
       "                         coef    std err          z      P>|z|      [0.025      0.975]\n",
       "--------------------------------------------------------------------------------------\n",
       "const               5089.6411    495.674     10.268      0.000    4118.138    6061.144\n",
       "ar.L1.market_value     0.9814      0.014     69.595      0.000       0.954       1.009\n",
       "ar.L2.market_value     0.0171      0.014      1.211      0.226      -0.011       0.045\n",
       "                                    Roots                                    \n",
       "=============================================================================\n",
       "                  Real          Imaginary           Modulus         Frequency\n",
       "-----------------------------------------------------------------------------\n",
       "AR.1            1.0015           +0.0000j            1.0015            0.0000\n",
       "AR.2          -58.4636           +0.0000j           58.4636            0.5000\n",
       "-----------------------------------------------------------------------------\n",
       "\"\"\""
      ]
     },
     "execution_count": 13,
     "metadata": {},
     "output_type": "execute_result"
    }
   ],
   "source": [
    "model_ar_2 = ARMA(df.market_value, order=(2, 0))\n",
    "results_ar_2 = model_ar_2.fit()\n",
    "results_ar_2.summary()"
   ]
  },
  {
   "cell_type": "code",
   "execution_count": 14,
   "metadata": {
    "execution": {
     "iopub.execute_input": "2020-12-17T09:27:02.145377Z",
     "iopub.status.busy": "2020-12-17T09:27:02.145125Z",
     "iopub.status.idle": "2020-12-17T09:27:02.639546Z",
     "shell.execute_reply": "2020-12-17T09:27:02.638768Z",
     "shell.execute_reply.started": "2020-12-17T09:27:02.145352Z"
    }
   },
   "outputs": [
    {
     "name": "stderr",
     "output_type": "stream",
     "text": [
      "/Users/shankar/dev/tools/anaconda3/envs/time/lib/python3.8/site-packages/statsmodels/tsa/arima_model.py:472: FutureWarning: \n",
      "statsmodels.tsa.arima_model.ARMA and statsmodels.tsa.arima_model.ARIMA have\n",
      "been deprecated in favor of statsmodels.tsa.arima.model.ARIMA (note the .\n",
      "between arima and model) and\n",
      "statsmodels.tsa.SARIMAX. These will be removed after the 0.12 release.\n",
      "\n",
      "statsmodels.tsa.arima.model.ARIMA makes use of the statespace framework and\n",
      "is both well tested and maintained.\n",
      "\n",
      "To silence this warning and continue using ARMA and ARIMA until they are\n",
      "removed, use:\n",
      "\n",
      "import warnings\n",
      "warnings.filterwarnings('ignore', 'statsmodels.tsa.arima_model.ARMA',\n",
      "                        FutureWarning)\n",
      "warnings.filterwarnings('ignore', 'statsmodels.tsa.arima_model.ARIMA',\n",
      "                        FutureWarning)\n",
      "\n",
      "  warnings.warn(ARIMA_DEPRECATION_WARN, FutureWarning)\n"
     ]
    },
    {
     "data": {
      "text/html": [
       "<table class=\"simpletable\">\n",
       "<caption>ARMA Model Results</caption>\n",
       "<tr>\n",
       "  <th>Dep. Variable:</th>   <td>market_value</td>   <th>  No. Observations:  </th>    <td>5021</td>   \n",
       "</tr>\n",
       "<tr>\n",
       "  <th>Model:</th>            <td>ARMA(3, 0)</td>    <th>  Log Likelihood     </th> <td>-27615.871</td>\n",
       "</tr>\n",
       "<tr>\n",
       "  <th>Method:</th>             <td>css-mle</td>     <th>  S.D. of innovations</th>   <td>59.178</td>  \n",
       "</tr>\n",
       "<tr>\n",
       "  <th>Date:</th>          <td>Thu, 17 Dec 2020</td> <th>  AIC                </th>  <td>55241.742</td>\n",
       "</tr>\n",
       "<tr>\n",
       "  <th>Time:</th>              <td>14:57:02</td>     <th>  BIC                </th>  <td>55274.349</td>\n",
       "</tr>\n",
       "<tr>\n",
       "  <th>Sample:</th>           <td>01-07-1994</td>    <th>  HQIC               </th>  <td>55253.168</td>\n",
       "</tr>\n",
       "<tr>\n",
       "  <th></th>                 <td>- 04-05-2013</td>   <th>                     </th>      <td> </td>    \n",
       "</tr>\n",
       "</table>\n",
       "<table class=\"simpletable\">\n",
       "<tr>\n",
       "           <td></td>             <th>coef</th>     <th>std err</th>      <th>z</th>      <th>P>|z|</th>  <th>[0.025</th>    <th>0.975]</th>  \n",
       "</tr>\n",
       "<tr>\n",
       "  <th>const</th>              <td> 5089.6411</td> <td>  520.379</td> <td>    9.781</td> <td> 0.000</td> <td> 4069.718</td> <td> 6109.565</td>\n",
       "</tr>\n",
       "<tr>\n",
       "  <th>ar.L1.market_value</th> <td>    0.9806</td> <td>    0.014</td> <td>   69.619</td> <td> 0.000</td> <td>    0.953</td> <td>    1.008</td>\n",
       "</tr>\n",
       "<tr>\n",
       "  <th>ar.L2.market_value</th> <td>   -0.0309</td> <td>    0.020</td> <td>   -1.563</td> <td> 0.118</td> <td>   -0.070</td> <td>    0.008</td>\n",
       "</tr>\n",
       "<tr>\n",
       "  <th>ar.L3.market_value</th> <td>    0.0489</td> <td>    0.014</td> <td>    3.466</td> <td> 0.001</td> <td>    0.021</td> <td>    0.077</td>\n",
       "</tr>\n",
       "</table>\n",
       "<table class=\"simpletable\">\n",
       "<caption>Roots</caption>\n",
       "<tr>\n",
       "    <td></td>   <th>            Real</th>  <th>         Imaginary</th> <th>         Modulus</th>  <th>        Frequency</th>\n",
       "</tr>\n",
       "<tr>\n",
       "  <th>AR.1</th> <td>           1.0013</td> <td>          -0.0000j</td> <td>           1.0013</td> <td>          -0.0000</td>\n",
       "</tr>\n",
       "<tr>\n",
       "  <th>AR.2</th> <td>          -0.1850</td> <td>          -4.5161j</td> <td>           4.5199</td> <td>          -0.2565</td>\n",
       "</tr>\n",
       "<tr>\n",
       "  <th>AR.3</th> <td>          -0.1850</td> <td>          +4.5161j</td> <td>           4.5199</td> <td>           0.2565</td>\n",
       "</tr>\n",
       "</table>"
      ],
      "text/plain": [
       "<class 'statsmodels.iolib.summary.Summary'>\n",
       "\"\"\"\n",
       "                              ARMA Model Results                              \n",
       "==============================================================================\n",
       "Dep. Variable:           market_value   No. Observations:                 5021\n",
       "Model:                     ARMA(3, 0)   Log Likelihood              -27615.871\n",
       "Method:                       css-mle   S.D. of innovations             59.178\n",
       "Date:                Thu, 17 Dec 2020   AIC                          55241.742\n",
       "Time:                        14:57:02   BIC                          55274.349\n",
       "Sample:                    01-07-1994   HQIC                         55253.168\n",
       "                         - 04-05-2013                                         \n",
       "======================================================================================\n",
       "                         coef    std err          z      P>|z|      [0.025      0.975]\n",
       "--------------------------------------------------------------------------------------\n",
       "const               5089.6411    520.379      9.781      0.000    4069.718    6109.565\n",
       "ar.L1.market_value     0.9806      0.014     69.619      0.000       0.953       1.008\n",
       "ar.L2.market_value    -0.0309      0.020     -1.563      0.118      -0.070       0.008\n",
       "ar.L3.market_value     0.0489      0.014      3.466      0.001       0.021       0.077\n",
       "                                    Roots                                    \n",
       "=============================================================================\n",
       "                  Real          Imaginary           Modulus         Frequency\n",
       "-----------------------------------------------------------------------------\n",
       "AR.1            1.0013           -0.0000j            1.0013           -0.0000\n",
       "AR.2           -0.1850           -4.5161j            4.5199           -0.2565\n",
       "AR.3           -0.1850           +4.5161j            4.5199            0.2565\n",
       "-----------------------------------------------------------------------------\n",
       "\"\"\""
      ]
     },
     "execution_count": 14,
     "metadata": {},
     "output_type": "execute_result"
    }
   ],
   "source": [
    "model_ar_3 = ARMA(df.market_value, order=(3, 0))\n",
    "results_ar_3 = model_ar_3.fit()\n",
    "results_ar_3.summary()"
   ]
  },
  {
   "cell_type": "code",
   "execution_count": 15,
   "metadata": {
    "execution": {
     "iopub.execute_input": "2020-12-17T09:27:02.641775Z",
     "iopub.status.busy": "2020-12-17T09:27:02.641308Z",
     "iopub.status.idle": "2020-12-17T09:27:03.269579Z",
     "shell.execute_reply": "2020-12-17T09:27:03.268940Z",
     "shell.execute_reply.started": "2020-12-17T09:27:02.641736Z"
    }
   },
   "outputs": [
    {
     "name": "stderr",
     "output_type": "stream",
     "text": [
      "/Users/shankar/dev/tools/anaconda3/envs/time/lib/python3.8/site-packages/statsmodels/tsa/arima_model.py:472: FutureWarning: \n",
      "statsmodels.tsa.arima_model.ARMA and statsmodels.tsa.arima_model.ARIMA have\n",
      "been deprecated in favor of statsmodels.tsa.arima.model.ARIMA (note the .\n",
      "between arima and model) and\n",
      "statsmodels.tsa.SARIMAX. These will be removed after the 0.12 release.\n",
      "\n",
      "statsmodels.tsa.arima.model.ARIMA makes use of the statespace framework and\n",
      "is both well tested and maintained.\n",
      "\n",
      "To silence this warning and continue using ARMA and ARIMA until they are\n",
      "removed, use:\n",
      "\n",
      "import warnings\n",
      "warnings.filterwarnings('ignore', 'statsmodels.tsa.arima_model.ARMA',\n",
      "                        FutureWarning)\n",
      "warnings.filterwarnings('ignore', 'statsmodels.tsa.arima_model.ARIMA',\n",
      "                        FutureWarning)\n",
      "\n",
      "  warnings.warn(ARIMA_DEPRECATION_WARN, FutureWarning)\n"
     ]
    },
    {
     "data": {
      "text/html": [
       "<table class=\"simpletable\">\n",
       "<caption>ARMA Model Results</caption>\n",
       "<tr>\n",
       "  <th>Dep. Variable:</th>   <td>market_value</td>   <th>  No. Observations:  </th>    <td>5021</td>   \n",
       "</tr>\n",
       "<tr>\n",
       "  <th>Model:</th>            <td>ARMA(4, 0)</td>    <th>  Log Likelihood     </th> <td>-27602.565</td>\n",
       "</tr>\n",
       "<tr>\n",
       "  <th>Method:</th>             <td>css-mle</td>     <th>  S.D. of innovations</th>   <td>59.022</td>  \n",
       "</tr>\n",
       "<tr>\n",
       "  <th>Date:</th>          <td>Thu, 17 Dec 2020</td> <th>  AIC                </th>  <td>55217.130</td>\n",
       "</tr>\n",
       "<tr>\n",
       "  <th>Time:</th>              <td>14:57:03</td>     <th>  BIC                </th>  <td>55256.258</td>\n",
       "</tr>\n",
       "<tr>\n",
       "  <th>Sample:</th>           <td>01-07-1994</td>    <th>  HQIC               </th>  <td>55230.841</td>\n",
       "</tr>\n",
       "<tr>\n",
       "  <th></th>                 <td>- 04-05-2013</td>   <th>                     </th>      <td> </td>    \n",
       "</tr>\n",
       "</table>\n",
       "<table class=\"simpletable\">\n",
       "<tr>\n",
       "           <td></td>             <th>coef</th>     <th>std err</th>      <th>z</th>      <th>P>|z|</th>  <th>[0.025</th>    <th>0.975]</th>  \n",
       "</tr>\n",
       "<tr>\n",
       "  <th>const</th>              <td> 5089.6416</td> <td>  559.958</td> <td>    9.089</td> <td> 0.000</td> <td> 3992.145</td> <td> 6187.138</td>\n",
       "</tr>\n",
       "<tr>\n",
       "  <th>ar.L1.market_value</th> <td>    0.9770</td> <td>    0.014</td> <td>   69.492</td> <td> 0.000</td> <td>    0.949</td> <td>    1.005</td>\n",
       "</tr>\n",
       "<tr>\n",
       "  <th>ar.L2.market_value</th> <td>   -0.0286</td> <td>    0.020</td> <td>   -1.455</td> <td> 0.146</td> <td>   -0.067</td> <td>    0.010</td>\n",
       "</tr>\n",
       "<tr>\n",
       "  <th>ar.L3.market_value</th> <td>   -0.0224</td> <td>    0.020</td> <td>   -1.135</td> <td> 0.256</td> <td>   -0.061</td> <td>    0.016</td>\n",
       "</tr>\n",
       "<tr>\n",
       "  <th>ar.L4.market_value</th> <td>    0.0728</td> <td>    0.014</td> <td>    5.166</td> <td> 0.000</td> <td>    0.045</td> <td>    0.100</td>\n",
       "</tr>\n",
       "</table>\n",
       "<table class=\"simpletable\">\n",
       "<caption>Roots</caption>\n",
       "<tr>\n",
       "    <td></td>   <th>            Real</th>  <th>         Imaginary</th> <th>         Modulus</th>  <th>        Frequency</th>\n",
       "</tr>\n",
       "<tr>\n",
       "  <th>AR.1</th> <td>           1.0011</td> <td>          -0.0000j</td> <td>           1.0011</td> <td>          -0.0000</td>\n",
       "</tr>\n",
       "<tr>\n",
       "  <th>AR.2</th> <td>           0.9550</td> <td>          -2.0884j</td> <td>           2.2964</td> <td>          -0.1817</td>\n",
       "</tr>\n",
       "<tr>\n",
       "  <th>AR.3</th> <td>           0.9550</td> <td>          +2.0884j</td> <td>           2.2964</td> <td>           0.1817</td>\n",
       "</tr>\n",
       "<tr>\n",
       "  <th>AR.4</th> <td>          -2.6036</td> <td>          -0.0000j</td> <td>           2.6036</td> <td>          -0.5000</td>\n",
       "</tr>\n",
       "</table>"
      ],
      "text/plain": [
       "<class 'statsmodels.iolib.summary.Summary'>\n",
       "\"\"\"\n",
       "                              ARMA Model Results                              \n",
       "==============================================================================\n",
       "Dep. Variable:           market_value   No. Observations:                 5021\n",
       "Model:                     ARMA(4, 0)   Log Likelihood              -27602.565\n",
       "Method:                       css-mle   S.D. of innovations             59.022\n",
       "Date:                Thu, 17 Dec 2020   AIC                          55217.130\n",
       "Time:                        14:57:03   BIC                          55256.258\n",
       "Sample:                    01-07-1994   HQIC                         55230.841\n",
       "                         - 04-05-2013                                         \n",
       "======================================================================================\n",
       "                         coef    std err          z      P>|z|      [0.025      0.975]\n",
       "--------------------------------------------------------------------------------------\n",
       "const               5089.6416    559.958      9.089      0.000    3992.145    6187.138\n",
       "ar.L1.market_value     0.9770      0.014     69.492      0.000       0.949       1.005\n",
       "ar.L2.market_value    -0.0286      0.020     -1.455      0.146      -0.067       0.010\n",
       "ar.L3.market_value    -0.0224      0.020     -1.135      0.256      -0.061       0.016\n",
       "ar.L4.market_value     0.0728      0.014      5.166      0.000       0.045       0.100\n",
       "                                    Roots                                    \n",
       "=============================================================================\n",
       "                  Real          Imaginary           Modulus         Frequency\n",
       "-----------------------------------------------------------------------------\n",
       "AR.1            1.0011           -0.0000j            1.0011           -0.0000\n",
       "AR.2            0.9550           -2.0884j            2.2964           -0.1817\n",
       "AR.3            0.9550           +2.0884j            2.2964            0.1817\n",
       "AR.4           -2.6036           -0.0000j            2.6036           -0.5000\n",
       "-----------------------------------------------------------------------------\n",
       "\"\"\""
      ]
     },
     "execution_count": 15,
     "metadata": {},
     "output_type": "execute_result"
    }
   ],
   "source": [
    "model_ar_4 = ARMA(df.market_value, order=(4, 0))\n",
    "results_ar_4 = model_ar_4.fit()\n",
    "results_ar_4.summary()"
   ]
  },
  {
   "cell_type": "markdown",
   "metadata": {},
   "source": [
    "## LLR Test"
   ]
  },
  {
   "cell_type": "code",
   "execution_count": 16,
   "metadata": {
    "execution": {
     "iopub.execute_input": "2020-12-17T09:27:03.271109Z",
     "iopub.status.busy": "2020-12-17T09:27:03.270784Z",
     "iopub.status.idle": "2020-12-17T09:27:03.282488Z",
     "shell.execute_reply": "2020-12-17T09:27:03.281377Z",
     "shell.execute_reply.started": "2020-12-17T09:27:03.271078Z"
    }
   },
   "outputs": [],
   "source": [
    "from scipy.stats.distributions import chi2\n",
    "def LLR_test(mod_1, mod_2, DF=1):\n",
    "    L1 = mod_1.fit().llf\n",
    "    L2 = mod_2.fit().llf\n",
    "    \n",
    "    LR = (2*(L2-L1))\n",
    "    p = chi2.sf(LR, DF).round(3)\n",
    "    \n",
    "    return p"
   ]
  },
  {
   "cell_type": "markdown",
   "metadata": {},
   "source": [
    "## Comparing Higher - Lag AR Models"
   ]
  },
  {
   "cell_type": "code",
   "execution_count": 17,
   "metadata": {
    "execution": {
     "iopub.execute_input": "2020-12-17T09:27:03.284076Z",
     "iopub.status.busy": "2020-12-17T09:27:03.283866Z",
     "iopub.status.idle": "2020-12-17T09:27:03.885364Z",
     "shell.execute_reply": "2020-12-17T09:27:03.884707Z",
     "shell.execute_reply.started": "2020-12-17T09:27:03.284051Z"
    }
   },
   "outputs": [
    {
     "data": {
      "text/plain": [
       "numpy.float64"
      ]
     },
     "execution_count": 17,
     "metadata": {},
     "output_type": "execute_result"
    }
   ],
   "source": [
    "x = LLR_test(model_ar_2, model_ar_3)\n",
    "type(x)"
   ]
  },
  {
   "cell_type": "code",
   "execution_count": 18,
   "metadata": {
    "execution": {
     "iopub.execute_input": "2020-12-17T09:27:03.887011Z",
     "iopub.status.busy": "2020-12-17T09:27:03.886599Z",
     "iopub.status.idle": "2020-12-17T09:27:04.639331Z",
     "shell.execute_reply": "2020-12-17T09:27:04.638377Z",
     "shell.execute_reply.started": "2020-12-17T09:27:03.886978Z"
    }
   },
   "outputs": [
    {
     "data": {
      "text/plain": [
       "0.0"
      ]
     },
     "execution_count": 18,
     "metadata": {},
     "output_type": "execute_result"
    }
   ],
   "source": [
    "LLR_test(model_ar_3, model_ar_4)"
   ]
  },
  {
   "cell_type": "code",
   "execution_count": 19,
   "metadata": {
    "execution": {
     "iopub.execute_input": "2020-12-17T09:27:04.641159Z",
     "iopub.status.busy": "2020-12-17T09:27:04.640772Z",
     "iopub.status.idle": "2020-12-17T09:27:05.392424Z",
     "shell.execute_reply": "2020-12-17T09:27:05.391633Z",
     "shell.execute_reply.started": "2020-12-17T09:27:04.641116Z"
    }
   },
   "outputs": [
    {
     "name": "stdout",
     "output_type": "stream",
     "text": [
      "                              ARMA Model Results                              \n",
      "==============================================================================\n",
      "Dep. Variable:           market_value   No. Observations:                 5021\n",
      "Model:                     ARMA(4, 0)   Log Likelihood              -27602.565\n",
      "Method:                       css-mle   S.D. of innovations             59.022\n",
      "Date:                Thu, 17 Dec 2020   AIC                          55217.130\n",
      "Time:                        14:57:04   BIC                          55256.258\n",
      "Sample:                    01-07-1994   HQIC                         55230.841\n",
      "                         - 04-05-2013                                         \n",
      "======================================================================================\n",
      "                         coef    std err          z      P>|z|      [0.025      0.975]\n",
      "--------------------------------------------------------------------------------------\n",
      "const               5089.6416    559.958      9.089      0.000    3992.145    6187.138\n",
      "ar.L1.market_value     0.9770      0.014     69.492      0.000       0.949       1.005\n",
      "ar.L2.market_value    -0.0286      0.020     -1.455      0.146      -0.067       0.010\n",
      "ar.L3.market_value    -0.0224      0.020     -1.135      0.256      -0.061       0.016\n",
      "ar.L4.market_value     0.0728      0.014      5.166      0.000       0.045       0.100\n",
      "                                    Roots                                    \n",
      "=============================================================================\n",
      "                  Real          Imaginary           Modulus         Frequency\n",
      "-----------------------------------------------------------------------------\n",
      "AR.1            1.0011           -0.0000j            1.0011           -0.0000\n",
      "AR.2            0.9550           -2.0884j            2.2964           -0.1817\n",
      "AR.3            0.9550           +2.0884j            2.2964            0.1817\n",
      "AR.4           -2.6036           -0.0000j            2.6036           -0.5000\n",
      "-----------------------------------------------------------------------------\n",
      "LLR_test p-value: 0.0\n"
     ]
    }
   ],
   "source": [
    "print(results_ar_4.summary())\n",
    "print(f'LLR_test p-value: {LLR_test(model_ar_3, model_ar_4)}')"
   ]
  },
  {
   "cell_type": "code",
   "execution_count": 20,
   "metadata": {
    "execution": {
     "iopub.execute_input": "2020-12-17T09:27:05.394139Z",
     "iopub.status.busy": "2020-12-17T09:27:05.393919Z",
     "iopub.status.idle": "2020-12-17T09:27:05.398361Z",
     "shell.execute_reply": "2020-12-17T09:27:05.397694Z",
     "shell.execute_reply.started": "2020-12-17T09:27:05.394114Z"
    }
   },
   "outputs": [],
   "source": [
    "def ARMA_LLR_test(model_ar_x_1, x):\n",
    "    model_ar_x = ARMA(df.market_value, order=(x, 0))\n",
    "    results_ar_x = model_ar_x.fit()\n",
    "    llr = None\n",
    "    if(model_ar_x_1 != None):\n",
    "        llr = LLR_test(model_ar_x_1, model_ar_x)\n",
    "        \n",
    "    return (model_ar_x, llr)"
   ]
  },
  {
   "cell_type": "code",
   "execution_count": null,
   "metadata": {
    "execution": {
     "iopub.execute_input": "2020-12-17T09:27:05.399788Z",
     "iopub.status.busy": "2020-12-17T09:27:05.399582Z"
    }
   },
   "outputs": [
    {
     "name": "stderr",
     "output_type": "stream",
     "text": [
      "/Users/shankar/dev/tools/anaconda3/envs/time/lib/python3.8/site-packages/statsmodels/tsa/arima_model.py:472: FutureWarning: \n",
      "statsmodels.tsa.arima_model.ARMA and statsmodels.tsa.arima_model.ARIMA have\n",
      "been deprecated in favor of statsmodels.tsa.arima.model.ARIMA (note the .\n",
      "between arima and model) and\n",
      "statsmodels.tsa.SARIMAX. These will be removed after the 0.12 release.\n",
      "\n",
      "statsmodels.tsa.arima.model.ARIMA makes use of the statespace framework and\n",
      "is both well tested and maintained.\n",
      "\n",
      "To silence this warning and continue using ARMA and ARIMA until they are\n",
      "removed, use:\n",
      "\n",
      "import warnings\n",
      "warnings.filterwarnings('ignore', 'statsmodels.tsa.arima_model.ARMA',\n",
      "                        FutureWarning)\n",
      "warnings.filterwarnings('ignore', 'statsmodels.tsa.arima_model.ARIMA',\n",
      "                        FutureWarning)\n",
      "\n",
      "  warnings.warn(ARIMA_DEPRECATION_WARN, FutureWarning)\n"
     ]
    },
    {
     "name": "stdout",
     "output_type": "stream",
     "text": [
      "LLR test, Lags: 1, p-value: None\n",
      "LLR test, Lags: 2, p-value: 0.228\n",
      "LLR test, Lags: 3, p-value: 0.001\n",
      "LLR test, Lags: 4, p-value: 0.0\n",
      "LLR test, Lags: 5, p-value: 0.035\n"
     ]
    }
   ],
   "source": [
    "import numpy as np\n",
    "models = [None]\n",
    "llrs = []\n",
    "model_ar_x_1 = None\n",
    "for i in np.arange(1, 10):\n",
    "    (model_ar_x_1, llr_x) = ARMA_LLR_test(model_ar_x_1, i)\n",
    "    models.append(model_ar_x_1)\n",
    "    llrs.append(llr_x)\n",
    "    print(f'LLR test, Lags: {i}, p-value: {llr_x}')"
   ]
  },
  {
   "cell_type": "code",
   "execution_count": null,
   "metadata": {},
   "outputs": [],
   "source": [
    "llrs"
   ]
  },
  {
   "cell_type": "code",
   "execution_count": null,
   "metadata": {},
   "outputs": [],
   "source": [
    "models\n",
    "result_8 = models[8].fit()"
   ]
  },
  {
   "cell_type": "code",
   "execution_count": null,
   "metadata": {},
   "outputs": [],
   "source": [
    "print(result_8.summary())\n",
    "print(f'LLR test, Lags: 7, p-value: {llrs[8]}')"
   ]
  },
  {
   "cell_type": "markdown",
   "metadata": {},
   "source": [
    "We choose AR(7) over the AR(8) because\n",
    "- The AR(8) fails the LLR test\n",
    "- The AR(8) does not provide significantly higher log-likelihood\n",
    "- The AR(8) has higher information criteria"
   ]
  },
  {
   "cell_type": "code",
   "execution_count": null,
   "metadata": {},
   "outputs": [],
   "source": [
    "for i in np.arange(1, 9):\n",
    "    print(f'LLR test: {LLR_test(models[i], models[i+1], DF=6)}')"
   ]
  },
  {
   "cell_type": "code",
   "execution_count": null,
   "metadata": {},
   "outputs": [],
   "source": []
  }
 ],
 "metadata": {
  "kernelspec": {
   "display_name": "Python 3",
   "language": "python",
   "name": "python3"
  },
  "language_info": {
   "codemirror_mode": {
    "name": "ipython",
    "version": 3
   },
   "file_extension": ".py",
   "mimetype": "text/x-python",
   "name": "python",
   "nbconvert_exporter": "python",
   "pygments_lexer": "ipython3",
   "version": "3.8.3"
  }
 },
 "nbformat": 4,
 "nbformat_minor": 4
}
