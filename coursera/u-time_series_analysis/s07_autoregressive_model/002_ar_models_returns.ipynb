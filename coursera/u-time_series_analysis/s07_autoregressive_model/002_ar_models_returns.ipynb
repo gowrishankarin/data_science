{
 "cells": [
  {
   "cell_type": "code",
   "execution_count": 1,
   "metadata": {
    "execution": {
     "iopub.execute_input": "2020-12-17T09:27:24.473052Z",
     "iopub.status.busy": "2020-12-17T09:27:24.472676Z",
     "iopub.status.idle": "2020-12-17T09:27:25.174282Z",
     "shell.execute_reply": "2020-12-17T09:27:25.173600Z",
     "shell.execute_reply.started": "2020-12-17T09:27:24.473003Z"
    }
   },
   "outputs": [],
   "source": [
    "import sys\n",
    "sys.path.append('..')\n",
    "import utils"
   ]
  },
  {
   "cell_type": "code",
   "execution_count": 2,
   "metadata": {
    "execution": {
     "iopub.execute_input": "2020-12-17T09:27:25.176135Z",
     "iopub.status.busy": "2020-12-17T09:27:25.175828Z",
     "iopub.status.idle": "2020-12-17T09:27:25.431084Z",
     "shell.execute_reply": "2020-12-17T09:27:25.430212Z",
     "shell.execute_reply.started": "2020-12-17T09:27:25.176098Z"
    }
   },
   "outputs": [
    {
     "name": "stderr",
     "output_type": "stream",
     "text": [
      "../utils.py:32: SettingWithCopyWarning: \n",
      "A value is trying to be set on a copy of a slice from a DataFrame.\n",
      "Try using .loc[row_indexer,col_indexer] = value instead\n",
      "\n",
      "See the caveats in the documentation: https://pandas.pydata.org/pandas-docs/stable/user_guide/indexing.html#returning-a-view-versus-a-copy\n",
      "  df['wn'] = wn\n"
     ]
    },
    {
     "data": {
      "text/html": [
       "<div>\n",
       "<style scoped>\n",
       "    .dataframe tbody tr th:only-of-type {\n",
       "        vertical-align: middle;\n",
       "    }\n",
       "\n",
       "    .dataframe tbody tr th {\n",
       "        vertical-align: top;\n",
       "    }\n",
       "\n",
       "    .dataframe thead th {\n",
       "        text-align: right;\n",
       "    }\n",
       "</style>\n",
       "<table border=\"1\" class=\"dataframe\">\n",
       "  <thead>\n",
       "    <tr style=\"text-align: right;\">\n",
       "      <th></th>\n",
       "      <th>market_value</th>\n",
       "      <th>wn</th>\n",
       "      <th>rw</th>\n",
       "    </tr>\n",
       "    <tr>\n",
       "      <th>date</th>\n",
       "      <th></th>\n",
       "      <th></th>\n",
       "      <th></th>\n",
       "    </tr>\n",
       "  </thead>\n",
       "  <tbody>\n",
       "    <tr>\n",
       "      <th>1994-01-07</th>\n",
       "      <td>3445.98</td>\n",
       "      <td>3060.328767</td>\n",
       "      <td>1122.139662</td>\n",
       "    </tr>\n",
       "    <tr>\n",
       "      <th>1994-01-10</th>\n",
       "      <td>3440.58</td>\n",
       "      <td>4088.226022</td>\n",
       "      <td>1080.347860</td>\n",
       "    </tr>\n",
       "    <tr>\n",
       "      <th>1994-01-11</th>\n",
       "      <td>3413.77</td>\n",
       "      <td>5966.226873</td>\n",
       "      <td>1082.095245</td>\n",
       "    </tr>\n",
       "    <tr>\n",
       "      <th>1994-01-12</th>\n",
       "      <td>3372.02</td>\n",
       "      <td>5728.258890</td>\n",
       "      <td>1083.639265</td>\n",
       "    </tr>\n",
       "    <tr>\n",
       "      <th>1994-01-13</th>\n",
       "      <td>3360.01</td>\n",
       "      <td>4028.668621</td>\n",
       "      <td>1067.146255</td>\n",
       "    </tr>\n",
       "  </tbody>\n",
       "</table>\n",
       "</div>"
      ],
      "text/plain": [
       "            market_value           wn           rw\n",
       "date                                              \n",
       "1994-01-07       3445.98  3060.328767  1122.139662\n",
       "1994-01-10       3440.58  4088.226022  1080.347860\n",
       "1994-01-11       3413.77  5966.226873  1082.095245\n",
       "1994-01-12       3372.02  5728.258890  1083.639265\n",
       "1994-01-13       3360.01  4028.668621  1067.146255"
      ]
     },
     "execution_count": 2,
     "metadata": {},
     "output_type": "execute_result"
    }
   ],
   "source": [
    "df, df_test = utils.get_index_2018_market_value_splits(market_name='ftse')\n",
    "df['rw'] = utils.get_random_walk_data()\n",
    "df.head()"
   ]
  },
  {
   "cell_type": "code",
   "execution_count": 3,
   "metadata": {
    "execution": {
     "iopub.execute_input": "2020-12-17T09:27:25.433643Z",
     "iopub.status.busy": "2020-12-17T09:27:25.433353Z",
     "iopub.status.idle": "2020-12-17T09:27:25.771570Z",
     "shell.execute_reply": "2020-12-17T09:27:25.770649Z",
     "shell.execute_reply.started": "2020-12-17T09:27:25.433610Z"
    }
   },
   "outputs": [],
   "source": [
    "import matplotlib.pyplot as plt\n",
    "import statsmodels.graphics.tsaplots as sgt\n",
    "import statsmodels.tsa.stattools as sts\n",
    "from statsmodels.tsa.seasonal import seasonal_decompose\n",
    "import seaborn as sns\n",
    "sns.set()\n",
    "DATA_DIR = '../data'"
   ]
  },
  {
   "cell_type": "markdown",
   "metadata": {},
   "source": [
    "## The DF Test"
   ]
  },
  {
   "cell_type": "code",
   "execution_count": 4,
   "metadata": {
    "execution": {
     "iopub.execute_input": "2020-12-17T09:27:25.774361Z",
     "iopub.status.busy": "2020-12-17T09:27:25.774049Z",
     "iopub.status.idle": "2020-12-17T09:27:26.007913Z",
     "shell.execute_reply": "2020-12-17T09:27:26.006815Z",
     "shell.execute_reply.started": "2020-12-17T09:27:25.774321Z"
    }
   },
   "outputs": [
    {
     "data": {
      "text/plain": [
       "(-1.9041551418836864,\n",
       " 0.33010893277028336,\n",
       " 6,\n",
       " 5014,\n",
       " {'1%': -3.4316548765428174,\n",
       "  '5%': -2.8621166146845334,\n",
       "  '10%': -2.5670769326348926},\n",
       " 54854.15304507557)"
      ]
     },
     "execution_count": 4,
     "metadata": {},
     "output_type": "execute_result"
    }
   ],
   "source": [
    "sts.adfuller(df.market_value)"
   ]
  },
  {
   "cell_type": "markdown",
   "metadata": {},
   "source": [
    "Since p-value is 0.33, we can conclusively say it comes from stationary process."
   ]
  },
  {
   "cell_type": "markdown",
   "metadata": {},
   "source": [
    "## Using Returns\n",
    "$$returns = \\frac{P_t - P_{t-1}}{P_{t-1}} \\times 100$$"
   ]
  },
  {
   "cell_type": "code",
   "execution_count": 5,
   "metadata": {
    "execution": {
     "iopub.execute_input": "2020-12-17T09:27:26.010005Z",
     "iopub.status.busy": "2020-12-17T09:27:26.009681Z",
     "iopub.status.idle": "2020-12-17T09:27:26.022792Z",
     "shell.execute_reply": "2020-12-17T09:27:26.021808Z",
     "shell.execute_reply.started": "2020-12-17T09:27:26.009967Z"
    }
   },
   "outputs": [],
   "source": [
    "df[\"returns\"] = df.market_value.pct_change(1).mul(100)\n",
    "df = df.iloc[1:]"
   ]
  },
  {
   "cell_type": "code",
   "execution_count": 6,
   "metadata": {
    "execution": {
     "iopub.execute_input": "2020-12-17T09:27:26.025129Z",
     "iopub.status.busy": "2020-12-17T09:27:26.024800Z",
     "iopub.status.idle": "2020-12-17T09:27:26.252334Z",
     "shell.execute_reply": "2020-12-17T09:27:26.251615Z",
     "shell.execute_reply.started": "2020-12-17T09:27:26.025090Z"
    }
   },
   "outputs": [
    {
     "data": {
      "text/plain": [
       "(-12.770265719497232,\n",
       " 7.79805833603833e-24,\n",
       " 32,\n",
       " 4987,\n",
       " {'1%': -3.431661944885779,\n",
       "  '5%': -2.8621197374408225,\n",
       "  '10%': -2.5670785949998973},\n",
       " 15696.767245697501)"
      ]
     },
     "execution_count": 6,
     "metadata": {},
     "output_type": "execute_result"
    }
   ],
   "source": [
    "sts.adfuller(df.returns)"
   ]
  },
  {
   "cell_type": "markdown",
   "metadata": {},
   "source": [
    "## ACF and PACF"
   ]
  },
  {
   "cell_type": "code",
   "execution_count": 7,
   "metadata": {
    "execution": {
     "iopub.execute_input": "2020-12-17T09:27:26.253762Z",
     "iopub.status.busy": "2020-12-17T09:27:26.253435Z",
     "iopub.status.idle": "2020-12-17T09:27:26.560847Z",
     "shell.execute_reply": "2020-12-17T09:27:26.560051Z",
     "shell.execute_reply.started": "2020-12-17T09:27:26.253730Z"
    }
   },
   "outputs": [
    {
     "data": {
      "image/png": "[encoded data removed]",
      "text/plain": [
       "<Figure size 432x288 with 1 Axes>"
      ]
     },
     "metadata": {},
     "output_type": "display_data"
    }
   ],
   "source": [
    "sgt.plot_acf(df.returns, zero=False, lags=40)\n",
    "plt.title(\"ACF for FTSE\", size=20)\n",
    "plt.show()"
   ]
  },
  {
   "cell_type": "code",
   "execution_count": 8,
   "metadata": {
    "execution": {
     "iopub.execute_input": "2020-12-17T09:27:26.564790Z",
     "iopub.status.busy": "2020-12-17T09:27:26.564495Z",
     "iopub.status.idle": "2020-12-17T09:27:26.948446Z",
     "shell.execute_reply": "2020-12-17T09:27:26.947441Z",
     "shell.execute_reply.started": "2020-12-17T09:27:26.564756Z"
    }
   },
   "outputs": [
    {
     "data": {
      "image/png": "[encoded data removed]",
      "text/plain": [
       "<Figure size 432x288 with 1 Axes>"
      ]
     },
     "metadata": {},
     "output_type": "display_data"
    }
   ],
   "source": [
    "sgt.plot_pacf(df.returns, lags=40, alpha=0.05, zero=False, method=('ols'))\n",
    "plt.title(\"PACF for FTSE\")\n",
    "plt.show()"
   ]
  },
  {
   "cell_type": "markdown",
   "metadata": {},
   "source": [
    "## $AR_{1...}$ Tests"
   ]
  },
  {
   "cell_type": "code",
   "execution_count": 10,
   "metadata": {
    "execution": {
     "iopub.execute_input": "2020-12-17T09:27:39.711065Z",
     "iopub.status.busy": "2020-12-17T09:27:39.710819Z",
     "iopub.status.idle": "2020-12-17T09:27:46.371277Z",
     "shell.execute_reply": "2020-12-17T09:27:46.370559Z",
     "shell.execute_reply.started": "2020-12-17T09:27:39.711038Z"
    }
   },
   "outputs": [
    {
     "name": "stdout",
     "output_type": "stream",
     "text": [
      "LLR test, Lags: 1, p-value: None\n",
      "LLR test, Lags: 2, p-value: 0.0\n",
      "LLR test, Lags: 3, p-value: 0.0\n",
      "LLR test, Lags: 4, p-value: 0.001\n",
      "LLR test, Lags: 5, p-value: 0.0\n",
      "LLR test, Lags: 6, p-value: 0.001\n",
      "LLR test, Lags: 7, p-value: 0.44\n",
      "LLR test, Lags: 8, p-value: 0.148\n",
      "LLR test, Lags: 9, p-value: 0.885\n"
     ]
    }
   ],
   "source": [
    "import numpy as np\n",
    "models = [None]\n",
    "llrs = []\n",
    "model_ar_x_1 = None\n",
    "for i in np.arange(1, 10):\n",
    "    (model_ar_x_1, llr_x) = utils.ARMA_LLR_test(df.returns, model_ar_x_1, (i, 0))\n",
    "    models.append(model_ar_x_1)\n",
    "    llrs.append(llr_x)\n",
    "    print(f'LLR test, Lags: {i}, p-value: {llr_x}')"
   ]
  },
  {
   "cell_type": "code",
   "execution_count": null,
   "metadata": {
    "execution": {
     "iopub.status.busy": "2020-12-17T09:27:27.265334Z",
     "iopub.status.idle": "2020-12-17T09:27:27.265802Z"
    }
   },
   "outputs": [],
   "source": [
    "model_ret_ar_1 = models[1].fit()"
   ]
  },
  {
   "cell_type": "code",
   "execution_count": null,
   "metadata": {
    "execution": {
     "iopub.status.busy": "2020-12-17T09:27:27.267244Z",
     "iopub.status.idle": "2020-12-17T09:27:27.267825Z"
    }
   },
   "outputs": [],
   "source": [
    "model_ret_ar_1.summary()"
   ]
  },
  {
   "cell_type": "markdown",
   "metadata": {},
   "source": [
    "- p-value is over 0.05\n",
    "- Neither is significantly different from 0\n",
    "- This model holds no real predictive power\n",
    "- The more easily yesterday's price is affected by higher lags -> the mroe inaccurate its coefficient becoms\n",
    "\n",
    "Since neither coefficient is significantly different from 0, we can assume both are 0, so our predictions would always be 0."
   ]
  },
  {
   "cell_type": "code",
   "execution_count": null,
   "metadata": {
    "execution": {
     "iopub.status.busy": "2020-12-17T09:27:27.269241Z",
     "iopub.status.idle": "2020-12-17T09:27:27.269797Z"
    }
   },
   "outputs": [],
   "source": [
    "model_ret_ar_2 = models[2].fit()\n",
    "model_ret_ar_2.summary()"
   ]
  },
  {
   "cell_type": "code",
   "execution_count": null,
   "metadata": {
    "execution": {
     "iopub.status.busy": "2020-12-17T09:27:27.270939Z",
     "iopub.status.idle": "2020-12-17T09:27:27.271370Z"
    }
   },
   "outputs": [],
   "source": [
    "model_ret_ar_3 = models[3].fit()\n",
    "model_ret_ar_3.summary()"
   ]
  },
  {
   "cell_type": "code",
   "execution_count": null,
   "metadata": {},
   "outputs": [],
   "source": []
  }
 ],
 "metadata": {
  "kernelspec": {
   "display_name": "Python 3",
   "language": "python",
   "name": "python3"
  },
  "language_info": {
   "codemirror_mode": {
    "name": "ipython",
    "version": 3
   },
   "file_extension": ".py",
   "mimetype": "text/x-python",
   "name": "python",
   "nbconvert_exporter": "python",
   "pygments_lexer": "ipython3",
   "version": "3.8.3"
  }
 },
 "nbformat": 4,
 "nbformat_minor": 4
}
