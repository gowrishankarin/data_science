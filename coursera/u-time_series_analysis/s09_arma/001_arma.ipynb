{
 "cells": [
  {
   "cell_type": "markdown",
   "metadata": {},
   "source": [
    "# ARMA - Autoregressing Moving Average Models\n",
    "$$r_t = c + \\varphi_1 r_{t-1} + \\theta_1 \\epsilon_{t-1} + \\epsilon_t$$\n",
    "\n",
    "- $r_t, r_{t-1}$: Values in the current period and 1 period ago respectively\n",
    "- $\\epsilon_t, \\epsilon_{t-1}$: Error terms for the same two periods\n",
    "- c: Baseline constant factor\n",
    "- $\\varphi_1$: What part of the value last period is relevant in explaining the current one\n",
    "- $\\theta_1$: What part of the error last period is relevant in explaining the current value"
   ]
  },
  {
   "cell_type": "markdown",
   "metadata": {},
   "source": [
    "In complex models\n",
    "- $\\varphi_i$: The importance of the values for the $i^{th}$ lag\n",
    "- $\\theta_i$: The importance of the error terms for the $i^{th}$ lag"
   ]
  },
  {
   "cell_type": "code",
   "execution_count": 1,
   "metadata": {
    "execution": {
     "iopub.status.idle": "2020-12-17T13:29:41.371594Z",
     "shell.execute_reply": "2020-12-17T13:29:41.370794Z",
     "shell.execute_reply.started": "2020-12-17T13:29:39.742789Z"
    }
   },
   "outputs": [
    {
     "name": "stderr",
     "output_type": "stream",
     "text": [
      "../utils.py:32: SettingWithCopyWarning: \n",
      "A value is trying to be set on a copy of a slice from a DataFrame.\n",
      "Try using .loc[row_indexer,col_indexer] = value instead\n",
      "\n",
      "See the caveats in the documentation: https://pandas.pydata.org/pandas-docs/stable/user_guide/indexing.html#returning-a-view-versus-a-copy\n",
      "  df['wn'] = wn\n"
     ]
    },
    {
     "data": {
      "text/html": [
       "<div>\n",
       "<style scoped>\n",
       "    .dataframe tbody tr th:only-of-type {\n",
       "        vertical-align: middle;\n",
       "    }\n",
       "\n",
       "    .dataframe tbody tr th {\n",
       "        vertical-align: top;\n",
       "    }\n",
       "\n",
       "    .dataframe thead th {\n",
       "        text-align: right;\n",
       "    }\n",
       "</style>\n",
       "<table border=\"1\" class=\"dataframe\">\n",
       "  <thead>\n",
       "    <tr style=\"text-align: right;\">\n",
       "      <th></th>\n",
       "      <th>market_value</th>\n",
       "      <th>wn</th>\n",
       "      <th>rw</th>\n",
       "    </tr>\n",
       "    <tr>\n",
       "      <th>date</th>\n",
       "      <th></th>\n",
       "      <th></th>\n",
       "      <th></th>\n",
       "    </tr>\n",
       "  </thead>\n",
       "  <tbody>\n",
       "    <tr>\n",
       "      <th>1994-01-07</th>\n",
       "      <td>3445.98</td>\n",
       "      <td>6366.556485</td>\n",
       "      <td>1122.139662</td>\n",
       "    </tr>\n",
       "    <tr>\n",
       "      <th>1994-01-10</th>\n",
       "      <td>3440.58</td>\n",
       "      <td>5762.993004</td>\n",
       "      <td>1080.347860</td>\n",
       "    </tr>\n",
       "    <tr>\n",
       "      <th>1994-01-11</th>\n",
       "      <td>3413.77</td>\n",
       "      <td>2843.773561</td>\n",
       "      <td>1082.095245</td>\n",
       "    </tr>\n",
       "    <tr>\n",
       "      <th>1994-01-12</th>\n",
       "      <td>3372.02</td>\n",
       "      <td>4051.502441</td>\n",
       "      <td>1083.639265</td>\n",
       "    </tr>\n",
       "    <tr>\n",
       "      <th>1994-01-13</th>\n",
       "      <td>3360.01</td>\n",
       "      <td>5829.741600</td>\n",
       "      <td>1067.146255</td>\n",
       "    </tr>\n",
       "  </tbody>\n",
       "</table>\n",
       "</div>"
      ],
      "text/plain": [
       "            market_value           wn           rw\n",
       "date                                              \n",
       "1994-01-07       3445.98  6366.556485  1122.139662\n",
       "1994-01-10       3440.58  5762.993004  1080.347860\n",
       "1994-01-11       3413.77  2843.773561  1082.095245\n",
       "1994-01-12       3372.02  4051.502441  1083.639265\n",
       "1994-01-13       3360.01  5829.741600  1067.146255"
      ]
     },
     "execution_count": 1,
     "metadata": {},
     "output_type": "execute_result"
    }
   ],
   "source": [
    "import sys\n",
    "sys.path.append('..')\n",
    "import utils\n",
    "import statsmodels.tsa.stattools as sts\n",
    "import matplotlib.pyplot as plt\n",
    "import statsmodels.graphics.tsaplots as sgt\n",
    "from statsmodels.tsa.arima_model import ARMA\n",
    "\n",
    "df, df_test = utils.get_index_2018_market_value_splits(market_name='ftse')\n",
    "df['rw'] = utils.get_random_walk_data()\n",
    "df.head()"
   ]
  },
  {
   "cell_type": "code",
   "execution_count": 2,
   "metadata": {
    "execution": {
     "iopub.execute_input": "2020-12-17T13:29:41.373503Z",
     "iopub.status.busy": "2020-12-17T13:29:41.373274Z",
     "iopub.status.idle": "2020-12-17T13:29:41.380889Z",
     "shell.execute_reply": "2020-12-17T13:29:41.380213Z",
     "shell.execute_reply.started": "2020-12-17T13:29:41.373478Z"
    }
   },
   "outputs": [],
   "source": [
    "df[\"returns\"] = df.market_value.pct_change(1).mul(100)"
   ]
  },
  {
   "cell_type": "code",
   "execution_count": 3,
   "metadata": {
    "execution": {
     "iopub.execute_input": "2020-12-17T13:29:41.383221Z",
     "iopub.status.busy": "2020-12-17T13:29:41.382969Z",
     "iopub.status.idle": "2020-12-17T13:30:22.282628Z",
     "shell.execute_reply": "2020-12-17T13:30:22.281074Z",
     "shell.execute_reply.started": "2020-12-17T13:29:41.383195Z"
    }
   },
   "outputs": [
    {
     "name": "stderr",
     "output_type": "stream",
     "text": [
      "/Users/shankar/dev/tools/anaconda3/envs/time/lib/python3.8/site-packages/statsmodels/tsa/arima_model.py:472: FutureWarning: \n",
      "statsmodels.tsa.arima_model.ARMA and statsmodels.tsa.arima_model.ARIMA have\n",
      "been deprecated in favor of statsmodels.tsa.arima.model.ARIMA (note the .\n",
      "between arima and model) and\n",
      "statsmodels.tsa.SARIMAX. These will be removed after the 0.12 release.\n",
      "\n",
      "statsmodels.tsa.arima.model.ARIMA makes use of the statespace framework and\n",
      "is both well tested and maintained.\n",
      "\n",
      "To silence this warning and continue using ARMA and ARIMA until they are\n",
      "removed, use:\n",
      "\n",
      "import warnings\n",
      "warnings.filterwarnings('ignore', 'statsmodels.tsa.arima_model.ARMA',\n",
      "                        FutureWarning)\n",
      "warnings.filterwarnings('ignore', 'statsmodels.tsa.arima_model.ARIMA',\n",
      "                        FutureWarning)\n",
      "\n",
      "  warnings.warn(ARIMA_DEPRECATION_WARN, FutureWarning)\n"
     ]
    },
    {
     "name": "stdout",
     "output_type": "stream",
     "text": [
      "ARMA(1, 1): \tLL = -7916.499900211403, \tAIC = 15840.999800422805\n",
      "LLR test, Lags: 1, p-value: None\n",
      "ARMA(2, 2): \tLL = -7913.222797830707, \tAIC = 15838.445595661415\n",
      "LLR test, Lags: 2, p-value: 0.01\n",
      "ARMA(3, 3): \tLL = -7893.514759917186, \tAIC = 15803.029519834372\n",
      "LLR test, Lags: 3, p-value: 0.0\n",
      "ARMA(4, 4): \tLL = -7889.155558007078, \tAIC = 15798.311116014156\n",
      "LLR test, Lags: 4, p-value: 0.003\n",
      "ARMA(5, 5): \tLL = -7882.160381598054, \tAIC = 15788.320763196109\n",
      "LLR test, Lags: 5, p-value: 0.0\n"
     ]
    },
    {
     "ename": "ValueError",
     "evalue": "The computed initial AR coefficients are not stationary\nYou should induce stationarity, choose a different model order, or you can\npass your own start_params.",
     "output_type": "error",
     "traceback": [
      "\u001b[0;31m---------------------------------------------------------------------------\u001b[0m",
      "\u001b[0;31mValueError\u001b[0m                                Traceback (most recent call last)",
      "\u001b[0;32m<ipython-input-3-01ffe09349dd>\u001b[0m in \u001b[0;36m<module>\u001b[0;34m\u001b[0m\n\u001b[1;32m      4\u001b[0m \u001b[0mmodel_ar_x_1\u001b[0m \u001b[0;34m=\u001b[0m \u001b[0;32mNone\u001b[0m\u001b[0;34m\u001b[0m\u001b[0;34m\u001b[0m\u001b[0m\n\u001b[1;32m      5\u001b[0m \u001b[0;32mfor\u001b[0m \u001b[0mi\u001b[0m \u001b[0;32min\u001b[0m \u001b[0mnp\u001b[0m\u001b[0;34m.\u001b[0m\u001b[0marange\u001b[0m\u001b[0;34m(\u001b[0m\u001b[0;36m1\u001b[0m\u001b[0;34m,\u001b[0m \u001b[0;36m10\u001b[0m\u001b[0;34m)\u001b[0m\u001b[0;34m:\u001b[0m\u001b[0;34m\u001b[0m\u001b[0;34m\u001b[0m\u001b[0m\n\u001b[0;32m----> 6\u001b[0;31m     \u001b[0;34m(\u001b[0m\u001b[0mmodel_ar_x_1\u001b[0m\u001b[0;34m,\u001b[0m \u001b[0mllr_x\u001b[0m\u001b[0;34m)\u001b[0m \u001b[0;34m=\u001b[0m \u001b[0mutils\u001b[0m\u001b[0;34m.\u001b[0m\u001b[0mARMA_LLR_test\u001b[0m\u001b[0;34m(\u001b[0m\u001b[0mdf\u001b[0m\u001b[0;34m.\u001b[0m\u001b[0mreturns\u001b[0m\u001b[0;34m[\u001b[0m\u001b[0;36m1\u001b[0m\u001b[0;34m:\u001b[0m\u001b[0;34m]\u001b[0m\u001b[0;34m,\u001b[0m \u001b[0mmodel_ar_x_1\u001b[0m\u001b[0;34m,\u001b[0m \u001b[0morder\u001b[0m\u001b[0;34m=\u001b[0m\u001b[0;34m(\u001b[0m\u001b[0mi\u001b[0m\u001b[0;34m,\u001b[0m \u001b[0mi\u001b[0m\u001b[0;34m)\u001b[0m\u001b[0;34m)\u001b[0m\u001b[0;34m\u001b[0m\u001b[0;34m\u001b[0m\u001b[0m\n\u001b[0m\u001b[1;32m      7\u001b[0m     \u001b[0mmodels\u001b[0m\u001b[0;34m.\u001b[0m\u001b[0mappend\u001b[0m\u001b[0;34m(\u001b[0m\u001b[0mmodel_ar_x_1\u001b[0m\u001b[0;34m)\u001b[0m\u001b[0;34m\u001b[0m\u001b[0;34m\u001b[0m\u001b[0m\n\u001b[1;32m      8\u001b[0m     \u001b[0mllrs\u001b[0m\u001b[0;34m.\u001b[0m\u001b[0mappend\u001b[0m\u001b[0;34m(\u001b[0m\u001b[0mllr_x\u001b[0m\u001b[0;34m)\u001b[0m\u001b[0;34m\u001b[0m\u001b[0;34m\u001b[0m\u001b[0m\n",
      "\u001b[0;32m~/dev/code/ds/main/data_science/coursera/u-time_series_analysis/utils.py\u001b[0m in \u001b[0;36mARMA_LLR_test\u001b[0;34m(data, model_ar_x_1, order)\u001b[0m\n\u001b[1;32m     56\u001b[0m \u001b[0;32mdef\u001b[0m \u001b[0mARMA_LLR_test\u001b[0m\u001b[0;34m(\u001b[0m\u001b[0mdata\u001b[0m\u001b[0;34m,\u001b[0m \u001b[0mmodel_ar_x_1\u001b[0m\u001b[0;34m,\u001b[0m \u001b[0morder\u001b[0m\u001b[0;34m)\u001b[0m\u001b[0;34m:\u001b[0m\u001b[0;34m\u001b[0m\u001b[0;34m\u001b[0m\u001b[0m\n\u001b[1;32m     57\u001b[0m     \u001b[0mmodel_ar_x\u001b[0m \u001b[0;34m=\u001b[0m \u001b[0mARMA\u001b[0m\u001b[0;34m(\u001b[0m\u001b[0mdata\u001b[0m\u001b[0;34m,\u001b[0m \u001b[0morder\u001b[0m\u001b[0;34m=\u001b[0m\u001b[0morder\u001b[0m\u001b[0;34m)\u001b[0m\u001b[0;34m\u001b[0m\u001b[0;34m\u001b[0m\u001b[0m\n\u001b[0;32m---> 58\u001b[0;31m     \u001b[0mresults_ar_x\u001b[0m \u001b[0;34m=\u001b[0m \u001b[0mmodel_ar_x\u001b[0m\u001b[0;34m.\u001b[0m\u001b[0mfit\u001b[0m\u001b[0;34m(\u001b[0m\u001b[0;34m)\u001b[0m\u001b[0;34m\u001b[0m\u001b[0;34m\u001b[0m\u001b[0m\n\u001b[0m\u001b[1;32m     59\u001b[0m     \u001b[0mllr\u001b[0m \u001b[0;34m=\u001b[0m \u001b[0;32mNone\u001b[0m\u001b[0;34m\u001b[0m\u001b[0;34m\u001b[0m\u001b[0m\n\u001b[1;32m     60\u001b[0m     \u001b[0;32mif\u001b[0m\u001b[0;34m(\u001b[0m\u001b[0mmodel_ar_x_1\u001b[0m \u001b[0;34m!=\u001b[0m \u001b[0;32mNone\u001b[0m\u001b[0;34m)\u001b[0m\u001b[0;34m:\u001b[0m\u001b[0;34m\u001b[0m\u001b[0;34m\u001b[0m\u001b[0m\n",
      "\u001b[0;32m~/dev/tools/anaconda3/envs/time/lib/python3.8/site-packages/statsmodels/tsa/arima_model.py\u001b[0m in \u001b[0;36mfit\u001b[0;34m(self, start_params, trend, method, transparams, solver, maxiter, full_output, disp, callback, start_ar_lags, **kwargs)\u001b[0m\n\u001b[1;32m   1014\u001b[0m             \u001b[0mstart_params\u001b[0m \u001b[0;34m=\u001b[0m \u001b[0marray_like\u001b[0m\u001b[0;34m(\u001b[0m\u001b[0mstart_params\u001b[0m\u001b[0;34m,\u001b[0m \u001b[0;34m'start_params'\u001b[0m\u001b[0;34m)\u001b[0m\u001b[0;34m\u001b[0m\u001b[0;34m\u001b[0m\u001b[0m\n\u001b[1;32m   1015\u001b[0m         \u001b[0;32melse\u001b[0m\u001b[0;34m:\u001b[0m  \u001b[0;31m# estimate starting parameters\u001b[0m\u001b[0;34m\u001b[0m\u001b[0;34m\u001b[0m\u001b[0m\n\u001b[0;32m-> 1016\u001b[0;31m             start_params = self._fit_start_params((k_ar, k_ma, k), method,\n\u001b[0m\u001b[1;32m   1017\u001b[0m                                                   start_ar_lags)\n\u001b[1;32m   1018\u001b[0m \u001b[0;34m\u001b[0m\u001b[0m\n",
      "\u001b[0;32m~/dev/tools/anaconda3/envs/time/lib/python3.8/site-packages/statsmodels/tsa/arima_model.py\u001b[0m in \u001b[0;36m_fit_start_params\u001b[0;34m(self, order, method, start_ar_lags)\u001b[0m\n\u001b[1;32m    606\u001b[0m                 \u001b[0;32mreturn\u001b[0m \u001b[0;34m-\u001b[0m\u001b[0mself\u001b[0m\u001b[0;34m.\u001b[0m\u001b[0mloglike_css\u001b[0m\u001b[0;34m(\u001b[0m\u001b[0mparams\u001b[0m\u001b[0;34m)\u001b[0m\u001b[0;34m\u001b[0m\u001b[0;34m\u001b[0m\u001b[0m\n\u001b[1;32m    607\u001b[0m \u001b[0;34m\u001b[0m\u001b[0m\n\u001b[0;32m--> 608\u001b[0;31m             \u001b[0mstart_params\u001b[0m \u001b[0;34m=\u001b[0m \u001b[0mself\u001b[0m\u001b[0;34m.\u001b[0m\u001b[0m_fit_start_params_hr\u001b[0m\u001b[0;34m(\u001b[0m\u001b[0morder\u001b[0m\u001b[0;34m,\u001b[0m \u001b[0mstart_ar_lags\u001b[0m\u001b[0;34m)\u001b[0m\u001b[0;34m\u001b[0m\u001b[0;34m\u001b[0m\u001b[0m\n\u001b[0m\u001b[1;32m    609\u001b[0m             \u001b[0;32mif\u001b[0m \u001b[0mself\u001b[0m\u001b[0;34m.\u001b[0m\u001b[0mtransparams\u001b[0m\u001b[0;34m:\u001b[0m\u001b[0;34m\u001b[0m\u001b[0;34m\u001b[0m\u001b[0m\n\u001b[1;32m    610\u001b[0m                 \u001b[0mstart_params\u001b[0m \u001b[0;34m=\u001b[0m \u001b[0mself\u001b[0m\u001b[0;34m.\u001b[0m\u001b[0m_invtransparams\u001b[0m\u001b[0;34m(\u001b[0m\u001b[0mstart_params\u001b[0m\u001b[0;34m)\u001b[0m\u001b[0;34m\u001b[0m\u001b[0;34m\u001b[0m\u001b[0m\n",
      "\u001b[0;32m~/dev/tools/anaconda3/envs/time/lib/python3.8/site-packages/statsmodels/tsa/arima_model.py\u001b[0m in \u001b[0;36m_fit_start_params_hr\u001b[0;34m(self, order, start_ar_lags)\u001b[0m\n\u001b[1;32m    584\u001b[0m         if p and not np.all(np.abs(np.roots(np.r_[1, -start_params[k:k + p]]\n\u001b[1;32m    585\u001b[0m                                             )) < 1):\n\u001b[0;32m--> 586\u001b[0;31m             raise ValueError(\"The computed initial AR coefficients are not \"\n\u001b[0m\u001b[1;32m    587\u001b[0m                              \u001b[0;34m\"stationary\\nYou should induce stationarity, \"\u001b[0m\u001b[0;34m\u001b[0m\u001b[0;34m\u001b[0m\u001b[0m\n\u001b[1;32m    588\u001b[0m                              \u001b[0;34m\"choose a different model order, or you can\\n\"\u001b[0m\u001b[0;34m\u001b[0m\u001b[0;34m\u001b[0m\u001b[0m\n",
      "\u001b[0;31mValueError\u001b[0m: The computed initial AR coefficients are not stationary\nYou should induce stationarity, choose a different model order, or you can\npass your own start_params."
     ]
    }
   ],
   "source": [
    "import numpy as np\n",
    "models = [None]\n",
    "llrs = []\n",
    "model_ar_x_1 = None\n",
    "for i in np.arange(1, 10):\n",
    "    (model_ar_x_1, llr_x) = utils.ARMA_LLR_test(df.returns[1:], model_ar_x_1, order=(i, i))\n",
    "    models.append(model_ar_x_1)\n",
    "    llrs.append(llr_x)\n",
    "    print(f'LLR test, Lags: {i}, p-value: {llr_x}')"
   ]
  },
  {
   "cell_type": "code",
   "execution_count": 4,
   "metadata": {
    "execution": {
     "iopub.execute_input": "2020-12-17T13:30:28.019449Z",
     "iopub.status.busy": "2020-12-17T13:30:28.019143Z",
     "iopub.status.idle": "2020-12-17T13:30:29.333003Z",
     "shell.execute_reply": "2020-12-17T13:30:29.332359Z",
     "shell.execute_reply.started": "2020-12-17T13:30:28.019393Z"
    }
   },
   "outputs": [
    {
     "data": {
      "text/html": [
       "<table class=\"simpletable\">\n",
       "<caption>ARMA Model Results</caption>\n",
       "<tr>\n",
       "  <th>Dep. Variable:</th>      <td>returns</td>     <th>  No. Observations:  </th>   <td>5020</td>   \n",
       "</tr>\n",
       "<tr>\n",
       "  <th>Model:</th>            <td>ARMA(1, 1)</td>    <th>  Log Likelihood     </th> <td>-7916.500</td>\n",
       "</tr>\n",
       "<tr>\n",
       "  <th>Method:</th>             <td>css-mle</td>     <th>  S.D. of innovations</th>   <td>1.171</td>  \n",
       "</tr>\n",
       "<tr>\n",
       "  <th>Date:</th>          <td>Thu, 17 Dec 2020</td> <th>  AIC                </th> <td>15841.000</td>\n",
       "</tr>\n",
       "<tr>\n",
       "  <th>Time:</th>              <td>19:00:29</td>     <th>  BIC                </th> <td>15867.085</td>\n",
       "</tr>\n",
       "<tr>\n",
       "  <th>Sample:</th>           <td>01-10-1994</td>    <th>  HQIC               </th> <td>15850.140</td>\n",
       "</tr>\n",
       "<tr>\n",
       "  <th></th>                 <td>- 04-05-2013</td>   <th>                     </th>     <td> </td>    \n",
       "</tr>\n",
       "</table>\n",
       "<table class=\"simpletable\">\n",
       "<tr>\n",
       "        <td></td>           <th>coef</th>     <th>std err</th>      <th>z</th>      <th>P>|z|</th>  <th>[0.025</th>    <th>0.975]</th>  \n",
       "</tr>\n",
       "<tr>\n",
       "  <th>const</th>         <td>    0.0189</td> <td>    0.013</td> <td>    1.446</td> <td> 0.148</td> <td>   -0.007</td> <td>    0.045</td>\n",
       "</tr>\n",
       "<tr>\n",
       "  <th>ar.L1.returns</th> <td>    0.7649</td> <td>    0.067</td> <td>   11.349</td> <td> 0.000</td> <td>    0.633</td> <td>    0.897</td>\n",
       "</tr>\n",
       "<tr>\n",
       "  <th>ma.L1.returns</th> <td>   -0.8141</td> <td>    0.061</td> <td>  -13.406</td> <td> 0.000</td> <td>   -0.933</td> <td>   -0.695</td>\n",
       "</tr>\n",
       "</table>\n",
       "<table class=\"simpletable\">\n",
       "<caption>Roots</caption>\n",
       "<tr>\n",
       "    <td></td>   <th>            Real</th>  <th>         Imaginary</th> <th>         Modulus</th>  <th>        Frequency</th>\n",
       "</tr>\n",
       "<tr>\n",
       "  <th>AR.1</th> <td>           1.3074</td> <td>          +0.0000j</td> <td>           1.3074</td> <td>           0.0000</td>\n",
       "</tr>\n",
       "<tr>\n",
       "  <th>MA.1</th> <td>           1.2284</td> <td>          +0.0000j</td> <td>           1.2284</td> <td>           0.0000</td>\n",
       "</tr>\n",
       "</table>"
      ],
      "text/plain": [
       "<class 'statsmodels.iolib.summary.Summary'>\n",
       "\"\"\"\n",
       "                              ARMA Model Results                              \n",
       "==============================================================================\n",
       "Dep. Variable:                returns   No. Observations:                 5020\n",
       "Model:                     ARMA(1, 1)   Log Likelihood               -7916.500\n",
       "Method:                       css-mle   S.D. of innovations              1.171\n",
       "Date:                Thu, 17 Dec 2020   AIC                          15841.000\n",
       "Time:                        19:00:29   BIC                          15867.085\n",
       "Sample:                    01-10-1994   HQIC                         15850.140\n",
       "                         - 04-05-2013                                         \n",
       "=================================================================================\n",
       "                    coef    std err          z      P>|z|      [0.025      0.975]\n",
       "---------------------------------------------------------------------------------\n",
       "const             0.0189      0.013      1.446      0.148      -0.007       0.045\n",
       "ar.L1.returns     0.7649      0.067     11.349      0.000       0.633       0.897\n",
       "ma.L1.returns    -0.8141      0.061    -13.406      0.000      -0.933      -0.695\n",
       "                                    Roots                                    \n",
       "=============================================================================\n",
       "                  Real          Imaginary           Modulus         Frequency\n",
       "-----------------------------------------------------------------------------\n",
       "AR.1            1.3074           +0.0000j            1.3074            0.0000\n",
       "MA.1            1.2284           +0.0000j            1.2284            0.0000\n",
       "-----------------------------------------------------------------------------\n",
       "\"\"\""
      ]
     },
     "execution_count": 4,
     "metadata": {},
     "output_type": "execute_result"
    }
   ],
   "source": [
    "res = models[1].fit()\n",
    "res.summary()"
   ]
  },
  {
   "cell_type": "markdown",
   "metadata": {},
   "source": [
    "- A positive tendency between past and present values\n",
    "- Returns move in trends of consecutive positive and negative values\n",
    "- Periods of persistent increase or decreases when translated to prices"
   ]
  },
  {
   "cell_type": "code",
   "execution_count": 5,
   "metadata": {
    "execution": {
     "iopub.execute_input": "2020-12-17T13:30:29.334846Z",
     "iopub.status.busy": "2020-12-17T13:30:29.334607Z",
     "iopub.status.idle": "2020-12-17T13:30:31.551531Z",
     "shell.execute_reply": "2020-12-17T13:30:31.550614Z",
     "shell.execute_reply.started": "2020-12-17T13:30:29.334822Z"
    }
   },
   "outputs": [
    {
     "name": "stderr",
     "output_type": "stream",
     "text": [
      "/Users/shankar/dev/tools/anaconda3/envs/time/lib/python3.8/site-packages/statsmodels/tsa/arima_model.py:472: FutureWarning: \n",
      "statsmodels.tsa.arima_model.ARMA and statsmodels.tsa.arima_model.ARIMA have\n",
      "been deprecated in favor of statsmodels.tsa.arima.model.ARIMA (note the .\n",
      "between arima and model) and\n",
      "statsmodels.tsa.SARIMAX. These will be removed after the 0.12 release.\n",
      "\n",
      "statsmodels.tsa.arima.model.ARIMA makes use of the statespace framework and\n",
      "is both well tested and maintained.\n",
      "\n",
      "To silence this warning and continue using ARMA and ARIMA until they are\n",
      "removed, use:\n",
      "\n",
      "import warnings\n",
      "warnings.filterwarnings('ignore', 'statsmodels.tsa.arima_model.ARMA',\n",
      "                        FutureWarning)\n",
      "warnings.filterwarnings('ignore', 'statsmodels.tsa.arima_model.ARIMA',\n",
      "                        FutureWarning)\n",
      "\n",
      "  warnings.warn(ARIMA_DEPRECATION_WARN, FutureWarning)\n"
     ]
    },
    {
     "name": "stdout",
     "output_type": "stream",
     "text": [
      "\n",
      "ARMA vs AR 0.0\n",
      "\n",
      "ARMA vs MA 0.0\n"
     ]
    }
   ],
   "source": [
    "model_ret_ar_1 = ARMA(df.returns[1:], order=(1, 0))\n",
    "model_ret_ma_1 = ARMA(df.returns[1:], order=(0, 1))\n",
    "\n",
    "print(f'\\nARMA vs AR {utils.LLR_test(model_ret_ar_1, models[1])}')\n",
    "print(f'\\nARMA vs MA {utils.LLR_test(model_ret_ma_1, models[1])}')"
   ]
  },
  {
   "cell_type": "markdown",
   "metadata": {
    "execution": {
     "iopub.execute_input": "2020-12-17T09:56:12.803310Z",
     "iopub.status.busy": "2020-12-17T09:56:12.802908Z",
     "iopub.status.idle": "2020-12-17T09:56:12.809300Z",
     "shell.execute_reply": "2020-12-17T09:56:12.807710Z",
     "shell.execute_reply.started": "2020-12-17T09:56:12.803264Z"
    }
   },
   "source": [
    "- Past estimators include both past values and past errors\n",
    "- $residual = actual - predicted$ so $predicted = actual - residual$"
   ]
  },
  {
   "cell_type": "markdown",
   "metadata": {},
   "source": [
    "## Higher Lag ARMA Models"
   ]
  },
  {
   "cell_type": "code",
   "execution_count": 6,
   "metadata": {
    "execution": {
     "iopub.execute_input": "2020-12-17T13:30:31.555192Z",
     "iopub.status.busy": "2020-12-17T13:30:31.554461Z",
     "iopub.status.idle": "2020-12-17T13:30:34.208091Z",
     "shell.execute_reply": "2020-12-17T13:30:34.207305Z",
     "shell.execute_reply.started": "2020-12-17T13:30:31.555143Z"
    }
   },
   "outputs": [],
   "source": [
    "model_ret_ar_3_ma_3 = models[3]\n",
    "results_ret_ar_3_ma_3 = model_ret_ar_3_ma_3.fit()"
   ]
  },
  {
   "cell_type": "code",
   "execution_count": 7,
   "metadata": {
    "execution": {
     "iopub.execute_input": "2020-12-17T13:30:34.210096Z",
     "iopub.status.busy": "2020-12-17T13:30:34.209710Z",
     "iopub.status.idle": "2020-12-17T13:30:37.664498Z",
     "shell.execute_reply": "2020-12-17T13:30:37.663835Z",
     "shell.execute_reply.started": "2020-12-17T13:30:34.210017Z"
    }
   },
   "outputs": [
    {
     "name": "stdout",
     "output_type": "stream",
     "text": [
      "\n",
      "ARMA vs AR 0.0\n"
     ]
    }
   ],
   "source": [
    "print(f'\\nARMA vs AR {utils.LLR_test(models[1], models[3], DF=4)}')"
   ]
  },
  {
   "cell_type": "code",
   "execution_count": 8,
   "metadata": {
    "execution": {
     "iopub.execute_input": "2020-12-17T13:30:37.665852Z",
     "iopub.status.busy": "2020-12-17T13:30:37.665595Z",
     "iopub.status.idle": "2020-12-17T13:30:38.372885Z",
     "shell.execute_reply": "2020-12-17T13:30:38.372186Z",
     "shell.execute_reply.started": "2020-12-17T13:30:37.665830Z"
    }
   },
   "outputs": [
    {
     "data": {
      "text/html": [
       "<table class=\"simpletable\">\n",
       "<caption>ARMA Model Results</caption>\n",
       "<tr>\n",
       "  <th>Dep. Variable:</th>      <td>returns</td>     <th>  No. Observations:  </th>   <td>5020</td>   \n",
       "</tr>\n",
       "<tr>\n",
       "  <th>Model:</th>            <td>ARMA(3, 3)</td>    <th>  Log Likelihood     </th> <td>-7893.515</td>\n",
       "</tr>\n",
       "<tr>\n",
       "  <th>Method:</th>             <td>css-mle</td>     <th>  S.D. of innovations</th>   <td>1.166</td>  \n",
       "</tr>\n",
       "<tr>\n",
       "  <th>Date:</th>          <td>Thu, 17 Dec 2020</td> <th>  AIC                </th> <td>15803.030</td>\n",
       "</tr>\n",
       "<tr>\n",
       "  <th>Time:</th>              <td>19:00:37</td>     <th>  BIC                </th> <td>15855.199</td>\n",
       "</tr>\n",
       "<tr>\n",
       "  <th>Sample:</th>           <td>01-10-1994</td>    <th>  HQIC               </th> <td>15821.310</td>\n",
       "</tr>\n",
       "<tr>\n",
       "  <th></th>                 <td>- 04-05-2013</td>   <th>                     </th>     <td> </td>    \n",
       "</tr>\n",
       "</table>\n",
       "<table class=\"simpletable\">\n",
       "<tr>\n",
       "        <td></td>           <th>coef</th>     <th>std err</th>      <th>z</th>      <th>P>|z|</th>  <th>[0.025</th>    <th>0.975]</th>  \n",
       "</tr>\n",
       "<tr>\n",
       "  <th>const</th>         <td>    0.0189</td> <td>    0.014</td> <td>    1.395</td> <td> 0.163</td> <td>   -0.008</td> <td>    0.045</td>\n",
       "</tr>\n",
       "<tr>\n",
       "  <th>ar.L1.returns</th> <td>   -0.1898</td> <td>    0.104</td> <td>   -1.827</td> <td> 0.068</td> <td>   -0.393</td> <td>    0.014</td>\n",
       "</tr>\n",
       "<tr>\n",
       "  <th>ar.L2.returns</th> <td>   -0.2942</td> <td>    0.087</td> <td>   -3.389</td> <td> 0.001</td> <td>   -0.464</td> <td>   -0.124</td>\n",
       "</tr>\n",
       "<tr>\n",
       "  <th>ar.L3.returns</th> <td>    0.4459</td> <td>    0.138</td> <td>    3.225</td> <td> 0.001</td> <td>    0.175</td> <td>    0.717</td>\n",
       "</tr>\n",
       "<tr>\n",
       "  <th>ma.L1.returns</th> <td>    0.1707</td> <td>    0.099</td> <td>    1.726</td> <td> 0.084</td> <td>   -0.023</td> <td>    0.365</td>\n",
       "</tr>\n",
       "<tr>\n",
       "  <th>ma.L2.returns</th> <td>    0.2277</td> <td>    0.084</td> <td>    2.701</td> <td> 0.007</td> <td>    0.062</td> <td>    0.393</td>\n",
       "</tr>\n",
       "<tr>\n",
       "  <th>ma.L3.returns</th> <td>   -0.5432</td> <td>    0.127</td> <td>   -4.270</td> <td> 0.000</td> <td>   -0.793</td> <td>   -0.294</td>\n",
       "</tr>\n",
       "</table>\n",
       "<table class=\"simpletable\">\n",
       "<caption>Roots</caption>\n",
       "<tr>\n",
       "    <td></td>   <th>            Real</th>  <th>         Imaginary</th> <th>         Modulus</th>  <th>        Frequency</th>\n",
       "</tr>\n",
       "<tr>\n",
       "  <th>AR.1</th> <td>          -0.5168</td> <td>          -1.0283j</td> <td>           1.1508</td> <td>          -0.3241</td>\n",
       "</tr>\n",
       "<tr>\n",
       "  <th>AR.2</th> <td>          -0.5168</td> <td>          +1.0283j</td> <td>           1.1508</td> <td>           0.3241</td>\n",
       "</tr>\n",
       "<tr>\n",
       "  <th>AR.3</th> <td>           1.6932</td> <td>          -0.0000j</td> <td>           1.6932</td> <td>          -0.0000</td>\n",
       "</tr>\n",
       "<tr>\n",
       "  <th>MA.1</th> <td>          -0.5286</td> <td>          -0.9835j</td> <td>           1.1166</td> <td>          -0.3285</td>\n",
       "</tr>\n",
       "<tr>\n",
       "  <th>MA.2</th> <td>          -0.5286</td> <td>          +0.9835j</td> <td>           1.1166</td> <td>           0.3285</td>\n",
       "</tr>\n",
       "<tr>\n",
       "  <th>MA.3</th> <td>           1.4764</td> <td>          -0.0000j</td> <td>           1.4764</td> <td>          -0.0000</td>\n",
       "</tr>\n",
       "</table>"
      ],
      "text/plain": [
       "<class 'statsmodels.iolib.summary.Summary'>\n",
       "\"\"\"\n",
       "                              ARMA Model Results                              \n",
       "==============================================================================\n",
       "Dep. Variable:                returns   No. Observations:                 5020\n",
       "Model:                     ARMA(3, 3)   Log Likelihood               -7893.515\n",
       "Method:                       css-mle   S.D. of innovations              1.166\n",
       "Date:                Thu, 17 Dec 2020   AIC                          15803.030\n",
       "Time:                        19:00:37   BIC                          15855.199\n",
       "Sample:                    01-10-1994   HQIC                         15821.310\n",
       "                         - 04-05-2013                                         \n",
       "=================================================================================\n",
       "                    coef    std err          z      P>|z|      [0.025      0.975]\n",
       "---------------------------------------------------------------------------------\n",
       "const             0.0189      0.014      1.395      0.163      -0.008       0.045\n",
       "ar.L1.returns    -0.1898      0.104     -1.827      0.068      -0.393       0.014\n",
       "ar.L2.returns    -0.2942      0.087     -3.389      0.001      -0.464      -0.124\n",
       "ar.L3.returns     0.4459      0.138      3.225      0.001       0.175       0.717\n",
       "ma.L1.returns     0.1707      0.099      1.726      0.084      -0.023       0.365\n",
       "ma.L2.returns     0.2277      0.084      2.701      0.007       0.062       0.393\n",
       "ma.L3.returns    -0.5432      0.127     -4.270      0.000      -0.793      -0.294\n",
       "                                    Roots                                    \n",
       "=============================================================================\n",
       "                  Real          Imaginary           Modulus         Frequency\n",
       "-----------------------------------------------------------------------------\n",
       "AR.1           -0.5168           -1.0283j            1.1508           -0.3241\n",
       "AR.2           -0.5168           +1.0283j            1.1508            0.3241\n",
       "AR.3            1.6932           -0.0000j            1.6932           -0.0000\n",
       "MA.1           -0.5286           -0.9835j            1.1166           -0.3285\n",
       "MA.2           -0.5286           +0.9835j            1.1166            0.3285\n",
       "MA.3            1.4764           -0.0000j            1.4764           -0.0000\n",
       "-----------------------------------------------------------------------------\n",
       "\"\"\""
      ]
     },
     "execution_count": 8,
     "metadata": {},
     "output_type": "execute_result"
    }
   ],
   "source": [
    "results_ret_ar_3_ma_3.summary()"
   ]
  },
  {
   "cell_type": "code",
   "execution_count": 17,
   "metadata": {
    "execution": {
     "iopub.execute_input": "2020-12-17T14:35:24.680107Z",
     "iopub.status.busy": "2020-12-17T14:35:24.679848Z",
     "iopub.status.idle": "2020-12-17T14:37:53.612228Z",
     "shell.execute_reply": "2020-12-17T14:37:53.611421Z",
     "shell.execute_reply.started": "2020-12-17T14:35:24.680081Z"
    }
   },
   "outputs": [
    {
     "name": "stderr",
     "output_type": "stream",
     "text": [
      "/Users/shankar/dev/tools/anaconda3/envs/time/lib/python3.8/site-packages/statsmodels/tsa/arima_model.py:472: FutureWarning: \n",
      "statsmodels.tsa.arima_model.ARMA and statsmodels.tsa.arima_model.ARIMA have\n",
      "been deprecated in favor of statsmodels.tsa.arima.model.ARIMA (note the .\n",
      "between arima and model) and\n",
      "statsmodels.tsa.SARIMAX. These will be removed after the 0.12 release.\n",
      "\n",
      "statsmodels.tsa.arima.model.ARIMA makes use of the statespace framework and\n",
      "is both well tested and maintained.\n",
      "\n",
      "To silence this warning and continue using ARMA and ARIMA until they are\n",
      "removed, use:\n",
      "\n",
      "import warnings\n",
      "warnings.filterwarnings('ignore', 'statsmodels.tsa.arima_model.ARMA',\n",
      "                        FutureWarning)\n",
      "warnings.filterwarnings('ignore', 'statsmodels.tsa.arima_model.ARIMA',\n",
      "                        FutureWarning)\n",
      "\n",
      "  warnings.warn(ARIMA_DEPRECATION_WARN, FutureWarning)\n"
     ]
    },
    {
     "name": "stdout",
     "output_type": "stream",
     "text": [
      "ARMA(1, 1): \tLL = -7916.499900211403, \tAIC = 15840.999800422805\n",
      "LLR test, Lags: (1, 1), 1, p-value: None\n",
      "ARMA(1, 2): \tLL = -7913.670297876098, \tAIC = 15837.340595752195\n",
      "LLR test, Lags: (1, 2), 2, p-value: 0.017\n",
      "ARMA(1, 3): \tLL = -7896.837893752834, \tAIC = 15805.675787505668\n",
      "LLR test, Lags: (1, 3), 3, p-value: 0.0\n",
      "ARMA(1, 4): \tLL = -7896.593520418666, \tAIC = 15807.187040837332\n",
      "LLR test, Lags: (1, 4), 4, p-value: 0.484\n",
      "ARMA(1, 5): \tLL = -7890.973460209605, \tAIC = 15797.94692041921\n",
      "LLR test, Lags: (1, 5), 5, p-value: 0.001\n",
      "ARMA(2, 1): \tLL = -7913.456336201022, \tAIC = 15836.912672402044\n",
      "LLR test, Lags: (2, 1), 6, p-value: 1.0\n",
      "ARMA(2, 2): \tLL = -7913.222797830707, \tAIC = 15838.445595661415\n",
      "LLR test, Lags: (2, 2), 7, p-value: 0.494\n",
      "ARMA(2, 3): \tLL = -7895.587234021292, \tAIC = 15805.174468042584\n",
      "LLR test, Lags: (2, 3), 8, p-value: 0.0\n",
      "ARMA(2, 4): \tLL = -7895.559989843172, \tAIC = 15807.119979686344\n",
      "LLR test, Lags: (2, 4), 9, p-value: 0.815\n",
      "ARMA(2, 5): \tLL = -7884.6875966985235, \tAIC = 15787.375193397047\n",
      "LLR test, Lags: (2, 5), 10, p-value: 0.0\n",
      "ARMA(3, 1): \tLL = -7899.072139793572, \tAIC = 15810.144279587144\n",
      "LLR test, Lags: (3, 1), 11, p-value: 1.0\n",
      "ARMA(3, 2): \tLL = -7895.747458515254, \tAIC = 15805.494917030508\n",
      "LLR test, Lags: (3, 2), 12, p-value: 0.01\n",
      "ARMA(3, 3): \tLL = -7893.514759917186, \tAIC = 15803.029519834372\n",
      "LLR test, Lags: (3, 3), 13, p-value: 0.035\n",
      "ARMA(3, 4): \tLL = -7891.864889482885, \tAIC = 15801.72977896577\n",
      "LLR test, Lags: (3, 4), 14, p-value: 0.069\n",
      "ARMA(3, 5): \tLL = -7883.90482212605, \tAIC = 15787.8096442521\n",
      "LLR test, Lags: (3, 5), 15, p-value: 0.0\n",
      "ARMA(4, 1): \tLL = -7898.425971510474, \tAIC = 15810.851943020947\n",
      "LLR test, Lags: (4, 1), 16, p-value: 1.0\n",
      "ARMA(4, 2): \tLL = -7895.746567004745, \tAIC = 15807.49313400949\n",
      "LLR test, Lags: (4, 2), 17, p-value: 0.021\n",
      "ARMA(4, 3): \tLL = -7891.279262224451, \tAIC = 15800.558524448901\n",
      "LLR test, Lags: (4, 3), 18, p-value: 0.003\n",
      "ARMA(4, 4): \tLL = -7889.155558007078, \tAIC = 15798.311116014156\n",
      "LLR test, Lags: (4, 4), 19, p-value: 0.039\n",
      "ARMA(4, 5): \tLL = -7882.727177444664, \tAIC = 15787.454354889329\n",
      "LLR test, Lags: (4, 5), 20, p-value: 0.0\n",
      "ARMA(5, 1): \tLL = -7889.311282946141, \tAIC = 15794.622565892281\n",
      "LLR test, Lags: (5, 1), 21, p-value: 1.0\n",
      "ARMA(5, 2): \tLL = -7885.666643480393, \tAIC = 15789.333286960786\n",
      "LLR test, Lags: (5, 2), 22, p-value: 0.007\n",
      "ARMA(5, 3): \tLL = -7885.421650242306, \tAIC = 15790.843300484612\n",
      "LLR test, Lags: (5, 3), 23, p-value: 0.484\n",
      "ARMA(5, 4): \tLL = -7883.8645596175365, \tAIC = 15789.729119235073\n",
      "LLR test, Lags: (5, 4), 24, p-value: 0.078\n",
      "ARMA(5, 5): \tLL = -7882.160381598054, \tAIC = 15788.320763196109\n",
      "LLR test, Lags: (5, 5), 25, p-value: 0.065\n"
     ]
    }
   ],
   "source": [
    "models = [None]\n",
    "llrs = []\n",
    "model_ar_x_1 = None\n",
    "for i in np.arange(1, 6):\n",
    "    for j in np.arange(1, 6):\n",
    "        (model_ar_x_1, llr_x) = utils.ARMA_LLR_test(df.returns[1:], model_ar_x_1, order=(i, j))\n",
    "        models.append(model_ar_x_1)\n",
    "        llrs.append(llr_x)\n",
    "        print(f'LLR test, Lags: {i, j}, {len(llrs)}, p-value: {llr_x}')"
   ]
  },
  {
   "cell_type": "code",
   "execution_count": 10,
   "metadata": {
    "execution": {
     "iopub.execute_input": "2020-12-17T13:31:36.364727Z",
     "iopub.status.busy": "2020-12-17T13:31:36.364377Z",
     "iopub.status.idle": "2020-12-17T13:31:39.846780Z",
     "shell.execute_reply": "2020-12-17T13:31:39.846118Z",
     "shell.execute_reply.started": "2020-12-17T13:31:36.364686Z"
    }
   },
   "outputs": [
    {
     "data": {
      "text/plain": [
       "0.042"
      ]
     },
     "execution_count": 10,
     "metadata": {},
     "output_type": "execute_result"
    }
   ],
   "source": [
    "utils.LLR_test(models[7], models[11])"
   ]
  },
  {
   "cell_type": "markdown",
   "metadata": {},
   "source": [
    "## ARMA(3, 1)"
   ]
  },
  {
   "cell_type": "code",
   "execution_count": 11,
   "metadata": {
    "execution": {
     "iopub.execute_input": "2020-12-17T13:32:28.804165Z",
     "iopub.status.busy": "2020-12-17T13:32:28.803920Z",
     "iopub.status.idle": "2020-12-17T13:32:29.716319Z",
     "shell.execute_reply": "2020-12-17T13:32:29.715528Z",
     "shell.execute_reply.started": "2020-12-17T13:32:28.804138Z"
    }
   },
   "outputs": [
    {
     "data": {
      "text/html": [
       "<table class=\"simpletable\">\n",
       "<caption>ARMA Model Results</caption>\n",
       "<tr>\n",
       "  <th>Dep. Variable:</th>      <td>returns</td>     <th>  No. Observations:  </th>   <td>5020</td>   \n",
       "</tr>\n",
       "<tr>\n",
       "  <th>Model:</th>            <td>ARMA(3, 1)</td>    <th>  Log Likelihood     </th> <td>-7899.072</td>\n",
       "</tr>\n",
       "<tr>\n",
       "  <th>Method:</th>             <td>css-mle</td>     <th>  S.D. of innovations</th>   <td>1.167</td>  \n",
       "</tr>\n",
       "<tr>\n",
       "  <th>Date:</th>          <td>Thu, 17 Dec 2020</td> <th>  AIC                </th> <td>15810.144</td>\n",
       "</tr>\n",
       "<tr>\n",
       "  <th>Time:</th>              <td>19:02:29</td>     <th>  BIC                </th> <td>15849.271</td>\n",
       "</tr>\n",
       "<tr>\n",
       "  <th>Sample:</th>           <td>01-10-1994</td>    <th>  HQIC               </th> <td>15823.855</td>\n",
       "</tr>\n",
       "<tr>\n",
       "  <th></th>                 <td>- 04-05-2013</td>   <th>                     </th>     <td> </td>    \n",
       "</tr>\n",
       "</table>\n",
       "<table class=\"simpletable\">\n",
       "<tr>\n",
       "        <td></td>           <th>coef</th>     <th>std err</th>      <th>z</th>      <th>P>|z|</th>  <th>[0.025</th>    <th>0.975]</th>  \n",
       "</tr>\n",
       "<tr>\n",
       "  <th>const</th>         <td>    0.0189</td> <td>    0.015</td> <td>    1.298</td> <td> 0.194</td> <td>   -0.010</td> <td>    0.047</td>\n",
       "</tr>\n",
       "<tr>\n",
       "  <th>ar.L1.returns</th> <td>   -0.5077</td> <td>    0.088</td> <td>   -5.769</td> <td> 0.000</td> <td>   -0.680</td> <td>   -0.335</td>\n",
       "</tr>\n",
       "<tr>\n",
       "  <th>ar.L2.returns</th> <td>   -0.0638</td> <td>    0.016</td> <td>   -4.023</td> <td> 0.000</td> <td>   -0.095</td> <td>   -0.033</td>\n",
       "</tr>\n",
       "<tr>\n",
       "  <th>ar.L3.returns</th> <td>   -0.1102</td> <td>    0.014</td> <td>   -7.850</td> <td> 0.000</td> <td>   -0.138</td> <td>   -0.083</td>\n",
       "</tr>\n",
       "<tr>\n",
       "  <th>ma.L1.returns</th> <td>    0.4839</td> <td>    0.088</td> <td>    5.500</td> <td> 0.000</td> <td>    0.311</td> <td>    0.656</td>\n",
       "</tr>\n",
       "</table>\n",
       "<table class=\"simpletable\">\n",
       "<caption>Roots</caption>\n",
       "<tr>\n",
       "    <td></td>   <th>            Real</th>  <th>         Imaginary</th> <th>         Modulus</th>  <th>        Frequency</th>\n",
       "</tr>\n",
       "<tr>\n",
       "  <th>AR.1</th> <td>          -1.5095</td> <td>          -0.0000j</td> <td>           1.5095</td> <td>          -0.5000</td>\n",
       "</tr>\n",
       "<tr>\n",
       "  <th>AR.2</th> <td>           0.4653</td> <td>          -2.4076j</td> <td>           2.4521</td> <td>          -0.2196</td>\n",
       "</tr>\n",
       "<tr>\n",
       "  <th>AR.3</th> <td>           0.4653</td> <td>          +2.4076j</td> <td>           2.4521</td> <td>           0.2196</td>\n",
       "</tr>\n",
       "<tr>\n",
       "  <th>MA.1</th> <td>          -2.0668</td> <td>          +0.0000j</td> <td>           2.0668</td> <td>           0.5000</td>\n",
       "</tr>\n",
       "</table>"
      ],
      "text/plain": [
       "<class 'statsmodels.iolib.summary.Summary'>\n",
       "\"\"\"\n",
       "                              ARMA Model Results                              \n",
       "==============================================================================\n",
       "Dep. Variable:                returns   No. Observations:                 5020\n",
       "Model:                     ARMA(3, 1)   Log Likelihood               -7899.072\n",
       "Method:                       css-mle   S.D. of innovations              1.167\n",
       "Date:                Thu, 17 Dec 2020   AIC                          15810.144\n",
       "Time:                        19:02:29   BIC                          15849.271\n",
       "Sample:                    01-10-1994   HQIC                         15823.855\n",
       "                         - 04-05-2013                                         \n",
       "=================================================================================\n",
       "                    coef    std err          z      P>|z|      [0.025      0.975]\n",
       "---------------------------------------------------------------------------------\n",
       "const             0.0189      0.015      1.298      0.194      -0.010       0.047\n",
       "ar.L1.returns    -0.5077      0.088     -5.769      0.000      -0.680      -0.335\n",
       "ar.L2.returns    -0.0638      0.016     -4.023      0.000      -0.095      -0.033\n",
       "ar.L3.returns    -0.1102      0.014     -7.850      0.000      -0.138      -0.083\n",
       "ma.L1.returns     0.4839      0.088      5.500      0.000       0.311       0.656\n",
       "                                    Roots                                    \n",
       "=============================================================================\n",
       "                  Real          Imaginary           Modulus         Frequency\n",
       "-----------------------------------------------------------------------------\n",
       "AR.1           -1.5095           -0.0000j            1.5095           -0.5000\n",
       "AR.2            0.4653           -2.4076j            2.4521           -0.2196\n",
       "AR.3            0.4653           +2.4076j            2.4521            0.2196\n",
       "MA.1           -2.0668           +0.0000j            2.0668            0.5000\n",
       "-----------------------------------------------------------------------------\n",
       "\"\"\""
      ]
     },
     "execution_count": 11,
     "metadata": {},
     "output_type": "execute_result"
    }
   ],
   "source": [
    "ret = models[9].fit()\n",
    "ret.summary()"
   ]
  },
  {
   "cell_type": "code",
   "execution_count": 12,
   "metadata": {
    "execution": {
     "iopub.execute_input": "2020-12-17T13:32:29.718414Z",
     "iopub.status.busy": "2020-12-17T13:32:29.718144Z",
     "iopub.status.idle": "2020-12-17T13:32:31.681899Z",
     "shell.execute_reply": "2020-12-17T13:32:31.681252Z",
     "shell.execute_reply.started": "2020-12-17T13:32:29.718378Z"
    }
   },
   "outputs": [
    {
     "data": {
      "text/plain": [
       "0.01"
      ]
     },
     "execution_count": 12,
     "metadata": {},
     "output_type": "execute_result"
    }
   ],
   "source": [
    "utils.LLR_test(models[9], models[10])"
   ]
  },
  {
   "cell_type": "markdown",
   "metadata": {},
   "source": [
    "We select a model, if\n",
    "- All coefficients are significant\n",
    "- Highest log-likelihood among the models with all coefficients significant\n",
    "- Lowest information criteria out of the models with all coefficients significant"
   ]
  },
  {
   "cell_type": "markdown",
   "metadata": {},
   "source": [
    "## Residuals for Returns"
   ]
  },
  {
   "cell_type": "code",
   "execution_count": 13,
   "metadata": {
    "execution": {
     "iopub.execute_input": "2020-12-17T14:31:40.637513Z",
     "iopub.status.busy": "2020-12-17T14:31:40.637275Z",
     "iopub.status.idle": "2020-12-17T14:31:41.787078Z",
     "shell.execute_reply": "2020-12-17T14:31:41.786272Z",
     "shell.execute_reply.started": "2020-12-17T14:31:40.637488Z"
    }
   },
   "outputs": [],
   "source": [
    "df['res_ret_ar_3_ma_2'] = models[10].fit().resid[1:]"
   ]
  },
  {
   "cell_type": "code",
   "execution_count": 14,
   "metadata": {
    "execution": {
     "iopub.execute_input": "2020-12-17T14:32:28.805523Z",
     "iopub.status.busy": "2020-12-17T14:32:28.805273Z",
     "iopub.status.idle": "2020-12-17T14:32:29.074086Z",
     "shell.execute_reply": "2020-12-17T14:32:29.073569Z",
     "shell.execute_reply.started": "2020-12-17T14:32:28.805495Z"
    }
   },
   "outputs": [
    {
     "data": {
      "image/png": "[encoded data removed]",
      "text/plain": [
       "<Figure size 1440x360 with 1 Axes>"
      ]
     },
     "metadata": {
      "needs_background": "light"
     },
     "output_type": "display_data"
    }
   ],
   "source": [
    "df.res_ret_ar_3_ma_2.plot(figsize=(20, 5))\n",
    "plt.title(\"Residuals of Returns\", size=24)\n",
    "plt.show()"
   ]
  },
  {
   "cell_type": "code",
   "execution_count": 16,
   "metadata": {
    "execution": {
     "iopub.execute_input": "2020-12-17T14:33:50.957973Z",
     "iopub.status.busy": "2020-12-17T14:33:50.957597Z",
     "iopub.status.idle": "2020-12-17T14:33:51.124491Z",
     "shell.execute_reply": "2020-12-17T14:33:51.123746Z",
     "shell.execute_reply.started": "2020-12-17T14:33:50.957933Z"
    }
   },
   "outputs": [
    {
     "data": {
      "image/png": "[encoded data removed]",
      "text/plain": [
       "<Figure size 432x288 with 1 Axes>"
      ]
     },
     "metadata": {
      "needs_background": "light"
     },
     "output_type": "display_data"
    }
   ],
   "source": [
    "sgt.plot_acf(df.res_ret_ar_3_ma_2[2:], zero=False, lags=40)\n",
    "plt.title(\"ACF of Residuals for Returns\", size=20)\n",
    "plt.show()"
   ]
  },
  {
   "cell_type": "markdown",
   "metadata": {},
   "source": [
    "## Revaluating Model Selection"
   ]
  },
  {
   "cell_type": "code",
   "execution_count": null,
   "metadata": {},
   "outputs": [],
   "source": []
  }
 ],
 "metadata": {
  "kernelspec": {
   "display_name": "Python 3",
   "language": "python",
   "name": "python3"
  },
  "language_info": {
   "codemirror_mode": {
    "name": "ipython",
    "version": 3
   },
   "file_extension": ".py",
   "mimetype": "text/x-python",
   "name": "python",
   "nbconvert_exporter": "python",
   "pygments_lexer": "ipython3",
   "version": "3.8.3"
  }
 },
 "nbformat": 4,
 "nbformat_minor": 4
}
