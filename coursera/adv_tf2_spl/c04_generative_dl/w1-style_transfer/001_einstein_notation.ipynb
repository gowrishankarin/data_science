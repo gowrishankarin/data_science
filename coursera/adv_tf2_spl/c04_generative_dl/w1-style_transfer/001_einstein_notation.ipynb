{
 "cells": [
  {
   "cell_type": "code",
   "execution_count": 1,
   "metadata": {
    "execution": {
     "iopub.execute_input": "2021-01-17T16:45:32.386082Z",
     "iopub.status.busy": "2021-01-17T16:45:32.384956Z",
     "iopub.status.idle": "2021-01-17T16:45:37.810607Z",
     "shell.execute_reply": "2021-01-17T16:45:37.810062Z",
     "shell.execute_reply.started": "2021-01-17T16:45:32.385984Z"
    }
   },
   "outputs": [],
   "source": [
    "import tensorflow as tf"
   ]
  },
  {
   "cell_type": "code",
   "execution_count": 13,
   "metadata": {
    "execution": {
     "iopub.execute_input": "2021-01-17T16:53:05.213730Z",
     "iopub.status.busy": "2021-01-17T16:53:05.213483Z",
     "iopub.status.idle": "2021-01-17T16:53:05.219623Z",
     "shell.execute_reply": "2021-01-17T16:53:05.218484Z",
     "shell.execute_reply.started": "2021-01-17T16:53:05.213704Z"
    }
   },
   "outputs": [],
   "source": [
    "x = tf.constant(\n",
    "    [1, 2, 3, 4],\n",
    "    shape=(2, 2)\n",
    ")\n",
    "\n",
    "xT = tf.transpose(x)\n",
    "\n",
    "einsum = tf.linalg.einsum('ij,ij->ij', x, x)\n",
    "einsum_2 = tf.linalg.einsum('ij,jk->ik', xT, x)"
   ]
  },
  {
   "cell_type": "code",
   "execution_count": 14,
   "metadata": {
    "execution": {
     "iopub.execute_input": "2021-01-17T16:53:05.932892Z",
     "iopub.status.busy": "2021-01-17T16:53:05.932632Z",
     "iopub.status.idle": "2021-01-17T16:53:05.937566Z",
     "shell.execute_reply": "2021-01-17T16:53:05.936887Z",
     "shell.execute_reply.started": "2021-01-17T16:53:05.932865Z"
    }
   },
   "outputs": [
    {
     "name": "stdout",
     "output_type": "stream",
     "text": [
      "tf.Tensor(\n",
      "[[1 2]\n",
      " [3 4]], shape=(2, 2), dtype=int32) tf.Tensor(\n",
      "[[1 3]\n",
      " [2 4]], shape=(2, 2), dtype=int32) tf.Tensor(\n",
      "[[ 1  4]\n",
      " [ 9 16]], shape=(2, 2), dtype=int32) tf.Tensor(\n",
      "[[10 14]\n",
      " [14 20]], shape=(2, 2), dtype=int32)\n"
     ]
    }
   ],
   "source": [
    "print(x, xT, einsum, einsum_2)"
   ]
  },
  {
   "cell_type": "code",
   "execution_count": 7,
   "metadata": {
    "execution": {
     "iopub.execute_input": "2021-01-17T16:50:28.699235Z",
     "iopub.status.busy": "2021-01-17T16:50:28.698987Z",
     "iopub.status.idle": "2021-01-17T16:50:28.712246Z",
     "shell.execute_reply": "2021-01-17T16:50:28.710993Z",
     "shell.execute_reply.started": "2021-01-17T16:50:28.699210Z"
    }
   },
   "outputs": [
    {
     "data": {
      "text/plain": [
       "<tf.Tensor: shape=(2, 2), dtype=int32, numpy=\n",
       "array([[ 1,  4],\n",
       "       [ 9, 16]], dtype=int32)>"
      ]
     },
     "execution_count": 7,
     "metadata": {},
     "output_type": "execute_result"
    }
   ],
   "source": [
    "tf.square(x)"
   ]
  },
  {
   "cell_type": "code",
   "execution_count": 15,
   "metadata": {
    "execution": {
     "iopub.execute_input": "2021-01-17T16:54:50.071789Z",
     "iopub.status.busy": "2021-01-17T16:54:50.071445Z",
     "iopub.status.idle": "2021-01-17T16:54:50.085482Z",
     "shell.execute_reply": "2021-01-17T16:54:50.084383Z",
     "shell.execute_reply.started": "2021-01-17T16:54:50.071751Z"
    }
   },
   "outputs": [
    {
     "data": {
      "text/plain": [
       "<tf.Tensor: shape=(2, 2), dtype=int32, numpy=\n",
       "array([[10, 14],\n",
       "       [14, 20]], dtype=int32)>"
      ]
     },
     "execution_count": 15,
     "metadata": {},
     "output_type": "execute_result"
    }
   ],
   "source": [
    "tf.matmul(xT, x)"
   ]
  },
  {
   "cell_type": "markdown",
   "metadata": {},
   "source": [
    "## Reduce Sum"
   ]
  },
  {
   "cell_type": "code",
   "execution_count": 16,
   "metadata": {
    "execution": {
     "iopub.execute_input": "2021-01-17T16:59:27.152518Z",
     "iopub.status.busy": "2021-01-17T16:59:27.152245Z",
     "iopub.status.idle": "2021-01-17T16:59:27.223138Z",
     "shell.execute_reply": "2021-01-17T16:59:27.163285Z",
     "shell.execute_reply.started": "2021-01-17T16:59:27.152491Z"
    }
   },
   "outputs": [],
   "source": [
    "einsum_reduce = tf.linalg.einsum('ij,jk->', xT, x)"
   ]
  },
  {
   "cell_type": "code",
   "execution_count": 17,
   "metadata": {
    "execution": {
     "iopub.execute_input": "2021-01-17T16:59:33.170411Z",
     "iopub.status.busy": "2021-01-17T16:59:33.170041Z",
     "iopub.status.idle": "2021-01-17T16:59:33.177562Z",
     "shell.execute_reply": "2021-01-17T16:59:33.176840Z",
     "shell.execute_reply.started": "2021-01-17T16:59:33.170374Z"
    }
   },
   "outputs": [
    {
     "data": {
      "text/plain": [
       "<tf.Tensor: shape=(), dtype=int32, numpy=58>"
      ]
     },
     "execution_count": 17,
     "metadata": {},
     "output_type": "execute_result"
    }
   ],
   "source": [
    "einsum_reduce"
   ]
  },
  {
   "cell_type": "code",
   "execution_count": 18,
   "metadata": {
    "execution": {
     "iopub.execute_input": "2021-01-17T17:03:06.747239Z",
     "iopub.status.busy": "2021-01-17T17:03:06.746994Z",
     "iopub.status.idle": "2021-01-17T17:03:06.751079Z",
     "shell.execute_reply": "2021-01-17T17:03:06.750335Z",
     "shell.execute_reply.started": "2021-01-17T17:03:06.747213Z"
    }
   },
   "outputs": [],
   "source": [
    "einsum_reduce = tf.linalg.einsum('ij,ij->', x, x)"
   ]
  },
  {
   "cell_type": "code",
   "execution_count": 19,
   "metadata": {
    "execution": {
     "iopub.execute_input": "2021-01-17T17:03:12.662639Z",
     "iopub.status.busy": "2021-01-17T17:03:12.662385Z",
     "iopub.status.idle": "2021-01-17T17:03:12.667522Z",
     "shell.execute_reply": "2021-01-17T17:03:12.666735Z",
     "shell.execute_reply.started": "2021-01-17T17:03:12.662609Z"
    }
   },
   "outputs": [
    {
     "data": {
      "text/plain": [
       "<tf.Tensor: shape=(), dtype=int32, numpy=30>"
      ]
     },
     "execution_count": 19,
     "metadata": {},
     "output_type": "execute_result"
    }
   ],
   "source": [
    "einsum_reduce"
   ]
  },
  {
   "cell_type": "code",
   "execution_count": null,
   "metadata": {},
   "outputs": [],
   "source": []
  }
 ],
 "metadata": {
  "kernelspec": {
   "display_name": "Python 3",
   "language": "python",
   "name": "python3"
  },
  "language_info": {
   "codemirror_mode": {
    "name": "ipython",
    "version": 3
   },
   "file_extension": ".py",
   "mimetype": "text/x-python",
   "name": "python",
   "nbconvert_exporter": "python",
   "pygments_lexer": "ipython3",
   "version": "3.8.3"
  }
 },
 "nbformat": 4,
 "nbformat_minor": 4
}
