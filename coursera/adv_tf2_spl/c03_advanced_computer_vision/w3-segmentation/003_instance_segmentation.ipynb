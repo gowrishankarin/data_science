{
 "cells": [
  {
   "cell_type": "markdown",
   "metadata": {},
   "source": [
    "# Ungraded Lab: Mask R-CNN Image Segmentation Demo\n",
    "\n",
    "In this lab, you will see how to use a [Mask R-CNN](https://arxiv.org/abs/1703.06870) model from Tensorflow Hub for object detection and instance segmentation. This means that aside from the bounding boxes, the model is also able to predict segmentation masks for each instance of a class in the image. You have already encountered most of the commands here when you worked with the Object Dection API and you will see how you can use it with instance segmentation models. Let's begin!"
   ]
  },
  {
   "cell_type": "code",
   "execution_count": null,
   "metadata": {},
   "outputs": [],
   "source": [
    "!git clone --depth 1 https://github.com/tensorflow/models"
   ]
  },
  {
   "cell_type": "code",
   "execution_count": null,
   "metadata": {},
   "outputs": [],
   "source": [
    "%%bash\n",
    "sudo apt install -y protobuf-compiler\n",
    "cd models/research\n",
    "protoc object_detection/protos/*.proto --python_out=.\n",
    "cp object_detection/packages/tf2/setup.py .\n",
    "python -m pip install ."
   ]
  },
  {
   "cell_type": "code",
   "execution_count": null,
   "metadata": {},
   "outputs": [],
   "source": [
    "import tensorflow as tf\n",
    "import tensorflow_hub as hub\n",
    "\n",
    "import matplotlib\n",
    "import matplotlib.pyplot as plt\n",
    "\n",
    "import numpy as np\n",
    "from six import BytesIO\n",
    "from PIL import Image\n",
    "from six.moves.urllib.request import urlopen\n",
    "\n",
    "from object_detection.utils import label_map_util\n",
    "from object_detection.utils import visualization_utils as viz_utils\n",
    "from object_detection.utils import ops as utils_ops\n",
    "\n",
    "tf.get_logger().setLevel('ERROR')\n",
    "\n",
    "%matplotlib inline"
   ]
  },
  {
   "cell_type": "code",
   "execution_count": null,
   "metadata": {},
   "outputs": [],
   "source": [
    "def load_image_into_numpy_array(path):\n",
    "    \n",
    "    image = None\n",
    "    if(path.startswith('http')):\n",
    "        response = urlopen(path)\n",
    "        image_data = response.read()\n",
    "        image_data = BytesIO(image_data)\n",
    "        image = Image.open(image_data)\n",
    "    else:\n",
    "        image_data = tf.io.gfile.GFile(path, 'rb').read()\n",
    "        image = Image.open(BytesIO(image_data))\n",
    "        \n",
    "    (im_width, im_height) = (image.size)\n",
    "    return np.array(image.getdata()).reshape(\n",
    "        (1, im_height, im_width, 3)\n",
    "    ).astype(np.uint8)\n",
    "\n",
    "# dictionary with image tags as keys, and image paths as values\n",
    "TEST_IMAGES = {\n",
    "  'Beach' : 'models/research/object_detection/test_images/image2.jpg',\n",
    "  'Dogs' : 'models/research/object_detection/test_images/image1.jpg',\n",
    "  # By Américo Toledano, Source: https://commons.wikimedia.org/wiki/File:Biblioteca_Maim%C3%B3nides,_Campus_Universitario_de_Rabanales_007.jpg\n",
    "  'Phones' : 'https://upload.wikimedia.org/wikipedia/commons/thumb/0/0d/Biblioteca_Maim%C3%B3nides%2C_Campus_Universitario_de_Rabanales_007.jpg/1024px-Biblioteca_Maim%C3%B3nides%2C_Campus_Universitario_de_Rabanales_007.jpg',\n",
    "  # By 663highland, Source: https://commons.wikimedia.org/wiki/File:Kitano_Street_Kobe01s5s4110.jpg\n",
    "  'Street' : 'https://upload.wikimedia.org/wikipedia/commons/thumb/0/08/Kitano_Street_Kobe01s5s4110.jpg/2560px-Kitano_Street_Kobe01s5s4110.jpg'\n",
    "}"
   ]
  },
  {
   "cell_type": "markdown",
   "metadata": {},
   "source": [
    "## Load the Model\n",
    "\n",
    "Tensorflow Hub provides a Mask-RCNN model that is built with the Object Detection API. You can read about the details [here](https://tfhub.dev/tensorflow/mask_rcnn/inception_resnet_v2_1024x1024/1). Let's first load the model and see how to use it for inference in the next section."
   ]
  },
  {
   "cell_type": "code",
   "execution_count": null,
   "metadata": {},
   "outputs": [],
   "source": [
    "model_display_name = 'Mask R-CNN Inception ResNet V2 1024x1024'\n",
    "model_handle = 'https://tfhub.dev/tensorflow/mask_rcnn/inception_resnet_v2_1024x1024/1'\n",
    "\n",
    "print('Selected model:'+ model_display_name)\n",
    "print('Model Handle at TensorFlow Hub: {}'.format(model_handle))"
   ]
  },
  {
   "cell_type": "code",
   "execution_count": null,
   "metadata": {},
   "outputs": [],
   "source": [
    "# This will take 10 to 15 minutes to finish\n",
    "print('loading model...')\n",
    "hub_model = hub.load(model_handle)\n",
    "print('model loaded!')"
   ]
  },
  {
   "cell_type": "code",
   "execution_count": null,
   "metadata": {},
   "outputs": [],
   "source": [
    "# Choose one and use as key for TEST_IMAGES below: \n",
    "# ['Beach', 'Street', 'Dogs','Phones']\n",
    "\n",
    "image_path = TEST_IMAGES['Street']\n",
    "\n",
    "image_np = load_image_into_numpy_array(image_path)\n",
    "\n",
    "plt.figure(figsize=(24, 32))\n",
    "plt.imshow(image_np[0])\n",
    "plt.show()"
   ]
  },
  {
   "cell_type": "markdown",
   "metadata": {},
   "source": [
    "You can run inference by simply passing the numpy array of a single image to the model. Take nore that this model does not support batching. As you have seen in the notebooks in week 2, this will oupout a dictionary containing the results. These are described in the Outputs section of the documentation"
   ]
  },
  {
   "cell_type": "code",
   "execution_count": null,
   "metadata": {},
   "outputs": [],
   "source": [
    "# Run inference\n",
    "results = hub_model(image_np)\n",
    "\n",
    "# Output values are tensors and we only need the numpy()\n",
    "# Parameters when we visualize the results\n",
    "result = {key: value.numpy() for key, value in results.items()}\n",
    "\n",
    "for key in results.keys():\n",
    "    print(key)"
   ]
  },
  {
   "cell_type": "markdown",
   "metadata": {},
   "source": [
    "## Visualizing the Results\n",
    "You can now plot the results on the origianl image. First, you need to create the category_index dictionary that will contain the class IDs and names. The model was trained on the COCO2017 dataset and the API package has the labels saved in a different format. You can use the create_category_index_from_labelmap internal utility funciton to convert this to the required dictionary format."
   ]
  },
  {
   "cell_type": "code",
   "execution_count": null,
   "metadata": {},
   "outputs": [],
   "source": [
    "PATH_TO_LABELS = './models/research/object_detection/data/mscoco_label_map.pbtxt'\n",
    "category_index = label_map_util.create_category_index_from_labelmap(\n",
    "    PATH_TO_LABELS,\n",
    "    use_display_name=True\n",
    ")\n",
    "\n",
    "# sample output\n",
    "print(category_index[1])\n",
    "print(category_index[2])\n",
    "print(category_index[4])"
   ]
  },
  {
   "cell_type": "markdown",
   "metadata": {},
   "source": [
    "Next you will preprocess the masks then finally plot the results\n",
    "- The result dictionary contains a detection_masks key containing segmentation masks for each box. That will be converted first to masks that will overlay to the full image size\n",
    "- You will also select mask pixel values that are above a certain threshold. We picked a value of 0.6 but feel free to modify this and see what results your will get. If you pick something lower, then you will most likely notice mask pixesl that are outside the object\n",
    "- As you have seen befor, you can use visualize_boxes_and_labels_on_image_array() to plot the results on the image. The difference this time is the parameter instance_masks and you will pass in the reframed detection boxes to see the segmentation masks on the image\n",
    "\n"
   ]
  },
  {
   "cell_type": "code",
   "execution_count": null,
   "metadata": {},
   "outputs": [],
   "source": [
    "# Handle models with masks\n",
    "label_id_offset = 0\n",
    "image_np_with_mask = image_np.copy()\n",
    "\n",
    "if 'detection_masks' in result:\n",
    "    # Conver np.array to tensors\n",
    "    detection_masks = tf.convert_to_tensor(result['detection_masks'][0])\n",
    "    detection_masks = tf.convert_to_tensor(result['detection_boxes'][0])\n",
    "    \n",
    "    # Reframe the bounding box mask to the image size\n",
    "    detection_masks_reframed = utils_ops.reframe_box_masks_to_image_masks(\n",
    "        detection_masks,\n",
    "        detection_boxes,\n",
    "        image_np.shape[1], image_np.shape[2]\n",
    "    )\n",
    "    \n",
    "    # Filter mask pixel value that are above a specified threshold\n",
    "    detection_masks_reframed = tf.cast(detection_masks_reframed > 0.6, tf.uint8)\n",
    "    \n",
    "    # Get the numpy array\n",
    "    result['detection_masks_reframed'] = detection_masks_reframed.numpy()\n",
    "    \n",
    "# Overlay labeled boxes and segmentation masks on the image\n",
    "vis_utils.visualize_boxes_and_labels_on_image_array(\n",
    "    image_np_with_mask[0],\n",
    "    result['detection_boxes'][0],\n",
    "    (result['detection_classes'][0] + label_id_offset).astype(int),\n",
    "    result['detection_scores'][0],\n",
    "    category_index,\n",
    "    use_normalized_coordinates=True,\n",
    "    max_boxes_to_draw=100,\n",
    "    min_score_thresh=0.7,\n",
    "    agnostic_mode=False,\n",
    "    instance_masks=result.get('detection_masks_reframed', None),\n",
    "    line_thickness=8\n",
    ")\n",
    "\n",
    "plt.figure(figsize=(24, 32))\n",
    "plt.imshow(image_np_with_mask[0])\n",
    "plt.show(0)"
   ]
  }
 ],
 "metadata": {
  "kernelspec": {
   "display_name": "Python 3",
   "language": "python",
   "name": "python3"
  },
  "language_info": {
   "codemirror_mode": {
    "name": "ipython",
    "version": 3
   },
   "file_extension": ".py",
   "mimetype": "text/x-python",
   "name": "python",
   "nbconvert_exporter": "python",
   "pygments_lexer": "ipython3",
   "version": "3.8.3"
  }
 },
 "nbformat": 4,
 "nbformat_minor": 4
}
