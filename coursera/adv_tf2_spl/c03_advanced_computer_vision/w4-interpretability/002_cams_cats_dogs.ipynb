{
 "cells": [
  {
   "cell_type": "markdown",
   "metadata": {
    "execution": {
     "iopub.execute_input": "2021-01-09T06:07:05.791018Z",
     "iopub.status.busy": "2021-01-09T06:07:05.790751Z",
     "iopub.status.idle": "2021-01-09T06:07:05.796699Z",
     "shell.execute_reply": "2021-01-09T06:07:05.795516Z",
     "shell.execute_reply.started": "2021-01-09T06:07:05.790986Z"
    }
   },
   "source": [
    "# Ungraded Lab: Cats vs. Dogs Class Activation Maps\n",
    "\n",
    "You will again practice with CAMs in this lab and this time there will only be two classes: Cats and Dogs. You will be revisiting this exercise in this week's programming assignment so it's best if you become familiar with the steps discussed here, particularly in preprocessing the image and building the model."
   ]
  },
  {
   "cell_type": "code",
   "execution_count": 2,
   "metadata": {
    "execution": {
     "iopub.execute_input": "2021-01-09T06:07:48.922687Z",
     "iopub.status.busy": "2021-01-09T06:07:48.922444Z",
     "iopub.status.idle": "2021-01-09T06:08:01.580356Z",
     "shell.execute_reply": "2021-01-09T06:08:01.579482Z",
     "shell.execute_reply.started": "2021-01-09T06:07:48.922661Z"
    }
   },
   "outputs": [],
   "source": [
    "import tensorflow_datasets as tfds\n",
    "import tensorflow as tf\n",
    "\n",
    "from tensorflow.keras.models import Sequential,Model\n",
    "from tensorflow.keras.layers import Dense,Conv2D,Flatten,MaxPooling2D,GlobalAveragePooling2D\n",
    "from tensorflow.keras.utils import plot_model\n",
    "\n",
    "import numpy as np\n",
    "import matplotlib.pyplot as plt\n",
    "import scipy as sp\n",
    "import cv2"
   ]
  },
  {
   "cell_type": "code",
   "execution_count": 3,
   "metadata": {
    "execution": {
     "iopub.execute_input": "2021-01-09T06:10:57.447202Z",
     "iopub.status.busy": "2021-01-09T06:10:57.446933Z",
     "iopub.status.idle": "2021-01-09T06:10:57.813710Z",
     "shell.execute_reply": "2021-01-09T06:10:57.812875Z",
     "shell.execute_reply.started": "2021-01-09T06:10:57.447169Z"
    }
   },
   "outputs": [],
   "source": [
    "train_data = tfds.load('cats_vs_dogs', split='train[:80%]', as_supervised=True)\n",
    "validation_data = tfds.load('cats_vs_dogs', split='train[80%:90%]', as_supervised=True)\n",
    "test_data = tfds.load('cats_vs_dogs', split='train[-10%:]', as_supervised=True)"
   ]
  },
  {
   "cell_type": "code",
   "execution_count": 5,
   "metadata": {
    "execution": {
     "iopub.execute_input": "2021-01-09T06:11:49.873234Z",
     "iopub.status.busy": "2021-01-09T06:11:49.872734Z",
     "iopub.status.idle": "2021-01-09T06:11:49.900296Z",
     "shell.execute_reply": "2021-01-09T06:11:49.898751Z",
     "shell.execute_reply.started": "2021-01-09T06:11:49.873166Z"
    }
   },
   "outputs": [],
   "source": [
    "def augment_images(image, label):\n",
    "  \n",
    "    # cast to float\n",
    "    image = tf.cast(image, tf.float32)\n",
    "    # normalize the pixel values\n",
    "    image = (image/255)\n",
    "    # resize to 300 x 300\n",
    "    image = tf.image.resize(image,(300,300))\n",
    "\n",
    "    return image, label\n",
    "\n",
    "# use the utility function above to preprocess the images\n",
    "augmented_training_data = train_data.map(augment_images)\n",
    "\n",
    "# shuffle and create batches before training\n",
    "train_batches = augmented_training_data.shuffle(1024).batch(32)"
   ]
  },
  {
   "cell_type": "code",
   "execution_count": 6,
   "metadata": {
    "execution": {
     "iopub.execute_input": "2021-01-09T06:11:53.873053Z",
     "iopub.status.busy": "2021-01-09T06:11:53.872796Z",
     "iopub.status.idle": "2021-01-09T06:11:54.006936Z",
     "shell.execute_reply": "2021-01-09T06:11:54.005925Z",
     "shell.execute_reply.started": "2021-01-09T06:11:53.873025Z"
    }
   },
   "outputs": [
    {
     "name": "stdout",
     "output_type": "stream",
     "text": [
      "Model: \"sequential\"\n",
      "_________________________________________________________________\n",
      "Layer (type)                 Output Shape              Param #   \n",
      "=================================================================\n",
      "conv2d (Conv2D)              (None, 300, 300, 16)      448       \n",
      "_________________________________________________________________\n",
      "max_pooling2d (MaxPooling2D) (None, 150, 150, 16)      0         \n",
      "_________________________________________________________________\n",
      "conv2d_1 (Conv2D)            (None, 150, 150, 32)      4640      \n",
      "_________________________________________________________________\n",
      "max_pooling2d_1 (MaxPooling2 (None, 75, 75, 32)        0         \n",
      "_________________________________________________________________\n",
      "conv2d_2 (Conv2D)            (None, 75, 75, 64)        18496     \n",
      "_________________________________________________________________\n",
      "max_pooling2d_2 (MaxPooling2 (None, 37, 37, 64)        0         \n",
      "_________________________________________________________________\n",
      "conv2d_3 (Conv2D)            (None, 37, 37, 128)       73856     \n",
      "_________________________________________________________________\n",
      "global_average_pooling2d (Gl (None, 128)               0         \n",
      "_________________________________________________________________\n",
      "dense (Dense)                (None, 1)                 129       \n",
      "=================================================================\n",
      "Total params: 97,569\n",
      "Trainable params: 97,569\n",
      "Non-trainable params: 0\n",
      "_________________________________________________________________\n"
     ]
    }
   ],
   "source": [
    "model = Sequential()\n",
    "model.add(Conv2D(16,input_shape=(300,300,3),kernel_size=(3,3),activation='relu',padding='same'))\n",
    "model.add(MaxPooling2D(pool_size=(2,2)))\n",
    "\n",
    "model.add(Conv2D(32,kernel_size=(3,3),activation='relu',padding='same'))\n",
    "model.add(MaxPooling2D(pool_size=(2,2)))\n",
    "\n",
    "model.add(Conv2D(64,kernel_size=(3,3),activation='relu',padding='same'))\n",
    "model.add(MaxPooling2D(pool_size=(2,2)))\n",
    "\n",
    "model.add(Conv2D(128,kernel_size=(3,3),activation='relu',padding='same'))\n",
    "model.add(GlobalAveragePooling2D())\n",
    "model.add(Dense(1,activation='sigmoid'))\n",
    "\n",
    "model.summary()"
   ]
  },
  {
   "cell_type": "code",
   "execution_count": 8,
   "metadata": {
    "execution": {
     "iopub.execute_input": "2021-01-09T06:51:04.319674Z",
     "iopub.status.busy": "2021-01-09T06:51:04.319427Z",
     "iopub.status.idle": "2021-01-09T06:51:04.323203Z",
     "shell.execute_reply": "2021-01-09T06:51:04.322101Z",
     "shell.execute_reply.started": "2021-01-09T06:51:04.319647Z"
    }
   },
   "outputs": [],
   "source": [
    "# Training will take around 30 minutes to complete using a GPU. Time for a break!\n",
    "\n",
    "# model.compile(loss='binary_crossentropy',metrics=['accuracy'],optimizer=tf.keras.optimizers.RMSprop(lr=0.001))\n",
    "# model.fit(train_batches,epochs=25)"
   ]
  },
  {
   "cell_type": "code",
   "execution_count": 9,
   "metadata": {
    "execution": {
     "iopub.execute_input": "2021-01-09T07:00:54.922682Z",
     "iopub.status.busy": "2021-01-09T07:00:54.922447Z",
     "iopub.status.idle": "2021-01-09T07:00:54.937983Z",
     "shell.execute_reply": "2021-01-09T07:00:54.936852Z",
     "shell.execute_reply.started": "2021-01-09T07:00:54.922655Z"
    }
   },
   "outputs": [
    {
     "name": "stdout",
     "output_type": "stream",
     "text": [
      "Model: \"model\"\n",
      "_________________________________________________________________\n",
      "Layer (type)                 Output Shape              Param #   \n",
      "=================================================================\n",
      "conv2d_input (InputLayer)    [(None, 300, 300, 3)]     0         \n",
      "_________________________________________________________________\n",
      "conv2d (Conv2D)              (None, 300, 300, 16)      448       \n",
      "_________________________________________________________________\n",
      "max_pooling2d (MaxPooling2D) (None, 150, 150, 16)      0         \n",
      "_________________________________________________________________\n",
      "conv2d_1 (Conv2D)            (None, 150, 150, 32)      4640      \n",
      "_________________________________________________________________\n",
      "max_pooling2d_1 (MaxPooling2 (None, 75, 75, 32)        0         \n",
      "_________________________________________________________________\n",
      "conv2d_2 (Conv2D)            (None, 75, 75, 64)        18496     \n",
      "_________________________________________________________________\n",
      "max_pooling2d_2 (MaxPooling2 (None, 37, 37, 64)        0         \n",
      "_________________________________________________________________\n",
      "conv2d_3 (Conv2D)            (None, 37, 37, 128)       73856     \n",
      "_________________________________________________________________\n",
      "global_average_pooling2d (Gl (None, 128)               0         \n",
      "_________________________________________________________________\n",
      "dense (Dense)                (None, 1)                 129       \n",
      "=================================================================\n",
      "Total params: 97,569\n",
      "Trainable params: 97,569\n",
      "Non-trainable params: 0\n",
      "_________________________________________________________________\n"
     ]
    }
   ],
   "source": [
    "gap_weights = model.layers[-1].get_weights()[0]\n",
    "gap_weights.shape\n",
    "\n",
    "cam_model = Model(\n",
    "    inputs=model.input,\n",
    "    outputs=(model.layers[-3].output, model.layers[-1].output)\n",
    ")\n",
    "cam_model.summary()"
   ]
  },
  {
   "cell_type": "code",
   "execution_count": 10,
   "metadata": {
    "execution": {
     "iopub.execute_input": "2021-01-09T07:04:36.199352Z",
     "iopub.status.busy": "2021-01-09T07:04:36.199084Z",
     "iopub.status.idle": "2021-01-09T07:04:36.207253Z",
     "shell.execute_reply": "2021-01-09T07:04:36.206405Z",
     "shell.execute_reply.started": "2021-01-09T07:04:36.199323Z"
    }
   },
   "outputs": [],
   "source": [
    "def show_cam(image_value, features, results):\n",
    "    # There is only one image in the batch so we index at 0\n",
    "    features_for_img = features[0]\n",
    "    prediction = results[0]\n",
    "    \n",
    "    # There is only one unit in the output so we get the weights connected to it\n",
    "    class_activation_weights = gap_weights[:, 0]\n",
    "    \n",
    "    # Upsample to the image size\n",
    "    class_activation_features = sp.ndimage.zoom(\n",
    "        features_for_img,\n",
    "        (300/37, 300/37, 1),\n",
    "        order=2\n",
    "    )\n",
    "    \n",
    "    # Compute the intensity of each feature in the CAM\n",
    "    cam_output = np.dot(\n",
    "        class_activation_features,\n",
    "        class_activation_weights\n",
    "    )\n",
    "    \n",
    "    # visualize the results\n",
    "    print(f'sigmoid output: {results}')\n",
    "    print(f\"prediction: {'dog' if round(results[0][0]) else 'cat'}\")\n",
    "    plt.figure(figsize=(8,8))\n",
    "    plt.imshow(cam_output, cmap='jet', alpha=0.5)\n",
    "    plt.imshow(tf.squeeze(image_value), alpha=0.5)\n",
    "    plt.show()"
   ]
  },
  {
   "cell_type": "code",
   "execution_count": null,
   "metadata": {},
   "outputs": [],
   "source": [
    "# visualize the results\n",
    "print(f'sigmoid output: {results}')\n",
    "print(f\"prediction: {'dog' if round(results[0][0]) else 'cat'}\")\n",
    "plt.figure(figsize=(8,8))\n",
    "plt.imshow(cam_output, cmap='jet', alpha=0.5)\n",
    "plt.imshow(tf.squeeze(image_value), alpha=0.5)\n",
    "plt.show()"
   ]
  },
  {
   "cell_type": "code",
   "execution_count": null,
   "metadata": {},
   "outputs": [],
   "source": [
    "# utility function to preprocess an image and show the CAM\n",
    "def convert_and_classify(image):\n",
    "\n",
    "    # load the image\n",
    "    img = cv2.imread(image)\n",
    "\n",
    "    # preprocess the image before feeding it to the model\n",
    "    img = cv2.resize(img, (300,300)) / 255.0\n",
    "\n",
    "    # add a batch dimension because the model expects it\n",
    "    tensor_image = np.expand_dims(img, axis=0)\n",
    "\n",
    "    # get the features and prediction\n",
    "    features,results = cam_model.predict(tensor_image)\n",
    "\n",
    "    # generate the CAM\n",
    "    show_cam(tensor_image, features, results)\n",
    "\n",
    "convert_and_classify('cat1.jpg')\n",
    "convert_and_classify('cat2.jpg')\n",
    "convert_and_classify('catanddog.jpg')\n",
    "convert_and_classify('dog1.jpg')\n",
    "convert_and_classify('dog2.jpg')"
   ]
  },
  {
   "cell_type": "code",
   "execution_count": null,
   "metadata": {},
   "outputs": [],
   "source": [
    "# preprocess the test images\n",
    "augmented_test_data = test_data.map(augment_images)\n",
    "test_batches = augmented_test_data.batch(1)\n",
    "\n",
    "\n",
    "for img, lbl in test_batches.take(5):\n",
    "    print(f\"ground truth: {'dog' if lbl else 'cat'}\")\n",
    "    features,results = cam_model.predict(img)\n",
    "    show_cam(img, features, results)"
   ]
  }
 ],
 "metadata": {
  "kernelspec": {
   "display_name": "Python 3",
   "language": "python",
   "name": "python3"
  },
  "language_info": {
   "codemirror_mode": {
    "name": "ipython",
    "version": 3
   },
   "file_extension": ".py",
   "mimetype": "text/x-python",
   "name": "python",
   "nbconvert_exporter": "python",
   "pygments_lexer": "ipython3",
   "version": "3.8.3"
  }
 },
 "nbformat": 4,
 "nbformat_minor": 4
}
