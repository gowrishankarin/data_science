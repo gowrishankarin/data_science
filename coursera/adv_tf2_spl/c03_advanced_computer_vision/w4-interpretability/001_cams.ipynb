{
 "cells": [
  {
   "cell_type": "markdown",
   "metadata": {},
   "source": [
    "# Class Activation Maps with Fashion MNIST\n",
    "\n",
    "In this lab, you will see how to implement a simple class activation map (CAM) of a model trained on the [Fashion MNIST dataset](https://github.com/zalandoresearch/fashion-mnist). This will show what parts of the image the model was paying attention to when deciding the class of the image. Let's begin!"
   ]
  },
  {
   "cell_type": "code",
   "execution_count": 5,
   "metadata": {
    "execution": {
     "iopub.execute_input": "2021-01-08T13:33:05.100479Z",
     "iopub.status.busy": "2021-01-08T13:33:05.100223Z",
     "iopub.status.idle": "2021-01-08T13:33:05.104058Z",
     "shell.execute_reply": "2021-01-08T13:33:05.103148Z",
     "shell.execute_reply.started": "2021-01-08T13:33:05.100453Z"
    }
   },
   "outputs": [],
   "source": [
    "import tensorflow as tf"
   ]
  },
  {
   "cell_type": "code",
   "execution_count": 8,
   "metadata": {
    "execution": {
     "iopub.execute_input": "2021-01-08T13:33:36.236218Z",
     "iopub.status.busy": "2021-01-08T13:33:36.235960Z",
     "iopub.status.idle": "2021-01-08T13:33:36.240702Z",
     "shell.execute_reply": "2021-01-08T13:33:36.239919Z",
     "shell.execute_reply.started": "2021-01-08T13:33:36.236191Z"
    }
   },
   "outputs": [],
   "source": [
    "from tensorflow.keras.datasets import fashion_mnist\n",
    "import numpy as np\n",
    "import matplotlib.pyplot as plt\n",
    "from tensorflow.keras.models import Sequential,Model\n",
    "from tensorflow.keras.layers import Dense, Conv2D, MaxPooling2D, GlobalAveragePooling2D\n",
    "import scipy as sp"
   ]
  },
  {
   "cell_type": "code",
   "execution_count": 9,
   "metadata": {
    "execution": {
     "iopub.execute_input": "2021-01-08T13:33:44.911959Z",
     "iopub.status.busy": "2021-01-08T13:33:44.911706Z",
     "iopub.status.idle": "2021-01-08T13:33:45.367600Z",
     "shell.execute_reply": "2021-01-08T13:33:45.366806Z",
     "shell.execute_reply.started": "2021-01-08T13:33:44.911928Z"
    }
   },
   "outputs": [],
   "source": [
    "# load the Fashion MNIST dataset\n",
    "(X_train,Y_train),(X_test,Y_test)  = fashion_mnist.load_data()"
   ]
  },
  {
   "cell_type": "code",
   "execution_count": 10,
   "metadata": {
    "execution": {
     "iopub.execute_input": "2021-01-08T13:33:55.213271Z",
     "iopub.status.busy": "2021-01-08T13:33:55.213017Z",
     "iopub.status.idle": "2021-01-08T13:33:55.894946Z",
     "shell.execute_reply": "2021-01-08T13:33:55.894037Z",
     "shell.execute_reply.started": "2021-01-08T13:33:55.213243Z"
    }
   },
   "outputs": [],
   "source": [
    "# Put an additional axis for the channels of the image.\n",
    "# Fashion MNIST is grayscale so we place 1 at the end. Other datasets\n",
    "# will need 3 if it's in RGB.\n",
    "X_train = X_train.reshape(60000,28,28,1)\n",
    "X_test = X_test.reshape(10000,28,28,1)\n",
    "\n",
    "# Normalize the pixel values from 0 to 1\n",
    "X_train = X_train/255\n",
    "X_test  = X_test/255\n",
    "\n",
    "# Cast to float\n",
    "X_train = X_train.astype('float')\n",
    "X_test  = X_test.astype('float')"
   ]
  },
  {
   "cell_type": "code",
   "execution_count": 11,
   "metadata": {
    "execution": {
     "iopub.execute_input": "2021-01-08T13:34:03.762661Z",
     "iopub.status.busy": "2021-01-08T13:34:03.762412Z",
     "iopub.status.idle": "2021-01-08T13:34:03.773623Z",
     "shell.execute_reply": "2021-01-08T13:34:03.772645Z",
     "shell.execute_reply.started": "2021-01-08T13:34:03.762634Z"
    }
   },
   "outputs": [],
   "source": [
    "def show_img(img):\n",
    "    '''utility function for reshaping and displaying an image'''\n",
    "\n",
    "    # convert to float array if img is not yet preprocessed\n",
    "    img  = np.array(img,dtype='float')\n",
    "\n",
    "    # remove channel dimension\n",
    "    img = img.reshape((28,28))\n",
    "\n",
    "    # display image\n",
    "    plt.imshow(img)"
   ]
  },
  {
   "cell_type": "code",
   "execution_count": 12,
   "metadata": {
    "execution": {
     "iopub.execute_input": "2021-01-08T13:34:13.530265Z",
     "iopub.status.busy": "2021-01-08T13:34:13.530006Z",
     "iopub.status.idle": "2021-01-08T13:34:13.798553Z",
     "shell.execute_reply": "2021-01-08T13:34:13.797920Z",
     "shell.execute_reply.started": "2021-01-08T13:34:13.530238Z"
    }
   },
   "outputs": [
    {
     "data": {
      "image/png": "[encoded data removed]",
      "text/plain": [
       "<Figure size 432x288 with 1 Axes>"
      ]
     },
     "metadata": {
      "needs_background": "light"
     },
     "output_type": "display_data"
    }
   ],
   "source": [
    "# test the function for the first train image. you can vary the index of X_train\n",
    "# below to see other images\n",
    "\n",
    "show_img(X_train[1])"
   ]
  },
  {
   "cell_type": "markdown",
   "metadata": {},
   "source": [
    "## Build Classifier"
   ]
  },
  {
   "cell_type": "code",
   "execution_count": 15,
   "metadata": {
    "execution": {
     "iopub.execute_input": "2021-01-08T13:40:46.731533Z",
     "iopub.status.busy": "2021-01-08T13:40:46.731280Z",
     "iopub.status.idle": "2021-01-08T13:40:46.821927Z",
     "shell.execute_reply": "2021-01-08T13:40:46.820925Z",
     "shell.execute_reply.started": "2021-01-08T13:40:46.731506Z"
    }
   },
   "outputs": [
    {
     "name": "stdout",
     "output_type": "stream",
     "text": [
      "Model: \"sequential_2\"\n",
      "_________________________________________________________________\n",
      "Layer (type)                 Output Shape              Param #   \n",
      "=================================================================\n",
      "conv2d_2 (Conv2D)            (None, 28, 28, 16)        160       \n",
      "_________________________________________________________________\n",
      "max_pooling2d_1 (MaxPooling2 (None, 14, 14, 16)        0         \n",
      "_________________________________________________________________\n",
      "conv2d_3 (Conv2D)            (None, 14, 14, 32)        4640      \n",
      "_________________________________________________________________\n",
      "max_pooling2d_2 (MaxPooling2 (None, 7, 7, 32)          0         \n",
      "_________________________________________________________________\n",
      "conv2d_4 (Conv2D)            (None, 7, 7, 64)          18496     \n",
      "_________________________________________________________________\n",
      "max_pooling2d_3 (MaxPooling2 (None, 3, 3, 64)          0         \n",
      "_________________________________________________________________\n",
      "conv2d_5 (Conv2D)            (None, 3, 3, 128)         73856     \n",
      "_________________________________________________________________\n",
      "global_average_pooling2d (Gl (None, 128)               0         \n",
      "_________________________________________________________________\n",
      "dense (Dense)                (None, 10)                1290      \n",
      "=================================================================\n",
      "Total params: 98,442\n",
      "Trainable params: 98,442\n",
      "Non-trainable params: 0\n",
      "_________________________________________________________________\n"
     ]
    }
   ],
   "source": [
    "# Use sequential API\n",
    "model = Sequential()\n",
    "\n",
    "# Notice the padding parameter to recover the lost border pixels whent doing the convolution\n",
    "model.add(\n",
    "    Conv2D(\n",
    "        16, input_shape=(28, 28, 1), kernel_size=(3, 3),\n",
    "        activation='relu', padding='same'\n",
    "    )\n",
    ")\n",
    "# Pooling layer with a stride of 2 will reduce the image dimensions by half\n",
    "model.add(MaxPooling2D(pool_size=(2, 2)))\n",
    "\n",
    "# Pass through more convolutions with increasing filters\n",
    "model.add(Conv2D(32, kernel_size=(3, 3), activation='relu', padding='same'))\n",
    "model.add(MaxPooling2D(pool_size=(2, 2)))\n",
    "\n",
    "model.add(Conv2D(64, kernel_size=(3, 3), activation='relu', padding='same'))\n",
    "model.add(MaxPooling2D(pool_size=(2, 2)))\n",
    "\n",
    "model.add(Conv2D(128, kernel_size=(3, 3), activation='relu', padding='same'))\n",
    "\n",
    "\n",
    "# use global average pooling to take into account lesser intensity pixels\n",
    "model.add(GlobalAveragePooling2D())\n",
    "\n",
    "# output class probabilities\n",
    "model.add(Dense(10,activation='softmax'))\n",
    "\n",
    "model.summary()"
   ]
  },
  {
   "cell_type": "code",
   "execution_count": 16,
   "metadata": {
    "execution": {
     "iopub.execute_input": "2021-01-08T13:40:58.929821Z",
     "iopub.status.busy": "2021-01-08T13:40:58.929566Z",
     "iopub.status.idle": "2021-01-08T13:42:52.136175Z",
     "shell.execute_reply": "2021-01-08T13:42:52.135514Z",
     "shell.execute_reply.started": "2021-01-08T13:40:58.929795Z"
    }
   },
   "outputs": [
    {
     "name": "stdout",
     "output_type": "stream",
     "text": [
      "Epoch 1/5\n",
      "1688/1688 [==============================] - 22s 13ms/step - loss: 0.6173 - accuracy: 0.7741 - val_loss: 0.4877 - val_accuracy: 0.8220\n",
      "Epoch 2/5\n",
      "1688/1688 [==============================] - 22s 13ms/step - loss: 0.3860 - accuracy: 0.8618 - val_loss: 0.3503 - val_accuracy: 0.8732\n",
      "Epoch 3/5\n",
      "1688/1688 [==============================] - 23s 13ms/step - loss: 0.3219 - accuracy: 0.8830 - val_loss: 0.3118 - val_accuracy: 0.8848\n",
      "Epoch 4/5\n",
      "1688/1688 [==============================] - 22s 13ms/step - loss: 0.2837 - accuracy: 0.8959 - val_loss: 0.2882 - val_accuracy: 0.8935\n",
      "Epoch 5/5\n",
      "1688/1688 [==============================] - 23s 13ms/step - loss: 0.2552 - accuracy: 0.9059 - val_loss: 0.2940 - val_accuracy: 0.8963\n"
     ]
    },
    {
     "data": {
      "text/plain": [
       "<tensorflow.python.keras.callbacks.History at 0x7f833fa5d040>"
      ]
     },
     "execution_count": 16,
     "metadata": {},
     "output_type": "execute_result"
    }
   ],
   "source": [
    "# configure the training\n",
    "model.compile(loss='sparse_categorical_crossentropy',metrics=['accuracy'],optimizer='adam')\n",
    "\n",
    "# train the model. just run a few epochs for this test run. you can adjust later.\n",
    "model.fit(X_train,Y_train,batch_size=32, epochs=5, validation_split=0.1, shuffle=True)"
   ]
  },
  {
   "cell_type": "markdown",
   "metadata": {
    "execution": {
     "iopub.execute_input": "2021-01-08T13:43:57.659257Z",
     "iopub.status.busy": "2021-01-08T13:43:57.659005Z",
     "iopub.status.idle": "2021-01-08T13:43:57.664572Z",
     "shell.execute_reply": "2021-01-08T13:43:57.663361Z",
     "shell.execute_reply.started": "2021-01-08T13:43:57.659230Z"
    }
   },
   "source": [
    "## Generate the Class Activation Map\n",
    "- To generate the CAM, we want to get the features detected in the last convolution layer\n",
    "- Observe which ones are most active when generating the output probabilities "
   ]
  },
  {
   "cell_type": "code",
   "execution_count": 18,
   "metadata": {
    "execution": {
     "iopub.execute_input": "2021-01-08T13:45:11.910265Z",
     "iopub.status.busy": "2021-01-08T13:45:11.910027Z",
     "iopub.status.idle": "2021-01-08T13:45:11.914913Z",
     "shell.execute_reply": "2021-01-08T13:45:11.914118Z",
     "shell.execute_reply.started": "2021-01-08T13:45:11.910239Z"
    }
   },
   "outputs": [
    {
     "name": "stdout",
     "output_type": "stream",
     "text": [
      "conv2d_5\n",
      "global_average_pooling2d\n",
      "dense\n"
     ]
    }
   ],
   "source": [
    "# Final Convolution Layer\n",
    "print(model.layers[-3].name)\n",
    "\n",
    "# Gloval Average Pooling Layer\n",
    "print(model.layers[-2].name)\n",
    "\n",
    "# Output of the classifier\n",
    "print(model.layers[-1].name)"
   ]
  },
  {
   "cell_type": "markdown",
   "metadata": {},
   "source": [
    "### Create CAM model"
   ]
  },
  {
   "cell_type": "code",
   "execution_count": 19,
   "metadata": {
    "execution": {
     "iopub.execute_input": "2021-01-08T13:46:55.835327Z",
     "iopub.status.busy": "2021-01-08T13:46:55.835072Z",
     "iopub.status.idle": "2021-01-08T13:46:55.846028Z",
     "shell.execute_reply": "2021-01-08T13:46:55.845216Z",
     "shell.execute_reply.started": "2021-01-08T13:46:55.835299Z"
    }
   },
   "outputs": [
    {
     "name": "stdout",
     "output_type": "stream",
     "text": [
      "Model: \"model\"\n",
      "_________________________________________________________________\n",
      "Layer (type)                 Output Shape              Param #   \n",
      "=================================================================\n",
      "conv2d_2_input (InputLayer)  [(None, 28, 28, 1)]       0         \n",
      "_________________________________________________________________\n",
      "conv2d_2 (Conv2D)            (None, 28, 28, 16)        160       \n",
      "_________________________________________________________________\n",
      "max_pooling2d_1 (MaxPooling2 (None, 14, 14, 16)        0         \n",
      "_________________________________________________________________\n",
      "conv2d_3 (Conv2D)            (None, 14, 14, 32)        4640      \n",
      "_________________________________________________________________\n",
      "max_pooling2d_2 (MaxPooling2 (None, 7, 7, 32)          0         \n",
      "_________________________________________________________________\n",
      "conv2d_4 (Conv2D)            (None, 7, 7, 64)          18496     \n",
      "_________________________________________________________________\n",
      "max_pooling2d_3 (MaxPooling2 (None, 3, 3, 64)          0         \n",
      "_________________________________________________________________\n",
      "conv2d_5 (Conv2D)            (None, 3, 3, 128)         73856     \n",
      "_________________________________________________________________\n",
      "global_average_pooling2d (Gl (None, 128)               0         \n",
      "_________________________________________________________________\n",
      "dense (Dense)                (None, 10)                1290      \n",
      "=================================================================\n",
      "Total params: 98,442\n",
      "Trainable params: 98,442\n",
      "Non-trainable params: 0\n",
      "_________________________________________________________________\n"
     ]
    }
   ],
   "source": [
    "cam_model = Model(\n",
    "    inputs=model.input,\n",
    "    outputs=(model.layers[-3].output, model.layers[-1].output)\n",
    ")\n",
    "cam_model.summary()"
   ]
  },
  {
   "cell_type": "markdown",
   "metadata": {},
   "source": [
    "Use the CAM model to predict on the test set, so that it generates the features and the predicted probability for each class (`results`)."
   ]
  },
  {
   "cell_type": "code",
   "execution_count": 20,
   "metadata": {
    "execution": {
     "iopub.execute_input": "2021-01-08T13:51:56.838137Z",
     "iopub.status.busy": "2021-01-08T13:51:56.837900Z",
     "iopub.status.idle": "2021-01-08T13:51:57.899883Z",
     "shell.execute_reply": "2021-01-08T13:51:57.898968Z",
     "shell.execute_reply.started": "2021-01-08T13:51:56.838112Z"
    }
   },
   "outputs": [
    {
     "name": "stdout",
     "output_type": "stream",
     "text": [
      "Features shape: (10000, 3, 3, 128)\n",
      "Results shape: (10000, 10)\n"
     ]
    }
   ],
   "source": [
    "# Get the features and results of the test images using the newly created model\n",
    "features, results = cam_model.predict(X_test)\n",
    "\n",
    "print(f'Features shape: {features.shape}')\n",
    "print(f'Results shape: {results.shape}')"
   ]
  },
  {
   "cell_type": "markdown",
   "metadata": {},
   "source": [
    "You can generate the CAM by getting the dot product of the class activation feature and the class activation weights\n",
    "\n",
    "You will need the weights from the Global Average Pooling layer(GAP) to calculate the activations of each feature given a particular class\n",
    "\n",
    "- Note that you will get the weights from the dense layer that follows the GAP layer\n",
    " - The last conv2D layer has (h, w, depth) of (3x3x128) so there 128 features\n",
    " - The GAP layer collapses the h, w f into a dense layer of 128 neurons (1 neuron per feature)\n",
    " - The activations from the GAP layer passed to the last dense layer\n",
    " - The last dense layer assigns weights to each of those 128 features (for each of the 10 classes)\n",
    " - So the weights of the last dense layer(which immediately follows the GAP layer) are referred to in this context as the 'weights of the GAP layer\"\n",
    " \n",
    "For each of the 10 classes, there 128 features, so there are 128 feature weights, one weight per feature"
   ]
  },
  {
   "cell_type": "code",
   "execution_count": 22,
   "metadata": {
    "execution": {
     "iopub.execute_input": "2021-01-08T14:08:46.002555Z",
     "iopub.status.busy": "2021-01-08T14:08:46.002314Z",
     "iopub.status.idle": "2021-01-08T14:08:46.009841Z",
     "shell.execute_reply": "2021-01-08T14:08:46.008944Z",
     "shell.execute_reply.started": "2021-01-08T14:08:46.002528Z"
    }
   },
   "outputs": [
    {
     "name": "stdout",
     "output_type": "stream",
     "text": [
      "gap_weights_l index 0 contains weights  (128, 10)\n",
      "gap_weights_l index 1 contains biases  (10,)\n",
      "There are 128 feature weights and 10 classes.\n"
     ]
    }
   ],
   "source": [
    "# These are the weights going into the softmax layer\n",
    "last_dense_layer = model.layers[-1]\n",
    "\n",
    "# Get the weights list. Index 0 contains the weights, index 1 contains the biases\n",
    "gap_weights_l = last_dense_layer.get_weights()\n",
    "\n",
    "print(\"gap_weights_l index 0 contains weights \", gap_weights_l[0].shape)\n",
    "print(\"gap_weights_l index 1 contains biases \", gap_weights_l[1].shape)\n",
    "\n",
    "# Shows the number of features per class, and the total number of classes\n",
    "# Store the weights\n",
    "gap_weights = gap_weights_l[0]\n",
    "\n",
    "print(f\"There are {gap_weights.shape[0]} feature weights and {gap_weights.shape[1]} classes.\")"
   ]
  },
  {
   "cell_type": "markdown",
   "metadata": {},
   "source": [
    "Now, get the features for a specific image, indexed between 0 and 999."
   ]
  },
  {
   "cell_type": "code",
   "execution_count": 23,
   "metadata": {
    "execution": {
     "iopub.execute_input": "2021-01-08T14:10:50.617881Z",
     "iopub.status.busy": "2021-01-08T14:10:50.617559Z",
     "iopub.status.idle": "2021-01-08T14:10:50.622541Z",
     "shell.execute_reply": "2021-01-08T14:10:50.621624Z",
     "shell.execute_reply.started": "2021-01-08T14:10:50.617850Z"
    }
   },
   "outputs": [
    {
     "name": "stdout",
     "output_type": "stream",
     "text": [
      "The features for image index 0 has shape (height, width, num of feature channels) :  (3, 3, 128)\n"
     ]
    }
   ],
   "source": [
    "# Get the features for the image at index 0\n",
    "idx = 0\n",
    "features_for_img = features[idx, :, :, :]\n",
    "\n",
    "print(f\"The features for image index {idx} has shape (height, width, num of feature channels) : \", features_for_img.shape)"
   ]
  },
  {
   "cell_type": "markdown",
   "metadata": {},
   "source": [
    "The features have height and width of $3\\times3$. Scale them up to the original image height and width, which is $28\\times 28$"
   ]
  },
  {
   "cell_type": "code",
   "execution_count": 24,
   "metadata": {
    "execution": {
     "iopub.execute_input": "2021-01-08T14:16:03.467390Z",
     "iopub.status.busy": "2021-01-08T14:16:03.466976Z",
     "iopub.status.idle": "2021-01-08T14:16:03.510329Z",
     "shell.execute_reply": "2021-01-08T14:16:03.508961Z",
     "shell.execute_reply.started": "2021-01-08T14:16:03.467359Z"
    }
   },
   "outputs": [
    {
     "name": "stdout",
     "output_type": "stream",
     "text": [
      "features_for_img_scaled up to 28 by 28 height and width: (28, 28, 128)\n"
     ]
    }
   ],
   "source": [
    "features_for_img_scaled = sp.ndimage.zoom(\n",
    "    features_for_img,\n",
    "    (28/3, 28/3, 1),\n",
    "    order=2\n",
    ")\n",
    "\n",
    "# Check the shape after scaling up to 28x28 (still 128 feature channels)\n",
    "print(\"features_for_img_scaled up to 28 by 28 height and width:\", features_for_img_scaled.shape)"
   ]
  },
  {
   "cell_type": "markdown",
   "metadata": {},
   "source": [
    "- For a particular class (0...9), get the 128 weights\n",
    "- Take the dot product with the scaled features for thsi selected image with the weights\n",
    "- The shapes are scaled featuere: $h\\times w \\times depth$ of $(28 \\times 28 \\times 128)$ Weights for one class: 128\n",
    "- The dot product produces the class activation map, with the shape equal to the height and widht of the image: $28 \\times 28$"
   ]
  },
  {
   "cell_type": "code",
   "execution_count": 26,
   "metadata": {
    "execution": {
     "iopub.execute_input": "2021-01-08T14:50:55.772793Z",
     "iopub.status.busy": "2021-01-08T14:50:55.772549Z",
     "iopub.status.idle": "2021-01-08T14:50:55.778832Z",
     "shell.execute_reply": "2021-01-08T14:50:55.777961Z",
     "shell.execute_reply.started": "2021-01-08T14:50:55.772767Z"
    }
   },
   "outputs": [
    {
     "name": "stdout",
     "output_type": "stream",
     "text": [
      "features_for_image_scales has shape (28, 28, 128)\n",
      "gap_weights_for_one_class has shape (128,)\n",
      "CAM shape (28, 28)\n"
     ]
    }
   ],
   "source": [
    "# Select the weights that are used for a specific class (0...9)\n",
    "class_id = 0\n",
    "# Take the dot product between the scaled image features and the weights for\n",
    "gap_weights_for_one_class = gap_weights[:, class_id]\n",
    "\n",
    "print(f'features_for_image_scales has shape {features_for_img_scaled.shape}')\n",
    "print(f'gap_weights_for_one_class has shape {gap_weights_for_one_class.shape}')\n",
    "\n",
    "# Take the dot product between the scaled features and the weights for one class\n",
    "cam = np.dot(features_for_img_scaled, gap_weights_for_one_class)\n",
    "\n",
    "print(f'CAM shape {cam.shape}')"
   ]
  },
  {
   "cell_type": "markdown",
   "metadata": {},
   "source": [
    "### Conceptual Interpretation\n",
    "To think conceptually about what what you are doing and why\n",
    "- In the $28 \\times 28 \\times 128$ feature map, each of the 128 feature filter is tailored to look for a specific set of features (for example, a shoelace)\n",
    "    - The actual features are learned, not selected by you directly\n",
    "- Each of the 128 weights for a particular class decide how much weight to give to each of the 128 features, for that class\n",
    "    - for instance, for the shoe class it may have a higher weight for the feature filters that look for shoelaces\n",
    "- At each of the 28 by 28 pixels, you can take the vector of 128 features and compare them with the vector of 128 weights\n",
    "    - You can do this comparison with a dot product\n",
    "    - The dot product results in a scaler value at each pixel\n",
    "    - Apply this dot product across all of the 28 by 28 pixels\n",
    "    - The scalar result of the dot product will be larger when the image both has the particular feature (eg. shoelace) and that feature is also weighted more heavily for the particular class (e.g. shoe)\n",
    "    \n",
    "So you have created a matrix with the same number of pixels as the image, where the value at each pixel is higher when that pixel is relevant to the prediction of a particular class\n"
   ]
  },
  {
   "cell_type": "code",
   "execution_count": 31,
   "metadata": {
    "execution": {
     "iopub.execute_input": "2021-01-08T16:05:33.288106Z",
     "iopub.status.busy": "2021-01-08T16:05:33.287854Z",
     "iopub.status.idle": "2021-01-08T16:05:33.295636Z",
     "shell.execute_reply": "2021-01-08T16:05:33.294825Z",
     "shell.execute_reply.started": "2021-01-08T16:05:33.288079Z"
    }
   },
   "outputs": [],
   "source": [
    "def show_cam(image_index):\n",
    "    '''\n",
    "    Displays the class activation map of a particular image\n",
    "    '''\n",
    "    \n",
    "    # Takes the features of the chosen image\n",
    "    features_for_img = features[image_index, :, :, :]\n",
    "    \n",
    "    # Get the class with the highest output probability\n",
    "    prediction = np.argmax(results[image_index])\n",
    "    \n",
    "    # Get the gap weights at the predicted class\n",
    "    class_activation_weights = gap_weights[:, prediction]\n",
    "    \n",
    "    # Upsample the features to the image's original size 28x28\n",
    "    class_activation_features = sp.ndimage.zoom(features_for_img, (28/3, 28/3, 1), order=2)\n",
    "    \n",
    "    # Compute the intensity of each feature in the CAM\n",
    "    cam_output = np.dot(class_activation_features, class_activation_weights)\n",
    "    \n",
    "    print(f'Predicted Class = {str(prediction)}, Probability = {str(results[image_index][prediction])}')\n",
    "    \n",
    "    # Show the upsampled image\n",
    "    plt.imshow(np.squeeze(X_test[image_index], -1), alpha=0.5)\n",
    "    \n",
    "    # Strongly classified (95% probability) image will be in green else red\n",
    "    if(results[image_index][prediction] > 0.95):\n",
    "        cmap_str = 'Greens'\n",
    "    else:\n",
    "        cmap_str = 'Reds'\n",
    "        \n",
    "    # Overlay the cam output\n",
    "    plt.imshow(cam_output, cmap=cmap_str, alpha=0.5)\n",
    "    \n",
    "    plt.show()"
   ]
  },
  {
   "cell_type": "code",
   "execution_count": 32,
   "metadata": {
    "execution": {
     "iopub.execute_input": "2021-01-08T16:05:33.803269Z",
     "iopub.status.busy": "2021-01-08T16:05:33.803025Z",
     "iopub.status.idle": "2021-01-08T16:05:33.809006Z",
     "shell.execute_reply": "2021-01-08T16:05:33.808026Z",
     "shell.execute_reply.started": "2021-01-08T16:05:33.803243Z"
    }
   },
   "outputs": [],
   "source": [
    "def show_maps(desired_class, num_maps):\n",
    "    '''\n",
    "    Goes through the first 10,000 test images and generates CAMs\n",
    "    for the first `num_maps`(int) of the `desired_class`(int)\n",
    "    '''\n",
    "    \n",
    "    counter = 0\n",
    "    if(desired_class < 10):\n",
    "        print('Please choose a class less than 10')\n",
    "        \n",
    "    # Go throught the first 1000 images \n",
    "    for i in range(0, 10000):\n",
    "        # break if we already displayed the specified number of maps\n",
    "        if counter == num_maps:\n",
    "            break\n",
    "            \n",
    "        # Images that match the class will be shown\n",
    "        if(np.argmax(results[i]) == desired_class):\n",
    "            counter += 1\n",
    "            show_cam(i)"
   ]
  },
  {
   "cell_type": "code",
   "execution_count": 37,
   "metadata": {
    "execution": {
     "iopub.execute_input": "2021-01-08T16:06:19.517727Z",
     "iopub.status.busy": "2021-01-08T16:06:19.517465Z",
     "iopub.status.idle": "2021-01-08T16:06:22.724385Z",
     "shell.execute_reply": "2021-01-08T16:06:22.723482Z",
     "shell.execute_reply.started": "2021-01-08T16:06:19.517700Z"
    }
   },
   "outputs": [
    {
     "name": "stdout",
     "output_type": "stream",
     "text": [
      "Please choose a class less than 10\n",
      "Predicted Class = 2, Probability = 0.9849557\n"
     ]
    },
    {
     "data": {
      "image/png": "[encoded data removed]",
      "text/plain": [
       "<Figure size 432x288 with 1 Axes>"
      ]
     },
     "metadata": {
      "needs_background": "light"
     },
     "output_type": "display_data"
    },
    {
     "name": "stdout",
     "output_type": "stream",
     "text": [
      "Predicted Class = 2, Probability = 0.9448533\n"
     ]
    },
    {
     "data": {
      "image/png": "[encoded data removed]",
      "text/plain": [
       "<Figure size 432x288 with 1 Axes>"
      ]
     },
     "metadata": {
      "needs_background": "light"
     },
     "output_type": "display_data"
    },
    {
     "name": "stdout",
     "output_type": "stream",
     "text": [
      "Predicted Class = 2, Probability = 0.8274722\n"
     ]
    },
    {
     "data": {
      "image/png": "[encoded data removed]",
      "text/plain": [
       "<Figure size 432x288 with 1 Axes>"
      ]
     },
     "metadata": {
      "needs_background": "light"
     },
     "output_type": "display_data"
    },
    {
     "name": "stdout",
     "output_type": "stream",
     "text": [
      "Predicted Class = 2, Probability = 0.6130082\n"
     ]
    },
    {
     "data": {
      "image/png": "[encoded data removed]",
      "text/plain": [
       "<Figure size 432x288 with 1 Axes>"
      ]
     },
     "metadata": {
      "needs_background": "light"
     },
     "output_type": "display_data"
    },
    {
     "name": "stdout",
     "output_type": "stream",
     "text": [
      "Predicted Class = 2, Probability = 0.5137277\n"
     ]
    },
    {
     "data": {
      "image/png": "[encoded data removed]",
      "text/plain": [
       "<Figure size 432x288 with 1 Axes>"
      ]
     },
     "metadata": {
      "needs_background": "light"
     },
     "output_type": "display_data"
    },
    {
     "name": "stdout",
     "output_type": "stream",
     "text": [
      "Predicted Class = 2, Probability = 0.3530028\n"
     ]
    },
    {
     "data": {
      "image/png": "[encoded data removed]",
      "text/plain": [
       "<Figure size 432x288 with 1 Axes>"
      ]
     },
     "metadata": {
      "needs_background": "light"
     },
     "output_type": "display_data"
    },
    {
     "name": "stdout",
     "output_type": "stream",
     "text": [
      "Predicted Class = 2, Probability = 0.94689393\n"
     ]
    },
    {
     "data": {
      "image/png": "[encoded data removed]",
      "text/plain": [
       "<Figure size 432x288 with 1 Axes>"
      ]
     },
     "metadata": {
      "needs_background": "light"
     },
     "output_type": "display_data"
    },
    {
     "name": "stdout",
     "output_type": "stream",
     "text": [
      "Predicted Class = 2, Probability = 0.7591075\n"
     ]
    },
    {
     "data": {
      "image/png": "[encoded data removed]",
      "text/plain": [
       "<Figure size 432x288 with 1 Axes>"
      ]
     },
     "metadata": {
      "needs_background": "light"
     },
     "output_type": "display_data"
    },
    {
     "name": "stdout",
     "output_type": "stream",
     "text": [
      "Predicted Class = 2, Probability = 0.7176438\n"
     ]
    },
    {
     "data": {
      "image/png": "[encoded data removed]",
      "text/plain": [
       "<Figure size 432x288 with 1 Axes>"
      ]
     },
     "metadata": {
      "needs_background": "light"
     },
     "output_type": "display_data"
    },
    {
     "name": "stdout",
     "output_type": "stream",
     "text": [
      "Predicted Class = 2, Probability = 0.64259696\n"
     ]
    },
    {
     "data": {
      "image/png": "[encoded data removed]",
      "text/plain": [
       "<Figure size 432x288 with 1 Axes>"
      ]
     },
     "metadata": {
      "needs_background": "light"
     },
     "output_type": "display_data"
    },
    {
     "name": "stdout",
     "output_type": "stream",
     "text": [
      "Predicted Class = 2, Probability = 0.97974485\n"
     ]
    },
    {
     "data": {
      "image/png": "[encoded data removed]",
      "text/plain": [
       "<Figure size 432x288 with 1 Axes>"
      ]
     },
     "metadata": {
      "needs_background": "light"
     },
     "output_type": "display_data"
    },
    {
     "name": "stdout",
     "output_type": "stream",
     "text": [
      "Predicted Class = 2, Probability = 0.9907007\n"
     ]
    },
    {
     "data": {
      "image/png": "[encoded data removed]",
      "text/plain": [
       "<Figure size 432x288 with 1 Axes>"
      ]
     },
     "metadata": {
      "needs_background": "light"
     },
     "output_type": "display_data"
    },
    {
     "name": "stdout",
     "output_type": "stream",
     "text": [
      "Predicted Class = 2, Probability = 0.80580676\n"
     ]
    },
    {
     "data": {
      "image/png": "[encoded data removed]",
      "text/plain": [
       "<Figure size 432x288 with 1 Axes>"
      ]
     },
     "metadata": {
      "needs_background": "light"
     },
     "output_type": "display_data"
    },
    {
     "name": "stdout",
     "output_type": "stream",
     "text": [
      "Predicted Class = 2, Probability = 0.96216756\n"
     ]
    },
    {
     "data": {
      "image/png": "[encoded data removed]",
      "text/plain": [
       "<Figure size 432x288 with 1 Axes>"
      ]
     },
     "metadata": {
      "needs_background": "light"
     },
     "output_type": "display_data"
    },
    {
     "name": "stdout",
     "output_type": "stream",
     "text": [
      "Predicted Class = 2, Probability = 0.9450252\n"
     ]
    },
    {
     "data": {
      "image/png": "[encoded data removed]",
      "text/plain": [
       "<Figure size 432x288 with 1 Axes>"
      ]
     },
     "metadata": {
      "needs_background": "light"
     },
     "output_type": "display_data"
    },
    {
     "name": "stdout",
     "output_type": "stream",
     "text": [
      "Predicted Class = 2, Probability = 0.6664999\n"
     ]
    },
    {
     "data": {
      "image/png": "[encoded data removed]",
      "text/plain": [
       "<Figure size 432x288 with 1 Axes>"
      ]
     },
     "metadata": {
      "needs_background": "light"
     },
     "output_type": "display_data"
    },
    {
     "name": "stdout",
     "output_type": "stream",
     "text": [
      "Predicted Class = 2, Probability = 0.98637855\n"
     ]
    },
    {
     "data": {
      "image/png": "[encoded data removed]",
      "text/plain": [
       "<Figure size 432x288 with 1 Axes>"
      ]
     },
     "metadata": {
      "needs_background": "light"
     },
     "output_type": "display_data"
    },
    {
     "name": "stdout",
     "output_type": "stream",
     "text": [
      "Predicted Class = 2, Probability = 0.96365666\n"
     ]
    },
    {
     "data": {
      "image/png": "[encoded data removed]",
      "text/plain": [
       "<Figure size 432x288 with 1 Axes>"
      ]
     },
     "metadata": {
      "needs_background": "light"
     },
     "output_type": "display_data"
    },
    {
     "name": "stdout",
     "output_type": "stream",
     "text": [
      "Predicted Class = 2, Probability = 0.5653544\n"
     ]
    },
    {
     "data": {
      "image/png": "[encoded data removed]",
      "text/plain": [
       "<Figure size 432x288 with 1 Axes>"
      ]
     },
     "metadata": {
      "needs_background": "light"
     },
     "output_type": "display_data"
    },
    {
     "name": "stdout",
     "output_type": "stream",
     "text": [
      "Predicted Class = 2, Probability = 0.9825525\n"
     ]
    },
    {
     "data": {
      "image/png": "[encoded data removed]",
      "text/plain": [
       "<Figure size 432x288 with 1 Axes>"
      ]
     },
     "metadata": {
      "needs_background": "light"
     },
     "output_type": "display_data"
    }
   ],
   "source": [
    "show_maps(desired_class=2, num_maps=20)"
   ]
  },
  {
   "cell_type": "code",
   "execution_count": null,
   "metadata": {},
   "outputs": [],
   "source": []
  }
 ],
 "metadata": {
  "kernelspec": {
   "display_name": "Python 3",
   "language": "python",
   "name": "python3"
  },
  "language_info": {
   "codemirror_mode": {
    "name": "ipython",
    "version": 3
   },
   "file_extension": ".py",
   "mimetype": "text/x-python",
   "name": "python",
   "nbconvert_exporter": "python",
   "pygments_lexer": "ipython3",
   "version": "3.8.3"
  }
 },
 "nbformat": 4,
 "nbformat_minor": 4
}
