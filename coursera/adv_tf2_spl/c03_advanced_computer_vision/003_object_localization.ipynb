{
 "cells": [
  {
   "cell_type": "markdown",
   "metadata": {},
   "source": [
    "# Image Classification and Localization"
   ]
  },
  {
   "cell_type": "code",
   "execution_count": 1,
   "metadata": {
    "execution": {
     "iopub.execute_input": "2020-12-26T11:38:48.493075Z",
     "iopub.status.busy": "2020-12-26T11:38:48.492814Z",
     "iopub.status.idle": "2020-12-26T11:38:52.468748Z",
     "shell.execute_reply": "2020-12-26T11:38:52.467502Z",
     "shell.execute_reply.started": "2020-12-26T11:38:48.493047Z"
    }
   },
   "outputs": [],
   "source": [
    "import os, re, time, json\n",
    "import PIL.Image, PIL.ImageFont, PIL.ImageDraw\n",
    "import numpy as np\n",
    "try:\n",
    "    %tensorflow_version 2.x\n",
    "except Exception:\n",
    "    pass\n",
    "import tensorflow as tf\n",
    "from matplotlib import pyplot as plt\n",
    "import tensorflow_datasets as tfds"
   ]
  },
  {
   "cell_type": "code",
   "execution_count": 23,
   "metadata": {
    "execution": {
     "iopub.execute_input": "2020-12-26T12:21:33.522652Z",
     "iopub.status.busy": "2020-12-26T12:21:33.522390Z",
     "iopub.status.idle": "2020-12-26T12:21:33.535288Z",
     "shell.execute_reply": "2020-12-26T12:21:33.534537Z",
     "shell.execute_reply.started": "2020-12-26T12:21:33.522626Z"
    }
   },
   "outputs": [],
   "source": [
    "#@title Plot Utilities for Bounding Boxes [RUN ME]\n",
    "\n",
    "im_width = 75\n",
    "im_height = 75\n",
    "use_normalized_coordinates = True\n",
    "\n",
    "def draw_bounding_boxes_on_image_array(\n",
    "    image,\n",
    "    boxes,\n",
    "    color=[],\n",
    "    thickness=1,\n",
    "    display_str_list=()\n",
    "):\n",
    "    \"\"\"Draws bounding boxes on image (numpy array).\n",
    "    Args:\n",
    "    image: a numpy array object.\n",
    "    boxes: a 2 dimensional numpy array of [N, 4]: (ymin, xmin, ymax, xmax).\n",
    "           The coordinates are in normalized format between [0, 1].\n",
    "    color: color to draw bounding box. Default is red.\n",
    "    thickness: line thickness. Default value is 4.\n",
    "    display_str_list_list: a list of strings for each bounding box.\n",
    "    Raises:\n",
    "    ValueError: if boxes is not a [N, 4] array\n",
    "    \"\"\"\n",
    "    image_pil = PIL.Image.fromarray(image)\n",
    "    rgbimg = PIL.Image.new(\"RGBA\", image_pil.size)\n",
    "    rgbimg.paste(image_pil)\n",
    "    draw_bounding_boxes_on_image(rgbimg, boxes, color, thickness,\n",
    "                               display_str_list)\n",
    "    return np.array(rgbimg)\n",
    "  \n",
    "\n",
    "def draw_bounding_boxes_on_image(image,\n",
    "                                 boxes,\n",
    "                                 color=[],\n",
    "                                 thickness=1,\n",
    "                                 display_str_list=()):\n",
    "    \"\"\"\n",
    "    Draws bounding boxes on image.\n",
    "    Args:\n",
    "    image: a PIL.Image object.\n",
    "    boxes: a 2 dimensional numpy array of [N, 4]: (ymin, xmin, ymax, xmax).\n",
    "           The coordinates are in normalized format between [0, 1].\n",
    "    color: color to draw bounding box. Default is red.\n",
    "    thickness: line thickness. Default value is 4.\n",
    "    display_str_list: a list of strings for each bounding box.\n",
    "\n",
    "    Raises:\n",
    "    ValueError: if boxes is not a [N, 4] array\n",
    "    \"\"\"\n",
    "    boxes_shape = boxes.shape\n",
    "    if not boxes_shape:\n",
    "        return\n",
    "    if len(boxes_shape) != 2 or boxes_shape[1] != 4:\n",
    "        raise ValueError('Input must be of size [N, 4]')\n",
    "    for i in range(boxes_shape[0]):\n",
    "        draw_bounding_box_on_image(image, boxes[i, 1], boxes[i, 0], boxes[i, 3],\n",
    "                               boxes[i, 2], color[i], thickness, display_str_list[i])\n",
    "\n",
    "def draw_bounding_box_on_image(\n",
    "    image,\n",
    "    ymin,\n",
    "    xmin,\n",
    "    ymax,\n",
    "    xmax,\n",
    "    color='red',\n",
    "    thickness=1,\n",
    "    display_str=None,\n",
    "    use_normalized_coordinates=True\n",
    "):\n",
    "    \"\"\"\n",
    "    Adds a bounding box to an image.\n",
    "    Bounding box coordinates can be specified in either absolute (pixel) or\n",
    "    normalized coordinates by setting the use_normalized_coordinates argument.\n",
    "    Args:\n",
    "    image: a PIL.Image object.\n",
    "    ymin: ymin of bounding box.\n",
    "    xmin: xmin of bounding box.\n",
    "    ymax: ymax of bounding box.\n",
    "    xmax: xmax of bounding box.\n",
    "    color: color to draw bounding box. Default is red.\n",
    "    thickness: line thickness. Default value is 4.\n",
    "    display_str_list: string to display in box\n",
    "    use_normalized_coordinates: If True (default), treat coordinates\n",
    "      ymin, xmin, ymax, xmax as relative to the image.  Otherwise treat\n",
    "      coordinates as absolute.\n",
    "    \"\"\"\n",
    "    draw = PIL.ImageDraw.Draw(image)\n",
    "    im_width, im_height = image.size\n",
    "    if use_normalized_coordinates:\n",
    "        (left, right, top, bottom) = (xmin * im_width, xmax * im_width,\n",
    "                                  ymin * im_height, ymax * im_height)\n",
    "    else:\n",
    "        (left, right, top, bottom) = (xmin, xmax, ymin, ymax)\n",
    "    draw.line([(left, top), (left, bottom), (right, bottom),\n",
    "         (right, top), (left, top)], width=thickness, fill=color)\n",
    "\n"
   ]
  },
  {
   "cell_type": "code",
   "execution_count": 24,
   "metadata": {
    "execution": {
     "iopub.execute_input": "2020-12-26T12:21:34.413639Z",
     "iopub.status.busy": "2020-12-26T12:21:34.413386Z",
     "iopub.status.idle": "2020-12-26T12:21:34.439889Z",
     "shell.execute_reply": "2020-12-26T12:21:34.439155Z",
     "shell.execute_reply.started": "2020-12-26T12:21:34.413612Z"
    }
   },
   "outputs": [],
   "source": [
    "#@title Visualization Utilities [RUN ME]\n",
    "\"\"\"\n",
    "This cell contains helper functions used for visualization\n",
    "and downloads only. \n",
    "\n",
    "You can skip reading it, as there is very\n",
    "little Keras or Tensorflow related code here.\n",
    "\"\"\"\n",
    "\n",
    "# Matplotlib config\n",
    "plt.rc('image', cmap='gray')\n",
    "plt.rc('grid', linewidth=0)\n",
    "plt.rc('xtick', top=False, bottom=False, labelsize='large')\n",
    "plt.rc('ytick', left=False, right=False, labelsize='large')\n",
    "plt.rc('axes', facecolor='F8F8F8', titlesize=\"large\", edgecolor='white')\n",
    "plt.rc('text', color='a8151a')\n",
    "plt.rc('figure', facecolor='F0F0F0')# Matplotlib fonts\n",
    "MATPLOTLIB_FONT_DIR = os.path.join(os.path.dirname(plt.__file__), \"mpl-data/fonts/ttf\")\n",
    "\n",
    "# pull a batch from the datasets. This code is not very nice, it gets much better in eager mode (TODO)\n",
    "def dataset_to_numpy_util(training_dataset, validation_dataset, N):\n",
    "  \n",
    "    # get one batch from each: 10000 validation digits, N training digits\n",
    "    batch_train_ds = training_dataset.unbatch().batch(N)\n",
    "\n",
    "    # eager execution: loop through datasets normally\n",
    "    if tf.executing_eagerly():\n",
    "        for validation_digits, (validation_labels, validation_bboxes) in validation_dataset:\n",
    "            validation_digits = validation_digits.numpy()\n",
    "            validation_labels = validation_labels.numpy()\n",
    "            validation_bboxes = validation_bboxes.numpy()\n",
    "            break\n",
    "        for training_digits, (training_labels, training_bboxes) in batch_train_ds:\n",
    "            training_digits = training_digits.numpy()\n",
    "            training_labels = training_labels.numpy()\n",
    "            training_bboxes = training_bboxes.numpy()\n",
    "            break\n",
    "\n",
    "    # these were one-hot encoded in the dataset\n",
    "    validation_labels = np.argmax(validation_labels, axis=1)\n",
    "    training_labels = np.argmax(training_labels, axis=1)\n",
    "\n",
    "    return (training_digits, training_labels, training_bboxes,\n",
    "          validation_digits, validation_labels, validation_bboxes)\n",
    "\n",
    "# create digits from local fonts for testing\n",
    "def create_digits_from_local_fonts(n):\n",
    "    font_labels = []\n",
    "    img = PIL.Image.new('LA', (75*n, 75), color = (0,255)) # format 'LA': black in channel 0, alpha in channel 1\n",
    "    font1 = PIL.ImageFont.truetype(os.path.join(MATPLOTLIB_FONT_DIR, 'DejaVuSansMono-Oblique.ttf'), 25)\n",
    "    font2 = PIL.ImageFont.truetype(os.path.join(MATPLOTLIB_FONT_DIR, 'STIXGeneral.ttf'), 25)\n",
    "    d = PIL.ImageDraw.Draw(img)\n",
    "    for i in range(n):\n",
    "        font_labels.append(i%10)\n",
    "        d.text((7+i*75,0 if i<10 else -4), str(i%10), fill=(255,255), font=font1 if i<10 else font2)\n",
    "    font_digits = np.array(img.getdata(), np.float32)[:,0] / 255.0 # black in channel 0, alpha in channel 1 (discarded)\n",
    "    font_digits = np.reshape(np.stack(np.split(np.reshape(font_digits, [75, 75*n]), n, axis=1), axis=0), [n, 75*75])\n",
    "    return font_digits, font_labels\n",
    "\n",
    "\n",
    "# utility to display a row of digits with their predictions\n",
    "def display_digits_with_boxes(digits, predictions, labels, pred_bboxes, bboxes, iou, title):\n",
    "\n",
    "    n = 10\n",
    "\n",
    "    indexes = np.random.choice(len(predictions), size=n)\n",
    "    n_digits = digits[indexes]\n",
    "    n_predictions = predictions[indexes]\n",
    "    n_labels = labels[indexes]\n",
    "\n",
    "    n_iou = []\n",
    "    if len(iou) > 0:\n",
    "        n_iou = iou[indexes]\n",
    "\n",
    "    if (len(pred_bboxes) > 0):\n",
    "        n_pred_bboxes = pred_bboxes[indexes,:]\n",
    "\n",
    "    if (len(bboxes) > 0):\n",
    "        n_bboxes = bboxes[indexes,:]\n",
    "\n",
    "\n",
    "    n_digits = n_digits * 255.0\n",
    "    n_digits = n_digits.reshape(n, 75, 75)\n",
    "    fig = plt.figure(figsize=(20, 4))\n",
    "    plt.title(title)\n",
    "    plt.yticks([])\n",
    "    plt.xticks([])\n",
    "  \n",
    "    for i in range(10):\n",
    "        ax = fig.add_subplot(1, 10, i+1)\n",
    "        bboxes_to_plot = []\n",
    "        if (len(pred_bboxes) > i):\n",
    "            bboxes_to_plot.append(n_pred_bboxes[i])\n",
    "\n",
    "        if (len(bboxes) > i):\n",
    "            bboxes_to_plot.append(n_bboxes[i])\n",
    "\n",
    "        img_to_draw = draw_bounding_boxes_on_image_array(image=n_digits[i], boxes=np.asarray(bboxes_to_plot), color=['red', 'green'], display_str_list=[\"true\", \"pred\"])\n",
    "        plt.xlabel(n_predictions[i])\n",
    "        plt.xticks([])\n",
    "        plt.yticks([])\n",
    "    \n",
    "        if n_predictions[i] != n_labels[i]:\n",
    "            ax.xaxis.label.set_color('red')\n",
    "\n",
    "    \n",
    "    \n",
    "    plt.imshow(img_to_draw)\n",
    "\n",
    "    if len(iou) > i :\n",
    "        color = \"black\"\n",
    "        \n",
    "        if (n_iou[i][0] < iou_threshold):\n",
    "            color = \"red\"\n",
    "        ax.text(0.2, -0.3, \"iou: %s\" %(n_iou[i][0]), color=color, transform=ax.transAxes)\n",
    "\n",
    "\n",
    "# utility to display training and validation curves\n",
    "def plot_metrics(metric_name, title, ylim=5):\n",
    "    plt.title(title)\n",
    "    plt.ylim(0,ylim)\n",
    "    plt.plot(history.history[metric_name],color='blue',label=metric_name)\n",
    "    plt.plot(history.history['val_' + metric_name],color='green',label='val_' + metric_name)"
   ]
  },
  {
   "cell_type": "markdown",
   "metadata": {},
   "source": [
    "## TPU or GPU Detection"
   ]
  },
  {
   "cell_type": "code",
   "execution_count": 25,
   "metadata": {
    "execution": {
     "iopub.execute_input": "2020-12-26T12:21:35.655366Z",
     "iopub.status.busy": "2020-12-26T12:21:35.655121Z",
     "iopub.status.idle": "2020-12-26T12:21:35.663093Z",
     "shell.execute_reply": "2020-12-26T12:21:35.661814Z",
     "shell.execute_reply.started": "2020-12-26T12:21:35.655340Z"
    }
   },
   "outputs": [
    {
     "name": "stdout",
     "output_type": "stream",
     "text": [
      "None\n",
      "Running a Single CPU\n",
      "Number of Accelerators: 1\n"
     ]
    }
   ],
   "source": [
    "try:\n",
    "    tpu = tf.distribute.cluster_resolver.TPUClusterResolver()\n",
    "except ValueError:\n",
    "    tpu = None\n",
    "    gpus = tf.config.experimental.list_logical_devices(\"GPU\")\n",
    "    \n",
    "print(tpu)\n",
    "    \n",
    "if(tpu):\n",
    "    tf.config.experimental_connect_to_cluster(tpu)\n",
    "    tf.tpu.experimental.initialize_tpu_system(tpu)\n",
    "    strategy = tf.distribute.experimental.TPUStrategy(tpu)\n",
    "    print(f'Running on TPU {tpu.cluster_spec().as_dict()[\"worker\"]}')\n",
    "elif(len(gpus) > 1):\n",
    "    strategy = tf.distribute.MirroredStrategy([gpu.name for gpu in gpus])\n",
    "    print(f'Running on multiple GPUs {[gpu.name for gpu in gpus]}')\n",
    "elif(len(gpus) == 1):\n",
    "    strategy = tf.distribute.get_strategy() # default strategy that works on CPU and single GPU\n",
    "    print('Running on single GPU ', gpus[0].name)\n",
    "else:\n",
    "    strategy = tf.distribute.get_strategy()\n",
    "    print('Running a Single CPU')\n",
    "print(f'Number of Accelerators: {strategy.num_replicas_in_sync}')"
   ]
  },
  {
   "cell_type": "markdown",
   "metadata": {},
   "source": [
    "### Parameters\n",
    "\n",
    "The global batch size is the batch size per replica (64 in this case) times the number of replicas in the distribution strategy."
   ]
  },
  {
   "cell_type": "code",
   "execution_count": 26,
   "metadata": {
    "execution": {
     "iopub.execute_input": "2020-12-26T12:21:36.923103Z",
     "iopub.status.busy": "2020-12-26T12:21:36.922856Z",
     "iopub.status.idle": "2020-12-26T12:21:36.926542Z",
     "shell.execute_reply": "2020-12-26T12:21:36.925782Z",
     "shell.execute_reply.started": "2020-12-26T12:21:36.923077Z"
    }
   },
   "outputs": [],
   "source": [
    "BATCH_SIZE = 64 * strategy.num_replicas_in_sync # Gobal batch size.\n",
    "# The global batch size will be automatically sharded across all\n",
    "# replicas by the tf.data.Dataset API. A single TPU has 8 cores.\n",
    "# The best practice is to scale the batch size by the number of\n",
    "# replicas (cores). The learning rate should be increased as well.\n"
   ]
  },
  {
   "cell_type": "markdown",
   "metadata": {},
   "source": [
    "## Loading and Preprocessing Image"
   ]
  },
  {
   "cell_type": "code",
   "execution_count": 27,
   "metadata": {
    "execution": {
     "iopub.execute_input": "2020-12-26T12:21:38.014788Z",
     "iopub.status.busy": "2020-12-26T12:21:38.014542Z",
     "iopub.status.idle": "2020-12-26T12:21:38.021504Z",
     "shell.execute_reply": "2020-12-26T12:21:38.020776Z",
     "shell.execute_reply.started": "2020-12-26T12:21:38.014763Z"
    }
   },
   "outputs": [],
   "source": [
    "def read_image_tfds(image, label):\n",
    "    xmin = tf.random.uniform((), 0, 48, dtype=tf.int32)\n",
    "    ymin = tf.random.uniform((), 0, 48, dtype=tf.int32)\n",
    "    \n",
    "    image = tf.reshape(image, (28, 28, 1,))\n",
    "    image = tf.image.pad_to_bounding_box(image, ymin, xmin, 75, 75)\n",
    "    \n",
    "    image = tf.cast(image, tf.float32) / 255.0\n",
    "    xmin = tf.cast(xmin, tf.float32)\n",
    "    ymin = tf.cast(ymin, tf.float32)\n",
    "    \n",
    "    xmax = (xmin + 28) / 75\n",
    "    ymax = (ymin + 28) / 75\n",
    "    \n",
    "    xmin = xmin / 75\n",
    "    ymin = ymin / 75\n",
    "    \n",
    "    return image, (tf.one_hot(label, 10), [xmin, ymin, xmax, ymax])"
   ]
  },
  {
   "cell_type": "code",
   "execution_count": 28,
   "metadata": {
    "execution": {
     "iopub.execute_input": "2020-12-26T12:21:38.526911Z",
     "iopub.status.busy": "2020-12-26T12:21:38.526687Z",
     "iopub.status.idle": "2020-12-26T12:21:38.531749Z",
     "shell.execute_reply": "2020-12-26T12:21:38.530987Z",
     "shell.execute_reply.started": "2020-12-26T12:21:38.526889Z"
    }
   },
   "outputs": [],
   "source": [
    "def get_training_dataset():\n",
    "    with strategy.scope():\n",
    "        dataset = tfds.load('mnist', split=\"train\", as_supervised=True, try_gcs=True)\n",
    "        dataset = dataset.map(read_image_tfds, num_parallel_calls=16)\n",
    "        dataset = dataset.shuffle(5000, reshuffle_each_iteration=True)\n",
    "        dataset = dataset.repeat()\n",
    "        dataset = dataset.batch(BATCH_SIZE, drop_remainder=True)\n",
    "        dataset = dataset.prefetch(-1)\n",
    "        \n",
    "    return dataset"
   ]
  },
  {
   "cell_type": "code",
   "execution_count": 29,
   "metadata": {
    "execution": {
     "iopub.execute_input": "2020-12-26T12:21:38.959693Z",
     "iopub.status.busy": "2020-12-26T12:21:38.959201Z",
     "iopub.status.idle": "2020-12-26T12:21:38.965330Z",
     "shell.execute_reply": "2020-12-26T12:21:38.964556Z",
     "shell.execute_reply.started": "2020-12-26T12:21:38.959641Z"
    }
   },
   "outputs": [],
   "source": [
    "def get_validation_dataset():\n",
    "    dataset = tfds.load(\"mnist\", split=\"test\", as_supervised=True, try_gcs=True)\n",
    "    dataset = dataset.map(read_image_tfds, num_parallel_calls=16)\n",
    "    \n",
    "    dataset = dataset.batch(10000, drop_remainder=True)\n",
    "    dataset = dataset.repeat()\n",
    "    return dataset"
   ]
  },
  {
   "cell_type": "code",
   "execution_count": 30,
   "metadata": {
    "execution": {
     "iopub.execute_input": "2020-12-26T12:21:39.365986Z",
     "iopub.status.busy": "2020-12-26T12:21:39.365739Z",
     "iopub.status.idle": "2020-12-26T12:21:56.814480Z",
     "shell.execute_reply": "2020-12-26T12:21:56.813524Z",
     "shell.execute_reply.started": "2020-12-26T12:21:39.365960Z"
    }
   },
   "outputs": [],
   "source": [
    "with strategy.scope():\n",
    "    training_dataset = get_training_dataset()\n",
    "    validation_dataset = get_validation_dataset()"
   ]
  },
  {
   "cell_type": "markdown",
   "metadata": {},
   "source": [
    "## Visualize Data"
   ]
  },
  {
   "cell_type": "code",
   "execution_count": 31,
   "metadata": {
    "execution": {
     "iopub.execute_input": "2020-12-26T12:21:56.815955Z",
     "iopub.status.busy": "2020-12-26T12:21:56.815689Z",
     "iopub.status.idle": "2020-12-26T12:22:22.878623Z",
     "shell.execute_reply": "2020-12-26T12:22:22.877762Z",
     "shell.execute_reply.started": "2020-12-26T12:21:56.815928Z"
    }
   },
   "outputs": [
    {
     "data": {
      "image/png": "[encoded data removed]",
      "text/plain": [
       "<Figure size 1440x288 with 11 Axes>"
      ]
     },
     "metadata": {},
     "output_type": "display_data"
    },
    {
     "data": {
      "image/png": "[encoded data removed]",
      "text/plain": [
       "<Figure size 1440x288 with 11 Axes>"
      ]
     },
     "metadata": {},
     "output_type": "display_data"
    }
   ],
   "source": [
    "(training_digits, training_labels, training_bboxes,\n",
    " validation_digits, validation_labels, validation_bboxes) = dataset_to_numpy_util(\n",
    "    training_dataset, validation_dataset, 10\n",
    ")\n",
    "\n",
    "display_digits_with_boxes(\n",
    "    training_digits, training_labels, training_labels, \n",
    "    np.array([]), training_bboxes, np.array([]), \"training digits and their labels\"\n",
    ")\n",
    "display_digits_with_boxes(\n",
    "    validation_digits, validation_labels, validation_labels, \n",
    "    np.array([]), validation_bboxes, np.array([]), \"validation digits and their labels\"\n",
    ")\n"
   ]
  },
  {
   "cell_type": "markdown",
   "metadata": {},
   "source": [
    "## Define the Network"
   ]
  },
  {
   "cell_type": "code",
   "execution_count": 32,
   "metadata": {
    "execution": {
     "iopub.execute_input": "2020-12-26T12:23:52.196395Z",
     "iopub.status.busy": "2020-12-26T12:23:52.196142Z",
     "iopub.status.idle": "2020-12-26T12:23:52.210400Z",
     "shell.execute_reply": "2020-12-26T12:23:52.209329Z",
     "shell.execute_reply.started": "2020-12-26T12:23:52.196369Z"
    }
   },
   "outputs": [],
   "source": [
    "'''\n",
    "Feature extractor is the CNN that is made up of convolution and pooling layers.\n",
    "'''\n",
    "def feature_extractor(inputs):\n",
    "    x = tf.keras.layers.Conv2D(16, activation='relu', kernel_size=3, input_shape=(75, 75, 1))(inputs)\n",
    "    x = tf.keras.layers.AveragePooling2D((2, 2))(x)\n",
    "\n",
    "    x = tf.keras.layers.Conv2D(32,kernel_size=3,activation='relu')(x)\n",
    "    x = tf.keras.layers.AveragePooling2D((2, 2))(x)\n",
    "\n",
    "    x = tf.keras.layers.Conv2D(64,kernel_size=3,activation='relu')(x)\n",
    "    x = tf.keras.layers.AveragePooling2D((2, 2))(x)\n",
    "\n",
    "    return x\n",
    "\n",
    "'''\n",
    "dense_layers adds a flatten and dense layer.\n",
    "This will follow the feature extraction layers\n",
    "'''\n",
    "def dense_layers(inputs):\n",
    "    x = tf.keras.layers.Flatten()(inputs)\n",
    "    x = tf.keras.layers.Dense(128, activation='relu')(x)\n",
    "    return x\n",
    "\n",
    "\n",
    "'''\n",
    "Classifier defines the classification output.\n",
    "This has a set of fully connected layers and a softmax layer.\n",
    "'''\n",
    "def classifier(inputs):\n",
    "\n",
    "    classification_output = tf.keras.layers.Dense(10, activation='softmax', name = 'classification')(inputs)\n",
    "    return classification_output\n",
    "\n",
    "\n",
    "'''\n",
    "This function defines the regression output for bounding box prediction. \n",
    "Note that we have four outputs corresponding to (xmin, ymin, xmax, ymax)\n",
    "'''\n",
    "def bounding_box_regression(inputs):\n",
    "    bounding_box_regression_output = tf.keras.layers.Dense(units = '4', name = 'bounding_box')(inputs)\n",
    "    return bounding_box_regression_output\n",
    "\n",
    "\n",
    "def final_model(inputs):\n",
    "    feature_cnn = feature_extractor(inputs)\n",
    "    dense_output = dense_layers(feature_cnn)\n",
    "\n",
    "    '''\n",
    "    The model branches here.  \n",
    "    The dense layer's output gets fed into two branches:\n",
    "    classification_output and bounding_box_output\n",
    "    '''\n",
    "    classification_output = classifier(dense_output)\n",
    "    bounding_box_output = bounding_box_regression(dense_output)\n",
    "\n",
    "    model = tf.keras.Model(inputs = inputs, outputs = [classification_output, bounding_box_output])\n",
    "\n",
    "    return model\n",
    "  \n",
    "\n",
    "def define_and_compile_model(inputs):\n",
    "    model = final_model(inputs)\n",
    "\n",
    "    model.compile(optimizer='adam', \n",
    "              loss = {'classification' : 'categorical_crossentropy',\n",
    "                      'bounding_box' : 'mse'\n",
    "                     },\n",
    "              metrics = {'classification' : 'accuracy',\n",
    "                         'bounding_box' : 'mse'\n",
    "                        })\n",
    "    return model\n"
   ]
  },
  {
   "cell_type": "code",
   "execution_count": 33,
   "metadata": {
    "execution": {
     "iopub.execute_input": "2020-12-26T12:24:40.824475Z",
     "iopub.status.busy": "2020-12-26T12:24:40.824229Z",
     "iopub.status.idle": "2020-12-26T12:24:40.929291Z",
     "shell.execute_reply": "2020-12-26T12:24:40.928372Z",
     "shell.execute_reply.started": "2020-12-26T12:24:40.824449Z"
    }
   },
   "outputs": [
    {
     "name": "stdout",
     "output_type": "stream",
     "text": [
      "Model: \"model\"\n",
      "__________________________________________________________________________________________________\n",
      "Layer (type)                    Output Shape         Param #     Connected to                     \n",
      "==================================================================================================\n",
      "input_1 (InputLayer)            [(None, 75, 75, 1)]  0                                            \n",
      "__________________________________________________________________________________________________\n",
      "conv2d (Conv2D)                 (None, 73, 73, 16)   160         input_1[0][0]                    \n",
      "__________________________________________________________________________________________________\n",
      "average_pooling2d (AveragePooli (None, 36, 36, 16)   0           conv2d[0][0]                     \n",
      "__________________________________________________________________________________________________\n",
      "conv2d_1 (Conv2D)               (None, 34, 34, 32)   4640        average_pooling2d[0][0]          \n",
      "__________________________________________________________________________________________________\n",
      "average_pooling2d_1 (AveragePoo (None, 17, 17, 32)   0           conv2d_1[0][0]                   \n",
      "__________________________________________________________________________________________________\n",
      "conv2d_2 (Conv2D)               (None, 15, 15, 64)   18496       average_pooling2d_1[0][0]        \n",
      "__________________________________________________________________________________________________\n",
      "average_pooling2d_2 (AveragePoo (None, 7, 7, 64)     0           conv2d_2[0][0]                   \n",
      "__________________________________________________________________________________________________\n",
      "flatten (Flatten)               (None, 3136)         0           average_pooling2d_2[0][0]        \n",
      "__________________________________________________________________________________________________\n",
      "dense (Dense)                   (None, 128)          401536      flatten[0][0]                    \n",
      "__________________________________________________________________________________________________\n",
      "classification (Dense)          (None, 10)           1290        dense[0][0]                      \n",
      "__________________________________________________________________________________________________\n",
      "bounding_box (Dense)            (None, 4)            516         dense[0][0]                      \n",
      "==================================================================================================\n",
      "Total params: 426,638\n",
      "Trainable params: 426,638\n",
      "Non-trainable params: 0\n",
      "__________________________________________________________________________________________________\n"
     ]
    }
   ],
   "source": [
    "with strategy.scope():\n",
    "    inputs = tf.keras.layers.Input(shape=(75, 75, 1,))\n",
    "    model = define_and_compile_model(inputs)\n",
    "    \n",
    "model.summary()"
   ]
  },
  {
   "cell_type": "code",
   "execution_count": 36,
   "metadata": {
    "execution": {
     "iopub.execute_input": "2020-12-26T12:33:04.233264Z",
     "iopub.status.busy": "2020-12-26T12:33:04.232946Z",
     "iopub.status.idle": "2020-12-26T12:49:53.803941Z",
     "shell.execute_reply": "2020-12-26T12:49:53.803074Z",
     "shell.execute_reply.started": "2020-12-26T12:33:04.233237Z"
    }
   },
   "outputs": [
    {
     "name": "stdout",
     "output_type": "stream",
     "text": [
      "Epoch 1/10\n",
      "937/937 [==============================] - 105s 112ms/step - loss: 0.9506 - classification_loss: 0.9347 - bounding_box_loss: 0.0159 - classification_accuracy: 0.6737 - bounding_box_mse: 0.0159 - val_loss: 0.3000 - val_classification_loss: 0.2912 - val_bounding_box_loss: 0.0088 - val_classification_accuracy: 0.9141 - val_bounding_box_mse: 0.0088\n",
      "Epoch 2/10\n",
      "937/937 [==============================] - 99s 106ms/step - loss: 0.2598 - classification_loss: 0.2531 - bounding_box_loss: 0.0067 - classification_accuracy: 0.9247 - bounding_box_mse: 0.0067 - val_loss: 0.1943 - val_classification_loss: 0.1897 - val_bounding_box_loss: 0.0046 - val_classification_accuracy: 0.9422 - val_bounding_box_mse: 0.0046\n",
      "Epoch 3/10\n",
      "937/937 [==============================] - 99s 106ms/step - loss: 0.1837 - classification_loss: 0.1800 - bounding_box_loss: 0.0037 - classification_accuracy: 0.9454 - bounding_box_mse: 0.0037 - val_loss: 0.1433 - val_classification_loss: 0.1403 - val_bounding_box_loss: 0.0030 - val_classification_accuracy: 0.9588 - val_bounding_box_mse: 0.0030\n",
      "Epoch 4/10\n",
      "937/937 [==============================] - 98s 105ms/step - loss: 0.1441 - classification_loss: 0.1415 - bounding_box_loss: 0.0026 - classification_accuracy: 0.9568 - bounding_box_mse: 0.0026 - val_loss: 0.1092 - val_classification_loss: 0.1071 - val_bounding_box_loss: 0.0022 - val_classification_accuracy: 0.9679 - val_bounding_box_mse: 0.0022\n",
      "Epoch 5/10\n",
      "937/937 [==============================] - 97s 104ms/step - loss: 0.1202 - classification_loss: 0.1182 - bounding_box_loss: 0.0020 - classification_accuracy: 0.9637 - bounding_box_mse: 0.0020 - val_loss: 0.0831 - val_classification_loss: 0.0814 - val_bounding_box_loss: 0.0017 - val_classification_accuracy: 0.9738 - val_bounding_box_mse: 0.0017\n",
      "Epoch 6/10\n",
      "937/937 [==============================] - 99s 106ms/step - loss: 0.1016 - classification_loss: 0.1000 - bounding_box_loss: 0.0017 - classification_accuracy: 0.9700 - bounding_box_mse: 0.0017 - val_loss: 0.0785 - val_classification_loss: 0.0769 - val_bounding_box_loss: 0.0015 - val_classification_accuracy: 0.9738 - val_bounding_box_mse: 0.0015\n",
      "Epoch 7/10\n",
      "937/937 [==============================] - 96s 102ms/step - loss: 0.0913 - classification_loss: 0.0898 - bounding_box_loss: 0.0015 - classification_accuracy: 0.9723 - bounding_box_mse: 0.0015 - val_loss: 0.0801 - val_classification_loss: 0.0789 - val_bounding_box_loss: 0.0012 - val_classification_accuracy: 0.9741 - val_bounding_box_mse: 0.0012\n",
      "Epoch 8/10\n",
      "937/937 [==============================] - 96s 102ms/step - loss: 0.0832 - classification_loss: 0.0819 - bounding_box_loss: 0.0013 - classification_accuracy: 0.9746 - bounding_box_mse: 0.0013 - val_loss: 0.0683 - val_classification_loss: 0.0671 - val_bounding_box_loss: 0.0012 - val_classification_accuracy: 0.9794 - val_bounding_box_mse: 0.0012\n",
      "Epoch 9/10\n",
      "937/937 [==============================] - 93s 99ms/step - loss: 0.0753 - classification_loss: 0.0741 - bounding_box_loss: 0.0012 - classification_accuracy: 0.9773 - bounding_box_mse: 0.0012 - val_loss: 0.0562 - val_classification_loss: 0.0552 - val_bounding_box_loss: 9.9990e-04 - val_classification_accuracy: 0.9816 - val_bounding_box_mse: 9.9990e-04\n",
      "Epoch 10/10\n",
      "937/937 [==============================] - 100s 106ms/step - loss: 0.0707 - classification_loss: 0.0696 - bounding_box_loss: 0.0011 - classification_accuracy: 0.9781 - bounding_box_mse: 0.0011 - val_loss: 0.0558 - val_classification_loss: 0.0548 - val_bounding_box_loss: 0.0011 - val_classification_accuracy: 0.9820 - val_bounding_box_mse: 0.0011\n",
      "1/1 [==============================] - 0s 958us/step - loss: 0.0547 - classification_loss: 0.0536 - bounding_box_loss: 0.0011 - classification_accuracy: 0.9816 - bounding_box_mse: 0.0011\n",
      "Validation accuracy:  0.9815999865531921\n"
     ]
    }
   ],
   "source": [
    "EPOCHS = 10\n",
    "steps_per_epoch = 60000 // BATCH_SIZE\n",
    "validation_step = 1\n",
    "\n",
    "history = model.fit(\n",
    "    training_dataset,\n",
    "    steps_per_epoch=steps_per_epoch,\n",
    "    validation_data=validation_dataset,\n",
    "    validation_steps=validation_step,\n",
    "    epochs=EPOCHS\n",
    ")\n",
    "loss, classification_loss, bounding_box_loss, classification_accuracy, bounding_box_mse = model.evaluate(\n",
    "    validation_dataset, steps=1\n",
    ")\n",
    "print(\"Validation accuracy: \", classification_accuracy)"
   ]
  },
  {
   "cell_type": "code",
   "execution_count": 40,
   "metadata": {
    "execution": {
     "iopub.execute_input": "2020-12-26T13:01:27.168077Z",
     "iopub.status.busy": "2020-12-26T13:01:27.167813Z",
     "iopub.status.idle": "2020-12-26T13:01:27.175491Z",
     "shell.execute_reply": "2020-12-26T13:01:27.174649Z",
     "shell.execute_reply.started": "2020-12-26T13:01:27.168052Z"
    }
   },
   "outputs": [],
   "source": [
    "def intersection_over_union(pred_box, true_box):\n",
    "    xmin_pred, ymin_pred, xmax_pred, ymax_pred = np.split(pred_box, 4, axis=1)\n",
    "    xmin_true, ymin_true, xmax_true, ymax_true = np.split(true_box, 4, axis=1)\n",
    "    \n",
    "    smoothing_factor = 1e-10\n",
    "    \n",
    "    xmin_overlap = np.maximum(xmin_pred, xmin_true)\n",
    "    xmax_overlap = np.minimum(xmax_pred, xmax_true)\n",
    "    ymin_overlap = np.maximum(ymin_pred, ymin_true)\n",
    "    ymax_overlap = np.minimum(ymax_pred, ymax_true)\n",
    "    \n",
    "    pred_box_area = (xmax_pred - xmin_pred) * (ymax_pred - ymin_pred)\n",
    "    true_box_area = (xmax_true - xmin_true) * (ymax_true - ymin_true)\n",
    "    \n",
    "    overlap_area = np.maximum((xmax_overlap - xmin_overlap), 0) * np.maximum(\n",
    "        (xmax_overlap - xmin_overlap), 0\n",
    "    )\n",
    "    union_area = (pred_box_area + true_box_area) - overlap_area\n",
    "    \n",
    "    iou = (overlap_area + smoothing_factor) / (union_area + smoothing_factor)\n",
    "    \n",
    "    return iou"
   ]
  },
  {
   "cell_type": "markdown",
   "metadata": {},
   "source": [
    "## Visualize Predictions"
   ]
  },
  {
   "cell_type": "code",
   "execution_count": 41,
   "metadata": {
    "execution": {
     "iopub.execute_input": "2020-12-26T13:01:28.323444Z",
     "iopub.status.busy": "2020-12-26T13:01:28.323200Z",
     "iopub.status.idle": "2020-12-26T13:01:32.889381Z",
     "shell.execute_reply": "2020-12-26T13:01:32.888740Z",
     "shell.execute_reply.started": "2020-12-26T13:01:28.323417Z"
    }
   },
   "outputs": [
    {
     "name": "stdout",
     "output_type": "stream",
     "text": [
      "Number of predictions where iou > threshold(0.6): 9002\n",
      "Number of predictions where iou < threshold(0.6): 998\n"
     ]
    },
    {
     "data": {
      "image/png": "[encoded data removed]",
      "text/plain": [
       "<Figure size 1440x288 with 11 Axes>"
      ]
     },
     "metadata": {},
     "output_type": "display_data"
    }
   ],
   "source": [
    "# recognize validation digits\n",
    "predictions = model.predict(validation_digits, batch_size=64)\n",
    "predicted_labels = np.argmax(predictions[0], axis=1)\n",
    "\n",
    "predicted_bboxes = predictions[1]\n",
    "\n",
    "iou = intersection_over_union(predicted_bboxes, validation_bboxes)\n",
    "\n",
    "iou_threshold = 0.6\n",
    "\n",
    "print(\"Number of predictions where iou > threshold(%s): %s\" % (iou_threshold, (iou >= iou_threshold).sum()))\n",
    "print(\"Number of predictions where iou < threshold(%s): %s\" % (iou_threshold, (iou < iou_threshold).sum()))\n",
    "\n",
    "\n",
    "display_digits_with_boxes(\n",
    "    validation_digits, \n",
    "    predicted_labels, \n",
    "    validation_labels, \n",
    "    predicted_bboxes, \n",
    "    validation_bboxes, \n",
    "    iou, \n",
    "    \"True and Predicted values\"\n",
    ")\n"
   ]
  },
  {
   "cell_type": "code",
   "execution_count": null,
   "metadata": {},
   "outputs": [],
   "source": []
  }
 ],
 "metadata": {
  "kernelspec": {
   "display_name": "Python 3",
   "language": "python",
   "name": "python3"
  },
  "language_info": {
   "codemirror_mode": {
    "name": "ipython",
    "version": 3
   },
   "file_extension": ".py",
   "mimetype": "text/x-python",
   "name": "python",
   "nbconvert_exporter": "python",
   "pygments_lexer": "ipython3",
   "version": "3.8.3"
  }
 },
 "nbformat": 4,
 "nbformat_minor": 4
}
