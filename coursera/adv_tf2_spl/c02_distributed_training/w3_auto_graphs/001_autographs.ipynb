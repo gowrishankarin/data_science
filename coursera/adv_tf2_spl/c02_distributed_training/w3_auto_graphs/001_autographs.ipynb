{
 "cells": [
  {
   "cell_type": "markdown",
   "metadata": {},
   "source": [
    "# Autograph: Basic"
   ]
  },
  {
   "cell_type": "code",
   "execution_count": 1,
   "metadata": {
    "execution": {
     "iopub.execute_input": "2020-12-20T14:41:37.259961Z",
     "iopub.status.busy": "2020-12-20T14:41:37.259722Z",
     "iopub.status.idle": "2020-12-20T14:41:41.564280Z",
     "shell.execute_reply": "2020-12-20T14:41:41.563730Z",
     "shell.execute_reply.started": "2020-12-20T14:41:37.259935Z"
    }
   },
   "outputs": [],
   "source": [
    "import tensorflow as tf"
   ]
  },
  {
   "cell_type": "markdown",
   "metadata": {},
   "source": [
    "## Addition"
   ]
  },
  {
   "cell_type": "code",
   "execution_count": 2,
   "metadata": {
    "execution": {
     "iopub.execute_input": "2020-12-20T14:43:28.240549Z",
     "iopub.status.busy": "2020-12-20T14:43:28.240304Z",
     "iopub.status.idle": "2020-12-20T14:43:28.367661Z",
     "shell.execute_reply": "2020-12-20T14:43:28.366949Z",
     "shell.execute_reply.started": "2020-12-20T14:43:28.240523Z"
    }
   },
   "outputs": [
    {
     "name": "stdout",
     "output_type": "stream",
     "text": [
      "tf.Tensor(\n",
      "[[5. 2.]\n",
      " [4. 9.]], shape=(2, 2), dtype=float32)\n",
      "def tf__add(a, b):\n",
      "    do_return = False\n",
      "    retval_ = ag__.UndefinedReturnValue()\n",
      "    with ag__.FunctionScope('add', 'fscope', ag__.ConversionOptions(recursive=True, user_requested=True, optional_features=(), internal_convert_user_code=True)) as fscope:\n",
      "        try:\n",
      "            do_return = True\n",
      "            retval_ = fscope.mark_return_value((a + b))\n",
      "        except:\n",
      "            do_return = False\n",
      "            raise\n",
      "    (do_return,)\n",
      "    return ag__.retval(retval_)\n",
      "\n"
     ]
    }
   ],
   "source": [
    "@tf.function\n",
    "def add(a, b):\n",
    "    return a + b\n",
    "\n",
    "a = tf.Variable([[1., 2.], [3., 4.]])\n",
    "b = tf.Variable([[4., 0.], [1., 5.]])\n",
    "print(tf.add(a, b))\n",
    "\n",
    "print(tf.autograph.to_code(add.python_function))"
   ]
  },
  {
   "cell_type": "markdown",
   "metadata": {},
   "source": [
    "## if Statement"
   ]
  },
  {
   "cell_type": "code",
   "execution_count": 5,
   "metadata": {
    "execution": {
     "iopub.execute_input": "2020-12-20T14:45:52.942309Z",
     "iopub.status.busy": "2020-12-20T14:45:52.942025Z",
     "iopub.status.idle": "2020-12-20T14:45:53.048472Z",
     "shell.execute_reply": "2020-12-20T14:45:53.047666Z",
     "shell.execute_reply.started": "2020-12-20T14:45:52.942280Z"
    }
   },
   "outputs": [
    {
     "name": "stdout",
     "output_type": "stream",
     "text": [
      "def tf__f(x):\n",
      "    do_return = False\n",
      "    retval_ = ag__.UndefinedReturnValue()\n",
      "    with ag__.FunctionScope('f', 'fscope', ag__.ConversionOptions(recursive=True, user_requested=True, optional_features=(), internal_convert_user_code=True)) as fscope:\n",
      "\n",
      "        def get_state():\n",
      "            return ()\n",
      "\n",
      "        def set_state(loop_vars):\n",
      "            pass\n",
      "\n",
      "        def if_true():\n",
      "            (x_1,) = (x,)\n",
      "            x_1 = (x_1 * x_1)\n",
      "            return x_1\n",
      "\n",
      "        def if_false():\n",
      "            return x\n",
      "        cond = (x > 0)\n",
      "        x = ag__.if_stmt(cond, if_true, if_false, get_state, set_state, ('x',), ())\n",
      "        try:\n",
      "            do_return = True\n",
      "            retval_ = fscope.mark_return_value(x)\n",
      "        except:\n",
      "            do_return = False\n",
      "            raise\n",
      "    (do_return,)\n",
      "    return ag__.retval(retval_)\n",
      "\n"
     ]
    }
   ],
   "source": [
    "@tf.function\n",
    "def f(x):\n",
    "    if(x>0):\n",
    "        x = x*x\n",
    "    return x\n",
    "\n",
    "print(tf.autograph.to_code(f.python_function))\n"
   ]
  },
  {
   "cell_type": "markdown",
   "metadata": {},
   "source": [
    "## FizzBuzz function"
   ]
  },
  {
   "cell_type": "code",
   "execution_count": 7,
   "metadata": {
    "execution": {
     "iopub.execute_input": "2020-12-20T14:50:33.959095Z",
     "iopub.status.busy": "2020-12-20T14:50:33.958856Z",
     "iopub.status.idle": "2020-12-20T14:50:34.173860Z",
     "shell.execute_reply": "2020-12-20T14:50:34.173160Z",
     "shell.execute_reply.started": "2020-12-20T14:50:33.959068Z"
    }
   },
   "outputs": [
    {
     "name": "stdout",
     "output_type": "stream",
     "text": [
      "def tf__fizzbuzz(max_num):\n",
      "    do_return = False\n",
      "    retval_ = ag__.UndefinedReturnValue()\n",
      "    with ag__.FunctionScope('fizzbuzz', 'fscope', ag__.ConversionOptions(recursive=True, user_requested=True, optional_features=(), internal_convert_user_code=True)) as fscope:\n",
      "        counter = 0\n",
      "\n",
      "        def get_state_3():\n",
      "            return (counter,)\n",
      "\n",
      "        def set_state_3(loop_vars):\n",
      "            nonlocal counter\n",
      "            (counter,) = loop_vars\n",
      "\n",
      "        def loop_body(itr):\n",
      "            nonlocal counter\n",
      "            num = itr\n",
      "\n",
      "            def get_state_2():\n",
      "                return ()\n",
      "\n",
      "            def set_state_2(loop_vars):\n",
      "                pass\n",
      "\n",
      "            def if_true_2():\n",
      "                print('FizzBuzz')\n",
      "                return ag__.match_staging_level(1, cond_2)\n",
      "\n",
      "            def if_false_2():\n",
      "\n",
      "                def get_state_1():\n",
      "                    return ()\n",
      "\n",
      "                def set_state_1(loop_vars):\n",
      "                    pass\n",
      "\n",
      "                def if_true_1():\n",
      "                    print('Fizz')\n",
      "                    return ag__.match_staging_level(1, cond_1)\n",
      "\n",
      "                def if_false_1():\n",
      "\n",
      "                    def get_state():\n",
      "                        return ()\n",
      "\n",
      "                    def set_state(loop_vars):\n",
      "                        pass\n",
      "\n",
      "                    def if_true():\n",
      "                        print('Buzz')\n",
      "                        return ag__.match_staging_level(1, cond)\n",
      "\n",
      "                    def if_false():\n",
      "                        print(num)\n",
      "                        return ag__.match_staging_level(1, cond)\n",
      "                    cond = ((num % 5) == 0)\n",
      "                    ag__.if_stmt(cond, if_true, if_false, get_state, set_state, (), ())\n",
      "                    return ag__.match_staging_level(1, cond_1)\n",
      "                cond_1 = ((num % 3) == 0)\n",
      "                ag__.if_stmt(cond_1, if_true_1, if_false_1, get_state_1, set_state_1, (), ())\n",
      "                return ag__.match_staging_level(1, cond_2)\n",
      "            cond_2 = ag__.and_((lambda : ((num % 3) == 0)), (lambda : ((num % 5) == 0)))\n",
      "            ag__.if_stmt(cond_2, if_true_2, if_false_2, get_state_2, set_state_2, (), ())\n",
      "            counter = (counter + 1)\n",
      "        ag__.for_stmt(ag__.converted_call(range, (max_num,), None, fscope), None, loop_body, get_state_3, set_state_3, ('counter',), {})\n",
      "        try:\n",
      "            do_return = True\n",
      "            retval_ = fscope.mark_return_value(counter)\n",
      "        except:\n",
      "            do_return = False\n",
      "            raise\n",
      "    (do_return,)\n",
      "    return ag__.retval(retval_)\n",
      "\n"
     ]
    }
   ],
   "source": [
    "@tf.function\n",
    "def fizzbuzz(max_num):\n",
    "    counter = 0\n",
    "    for num in range(max_num):\n",
    "        if(num % 3 == 0 and num % 5 == 0):\n",
    "            print('FizzBuzz')\n",
    "        elif(num % 3 == 0):\n",
    "            print('Fizz')\n",
    "        elif(num % 5 == 0):\n",
    "            print('Buzz')\n",
    "        else:\n",
    "            print(num)\n",
    "        counter = counter + 1\n",
    "        \n",
    "    return counter\n",
    "\n",
    "print(tf.autograph.to_code(fizzbuzz.python_function))"
   ]
  },
  {
   "cell_type": "code",
   "execution_count": 8,
   "metadata": {
    "execution": {
     "iopub.execute_input": "2020-12-20T14:50:52.458651Z",
     "iopub.status.busy": "2020-12-20T14:50:52.458404Z",
     "iopub.status.idle": "2020-12-20T14:50:52.462988Z",
     "shell.execute_reply": "2020-12-20T14:50:52.462156Z",
     "shell.execute_reply.started": "2020-12-20T14:50:52.458626Z"
    }
   },
   "outputs": [
    {
     "name": "stdout",
     "output_type": "stream",
     "text": [
      "<function create_converted_entity_factory.<locals>.create_converted_entity.<locals>.tf__fizzbuzz at 0x7fc0a6d4a820>\n"
     ]
    }
   ],
   "source": [
    "print(tf.autograph.to_graph(fizzbuzz.python_function))"
   ]
  },
  {
   "cell_type": "code",
   "execution_count": 9,
   "metadata": {
    "execution": {
     "iopub.execute_input": "2020-12-20T14:51:15.660173Z",
     "iopub.status.busy": "2020-12-20T14:51:15.659896Z",
     "iopub.status.idle": "2020-12-20T14:51:15.665966Z",
     "shell.execute_reply": "2020-12-20T14:51:15.665045Z",
     "shell.execute_reply.started": "2020-12-20T14:51:15.660143Z"
    }
   },
   "outputs": [
    {
     "data": {
      "text/plain": [
       "<function __main__.create_converted_entity_factory.<locals>.create_converted_entity.<locals>.tf__fizzbuzz(max_num)>"
      ]
     },
     "execution_count": 9,
     "metadata": {},
     "output_type": "execute_result"
    }
   ],
   "source": [
    "tf.autograph.to_graph(fizzbuzz.python_function)"
   ]
  },
  {
   "cell_type": "code",
   "execution_count": null,
   "metadata": {},
   "outputs": [],
   "source": []
  }
 ],
 "metadata": {
  "kernelspec": {
   "display_name": "Python 3",
   "language": "python",
   "name": "python3"
  },
  "language_info": {
   "codemirror_mode": {
    "name": "ipython",
    "version": 3
   },
   "file_extension": ".py",
   "mimetype": "text/x-python",
   "name": "python",
   "nbconvert_exporter": "python",
   "pygments_lexer": "ipython3",
   "version": "3.8.3"
  }
 },
 "nbformat": 4,
 "nbformat_minor": 4
}
