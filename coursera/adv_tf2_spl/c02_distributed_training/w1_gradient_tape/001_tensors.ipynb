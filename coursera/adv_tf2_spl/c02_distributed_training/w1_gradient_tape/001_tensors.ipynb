{
 "cells": [
  {
   "cell_type": "markdown",
   "metadata": {
    "execution": {
     "iopub.execute_input": "2020-12-14T03:58:24.426955Z",
     "iopub.status.busy": "2020-12-14T03:58:24.426711Z",
     "iopub.status.idle": "2020-12-14T03:58:24.430285Z",
     "shell.execute_reply": "2020-12-14T03:58:24.429562Z",
     "shell.execute_reply.started": "2020-12-14T03:58:24.426929Z"
    }
   },
   "source": [
    "# Basic Tensors"
   ]
  },
  {
   "cell_type": "code",
   "execution_count": 2,
   "metadata": {
    "execution": {
     "iopub.execute_input": "2020-12-14T03:58:45.915871Z",
     "iopub.status.busy": "2020-12-14T03:58:45.915631Z",
     "iopub.status.idle": "2020-12-14T03:58:50.828738Z",
     "shell.execute_reply": "2020-12-14T03:58:50.827965Z",
     "shell.execute_reply.started": "2020-12-14T03:58:45.915846Z"
    }
   },
   "outputs": [],
   "source": [
    "import tensorflow as tf\n",
    "import numpy as np"
   ]
  },
  {
   "cell_type": "markdown",
   "metadata": {},
   "source": [
    "## Tensor Operations"
   ]
  },
  {
   "cell_type": "code",
   "execution_count": 3,
   "metadata": {
    "execution": {
     "iopub.execute_input": "2020-12-14T03:59:50.692434Z",
     "iopub.status.busy": "2020-12-14T03:59:50.692191Z",
     "iopub.status.idle": "2020-12-14T03:59:50.703090Z",
     "shell.execute_reply": "2020-12-14T03:59:50.702345Z",
     "shell.execute_reply.started": "2020-12-14T03:59:50.692408Z"
    }
   },
   "outputs": [
    {
     "data": {
      "text/plain": [
       "array([ 0,  1,  2,  3,  4,  5,  6,  7,  8,  9, 10, 11, 12, 13, 14, 15, 16,\n",
       "       17, 18, 19, 20, 21, 22, 23, 24])"
      ]
     },
     "execution_count": 3,
     "metadata": {},
     "output_type": "execute_result"
    }
   ],
   "source": [
    "# Create a 1D uint8 NumPy array comprising of first 25 natural numbers\n",
    "x = np.arange(0, 25)\n",
    "x"
   ]
  },
  {
   "cell_type": "code",
   "execution_count": 4,
   "metadata": {
    "execution": {
     "iopub.execute_input": "2020-12-14T04:00:23.515284Z",
     "iopub.status.busy": "2020-12-14T04:00:23.515042Z",
     "iopub.status.idle": "2020-12-14T04:00:23.541531Z",
     "shell.execute_reply": "2020-12-14T04:00:23.540774Z",
     "shell.execute_reply.started": "2020-12-14T04:00:23.515258Z"
    }
   },
   "outputs": [
    {
     "data": {
      "text/plain": [
       "<tf.Tensor: shape=(25,), dtype=int64, numpy=\n",
       "array([ 0,  1,  2,  3,  4,  5,  6,  7,  8,  9, 10, 11, 12, 13, 14, 15, 16,\n",
       "       17, 18, 19, 20, 21, 22, 23, 24])>"
      ]
     },
     "execution_count": 4,
     "metadata": {},
     "output_type": "execute_result"
    }
   ],
   "source": [
    "# Convert NumPy to Tensor object\n",
    "x = tf.constant(x)\n",
    "x"
   ]
  },
  {
   "cell_type": "code",
   "execution_count": 5,
   "metadata": {
    "execution": {
     "iopub.execute_input": "2020-12-14T04:01:24.212485Z",
     "iopub.status.busy": "2020-12-14T04:01:24.212184Z",
     "iopub.status.idle": "2020-12-14T04:01:24.219525Z",
     "shell.execute_reply": "2020-12-14T04:01:24.218073Z",
     "shell.execute_reply.started": "2020-12-14T04:01:24.212454Z"
    }
   },
   "outputs": [
    {
     "data": {
      "text/plain": [
       "<tf.Tensor: shape=(25,), dtype=int64, numpy=\n",
       "array([  0,   1,   4,   9,  16,  25,  36,  49,  64,  81, 100, 121, 144,\n",
       "       169, 196, 225, 256, 289, 324, 361, 400, 441, 484, 529, 576])>"
      ]
     },
     "execution_count": 5,
     "metadata": {},
     "output_type": "execute_result"
    }
   ],
   "source": [
    "# Square the input tensor x\n",
    "x = tf.square(x)\n",
    "x"
   ]
  },
  {
   "cell_type": "code",
   "execution_count": 6,
   "metadata": {
    "execution": {
     "iopub.execute_input": "2020-12-14T04:01:35.595969Z",
     "iopub.status.busy": "2020-12-14T04:01:35.595730Z",
     "iopub.status.idle": "2020-12-14T04:01:35.602363Z",
     "shell.execute_reply": "2020-12-14T04:01:35.601141Z",
     "shell.execute_reply.started": "2020-12-14T04:01:35.595942Z"
    }
   },
   "outputs": [
    {
     "data": {
      "text/plain": [
       "<tf.Tensor: shape=(25,), dtype=int64, numpy=\n",
       "array([     0,      1,     16,     81,    256,    625,   1296,   2401,\n",
       "         4096,   6561,  10000,  14641,  20736,  28561,  38416,  50625,\n",
       "        65536,  83521, 104976, 130321, 160000, 194481, 234256, 279841,\n",
       "       331776])>"
      ]
     },
     "execution_count": 6,
     "metadata": {},
     "output_type": "execute_result"
    }
   ],
   "source": [
    "tf.math.square(x)"
   ]
  },
  {
   "cell_type": "code",
   "execution_count": 7,
   "metadata": {
    "execution": {
     "iopub.execute_input": "2020-12-14T04:02:24.469466Z",
     "iopub.status.busy": "2020-12-14T04:02:24.469211Z",
     "iopub.status.idle": "2020-12-14T04:02:24.475028Z",
     "shell.execute_reply": "2020-12-14T04:02:24.474309Z",
     "shell.execute_reply.started": "2020-12-14T04:02:24.469439Z"
    }
   },
   "outputs": [
    {
     "data": {
      "text/plain": [
       "<tf.Tensor: shape=(5, 5), dtype=int64, numpy=\n",
       "array([[  0,   1,   4,   9,  16],\n",
       "       [ 25,  36,  49,  64,  81],\n",
       "       [100, 121, 144, 169, 196],\n",
       "       [225, 256, 289, 324, 361],\n",
       "       [400, 441, 484, 529, 576]])>"
      ]
     },
     "execution_count": 7,
     "metadata": {},
     "output_type": "execute_result"
    }
   ],
   "source": [
    "# Reshape a tensor\n",
    "x = tf.reshape(x, (5, 5))\n",
    "x"
   ]
  },
  {
   "cell_type": "markdown",
   "metadata": {},
   "source": [
    "Notice theat you will get an error message if you choose a shape that cannot be exactly filled with the values of the given tensor\n",
    "- Run the cell below and look at the error message\n",
    "- Try to change the tuple that is passed to `shape` to avoid an error"
   ]
  },
  {
   "cell_type": "code",
   "execution_count": 21,
   "metadata": {
    "execution": {
     "iopub.execute_input": "2020-12-14T04:44:25.225593Z",
     "iopub.status.busy": "2020-12-14T04:44:25.225341Z",
     "iopub.status.idle": "2020-12-14T04:44:25.230657Z",
     "shell.execute_reply": "2020-12-14T04:44:25.229848Z",
     "shell.execute_reply.started": "2020-12-14T04:44:25.225567Z"
    }
   },
   "outputs": [
    {
     "name": "stdout",
     "output_type": "stream",
     "text": [
      "Input to reshape is a tensor with 4 values, but the requested shape has 6 [Op:Reshape]\n"
     ]
    }
   ],
   "source": [
    "# Try thi and look at the error\n",
    "# Try to change the input to `shape` to avoid an error\n",
    "\n",
    "tmp = tf.constant([1, 2, 3, 4])\n",
    "try:\n",
    "    \n",
    "    tf.reshape(tmp, shape=(2, 3))\n",
    "except tf.errors.InvalidArgumentError as v:\n",
    "    print(v)"
   ]
  },
  {
   "cell_type": "code",
   "execution_count": 10,
   "metadata": {
    "execution": {
     "iopub.execute_input": "2020-12-14T04:06:33.334434Z",
     "iopub.status.busy": "2020-12-14T04:06:33.334203Z",
     "iopub.status.idle": "2020-12-14T04:06:33.340994Z",
     "shell.execute_reply": "2020-12-14T04:06:33.339307Z",
     "shell.execute_reply.started": "2020-12-14T04:06:33.334409Z"
    }
   },
   "outputs": [
    {
     "data": {
      "text/plain": [
       "<tf.Tensor: shape=(5, 5), dtype=float32, numpy=\n",
       "array([[  0.,   1.,   4.,   9.,  16.],\n",
       "       [ 25.,  36.,  49.,  64.,  81.],\n",
       "       [100., 121., 144., 169., 196.],\n",
       "       [225., 256., 289., 324., 361.],\n",
       "       [400., 441., 484., 529., 576.]], dtype=float32)>"
      ]
     },
     "execution_count": 10,
     "metadata": {},
     "output_type": "execute_result"
    }
   ],
   "source": [
    "# Change data type\n",
    "x = tf.cast(x, tf.float32)\n",
    "x"
   ]
  },
  {
   "cell_type": "markdown",
   "metadata": {},
   "source": [
    "## Broadcast - Single value "
   ]
  },
  {
   "cell_type": "code",
   "execution_count": 11,
   "metadata": {
    "execution": {
     "iopub.execute_input": "2020-12-14T04:08:16.360488Z",
     "iopub.status.busy": "2020-12-14T04:08:16.360252Z",
     "iopub.status.idle": "2020-12-14T04:08:16.365386Z",
     "shell.execute_reply": "2020-12-14T04:08:16.364690Z",
     "shell.execute_reply.started": "2020-12-14T04:08:16.360463Z"
    }
   },
   "outputs": [
    {
     "data": {
      "text/plain": [
       "<tf.Tensor: shape=(), dtype=float32, numpy=2.0>"
      ]
     },
     "execution_count": 11,
     "metadata": {},
     "output_type": "execute_result"
    }
   ],
   "source": [
    "# Lets define a constant and see how broadcasting works in the following cell\n",
    "y = tf.constant(2, dtype=tf.float32)\n",
    "y"
   ]
  },
  {
   "cell_type": "code",
   "execution_count": 12,
   "metadata": {
    "execution": {
     "iopub.execute_input": "2020-12-14T04:08:50.576623Z",
     "iopub.status.busy": "2020-12-14T04:08:50.576388Z",
     "iopub.status.idle": "2020-12-14T04:08:50.581270Z",
     "shell.execute_reply": "2020-12-14T04:08:50.580627Z",
     "shell.execute_reply.started": "2020-12-14T04:08:50.576598Z"
    }
   },
   "outputs": [
    {
     "data": {
      "text/plain": [
       "<tf.Tensor: shape=(5, 5), dtype=float32, numpy=\n",
       "array([[   0.,    2.,    8.,   18.,   32.],\n",
       "       [  50.,   72.,   98.,  128.,  162.],\n",
       "       [ 200.,  242.,  288.,  338.,  392.],\n",
       "       [ 450.,  512.,  578.,  648.,  722.],\n",
       "       [ 800.,  882.,  968., 1058., 1152.]], dtype=float32)>"
      ]
     },
     "execution_count": 12,
     "metadata": {},
     "output_type": "execute_result"
    }
   ],
   "source": [
    "# Broadcasting in action\n",
    "result = tf.multiply(x, y)\n",
    "result"
   ]
  },
  {
   "cell_type": "code",
   "execution_count": 13,
   "metadata": {
    "execution": {
     "iopub.execute_input": "2020-12-14T04:09:45.137061Z",
     "iopub.status.busy": "2020-12-14T04:09:45.136818Z",
     "iopub.status.idle": "2020-12-14T04:09:45.142422Z",
     "shell.execute_reply": "2020-12-14T04:09:45.141745Z",
     "shell.execute_reply.started": "2020-12-14T04:09:45.137035Z"
    }
   },
   "outputs": [
    {
     "data": {
      "text/plain": [
       "<tf.Tensor: shape=(5,), dtype=float32, numpy=array([1., 2., 3., 4., 5.], dtype=float32)>"
      ]
     },
     "execution_count": 13,
     "metadata": {},
     "output_type": "execute_result"
    }
   ],
   "source": [
    "y = tf.constant([1, 2, 3, 4, 5], dtype=tf.float32)\n",
    "y"
   ]
  },
  {
   "cell_type": "code",
   "execution_count": 16,
   "metadata": {
    "execution": {
     "iopub.execute_input": "2020-12-14T04:10:24.632608Z",
     "iopub.status.busy": "2020-12-14T04:10:24.632370Z",
     "iopub.status.idle": "2020-12-14T04:10:24.637548Z",
     "shell.execute_reply": "2020-12-14T04:10:24.636808Z",
     "shell.execute_reply.started": "2020-12-14T04:10:24.632582Z"
    }
   },
   "outputs": [
    {
     "data": {
      "text/plain": [
       "<tf.Tensor: shape=(5, 5), dtype=float32, numpy=\n",
       "array([[  0.,   1.,   4.,   9.,  16.],\n",
       "       [ 25.,  36.,  49.,  64.,  81.],\n",
       "       [100., 121., 144., 169., 196.],\n",
       "       [225., 256., 289., 324., 361.],\n",
       "       [400., 441., 484., 529., 576.]], dtype=float32)>"
      ]
     },
     "execution_count": 16,
     "metadata": {},
     "output_type": "execute_result"
    }
   ],
   "source": [
    "x"
   ]
  },
  {
   "cell_type": "code",
   "execution_count": 15,
   "metadata": {
    "execution": {
     "iopub.execute_input": "2020-12-14T04:10:03.595058Z",
     "iopub.status.busy": "2020-12-14T04:10:03.594806Z",
     "iopub.status.idle": "2020-12-14T04:10:03.600811Z",
     "shell.execute_reply": "2020-12-14T04:10:03.600047Z",
     "shell.execute_reply.started": "2020-12-14T04:10:03.595032Z"
    }
   },
   "outputs": [
    {
     "data": {
      "text/plain": [
       "<tf.Tensor: shape=(5, 5), dtype=float32, numpy=\n",
       "array([[  1.,   3.,   7.,  13.,  21.],\n",
       "       [ 26.,  38.,  52.,  68.,  86.],\n",
       "       [101., 123., 147., 173., 201.],\n",
       "       [226., 258., 292., 328., 366.],\n",
       "       [401., 443., 487., 533., 581.]], dtype=float32)>"
      ]
     },
     "execution_count": 15,
     "metadata": {},
     "output_type": "execute_result"
    }
   ],
   "source": [
    "result = x + y\n",
    "result"
   ]
  },
  {
   "cell_type": "markdown",
   "metadata": {},
   "source": [
    "## Shape of `tf.constant`"
   ]
  },
  {
   "cell_type": "code",
   "execution_count": 17,
   "metadata": {
    "execution": {
     "iopub.execute_input": "2020-12-14T04:41:27.406450Z",
     "iopub.status.busy": "2020-12-14T04:41:27.406219Z",
     "iopub.status.idle": "2020-12-14T04:41:27.411919Z",
     "shell.execute_reply": "2020-12-14T04:41:27.411209Z",
     "shell.execute_reply.started": "2020-12-14T04:41:27.406425Z"
    }
   },
   "outputs": [
    {
     "data": {
      "text/plain": [
       "<tf.Tensor: shape=(2, 2), dtype=int32, numpy=\n",
       "array([[1, 2],\n",
       "       [3, 4]], dtype=int32)>"
      ]
     },
     "execution_count": 17,
     "metadata": {},
     "output_type": "execute_result"
    }
   ],
   "source": [
    "tf.constant([1, 2, 3, 4], shape=(2, 2))"
   ]
  },
  {
   "cell_type": "markdown",
   "metadata": {},
   "source": [
    "## Shape of `tf.Variable`"
   ]
  },
  {
   "cell_type": "code",
   "execution_count": 18,
   "metadata": {
    "execution": {
     "iopub.execute_input": "2020-12-14T04:42:43.646569Z",
     "iopub.status.busy": "2020-12-14T04:42:43.646328Z",
     "iopub.status.idle": "2020-12-14T04:42:43.651511Z",
     "shell.execute_reply": "2020-12-14T04:42:43.650826Z",
     "shell.execute_reply.started": "2020-12-14T04:42:43.646543Z"
    }
   },
   "outputs": [
    {
     "name": "stdout",
     "output_type": "stream",
     "text": [
      "The initial value's shape ((4,)) is not compatible with the explicitly supplied `shape` argument ((2, 2)).\n"
     ]
    }
   ],
   "source": [
    "try:\n",
    "    tf.Variable([1, 2, 3, 4], shape=(2, 2))\n",
    "except ValueError as v:\n",
    "    print(v)"
   ]
  },
  {
   "cell_type": "code",
   "execution_count": null,
   "metadata": {},
   "outputs": [],
   "source": []
  }
 ],
 "metadata": {
  "kernelspec": {
   "display_name": "Python 3",
   "language": "python",
   "name": "python3"
  },
  "language_info": {
   "codemirror_mode": {
    "name": "ipython",
    "version": 3
   },
   "file_extension": ".py",
   "mimetype": "text/x-python",
   "name": "python",
   "nbconvert_exporter": "python",
   "pygments_lexer": "ipython3",
   "version": "3.8.3"
  }
 },
 "nbformat": 4,
 "nbformat_minor": 4
}
