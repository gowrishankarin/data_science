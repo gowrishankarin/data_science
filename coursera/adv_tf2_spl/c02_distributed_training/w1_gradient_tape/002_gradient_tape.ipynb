{
 "cells": [
  {
   "cell_type": "markdown",
   "metadata": {
    "execution": {
     "iopub.execute_input": "2020-12-14T04:47:46.408011Z",
     "iopub.status.busy": "2020-12-14T04:47:46.407808Z",
     "iopub.status.idle": "2020-12-14T04:47:46.413219Z",
     "shell.execute_reply": "2020-12-14T04:47:46.411603Z",
     "shell.execute_reply.started": "2020-12-14T04:47:46.407989Z"
    }
   },
   "source": [
    "# Gradient Tape 1\n",
    "\n",
    "- Gradient Tapes are automatic differentiation APIs"
   ]
  },
  {
   "cell_type": "code",
   "execution_count": 2,
   "metadata": {
    "execution": {
     "iopub.execute_input": "2020-12-14T04:48:01.997372Z",
     "iopub.status.busy": "2020-12-14T04:48:01.997125Z",
     "iopub.status.idle": "2020-12-14T04:48:04.896243Z",
     "shell.execute_reply": "2020-12-14T04:48:04.895414Z",
     "shell.execute_reply.started": "2020-12-14T04:48:01.997343Z"
    }
   },
   "outputs": [],
   "source": [
    "import tensorflow as tf\n",
    "import numpy as np"
   ]
  },
  {
   "cell_type": "code",
   "execution_count": 5,
   "metadata": {
    "execution": {
     "iopub.execute_input": "2020-12-14T04:55:05.838174Z",
     "iopub.status.busy": "2020-12-14T04:55:05.837917Z",
     "iopub.status.idle": "2020-12-14T04:55:05.843695Z",
     "shell.execute_reply": "2020-12-14T04:55:05.843010Z",
     "shell.execute_reply.started": "2020-12-14T04:55:05.838146Z"
    }
   },
   "outputs": [
    {
     "data": {
      "text/plain": [
       "array([-3., -1.,  1.,  3.,  5.,  7.])"
      ]
     },
     "execution_count": 5,
     "metadata": {},
     "output_type": "execute_result"
    }
   ],
   "source": [
    "x_train = np.array([-1, 0, 1.0, 2.0, 3.0, 4.0], dtype=float)\n",
    "y_train = 2*x_train - 1\n",
    "y_train"
   ]
  },
  {
   "cell_type": "code",
   "execution_count": 7,
   "metadata": {
    "execution": {
     "iopub.execute_input": "2020-12-14T04:58:21.546240Z",
     "iopub.status.busy": "2020-12-14T04:58:21.545829Z",
     "iopub.status.idle": "2020-12-14T04:58:21.573257Z",
     "shell.execute_reply": "2020-12-14T04:58:21.572051Z",
     "shell.execute_reply.started": "2020-12-14T04:58:21.546208Z"
    }
   },
   "outputs": [],
   "source": [
    "# Trainable Variables\n",
    "w = tf.Variable(np.random.random(), trainable=True)\n",
    "b = tf.Variable(np.random.random(), trainable=True)"
   ]
  },
  {
   "cell_type": "code",
   "execution_count": 10,
   "metadata": {
    "execution": {
     "iopub.execute_input": "2020-12-14T05:07:12.605988Z",
     "iopub.status.busy": "2020-12-14T05:07:12.605743Z",
     "iopub.status.idle": "2020-12-14T05:07:12.612169Z",
     "shell.execute_reply": "2020-12-14T05:07:12.611385Z",
     "shell.execute_reply.started": "2020-12-14T05:07:12.605961Z"
    }
   },
   "outputs": [],
   "source": [
    "LEARNING_RATE = 0.001\n",
    "def simple_loss(real_y, pred_y):\n",
    "    return tf.abs(real_y - pred_y)\n",
    "\n",
    "def fit_data(real_x, real_y):\n",
    "    with tf.GradientTape(persistent=True) as tape:\n",
    "        # Make Prediction\n",
    "        pred_y = w * real_x + b\n",
    "        # Calculate loss\n",
    "        reg_loss = simple_loss(real_y, pred_y)\n",
    "        \n",
    "    # Calculate gradients\n",
    "    w_gradient = tape.gradient(reg_loss, w)\n",
    "    b_gradient = tape.gradient(reg_loss, b)\n",
    "    \n",
    "    # Update variables\n",
    "    w.assign_sub(w_gradient * LEARNING_RATE)\n",
    "    b.assign_sub(b_gradient * LEARNING_RATE)"
   ]
  },
  {
   "cell_type": "code",
   "execution_count": 13,
   "metadata": {
    "execution": {
     "iopub.execute_input": "2020-12-14T05:14:08.323359Z",
     "iopub.status.busy": "2020-12-14T05:14:08.323112Z",
     "iopub.status.idle": "2020-12-14T05:14:08.888516Z",
     "shell.execute_reply": "2020-12-14T05:14:08.887771Z",
     "shell.execute_reply.started": "2020-12-14T05:14:08.323331Z"
    }
   },
   "outputs": [
    {
     "name": "stdout",
     "output_type": "stream",
     "text": [
      "y ~ 2.0039682388305664x + -0.998036801815033\n"
     ]
    }
   ],
   "source": [
    "for _ in range(500):\n",
    "    fit_data(x_train, y_train)\n",
    "    \n",
    "print(f'y ~ {w.numpy()}x + {b.numpy()}')"
   ]
  },
  {
   "cell_type": "markdown",
   "metadata": {},
   "source": [
    "## Gradient Descent with `tf.GradientTape`\n",
    "\n",
    "- `logits` refer to a vector of raw prediction value for each category and a multi-class classification\n",
    "- Logits are fed into a `softmax` function to turn them into probability for each category"
   ]
  },
  {
   "cell_type": "code",
   "execution_count": null,
   "metadata": {},
   "outputs": [],
   "source": [
    "def train_step(images, labels):\n",
    "    \n",
    "    with tf.GradientTape() as tape:\n",
    "        logits = model(images, training=True)\n",
    "        loss_value = loss_object(labels, logits)\n",
    "        \n",
    "    loss_history.append(loss_value.numpy().mean())\n",
    "    grads = tape.gradient(loss_value, model.trainable_variables)\n",
    "    optimizer.apply_gradients(zip(grads, model.trainable_variables))"
   ]
  },
  {
   "cell_type": "markdown",
   "metadata": {},
   "source": [
    "## Gradient Computation with Tensorflow\n",
    "$$\\frac{d}{dw}w^2 =2w$$"
   ]
  },
  {
   "cell_type": "code",
   "execution_count": 18,
   "metadata": {
    "execution": {
     "iopub.execute_input": "2020-12-14T09:28:21.865902Z",
     "iopub.status.busy": "2020-12-14T09:28:21.865646Z",
     "iopub.status.idle": "2020-12-14T09:28:21.870479Z",
     "shell.execute_reply": "2020-12-14T09:28:21.869549Z",
     "shell.execute_reply.started": "2020-12-14T09:28:21.865872Z"
    }
   },
   "outputs": [],
   "source": [
    "def calc_derivative(w_val):\n",
    "    w = tf.Variable([[w_val]])\n",
    "    with tf.GradientTape() as tape:\n",
    "        loss = w *w\n",
    "\n",
    "    return tape.gradient(loss, w)"
   ]
  },
  {
   "cell_type": "code",
   "execution_count": 20,
   "metadata": {
    "execution": {
     "iopub.execute_input": "2020-12-14T09:28:33.395343Z",
     "iopub.status.busy": "2020-12-14T09:28:33.395083Z",
     "iopub.status.idle": "2020-12-14T09:28:33.402235Z",
     "shell.execute_reply": "2020-12-14T09:28:33.401402Z",
     "shell.execute_reply.started": "2020-12-14T09:28:33.395314Z"
    }
   },
   "outputs": [
    {
     "data": {
      "text/plain": [
       "<tf.Tensor: shape=(1, 1), dtype=float32, numpy=array([[2.]], dtype=float32)>"
      ]
     },
     "execution_count": 20,
     "metadata": {},
     "output_type": "execute_result"
    }
   ],
   "source": [
    "calc_derivative(1.0)"
   ]
  },
  {
   "cell_type": "code",
   "execution_count": 21,
   "metadata": {
    "execution": {
     "iopub.execute_input": "2020-12-14T09:28:44.136930Z",
     "iopub.status.busy": "2020-12-14T09:28:44.136676Z",
     "iopub.status.idle": "2020-12-14T09:28:44.144313Z",
     "shell.execute_reply": "2020-12-14T09:28:44.142954Z",
     "shell.execute_reply.started": "2020-12-14T09:28:44.136901Z"
    }
   },
   "outputs": [
    {
     "data": {
      "text/plain": [
       "<tf.Tensor: shape=(1, 1), dtype=float32, numpy=array([[4.]], dtype=float32)>"
      ]
     },
     "execution_count": 21,
     "metadata": {},
     "output_type": "execute_result"
    }
   ],
   "source": [
    "calc_derivative(2.0)"
   ]
  },
  {
   "cell_type": "code",
   "execution_count": null,
   "metadata": {},
   "outputs": [],
   "source": []
  }
 ],
 "metadata": {
  "kernelspec": {
   "display_name": "Python 3",
   "language": "python",
   "name": "python3"
  },
  "language_info": {
   "codemirror_mode": {
    "name": "ipython",
    "version": 3
   },
   "file_extension": ".py",
   "mimetype": "text/x-python",
   "name": "python",
   "nbconvert_exporter": "python",
   "pygments_lexer": "ipython3",
   "version": "3.8.3"
  }
 },
 "nbformat": 4,
 "nbformat_minor": 4
}
