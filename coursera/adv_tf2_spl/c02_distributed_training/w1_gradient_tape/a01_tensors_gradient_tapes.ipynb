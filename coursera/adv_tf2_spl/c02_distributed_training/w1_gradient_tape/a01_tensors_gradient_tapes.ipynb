{
 "cells": [
  {
   "cell_type": "markdown",
   "metadata": {
    "execution": {
     "iopub.execute_input": "2020-12-14T14:20:38.882747Z",
     "iopub.status.busy": "2020-12-14T14:20:38.882484Z",
     "iopub.status.idle": "2020-12-14T14:20:38.886855Z",
     "shell.execute_reply": "2020-12-14T14:20:38.885655Z",
     "shell.execute_reply.started": "2020-12-14T14:20:38.882718Z"
    }
   },
   "source": [
    "# Tensor Operations and Gradient Tapes"
   ]
  },
  {
   "cell_type": "code",
   "execution_count": 2,
   "metadata": {
    "execution": {
     "iopub.execute_input": "2020-12-14T14:20:43.151568Z",
     "iopub.status.busy": "2020-12-14T14:20:43.151335Z",
     "iopub.status.idle": "2020-12-14T14:20:45.937846Z",
     "shell.execute_reply": "2020-12-14T14:20:45.937072Z",
     "shell.execute_reply.started": "2020-12-14T14:20:43.151543Z"
    }
   },
   "outputs": [],
   "source": [
    "import tensorflow as tf\n",
    "import numpy as np"
   ]
  },
  {
   "cell_type": "code",
   "execution_count": 3,
   "metadata": {
    "execution": {
     "iopub.execute_input": "2020-12-14T14:21:26.665520Z",
     "iopub.status.busy": "2020-12-14T14:21:26.665265Z",
     "iopub.status.idle": "2020-12-14T14:21:26.669352Z",
     "shell.execute_reply": "2020-12-14T14:21:26.668535Z",
     "shell.execute_reply.started": "2020-12-14T14:21:26.665492Z"
    }
   },
   "outputs": [],
   "source": [
    "def tf_constant(array):\n",
    "    tf_constant_array = tf.constant(array)\n",
    "    return tf_constant_array"
   ]
  },
  {
   "cell_type": "markdown",
   "metadata": {},
   "source": [
    "$$y = 3x^3 - 2x^2 + x$$"
   ]
  },
  {
   "cell_type": "code",
   "execution_count": 4,
   "metadata": {
    "execution": {
     "iopub.execute_input": "2020-12-14T14:27:09.287839Z",
     "iopub.status.busy": "2020-12-14T14:27:09.287591Z",
     "iopub.status.idle": "2020-12-14T14:27:09.293314Z",
     "shell.execute_reply": "2020-12-14T14:27:09.292476Z",
     "shell.execute_reply.started": "2020-12-14T14:27:09.287813Z"
    }
   },
   "outputs": [],
   "source": [
    "def tf_gradient_tape(x):\n",
    "    \"\"\"\n",
    "    Args:\n",
    "        x (EagerTensor): a tensor.\n",
    "\n",
    "    Returns:\n",
    "        EagerTensor: Derivative of z with respect to the input tensor x.\n",
    "    \"\"\"\n",
    "    with tf.GradientTape() as t:\n",
    "        \n",
    "    ### START CODE HERE ###\n",
    "        # Record the actions performed on tensor x with `watch`\n",
    "        t.watch(x)   \n",
    "\n",
    "        # Define a polynomial of form 3x^3 - 2x^2 + x\n",
    "        y = 3 * (x**3) - 2 * (x**2) + x\n",
    "\n",
    "        # Obtain the sum of the elements in variable y\n",
    "        z = tf.reduce_sum(y)\n",
    "  \n",
    "    # Get the derivative of z with respect to the original input tensor x\n",
    "    dz_dx = t.gradient(z, x)\n",
    "    ### END CODE HERE\n",
    "    \n",
    "    return dz_dx"
   ]
  },
  {
   "cell_type": "markdown",
   "metadata": {},
   "source": [
    "## From the above code...\n",
    "$$z = \\sum y$$\n",
    "\n",
    "$$\\frac{\\partial z}{\\partial x} = \\frac{\\partial z}{\\partial y} \\times \\frac{\\partial y}{\\partial x}$$\n",
    "from equation 2\n",
    "$$\\frac{\\partial z}{\\partial y} =1$$\n",
    "from equation 1\n",
    "$$\\frac{\\partial y}{\\partial x}= 9x^2 - 4x  + 1$$\n",
    "$$\\frac{\\partial y}{\\partial x}= 9\\times 2^2 - 4 \\times 2 + 1 = 36 - 8 + 1 = 29 $$\n"
   ]
  },
  {
   "cell_type": "code",
   "execution_count": 5,
   "metadata": {
    "execution": {
     "iopub.execute_input": "2020-12-14T14:32:58.363529Z",
     "iopub.status.busy": "2020-12-14T14:32:58.363286Z",
     "iopub.status.idle": "2020-12-14T14:32:58.399507Z",
     "shell.execute_reply": "2020-12-14T14:32:58.398756Z",
     "shell.execute_reply.started": "2020-12-14T14:32:58.363503Z"
    }
   },
   "outputs": [
    {
     "data": {
      "text/plain": [
       "29.0"
      ]
     },
     "execution_count": 5,
     "metadata": {},
     "output_type": "execute_result"
    }
   ],
   "source": [
    "# Check your function\n",
    "tmp_x = tf.constant(2.0)\n",
    "dz_dx = tf_gradient_tape(tmp_x)\n",
    "result = dz_dx.numpy()\n",
    "result"
   ]
  },
  {
   "cell_type": "code",
   "execution_count": null,
   "metadata": {},
   "outputs": [],
   "source": []
  }
 ],
 "metadata": {
  "kernelspec": {
   "display_name": "Python 3",
   "language": "python",
   "name": "python3"
  },
  "language_info": {
   "codemirror_mode": {
    "name": "ipython",
    "version": 3
   },
   "file_extension": ".py",
   "mimetype": "text/x-python",
   "name": "python",
   "nbconvert_exporter": "python",
   "pygments_lexer": "ipython3",
   "version": "3.8.3"
  }
 },
 "nbformat": 4,
 "nbformat_minor": 4
}
