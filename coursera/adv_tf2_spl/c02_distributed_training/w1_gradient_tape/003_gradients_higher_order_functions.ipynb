{
 "cells": [
  {
   "cell_type": "markdown",
   "metadata": {
    "execution": {
     "iopub.execute_input": "2020-12-14T10:49:44.240012Z",
     "iopub.status.busy": "2020-12-14T10:49:44.239725Z",
     "iopub.status.idle": "2020-12-14T10:49:44.243145Z",
     "shell.execute_reply": "2020-12-14T10:49:44.242327Z",
     "shell.execute_reply.started": "2020-12-14T10:49:44.239985Z"
    }
   },
   "source": [
    "# Gradient Tape: Tensorflow"
   ]
  },
  {
   "cell_type": "code",
   "execution_count": 1,
   "metadata": {
    "execution": {
     "iopub.execute_input": "2020-12-14T13:04:03.667385Z",
     "iopub.status.busy": "2020-12-14T13:04:03.667139Z",
     "iopub.status.idle": "2020-12-14T13:04:06.538700Z",
     "shell.execute_reply": "2020-12-14T13:04:06.537804Z",
     "shell.execute_reply.started": "2020-12-14T13:04:03.667358Z"
    }
   },
   "outputs": [],
   "source": [
    "import tensorflow as tf"
   ]
  },
  {
   "cell_type": "code",
   "execution_count": 2,
   "metadata": {
    "execution": {
     "iopub.execute_input": "2020-12-14T13:04:06.540417Z",
     "iopub.status.busy": "2020-12-14T13:04:06.540077Z",
     "iopub.status.idle": "2020-12-14T13:04:06.573670Z",
     "shell.execute_reply": "2020-12-14T13:04:06.572963Z",
     "shell.execute_reply.started": "2020-12-14T13:04:06.540392Z"
    }
   },
   "outputs": [
    {
     "data": {
      "text/plain": [
       "<tf.Tensor: shape=(2, 2), dtype=float32, numpy=\n",
       "array([[1., 1.],\n",
       "       [1., 1.]], dtype=float32)>"
      ]
     },
     "execution_count": 2,
     "metadata": {},
     "output_type": "execute_result"
    }
   ],
   "source": [
    "x = tf.ones((2, 2))\n",
    "x"
   ]
  },
  {
   "cell_type": "code",
   "execution_count": 3,
   "metadata": {
    "execution": {
     "iopub.execute_input": "2020-12-14T13:04:06.575864Z",
     "iopub.status.busy": "2020-12-14T13:04:06.575648Z",
     "iopub.status.idle": "2020-12-14T13:04:06.583637Z",
     "shell.execute_reply": "2020-12-14T13:04:06.582914Z",
     "shell.execute_reply.started": "2020-12-14T13:04:06.575840Z"
    }
   },
   "outputs": [],
   "source": [
    "\n",
    "with tf.GradientTape() as tape:\n",
    "    tape.watch(x)\n",
    "    y = tf.reduce_sum(x)\n",
    "    z = tf.square(y)\n",
    "    \n",
    "dz_dx = tape.gradient(z, x)"
   ]
  },
  {
   "cell_type": "code",
   "execution_count": 4,
   "metadata": {
    "execution": {
     "iopub.execute_input": "2020-12-14T13:04:06.585823Z",
     "iopub.status.busy": "2020-12-14T13:04:06.585596Z",
     "iopub.status.idle": "2020-12-14T13:04:06.591435Z",
     "shell.execute_reply": "2020-12-14T13:04:06.590279Z",
     "shell.execute_reply.started": "2020-12-14T13:04:06.585797Z"
    }
   },
   "outputs": [
    {
     "data": {
      "text/plain": [
       "<tf.Tensor: shape=(2, 2), dtype=float32, numpy=\n",
       "array([[8., 8.],\n",
       "       [8., 8.]], dtype=float32)>"
      ]
     },
     "execution_count": 4,
     "metadata": {},
     "output_type": "execute_result"
    }
   ],
   "source": [
    "dz_dx"
   ]
  },
  {
   "cell_type": "markdown",
   "metadata": {},
   "source": [
    "## From the above code...\n",
    "$$y = \\sum x$$\n",
    "$$y=x_{1,1} + x_{1,2} + x_{2,1} + x_{2,2} \\tag{1}$$\n",
    "$$z=y^2\\tag{2}$$"
   ]
  },
  {
   "cell_type": "code",
   "execution_count": 5,
   "metadata": {
    "execution": {
     "iopub.execute_input": "2020-12-14T13:04:06.595132Z",
     "iopub.status.busy": "2020-12-14T13:04:06.594018Z",
     "iopub.status.idle": "2020-12-14T13:04:06.604036Z",
     "shell.execute_reply": "2020-12-14T13:04:06.602413Z",
     "shell.execute_reply.started": "2020-12-14T13:04:06.595075Z"
    }
   },
   "outputs": [
    {
     "data": {
      "text/plain": [
       "<tf.Tensor: shape=(), dtype=float32, numpy=4.0>"
      ]
     },
     "execution_count": 5,
     "metadata": {},
     "output_type": "execute_result"
    }
   ],
   "source": [
    "y"
   ]
  },
  {
   "cell_type": "markdown",
   "metadata": {},
   "source": [
    "\n",
    "\n",
    "$$\\frac{\\partial z}{\\partial x} = \\frac{\\partial z}{\\partial y} \\times \\frac{\\partial y}{\\partial x}$$\n",
    "from equation 2\n",
    "$$\\frac{\\partial z}{\\partial y} = 2 \\times y = 8$$\n",
    "from equation 1\n",
    "$$\\frac{\\partial y}{\\partial x}= \\frac{\\partial y}{\\partial x_{1,1}}, \\frac{\\partial y}{\\partial x_{1,2}}, \\frac{\\partial y}{\\partial x_{2,1}}, \\frac{\\partial y}{\\partial x_{2,2}}$$\n",
    "$$\\frac{\\partial y}{\\partial x}= [[1, 1], [1, 1]] $$\n",
    "hence\n",
    "$$\\frac{\\partial z}{\\partial x} = \\frac{\\partial z}{\\partial y} \\times \\frac{\\partial y}{\\partial x} = [[8, 8], [8, 8]]$$\n"
   ]
  },
  {
   "cell_type": "code",
   "execution_count": 6,
   "metadata": {
    "execution": {
     "iopub.execute_input": "2020-12-14T13:04:06.606523Z",
     "iopub.status.busy": "2020-12-14T13:04:06.606202Z",
     "iopub.status.idle": "2020-12-14T13:04:06.612756Z",
     "shell.execute_reply": "2020-12-14T13:04:06.611897Z",
     "shell.execute_reply.started": "2020-12-14T13:04:06.606491Z"
    }
   },
   "outputs": [
    {
     "data": {
      "text/plain": [
       "<tf.Tensor: shape=(), dtype=float32, numpy=16.0>"
      ]
     },
     "execution_count": 6,
     "metadata": {},
     "output_type": "execute_result"
    }
   ],
   "source": [
    "z"
   ]
  },
  {
   "cell_type": "markdown",
   "metadata": {},
   "source": [
    "## Using `Persistent=True`\n",
    "\n",
    "$$y = x^2 \\tag{1}$$\n",
    "$$z = y^2 \\tag{2}$$"
   ]
  },
  {
   "cell_type": "code",
   "execution_count": 10,
   "metadata": {
    "execution": {
     "iopub.execute_input": "2020-12-14T13:04:29.349512Z",
     "iopub.status.busy": "2020-12-14T13:04:29.349270Z",
     "iopub.status.idle": "2020-12-14T13:04:29.355742Z",
     "shell.execute_reply": "2020-12-14T13:04:29.355011Z",
     "shell.execute_reply.started": "2020-12-14T13:04:29.349486Z"
    }
   },
   "outputs": [],
   "source": [
    "x = tf.constant(3.0)\n",
    "with tf.GradientTape(persistent=True) as tape:\n",
    "    tape.watch(x)\n",
    "    y = x ** 2\n",
    "    z = y ** 2\n",
    "    \n",
    "dz_dx = tape.gradient(z, x)\n",
    "dy_dx = tape.gradient(y, x)\n",
    "\n",
    "#del tape"
   ]
  },
  {
   "cell_type": "markdown",
   "metadata": {},
   "source": [
    "$$\\frac{\\partial z}{\\partial x} = \\frac{\\partial z}{\\partial y} \\times \\frac{\\partial y}{\\partial x}$$\n",
    "from equation 2\n",
    "$$\\frac{\\partial z}{\\partial y} = 2 \\times y = 2 \\times 3^2 = 18$$\n",
    "$$\\frac{\\partial y}{\\partial x} = 2x = 2 \\times 3 = 6$$\n",
    "hence\n",
    "$$\\frac{\\partial z}{\\partial x} = \\frac{\\partial z}{\\partial y} \\times \\frac{\\partial y}{\\partial x} = 18 \\times 6 = 108$$\n",
    "\n",
    "\n",
    "by substitution\n",
    "$$\\frac{\\partial z}{\\partial x}= \\frac{\\partial}{\\partial x}x^4$$\n",
    "$$\\frac{\\partial z}{\\partial x}= 4x^3 = 4 \\times 3^3 = 108 $$"
   ]
  },
  {
   "cell_type": "code",
   "execution_count": 11,
   "metadata": {
    "execution": {
     "iopub.execute_input": "2020-12-14T13:04:30.172587Z",
     "iopub.status.busy": "2020-12-14T13:04:30.172329Z",
     "iopub.status.idle": "2020-12-14T13:04:30.176925Z",
     "shell.execute_reply": "2020-12-14T13:04:30.176234Z",
     "shell.execute_reply.started": "2020-12-14T13:04:30.172552Z"
    }
   },
   "outputs": [
    {
     "data": {
      "text/plain": [
       "<tf.Tensor: shape=(), dtype=float32, numpy=108.0>"
      ]
     },
     "execution_count": 11,
     "metadata": {},
     "output_type": "execute_result"
    }
   ],
   "source": [
    "dz_dx"
   ]
  },
  {
   "cell_type": "code",
   "execution_count": 12,
   "metadata": {
    "execution": {
     "iopub.execute_input": "2020-12-14T13:04:30.868443Z",
     "iopub.status.busy": "2020-12-14T13:04:30.868144Z",
     "iopub.status.idle": "2020-12-14T13:04:30.873438Z",
     "shell.execute_reply": "2020-12-14T13:04:30.872740Z",
     "shell.execute_reply.started": "2020-12-14T13:04:30.868412Z"
    }
   },
   "outputs": [
    {
     "data": {
      "text/plain": [
       "<tf.Tensor: shape=(), dtype=float32, numpy=6.0>"
      ]
     },
     "execution_count": 12,
     "metadata": {},
     "output_type": "execute_result"
    }
   ],
   "source": [
    "dy_dx"
   ]
  },
  {
   "cell_type": "markdown",
   "metadata": {},
   "source": [
    "## Derivative of a Derivative, $2^{nd}$ Derivative\n",
    "$$y=x^3$$\n",
    "$$\\frac{\\partial y}{\\partial x} = 3x^2$$\n",
    "$$\\frac{\\partial^2 y}{\\partial x^2}=6x$$"
   ]
  },
  {
   "cell_type": "code",
   "execution_count": 13,
   "metadata": {
    "execution": {
     "iopub.execute_input": "2020-12-14T13:12:10.986553Z",
     "iopub.status.busy": "2020-12-14T13:12:10.986321Z",
     "iopub.status.idle": "2020-12-14T13:12:10.993632Z",
     "shell.execute_reply": "2020-12-14T13:12:10.992914Z",
     "shell.execute_reply.started": "2020-12-14T13:12:10.986529Z"
    }
   },
   "outputs": [],
   "source": [
    "x = tf.Variable(1.0)\n",
    "with tf.GradientTape() as tape_2:\n",
    "    with tf.GradientTape() as tape_1:\n",
    "        y = x ** 3\n",
    "    dy_dx = tape_1.gradient(y, x)\n",
    "d2y_dx2 = tape_2.gradient(dy_dx, x)"
   ]
  },
  {
   "cell_type": "code",
   "execution_count": 14,
   "metadata": {
    "execution": {
     "iopub.execute_input": "2020-12-14T13:12:18.321735Z",
     "iopub.status.busy": "2020-12-14T13:12:18.321499Z",
     "iopub.status.idle": "2020-12-14T13:12:18.326545Z",
     "shell.execute_reply": "2020-12-14T13:12:18.325724Z",
     "shell.execute_reply.started": "2020-12-14T13:12:18.321710Z"
    }
   },
   "outputs": [
    {
     "data": {
      "text/plain": [
       "<tf.Tensor: shape=(), dtype=float32, numpy=3.0>"
      ]
     },
     "execution_count": 14,
     "metadata": {},
     "output_type": "execute_result"
    }
   ],
   "source": [
    "dy_dx"
   ]
  },
  {
   "cell_type": "code",
   "execution_count": 15,
   "metadata": {
    "execution": {
     "iopub.execute_input": "2020-12-14T13:12:26.209187Z",
     "iopub.status.busy": "2020-12-14T13:12:26.208946Z",
     "iopub.status.idle": "2020-12-14T13:12:26.213877Z",
     "shell.execute_reply": "2020-12-14T13:12:26.213107Z",
     "shell.execute_reply.started": "2020-12-14T13:12:26.209162Z"
    }
   },
   "outputs": [
    {
     "data": {
      "text/plain": [
       "<tf.Tensor: shape=(), dtype=float32, numpy=6.0>"
      ]
     },
     "execution_count": 15,
     "metadata": {},
     "output_type": "execute_result"
    }
   ],
   "source": [
    "d2y_dx2"
   ]
  },
  {
   "cell_type": "code",
   "execution_count": null,
   "metadata": {},
   "outputs": [],
   "source": []
  }
 ],
 "metadata": {
  "kernelspec": {
   "display_name": "Python 3",
   "language": "python",
   "name": "python3"
  },
  "language_info": {
   "codemirror_mode": {
    "name": "ipython",
    "version": 3
   },
   "file_extension": ".py",
   "mimetype": "text/x-python",
   "name": "python",
   "nbconvert_exporter": "python",
   "pygments_lexer": "ipython3",
   "version": "3.8.3"
  }
 },
 "nbformat": 4,
 "nbformat_minor": 4
}
