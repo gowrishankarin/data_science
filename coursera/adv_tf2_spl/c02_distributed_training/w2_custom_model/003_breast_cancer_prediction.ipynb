{
 "cells": [
  {
   "cell_type": "markdown",
   "metadata": {
    "execution": {
     "iopub.execute_input": "2020-12-19T17:27:53.289146Z",
     "iopub.status.busy": "2020-12-19T17:27:53.288886Z",
     "iopub.status.idle": "2020-12-19T17:27:53.292404Z",
     "shell.execute_reply": "2020-12-19T17:27:53.291677Z",
     "shell.execute_reply.started": "2020-12-19T17:27:53.289119Z"
    }
   },
   "source": [
    "# Breast Cancer Prediction"
   ]
  },
  {
   "cell_type": "code",
   "execution_count": 2,
   "metadata": {
    "execution": {
     "iopub.execute_input": "2020-12-19T17:28:08.953250Z",
     "iopub.status.busy": "2020-12-19T17:28:08.952998Z",
     "iopub.status.idle": "2020-12-19T17:28:14.582577Z",
     "shell.execute_reply": "2020-12-19T17:28:14.581360Z",
     "shell.execute_reply.started": "2020-12-19T17:28:08.953224Z"
    }
   },
   "outputs": [],
   "source": [
    "import tensorflow as tf\n",
    "from tensorflow.keras.models import Model\n",
    "from tensorflow.keras.layers import Dense, Input\n",
    "\n",
    "import numpy as np\n",
    "import matplotlib.pyplot as plt\n",
    "import matplotlib.ticker as mticker\n",
    "import pandas as pd\n",
    "from sklearn.model_selection import train_test_split\n",
    "from sklearn.metrics import confusion_matrix\n",
    "import itertools\n",
    "from tqdm import tqdm\n",
    "import tensorflow_datasets as tfds\n",
    "\n",
    "tf.get_logger().setLevel('ERROR')"
   ]
  },
  {
   "cell_type": "code",
   "execution_count": 4,
   "metadata": {
    "execution": {
     "iopub.execute_input": "2020-12-19T17:33:41.361675Z",
     "iopub.status.busy": "2020-12-19T17:33:41.361436Z",
     "iopub.status.idle": "2020-12-19T17:33:41.365742Z",
     "shell.execute_reply": "2020-12-19T17:33:41.364765Z",
     "shell.execute_reply.started": "2020-12-19T17:33:41.361649Z"
    }
   },
   "outputs": [],
   "source": [
    "import os\n",
    "DATA_DIR = \"/Users/shankar/dev/data/competitions/uci/breast-cancer-wisconsin/\"\n",
    "DATA_FILE = os.path.join(DATA_DIR, \"breast_cancer.csv\")"
   ]
  },
  {
   "cell_type": "code",
   "execution_count": 5,
   "metadata": {
    "execution": {
     "iopub.execute_input": "2020-12-19T17:33:41.951005Z",
     "iopub.status.busy": "2020-12-19T17:33:41.950734Z",
     "iopub.status.idle": "2020-12-19T17:33:43.995272Z",
     "shell.execute_reply": "2020-12-19T17:33:43.994359Z",
     "shell.execute_reply.started": "2020-12-19T17:33:41.950957Z"
    }
   },
   "outputs": [
    {
     "name": "stdout",
     "output_type": "stream",
     "text": [
      "Downloading data from https://archive.ics.uci.edu/ml/machine-learning-databases/breast-cancer-wisconsin/breast-cancer-wisconsin.data\n",
      "24576/19889 [=====================================] - 0s 12us/step\n"
     ]
    }
   ],
   "source": [
    "DATASET_URL = \"https://archive.ics.uci.edu/ml/machine-learning-databases/breast-cancer-wisconsin/breast-cancer-wisconsin.data\"\n",
    "data_file = tf.keras.utils.get_file(DATA_FILE, DATASET_URL)\n",
    "col_names = [\"id\", \"clump_thickness\", \"un_cell_size\", \"un_cell_shape\", \"marginal_adheshion\", \"single_eph_cell_size\", \"bare_nuclei\", \"bland_chromatin\", \"normal_nucleoli\", \"mitoses\", \"class\"]\n",
    "df = pd.read_csv(data_file, names=col_names, header=None)"
   ]
  },
  {
   "cell_type": "code",
   "execution_count": 6,
   "metadata": {
    "execution": {
     "iopub.execute_input": "2020-12-19T17:34:02.096886Z",
     "iopub.status.busy": "2020-12-19T17:34:02.096636Z",
     "iopub.status.idle": "2020-12-19T17:34:02.119549Z",
     "shell.execute_reply": "2020-12-19T17:34:02.118795Z",
     "shell.execute_reply.started": "2020-12-19T17:34:02.096860Z"
    }
   },
   "outputs": [
    {
     "data": {
      "text/html": [
       "<div>\n",
       "<style scoped>\n",
       "    .dataframe tbody tr th:only-of-type {\n",
       "        vertical-align: middle;\n",
       "    }\n",
       "\n",
       "    .dataframe tbody tr th {\n",
       "        vertical-align: top;\n",
       "    }\n",
       "\n",
       "    .dataframe thead th {\n",
       "        text-align: right;\n",
       "    }\n",
       "</style>\n",
       "<table border=\"1\" class=\"dataframe\">\n",
       "  <thead>\n",
       "    <tr style=\"text-align: right;\">\n",
       "      <th></th>\n",
       "      <th>id</th>\n",
       "      <th>clump_thickness</th>\n",
       "      <th>un_cell_size</th>\n",
       "      <th>un_cell_shape</th>\n",
       "      <th>marginal_adheshion</th>\n",
       "      <th>single_eph_cell_size</th>\n",
       "      <th>bare_nuclei</th>\n",
       "      <th>bland_chromatin</th>\n",
       "      <th>normal_nucleoli</th>\n",
       "      <th>mitoses</th>\n",
       "      <th>class</th>\n",
       "    </tr>\n",
       "  </thead>\n",
       "  <tbody>\n",
       "    <tr>\n",
       "      <th>0</th>\n",
       "      <td>1000025</td>\n",
       "      <td>5</td>\n",
       "      <td>1</td>\n",
       "      <td>1</td>\n",
       "      <td>1</td>\n",
       "      <td>2</td>\n",
       "      <td>1</td>\n",
       "      <td>3</td>\n",
       "      <td>1</td>\n",
       "      <td>1</td>\n",
       "      <td>2</td>\n",
       "    </tr>\n",
       "    <tr>\n",
       "      <th>1</th>\n",
       "      <td>1002945</td>\n",
       "      <td>5</td>\n",
       "      <td>4</td>\n",
       "      <td>4</td>\n",
       "      <td>5</td>\n",
       "      <td>7</td>\n",
       "      <td>10</td>\n",
       "      <td>3</td>\n",
       "      <td>2</td>\n",
       "      <td>1</td>\n",
       "      <td>2</td>\n",
       "    </tr>\n",
       "    <tr>\n",
       "      <th>2</th>\n",
       "      <td>1015425</td>\n",
       "      <td>3</td>\n",
       "      <td>1</td>\n",
       "      <td>1</td>\n",
       "      <td>1</td>\n",
       "      <td>2</td>\n",
       "      <td>2</td>\n",
       "      <td>3</td>\n",
       "      <td>1</td>\n",
       "      <td>1</td>\n",
       "      <td>2</td>\n",
       "    </tr>\n",
       "    <tr>\n",
       "      <th>3</th>\n",
       "      <td>1016277</td>\n",
       "      <td>6</td>\n",
       "      <td>8</td>\n",
       "      <td>8</td>\n",
       "      <td>1</td>\n",
       "      <td>3</td>\n",
       "      <td>4</td>\n",
       "      <td>3</td>\n",
       "      <td>7</td>\n",
       "      <td>1</td>\n",
       "      <td>2</td>\n",
       "    </tr>\n",
       "    <tr>\n",
       "      <th>4</th>\n",
       "      <td>1017023</td>\n",
       "      <td>4</td>\n",
       "      <td>1</td>\n",
       "      <td>1</td>\n",
       "      <td>3</td>\n",
       "      <td>2</td>\n",
       "      <td>1</td>\n",
       "      <td>3</td>\n",
       "      <td>1</td>\n",
       "      <td>1</td>\n",
       "      <td>2</td>\n",
       "    </tr>\n",
       "  </tbody>\n",
       "</table>\n",
       "</div>"
      ],
      "text/plain": [
       "        id  clump_thickness  un_cell_size  un_cell_shape  marginal_adheshion  \\\n",
       "0  1000025                5             1              1                   1   \n",
       "1  1002945                5             4              4                   5   \n",
       "2  1015425                3             1              1                   1   \n",
       "3  1016277                6             8              8                   1   \n",
       "4  1017023                4             1              1                   3   \n",
       "\n",
       "   single_eph_cell_size bare_nuclei  bland_chromatin  normal_nucleoli  \\\n",
       "0                     2           1                3                1   \n",
       "1                     7          10                3                2   \n",
       "2                     2           2                3                1   \n",
       "3                     3           4                3                7   \n",
       "4                     2           1                3                1   \n",
       "\n",
       "   mitoses  class  \n",
       "0        1      2  \n",
       "1        1      2  \n",
       "2        1      2  \n",
       "3        1      2  \n",
       "4        1      2  "
      ]
     },
     "execution_count": 6,
     "metadata": {},
     "output_type": "execute_result"
    }
   ],
   "source": [
    "df.head()"
   ]
  },
  {
   "cell_type": "code",
   "execution_count": 8,
   "metadata": {
    "execution": {
     "iopub.execute_input": "2020-12-19T17:34:39.980184Z",
     "iopub.status.busy": "2020-12-19T17:34:39.979921Z",
     "iopub.status.idle": "2020-12-19T17:34:39.983204Z",
     "shell.execute_reply": "2020-12-19T17:34:39.982445Z",
     "shell.execute_reply.started": "2020-12-19T17:34:39.980155Z"
    }
   },
   "outputs": [],
   "source": [
    "df.pop(\"id\")"
   ]
  },
  {
   "cell_type": "code",
   "execution_count": 9,
   "metadata": {
    "execution": {
     "iopub.execute_input": "2020-12-19T17:35:26.980784Z",
     "iopub.status.busy": "2020-12-19T17:35:26.980487Z",
     "iopub.status.idle": "2020-12-19T17:35:27.144521Z",
     "shell.execute_reply": "2020-12-19T17:35:27.143769Z",
     "shell.execute_reply.started": "2020-12-19T17:35:26.980755Z"
    }
   },
   "outputs": [],
   "source": [
    "df = df[df[\"bare_nuclei\"] != '?' ]\n",
    "df.bare_nuclei = pd.to_numeric(df.bare_nuclei)"
   ]
  },
  {
   "cell_type": "code",
   "execution_count": 10,
   "metadata": {
    "execution": {
     "iopub.execute_input": "2020-12-19T17:35:50.367022Z",
     "iopub.status.busy": "2020-12-19T17:35:50.366762Z",
     "iopub.status.idle": "2020-12-19T17:35:50.568420Z",
     "shell.execute_reply": "2020-12-19T17:35:50.567574Z",
     "shell.execute_reply.started": "2020-12-19T17:35:50.366995Z"
    }
   },
   "outputs": [
    {
     "data": {
      "text/plain": [
       "<matplotlib.axes._subplots.AxesSubplot at 0x7feae5067520>"
      ]
     },
     "execution_count": 10,
     "metadata": {},
     "output_type": "execute_result"
    },
    {
     "data": {
      "image/png": "[encoded data removed]",
      "text/plain": [
       "<Figure size 432x288 with 1 Axes>"
      ]
     },
     "metadata": {
      "needs_background": "light"
     },
     "output_type": "display_data"
    }
   ],
   "source": [
    "df['class'].hist(bins=20) "
   ]
  },
  {
   "cell_type": "code",
   "execution_count": 11,
   "metadata": {
    "execution": {
     "iopub.execute_input": "2020-12-19T17:37:06.435114Z",
     "iopub.status.busy": "2020-12-19T17:37:06.434863Z",
     "iopub.status.idle": "2020-12-19T17:37:06.439754Z",
     "shell.execute_reply": "2020-12-19T17:37:06.439017Z",
     "shell.execute_reply.started": "2020-12-19T17:37:06.435086Z"
    }
   },
   "outputs": [],
   "source": [
    "df['class'] = np.where(df['class'] == 2, 0, 1)"
   ]
  },
  {
   "cell_type": "code",
   "execution_count": 12,
   "metadata": {
    "execution": {
     "iopub.execute_input": "2020-12-19T17:37:21.234799Z",
     "iopub.status.busy": "2020-12-19T17:37:21.234538Z",
     "iopub.status.idle": "2020-12-19T17:37:21.241676Z",
     "shell.execute_reply": "2020-12-19T17:37:21.240615Z",
     "shell.execute_reply.started": "2020-12-19T17:37:21.234772Z"
    }
   },
   "outputs": [],
   "source": [
    "train, test = train_test_split(df, test_size = 0.2)"
   ]
  },
  {
   "cell_type": "code",
   "execution_count": 13,
   "metadata": {
    "execution": {
     "iopub.execute_input": "2020-12-19T17:38:49.622807Z",
     "iopub.status.busy": "2020-12-19T17:38:49.622565Z",
     "iopub.status.idle": "2020-12-19T17:38:49.672113Z",
     "shell.execute_reply": "2020-12-19T17:38:49.670808Z",
     "shell.execute_reply.started": "2020-12-19T17:38:49.622780Z"
    }
   },
   "outputs": [
    {
     "data": {
      "text/html": [
       "<div>\n",
       "<style scoped>\n",
       "    .dataframe tbody tr th:only-of-type {\n",
       "        vertical-align: middle;\n",
       "    }\n",
       "\n",
       "    .dataframe tbody tr th {\n",
       "        vertical-align: top;\n",
       "    }\n",
       "\n",
       "    .dataframe thead th {\n",
       "        text-align: right;\n",
       "    }\n",
       "</style>\n",
       "<table border=\"1\" class=\"dataframe\">\n",
       "  <thead>\n",
       "    <tr style=\"text-align: right;\">\n",
       "      <th></th>\n",
       "      <th>clump_thickness</th>\n",
       "      <th>un_cell_size</th>\n",
       "      <th>un_cell_shape</th>\n",
       "      <th>marginal_adheshion</th>\n",
       "      <th>single_eph_cell_size</th>\n",
       "      <th>bare_nuclei</th>\n",
       "      <th>bland_chromatin</th>\n",
       "      <th>normal_nucleoli</th>\n",
       "      <th>mitoses</th>\n",
       "      <th>class</th>\n",
       "    </tr>\n",
       "  </thead>\n",
       "  <tbody>\n",
       "    <tr>\n",
       "      <th>count</th>\n",
       "      <td>546.000000</td>\n",
       "      <td>546.000000</td>\n",
       "      <td>546.000000</td>\n",
       "      <td>546.000000</td>\n",
       "      <td>546.000000</td>\n",
       "      <td>546.000000</td>\n",
       "      <td>546.000000</td>\n",
       "      <td>546.000000</td>\n",
       "      <td>546.000000</td>\n",
       "      <td>546.000000</td>\n",
       "    </tr>\n",
       "    <tr>\n",
       "      <th>mean</th>\n",
       "      <td>4.456044</td>\n",
       "      <td>3.217949</td>\n",
       "      <td>3.304029</td>\n",
       "      <td>2.910256</td>\n",
       "      <td>3.307692</td>\n",
       "      <td>3.716117</td>\n",
       "      <td>3.483516</td>\n",
       "      <td>2.994505</td>\n",
       "      <td>1.639194</td>\n",
       "      <td>0.366300</td>\n",
       "    </tr>\n",
       "    <tr>\n",
       "      <th>std</th>\n",
       "      <td>2.825001</td>\n",
       "      <td>3.080886</td>\n",
       "      <td>3.006882</td>\n",
       "      <td>2.900365</td>\n",
       "      <td>2.274835</td>\n",
       "      <td>3.738959</td>\n",
       "      <td>2.416439</td>\n",
       "      <td>3.114625</td>\n",
       "      <td>1.784706</td>\n",
       "      <td>0.482235</td>\n",
       "    </tr>\n",
       "    <tr>\n",
       "      <th>min</th>\n",
       "      <td>1.000000</td>\n",
       "      <td>1.000000</td>\n",
       "      <td>1.000000</td>\n",
       "      <td>1.000000</td>\n",
       "      <td>1.000000</td>\n",
       "      <td>1.000000</td>\n",
       "      <td>1.000000</td>\n",
       "      <td>1.000000</td>\n",
       "      <td>1.000000</td>\n",
       "      <td>0.000000</td>\n",
       "    </tr>\n",
       "    <tr>\n",
       "      <th>25%</th>\n",
       "      <td>2.000000</td>\n",
       "      <td>1.000000</td>\n",
       "      <td>1.000000</td>\n",
       "      <td>1.000000</td>\n",
       "      <td>2.000000</td>\n",
       "      <td>1.000000</td>\n",
       "      <td>2.000000</td>\n",
       "      <td>1.000000</td>\n",
       "      <td>1.000000</td>\n",
       "      <td>0.000000</td>\n",
       "    </tr>\n",
       "    <tr>\n",
       "      <th>50%</th>\n",
       "      <td>4.000000</td>\n",
       "      <td>1.000000</td>\n",
       "      <td>2.000000</td>\n",
       "      <td>1.000000</td>\n",
       "      <td>2.000000</td>\n",
       "      <td>1.000000</td>\n",
       "      <td>3.000000</td>\n",
       "      <td>1.000000</td>\n",
       "      <td>1.000000</td>\n",
       "      <td>0.000000</td>\n",
       "    </tr>\n",
       "    <tr>\n",
       "      <th>75%</th>\n",
       "      <td>6.000000</td>\n",
       "      <td>5.000000</td>\n",
       "      <td>5.000000</td>\n",
       "      <td>4.000000</td>\n",
       "      <td>4.000000</td>\n",
       "      <td>8.000000</td>\n",
       "      <td>5.000000</td>\n",
       "      <td>4.000000</td>\n",
       "      <td>1.000000</td>\n",
       "      <td>1.000000</td>\n",
       "    </tr>\n",
       "    <tr>\n",
       "      <th>max</th>\n",
       "      <td>10.000000</td>\n",
       "      <td>10.000000</td>\n",
       "      <td>10.000000</td>\n",
       "      <td>10.000000</td>\n",
       "      <td>10.000000</td>\n",
       "      <td>10.000000</td>\n",
       "      <td>10.000000</td>\n",
       "      <td>10.000000</td>\n",
       "      <td>10.000000</td>\n",
       "      <td>1.000000</td>\n",
       "    </tr>\n",
       "  </tbody>\n",
       "</table>\n",
       "</div>"
      ],
      "text/plain": [
       "       clump_thickness  un_cell_size  un_cell_shape  marginal_adheshion  \\\n",
       "count       546.000000    546.000000     546.000000          546.000000   \n",
       "mean          4.456044      3.217949       3.304029            2.910256   \n",
       "std           2.825001      3.080886       3.006882            2.900365   \n",
       "min           1.000000      1.000000       1.000000            1.000000   \n",
       "25%           2.000000      1.000000       1.000000            1.000000   \n",
       "50%           4.000000      1.000000       2.000000            1.000000   \n",
       "75%           6.000000      5.000000       5.000000            4.000000   \n",
       "max          10.000000     10.000000      10.000000           10.000000   \n",
       "\n",
       "       single_eph_cell_size  bare_nuclei  bland_chromatin  normal_nucleoli  \\\n",
       "count            546.000000   546.000000       546.000000       546.000000   \n",
       "mean               3.307692     3.716117         3.483516         2.994505   \n",
       "std                2.274835     3.738959         2.416439         3.114625   \n",
       "min                1.000000     1.000000         1.000000         1.000000   \n",
       "25%                2.000000     1.000000         2.000000         1.000000   \n",
       "50%                2.000000     1.000000         3.000000         1.000000   \n",
       "75%                4.000000     8.000000         5.000000         4.000000   \n",
       "max               10.000000    10.000000        10.000000        10.000000   \n",
       "\n",
       "          mitoses       class  \n",
       "count  546.000000  546.000000  \n",
       "mean     1.639194    0.366300  \n",
       "std      1.784706    0.482235  \n",
       "min      1.000000    0.000000  \n",
       "25%      1.000000    0.000000  \n",
       "50%      1.000000    0.000000  \n",
       "75%      1.000000    1.000000  \n",
       "max     10.000000    1.000000  "
      ]
     },
     "execution_count": 13,
     "metadata": {},
     "output_type": "execute_result"
    }
   ],
   "source": [
    "train_stats = train.describe()\n",
    "train_stats"
   ]
  },
  {
   "cell_type": "code",
   "execution_count": 14,
   "metadata": {
    "execution": {
     "iopub.execute_input": "2020-12-19T17:39:10.842531Z",
     "iopub.status.busy": "2020-12-19T17:39:10.842285Z",
     "iopub.status.idle": "2020-12-19T17:39:10.856845Z",
     "shell.execute_reply": "2020-12-19T17:39:10.856076Z",
     "shell.execute_reply.started": "2020-12-19T17:39:10.842504Z"
    }
   },
   "outputs": [
    {
     "data": {
      "text/html": [
       "<div>\n",
       "<style scoped>\n",
       "    .dataframe tbody tr th:only-of-type {\n",
       "        vertical-align: middle;\n",
       "    }\n",
       "\n",
       "    .dataframe tbody tr th {\n",
       "        vertical-align: top;\n",
       "    }\n",
       "\n",
       "    .dataframe thead th {\n",
       "        text-align: right;\n",
       "    }\n",
       "</style>\n",
       "<table border=\"1\" class=\"dataframe\">\n",
       "  <thead>\n",
       "    <tr style=\"text-align: right;\">\n",
       "      <th></th>\n",
       "      <th>count</th>\n",
       "      <th>mean</th>\n",
       "      <th>std</th>\n",
       "      <th>min</th>\n",
       "      <th>25%</th>\n",
       "      <th>50%</th>\n",
       "      <th>75%</th>\n",
       "      <th>max</th>\n",
       "    </tr>\n",
       "  </thead>\n",
       "  <tbody>\n",
       "    <tr>\n",
       "      <th>clump_thickness</th>\n",
       "      <td>546.0</td>\n",
       "      <td>4.456044</td>\n",
       "      <td>2.825001</td>\n",
       "      <td>1.0</td>\n",
       "      <td>2.0</td>\n",
       "      <td>4.0</td>\n",
       "      <td>6.0</td>\n",
       "      <td>10.0</td>\n",
       "    </tr>\n",
       "    <tr>\n",
       "      <th>un_cell_size</th>\n",
       "      <td>546.0</td>\n",
       "      <td>3.217949</td>\n",
       "      <td>3.080886</td>\n",
       "      <td>1.0</td>\n",
       "      <td>1.0</td>\n",
       "      <td>1.0</td>\n",
       "      <td>5.0</td>\n",
       "      <td>10.0</td>\n",
       "    </tr>\n",
       "    <tr>\n",
       "      <th>un_cell_shape</th>\n",
       "      <td>546.0</td>\n",
       "      <td>3.304029</td>\n",
       "      <td>3.006882</td>\n",
       "      <td>1.0</td>\n",
       "      <td>1.0</td>\n",
       "      <td>2.0</td>\n",
       "      <td>5.0</td>\n",
       "      <td>10.0</td>\n",
       "    </tr>\n",
       "    <tr>\n",
       "      <th>marginal_adheshion</th>\n",
       "      <td>546.0</td>\n",
       "      <td>2.910256</td>\n",
       "      <td>2.900365</td>\n",
       "      <td>1.0</td>\n",
       "      <td>1.0</td>\n",
       "      <td>1.0</td>\n",
       "      <td>4.0</td>\n",
       "      <td>10.0</td>\n",
       "    </tr>\n",
       "    <tr>\n",
       "      <th>single_eph_cell_size</th>\n",
       "      <td>546.0</td>\n",
       "      <td>3.307692</td>\n",
       "      <td>2.274835</td>\n",
       "      <td>1.0</td>\n",
       "      <td>2.0</td>\n",
       "      <td>2.0</td>\n",
       "      <td>4.0</td>\n",
       "      <td>10.0</td>\n",
       "    </tr>\n",
       "    <tr>\n",
       "      <th>bare_nuclei</th>\n",
       "      <td>546.0</td>\n",
       "      <td>3.716117</td>\n",
       "      <td>3.738959</td>\n",
       "      <td>1.0</td>\n",
       "      <td>1.0</td>\n",
       "      <td>1.0</td>\n",
       "      <td>8.0</td>\n",
       "      <td>10.0</td>\n",
       "    </tr>\n",
       "    <tr>\n",
       "      <th>bland_chromatin</th>\n",
       "      <td>546.0</td>\n",
       "      <td>3.483516</td>\n",
       "      <td>2.416439</td>\n",
       "      <td>1.0</td>\n",
       "      <td>2.0</td>\n",
       "      <td>3.0</td>\n",
       "      <td>5.0</td>\n",
       "      <td>10.0</td>\n",
       "    </tr>\n",
       "    <tr>\n",
       "      <th>normal_nucleoli</th>\n",
       "      <td>546.0</td>\n",
       "      <td>2.994505</td>\n",
       "      <td>3.114625</td>\n",
       "      <td>1.0</td>\n",
       "      <td>1.0</td>\n",
       "      <td>1.0</td>\n",
       "      <td>4.0</td>\n",
       "      <td>10.0</td>\n",
       "    </tr>\n",
       "    <tr>\n",
       "      <th>mitoses</th>\n",
       "      <td>546.0</td>\n",
       "      <td>1.639194</td>\n",
       "      <td>1.784706</td>\n",
       "      <td>1.0</td>\n",
       "      <td>1.0</td>\n",
       "      <td>1.0</td>\n",
       "      <td>1.0</td>\n",
       "      <td>10.0</td>\n",
       "    </tr>\n",
       "  </tbody>\n",
       "</table>\n",
       "</div>"
      ],
      "text/plain": [
       "                      count      mean       std  min  25%  50%  75%   max\n",
       "clump_thickness       546.0  4.456044  2.825001  1.0  2.0  4.0  6.0  10.0\n",
       "un_cell_size          546.0  3.217949  3.080886  1.0  1.0  1.0  5.0  10.0\n",
       "un_cell_shape         546.0  3.304029  3.006882  1.0  1.0  2.0  5.0  10.0\n",
       "marginal_adheshion    546.0  2.910256  2.900365  1.0  1.0  1.0  4.0  10.0\n",
       "single_eph_cell_size  546.0  3.307692  2.274835  1.0  2.0  2.0  4.0  10.0\n",
       "bare_nuclei           546.0  3.716117  3.738959  1.0  1.0  1.0  8.0  10.0\n",
       "bland_chromatin       546.0  3.483516  2.416439  1.0  2.0  3.0  5.0  10.0\n",
       "normal_nucleoli       546.0  2.994505  3.114625  1.0  1.0  1.0  4.0  10.0\n",
       "mitoses               546.0  1.639194  1.784706  1.0  1.0  1.0  1.0  10.0"
      ]
     },
     "execution_count": 14,
     "metadata": {},
     "output_type": "execute_result"
    }
   ],
   "source": [
    "train_stats.pop('class')\n",
    "train_stats = train_stats.transpose()\n",
    "train_stats"
   ]
  },
  {
   "cell_type": "code",
   "execution_count": 15,
   "metadata": {
    "execution": {
     "iopub.execute_input": "2020-12-19T17:39:32.295329Z",
     "iopub.status.busy": "2020-12-19T17:39:32.295073Z",
     "iopub.status.idle": "2020-12-19T17:39:32.300044Z",
     "shell.execute_reply": "2020-12-19T17:39:32.299211Z",
     "shell.execute_reply.started": "2020-12-19T17:39:32.295303Z"
    }
   },
   "outputs": [],
   "source": [
    "train_Y = train.pop(\"class\")\n",
    "test_Y = test.pop(\"class\")"
   ]
  },
  {
   "cell_type": "code",
   "execution_count": 16,
   "metadata": {
    "execution": {
     "iopub.execute_input": "2020-12-19T17:40:18.513644Z",
     "iopub.status.busy": "2020-12-19T17:40:18.513375Z",
     "iopub.status.idle": "2020-12-19T17:40:18.517735Z",
     "shell.execute_reply": "2020-12-19T17:40:18.517015Z",
     "shell.execute_reply.started": "2020-12-19T17:40:18.513616Z"
    }
   },
   "outputs": [],
   "source": [
    "def norm(x):\n",
    "    return (x - train_stats['mean']) / train_stats['std']"
   ]
  },
  {
   "cell_type": "code",
   "execution_count": 17,
   "metadata": {
    "execution": {
     "iopub.execute_input": "2020-12-19T17:40:25.799692Z",
     "iopub.status.busy": "2020-12-19T17:40:25.799397Z",
     "iopub.status.idle": "2020-12-19T17:40:25.823309Z",
     "shell.execute_reply": "2020-12-19T17:40:25.822541Z",
     "shell.execute_reply.started": "2020-12-19T17:40:25.799661Z"
    }
   },
   "outputs": [],
   "source": [
    "norm_train_X = norm(train)\n",
    "norm_test_X = norm(test)"
   ]
  },
  {
   "cell_type": "markdown",
   "metadata": {},
   "source": [
    "## Create Tensorflow Datasets"
   ]
  },
  {
   "cell_type": "code",
   "execution_count": 19,
   "metadata": {
    "execution": {
     "iopub.execute_input": "2020-12-19T17:43:46.765927Z",
     "iopub.status.busy": "2020-12-19T17:43:46.765676Z",
     "iopub.status.idle": "2020-12-19T17:43:46.772497Z",
     "shell.execute_reply": "2020-12-19T17:43:46.771595Z",
     "shell.execute_reply.started": "2020-12-19T17:43:46.765899Z"
    }
   },
   "outputs": [],
   "source": [
    "train_dataset = tf.data.Dataset.from_tensor_slices(\n",
    "    (norm_train_X.values, train_Y.values)\n",
    ")\n",
    "test_dataset = tf.data.Dataset.from_tensor_slices(\n",
    "    (norm_test_X.values, test_Y.values)\n",
    ")"
   ]
  },
  {
   "cell_type": "code",
   "execution_count": 20,
   "metadata": {
    "execution": {
     "iopub.execute_input": "2020-12-19T17:45:17.486695Z",
     "iopub.status.busy": "2020-12-19T17:45:17.486438Z",
     "iopub.status.idle": "2020-12-19T17:45:17.492514Z",
     "shell.execute_reply": "2020-12-19T17:45:17.491404Z",
     "shell.execute_reply.started": "2020-12-19T17:45:17.486668Z"
    }
   },
   "outputs": [],
   "source": [
    "batch_size = 32\n",
    "train_dataset = train_dataset.shuffle(buffer_size=len(train)).batch(batch_size)\n",
    "test_dataset = test_dataset.batch(batch_size=batch_size)"
   ]
  },
  {
   "cell_type": "code",
   "execution_count": 21,
   "metadata": {
    "execution": {
     "iopub.execute_input": "2020-12-19T17:45:42.226970Z",
     "iopub.status.busy": "2020-12-19T17:45:42.226678Z",
     "iopub.status.idle": "2020-12-19T17:45:42.242061Z",
     "shell.execute_reply": "2020-12-19T17:45:42.241299Z",
     "shell.execute_reply.started": "2020-12-19T17:45:42.226939Z"
    }
   },
   "outputs": [
    {
     "name": "stdout",
     "output_type": "stream",
     "text": [
      "18\n"
     ]
    }
   ],
   "source": [
    "a = enumerate(train_dataset)\n",
    "print(len(list(a)))"
   ]
  },
  {
   "cell_type": "markdown",
   "metadata": {
    "execution": {
     "iopub.execute_input": "2020-12-19T17:46:16.338332Z",
     "iopub.status.busy": "2020-12-19T17:46:16.338071Z",
     "iopub.status.idle": "2020-12-19T17:46:16.341517Z",
     "shell.execute_reply": "2020-12-19T17:46:16.340741Z",
     "shell.execute_reply.started": "2020-12-19T17:46:16.338303Z"
    }
   },
   "source": [
    "## Define the Model"
   ]
  },
  {
   "cell_type": "code",
   "execution_count": 28,
   "metadata": {
    "execution": {
     "iopub.execute_input": "2020-12-19T17:51:23.943043Z",
     "iopub.status.busy": "2020-12-19T17:51:23.942772Z",
     "iopub.status.idle": "2020-12-19T17:51:23.974900Z",
     "shell.execute_reply": "2020-12-19T17:51:23.973942Z",
     "shell.execute_reply.started": "2020-12-19T17:51:23.943015Z"
    }
   },
   "outputs": [],
   "source": [
    "def base_model():\n",
    "    inputs = tf.keras.layers.Input(shape=(len(train.columns)))\n",
    "\n",
    "    x = tf.keras.layers.Dense(128, activation='relu')(inputs)\n",
    "    x = tf.keras.layers.Dense(64, activation='relu')(x)\n",
    "    outputs = tf.keras.layers.Dense(1, activation='sigmoid')(x)\n",
    "    model = tf.keras.Model(inputs=inputs, outputs=outputs)\n",
    "    return model\n",
    "\n",
    "model = base_model()"
   ]
  },
  {
   "cell_type": "code",
   "execution_count": 29,
   "metadata": {
    "execution": {
     "iopub.execute_input": "2020-12-19T17:51:24.231516Z",
     "iopub.status.busy": "2020-12-19T17:51:24.231252Z",
     "iopub.status.idle": "2020-12-19T17:51:24.235694Z",
     "shell.execute_reply": "2020-12-19T17:51:24.234868Z",
     "shell.execute_reply.started": "2020-12-19T17:51:24.231488Z"
    }
   },
   "outputs": [],
   "source": [
    "optimizer = tf.keras.optimizers.RMSprop(learning_rate=0.001)\n",
    "loss_object = tf.keras.losses.BinaryCrossentropy()"
   ]
  },
  {
   "cell_type": "markdown",
   "metadata": {},
   "source": [
    "## Evaluate Untrained Model"
   ]
  },
  {
   "cell_type": "code",
   "execution_count": 30,
   "metadata": {
    "execution": {
     "iopub.execute_input": "2020-12-19T17:51:25.764462Z",
     "iopub.status.busy": "2020-12-19T17:51:25.764212Z",
     "iopub.status.idle": "2020-12-19T17:51:25.772568Z",
     "shell.execute_reply": "2020-12-19T17:51:25.771795Z",
     "shell.execute_reply.started": "2020-12-19T17:51:25.764435Z"
    }
   },
   "outputs": [
    {
     "name": "stdout",
     "output_type": "stream",
     "text": [
      "Loss before training 0.6854\n"
     ]
    }
   ],
   "source": [
    "outputs = model(norm_test_X.values)\n",
    "loss_value = loss_object(y_true=test_Y.values, y_pred=outputs)\n",
    "print(\"Loss before training %.4f\" % loss_value.numpy())"
   ]
  },
  {
   "cell_type": "code",
   "execution_count": 31,
   "metadata": {
    "execution": {
     "iopub.execute_input": "2020-12-19T17:51:27.017928Z",
     "iopub.status.busy": "2020-12-19T17:51:27.017678Z",
     "iopub.status.idle": "2020-12-19T17:51:27.025830Z",
     "shell.execute_reply": "2020-12-19T17:51:27.025023Z",
     "shell.execute_reply.started": "2020-12-19T17:51:27.017901Z"
    }
   },
   "outputs": [],
   "source": [
    "def plot_confusion_matrix(y_true, y_pred, title='', labels=[0,1]):\n",
    "    cm = confusion_matrix(y_true, y_pred)\n",
    "    fig = plt.figure()\n",
    "    ax = fig.add_subplot(111)\n",
    "    cax = ax.matshow(cm)\n",
    "    plt.title(title)\n",
    "    fig.colorbar(cax)\n",
    "    ax.set_xticklabels([''] + labels)\n",
    "    ax.set_yticklabels([''] + labels)\n",
    "    plt.xlabel('Predicted')\n",
    "    plt.ylabel('True')\n",
    "    fmt = 'd'\n",
    "    thresh = cm.max() / 2.\n",
    "    for i, j in itertools.product(range(cm.shape[0]), range(cm.shape[1])):\n",
    "          plt.text(j, i, format(cm[i, j], fmt),\n",
    "                  horizontalalignment=\"center\",\n",
    "                  color=\"black\" if cm[i, j] > thresh else \"white\")\n",
    "    plt.show()"
   ]
  },
  {
   "cell_type": "code",
   "execution_count": 32,
   "metadata": {
    "execution": {
     "iopub.execute_input": "2020-12-19T17:51:27.812108Z",
     "iopub.status.busy": "2020-12-19T17:51:27.811648Z",
     "iopub.status.idle": "2020-12-19T17:51:27.982528Z",
     "shell.execute_reply": "2020-12-19T17:51:27.981665Z",
     "shell.execute_reply.started": "2020-12-19T17:51:27.812050Z"
    }
   },
   "outputs": [
    {
     "data": {
      "image/png": "[encoded data removed]",
      "text/plain": [
       "<Figure size 432x288 with 2 Axes>"
      ]
     },
     "metadata": {
      "needs_background": "light"
     },
     "output_type": "display_data"
    }
   ],
   "source": [
    "plot_confusion_matrix(test_Y.values, tf.round(outputs), title='Confusion Matrix for Untrained Model')"
   ]
  },
  {
   "cell_type": "code",
   "execution_count": null,
   "metadata": {},
   "outputs": [],
   "source": []
  }
 ],
 "metadata": {
  "kernelspec": {
   "display_name": "Python 3",
   "language": "python",
   "name": "python3"
  },
  "language_info": {
   "codemirror_mode": {
    "name": "ipython",
    "version": 3
   },
   "file_extension": ".py",
   "mimetype": "text/x-python",
   "name": "python",
   "nbconvert_exporter": "python",
   "pygments_lexer": "ipython3",
   "version": "3.8.3"
  }
 },
 "nbformat": 4,
 "nbformat_minor": 4
}
