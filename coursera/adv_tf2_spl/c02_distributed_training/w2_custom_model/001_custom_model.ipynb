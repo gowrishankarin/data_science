{
 "cells": [
  {
   "cell_type": "markdown",
   "metadata": {},
   "source": [
    "# Custom Model"
   ]
  },
  {
   "cell_type": "code",
   "execution_count": 1,
   "metadata": {
    "execution": {
     "iopub.status.idle": "2020-12-18T17:09:24.353659Z",
     "shell.execute_reply": "2020-12-18T17:09:24.352869Z",
     "shell.execute_reply.started": "2020-12-18T17:09:20.249463Z"
    }
   },
   "outputs": [],
   "source": [
    "import tensorflow as tf\n",
    "import numpy as np\n",
    "import matplotlib.pyplot as plt"
   ]
  },
  {
   "cell_type": "code",
   "execution_count": 2,
   "metadata": {
    "execution": {
     "iopub.execute_input": "2020-12-18T17:09:24.355369Z",
     "iopub.status.busy": "2020-12-18T17:09:24.355161Z",
     "iopub.status.idle": "2020-12-18T17:09:24.378090Z",
     "shell.execute_reply": "2020-12-18T17:09:24.377408Z",
     "shell.execute_reply.started": "2020-12-18T17:09:24.355343Z"
    }
   },
   "outputs": [],
   "source": [
    "class Model():\n",
    "    def __init__(self):\n",
    "        self.w = tf.Variable(2.0)\n",
    "        self.b = tf.Variable(1.0)\n",
    "        \n",
    "    def __call__(self, x):\n",
    "        return self.w * x + self.b\n",
    "    \n",
    "model = Model()"
   ]
  },
  {
   "cell_type": "markdown",
   "metadata": {},
   "source": [
    "## Synthetic Data"
   ]
  },
  {
   "cell_type": "code",
   "execution_count": 3,
   "metadata": {
    "execution": {
     "iopub.execute_input": "2020-12-18T17:09:24.381521Z",
     "iopub.status.busy": "2020-12-18T17:09:24.381167Z",
     "iopub.status.idle": "2020-12-18T17:09:24.387354Z",
     "shell.execute_reply": "2020-12-18T17:09:24.386421Z",
     "shell.execute_reply.started": "2020-12-18T17:09:24.381487Z"
    }
   },
   "outputs": [],
   "source": [
    "TRUE_w = 3.0\n",
    "TRUE_b = 2.0\n",
    "NUM_EXAMPLES = 1000\n",
    "\n",
    "xs = tf.random.normal(shape=[NUM_EXAMPLES])\n",
    "ys = (TRUE_w * xs) + TRUE_b"
   ]
  },
  {
   "cell_type": "code",
   "execution_count": 4,
   "metadata": {
    "execution": {
     "iopub.execute_input": "2020-12-18T17:09:24.390033Z",
     "iopub.status.busy": "2020-12-18T17:09:24.389616Z",
     "iopub.status.idle": "2020-12-18T17:09:24.396571Z",
     "shell.execute_reply": "2020-12-18T17:09:24.393624Z",
     "shell.execute_reply.started": "2020-12-18T17:09:24.390001Z"
    }
   },
   "outputs": [],
   "source": [
    "def loss(y_hat, y):\n",
    "    return tf.reduce_mean(tf.square(y_hat - y))"
   ]
  },
  {
   "cell_type": "code",
   "execution_count": 5,
   "metadata": {
    "execution": {
     "iopub.execute_input": "2020-12-18T17:09:24.400127Z",
     "iopub.status.busy": "2020-12-18T17:09:24.399496Z",
     "iopub.status.idle": "2020-12-18T17:09:24.408569Z",
     "shell.execute_reply": "2020-12-18T17:09:24.407622Z",
     "shell.execute_reply.started": "2020-12-18T17:09:24.400087Z"
    }
   },
   "outputs": [],
   "source": [
    "def plot_data(inputs, outputs, predicted_outputs):\n",
    "    real = plt.scatter(inputs, outputs, c='b', marker='.')\n",
    "    predicted = plt.scatter(inputs, predicted_outputs, c=\"r\", marker='+')\n",
    "    plt.legend((real, predicted), ('Real Data', 'Predicted Data'))\n",
    "    plt.show()"
   ]
  },
  {
   "cell_type": "code",
   "execution_count": 6,
   "metadata": {
    "execution": {
     "iopub.execute_input": "2020-12-18T17:09:24.410255Z",
     "iopub.status.busy": "2020-12-18T17:09:24.410037Z",
     "iopub.status.idle": "2020-12-18T17:09:24.600459Z",
     "shell.execute_reply": "2020-12-18T17:09:24.599572Z",
     "shell.execute_reply.started": "2020-12-18T17:09:24.410228Z"
    }
   },
   "outputs": [
    {
     "data": {
      "image/png": "[encoded data removed]",
      "text/plain": [
       "<Figure size 432x288 with 1 Axes>"
      ]
     },
     "metadata": {
      "needs_background": "light"
     },
     "output_type": "display_data"
    },
    {
     "name": "stdout",
     "output_type": "stream",
     "text": [
      "Current loss: 2.067799\n"
     ]
    }
   ],
   "source": [
    "plot_data(xs, ys, model(xs))\n",
    "print('Current loss: %1.6f' % loss(model(xs), ys).numpy())"
   ]
  },
  {
   "cell_type": "markdown",
   "metadata": {},
   "source": [
    "## Defining Training Loop\n",
    "- Gradient descent updates the trainable weightes w and b to reduce loss"
   ]
  },
  {
   "cell_type": "code",
   "execution_count": 7,
   "metadata": {
    "execution": {
     "iopub.execute_input": "2020-12-18T17:09:24.602142Z",
     "iopub.status.busy": "2020-12-18T17:09:24.601893Z",
     "iopub.status.idle": "2020-12-18T17:09:24.608618Z",
     "shell.execute_reply": "2020-12-18T17:09:24.607743Z",
     "shell.execute_reply.started": "2020-12-18T17:09:24.602113Z"
    }
   },
   "outputs": [],
   "source": [
    "def train(model, inputs, outputs, learning_rate):\n",
    "    with tf.GradientTape() as t:\n",
    "        current_loss = loss(model(inputs), outputs)\n",
    "    dw, db = t.gradient(current_loss, [model.w, model.b])\n",
    "    \n",
    "    model.w.assign_sub(learning_rate * dw)\n",
    "    model.b.assign_sub(learning_rate * db)\n",
    "    \n",
    "    return current_loss"
   ]
  },
  {
   "cell_type": "code",
   "execution_count": 13,
   "metadata": {
    "execution": {
     "iopub.execute_input": "2020-12-18T17:10:31.433607Z",
     "iopub.status.busy": "2020-12-18T17:10:31.433355Z",
     "iopub.status.idle": "2020-12-18T17:10:31.471913Z",
     "shell.execute_reply": "2020-12-18T17:10:31.471127Z",
     "shell.execute_reply.started": "2020-12-18T17:10:31.433580Z"
    }
   },
   "outputs": [
    {
     "name": "stdout",
     "output_type": "stream",
     "text": [
      "Epoch  0: w=2.00 b=1.00, loss=2.06780\n",
      "Epoch  1: w=2.21 b=1.20, loss=1.30088\n",
      "Epoch  2: w=2.38 b=1.37, loss=0.81847\n",
      "Epoch  3: w=2.51 b=1.49, loss=0.51499\n",
      "Epoch  4: w=2.61 b=1.60, loss=0.32406\n",
      "Epoch  5: w=2.69 b=1.68, loss=0.20394\n",
      "Epoch  6: w=2.76 b=1.74, loss=0.12835\n",
      "Epoch  7: w=2.81 b=1.80, loss=0.08079\n",
      "Epoch  8: w=2.85 b=1.84, loss=0.05085\n",
      "Epoch  9: w=2.88 b=1.87, loss=0.03201\n",
      "Epoch 10: w=2.91 b=1.90, loss=0.02016\n",
      "Epoch 11: w=2.93 b=1.92, loss=0.01269\n",
      "Epoch 12: w=2.94 b=1.93, loss=0.00799\n",
      "Epoch 13: w=2.95 b=1.95, loss=0.00503\n",
      "Epoch 14: w=2.96 b=1.96, loss=0.00317\n"
     ]
    }
   ],
   "source": [
    "model = Model()\n",
    "\n",
    "# collect the history of W values and b values to plot later\n",
    "list_w = []\n",
    "list_b = []\n",
    "epochs = range(15)\n",
    "losses = []\n",
    "for epoch in epochs:\n",
    "    list_w.append(model.w.numpy())\n",
    "    list_b.append(model.b.numpy())\n",
    "    \n",
    "    current_loss = train(model, xs, ys, learning_rate=0.1)\n",
    "    \n",
    "    losses.append(current_loss)\n",
    "    \n",
    "    print('Epoch %2d: w=%1.2f b=%1.2f, loss=%2.5f' %\n",
    "        (epoch, list_w[-1], list_b[-1], current_loss))"
   ]
  },
  {
   "cell_type": "code",
   "execution_count": 14,
   "metadata": {
    "execution": {
     "iopub.execute_input": "2020-12-18T17:10:31.600016Z",
     "iopub.status.busy": "2020-12-18T17:10:31.599568Z",
     "iopub.status.idle": "2020-12-18T17:10:31.805287Z",
     "shell.execute_reply": "2020-12-18T17:10:31.804556Z",
     "shell.execute_reply.started": "2020-12-18T17:10:31.599984Z"
    }
   },
   "outputs": [
    {
     "data": {
      "image/png": "[encoded data removed]",
      "text/plain": [
       "<Figure size 432x288 with 1 Axes>"
      ]
     },
     "metadata": {
      "needs_background": "light"
     },
     "output_type": "display_data"
    }
   ],
   "source": [
    "plt.plot(epochs, list_w, 'r', epochs, list_b, 'b')\n",
    "plt.plot([TRUE_w] * len(epochs), 'r--', [TRUE_b] * len(epochs), 'b--')\n",
    "plt.legend(['w', 'b', 'True w', 'True b'])\n",
    "plt.show()"
   ]
  },
  {
   "cell_type": "markdown",
   "metadata": {},
   "source": [
    "## Plots for Evaluation"
   ]
  },
  {
   "cell_type": "code",
   "execution_count": 15,
   "metadata": {
    "execution": {
     "iopub.execute_input": "2020-12-18T17:10:32.996406Z",
     "iopub.status.busy": "2020-12-18T17:10:32.996163Z",
     "iopub.status.idle": "2020-12-18T17:10:33.164330Z",
     "shell.execute_reply": "2020-12-18T17:10:33.163786Z",
     "shell.execute_reply.started": "2020-12-18T17:10:32.996380Z"
    }
   },
   "outputs": [
    {
     "data": {
      "image/png": "[encoded data removed]",
      "text/plain": [
       "<Figure size 432x288 with 1 Axes>"
      ]
     },
     "metadata": {
      "needs_background": "light"
     },
     "output_type": "display_data"
    }
   ],
   "source": [
    "test_inputs  = tf.random.normal(shape=[NUM_EXAMPLES])\n",
    "test_outputs = test_inputs * TRUE_w + TRUE_b\n",
    "\n",
    "predicted_test_outputs = model(test_inputs)\n",
    "plot_data(test_inputs, test_outputs, predicted_test_outputs)"
   ]
  },
  {
   "cell_type": "code",
   "execution_count": 16,
   "metadata": {
    "execution": {
     "iopub.execute_input": "2020-12-18T17:10:33.398667Z",
     "iopub.status.busy": "2020-12-18T17:10:33.398419Z",
     "iopub.status.idle": "2020-12-18T17:10:33.403698Z",
     "shell.execute_reply": "2020-12-18T17:10:33.402888Z",
     "shell.execute_reply.started": "2020-12-18T17:10:33.398640Z"
    }
   },
   "outputs": [],
   "source": [
    "def plot_loss_for_weights(weights_list, losses):\n",
    "    for idx, weights in enumerate(weights_list):\n",
    "        plt.subplot(120 + idx + 1)\n",
    "        plt.plot(weights['values'], losses, 'r')\n",
    "        plt.plot(weights['values'], losses, 'bo')\n",
    "        plt.xlabel(weights['name'])\n",
    "        plt.ylabel('Loss')"
   ]
  },
  {
   "cell_type": "code",
   "execution_count": 17,
   "metadata": {
    "execution": {
     "iopub.execute_input": "2020-12-18T17:10:33.641706Z",
     "iopub.status.busy": "2020-12-18T17:10:33.641438Z",
     "iopub.status.idle": "2020-12-18T17:10:34.028610Z",
     "shell.execute_reply": "2020-12-18T17:10:34.027858Z",
     "shell.execute_reply.started": "2020-12-18T17:10:33.641676Z"
    }
   },
   "outputs": [
    {
     "data": {
      "image/png": "[encoded data removed]",
      "text/plain": [
       "<Figure size 432x288 with 2 Axes>"
      ]
     },
     "metadata": {
      "needs_background": "light"
     },
     "output_type": "display_data"
    }
   ],
   "source": [
    "weights_list = [{ 'name' : \"w\",\n",
    "                  'values' : list_w\n",
    "                },\n",
    "                {\n",
    "                  'name' : \"b\",\n",
    "                  'values' : list_b\n",
    "                }]\n",
    "\n",
    "plot_loss_for_weights(weights_list, losses)"
   ]
  },
  {
   "cell_type": "code",
   "execution_count": null,
   "metadata": {},
   "outputs": [],
   "source": []
  }
 ],
 "metadata": {
  "kernelspec": {
   "display_name": "Python 3",
   "language": "python",
   "name": "python3"
  },
  "language_info": {
   "codemirror_mode": {
    "name": "ipython",
    "version": 3
   },
   "file_extension": ".py",
   "mimetype": "text/x-python",
   "name": "python",
   "nbconvert_exporter": "python",
   "pygments_lexer": "ipython3",
   "version": "3.8.3"
  }
 },
 "nbformat": 4,
 "nbformat_minor": 4
}
