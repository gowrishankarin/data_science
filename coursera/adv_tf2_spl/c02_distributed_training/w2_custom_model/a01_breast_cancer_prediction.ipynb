{
 "cells": [
  {
   "cell_type": "markdown",
   "metadata": {
    "execution": {
     "iopub.execute_input": "2020-12-19T17:27:53.289146Z",
     "iopub.status.busy": "2020-12-19T17:27:53.288886Z",
     "iopub.status.idle": "2020-12-19T17:27:53.292404Z",
     "shell.execute_reply": "2020-12-19T17:27:53.291677Z",
     "shell.execute_reply.started": "2020-12-19T17:27:53.289119Z"
    }
   },
   "source": [
    "# Breast Cancer Prediction"
   ]
  },
  {
   "cell_type": "code",
   "execution_count": 1,
   "metadata": {
    "execution": {
     "iopub.status.idle": "2020-12-20T12:45:33.963559Z",
     "shell.execute_reply": "2020-12-20T12:45:33.962979Z",
     "shell.execute_reply.started": "2020-12-20T12:45:30.138163Z"
    }
   },
   "outputs": [],
   "source": [
    "import tensorflow as tf\n",
    "from tensorflow.keras.models import Model\n",
    "from tensorflow.keras.layers import Dense, Input\n",
    "\n",
    "import numpy as np\n",
    "import matplotlib.pyplot as plt\n",
    "import matplotlib.ticker as mticker\n",
    "import pandas as pd\n",
    "from sklearn.model_selection import train_test_split\n",
    "from sklearn.metrics import confusion_matrix\n",
    "import itertools\n",
    "from tqdm import tqdm\n",
    "import tensorflow_datasets as tfds\n",
    "\n",
    "tf.get_logger().setLevel('ERROR')"
   ]
  },
  {
   "cell_type": "code",
   "execution_count": 2,
   "metadata": {
    "execution": {
     "iopub.execute_input": "2020-12-20T12:45:33.965016Z",
     "iopub.status.busy": "2020-12-20T12:45:33.964767Z",
     "iopub.status.idle": "2020-12-20T12:45:33.968668Z",
     "shell.execute_reply": "2020-12-20T12:45:33.967683Z",
     "shell.execute_reply.started": "2020-12-20T12:45:33.964991Z"
    }
   },
   "outputs": [],
   "source": [
    "import os\n",
    "DATA_DIR = \"/Users/shankar/dev/data/competitions/uci/breast-cancer-wisconsin/\"\n",
    "DATA_FILE = os.path.join(DATA_DIR, \"breast_cancer.csv\")"
   ]
  },
  {
   "cell_type": "code",
   "execution_count": 3,
   "metadata": {
    "execution": {
     "iopub.execute_input": "2020-12-20T12:45:33.971482Z",
     "iopub.status.busy": "2020-12-20T12:45:33.971236Z",
     "iopub.status.idle": "2020-12-20T12:45:33.984641Z",
     "shell.execute_reply": "2020-12-20T12:45:33.983698Z",
     "shell.execute_reply.started": "2020-12-20T12:45:33.971452Z"
    }
   },
   "outputs": [],
   "source": [
    "DATASET_URL = \"https://archive.ics.uci.edu/ml/machine-learning-databases/breast-cancer-wisconsin/breast-cancer-wisconsin.data\"\n",
    "data_file = tf.keras.utils.get_file(DATA_FILE, DATASET_URL)\n",
    "col_names = [\"id\", \"clump_thickness\", \"un_cell_size\", \"un_cell_shape\", \"marginal_adheshion\", \"single_eph_cell_size\", \"bare_nuclei\", \"bland_chromatin\", \"normal_nucleoli\", \"mitoses\", \"class\"]\n",
    "df = pd.read_csv(data_file, names=col_names, header=None)"
   ]
  },
  {
   "cell_type": "code",
   "execution_count": 4,
   "metadata": {
    "execution": {
     "iopub.execute_input": "2020-12-20T12:45:33.987649Z",
     "iopub.status.busy": "2020-12-20T12:45:33.987282Z",
     "iopub.status.idle": "2020-12-20T12:45:34.006386Z",
     "shell.execute_reply": "2020-12-20T12:45:34.005672Z",
     "shell.execute_reply.started": "2020-12-20T12:45:33.987605Z"
    }
   },
   "outputs": [
    {
     "data": {
      "text/html": [
       "<div>\n",
       "<style scoped>\n",
       "    .dataframe tbody tr th:only-of-type {\n",
       "        vertical-align: middle;\n",
       "    }\n",
       "\n",
       "    .dataframe tbody tr th {\n",
       "        vertical-align: top;\n",
       "    }\n",
       "\n",
       "    .dataframe thead th {\n",
       "        text-align: right;\n",
       "    }\n",
       "</style>\n",
       "<table border=\"1\" class=\"dataframe\">\n",
       "  <thead>\n",
       "    <tr style=\"text-align: right;\">\n",
       "      <th></th>\n",
       "      <th>id</th>\n",
       "      <th>clump_thickness</th>\n",
       "      <th>un_cell_size</th>\n",
       "      <th>un_cell_shape</th>\n",
       "      <th>marginal_adheshion</th>\n",
       "      <th>single_eph_cell_size</th>\n",
       "      <th>bare_nuclei</th>\n",
       "      <th>bland_chromatin</th>\n",
       "      <th>normal_nucleoli</th>\n",
       "      <th>mitoses</th>\n",
       "      <th>class</th>\n",
       "    </tr>\n",
       "  </thead>\n",
       "  <tbody>\n",
       "    <tr>\n",
       "      <th>0</th>\n",
       "      <td>1000025</td>\n",
       "      <td>5</td>\n",
       "      <td>1</td>\n",
       "      <td>1</td>\n",
       "      <td>1</td>\n",
       "      <td>2</td>\n",
       "      <td>1</td>\n",
       "      <td>3</td>\n",
       "      <td>1</td>\n",
       "      <td>1</td>\n",
       "      <td>2</td>\n",
       "    </tr>\n",
       "    <tr>\n",
       "      <th>1</th>\n",
       "      <td>1002945</td>\n",
       "      <td>5</td>\n",
       "      <td>4</td>\n",
       "      <td>4</td>\n",
       "      <td>5</td>\n",
       "      <td>7</td>\n",
       "      <td>10</td>\n",
       "      <td>3</td>\n",
       "      <td>2</td>\n",
       "      <td>1</td>\n",
       "      <td>2</td>\n",
       "    </tr>\n",
       "    <tr>\n",
       "      <th>2</th>\n",
       "      <td>1015425</td>\n",
       "      <td>3</td>\n",
       "      <td>1</td>\n",
       "      <td>1</td>\n",
       "      <td>1</td>\n",
       "      <td>2</td>\n",
       "      <td>2</td>\n",
       "      <td>3</td>\n",
       "      <td>1</td>\n",
       "      <td>1</td>\n",
       "      <td>2</td>\n",
       "    </tr>\n",
       "    <tr>\n",
       "      <th>3</th>\n",
       "      <td>1016277</td>\n",
       "      <td>6</td>\n",
       "      <td>8</td>\n",
       "      <td>8</td>\n",
       "      <td>1</td>\n",
       "      <td>3</td>\n",
       "      <td>4</td>\n",
       "      <td>3</td>\n",
       "      <td>7</td>\n",
       "      <td>1</td>\n",
       "      <td>2</td>\n",
       "    </tr>\n",
       "    <tr>\n",
       "      <th>4</th>\n",
       "      <td>1017023</td>\n",
       "      <td>4</td>\n",
       "      <td>1</td>\n",
       "      <td>1</td>\n",
       "      <td>3</td>\n",
       "      <td>2</td>\n",
       "      <td>1</td>\n",
       "      <td>3</td>\n",
       "      <td>1</td>\n",
       "      <td>1</td>\n",
       "      <td>2</td>\n",
       "    </tr>\n",
       "  </tbody>\n",
       "</table>\n",
       "</div>"
      ],
      "text/plain": [
       "        id  clump_thickness  un_cell_size  un_cell_shape  marginal_adheshion  \\\n",
       "0  1000025                5             1              1                   1   \n",
       "1  1002945                5             4              4                   5   \n",
       "2  1015425                3             1              1                   1   \n",
       "3  1016277                6             8              8                   1   \n",
       "4  1017023                4             1              1                   3   \n",
       "\n",
       "   single_eph_cell_size bare_nuclei  bland_chromatin  normal_nucleoli  \\\n",
       "0                     2           1                3                1   \n",
       "1                     7          10                3                2   \n",
       "2                     2           2                3                1   \n",
       "3                     3           4                3                7   \n",
       "4                     2           1                3                1   \n",
       "\n",
       "   mitoses  class  \n",
       "0        1      2  \n",
       "1        1      2  \n",
       "2        1      2  \n",
       "3        1      2  \n",
       "4        1      2  "
      ]
     },
     "execution_count": 4,
     "metadata": {},
     "output_type": "execute_result"
    }
   ],
   "source": [
    "df.head()"
   ]
  },
  {
   "cell_type": "code",
   "execution_count": 5,
   "metadata": {
    "execution": {
     "iopub.execute_input": "2020-12-20T12:45:34.007868Z",
     "iopub.status.busy": "2020-12-20T12:45:34.007648Z",
     "iopub.status.idle": "2020-12-20T12:45:34.023122Z",
     "shell.execute_reply": "2020-12-20T12:45:34.022034Z",
     "shell.execute_reply.started": "2020-12-20T12:45:34.007843Z"
    }
   },
   "outputs": [
    {
     "data": {
      "text/plain": [
       "0      1000025\n",
       "1      1002945\n",
       "2      1015425\n",
       "3      1016277\n",
       "4      1017023\n",
       "5      1017122\n",
       "6      1018099\n",
       "7      1018561\n",
       "8      1033078\n",
       "9      1033078\n",
       "10     1035283\n",
       "11     1036172\n",
       "12     1041801\n",
       "13     1043999\n",
       "14     1044572\n",
       "15     1047630\n",
       "16     1048672\n",
       "17     1049815\n",
       "18     1050670\n",
       "19     1050718\n",
       "20     1054590\n",
       "21     1054593\n",
       "22     1056784\n",
       "23     1057013\n",
       "24     1059552\n",
       "25     1065726\n",
       "26     1066373\n",
       "27     1066979\n",
       "28     1067444\n",
       "29     1070935\n",
       "        ...   \n",
       "669    1350423\n",
       "670    1352848\n",
       "671    1353092\n",
       "672    1354840\n",
       "673    1354840\n",
       "674    1355260\n",
       "675    1365075\n",
       "676    1365328\n",
       "677    1368267\n",
       "678    1368273\n",
       "679    1368882\n",
       "680    1369821\n",
       "681    1371026\n",
       "682    1371920\n",
       "683     466906\n",
       "684     466906\n",
       "685     534555\n",
       "686     536708\n",
       "687     566346\n",
       "688     603148\n",
       "689     654546\n",
       "690     654546\n",
       "691     695091\n",
       "692     714039\n",
       "693     763235\n",
       "694     776715\n",
       "695     841769\n",
       "696     888820\n",
       "697     897471\n",
       "698     897471\n",
       "Name: id, Length: 699, dtype: int64"
      ]
     },
     "execution_count": 5,
     "metadata": {},
     "output_type": "execute_result"
    }
   ],
   "source": [
    "df.pop(\"id\")"
   ]
  },
  {
   "cell_type": "code",
   "execution_count": 6,
   "metadata": {
    "execution": {
     "iopub.execute_input": "2020-12-20T12:45:34.025241Z",
     "iopub.status.busy": "2020-12-20T12:45:34.024771Z",
     "iopub.status.idle": "2020-12-20T12:45:34.131969Z",
     "shell.execute_reply": "2020-12-20T12:45:34.131173Z",
     "shell.execute_reply.started": "2020-12-20T12:45:34.025195Z"
    }
   },
   "outputs": [],
   "source": [
    "df = df[df[\"bare_nuclei\"] != '?' ]\n",
    "df.bare_nuclei = pd.to_numeric(df.bare_nuclei)"
   ]
  },
  {
   "cell_type": "code",
   "execution_count": 7,
   "metadata": {
    "execution": {
     "iopub.execute_input": "2020-12-20T12:45:34.133517Z",
     "iopub.status.busy": "2020-12-20T12:45:34.133234Z",
     "iopub.status.idle": "2020-12-20T12:45:34.335196Z",
     "shell.execute_reply": "2020-12-20T12:45:34.334396Z",
     "shell.execute_reply.started": "2020-12-20T12:45:34.133490Z"
    }
   },
   "outputs": [
    {
     "data": {
      "text/plain": [
       "<matplotlib.axes._subplots.AxesSubplot at 0x7f9ac18731f0>"
      ]
     },
     "execution_count": 7,
     "metadata": {},
     "output_type": "execute_result"
    },
    {
     "data": {
      "image/png": "[encoded data removed]",
      "text/plain": [
       "<Figure size 432x288 with 1 Axes>"
      ]
     },
     "metadata": {
      "needs_background": "light"
     },
     "output_type": "display_data"
    }
   ],
   "source": [
    "df['class'].hist(bins=20) "
   ]
  },
  {
   "cell_type": "code",
   "execution_count": 8,
   "metadata": {
    "execution": {
     "iopub.execute_input": "2020-12-20T12:45:34.336660Z",
     "iopub.status.busy": "2020-12-20T12:45:34.336419Z",
     "iopub.status.idle": "2020-12-20T12:45:34.341805Z",
     "shell.execute_reply": "2020-12-20T12:45:34.340865Z",
     "shell.execute_reply.started": "2020-12-20T12:45:34.336635Z"
    }
   },
   "outputs": [],
   "source": [
    "df['class'] = np.where(df['class'] == 2, 0, 1)"
   ]
  },
  {
   "cell_type": "code",
   "execution_count": 9,
   "metadata": {
    "execution": {
     "iopub.execute_input": "2020-12-20T12:45:34.345449Z",
     "iopub.status.busy": "2020-12-20T12:45:34.345205Z",
     "iopub.status.idle": "2020-12-20T12:45:34.353785Z",
     "shell.execute_reply": "2020-12-20T12:45:34.352418Z",
     "shell.execute_reply.started": "2020-12-20T12:45:34.345423Z"
    }
   },
   "outputs": [],
   "source": [
    "train, test = train_test_split(df, test_size = 0.2)"
   ]
  },
  {
   "cell_type": "code",
   "execution_count": 10,
   "metadata": {
    "execution": {
     "iopub.execute_input": "2020-12-20T12:45:34.357562Z",
     "iopub.status.busy": "2020-12-20T12:45:34.357231Z",
     "iopub.status.idle": "2020-12-20T12:45:34.415277Z",
     "shell.execute_reply": "2020-12-20T12:45:34.414277Z",
     "shell.execute_reply.started": "2020-12-20T12:45:34.357516Z"
    }
   },
   "outputs": [
    {
     "data": {
      "text/html": [
       "<div>\n",
       "<style scoped>\n",
       "    .dataframe tbody tr th:only-of-type {\n",
       "        vertical-align: middle;\n",
       "    }\n",
       "\n",
       "    .dataframe tbody tr th {\n",
       "        vertical-align: top;\n",
       "    }\n",
       "\n",
       "    .dataframe thead th {\n",
       "        text-align: right;\n",
       "    }\n",
       "</style>\n",
       "<table border=\"1\" class=\"dataframe\">\n",
       "  <thead>\n",
       "    <tr style=\"text-align: right;\">\n",
       "      <th></th>\n",
       "      <th>clump_thickness</th>\n",
       "      <th>un_cell_size</th>\n",
       "      <th>un_cell_shape</th>\n",
       "      <th>marginal_adheshion</th>\n",
       "      <th>single_eph_cell_size</th>\n",
       "      <th>bare_nuclei</th>\n",
       "      <th>bland_chromatin</th>\n",
       "      <th>normal_nucleoli</th>\n",
       "      <th>mitoses</th>\n",
       "      <th>class</th>\n",
       "    </tr>\n",
       "  </thead>\n",
       "  <tbody>\n",
       "    <tr>\n",
       "      <th>count</th>\n",
       "      <td>546.000000</td>\n",
       "      <td>546.000000</td>\n",
       "      <td>546.00000</td>\n",
       "      <td>546.000000</td>\n",
       "      <td>546.000000</td>\n",
       "      <td>546.000000</td>\n",
       "      <td>546.000000</td>\n",
       "      <td>546.000000</td>\n",
       "      <td>546.000000</td>\n",
       "      <td>546.000000</td>\n",
       "    </tr>\n",
       "    <tr>\n",
       "      <th>mean</th>\n",
       "      <td>4.459707</td>\n",
       "      <td>3.150183</td>\n",
       "      <td>3.21978</td>\n",
       "      <td>2.836996</td>\n",
       "      <td>3.245421</td>\n",
       "      <td>3.571429</td>\n",
       "      <td>3.470696</td>\n",
       "      <td>2.796703</td>\n",
       "      <td>1.571429</td>\n",
       "      <td>0.351648</td>\n",
       "    </tr>\n",
       "    <tr>\n",
       "      <th>std</th>\n",
       "      <td>2.817251</td>\n",
       "      <td>3.049947</td>\n",
       "      <td>2.96265</td>\n",
       "      <td>2.893997</td>\n",
       "      <td>2.258973</td>\n",
       "      <td>3.649234</td>\n",
       "      <td>2.496247</td>\n",
       "      <td>3.002884</td>\n",
       "      <td>1.721805</td>\n",
       "      <td>0.477923</td>\n",
       "    </tr>\n",
       "    <tr>\n",
       "      <th>min</th>\n",
       "      <td>1.000000</td>\n",
       "      <td>1.000000</td>\n",
       "      <td>1.00000</td>\n",
       "      <td>1.000000</td>\n",
       "      <td>1.000000</td>\n",
       "      <td>1.000000</td>\n",
       "      <td>1.000000</td>\n",
       "      <td>1.000000</td>\n",
       "      <td>1.000000</td>\n",
       "      <td>0.000000</td>\n",
       "    </tr>\n",
       "    <tr>\n",
       "      <th>25%</th>\n",
       "      <td>2.000000</td>\n",
       "      <td>1.000000</td>\n",
       "      <td>1.00000</td>\n",
       "      <td>1.000000</td>\n",
       "      <td>2.000000</td>\n",
       "      <td>1.000000</td>\n",
       "      <td>2.000000</td>\n",
       "      <td>1.000000</td>\n",
       "      <td>1.000000</td>\n",
       "      <td>0.000000</td>\n",
       "    </tr>\n",
       "    <tr>\n",
       "      <th>50%</th>\n",
       "      <td>4.000000</td>\n",
       "      <td>1.000000</td>\n",
       "      <td>1.00000</td>\n",
       "      <td>1.000000</td>\n",
       "      <td>2.000000</td>\n",
       "      <td>1.000000</td>\n",
       "      <td>3.000000</td>\n",
       "      <td>1.000000</td>\n",
       "      <td>1.000000</td>\n",
       "      <td>0.000000</td>\n",
       "    </tr>\n",
       "    <tr>\n",
       "      <th>75%</th>\n",
       "      <td>6.000000</td>\n",
       "      <td>5.000000</td>\n",
       "      <td>5.00000</td>\n",
       "      <td>4.000000</td>\n",
       "      <td>4.000000</td>\n",
       "      <td>6.000000</td>\n",
       "      <td>5.000000</td>\n",
       "      <td>3.000000</td>\n",
       "      <td>1.000000</td>\n",
       "      <td>1.000000</td>\n",
       "    </tr>\n",
       "    <tr>\n",
       "      <th>max</th>\n",
       "      <td>10.000000</td>\n",
       "      <td>10.000000</td>\n",
       "      <td>10.00000</td>\n",
       "      <td>10.000000</td>\n",
       "      <td>10.000000</td>\n",
       "      <td>10.000000</td>\n",
       "      <td>10.000000</td>\n",
       "      <td>10.000000</td>\n",
       "      <td>10.000000</td>\n",
       "      <td>1.000000</td>\n",
       "    </tr>\n",
       "  </tbody>\n",
       "</table>\n",
       "</div>"
      ],
      "text/plain": [
       "       clump_thickness  un_cell_size  un_cell_shape  marginal_adheshion  \\\n",
       "count       546.000000    546.000000      546.00000          546.000000   \n",
       "mean          4.459707      3.150183        3.21978            2.836996   \n",
       "std           2.817251      3.049947        2.96265            2.893997   \n",
       "min           1.000000      1.000000        1.00000            1.000000   \n",
       "25%           2.000000      1.000000        1.00000            1.000000   \n",
       "50%           4.000000      1.000000        1.00000            1.000000   \n",
       "75%           6.000000      5.000000        5.00000            4.000000   \n",
       "max          10.000000     10.000000       10.00000           10.000000   \n",
       "\n",
       "       single_eph_cell_size  bare_nuclei  bland_chromatin  normal_nucleoli  \\\n",
       "count            546.000000   546.000000       546.000000       546.000000   \n",
       "mean               3.245421     3.571429         3.470696         2.796703   \n",
       "std                2.258973     3.649234         2.496247         3.002884   \n",
       "min                1.000000     1.000000         1.000000         1.000000   \n",
       "25%                2.000000     1.000000         2.000000         1.000000   \n",
       "50%                2.000000     1.000000         3.000000         1.000000   \n",
       "75%                4.000000     6.000000         5.000000         3.000000   \n",
       "max               10.000000    10.000000        10.000000        10.000000   \n",
       "\n",
       "          mitoses       class  \n",
       "count  546.000000  546.000000  \n",
       "mean     1.571429    0.351648  \n",
       "std      1.721805    0.477923  \n",
       "min      1.000000    0.000000  \n",
       "25%      1.000000    0.000000  \n",
       "50%      1.000000    0.000000  \n",
       "75%      1.000000    1.000000  \n",
       "max     10.000000    1.000000  "
      ]
     },
     "execution_count": 10,
     "metadata": {},
     "output_type": "execute_result"
    }
   ],
   "source": [
    "train_stats = train.describe()\n",
    "train_stats"
   ]
  },
  {
   "cell_type": "code",
   "execution_count": 11,
   "metadata": {
    "execution": {
     "iopub.execute_input": "2020-12-20T12:45:34.417284Z",
     "iopub.status.busy": "2020-12-20T12:45:34.416977Z",
     "iopub.status.idle": "2020-12-20T12:45:34.444957Z",
     "shell.execute_reply": "2020-12-20T12:45:34.442560Z",
     "shell.execute_reply.started": "2020-12-20T12:45:34.417254Z"
    }
   },
   "outputs": [
    {
     "data": {
      "text/html": [
       "<div>\n",
       "<style scoped>\n",
       "    .dataframe tbody tr th:only-of-type {\n",
       "        vertical-align: middle;\n",
       "    }\n",
       "\n",
       "    .dataframe tbody tr th {\n",
       "        vertical-align: top;\n",
       "    }\n",
       "\n",
       "    .dataframe thead th {\n",
       "        text-align: right;\n",
       "    }\n",
       "</style>\n",
       "<table border=\"1\" class=\"dataframe\">\n",
       "  <thead>\n",
       "    <tr style=\"text-align: right;\">\n",
       "      <th></th>\n",
       "      <th>count</th>\n",
       "      <th>mean</th>\n",
       "      <th>std</th>\n",
       "      <th>min</th>\n",
       "      <th>25%</th>\n",
       "      <th>50%</th>\n",
       "      <th>75%</th>\n",
       "      <th>max</th>\n",
       "    </tr>\n",
       "  </thead>\n",
       "  <tbody>\n",
       "    <tr>\n",
       "      <th>clump_thickness</th>\n",
       "      <td>546.0</td>\n",
       "      <td>4.459707</td>\n",
       "      <td>2.817251</td>\n",
       "      <td>1.0</td>\n",
       "      <td>2.0</td>\n",
       "      <td>4.0</td>\n",
       "      <td>6.0</td>\n",
       "      <td>10.0</td>\n",
       "    </tr>\n",
       "    <tr>\n",
       "      <th>un_cell_size</th>\n",
       "      <td>546.0</td>\n",
       "      <td>3.150183</td>\n",
       "      <td>3.049947</td>\n",
       "      <td>1.0</td>\n",
       "      <td>1.0</td>\n",
       "      <td>1.0</td>\n",
       "      <td>5.0</td>\n",
       "      <td>10.0</td>\n",
       "    </tr>\n",
       "    <tr>\n",
       "      <th>un_cell_shape</th>\n",
       "      <td>546.0</td>\n",
       "      <td>3.219780</td>\n",
       "      <td>2.962650</td>\n",
       "      <td>1.0</td>\n",
       "      <td>1.0</td>\n",
       "      <td>1.0</td>\n",
       "      <td>5.0</td>\n",
       "      <td>10.0</td>\n",
       "    </tr>\n",
       "    <tr>\n",
       "      <th>marginal_adheshion</th>\n",
       "      <td>546.0</td>\n",
       "      <td>2.836996</td>\n",
       "      <td>2.893997</td>\n",
       "      <td>1.0</td>\n",
       "      <td>1.0</td>\n",
       "      <td>1.0</td>\n",
       "      <td>4.0</td>\n",
       "      <td>10.0</td>\n",
       "    </tr>\n",
       "    <tr>\n",
       "      <th>single_eph_cell_size</th>\n",
       "      <td>546.0</td>\n",
       "      <td>3.245421</td>\n",
       "      <td>2.258973</td>\n",
       "      <td>1.0</td>\n",
       "      <td>2.0</td>\n",
       "      <td>2.0</td>\n",
       "      <td>4.0</td>\n",
       "      <td>10.0</td>\n",
       "    </tr>\n",
       "    <tr>\n",
       "      <th>bare_nuclei</th>\n",
       "      <td>546.0</td>\n",
       "      <td>3.571429</td>\n",
       "      <td>3.649234</td>\n",
       "      <td>1.0</td>\n",
       "      <td>1.0</td>\n",
       "      <td>1.0</td>\n",
       "      <td>6.0</td>\n",
       "      <td>10.0</td>\n",
       "    </tr>\n",
       "    <tr>\n",
       "      <th>bland_chromatin</th>\n",
       "      <td>546.0</td>\n",
       "      <td>3.470696</td>\n",
       "      <td>2.496247</td>\n",
       "      <td>1.0</td>\n",
       "      <td>2.0</td>\n",
       "      <td>3.0</td>\n",
       "      <td>5.0</td>\n",
       "      <td>10.0</td>\n",
       "    </tr>\n",
       "    <tr>\n",
       "      <th>normal_nucleoli</th>\n",
       "      <td>546.0</td>\n",
       "      <td>2.796703</td>\n",
       "      <td>3.002884</td>\n",
       "      <td>1.0</td>\n",
       "      <td>1.0</td>\n",
       "      <td>1.0</td>\n",
       "      <td>3.0</td>\n",
       "      <td>10.0</td>\n",
       "    </tr>\n",
       "    <tr>\n",
       "      <th>mitoses</th>\n",
       "      <td>546.0</td>\n",
       "      <td>1.571429</td>\n",
       "      <td>1.721805</td>\n",
       "      <td>1.0</td>\n",
       "      <td>1.0</td>\n",
       "      <td>1.0</td>\n",
       "      <td>1.0</td>\n",
       "      <td>10.0</td>\n",
       "    </tr>\n",
       "  </tbody>\n",
       "</table>\n",
       "</div>"
      ],
      "text/plain": [
       "                      count      mean       std  min  25%  50%  75%   max\n",
       "clump_thickness       546.0  4.459707  2.817251  1.0  2.0  4.0  6.0  10.0\n",
       "un_cell_size          546.0  3.150183  3.049947  1.0  1.0  1.0  5.0  10.0\n",
       "un_cell_shape         546.0  3.219780  2.962650  1.0  1.0  1.0  5.0  10.0\n",
       "marginal_adheshion    546.0  2.836996  2.893997  1.0  1.0  1.0  4.0  10.0\n",
       "single_eph_cell_size  546.0  3.245421  2.258973  1.0  2.0  2.0  4.0  10.0\n",
       "bare_nuclei           546.0  3.571429  3.649234  1.0  1.0  1.0  6.0  10.0\n",
       "bland_chromatin       546.0  3.470696  2.496247  1.0  2.0  3.0  5.0  10.0\n",
       "normal_nucleoli       546.0  2.796703  3.002884  1.0  1.0  1.0  3.0  10.0\n",
       "mitoses               546.0  1.571429  1.721805  1.0  1.0  1.0  1.0  10.0"
      ]
     },
     "execution_count": 11,
     "metadata": {},
     "output_type": "execute_result"
    }
   ],
   "source": [
    "train_stats.pop('class')\n",
    "train_stats = train_stats.transpose()\n",
    "train_stats"
   ]
  },
  {
   "cell_type": "code",
   "execution_count": 12,
   "metadata": {
    "execution": {
     "iopub.execute_input": "2020-12-20T12:45:34.447601Z",
     "iopub.status.busy": "2020-12-20T12:45:34.447029Z",
     "iopub.status.idle": "2020-12-20T12:45:34.457730Z",
     "shell.execute_reply": "2020-12-20T12:45:34.456590Z",
     "shell.execute_reply.started": "2020-12-20T12:45:34.447554Z"
    }
   },
   "outputs": [],
   "source": [
    "train_Y = train.pop(\"class\")\n",
    "test_Y = test.pop(\"class\")"
   ]
  },
  {
   "cell_type": "code",
   "execution_count": 13,
   "metadata": {
    "execution": {
     "iopub.execute_input": "2020-12-20T12:45:34.460120Z",
     "iopub.status.busy": "2020-12-20T12:45:34.459637Z",
     "iopub.status.idle": "2020-12-20T12:45:34.466121Z",
     "shell.execute_reply": "2020-12-20T12:45:34.465073Z",
     "shell.execute_reply.started": "2020-12-20T12:45:34.460063Z"
    }
   },
   "outputs": [],
   "source": [
    "def norm(x):\n",
    "    return (x - train_stats['mean']) / train_stats['std']"
   ]
  },
  {
   "cell_type": "code",
   "execution_count": 14,
   "metadata": {
    "execution": {
     "iopub.execute_input": "2020-12-20T12:45:34.467801Z",
     "iopub.status.busy": "2020-12-20T12:45:34.467389Z",
     "iopub.status.idle": "2020-12-20T12:45:34.490570Z",
     "shell.execute_reply": "2020-12-20T12:45:34.489584Z",
     "shell.execute_reply.started": "2020-12-20T12:45:34.467758Z"
    }
   },
   "outputs": [],
   "source": [
    "norm_train_X = norm(train)\n",
    "norm_test_X = norm(test)"
   ]
  },
  {
   "cell_type": "markdown",
   "metadata": {},
   "source": [
    "## Create Tensorflow Datasets"
   ]
  },
  {
   "cell_type": "code",
   "execution_count": 15,
   "metadata": {
    "execution": {
     "iopub.execute_input": "2020-12-20T12:45:34.492695Z",
     "iopub.status.busy": "2020-12-20T12:45:34.492234Z",
     "iopub.status.idle": "2020-12-20T12:45:34.526632Z",
     "shell.execute_reply": "2020-12-20T12:45:34.525474Z",
     "shell.execute_reply.started": "2020-12-20T12:45:34.492648Z"
    }
   },
   "outputs": [],
   "source": [
    "train_dataset = tf.data.Dataset.from_tensor_slices(\n",
    "    (norm_train_X.values, train_Y.values)\n",
    ")\n",
    "test_dataset = tf.data.Dataset.from_tensor_slices(\n",
    "    (norm_test_X.values, test_Y.values)\n",
    ")"
   ]
  },
  {
   "cell_type": "code",
   "execution_count": 16,
   "metadata": {
    "execution": {
     "iopub.execute_input": "2020-12-20T12:45:34.528958Z",
     "iopub.status.busy": "2020-12-20T12:45:34.528556Z",
     "iopub.status.idle": "2020-12-20T12:45:34.538329Z",
     "shell.execute_reply": "2020-12-20T12:45:34.537240Z",
     "shell.execute_reply.started": "2020-12-20T12:45:34.528897Z"
    }
   },
   "outputs": [],
   "source": [
    "batch_size = 32\n",
    "train_dataset = train_dataset.shuffle(buffer_size=len(train)).batch(batch_size)\n",
    "test_dataset = test_dataset.batch(batch_size=batch_size)"
   ]
  },
  {
   "cell_type": "code",
   "execution_count": 17,
   "metadata": {
    "execution": {
     "iopub.execute_input": "2020-12-20T12:45:34.540957Z",
     "iopub.status.busy": "2020-12-20T12:45:34.540185Z",
     "iopub.status.idle": "2020-12-20T12:45:34.560779Z",
     "shell.execute_reply": "2020-12-20T12:45:34.559387Z",
     "shell.execute_reply.started": "2020-12-20T12:45:34.540907Z"
    }
   },
   "outputs": [
    {
     "name": "stdout",
     "output_type": "stream",
     "text": [
      "18\n"
     ]
    }
   ],
   "source": [
    "a = enumerate(train_dataset)\n",
    "print(len(list(a)))"
   ]
  },
  {
   "cell_type": "markdown",
   "metadata": {
    "execution": {
     "iopub.execute_input": "2020-12-19T17:46:16.338332Z",
     "iopub.status.busy": "2020-12-19T17:46:16.338071Z",
     "iopub.status.idle": "2020-12-19T17:46:16.341517Z",
     "shell.execute_reply": "2020-12-19T17:46:16.340741Z",
     "shell.execute_reply.started": "2020-12-19T17:46:16.338303Z"
    }
   },
   "source": [
    "## Define the Model"
   ]
  },
  {
   "cell_type": "code",
   "execution_count": 18,
   "metadata": {
    "execution": {
     "iopub.execute_input": "2020-12-20T12:45:34.563270Z",
     "iopub.status.busy": "2020-12-20T12:45:34.562914Z",
     "iopub.status.idle": "2020-12-20T12:45:34.608013Z",
     "shell.execute_reply": "2020-12-20T12:45:34.607237Z",
     "shell.execute_reply.started": "2020-12-20T12:45:34.563226Z"
    }
   },
   "outputs": [],
   "source": [
    "def base_model():\n",
    "    inputs = tf.keras.layers.Input(shape=(len(train.columns)))\n",
    "\n",
    "    x = tf.keras.layers.Dense(128, activation='relu')(inputs)\n",
    "    x = tf.keras.layers.Dense(64, activation='relu')(x)\n",
    "    outputs = tf.keras.layers.Dense(1, activation='sigmoid')(x)\n",
    "    model = tf.keras.Model(inputs=inputs, outputs=outputs)\n",
    "    return model\n",
    "\n",
    "model = base_model()"
   ]
  },
  {
   "cell_type": "code",
   "execution_count": 19,
   "metadata": {
    "execution": {
     "iopub.execute_input": "2020-12-20T12:45:34.610261Z",
     "iopub.status.busy": "2020-12-20T12:45:34.609834Z",
     "iopub.status.idle": "2020-12-20T12:45:34.615712Z",
     "shell.execute_reply": "2020-12-20T12:45:34.614364Z",
     "shell.execute_reply.started": "2020-12-20T12:45:34.610224Z"
    }
   },
   "outputs": [],
   "source": [
    "optimizer = tf.keras.optimizers.RMSprop(learning_rate=0.001)\n",
    "loss_object = tf.keras.losses.BinaryCrossentropy()"
   ]
  },
  {
   "cell_type": "markdown",
   "metadata": {},
   "source": [
    "## Evaluate Untrained Model"
   ]
  },
  {
   "cell_type": "code",
   "execution_count": 20,
   "metadata": {
    "execution": {
     "iopub.execute_input": "2020-12-20T12:45:34.617412Z",
     "iopub.status.busy": "2020-12-20T12:45:34.617143Z",
     "iopub.status.idle": "2020-12-20T12:45:34.649976Z",
     "shell.execute_reply": "2020-12-20T12:45:34.649110Z",
     "shell.execute_reply.started": "2020-12-20T12:45:34.617383Z"
    }
   },
   "outputs": [
    {
     "name": "stdout",
     "output_type": "stream",
     "text": [
      "Loss before training 0.6673\n"
     ]
    }
   ],
   "source": [
    "outputs = model(norm_test_X.values)\n",
    "loss_value = loss_object(y_true=test_Y.values, y_pred=outputs)\n",
    "print(\"Loss before training %.4f\" % loss_value.numpy())"
   ]
  },
  {
   "cell_type": "code",
   "execution_count": 21,
   "metadata": {
    "execution": {
     "iopub.execute_input": "2020-12-20T12:45:34.651653Z",
     "iopub.status.busy": "2020-12-20T12:45:34.651425Z",
     "iopub.status.idle": "2020-12-20T12:45:34.660833Z",
     "shell.execute_reply": "2020-12-20T12:45:34.660001Z",
     "shell.execute_reply.started": "2020-12-20T12:45:34.651626Z"
    }
   },
   "outputs": [],
   "source": [
    "def plot_confusion_matrix(y_true, y_pred, title='', labels=[0,1]):\n",
    "    cm = confusion_matrix(y_true, y_pred)\n",
    "    fig = plt.figure()\n",
    "    ax = fig.add_subplot(111)\n",
    "    cax = ax.matshow(cm)\n",
    "    plt.title(title)\n",
    "    fig.colorbar(cax)\n",
    "    ax.set_xticklabels([''] + labels)\n",
    "    ax.set_yticklabels([''] + labels)\n",
    "    plt.xlabel('Predicted')\n",
    "    plt.ylabel('True')\n",
    "    fmt = 'd'\n",
    "    thresh = cm.max() / 2.\n",
    "    for i, j in itertools.product(range(cm.shape[0]), range(cm.shape[1])):\n",
    "          plt.text(j, i, format(cm[i, j], fmt),\n",
    "                  horizontalalignment=\"center\",\n",
    "                  color=\"black\" if cm[i, j] > thresh else \"white\")\n",
    "    plt.show()"
   ]
  },
  {
   "cell_type": "code",
   "execution_count": 22,
   "metadata": {
    "execution": {
     "iopub.execute_input": "2020-12-20T12:45:34.662257Z",
     "iopub.status.busy": "2020-12-20T12:45:34.661969Z",
     "iopub.status.idle": "2020-12-20T12:45:34.842823Z",
     "shell.execute_reply": "2020-12-20T12:45:34.842123Z",
     "shell.execute_reply.started": "2020-12-20T12:45:34.662231Z"
    }
   },
   "outputs": [
    {
     "data": {
      "image/png": "[encoded data removed]",
      "text/plain": [
       "<Figure size 432x288 with 2 Axes>"
      ]
     },
     "metadata": {
      "needs_background": "light"
     },
     "output_type": "display_data"
    }
   ],
   "source": [
    "plot_confusion_matrix(test_Y.values, tf.round(outputs), title='Confusion Matrix for Untrained Model')"
   ]
  },
  {
   "cell_type": "markdown",
   "metadata": {},
   "source": [
    "## Define Metrics"
   ]
  },
  {
   "cell_type": "code",
   "execution_count": 25,
   "metadata": {
    "execution": {
     "iopub.execute_input": "2020-12-20T12:46:19.021526Z",
     "iopub.status.busy": "2020-12-20T12:46:19.021263Z",
     "iopub.status.idle": "2020-12-20T12:46:19.034293Z",
     "shell.execute_reply": "2020-12-20T12:46:19.032719Z",
     "shell.execute_reply.started": "2020-12-20T12:46:19.021499Z"
    }
   },
   "outputs": [],
   "source": [
    "class F1Score(tf.keras.metrics.Metric):\n",
    "    def __init__(self, name='f1_score', **kwargs):\n",
    "        super(F1Score, self).__init__(name=name, **kwargs)\n",
    "        \n",
    "        self.tp = tf.Variable(0, dtype='int32')\n",
    "        self.fp = tf.Variable(0, dtype='int32')\n",
    "        self.tn = tf.Variable(0, dtype='int32')\n",
    "        self.fn = tf.Variable(0, dtype='int32')\n",
    "        \n",
    "    def update_state(self, y_true, y_pred, sample_weight=None):\n",
    "        '''\n",
    "        Accumulates statistics for the metric\n",
    "        Args:\n",
    "            y_true: target values from the test data\n",
    "            y_pred: predicted values by the model\n",
    "        '''\n",
    "        \n",
    "        # Calculate confusion matrix\n",
    "        conf_matrix = tf.math.confusion_matrix(y_true, y_pred, num_classes=2)\n",
    "        \n",
    "        # Update values of the tp, fp, tn, fn from CM\n",
    "        self.tn.assign_add(conf_matrix[0][0])\n",
    "        self.tp.assign_add(conf_matrix[1][1])\n",
    "        self.fp.assign_add(conf_matrix[0][1])\n",
    "        self.fn.assign_add(conf_matrix[1][0])\n",
    "        \n",
    "    def result(self):\n",
    "        '''\n",
    "        Computes and returns the metric value tensor\n",
    "        '''\n",
    "        # Calculate precision\n",
    "        if(self.tp + self.fp == 0):\n",
    "            precision = 1.0\n",
    "        else:\n",
    "            precision = self.tp / (self.tp + self.fp)\n",
    "            \n",
    "        # Calculate recall\n",
    "        if(self.tp + self.fn == 0):\n",
    "            recall = 1.0\n",
    "        else:\n",
    "            recall = self.tp / (self.tp + self.fn)\n",
    "            \n",
    "        f1_score = 2 * ((precision * recall) / (precision + recall))\n",
    "        \n",
    "        return f1_score\n",
    "    \n",
    "    def reset_states(self):\n",
    "        '''\n",
    "        Resets all of the metric state variable\n",
    "        '''\n",
    "        self.tp.assign(0)\n",
    "        self.fp.assign(0)\n",
    "        self.tn.assign(0)\n",
    "        self.fn.assign(0)"
   ]
  },
  {
   "cell_type": "code",
   "execution_count": 26,
   "metadata": {
    "execution": {
     "iopub.execute_input": "2020-12-20T12:46:19.499506Z",
     "iopub.status.busy": "2020-12-20T12:46:19.499254Z",
     "iopub.status.idle": "2020-12-20T12:46:19.518407Z",
     "shell.execute_reply": "2020-12-20T12:46:19.517549Z",
     "shell.execute_reply.started": "2020-12-20T12:46:19.499477Z"
    }
   },
   "outputs": [
    {
     "data": {
      "text/plain": [
       "<tf.Tensor: shape=(), dtype=float64, numpy=0.2222222222222222>"
      ]
     },
     "execution_count": 26,
     "metadata": {},
     "output_type": "execute_result"
    }
   ],
   "source": [
    "test_F1Score = F1Score()\n",
    "\n",
    "test_F1Score.tp = tf.Variable(2, dtype = 'int32')\n",
    "test_F1Score.fp = tf.Variable(5, dtype = 'int32')\n",
    "test_F1Score.tn = tf.Variable(7, dtype = 'int32')\n",
    "test_F1Score.fn = tf.Variable(9, dtype = 'int32')\n",
    "test_F1Score.result()"
   ]
  },
  {
   "cell_type": "code",
   "execution_count": 27,
   "metadata": {
    "execution": {
     "iopub.execute_input": "2020-12-20T12:47:18.905619Z",
     "iopub.status.busy": "2020-12-20T12:47:18.905355Z",
     "iopub.status.idle": "2020-12-20T12:47:18.934156Z",
     "shell.execute_reply": "2020-12-20T12:47:18.933385Z",
     "shell.execute_reply.started": "2020-12-20T12:47:18.905592Z"
    }
   },
   "outputs": [],
   "source": [
    "train_f1score_metric = F1Score()\n",
    "val_f1score_metric = F1Score()\n",
    "\n",
    "train_acc_metric = tf.keras.metrics.BinaryAccuracy()\n",
    "val_acc_metric = tf.keras.metrics.BinaryAccuracy()"
   ]
  },
  {
   "cell_type": "markdown",
   "metadata": {},
   "source": [
    "## Apply Gradients"
   ]
  },
  {
   "cell_type": "code",
   "execution_count": 30,
   "metadata": {
    "execution": {
     "iopub.execute_input": "2020-12-20T12:54:04.455735Z",
     "iopub.status.busy": "2020-12-20T12:54:04.455520Z",
     "iopub.status.idle": "2020-12-20T12:54:04.460561Z",
     "shell.execute_reply": "2020-12-20T12:54:04.459686Z",
     "shell.execute_reply.started": "2020-12-20T12:54:04.455713Z"
    }
   },
   "outputs": [],
   "source": [
    "def apply_gradient(optimizer, loss_object, model, x, y):\n",
    "    '''\n",
    "    Applies the gradients to the trainable model weights\n",
    "    Args:\n",
    "        No need for explanation\n",
    "    '''\n",
    "    with tf.GradientTape() as tape:\n",
    "        logits = model(x)\n",
    "        losses = loss_object(y_true=y, y_pred=logits)\n",
    "        \n",
    "    gradients = tape.gradient(losses, model.trainable_weights)\n",
    "    optimizer.apply_gradients(zip(gradients, model.trainable_weights))\n",
    "    \n",
    "    return logits, losses"
   ]
  },
  {
   "cell_type": "code",
   "execution_count": 32,
   "metadata": {
    "execution": {
     "iopub.execute_input": "2020-12-20T12:54:18.027533Z",
     "iopub.status.busy": "2020-12-20T12:54:18.027216Z",
     "iopub.status.idle": "2020-12-20T12:54:18.045899Z",
     "shell.execute_reply": "2020-12-20T12:54:18.045023Z",
     "shell.execute_reply.started": "2020-12-20T12:54:18.027498Z"
    }
   },
   "outputs": [
    {
     "name": "stdout",
     "output_type": "stream",
     "text": [
      "[[0.34756684]\n",
      " [0.4184211 ]\n",
      " [0.38896996]\n",
      " [0.42263734]\n",
      " [0.39868578]\n",
      " [0.31585667]\n",
      " [0.20463249]\n",
      " [0.40630797]]\n",
      "0.6539125\n"
     ]
    }
   ],
   "source": [
    "test_logits, test_loss = apply_gradient(\n",
    "    optimizer,\n",
    "    loss_object,\n",
    "    model,\n",
    "    norm_test_X.values,\n",
    "    test_Y.values\n",
    ")\n",
    "\n",
    "print(test_logits.numpy()[:8])\n",
    "print(test_loss.numpy())\n",
    "\n",
    "# del test_model\n",
    "del test_logits\n",
    "del test_loss"
   ]
  },
  {
   "cell_type": "markdown",
   "metadata": {},
   "source": [
    "## Training Loop"
   ]
  },
  {
   "cell_type": "code",
   "execution_count": 33,
   "metadata": {
    "execution": {
     "iopub.execute_input": "2020-12-20T14:09:10.657835Z",
     "iopub.status.busy": "2020-12-20T14:09:10.657491Z",
     "iopub.status.idle": "2020-12-20T14:09:10.668761Z",
     "shell.execute_reply": "2020-12-20T14:09:10.667948Z",
     "shell.execute_reply.started": "2020-12-20T14:09:10.657768Z"
    }
   },
   "outputs": [],
   "source": [
    "def train_data_for_one_epoch(\n",
    "    train_dataset,\n",
    "    optimizer,\n",
    "    loss_object,\n",
    "    model,\n",
    "    train_acc_metric,\n",
    "    train_f1score_metric,\n",
    "    verbose=True\n",
    "):\n",
    "    '''\n",
    "    Computes the loss then updates the weights and metrics for one epoch\n",
    "    Args:\n",
    "        train_acc_metric: Calculates how often predictions match labels\n",
    "        train_f1score_metric: Custom metric we defined earlier\n",
    "    '''\n",
    "    losses = []\n",
    "    \n",
    "    # Iterate through all batches of training data\n",
    "    for step, (x_batch_train, y_batch_train) in enumerate(train_dataset):\n",
    "        \n",
    "        # Calculate loss and update trainable vaqriables using optimizer\n",
    "        logits, loss_value = apply_gradient(\n",
    "            optimizer, loss_object, model, x_batch_train, y_batch_train\n",
    "        )\n",
    "        losses.append(loss_value)\n",
    "        \n",
    "        # Round off logits to nearest integer and cast to integer for calculating metrics\n",
    "        logits = tf.round(logits)\n",
    "        logits = tf.cast(logits, 'int64')\n",
    "        \n",
    "        # Update the training metrics\n",
    "        train_acc_metric.update_state(y_batch_train, logits)\n",
    "        train_f1score_metric.update_state(y_batch_train, logits)\n",
    "        \n",
    "        if verbose:\n",
    "            print(\"Training loss for step %s: %.4f\" % (int(step), float(loss_value)))\n",
    "            \n",
    "    return losses"
   ]
  },
  {
   "cell_type": "code",
   "execution_count": 34,
   "metadata": {
    "execution": {
     "iopub.execute_input": "2020-12-20T14:10:03.063815Z",
     "iopub.status.busy": "2020-12-20T14:10:03.063555Z",
     "iopub.status.idle": "2020-12-20T14:10:03.326470Z",
     "shell.execute_reply": "2020-12-20T14:10:03.325764Z",
     "shell.execute_reply.started": "2020-12-20T14:10:03.063787Z"
    }
   },
   "outputs": [
    {
     "name": "stdout",
     "output_type": "stream",
     "text": [
      "0.6159001\n",
      "0.5056723\n",
      "0.43774742\n",
      "0.363636\n",
      "0.34845504\n",
      "0.2968843\n",
      "0.26584196\n",
      "0.2442089\n",
      "0.18517306\n",
      "0.27089033\n",
      "0.1849632\n",
      "0.1536413\n",
      "0.16668254\n",
      "0.12300046\n",
      "0.20232785\n",
      "0.20799217\n",
      "0.10710657\n",
      "0.090743475\n"
     ]
    }
   ],
   "source": [
    "test_losses = train_data_for_one_epoch(train_dataset, optimizer, loss_object, model, \n",
    "                             train_acc_metric, train_f1score_metric, verbose=False)\n",
    "\n",
    "for test_loss in test_losses:\n",
    "    print(test_loss.numpy())\n",
    "\n",
    "#del test_model\n",
    "del test_losses"
   ]
  },
  {
   "cell_type": "code",
   "execution_count": 37,
   "metadata": {
    "execution": {
     "iopub.execute_input": "2020-12-20T14:22:34.612656Z",
     "iopub.status.busy": "2020-12-20T14:22:34.612400Z",
     "iopub.status.idle": "2020-12-20T14:22:34.624137Z",
     "shell.execute_reply": "2020-12-20T14:22:34.622996Z",
     "shell.execute_reply.started": "2020-12-20T14:22:34.612629Z"
    }
   },
   "outputs": [],
   "source": [
    "def perform_validation():\n",
    "    losses = []\n",
    "    \n",
    "    for x_val, y_val in test_dataset:\n",
    "        \n",
    "        # Calculate validation loss for current batch\n",
    "        val_logits = model(x_val)\n",
    "        val_loss = loss_object(y_true=y_val, y_pred=val_logits)\n",
    "        losses.append(val_loss)\n",
    "        \n",
    "        # Round off and cast outputs to either or 1\n",
    "        val_logits = tf.cast(tf.round(model(x_val)), 'int64')\n",
    "        \n",
    "        # Update validation metrics\n",
    "        val_acc_metric.update_state(y_val, val_logits)\n",
    "        val_f1score_metric.update_state(y_val, val_logits)\n",
    "        \n",
    "    return losses"
   ]
  },
  {
   "cell_type": "code",
   "execution_count": 38,
   "metadata": {
    "execution": {
     "iopub.execute_input": "2020-12-20T14:22:35.299570Z",
     "iopub.status.busy": "2020-12-20T14:22:35.299322Z",
     "iopub.status.idle": "2020-12-20T14:22:36.510429Z",
     "shell.execute_reply": "2020-12-20T14:22:36.509515Z",
     "shell.execute_reply.started": "2020-12-20T14:22:35.299543Z"
    }
   },
   "outputs": [
    {
     "name": "stdout",
     "output_type": "stream",
     "text": [
      "Start of epoch 0\n",
      "Training loss for step 0: 0.1050\n",
      "Training loss for step 1: 0.0313\n",
      "Training loss for step 2: 0.0252\n",
      "Training loss for step 3: 0.0282\n",
      "Training loss for step 4: 0.1096\n",
      "Training loss for step 5: 0.1555\n",
      "Training loss for step 6: 0.0351\n",
      "Training loss for step 7: 0.0470\n",
      "Training loss for step 8: 0.0507\n",
      "Training loss for step 9: 0.2235\n",
      "Training loss for step 10: 0.0992\n",
      "Training loss for step 11: 0.0255\n",
      "Training loss for step 12: 0.0153\n",
      "Training loss for step 13: 0.0374\n",
      "Training loss for step 14: 0.0915\n",
      "Training loss for step 15: 0.0946\n",
      "Training loss for step 16: 0.0637\n",
      "Training loss for step 17: 0.0185\n",
      "\n",
      " Epcoh 0: Train loss: 0.0698  Validation Loss: 0.0892, Train Accuracy: 0.9641, Validation Accuracy 0.9688, Train F1 Score: 0.9458, Validation F1 Score: 0.9474\n",
      "Start of epoch 1\n",
      "Training loss for step 0: 0.0499\n",
      "Training loss for step 1: 0.0180\n",
      "Training loss for step 2: 0.0255\n",
      "Training loss for step 3: 0.0342\n",
      "Training loss for step 4: 0.0724\n",
      "Training loss for step 5: 0.0364\n",
      "Training loss for step 6: 0.2781\n",
      "Training loss for step 7: 0.0073\n",
      "Training loss for step 8: 0.0192\n",
      "Training loss for step 9: 0.0675\n",
      "Training loss for step 10: 0.1338\n",
      "Training loss for step 11: 0.0133\n",
      "Training loss for step 12: 0.0491\n",
      "Training loss for step 13: 0.0486\n",
      "Training loss for step 14: 0.0935\n",
      "Training loss for step 15: 0.0993\n",
      "Training loss for step 16: 0.0796\n",
      "Training loss for step 17: 0.0030\n",
      "\n",
      " Epcoh 1: Train loss: 0.0627  Validation Loss: 0.0889, Train Accuracy: 0.9774, Validation Accuracy 0.9688, Train F1 Score: 0.9666, Validation F1 Score: 0.9474\n",
      "Start of epoch 2\n",
      "Training loss for step 0: 0.0211\n",
      "Training loss for step 1: 0.0700\n",
      "Training loss for step 2: 0.0817\n",
      "Training loss for step 3: 0.0083\n",
      "Training loss for step 4: 0.0671\n",
      "Training loss for step 5: 0.1014\n",
      "Training loss for step 6: 0.0400\n",
      "Training loss for step 7: 0.0987\n",
      "Training loss for step 8: 0.0578\n",
      "Training loss for step 9: 0.1022\n",
      "Training loss for step 10: 0.0828\n",
      "Training loss for step 11: 0.0224\n",
      "Training loss for step 12: 0.0106\n",
      "Training loss for step 13: 0.1244\n",
      "Training loss for step 14: 0.0193\n",
      "Training loss for step 15: 0.0812\n",
      "Training loss for step 16: 0.0728\n",
      "Training loss for step 17: 0.0048\n",
      "\n",
      " Epcoh 2: Train loss: 0.0593  Validation Loss: 0.0884, Train Accuracy: 0.9757, Validation Accuracy 0.9688, Train F1 Score: 0.9639, Validation F1 Score: 0.9474\n",
      "Start of epoch 3\n",
      "Training loss for step 0: 0.0087\n",
      "Training loss for step 1: 0.0282\n",
      "Training loss for step 2: 0.0217\n",
      "Training loss for step 3: 0.1004\n",
      "Training loss for step 4: 0.0412\n",
      "Training loss for step 5: 0.1119\n",
      "Training loss for step 6: 0.0699\n",
      "Training loss for step 7: 0.1119\n",
      "Training loss for step 8: 0.0424\n",
      "Training loss for step 9: 0.0260\n",
      "Training loss for step 10: 0.1109\n",
      "Training loss for step 11: 0.0080\n",
      "Training loss for step 12: 0.0236\n",
      "Training loss for step 13: 0.0242\n",
      "Training loss for step 14: 0.1094\n",
      "Training loss for step 15: 0.0259\n",
      "Training loss for step 16: 0.1467\n",
      "Training loss for step 17: 0.0002\n",
      "\n",
      " Epcoh 3: Train loss: 0.0562  Validation Loss: 0.0906, Train Accuracy: 0.9774, Validation Accuracy 0.9750, Train F1 Score: 0.9666, Validation F1 Score: 0.9574\n",
      "Start of epoch 4\n",
      "Training loss for step 0: 0.0239\n",
      "Training loss for step 1: 0.0246\n",
      "Training loss for step 2: 0.0144\n",
      "Training loss for step 3: 0.0122\n",
      "Training loss for step 4: 0.0326\n",
      "Training loss for step 5: 0.2002\n",
      "Training loss for step 6: 0.0659\n",
      "Training loss for step 7: 0.1007\n",
      "Training loss for step 8: 0.0103\n",
      "Training loss for step 9: 0.0184\n",
      "Training loss for step 10: 0.0479\n",
      "Training loss for step 11: 0.0715\n",
      "Training loss for step 12: 0.0400\n",
      "Training loss for step 13: 0.0607\n",
      "Training loss for step 14: 0.0314\n",
      "Training loss for step 15: 0.1622\n",
      "Training loss for step 16: 0.0679\n",
      "Training loss for step 17: 0.0002\n",
      "\n",
      " Epcoh 4: Train loss: 0.0547  Validation Loss: 0.0895, Train Accuracy: 0.9792, Validation Accuracy 0.9750, Train F1 Score: 0.9692, Validation F1 Score: 0.9574\n"
     ]
    }
   ],
   "source": [
    "epochs = 5\n",
    "epochs_val_losses, epochs_train_losses = [], []\n",
    "\n",
    "for epoch in range(epochs):\n",
    "    print(f'Start of epoch {epoch}')\n",
    "    losses_train = train_data_for_one_epoch(\n",
    "        train_dataset, optimizer, loss_object, model, train_acc_metric, train_f1score_metric\n",
    "    )\n",
    "    \n",
    "    # Get results from training metrics\n",
    "    train_acc = train_acc_metric.result()\n",
    "    train_f1score = train_f1score_metric.result()\n",
    "    \n",
    "    # Perform validation on all batches of test data\n",
    "    losses_val = perform_validation()\n",
    "    \n",
    "    # Get results from validation metrics\n",
    "    val_acc = val_acc_metric.result()\n",
    "    val_f1score = val_f1score_metric.result()\n",
    "    \n",
    "    # Calculating training and validation losses for current epoch\n",
    "    losses_train_mean = np.mean(losses_train)\n",
    "    losses_val_mean = np.mean(losses_val)\n",
    "    epochs_val_losses.append(losses_val_mean)\n",
    "    epochs_train_losses.append(losses_train_mean)\n",
    "    \n",
    "    print('\\n Epcoh %s: Train loss: %.4f  Validation Loss: %.4f, Train Accuracy: %.4f, Validation Accuracy %.4f, Train F1 Score: %.4f, Validation F1 Score: %.4f' % (\n",
    "        epoch, float(losses_train_mean), float(losses_val_mean), float(train_acc), float(val_acc), train_f1score, val_f1score))\n",
    "    \n",
    "    # Reset states of all metrics\n",
    "    train_acc_metric.reset_states()\n",
    "    val_acc_metric.reset_states()\n",
    "    val_f1score_metric.reset_states()\n",
    "    train_f1score_metric.reset_states()\n"
   ]
  },
  {
   "cell_type": "code",
   "execution_count": 40,
   "metadata": {
    "execution": {
     "iopub.execute_input": "2020-12-20T14:23:33.860759Z",
     "iopub.status.busy": "2020-12-20T14:23:33.860509Z",
     "iopub.status.idle": "2020-12-20T14:23:34.015874Z",
     "shell.execute_reply": "2020-12-20T14:23:34.014833Z",
     "shell.execute_reply.started": "2020-12-20T14:23:33.860732Z"
    }
   },
   "outputs": [
    {
     "data": {
      "image/png": "[encoded data removed]",
      "text/plain": [
       "<Figure size 432x288 with 1 Axes>"
      ]
     },
     "metadata": {
      "needs_background": "light"
     },
     "output_type": "display_data"
    }
   ],
   "source": [
    "def plot_metrics(train_metric, val_metric, metric_name, title, ylim=5):\n",
    "    plt.title(title)\n",
    "    plt.ylim(0,ylim)\n",
    "    plt.gca().xaxis.set_major_locator(mticker.MultipleLocator(1))\n",
    "    plt.plot(train_metric,color='blue',label=metric_name)\n",
    "    plt.plot(val_metric,color='green',label='val_' + metric_name)\n",
    "\n",
    "plot_metrics(epochs_train_losses, epochs_val_losses, \"Loss\", \"Loss\", ylim=0.2)"
   ]
  },
  {
   "cell_type": "code",
   "execution_count": 41,
   "metadata": {
    "execution": {
     "iopub.execute_input": "2020-12-20T14:24:04.615432Z",
     "iopub.status.busy": "2020-12-20T14:24:04.615177Z",
     "iopub.status.idle": "2020-12-20T14:24:04.813132Z",
     "shell.execute_reply": "2020-12-20T14:24:04.812477Z",
     "shell.execute_reply.started": "2020-12-20T14:24:04.615404Z"
    }
   },
   "outputs": [
    {
     "data": {
      "image/png": "[encoded data removed]",
      "text/plain": [
       "<Figure size 432x288 with 2 Axes>"
      ]
     },
     "metadata": {
      "needs_background": "light"
     },
     "output_type": "display_data"
    }
   ],
   "source": [
    "test_outputs = model(norm_test_X.values)\n",
    "plot_confusion_matrix(test_Y.values, tf.round(test_outputs), title='Confusion Matrix for Untrained Model')"
   ]
  },
  {
   "cell_type": "code",
   "execution_count": null,
   "metadata": {},
   "outputs": [],
   "source": []
  }
 ],
 "metadata": {
  "kernelspec": {
   "display_name": "Python 3",
   "language": "python",
   "name": "python3"
  },
  "language_info": {
   "codemirror_mode": {
    "name": "ipython",
    "version": 3
   },
   "file_extension": ".py",
   "mimetype": "text/x-python",
   "name": "python",
   "nbconvert_exporter": "python",
   "pygments_lexer": "ipython3",
   "version": "3.8.3"
  }
 },
 "nbformat": 4,
 "nbformat_minor": 4
}
