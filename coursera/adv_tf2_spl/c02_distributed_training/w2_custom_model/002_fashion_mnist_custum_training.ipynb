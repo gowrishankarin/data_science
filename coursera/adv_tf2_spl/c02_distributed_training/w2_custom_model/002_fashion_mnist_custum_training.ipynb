{
 "cells": [
  {
   "cell_type": "markdown",
   "metadata": {},
   "source": [
    "# Fashion MNIST Custom Training Loop"
   ]
  },
  {
   "cell_type": "code",
   "execution_count": 1,
   "metadata": {
    "execution": {
     "iopub.execute_input": "2020-12-19T16:27:41.682290Z",
     "iopub.status.busy": "2020-12-19T16:27:41.682028Z",
     "iopub.status.idle": "2020-12-19T16:27:45.405060Z",
     "shell.execute_reply": "2020-12-19T16:27:45.404235Z",
     "shell.execute_reply.started": "2020-12-19T16:27:41.682258Z"
    }
   },
   "outputs": [],
   "source": [
    "import tensorflow as tf\n",
    "from tensorflow.keras.models import Model\n",
    "from tensorflow.keras.layers import Dense, Input\n",
    "\n",
    "import numpy as np\n",
    "import matplotlib.pyplot as plt\n",
    "import pandas as pd\n",
    "from sklearn.model_selection import train_test_split\n",
    "from sklearn.metrics import confusion_matrix\n",
    "import itertools\n",
    "from tqdm import tqdm\n",
    "import tensorflow_datasets as tfds\n",
    "import matplotlib.ticker as mticker"
   ]
  },
  {
   "cell_type": "code",
   "execution_count": 2,
   "metadata": {
    "execution": {
     "iopub.execute_input": "2020-12-19T16:27:45.407459Z",
     "iopub.status.busy": "2020-12-19T16:27:45.407235Z",
     "iopub.status.idle": "2020-12-19T16:34:31.309232Z",
     "shell.execute_reply": "2020-12-19T16:34:31.308389Z",
     "shell.execute_reply.started": "2020-12-19T16:27:45.407434Z"
    }
   },
   "outputs": [
    {
     "name": "stdout",
     "output_type": "stream",
     "text": [
      "\u001b[1mDownloading and preparing dataset fashion_mnist/3.0.1 (download: 29.45 MiB, generated: 36.42 MiB, total: 65.87 MiB) to /Users/shankar/dev/data/competitions/tfds/fashion_mnist/fashion_mnist/3.0.1...\u001b[0m\n"
     ]
    },
    {
     "data": {
      "application/vnd.jupyter.widget-view+json": {
       "model_id": "bd3684cb1a7e47d1ab530aa2acbab9f1",
       "version_major": 2,
       "version_minor": 0
      },
      "text/plain": [
       "HBox(children=(FloatProgress(value=1.0, bar_style='info', description='Dl Completed...', max=1.0, style=Progre…"
      ]
     },
     "metadata": {},
     "output_type": "display_data"
    },
    {
     "data": {
      "application/vnd.jupyter.widget-view+json": {
       "model_id": "ccf8a49d75614f3b9aa15dea19140246",
       "version_major": 2,
       "version_minor": 0
      },
      "text/plain": [
       "HBox(children=(FloatProgress(value=1.0, bar_style='info', description='Dl Size...', max=1.0, style=ProgressSty…"
      ]
     },
     "metadata": {},
     "output_type": "display_data"
    },
    {
     "data": {
      "application/vnd.jupyter.widget-view+json": {
       "model_id": "1238f5120f9248509c15cb25881bdf44",
       "version_major": 2,
       "version_minor": 0
      },
      "text/plain": [
       "HBox(children=(FloatProgress(value=1.0, bar_style='info', description='Extraction completed...', max=1.0, styl…"
      ]
     },
     "metadata": {},
     "output_type": "display_data"
    },
    {
     "name": "stdout",
     "output_type": "stream",
     "text": [
      "\n",
      "\n",
      "\n",
      "\n",
      "\n",
      "\n"
     ]
    },
    {
     "data": {
      "application/vnd.jupyter.widget-view+json": {
       "model_id": "",
       "version_major": 2,
       "version_minor": 0
      },
      "text/plain": [
       "HBox(children=(FloatProgress(value=1.0, bar_style='info', max=1.0), HTML(value='')))"
      ]
     },
     "metadata": {},
     "output_type": "display_data"
    },
    {
     "name": "stdout",
     "output_type": "stream",
     "text": [
      "Shuffling and writing examples to /Users/shankar/dev/data/competitions/tfds/fashion_mnist/fashion_mnist/3.0.1.incompleteWTQSMZ/fashion_mnist-train.tfrecord\n"
     ]
    },
    {
     "data": {
      "application/vnd.jupyter.widget-view+json": {
       "model_id": "bdece1c302c14c86a931f32ff60baa8c",
       "version_major": 2,
       "version_minor": 0
      },
      "text/plain": [
       "HBox(children=(FloatProgress(value=0.0, max=60000.0), HTML(value='')))"
      ]
     },
     "metadata": {},
     "output_type": "display_data"
    },
    {
     "data": {
      "application/vnd.jupyter.widget-view+json": {
       "model_id": "",
       "version_major": 2,
       "version_minor": 0
      },
      "text/plain": [
       "HBox(children=(FloatProgress(value=1.0, bar_style='info', max=1.0), HTML(value='')))"
      ]
     },
     "metadata": {},
     "output_type": "display_data"
    },
    {
     "name": "stdout",
     "output_type": "stream",
     "text": [
      "Shuffling and writing examples to /Users/shankar/dev/data/competitions/tfds/fashion_mnist/fashion_mnist/3.0.1.incompleteWTQSMZ/fashion_mnist-test.tfrecord\n"
     ]
    },
    {
     "data": {
      "application/vnd.jupyter.widget-view+json": {
       "model_id": "19fa3358e1dc40cbae17c3873a46605d",
       "version_major": 2,
       "version_minor": 0
      },
      "text/plain": [
       "HBox(children=(FloatProgress(value=0.0, max=10000.0), HTML(value='')))"
      ]
     },
     "metadata": {},
     "output_type": "display_data"
    },
    {
     "name": "stdout",
     "output_type": "stream",
     "text": [
      "\u001b[1mDataset fashion_mnist downloaded and prepared to /Users/shankar/dev/data/competitions/tfds/fashion_mnist/fashion_mnist/3.0.1. Subsequent calls will reuse this data.\u001b[0m\n"
     ]
    }
   ],
   "source": [
    "DATA_DIR = \"/Users/shankar/dev/data/competitions/tfds/fashion_mnist\"\n",
    "train_data, info = tfds.load(\"fashion_mnist\", split = \"train\", with_info = True, data_dir=DATA_DIR, download=True)\n",
    "test_data = tfds.load(\"fashion_mnist\", split = \"test\", data_dir=DATA_DIR, download=True)"
   ]
  },
  {
   "cell_type": "code",
   "execution_count": 3,
   "metadata": {
    "execution": {
     "iopub.execute_input": "2020-12-19T16:34:31.316334Z",
     "iopub.status.busy": "2020-12-19T16:34:31.315977Z",
     "iopub.status.idle": "2020-12-19T16:34:31.321408Z",
     "shell.execute_reply": "2020-12-19T16:34:31.320631Z",
     "shell.execute_reply.started": "2020-12-19T16:34:31.316299Z"
    }
   },
   "outputs": [],
   "source": [
    "class_names = [\"T-shirt/top\", \"Trouser/pants\", \"Pullover shirt\", \"Dress\", \"Coat\", \"Sandal\", \"Shirt\", \"Sneaker\", \"Bag\", \"Ankle boot\"]"
   ]
  },
  {
   "cell_type": "code",
   "execution_count": 4,
   "metadata": {
    "execution": {
     "iopub.execute_input": "2020-12-19T16:34:31.323162Z",
     "iopub.status.busy": "2020-12-19T16:34:31.322850Z",
     "iopub.status.idle": "2020-12-19T16:34:31.329117Z",
     "shell.execute_reply": "2020-12-19T16:34:31.328174Z",
     "shell.execute_reply.started": "2020-12-19T16:34:31.323109Z"
    }
   },
   "outputs": [],
   "source": [
    "def format_image(data):\n",
    "    image = data['image']\n",
    "    image = tf.reshape(image, [-1])\n",
    "    image = tf.cast(image, 'float32')\n",
    "    image = image / 255.0\n",
    "    return image, data[\"label\"]"
   ]
  },
  {
   "cell_type": "code",
   "execution_count": 5,
   "metadata": {
    "execution": {
     "iopub.execute_input": "2020-12-19T16:34:31.330701Z",
     "iopub.status.busy": "2020-12-19T16:34:31.330419Z",
     "iopub.status.idle": "2020-12-19T16:34:31.437198Z",
     "shell.execute_reply": "2020-12-19T16:34:31.436525Z",
     "shell.execute_reply.started": "2020-12-19T16:34:31.330675Z"
    }
   },
   "outputs": [],
   "source": [
    "train_data = train_data.map(format_image)\n",
    "test_data = test_data.map(format_image)"
   ]
  },
  {
   "cell_type": "code",
   "execution_count": 6,
   "metadata": {
    "execution": {
     "iopub.execute_input": "2020-12-19T16:34:32.423230Z",
     "iopub.status.busy": "2020-12-19T16:34:32.423001Z",
     "iopub.status.idle": "2020-12-19T16:34:32.427946Z",
     "shell.execute_reply": "2020-12-19T16:34:32.426977Z",
     "shell.execute_reply.started": "2020-12-19T16:34:32.423204Z"
    }
   },
   "outputs": [],
   "source": [
    "batch_size = 64\n",
    "train = train_data.shuffle(buffer_size=1024).batch(batch_size)\n",
    "test = test_data.batch(batch_size=batch_size)"
   ]
  },
  {
   "cell_type": "markdown",
   "metadata": {},
   "source": [
    "## Define the Model"
   ]
  },
  {
   "cell_type": "code",
   "execution_count": 8,
   "metadata": {
    "execution": {
     "iopub.execute_input": "2020-12-19T16:34:49.043774Z",
     "iopub.status.busy": "2020-12-19T16:34:49.043533Z",
     "iopub.status.idle": "2020-12-19T16:34:49.049453Z",
     "shell.execute_reply": "2020-12-19T16:34:49.048440Z",
     "shell.execute_reply.started": "2020-12-19T16:34:49.043748Z"
    }
   },
   "outputs": [],
   "source": [
    "def base_model():\n",
    "    inputs = tf.keras.Input(shape=(784,), name='digits')\n",
    "    x = tf.keras.layers.Dense(64, activation='relu', name='dense_1')(inputs)\n",
    "    x = tf.keras.layers.Dense(64, activation='relu', name='dense_2')(x)\n",
    "    outputs = tf.keras.layers.Dense(10, activation=\"softmax\", name=\"predictions\")(x)\n",
    "    model = tf.keras.Model(inputs=inputs, outputs=outputs)\n",
    "    return model"
   ]
  },
  {
   "cell_type": "code",
   "execution_count": 9,
   "metadata": {
    "execution": {
     "iopub.execute_input": "2020-12-19T16:34:50.241261Z",
     "iopub.status.busy": "2020-12-19T16:34:50.241012Z",
     "iopub.status.idle": "2020-12-19T16:34:50.244857Z",
     "shell.execute_reply": "2020-12-19T16:34:50.244096Z",
     "shell.execute_reply.started": "2020-12-19T16:34:50.241234Z"
    }
   },
   "outputs": [],
   "source": [
    "optimizer = tf.keras.optimizers.Adam()\n",
    "loss_object = tf.keras.losses.SparseCategoricalCrossentropy()"
   ]
  },
  {
   "cell_type": "code",
   "execution_count": 10,
   "metadata": {
    "execution": {
     "iopub.execute_input": "2020-12-19T16:35:27.969358Z",
     "iopub.status.busy": "2020-12-19T16:35:27.969115Z",
     "iopub.status.idle": "2020-12-19T16:35:27.993945Z",
     "shell.execute_reply": "2020-12-19T16:35:27.993220Z",
     "shell.execute_reply.started": "2020-12-19T16:35:27.969331Z"
    }
   },
   "outputs": [],
   "source": [
    "train_acc_metric = tf.keras.metrics.SparseCategoricalAccuracy()\n",
    "val_acc_metric = tf.keras.metrics.SparseCategoricalAccuracy()"
   ]
  },
  {
   "cell_type": "markdown",
   "metadata": {},
   "source": [
    "## Building the Training Loop"
   ]
  },
  {
   "cell_type": "code",
   "execution_count": 11,
   "metadata": {
    "execution": {
     "iopub.execute_input": "2020-12-19T16:38:02.614962Z",
     "iopub.status.busy": "2020-12-19T16:38:02.614641Z",
     "iopub.status.idle": "2020-12-19T16:38:02.621384Z",
     "shell.execute_reply": "2020-12-19T16:38:02.620202Z",
     "shell.execute_reply.started": "2020-12-19T16:38:02.614926Z"
    }
   },
   "outputs": [],
   "source": [
    "def apply_gradient(optimixer, model, x, y):\n",
    "    with tf.GradientTape() as tape:\n",
    "        logits = model(x)\n",
    "        loss_value = loss_object(y_true=y, y_pred=logits)\n",
    "        \n",
    "    gradients = tape.gradient(loss_value, model.trainable_weights)\n",
    "    optimizer.apply_gradients(zip(gradients, model.trainable_weights))\n",
    "    \n",
    "    return logits, loss_value"
   ]
  },
  {
   "cell_type": "code",
   "execution_count": 12,
   "metadata": {
    "execution": {
     "iopub.execute_input": "2020-12-19T16:43:29.384000Z",
     "iopub.status.busy": "2020-12-19T16:43:29.383754Z",
     "iopub.status.idle": "2020-12-19T16:43:29.390197Z",
     "shell.execute_reply": "2020-12-19T16:43:29.389250Z",
     "shell.execute_reply.started": "2020-12-19T16:43:29.383973Z"
    }
   },
   "outputs": [],
   "source": [
    "def train_data_for_one_epoch():\n",
    "    losses = []\n",
    "    pbar = tqdm(\n",
    "        total=len(list(enumerate(train))),\n",
    "        position=0,\n",
    "        leave=True,\n",
    "        bar_format='{l_bar}{bar}| {n_fmt}/{total_fmt} '\n",
    "    )\n",
    "    \n",
    "    for step, (x_batch_train, y_batch_train) in enumerate(train):\n",
    "        logits, loss_value = apply_gradient(\n",
    "            optimizer, \n",
    "            model,\n",
    "            x_batch_train,\n",
    "            y_batch_train\n",
    "        )\n",
    "        losses.append(loss_value)\n",
    "        \n",
    "        train_acc_metric(y_batch_train, logits)\n",
    "        pbar.set_description(f\"Training loss for step {int(step)}: {round(float(loss_value), 4)}\")\n",
    "        pbar.update()\n",
    "    return losses"
   ]
  },
  {
   "cell_type": "code",
   "execution_count": 13,
   "metadata": {
    "execution": {
     "iopub.execute_input": "2020-12-19T16:48:08.326794Z",
     "iopub.status.busy": "2020-12-19T16:48:08.326549Z",
     "iopub.status.idle": "2020-12-19T16:48:08.331507Z",
     "shell.execute_reply": "2020-12-19T16:48:08.330638Z",
     "shell.execute_reply.started": "2020-12-19T16:48:08.326767Z"
    }
   },
   "outputs": [],
   "source": [
    "def perform_validation():\n",
    "    losses = []\n",
    "    for x_val, y_val in test:\n",
    "        val_logits = model(x_val)\n",
    "        val_loss = loss_object(y_true=y_val, y_pred=val_logits)\n",
    "        losses.append(val_loss)\n",
    "        val_acc_metric(y_val, val_logits)\n",
    "    return losses"
   ]
  },
  {
   "cell_type": "code",
   "execution_count": 14,
   "metadata": {
    "execution": {
     "iopub.execute_input": "2020-12-19T16:52:29.598369Z",
     "iopub.status.busy": "2020-12-19T16:52:29.598134Z",
     "iopub.status.idle": "2020-12-19T16:54:52.388336Z",
     "shell.execute_reply": "2020-12-19T16:54:52.387787Z",
     "shell.execute_reply.started": "2020-12-19T16:52:29.598342Z"
    }
   },
   "outputs": [
    {
     "name": "stdout",
     "output_type": "stream",
     "text": [
      "Start of epoch 0\n"
     ]
    },
    {
     "name": "stderr",
     "output_type": "stream",
     "text": [
      "Training loss for step 937: 0.4018: 100%|█████████▉| 937/938 "
     ]
    },
    {
     "name": "stdout",
     "output_type": "stream",
     "text": [
      "\n",
      " Epoch 0: Train loss: 0.5365  Validation Loss: 0.4463, Train Accuracy: 0.8122, Validation Accuracy 0.8407\n",
      "Start of epoch 1\n"
     ]
    },
    {
     "name": "stderr",
     "output_type": "stream",
     "text": [
      "Training loss for step 937: 0.6521: 100%|█████████▉| 937/938 "
     ]
    },
    {
     "name": "stdout",
     "output_type": "stream",
     "text": [
      "\n",
      " Epoch 1: Train loss: 0.3897  Validation Loss: 0.4002, Train Accuracy: 0.8598, Validation Accuracy 0.8583\n",
      "Start of epoch 2\n"
     ]
    },
    {
     "name": "stderr",
     "output_type": "stream",
     "text": [
      "Training loss for step 937: 0.3458: 100%|█████████▉| 937/938 "
     ]
    },
    {
     "name": "stdout",
     "output_type": "stream",
     "text": [
      "\n",
      " Epoch 2: Train loss: 0.3501  Validation Loss: 0.4051, Train Accuracy: 0.8734, Validation Accuracy 0.8580\n",
      "Start of epoch 3\n"
     ]
    },
    {
     "name": "stderr",
     "output_type": "stream",
     "text": [
      "Training loss for step 937: 0.6408: 100%|█████████▉| 937/938 "
     ]
    },
    {
     "name": "stdout",
     "output_type": "stream",
     "text": [
      "\n",
      " Epoch 3: Train loss: 0.3285  Validation Loss: 0.3933, Train Accuracy: 0.8804, Validation Accuracy 0.8577\n",
      "Start of epoch 4\n"
     ]
    },
    {
     "name": "stderr",
     "output_type": "stream",
     "text": [
      "Training loss for step 937: 0.4892: 100%|█████████▉| 937/938 "
     ]
    },
    {
     "name": "stdout",
     "output_type": "stream",
     "text": [
      "\n",
      " Epoch 4: Train loss: 0.3140  Validation Loss: 0.3659, Train Accuracy: 0.8838, Validation Accuracy 0.8708\n",
      "Start of epoch 5\n"
     ]
    },
    {
     "name": "stderr",
     "output_type": "stream",
     "text": [
      "Training loss for step 937: 0.1992: 100%|█████████▉| 937/938 "
     ]
    },
    {
     "name": "stdout",
     "output_type": "stream",
     "text": [
      "\n",
      " Epoch 5: Train loss: 0.2980  Validation Loss: 0.3608, Train Accuracy: 0.8896, Validation Accuracy 0.8742\n",
      "Start of epoch 6\n"
     ]
    },
    {
     "name": "stderr",
     "output_type": "stream",
     "text": [
      "Training loss for step 937: 0.1958: 100%|█████████▉| 937/938 "
     ]
    },
    {
     "name": "stdout",
     "output_type": "stream",
     "text": [
      "\n",
      " Epoch 6: Train loss: 0.2875  Validation Loss: 0.3599, Train Accuracy: 0.8937, Validation Accuracy 0.8748\n",
      "Start of epoch 7\n"
     ]
    },
    {
     "name": "stderr",
     "output_type": "stream",
     "text": [
      "Training loss for step 937: 0.1147: 100%|█████████▉| 937/938 "
     ]
    },
    {
     "name": "stdout",
     "output_type": "stream",
     "text": [
      "\n",
      " Epoch 7: Train loss: 0.2761  Validation Loss: 0.3570, Train Accuracy: 0.8974, Validation Accuracy 0.8749\n",
      "Start of epoch 8\n"
     ]
    },
    {
     "name": "stderr",
     "output_type": "stream",
     "text": [
      "Training loss for step 937: 0.1323: 100%|█████████▉| 937/938 "
     ]
    },
    {
     "name": "stdout",
     "output_type": "stream",
     "text": [
      "\n",
      " Epoch 8: Train loss: 0.2641  Validation Loss: 0.3511, Train Accuracy: 0.9019, Validation Accuracy 0.8786\n",
      "Start of epoch 9\n"
     ]
    },
    {
     "name": "stderr",
     "output_type": "stream",
     "text": [
      "Training loss for step 937: 0.1453: 100%|█████████▉| 937/938 "
     ]
    },
    {
     "name": "stdout",
     "output_type": "stream",
     "text": [
      "\n",
      " Epoch 9: Train loss: 0.2595  Validation Loss: 0.3581, Train Accuracy: 0.9028, Validation Accuracy 0.8736\n"
     ]
    }
   ],
   "source": [
    "model = base_model()\n",
    "\n",
    "epochs = 10\n",
    "epochs_val_losses, epochs_train_losses = [], []\n",
    "\n",
    "for epoch in range(epochs):\n",
    "    print(f'Start of epoch {epoch}')\n",
    "    losses_train = train_data_for_one_epoch()\n",
    "    train_acc = train_acc_metric.result()\n",
    "    \n",
    "    losses_val = perform_validation()\n",
    "    val_acc = val_acc_metric.result()\n",
    "    \n",
    "    losses_train_mean = np.mean(losses_train)\n",
    "    losses_val_mean = np.mean(losses_val)\n",
    "    \n",
    "    epochs_val_losses.append(losses_val_mean)\n",
    "    epochs_train_losses.append(losses_train_mean)\n",
    "    \n",
    "    print('\\n Epoch %s: Train loss: %.4f  Validation Loss: %.4f, Train Accuracy: %.4f, Validation Accuracy %.4f' % (\n",
    "        epoch, float(losses_train_mean), float(losses_val_mean), float(train_acc), float(val_acc)\n",
    "    ))\n",
    "    \n",
    "    train_acc_metric.reset_states()\n",
    "    val_acc_metric.reset_states()"
   ]
  },
  {
   "cell_type": "markdown",
   "metadata": {},
   "source": [
    "## Evaluate Model"
   ]
  },
  {
   "cell_type": "code",
   "execution_count": 15,
   "metadata": {
    "execution": {
     "iopub.execute_input": "2020-12-19T16:56:04.397519Z",
     "iopub.status.busy": "2020-12-19T16:56:04.397164Z",
     "iopub.status.idle": "2020-12-19T16:56:04.579462Z",
     "shell.execute_reply": "2020-12-19T16:56:04.578559Z",
     "shell.execute_reply.started": "2020-12-19T16:56:04.397482Z"
    }
   },
   "outputs": [
    {
     "data": {
      "image/png": "[encoded data removed]",
      "text/plain": [
       "<Figure size 432x288 with 1 Axes>"
      ]
     },
     "metadata": {
      "needs_background": "light"
     },
     "output_type": "display_data"
    }
   ],
   "source": [
    "def plot_metrics(train_metric, val_metric, metric_name, title, ylim=5):\n",
    "    plt.title(title)\n",
    "    plt.ylim(0, ylim)\n",
    "    plt.gca().xaxis.set_major_locator(mticker.MultipleLocator(1))\n",
    "    plt.plot(train_metric, color='blue', label=metric_name)\n",
    "    plt.plot(val_metric, color='green', label='val_'+metric_name)\n",
    "    \n",
    "plot_metrics(epochs_train_losses, epochs_val_losses, \"Loss\", \"Loss\", ylim=1.0)"
   ]
  },
  {
   "cell_type": "code",
   "execution_count": 16,
   "metadata": {
    "execution": {
     "iopub.execute_input": "2020-12-19T16:56:31.226466Z",
     "iopub.status.busy": "2020-12-19T16:56:31.226221Z",
     "iopub.status.idle": "2020-12-19T16:56:31.233150Z",
     "shell.execute_reply": "2020-12-19T16:56:31.232276Z",
     "shell.execute_reply.started": "2020-12-19T16:56:31.226439Z"
    }
   },
   "outputs": [],
   "source": [
    "# utility to display a row of images with their predictions and true labels\n",
    "def display_images(image, predictions, labels, title, n):\n",
    "\n",
    "    display_strings = [str(i) + \"\\n\\n\" + str(j) for i, j in zip(predictions, labels)] \n",
    "\n",
    "    plt.figure(figsize=(17,3))\n",
    "    plt.title(title)\n",
    "    plt.yticks([])\n",
    "    plt.xticks([28*x+14 for x in range(n)], display_strings)\n",
    "    plt.grid(None)\n",
    "    image = np.reshape(image, [n, 28, 28])\n",
    "    image = np.swapaxes(image, 0, 1)\n",
    "    image = np.reshape(image, [28, 28*n])\n",
    "    plt.imshow(image)"
   ]
  },
  {
   "cell_type": "code",
   "execution_count": 17,
   "metadata": {
    "execution": {
     "iopub.execute_input": "2020-12-19T16:58:15.153861Z",
     "iopub.status.busy": "2020-12-19T16:58:15.153568Z",
     "iopub.status.idle": "2020-12-19T16:58:16.979136Z",
     "shell.execute_reply": "2020-12-19T16:58:16.978130Z",
     "shell.execute_reply.started": "2020-12-19T16:58:15.153828Z"
    }
   },
   "outputs": [
    {
     "data": {
      "image/png": "[encoded data removed]",
      "text/plain": [
       "<Figure size 1224x216 with 1 Axes>"
      ]
     },
     "metadata": {
      "needs_background": "light"
     },
     "output_type": "display_data"
    }
   ],
   "source": [
    "test_inputs = test_data.batch(batch_size=1000001)\n",
    "x_batches, y_pred_batches, y_true_batches = [], [], []\n",
    "\n",
    "\n",
    "for x, y in test_inputs:\n",
    "    y_pred = model(x)\n",
    "    y_pred_batches = y_pred.numpy()\n",
    "    y_true_batches = y.numpy()\n",
    "    x_batches = x.numpy()\n",
    "    \n",
    "indexes = np.random.choice(len(y_pred_batches), size=10)\n",
    "images_to_plot = x_batches[indexes]\n",
    "y_pred_to_plot = y_pred_batches[indexes]\n",
    "y_true_to_plot = y_true_batches[indexes]\n",
    "\n",
    "y_pred_labels = [class_names[np.argmax(sel_y_pred)] for sel_y_pred in y_pred_to_plot]\n",
    "y_true_labels = [class_names[sel_y_true] for sel_y_true in y_true_to_plot]\n",
    "display_images(images_to_plot, y_pred_labels, y_true_labels, \"Predicted and True Values\", 10)    "
   ]
  },
  {
   "cell_type": "code",
   "execution_count": null,
   "metadata": {},
   "outputs": [],
   "source": []
  }
 ],
 "metadata": {
  "kernelspec": {
   "display_name": "Python 3",
   "language": "python",
   "name": "python3"
  },
  "language_info": {
   "codemirror_mode": {
    "name": "ipython",
    "version": 3
   },
   "file_extension": ".py",
   "mimetype": "text/x-python",
   "name": "python",
   "nbconvert_exporter": "python",
   "pygments_lexer": "ipython3",
   "version": "3.8.3"
  }
 },
 "nbformat": 4,
 "nbformat_minor": 4
}
