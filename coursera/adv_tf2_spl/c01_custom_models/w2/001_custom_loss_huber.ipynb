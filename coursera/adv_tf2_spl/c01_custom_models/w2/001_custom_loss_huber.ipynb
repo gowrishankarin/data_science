{
 "cells": [
  {
   "cell_type": "markdown",
   "metadata": {
    "execution": {
     "iopub.execute_input": "2020-12-06T05:59:02.984531Z",
     "iopub.status.busy": "2020-12-06T05:59:02.984281Z",
     "iopub.status.idle": "2020-12-06T05:59:02.987821Z",
     "shell.execute_reply": "2020-12-06T05:59:02.987048Z",
     "shell.execute_reply.started": "2020-12-06T05:59:02.984493Z"
    }
   },
   "source": [
    "# Huber Loss"
   ]
  },
  {
   "cell_type": "code",
   "execution_count": 1,
   "metadata": {
    "execution": {
     "iopub.execute_input": "2020-12-06T06:17:47.495580Z",
     "iopub.status.busy": "2020-12-06T06:17:47.495331Z",
     "iopub.status.idle": "2020-12-06T06:17:50.168126Z",
     "shell.execute_reply": "2020-12-06T06:17:50.167498Z",
     "shell.execute_reply.started": "2020-12-06T06:17:47.495554Z"
    }
   },
   "outputs": [],
   "source": [
    "import tensorflow as tf\n",
    "import numpy as np"
   ]
  },
  {
   "cell_type": "code",
   "execution_count": 2,
   "metadata": {
    "execution": {
     "iopub.execute_input": "2020-12-06T06:17:50.169780Z",
     "iopub.status.busy": "2020-12-06T06:17:50.169587Z",
     "iopub.status.idle": "2020-12-06T06:17:50.181433Z",
     "shell.execute_reply": "2020-12-06T06:17:50.180365Z",
     "shell.execute_reply.started": "2020-12-06T06:17:50.169758Z"
    }
   },
   "outputs": [
    {
     "data": {
      "text/plain": [
       "729"
      ]
     },
     "execution_count": 2,
     "metadata": {},
     "output_type": "execute_result"
    }
   ],
   "source": [
    "9**3"
   ]
  },
  {
   "cell_type": "code",
   "execution_count": 3,
   "metadata": {
    "execution": {
     "iopub.execute_input": "2020-12-06T06:17:50.184506Z",
     "iopub.status.busy": "2020-12-06T06:17:50.184261Z",
     "iopub.status.idle": "2020-12-06T06:17:50.192222Z",
     "shell.execute_reply": "2020-12-06T06:17:50.190902Z",
     "shell.execute_reply.started": "2020-12-06T06:17:50.184482Z"
    }
   },
   "outputs": [],
   "source": [
    "inp = np.array([1, 2, 3, 4, 5, 6, 7, 8, 9])\n",
    "out = np.array([1, 8, 27, 64, 125, 216, 343, 512, 729])\n",
    "epochs = 500"
   ]
  },
  {
   "cell_type": "code",
   "execution_count": 4,
   "metadata": {
    "execution": {
     "iopub.execute_input": "2020-12-06T06:17:50.196894Z",
     "iopub.status.busy": "2020-12-06T06:17:50.195590Z",
     "iopub.status.idle": "2020-12-06T06:17:50.203738Z",
     "shell.execute_reply": "2020-12-06T06:17:50.202664Z",
     "shell.execute_reply.started": "2020-12-06T06:17:50.196840Z"
    }
   },
   "outputs": [],
   "source": [
    "def huber_loss(y_true, y_pred):\n",
    "    threshold = 1\n",
    "    error = y_true - y_pred\n",
    "    condition = tf.abs(error) <= threshold\n",
    "    low_loss = (1/2) * (error**2)\n",
    "    high_loss = threshold * (tf.abs(error) - threshold/2)\n",
    "    \n",
    "    return tf.where(condition, low_loss, high_loss)"
   ]
  },
  {
   "cell_type": "code",
   "execution_count": 5,
   "metadata": {
    "execution": {
     "iopub.execute_input": "2020-12-06T06:17:50.206171Z",
     "iopub.status.busy": "2020-12-06T06:17:50.205463Z",
     "iopub.status.idle": "2020-12-06T06:17:51.056669Z",
     "shell.execute_reply": "2020-12-06T06:17:51.055871Z",
     "shell.execute_reply.started": "2020-12-06T06:17:50.206119Z"
    }
   },
   "outputs": [
    {
     "name": "stdout",
     "output_type": "stream",
     "text": [
      "[[642.6378]]\n"
     ]
    }
   ],
   "source": [
    "model = tf.keras.Sequential([\n",
    "    tf.keras.layers.Dense(1, input_shape=[1])\n",
    "])\n",
    "model.compile(optimizer='sgd', loss='mse')\n",
    "history = model.fit(inp, out, epochs=epochs, verbose=0)\n",
    "\n",
    "print(model.predict([10.0]))"
   ]
  },
  {
   "cell_type": "code",
   "execution_count": 10,
   "metadata": {
    "execution": {
     "iopub.execute_input": "2020-12-06T06:20:57.664585Z",
     "iopub.status.busy": "2020-12-06T06:20:57.664352Z",
     "iopub.status.idle": "2020-12-06T06:20:58.293781Z",
     "shell.execute_reply": "2020-12-06T06:20:58.293168Z",
     "shell.execute_reply.started": "2020-12-06T06:20:57.664561Z"
    }
   },
   "outputs": [
    {
     "name": "stdout",
     "output_type": "stream",
     "text": [
      "[[192.6386]]\n"
     ]
    }
   ],
   "source": [
    "model = tf.keras.Sequential([\n",
    "    tf.keras.layers.Dense(1)\n",
    "])\n",
    "model.compile(optimizer='sgd', loss=huber_loss)\n",
    "model.fit(inp, out, epochs=epochs, verbose=0)\n",
    "\n",
    "print(model.predict([10.0]))"
   ]
  },
  {
   "cell_type": "code",
   "execution_count": null,
   "metadata": {},
   "outputs": [],
   "source": []
  }
 ],
 "metadata": {
  "kernelspec": {
   "display_name": "Python 3",
   "language": "python",
   "name": "python3"
  },
  "language_info": {
   "codemirror_mode": {
    "name": "ipython",
    "version": 3
   },
   "file_extension": ".py",
   "mimetype": "text/x-python",
   "name": "python",
   "nbconvert_exporter": "python",
   "pygments_lexer": "ipython3",
   "version": "3.8.3"
  }
 },
 "nbformat": 4,
 "nbformat_minor": 4
}
