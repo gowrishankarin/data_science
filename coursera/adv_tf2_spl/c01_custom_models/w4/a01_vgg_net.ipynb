{
 "cells": [
  {
   "cell_type": "markdown",
   "metadata": {},
   "source": [
    "# VGG Network"
   ]
  },
  {
   "cell_type": "code",
   "execution_count": 1,
   "metadata": {
    "execution": {
     "iopub.execute_input": "2020-12-12T17:01:55.781936Z",
     "iopub.status.busy": "2020-12-12T17:01:55.781686Z",
     "iopub.status.idle": "2020-12-12T17:02:01.287528Z",
     "shell.execute_reply": "2020-12-12T17:02:01.286763Z",
     "shell.execute_reply.started": "2020-12-12T17:01:55.781909Z"
    }
   },
   "outputs": [],
   "source": [
    "import tensorflow as tf\n",
    "import tensorflow_datasets as tfds\n"
   ]
  },
  {
   "cell_type": "markdown",
   "metadata": {},
   "source": [
    "## Create Named Variables Dynamically"
   ]
  },
  {
   "cell_type": "code",
   "execution_count": 5,
   "metadata": {
    "execution": {
     "iopub.execute_input": "2020-12-12T17:03:50.341820Z",
     "iopub.status.busy": "2020-12-12T17:03:50.341577Z",
     "iopub.status.idle": "2020-12-12T17:03:50.357731Z",
     "shell.execute_reply": "2020-12-12T17:03:50.356756Z",
     "shell.execute_reply.started": "2020-12-12T17:03:50.341794Z"
    }
   },
   "outputs": [],
   "source": [
    "# Define a small class MyClass\n",
    "class MyClass(tf.keras.Model):\n",
    "    def __init__(self):\n",
    "        # One class variable 'a' is set to 1\n",
    "        self.var1 = 1\n",
    "\n",
    "# Create an object of type MyClass()\n",
    "my_obj = MyClass()"
   ]
  },
  {
   "cell_type": "code",
   "execution_count": 6,
   "metadata": {
    "execution": {
     "iopub.execute_input": "2020-12-12T17:03:50.599004Z",
     "iopub.status.busy": "2020-12-12T17:03:50.598679Z",
     "iopub.status.idle": "2020-12-12T17:03:50.604206Z",
     "shell.execute_reply": "2020-12-12T17:03:50.603090Z",
     "shell.execute_reply.started": "2020-12-12T17:03:50.598956Z"
    }
   },
   "outputs": [
    {
     "data": {
      "text/plain": [
       "{'_self_setattr_tracking': True,\n",
       " '_obj_reference_counts_dict': ObjectIdentityDictionary({<_ObjectIdentityWrapper wrapping 1>: 1}),\n",
       " 'var1': 1}"
      ]
     },
     "execution_count": 6,
     "metadata": {},
     "output_type": "execute_result"
    }
   ],
   "source": [
    "my_obj.__dict__"
   ]
  },
  {
   "cell_type": "code",
   "execution_count": 7,
   "metadata": {
    "execution": {
     "iopub.execute_input": "2020-12-12T17:03:51.644139Z",
     "iopub.status.busy": "2020-12-12T17:03:51.643897Z",
     "iopub.status.idle": "2020-12-12T17:03:51.648868Z",
     "shell.execute_reply": "2020-12-12T17:03:51.648176Z",
     "shell.execute_reply.started": "2020-12-12T17:03:51.644114Z"
    }
   },
   "outputs": [
    {
     "data": {
      "text/plain": [
       "{'_self_setattr_tracking': True,\n",
       " '_obj_reference_counts_dict': ObjectIdentityDictionary({<_ObjectIdentityWrapper wrapping 1>: 1}),\n",
       " 'var1': 1}"
      ]
     },
     "execution_count": 7,
     "metadata": {},
     "output_type": "execute_result"
    }
   ],
   "source": [
    "vars(my_obj)"
   ]
  },
  {
   "cell_type": "code",
   "execution_count": 8,
   "metadata": {
    "execution": {
     "iopub.execute_input": "2020-12-12T17:04:08.835597Z",
     "iopub.status.busy": "2020-12-12T17:04:08.835352Z",
     "iopub.status.idle": "2020-12-12T17:04:08.840452Z",
     "shell.execute_reply": "2020-12-12T17:04:08.839805Z",
     "shell.execute_reply.started": "2020-12-12T17:04:08.835572Z"
    }
   },
   "outputs": [
    {
     "data": {
      "text/plain": [
       "{'_self_setattr_tracking': True,\n",
       " '_obj_reference_counts_dict': ObjectIdentityDictionary({<_ObjectIdentityWrapper wrapping 1>: 1}),\n",
       " 'var1': 1,\n",
       " 'var3': 3}"
      ]
     },
     "execution_count": 8,
     "metadata": {},
     "output_type": "execute_result"
    }
   ],
   "source": [
    "# Call vars, passing in the object.  Then access the __dict__ dictionary using square brackets\n",
    "vars(my_obj)['var3'] = 3\n",
    "\n",
    "# Call vars() to see the object's instance variables\n",
    "vars(my_obj)"
   ]
  },
  {
   "cell_type": "code",
   "execution_count": 9,
   "metadata": {
    "execution": {
     "iopub.execute_input": "2020-12-12T17:04:45.507481Z",
     "iopub.status.busy": "2020-12-12T17:04:45.507237Z",
     "iopub.status.idle": "2020-12-12T17:04:45.513365Z",
     "shell.execute_reply": "2020-12-12T17:04:45.512522Z",
     "shell.execute_reply.started": "2020-12-12T17:04:45.507456Z"
    }
   },
   "outputs": [
    {
     "data": {
      "text/plain": [
       "{'_self_setattr_tracking': True,\n",
       " '_obj_reference_counts_dict': ObjectIdentityDictionary({<_ObjectIdentityWrapper wrapping 1>: 1}),\n",
       " 'var1': 1,\n",
       " 'var3': 3,\n",
       " 'var4': 0,\n",
       " 'var5': 0,\n",
       " 'var6': 0,\n",
       " 'var7': 0,\n",
       " 'var8': 0,\n",
       " 'var9': 0}"
      ]
     },
     "execution_count": 9,
     "metadata": {},
     "output_type": "execute_result"
    }
   ],
   "source": [
    "# Use a for loop to increment the index 'i'\n",
    "for i in range(4,10):\n",
    "    # Format a string that is var\n",
    "    vars(my_obj)[f'var{i}'] = 0\n",
    "    \n",
    "# View the object's instance variables!\n",
    "vars(my_obj)"
   ]
  },
  {
   "cell_type": "code",
   "execution_count": 10,
   "metadata": {
    "execution": {
     "iopub.execute_input": "2020-12-12T17:05:17.587217Z",
     "iopub.status.busy": "2020-12-12T17:05:17.586961Z",
     "iopub.status.idle": "2020-12-12T17:05:17.591776Z",
     "shell.execute_reply": "2020-12-12T17:05:17.590783Z",
     "shell.execute_reply.started": "2020-12-12T17:05:17.587192Z"
    }
   },
   "outputs": [
    {
     "name": "stdout",
     "output_type": "stream",
     "text": [
      "var1\n"
     ]
    }
   ],
   "source": [
    "i = 1\n",
    "print(f\"var{i}\")"
   ]
  },
  {
   "cell_type": "code",
   "execution_count": 11,
   "metadata": {
    "execution": {
     "iopub.execute_input": "2020-12-12T17:06:50.315562Z",
     "iopub.status.busy": "2020-12-12T17:06:50.315320Z",
     "iopub.status.idle": "2020-12-12T17:06:50.321253Z",
     "shell.execute_reply": "2020-12-12T17:06:50.320351Z",
     "shell.execute_reply.started": "2020-12-12T17:06:50.315537Z"
    }
   },
   "outputs": [
    {
     "data": {
      "text/plain": [
       "{'var1': 1}"
      ]
     },
     "execution_count": 11,
     "metadata": {},
     "output_type": "execute_result"
    }
   ],
   "source": [
    "# Define a small class MyClass\n",
    "class MyClass:\n",
    "    def __init__(self):\n",
    "        vars(self)['var1'] = 1\n",
    "        \n",
    "# Create an object of type MyClass()\n",
    "my_obj = MyClass()\n",
    "vars(my_obj)"
   ]
  },
  {
   "cell_type": "markdown",
   "metadata": {},
   "source": [
    "## Create a Generic VGG Block"
   ]
  },
  {
   "cell_type": "code",
   "execution_count": 12,
   "metadata": {
    "execution": {
     "iopub.execute_input": "2020-12-12T19:10:08.685762Z",
     "iopub.status.busy": "2020-12-12T19:10:08.685521Z",
     "iopub.status.idle": "2020-12-12T19:10:08.692718Z",
     "shell.execute_reply": "2020-12-12T19:10:08.692018Z",
     "shell.execute_reply.started": "2020-12-12T19:10:08.685742Z"
    }
   },
   "outputs": [],
   "source": [
    "class Block(tf.keras.Model):\n",
    "    \n",
    "    def __init__(self, filters, kernel_size, repetitions, pool_size=2, strides=2):\n",
    "        super(Block, self).__init__()\n",
    "        self.filters = filters\n",
    "        self.kernel_size = kernel_size\n",
    "        self.repetitions = repetitions\n",
    "        \n",
    "        # Define a conv2D_0, conv2D_1 etc based on the number of repetition\n",
    "        for i in range(0, repetitions):\n",
    "            # Define a Conv2D layer\n",
    "            vars(self)[f'conv2D_{i}'] = tf.keras.layers.Conv2D(\n",
    "                self.filters,\n",
    "                kernel_size=kernel_size,\n",
    "                strides=strides,\n",
    "                activation='relu',\n",
    "                padding='same'\n",
    "            )\n",
    "            \n",
    "        # Define the max pool layer that will be added after the conv2D blocks\n",
    "        self.max_pool = tf.keras.layers.MaxPooling2D((pool_size, pool_size))\n",
    "        \n",
    "        \n",
    "    def call(self, inputs):\n",
    "        # Access the class's conv2D_0 layer\n",
    "        conv2D_0 = self.conv2D_0\n",
    "        \n",
    "        x = conv2D_0(inputs)\n",
    "        \n",
    "        # for the remaining conv2D_i layers from 1 to repetitions \n",
    "        # they will be connected to thre previous lauer\n",
    "        for i in range(1, self.repetitions):\n",
    "            conv2D_i = vars(self)[f'conv2D_{i}']\n",
    "            \n",
    "            x = conv2D_i(x)\n",
    "            \n",
    "        # Finally add the max_pool layer\n",
    "        max_pool = self.max_pool(x)\n",
    "        \n",
    "        return max_pool"
   ]
  },
  {
   "cell_type": "markdown",
   "metadata": {},
   "source": [
    "## Create Custom VGG Network"
   ]
  },
  {
   "cell_type": "code",
   "execution_count": null,
   "metadata": {},
   "outputs": [],
   "source": [
    "class MyVGG(tf.keras.Model):\n",
    "    def __init__(self, num_classes):\n",
    "        super(MyCGG, self).__init__()\n",
    "        \n",
    "        # Creating blocks of VGG with the following\n",
    "        # \n",
    "        self.block_a = Block(64, kernel_size=3, repetitions=2)\n",
    "        self.block_b = Block(128, kernel_size=3, repetitions=2)\n",
    "        self.block_c = Block(256, kernel_size=3, repetitions=3)\n",
    "        self.block_d = Block(512, kernel_size=3, repetitions=3)\n",
    "        self.block_e = Block(512, kernel_size=3, repetitions=3)\n",
    "        \n",
    "        self.flatten = tf.keras.layers.Flatten()\n",
    "        self.fc = tf.keras.layers.Dense(256, activation='relu')\n",
    "        self.classifier = tf.keras.layers.Dense(num_classes, activation='softmax')\n",
    "        \n",
    "        \n",
    "    def call(self, inputs):\n",
    "        x = self.block_a(inputs)\n",
    "        x = self.block_b(x)\n",
    "        x = self.block_c(x)\n",
    "        x = self.block_d(x)\n",
    "        x = self.block_e(x)\n",
    "        \n",
    "        x = self.flatten(x)\n",
    "        x = self.fc(x)\n",
    "        x = self.classifier(x)\n",
    "        \n",
    "        return x"
   ]
  }
 ],
 "metadata": {
  "kernelspec": {
   "display_name": "Python 3",
   "language": "python",
   "name": "python3"
  },
  "language_info": {
   "codemirror_mode": {
    "name": "ipython",
    "version": 3
   },
   "file_extension": ".py",
   "mimetype": "text/x-python",
   "name": "python",
   "nbconvert_exporter": "python",
   "pygments_lexer": "ipython3",
   "version": "3.8.3"
  }
 },
 "nbformat": 4,
 "nbformat_minor": 4
}
