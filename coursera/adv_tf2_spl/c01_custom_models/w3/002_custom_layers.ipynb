{
 "cells": [
  {
   "cell_type": "code",
   "execution_count": 1,
   "metadata": {
    "execution": {
     "iopub.execute_input": "2020-12-11T08:08:35.183073Z",
     "iopub.status.busy": "2020-12-11T08:08:35.182820Z",
     "iopub.status.idle": "2020-12-11T08:08:38.515590Z",
     "shell.execute_reply": "2020-12-11T08:08:38.514769Z",
     "shell.execute_reply.started": "2020-12-11T08:08:35.183045Z"
    }
   },
   "outputs": [],
   "source": [
    "import tensorflow as tf\n",
    "import numpy as np"
   ]
  },
  {
   "cell_type": "code",
   "execution_count": 2,
   "metadata": {
    "execution": {
     "iopub.execute_input": "2020-12-11T08:08:38.517351Z",
     "iopub.status.busy": "2020-12-11T08:08:38.517015Z",
     "iopub.status.idle": "2020-12-11T08:08:38.525524Z",
     "shell.execute_reply": "2020-12-11T08:08:38.524564Z",
     "shell.execute_reply.started": "2020-12-11T08:08:38.517295Z"
    }
   },
   "outputs": [],
   "source": [
    "class CustomDense(tf.keras.layers.Layer):\n",
    "    def __init__(self, units=32, activation=None):\n",
    "        super(CustomDense, self).__init__()\n",
    "        self.units = units\n",
    "        self.activation = tf.keras.activations.get(activation)\n",
    "    \n",
    "    def build(self, input_shape):\n",
    "        w_init = tf.random_normal_initializer()\n",
    "        self.w = tf.Variable(\n",
    "            name='kernel', \n",
    "            initial_value=w_init(\n",
    "                shape=(input_shape[-1], self.units), dtype=tf.float32\n",
    "            ),\n",
    "            trainable=True\n",
    "        )\n",
    "        \n",
    "        # Initialoze the biases\n",
    "        b_init = tf.zeros_initializer()\n",
    "        self.b = tf.Variable(\n",
    "            name='bias',\n",
    "            initial_value=b_init(\n",
    "                shape=(self.units,), dtype='float32'\n",
    "            ),\n",
    "            trainable=True\n",
    "        )\n",
    "        \n",
    "        super().build(input_shape)\n",
    "    \n",
    "    def call(self, inputs):\n",
    "        return self.activation(tf.matmul(inputs, self.w) + self.b)"
   ]
  },
  {
   "cell_type": "code",
   "execution_count": 3,
   "metadata": {
    "execution": {
     "iopub.execute_input": "2020-12-11T08:08:38.528008Z",
     "iopub.status.busy": "2020-12-11T08:08:38.527774Z",
     "iopub.status.idle": "2020-12-11T08:08:38.563024Z",
     "shell.execute_reply": "2020-12-11T08:08:38.561972Z",
     "shell.execute_reply.started": "2020-12-11T08:08:38.527985Z"
    }
   },
   "outputs": [
    {
     "name": "stdout",
     "output_type": "stream",
     "text": [
      "[<tf.Variable 'custom_dense/kernel:0' shape=(1, 1) dtype=float32, numpy=array([[0.0190789]], dtype=float32)>, <tf.Variable 'custom_dense/bias:0' shape=(1,) dtype=float32, numpy=array([0.], dtype=float32)>]\n"
     ]
    }
   ],
   "source": [
    "# declare an instance of the class\n",
    "my_dense = CustomDense(units=1)\n",
    "\n",
    "# define an input and feed into the layer\n",
    "x = tf.ones((1, 1))\n",
    "y = my_dense(x)\n",
    "\n",
    "# Parameters of the base layer class like `variables` can be used\n",
    "print(my_dense.variables)"
   ]
  },
  {
   "cell_type": "code",
   "execution_count": 4,
   "metadata": {
    "execution": {
     "iopub.execute_input": "2020-12-11T08:08:38.566736Z",
     "iopub.status.busy": "2020-12-11T08:08:38.566495Z",
     "iopub.status.idle": "2020-12-11T08:08:38.666232Z",
     "shell.execute_reply": "2020-12-11T08:08:38.665257Z",
     "shell.execute_reply.started": "2020-12-11T08:08:38.566711Z"
    }
   },
   "outputs": [],
   "source": [
    "x_train = np.array([1., 2., 3., 4., 5.])\n",
    "y_train = np.array([1., 4., 9., 16., 25.])\n",
    "\n",
    "inp = tf.keras.Input((1,))\n",
    "x = CustomDense(128, activation='relu')(inp)\n",
    "x = CustomDense(128, activation='relu')(x)\n",
    "x = CustomDense(128, activation='relu')(x)\n",
    "output = tf.keras.layers.Dense(1)(x)\n",
    "\n"
   ]
  },
  {
   "cell_type": "code",
   "execution_count": 5,
   "metadata": {
    "execution": {
     "iopub.execute_input": "2020-12-11T08:08:38.667630Z",
     "iopub.status.busy": "2020-12-11T08:08:38.667301Z",
     "iopub.status.idle": "2020-12-11T08:08:38.676947Z",
     "shell.execute_reply": "2020-12-11T08:08:38.676093Z",
     "shell.execute_reply.started": "2020-12-11T08:08:38.667572Z"
    }
   },
   "outputs": [
    {
     "name": "stdout",
     "output_type": "stream",
     "text": [
      "Model: \"model\"\n",
      "_________________________________________________________________\n",
      "Layer (type)                 Output Shape              Param #   \n",
      "=================================================================\n",
      "input_1 (InputLayer)         [(None, 1)]               0         \n",
      "_________________________________________________________________\n",
      "custom_dense_1 (CustomDense) (None, 128)               256       \n",
      "_________________________________________________________________\n",
      "custom_dense_2 (CustomDense) (None, 128)               16512     \n",
      "_________________________________________________________________\n",
      "custom_dense_3 (CustomDense) (None, 128)               16512     \n",
      "_________________________________________________________________\n",
      "dense (Dense)                (None, 1)                 129       \n",
      "=================================================================\n",
      "Total params: 33,409\n",
      "Trainable params: 33,409\n",
      "Non-trainable params: 0\n",
      "_________________________________________________________________\n"
     ]
    }
   ],
   "source": [
    "model = tf.keras.Model(inputs=inp, outputs=output)\n",
    "model.summary()"
   ]
  },
  {
   "cell_type": "code",
   "execution_count": 6,
   "metadata": {
    "execution": {
     "iopub.execute_input": "2020-12-11T08:08:38.678691Z",
     "iopub.status.busy": "2020-12-11T08:08:38.678367Z",
     "iopub.status.idle": "2020-12-11T08:08:39.913154Z",
     "shell.execute_reply": "2020-12-11T08:08:39.912456Z",
     "shell.execute_reply.started": "2020-12-11T08:08:38.678661Z"
    }
   },
   "outputs": [],
   "source": [
    "model.compile(optimizer='adam', loss='mae', metrics=['accuracy'])\n",
    "hisory = model.fit(x_train, y_train, epochs=500, verbose=0)"
   ]
  },
  {
   "cell_type": "code",
   "execution_count": 7,
   "metadata": {
    "execution": {
     "iopub.execute_input": "2020-12-11T08:08:39.914399Z",
     "iopub.status.busy": "2020-12-11T08:08:39.914127Z",
     "iopub.status.idle": "2020-12-11T08:08:40.053062Z",
     "shell.execute_reply": "2020-12-11T08:08:40.052409Z",
     "shell.execute_reply.started": "2020-12-11T08:08:39.914373Z"
    }
   },
   "outputs": [
    {
     "data": {
      "text/plain": [
       "array([[33.439816]], dtype=float32)"
      ]
     },
     "execution_count": 7,
     "metadata": {},
     "output_type": "execute_result"
    }
   ],
   "source": [
    "model.predict([6.])"
   ]
  },
  {
   "cell_type": "code",
   "execution_count": 8,
   "metadata": {
    "execution": {
     "iopub.execute_input": "2020-12-11T08:08:40.056033Z",
     "iopub.status.busy": "2020-12-11T08:08:40.055815Z",
     "iopub.status.idle": "2020-12-11T08:08:40.370167Z",
     "shell.execute_reply": "2020-12-11T08:08:40.369259Z",
     "shell.execute_reply.started": "2020-12-11T08:08:40.056009Z"
    }
   },
   "outputs": [],
   "source": [
    "mnist = tf.keras.datasets.mnist\n",
    "\n",
    "(x_train, y_train), (x_test, y_test) = mnist.load_data()"
   ]
  },
  {
   "cell_type": "code",
   "execution_count": 15,
   "metadata": {
    "execution": {
     "iopub.execute_input": "2020-12-11T08:10:23.862324Z",
     "iopub.status.busy": "2020-12-11T08:10:23.862066Z",
     "iopub.status.idle": "2020-12-11T08:10:24.144266Z",
     "shell.execute_reply": "2020-12-11T08:10:24.143564Z",
     "shell.execute_reply.started": "2020-12-11T08:10:23.862297Z"
    }
   },
   "outputs": [],
   "source": [
    "x_train, x_test = x_train / 255.0, x_test / 255.0\n",
    "\n",
    "def create_custom_model():\n",
    "    inp = tf.keras.Input((28, 28))\n",
    "    x = tf.keras.layers.Flatten()(inp)\n",
    "    x = CustomDense(256, activation='relu')(x)\n",
    "    x = tf.keras.layers.Dropout(0.2)(x)\n",
    "    x = CustomDense(128, activation='relu')(x)\n",
    "    x = tf.keras.layers.Dropout(0.2)(x)\n",
    "    x = CustomDense(64, activation='relu')(x)\n",
    "    x = tf.keras.layers.Dropout(0.2)(x)\n",
    "    output = CustomDense(10, activation='softmax')(x)\n",
    "    model = tf.keras.Model(inputs=inp, outputs=output)\n",
    "    model.compile(optimizer='adam', loss='sparse_categorical_crossentropy', metrics=['accuracy'])\n",
    "    \n",
    "    return model\n",
    "\n",
    "def create_model():\n",
    "    inp = tf.keras.Input((28, 28))\n",
    "    x = tf.keras.layers.Flatten(input_shape=(28, 28))(inp)\n",
    "    x = tf.keras.layers.Dense(256, activation='relu')(x)\n",
    "    x = tf.keras.layers.Dropout(0.2)(x)\n",
    "    x = tf.keras.layers.Dense(128, activation='relu')(x)\n",
    "    x = tf.keras.layers.Dropout(0.2)(x)\n",
    "    x = tf.keras.layers.Dense(64, activation='relu')(x)\n",
    "    x = tf.keras.layers.Dropout(0.2)(x)\n",
    "    output = tf.keras.layers.Dense(10, activation='softmax')(x)\n",
    "    model = tf.keras.Model(inputs=inp, outputs=output)\n",
    "    model.compile(optimizer='adam', loss='sparse_categorical_crossentropy', metrics=['accuracy'])\n",
    "    \n",
    "    return model\n",
    "\n",
    "def create_sequential_model():\n",
    "    model = tf.keras.models.Sequential([\n",
    "        tf.keras.layers.Flatten(input_shape=(28, 28)),\n",
    "        CustomDense(128, activation='relu'),\n",
    "        tf.keras.layers.Dropout(0.2),\n",
    "        tf.keras.layers.Dense(10, activation='softmax')\n",
    "    ])\n",
    "    \n",
    "    model.compile(optimizer='adam', loss='sparse_categorical_crossentropy', metrics=['accuracy'])\n",
    "    \n",
    "    return model"
   ]
  },
  {
   "cell_type": "code",
   "execution_count": 10,
   "metadata": {
    "execution": {
     "iopub.execute_input": "2020-12-11T08:08:40.666988Z",
     "iopub.status.busy": "2020-12-11T08:08:40.666762Z",
     "iopub.status.idle": "2020-12-11T08:08:40.842312Z",
     "shell.execute_reply": "2020-12-11T08:08:40.841441Z",
     "shell.execute_reply.started": "2020-12-11T08:08:40.666964Z"
    }
   },
   "outputs": [
    {
     "name": "stdout",
     "output_type": "stream",
     "text": [
      "Model: \"model_1\"\n",
      "_________________________________________________________________\n",
      "Layer (type)                 Output Shape              Param #   \n",
      "=================================================================\n",
      "input_2 (InputLayer)         [(None, 28, 28)]          0         \n",
      "_________________________________________________________________\n",
      "flatten (Flatten)            (None, 784)               0         \n",
      "_________________________________________________________________\n",
      "custom_dense_4 (CustomDense) (None, 256)               200960    \n",
      "_________________________________________________________________\n",
      "dropout (Dropout)            (None, 256)               0         \n",
      "_________________________________________________________________\n",
      "custom_dense_5 (CustomDense) (None, 128)               32896     \n",
      "_________________________________________________________________\n",
      "dropout_1 (Dropout)          (None, 128)               0         \n",
      "_________________________________________________________________\n",
      "custom_dense_6 (CustomDense) (None, 64)                8256      \n",
      "_________________________________________________________________\n",
      "dropout_2 (Dropout)          (None, 64)                0         \n",
      "_________________________________________________________________\n",
      "custom_dense_7 (CustomDense) (None, 10)                650       \n",
      "=================================================================\n",
      "Total params: 242,762\n",
      "Trainable params: 242,762\n",
      "Non-trainable params: 0\n",
      "_________________________________________________________________\n"
     ]
    }
   ],
   "source": [
    "model = create_custom_model()\n",
    "model.summary()"
   ]
  },
  {
   "cell_type": "code",
   "execution_count": 11,
   "metadata": {
    "execution": {
     "iopub.execute_input": "2020-12-11T08:08:40.844460Z",
     "iopub.status.busy": "2020-12-11T08:08:40.844096Z",
     "iopub.status.idle": "2020-12-11T08:08:58.287121Z",
     "shell.execute_reply": "2020-12-11T08:08:58.286437Z",
     "shell.execute_reply.started": "2020-12-11T08:08:40.844429Z"
    }
   },
   "outputs": [
    {
     "name": "stdout",
     "output_type": "stream",
     "text": [
      "Epoch 1/5\n",
      "1875/1875 [==============================] - 3s 2ms/step - loss: 0.3251 - accuracy: 0.9021\n",
      "Epoch 2/5\n",
      "1875/1875 [==============================] - 3s 2ms/step - loss: 0.1426 - accuracy: 0.9588\n",
      "Epoch 3/5\n",
      "1875/1875 [==============================] - 3s 2ms/step - loss: 0.1089 - accuracy: 0.9683\n",
      "Epoch 4/5\n",
      "1875/1875 [==============================] - 3s 2ms/step - loss: 0.0913 - accuracy: 0.9733\n",
      "Epoch 5/5\n",
      "1875/1875 [==============================] - 3s 2ms/step - loss: 0.0770 - accuracy: 0.9768\n",
      "313/313 [==============================] - 0s 938us/step - loss: 0.0771 - accuracy: 0.9785\n"
     ]
    },
    {
     "data": {
      "text/plain": [
       "[0.07714945077896118, 0.9785000085830688]"
      ]
     },
     "execution_count": 11,
     "metadata": {},
     "output_type": "execute_result"
    }
   ],
   "source": [
    "model.fit(x_train, y_train, epochs=5)\n",
    "model.evaluate(x_test, y_test)"
   ]
  },
  {
   "cell_type": "code",
   "execution_count": 12,
   "metadata": {
    "execution": {
     "iopub.execute_input": "2020-12-11T08:08:58.288476Z",
     "iopub.status.busy": "2020-12-11T08:08:58.288150Z",
     "iopub.status.idle": "2020-12-11T08:08:58.375394Z",
     "shell.execute_reply": "2020-12-11T08:08:58.374520Z",
     "shell.execute_reply.started": "2020-12-11T08:08:58.288453Z"
    }
   },
   "outputs": [
    {
     "name": "stdout",
     "output_type": "stream",
     "text": [
      "Model: \"model_2\"\n",
      "_________________________________________________________________\n",
      "Layer (type)                 Output Shape              Param #   \n",
      "=================================================================\n",
      "input_3 (InputLayer)         [(None, 28, 28)]          0         \n",
      "_________________________________________________________________\n",
      "flatten_1 (Flatten)          (None, 784)               0         \n",
      "_________________________________________________________________\n",
      "dense_1 (Dense)              (None, 256)               200960    \n",
      "_________________________________________________________________\n",
      "dropout_3 (Dropout)          (None, 256)               0         \n",
      "_________________________________________________________________\n",
      "dense_2 (Dense)              (None, 128)               32896     \n",
      "_________________________________________________________________\n",
      "dropout_4 (Dropout)          (None, 128)               0         \n",
      "_________________________________________________________________\n",
      "dense_3 (Dense)              (None, 64)                8256      \n",
      "_________________________________________________________________\n",
      "dropout_5 (Dropout)          (None, 64)                0         \n",
      "_________________________________________________________________\n",
      "dense_4 (Dense)              (None, 10)                650       \n",
      "=================================================================\n",
      "Total params: 242,762\n",
      "Trainable params: 242,762\n",
      "Non-trainable params: 0\n",
      "_________________________________________________________________\n"
     ]
    }
   ],
   "source": [
    "model = create_model()\n",
    "model.summary()"
   ]
  },
  {
   "cell_type": "code",
   "execution_count": 13,
   "metadata": {
    "execution": {
     "iopub.execute_input": "2020-12-11T08:08:58.377131Z",
     "iopub.status.busy": "2020-12-11T08:08:58.376819Z",
     "iopub.status.idle": "2020-12-11T08:09:15.585190Z",
     "shell.execute_reply": "2020-12-11T08:09:15.584340Z",
     "shell.execute_reply.started": "2020-12-11T08:08:58.377105Z"
    }
   },
   "outputs": [
    {
     "name": "stdout",
     "output_type": "stream",
     "text": [
      "Epoch 1/5\n",
      "1875/1875 [==============================] - 3s 2ms/step - loss: 0.3096 - accuracy: 0.9066\n",
      "Epoch 2/5\n",
      "1875/1875 [==============================] - 3s 2ms/step - loss: 0.1431 - accuracy: 0.9582\n",
      "Epoch 3/5\n",
      "1875/1875 [==============================] - 3s 2ms/step - loss: 0.1121 - accuracy: 0.9676\n",
      "Epoch 4/5\n",
      "1875/1875 [==============================] - 3s 2ms/step - loss: 0.0928 - accuracy: 0.9723\n",
      "Epoch 5/5\n",
      "1875/1875 [==============================] - 3s 2ms/step - loss: 0.0798 - accuracy: 0.9769\n",
      "313/313 [==============================] - 0s 907us/step - loss: 0.0752 - accuracy: 0.9781\n"
     ]
    },
    {
     "data": {
      "text/plain": [
       "[0.07521041482686996, 0.9781000018119812]"
      ]
     },
     "execution_count": 13,
     "metadata": {},
     "output_type": "execute_result"
    }
   ],
   "source": [
    "model.fit(x_train, y_train, epochs=5)\n",
    "model.evaluate(x_test, y_test)"
   ]
  },
  {
   "cell_type": "code",
   "execution_count": 16,
   "metadata": {
    "execution": {
     "iopub.execute_input": "2020-12-11T08:10:27.799210Z",
     "iopub.status.busy": "2020-12-11T08:10:27.798966Z",
     "iopub.status.idle": "2020-12-11T08:10:40.005515Z",
     "shell.execute_reply": "2020-12-11T08:10:40.004786Z",
     "shell.execute_reply.started": "2020-12-11T08:10:27.799185Z"
    }
   },
   "outputs": [
    {
     "name": "stdout",
     "output_type": "stream",
     "text": [
      "Epoch 1/5\n",
      "1875/1875 [==============================] - 2s 1ms/step - loss: 1.1996 - accuracy: 0.7009\n",
      "Epoch 2/5\n",
      "1875/1875 [==============================] - 2s 1ms/step - loss: 0.5323 - accuracy: 0.8536\n",
      "Epoch 3/5\n",
      "1875/1875 [==============================] - 2s 1ms/step - loss: 0.4201 - accuracy: 0.8813\n",
      "Epoch 4/5\n",
      "1875/1875 [==============================] - 2s 1ms/step - loss: 0.3731 - accuracy: 0.8932\n",
      "Epoch 5/5\n",
      "1875/1875 [==============================] - 2s 1ms/step - loss: 0.3413 - accuracy: 0.9019: 0s - loss:\n",
      "313/313 [==============================] - 0s 902us/step - loss: 0.2928 - accuracy: 0.9156\n"
     ]
    },
    {
     "data": {
      "text/plain": [
       "[0.2927951216697693, 0.9156000018119812]"
      ]
     },
     "execution_count": 16,
     "metadata": {},
     "output_type": "execute_result"
    }
   ],
   "source": [
    "model = create_sequential_model()\n",
    "model.fit(x_train, y_train, epochs=5)\n",
    "model.evaluate(x_test, y_test)"
   ]
  },
  {
   "cell_type": "code",
   "execution_count": null,
   "metadata": {},
   "outputs": [],
   "source": []
  }
 ],
 "metadata": {
  "kernelspec": {
   "display_name": "Python 3",
   "language": "python",
   "name": "python3"
  },
  "language_info": {
   "codemirror_mode": {
    "name": "ipython",
    "version": 3
   },
   "file_extension": ".py",
   "mimetype": "text/x-python",
   "name": "python",
   "nbconvert_exporter": "python",
   "pygments_lexer": "ipython3",
   "version": "3.8.3"
  }
 },
 "nbformat": 4,
 "nbformat_minor": 4
}
