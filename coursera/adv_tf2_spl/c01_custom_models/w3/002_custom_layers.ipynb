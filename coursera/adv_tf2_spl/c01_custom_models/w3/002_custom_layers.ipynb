{
 "cells": [
  {
   "cell_type": "code",
   "execution_count": 1,
   "metadata": {
    "execution": {
     "iopub.execute_input": "2020-12-11T07:21:11.470414Z",
     "iopub.status.busy": "2020-12-11T07:21:11.470156Z",
     "iopub.status.idle": "2020-12-11T07:21:16.601557Z",
     "shell.execute_reply": "2020-12-11T07:21:16.600838Z",
     "shell.execute_reply.started": "2020-12-11T07:21:11.470386Z"
    }
   },
   "outputs": [],
   "source": [
    "import tensorflow as tf\n",
    "import numpy as np"
   ]
  },
  {
   "cell_type": "code",
   "execution_count": 12,
   "metadata": {
    "execution": {
     "iopub.execute_input": "2020-12-11T07:24:41.763416Z",
     "iopub.status.busy": "2020-12-11T07:24:41.763141Z",
     "iopub.status.idle": "2020-12-11T07:24:41.771444Z",
     "shell.execute_reply": "2020-12-11T07:24:41.770466Z",
     "shell.execute_reply.started": "2020-12-11T07:24:41.763379Z"
    }
   },
   "outputs": [],
   "source": [
    "class CustomDense(tf.keras.layers.Layer):\n",
    "    def __init__(self, units=32, activation=None):\n",
    "        super(CustomDense, self).__init__()\n",
    "        self.units = units\n",
    "        self.activation = tf.keras.activations.get(activation)\n",
    "    \n",
    "    def build(self, input_shape):\n",
    "        w_init = tf.random_normal_initializer()\n",
    "        self.w = tf.Variable(\n",
    "            name='kernel', \n",
    "            initial_value=w_init(\n",
    "                shape=(input_shape[-1], self.units), dtype=tf.float32\n",
    "            ),\n",
    "            trainable=True\n",
    "        )\n",
    "        \n",
    "        # Initialoze the biases\n",
    "        b_init = tf.zeros_initializer()\n",
    "        self.b = tf.Variable(\n",
    "            name='bias',\n",
    "            initial_value=b_init(\n",
    "                shape=(self.units,), dtype='float32'\n",
    "            ),\n",
    "            trainable=True\n",
    "        )\n",
    "    \n",
    "    def call(self, inputs):\n",
    "        return self.activation(tf.matmul(inputs, self.w) + self.b)"
   ]
  },
  {
   "cell_type": "code",
   "execution_count": 13,
   "metadata": {
    "execution": {
     "iopub.execute_input": "2020-12-11T07:24:41.942657Z",
     "iopub.status.busy": "2020-12-11T07:24:41.942273Z",
     "iopub.status.idle": "2020-12-11T07:24:41.951277Z",
     "shell.execute_reply": "2020-12-11T07:24:41.950485Z",
     "shell.execute_reply.started": "2020-12-11T07:24:41.942607Z"
    }
   },
   "outputs": [
    {
     "name": "stdout",
     "output_type": "stream",
     "text": [
      "[<tf.Variable 'custom_dense_6/kernel:0' shape=(1, 1) dtype=float32, numpy=array([[0.12410869]], dtype=float32)>, <tf.Variable 'custom_dense_6/bias:0' shape=(1,) dtype=float32, numpy=array([0.], dtype=float32)>]\n"
     ]
    }
   ],
   "source": [
    "# declare an instance of the class\n",
    "my_dense = CustomDense(units=1)\n",
    "\n",
    "# define an input and feed into the layer\n",
    "x = tf.ones((1, 1))\n",
    "y = my_dense(x)\n",
    "\n",
    "# Parameters of the base layer class like `variables` can be used\n",
    "print(my_dense.variables)"
   ]
  },
  {
   "cell_type": "code",
   "execution_count": 14,
   "metadata": {
    "execution": {
     "iopub.execute_input": "2020-12-11T07:24:42.119131Z",
     "iopub.status.busy": "2020-12-11T07:24:42.118896Z",
     "iopub.status.idle": "2020-12-11T07:24:42.157588Z",
     "shell.execute_reply": "2020-12-11T07:24:42.156631Z",
     "shell.execute_reply.started": "2020-12-11T07:24:42.119107Z"
    }
   },
   "outputs": [],
   "source": [
    "x_train = np.array([1., 2., 3., 4., 5.])\n",
    "y_train = np.array([1., 4., 9., 16., 25.])\n",
    "\n",
    "inp = tf.keras.Input((1,))\n",
    "x = CustomDense(128, activation='relu')(inp)\n",
    "x = CustomDense(128, activation='relu')(x)\n",
    "x = CustomDense(128, activation='relu')(x)\n",
    "output = tf.keras.layers.Dense(1)(x)\n",
    "\n"
   ]
  },
  {
   "cell_type": "code",
   "execution_count": 15,
   "metadata": {
    "execution": {
     "iopub.execute_input": "2020-12-11T07:24:42.262455Z",
     "iopub.status.busy": "2020-12-11T07:24:42.261977Z",
     "iopub.status.idle": "2020-12-11T07:24:42.270802Z",
     "shell.execute_reply": "2020-12-11T07:24:42.269997Z",
     "shell.execute_reply.started": "2020-12-11T07:24:42.262349Z"
    }
   },
   "outputs": [
    {
     "name": "stdout",
     "output_type": "stream",
     "text": [
      "Model: \"model_1\"\n",
      "_________________________________________________________________\n",
      "Layer (type)                 Output Shape              Param #   \n",
      "=================================================================\n",
      "input_2 (InputLayer)         [(None, 1)]               0         \n",
      "_________________________________________________________________\n",
      "custom_dense_7 (CustomDense) (None, 128)               256       \n",
      "_________________________________________________________________\n",
      "custom_dense_8 (CustomDense) (None, 128)               16512     \n",
      "_________________________________________________________________\n",
      "custom_dense_9 (CustomDense) (None, 128)               16512     \n",
      "_________________________________________________________________\n",
      "dense_1 (Dense)              (None, 1)                 129       \n",
      "=================================================================\n",
      "Total params: 33,409\n",
      "Trainable params: 33,409\n",
      "Non-trainable params: 0\n",
      "_________________________________________________________________\n"
     ]
    }
   ],
   "source": [
    "model = tf.keras.Model(inputs=inp, outputs=output)\n",
    "model.summary()"
   ]
  },
  {
   "cell_type": "code",
   "execution_count": 16,
   "metadata": {
    "execution": {
     "iopub.execute_input": "2020-12-11T07:24:42.470496Z",
     "iopub.status.busy": "2020-12-11T07:24:42.470259Z",
     "iopub.status.idle": "2020-12-11T07:24:43.572090Z",
     "shell.execute_reply": "2020-12-11T07:24:43.571551Z",
     "shell.execute_reply.started": "2020-12-11T07:24:42.470471Z"
    }
   },
   "outputs": [],
   "source": [
    "model.compile(optimizer='adam', loss='mae', metrics=['accuracy'])\n",
    "hisory = model.fit(x_train, y_train, epochs=500, verbose=0)"
   ]
  },
  {
   "cell_type": "code",
   "execution_count": 17,
   "metadata": {
    "execution": {
     "iopub.execute_input": "2020-12-11T07:24:44.406484Z",
     "iopub.status.busy": "2020-12-11T07:24:44.406235Z",
     "iopub.status.idle": "2020-12-11T07:24:44.473941Z",
     "shell.execute_reply": "2020-12-11T07:24:44.473084Z",
     "shell.execute_reply.started": "2020-12-11T07:24:44.406459Z"
    }
   },
   "outputs": [
    {
     "data": {
      "text/plain": [
       "array([[34.751537]], dtype=float32)"
      ]
     },
     "execution_count": 17,
     "metadata": {},
     "output_type": "execute_result"
    }
   ],
   "source": [
    "model.predict([6.])"
   ]
  },
  {
   "cell_type": "code",
   "execution_count": null,
   "metadata": {},
   "outputs": [],
   "source": []
  }
 ],
 "metadata": {
  "kernelspec": {
   "display_name": "Python 3",
   "language": "python",
   "name": "python3"
  },
  "language_info": {
   "codemirror_mode": {
    "name": "ipython",
    "version": 3
   },
   "file_extension": ".py",
   "mimetype": "text/x-python",
   "name": "python",
   "nbconvert_exporter": "python",
   "pygments_lexer": "ipython3",
   "version": "3.8.3"
  }
 },
 "nbformat": 4,
 "nbformat_minor": 4
}
