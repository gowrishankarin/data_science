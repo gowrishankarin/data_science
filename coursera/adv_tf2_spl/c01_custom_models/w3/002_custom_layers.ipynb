{
 "cells": [
  {
   "cell_type": "code",
   "execution_count": 6,
   "metadata": {
    "execution": {
     "iopub.execute_input": "2020-12-10T19:21:53.565282Z",
     "iopub.status.busy": "2020-12-10T19:21:53.565005Z",
     "iopub.status.idle": "2020-12-10T19:21:53.568822Z",
     "shell.execute_reply": "2020-12-10T19:21:53.567906Z",
     "shell.execute_reply.started": "2020-12-10T19:21:53.565254Z"
    }
   },
   "outputs": [],
   "source": [
    "import tensorflow as tf\n",
    "import numpy as np"
   ]
  },
  {
   "cell_type": "code",
   "execution_count": 2,
   "metadata": {
    "execution": {
     "iopub.execute_input": "2020-12-10T15:59:03.895092Z",
     "iopub.status.busy": "2020-12-10T15:59:03.894546Z",
     "iopub.status.idle": "2020-12-10T15:59:03.902825Z",
     "shell.execute_reply": "2020-12-10T15:59:03.902009Z",
     "shell.execute_reply.started": "2020-12-10T15:59:03.895055Z"
    }
   },
   "outputs": [],
   "source": [
    "class CustomDense(tf.keras.layers.Layer):\n",
    "    def __init__(self, units=32):\n",
    "        super(CustomDense, self).__init__()\n",
    "        self.units = units\n",
    "    \n",
    "    def build(self, input_shape):\n",
    "        w_init = tf.random_normal_initializer()\n",
    "        self.w = tf.Variable(\n",
    "            name='kernel', \n",
    "            initial_value=w_init(\n",
    "                shape=(input_shape[-1], self.units), dtype=tf.float32\n",
    "            ),\n",
    "            trainable=True\n",
    "        )\n",
    "        \n",
    "        # Initialoze the biases\n",
    "        b_init = tf.zeros_initializer()\n",
    "        self.b = tf.Variable(\n",
    "            name='bias',\n",
    "            initial_value=b_init(\n",
    "                shape=(self.units,), dtype='float32'\n",
    "            ),\n",
    "            trainable=True\n",
    "        )\n",
    "    \n",
    "    def call(self, inputs):\n",
    "        return tf.matmul(inputs, self.w) + self.b"
   ]
  },
  {
   "cell_type": "code",
   "execution_count": 4,
   "metadata": {
    "execution": {
     "iopub.execute_input": "2020-12-10T16:01:37.804505Z",
     "iopub.status.busy": "2020-12-10T16:01:37.803998Z",
     "iopub.status.idle": "2020-12-10T16:01:37.847535Z",
     "shell.execute_reply": "2020-12-10T16:01:37.846192Z",
     "shell.execute_reply.started": "2020-12-10T16:01:37.804459Z"
    }
   },
   "outputs": [
    {
     "name": "stdout",
     "output_type": "stream",
     "text": [
      "[<tf.Variable 'custom_dense/kernel:0' shape=(1, 1) dtype=float32, numpy=array([[0.04425662]], dtype=float32)>, <tf.Variable 'custom_dense/bias:0' shape=(1,) dtype=float32, numpy=array([0.], dtype=float32)>]\n"
     ]
    }
   ],
   "source": [
    "# declare an instance of the class\n",
    "my_dense = CustomDense(units=1)\n",
    "\n",
    "# define an input and feed into the layer\n",
    "x = tf.ones((1, 1))\n",
    "y = my_dense(x)\n",
    "\n",
    "# Parameters of the base layer class like `variables` can be used\n",
    "print(my_dense.variables)"
   ]
  },
  {
   "cell_type": "code",
   "execution_count": 7,
   "metadata": {
    "execution": {
     "iopub.execute_input": "2020-12-10T19:21:57.380260Z",
     "iopub.status.busy": "2020-12-10T19:21:57.380008Z",
     "iopub.status.idle": "2020-12-10T19:21:57.482516Z",
     "shell.execute_reply": "2020-12-10T19:21:57.481624Z",
     "shell.execute_reply.started": "2020-12-10T19:21:57.380234Z"
    }
   },
   "outputs": [],
   "source": [
    "x_train = np.array([1., 2., 3., 4., 5.])\n",
    "y_train = np.array([1., 4., 9., 16., 25.])\n",
    "\n",
    "inp = tf.keras.Input((1,))\n",
    "x = CustomDense(128)(inp)\n",
    "x = CustomDense(128)(x)\n",
    "x = CustomDense(128)(x)\n",
    "output = tf.keras.layers.Dense(1)(x)\n",
    "\n"
   ]
  },
  {
   "cell_type": "code",
   "execution_count": 8,
   "metadata": {
    "execution": {
     "iopub.execute_input": "2020-12-10T19:22:12.029614Z",
     "iopub.status.busy": "2020-12-10T19:22:12.029313Z",
     "iopub.status.idle": "2020-12-10T19:22:12.041370Z",
     "shell.execute_reply": "2020-12-10T19:22:12.040212Z",
     "shell.execute_reply.started": "2020-12-10T19:22:12.029586Z"
    }
   },
   "outputs": [
    {
     "name": "stdout",
     "output_type": "stream",
     "text": [
      "Model: \"model\"\n",
      "_________________________________________________________________\n",
      "Layer (type)                 Output Shape              Param #   \n",
      "=================================================================\n",
      "input_1 (InputLayer)         [(None, 1)]               0         \n",
      "_________________________________________________________________\n",
      "custom_dense_1 (CustomDense) (None, 128)               256       \n",
      "_________________________________________________________________\n",
      "custom_dense_2 (CustomDense) (None, 128)               16512     \n",
      "_________________________________________________________________\n",
      "custom_dense_3 (CustomDense) (None, 128)               16512     \n",
      "_________________________________________________________________\n",
      "dense (Dense)                (None, 1)                 129       \n",
      "=================================================================\n",
      "Total params: 33,409\n",
      "Trainable params: 33,409\n",
      "Non-trainable params: 0\n",
      "_________________________________________________________________\n"
     ]
    }
   ],
   "source": [
    "model = tf.keras.Model(inputs=inp, outputs=output)\n",
    "model.summary()"
   ]
  },
  {
   "cell_type": "code",
   "execution_count": 9,
   "metadata": {
    "execution": {
     "iopub.execute_input": "2020-12-10T19:22:25.703079Z",
     "iopub.status.busy": "2020-12-10T19:22:25.702797Z",
     "iopub.status.idle": "2020-12-10T19:22:26.826527Z",
     "shell.execute_reply": "2020-12-10T19:22:26.825822Z",
     "shell.execute_reply.started": "2020-12-10T19:22:25.703042Z"
    }
   },
   "outputs": [],
   "source": [
    "model.compile(optimizer='adam', loss='mae', metrics=['accuracy'])\n",
    "hisory = model.fit(x_train, y_train, epochs=500, verbose=0)"
   ]
  },
  {
   "cell_type": "code",
   "execution_count": 10,
   "metadata": {
    "execution": {
     "iopub.execute_input": "2020-12-10T19:22:38.315558Z",
     "iopub.status.busy": "2020-12-10T19:22:38.315305Z",
     "iopub.status.idle": "2020-12-10T19:22:38.476016Z",
     "shell.execute_reply": "2020-12-10T19:22:38.475072Z",
     "shell.execute_reply.started": "2020-12-10T19:22:38.315533Z"
    }
   },
   "outputs": [
    {
     "data": {
      "text/plain": [
       "array([[28.646996]], dtype=float32)"
      ]
     },
     "execution_count": 10,
     "metadata": {},
     "output_type": "execute_result"
    }
   ],
   "source": [
    "model.predict([6.])"
   ]
  },
  {
   "cell_type": "code",
   "execution_count": null,
   "metadata": {},
   "outputs": [],
   "source": []
  }
 ],
 "metadata": {
  "kernelspec": {
   "display_name": "Python 3",
   "language": "python",
   "name": "python3"
  },
  "language_info": {
   "codemirror_mode": {
    "name": "ipython",
    "version": 3
   },
   "file_extension": ".py",
   "mimetype": "text/x-python",
   "name": "python",
   "nbconvert_exporter": "python",
   "pygments_lexer": "ipython3",
   "version": "3.8.3"
  }
 },
 "nbformat": 4,
 "nbformat_minor": 4
}
