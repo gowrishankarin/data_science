{
 "cells": [
  {
   "cell_type": "code",
   "execution_count": 1,
   "metadata": {
    "execution": {
     "iopub.execute_input": "2020-12-11T08:18:37.973081Z",
     "iopub.status.busy": "2020-12-11T08:18:37.972817Z",
     "iopub.status.idle": "2020-12-11T08:18:40.792227Z",
     "shell.execute_reply": "2020-12-11T08:18:40.791193Z",
     "shell.execute_reply.started": "2020-12-11T08:18:37.973044Z"
    }
   },
   "outputs": [],
   "source": [
    "import tensorflow as tf"
   ]
  },
  {
   "cell_type": "markdown",
   "metadata": {},
   "source": [
    "$$y = Ax^2 + Bx + c$$"
   ]
  },
  {
   "cell_type": "code",
   "execution_count": 3,
   "metadata": {
    "execution": {
     "iopub.execute_input": "2020-12-11T09:52:47.633643Z",
     "iopub.status.busy": "2020-12-11T09:52:47.633410Z",
     "iopub.status.idle": "2020-12-11T09:52:47.642752Z",
     "shell.execute_reply": "2020-12-11T09:52:47.641939Z",
     "shell.execute_reply.started": "2020-12-11T09:52:47.633618Z"
    }
   },
   "outputs": [],
   "source": [
    "class Quadratic(tf.keras.layers.Layer):\n",
    "    \n",
    "    def __init__(self, units, activation=None):\n",
    "        super(Quadratic, self).__init__()\n",
    "        self.units = units\n",
    "        self.activation = tf.keras.activations.get(activation)\n",
    "        \n",
    "    def build(self, input_shape):\n",
    "        a_init = tf.random_normal_initializer()\n",
    "        self.A = tf.Variable(\n",
    "            name='kernel_A',\n",
    "            initial_value=a_init(\n",
    "                shape=(input_shape[-1], self.units), dtype=tf.float32\n",
    "            ),\n",
    "            trainable=True\n",
    "        )\n",
    "        b_init = tf.random_normal_initializer()\n",
    "        self.B = tf.Variable(\n",
    "            name='kernel_B',\n",
    "            initial_value=b_init(\n",
    "                shape=(input_shape[-1], self.units), dtype=tf.float32\n",
    "            ),\n",
    "            trainable=True\n",
    "        )\n",
    "        c_init = tf.zeros_initializer()\n",
    "        self.C = tf.Variable(\n",
    "            name='kernel_C',\n",
    "            initial_value=c_init(\n",
    "                shape=(self.units, ), dtype=tf.float32\n",
    "            ),\n",
    "            trainable=True\n",
    "        )\n",
    "        \n",
    "        super().build(input_shape)\n",
    "    \n",
    "    def call(self, inputs):\n",
    "        return self.activation(\n",
    "            tf.matmul(tf.square(inputs), self.A) + tf.matmul(inputs, self.B) + self.C\n",
    "        )"
   ]
  },
  {
   "cell_type": "code",
   "execution_count": 4,
   "metadata": {
    "execution": {
     "iopub.execute_input": "2020-12-11T09:53:15.714476Z",
     "iopub.status.busy": "2020-12-11T09:53:15.714242Z",
     "iopub.status.idle": "2020-12-11T09:53:16.034431Z",
     "shell.execute_reply": "2020-12-11T09:53:16.033600Z",
     "shell.execute_reply.started": "2020-12-11T09:53:15.714451Z"
    }
   },
   "outputs": [],
   "source": [
    "mnist = tf.keras.datasets.mnist\n",
    "\n",
    "(x_train, y_train), (x_test, y_test) = mnist.load_data()"
   ]
  },
  {
   "cell_type": "code",
   "execution_count": 5,
   "metadata": {
    "execution": {
     "iopub.execute_input": "2020-12-11T09:53:44.122938Z",
     "iopub.status.busy": "2020-12-11T09:53:44.122692Z",
     "iopub.status.idle": "2020-12-11T09:53:44.434822Z",
     "shell.execute_reply": "2020-12-11T09:53:44.434131Z",
     "shell.execute_reply.started": "2020-12-11T09:53:44.122912Z"
    }
   },
   "outputs": [],
   "source": [
    "x_train, x_test = x_train / 255.0, x_test / 255.0\n",
    "\n",
    "def create_custom_model():\n",
    "    inp = tf.keras.Input((28, 28))\n",
    "    x = tf.keras.layers.Flatten()(inp)\n",
    "    x = Quadratic(256, activation='relu')(x)\n",
    "    x = tf.keras.layers.Dropout(0.2)(x)\n",
    "    x = Quadratic(128, activation='relu')(x)\n",
    "    x = tf.keras.layers.Dropout(0.2)(x)\n",
    "    x = Quadratic(64, activation='relu')(x)\n",
    "    x = tf.keras.layers.Dropout(0.2)(x)\n",
    "    output = Quadratic(10, activation='softmax')(x)\n",
    "    model = tf.keras.Model(inputs=inp, outputs=output)\n",
    "    model.compile(optimizer='adam', loss='sparse_categorical_crossentropy', metrics=['accuracy'])\n",
    "    \n",
    "    return model"
   ]
  },
  {
   "cell_type": "code",
   "execution_count": 6,
   "metadata": {
    "execution": {
     "iopub.execute_input": "2020-12-11T09:53:55.435936Z",
     "iopub.status.busy": "2020-12-11T09:53:55.435443Z",
     "iopub.status.idle": "2020-12-11T09:53:55.677197Z",
     "shell.execute_reply": "2020-12-11T09:53:55.676432Z",
     "shell.execute_reply.started": "2020-12-11T09:53:55.435888Z"
    }
   },
   "outputs": [
    {
     "name": "stdout",
     "output_type": "stream",
     "text": [
      "Model: \"model\"\n",
      "_________________________________________________________________\n",
      "Layer (type)                 Output Shape              Param #   \n",
      "=================================================================\n",
      "input_1 (InputLayer)         [(None, 28, 28)]          0         \n",
      "_________________________________________________________________\n",
      "flatten (Flatten)            (None, 784)               0         \n",
      "_________________________________________________________________\n",
      "quadratic (Quadratic)        (None, 256)               401664    \n",
      "_________________________________________________________________\n",
      "dropout (Dropout)            (None, 256)               0         \n",
      "_________________________________________________________________\n",
      "quadratic_1 (Quadratic)      (None, 128)               65664     \n",
      "_________________________________________________________________\n",
      "dropout_1 (Dropout)          (None, 128)               0         \n",
      "_________________________________________________________________\n",
      "quadratic_2 (Quadratic)      (None, 64)                16448     \n",
      "_________________________________________________________________\n",
      "dropout_2 (Dropout)          (None, 64)                0         \n",
      "_________________________________________________________________\n",
      "quadratic_3 (Quadratic)      (None, 10)                1290      \n",
      "=================================================================\n",
      "Total params: 485,066\n",
      "Trainable params: 485,066\n",
      "Non-trainable params: 0\n",
      "_________________________________________________________________\n"
     ]
    }
   ],
   "source": [
    "model = create_custom_model()\n",
    "model.summary()"
   ]
  },
  {
   "cell_type": "code",
   "execution_count": 7,
   "metadata": {
    "execution": {
     "iopub.execute_input": "2020-12-11T09:53:59.820418Z",
     "iopub.status.busy": "2020-12-11T09:53:59.820139Z",
     "iopub.status.idle": "2020-12-11T09:54:31.353873Z",
     "shell.execute_reply": "2020-12-11T09:54:31.353039Z",
     "shell.execute_reply.started": "2020-12-11T09:53:59.820389Z"
    }
   },
   "outputs": [
    {
     "name": "stdout",
     "output_type": "stream",
     "text": [
      "Epoch 1/5\n",
      "1875/1875 [==============================] - 6s 3ms/step - loss: 0.6224 - accuracy: 0.8547\n",
      "Epoch 2/5\n",
      "1875/1875 [==============================] - 6s 3ms/step - loss: 0.2978 - accuracy: 0.9271\n",
      "Epoch 3/5\n",
      "1875/1875 [==============================] - 6s 3ms/step - loss: 0.2942 - accuracy: 0.9320\n",
      "Epoch 4/5\n",
      "1875/1875 [==============================] - 6s 3ms/step - loss: 0.3125 - accuracy: 0.9345\n",
      "Epoch 5/5\n",
      "1875/1875 [==============================] - 6s 3ms/step - loss: 0.3141 - accuracy: 0.9366\n",
      "313/313 [==============================] - 0s 1ms/step - loss: 0.1701 - accuracy: 0.9553\n"
     ]
    },
    {
     "data": {
      "text/plain": [
       "[0.17011846601963043, 0.955299973487854]"
      ]
     },
     "execution_count": 7,
     "metadata": {},
     "output_type": "execute_result"
    }
   ],
   "source": [
    "model.fit(x_train, y_train, epochs=5)\n",
    "model.evaluate(x_test, y_test)"
   ]
  },
  {
   "cell_type": "code",
   "execution_count": null,
   "metadata": {},
   "outputs": [],
   "source": []
  }
 ],
 "metadata": {
  "kernelspec": {
   "display_name": "Python 3",
   "language": "python",
   "name": "python3"
  },
  "language_info": {
   "codemirror_mode": {
    "name": "ipython",
    "version": 3
   },
   "file_extension": ".py",
   "mimetype": "text/x-python",
   "name": "python",
   "nbconvert_exporter": "python",
   "pygments_lexer": "ipython3",
   "version": "3.8.3"
  }
 },
 "nbformat": 4,
 "nbformat_minor": 4
}
