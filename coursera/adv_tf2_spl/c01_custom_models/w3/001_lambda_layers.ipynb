{
 "cells": [
  {
   "cell_type": "code",
   "execution_count": 1,
   "metadata": {
    "execution": {
     "iopub.execute_input": "2020-12-10T15:15:47.027508Z",
     "iopub.status.busy": "2020-12-10T15:15:47.027279Z",
     "iopub.status.idle": "2020-12-10T15:15:49.671931Z",
     "shell.execute_reply": "2020-12-10T15:15:49.671120Z",
     "shell.execute_reply.started": "2020-12-10T15:15:47.027482Z"
    }
   },
   "outputs": [],
   "source": [
    "import tensorflow as tf\n",
    "from tensorflow.keras import backend as K\n",
    "import numpy as np"
   ]
  },
  {
   "cell_type": "code",
   "execution_count": 2,
   "metadata": {
    "execution": {
     "iopub.execute_input": "2020-12-10T15:15:49.673709Z",
     "iopub.status.busy": "2020-12-10T15:15:49.673391Z",
     "iopub.status.idle": "2020-12-10T15:15:49.677995Z",
     "shell.execute_reply": "2020-12-10T15:15:49.677178Z",
     "shell.execute_reply.started": "2020-12-10T15:15:49.673683Z"
    }
   },
   "outputs": [],
   "source": [
    "def custom_relu(x):\n",
    "    return K.maximum(0.0, tf.cast(x, tf.float32))"
   ]
  },
  {
   "cell_type": "code",
   "execution_count": 3,
   "metadata": {
    "execution": {
     "iopub.execute_input": "2020-12-10T15:15:49.681919Z",
     "iopub.status.busy": "2020-12-10T15:15:49.681496Z",
     "iopub.status.idle": "2020-12-10T15:15:49.753917Z",
     "shell.execute_reply": "2020-12-10T15:15:49.753044Z",
     "shell.execute_reply.started": "2020-12-10T15:15:49.681882Z"
    }
   },
   "outputs": [],
   "source": [
    "x_train = np.array([1., 2., 3., 4., 5.])\n",
    "y_train = np.array([1., 4., 9., 16., 25.])\n",
    "\n",
    "inp = tf.keras.Input((1,))\n",
    "x = tf.keras.layers.Dense(128, activation = lambda a: K.maximum(0., tf.cast(a, tf.float32)))(inp)\n",
    "x = tf.keras.layers.Dense(128, activation = custom_relu)(x)\n",
    "x = tf.keras.layers.Dense(128, activation = custom_relu)(x)\n",
    "output = tf.keras.layers.Dense(1)(x)\n",
    "\n"
   ]
  },
  {
   "cell_type": "code",
   "execution_count": 4,
   "metadata": {
    "execution": {
     "iopub.execute_input": "2020-12-10T15:15:49.756086Z",
     "iopub.status.busy": "2020-12-10T15:15:49.755691Z",
     "iopub.status.idle": "2020-12-10T15:15:49.765176Z",
     "shell.execute_reply": "2020-12-10T15:15:49.764024Z",
     "shell.execute_reply.started": "2020-12-10T15:15:49.756010Z"
    }
   },
   "outputs": [
    {
     "name": "stdout",
     "output_type": "stream",
     "text": [
      "Model: \"model\"\n",
      "_________________________________________________________________\n",
      "Layer (type)                 Output Shape              Param #   \n",
      "=================================================================\n",
      "input_1 (InputLayer)         [(None, 1)]               0         \n",
      "_________________________________________________________________\n",
      "dense (Dense)                (None, 128)               256       \n",
      "_________________________________________________________________\n",
      "dense_1 (Dense)              (None, 128)               16512     \n",
      "_________________________________________________________________\n",
      "dense_2 (Dense)              (None, 128)               16512     \n",
      "_________________________________________________________________\n",
      "dense_3 (Dense)              (None, 1)                 129       \n",
      "=================================================================\n",
      "Total params: 33,409\n",
      "Trainable params: 33,409\n",
      "Non-trainable params: 0\n",
      "_________________________________________________________________\n"
     ]
    }
   ],
   "source": [
    "model = tf.keras.Model(inputs=inp, outputs=output)\n",
    "model.summary()"
   ]
  },
  {
   "cell_type": "code",
   "execution_count": 5,
   "metadata": {
    "execution": {
     "iopub.execute_input": "2020-12-10T15:15:49.767095Z",
     "iopub.status.busy": "2020-12-10T15:15:49.766586Z",
     "iopub.status.idle": "2020-12-10T15:15:51.068816Z",
     "shell.execute_reply": "2020-12-10T15:15:51.068207Z",
     "shell.execute_reply.started": "2020-12-10T15:15:49.767064Z"
    }
   },
   "outputs": [],
   "source": [
    "model.compile(optimizer='adam', loss='mae', metrics=['accuracy'])\n",
    "hisory = model.fit(x_train, y_train, epochs=500, verbose=0)"
   ]
  },
  {
   "cell_type": "code",
   "execution_count": 6,
   "metadata": {
    "execution": {
     "iopub.execute_input": "2020-12-10T15:15:51.070110Z",
     "iopub.status.busy": "2020-12-10T15:15:51.069931Z",
     "iopub.status.idle": "2020-12-10T15:15:51.215080Z",
     "shell.execute_reply": "2020-12-10T15:15:51.214359Z",
     "shell.execute_reply.started": "2020-12-10T15:15:51.070088Z"
    }
   },
   "outputs": [
    {
     "data": {
      "text/plain": [
       "array([[34.511158]], dtype=float32)"
      ]
     },
     "execution_count": 6,
     "metadata": {},
     "output_type": "execute_result"
    }
   ],
   "source": [
    "model.predict([6.])"
   ]
  },
  {
   "cell_type": "code",
   "execution_count": null,
   "metadata": {},
   "outputs": [],
   "source": []
  }
 ],
 "metadata": {
  "kernelspec": {
   "display_name": "Python 3",
   "language": "python",
   "name": "python3"
  },
  "language_info": {
   "codemirror_mode": {
    "name": "ipython",
    "version": 3
   },
   "file_extension": ".py",
   "mimetype": "text/x-python",
   "name": "python",
   "nbconvert_exporter": "python",
   "pygments_lexer": "ipython3",
   "version": "3.8.3"
  }
 },
 "nbformat": 4,
 "nbformat_minor": 4
}
