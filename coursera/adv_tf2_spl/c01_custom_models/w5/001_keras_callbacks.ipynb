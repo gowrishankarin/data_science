{
 "cells": [
  {
   "cell_type": "markdown",
   "metadata": {
    "execution": {
     "iopub.execute_input": "2020-12-13T06:16:44.084376Z",
     "iopub.status.busy": "2020-12-13T06:16:44.084145Z",
     "iopub.status.idle": "2020-12-13T06:16:44.087512Z",
     "shell.execute_reply": "2020-12-13T06:16:44.086705Z",
     "shell.execute_reply.started": "2020-12-13T06:16:44.084351Z"
    }
   },
   "source": [
    "# Keras Callbacks"
   ]
  },
  {
   "cell_type": "code",
   "execution_count": 1,
   "metadata": {
    "execution": {
     "iopub.execute_input": "2020-12-13T07:21:30.145978Z",
     "iopub.status.busy": "2020-12-13T07:21:30.145712Z",
     "iopub.status.idle": "2020-12-13T07:21:33.314437Z",
     "shell.execute_reply": "2020-12-13T07:21:33.313589Z",
     "shell.execute_reply.started": "2020-12-13T07:21:30.145946Z"
    }
   },
   "outputs": [],
   "source": [
    "from __future__ import absolute_import, division, print_function, unicode_literals\n",
    "\n",
    "import tensorflow as tf\n",
    "import tensorflow_datasets as tfds\n",
    "import matplotlib.pyplot as plt\n",
    "import io\n",
    "from PIL import Image"
   ]
  },
  {
   "cell_type": "code",
   "execution_count": 2,
   "metadata": {
    "execution": {
     "iopub.execute_input": "2020-12-13T07:21:33.316033Z",
     "iopub.status.busy": "2020-12-13T07:21:33.315756Z",
     "iopub.status.idle": "2020-12-13T07:21:33.323394Z",
     "shell.execute_reply": "2020-12-13T07:21:33.322603Z",
     "shell.execute_reply.started": "2020-12-13T07:21:33.316006Z"
    }
   },
   "outputs": [],
   "source": [
    "from tensorflow.keras.callbacks import TensorBoard, EarlyStopping, LearningRateScheduler, ModelCheckpoint, CSVLogger, ReduceLROnPlateau\n",
    "%load_ext tensorboard"
   ]
  },
  {
   "cell_type": "code",
   "execution_count": 3,
   "metadata": {
    "execution": {
     "iopub.execute_input": "2020-12-13T07:21:33.326437Z",
     "iopub.status.busy": "2020-12-13T07:21:33.326145Z",
     "iopub.status.idle": "2020-12-13T07:21:33.330525Z",
     "shell.execute_reply": "2020-12-13T07:21:33.329590Z",
     "shell.execute_reply.started": "2020-12-13T07:21:33.326398Z"
    }
   },
   "outputs": [],
   "source": [
    "import os\n",
    "import numpy as np\n",
    "import math\n",
    "import datetime\n",
    "import pandas as pd"
   ]
  },
  {
   "cell_type": "code",
   "execution_count": 4,
   "metadata": {
    "execution": {
     "iopub.execute_input": "2020-12-13T07:21:33.332183Z",
     "iopub.status.busy": "2020-12-13T07:21:33.331973Z",
     "iopub.status.idle": "2020-12-13T07:21:33.336552Z",
     "shell.execute_reply": "2020-12-13T07:21:33.335748Z",
     "shell.execute_reply.started": "2020-12-13T07:21:33.332159Z"
    }
   },
   "outputs": [
    {
     "name": "stdout",
     "output_type": "stream",
     "text": [
      "Version:  2.2.0\n"
     ]
    }
   ],
   "source": [
    "print(\"Version: \", tf.__version__)\n",
    "tf.get_logger().setLevel('INFO')"
   ]
  },
  {
   "cell_type": "markdown",
   "metadata": {},
   "source": [
    "## Keras Callback Applications"
   ]
  },
  {
   "cell_type": "code",
   "execution_count": 5,
   "metadata": {
    "execution": {
     "iopub.execute_input": "2020-12-13T07:21:34.129371Z",
     "iopub.status.busy": "2020-12-13T07:21:34.129057Z",
     "iopub.status.idle": "2020-12-13T07:21:34.401992Z",
     "shell.execute_reply": "2020-12-13T07:21:34.401137Z",
     "shell.execute_reply.started": "2020-12-13T07:21:34.129328Z"
    }
   },
   "outputs": [],
   "source": [
    "splits, info = tfds.load(\n",
    "    'horses_or_humans', \n",
    "    as_supervised=True, \n",
    "    with_info=True, \n",
    "    split=['train[:80%]', 'train[80%:]', 'test']\n",
    ")\n",
    "(train_examples, validation_examples, test_examples) = splits\n",
    "\n",
    "num_examples = info.splits['train'].num_examples\n",
    "num_classes = info.features['label'].num_classes"
   ]
  },
  {
   "cell_type": "code",
   "execution_count": 6,
   "metadata": {
    "execution": {
     "iopub.execute_input": "2020-12-13T07:21:35.992644Z",
     "iopub.status.busy": "2020-12-13T07:21:35.992406Z",
     "iopub.status.idle": "2020-12-13T07:21:35.995939Z",
     "shell.execute_reply": "2020-12-13T07:21:35.995141Z",
     "shell.execute_reply.started": "2020-12-13T07:21:35.992619Z"
    }
   },
   "outputs": [],
   "source": [
    "SIZE = 150\n",
    "IMAGE_SIZE = (SIZE, SIZE)"
   ]
  },
  {
   "cell_type": "code",
   "execution_count": 7,
   "metadata": {
    "execution": {
     "iopub.execute_input": "2020-12-13T07:21:36.519353Z",
     "iopub.status.busy": "2020-12-13T07:21:36.519113Z",
     "iopub.status.idle": "2020-12-13T07:21:36.523373Z",
     "shell.execute_reply": "2020-12-13T07:21:36.522504Z",
     "shell.execute_reply.started": "2020-12-13T07:21:36.519328Z"
    }
   },
   "outputs": [],
   "source": [
    "def format_image(image, label):\n",
    "    image = tf.image.resize(image, IMAGE_SIZE) / 255.0\n",
    "    return image, label"
   ]
  },
  {
   "cell_type": "code",
   "execution_count": 8,
   "metadata": {
    "execution": {
     "iopub.execute_input": "2020-12-13T07:21:36.961052Z",
     "iopub.status.busy": "2020-12-13T07:21:36.960782Z",
     "iopub.status.idle": "2020-12-13T07:21:36.964659Z",
     "shell.execute_reply": "2020-12-13T07:21:36.963732Z",
     "shell.execute_reply.started": "2020-12-13T07:21:36.961023Z"
    }
   },
   "outputs": [],
   "source": [
    "BATCH_SIZE = 32"
   ]
  },
  {
   "cell_type": "code",
   "execution_count": 9,
   "metadata": {
    "execution": {
     "iopub.execute_input": "2020-12-13T07:21:38.152492Z",
     "iopub.status.busy": "2020-12-13T07:21:38.152223Z",
     "iopub.status.idle": "2020-12-13T07:21:38.241238Z",
     "shell.execute_reply": "2020-12-13T07:21:38.240308Z",
     "shell.execute_reply.started": "2020-12-13T07:21:38.152468Z"
    }
   },
   "outputs": [],
   "source": [
    "train_batches = train_examples.shuffle(num_examples // 4).map(format_image).batch(BATCH_SIZE).prefetch(1)\n",
    "validation_batches = validation_examples.map(format_image).batch(BATCH_SIZE).prefetch(1)\n",
    "test_batches = test_examples.map(format_image).batch(1)"
   ]
  },
  {
   "cell_type": "code",
   "execution_count": 10,
   "metadata": {
    "execution": {
     "iopub.execute_input": "2020-12-13T07:21:38.753016Z",
     "iopub.status.busy": "2020-12-13T07:21:38.752709Z",
     "iopub.status.idle": "2020-12-13T07:21:39.151618Z",
     "shell.execute_reply": "2020-12-13T07:21:39.151027Z",
     "shell.execute_reply.started": "2020-12-13T07:21:38.752987Z"
    }
   },
   "outputs": [
    {
     "data": {
      "text/plain": [
       "TensorShape([32, 150, 150, 3])"
      ]
     },
     "execution_count": 10,
     "metadata": {},
     "output_type": "execute_result"
    }
   ],
   "source": [
    "for image_batch, label_batch in train_batches.take(1):\n",
    "    pass\n",
    "\n",
    "image_batch.shape"
   ]
  },
  {
   "cell_type": "code",
   "execution_count": 11,
   "metadata": {
    "execution": {
     "iopub.execute_input": "2020-12-13T07:21:43.943117Z",
     "iopub.status.busy": "2020-12-13T07:21:43.942892Z",
     "iopub.status.idle": "2020-12-13T07:21:43.950855Z",
     "shell.execute_reply": "2020-12-13T07:21:43.950165Z",
     "shell.execute_reply.started": "2020-12-13T07:21:43.943095Z"
    }
   },
   "outputs": [],
   "source": [
    "def build_model(dense_units, input_shape=IMAGE_SIZE + (3,)):\n",
    "    inp = tf.keras.Input(input_shape)\n",
    "    \n",
    "    x = tf.keras.layers.Conv2D(16, (3, 3), activation='relu')(inp)\n",
    "    x = tf.keras.layers.MaxPooling2D(2, 2)(x)\n",
    "    x = tf.keras.layers.Conv2D(32, (3, 3), activation='relu')(x)\n",
    "    x = tf.keras.layers.MaxPooling2D(2, 2)(x)\n",
    "    x = tf.keras.layers.Conv2D(64, (3, 3), activation='relu')(x)\n",
    "    x = tf.keras.layers.MaxPooling2D(2, 2)(x)\n",
    "    x = tf.keras.layers.Flatten()(x)\n",
    "    x = tf.keras.layers.Dense(dense_units, activation='relu')(x)\n",
    "    outp = tf.keras.layers.Dense(2, activation='softmax')(x)\n",
    "    \n",
    "    model = tf.keras.Model(inp, outp,)\n",
    "    \n",
    "    return model"
   ]
  },
  {
   "cell_type": "code",
   "execution_count": null,
   "metadata": {},
   "outputs": [],
   "source": [
    "!rm -rf logs"
   ]
  },
  {
   "cell_type": "code",
   "execution_count": null,
   "metadata": {},
   "outputs": [],
   "source": [
    "model = build_model(dense_units=256)\n",
    "model.compile(\n",
    "    optimizer='sgd',\n",
    "    loss='sparse_categorical_crossentropy',\n",
    "    metrics=['accuracy']\n",
    ")\n",
    "\n",
    "logdir = os.path.join('logs', datetime.datetime.now().strftime(\"%Y%m%d-%H%M%S\"))\n",
    "tensorboard_callback = tf.keras.callbacks.TensorBoard(logdir)\n",
    "\n",
    "model.fit(\n",
    "    train_batches,\n",
    "    epochs=10,\n",
    "    validation_data=validation_batches,\n",
    "    callbacks=[tensorboard_callback]\n",
    ")"
   ]
  },
  {
   "cell_type": "code",
   "execution_count": 12,
   "metadata": {
    "execution": {
     "iopub.execute_input": "2020-12-13T07:21:46.641937Z",
     "iopub.status.busy": "2020-12-13T07:21:46.641673Z",
     "iopub.status.idle": "2020-12-13T07:21:46.671530Z",
     "shell.execute_reply": "2020-12-13T07:21:46.670368Z",
     "shell.execute_reply.started": "2020-12-13T07:21:46.641910Z"
    }
   },
   "outputs": [
    {
     "name": "stderr",
     "output_type": "stream",
     "text": [
      "/Users/shankar/dev/tools/anaconda3/envs/od/lib/python3.8/site-packages/google/colab/data_table.py:30: UserWarning: IPython.utils.traitlets has moved to a top-level traitlets package.\n",
      "  from IPython.utils import traitlets as _traitlets\n"
     ]
    },
    {
     "data": {
      "text/plain": [
       "Reusing TensorBoard on port 6006 (pid 6724), started 0:06:57 ago. (Use '!kill 6724' to kill it.)"
      ]
     },
     "metadata": {},
     "output_type": "display_data"
    },
    {
     "data": {
      "application/javascript": [
       "\n",
       "        (async () => {\n",
       "            const url = await google.colab.kernel.proxyPort(6006, {\"cache\": true});\n",
       "            const iframe = document.createElement('iframe');\n",
       "            iframe.src = url;\n",
       "            iframe.setAttribute('width', '100%');\n",
       "            iframe.setAttribute('height', '800');\n",
       "            iframe.setAttribute('frameborder', 0);\n",
       "            document.body.appendChild(iframe);\n",
       "        })();\n",
       "    "
      ],
      "text/plain": [
       "<IPython.core.display.Javascript object>"
      ]
     },
     "metadata": {},
     "output_type": "display_data"
    }
   ],
   "source": [
    "%tensorboard --logdir logs"
   ]
  },
  {
   "cell_type": "code",
   "execution_count": 25,
   "metadata": {
    "execution": {
     "iopub.execute_input": "2020-12-13T09:17:19.941047Z",
     "iopub.status.busy": "2020-12-13T09:17:19.940806Z",
     "iopub.status.idle": "2020-12-13T09:17:35.540460Z",
     "shell.execute_reply": "2020-12-13T09:17:35.539461Z",
     "shell.execute_reply.started": "2020-12-13T09:17:19.941023Z"
    }
   },
   "outputs": [
    {
     "name": "stdout",
     "output_type": "stream",
     "text": [
      "Password:\n"
     ]
    }
   ],
   "source": [
    "!sudo kill -9 6724"
   ]
  },
  {
   "cell_type": "markdown",
   "metadata": {},
   "source": [
    "## Model Checkpoint"
   ]
  },
  {
   "cell_type": "code",
   "execution_count": 13,
   "metadata": {
    "execution": {
     "iopub.execute_input": "2020-12-13T07:24:24.157452Z",
     "iopub.status.busy": "2020-12-13T07:24:24.157209Z",
     "iopub.status.idle": "2020-12-13T07:24:31.715575Z",
     "shell.execute_reply": "2020-12-13T07:24:31.714042Z",
     "shell.execute_reply.started": "2020-12-13T07:24:24.157426Z"
    }
   },
   "outputs": [
    {
     "name": "stdout",
     "output_type": "stream",
     "text": [
      "\n",
      "Epoch 00001: saving model to weights.01-0.67.h5\n",
      "26/26 - 6s - loss: 0.6773 - accuracy: 0.5669 - val_loss: 0.6708 - val_accuracy: 0.5122\n"
     ]
    },
    {
     "data": {
      "text/plain": [
       "<tensorflow.python.keras.callbacks.History at 0x7fb00ef70f40>"
      ]
     },
     "execution_count": 13,
     "metadata": {},
     "output_type": "execute_result"
    }
   ],
   "source": [
    "model = build_model(dense_units=256)\n",
    "model.compile(\n",
    "    optimizer='sgd',\n",
    "    loss='sparse_categorical_crossentropy',\n",
    "    metrics=['accuracy']\n",
    ")\n",
    "\n",
    "model.fit(\n",
    "    train_batches,\n",
    "    validation_data=validation_batches,\n",
    "    verbose=2,\n",
    "    callbacks=[ModelCheckpoint('weights.{epoch:02d}-{val_loss:.2f}.h5', verbose=1)]\n",
    ")"
   ]
  },
  {
   "cell_type": "code",
   "execution_count": 14,
   "metadata": {
    "execution": {
     "iopub.execute_input": "2020-12-13T07:26:02.998092Z",
     "iopub.status.busy": "2020-12-13T07:26:02.997856Z",
     "iopub.status.idle": "2020-12-13T07:26:11.686415Z",
     "shell.execute_reply": "2020-12-13T07:26:11.685218Z",
     "shell.execute_reply.started": "2020-12-13T07:26:02.998068Z"
    }
   },
   "outputs": [
    {
     "name": "stdout",
     "output_type": "stream",
     "text": [
      "\n",
      "Epoch 00001: saving model to saved_model\n",
      "WARNING:tensorflow:From /Users/shankar/dev/tools/anaconda3/envs/od/lib/python3.8/site-packages/tensorflow/python/ops/resource_variable_ops.py:1813: calling BaseResourceVariable.__init__ (from tensorflow.python.ops.resource_variable_ops) with constraint is deprecated and will be removed in a future version.\n",
      "Instructions for updating:\n",
      "If using Keras pass *_constraint arguments to layers.\n"
     ]
    },
    {
     "name": "stderr",
     "output_type": "stream",
     "text": [
      "WARNING:tensorflow:From /Users/shankar/dev/tools/anaconda3/envs/od/lib/python3.8/site-packages/tensorflow/python/ops/resource_variable_ops.py:1813: calling BaseResourceVariable.__init__ (from tensorflow.python.ops.resource_variable_ops) with constraint is deprecated and will be removed in a future version.\n",
      "Instructions for updating:\n",
      "If using Keras pass *_constraint arguments to layers.\n"
     ]
    },
    {
     "name": "stdout",
     "output_type": "stream",
     "text": [
      "INFO:tensorflow:Assets written to: saved_model/assets\n"
     ]
    },
    {
     "name": "stderr",
     "output_type": "stream",
     "text": [
      "INFO:tensorflow:Assets written to: saved_model/assets\n"
     ]
    },
    {
     "name": "stdout",
     "output_type": "stream",
     "text": [
      "26/26 - 8s - loss: 0.6584 - accuracy: 0.5985 - val_loss: 0.6147 - val_accuracy: 0.7415\n"
     ]
    },
    {
     "data": {
      "text/plain": [
       "<tensorflow.python.keras.callbacks.History at 0x7fb00f67a340>"
      ]
     },
     "execution_count": 14,
     "metadata": {},
     "output_type": "execute_result"
    }
   ],
   "source": [
    "model = build_model(dense_units=256)\n",
    "model.compile(\n",
    "    optimizer='sgd',\n",
    "    loss='sparse_categorical_crossentropy', \n",
    "    metrics=['accuracy'])\n",
    "  \n",
    "model.fit(train_batches, \n",
    "          epochs=1, \n",
    "          validation_data=validation_batches, \n",
    "          verbose=2,\n",
    "          callbacks=[ModelCheckpoint('saved_model', verbose=1)\n",
    "          ])"
   ]
  },
  {
   "cell_type": "code",
   "execution_count": 15,
   "metadata": {
    "execution": {
     "iopub.execute_input": "2020-12-13T07:26:55.925754Z",
     "iopub.status.busy": "2020-12-13T07:26:55.925448Z",
     "iopub.status.idle": "2020-12-13T07:27:10.424819Z",
     "shell.execute_reply": "2020-12-13T07:27:10.424175Z",
     "shell.execute_reply.started": "2020-12-13T07:26:55.925724Z"
    }
   },
   "outputs": [
    {
     "name": "stdout",
     "output_type": "stream",
     "text": [
      "Epoch 1/2\n",
      "\n",
      "Epoch 00001: saving model to model.h5\n",
      "26/26 - 7s - loss: 0.6762 - accuracy: 0.5949 - val_loss: 0.6730 - val_accuracy: 0.4780\n",
      "Epoch 2/2\n",
      "\n",
      "Epoch 00002: saving model to model.h5\n",
      "26/26 - 6s - loss: 0.6347 - accuracy: 0.6788 - val_loss: 0.6165 - val_accuracy: 0.7512\n"
     ]
    },
    {
     "data": {
      "text/plain": [
       "<tensorflow.python.keras.callbacks.History at 0x7fb00fb10df0>"
      ]
     },
     "execution_count": 15,
     "metadata": {},
     "output_type": "execute_result"
    }
   ],
   "source": [
    "model = build_model(dense_units=256)\n",
    "model.compile(\n",
    "    optimizer='sgd',\n",
    "    loss='sparse_categorical_crossentropy', \n",
    "    metrics=['accuracy'])\n",
    "  \n",
    "model.fit(\n",
    "    train_batches, \n",
    "    epochs=2, \n",
    "    validation_data=validation_batches, \n",
    "    verbose=2,\n",
    "    callbacks=[\n",
    "        ModelCheckpoint('model.h5', verbose=1)\n",
    "    ]\n",
    ")"
   ]
  },
  {
   "cell_type": "markdown",
   "metadata": {},
   "source": [
    "## Early Stopping"
   ]
  },
  {
   "cell_type": "code",
   "execution_count": 16,
   "metadata": {
    "execution": {
     "iopub.execute_input": "2020-12-13T07:39:42.329926Z",
     "iopub.status.busy": "2020-12-13T07:39:42.329690Z",
     "iopub.status.idle": "2020-12-13T07:41:22.427827Z",
     "shell.execute_reply": "2020-12-13T07:41:22.426984Z",
     "shell.execute_reply.started": "2020-12-13T07:39:42.329900Z"
    }
   },
   "outputs": [
    {
     "name": "stdout",
     "output_type": "stream",
     "text": [
      "Epoch 1/50\n",
      "26/26 - 6s - loss: 0.6776 - accuracy: 0.5827 - val_loss: 0.6761 - val_accuracy: 0.4488\n",
      "Epoch 2/50\n",
      "26/26 - 7s - loss: 0.6340 - accuracy: 0.6618 - val_loss: 0.6468 - val_accuracy: 0.5512\n",
      "Epoch 3/50\n",
      "26/26 - 7s - loss: 0.6002 - accuracy: 0.7068 - val_loss: 0.6206 - val_accuracy: 0.6000\n",
      "Epoch 4/50\n",
      "26/26 - 6s - loss: 0.5414 - accuracy: 0.7530 - val_loss: 0.5018 - val_accuracy: 0.8000\n",
      "Epoch 5/50\n",
      "26/26 - 6s - loss: 0.4803 - accuracy: 0.8005 - val_loss: 0.4179 - val_accuracy: 0.8732\n",
      "Epoch 6/50\n",
      "26/26 - 7s - loss: 0.4360 - accuracy: 0.8187 - val_loss: 0.4114 - val_accuracy: 0.8439\n",
      "Epoch 7/50\n",
      "26/26 - 6s - loss: 0.3672 - accuracy: 0.8577 - val_loss: 0.3583 - val_accuracy: 0.8683\n",
      "Epoch 8/50\n",
      "26/26 - 6s - loss: 0.3146 - accuracy: 0.8869 - val_loss: 0.2233 - val_accuracy: 0.9659\n",
      "Epoch 9/50\n",
      "26/26 - 6s - loss: 0.2410 - accuracy: 0.9173 - val_loss: 0.1796 - val_accuracy: 0.9463\n",
      "Epoch 10/50\n",
      "26/26 - 6s - loss: 0.1827 - accuracy: 0.9538 - val_loss: 0.2598 - val_accuracy: 0.8780\n",
      "Epoch 11/50\n",
      "26/26 - 7s - loss: 0.1636 - accuracy: 0.9501 - val_loss: 0.1060 - val_accuracy: 0.9902\n",
      "Epoch 12/50\n",
      "26/26 - 7s - loss: 0.1725 - accuracy: 0.9440 - val_loss: 0.1058 - val_accuracy: 0.9805\n",
      "Epoch 13/50\n",
      "26/26 - 7s - loss: 0.1194 - accuracy: 0.9635 - val_loss: 0.1476 - val_accuracy: 0.9220\n",
      "Epoch 14/50\n",
      "Restoring model weights from the end of the best epoch.\n",
      "26/26 - 7s - loss: 0.0956 - accuracy: 0.9745 - val_loss: 0.0701 - val_accuracy: 0.9902\n",
      "Epoch 00014: early stopping\n"
     ]
    },
    {
     "data": {
      "text/plain": [
       "<tensorflow.python.keras.callbacks.History at 0x7fb00ee1ecd0>"
      ]
     },
     "execution_count": 16,
     "metadata": {},
     "output_type": "execute_result"
    }
   ],
   "source": [
    "model = build_model(dense_units=256)\n",
    "model.compile(\n",
    "    optimizer='sgd',\n",
    "    loss='sparse_categorical_crossentropy', \n",
    "    metrics=['accuracy'])\n",
    "  \n",
    "model.fit(\n",
    "    train_batches,\n",
    "    epochs=50,\n",
    "    validation_data=validation_batches,\n",
    "    verbose=2,\n",
    "    callbacks=[\n",
    "        EarlyStopping(\n",
    "            patience=3,\n",
    "            min_delta=0.05,\n",
    "            baseline=0.8,\n",
    "            mode='min',\n",
    "            monitor='val_loss',\n",
    "            restore_best_weights=True,\n",
    "            verbose=1\n",
    "        )\n",
    "    ]\n",
    ")    \n",
    "    "
   ]
  },
  {
   "cell_type": "markdown",
   "metadata": {},
   "source": [
    "## CSV Logger"
   ]
  },
  {
   "cell_type": "code",
   "execution_count": 17,
   "metadata": {
    "execution": {
     "iopub.execute_input": "2020-12-13T07:42:20.895088Z",
     "iopub.status.busy": "2020-12-13T07:42:20.894847Z",
     "iopub.status.idle": "2020-12-13T07:43:00.608675Z",
     "shell.execute_reply": "2020-12-13T07:43:00.607875Z",
     "shell.execute_reply.started": "2020-12-13T07:42:20.895062Z"
    }
   },
   "outputs": [
    {
     "name": "stdout",
     "output_type": "stream",
     "text": [
      "Epoch 1/5\n",
      "26/26 [==============================] - 7s 261ms/step - loss: 0.6666 - accuracy: 0.6071 - val_loss: 0.6506 - val_accuracy: 0.7512\n",
      "Epoch 2/5\n",
      "26/26 [==============================] - 7s 267ms/step - loss: 0.6212 - accuracy: 0.7263 - val_loss: 0.5912 - val_accuracy: 0.8341\n",
      "Epoch 3/5\n",
      "26/26 [==============================] - 7s 265ms/step - loss: 0.5522 - accuracy: 0.7737 - val_loss: 0.5160 - val_accuracy: 0.7805\n",
      "Epoch 4/5\n",
      "26/26 [==============================] - 8s 293ms/step - loss: 0.4836 - accuracy: 0.7774 - val_loss: 0.4721 - val_accuracy: 0.8341\n",
      "Epoch 5/5\n",
      "26/26 [==============================] - 8s 303ms/step - loss: 0.4440 - accuracy: 0.8005 - val_loss: 0.5942 - val_accuracy: 0.6683\n"
     ]
    },
    {
     "data": {
      "text/plain": [
       "<tensorflow.python.keras.callbacks.History at 0x7fb00ef78910>"
      ]
     },
     "execution_count": 17,
     "metadata": {},
     "output_type": "execute_result"
    }
   ],
   "source": [
    "model = build_model(dense_units=256)\n",
    "model.compile(\n",
    "    optimizer='sgd',\n",
    "    loss='sparse_categorical_crossentropy', \n",
    "    metrics=['accuracy'])\n",
    "  \n",
    "csv_file = 'training.csv'\n",
    "\n",
    "model.fit(\n",
    "    train_batches, \n",
    "    epochs=5, \n",
    "    validation_data=validation_batches, \n",
    "    callbacks=[\n",
    "        CSVLogger(csv_file)\n",
    "    ]\n",
    ")"
   ]
  },
  {
   "cell_type": "code",
   "execution_count": 18,
   "metadata": {
    "execution": {
     "iopub.execute_input": "2020-12-13T07:43:00.610624Z",
     "iopub.status.busy": "2020-12-13T07:43:00.610382Z",
     "iopub.status.idle": "2020-12-13T07:43:00.630574Z",
     "shell.execute_reply": "2020-12-13T07:43:00.629494Z",
     "shell.execute_reply.started": "2020-12-13T07:43:00.610595Z"
    }
   },
   "outputs": [
    {
     "data": {
      "text/html": [
       "<div>\n",
       "<style scoped>\n",
       "    .dataframe tbody tr th:only-of-type {\n",
       "        vertical-align: middle;\n",
       "    }\n",
       "\n",
       "    .dataframe tbody tr th {\n",
       "        vertical-align: top;\n",
       "    }\n",
       "\n",
       "    .dataframe thead th {\n",
       "        text-align: right;\n",
       "    }\n",
       "</style>\n",
       "<table border=\"1\" class=\"dataframe\">\n",
       "  <thead>\n",
       "    <tr style=\"text-align: right;\">\n",
       "      <th></th>\n",
       "      <th>epoch</th>\n",
       "      <th>accuracy</th>\n",
       "      <th>loss</th>\n",
       "      <th>val_accuracy</th>\n",
       "      <th>val_loss</th>\n",
       "    </tr>\n",
       "  </thead>\n",
       "  <tbody>\n",
       "    <tr>\n",
       "      <th>0</th>\n",
       "      <td>0</td>\n",
       "      <td>0.607056</td>\n",
       "      <td>0.666567</td>\n",
       "      <td>0.751220</td>\n",
       "      <td>0.650565</td>\n",
       "    </tr>\n",
       "    <tr>\n",
       "      <th>1</th>\n",
       "      <td>1</td>\n",
       "      <td>0.726277</td>\n",
       "      <td>0.621224</td>\n",
       "      <td>0.834146</td>\n",
       "      <td>0.591156</td>\n",
       "    </tr>\n",
       "    <tr>\n",
       "      <th>2</th>\n",
       "      <td>2</td>\n",
       "      <td>0.773723</td>\n",
       "      <td>0.552151</td>\n",
       "      <td>0.780488</td>\n",
       "      <td>0.516037</td>\n",
       "    </tr>\n",
       "    <tr>\n",
       "      <th>3</th>\n",
       "      <td>3</td>\n",
       "      <td>0.777372</td>\n",
       "      <td>0.483584</td>\n",
       "      <td>0.834146</td>\n",
       "      <td>0.472144</td>\n",
       "    </tr>\n",
       "    <tr>\n",
       "      <th>4</th>\n",
       "      <td>4</td>\n",
       "      <td>0.800487</td>\n",
       "      <td>0.443994</td>\n",
       "      <td>0.668293</td>\n",
       "      <td>0.594184</td>\n",
       "    </tr>\n",
       "  </tbody>\n",
       "</table>\n",
       "</div>"
      ],
      "text/plain": [
       "   epoch  accuracy      loss  val_accuracy  val_loss\n",
       "0      0  0.607056  0.666567      0.751220  0.650565\n",
       "1      1  0.726277  0.621224      0.834146  0.591156\n",
       "2      2  0.773723  0.552151      0.780488  0.516037\n",
       "3      3  0.777372  0.483584      0.834146  0.472144\n",
       "4      4  0.800487  0.443994      0.668293  0.594184"
      ]
     },
     "execution_count": 18,
     "metadata": {},
     "output_type": "execute_result"
    }
   ],
   "source": [
    "pd.read_csv(csv_file).head()"
   ]
  },
  {
   "cell_type": "markdown",
   "metadata": {},
   "source": [
    "## Learning Rate Scheduler"
   ]
  },
  {
   "cell_type": "code",
   "execution_count": 20,
   "metadata": {
    "execution": {
     "iopub.execute_input": "2020-12-13T08:02:52.578563Z",
     "iopub.status.busy": "2020-12-13T08:02:52.578319Z",
     "iopub.status.idle": "2020-12-13T08:03:29.884221Z",
     "shell.execute_reply": "2020-12-13T08:03:29.883502Z",
     "shell.execute_reply.started": "2020-12-13T08:02:52.578537Z"
    }
   },
   "outputs": [
    {
     "name": "stdout",
     "output_type": "stream",
     "text": [
      "\n",
      "Epoch 00001: LearningRateScheduler reducing learning rate to 0.005.\n",
      "Epoch 1/5\n",
      "26/26 [==============================] - 7s 260ms/step - loss: 0.6609 - accuracy: 0.6083 - val_loss: 0.6654 - val_accuracy: 0.5171 - lr: 0.0050\n",
      "\n",
      "Epoch 00002: LearningRateScheduler reducing learning rate to 0.0025.\n",
      "Epoch 2/5\n",
      "26/26 [==============================] - 7s 260ms/step - loss: 0.6238 - accuracy: 0.6837 - val_loss: 0.6162 - val_accuracy: 0.7707 - lr: 0.0025\n",
      "\n",
      "Epoch 00003: LearningRateScheduler reducing learning rate to 0.00125.\n",
      "Epoch 3/5\n",
      "26/26 [==============================] - 7s 251ms/step - loss: 0.6056 - accuracy: 0.7494 - val_loss: 0.6099 - val_accuracy: 0.7366 - lr: 0.0012\n",
      "\n",
      "Epoch 00004: LearningRateScheduler reducing learning rate to 0.000625.\n",
      "Epoch 4/5\n",
      "26/26 [==============================] - 7s 262ms/step - loss: 0.5956 - accuracy: 0.7591 - val_loss: 0.6137 - val_accuracy: 0.7122 - lr: 6.2500e-04\n",
      "\n",
      "Epoch 00005: LearningRateScheduler reducing learning rate to 0.0003125.\n",
      "Epoch 5/5\n",
      "26/26 [==============================] - 7s 272ms/step - loss: 0.5904 - accuracy: 0.7518 - val_loss: 0.6064 - val_accuracy: 0.7317 - lr: 3.1250e-04\n"
     ]
    },
    {
     "data": {
      "text/plain": [
       "<tensorflow.python.keras.callbacks.History at 0x7fafdf24be20>"
      ]
     },
     "execution_count": 20,
     "metadata": {},
     "output_type": "execute_result"
    }
   ],
   "source": [
    "model = build_model(dense_units=256)\n",
    "model.compile(\n",
    "    optimizer='sgd',\n",
    "    loss='sparse_categorical_crossentropy', \n",
    "    metrics=['accuracy'])\n",
    "\n",
    "def step_decay(epoch):\n",
    "    initial_lr = 0.01\n",
    "    drop = 0.5\n",
    "    epochs_drop = 1\n",
    "    lr = initial_lr * math.pow(drop, math.floor((1 + epoch) / epochs_drop))\n",
    "    \n",
    "    return lr\n",
    "\n",
    "model.fit(\n",
    "    train_batches,\n",
    "    epochs=5,\n",
    "    validation_data=validation_batches,\n",
    "    callbacks=[\n",
    "        LearningRateScheduler(\n",
    "            step_decay,\n",
    "            verbose=1\n",
    "        ),\n",
    "        TensorBoard(log_dir=\"./logs_dir\")\n",
    "    ]\n",
    ")"
   ]
  },
  {
   "cell_type": "code",
   "execution_count": 22,
   "metadata": {
    "execution": {
     "iopub.execute_input": "2020-12-13T08:04:54.591893Z",
     "iopub.status.busy": "2020-12-13T08:04:54.591624Z",
     "iopub.status.idle": "2020-12-13T08:04:58.138055Z",
     "shell.execute_reply": "2020-12-13T08:04:58.137245Z",
     "shell.execute_reply.started": "2020-12-13T08:04:54.591861Z"
    }
   },
   "outputs": [
    {
     "data": {
      "application/javascript": [
       "\n",
       "        (async () => {\n",
       "            const url = await google.colab.kernel.proxyPort(6007, {\"cache\": true});\n",
       "            const iframe = document.createElement('iframe');\n",
       "            iframe.src = url;\n",
       "            iframe.setAttribute('width', '100%');\n",
       "            iframe.setAttribute('height', '800');\n",
       "            iframe.setAttribute('frameborder', 0);\n",
       "            document.body.appendChild(iframe);\n",
       "        })();\n",
       "    "
      ],
      "text/plain": [
       "<IPython.core.display.Javascript object>"
      ]
     },
     "metadata": {},
     "output_type": "display_data"
    }
   ],
   "source": [
    "%tensorboard --logdir log_dir"
   ]
  },
  {
   "cell_type": "markdown",
   "metadata": {},
   "source": [
    "## Reduce Learning Rate on Plateau"
   ]
  },
  {
   "cell_type": "code",
   "execution_count": 23,
   "metadata": {
    "execution": {
     "iopub.execute_input": "2020-12-13T08:06:38.825900Z",
     "iopub.status.busy": "2020-12-13T08:06:38.825629Z",
     "iopub.status.idle": "2020-12-13T08:18:05.542097Z",
     "shell.execute_reply": "2020-12-13T08:18:05.540491Z",
     "shell.execute_reply.started": "2020-12-13T08:06:38.825866Z"
    }
   },
   "outputs": [
    {
     "name": "stdout",
     "output_type": "stream",
     "text": [
      "Epoch 1/50\n",
      "26/26 [==============================] - 7s 267ms/step - loss: 0.6595 - accuracy: 0.5876 - val_loss: 0.6486 - val_accuracy: 0.5610 - lr: 0.0100\n",
      "Epoch 2/50\n",
      "26/26 [==============================] - 7s 261ms/step - loss: 0.5983 - accuracy: 0.6800 - val_loss: 0.5825 - val_accuracy: 0.7415 - lr: 0.0100\n",
      "Epoch 3/50\n",
      "26/26 [==============================] - 6s 248ms/step - loss: 0.5270 - accuracy: 0.7567 - val_loss: 0.5127 - val_accuracy: 0.7902 - lr: 0.0100\n",
      "Epoch 4/50\n",
      "26/26 [==============================] - 7s 255ms/step - loss: 0.5066 - accuracy: 0.7579 - val_loss: 0.4628 - val_accuracy: 0.7951 - lr: 0.0100\n",
      "Epoch 5/50\n",
      "26/26 [==============================] - 6s 245ms/step - loss: 0.4357 - accuracy: 0.7895 - val_loss: 0.4027 - val_accuracy: 0.8293 - lr: 0.0100\n",
      "Epoch 6/50\n",
      "26/26 [==============================] - ETA: 0s - loss: 0.3869 - accuracy: 0.8212\n",
      "Epoch 00006: ReduceLROnPlateau reducing learning rate to 0.0019999999552965165.\n",
      "26/26 [==============================] - 7s 253ms/step - loss: 0.3869 - accuracy: 0.8212 - val_loss: 0.5260 - val_accuracy: 0.7171 - lr: 0.0100\n",
      "Epoch 7/50\n",
      "26/26 [==============================] - 7s 263ms/step - loss: 0.3582 - accuracy: 0.8528 - val_loss: 0.3314 - val_accuracy: 0.8829 - lr: 0.0020\n",
      "Epoch 8/50\n",
      "26/26 [==============================] - 6s 246ms/step - loss: 0.3136 - accuracy: 0.8978 - val_loss: 0.3191 - val_accuracy: 0.8878 - lr: 0.0020\n",
      "Epoch 9/50\n",
      "26/26 [==============================] - 7s 273ms/step - loss: 0.2989 - accuracy: 0.9027 - val_loss: 0.3158 - val_accuracy: 0.8829 - lr: 0.0020\n",
      "Epoch 10/50\n",
      "26/26 [==============================] - 7s 258ms/step - loss: 0.2842 - accuracy: 0.9173 - val_loss: 0.2774 - val_accuracy: 0.9073 - lr: 0.0020\n",
      "Epoch 11/50\n",
      "26/26 [==============================] - ETA: 0s - loss: 0.2674 - accuracy: 0.9258\n",
      "Epoch 00011: ReduceLROnPlateau reducing learning rate to 0.001.\n",
      "26/26 [==============================] - 6s 241ms/step - loss: 0.2674 - accuracy: 0.9258 - val_loss: 0.2809 - val_accuracy: 0.8878 - lr: 0.0020\n",
      "Epoch 12/50\n",
      "26/26 [==============================] - 6s 240ms/step - loss: 0.2572 - accuracy: 0.9294 - val_loss: 0.2598 - val_accuracy: 0.9171 - lr: 0.0010\n",
      "Epoch 13/50\n",
      "26/26 [==============================] - 6s 245ms/step - loss: 0.2495 - accuracy: 0.9331 - val_loss: 0.2526 - val_accuracy: 0.9171 - lr: 0.0010\n",
      "Epoch 14/50\n",
      "26/26 [==============================] - 7s 284ms/step - loss: 0.2440 - accuracy: 0.9355 - val_loss: 0.2433 - val_accuracy: 0.9366 - lr: 0.0010\n",
      "Epoch 15/50\n",
      "26/26 [==============================] - 7s 263ms/step - loss: 0.2380 - accuracy: 0.9392 - val_loss: 0.2341 - val_accuracy: 0.9415 - lr: 0.0010\n",
      "Epoch 16/50\n",
      "26/26 [==============================] - 7s 284ms/step - loss: 0.2303 - accuracy: 0.9404 - val_loss: 0.2276 - val_accuracy: 0.9463 - lr: 0.0010\n",
      "Epoch 17/50\n",
      "26/26 [==============================] - 8s 323ms/step - loss: 0.2238 - accuracy: 0.9416 - val_loss: 0.2155 - val_accuracy: 0.9561 - lr: 0.0010\n",
      "Epoch 18/50\n",
      "26/26 [==============================] - 9s 356ms/step - loss: 0.2183 - accuracy: 0.9465 - val_loss: 0.2126 - val_accuracy: 0.9463 - lr: 0.0010\n",
      "Epoch 19/50\n",
      "26/26 [==============================] - 12s 451ms/step - loss: 0.2114 - accuracy: 0.9513 - val_loss: 0.2033 - val_accuracy: 0.9610 - lr: 0.0010\n",
      "Epoch 20/50\n",
      "26/26 [==============================] - 18s 694ms/step - loss: 0.2067 - accuracy: 0.9550 - val_loss: 0.2014 - val_accuracy: 0.9463 - lr: 0.0010\n",
      "Epoch 21/50\n",
      "26/26 [==============================] - 39s 2s/step - loss: 0.2000 - accuracy: 0.9526 - val_loss: 0.1921 - val_accuracy: 0.9659 - lr: 0.0010\n",
      "Epoch 22/50\n",
      "26/26 [==============================] - ETA: 0s - loss: 0.1952 - accuracy: 0.9635\n",
      "Epoch 00022: ReduceLROnPlateau reducing learning rate to 0.001.\n",
      "26/26 [==============================] - 23s 900ms/step - loss: 0.1952 - accuracy: 0.9635 - val_loss: 0.1941 - val_accuracy: 0.9512 - lr: 0.0010\n",
      "Epoch 23/50\n",
      "26/26 [==============================] - 16s 600ms/step - loss: 0.1893 - accuracy: 0.9574 - val_loss: 0.1813 - val_accuracy: 0.9659 - lr: 0.0010\n",
      "Epoch 24/50\n",
      "26/26 [==============================] - 13s 513ms/step - loss: 0.1827 - accuracy: 0.9611 - val_loss: 0.1766 - val_accuracy: 0.9659 - lr: 0.0010\n",
      "Epoch 25/50\n",
      "26/26 [==============================] - ETA: 0s - loss: 0.1790 - accuracy: 0.9659\n",
      "Epoch 00025: ReduceLROnPlateau reducing learning rate to 0.001.\n",
      "26/26 [==============================] - 12s 473ms/step - loss: 0.1790 - accuracy: 0.9659 - val_loss: 0.1905 - val_accuracy: 0.9415 - lr: 0.0010\n",
      "Epoch 26/50\n",
      "26/26 [==============================] - 12s 472ms/step - loss: 0.1744 - accuracy: 0.9647 - val_loss: 0.1756 - val_accuracy: 0.9512 - lr: 0.0010\n",
      "Epoch 27/50\n",
      "26/26 [==============================] - 11s 436ms/step - loss: 0.1684 - accuracy: 0.9659 - val_loss: 0.1626 - val_accuracy: 0.9707 - lr: 0.0010\n",
      "Epoch 28/50\n",
      "26/26 [==============================] - 12s 443ms/step - loss: 0.1639 - accuracy: 0.9647 - val_loss: 0.1580 - val_accuracy: 0.9756 - lr: 0.0010\n",
      "Epoch 29/50\n",
      "26/26 [==============================] - ETA: 0s - loss: 0.1589 - accuracy: 0.9720\n",
      "Epoch 00029: ReduceLROnPlateau reducing learning rate to 0.001.\n",
      "26/26 [==============================] - 13s 504ms/step - loss: 0.1589 - accuracy: 0.9720 - val_loss: 0.1587 - val_accuracy: 0.9659 - lr: 0.0010\n",
      "Epoch 30/50\n",
      "26/26 [==============================] - ETA: 0s - loss: 0.1556 - accuracy: 0.9757\n",
      "Epoch 00030: ReduceLROnPlateau reducing learning rate to 0.001.\n",
      "26/26 [==============================] - 15s 569ms/step - loss: 0.1556 - accuracy: 0.9757 - val_loss: 0.1618 - val_accuracy: 0.9463 - lr: 0.0010\n",
      "Epoch 31/50\n",
      "26/26 [==============================] - 13s 510ms/step - loss: 0.1514 - accuracy: 0.9732 - val_loss: 0.1514 - val_accuracy: 0.9659 - lr: 0.0010\n",
      "Epoch 32/50\n",
      "26/26 [==============================] - ETA: 0s - loss: 0.1480 - accuracy: 0.9757\n",
      "Epoch 00032: ReduceLROnPlateau reducing learning rate to 0.001.\n",
      "26/26 [==============================] - 16s 623ms/step - loss: 0.1480 - accuracy: 0.9757 - val_loss: 0.1521 - val_accuracy: 0.9610 - lr: 0.0010\n",
      "Epoch 33/50\n",
      "26/26 [==============================] - 17s 643ms/step - loss: 0.1444 - accuracy: 0.9757 - val_loss: 0.1450 - val_accuracy: 0.9707 - lr: 0.0010\n",
      "Epoch 34/50\n",
      "26/26 [==============================] - 19s 734ms/step - loss: 0.1397 - accuracy: 0.9769 - val_loss: 0.1378 - val_accuracy: 0.9707 - lr: 0.0010\n",
      "Epoch 35/50\n",
      "26/26 [==============================] - ETA: 0s - loss: 0.1367 - accuracy: 0.9805\n",
      "Epoch 00035: ReduceLROnPlateau reducing learning rate to 0.001.\n",
      "26/26 [==============================] - 16s 621ms/step - loss: 0.1367 - accuracy: 0.9805 - val_loss: 0.1441 - val_accuracy: 0.9659 - lr: 0.0010\n",
      "Epoch 36/50\n",
      "26/26 [==============================] - ETA: 0s - loss: 0.1324 - accuracy: 0.9805\n",
      "Epoch 00036: ReduceLROnPlateau reducing learning rate to 0.001.\n",
      "26/26 [==============================] - 12s 477ms/step - loss: 0.1324 - accuracy: 0.9805 - val_loss: 0.1403 - val_accuracy: 0.9707 - lr: 0.0010\n",
      "Epoch 37/50\n",
      "26/26 [==============================] - 15s 581ms/step - loss: 0.1292 - accuracy: 0.9793 - val_loss: 0.1286 - val_accuracy: 0.9756 - lr: 0.0010\n",
      "Epoch 38/50\n",
      "26/26 [==============================] - ETA: 0s - loss: 0.1279 - accuracy: 0.9805\n",
      "Epoch 00038: ReduceLROnPlateau reducing learning rate to 0.001.\n",
      "26/26 [==============================] - 16s 606ms/step - loss: 0.1279 - accuracy: 0.9805 - val_loss: 0.1391 - val_accuracy: 0.9561 - lr: 0.0010\n",
      "Epoch 39/50\n",
      "26/26 [==============================] - ETA: 0s - loss: 0.1243 - accuracy: 0.9830\n",
      "Epoch 00039: ReduceLROnPlateau reducing learning rate to 0.001.\n",
      "26/26 [==============================] - 15s 566ms/step - loss: 0.1243 - accuracy: 0.9830 - val_loss: 0.1330 - val_accuracy: 0.9707 - lr: 0.0010\n",
      "Epoch 40/50\n",
      "26/26 [==============================] - 15s 590ms/step - loss: 0.1210 - accuracy: 0.9818 - val_loss: 0.1266 - val_accuracy: 0.9707 - lr: 0.0010\n",
      "Epoch 41/50\n",
      "26/26 [==============================] - ETA: 0s - loss: 0.1194 - accuracy: 0.9842\n",
      "Epoch 00041: ReduceLROnPlateau reducing learning rate to 0.001.\n",
      "26/26 [==============================] - 14s 552ms/step - loss: 0.1194 - accuracy: 0.9842 - val_loss: 0.1283 - val_accuracy: 0.9707 - lr: 0.0010\n",
      "Epoch 42/50\n",
      "26/26 [==============================] - 15s 574ms/step - loss: 0.1157 - accuracy: 0.9830 - val_loss: 0.1243 - val_accuracy: 0.9707 - lr: 0.0010\n",
      "Epoch 43/50\n",
      "26/26 [==============================] - 16s 616ms/step - loss: 0.1141 - accuracy: 0.9854 - val_loss: 0.1144 - val_accuracy: 0.9756 - lr: 0.0010\n",
      "Epoch 44/50\n",
      "26/26 [==============================] - ETA: 0s - loss: 0.1104 - accuracy: 0.9830\n",
      "Epoch 00044: ReduceLROnPlateau reducing learning rate to 0.001.\n",
      "26/26 [==============================] - 15s 582ms/step - loss: 0.1104 - accuracy: 0.9830 - val_loss: 0.1155 - val_accuracy: 0.9707 - lr: 0.0010\n",
      "Epoch 45/50\n",
      "26/26 [==============================] - ETA: 0s - loss: 0.1080 - accuracy: 0.9830\n",
      "Epoch 00045: ReduceLROnPlateau reducing learning rate to 0.001.\n",
      "26/26 [==============================] - 15s 591ms/step - loss: 0.1080 - accuracy: 0.9830 - val_loss: 0.1238 - val_accuracy: 0.9659 - lr: 0.0010\n",
      "Epoch 46/50\n",
      "26/26 [==============================] - 15s 572ms/step - loss: 0.1054 - accuracy: 0.9842 - val_loss: 0.1106 - val_accuracy: 0.9707 - lr: 0.0010\n",
      "Epoch 47/50\n",
      "26/26 [==============================] - 15s 561ms/step - loss: 0.1036 - accuracy: 0.9830 - val_loss: 0.1073 - val_accuracy: 0.9756 - lr: 0.0010\n",
      "Epoch 48/50\n",
      "26/26 [==============================] - 14s 540ms/step - loss: 0.1011 - accuracy: 0.9830 - val_loss: 0.1048 - val_accuracy: 0.9805 - lr: 0.0010\n",
      "Epoch 49/50\n",
      "26/26 [==============================] - 15s 578ms/step - loss: 0.0980 - accuracy: 0.9854 - val_loss: 0.1024 - val_accuracy: 0.9805 - lr: 0.0010\n",
      "Epoch 50/50\n",
      "26/26 [==============================] - 14s 533ms/step - loss: 0.0951 - accuracy: 0.9842 - val_loss: 0.1010 - val_accuracy: 0.9756 - lr: 0.0010\n"
     ]
    },
    {
     "data": {
      "text/plain": [
       "<tensorflow.python.keras.callbacks.History at 0x7fafdf115640>"
      ]
     },
     "execution_count": 23,
     "metadata": {},
     "output_type": "execute_result"
    }
   ],
   "source": [
    "model = build_model(dense_units=256)\n",
    "model.compile(\n",
    "    optimizer='sgd',\n",
    "    loss='sparse_categorical_crossentropy', \n",
    "    metrics=['accuracy'])\n",
    "\n",
    "model.fit(\n",
    "    train_batches,\n",
    "    epochs=50,\n",
    "    validation_data=validation_batches,\n",
    "    callbacks=[\n",
    "        ReduceLROnPlateau(\n",
    "            monitor='val_loss',\n",
    "            factor=0.2,\n",
    "            verbose=1,\n",
    "            patience=1,\n",
    "            min_lr=0.001\n",
    "        ),\n",
    "        TensorBoard(log_dir='./log_dir')\n",
    "    ]\n",
    ")"
   ]
  },
  {
   "cell_type": "code",
   "execution_count": 26,
   "metadata": {
    "execution": {
     "iopub.execute_input": "2020-12-13T09:18:19.753018Z",
     "iopub.status.busy": "2020-12-13T09:18:19.752759Z",
     "iopub.status.idle": "2020-12-13T09:18:23.292067Z",
     "shell.execute_reply": "2020-12-13T09:18:23.291233Z",
     "shell.execute_reply.started": "2020-12-13T09:18:19.752989Z"
    }
   },
   "outputs": [
    {
     "data": {
      "application/javascript": [
       "\n",
       "        (async () => {\n",
       "            const url = await google.colab.kernel.proxyPort(6006, {\"cache\": true});\n",
       "            const iframe = document.createElement('iframe');\n",
       "            iframe.src = url;\n",
       "            iframe.setAttribute('width', '100%');\n",
       "            iframe.setAttribute('height', '800');\n",
       "            iframe.setAttribute('frameborder', 0);\n",
       "            document.body.appendChild(iframe);\n",
       "        })();\n",
       "    "
      ],
      "text/plain": [
       "<IPython.core.display.Javascript object>"
      ]
     },
     "metadata": {},
     "output_type": "display_data"
    }
   ],
   "source": [
    "%tensorboard --logdir log_dir"
   ]
  },
  {
   "cell_type": "code",
   "execution_count": null,
   "metadata": {},
   "outputs": [],
   "source": []
  }
 ],
 "metadata": {
  "kernelspec": {
   "display_name": "Python 3",
   "language": "python",
   "name": "python3"
  },
  "language_info": {
   "codemirror_mode": {
    "name": "ipython",
    "version": 3
   },
   "file_extension": ".py",
   "mimetype": "text/x-python",
   "name": "python",
   "nbconvert_exporter": "python",
   "pygments_lexer": "ipython3",
   "version": "3.8.3"
  }
 },
 "nbformat": 4,
 "nbformat_minor": 4
}
