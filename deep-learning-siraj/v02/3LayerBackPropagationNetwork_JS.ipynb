{
 "cells": [
  {
   "cell_type": "code",
   "execution_count": 1,
   "metadata": {},
   "outputs": [
    {
     "data": {
      "text/plain": [
       "undefined"
      ]
     },
     "execution_count": 1,
     "metadata": {},
     "output_type": "execute_result"
    }
   ],
   "source": [
    "let nj = require('numjs');"
   ]
  },
  {
   "cell_type": "code",
   "execution_count": 3,
   "metadata": {},
   "outputs": [
    {
     "data": {
      "text/plain": [
       "[Function: NeuralNetwork]"
      ]
     },
     "execution_count": 3,
     "metadata": {},
     "output_type": "execute_result"
    }
   ],
   "source": [
    "class NeuralNetwork {\n",
    "    constructor() {\n",
    "        this.weights = {};\n",
    "        this.numLayers = 1;\n",
    "        this.adjustments = {};\n",
    "    }\n",
    "    \n",
    "    addLayer(shape) {\n",
    "        // Create weights with shape specified + biases\n",
    "        let stackWt1 = nj.subtract(nj.multiply(nj.random(shape), 2), 1);\n",
    "        let stackWt2 = nj.subtract(nj.multiply(nj.random(1, shape[1]), 2), 1);\n",
    "        let stackedWeights = nj.concatenate(\n",
    "            stackWt1.T,\n",
    "            stackWt2.reshape(shape[1], 1)\n",
    "        ).T;\n",
    "        \n",
    "        this.weights[this.numLayers] = stackedWeights;\n",
    "        this.adjustments[this.numLayers] = nj.zeros(shape);\n",
    "        this.numLayers += 1;\n",
    "    }\n",
    "    \n",
    "    // The sigmoid function, which describes an S shaped curve\n",
    "    // We pass the weighted sum of the inputs thtrough this funciton to \n",
    "    // normalize them between 0 and 1\n",
    "    __sigmoid(x) {\n",
    "        return nj.sigmoid(x);\n",
    "    }\n",
    "    \n",
    "    // The derivative of the Sigmoid function\n",
    "    // This is the gradient of the Sigmoid curve\n",
    "    // It indicates how confident we are about the existing weight\n",
    "    __dSigmoid(x) {\n",
    "        return nj.multiply(x, nj.add(nj.multiply(x, -1), 1));\n",
    "    }\n",
    "    \n",
    "    predict() {\n",
    "        for(let i=1; i<this.numLayers+1; i++) {\n",
    "            let data = nj.add(\n",
    "                nj.dot(data, nn.weights[i-1].T.slice([-1]).T),\n",
    "                this.weights[1].slice(-1)\n",
    "            );\n",
    "            data = this.__sigmoid(data)\n",
    "        }\n",
    "        return data;\n",
    "    }\n",
    "    \n",
    "    forwardPropagate(data) {\n",
    "        let activataionValues = [];\n",
    "        activationValues[1] = data;\n",
    "        \n",
    "        // for \n",
    "        \n",
    "        \n",
    "    }\n",
    "    \n",
    "    simpleError(outputs, targets) {\n",
    "        return nj.add(targets, nj.multiply(outputs, -1));\n",
    "    }\n",
    "    \n",
    "    sumSquaredError(outputs, targets) {\n",
    "        let simpError = nj.power(this.simpleError(outputs, targets), 2);\n",
    "        let meanError = nj.mean(nj.sum(simpError));\n",
    "        return nj.multiply(meanError, 0.5);\n",
    "    }\n",
    "    \n",
    "    backPropagate() {\n",
    "        \n",
    "    }\n",
    "    \n",
    "    gradientDescent() {\n",
    "        \n",
    "    }\n",
    "    \n",
    "    train() {\n",
    "        \n",
    "    }\n",
    "}"
   ]
  },
  {
   "cell_type": "code",
   "execution_count": 4,
   "metadata": {},
   "outputs": [
    {
     "data": {
      "text/plain": [
       "undefined"
      ]
     },
     "execution_count": 4,
     "metadata": {},
     "output_type": "execute_result"
    }
   ],
   "source": [
    "let nn = new NeuralNetwork();\n",
    "nn.addLayer([5, 5]);"
   ]
  }
 ],
 "metadata": {
  "kernelspec": {
   "display_name": "Javascript (Node.js)",
   "language": "javascript",
   "name": "javascript"
  },
  "language_info": {
   "file_extension": ".js",
   "mimetype": "application/javascript",
   "name": "javascript",
   "version": "6.10.3"
  }
 },
 "nbformat": 4,
 "nbformat_minor": 2
}
