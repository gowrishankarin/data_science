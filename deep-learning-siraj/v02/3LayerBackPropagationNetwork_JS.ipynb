{
 "cells": [
  {
   "cell_type": "code",
   "execution_count": null,
   "metadata": {
    "collapsed": false,
    "deletable": true,
    "editable": true
   },
   "outputs": [],
   "source": [
    "let nj = require('numjs');"
   ]
  },
  {
   "cell_type": "code",
   "execution_count": null,
   "metadata": {
    "collapsed": true,
    "deletable": true,
    "editable": true
   },
   "outputs": [],
   "source": [
    "class NeuralNetwork {\n",
    "    constructor() {\n",
    "        this.weights = {};\n",
    "        this.numLayers = 1;\n",
    "        this.adjustments = {};\n",
    "    }\n",
    "    \n",
    "    addLayer(shape) {\n",
    "        \n",
    "    }\n",
    "    \n",
    "    // The sigmoid function, which describes an S shaped curve\n",
    "    // We pass the weighted sum of the inputs thtrough this funciton to \n",
    "    // normalize them between 0 and 1\n",
    "    __sigmoid(x) {\n",
    "        return nj.sigmoid(x);\n",
    "    }\n",
    "    \n",
    "    // The derivative of the Sigmoid function\n",
    "    // This is the gradient of the Sigmoid curve\n",
    "    // It indicates how confident we are about the existing weight\n",
    "    __dSigmoid(x) {\n",
    "        return nj.multiply(x, nj.add(nj.multiply(x, -1), 1));\n",
    "    }\n",
    "    \n",
    "    predict() {\n",
    "        \n",
    "    }\n",
    "    \n",
    "    forwardPropagate(data) {\n",
    "        let activataionValues = [];\n",
    "        activationValues[1] = data;\n",
    "        \n",
    "        for \n",
    "        \n",
    "        \n",
    "    }\n",
    "    \n",
    "    simpleError(outputs, targets) {\n",
    "        return nj.add(targets, nj.multiply(outputs, -1));\n",
    "    }\n",
    "    \n",
    "    sumSquaredError(outputs, targets) {\n",
    "        let simpError = nj.power(this.simpleError(outputs, targets), 2);\n",
    "        let meanError = nj.mean(nj.sum(simpError));\n",
    "        return nj.multiply(meanError, 0.5);\n",
    "    }\n",
    "    \n",
    "    backPropagate() {\n",
    "        \n",
    "    }\n",
    "    \n",
    "    gradientDescent() {\n",
    "        \n",
    "    }\n",
    "    \n",
    "    train() {\n",
    "        \n",
    "    }\n",
    "}"
   ]
  }
 ],
 "metadata": {
  "kernelspec": {
   "display_name": "Javascript (Node.js)",
   "language": "javascript",
   "name": "javascript"
  },
  "language_info": {
   "file_extension": ".js",
   "mimetype": "application/javascript",
   "name": "javascript",
   "version": "6.10.3"
  }
 },
 "nbformat": 4,
 "nbformat_minor": 2
}
