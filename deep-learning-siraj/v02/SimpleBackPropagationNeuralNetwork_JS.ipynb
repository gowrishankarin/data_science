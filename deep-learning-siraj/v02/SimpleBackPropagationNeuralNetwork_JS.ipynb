{
 "cells": [
  {
   "cell_type": "code",
   "execution_count": 1,
   "metadata": {
    "collapsed": false,
    "deletable": true,
    "editable": true
   },
   "outputs": [
    {
     "data": {
      "text/plain": [
       "undefined"
      ]
     },
     "execution_count": 1,
     "metadata": {},
     "output_type": "execute_result"
    }
   ],
   "source": [
    "let nj = require('numjs');"
   ]
  },
  {
   "cell_type": "code",
   "execution_count": 2,
   "metadata": {
    "collapsed": false,
    "deletable": true,
    "editable": true
   },
   "outputs": [
    {
     "data": {
      "text/plain": [
       "[Function: SimpleBackPropagationNN]"
      ]
     },
     "execution_count": 2,
     "metadata": {},
     "output_type": "execute_result"
    }
   ],
   "source": [
    "class SimpleBackPropagationNN {\n",
    "    constructor(inputTrainingSet, outputTrainingSet, numIterations) {\n",
    "        let rand = nj.random([inputTrainingSet.shape[1], outputTrainingSet.shape[1]]);\n",
    "        \n",
    "        // WE model a single neuron, wuth 3 input connections and 1 output connection\n",
    "        // We assign random weights to a 3 x 1 matrix, with values in the range -1 to 1\n",
    "        // and mean 0.\n",
    "        \n",
    "        this.synapticWeights = nj.add(nj.multiply(rand, 2), -1);\n",
    "        \n",
    "        this.inputTrainingSet = inputTrainingSet;\n",
    "        this.outputTrainingSet = outputTrainingSet;\n",
    "        this.numIterations = numIterations;\n",
    "    }\n",
    "    \n",
    "    // The sigmoid function, which describes an S shaped curve\n",
    "    // We pass the weighted sum of the inputs thtrough this funciton to \n",
    "    // normalize them between 0 and 1\n",
    "    __sigmoid(x) {\n",
    "        return nj.sigmoid(x);\n",
    "    }\n",
    "    \n",
    "    // The derivative of the Sigmoid function\n",
    "    // This is the gradient of the Sigmoid curve\n",
    "    // It indicates how confident we are about the existing weight\n",
    "    __dSigmoid(x) {\n",
    "        return nj.multiply(x, nj.add(nj.multiply(x, -1), 1));\n",
    "    }\n",
    "    \n",
    "    // WE train the neural network through a process of trial and error.\n",
    "    // Adjusting the synaptic weights each time\n",
    "    train() {\n",
    "        for(let i = 0; i < this.numIterations; i++) {\n",
    "            // Pass the training set throught our neural network (a single neuron).\n",
    "            let output = this.think(this.inputTrainingSet);\n",
    "            \n",
    "            // Calculate the error (The difference between the desired output \n",
    "            // and the predicted output)\n",
    "            let errOut = nj.multiply(\n",
    "                nj.add(\n",
    "                    this.outputTrainingSet,  \n",
    "                    nj.multiply(output, -1)\n",
    "                ), \n",
    "                this.__dSigmoid(output)\n",
    "            );\n",
    "            \n",
    "            // Multiply the error by the input and again by the gradient of the Sigmoid curve\n",
    "            // This means less confident weights are adjested more\n",
    "            // This means inputs, which are zero, do not cause changes to the weights\n",
    "            let errAdjust = nj.dot(this.inputTrainingSet.T, errOut);\n",
    "            \n",
    "            // Adjust the weights \n",
    "            this.synapticWeights = nj.add(this.synapticWeights, errAdjust);\n",
    "        }\n",
    "    }\n",
    "    \n",
    "    // The neural network thinks\n",
    "    think(input) {\n",
    "        // PAss inputs through our neural network (our single neuron)\n",
    "        return this.__sigmoid(\n",
    "            nj.dot(\n",
    "                input, \n",
    "                this.synapticWeights\n",
    "            )\n",
    "        );\n",
    "    }\n",
    "}"
   ]
  },
  {
   "cell_type": "code",
   "execution_count": 3,
   "metadata": {
    "collapsed": false,
    "deletable": true,
    "editable": true
   },
   "outputs": [
    {
     "data": {
      "text/plain": [
       "undefined"
      ]
     },
     "execution_count": 3,
     "metadata": {},
     "output_type": "execute_result"
    }
   ],
   "source": [
    "function makeNN(inputTrainingSet, outputTrainingSet, numIterations) {\n",
    "\n",
    "    let nn = new SimpleBackPropagationNN(\n",
    "        inputTrainingSet, outputTrainingSet, numIterations\n",
    "    );\n",
    "    console.log('Random Start Synaptic Weigths:');\n",
    "    console.log(nn.synapticWeights);\n",
    "    \n",
    "    nn.train();\n",
    "    \n",
    "    console.log('Synaptic Weigths After Training:');\n",
    "    console.log(nn.synapticWeights);\n",
    "\n",
    "    return nn;\n",
    "}"
   ]
  },
  {
   "cell_type": "code",
   "execution_count": 4,
   "metadata": {
    "collapsed": false,
    "deletable": true,
    "editable": true
   },
   "outputs": [
    {
     "data": {
      "text/plain": [
       "undefined"
      ]
     },
     "execution_count": 4,
     "metadata": {},
     "output_type": "execute_result"
    }
   ],
   "source": [
    "// The training set. We have 4 examples, each consist of 3 input values\n",
    "// and 1 output values.    \n",
    "let inputTrainingSet = nj.array(\n",
    "    [[0, 0, 1], \n",
    "    [1, 1, 1], \n",
    "    [1, 0, 1], \n",
    "    [0, 1, 1]]\n",
    ");\n",
    "let outputTrainingSet = nj.array([[0, 1, 1, 0]]).T;\n",
    "    "
   ]
  },
  {
   "cell_type": "code",
   "execution_count": 5,
   "metadata": {
    "collapsed": false
   },
   "outputs": [
    {
     "name": "stdout",
     "output_type": "stream",
     "text": [
      "Random Start Synaptic Weigths:\n",
      "array([[ 0.50655],\n",
      "       [-0.38296],\n",
      "       [-0.42984]], dtype=float64)\n",
      "Synaptic Weigths After Training:\n",
      "array([[ 9.67317],\n",
      "       [-0.20849],\n",
      "       [-4.62934]], dtype=float64)\n",
      "Considering a new situtation [1, 0, 0] --> ?: \n",
      "array([ 0.99994])\n"
     ]
    },
    {
     "data": {
      "text/plain": [
       "undefined"
      ]
     },
     "execution_count": 5,
     "metadata": {},
     "output_type": "execute_result"
    }
   ],
   "source": [
    "// train the neural network using a training set\n",
    "// Do it 10000 times and make small adjustments each time\n",
    "let numIterations = 10000;\n",
    "\n",
    "let nn = makeNN(inputTrainingSet, outputTrainingSet, numIterations);\n",
    "console.log('Considering a new situtation [1, 0, 0] --> ?: ');\n",
    "console.log(nn.think(nj.array([1, 0, 0])))"
   ]
  },
  {
   "cell_type": "code",
   "execution_count": null,
   "metadata": {
    "collapsed": true
   },
   "outputs": [],
   "source": []
  }
 ],
 "metadata": {
  "kernelspec": {
   "display_name": "Javascript (Node.js)",
   "language": "javascript",
   "name": "javascript"
  },
  "language_info": {
   "file_extension": ".js",
   "mimetype": "application/javascript",
   "name": "javascript",
   "version": "6.10.3"
  }
 },
 "nbformat": 4,
 "nbformat_minor": 2
}
