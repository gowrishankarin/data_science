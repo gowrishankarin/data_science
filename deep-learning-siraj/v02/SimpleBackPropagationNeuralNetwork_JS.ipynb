{
 "cells": [
  {
   "cell_type": "code",
   "execution_count": null,
   "metadata": {
    "collapsed": false,
    "deletable": true,
    "editable": true
   },
   "outputs": [],
   "source": [
    "let nj = require('numjs');"
   ]
  },
  {
   "cell_type": "code",
   "execution_count": null,
   "metadata": {
    "collapsed": false,
    "deletable": true,
    "editable": true
   },
   "outputs": [],
   "source": [
    "class SimpleBackPropagationNN {\n",
    "    constructor(inputTrainingSet, outputTrainingSet, numIterations) {\n",
    "        let rand = nj.random([3, 1]);\n",
    "        this.synapticWeights = nj.add(nj.multiply(rand, 2), -1);\n",
    "        this.inputTrainingSet = inputTrainingSet;\n",
    "        this.outputTrainingSet = outputTrainingSet;\n",
    "        this.numIterations = numIterations;\n",
    "    }\n",
    "    \n",
    "    __sigmoid(x) {\n",
    "        return nj.sigmoid(x);\n",
    "    }\n",
    "    \n",
    "    __dSigmoid(x) {\n",
    "        return nj.multiply(x, nj.add(nj.multiply(x, -1), 1));\n",
    "    }\n",
    "    \n",
    "    train() {\n",
    "        for(let i = 0; i < this.numIterations; i++) {\n",
    "            \n",
    "            let output = this.think();\n",
    "            // console.log(output);\n",
    "            // console.log(this.__dSigmoid(output));\n",
    "            // console.log(nj.add(this.outputTrainingSet,  nj.multiply(output, -1)));\n",
    "            \n",
    "            let errOut = nj.multiply(\n",
    "                nj.add(\n",
    "                    this.outputTrainingSet,  \n",
    "                    nj.multiply(output, -1)\n",
    "                ), \n",
    "                this.__dSigmoid(output)\n",
    "            );\n",
    "            \n",
    "            // console.log(errOut);\n",
    "            \n",
    "            let errAdjust = nj.dot(this.inputTrainingSet.T, errOut);\n",
    "            \n",
    "            this.synapticWeights = nj.add(this.synapticWeights, errAdjust);\n",
    "            \n",
    "           // console.log(this.synapticWeights);\n",
    "        }\n",
    "    }\n",
    "    \n",
    "    think() {\n",
    "        return this.__sigmoid(\n",
    "            nj.dot(\n",
    "                this.inputTrainingSet, \n",
    "                this.synapticWeights\n",
    "            )\n",
    "        );\n",
    "    }\n",
    "}"
   ]
  },
  {
   "cell_type": "code",
   "execution_count": null,
   "metadata": {
    "collapsed": false,
    "deletable": true,
    "editable": true
   },
   "outputs": [],
   "source": [
    "function makeNN(inputTrainingSet, outputTrainingSet, numIterations) {\n",
    "\n",
    "    let nn = new SimpleBackPropagationNN(\n",
    "        inputTrainingSet, outputTrainingSet, numIterations\n",
    "    );\n",
    "    console.log('Random Start Synaptic Weigths:');\n",
    "    console.log(nn.synapticWeights);\n",
    "    \n",
    "    nn.train();\n",
    "    \n",
    "    console.log('Synaptic Weigths After Training:');\n",
    "    console.log(nn.synapticWeights);\n",
    "\n",
    "    return nn;\n",
    "}"
   ]
  },
  {
   "cell_type": "code",
   "execution_count": null,
   "metadata": {
    "collapsed": false,
    "deletable": true,
    "editable": true
   },
   "outputs": [],
   "source": [
    "let inputTrainingSet = nj.array(\n",
    "    [[0, 0, 1], \n",
    "    [1, 1, 1], \n",
    "    [1, 0, 1], \n",
    "    [0, 1, 1]]\n",
    ");\n",
    "let outputTrainingSet = nj.array([[0, 1, 1, 0]]).T;\n",
    "    "
   ]
  },
  {
   "cell_type": "code",
   "execution_count": null,
   "metadata": {
    "collapsed": false
   },
   "outputs": [],
   "source": [
    "let numIterations = 100;\n",
    "\n",
    "let nn = makeNN(inputTrainingSet, outputTrainingSet, numIterations);\n",
    "console.log('Considering a new situtation [1, 0, 0] --> ?: ');\n",
    "console.log(nn.think(nj.array([[1, 0, 0]])))"
   ]
  },
  {
   "cell_type": "code",
   "execution_count": null,
   "metadata": {
    "collapsed": false
   },
   "outputs": [],
   "source": [
    "numIterations = 10000;\n",
    "\n",
    "nn = makeNN(inputTrainingSet, outputTrainingSet, numIterations);\n",
    "console.log('Considering a new situtation [1, 0, 0] --> ?: ');\n",
    "console.log(nn.think(nj.array([[0, 0, 1]])))"
   ]
  },
  {
   "cell_type": "code",
   "execution_count": null,
   "metadata": {
    "collapsed": false
   },
   "outputs": [],
   "source": [
    "console.log(nn.think(nj.array([[1, 0, 0]])))"
   ]
  },
  {
   "cell_type": "code",
   "execution_count": null,
   "metadata": {
    "collapsed": false
   },
   "outputs": [],
   "source": [
    "nj.sigmoid(nj.dot(inputTrainingSet, nn.synapticWeights))"
   ]
  },
  {
   "cell_type": "code",
   "execution_count": null,
   "metadata": {
    "collapsed": false
   },
   "outputs": [],
   "source": [
    "nn.__sigmoid(nj.dot(inputTrainingSet, nn.synapticWeights))"
   ]
  },
  {
   "cell_type": "code",
   "execution_count": null,
   "metadata": {
    "collapsed": true
   },
   "outputs": [],
   "source": []
  }
 ],
 "metadata": {
  "kernelspec": {
   "display_name": "Javascript (Node.js)",
   "language": "javascript",
   "name": "javascript"
  },
  "language_info": {
   "file_extension": ".js",
   "mimetype": "application/javascript",
   "name": "javascript",
   "version": "6.10.3"
  }
 },
 "nbformat": 4,
 "nbformat_minor": 2
}
