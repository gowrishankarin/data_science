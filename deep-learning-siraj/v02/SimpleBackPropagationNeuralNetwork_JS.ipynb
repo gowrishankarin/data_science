{
 "cells": [
  {
   "cell_type": "code",
   "execution_count": 1,
   "metadata": {},
   "outputs": [
    {
     "data": {
      "text/plain": [
       "undefined"
      ]
     },
     "execution_count": 1,
     "metadata": {},
     "output_type": "execute_result"
    }
   ],
   "source": [
    "let nj = require('numjs');"
   ]
  },
  {
   "cell_type": "code",
   "execution_count": 2,
   "metadata": {},
   "outputs": [
    {
     "data": {
      "text/plain": [
       "[Function: SimpleBackPropagationNN]"
      ]
     },
     "execution_count": 2,
     "metadata": {},
     "output_type": "execute_result"
    }
   ],
   "source": [
    "class SimpleBackPropagationNN {\n",
    "    constructor() {\n",
    "        let rand = nj.random([3, 1]);\n",
    "        this.synapticWeights = nj.add(nj.multiply(rand, 2), -1);\n",
    "    }\n",
    "    \n",
    "    __sigmoid(x) {\n",
    "        return 1/(1 + nj.exp(-x));\n",
    "    }\n",
    "    \n",
    "    __dSigmoid(x) {\n",
    "        return x * (1 - x);\n",
    "    }\n",
    "    \n",
    "    train(inputTrainingSet, outputTrainingSet, numIterations) {\n",
    "        \n",
    "    }\n",
    "    \n",
    "    think(inputs) {\n",
    "        \n",
    "        return this.__sigmoid(nj.dot(inputs, this.synapticWeights));\n",
    "    }\n",
    "}"
   ]
  },
  {
   "cell_type": "code",
   "execution_count": 3,
   "metadata": {},
   "outputs": [
    {
     "data": {
      "text/plain": [
       "undefined"
      ]
     },
     "execution_count": 3,
     "metadata": {},
     "output_type": "execute_result"
    }
   ],
   "source": [
    "function run() {\n",
    "    let numIterations = 10000;\n",
    "    let nn = new SimpleBackPropagationNN();\n",
    "    let inputTrainingSet = nj.array(\n",
    "        [[0, 0, 1], \n",
    "        [1, 1, 1], \n",
    "        [1, 0, 1], \n",
    "        [0, 1, 1]]\n",
    "    );\n",
    "    \n",
    "    let outputTrainingSet = nj.array([[0, 1, 1, 0]]).T;\n",
    "   \n",
    "    nn.train(inputTrainingSet, \n",
    "        outputTrainingSet, numIterations);\n",
    "    \n",
    "    nn.think([[1, 0, 0]])\n",
    "}"
   ]
  },
  {
   "cell_type": "code",
   "execution_count": 4,
   "metadata": {},
   "outputs": [
    {
     "name": "stdout",
     "output_type": "stream",
     "text": [
      "array([[ 0.07827],\n",
      "       [-0.35368],\n",
      "       [ 0.58451]], dtype=float64)\n"
     ]
    },
    {
     "data": {
      "text/plain": [
       "undefined"
      ]
     },
     "execution_count": 4,
     "metadata": {},
     "output_type": "execute_result"
    }
   ],
   "source": [
    "run()"
   ]
  }
 ],
 "metadata": {
  "kernelspec": {
   "display_name": "Javascript (Node.js)",
   "language": "javascript",
   "name": "javascript"
  },
  "language_info": {
   "file_extension": ".js",
   "mimetype": "application/javascript",
   "name": "javascript",
   "version": "6.10.3"
  }
 },
 "nbformat": 4,
 "nbformat_minor": 2
}
