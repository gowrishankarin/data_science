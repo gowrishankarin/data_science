{
 "cells": [
  {
   "cell_type": "code",
   "execution_count": 1,
   "metadata": {},
   "outputs": [
    {
     "data": {
      "text/plain": [
       "undefined"
      ]
     },
     "execution_count": 1,
     "metadata": {},
     "output_type": "execute_result"
    }
   ],
   "source": [
    "var fs = require('fs');\n",
    "var parse = require('csv-parse');"
   ]
  },
  {
   "cell_type": "code",
   "execution_count": 2,
   "metadata": {},
   "outputs": [
    {
     "data": {
      "text/plain": [
       "undefined"
      ]
     },
     "execution_count": 2,
     "metadata": {},
     "output_type": "execute_result"
    }
   ],
   "source": [
    "let csvData = [];\n",
    "let learningRate = 0.0001;\n",
    "let bInitial = 0;\n",
    "let mInitial = 0;\n",
    "let numIterations = 10000;\n",
    "let tmp = fs.createReadStream('gradient_descent.data')\n",
    "    .pipe(parse({delimiter: ','}))\n",
    "    .on('data', function(csvRow) {\n",
    "        csvData.push([Number(csvRow[0]), Number(csvRow[1])]);\n",
    "    })\n",
    "    .on('end', function() {\n",
    "        //console.log(csvData)\n",
    "    });"
   ]
  },
  {
   "cell_type": "code",
   "execution_count": 3,
   "metadata": {},
   "outputs": [
    {
     "data": {
      "text/plain": [
       "undefined"
      ]
     },
     "execution_count": 3,
     "metadata": {},
     "output_type": "execute_result"
    }
   ],
   "source": [
    "var computeError4LineGivenPoints = function(b, m, points) {\n",
    "    let totalError = 0.0;\n",
    "    for(let i=0; i<points.length; i++) {\n",
    "        let x = points[i][0];\n",
    "        let y = points[i][1]\n",
    "        totalError += Math.pow((y - (m * x + b)), 2);\n",
    "    }\n",
    "    return totalError/points.length;\n",
    "}"
   ]
  },
  {
   "cell_type": "code",
   "execution_count": 4,
   "metadata": {},
   "outputs": [
    {
     "data": {
      "text/plain": [
       "undefined"
      ]
     },
     "execution_count": 4,
     "metadata": {},
     "output_type": "execute_result"
    }
   ],
   "source": [
    "function stepGradient(conditions, points, learningRate) {\n",
    "    let bGradient = 0;\n",
    "    let mGradient = 0;\n",
    "    \n",
    "    let N = points.length * 1.0;\n",
    "    \n",
    "    for(let i=0; i<points.length; i++) {\n",
    "        let x = points[i][0];\n",
    "        let y = points[i][1];\n",
    "        let deltaB = -(2/N) * \n",
    "            (y - ((conditions.m * x) + conditions.b) );\n",
    "        bGradient += deltaB;\n",
    "        let deltaM = -(2/N) * x * \n",
    "            (y - ((conditions.m * x) + conditions.b));\n",
    "        mGradient += deltaM;\n",
    "    }\n",
    "    \n",
    "    newB = conditions.b - (learningRate * bGradient);\n",
    "    newM = conditions.m - (learningRate * mGradient);\n",
    "    \n",
    "    return {b:newB, m:newM};\n",
    "}"
   ]
  },
  {
   "cell_type": "code",
   "execution_count": 5,
   "metadata": {},
   "outputs": [
    {
     "data": {
      "text/plain": [
       "undefined"
      ]
     },
     "execution_count": 5,
     "metadata": {},
     "output_type": "execute_result"
    }
   ],
   "source": [
    "function gradientDescentRunner( \n",
    "    bStart, mStart, points, learningRate, numIteration) {\n",
    "    let startConditions =  {\n",
    "        b: bStart,\n",
    "        m: mStart\n",
    "    };\n",
    "    for(let i=0; i < numIterations; i++) {\n",
    "        startConditions = stepGradient(startConditions, points, \n",
    "            learningRate, numIterations);\n",
    "    }\n",
    "    \n",
    "    return startConditions;\n",
    "}"
   ]
  },
  {
   "cell_type": "code",
   "execution_count": 6,
   "metadata": {},
   "outputs": [
    {
     "name": "stdout",
     "output_type": "stream",
     "text": [
      "Starting gradient descent at b = 0, m = 0, error = 5565.107834483211\n",
      "Running...\n",
      "After 10000 iterations b = 0.6078985997054931, m = 1.4675440436333027, error = 112.31533427075733\n"
     ]
    },
    {
     "data": {
      "text/plain": [
       "undefined"
      ]
     },
     "execution_count": 6,
     "metadata": {},
     "output_type": "execute_result"
    }
   ],
   "source": [
    "let errInitial = computeError4LineGivenPoints(bInitial, mInitial, csvData);\n",
    "console.log(\"Starting gradient descent at b = %s, m = %s, error = %s\",\n",
    "    bInitial, mInitial, errInitial\n",
    ");\n",
    "console.log(\"Running...\")\n",
    "var result = gradientDescentRunner(bInitial, mInitial, \n",
    "    csvData, learningRate);\n",
    "let errFinal = computeError4LineGivenPoints(result.b, result.m, csvData);\n",
    "console.log(\"After %s iterations b = %s, m = %s, error = %s\", \n",
    "    numIterations, result.b, result.m, errFinal\n",
    ");"
   ]
  },
  {
   "cell_type": "code",
   "execution_count": null,
   "metadata": {
    "collapsed": true
   },
   "outputs": [],
   "source": []
  }
 ],
 "metadata": {
  "kernelspec": {
   "display_name": "Javascript (Node.js)",
   "language": "javascript",
   "name": "javascript"
  },
  "language_info": {
   "file_extension": ".js",
   "mimetype": "application/javascript",
   "name": "javascript",
   "version": "6.10.3"
  }
 },
 "nbformat": 4,
 "nbformat_minor": 2
}
