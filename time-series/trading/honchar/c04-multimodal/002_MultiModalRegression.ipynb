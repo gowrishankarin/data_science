{
 "cells": [
  {
   "cell_type": "code",
   "execution_count": 22,
   "metadata": {},
   "outputs": [],
   "source": [
    "import matplotlib.pyplot as plt\n",
    "import seaborn as sns\n",
    "from datetime import date\n",
    "import _pickle as cPickle\n",
    "import numpy as np"
   ]
  },
  {
   "cell_type": "code",
   "execution_count": 2,
   "metadata": {},
   "outputs": [],
   "source": [
    "from process_data import load_text_csv, load_ts_csv, transform_text_2_sentences, transform_text_into_vectors, split_into_XY"
   ]
  },
  {
   "cell_type": "code",
   "execution_count": 3,
   "metadata": {},
   "outputs": [],
   "source": [
    "train, test = load_text_csv(filename='../datasets/stocknews/Combined_News_DJIA.csv')"
   ]
  },
  {
   "cell_type": "code",
   "execution_count": 4,
   "metadata": {},
   "outputs": [
    {
     "data": {
      "text/html": [
       "<div>\n",
       "<style scoped>\n",
       "    .dataframe tbody tr th:only-of-type {\n",
       "        vertical-align: middle;\n",
       "    }\n",
       "\n",
       "    .dataframe tbody tr th {\n",
       "        vertical-align: top;\n",
       "    }\n",
       "\n",
       "    .dataframe thead th {\n",
       "        text-align: right;\n",
       "    }\n",
       "</style>\n",
       "<table border=\"1\" class=\"dataframe\">\n",
       "  <thead>\n",
       "    <tr style=\"text-align: right;\">\n",
       "      <th></th>\n",
       "      <th>Label</th>\n",
       "      <th>Combined</th>\n",
       "    </tr>\n",
       "  </thead>\n",
       "  <tbody>\n",
       "    <tr>\n",
       "      <th>0</th>\n",
       "      <td>0</td>\n",
       "      <td>['b\"Georgia \\'downs two Russian warplanes\\' as...</td>\n",
       "    </tr>\n",
       "    <tr>\n",
       "      <th>1</th>\n",
       "      <td>1</td>\n",
       "      <td>[\"b'Why wont America and Nato help us? If they...</td>\n",
       "    </tr>\n",
       "    <tr>\n",
       "      <th>2</th>\n",
       "      <td>0</td>\n",
       "      <td>[\"b'Remember that adorable 9-year-old who sang...</td>\n",
       "    </tr>\n",
       "    <tr>\n",
       "      <th>3</th>\n",
       "      <td>0</td>\n",
       "      <td>[\"b' U.S. refuses Israel weapons to attack Ira...</td>\n",
       "    </tr>\n",
       "    <tr>\n",
       "      <th>4</th>\n",
       "      <td>1</td>\n",
       "      <td>[\"b'All the experts admit that we should legal...</td>\n",
       "    </tr>\n",
       "  </tbody>\n",
       "</table>\n",
       "</div>"
      ],
      "text/plain": [
       "   Label                                           Combined\n",
       "0      0  ['b\"Georgia \\'downs two Russian warplanes\\' as...\n",
       "1      1  [\"b'Why wont America and Nato help us? If they...\n",
       "2      0  [\"b'Remember that adorable 9-year-old who sang...\n",
       "3      0  [\"b' U.S. refuses Israel weapons to attack Ira...\n",
       "4      1  [\"b'All the experts admit that we should legal..."
      ]
     },
     "execution_count": 4,
     "metadata": {},
     "output_type": "execute_result"
    }
   ],
   "source": [
    "train.head()"
   ]
  },
  {
   "cell_type": "code",
   "execution_count": 5,
   "metadata": {},
   "outputs": [],
   "source": [
    "data_chng_train, data_chng_test = load_ts_csv(filename='../datasets/stocknews/DJIA_table.csv', date_split=date(2014, 12, 31))"
   ]
  },
  {
   "cell_type": "code",
   "execution_count": 6,
   "metadata": {},
   "outputs": [],
   "source": [
    "#train_text, test_text = transform_text_2_sentences(train, test)"
   ]
  },
  {
   "cell_type": "code",
   "execution_count": 7,
   "metadata": {},
   "outputs": [],
   "source": [
    "train_text = cPickle.load(open('../output/train_text.p', 'rb'))[1:]\n",
    "test_text = cPickle.load(open('../output/test_text.p', 'rb'))[1:]"
   ]
  },
  {
   "cell_type": "code",
   "execution_count": 8,
   "metadata": {},
   "outputs": [
    {
     "data": {
      "text/plain": [
       "array([[ 0.00000000e+00,  0.00000000e+00,  0.00000000e+00,\n",
       "         0.00000000e+00,  0.00000000e+00],\n",
       "       [ 2.60302431e-02,  9.11145883e-03,  2.52449265e-02,\n",
       "         4.09306170e-03, -1.39266081e-01],\n",
       "       [ 4.43578322e-03, -7.14249219e-03, -6.33896194e-03,\n",
       "        -1.18719854e-02, -5.24046072e-02],\n",
       "       [-1.26374481e-02, -1.26094829e-02, -1.27724378e-02,\n",
       "        -9.40605976e-03,  5.16158765e-02],\n",
       "       [-8.65992496e-03,  7.26333127e-03, -2.13928516e-04,\n",
       "         7.19413986e-03, -1.24678170e-01],\n",
       "       [ 6.86257080e-03, -7.16028701e-04,  1.29981884e-02,\n",
       "         3.78537958e-03,  3.45766318e-01],\n",
       "       [ 4.17186755e-03, -1.66183974e-03, -1.42770862e-02,\n",
       "        -1.54813281e-02, -2.73204985e-01],\n",
       "       [-1.55716973e-02, -1.81567121e-02, -1.01118508e-02,\n",
       "        -1.13978048e-02,  9.78309553e-02],\n",
       "       [-1.15131887e-02, -2.09262724e-03, -2.46675107e-03,\n",
       "         6.06948766e-03, -1.55612542e-01],\n",
       "       [ 6.10703356e-03,  1.92590190e-03,  2.21337025e-03,\n",
       "         1.11936516e-03, -1.02567642e-01]])"
      ]
     },
     "execution_count": 8,
     "metadata": {},
     "output_type": "execute_result"
    }
   ],
   "source": [
    "data_chng_train[:10]"
   ]
  },
  {
   "cell_type": "code",
   "execution_count": 9,
   "metadata": {},
   "outputs": [],
   "source": [
    "train_text_vectors, test_text_vectors, model = transform_text_into_vectors(train_text, test_text, 100)"
   ]
  },
  {
   "cell_type": "code",
   "execution_count": 10,
   "metadata": {},
   "outputs": [
    {
     "name": "stdout",
     "output_type": "stream",
     "text": [
      "KEK index 1611 is out of bounds for axis 0 with size 1611\n",
      "KEK index 378 is out of bounds for axis 0 with size 378\n"
     ]
    }
   ],
   "source": [
    "X_train, X_train_text, Y_train, Y_train2 = split_into_XY(data_chng_train, train_text_vectors, 1, 30, 1)\n",
    "X_test, X_test_text, Y_test, Y_test2 = split_into_XY(data_chng_test, test_text_vectors, 1, 30, 1)"
   ]
  },
  {
   "cell_type": "code",
   "execution_count": 11,
   "metadata": {},
   "outputs": [
    {
     "name": "stdout",
     "output_type": "stream",
     "text": [
      "(1580, 30, 5)\n",
      "(347, 30, 5)\n"
     ]
    }
   ],
   "source": [
    "print(X_train.shape)\n",
    "print(X_test.shape)"
   ]
  },
  {
   "cell_type": "code",
   "execution_count": 12,
   "metadata": {},
   "outputs": [
    {
     "name": "stdout",
     "output_type": "stream",
     "text": [
      "(1580, 30, 100)\n",
      "(347, 30, 100)\n"
     ]
    }
   ],
   "source": [
    "print(X_train_text.shape)\n",
    "print(X_test_text.shape)"
   ]
  },
  {
   "cell_type": "code",
   "execution_count": 13,
   "metadata": {},
   "outputs": [
    {
     "name": "stderr",
     "output_type": "stream",
     "text": [
      "/anaconda3/envs/dlcv/lib/python3.6/site-packages/h5py/__init__.py:36: FutureWarning: Conversion of the second argument of issubdtype from `float` to `np.floating` is deprecated. In future, it will be treated as `np.float64 == np.dtype(float).type`.\n",
      "  from ._conv import register_converters as _register_converters\n",
      "Using TensorFlow backend.\n"
     ]
    }
   ],
   "source": [
    "from keras.models import Model\n",
    "from keras.layers.core import Dense, Dropout, Activation, Flatten\n",
    "from keras.layers import Input, concatenate, LeakyReLU\n",
    "from keras.layers.recurrent import LSTM"
   ]
  },
  {
   "cell_type": "code",
   "execution_count": 14,
   "metadata": {},
   "outputs": [],
   "source": [
    "def build():\n",
    "    ohlcv_input = Input(shape=(30, 5), name='ts_input')\n",
    "    lstm_ohlcv = LSTM(10, return_sequences=True, recurrent_dropout=0.25, dropout=0.25, bias_initializer='ones')(ohlcv_input)\n",
    "    lstm_ohlcv = LSTM(10, return_sequences=True, recurrent_dropout=0.25, dropout=0.25, bias_initializer='ones')(lstm_ohlcv)\n",
    "    lstm_ohlcv = Flatten()(lstm_ohlcv)\n",
    "    \n",
    "    text_input = Input(shape=(30, 100), name='text_input')\n",
    "    lstm_text = LSTM(10, return_sequences=True, recurrent_dropout=0.25, dropout=0.25, bias_initializer='ones')(text_input)\n",
    "    lstm_text = LSTM(10, return_sequences=True, recurrent_dropout=0.25, dropout=0.25, bias_initializer='ones')(lstm_text)\n",
    "    lstm_text = Flatten()(lstm_text)\n",
    "    \n",
    "    lstms = concatenate([lstm_ohlcv, lstm_text])\n",
    "    \n",
    "    X1 = Dense(64)(lstms)\n",
    "    X1 = LeakyReLU()(X1)\n",
    "    X1 = Dense(1, activation='linear', name='regression')(X1)\n",
    "    \n",
    "    X2 = Dense(64)(lstms)\n",
    "    X2 = LeakyReLU()(X2)\n",
    "    X2 = Dense(1, activation='sigmoid', name='class')(X2)\n",
    "    \n",
    "    model = Model(inputs=[ohlcv_input, text_input], outputs=[X1, X2])\n",
    "    \n",
    "    return model\n",
    "\n",
    "model = build()"
   ]
  },
  {
   "cell_type": "code",
   "execution_count": 15,
   "metadata": {},
   "outputs": [],
   "source": [
    "from keras.callbacks import ModelCheckpoint, ReduceLROnPlateau\n",
    "from keras.optimizers import Nadam\n",
    "opt = Nadam(lr=0.002)\n",
    "reduce_lr = ReduceLROnPlateau(monitor='val_loss', factor=0.9, patience=25, min_lr=0.000001, verbose=1)\n",
    "checkpointer = ModelCheckpoint(monitor='val_loss', filepath=\"../output/multi-modal.hdf5\", verbose=1, save_best_only=True)"
   ]
  },
  {
   "cell_type": "code",
   "execution_count": 16,
   "metadata": {},
   "outputs": [],
   "source": [
    "model.compile(optimizer=opt, loss={'regression': 'mse', 'class': 'binary_crossentropy'}, loss_weights=[1.0, 0.2])"
   ]
  },
  {
   "cell_type": "code",
   "execution_count": 17,
   "metadata": {},
   "outputs": [
    {
     "name": "stdout",
     "output_type": "stream",
     "text": [
      "<keras.engine.topology.InputLayer object at 0x1a291578d0> (None, 30, 5)\n",
      "<keras.engine.topology.InputLayer object at 0x1a29bd1ef0> (None, 30, 100)\n",
      "<keras.layers.recurrent.LSTM object at 0x10a9cf6a0> (None, 30, 10)\n",
      "<keras.layers.recurrent.LSTM object at 0x1a29f34ef0> (None, 30, 10)\n",
      "<keras.layers.recurrent.LSTM object at 0x1a29157c88> (None, 30, 10)\n",
      "<keras.layers.recurrent.LSTM object at 0x1a29f50588> (None, 30, 10)\n",
      "<keras.layers.core.Flatten object at 0x10b5e4048> (None, 300)\n",
      "<keras.layers.core.Flatten object at 0x1a2a8bc320> (None, 300)\n",
      "<keras.layers.merge.Concatenate object at 0x1a2a8f3278> (None, 600)\n",
      "<keras.layers.core.Dense object at 0x1a2a8f3550> (None, 64)\n",
      "<keras.layers.core.Dense object at 0x1a2ad484a8> (None, 64)\n",
      "<keras.layers.advanced_activations.LeakyReLU object at 0x1a2ad1f2b0> (None, 64)\n",
      "<keras.layers.advanced_activations.LeakyReLU object at 0x1a2ad5d240> (None, 64)\n",
      "<keras.layers.core.Dense object at 0x1a2ad1f5c0> (None, 1)\n",
      "<keras.layers.core.Dense object at 0x1a2ad5d780> (None, 1)\n"
     ]
    }
   ],
   "source": [
    "for layer in model.layers:\n",
    "    print(layer, layer.output_shape)"
   ]
  },
  {
   "cell_type": "code",
   "execution_count": 19,
   "metadata": {},
   "outputs": [
    {
     "name": "stdout",
     "output_type": "stream",
     "text": [
      "Train on 1580 samples, validate on 347 samples\n",
      "Epoch 1/100\n",
      "1536/1580 [============================>.] - ETA: 0s - loss: 0.1768 - regression_loss: 0.0380 - class_loss: 0.6939Epoch 00001: val_loss did not improve\n",
      "1580/1580 [==============================] - 2s 1ms/step - loss: 0.1759 - regression_loss: 0.0373 - class_loss: 0.6932 - val_loss: 0.1570 - val_regression_loss: 0.0139 - val_class_loss: 0.7156\n",
      "Epoch 2/100\n",
      "1536/1580 [============================>.] - ETA: 0s - loss: 0.1905 - regression_loss: 0.0522 - class_loss: 0.6915Epoch 00002: val_loss did not improve\n",
      "1580/1580 [==============================] - 2s 1ms/step - loss: 0.1915 - regression_loss: 0.0531 - class_loss: 0.6919 - val_loss: 0.2150 - val_regression_loss: 0.0764 - val_class_loss: 0.6930\n",
      "Epoch 3/100\n",
      "1536/1580 [============================>.] - ETA: 0s - loss: 0.2606 - regression_loss: 0.1220 - class_loss: 0.6933Epoch 00003: val_loss did not improve\n",
      "1580/1580 [==============================] - 2s 1ms/step - loss: 0.2586 - regression_loss: 0.1201 - class_loss: 0.6926 - val_loss: 0.1872 - val_regression_loss: 0.0357 - val_class_loss: 0.7578\n",
      "Epoch 4/100\n",
      "1536/1580 [============================>.] - ETA: 0s - loss: 0.1861 - regression_loss: 0.0468 - class_loss: 0.6970Epoch 00004: val_loss did not improve\n",
      "1580/1580 [==============================] - 2s 1ms/step - loss: 0.1850 - regression_loss: 0.0456 - class_loss: 0.6971 - val_loss: 0.1494 - val_regression_loss: 0.0107 - val_class_loss: 0.6939\n",
      "Epoch 5/100\n",
      "1536/1580 [============================>.] - ETA: 0s - loss: 0.1770 - regression_loss: 0.0382 - class_loss: 0.6937Epoch 00005: val_loss did not improve\n",
      "1580/1580 [==============================] - 2s 1ms/step - loss: 0.1760 - regression_loss: 0.0373 - class_loss: 0.6935 - val_loss: 0.1507 - val_regression_loss: 0.0114 - val_class_loss: 0.6964\n",
      "Epoch 6/100\n",
      "1536/1580 [============================>.] - ETA: 0s - loss: 0.1778 - regression_loss: 0.0398 - class_loss: 0.6901Epoch 00006: val_loss did not improve\n",
      "1580/1580 [==============================] - 2s 1ms/step - loss: 0.1775 - regression_loss: 0.0394 - class_loss: 0.6905 - val_loss: 0.1535 - val_regression_loss: 0.0148 - val_class_loss: 0.6937\n",
      "Epoch 7/100\n",
      "1536/1580 [============================>.] - ETA: 0s - loss: 0.1772 - regression_loss: 0.0383 - class_loss: 0.6943Epoch 00007: val_loss did not improve\n",
      "1580/1580 [==============================] - 2s 1ms/step - loss: 0.1762 - regression_loss: 0.0374 - class_loss: 0.6940 - val_loss: 0.1508 - val_regression_loss: 0.0102 - val_class_loss: 0.7029\n",
      "Epoch 8/100\n",
      "1536/1580 [============================>.] - ETA: 0s - loss: 0.1771 - regression_loss: 0.0389 - class_loss: 0.6913Epoch 00008: val_loss did not improve\n",
      "1580/1580 [==============================] - 2s 1ms/step - loss: 0.1764 - regression_loss: 0.0383 - class_loss: 0.6907 - val_loss: 0.1541 - val_regression_loss: 0.0108 - val_class_loss: 0.7164\n",
      "Epoch 9/100\n",
      "1536/1580 [============================>.] - ETA: 0s - loss: 0.1761 - regression_loss: 0.0373 - class_loss: 0.6941Epoch 00009: val_loss did not improve\n",
      "1580/1580 [==============================] - 2s 1ms/step - loss: 0.1758 - regression_loss: 0.0370 - class_loss: 0.6940 - val_loss: 0.1528 - val_regression_loss: 0.0136 - val_class_loss: 0.6957\n",
      "Epoch 10/100\n",
      "1536/1580 [============================>.] - ETA: 0s - loss: 0.1777 - regression_loss: 0.0394 - class_loss: 0.6915Epoch 00010: val_loss did not improve\n",
      "1580/1580 [==============================] - 2s 1ms/step - loss: 0.1768 - regression_loss: 0.0385 - class_loss: 0.6917 - val_loss: 0.1503 - val_regression_loss: 0.0117 - val_class_loss: 0.6930\n",
      "Epoch 11/100\n",
      "1536/1580 [============================>.] - ETA: 0s - loss: 0.1766 - regression_loss: 0.0384 - class_loss: 0.6906"
     ]
    },
    {
     "name": "stderr",
     "output_type": "stream",
     "text": [
      "2018-06-11 23:27:46,945: WARNING: No handles with labels found to put in legend.\n"
     ]
    },
    {
     "ename": "NameError",
     "evalue": "name 'original' is not defined",
     "output_type": "error",
     "traceback": [
      "\u001b[0;31m---------------------------------------------------------------------------\u001b[0m",
      "\u001b[0;31mKeyboardInterrupt\u001b[0m                         Traceback (most recent call last)",
      "\u001b[0;32m<ipython-input-19-542f263c8477>\u001b[0m in \u001b[0;36m<module>\u001b[0;34m()\u001b[0m\n\u001b[1;32m      8\u001b[0m         \u001b[0mcallbacks\u001b[0m\u001b[0;34m=\u001b[0m\u001b[0;34m[\u001b[0m\u001b[0mreduce_lr\u001b[0m\u001b[0;34m,\u001b[0m \u001b[0mcheckpointer\u001b[0m\u001b[0;34m]\u001b[0m\u001b[0;34m,\u001b[0m\u001b[0;34m\u001b[0m\u001b[0m\n\u001b[0;32m----> 9\u001b[0;31m         \u001b[0mshuffle\u001b[0m\u001b[0;34m=\u001b[0m\u001b[0;32mTrue\u001b[0m\u001b[0;34m\u001b[0m\u001b[0m\n\u001b[0m\u001b[1;32m     10\u001b[0m     )\n",
      "\u001b[0;32m/anaconda3/envs/dlcv/lib/python3.6/site-packages/keras/engine/training.py\u001b[0m in \u001b[0;36mfit\u001b[0;34m(self, x, y, batch_size, epochs, verbose, callbacks, validation_split, validation_data, shuffle, class_weight, sample_weight, initial_epoch, steps_per_epoch, validation_steps, **kwargs)\u001b[0m\n\u001b[1;32m   1656\u001b[0m                               \u001b[0msteps_per_epoch\u001b[0m\u001b[0;34m=\u001b[0m\u001b[0msteps_per_epoch\u001b[0m\u001b[0;34m,\u001b[0m\u001b[0;34m\u001b[0m\u001b[0m\n\u001b[0;32m-> 1657\u001b[0;31m                               validation_steps=validation_steps)\n\u001b[0m\u001b[1;32m   1658\u001b[0m \u001b[0;34m\u001b[0m\u001b[0m\n",
      "\u001b[0;32m/anaconda3/envs/dlcv/lib/python3.6/site-packages/keras/engine/training.py\u001b[0m in \u001b[0;36m_fit_loop\u001b[0;34m(self, f, ins, out_labels, batch_size, epochs, verbose, callbacks, val_f, val_ins, shuffle, callback_metrics, initial_epoch, steps_per_epoch, validation_steps)\u001b[0m\n\u001b[1;32m   1212\u001b[0m                     \u001b[0mcallbacks\u001b[0m\u001b[0;34m.\u001b[0m\u001b[0mon_batch_begin\u001b[0m\u001b[0;34m(\u001b[0m\u001b[0mbatch_index\u001b[0m\u001b[0;34m,\u001b[0m \u001b[0mbatch_logs\u001b[0m\u001b[0;34m)\u001b[0m\u001b[0;34m\u001b[0m\u001b[0m\n\u001b[0;32m-> 1213\u001b[0;31m                     \u001b[0mouts\u001b[0m \u001b[0;34m=\u001b[0m \u001b[0mf\u001b[0m\u001b[0;34m(\u001b[0m\u001b[0mins_batch\u001b[0m\u001b[0;34m)\u001b[0m\u001b[0;34m\u001b[0m\u001b[0m\n\u001b[0m\u001b[1;32m   1214\u001b[0m                     \u001b[0;32mif\u001b[0m \u001b[0;32mnot\u001b[0m \u001b[0misinstance\u001b[0m\u001b[0;34m(\u001b[0m\u001b[0mouts\u001b[0m\u001b[0;34m,\u001b[0m \u001b[0mlist\u001b[0m\u001b[0;34m)\u001b[0m\u001b[0;34m:\u001b[0m\u001b[0;34m\u001b[0m\u001b[0m\n",
      "\u001b[0;32m/anaconda3/envs/dlcv/lib/python3.6/site-packages/keras/backend/tensorflow_backend.py\u001b[0m in \u001b[0;36m__call__\u001b[0;34m(self, inputs)\u001b[0m\n\u001b[1;32m   2356\u001b[0m         updated = session.run(fetches=fetches, feed_dict=feed_dict,\n\u001b[0;32m-> 2357\u001b[0;31m                               **self.session_kwargs)\n\u001b[0m\u001b[1;32m   2358\u001b[0m         \u001b[0;32mreturn\u001b[0m \u001b[0mupdated\u001b[0m\u001b[0;34m[\u001b[0m\u001b[0;34m:\u001b[0m\u001b[0mlen\u001b[0m\u001b[0;34m(\u001b[0m\u001b[0mself\u001b[0m\u001b[0;34m.\u001b[0m\u001b[0moutputs\u001b[0m\u001b[0;34m)\u001b[0m\u001b[0;34m]\u001b[0m\u001b[0;34m\u001b[0m\u001b[0m\n",
      "\u001b[0;32m/anaconda3/envs/dlcv/lib/python3.6/site-packages/tensorflow/python/client/session.py\u001b[0m in \u001b[0;36mrun\u001b[0;34m(self, fetches, feed_dict, options, run_metadata)\u001b[0m\n\u001b[1;32m    766\u001b[0m       result = self._run(None, fetches, feed_dict, options_ptr,\n\u001b[0;32m--> 767\u001b[0;31m                          run_metadata_ptr)\n\u001b[0m\u001b[1;32m    768\u001b[0m       \u001b[0;32mif\u001b[0m \u001b[0mrun_metadata\u001b[0m\u001b[0;34m:\u001b[0m\u001b[0;34m\u001b[0m\u001b[0m\n",
      "\u001b[0;32m/anaconda3/envs/dlcv/lib/python3.6/site-packages/tensorflow/python/client/session.py\u001b[0m in \u001b[0;36m_run\u001b[0;34m(self, handle, fetches, feed_dict, options, run_metadata)\u001b[0m\n\u001b[1;32m    964\u001b[0m       results = self._do_run(handle, final_targets, final_fetches,\n\u001b[0;32m--> 965\u001b[0;31m                              feed_dict_string, options, run_metadata)\n\u001b[0m\u001b[1;32m    966\u001b[0m     \u001b[0;32melse\u001b[0m\u001b[0;34m:\u001b[0m\u001b[0;34m\u001b[0m\u001b[0m\n",
      "\u001b[0;32m/anaconda3/envs/dlcv/lib/python3.6/site-packages/tensorflow/python/client/session.py\u001b[0m in \u001b[0;36m_do_run\u001b[0;34m(self, handle, target_list, fetch_list, feed_dict, options, run_metadata)\u001b[0m\n\u001b[1;32m   1014\u001b[0m       return self._do_call(_run_fn, self._session, feed_dict, fetch_list,\n\u001b[0;32m-> 1015\u001b[0;31m                            target_list, options, run_metadata)\n\u001b[0m\u001b[1;32m   1016\u001b[0m     \u001b[0;32melse\u001b[0m\u001b[0;34m:\u001b[0m\u001b[0;34m\u001b[0m\u001b[0m\n",
      "\u001b[0;32m/anaconda3/envs/dlcv/lib/python3.6/site-packages/tensorflow/python/client/session.py\u001b[0m in \u001b[0;36m_do_call\u001b[0;34m(self, fn, *args)\u001b[0m\n\u001b[1;32m   1021\u001b[0m     \u001b[0;32mtry\u001b[0m\u001b[0;34m:\u001b[0m\u001b[0;34m\u001b[0m\u001b[0m\n\u001b[0;32m-> 1022\u001b[0;31m       \u001b[0;32mreturn\u001b[0m \u001b[0mfn\u001b[0m\u001b[0;34m(\u001b[0m\u001b[0;34m*\u001b[0m\u001b[0margs\u001b[0m\u001b[0;34m)\u001b[0m\u001b[0;34m\u001b[0m\u001b[0m\n\u001b[0m\u001b[1;32m   1023\u001b[0m     \u001b[0;32mexcept\u001b[0m \u001b[0merrors\u001b[0m\u001b[0;34m.\u001b[0m\u001b[0mOpError\u001b[0m \u001b[0;32mas\u001b[0m \u001b[0me\u001b[0m\u001b[0;34m:\u001b[0m\u001b[0;34m\u001b[0m\u001b[0m\n",
      "\u001b[0;32m/anaconda3/envs/dlcv/lib/python3.6/site-packages/tensorflow/python/client/session.py\u001b[0m in \u001b[0;36m_run_fn\u001b[0;34m(session, feed_dict, fetch_list, target_list, options, run_metadata)\u001b[0m\n\u001b[1;32m   1003\u001b[0m                                  \u001b[0mfeed_dict\u001b[0m\u001b[0;34m,\u001b[0m \u001b[0mfetch_list\u001b[0m\u001b[0;34m,\u001b[0m \u001b[0mtarget_list\u001b[0m\u001b[0;34m,\u001b[0m\u001b[0;34m\u001b[0m\u001b[0m\n\u001b[0;32m-> 1004\u001b[0;31m                                  status, run_metadata)\n\u001b[0m\u001b[1;32m   1005\u001b[0m \u001b[0;34m\u001b[0m\u001b[0m\n",
      "\u001b[0;31mKeyboardInterrupt\u001b[0m: ",
      "\nDuring handling of the above exception, another exception occurred:\n",
      "\u001b[0;31mNameError\u001b[0m                                 Traceback (most recent call last)",
      "\u001b[0;32m<ipython-input-19-542f263c8477>\u001b[0m in \u001b[0;36m<module>\u001b[0;34m()\u001b[0m\n\u001b[1;32m     27\u001b[0m     \u001b[0mplt\u001b[0m\u001b[0;34m.\u001b[0m\u001b[0mtitle\u001b[0m\u001b[0;34m(\u001b[0m\u001b[0;34m'Actual vs Predicted'\u001b[0m\u001b[0;34m)\u001b[0m\u001b[0;34m\u001b[0m\u001b[0m\n\u001b[1;32m     28\u001b[0m     \u001b[0mplt\u001b[0m\u001b[0;34m.\u001b[0m\u001b[0mlegend\u001b[0m\u001b[0;34m(\u001b[0m\u001b[0mloc\u001b[0m\u001b[0;34m=\u001b[0m\u001b[0;34m'best'\u001b[0m\u001b[0;34m)\u001b[0m\u001b[0;34m\u001b[0m\u001b[0m\n\u001b[0;32m---> 29\u001b[0;31m     \u001b[0mplt\u001b[0m\u001b[0;34m.\u001b[0m\u001b[0mplot\u001b[0m\u001b[0;34m(\u001b[0m\u001b[0moriginal\u001b[0m\u001b[0;34m,\u001b[0m \u001b[0mcolor\u001b[0m\u001b[0;34m=\u001b[0m\u001b[0;34m'black'\u001b[0m\u001b[0;34m,\u001b[0m \u001b[0mlabel\u001b[0m\u001b[0;34m=\u001b[0m\u001b[0;34m'Original Data'\u001b[0m\u001b[0;34m)\u001b[0m\u001b[0;34m\u001b[0m\u001b[0m\n\u001b[0m\u001b[1;32m     30\u001b[0m     \u001b[0mplt\u001b[0m\u001b[0;34m.\u001b[0m\u001b[0mplot\u001b[0m\u001b[0;34m(\u001b[0m\u001b[0mpred\u001b[0m\u001b[0;34m,\u001b[0m \u001b[0mcolor\u001b[0m\u001b[0;34m=\u001b[0m\u001b[0;34m'blue'\u001b[0m\u001b[0;34m,\u001b[0m \u001b[0mlabel\u001b[0m\u001b[0;34m=\u001b[0m\u001b[0;34m'Predicted Data'\u001b[0m\u001b[0;34m)\u001b[0m\u001b[0;34m\u001b[0m\u001b[0m\n\u001b[1;32m     31\u001b[0m     \u001b[0mplt\u001b[0m\u001b[0;34m.\u001b[0m\u001b[0mshow\u001b[0m\u001b[0;34m(\u001b[0m\u001b[0;34m)\u001b[0m\u001b[0;34m\u001b[0m\u001b[0m\n",
      "\u001b[0;31mNameError\u001b[0m: name 'original' is not defined"
     ]
    },
    {
     "data": {
      "image/png": "[encoded data removed]",
      "text/plain": [
       "<Figure size 432x288 with 1 Axes>"
      ]
     },
     "metadata": {},
     "output_type": "display_data"
    }
   ],
   "source": [
    "try:\n",
    "    H = model.fit(\n",
    "        [X_train, X_train_text], [Y_train, Y_train2],\n",
    "        epochs=100,\n",
    "        batch_size=256,\n",
    "        verbose=1,\n",
    "        validation_data=([X_test, X_test_text], [Y_test, Y_test2]),\n",
    "        callbacks=[reduce_lr, checkpointer],\n",
    "        shuffle=True\n",
    "    )\n",
    "    plt.figure()\n",
    "    plt.plot(H.history['loss'])\n",
    "    plt.plot(H.history['val_loss'])\n",
    "    plt.title('Modal Loss')\n",
    "    plt.ylabel('Loss')\n",
    "    plt.xlabel('Epoch')\n",
    "    plt.legend(['train', 'test'], loc='best')\n",
    "    plt.show()\n",
    "\n",
    "except Exception as e:\n",
    "    print(e)\n",
    "    \n"
   ]
  },
  {
   "cell_type": "code",
   "execution_count": 24,
   "metadata": {},
   "outputs": [
    {
     "name": "stderr",
     "output_type": "stream",
     "text": [
      "2018-06-11 23:29:15,120: WARNING: No handles with labels found to put in legend.\n"
     ]
    },
    {
     "data": {
      "image/png": "[encoded data removed]",
      "text/plain": [
       "<Figure size 432x288 with 1 Axes>"
      ]
     },
     "metadata": {},
     "output_type": "display_data"
    },
    {
     "name": "stdout",
     "output_type": "stream",
     "text": [
      "0.010830688230870862\n",
      "0.062400877833110956\n",
      "3.1272184914488417\n"
     ]
    }
   ],
   "source": [
    "\n",
    "model.load_weights('../output/multi-modal.hdf5')\n",
    "pred = model.predict([X_test, X_test_text])[0]\n",
    "\n",
    "plt.title('Actual vs Predicted')\n",
    "plt.legend(loc='best')\n",
    "plt.plot(Y_test, color='black', label='Original Data')\n",
    "plt.plot(pred, color='blue', label='Predicted Data')\n",
    "plt.show()\n",
    "\n",
    "print(np.mean(np.square(pred - Y_test)))\n",
    "print(np.mean(np.abs(pred - Y_test)))\n",
    "print(np.mean(np.abs((Y_test - pred)/Y_test)))"
   ]
  },
  {
   "cell_type": "code",
   "execution_count": 25,
   "metadata": {},
   "outputs": [
    {
     "name": "stderr",
     "output_type": "stream",
     "text": [
      "2018-06-11 23:32:58,035: WARNING: No handles with labels found to put in legend.\n"
     ]
    },
    {
     "data": {
      "image/png": "[encoded data removed]",
      "text/plain": [
       "<Figure size 432x288 with 1 Axes>"
      ]
     },
     "metadata": {},
     "output_type": "display_data"
    }
   ],
   "source": [
    "plt.title('Actual vs Predicted')\n",
    "plt.legend(loc='best')\n",
    "#plt.plot(Y_test, color='black', label='Original Data')\n",
    "plt.plot(pred, color='blue', label='Predicted Data')\n",
    "plt.show()"
   ]
  },
  {
   "cell_type": "code",
   "execution_count": null,
   "metadata": {},
   "outputs": [],
   "source": []
  }
 ],
 "metadata": {
  "kernelspec": {
   "display_name": "Python 3",
   "language": "python",
   "name": "python3"
  },
  "language_info": {
   "codemirror_mode": {
    "name": "ipython",
    "version": 3
   },
   "file_extension": ".py",
   "mimetype": "text/x-python",
   "name": "python",
   "nbconvert_exporter": "python",
   "pygments_lexer": "ipython3",
   "version": "3.6.4"
  }
 },
 "nbformat": 4,
 "nbformat_minor": 2
}
