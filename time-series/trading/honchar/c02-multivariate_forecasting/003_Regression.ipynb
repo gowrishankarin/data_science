{
 "cells": [
  {
   "cell_type": "code",
   "execution_count": 1,
   "metadata": {},
   "outputs": [],
   "source": [
    "IMG_HELP_PATH = '/Users/shankar/dev/code/ds/studies/data_science/trading/honchar'\n",
    "import os\n",
    "import sys\n",
    "sys.path.append(os.path.abspath(IMG_HELP_PATH))\n",
    "from common.preprocessing import split_train_test_in_unison"
   ]
  },
  {
   "cell_type": "code",
   "execution_count": 2,
   "metadata": {},
   "outputs": [],
   "source": [
    "import pandas as pd\n",
    "import numpy as np\n",
    "import matplotlib.pylab as plt\n",
    "import seaborn as sns\n",
    "sns.despine()"
   ]
  },
  {
   "cell_type": "code",
   "execution_count": 3,
   "metadata": {},
   "outputs": [
    {
     "data": {
      "text/html": [
       "<div>\n",
       "<style scoped>\n",
       "    .dataframe tbody tr th:only-of-type {\n",
       "        vertical-align: middle;\n",
       "    }\n",
       "\n",
       "    .dataframe tbody tr th {\n",
       "        vertical-align: top;\n",
       "    }\n",
       "\n",
       "    .dataframe thead th {\n",
       "        text-align: right;\n",
       "    }\n",
       "</style>\n",
       "<table border=\"1\" class=\"dataframe\">\n",
       "  <thead>\n",
       "    <tr style=\"text-align: right;\">\n",
       "      <th></th>\n",
       "      <th>Date</th>\n",
       "      <th>Open</th>\n",
       "      <th>High</th>\n",
       "      <th>Low</th>\n",
       "      <th>Close</th>\n",
       "      <th>Adj Close</th>\n",
       "      <th>Volume</th>\n",
       "    </tr>\n",
       "  </thead>\n",
       "  <tbody>\n",
       "    <tr>\n",
       "      <th>3088</th>\n",
       "      <td>2017-04-07</td>\n",
       "      <td>143.729996</td>\n",
       "      <td>144.179993</td>\n",
       "      <td>143.270004</td>\n",
       "      <td>143.339996</td>\n",
       "      <td>140.565704</td>\n",
       "      <td>16672200</td>\n",
       "    </tr>\n",
       "    <tr>\n",
       "      <th>3087</th>\n",
       "      <td>2017-04-06</td>\n",
       "      <td>144.289993</td>\n",
       "      <td>144.520004</td>\n",
       "      <td>143.449997</td>\n",
       "      <td>143.660004</td>\n",
       "      <td>140.879517</td>\n",
       "      <td>21149000</td>\n",
       "    </tr>\n",
       "    <tr>\n",
       "      <th>3086</th>\n",
       "      <td>2017-04-05</td>\n",
       "      <td>144.220001</td>\n",
       "      <td>145.460007</td>\n",
       "      <td>143.809998</td>\n",
       "      <td>144.020004</td>\n",
       "      <td>141.232559</td>\n",
       "      <td>27717900</td>\n",
       "    </tr>\n",
       "    <tr>\n",
       "      <th>3085</th>\n",
       "      <td>2017-04-04</td>\n",
       "      <td>143.250000</td>\n",
       "      <td>144.889999</td>\n",
       "      <td>143.169998</td>\n",
       "      <td>144.770004</td>\n",
       "      <td>141.968033</td>\n",
       "      <td>19891400</td>\n",
       "    </tr>\n",
       "    <tr>\n",
       "      <th>3084</th>\n",
       "      <td>2017-04-03</td>\n",
       "      <td>143.710007</td>\n",
       "      <td>144.119995</td>\n",
       "      <td>143.050003</td>\n",
       "      <td>143.699997</td>\n",
       "      <td>140.918762</td>\n",
       "      <td>19985700</td>\n",
       "    </tr>\n",
       "  </tbody>\n",
       "</table>\n",
       "</div>"
      ],
      "text/plain": [
       "            Date        Open        High         Low       Close   Adj Close  \\\n",
       "3088  2017-04-07  143.729996  144.179993  143.270004  143.339996  140.565704   \n",
       "3087  2017-04-06  144.289993  144.520004  143.449997  143.660004  140.879517   \n",
       "3086  2017-04-05  144.220001  145.460007  143.809998  144.020004  141.232559   \n",
       "3085  2017-04-04  143.250000  144.889999  143.169998  144.770004  141.968033   \n",
       "3084  2017-04-03  143.710007  144.119995  143.050003  143.699997  140.918762   \n",
       "\n",
       "        Volume  \n",
       "3088  16672200  \n",
       "3087  21149000  \n",
       "3086  27717900  \n",
       "3085  19891400  \n",
       "3084  19985700  "
      ]
     },
     "execution_count": 3,
     "metadata": {},
     "output_type": "execute_result"
    }
   ],
   "source": [
    "data = pd.read_csv(\"../datasets/apple/AAPL.csv\")[::-1]\n",
    "data.head()"
   ]
  },
  {
   "cell_type": "code",
   "execution_count": 4,
   "metadata": {},
   "outputs": [],
   "source": [
    "from common.preprocessing import Regression\n",
    "WINDOW = 30\n",
    "EMB_SIZE = 5\n",
    "STEP = 1\n",
    "FORECAST = 1"
   ]
  },
  {
   "cell_type": "code",
   "execution_count": 5,
   "metadata": {},
   "outputs": [
    {
     "name": "stdout",
     "output_type": "stream",
     "text": [
      "list index out of range\n"
     ]
    }
   ],
   "source": [
    "regressor = Regression(multivariate=True)\n",
    "X, Y = regressor.preprocess(data, WINDOW, STEP, FORECAST)"
   ]
  },
  {
   "cell_type": "code",
   "execution_count": 6,
   "metadata": {},
   "outputs": [],
   "source": [
    "X_train, X_test, Y_train, Y_test = split_train_test_in_unison(X, Y)"
   ]
  },
  {
   "cell_type": "code",
   "execution_count": 7,
   "metadata": {},
   "outputs": [
    {
     "name": "stderr",
     "output_type": "stream",
     "text": [
      "/anaconda3/envs/dlcv/lib/python3.6/site-packages/h5py/__init__.py:36: FutureWarning: Conversion of the second argument of issubdtype from `float` to `np.floating` is deprecated. In future, it will be treated as `np.float64 == np.dtype(float).type`.\n",
      "  from ._conv import register_converters as _register_converters\n",
      "Using TensorFlow backend.\n",
      "/Users/shankar/dev/code/ds/studies/data_science/trading/honchar/common/nn/conv/hnetregression.py:19: UserWarning: Update your `Conv1D` call to the Keras 2 API: `Conv1D(input_shape=(30, 5), filters=16, kernel_size=4, padding=\"same\")`\n",
      "  border_mode='same'\n"
     ]
    }
   ],
   "source": [
    "from common.nn.conv import HNetRegression\n",
    "inputShape = (WINDOW, EMB_SIZE)\n",
    "model = HNetRegression.build(inputShape)"
   ]
  },
  {
   "cell_type": "code",
   "execution_count": 8,
   "metadata": {},
   "outputs": [
    {
     "name": "stdout",
     "output_type": "stream",
     "text": [
      "\n",
      "Epoch 00001: val_loss improved from inf to 37.42693, saving model to output/lolkek.hdf5\n",
      "\n",
      "Epoch 00002: val_loss improved from 37.42693 to 25.93493, saving model to output/lolkek.hdf5\n",
      "\n",
      "Epoch 00003: val_loss improved from 25.93493 to 25.64243, saving model to output/lolkek.hdf5\n",
      "\n",
      "Epoch 00004: val_loss improved from 25.64243 to 15.66731, saving model to output/lolkek.hdf5\n",
      "\n",
      "Epoch 00005: val_loss improved from 15.66731 to 12.25433, saving model to output/lolkek.hdf5\n",
      "\n",
      "Epoch 00006: val_loss did not improve\n",
      "\n",
      "Epoch 00007: val_loss did not improve\n",
      "\n",
      "Epoch 00008: val_loss did not improve\n",
      "\n",
      "Epoch 00009: val_loss did not improve\n",
      "\n",
      "Epoch 00010: val_loss did not improve\n",
      "\n",
      "Epoch 00011: val_loss did not improve\n",
      "\n",
      "Epoch 00012: val_loss did not improve\n",
      "\n",
      "Epoch 00013: val_loss did not improve\n",
      "\n",
      "Epoch 00014: val_loss did not improve\n",
      "\n",
      "Epoch 00015: val_loss did not improve\n",
      "\n",
      "Epoch 00016: val_loss did not improve\n",
      "\n",
      "Epoch 00017: val_loss did not improve\n",
      "\n",
      "Epoch 00018: val_loss did not improve\n",
      "\n",
      "Epoch 00019: val_loss did not improve\n",
      "\n",
      "Epoch 00020: val_loss did not improve\n",
      "\n",
      "Epoch 00021: val_loss did not improve\n",
      "\n",
      "Epoch 00022: val_loss did not improve\n",
      "\n",
      "Epoch 00023: val_loss did not improve\n",
      "\n",
      "Epoch 00024: val_loss did not improve\n",
      "\n",
      "Epoch 00025: val_loss did not improve\n",
      "\n",
      "Epoch 00026: val_loss did not improve\n",
      "\n",
      "Epoch 00027: val_loss did not improve\n",
      "\n",
      "Epoch 00028: val_loss did not improve\n",
      "\n",
      "Epoch 00029: val_loss did not improve\n",
      "\n",
      "Epoch 00030: val_loss did not improve\n",
      "\n",
      "Epoch 00031: val_loss did not improve\n",
      "\n",
      "Epoch 00032: ReduceLROnPlateau reducing learning rate to 0.0018000000854954123.\n",
      "\n",
      "Epoch 00032: val_loss did not improve\n",
      "\n",
      "Epoch 00033: val_loss did not improve\n",
      "\n",
      "Epoch 00034: val_loss did not improve\n",
      "\n",
      "Epoch 00035: val_loss did not improve\n",
      "\n",
      "Epoch 00036: val_loss did not improve\n",
      "\n",
      "Epoch 00037: val_loss did not improve\n",
      "\n",
      "Epoch 00038: val_loss did not improve\n",
      "\n",
      "Epoch 00039: val_loss did not improve\n",
      "\n",
      "Epoch 00040: val_loss did not improve\n",
      "\n",
      "Epoch 00041: val_loss did not improve\n",
      "\n",
      "Epoch 00042: val_loss did not improve\n",
      "\n",
      "Epoch 00043: val_loss did not improve\n",
      "\n",
      "Epoch 00044: val_loss did not improve\n",
      "\n",
      "Epoch 00045: val_loss did not improve\n",
      "\n",
      "Epoch 00046: val_loss did not improve\n",
      "\n",
      "Epoch 00047: val_loss did not improve\n",
      "\n",
      "Epoch 00048: val_loss did not improve\n",
      "\n",
      "Epoch 00049: val_loss did not improve\n",
      "\n",
      "Epoch 00050: val_loss did not improve\n",
      "\n",
      "Epoch 00051: val_loss did not improve\n",
      "\n",
      "Epoch 00052: val_loss did not improve\n",
      "\n",
      "Epoch 00053: val_loss did not improve\n",
      "\n",
      "Epoch 00054: val_loss did not improve\n",
      "\n",
      "Epoch 00055: val_loss did not improve\n",
      "\n",
      "Epoch 00056: val_loss did not improve\n",
      "\n",
      "Epoch 00057: val_loss did not improve\n",
      "\n",
      "Epoch 00058: val_loss did not improve\n",
      "\n",
      "Epoch 00059: val_loss did not improve\n",
      "\n",
      "Epoch 00060: val_loss did not improve\n",
      "\n",
      "Epoch 00061: val_loss did not improve\n",
      "\n",
      "Epoch 00062: ReduceLROnPlateau reducing learning rate to 0.0016200000769458712.\n",
      "\n",
      "Epoch 00062: val_loss did not improve\n",
      "\n",
      "Epoch 00063: val_loss did not improve\n",
      "\n",
      "Epoch 00064: val_loss did not improve\n",
      "\n",
      "Epoch 00065: val_loss did not improve\n",
      "\n",
      "Epoch 00066: val_loss did not improve\n",
      "\n",
      "Epoch 00067: val_loss did not improve\n",
      "\n",
      "Epoch 00068: val_loss did not improve\n",
      "\n",
      "Epoch 00069: val_loss did not improve\n",
      "\n",
      "Epoch 00070: val_loss did not improve\n",
      "\n",
      "Epoch 00071: val_loss did not improve\n",
      "\n",
      "Epoch 00072: val_loss did not improve\n",
      "\n",
      "Epoch 00073: val_loss did not improve\n",
      "\n",
      "Epoch 00074: val_loss did not improve\n",
      "\n",
      "Epoch 00075: val_loss did not improve\n",
      "\n",
      "Epoch 00076: val_loss did not improve\n",
      "\n",
      "Epoch 00077: val_loss did not improve\n",
      "\n",
      "Epoch 00078: val_loss did not improve\n",
      "\n",
      "Epoch 00079: val_loss did not improve\n",
      "\n",
      "Epoch 00080: val_loss did not improve\n",
      "\n",
      "Epoch 00081: val_loss did not improve\n",
      "\n",
      "Epoch 00082: val_loss did not improve\n",
      "\n",
      "Epoch 00083: val_loss did not improve\n",
      "\n",
      "Epoch 00084: val_loss did not improve\n",
      "\n",
      "Epoch 00085: val_loss did not improve\n",
      "\n",
      "Epoch 00086: val_loss did not improve\n",
      "\n",
      "Epoch 00087: val_loss did not improve\n",
      "\n",
      "Epoch 00088: val_loss did not improve\n",
      "\n",
      "Epoch 00089: val_loss did not improve\n",
      "\n",
      "Epoch 00090: val_loss did not improve\n",
      "\n",
      "Epoch 00091: val_loss did not improve\n",
      "\n",
      "Epoch 00092: ReduceLROnPlateau reducing learning rate to 0.001458000100683421.\n",
      "\n",
      "Epoch 00092: val_loss did not improve\n",
      "\n",
      "Epoch 00093: val_loss did not improve\n",
      "\n",
      "Epoch 00094: val_loss did not improve\n",
      "\n",
      "Epoch 00095: val_loss did not improve\n",
      "\n",
      "Epoch 00096: val_loss did not improve\n",
      "\n",
      "Epoch 00097: val_loss did not improve\n",
      "\n",
      "Epoch 00098: val_loss did not improve\n",
      "\n",
      "Epoch 00099: val_loss did not improve\n",
      "\n",
      "Epoch 00100: val_loss did not improve\n"
     ]
    }
   ],
   "source": [
    "from keras.callbacks import ModelCheckpoint, ReduceLROnPlateau\n",
    "reduce_lr = ReduceLROnPlateau(monitor='val_acc', factor=0.9, patience=30, min_lr=0.000001, verbose=1)\n",
    "checkpointer = ModelCheckpoint('output/lolkek.hdf5', verbose=1, save_best_only=True)\n",
    "\n",
    "H = model.fit(X_train, Y_train, epochs=100, batch_size=128, verbose=0, validation_data=(X_test, Y_test),\n",
    "    callbacks=[reduce_lr, checkpointer], shuffle=True)"
   ]
  },
  {
   "cell_type": "code",
   "execution_count": 9,
   "metadata": {},
   "outputs": [],
   "source": [
    "model.load_weights(\"output/lolkek.hdf5\")\n",
    "pred = model.predict(np.array(X_test))"
   ]
  },
  {
   "cell_type": "code",
   "execution_count": 10,
   "metadata": {},
   "outputs": [
    {
     "name": "stdout",
     "output_type": "stream",
     "text": [
      "[[1.]]\n"
     ]
    }
   ],
   "source": [
    "from sklearn.metrics import classification_report\n",
    "from sklearn.metrics import confusion_matrix\n",
    "\n",
    "C = confusion_matrix([np.argmax(y) for y in Y_test], [np.argmax(y) for y in pred])\n",
    "print(C/C.astype(np.float).sum(axis=1))"
   ]
  },
  {
   "cell_type": "code",
   "execution_count": 11,
   "metadata": {},
   "outputs": [
    {
     "data": {
      "image/png": "[encoded data removed]",
      "text/plain": [
       "<Figure size 432x288 with 1 Axes>"
      ]
     },
     "metadata": {},
     "output_type": "display_data"
    }
   ],
   "source": [
    "plt.figure()\n",
    "plt.plot(H.history['loss'])\n",
    "plt.plot(H.history['val_loss'])\n",
    "plt.title('Model Loss')\n",
    "plt.ylabel('Loss')\n",
    "plt.xlabel('Epochs')\n",
    "plt.legend(['train', 'test'], loc='best')\n",
    "plt.show()"
   ]
  },
  {
   "cell_type": "code",
   "execution_count": 12,
   "metadata": {},
   "outputs": [
    {
     "data": {
      "image/png": "[encoded data removed]",
      "text/plain": [
       "<Figure size 432x288 with 1 Axes>"
      ]
     },
     "metadata": {},
     "output_type": "display_data"
    }
   ],
   "source": [
    "plt.figure()\n",
    "plt.plot(H.history['acc'])\n",
    "plt.plot(H.history['val_acc'])\n",
    "plt.title('Model Accuracy')\n",
    "plt.ylabel('Accuracy')\n",
    "plt.xlabel('Epochs')\n",
    "plt.legend(['train', 'test'], loc='best')\n",
    "plt.show()"
   ]
  },
  {
   "cell_type": "code",
   "execution_count": 18,
   "metadata": {},
   "outputs": [
    {
     "data": {
      "text/plain": [
       "array([11.95248 , 11.911057, 11.81761 , 11.688519, 11.406254, 11.675033,\n",
       "       11.441896, 11.016089, 10.945762, 10.663499])"
      ]
     },
     "execution_count": 18,
     "metadata": {},
     "output_type": "execute_result"
    }
   ],
   "source": [
    "Y_test[:10]"
   ]
  },
  {
   "cell_type": "code",
   "execution_count": 17,
   "metadata": {},
   "outputs": [
    {
     "data": {
      "text/plain": [
       "array([[4.6958547],\n",
       "       [4.5197215],\n",
       "       [4.7290606],\n",
       "       [4.8487563],\n",
       "       [4.7457957],\n",
       "       [5.0638666],\n",
       "       [4.828689 ],\n",
       "       [4.882513 ],\n",
       "       [3.649838 ],\n",
       "       [2.6089382]], dtype=float32)"
      ]
     },
     "execution_count": 17,
     "metadata": {},
     "output_type": "execute_result"
    }
   ],
   "source": [
    "pred[:10]"
   ]
  },
  {
   "cell_type": "code",
   "execution_count": 20,
   "metadata": {},
   "outputs": [
    {
     "data": {
      "image/png": "[encoded data removed]",
      "text/plain": [
       "<Figure size 432x288 with 1 Axes>"
      ]
     },
     "metadata": {},
     "output_type": "display_data"
    }
   ],
   "source": [
    "plt.figure()\n",
    "plt.plot(Y_test[:])\n",
    "plt.plot(pred[:])\n",
    "plt.title('Predicted vs Actual')\n",
    "plt.ylabel('Value')\n",
    "plt.xlabel('Observation')\n",
    "plt.legend(['Y', 'Y_hat'], loc='best')\n",
    "plt.show()\n",
    "\n",
    "\n"
   ]
  },
  {
   "cell_type": "code",
   "execution_count": null,
   "metadata": {},
   "outputs": [],
   "source": []
  }
 ],
 "metadata": {
  "kernelspec": {
   "display_name": "Python 3",
   "language": "python",
   "name": "python3"
  },
  "language_info": {
   "codemirror_mode": {
    "name": "ipython",
    "version": 3
   },
   "file_extension": ".py",
   "mimetype": "text/x-python",
   "name": "python",
   "nbconvert_exporter": "python",
   "pygments_lexer": "ipython3",
   "version": "3.6.4"
  }
 },
 "nbformat": 4,
 "nbformat_minor": 2
}
