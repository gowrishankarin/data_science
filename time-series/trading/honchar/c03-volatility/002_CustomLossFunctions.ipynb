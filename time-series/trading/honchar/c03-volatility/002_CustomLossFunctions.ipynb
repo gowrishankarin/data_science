{
 "cells": [
  {
   "cell_type": "code",
   "execution_count": 1,
   "metadata": {},
   "outputs": [
    {
     "name": "stderr",
     "output_type": "stream",
     "text": [
      "/anaconda3/envs/dlcv/lib/python3.6/site-packages/h5py/__init__.py:36: FutureWarning: Conversion of the second argument of issubdtype from `float` to `np.floating` is deprecated. In future, it will be treated as `np.float64 == np.dtype(float).type`.\n",
      "  from ._conv import register_converters as _register_converters\n",
      "Using TensorFlow backend.\n"
     ]
    }
   ],
   "source": [
    "from keras import backend as K"
   ]
  },
  {
   "cell_type": "code",
   "execution_count": 7,
   "metadata": {},
   "outputs": [],
   "source": [
    "EPSILON = 1.0e-9"
   ]
  },
  {
   "cell_type": "code",
   "execution_count": 6,
   "metadata": {},
   "outputs": [],
   "source": [
    "def qlike_loss(y, y_hat):\n",
    "    y_hat = K.clip(y_hat, EPSILON, 1.0 - epsilon)\n",
    "    loss = K.log(y_hat) + (y / y_hat)\n",
    "    return K.mean(loss, axis=-1)\n",
    "\n",
    "def mse_log(y, y_hat):\n",
    "    y_hat = K.clip(y_hat, EPSILON, 1.0 - epsilon)\n",
    "    loss = K.square(K.log(y) - K.log(y_hat))\n",
    "    return K.mean(loss, axis=-1)\n",
    "\n",
    "def mse_sd(y, y_hat):\n",
    "    y_hat = K.clip(y_hat, EPSILON, 1.0 - epsilon)\n",
    "    loss = K.square(y - k.sqrt(y_hat))\n",
    "    return K.mean(loss, axis=-1)\n",
    "\n",
    "def hmse(y, y_hat):\n",
    "    y_hat = K.clip(y_hat, EPSILON, 1.0 - epsilon)\n",
    "    loss = K.square(y / y_hat - 1.0)\n",
    "    return K.mean(loss, axis=-1)\n",
    "\n",
    "def stock_loss(y, y_hat):\n",
    "    alpah = 100.0\n",
    "    loss = K.switch(K.less(y * y_hat, 0), alpha * y_hat ** 2 - K.sign(y) * y_hat + K.abs(y), K.abs(y - y_hat))\n",
    "    return K.mean(loss, axis=-1)"
   ]
  },
  {
   "cell_type": "code",
   "execution_count": null,
   "metadata": {},
   "outputs": [],
   "source": []
  }
 ],
 "metadata": {
  "kernelspec": {
   "display_name": "Python 3",
   "language": "python",
   "name": "python3"
  },
  "language_info": {
   "codemirror_mode": {
    "name": "ipython",
    "version": 3
   },
   "file_extension": ".py",
   "mimetype": "text/x-python",
   "name": "python",
   "nbconvert_exporter": "python",
   "pygments_lexer": "ipython3",
   "version": "3.6.4"
  }
 },
 "nbformat": 4,
 "nbformat_minor": 2
}
