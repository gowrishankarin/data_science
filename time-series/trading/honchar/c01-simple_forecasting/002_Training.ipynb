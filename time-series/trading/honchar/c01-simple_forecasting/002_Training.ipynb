{
 "cells": [
  {
   "cell_type": "code",
   "execution_count": 1,
   "metadata": {},
   "outputs": [
    {
     "name": "stderr",
     "output_type": "stream",
     "text": [
      "/anaconda3/envs/dlcv/lib/python3.6/site-packages/h5py/__init__.py:36: FutureWarning: Conversion of the second argument of issubdtype from `float` to `np.floating` is deprecated. In future, it will be treated as `np.float64 == np.dtype(float).type`.\n",
      "  from ._conv import register_converters as _register_converters\n",
      "Using TensorFlow backend.\n"
     ]
    }
   ],
   "source": [
    "import numpy as np\n",
    "from sklearn import preprocessing\n",
    "from sklearn.metrics import mean_squared_error, classification_report\n",
    "import matplotlib.pylab as plt\n",
    "import datetime as dt\n",
    "\n",
    "import time\n",
    "\n",
    "from keras.models import Sequential#, Graph\n",
    "from keras.layers.core import Dense, Dropout, Activation, Flatten\n",
    "from keras.layers.recurrent import LSTM, GRU\n",
    "from keras.layers import Convolution1D, MaxPooling1D\n",
    "from keras.callbacks import Callback\n"
   ]
  },
  {
   "cell_type": "code",
   "execution_count": 2,
   "metadata": {},
   "outputs": [],
   "source": [
    "from preprocessing import load_snp_close, split_into_chunks, create_Xt_Yt"
   ]
  },
  {
   "cell_type": "code",
   "execution_count": 3,
   "metadata": {},
   "outputs": [],
   "source": [
    "class TrainingHistory(Callback):\n",
    "    \n",
    "    def on_train_begin(self, logs={}):\n",
    "        self.losses = []\n",
    "        self.accuracy = []\n",
    "        self.predictions = []\n",
    "        self.predictions = []\n",
    "        self.i = 0\n",
    "        self.save_every = 5000\n",
    "        \n",
    "    def on_batch_end(self, batch, logs={}):\n",
    "        self.losses.append(logs.get('loss'))\n",
    "        self.accuracy.append(logs.get('acc'))\n",
    "        self.i += 1\n",
    "        \n",
    "        if self.i % self.save_every == 0:\n",
    "            pred = model.predict(X_train)\n",
    "            self.predictions.append(pred)"
   ]
  },
  {
   "cell_type": "code",
   "execution_count": 4,
   "metadata": {},
   "outputs": [],
   "source": [
    "TRAIN_SIZE = 30\n",
    "TARGET_TIME = 1\n",
    "LAG_SIZE = 1\n",
    "EMB_SIZE = 1"
   ]
  },
  {
   "cell_type": "code",
   "execution_count": 5,
   "metadata": {},
   "outputs": [
    {
     "name": "stdout",
     "output_type": "stream",
     "text": [
      "[INFO] Loading SNP Dataset\n"
     ]
    },
    {
     "data": {
      "text/plain": [
       "[<matplotlib.lines.Line2D at 0x10d3896d8>]"
      ]
     },
     "execution_count": 5,
     "metadata": {},
     "output_type": "execute_result"
    },
    {
     "data": {
      "image/png": "[encoded data removed]",
      "text/plain": [
       "<Figure size 432x288 with 1 Axes>"
      ]
     },
     "metadata": {},
     "output_type": "display_data"
    }
   ],
   "source": [
    "print(\"[INFO] Loading SNP Dataset\")\n",
    "timeseries, dates = load_snp_close()\n",
    "dates = [dt.datetime.strptime(d, '%Y-%m-%d').date() for d in dates]\n",
    "plt.plot(dates, timeseries)"
   ]
  },
  {
   "cell_type": "code",
   "execution_count": 6,
   "metadata": {},
   "outputs": [],
   "source": [
    "TRAIN_SIZE = 20\n",
    "TARGET_TIME = 1\n",
    "LAG_SIZE = 1\n",
    "EMB_SIZE = 1"
   ]
  },
  {
   "cell_type": "code",
   "execution_count": 7,
   "metadata": {},
   "outputs": [],
   "source": [
    "X, Y = split_into_chunks(timeseries, TRAIN_SIZE, TARGET_TIME, LAG_SIZE,\n",
    "    binary=False, scale=True)"
   ]
  },
  {
   "cell_type": "code",
   "execution_count": 8,
   "metadata": {},
   "outputs": [
    {
     "name": "stdout",
     "output_type": "stream",
     "text": [
      "16684\n",
      "16705\n"
     ]
    }
   ],
   "source": [
    "print(len(X))\n",
    "print(len(timeseries))"
   ]
  },
  {
   "cell_type": "code",
   "execution_count": 9,
   "metadata": {},
   "outputs": [],
   "source": [
    "\n",
    "X, Y = np.array(X), np.array(Y)\n",
    "X_train, X_test, Y_train, Y_test = create_Xt_Yt(X, Y, percentage=0.9)"
   ]
  },
  {
   "cell_type": "code",
   "execution_count": 10,
   "metadata": {},
   "outputs": [
    {
     "name": "stdout",
     "output_type": "stream",
     "text": [
      "(16684, 20)\n",
      "(16684,)\n",
      "(15015, 20)\n",
      "(15015,)\n",
      "(1669, 20)\n",
      "(1669,)\n"
     ]
    }
   ],
   "source": [
    "print(X.shape)\n",
    "print(Y.shape)\n",
    "print(X_train.shape)\n",
    "print(Y_train.shape)\n",
    "print(X_test.shape)\n",
    "print(Y_test.shape)"
   ]
  },
  {
   "cell_type": "code",
   "execution_count": 11,
   "metadata": {},
   "outputs": [],
   "source": [
    "Xp, Yp = split_into_chunks(timeseries, TRAIN_SIZE, TARGET_TIME, LAG_SIZE,\n",
    "    binary=False, scale=False)\n",
    "Xp, Yp = np.array(Xp), np.array(Yp)\n",
    "X_trainp, X_testp, Y_trainp, Y_testp = create_Xt_Yt(Xp, Yp, percentage=0.9)"
   ]
  },
  {
   "cell_type": "code",
   "execution_count": 12,
   "metadata": {},
   "outputs": [
    {
     "name": "stdout",
     "output_type": "stream",
     "text": [
      "[INFO] Building Model\n"
     ]
    }
   ],
   "source": [
    "print(\"[INFO] Building Model\")\n",
    "model = Sequential()\n",
    "model.add(Dense(500, input_shape=(TRAIN_SIZE,)))\n",
    "model.add(Activation('relu'))\n",
    "model.add(Dropout(0.25))\n",
    "\n",
    "model.add(Dense(250))\n",
    "model.add(Activation('relu'))\n",
    "\n",
    "model.add(Dense(1))\n",
    "model.add(Activation('linear'))\n",
    "model.compile(optimizer='adam', loss='mse')\n"
   ]
  },
  {
   "cell_type": "code",
   "execution_count": 13,
   "metadata": {},
   "outputs": [
    {
     "data": {
      "text/plain": [
       "(1669, 20)"
      ]
     },
     "execution_count": 13,
     "metadata": {},
     "output_type": "execute_result"
    }
   ],
   "source": [
    "X_test.shape"
   ]
  },
  {
   "cell_type": "code",
   "execution_count": 14,
   "metadata": {},
   "outputs": [
    {
     "name": "stdout",
     "output_type": "stream",
     "text": [
      "[datetime.date(2016, 5, 23), datetime.date(2016, 5, 20), datetime.date(2016, 5, 19), datetime.date(2016, 5, 18), datetime.date(2016, 5, 17), datetime.date(2016, 5, 16), datetime.date(2016, 5, 13), datetime.date(2016, 5, 12), datetime.date(2016, 5, 11), datetime.date(2016, 5, 10), datetime.date(2016, 5, 9), datetime.date(2016, 5, 6), datetime.date(2016, 5, 5), datetime.date(2016, 5, 4), datetime.date(2016, 5, 3), datetime.date(2016, 5, 2), datetime.date(2016, 4, 29), datetime.date(2016, 4, 28), datetime.date(2016, 4, 27), datetime.date(2016, 4, 26)]\n",
      "16705\n",
      "range(0, 16705)\n",
      "[2048.040039, 2052.320068, 2040.040039, 2047.630005, 2047.209961, 2066.659912, 2046.609985, 2064.110107, 2064.459961, 2084.389893, 2058.689941, 2057.139893, 2050.629883, 2051.120117, 2063.370117, 2081.429932, 2065.300049, 2075.810059, 2095.149902, 2091.699951]\n",
      "2091.580078\n",
      "[2048.040039 2052.320068 2040.040039 2047.630005 2047.209961 2066.659912\n",
      " 2046.609985 2064.110107 2064.459961 2084.389893 2058.689941 2057.139893\n",
      " 2050.629883 2051.120117 2063.370117 2081.429932 2065.300049 2075.810059\n",
      " 2095.149902 2091.699951 2087.790039]\n",
      "[-0.98144104 -0.71474381 -1.47993715 -1.00699108 -1.03316487  0.17880076\n",
      " -1.07055058  0.01991728  0.04171738  1.2835916  -0.31782419 -0.4144108\n",
      " -0.82006264 -0.78951517 -0.02619299  1.09915046  0.09406496  0.74896486\n",
      "  1.95406943  1.73909604  1.49546154]\n",
      "[-0.98144104 -0.71474381 -1.47993715 -1.00699108 -1.03316487  0.17880076\n",
      " -1.07055058  0.01991728  0.04171738  1.2835916  -0.31782419 -0.4144108\n",
      " -0.82006264 -0.78951517 -0.02619299  1.09915046  0.09406496  0.74896486\n",
      "  1.95406943  1.73909604]\n",
      "1.4954615434001564\n"
     ]
    }
   ],
   "source": [
    "from sklearn import preprocessing\n",
    "print(dates[:20])\n",
    "print(len(timeseries))\n",
    "print(range(0, len(timeseries), 1))\n",
    "print(timeseries[0:20])\n",
    "print(timeseries[21])\n",
    "print(np.array(timeseries[0:21]))\n",
    "series = preprocessing.scale(np.array(timeseries[0:21]))\n",
    "print(series)\n",
    "print(series[:-1])\n",
    "print(series[-1])"
   ]
  },
  {
   "cell_type": "code",
   "execution_count": 15,
   "metadata": {},
   "outputs": [
    {
     "name": "stdout",
     "output_type": "stream",
     "text": [
      "Train on 13513 samples, validate on 1502 samples\n",
      "Epoch 1/5\n",
      "13513/13513 [==============================] - 1s 58us/step - loss: 0.3444 - val_loss: 0.0866\n",
      "Epoch 2/5\n",
      "13513/13513 [==============================] - 1s 49us/step - loss: 0.0754 - val_loss: 0.0119\n",
      "Epoch 3/5\n",
      "13513/13513 [==============================] - 1s 48us/step - loss: 0.0389 - val_loss: 0.0068\n",
      "Epoch 4/5\n",
      "13513/13513 [==============================] - 1s 48us/step - loss: 0.0286 - val_loss: 0.0048\n",
      "Epoch 5/5\n",
      "13513/13513 [==============================] - 1s 49us/step - loss: 0.0218 - val_loss: 0.0049\n",
      "1669/1669 [==============================] - 0s 14us/step\n",
      "0.004812607084668239\n"
     ]
    }
   ],
   "source": [
    "model.fit(X_train, Y_train, epochs=5, batch_size=128, verbose=1, validation_split=0.1)\n",
    "score = model.evaluate(X_test, Y_test, batch_size=128)\n",
    "print(score)"
   ]
  },
  {
   "cell_type": "code",
   "execution_count": 16,
   "metadata": {},
   "outputs": [
    {
     "name": "stdout",
     "output_type": "stream",
     "text": [
      "937.358\n"
     ]
    }
   ],
   "source": [
    "params = []\n",
    "for xt in X_testp:\n",
    "    xt = np.array(xt)\n",
    "    mean_ = xt.mean()\n",
    "    scale_ = xt.std()\n",
    "    params.append([mean_, scale_])\n",
    "    \n",
    "predicted = model.predict(X_test)\n",
    "new_predicted = []\n",
    "for pred, par in zip(predicted, params):\n",
    "    a = pred * par[1]\n",
    "    a += par[0]\n",
    "    new_predicted.append(a)\n",
    "    \n",
    "mse = mean_squared_error(predicted, new_predicted)\n",
    "print(mse)"
   ]
  },
  {
   "cell_type": "code",
   "execution_count": 17,
   "metadata": {},
   "outputs": [
    {
     "data": {
      "image/png": "[encoded data removed]",
      "text/plain": [
       "<Figure size 432x288 with 1 Axes>"
      ]
     },
     "metadata": {},
     "output_type": "display_data"
    }
   ],
   "source": [
    "try:\n",
    "    fig = plt.figure()\n",
    "    plt.plot(predicted[:150], color='blue')\n",
    "    plt.plot(Y_test[:150], color='black')\n",
    "    plt.plot(Y_testp[:150], color='green')\n",
    "    plt.plot(new_predicted[:150], color='red')\n",
    "    plt.show()\n",
    "except Exception as e:\n",
    "    print(str(e))"
   ]
  },
  {
   "cell_type": "code",
   "execution_count": null,
   "metadata": {},
   "outputs": [],
   "source": [
    "\n",
    "\n",
    "\n",
    "\n",
    "\n",
    "\n",
    "\n",
    "\n",
    "\n",
    "\n",
    "\n",
    "\n",
    "\n",
    "\n",
    "\n",
    "\n",
    "\n",
    "\n",
    "\n",
    "\n",
    "\n",
    "\n",
    "\n",
    "\n",
    "\n",
    "\n",
    "\n",
    "\n",
    "\n",
    "\n",
    "\n",
    "\n",
    "\n",
    "\n",
    "\n",
    "\n",
    "\n",
    "\n",
    "\n",
    "\n",
    "\n",
    "\n",
    "\n",
    "\n",
    "\n",
    "\n",
    "\n"
   ]
  }
 ],
 "metadata": {
  "kernelspec": {
   "display_name": "Python 3",
   "language": "python",
   "name": "python3"
  },
  "language_info": {
   "codemirror_mode": {
    "name": "ipython",
    "version": 3
   },
   "file_extension": ".py",
   "mimetype": "text/x-python",
   "name": "python",
   "nbconvert_exporter": "python",
   "pygments_lexer": "ipython3",
   "version": "3.6.4"
  }
 },
 "nbformat": 4,
 "nbformat_minor": 2
}
