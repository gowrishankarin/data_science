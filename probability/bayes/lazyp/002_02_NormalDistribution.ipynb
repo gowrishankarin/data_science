{
 "cells": [
  {
   "cell_type": "code",
   "execution_count": 1,
   "metadata": {},
   "outputs": [],
   "source": [
    "import random\n",
    "import numpy as np\n",
    "import pandas as pd\n",
    "import math\n",
    "\n",
    "import matplotlib.pyplot as plt\n",
    "\n",
    "%matplotlib inline"
   ]
  },
  {
   "cell_type": "markdown",
   "metadata": {},
   "source": [
    "### Normal Distribution: Coin Flips"
   ]
  },
  {
   "cell_type": "code",
   "execution_count": null,
   "metadata": {},
   "outputs": [],
   "source": [
    "def heads_tails(number_of_flips):\n",
    "    tails_count = 0\n",
    "    heads_count = 0\n",
    "    for i in range(number_of_flips):\n",
    "        rand = random.randint(0, 1)\n",
    "        if rand == 1:\n",
    "            tails_count += 1\n",
    "        else:\n",
    "            heads_count += 1\n",
    "            \n",
    "    print('Total Flips: {0:10}, Tails: {1:10}, Heads: {2:10}'.format(number_of_flips, tails_count, heads_count))\n",
    "    return (heads_count/number_of_flips)*100"
   ]
  },
  {
   "cell_type": "code",
   "execution_count": null,
   "metadata": {},
   "outputs": [],
   "source": [
    "flips = [1, 2, 5, 10, 25, 50, 100, 200, 500, 1000, 2000, 10000, 100000]\n",
    "[heads_tails(a) for a in flips]"
   ]
  },
  {
   "cell_type": "markdown",
   "metadata": {},
   "source": [
    "### Normal Distribution: Throw Dice"
   ]
  },
  {
   "cell_type": "code",
   "execution_count": null,
   "metadata": {},
   "outputs": [],
   "source": [
    "def dice_throw(number_of_throws):\n",
    "    face_of_the_dice = [0, 0, 0, 0, 0, 0]\n",
    "    for i in range(number_of_throws):\n",
    "        rand = random.randint(1, 6)\n",
    "        face_of_the_dice[rand-1] += 1\n",
    "            \n",
    "    print('Total Throws: {0:8}, 1s: {1:8}, 2s: {2:8}, 3s: {3:8}, 4s: {4:8}, 5s: {5:8}, 6s: {6:8}'.format(number_of_throws, face_of_the_dice[0], face_of_the_dice[1], face_of_the_dice[2], face_of_the_dice[3], face_of_the_dice[4], face_of_the_dice[5]))\n",
    "    return '1s: {0:8}, 2s: {1:8}, 3s: {2:8}, 4s: {3:8}, 5s: {4:8}, 6s: {5:8}'.format(face_of_the_dice[0]/number_of_throws, face_of_the_dice[1]/number_of_throws, face_of_the_dice[2]/number_of_throws, face_of_the_dice[3]/number_of_throws, face_of_the_dice[4]/number_of_throws, face_of_the_dice[5]/number_of_throws)"
   ]
  },
  {
   "cell_type": "code",
   "execution_count": null,
   "metadata": {},
   "outputs": [],
   "source": [
    "flips = [1, 2, 5, 10, 25, 50, 100, 200, 500, 1000, 2000, 10000, 100000]\n",
    "[dice_throw(a) for a in flips]"
   ]
  },
  {
   "cell_type": "markdown",
   "metadata": {},
   "source": [
    "### n Coin Flips"
   ]
  },
  {
   "cell_type": "code",
   "execution_count": 5,
   "metadata": {},
   "outputs": [],
   "source": [
    "NUM_COINS = 5\n",
    "PROBABILITY = 0.25"
   ]
  },
  {
   "cell_type": "code",
   "execution_count": null,
   "metadata": {},
   "outputs": [],
   "source": [
    "def coin_flip(no_of_coins, probability):\n",
    "    flips = [1 if(random.random() < probability) else 0 for flip in range(no_of_coins)]\n",
    "    return flips"
   ]
  },
  {
   "cell_type": "code",
   "execution_count": null,
   "metadata": {},
   "outputs": [],
   "source": [
    "def n_coin_flip(n_coin):\n",
    "    return [coin_flip(n_coin, PROBABILITY) for i in range(2**n_coin)]"
   ]
  },
  {
   "cell_type": "code",
   "execution_count": null,
   "metadata": {},
   "outputs": [],
   "source": [
    "flip_series = n_coin_flip(NUM_COINS)\n",
    "df_flips = pd.DataFrame(flip_series, columns=['C'+str(i+1) for i in range(NUM_COINS)])"
   ]
  },
  {
   "cell_type": "code",
   "execution_count": null,
   "metadata": {},
   "outputs": [],
   "source": [
    "df_flips"
   ]
  },
  {
   "cell_type": "code",
   "execution_count": null,
   "metadata": {},
   "outputs": [],
   "source": [
    "df_flips[\"Head Count\"] = df_flips.sum(axis=1)"
   ]
  },
  {
   "cell_type": "code",
   "execution_count": null,
   "metadata": {},
   "outputs": [],
   "source": [
    "df_flips"
   ]
  },
  {
   "cell_type": "code",
   "execution_count": null,
   "metadata": {},
   "outputs": [],
   "source": [
    "data = pd.DataFrame(df_flips[\"Head Count\"].value_counts())\n",
    "data"
   ]
  },
  {
   "cell_type": "code",
   "execution_count": null,
   "metadata": {},
   "outputs": [],
   "source": [
    "data[\"Head Count\"].sort_index().plot(kind=\"bar\")"
   ]
  },
  {
   "cell_type": "code",
   "execution_count": null,
   "metadata": {},
   "outputs": [],
   "source": [
    "data[\"Head Count\"].sort_index()"
   ]
  },
  {
   "cell_type": "markdown",
   "metadata": {},
   "source": [
    "### n Coin n Flips\n",
    "\n"
   ]
  },
  {
   "cell_type": "code",
   "execution_count": 9,
   "metadata": {},
   "outputs": [],
   "source": [
    "NUM_FLIPS = 100"
   ]
  },
  {
   "cell_type": "code",
   "execution_count": 10,
   "metadata": {},
   "outputs": [],
   "source": [
    "def flip_series():\n",
    "    flip_series = n_coin_flip(NUM_COINS)\n",
    "    df_flips = pd.DataFrame(flip_series, columns=['C'+str(i+1) for i in range(NUM_COINS)])\n",
    "    return pd.DataFrame(df_flips.sum(axis=1).value_counts().sort_index())"
   ]
  },
  {
   "cell_type": "code",
   "execution_count": null,
   "metadata": {},
   "outputs": [],
   "source": [
    "series = pd.DataFrame()\n",
    "for i in range(NUM_FLIPS):\n",
    "    this_series = flip_series()\n",
    "    series[\"I\"+str(i+1)] = this_series[0]"
   ]
  },
  {
   "cell_type": "code",
   "execution_count": null,
   "metadata": {},
   "outputs": [],
   "source": [
    "series.fillna(value=0)"
   ]
  },
  {
   "cell_type": "code",
   "execution_count": null,
   "metadata": {},
   "outputs": [],
   "source": [
    "series.columns\n",
    "mean_of_series = pd.DataFrame(series.mean(axis=1))\n",
    "mean_of_series"
   ]
  },
  {
   "cell_type": "code",
   "execution_count": null,
   "metadata": {},
   "outputs": [],
   "source": [
    "mean_of_series.plot(kind=\"bar\")"
   ]
  },
  {
   "cell_type": "code",
   "execution_count": null,
   "metadata": {},
   "outputs": [],
   "source": [
    "for i in range(len(series.columns)):\n",
    "    series[series.columns[i]].plot(kind=\"bar\")\n",
    "    plt.show()"
   ]
  },
  {
   "cell_type": "markdown",
   "metadata": {},
   "source": [
    "### PMF of Binomial Distribution\n",
    "\n"
   ]
  },
  {
   "cell_type": "markdown",
   "metadata": {},
   "source": [
    "#### (n  x)(p^x)(1-p)^(n-p)\n",
    "#### (n  x) = n!/x!(n-x)!"
   ]
  },
  {
   "cell_type": "code",
   "execution_count": 64,
   "metadata": {},
   "outputs": [],
   "source": [
    "x = np.arange(100) # This creates a array of 1 to 100 -> ie how many flips HEAD can occur\n",
    "n = 100 # NUM_FLIPS\n",
    "p = 0.25 # FAIR COIN"
   ]
  },
  {
   "cell_type": "code",
   "execution_count": 65,
   "metadata": {},
   "outputs": [
    {
     "data": {
      "text/plain": [
       "100"
      ]
     },
     "execution_count": 65,
     "metadata": {},
     "output_type": "execute_result"
    }
   ],
   "source": [
    "from scipy.stats import binom\n",
    "pmf_bi = binom.pmf(x, n, p) # This scipy method solves the above formula\n",
    "len(pmf_bi)"
   ]
  },
  {
   "cell_type": "code",
   "execution_count": 66,
   "metadata": {},
   "outputs": [
    {
     "data": {
      "text/plain": [
       "[<matplotlib.lines.Line2D at 0x1a20fc7198>]"
      ]
     },
     "execution_count": 66,
     "metadata": {},
     "output_type": "execute_result"
    },
    {
     "data": {
      "image/png": "[encoded data removed]",
      "text/plain": [
       "<Figure size 432x288 with 1 Axes>"
      ]
     },
     "metadata": {
      "needs_background": "light"
     },
     "output_type": "display_data"
    }
   ],
   "source": [
    "plt.plot(pmf_bi)"
   ]
  },
  {
   "cell_type": "code",
   "execution_count": 61,
   "metadata": {},
   "outputs": [
    {
     "data": {
      "text/plain": [
       "0.9999999999999712"
      ]
     },
     "execution_count": 61,
     "metadata": {},
     "output_type": "execute_result"
    }
   ],
   "source": [
    "sum(pmf_bi) # Area under the curve is 1"
   ]
  },
  {
   "cell_type": "code",
   "execution_count": 70,
   "metadata": {},
   "outputs": [
    {
     "data": {
      "text/plain": [
       "0.02347771748369754"
      ]
     },
     "execution_count": 70,
     "metadata": {},
     "output_type": "execute_result"
    }
   ],
   "source": [
    "np.std(pmf_bi)"
   ]
  },
  {
   "cell_type": "code",
   "execution_count": null,
   "metadata": {},
   "outputs": [],
   "source": []
  },
  {
   "cell_type": "code",
   "execution_count": null,
   "metadata": {},
   "outputs": [],
   "source": []
  },
  {
   "cell_type": "code",
   "execution_count": null,
   "metadata": {},
   "outputs": [],
   "source": []
  },
  {
   "cell_type": "code",
   "execution_count": 63,
   "metadata": {},
   "outputs": [
    {
     "name": "stdout",
     "output_type": "stream",
     "text": [
      "Sum: 0.999999999999971, Mean: 0.00999999999999971, Median: 1.9131397064512497e-07, Standard Deviation: 0.021528696897223934\n"
     ]
    }
   ],
   "source": [
    "print(\"Sum: {0}, Mean: {1}, Median: {2}, Standard Deviation: {3}\".format(pmf_bi.sum(), np.mean(pmf_bi), np.median(pmf_bi), np.std(pmf_bi)))"
   ]
  },
  {
   "cell_type": "code",
   "execution_count": null,
   "metadata": {},
   "outputs": [],
   "source": []
  }
 ],
 "metadata": {
  "kernelspec": {
   "display_name": "Python 3",
   "language": "python",
   "name": "python3"
  },
  "language_info": {
   "codemirror_mode": {
    "name": "ipython",
    "version": 3
   },
   "file_extension": ".py",
   "mimetype": "text/x-python",
   "name": "python",
   "nbconvert_exporter": "python",
   "pygments_lexer": "ipython3",
   "version": "3.6.8"
  }
 },
 "nbformat": 4,
 "nbformat_minor": 2
}
