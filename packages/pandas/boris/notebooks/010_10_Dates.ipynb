{
 "cells": [
  {
   "cell_type": "code",
   "execution_count": 1,
   "metadata": {},
   "outputs": [],
   "source": [
    "import pandas as pd\n",
    "import datetime as dt"
   ]
  },
  {
   "cell_type": "code",
   "execution_count": 2,
   "metadata": {},
   "outputs": [],
   "source": [
    "someday = dt.date(1978, 8, 12)"
   ]
  },
  {
   "cell_type": "code",
   "execution_count": 3,
   "metadata": {},
   "outputs": [
    {
     "data": {
      "text/plain": [
       "1978"
      ]
     },
     "execution_count": 3,
     "metadata": {},
     "output_type": "execute_result"
    }
   ],
   "source": [
    "someday.year"
   ]
  },
  {
   "cell_type": "code",
   "execution_count": 4,
   "metadata": {},
   "outputs": [
    {
     "data": {
      "text/plain": [
       "8"
      ]
     },
     "execution_count": 4,
     "metadata": {},
     "output_type": "execute_result"
    }
   ],
   "source": [
    "someday.month"
   ]
  },
  {
   "cell_type": "code",
   "execution_count": 5,
   "metadata": {},
   "outputs": [
    {
     "data": {
      "text/plain": [
       "12"
      ]
     },
     "execution_count": 5,
     "metadata": {},
     "output_type": "execute_result"
    }
   ],
   "source": [
    "someday.day"
   ]
  },
  {
   "cell_type": "code",
   "execution_count": 6,
   "metadata": {},
   "outputs": [
    {
     "data": {
      "text/plain": [
       "datetime.datetime(1978, 8, 12, 0, 0)"
      ]
     },
     "execution_count": 6,
     "metadata": {},
     "output_type": "execute_result"
    }
   ],
   "source": [
    "dt.datetime(1978, 8, 12)"
   ]
  },
  {
   "cell_type": "code",
   "execution_count": 7,
   "metadata": {},
   "outputs": [],
   "source": [
    "sometime = dt.datetime(1978, 8, 12, 17, 45, 52)"
   ]
  },
  {
   "cell_type": "code",
   "execution_count": 8,
   "metadata": {},
   "outputs": [
    {
     "data": {
      "text/plain": [
       "'1978-08-12 17:45:52'"
      ]
     },
     "execution_count": 8,
     "metadata": {},
     "output_type": "execute_result"
    }
   ],
   "source": [
    "str(dt.datetime(1978, 8, 12, 17, 45, 52))"
   ]
  },
  {
   "cell_type": "code",
   "execution_count": 9,
   "metadata": {},
   "outputs": [
    {
     "data": {
      "text/plain": [
       "1978"
      ]
     },
     "execution_count": 9,
     "metadata": {},
     "output_type": "execute_result"
    }
   ],
   "source": [
    "sometime.year"
   ]
  },
  {
   "cell_type": "markdown",
   "metadata": {},
   "source": [
    "### The pandas Timestamp Object"
   ]
  },
  {
   "cell_type": "code",
   "execution_count": 10,
   "metadata": {},
   "outputs": [
    {
     "data": {
      "text/plain": [
       "Timestamp('2015-03-21 00:00:00')"
      ]
     },
     "execution_count": 10,
     "metadata": {},
     "output_type": "execute_result"
    }
   ],
   "source": [
    "pd.Timestamp(\"2015-03-21\")"
   ]
  },
  {
   "cell_type": "code",
   "execution_count": 11,
   "metadata": {},
   "outputs": [
    {
     "data": {
      "text/plain": [
       "Timestamp('2015-03-31 00:00:00')"
      ]
     },
     "execution_count": 11,
     "metadata": {},
     "output_type": "execute_result"
    }
   ],
   "source": [
    "pd.Timestamp((\"2015/03/31\"))"
   ]
  },
  {
   "cell_type": "code",
   "execution_count": 12,
   "metadata": {},
   "outputs": [
    {
     "data": {
      "text/plain": [
       "Timestamp('2015-01-01 00:00:00')"
      ]
     },
     "execution_count": 12,
     "metadata": {},
     "output_type": "execute_result"
    }
   ],
   "source": [
    "pd.Timestamp((\"1/1/2015\"))"
   ]
  },
  {
   "cell_type": "code",
   "execution_count": 13,
   "metadata": {},
   "outputs": [
    {
     "data": {
      "text/plain": [
       "Timestamp('2015-12-19 00:00:00')"
      ]
     },
     "execution_count": 13,
     "metadata": {},
     "output_type": "execute_result"
    }
   ],
   "source": [
    "pd.Timestamp(\"19/12/2015\")"
   ]
  },
  {
   "cell_type": "code",
   "execution_count": 14,
   "metadata": {},
   "outputs": [
    {
     "data": {
      "text/plain": [
       "Timestamp('2021-03-08 08:35:15')"
      ]
     },
     "execution_count": 14,
     "metadata": {},
     "output_type": "execute_result"
    }
   ],
   "source": [
    "pd.Timestamp(\"2021-03-08 08:35:15\")"
   ]
  },
  {
   "cell_type": "code",
   "execution_count": 15,
   "metadata": {},
   "outputs": [
    {
     "data": {
      "text/plain": [
       "Timestamp('2021-03-08 20:35:15')"
      ]
     },
     "execution_count": 15,
     "metadata": {},
     "output_type": "execute_result"
    }
   ],
   "source": [
    "pd.Timestamp(\"2021-03-08 08:35:15 PM\")"
   ]
  },
  {
   "cell_type": "code",
   "execution_count": 16,
   "metadata": {},
   "outputs": [
    {
     "data": {
      "text/plain": [
       "Timestamp('2015-01-01 00:00:00')"
      ]
     },
     "execution_count": 16,
     "metadata": {},
     "output_type": "execute_result"
    }
   ],
   "source": [
    "pd.Timestamp(\"2015-01-01 00:00:00\")"
   ]
  },
  {
   "cell_type": "code",
   "execution_count": 17,
   "metadata": {},
   "outputs": [
    {
     "data": {
      "text/plain": [
       "Timestamp('1978-08-12 17:45:52')"
      ]
     },
     "execution_count": 17,
     "metadata": {},
     "output_type": "execute_result"
    }
   ],
   "source": [
    "pd.Timestamp(dt.datetime(1978, 8, 12, 17, 45, 52))"
   ]
  },
  {
   "cell_type": "markdown",
   "metadata": {},
   "source": [
    "### The pandas DateTimeIndex Object"
   ]
  },
  {
   "cell_type": "code",
   "execution_count": 18,
   "metadata": {},
   "outputs": [
    {
     "data": {
      "text/plain": [
       "DatetimeIndex(['2016-01-02', '2016-04-12', '2016-09-07'], dtype='datetime64[ns]', freq=None)"
      ]
     },
     "execution_count": 18,
     "metadata": {},
     "output_type": "execute_result"
    }
   ],
   "source": [
    "dates = [\"2016-01-02\", \"2016-04-12\", \"2016-09-07\"]\n",
    "pd.DatetimeIndex(dates)"
   ]
  },
  {
   "cell_type": "code",
   "execution_count": 19,
   "metadata": {},
   "outputs": [],
   "source": [
    "dates = [dt.date(2016, 1, 10), dt.date(1994, 6, 13), dt.date(2003, 12, 29)]\n",
    "dtIndex = pd.DatetimeIndex(dates)"
   ]
  },
  {
   "cell_type": "code",
   "execution_count": 20,
   "metadata": {},
   "outputs": [
    {
     "data": {
      "text/plain": [
       "2016-01-10    100\n",
       "1994-06-13    200\n",
       "2003-12-29    300\n",
       "dtype: int64"
      ]
     },
     "execution_count": 20,
     "metadata": {},
     "output_type": "execute_result"
    }
   ],
   "source": [
    "values = [100, 200, 300]\n",
    "pd.Series(data=values, index=dtIndex)"
   ]
  },
  {
   "cell_type": "markdown",
   "metadata": {},
   "source": [
    "### The pd.to_datetime() Method"
   ]
  },
  {
   "cell_type": "code",
   "execution_count": 21,
   "metadata": {},
   "outputs": [
    {
     "data": {
      "text/plain": [
       "Timestamp('2001-04-19 00:00:00')"
      ]
     },
     "execution_count": 21,
     "metadata": {},
     "output_type": "execute_result"
    }
   ],
   "source": [
    "pd.to_datetime(\"2001-04-19\")"
   ]
  },
  {
   "cell_type": "code",
   "execution_count": 22,
   "metadata": {},
   "outputs": [
    {
     "data": {
      "text/plain": [
       "Timestamp('2015-01-01 00:00:00')"
      ]
     },
     "execution_count": 22,
     "metadata": {},
     "output_type": "execute_result"
    }
   ],
   "source": [
    "pd.to_datetime(dt.date(2015, 1, 1))"
   ]
  },
  {
   "cell_type": "code",
   "execution_count": 23,
   "metadata": {},
   "outputs": [
    {
     "data": {
      "text/plain": [
       "Timestamp('2015-01-01 14:35:20')"
      ]
     },
     "execution_count": 23,
     "metadata": {},
     "output_type": "execute_result"
    }
   ],
   "source": [
    "pd.to_datetime(dt.datetime(2015, 1, 1, 14, 35, 20))"
   ]
  },
  {
   "cell_type": "code",
   "execution_count": 24,
   "metadata": {},
   "outputs": [
    {
     "data": {
      "text/plain": [
       "DatetimeIndex(['2015-01-03', '2014-02-08', '2016-01-01', '1996-07-04'], dtype='datetime64[ns]', freq=None)"
      ]
     },
     "execution_count": 24,
     "metadata": {},
     "output_type": "execute_result"
    }
   ],
   "source": [
    "pd.to_datetime([\"2015-01-03\", \"2014/02/08\", \"2016\", \"July 4th, 1996\"])"
   ]
  },
  {
   "cell_type": "code",
   "execution_count": 25,
   "metadata": {},
   "outputs": [
    {
     "data": {
      "text/plain": [
       "0        2015-01-03\n",
       "1        2014/02/08\n",
       "2              2016\n",
       "3    July 4th, 1996\n",
       "dtype: object"
      ]
     },
     "execution_count": 25,
     "metadata": {},
     "output_type": "execute_result"
    }
   ],
   "source": [
    "times = pd.Series([\"2015-01-03\", \"2014/02/08\", \"2016\", \"July 4th, 1996\"])\n",
    "times"
   ]
  },
  {
   "cell_type": "code",
   "execution_count": 26,
   "metadata": {},
   "outputs": [
    {
     "data": {
      "text/plain": [
       "0   2015-01-03\n",
       "1   2014-02-08\n",
       "2   2016-01-01\n",
       "3   1996-07-04\n",
       "dtype: datetime64[ns]"
      ]
     },
     "execution_count": 26,
     "metadata": {},
     "output_type": "execute_result"
    }
   ],
   "source": [
    "pd.to_datetime(times)"
   ]
  },
  {
   "cell_type": "code",
   "execution_count": 27,
   "metadata": {},
   "outputs": [
    {
     "data": {
      "text/plain": [
       "0   1996-07-04\n",
       "1   1991-10-04\n",
       "2          NaT\n",
       "3          NaT\n",
       "dtype: datetime64[ns]"
      ]
     },
     "execution_count": 27,
     "metadata": {},
     "output_type": "execute_result"
    }
   ],
   "source": [
    "dates = pd.Series([\"July 4th 1996\", \"10/04/1991\", \"Hello\", \"2015-02-31\"])\n",
    "pd.to_datetime(dates, errors=\"coerce\")"
   ]
  },
  {
   "cell_type": "code",
   "execution_count": 28,
   "metadata": {},
   "outputs": [
    {
     "data": {
      "text/plain": [
       "DatetimeIndex(['2019-03-08 17:36:27', '2019-03-09 17:36:27',\n",
       "               '2019-05-11 17:36:27', '2019-03-12 17:36:27',\n",
       "               '2019-04-13 17:36:27', '2019-03-17 17:36:27',\n",
       "               '2019-03-24 17:36:27', '2019-04-26 17:36:27',\n",
       "               '2019-05-28 17:36:27', '2019-04-02 17:36:27'],\n",
       "              dtype='datetime64[ns]', freq=None)"
      ]
     },
     "execution_count": 28,
     "metadata": {},
     "output_type": "execute_result"
    }
   ],
   "source": [
    "pd.to_datetime([(1552066587 + (a * 3600 * 24)) for a in {0, 1, 4, 9, 16, 25, 36, 49, 64, 81} ], unit=\"s\")"
   ]
  },
  {
   "cell_type": "markdown",
   "metadata": {},
   "source": [
    "### Create Range of Dates with the pd.date_range() Method, Part 1"
   ]
  },
  {
   "cell_type": "code",
   "execution_count": 29,
   "metadata": {},
   "outputs": [
    {
     "data": {
      "text/plain": [
       "DatetimeIndex(['2016-01-01', '2016-01-02', '2016-01-03', '2016-01-04',\n",
       "               '2016-01-05', '2016-01-06', '2016-01-07', '2016-01-08',\n",
       "               '2016-01-09', '2016-01-10'],\n",
       "              dtype='datetime64[ns]', freq='D')"
      ]
     },
     "execution_count": 29,
     "metadata": {},
     "output_type": "execute_result"
    }
   ],
   "source": [
    "pd.date_range(start=\"2016-01-01\", end=\"2016-01-10\", freq=\"D\")"
   ]
  },
  {
   "cell_type": "code",
   "execution_count": 30,
   "metadata": {},
   "outputs": [
    {
     "data": {
      "text/plain": [
       "pandas.core.indexes.datetimes.DatetimeIndex"
      ]
     },
     "execution_count": 30,
     "metadata": {},
     "output_type": "execute_result"
    }
   ],
   "source": [
    "times = pd.date_range(start=\"2016-01-01\", end=\"2016-01-10\", freq=\"D\")\n",
    "type(times)"
   ]
  },
  {
   "cell_type": "code",
   "execution_count": 31,
   "metadata": {},
   "outputs": [
    {
     "data": {
      "text/plain": [
       "Timestamp('2016-01-01 00:00:00', freq='D')"
      ]
     },
     "execution_count": 31,
     "metadata": {},
     "output_type": "execute_result"
    }
   ],
   "source": [
    "times[0]"
   ]
  },
  {
   "cell_type": "code",
   "execution_count": 32,
   "metadata": {},
   "outputs": [
    {
     "data": {
      "text/plain": [
       "pandas._libs.tslibs.timestamps.Timestamp"
      ]
     },
     "execution_count": 32,
     "metadata": {},
     "output_type": "execute_result"
    }
   ],
   "source": [
    "type(times[0])"
   ]
  },
  {
   "cell_type": "code",
   "execution_count": 33,
   "metadata": {},
   "outputs": [
    {
     "data": {
      "text/plain": [
       "DatetimeIndex(['2016-01-01', '2016-01-03', '2016-01-05', '2016-01-07',\n",
       "               '2016-01-09'],\n",
       "              dtype='datetime64[ns]', freq='2D')"
      ]
     },
     "execution_count": 33,
     "metadata": {},
     "output_type": "execute_result"
    }
   ],
   "source": [
    "pd.date_range(start=\"2016-01-01\", end=\"2016-01-10\", freq=\"2D\")"
   ]
  },
  {
   "cell_type": "code",
   "execution_count": 34,
   "metadata": {},
   "outputs": [
    {
     "data": {
      "text/plain": [
       "DatetimeIndex(['2016-01-01', '2016-01-04', '2016-01-05', '2016-01-06',\n",
       "               '2016-01-07', '2016-01-08'],\n",
       "              dtype='datetime64[ns]', freq='B')"
      ]
     },
     "execution_count": 34,
     "metadata": {},
     "output_type": "execute_result"
    }
   ],
   "source": [
    "pd.date_range(start=\"2016-01-01\", end=\"2016-01-10\", freq=\"B\")"
   ]
  },
  {
   "cell_type": "code",
   "execution_count": 35,
   "metadata": {},
   "outputs": [
    {
     "data": {
      "text/plain": [
       "DatetimeIndex(['2016-01-03', '2016-01-10'], dtype='datetime64[ns]', freq='W-SUN')"
      ]
     },
     "execution_count": 35,
     "metadata": {},
     "output_type": "execute_result"
    }
   ],
   "source": [
    "pd.date_range(start=\"2016-01-01\", end=\"2016-01-10\", freq=\"W\")"
   ]
  },
  {
   "cell_type": "code",
   "execution_count": 36,
   "metadata": {},
   "outputs": [
    {
     "data": {
      "text/plain": [
       "DatetimeIndex(['2016-01-01', '2016-01-08'], dtype='datetime64[ns]', freq='W-FRI')"
      ]
     },
     "execution_count": 36,
     "metadata": {},
     "output_type": "execute_result"
    }
   ],
   "source": [
    "pd.date_range(start=\"2016-01-01\", end=\"2016-01-10\", freq=\"W-FRI\")"
   ]
  },
  {
   "cell_type": "code",
   "execution_count": 37,
   "metadata": {},
   "outputs": [
    {
     "data": {
      "text/plain": [
       "DatetimeIndex(['2016-01-01 00:00:00', '2016-01-01 06:00:00',\n",
       "               '2016-01-01 12:00:00', '2016-01-01 18:00:00',\n",
       "               '2016-01-02 00:00:00', '2016-01-02 06:00:00',\n",
       "               '2016-01-02 12:00:00', '2016-01-02 18:00:00',\n",
       "               '2016-01-03 00:00:00', '2016-01-03 06:00:00',\n",
       "               '2016-01-03 12:00:00', '2016-01-03 18:00:00',\n",
       "               '2016-01-04 00:00:00', '2016-01-04 06:00:00',\n",
       "               '2016-01-04 12:00:00', '2016-01-04 18:00:00',\n",
       "               '2016-01-05 00:00:00', '2016-01-05 06:00:00',\n",
       "               '2016-01-05 12:00:00', '2016-01-05 18:00:00',\n",
       "               '2016-01-06 00:00:00', '2016-01-06 06:00:00',\n",
       "               '2016-01-06 12:00:00', '2016-01-06 18:00:00',\n",
       "               '2016-01-07 00:00:00', '2016-01-07 06:00:00',\n",
       "               '2016-01-07 12:00:00', '2016-01-07 18:00:00',\n",
       "               '2016-01-08 00:00:00', '2016-01-08 06:00:00',\n",
       "               '2016-01-08 12:00:00', '2016-01-08 18:00:00',\n",
       "               '2016-01-09 00:00:00', '2016-01-09 06:00:00',\n",
       "               '2016-01-09 12:00:00', '2016-01-09 18:00:00',\n",
       "               '2016-01-10 00:00:00'],\n",
       "              dtype='datetime64[ns]', freq='6H')"
      ]
     },
     "execution_count": 37,
     "metadata": {},
     "output_type": "execute_result"
    }
   ],
   "source": [
    "pd.date_range(start=\"2016-01-01\", end=\"2016-01-10\", freq=\"6H\")"
   ]
  },
  {
   "cell_type": "code",
   "execution_count": 38,
   "metadata": {},
   "outputs": [
    {
     "data": {
      "text/plain": [
       "DatetimeIndex(['2016-01-31', '2016-02-29', '2016-03-31', '2016-04-30',\n",
       "               '2016-05-31', '2016-06-30', '2016-07-31', '2016-08-31',\n",
       "               '2016-09-30', '2016-10-31', '2016-11-30', '2016-12-31'],\n",
       "              dtype='datetime64[ns]', freq='M')"
      ]
     },
     "execution_count": 38,
     "metadata": {},
     "output_type": "execute_result"
    }
   ],
   "source": [
    "pd.date_range(start=\"2016-01-01\", end=\"2016-12-31\", freq=\"M\")"
   ]
  },
  {
   "cell_type": "code",
   "execution_count": 39,
   "metadata": {},
   "outputs": [
    {
     "data": {
      "text/plain": [
       "DatetimeIndex(['2016-01-01', '2016-02-01', '2016-03-01', '2016-04-01',\n",
       "               '2016-05-01', '2016-06-01', '2016-07-01', '2016-08-01',\n",
       "               '2016-09-01', '2016-10-01',\n",
       "               ...\n",
       "               '2050-03-01', '2050-04-01', '2050-05-01', '2050-06-01',\n",
       "               '2050-07-01', '2050-08-01', '2050-09-01', '2050-10-01',\n",
       "               '2050-11-01', '2050-12-01'],\n",
       "              dtype='datetime64[ns]', length=420, freq='MS')"
      ]
     },
     "execution_count": 39,
     "metadata": {},
     "output_type": "execute_result"
    }
   ],
   "source": [
    "pd.date_range(start=\"2016-01-01\", end=\"2050-12-31\", freq=\"MS\")"
   ]
  },
  {
   "cell_type": "code",
   "execution_count": 40,
   "metadata": {},
   "outputs": [
    {
     "data": {
      "text/plain": [
       "DatetimeIndex(['2016-12-31', '2017-12-31', '2018-12-31', '2019-12-31',\n",
       "               '2020-12-31', '2021-12-31', '2022-12-31', '2023-12-31',\n",
       "               '2024-12-31', '2025-12-31', '2026-12-31', '2027-12-31',\n",
       "               '2028-12-31', '2029-12-31', '2030-12-31', '2031-12-31',\n",
       "               '2032-12-31', '2033-12-31', '2034-12-31', '2035-12-31',\n",
       "               '2036-12-31', '2037-12-31', '2038-12-31', '2039-12-31',\n",
       "               '2040-12-31', '2041-12-31', '2042-12-31', '2043-12-31',\n",
       "               '2044-12-31', '2045-12-31', '2046-12-31', '2047-12-31',\n",
       "               '2048-12-31', '2049-12-31', '2050-12-31'],\n",
       "              dtype='datetime64[ns]', freq='A-DEC')"
      ]
     },
     "execution_count": 40,
     "metadata": {},
     "output_type": "execute_result"
    }
   ],
   "source": [
    "pd.date_range(start=\"2016-01-01\", end=\"2050-12-31\", freq=\"A\")"
   ]
  },
  {
   "cell_type": "markdown",
   "metadata": {},
   "source": [
    "### Create Range of Dates with the pd.date_range() Method, Part 2"
   ]
  },
  {
   "cell_type": "code",
   "execution_count": 41,
   "metadata": {},
   "outputs": [
    {
     "data": {
      "text/plain": [
       "DatetimeIndex(['2012-09-09', '2012-09-11', '2012-09-13', '2012-09-15',\n",
       "               '2012-09-17', '2012-09-19', '2012-09-21', '2012-09-23',\n",
       "               '2012-09-25', '2012-09-27', '2012-09-29', '2012-10-01',\n",
       "               '2012-10-03', '2012-10-05', '2012-10-07', '2012-10-09',\n",
       "               '2012-10-11', '2012-10-13', '2012-10-15', '2012-10-17',\n",
       "               '2012-10-19', '2012-10-21', '2012-10-23', '2012-10-25',\n",
       "               '2012-10-27'],\n",
       "              dtype='datetime64[ns]', freq='2D')"
      ]
     },
     "execution_count": 41,
     "metadata": {},
     "output_type": "execute_result"
    }
   ],
   "source": [
    "pd.date_range(start=\"2012-09-09\", periods=25, freq=\"2D\")"
   ]
  },
  {
   "cell_type": "code",
   "execution_count": 42,
   "metadata": {},
   "outputs": [
    {
     "data": {
      "text/plain": [
       "DatetimeIndex(['2012-09-10', '2012-09-11', '2012-09-12', '2012-09-13',\n",
       "               '2012-09-14', '2012-09-17', '2012-09-18', '2012-09-19',\n",
       "               '2012-09-20', '2012-09-21', '2012-09-24', '2012-09-25',\n",
       "               '2012-09-26', '2012-09-27', '2012-09-28', '2012-10-01',\n",
       "               '2012-10-02', '2012-10-03', '2012-10-04', '2012-10-05',\n",
       "               '2012-10-08', '2012-10-09', '2012-10-10', '2012-10-11',\n",
       "               '2012-10-12'],\n",
       "              dtype='datetime64[ns]', freq='B')"
      ]
     },
     "execution_count": 42,
     "metadata": {},
     "output_type": "execute_result"
    }
   ],
   "source": [
    "pd.date_range(start=\"2012-09-09\", periods=25, freq=\"B\")"
   ]
  },
  {
   "cell_type": "code",
   "execution_count": 43,
   "metadata": {},
   "outputs": [
    {
     "data": {
      "text/plain": [
       "DatetimeIndex(['2012-10-01', '2012-11-01', '2012-12-01', '2013-01-01',\n",
       "               '2013-02-01', '2013-03-01', '2013-04-01', '2013-05-01',\n",
       "               '2013-06-01', '2013-07-01', '2013-08-01', '2013-09-01',\n",
       "               '2013-10-01', '2013-11-01', '2013-12-01', '2014-01-01',\n",
       "               '2014-02-01', '2014-03-01', '2014-04-01', '2014-05-01',\n",
       "               '2014-06-01', '2014-07-01', '2014-08-01', '2014-09-01',\n",
       "               '2014-10-01'],\n",
       "              dtype='datetime64[ns]', freq='MS')"
      ]
     },
     "execution_count": 43,
     "metadata": {},
     "output_type": "execute_result"
    }
   ],
   "source": [
    "pd.date_range(start=\"2012-09-09\", periods=25, freq=\"MS\")"
   ]
  },
  {
   "cell_type": "code",
   "execution_count": 44,
   "metadata": {},
   "outputs": [
    {
     "data": {
      "text/plain": [
       "DatetimeIndex(['2012-12-31', '2013-12-31', '2014-12-31', '2015-12-31',\n",
       "               '2016-12-31', '2017-12-31', '2018-12-31', '2019-12-31',\n",
       "               '2020-12-31', '2021-12-31', '2022-12-31', '2023-12-31',\n",
       "               '2024-12-31', '2025-12-31', '2026-12-31', '2027-12-31',\n",
       "               '2028-12-31', '2029-12-31', '2030-12-31', '2031-12-31',\n",
       "               '2032-12-31', '2033-12-31', '2034-12-31', '2035-12-31',\n",
       "               '2036-12-31'],\n",
       "              dtype='datetime64[ns]', freq='A-DEC')"
      ]
     },
     "execution_count": 44,
     "metadata": {},
     "output_type": "execute_result"
    }
   ],
   "source": [
    "pd.date_range(start=\"2012-09-09\", periods=25, freq=\"A\")"
   ]
  },
  {
   "cell_type": "code",
   "execution_count": 45,
   "metadata": {},
   "outputs": [
    {
     "data": {
      "text/plain": [
       "DatetimeIndex(['2012-09-09 00:00:00', '2012-09-09 06:00:00',\n",
       "               '2012-09-09 12:00:00', '2012-09-09 18:00:00',\n",
       "               '2012-09-10 00:00:00', '2012-09-10 06:00:00',\n",
       "               '2012-09-10 12:00:00', '2012-09-10 18:00:00',\n",
       "               '2012-09-11 00:00:00', '2012-09-11 06:00:00',\n",
       "               '2012-09-11 12:00:00', '2012-09-11 18:00:00',\n",
       "               '2012-09-12 00:00:00', '2012-09-12 06:00:00',\n",
       "               '2012-09-12 12:00:00', '2012-09-12 18:00:00',\n",
       "               '2012-09-13 00:00:00', '2012-09-13 06:00:00',\n",
       "               '2012-09-13 12:00:00', '2012-09-13 18:00:00',\n",
       "               '2012-09-14 00:00:00', '2012-09-14 06:00:00',\n",
       "               '2012-09-14 12:00:00', '2012-09-14 18:00:00',\n",
       "               '2012-09-15 00:00:00'],\n",
       "              dtype='datetime64[ns]', freq='6H')"
      ]
     },
     "execution_count": 45,
     "metadata": {},
     "output_type": "execute_result"
    }
   ],
   "source": [
    "pd.date_range(start=\"2012-09-09\", periods=25, freq=\"6H\")"
   ]
  },
  {
   "cell_type": "markdown",
   "metadata": {},
   "source": [
    "### Create Range of Dates with the pd.date_range() Method. Part 3"
   ]
  },
  {
   "cell_type": "code",
   "execution_count": 46,
   "metadata": {},
   "outputs": [
    {
     "data": {
      "text/plain": [
       "DatetimeIndex(['1999-12-12', '1999-12-13', '1999-12-14', '1999-12-15',\n",
       "               '1999-12-16', '1999-12-17', '1999-12-18', '1999-12-19',\n",
       "               '1999-12-20', '1999-12-21', '1999-12-22', '1999-12-23',\n",
       "               '1999-12-24', '1999-12-25', '1999-12-26', '1999-12-27',\n",
       "               '1999-12-28', '1999-12-29', '1999-12-30', '1999-12-31'],\n",
       "              dtype='datetime64[ns]', freq='D')"
      ]
     },
     "execution_count": 46,
     "metadata": {},
     "output_type": "execute_result"
    }
   ],
   "source": [
    "pd.date_range(end=\"1999-12-31\", periods=20, freq=\"D\")"
   ]
  },
  {
   "cell_type": "code",
   "execution_count": 47,
   "metadata": {},
   "outputs": [
    {
     "data": {
      "text/plain": [
       "DatetimeIndex(['1999-12-06', '1999-12-07', '1999-12-08', '1999-12-09',\n",
       "               '1999-12-10', '1999-12-13', '1999-12-14', '1999-12-15',\n",
       "               '1999-12-16', '1999-12-17', '1999-12-20', '1999-12-21',\n",
       "               '1999-12-22', '1999-12-23', '1999-12-24', '1999-12-27',\n",
       "               '1999-12-28', '1999-12-29', '1999-12-30', '1999-12-31'],\n",
       "              dtype='datetime64[ns]', freq='B')"
      ]
     },
     "execution_count": 47,
     "metadata": {},
     "output_type": "execute_result"
    }
   ],
   "source": [
    "pd.date_range(end=\"1999-12-31\", periods=20, freq=\"B\")"
   ]
  },
  {
   "cell_type": "code",
   "execution_count": 48,
   "metadata": {},
   "outputs": [
    {
     "data": {
      "text/plain": [
       "DatetimeIndex(['1999-08-15', '1999-08-22', '1999-08-29', '1999-09-05',\n",
       "               '1999-09-12', '1999-09-19', '1999-09-26', '1999-10-03',\n",
       "               '1999-10-10', '1999-10-17', '1999-10-24', '1999-10-31',\n",
       "               '1999-11-07', '1999-11-14', '1999-11-21', '1999-11-28',\n",
       "               '1999-12-05', '1999-12-12', '1999-12-19', '1999-12-26'],\n",
       "              dtype='datetime64[ns]', freq='W-SUN')"
      ]
     },
     "execution_count": 48,
     "metadata": {},
     "output_type": "execute_result"
    }
   ],
   "source": [
    "pd.date_range(end=\"1999-12-31\", periods=20, freq=\"W-SUN\")"
   ]
  },
  {
   "cell_type": "markdown",
   "metadata": {},
   "source": [
    "### The .dt Accessor"
   ]
  },
  {
   "cell_type": "code",
   "execution_count": 49,
   "metadata": {},
   "outputs": [],
   "source": [
    "bunch_of_dates = pd.date_range(start=\"2001-01-01\", end=\"2010-12-31\", freq=\"24D\")"
   ]
  },
  {
   "cell_type": "code",
   "execution_count": 50,
   "metadata": {},
   "outputs": [
    {
     "data": {
      "text/plain": [
       "0   2001-01-01\n",
       "1   2001-01-25\n",
       "2   2001-02-18\n",
       "3   2001-03-14\n",
       "4   2001-04-07\n",
       "dtype: datetime64[ns]"
      ]
     },
     "execution_count": 50,
     "metadata": {},
     "output_type": "execute_result"
    }
   ],
   "source": [
    "s = pd.Series(bunch_of_dates)\n",
    "s.head()"
   ]
  },
  {
   "cell_type": "code",
   "execution_count": 51,
   "metadata": {},
   "outputs": [
    {
     "data": {
      "text/plain": [
       "0    0\n",
       "1    3\n",
       "2    6\n",
       "3    2\n",
       "4    5\n",
       "dtype: int64"
      ]
     },
     "execution_count": 51,
     "metadata": {},
     "output_type": "execute_result"
    }
   ],
   "source": [
    "s.dt.dayofweek.head()"
   ]
  },
  {
   "cell_type": "code",
   "execution_count": 52,
   "metadata": {},
   "outputs": [
    {
     "data": {
      "text/plain": [
       "0       Monday\n",
       "1     Thursday\n",
       "2       Sunday\n",
       "3    Wednesday\n",
       "4     Saturday\n",
       "dtype: object"
      ]
     },
     "execution_count": 52,
     "metadata": {},
     "output_type": "execute_result"
    }
   ],
   "source": [
    "s.dt.weekday_name.head()"
   ]
  },
  {
   "cell_type": "code",
   "execution_count": 53,
   "metadata": {},
   "outputs": [
    {
     "data": {
      "text/plain": [
       "0     2001-01-01\n",
       "5     2001-05-01\n",
       "71    2005-09-01\n",
       "90    2006-12-01\n",
       "109   2008-03-01\n",
       "dtype: datetime64[ns]"
      ]
     },
     "execution_count": 53,
     "metadata": {},
     "output_type": "execute_result"
    }
   ],
   "source": [
    "mask = s.dt.is_month_start\n",
    "s[mask]"
   ]
  },
  {
   "cell_type": "markdown",
   "metadata": {},
   "source": [
    "### Import Financial Data Set with pandas_datareader library"
   ]
  },
  {
   "cell_type": "code",
   "execution_count": 1,
   "metadata": {},
   "outputs": [],
   "source": [
    "import pandas as pd\n",
    "import datetime as dt\n",
    "from pandas_datareader import data, web"
   ]
  },
  {
   "cell_type": "code",
   "execution_count": 5,
   "metadata": {},
   "outputs": [
    {
     "data": {
      "text/html": [
       "<div>\n",
       "<style scoped>\n",
       "    .dataframe tbody tr th:only-of-type {\n",
       "        vertical-align: middle;\n",
       "    }\n",
       "\n",
       "    .dataframe tbody tr th {\n",
       "        vertical-align: top;\n",
       "    }\n",
       "\n",
       "    .dataframe thead th {\n",
       "        text-align: right;\n",
       "    }\n",
       "</style>\n",
       "<table border=\"1\" class=\"dataframe\">\n",
       "  <thead>\n",
       "    <tr style=\"text-align: right;\">\n",
       "      <th></th>\n",
       "      <th>High</th>\n",
       "      <th>Low</th>\n",
       "      <th>Open</th>\n",
       "      <th>Close</th>\n",
       "      <th>Volume</th>\n",
       "      <th>Adj Close</th>\n",
       "    </tr>\n",
       "    <tr>\n",
       "      <th>Date</th>\n",
       "      <th></th>\n",
       "      <th></th>\n",
       "      <th></th>\n",
       "      <th></th>\n",
       "      <th></th>\n",
       "      <th></th>\n",
       "    </tr>\n",
       "  </thead>\n",
       "  <tbody>\n",
       "    <tr>\n",
       "      <th>2010-01-04</th>\n",
       "      <td>31.100000</td>\n",
       "      <td>30.590000</td>\n",
       "      <td>30.620001</td>\n",
       "      <td>30.950001</td>\n",
       "      <td>38409100.0</td>\n",
       "      <td>24.615801</td>\n",
       "    </tr>\n",
       "    <tr>\n",
       "      <th>2010-01-05</th>\n",
       "      <td>31.100000</td>\n",
       "      <td>30.639999</td>\n",
       "      <td>30.850000</td>\n",
       "      <td>30.959999</td>\n",
       "      <td>49749600.0</td>\n",
       "      <td>24.623755</td>\n",
       "    </tr>\n",
       "    <tr>\n",
       "      <th>2010-01-06</th>\n",
       "      <td>31.080000</td>\n",
       "      <td>30.520000</td>\n",
       "      <td>30.879999</td>\n",
       "      <td>30.770000</td>\n",
       "      <td>58182400.0</td>\n",
       "      <td>24.472631</td>\n",
       "    </tr>\n",
       "    <tr>\n",
       "      <th>2010-01-07</th>\n",
       "      <td>30.700001</td>\n",
       "      <td>30.190001</td>\n",
       "      <td>30.629999</td>\n",
       "      <td>30.450001</td>\n",
       "      <td>50559700.0</td>\n",
       "      <td>24.218124</td>\n",
       "    </tr>\n",
       "    <tr>\n",
       "      <th>2010-01-08</th>\n",
       "      <td>30.879999</td>\n",
       "      <td>30.240000</td>\n",
       "      <td>30.280001</td>\n",
       "      <td>30.660000</td>\n",
       "      <td>51197400.0</td>\n",
       "      <td>24.385145</td>\n",
       "    </tr>\n",
       "  </tbody>\n",
       "</table>\n",
       "</div>"
      ],
      "text/plain": [
       "                 High        Low       Open      Close      Volume  Adj Close\n",
       "Date                                                                         \n",
       "2010-01-04  31.100000  30.590000  30.620001  30.950001  38409100.0  24.615801\n",
       "2010-01-05  31.100000  30.639999  30.850000  30.959999  49749600.0  24.623755\n",
       "2010-01-06  31.080000  30.520000  30.879999  30.770000  58182400.0  24.472631\n",
       "2010-01-07  30.700001  30.190001  30.629999  30.450001  50559700.0  24.218124\n",
       "2010-01-08  30.879999  30.240000  30.280001  30.660000  51197400.0  24.385145"
      ]
     },
     "execution_count": 5,
     "metadata": {},
     "output_type": "execute_result"
    }
   ],
   "source": [
    "company = \"MSFT\"\n",
    "start = \"2010-01-02\"\n",
    "end = \"2017-12-31\"\n",
    "\n",
    "stocks = data.DataReader(company, data_source=\"yahoo\", start=start, end=end)\n",
    "stocks.head()"
   ]
  },
  {
   "cell_type": "markdown",
   "metadata": {},
   "source": [
    "### Selecting from a DataFrame with a DateTimeIndex"
   ]
  },
  {
   "cell_type": "code",
   "execution_count": 6,
   "metadata": {},
   "outputs": [
    {
     "data": {
      "text/plain": [
       "High         3.848000e+01\n",
       "Low          3.807000e+01\n",
       "Open         3.820000e+01\n",
       "Close        3.841000e+01\n",
       "Volume       2.680240e+07\n",
       "Adj Close    3.416959e+01\n",
       "Name: 2014-03-04 00:00:00, dtype: float64"
      ]
     },
     "execution_count": 6,
     "metadata": {},
     "output_type": "execute_result"
    }
   ],
   "source": [
    "stocks.loc[\"2014-03-04\"]"
   ]
  },
  {
   "cell_type": "code",
   "execution_count": 10,
   "metadata": {},
   "outputs": [
    {
     "data": {
      "text/plain": [
       "High         2.576000e+01\n",
       "Low          2.535000e+01\n",
       "Open         2.549000e+01\n",
       "Close        2.569000e+01\n",
       "Volume       5.447340e+07\n",
       "Adj Close    2.098114e+01\n",
       "Name: 2011-03-14 00:00:00, dtype: float64"
      ]
     },
     "execution_count": 10,
     "metadata": {},
     "output_type": "execute_result"
    }
   ],
   "source": [
    "stocks.iloc[300]"
   ]
  },
  {
   "cell_type": "code",
   "execution_count": 11,
   "metadata": {},
   "outputs": [
    {
     "data": {
      "text/html": [
       "<div>\n",
       "<style scoped>\n",
       "    .dataframe tbody tr th:only-of-type {\n",
       "        vertical-align: middle;\n",
       "    }\n",
       "\n",
       "    .dataframe tbody tr th {\n",
       "        vertical-align: top;\n",
       "    }\n",
       "\n",
       "    .dataframe thead th {\n",
       "        text-align: right;\n",
       "    }\n",
       "</style>\n",
       "<table border=\"1\" class=\"dataframe\">\n",
       "  <thead>\n",
       "    <tr style=\"text-align: right;\">\n",
       "      <th></th>\n",
       "      <th>High</th>\n",
       "      <th>Low</th>\n",
       "      <th>Open</th>\n",
       "      <th>Close</th>\n",
       "      <th>Volume</th>\n",
       "      <th>Adj Close</th>\n",
       "    </tr>\n",
       "    <tr>\n",
       "      <th>Date</th>\n",
       "      <th></th>\n",
       "      <th></th>\n",
       "      <th></th>\n",
       "      <th></th>\n",
       "      <th></th>\n",
       "      <th></th>\n",
       "    </tr>\n",
       "  </thead>\n",
       "  <tbody>\n",
       "    <tr>\n",
       "      <th>2013-10-01</th>\n",
       "      <td>33.610001</td>\n",
       "      <td>33.299999</td>\n",
       "      <td>33.349998</td>\n",
       "      <td>33.580002</td>\n",
       "      <td>36718700.0</td>\n",
       "      <td>29.427307</td>\n",
       "    </tr>\n",
       "    <tr>\n",
       "      <th>2013-10-02</th>\n",
       "      <td>34.029999</td>\n",
       "      <td>33.290001</td>\n",
       "      <td>33.360001</td>\n",
       "      <td>33.919998</td>\n",
       "      <td>46946800.0</td>\n",
       "      <td>29.725256</td>\n",
       "    </tr>\n",
       "    <tr>\n",
       "      <th>2013-10-03</th>\n",
       "      <td>34.000000</td>\n",
       "      <td>33.419998</td>\n",
       "      <td>33.880001</td>\n",
       "      <td>33.860001</td>\n",
       "      <td>38703800.0</td>\n",
       "      <td>29.672684</td>\n",
       "    </tr>\n",
       "    <tr>\n",
       "      <th>2013-10-04</th>\n",
       "      <td>33.990002</td>\n",
       "      <td>33.619999</td>\n",
       "      <td>33.689999</td>\n",
       "      <td>33.880001</td>\n",
       "      <td>33008100.0</td>\n",
       "      <td>29.690199</td>\n",
       "    </tr>\n",
       "    <tr>\n",
       "      <th>2013-10-07</th>\n",
       "      <td>33.709999</td>\n",
       "      <td>33.200001</td>\n",
       "      <td>33.599998</td>\n",
       "      <td>33.299999</td>\n",
       "      <td>35069300.0</td>\n",
       "      <td>29.181934</td>\n",
       "    </tr>\n",
       "    <tr>\n",
       "      <th>2013-10-08</th>\n",
       "      <td>33.330002</td>\n",
       "      <td>32.799999</td>\n",
       "      <td>33.310001</td>\n",
       "      <td>33.009998</td>\n",
       "      <td>41017600.0</td>\n",
       "      <td>28.927794</td>\n",
       "    </tr>\n",
       "    <tr>\n",
       "      <th>2013-10-09</th>\n",
       "      <td>33.349998</td>\n",
       "      <td>32.959999</td>\n",
       "      <td>33.070000</td>\n",
       "      <td>33.070000</td>\n",
       "      <td>35878600.0</td>\n",
       "      <td>28.980375</td>\n",
       "    </tr>\n",
       "    <tr>\n",
       "      <th>2013-10-10</th>\n",
       "      <td>33.889999</td>\n",
       "      <td>33.259998</td>\n",
       "      <td>33.310001</td>\n",
       "      <td>33.759998</td>\n",
       "      <td>42875100.0</td>\n",
       "      <td>29.585045</td>\n",
       "    </tr>\n",
       "    <tr>\n",
       "      <th>2013-10-11</th>\n",
       "      <td>34.139999</td>\n",
       "      <td>33.680000</td>\n",
       "      <td>33.680000</td>\n",
       "      <td>34.130001</td>\n",
       "      <td>30033300.0</td>\n",
       "      <td>29.909288</td>\n",
       "    </tr>\n",
       "    <tr>\n",
       "      <th>2013-10-14</th>\n",
       "      <td>34.500000</td>\n",
       "      <td>33.779999</td>\n",
       "      <td>33.900002</td>\n",
       "      <td>34.450001</td>\n",
       "      <td>27757900.0</td>\n",
       "      <td>30.189720</td>\n",
       "    </tr>\n",
       "    <tr>\n",
       "      <th>2013-10-15</th>\n",
       "      <td>34.990002</td>\n",
       "      <td>34.470001</td>\n",
       "      <td>34.669998</td>\n",
       "      <td>34.490002</td>\n",
       "      <td>47097800.0</td>\n",
       "      <td>30.224771</td>\n",
       "    </tr>\n",
       "    <tr>\n",
       "      <th>2013-10-16</th>\n",
       "      <td>34.900002</td>\n",
       "      <td>34.560001</td>\n",
       "      <td>34.599998</td>\n",
       "      <td>34.639999</td>\n",
       "      <td>35111600.0</td>\n",
       "      <td>30.356218</td>\n",
       "    </tr>\n",
       "    <tr>\n",
       "      <th>2013-10-17</th>\n",
       "      <td>34.990002</td>\n",
       "      <td>34.369999</td>\n",
       "      <td>34.450001</td>\n",
       "      <td>34.919998</td>\n",
       "      <td>31359200.0</td>\n",
       "      <td>30.601597</td>\n",
       "    </tr>\n",
       "  </tbody>\n",
       "</table>\n",
       "</div>"
      ],
      "text/plain": [
       "                 High        Low       Open      Close      Volume  Adj Close\n",
       "Date                                                                         \n",
       "2013-10-01  33.610001  33.299999  33.349998  33.580002  36718700.0  29.427307\n",
       "2013-10-02  34.029999  33.290001  33.360001  33.919998  46946800.0  29.725256\n",
       "2013-10-03  34.000000  33.419998  33.880001  33.860001  38703800.0  29.672684\n",
       "2013-10-04  33.990002  33.619999  33.689999  33.880001  33008100.0  29.690199\n",
       "2013-10-07  33.709999  33.200001  33.599998  33.299999  35069300.0  29.181934\n",
       "2013-10-08  33.330002  32.799999  33.310001  33.009998  41017600.0  28.927794\n",
       "2013-10-09  33.349998  32.959999  33.070000  33.070000  35878600.0  28.980375\n",
       "2013-10-10  33.889999  33.259998  33.310001  33.759998  42875100.0  29.585045\n",
       "2013-10-11  34.139999  33.680000  33.680000  34.130001  30033300.0  29.909288\n",
       "2013-10-14  34.500000  33.779999  33.900002  34.450001  27757900.0  30.189720\n",
       "2013-10-15  34.990002  34.470001  34.669998  34.490002  47097800.0  30.224771\n",
       "2013-10-16  34.900002  34.560001  34.599998  34.639999  35111600.0  30.356218\n",
       "2013-10-17  34.990002  34.369999  34.450001  34.919998  31359200.0  30.601597"
      ]
     },
     "execution_count": 11,
     "metadata": {},
     "output_type": "execute_result"
    }
   ],
   "source": [
    "stocks.loc[\"2013-10-01\":\"2013-10-17\"]"
   ]
  },
  {
   "cell_type": "code",
   "execution_count": 17,
   "metadata": {},
   "outputs": [],
   "source": [
    "birthdays = pd.date_range(start=\"1978-08-12\", end=\"2019-08-12\", freq=pd.DateOffset(years=1))"
   ]
  },
  {
   "cell_type": "code",
   "execution_count": 19,
   "metadata": {},
   "outputs": [
    {
     "data": {
      "text/html": [
       "<div>\n",
       "<style scoped>\n",
       "    .dataframe tbody tr th:only-of-type {\n",
       "        vertical-align: middle;\n",
       "    }\n",
       "\n",
       "    .dataframe tbody tr th {\n",
       "        vertical-align: top;\n",
       "    }\n",
       "\n",
       "    .dataframe thead th {\n",
       "        text-align: right;\n",
       "    }\n",
       "</style>\n",
       "<table border=\"1\" class=\"dataframe\">\n",
       "  <thead>\n",
       "    <tr style=\"text-align: right;\">\n",
       "      <th></th>\n",
       "      <th>High</th>\n",
       "      <th>Low</th>\n",
       "      <th>Open</th>\n",
       "      <th>Close</th>\n",
       "      <th>Volume</th>\n",
       "      <th>Adj Close</th>\n",
       "    </tr>\n",
       "    <tr>\n",
       "      <th>Date</th>\n",
       "      <th></th>\n",
       "      <th></th>\n",
       "      <th></th>\n",
       "      <th></th>\n",
       "      <th></th>\n",
       "      <th></th>\n",
       "    </tr>\n",
       "  </thead>\n",
       "  <tbody>\n",
       "    <tr>\n",
       "      <th>2010-08-12</th>\n",
       "      <td>24.680000</td>\n",
       "      <td>24.360001</td>\n",
       "      <td>24.420000</td>\n",
       "      <td>24.490000</td>\n",
       "      <td>70240500.0</td>\n",
       "      <td>19.657284</td>\n",
       "    </tr>\n",
       "    <tr>\n",
       "      <th>2011-08-12</th>\n",
       "      <td>25.340000</td>\n",
       "      <td>24.650000</td>\n",
       "      <td>25.129999</td>\n",
       "      <td>25.100000</td>\n",
       "      <td>64787100.0</td>\n",
       "      <td>20.633648</td>\n",
       "    </tr>\n",
       "    <tr>\n",
       "      <th>2013-08-12</th>\n",
       "      <td>32.970001</td>\n",
       "      <td>32.459999</td>\n",
       "      <td>32.459999</td>\n",
       "      <td>32.869999</td>\n",
       "      <td>25493700.0</td>\n",
       "      <td>28.603546</td>\n",
       "    </tr>\n",
       "    <tr>\n",
       "      <th>2014-08-12</th>\n",
       "      <td>43.590000</td>\n",
       "      <td>43.000000</td>\n",
       "      <td>43.040001</td>\n",
       "      <td>43.520000</td>\n",
       "      <td>21431100.0</td>\n",
       "      <td>38.988590</td>\n",
       "    </tr>\n",
       "    <tr>\n",
       "      <th>2015-08-12</th>\n",
       "      <td>46.900002</td>\n",
       "      <td>45.709999</td>\n",
       "      <td>46.189999</td>\n",
       "      <td>46.740002</td>\n",
       "      <td>30181400.0</td>\n",
       "      <td>42.979866</td>\n",
       "    </tr>\n",
       "    <tr>\n",
       "      <th>2016-08-12</th>\n",
       "      <td>58.189999</td>\n",
       "      <td>57.619999</td>\n",
       "      <td>58.029999</td>\n",
       "      <td>57.939999</td>\n",
       "      <td>21655200.0</td>\n",
       "      <td>54.759674</td>\n",
       "    </tr>\n",
       "  </tbody>\n",
       "</table>\n",
       "</div>"
      ],
      "text/plain": [
       "                 High        Low       Open      Close      Volume  Adj Close\n",
       "Date                                                                         \n",
       "2010-08-12  24.680000  24.360001  24.420000  24.490000  70240500.0  19.657284\n",
       "2011-08-12  25.340000  24.650000  25.129999  25.100000  64787100.0  20.633648\n",
       "2013-08-12  32.970001  32.459999  32.459999  32.869999  25493700.0  28.603546\n",
       "2014-08-12  43.590000  43.000000  43.040001  43.520000  21431100.0  38.988590\n",
       "2015-08-12  46.900002  45.709999  46.189999  46.740002  30181400.0  42.979866\n",
       "2016-08-12  58.189999  57.619999  58.029999  57.939999  21655200.0  54.759674"
      ]
     },
     "execution_count": 19,
     "metadata": {},
     "output_type": "execute_result"
    }
   ],
   "source": [
    "mask = stocks.index.isin(birthdays)\n",
    "stocks.loc[mask]"
   ]
  },
  {
   "cell_type": "markdown",
   "metadata": {},
   "source": [
    "### Timestamp Object Attributes"
   ]
  },
  {
   "cell_type": "code",
   "execution_count": 21,
   "metadata": {},
   "outputs": [],
   "source": [
    "someday = stocks.index[500]"
   ]
  },
  {
   "cell_type": "code",
   "execution_count": 22,
   "metadata": {},
   "outputs": [
    {
     "data": {
      "text/plain": [
       "27"
      ]
     },
     "execution_count": 22,
     "metadata": {},
     "output_type": "execute_result"
    }
   ],
   "source": [
    "someday.day"
   ]
  },
  {
   "cell_type": "code",
   "execution_count": 25,
   "metadata": {},
   "outputs": [
    {
     "name": "stderr",
     "output_type": "stream",
     "text": [
      "/anaconda3/lib/python3.6/site-packages/ipykernel_launcher.py:1: FutureWarning: `weekday_name` is deprecated and will be removed in a future version. Use `day_name` instead\n",
      "  \"\"\"Entry point for launching an IPython kernel.\n"
     ]
    },
    {
     "data": {
      "text/plain": [
       "'Tuesday'"
      ]
     },
     "execution_count": 25,
     "metadata": {},
     "output_type": "execute_result"
    }
   ],
   "source": [
    "someday.weekday_name"
   ]
  },
  {
   "cell_type": "code",
   "execution_count": 26,
   "metadata": {},
   "outputs": [],
   "source": [
    "stocks.insert(0, \"Day of Week\", stocks.index.weekday_name)"
   ]
  },
  {
   "cell_type": "code",
   "execution_count": 27,
   "metadata": {},
   "outputs": [
    {
     "data": {
      "text/html": [
       "<div>\n",
       "<style scoped>\n",
       "    .dataframe tbody tr th:only-of-type {\n",
       "        vertical-align: middle;\n",
       "    }\n",
       "\n",
       "    .dataframe tbody tr th {\n",
       "        vertical-align: top;\n",
       "    }\n",
       "\n",
       "    .dataframe thead th {\n",
       "        text-align: right;\n",
       "    }\n",
       "</style>\n",
       "<table border=\"1\" class=\"dataframe\">\n",
       "  <thead>\n",
       "    <tr style=\"text-align: right;\">\n",
       "      <th></th>\n",
       "      <th>Day of Week</th>\n",
       "      <th>High</th>\n",
       "      <th>Low</th>\n",
       "      <th>Open</th>\n",
       "      <th>Close</th>\n",
       "      <th>Volume</th>\n",
       "      <th>Adj Close</th>\n",
       "    </tr>\n",
       "    <tr>\n",
       "      <th>Date</th>\n",
       "      <th></th>\n",
       "      <th></th>\n",
       "      <th></th>\n",
       "      <th></th>\n",
       "      <th></th>\n",
       "      <th></th>\n",
       "      <th></th>\n",
       "    </tr>\n",
       "  </thead>\n",
       "  <tbody>\n",
       "    <tr>\n",
       "      <th>2010-01-04</th>\n",
       "      <td>Monday</td>\n",
       "      <td>31.100000</td>\n",
       "      <td>30.590000</td>\n",
       "      <td>30.620001</td>\n",
       "      <td>30.950001</td>\n",
       "      <td>38409100.0</td>\n",
       "      <td>24.615801</td>\n",
       "    </tr>\n",
       "    <tr>\n",
       "      <th>2010-01-05</th>\n",
       "      <td>Tuesday</td>\n",
       "      <td>31.100000</td>\n",
       "      <td>30.639999</td>\n",
       "      <td>30.850000</td>\n",
       "      <td>30.959999</td>\n",
       "      <td>49749600.0</td>\n",
       "      <td>24.623755</td>\n",
       "    </tr>\n",
       "    <tr>\n",
       "      <th>2010-01-06</th>\n",
       "      <td>Wednesday</td>\n",
       "      <td>31.080000</td>\n",
       "      <td>30.520000</td>\n",
       "      <td>30.879999</td>\n",
       "      <td>30.770000</td>\n",
       "      <td>58182400.0</td>\n",
       "      <td>24.472631</td>\n",
       "    </tr>\n",
       "    <tr>\n",
       "      <th>2010-01-07</th>\n",
       "      <td>Thursday</td>\n",
       "      <td>30.700001</td>\n",
       "      <td>30.190001</td>\n",
       "      <td>30.629999</td>\n",
       "      <td>30.450001</td>\n",
       "      <td>50559700.0</td>\n",
       "      <td>24.218124</td>\n",
       "    </tr>\n",
       "    <tr>\n",
       "      <th>2010-01-08</th>\n",
       "      <td>Friday</td>\n",
       "      <td>30.879999</td>\n",
       "      <td>30.240000</td>\n",
       "      <td>30.280001</td>\n",
       "      <td>30.660000</td>\n",
       "      <td>51197400.0</td>\n",
       "      <td>24.385145</td>\n",
       "    </tr>\n",
       "  </tbody>\n",
       "</table>\n",
       "</div>"
      ],
      "text/plain": [
       "           Day of Week       High        Low       Open      Close  \\\n",
       "Date                                                                 \n",
       "2010-01-04      Monday  31.100000  30.590000  30.620001  30.950001   \n",
       "2010-01-05     Tuesday  31.100000  30.639999  30.850000  30.959999   \n",
       "2010-01-06   Wednesday  31.080000  30.520000  30.879999  30.770000   \n",
       "2010-01-07    Thursday  30.700001  30.190001  30.629999  30.450001   \n",
       "2010-01-08      Friday  30.879999  30.240000  30.280001  30.660000   \n",
       "\n",
       "                Volume  Adj Close  \n",
       "Date                               \n",
       "2010-01-04  38409100.0  24.615801  \n",
       "2010-01-05  49749600.0  24.623755  \n",
       "2010-01-06  58182400.0  24.472631  \n",
       "2010-01-07  50559700.0  24.218124  \n",
       "2010-01-08  51197400.0  24.385145  "
      ]
     },
     "execution_count": 27,
     "metadata": {},
     "output_type": "execute_result"
    }
   ],
   "source": [
    "stocks.head()"
   ]
  },
  {
   "cell_type": "code",
   "execution_count": 29,
   "metadata": {},
   "outputs": [],
   "source": [
    "stocks.insert(1, \"Is Start of Month\", stocks.index.is_month_start)"
   ]
  },
  {
   "cell_type": "code",
   "execution_count": 30,
   "metadata": {},
   "outputs": [
    {
     "data": {
      "text/html": [
       "<div>\n",
       "<style scoped>\n",
       "    .dataframe tbody tr th:only-of-type {\n",
       "        vertical-align: middle;\n",
       "    }\n",
       "\n",
       "    .dataframe tbody tr th {\n",
       "        vertical-align: top;\n",
       "    }\n",
       "\n",
       "    .dataframe thead th {\n",
       "        text-align: right;\n",
       "    }\n",
       "</style>\n",
       "<table border=\"1\" class=\"dataframe\">\n",
       "  <thead>\n",
       "    <tr style=\"text-align: right;\">\n",
       "      <th></th>\n",
       "      <th>Day of Week</th>\n",
       "      <th>Is Start of Month</th>\n",
       "      <th>High</th>\n",
       "      <th>Low</th>\n",
       "      <th>Open</th>\n",
       "      <th>Close</th>\n",
       "      <th>Volume</th>\n",
       "      <th>Adj Close</th>\n",
       "    </tr>\n",
       "    <tr>\n",
       "      <th>Date</th>\n",
       "      <th></th>\n",
       "      <th></th>\n",
       "      <th></th>\n",
       "      <th></th>\n",
       "      <th></th>\n",
       "      <th></th>\n",
       "      <th></th>\n",
       "      <th></th>\n",
       "    </tr>\n",
       "  </thead>\n",
       "  <tbody>\n",
       "    <tr>\n",
       "      <th>2010-01-04</th>\n",
       "      <td>Monday</td>\n",
       "      <td>False</td>\n",
       "      <td>31.100000</td>\n",
       "      <td>30.590000</td>\n",
       "      <td>30.620001</td>\n",
       "      <td>30.950001</td>\n",
       "      <td>38409100.0</td>\n",
       "      <td>24.615801</td>\n",
       "    </tr>\n",
       "    <tr>\n",
       "      <th>2010-01-05</th>\n",
       "      <td>Tuesday</td>\n",
       "      <td>False</td>\n",
       "      <td>31.100000</td>\n",
       "      <td>30.639999</td>\n",
       "      <td>30.850000</td>\n",
       "      <td>30.959999</td>\n",
       "      <td>49749600.0</td>\n",
       "      <td>24.623755</td>\n",
       "    </tr>\n",
       "    <tr>\n",
       "      <th>2010-01-06</th>\n",
       "      <td>Wednesday</td>\n",
       "      <td>False</td>\n",
       "      <td>31.080000</td>\n",
       "      <td>30.520000</td>\n",
       "      <td>30.879999</td>\n",
       "      <td>30.770000</td>\n",
       "      <td>58182400.0</td>\n",
       "      <td>24.472631</td>\n",
       "    </tr>\n",
       "    <tr>\n",
       "      <th>2010-01-07</th>\n",
       "      <td>Thursday</td>\n",
       "      <td>False</td>\n",
       "      <td>30.700001</td>\n",
       "      <td>30.190001</td>\n",
       "      <td>30.629999</td>\n",
       "      <td>30.450001</td>\n",
       "      <td>50559700.0</td>\n",
       "      <td>24.218124</td>\n",
       "    </tr>\n",
       "    <tr>\n",
       "      <th>2010-01-08</th>\n",
       "      <td>Friday</td>\n",
       "      <td>False</td>\n",
       "      <td>30.879999</td>\n",
       "      <td>30.240000</td>\n",
       "      <td>30.280001</td>\n",
       "      <td>30.660000</td>\n",
       "      <td>51197400.0</td>\n",
       "      <td>24.385145</td>\n",
       "    </tr>\n",
       "  </tbody>\n",
       "</table>\n",
       "</div>"
      ],
      "text/plain": [
       "           Day of Week  Is Start of Month       High        Low       Open  \\\n",
       "Date                                                                         \n",
       "2010-01-04      Monday              False  31.100000  30.590000  30.620001   \n",
       "2010-01-05     Tuesday              False  31.100000  30.639999  30.850000   \n",
       "2010-01-06   Wednesday              False  31.080000  30.520000  30.879999   \n",
       "2010-01-07    Thursday              False  30.700001  30.190001  30.629999   \n",
       "2010-01-08      Friday              False  30.879999  30.240000  30.280001   \n",
       "\n",
       "                Close      Volume  Adj Close  \n",
       "Date                                          \n",
       "2010-01-04  30.950001  38409100.0  24.615801  \n",
       "2010-01-05  30.959999  49749600.0  24.623755  \n",
       "2010-01-06  30.770000  58182400.0  24.472631  \n",
       "2010-01-07  30.450001  50559700.0  24.218124  \n",
       "2010-01-08  30.660000  51197400.0  24.385145  "
      ]
     },
     "execution_count": 30,
     "metadata": {},
     "output_type": "execute_result"
    }
   ],
   "source": [
    "stocks.head()"
   ]
  },
  {
   "cell_type": "code",
   "execution_count": 32,
   "metadata": {},
   "outputs": [
    {
     "data": {
      "text/html": [
       "<div>\n",
       "<style scoped>\n",
       "    .dataframe tbody tr th:only-of-type {\n",
       "        vertical-align: middle;\n",
       "    }\n",
       "\n",
       "    .dataframe tbody tr th {\n",
       "        vertical-align: top;\n",
       "    }\n",
       "\n",
       "    .dataframe thead th {\n",
       "        text-align: right;\n",
       "    }\n",
       "</style>\n",
       "<table border=\"1\" class=\"dataframe\">\n",
       "  <thead>\n",
       "    <tr style=\"text-align: right;\">\n",
       "      <th></th>\n",
       "      <th>Day of Week</th>\n",
       "      <th>Is Start of Month</th>\n",
       "      <th>High</th>\n",
       "      <th>Low</th>\n",
       "      <th>Open</th>\n",
       "      <th>Close</th>\n",
       "      <th>Volume</th>\n",
       "      <th>Adj Close</th>\n",
       "    </tr>\n",
       "    <tr>\n",
       "      <th>Date</th>\n",
       "      <th></th>\n",
       "      <th></th>\n",
       "      <th></th>\n",
       "      <th></th>\n",
       "      <th></th>\n",
       "      <th></th>\n",
       "      <th></th>\n",
       "      <th></th>\n",
       "    </tr>\n",
       "  </thead>\n",
       "  <tbody>\n",
       "    <tr>\n",
       "      <th>2010-02-01</th>\n",
       "      <td>Monday</td>\n",
       "      <td>True</td>\n",
       "      <td>28.480000</td>\n",
       "      <td>27.920000</td>\n",
       "      <td>28.389999</td>\n",
       "      <td>28.410000</td>\n",
       "      <td>85931100.0</td>\n",
       "      <td>22.595629</td>\n",
       "    </tr>\n",
       "    <tr>\n",
       "      <th>2010-03-01</th>\n",
       "      <td>Monday</td>\n",
       "      <td>True</td>\n",
       "      <td>29.049999</td>\n",
       "      <td>28.530001</td>\n",
       "      <td>28.770000</td>\n",
       "      <td>29.020000</td>\n",
       "      <td>43805400.0</td>\n",
       "      <td>23.188726</td>\n",
       "    </tr>\n",
       "    <tr>\n",
       "      <th>2010-04-01</th>\n",
       "      <td>Thursday</td>\n",
       "      <td>True</td>\n",
       "      <td>29.540001</td>\n",
       "      <td>28.620001</td>\n",
       "      <td>29.350000</td>\n",
       "      <td>29.160000</td>\n",
       "      <td>74768100.0</td>\n",
       "      <td>23.300583</td>\n",
       "    </tr>\n",
       "    <tr>\n",
       "      <th>2010-06-01</th>\n",
       "      <td>Tuesday</td>\n",
       "      <td>True</td>\n",
       "      <td>26.309999</td>\n",
       "      <td>25.520000</td>\n",
       "      <td>25.530001</td>\n",
       "      <td>25.889999</td>\n",
       "      <td>76152400.0</td>\n",
       "      <td>20.781010</td>\n",
       "    </tr>\n",
       "    <tr>\n",
       "      <th>2010-07-01</th>\n",
       "      <td>Thursday</td>\n",
       "      <td>True</td>\n",
       "      <td>23.320000</td>\n",
       "      <td>22.730000</td>\n",
       "      <td>23.090000</td>\n",
       "      <td>23.160000</td>\n",
       "      <td>92239400.0</td>\n",
       "      <td>18.589743</td>\n",
       "    </tr>\n",
       "  </tbody>\n",
       "</table>\n",
       "</div>"
      ],
      "text/plain": [
       "           Day of Week  Is Start of Month       High        Low       Open  \\\n",
       "Date                                                                         \n",
       "2010-02-01      Monday               True  28.480000  27.920000  28.389999   \n",
       "2010-03-01      Monday               True  29.049999  28.530001  28.770000   \n",
       "2010-04-01    Thursday               True  29.540001  28.620001  29.350000   \n",
       "2010-06-01     Tuesday               True  26.309999  25.520000  25.530001   \n",
       "2010-07-01    Thursday               True  23.320000  22.730000  23.090000   \n",
       "\n",
       "                Close      Volume  Adj Close  \n",
       "Date                                          \n",
       "2010-02-01  28.410000  85931100.0  22.595629  \n",
       "2010-03-01  29.020000  43805400.0  23.188726  \n",
       "2010-04-01  29.160000  74768100.0  23.300583  \n",
       "2010-06-01  25.889999  76152400.0  20.781010  \n",
       "2010-07-01  23.160000  92239400.0  18.589743  "
      ]
     },
     "execution_count": 32,
     "metadata": {},
     "output_type": "execute_result"
    }
   ],
   "source": [
    "stocks[stocks[\"Is Start of Month\"]].head()"
   ]
  },
  {
   "cell_type": "markdown",
   "metadata": {},
   "source": [
    "### The .truncate() Method"
   ]
  },
  {
   "cell_type": "code",
   "execution_count": 33,
   "metadata": {},
   "outputs": [
    {
     "data": {
      "text/html": [
       "<div>\n",
       "<style scoped>\n",
       "    .dataframe tbody tr th:only-of-type {\n",
       "        vertical-align: middle;\n",
       "    }\n",
       "\n",
       "    .dataframe tbody tr th {\n",
       "        vertical-align: top;\n",
       "    }\n",
       "\n",
       "    .dataframe thead th {\n",
       "        text-align: right;\n",
       "    }\n",
       "</style>\n",
       "<table border=\"1\" class=\"dataframe\">\n",
       "  <thead>\n",
       "    <tr style=\"text-align: right;\">\n",
       "      <th></th>\n",
       "      <th>Day of Week</th>\n",
       "      <th>Is Start of Month</th>\n",
       "      <th>High</th>\n",
       "      <th>Low</th>\n",
       "      <th>Open</th>\n",
       "      <th>Close</th>\n",
       "      <th>Volume</th>\n",
       "      <th>Adj Close</th>\n",
       "    </tr>\n",
       "    <tr>\n",
       "      <th>Date</th>\n",
       "      <th></th>\n",
       "      <th></th>\n",
       "      <th></th>\n",
       "      <th></th>\n",
       "      <th></th>\n",
       "      <th></th>\n",
       "      <th></th>\n",
       "      <th></th>\n",
       "    </tr>\n",
       "  </thead>\n",
       "  <tbody>\n",
       "    <tr>\n",
       "      <th>2011-02-07</th>\n",
       "      <td>Monday</td>\n",
       "      <td>False</td>\n",
       "      <td>28.340000</td>\n",
       "      <td>27.790001</td>\n",
       "      <td>27.799999</td>\n",
       "      <td>28.200001</td>\n",
       "      <td>68980900.0</td>\n",
       "      <td>22.895735</td>\n",
       "    </tr>\n",
       "    <tr>\n",
       "      <th>2011-02-08</th>\n",
       "      <td>Tuesday</td>\n",
       "      <td>False</td>\n",
       "      <td>28.340000</td>\n",
       "      <td>28.049999</td>\n",
       "      <td>28.100000</td>\n",
       "      <td>28.280001</td>\n",
       "      <td>34904200.0</td>\n",
       "      <td>22.960686</td>\n",
       "    </tr>\n",
       "    <tr>\n",
       "      <th>2011-02-09</th>\n",
       "      <td>Wednesday</td>\n",
       "      <td>False</td>\n",
       "      <td>28.260000</td>\n",
       "      <td>27.910000</td>\n",
       "      <td>28.190001</td>\n",
       "      <td>27.969999</td>\n",
       "      <td>52905100.0</td>\n",
       "      <td>22.709000</td>\n",
       "    </tr>\n",
       "    <tr>\n",
       "      <th>2011-02-10</th>\n",
       "      <td>Thursday</td>\n",
       "      <td>False</td>\n",
       "      <td>27.940001</td>\n",
       "      <td>27.290001</td>\n",
       "      <td>27.930000</td>\n",
       "      <td>27.500000</td>\n",
       "      <td>76672400.0</td>\n",
       "      <td>22.327404</td>\n",
       "    </tr>\n",
       "    <tr>\n",
       "      <th>2011-02-11</th>\n",
       "      <td>Friday</td>\n",
       "      <td>False</td>\n",
       "      <td>27.809999</td>\n",
       "      <td>27.070000</td>\n",
       "      <td>27.760000</td>\n",
       "      <td>27.250000</td>\n",
       "      <td>83939700.0</td>\n",
       "      <td>22.124426</td>\n",
       "    </tr>\n",
       "    <tr>\n",
       "      <th>2011-02-14</th>\n",
       "      <td>Monday</td>\n",
       "      <td>False</td>\n",
       "      <td>27.270000</td>\n",
       "      <td>26.950001</td>\n",
       "      <td>27.209999</td>\n",
       "      <td>27.230000</td>\n",
       "      <td>56766200.0</td>\n",
       "      <td>22.108189</td>\n",
       "    </tr>\n",
       "    <tr>\n",
       "      <th>2011-02-15</th>\n",
       "      <td>Tuesday</td>\n",
       "      <td>False</td>\n",
       "      <td>27.330000</td>\n",
       "      <td>26.950001</td>\n",
       "      <td>27.040001</td>\n",
       "      <td>26.959999</td>\n",
       "      <td>44116500.0</td>\n",
       "      <td>22.018347</td>\n",
       "    </tr>\n",
       "    <tr>\n",
       "      <th>2011-02-16</th>\n",
       "      <td>Wednesday</td>\n",
       "      <td>False</td>\n",
       "      <td>27.070000</td>\n",
       "      <td>26.600000</td>\n",
       "      <td>27.049999</td>\n",
       "      <td>27.020000</td>\n",
       "      <td>70817900.0</td>\n",
       "      <td>22.067352</td>\n",
       "    </tr>\n",
       "    <tr>\n",
       "      <th>2011-02-17</th>\n",
       "      <td>Thursday</td>\n",
       "      <td>False</td>\n",
       "      <td>27.370001</td>\n",
       "      <td>26.910000</td>\n",
       "      <td>26.969999</td>\n",
       "      <td>27.209999</td>\n",
       "      <td>57207300.0</td>\n",
       "      <td>22.222528</td>\n",
       "    </tr>\n",
       "    <tr>\n",
       "      <th>2011-02-18</th>\n",
       "      <td>Friday</td>\n",
       "      <td>False</td>\n",
       "      <td>27.209999</td>\n",
       "      <td>26.990000</td>\n",
       "      <td>27.129999</td>\n",
       "      <td>27.059999</td>\n",
       "      <td>68667800.0</td>\n",
       "      <td>22.100019</td>\n",
       "    </tr>\n",
       "    <tr>\n",
       "      <th>2011-02-22</th>\n",
       "      <td>Tuesday</td>\n",
       "      <td>False</td>\n",
       "      <td>27.100000</td>\n",
       "      <td>26.520000</td>\n",
       "      <td>26.780001</td>\n",
       "      <td>26.590000</td>\n",
       "      <td>60889000.0</td>\n",
       "      <td>21.716171</td>\n",
       "    </tr>\n",
       "    <tr>\n",
       "      <th>2011-02-23</th>\n",
       "      <td>Wednesday</td>\n",
       "      <td>False</td>\n",
       "      <td>26.860001</td>\n",
       "      <td>26.430000</td>\n",
       "      <td>26.530001</td>\n",
       "      <td>26.590000</td>\n",
       "      <td>60234100.0</td>\n",
       "      <td>21.716171</td>\n",
       "    </tr>\n",
       "    <tr>\n",
       "      <th>2011-02-24</th>\n",
       "      <td>Thursday</td>\n",
       "      <td>False</td>\n",
       "      <td>27.059999</td>\n",
       "      <td>26.500000</td>\n",
       "      <td>26.639999</td>\n",
       "      <td>26.770000</td>\n",
       "      <td>64494200.0</td>\n",
       "      <td>21.863176</td>\n",
       "    </tr>\n",
       "    <tr>\n",
       "      <th>2011-02-25</th>\n",
       "      <td>Friday</td>\n",
       "      <td>False</td>\n",
       "      <td>26.950001</td>\n",
       "      <td>26.500000</td>\n",
       "      <td>26.910000</td>\n",
       "      <td>26.549999</td>\n",
       "      <td>53006300.0</td>\n",
       "      <td>21.683502</td>\n",
       "    </tr>\n",
       "    <tr>\n",
       "      <th>2011-02-28</th>\n",
       "      <td>Monday</td>\n",
       "      <td>False</td>\n",
       "      <td>26.860001</td>\n",
       "      <td>26.510000</td>\n",
       "      <td>26.690001</td>\n",
       "      <td>26.580000</td>\n",
       "      <td>51379900.0</td>\n",
       "      <td>21.708004</td>\n",
       "    </tr>\n",
       "  </tbody>\n",
       "</table>\n",
       "</div>"
      ],
      "text/plain": [
       "           Day of Week  Is Start of Month       High        Low       Open  \\\n",
       "Date                                                                         \n",
       "2011-02-07      Monday              False  28.340000  27.790001  27.799999   \n",
       "2011-02-08     Tuesday              False  28.340000  28.049999  28.100000   \n",
       "2011-02-09   Wednesday              False  28.260000  27.910000  28.190001   \n",
       "2011-02-10    Thursday              False  27.940001  27.290001  27.930000   \n",
       "2011-02-11      Friday              False  27.809999  27.070000  27.760000   \n",
       "2011-02-14      Monday              False  27.270000  26.950001  27.209999   \n",
       "2011-02-15     Tuesday              False  27.330000  26.950001  27.040001   \n",
       "2011-02-16   Wednesday              False  27.070000  26.600000  27.049999   \n",
       "2011-02-17    Thursday              False  27.370001  26.910000  26.969999   \n",
       "2011-02-18      Friday              False  27.209999  26.990000  27.129999   \n",
       "2011-02-22     Tuesday              False  27.100000  26.520000  26.780001   \n",
       "2011-02-23   Wednesday              False  26.860001  26.430000  26.530001   \n",
       "2011-02-24    Thursday              False  27.059999  26.500000  26.639999   \n",
       "2011-02-25      Friday              False  26.950001  26.500000  26.910000   \n",
       "2011-02-28      Monday              False  26.860001  26.510000  26.690001   \n",
       "\n",
       "                Close      Volume  Adj Close  \n",
       "Date                                          \n",
       "2011-02-07  28.200001  68980900.0  22.895735  \n",
       "2011-02-08  28.280001  34904200.0  22.960686  \n",
       "2011-02-09  27.969999  52905100.0  22.709000  \n",
       "2011-02-10  27.500000  76672400.0  22.327404  \n",
       "2011-02-11  27.250000  83939700.0  22.124426  \n",
       "2011-02-14  27.230000  56766200.0  22.108189  \n",
       "2011-02-15  26.959999  44116500.0  22.018347  \n",
       "2011-02-16  27.020000  70817900.0  22.067352  \n",
       "2011-02-17  27.209999  57207300.0  22.222528  \n",
       "2011-02-18  27.059999  68667800.0  22.100019  \n",
       "2011-02-22  26.590000  60889000.0  21.716171  \n",
       "2011-02-23  26.590000  60234100.0  21.716171  \n",
       "2011-02-24  26.770000  64494200.0  21.863176  \n",
       "2011-02-25  26.549999  53006300.0  21.683502  \n",
       "2011-02-28  26.580000  51379900.0  21.708004  "
      ]
     },
     "execution_count": 33,
     "metadata": {},
     "output_type": "execute_result"
    }
   ],
   "source": [
    "stocks.truncate(before=\"2011-02-05\", after=\"2011-02-28\")"
   ]
  },
  {
   "cell_type": "markdown",
   "metadata": {},
   "source": [
    "### pd.DateOffset Objects"
   ]
  },
  {
   "cell_type": "code",
   "execution_count": 36,
   "metadata": {},
   "outputs": [
    {
     "data": {
      "text/html": [
       "<div>\n",
       "<style scoped>\n",
       "    .dataframe tbody tr th:only-of-type {\n",
       "        vertical-align: middle;\n",
       "    }\n",
       "\n",
       "    .dataframe tbody tr th {\n",
       "        vertical-align: top;\n",
       "    }\n",
       "\n",
       "    .dataframe thead th {\n",
       "        text-align: right;\n",
       "    }\n",
       "</style>\n",
       "<table border=\"1\" class=\"dataframe\">\n",
       "  <thead>\n",
       "    <tr style=\"text-align: right;\">\n",
       "      <th></th>\n",
       "      <th>Day of Week</th>\n",
       "      <th>Is Start of Month</th>\n",
       "      <th>High</th>\n",
       "      <th>Low</th>\n",
       "      <th>Open</th>\n",
       "      <th>Close</th>\n",
       "      <th>Volume</th>\n",
       "      <th>Adj Close</th>\n",
       "    </tr>\n",
       "    <tr>\n",
       "      <th>Date</th>\n",
       "      <th></th>\n",
       "      <th></th>\n",
       "      <th></th>\n",
       "      <th></th>\n",
       "      <th></th>\n",
       "      <th></th>\n",
       "      <th></th>\n",
       "      <th></th>\n",
       "    </tr>\n",
       "  </thead>\n",
       "  <tbody>\n",
       "    <tr>\n",
       "      <th>2010-01-04</th>\n",
       "      <td>Monday</td>\n",
       "      <td>False</td>\n",
       "      <td>31.100000</td>\n",
       "      <td>30.590000</td>\n",
       "      <td>30.620001</td>\n",
       "      <td>30.950001</td>\n",
       "      <td>38409100.0</td>\n",
       "      <td>24.615801</td>\n",
       "    </tr>\n",
       "    <tr>\n",
       "      <th>2010-01-05</th>\n",
       "      <td>Tuesday</td>\n",
       "      <td>False</td>\n",
       "      <td>31.100000</td>\n",
       "      <td>30.639999</td>\n",
       "      <td>30.850000</td>\n",
       "      <td>30.959999</td>\n",
       "      <td>49749600.0</td>\n",
       "      <td>24.623755</td>\n",
       "    </tr>\n",
       "    <tr>\n",
       "      <th>2010-01-06</th>\n",
       "      <td>Wednesday</td>\n",
       "      <td>False</td>\n",
       "      <td>31.080000</td>\n",
       "      <td>30.520000</td>\n",
       "      <td>30.879999</td>\n",
       "      <td>30.770000</td>\n",
       "      <td>58182400.0</td>\n",
       "      <td>24.472631</td>\n",
       "    </tr>\n",
       "    <tr>\n",
       "      <th>2010-01-07</th>\n",
       "      <td>Thursday</td>\n",
       "      <td>False</td>\n",
       "      <td>30.700001</td>\n",
       "      <td>30.190001</td>\n",
       "      <td>30.629999</td>\n",
       "      <td>30.450001</td>\n",
       "      <td>50559700.0</td>\n",
       "      <td>24.218124</td>\n",
       "    </tr>\n",
       "    <tr>\n",
       "      <th>2010-01-08</th>\n",
       "      <td>Friday</td>\n",
       "      <td>False</td>\n",
       "      <td>30.879999</td>\n",
       "      <td>30.240000</td>\n",
       "      <td>30.280001</td>\n",
       "      <td>30.660000</td>\n",
       "      <td>51197400.0</td>\n",
       "      <td>24.385145</td>\n",
       "    </tr>\n",
       "  </tbody>\n",
       "</table>\n",
       "</div>"
      ],
      "text/plain": [
       "           Day of Week  Is Start of Month       High        Low       Open  \\\n",
       "Date                                                                         \n",
       "2010-01-04      Monday              False  31.100000  30.590000  30.620001   \n",
       "2010-01-05     Tuesday              False  31.100000  30.639999  30.850000   \n",
       "2010-01-06   Wednesday              False  31.080000  30.520000  30.879999   \n",
       "2010-01-07    Thursday              False  30.700001  30.190001  30.629999   \n",
       "2010-01-08      Friday              False  30.879999  30.240000  30.280001   \n",
       "\n",
       "                Close      Volume  Adj Close  \n",
       "Date                                          \n",
       "2010-01-04  30.950001  38409100.0  24.615801  \n",
       "2010-01-05  30.959999  49749600.0  24.623755  \n",
       "2010-01-06  30.770000  58182400.0  24.472631  \n",
       "2010-01-07  30.450001  50559700.0  24.218124  \n",
       "2010-01-08  30.660000  51197400.0  24.385145  "
      ]
     },
     "execution_count": 36,
     "metadata": {},
     "output_type": "execute_result"
    }
   ],
   "source": [
    "stock = data.DataReader(name=\"GOOG\", data_source=\"yahoo\", start=dt.date(2000, 1, 1), end=dt.datetime.now())\n",
    "stocks.head()"
   ]
  },
  {
   "cell_type": "code",
   "execution_count": 38,
   "metadata": {},
   "outputs": [
    {
     "data": {
      "text/plain": [
       "DatetimeIndex(['2010-01-09', '2010-01-10', '2010-01-11', '2010-01-12',\n",
       "               '2010-01-13', '2010-01-16', '2010-01-17', '2010-01-18',\n",
       "               '2010-01-19', '2010-01-20',\n",
       "               ...\n",
       "               '2017-12-20', '2017-12-23', '2017-12-24', '2017-12-25',\n",
       "               '2017-12-26', '2017-12-27', '2017-12-31', '2018-01-01',\n",
       "               '2018-01-02', '2018-01-03'],\n",
       "              dtype='datetime64[ns]', name='Date', length=2013, freq=None)"
      ]
     },
     "execution_count": 38,
     "metadata": {},
     "output_type": "execute_result"
    }
   ],
   "source": [
    "stocks.index + pd.DateOffset(days=5)"
   ]
  },
  {
   "cell_type": "markdown",
   "metadata": {},
   "source": [
    "### More fun with pd.DateOffset Objects"
   ]
  },
  {
   "cell_type": "code",
   "execution_count": 49,
   "metadata": {},
   "outputs": [],
   "source": [
    "import pandas as pd\n",
    "import datetime as dt\n",
    "from pandas_datareader import data\n",
    "from pandas.tseries.offsets import *"
   ]
  },
  {
   "cell_type": "code",
   "execution_count": 50,
   "metadata": {},
   "outputs": [
    {
     "data": {
      "text/plain": [
       "DatetimeIndex(['2009-12-31', '2009-12-31', '2009-12-31', '2009-12-31',\n",
       "               '2009-12-31', '2009-12-31', '2009-12-31', '2009-12-31',\n",
       "               '2009-12-31', '2009-12-31',\n",
       "               ...\n",
       "               '2017-11-30', '2017-11-30', '2017-11-30', '2017-11-30',\n",
       "               '2017-11-30', '2017-11-30', '2017-11-30', '2017-11-30',\n",
       "               '2017-11-30', '2017-11-30'],\n",
       "              dtype='datetime64[ns]', name='Date', length=2013, freq=None)"
      ]
     },
     "execution_count": 50,
     "metadata": {},
     "output_type": "execute_result"
    }
   ],
   "source": [
    "stocks.index - pd.tseries.offsets.MonthEnd()"
   ]
  },
  {
   "cell_type": "code",
   "execution_count": 51,
   "metadata": {},
   "outputs": [
    {
     "data": {
      "text/plain": [
       "DatetimeIndex(['2009-12-31', '2009-12-31', '2009-12-31', '2009-12-31',\n",
       "               '2009-12-31', '2009-12-31', '2009-12-31', '2009-12-31',\n",
       "               '2009-12-31', '2009-12-31',\n",
       "               ...\n",
       "               '2017-11-30', '2017-11-30', '2017-11-30', '2017-11-30',\n",
       "               '2017-11-30', '2017-11-30', '2017-11-30', '2017-11-30',\n",
       "               '2017-11-30', '2017-11-30'],\n",
       "              dtype='datetime64[ns]', name='Date', length=2013, freq=None)"
      ]
     },
     "execution_count": 51,
     "metadata": {},
     "output_type": "execute_result"
    }
   ],
   "source": [
    "stocks.index - pd.tseries.offsets.MonthEnd()"
   ]
  },
  {
   "cell_type": "code",
   "execution_count": 53,
   "metadata": {},
   "outputs": [
    {
     "data": {
      "text/plain": [
       "DatetimeIndex(['2009-12-31', '2009-12-31', '2009-12-31', '2009-12-31',\n",
       "               '2009-12-31', '2009-12-31', '2009-12-31', '2009-12-31',\n",
       "               '2009-12-31', '2009-12-31',\n",
       "               ...\n",
       "               '2017-11-30', '2017-11-30', '2017-11-30', '2017-11-30',\n",
       "               '2017-11-30', '2017-11-30', '2017-11-30', '2017-11-30',\n",
       "               '2017-11-30', '2017-11-30'],\n",
       "              dtype='datetime64[ns]', name='Date', length=2013, freq=None)"
      ]
     },
     "execution_count": 53,
     "metadata": {},
     "output_type": "execute_result"
    }
   ],
   "source": [
    "stocks.index - MonthEnd()"
   ]
  },
  {
   "cell_type": "code",
   "execution_count": 54,
   "metadata": {},
   "outputs": [
    {
     "data": {
      "text/plain": [
       "DatetimeIndex(['2009-12-31', '2009-12-31', '2009-12-31', '2009-12-31',\n",
       "               '2009-12-31', '2009-12-31', '2009-12-31', '2009-12-31',\n",
       "               '2009-12-31', '2009-12-31',\n",
       "               ...\n",
       "               '2017-11-30', '2017-11-30', '2017-11-30', '2017-11-30',\n",
       "               '2017-11-30', '2017-11-30', '2017-11-30', '2017-11-30',\n",
       "               '2017-11-30', '2017-11-30'],\n",
       "              dtype='datetime64[ns]', name='Date', length=2013, freq=None)"
      ]
     },
     "execution_count": 54,
     "metadata": {},
     "output_type": "execute_result"
    }
   ],
   "source": [
    "stocks.index - BMonthEnd()"
   ]
  },
  {
   "cell_type": "code",
   "execution_count": 55,
   "metadata": {},
   "outputs": [
    {
     "data": {
      "text/plain": [
       "DatetimeIndex(['2010-03-31', '2010-03-31', '2010-03-31', '2010-03-31',\n",
       "               '2010-03-31', '2010-03-31', '2010-03-31', '2010-03-31',\n",
       "               '2010-03-31', '2010-03-31',\n",
       "               ...\n",
       "               '2017-12-31', '2017-12-31', '2017-12-31', '2017-12-31',\n",
       "               '2017-12-31', '2017-12-31', '2017-12-31', '2017-12-31',\n",
       "               '2017-12-31', '2017-12-31'],\n",
       "              dtype='datetime64[ns]', name='Date', length=2013, freq=None)"
      ]
     },
     "execution_count": 55,
     "metadata": {},
     "output_type": "execute_result"
    }
   ],
   "source": [
    "stocks.index  + QuarterEnd()"
   ]
  },
  {
   "cell_type": "code",
   "execution_count": 57,
   "metadata": {},
   "outputs": [
    {
     "data": {
      "text/plain": [
       "DatetimeIndex(['2010-12-31', '2010-12-31', '2010-12-31', '2010-12-31',\n",
       "               '2010-12-31', '2010-12-31', '2010-12-31', '2010-12-31',\n",
       "               '2010-12-31', '2010-12-31',\n",
       "               ...\n",
       "               '2017-12-31', '2017-12-31', '2017-12-31', '2017-12-31',\n",
       "               '2017-12-31', '2017-12-31', '2017-12-31', '2017-12-31',\n",
       "               '2017-12-31', '2017-12-31'],\n",
       "              dtype='datetime64[ns]', name='Date', length=2013, freq=None)"
      ]
     },
     "execution_count": 57,
     "metadata": {},
     "output_type": "execute_result"
    }
   ],
   "source": [
    "stocks.index + YearEnd()"
   ]
  },
  {
   "cell_type": "markdown",
   "metadata": {},
   "source": [
    "### The TimeDelta Object"
   ]
  },
  {
   "cell_type": "code",
   "execution_count": 62,
   "metadata": {},
   "outputs": [],
   "source": [
    "timeA = pd.Timestamp(\"2016-03-31\")\n",
    "timeB = pd.Timestamp(\"2016-03-20\")"
   ]
  },
  {
   "cell_type": "code",
   "execution_count": 63,
   "metadata": {},
   "outputs": [
    {
     "data": {
      "text/plain": [
       "Timedelta('11 days 00:00:00')"
      ]
     },
     "execution_count": 63,
     "metadata": {},
     "output_type": "execute_result"
    }
   ],
   "source": [
    "timeA - timeB"
   ]
  },
  {
   "cell_type": "code",
   "execution_count": 64,
   "metadata": {},
   "outputs": [
    {
     "data": {
      "text/plain": [
       "Timedelta('-11 days +00:00:00')"
      ]
     },
     "execution_count": 64,
     "metadata": {},
     "output_type": "execute_result"
    }
   ],
   "source": [
    "timeB - timeA"
   ]
  },
  {
   "cell_type": "code",
   "execution_count": 67,
   "metadata": {},
   "outputs": [
    {
     "data": {
      "text/plain": [
       "Timedelta('3 days 12:45:00')"
      ]
     },
     "execution_count": 67,
     "metadata": {},
     "output_type": "execute_result"
    }
   ],
   "source": [
    "pd.Timedelta(days=3, minutes=45, hours=12)"
   ]
  },
  {
   "cell_type": "code",
   "execution_count": 68,
   "metadata": {},
   "outputs": [
    {
     "data": {
      "text/plain": [
       "Timedelta('59 days 12:45:00')"
      ]
     },
     "execution_count": 68,
     "metadata": {},
     "output_type": "execute_result"
    }
   ],
   "source": [
    "pd.Timedelta(days=3, minutes=45, hours=12, weeks=8)"
   ]
  },
  {
   "cell_type": "code",
   "execution_count": 69,
   "metadata": {},
   "outputs": [
    {
     "data": {
      "text/plain": [
       "Timedelta('0 days 06:12:00')"
      ]
     },
     "execution_count": 69,
     "metadata": {},
     "output_type": "execute_result"
    }
   ],
   "source": [
    "pd.Timedelta(\"6 hours 12 minutes\")"
   ]
  },
  {
   "cell_type": "markdown",
   "metadata": {},
   "source": [
    "### Timedeltas in a Dataset"
   ]
  },
  {
   "cell_type": "code",
   "execution_count": 73,
   "metadata": {},
   "outputs": [
    {
     "data": {
      "text/html": [
       "<div>\n",
       "<style scoped>\n",
       "    .dataframe tbody tr th:only-of-type {\n",
       "        vertical-align: middle;\n",
       "    }\n",
       "\n",
       "    .dataframe tbody tr th {\n",
       "        vertical-align: top;\n",
       "    }\n",
       "\n",
       "    .dataframe thead th {\n",
       "        text-align: right;\n",
       "    }\n",
       "</style>\n",
       "<table border=\"1\" class=\"dataframe\">\n",
       "  <thead>\n",
       "    <tr style=\"text-align: right;\">\n",
       "      <th></th>\n",
       "      <th>order_date</th>\n",
       "      <th>delivery_date</th>\n",
       "    </tr>\n",
       "    <tr>\n",
       "      <th>ID</th>\n",
       "      <th></th>\n",
       "      <th></th>\n",
       "    </tr>\n",
       "  </thead>\n",
       "  <tbody>\n",
       "    <tr>\n",
       "      <th>1</th>\n",
       "      <td>1998-05-24</td>\n",
       "      <td>1999-02-05</td>\n",
       "    </tr>\n",
       "    <tr>\n",
       "      <th>2</th>\n",
       "      <td>1992-04-22</td>\n",
       "      <td>1998-03-06</td>\n",
       "    </tr>\n",
       "    <tr>\n",
       "      <th>4</th>\n",
       "      <td>1991-02-10</td>\n",
       "      <td>1992-08-26</td>\n",
       "    </tr>\n",
       "    <tr>\n",
       "      <th>5</th>\n",
       "      <td>1992-07-21</td>\n",
       "      <td>1997-11-20</td>\n",
       "    </tr>\n",
       "    <tr>\n",
       "      <th>7</th>\n",
       "      <td>1993-09-02</td>\n",
       "      <td>1998-06-10</td>\n",
       "    </tr>\n",
       "  </tbody>\n",
       "</table>\n",
       "</div>"
      ],
      "text/plain": [
       "   order_date delivery_date\n",
       "ID                         \n",
       "1  1998-05-24    1999-02-05\n",
       "2  1992-04-22    1998-03-06\n",
       "4  1991-02-10    1992-08-26\n",
       "5  1992-07-21    1997-11-20\n",
       "7  1993-09-02    1998-06-10"
      ]
     },
     "execution_count": 73,
     "metadata": {},
     "output_type": "execute_result"
    }
   ],
   "source": [
    "shipping = pd.read_csv(\"../data/ecommerce.csv\", index_col=\"ID\", parse_dates=[\"order_date\", \"delivery_date\"])\n",
    "shipping.head()"
   ]
  },
  {
   "cell_type": "code",
   "execution_count": 75,
   "metadata": {},
   "outputs": [
    {
     "data": {
      "text/html": [
       "<div>\n",
       "<style scoped>\n",
       "    .dataframe tbody tr th:only-of-type {\n",
       "        vertical-align: middle;\n",
       "    }\n",
       "\n",
       "    .dataframe tbody tr th {\n",
       "        vertical-align: top;\n",
       "    }\n",
       "\n",
       "    .dataframe thead th {\n",
       "        text-align: right;\n",
       "    }\n",
       "</style>\n",
       "<table border=\"1\" class=\"dataframe\">\n",
       "  <thead>\n",
       "    <tr style=\"text-align: right;\">\n",
       "      <th></th>\n",
       "      <th>order_date</th>\n",
       "      <th>delivery_date</th>\n",
       "      <th>Delivery Time</th>\n",
       "    </tr>\n",
       "    <tr>\n",
       "      <th>ID</th>\n",
       "      <th></th>\n",
       "      <th></th>\n",
       "      <th></th>\n",
       "    </tr>\n",
       "  </thead>\n",
       "  <tbody>\n",
       "    <tr>\n",
       "      <th>1</th>\n",
       "      <td>1998-05-24</td>\n",
       "      <td>1999-02-05</td>\n",
       "      <td>257 days</td>\n",
       "    </tr>\n",
       "    <tr>\n",
       "      <th>2</th>\n",
       "      <td>1992-04-22</td>\n",
       "      <td>1998-03-06</td>\n",
       "      <td>2144 days</td>\n",
       "    </tr>\n",
       "    <tr>\n",
       "      <th>4</th>\n",
       "      <td>1991-02-10</td>\n",
       "      <td>1992-08-26</td>\n",
       "      <td>563 days</td>\n",
       "    </tr>\n",
       "    <tr>\n",
       "      <th>5</th>\n",
       "      <td>1992-07-21</td>\n",
       "      <td>1997-11-20</td>\n",
       "      <td>1948 days</td>\n",
       "    </tr>\n",
       "    <tr>\n",
       "      <th>7</th>\n",
       "      <td>1993-09-02</td>\n",
       "      <td>1998-06-10</td>\n",
       "      <td>1742 days</td>\n",
       "    </tr>\n",
       "  </tbody>\n",
       "</table>\n",
       "</div>"
      ],
      "text/plain": [
       "   order_date delivery_date Delivery Time\n",
       "ID                                       \n",
       "1  1998-05-24    1999-02-05      257 days\n",
       "2  1992-04-22    1998-03-06     2144 days\n",
       "4  1991-02-10    1992-08-26      563 days\n",
       "5  1992-07-21    1997-11-20     1948 days\n",
       "7  1993-09-02    1998-06-10     1742 days"
      ]
     },
     "execution_count": 75,
     "metadata": {},
     "output_type": "execute_result"
    }
   ],
   "source": [
    "shipping[\"Delivery Time\"] = shipping[\"delivery_date\"] - shipping[\"order_date\"]\n",
    "shipping.head()"
   ]
  },
  {
   "cell_type": "code",
   "execution_count": null,
   "metadata": {},
   "outputs": [],
   "source": []
  },
  {
   "cell_type": "code",
   "execution_count": 77,
   "metadata": {},
   "outputs": [
    {
     "data": {
      "text/html": [
       "<div>\n",
       "<style scoped>\n",
       "    .dataframe tbody tr th:only-of-type {\n",
       "        vertical-align: middle;\n",
       "    }\n",
       "\n",
       "    .dataframe tbody tr th {\n",
       "        vertical-align: top;\n",
       "    }\n",
       "\n",
       "    .dataframe thead th {\n",
       "        text-align: right;\n",
       "    }\n",
       "</style>\n",
       "<table border=\"1\" class=\"dataframe\">\n",
       "  <thead>\n",
       "    <tr style=\"text-align: right;\">\n",
       "      <th></th>\n",
       "      <th>order_date</th>\n",
       "      <th>delivery_date</th>\n",
       "      <th>Delivery Time</th>\n",
       "      <th>2wice Long</th>\n",
       "    </tr>\n",
       "    <tr>\n",
       "      <th>ID</th>\n",
       "      <th></th>\n",
       "      <th></th>\n",
       "      <th></th>\n",
       "      <th></th>\n",
       "    </tr>\n",
       "  </thead>\n",
       "  <tbody>\n",
       "    <tr>\n",
       "      <th>1</th>\n",
       "      <td>1998-05-24</td>\n",
       "      <td>1999-02-05</td>\n",
       "      <td>257 days</td>\n",
       "      <td>1999-10-20</td>\n",
       "    </tr>\n",
       "    <tr>\n",
       "      <th>2</th>\n",
       "      <td>1992-04-22</td>\n",
       "      <td>1998-03-06</td>\n",
       "      <td>2144 days</td>\n",
       "      <td>2004-01-18</td>\n",
       "    </tr>\n",
       "    <tr>\n",
       "      <th>4</th>\n",
       "      <td>1991-02-10</td>\n",
       "      <td>1992-08-26</td>\n",
       "      <td>563 days</td>\n",
       "      <td>1994-03-12</td>\n",
       "    </tr>\n",
       "    <tr>\n",
       "      <th>5</th>\n",
       "      <td>1992-07-21</td>\n",
       "      <td>1997-11-20</td>\n",
       "      <td>1948 days</td>\n",
       "      <td>2003-03-22</td>\n",
       "    </tr>\n",
       "    <tr>\n",
       "      <th>7</th>\n",
       "      <td>1993-09-02</td>\n",
       "      <td>1998-06-10</td>\n",
       "      <td>1742 days</td>\n",
       "      <td>2003-03-18</td>\n",
       "    </tr>\n",
       "  </tbody>\n",
       "</table>\n",
       "</div>"
      ],
      "text/plain": [
       "   order_date delivery_date Delivery Time 2wice Long\n",
       "ID                                                  \n",
       "1  1998-05-24    1999-02-05      257 days 1999-10-20\n",
       "2  1992-04-22    1998-03-06     2144 days 2004-01-18\n",
       "4  1991-02-10    1992-08-26      563 days 1994-03-12\n",
       "5  1992-07-21    1997-11-20     1948 days 2003-03-22\n",
       "7  1993-09-02    1998-06-10     1742 days 2003-03-18"
      ]
     },
     "execution_count": 77,
     "metadata": {},
     "output_type": "execute_result"
    }
   ],
   "source": [
    "shipping[\"2wice Long\"] = shipping[\"delivery_date\"] + shipping[\"Delivery Time\"]\n",
    "shipping.head()"
   ]
  },
  {
   "cell_type": "code",
   "execution_count": 78,
   "metadata": {},
   "outputs": [
    {
     "data": {
      "text/plain": [
       "order_date        datetime64[ns]\n",
       "delivery_date     datetime64[ns]\n",
       "Delivery Time    timedelta64[ns]\n",
       "2wice Long        datetime64[ns]\n",
       "dtype: object"
      ]
     },
     "execution_count": 78,
     "metadata": {},
     "output_type": "execute_result"
    }
   ],
   "source": [
    "shipping.dtypes"
   ]
  },
  {
   "cell_type": "code",
   "execution_count": 80,
   "metadata": {},
   "outputs": [
    {
     "data": {
      "text/html": [
       "<div>\n",
       "<style scoped>\n",
       "    .dataframe tbody tr th:only-of-type {\n",
       "        vertical-align: middle;\n",
       "    }\n",
       "\n",
       "    .dataframe tbody tr th {\n",
       "        vertical-align: top;\n",
       "    }\n",
       "\n",
       "    .dataframe thead th {\n",
       "        text-align: right;\n",
       "    }\n",
       "</style>\n",
       "<table border=\"1\" class=\"dataframe\">\n",
       "  <thead>\n",
       "    <tr style=\"text-align: right;\">\n",
       "      <th></th>\n",
       "      <th>order_date</th>\n",
       "      <th>delivery_date</th>\n",
       "      <th>Delivery Time</th>\n",
       "      <th>2wice Long</th>\n",
       "    </tr>\n",
       "    <tr>\n",
       "      <th>ID</th>\n",
       "      <th></th>\n",
       "      <th></th>\n",
       "      <th></th>\n",
       "      <th></th>\n",
       "    </tr>\n",
       "  </thead>\n",
       "  <tbody>\n",
       "    <tr>\n",
       "      <th>32</th>\n",
       "      <td>1990-01-20</td>\n",
       "      <td>1998-07-24</td>\n",
       "      <td>3107 days</td>\n",
       "      <td>2007-01-25</td>\n",
       "    </tr>\n",
       "    <tr>\n",
       "      <th>130</th>\n",
       "      <td>1990-04-02</td>\n",
       "      <td>1999-08-16</td>\n",
       "      <td>3423 days</td>\n",
       "      <td>2008-12-29</td>\n",
       "    </tr>\n",
       "    <tr>\n",
       "      <th>151</th>\n",
       "      <td>1991-01-29</td>\n",
       "      <td>1999-08-05</td>\n",
       "      <td>3110 days</td>\n",
       "      <td>2008-02-09</td>\n",
       "    </tr>\n",
       "    <tr>\n",
       "      <th>229</th>\n",
       "      <td>1990-04-13</td>\n",
       "      <td>1998-11-17</td>\n",
       "      <td>3140 days</td>\n",
       "      <td>2007-06-23</td>\n",
       "    </tr>\n",
       "    <tr>\n",
       "      <th>314</th>\n",
       "      <td>1990-03-07</td>\n",
       "      <td>1999-12-25</td>\n",
       "      <td>3580 days</td>\n",
       "      <td>2009-10-13</td>\n",
       "    </tr>\n",
       "    <tr>\n",
       "      <th>331</th>\n",
       "      <td>1990-09-18</td>\n",
       "      <td>1999-12-19</td>\n",
       "      <td>3379 days</td>\n",
       "      <td>2009-03-20</td>\n",
       "    </tr>\n",
       "    <tr>\n",
       "      <th>348</th>\n",
       "      <td>1990-02-27</td>\n",
       "      <td>1999-01-04</td>\n",
       "      <td>3233 days</td>\n",
       "      <td>2007-11-11</td>\n",
       "    </tr>\n",
       "    <tr>\n",
       "      <th>392</th>\n",
       "      <td>1990-12-24</td>\n",
       "      <td>1999-12-04</td>\n",
       "      <td>3267 days</td>\n",
       "      <td>2008-11-13</td>\n",
       "    </tr>\n",
       "    <tr>\n",
       "      <th>590</th>\n",
       "      <td>1990-03-25</td>\n",
       "      <td>1998-12-20</td>\n",
       "      <td>3192 days</td>\n",
       "      <td>2007-09-16</td>\n",
       "    </tr>\n",
       "    <tr>\n",
       "      <th>634</th>\n",
       "      <td>1991-04-04</td>\n",
       "      <td>1999-07-21</td>\n",
       "      <td>3030 days</td>\n",
       "      <td>2007-11-06</td>\n",
       "    </tr>\n",
       "    <tr>\n",
       "      <th>674</th>\n",
       "      <td>1990-03-16</td>\n",
       "      <td>1998-12-28</td>\n",
       "      <td>3209 days</td>\n",
       "      <td>2007-10-11</td>\n",
       "    </tr>\n",
       "    <tr>\n",
       "      <th>760</th>\n",
       "      <td>1990-09-16</td>\n",
       "      <td>1998-12-06</td>\n",
       "      <td>3003 days</td>\n",
       "      <td>2007-02-25</td>\n",
       "    </tr>\n",
       "    <tr>\n",
       "      <th>764</th>\n",
       "      <td>1990-09-19</td>\n",
       "      <td>1999-09-16</td>\n",
       "      <td>3284 days</td>\n",
       "      <td>2008-09-12</td>\n",
       "    </tr>\n",
       "    <tr>\n",
       "      <th>786</th>\n",
       "      <td>1990-10-26</td>\n",
       "      <td>1999-05-10</td>\n",
       "      <td>3118 days</td>\n",
       "      <td>2007-11-22</td>\n",
       "    </tr>\n",
       "    <tr>\n",
       "      <th>884</th>\n",
       "      <td>1990-01-20</td>\n",
       "      <td>1999-11-12</td>\n",
       "      <td>3583 days</td>\n",
       "      <td>2009-09-03</td>\n",
       "    </tr>\n",
       "    <tr>\n",
       "      <th>902</th>\n",
       "      <td>1991-07-03</td>\n",
       "      <td>1999-11-10</td>\n",
       "      <td>3052 days</td>\n",
       "      <td>2008-03-19</td>\n",
       "    </tr>\n",
       "    <tr>\n",
       "      <th>904</th>\n",
       "      <td>1990-02-13</td>\n",
       "      <td>1999-11-15</td>\n",
       "      <td>3562 days</td>\n",
       "      <td>2009-08-16</td>\n",
       "    </tr>\n",
       "    <tr>\n",
       "      <th>943</th>\n",
       "      <td>1991-01-30</td>\n",
       "      <td>1999-12-02</td>\n",
       "      <td>3228 days</td>\n",
       "      <td>2008-10-03</td>\n",
       "    </tr>\n",
       "  </tbody>\n",
       "</table>\n",
       "</div>"
      ],
      "text/plain": [
       "    order_date delivery_date Delivery Time 2wice Long\n",
       "ID                                                   \n",
       "32  1990-01-20    1998-07-24     3107 days 2007-01-25\n",
       "130 1990-04-02    1999-08-16     3423 days 2008-12-29\n",
       "151 1991-01-29    1999-08-05     3110 days 2008-02-09\n",
       "229 1990-04-13    1998-11-17     3140 days 2007-06-23\n",
       "314 1990-03-07    1999-12-25     3580 days 2009-10-13\n",
       "331 1990-09-18    1999-12-19     3379 days 2009-03-20\n",
       "348 1990-02-27    1999-01-04     3233 days 2007-11-11\n",
       "392 1990-12-24    1999-12-04     3267 days 2008-11-13\n",
       "590 1990-03-25    1998-12-20     3192 days 2007-09-16\n",
       "634 1991-04-04    1999-07-21     3030 days 2007-11-06\n",
       "674 1990-03-16    1998-12-28     3209 days 2007-10-11\n",
       "760 1990-09-16    1998-12-06     3003 days 2007-02-25\n",
       "764 1990-09-19    1999-09-16     3284 days 2008-09-12\n",
       "786 1990-10-26    1999-05-10     3118 days 2007-11-22\n",
       "884 1990-01-20    1999-11-12     3583 days 2009-09-03\n",
       "902 1991-07-03    1999-11-10     3052 days 2008-03-19\n",
       "904 1990-02-13    1999-11-15     3562 days 2009-08-16\n",
       "943 1991-01-30    1999-12-02     3228 days 2008-10-03"
      ]
     },
     "execution_count": 80,
     "metadata": {},
     "output_type": "execute_result"
    }
   ],
   "source": [
    "mask = shipping[\"Delivery Time\"] > \"3000 days\"\n",
    "shipping[mask]"
   ]
  },
  {
   "cell_type": "code",
   "execution_count": 81,
   "metadata": {},
   "outputs": [
    {
     "data": {
      "text/plain": [
       "Timedelta('3583 days 00:00:00')"
      ]
     },
     "execution_count": 81,
     "metadata": {},
     "output_type": "execute_result"
    }
   ],
   "source": [
    "shipping[\"Delivery Time\"].max()"
   ]
  },
  {
   "cell_type": "code",
   "execution_count": 82,
   "metadata": {},
   "outputs": [
    {
     "data": {
      "text/plain": [
       "Timedelta('8 days 00:00:00')"
      ]
     },
     "execution_count": 82,
     "metadata": {},
     "output_type": "execute_result"
    }
   ],
   "source": [
    "shipping[\"Delivery Time\"].min()"
   ]
  },
  {
   "cell_type": "code",
   "execution_count": null,
   "metadata": {},
   "outputs": [],
   "source": []
  },
  {
   "cell_type": "code",
   "execution_count": null,
   "metadata": {},
   "outputs": [],
   "source": []
  },
  {
   "cell_type": "code",
   "execution_count": null,
   "metadata": {},
   "outputs": [],
   "source": []
  },
  {
   "cell_type": "code",
   "execution_count": null,
   "metadata": {},
   "outputs": [],
   "source": []
  },
  {
   "cell_type": "code",
   "execution_count": null,
   "metadata": {},
   "outputs": [],
   "source": []
  },
  {
   "cell_type": "code",
   "execution_count": null,
   "metadata": {},
   "outputs": [],
   "source": []
  },
  {
   "cell_type": "code",
   "execution_count": null,
   "metadata": {},
   "outputs": [],
   "source": []
  },
  {
   "cell_type": "code",
   "execution_count": null,
   "metadata": {},
   "outputs": [],
   "source": []
  },
  {
   "cell_type": "code",
   "execution_count": null,
   "metadata": {},
   "outputs": [],
   "source": []
  },
  {
   "cell_type": "code",
   "execution_count": null,
   "metadata": {},
   "outputs": [],
   "source": []
  },
  {
   "cell_type": "code",
   "execution_count": null,
   "metadata": {},
   "outputs": [],
   "source": []
  },
  {
   "cell_type": "code",
   "execution_count": null,
   "metadata": {},
   "outputs": [],
   "source": []
  },
  {
   "cell_type": "code",
   "execution_count": null,
   "metadata": {},
   "outputs": [],
   "source": []
  },
  {
   "cell_type": "code",
   "execution_count": null,
   "metadata": {},
   "outputs": [],
   "source": []
  },
  {
   "cell_type": "code",
   "execution_count": null,
   "metadata": {},
   "outputs": [],
   "source": []
  },
  {
   "cell_type": "code",
   "execution_count": null,
   "metadata": {},
   "outputs": [],
   "source": []
  },
  {
   "cell_type": "code",
   "execution_count": null,
   "metadata": {},
   "outputs": [],
   "source": []
  },
  {
   "cell_type": "code",
   "execution_count": null,
   "metadata": {},
   "outputs": [],
   "source": []
  },
  {
   "cell_type": "code",
   "execution_count": null,
   "metadata": {},
   "outputs": [],
   "source": []
  },
  {
   "cell_type": "code",
   "execution_count": null,
   "metadata": {},
   "outputs": [],
   "source": []
  },
  {
   "cell_type": "code",
   "execution_count": null,
   "metadata": {},
   "outputs": [],
   "source": []
  },
  {
   "cell_type": "code",
   "execution_count": null,
   "metadata": {},
   "outputs": [],
   "source": []
  }
 ],
 "metadata": {
  "kernelspec": {
   "display_name": "Python 3",
   "language": "python",
   "name": "python3"
  },
  "language_info": {
   "codemirror_mode": {
    "name": "ipython",
    "version": 3
   },
   "file_extension": ".py",
   "mimetype": "text/x-python",
   "name": "python",
   "nbconvert_exporter": "python",
   "pygments_lexer": "ipython3",
   "version": "3.6.8"
  }
 },
 "nbformat": 4,
 "nbformat_minor": 2
}
