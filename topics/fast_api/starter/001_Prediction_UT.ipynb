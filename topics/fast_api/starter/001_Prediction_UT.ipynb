{
 "cells": [
  {
   "cell_type": "code",
   "execution_count": 1,
   "metadata": {
    "execution": {
     "iopub.execute_input": "2020-10-06T12:49:13.616737Z",
     "iopub.status.busy": "2020-10-06T12:49:13.616531Z",
     "iopub.status.idle": "2020-10-06T12:49:16.146638Z",
     "shell.execute_reply": "2020-10-06T12:49:16.145863Z",
     "shell.execute_reply.started": "2020-10-06T12:49:13.616715Z"
    }
   },
   "outputs": [],
   "source": [
    "from fastapi import FastAPI\n",
    "from fastapi import UploadFile, File\n",
    "from prediction import read_image, preprocess, predict"
   ]
  },
  {
   "cell_type": "code",
   "execution_count": 2,
   "metadata": {
    "execution": {
     "iopub.execute_input": "2020-10-06T12:49:16.148121Z",
     "iopub.status.busy": "2020-10-06T12:49:16.147929Z",
     "iopub.status.idle": "2020-10-06T12:49:16.161820Z",
     "shell.execute_reply": "2020-10-06T12:49:16.161109Z",
     "shell.execute_reply.started": "2020-10-06T12:49:16.148100Z"
    }
   },
   "outputs": [
    {
     "name": "stdout",
     "output_type": "stream",
     "text": [
      "Reading the image\n"
     ]
    }
   ],
   "source": [
    "image = None\n",
    "with open('/Users/shankar/Downloads/AbhyasiId.jpeg', 'rb') as f:\n",
    "    image = f.read()\n",
    "    image = read_image(image)"
   ]
  },
  {
   "cell_type": "code",
   "execution_count": 3,
   "metadata": {
    "execution": {
     "iopub.execute_input": "2020-10-06T12:49:16.163832Z",
     "iopub.status.busy": "2020-10-06T12:49:16.163612Z",
     "iopub.status.idle": "2020-10-06T12:49:19.157440Z",
     "shell.execute_reply": "2020-10-06T12:49:19.156710Z",
     "shell.execute_reply.started": "2020-10-06T12:49:16.163806Z"
    }
   },
   "outputs": [
    {
     "name": "stdout",
     "output_type": "stream",
     "text": [
      "Model Loaded\n",
      "Preprocessing the Image\n",
      "{0: {'class': 'cassette', 'confidence': '42.68'}, 1: {'class': 'rubber_eraser', 'confidence': '9.17'}}\n"
     ]
    }
   ],
   "source": [
    "results = predict(image)"
   ]
  },
  {
   "cell_type": "code",
   "execution_count": 4,
   "metadata": {
    "execution": {
     "iopub.execute_input": "2020-10-06T12:49:23.575083Z",
     "iopub.status.busy": "2020-10-06T12:49:23.574820Z",
     "iopub.status.idle": "2020-10-06T12:49:23.584099Z",
     "shell.execute_reply": "2020-10-06T12:49:23.583419Z",
     "shell.execute_reply.started": "2020-10-06T12:49:23.575055Z"
    }
   },
   "outputs": [
    {
     "data": {
      "text/plain": [
       "{0: {'class': 'cassette', 'confidence': '42.68'},\n",
       " 1: {'class': 'rubber_eraser', 'confidence': '9.17'}}"
      ]
     },
     "execution_count": 4,
     "metadata": {},
     "output_type": "execute_result"
    }
   ],
   "source": [
    "results"
   ]
  },
  {
   "cell_type": "code",
   "execution_count": null,
   "metadata": {},
   "outputs": [],
   "source": []
  }
 ],
 "metadata": {
  "kernelspec": {
   "display_name": "Python 3",
   "language": "python",
   "name": "python3"
  },
  "language_info": {
   "codemirror_mode": {
    "name": "ipython",
    "version": 3
   },
   "file_extension": ".py",
   "mimetype": "text/x-python",
   "name": "python",
   "nbconvert_exporter": "python",
   "pygments_lexer": "ipython3",
   "version": "3.8.3"
  }
 },
 "nbformat": 4,
 "nbformat_minor": 4
}
