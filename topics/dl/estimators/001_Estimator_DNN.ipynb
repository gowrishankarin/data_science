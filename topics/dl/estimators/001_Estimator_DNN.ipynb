{
 "cells": [
  {
   "cell_type": "markdown",
   "metadata": {},
   "source": [
    "# Estimators: High Level Representation of a Complete Model"
   ]
  },
  {
   "cell_type": "code",
   "execution_count": 1,
   "metadata": {},
   "outputs": [],
   "source": [
    "from __future__ import absolute_import, division, print_function, unicode_literals\n",
    "\n",
    "import tensorflow as tf\n",
    "import pandas as pd"
   ]
  },
  {
   "cell_type": "markdown",
   "metadata": {},
   "source": [
    "## Iris Data"
   ]
  },
  {
   "cell_type": "code",
   "execution_count": 2,
   "metadata": {},
   "outputs": [],
   "source": [
    "CSV_COLUMN_NAMES = ['SepalLength', 'SepalWidth', 'PetalLength', 'PetalWidth', 'Species']\n",
    "SPECIES = ['Setosa', 'Versicolor', 'Virginica']"
   ]
  },
  {
   "cell_type": "code",
   "execution_count": 3,
   "metadata": {},
   "outputs": [
    {
     "name": "stdout",
     "output_type": "stream",
     "text": [
      "Downloading data from https://storage.googleapis.com/download.tensorflow.org/data/iris_training.csv\n",
      "8192/2194 [================================================================================================================] - 0s 0us/step\n",
      "Downloading data from https://storage.googleapis.com/download.tensorflow.org/data/iris_test.csv\n",
      "8192/573 [============================================================================================================================================================================================================================================================================================================================================================================================================================================] - 0s 0us/step\n"
     ]
    }
   ],
   "source": [
    "train_path = tf.keras.utils.get_file(\n",
    "    'iris_training.csv', \"https://storage.googleapis.com/download.tensorflow.org/data/iris_training.csv\"\n",
    ")\n",
    "test_path = tf.keras.utils.get_file(\n",
    "    \"iris_test.csv\", \"https://storage.googleapis.com/download.tensorflow.org/data/iris_test.csv\"\n",
    ")\n",
    "\n",
    "train = pd.read_csv(train_path, names=CSV_COLUMN_NAMES, header=0)\n",
    "test = pd.read_csv(test_path, names=CSV_COLUMN_NAMES, header=0)"
   ]
  },
  {
   "cell_type": "code",
   "execution_count": 4,
   "metadata": {},
   "outputs": [
    {
     "data": {
      "text/html": [
       "<div>\n",
       "<style scoped>\n",
       "    .dataframe tbody tr th:only-of-type {\n",
       "        vertical-align: middle;\n",
       "    }\n",
       "\n",
       "    .dataframe tbody tr th {\n",
       "        vertical-align: top;\n",
       "    }\n",
       "\n",
       "    .dataframe thead th {\n",
       "        text-align: right;\n",
       "    }\n",
       "</style>\n",
       "<table border=\"1\" class=\"dataframe\">\n",
       "  <thead>\n",
       "    <tr style=\"text-align: right;\">\n",
       "      <th></th>\n",
       "      <th>SepalLength</th>\n",
       "      <th>SepalWidth</th>\n",
       "      <th>PetalLength</th>\n",
       "      <th>PetalWidth</th>\n",
       "      <th>Species</th>\n",
       "    </tr>\n",
       "  </thead>\n",
       "  <tbody>\n",
       "    <tr>\n",
       "      <th>0</th>\n",
       "      <td>6.4</td>\n",
       "      <td>2.8</td>\n",
       "      <td>5.6</td>\n",
       "      <td>2.2</td>\n",
       "      <td>2</td>\n",
       "    </tr>\n",
       "    <tr>\n",
       "      <th>1</th>\n",
       "      <td>5.0</td>\n",
       "      <td>2.3</td>\n",
       "      <td>3.3</td>\n",
       "      <td>1.0</td>\n",
       "      <td>1</td>\n",
       "    </tr>\n",
       "    <tr>\n",
       "      <th>2</th>\n",
       "      <td>4.9</td>\n",
       "      <td>2.5</td>\n",
       "      <td>4.5</td>\n",
       "      <td>1.7</td>\n",
       "      <td>2</td>\n",
       "    </tr>\n",
       "    <tr>\n",
       "      <th>3</th>\n",
       "      <td>4.9</td>\n",
       "      <td>3.1</td>\n",
       "      <td>1.5</td>\n",
       "      <td>0.1</td>\n",
       "      <td>0</td>\n",
       "    </tr>\n",
       "    <tr>\n",
       "      <th>4</th>\n",
       "      <td>5.7</td>\n",
       "      <td>3.8</td>\n",
       "      <td>1.7</td>\n",
       "      <td>0.3</td>\n",
       "      <td>0</td>\n",
       "    </tr>\n",
       "  </tbody>\n",
       "</table>\n",
       "</div>"
      ],
      "text/plain": [
       "   SepalLength  SepalWidth  PetalLength  PetalWidth  Species\n",
       "0          6.4         2.8          5.6         2.2        2\n",
       "1          5.0         2.3          3.3         1.0        1\n",
       "2          4.9         2.5          4.5         1.7        2\n",
       "3          4.9         3.1          1.5         0.1        0\n",
       "4          5.7         3.8          1.7         0.3        0"
      ]
     },
     "execution_count": 4,
     "metadata": {},
     "output_type": "execute_result"
    }
   ],
   "source": [
    "train.head()"
   ]
  },
  {
   "cell_type": "code",
   "execution_count": 5,
   "metadata": {},
   "outputs": [],
   "source": [
    "train_y = train.pop('Species')\n",
    "test_y = test.pop('Species')"
   ]
  },
  {
   "cell_type": "code",
   "execution_count": 7,
   "metadata": {},
   "outputs": [
    {
     "data": {
      "text/html": [
       "<div>\n",
       "<style scoped>\n",
       "    .dataframe tbody tr th:only-of-type {\n",
       "        vertical-align: middle;\n",
       "    }\n",
       "\n",
       "    .dataframe tbody tr th {\n",
       "        vertical-align: top;\n",
       "    }\n",
       "\n",
       "    .dataframe thead th {\n",
       "        text-align: right;\n",
       "    }\n",
       "</style>\n",
       "<table border=\"1\" class=\"dataframe\">\n",
       "  <thead>\n",
       "    <tr style=\"text-align: right;\">\n",
       "      <th></th>\n",
       "      <th>SepalLength</th>\n",
       "      <th>SepalWidth</th>\n",
       "      <th>PetalLength</th>\n",
       "      <th>PetalWidth</th>\n",
       "    </tr>\n",
       "  </thead>\n",
       "  <tbody>\n",
       "    <tr>\n",
       "      <th>0</th>\n",
       "      <td>6.4</td>\n",
       "      <td>2.8</td>\n",
       "      <td>5.6</td>\n",
       "      <td>2.2</td>\n",
       "    </tr>\n",
       "    <tr>\n",
       "      <th>1</th>\n",
       "      <td>5.0</td>\n",
       "      <td>2.3</td>\n",
       "      <td>3.3</td>\n",
       "      <td>1.0</td>\n",
       "    </tr>\n",
       "    <tr>\n",
       "      <th>2</th>\n",
       "      <td>4.9</td>\n",
       "      <td>2.5</td>\n",
       "      <td>4.5</td>\n",
       "      <td>1.7</td>\n",
       "    </tr>\n",
       "    <tr>\n",
       "      <th>3</th>\n",
       "      <td>4.9</td>\n",
       "      <td>3.1</td>\n",
       "      <td>1.5</td>\n",
       "      <td>0.1</td>\n",
       "    </tr>\n",
       "    <tr>\n",
       "      <th>4</th>\n",
       "      <td>5.7</td>\n",
       "      <td>3.8</td>\n",
       "      <td>1.7</td>\n",
       "      <td>0.3</td>\n",
       "    </tr>\n",
       "  </tbody>\n",
       "</table>\n",
       "</div>"
      ],
      "text/plain": [
       "   SepalLength  SepalWidth  PetalLength  PetalWidth\n",
       "0          6.4         2.8          5.6         2.2\n",
       "1          5.0         2.3          3.3         1.0\n",
       "2          4.9         2.5          4.5         1.7\n",
       "3          4.9         3.1          1.5         0.1\n",
       "4          5.7         3.8          1.7         0.3"
      ]
     },
     "execution_count": 7,
     "metadata": {},
     "output_type": "execute_result"
    }
   ],
   "source": [
    "train.head()"
   ]
  },
  {
   "cell_type": "code",
   "execution_count": 8,
   "metadata": {},
   "outputs": [],
   "source": [
    "def input_evaluation_set():\n",
    "    features = {\n",
    "        'SepalLength': np.array([6.4, 5.0]),\n",
    "        'SepalWidth':  np.array([2.8, 2.3]),\n",
    "        'PetalLength': np.array([5.6, 3.3]),\n",
    "        'PetalWidth':  np.array([2.2, 1.0])\n",
    "    }\n",
    "    labels = np.array([2, 1])\n",
    "    return features, labels"
   ]
  },
  {
   "cell_type": "code",
   "execution_count": 9,
   "metadata": {},
   "outputs": [],
   "source": [
    "def input_fn(features, labels, training=True, batch_size=256):\n",
    "    dataset = tf.data.Dataset.from_tensor_slices((dict(features), labels))\n",
    "    \n",
    "    if(training):\n",
    "        dataset = dataset.shuffle(1000).repeat()\n",
    "        \n",
    "    return dataset.batch(batch_size)"
   ]
  },
  {
   "cell_type": "markdown",
   "metadata": {},
   "source": [
    "## Feature Columns\n",
    "- An FC is and object describing how model should use raw input data\n",
    "- It is created from feature dictionary\n",
    "- Pass it as list of FCs that describeds each features\n",
    "- tf.feature_column provides many options for representations."
   ]
  },
  {
   "cell_type": "code",
   "execution_count": 11,
   "metadata": {},
   "outputs": [],
   "source": [
    "my_feature_column = []\n",
    "for key in train.keys():\n",
    "    my_feature_column.append(tf.feature_column.numeric_column(key=key))"
   ]
  },
  {
   "cell_type": "code",
   "execution_count": 12,
   "metadata": {},
   "outputs": [
    {
     "data": {
      "text/plain": [
       "Index(['SepalLength', 'SepalWidth', 'PetalLength', 'PetalWidth'], dtype='object')"
      ]
     },
     "execution_count": 12,
     "metadata": {},
     "output_type": "execute_result"
    }
   ],
   "source": [
    "train.keys()"
   ]
  },
  {
   "cell_type": "markdown",
   "metadata": {},
   "source": [
    "## Estimator\n",
    "- DNNClassifier for deep models that perform multi-class classification\n",
    "- DNNLinearCombinedClassifier for wide and deep models\n",
    "- Linear Classifiers for classifier based on linear models"
   ]
  },
  {
   "cell_type": "code",
   "execution_count": 14,
   "metadata": {},
   "outputs": [
    {
     "name": "stdout",
     "output_type": "stream",
     "text": [
      "INFO:tensorflow:Using default config.\n",
      "WARNING:tensorflow:Using temporary folder as model directory: /var/folders/wh/h43cl57j4ljf1x5_4p1bqmx80000gn/T/tmppkf2byzw\n",
      "INFO:tensorflow:Using config: {'_model_dir': '/var/folders/wh/h43cl57j4ljf1x5_4p1bqmx80000gn/T/tmppkf2byzw', '_tf_random_seed': None, '_save_summary_steps': 100, '_save_checkpoints_steps': None, '_save_checkpoints_secs': 600, '_session_config': allow_soft_placement: true\n",
      "graph_options {\n",
      "  rewrite_options {\n",
      "    meta_optimizer_iterations: ONE\n",
      "  }\n",
      "}\n",
      ", '_keep_checkpoint_max': 5, '_keep_checkpoint_every_n_hours': 10000, '_log_step_count_steps': 100, '_train_distribute': None, '_device_fn': None, '_protocol': None, '_eval_distribute': None, '_experimental_distribute': None, '_experimental_max_worker_delay_secs': None, '_session_creation_timeout_secs': 7200, '_service': None, '_cluster_spec': ClusterSpec({}), '_task_type': 'worker', '_task_id': 0, '_global_id_in_cluster': 0, '_master': '', '_evaluation_master': '', '_is_chief': True, '_num_ps_replicas': 0, '_num_worker_replicas': 1}\n"
     ]
    }
   ],
   "source": [
    "classifier = tf.estimator.DNNClassifier(\n",
    "    feature_columns=my_feature_column,\n",
    "    hidden_units=[30, 10],\n",
    "    n_classes=3\n",
    ")"
   ]
  },
  {
   "cell_type": "code",
   "execution_count": 15,
   "metadata": {},
   "outputs": [
    {
     "name": "stdout",
     "output_type": "stream",
     "text": [
      "WARNING:tensorflow:From /Users/shankar/dev/tools/anaconda3/envs/kaggle/lib/python3.7/site-packages/tensorflow_core/python/ops/resource_variable_ops.py:1635: calling BaseResourceVariable.__init__ (from tensorflow.python.ops.resource_variable_ops) with constraint is deprecated and will be removed in a future version.\n",
      "Instructions for updating:\n",
      "If using Keras pass *_constraint arguments to layers.\n",
      "WARNING:tensorflow:From /Users/shankar/dev/tools/anaconda3/envs/kaggle/lib/python3.7/site-packages/tensorflow_core/python/training/training_util.py:236: Variable.initialized_value (from tensorflow.python.ops.variables) is deprecated and will be removed in a future version.\n",
      "Instructions for updating:\n",
      "Use Variable.read_value. Variables in 2.X are initialized automatically both in eager and graph (inside tf.defun) contexts.\n",
      "INFO:tensorflow:Calling model_fn.\n",
      "WARNING:tensorflow:Layer dnn is casting an input tensor from dtype float64 to the layer's dtype of float32, which is new behavior in TensorFlow 2.  The layer has dtype float32 because it's dtype defaults to floatx.\n",
      "\n",
      "If you intended to run this layer in float32, you can safely ignore this warning. If in doubt, this warning is likely only an issue if you are porting a TensorFlow 1.X model to TensorFlow 2.\n",
      "\n",
      "To change all layers to have dtype float64 by default, call `tf.keras.backend.set_floatx('float64')`. To change just this layer, pass dtype='float64' to the layer constructor. If you are the author of this layer, you can disable autocasting by passing autocast=False to the base Layer constructor.\n",
      "\n",
      "WARNING:tensorflow:From /Users/shankar/dev/tools/anaconda3/envs/kaggle/lib/python3.7/site-packages/tensorflow_core/python/keras/optimizer_v2/adagrad.py:103: calling Constant.__init__ (from tensorflow.python.ops.init_ops) with dtype is deprecated and will be removed in a future version.\n",
      "Instructions for updating:\n",
      "Call initializer instance with the dtype argument instead of passing it to the constructor\n",
      "INFO:tensorflow:Done calling model_fn.\n",
      "INFO:tensorflow:Create CheckpointSaverHook.\n",
      "INFO:tensorflow:Graph was finalized.\n",
      "INFO:tensorflow:Running local_init_op.\n",
      "INFO:tensorflow:Done running local_init_op.\n",
      "INFO:tensorflow:Saving checkpoints for 0 into /var/folders/wh/h43cl57j4ljf1x5_4p1bqmx80000gn/T/tmppkf2byzw/model.ckpt.\n",
      "INFO:tensorflow:loss = 1.3251462, step = 0\n",
      "INFO:tensorflow:global_step/sec: 393.382\n",
      "INFO:tensorflow:loss = 1.0648892, step = 100 (0.257 sec)\n",
      "INFO:tensorflow:global_step/sec: 524.775\n",
      "INFO:tensorflow:loss = 1.0138706, step = 200 (0.188 sec)\n",
      "INFO:tensorflow:global_step/sec: 565.703\n",
      "INFO:tensorflow:loss = 0.98716295, step = 300 (0.177 sec)\n",
      "INFO:tensorflow:global_step/sec: 557.532\n",
      "INFO:tensorflow:loss = 0.9651073, step = 400 (0.179 sec)\n",
      "INFO:tensorflow:global_step/sec: 558.843\n",
      "INFO:tensorflow:loss = 0.94667405, step = 500 (0.179 sec)\n",
      "INFO:tensorflow:global_step/sec: 568.715\n",
      "INFO:tensorflow:loss = 0.9347973, step = 600 (0.176 sec)\n",
      "INFO:tensorflow:global_step/sec: 549.644\n",
      "INFO:tensorflow:loss = 0.9238044, step = 700 (0.182 sec)\n",
      "INFO:tensorflow:global_step/sec: 534.431\n",
      "INFO:tensorflow:loss = 0.91176975, step = 800 (0.187 sec)\n",
      "INFO:tensorflow:global_step/sec: 549.258\n",
      "INFO:tensorflow:loss = 0.8869531, step = 900 (0.182 sec)\n",
      "INFO:tensorflow:global_step/sec: 543.607\n",
      "INFO:tensorflow:loss = 0.8191488, step = 1000 (0.184 sec)\n",
      "INFO:tensorflow:global_step/sec: 537.861\n",
      "INFO:tensorflow:loss = 0.768793, step = 1100 (0.186 sec)\n",
      "INFO:tensorflow:global_step/sec: 560.209\n",
      "INFO:tensorflow:loss = 0.74323976, step = 1200 (0.179 sec)\n",
      "INFO:tensorflow:global_step/sec: 553.522\n",
      "INFO:tensorflow:loss = 0.7030935, step = 1300 (0.181 sec)\n",
      "INFO:tensorflow:global_step/sec: 566.14\n",
      "INFO:tensorflow:loss = 0.6962553, step = 1400 (0.177 sec)\n",
      "INFO:tensorflow:global_step/sec: 573.22\n",
      "INFO:tensorflow:loss = 0.6612256, step = 1500 (0.174 sec)\n",
      "INFO:tensorflow:global_step/sec: 550.403\n",
      "INFO:tensorflow:loss = 0.6505625, step = 1600 (0.182 sec)\n",
      "INFO:tensorflow:global_step/sec: 566.428\n",
      "INFO:tensorflow:loss = 0.6171808, step = 1700 (0.177 sec)\n",
      "INFO:tensorflow:global_step/sec: 562.876\n",
      "INFO:tensorflow:loss = 0.6080544, step = 1800 (0.178 sec)\n",
      "INFO:tensorflow:global_step/sec: 560.651\n",
      "INFO:tensorflow:loss = 0.5966661, step = 1900 (0.178 sec)\n",
      "INFO:tensorflow:global_step/sec: 571.229\n",
      "INFO:tensorflow:loss = 0.576622, step = 2000 (0.175 sec)\n",
      "INFO:tensorflow:global_step/sec: 564.684\n",
      "INFO:tensorflow:loss = 0.5673061, step = 2100 (0.177 sec)\n",
      "INFO:tensorflow:global_step/sec: 552.823\n",
      "INFO:tensorflow:loss = 0.5643915, step = 2200 (0.181 sec)\n",
      "INFO:tensorflow:global_step/sec: 570.917\n",
      "INFO:tensorflow:loss = 0.5363425, step = 2300 (0.175 sec)\n",
      "INFO:tensorflow:global_step/sec: 544.383\n",
      "INFO:tensorflow:loss = 0.5311449, step = 2400 (0.184 sec)\n",
      "INFO:tensorflow:global_step/sec: 557.308\n",
      "INFO:tensorflow:loss = 0.5101173, step = 2500 (0.179 sec)\n",
      "INFO:tensorflow:global_step/sec: 563.234\n",
      "INFO:tensorflow:loss = 0.5098832, step = 2600 (0.178 sec)\n",
      "INFO:tensorflow:global_step/sec: 526.976\n",
      "INFO:tensorflow:loss = 0.49581435, step = 2700 (0.190 sec)\n",
      "INFO:tensorflow:global_step/sec: 558.304\n",
      "INFO:tensorflow:loss = 0.48511547, step = 2800 (0.179 sec)\n",
      "INFO:tensorflow:global_step/sec: 547.265\n",
      "INFO:tensorflow:loss = 0.48631382, step = 2900 (0.183 sec)\n",
      "INFO:tensorflow:global_step/sec: 538.636\n",
      "INFO:tensorflow:loss = 0.47788376, step = 3000 (0.186 sec)\n",
      "INFO:tensorflow:global_step/sec: 573.451\n",
      "INFO:tensorflow:loss = 0.4633187, step = 3100 (0.174 sec)\n",
      "INFO:tensorflow:global_step/sec: 557.523\n",
      "INFO:tensorflow:loss = 0.45603257, step = 3200 (0.180 sec)\n",
      "INFO:tensorflow:global_step/sec: 537.538\n",
      "INFO:tensorflow:loss = 0.45598, step = 3300 (0.186 sec)\n",
      "INFO:tensorflow:global_step/sec: 562.712\n",
      "INFO:tensorflow:loss = 0.43916258, step = 3400 (0.178 sec)\n",
      "INFO:tensorflow:global_step/sec: 552.031\n",
      "INFO:tensorflow:loss = 0.44078553, step = 3500 (0.181 sec)\n",
      "INFO:tensorflow:global_step/sec: 554.622\n",
      "INFO:tensorflow:loss = 0.4354059, step = 3600 (0.180 sec)\n",
      "INFO:tensorflow:global_step/sec: 580.912\n",
      "INFO:tensorflow:loss = 0.43608725, step = 3700 (0.172 sec)\n",
      "INFO:tensorflow:global_step/sec: 558.257\n",
      "INFO:tensorflow:loss = 0.42850927, step = 3800 (0.179 sec)\n",
      "INFO:tensorflow:global_step/sec: 553.284\n",
      "INFO:tensorflow:loss = 0.41462237, step = 3900 (0.181 sec)\n",
      "INFO:tensorflow:global_step/sec: 566.104\n",
      "INFO:tensorflow:loss = 0.41125548, step = 4000 (0.177 sec)\n",
      "INFO:tensorflow:global_step/sec: 548.628\n",
      "INFO:tensorflow:loss = 0.40783423, step = 4100 (0.182 sec)\n",
      "INFO:tensorflow:global_step/sec: 568.35\n",
      "INFO:tensorflow:loss = 0.39972645, step = 4200 (0.176 sec)\n",
      "INFO:tensorflow:global_step/sec: 567.514\n",
      "INFO:tensorflow:loss = 0.40212154, step = 4300 (0.176 sec)\n",
      "INFO:tensorflow:global_step/sec: 561.732\n",
      "INFO:tensorflow:loss = 0.39975518, step = 4400 (0.178 sec)\n",
      "INFO:tensorflow:global_step/sec: 573.966\n",
      "INFO:tensorflow:loss = 0.39107555, step = 4500 (0.174 sec)\n",
      "INFO:tensorflow:global_step/sec: 557.918\n",
      "INFO:tensorflow:loss = 0.3805058, step = 4600 (0.179 sec)\n",
      "INFO:tensorflow:global_step/sec: 560.001\n",
      "INFO:tensorflow:loss = 0.37342492, step = 4700 (0.178 sec)\n",
      "INFO:tensorflow:global_step/sec: 560.466\n",
      "INFO:tensorflow:loss = 0.37595838, step = 4800 (0.178 sec)\n",
      "INFO:tensorflow:global_step/sec: 530.579\n",
      "INFO:tensorflow:loss = 0.37260377, step = 4900 (0.189 sec)\n",
      "INFO:tensorflow:Saving checkpoints for 5000 into /var/folders/wh/h43cl57j4ljf1x5_4p1bqmx80000gn/T/tmppkf2byzw/model.ckpt.\n",
      "INFO:tensorflow:Loss for final step: 0.36412647.\n"
     ]
    },
    {
     "data": {
      "text/plain": [
       "<tensorflow_estimator.python.estimator.canned.dnn.DNNClassifierV2 at 0x143c2fb10>"
      ]
     },
     "execution_count": 15,
     "metadata": {},
     "output_type": "execute_result"
    }
   ],
   "source": [
    "classifier.train(\n",
    "    input_fn=lambda: input_fn(train, train_y, training=True),\n",
    "    steps=5000\n",
    ")"
   ]
  },
  {
   "cell_type": "code",
   "execution_count": 16,
   "metadata": {},
   "outputs": [
    {
     "name": "stdout",
     "output_type": "stream",
     "text": [
      "INFO:tensorflow:Calling model_fn.\n",
      "WARNING:tensorflow:Layer dnn is casting an input tensor from dtype float64 to the layer's dtype of float32, which is new behavior in TensorFlow 2.  The layer has dtype float32 because it's dtype defaults to floatx.\n",
      "\n",
      "If you intended to run this layer in float32, you can safely ignore this warning. If in doubt, this warning is likely only an issue if you are porting a TensorFlow 1.X model to TensorFlow 2.\n",
      "\n",
      "To change all layers to have dtype float64 by default, call `tf.keras.backend.set_floatx('float64')`. To change just this layer, pass dtype='float64' to the layer constructor. If you are the author of this layer, you can disable autocasting by passing autocast=False to the base Layer constructor.\n",
      "\n",
      "INFO:tensorflow:Done calling model_fn.\n",
      "INFO:tensorflow:Starting evaluation at 2020-03-26T22:52:56Z\n",
      "INFO:tensorflow:Graph was finalized.\n",
      "INFO:tensorflow:Restoring parameters from /var/folders/wh/h43cl57j4ljf1x5_4p1bqmx80000gn/T/tmppkf2byzw/model.ckpt-5000\n",
      "INFO:tensorflow:Running local_init_op.\n",
      "INFO:tensorflow:Done running local_init_op.\n",
      "INFO:tensorflow:Inference Time : 0.36625s\n",
      "INFO:tensorflow:Finished evaluation at 2020-03-26-22:52:56\n",
      "INFO:tensorflow:Saving dict for global step 5000: accuracy = 0.96666664, average_loss = 0.42942232, global_step = 5000, loss = 0.42942232\n",
      "INFO:tensorflow:Saving 'checkpoint_path' summary for global step 5000: /var/folders/wh/h43cl57j4ljf1x5_4p1bqmx80000gn/T/tmppkf2byzw/model.ckpt-5000\n",
      "\n",
      "Test set accuracy: 0.967\n",
      "\n"
     ]
    }
   ],
   "source": [
    "eval_result = classifier.evaluate(\n",
    "    input_fn=lambda: input_fn(test, test_y, training=False)\n",
    ")\n",
    "print('\\nTest set accuracy: {accuracy:0.3f}\\n'.format(**eval_result))\n"
   ]
  },
  {
   "cell_type": "code",
   "execution_count": 19,
   "metadata": {},
   "outputs": [],
   "source": [
    "expected = ['Setosa', 'Versicolor', 'Virginica']\n",
    "predict_x = {\n",
    "    'SepalLength': [5.1, 5.9, 6.9],\n",
    "    'SepalWidth': [3.3, 3.0, 3.1],\n",
    "    'PetalLength': [1.7, 4.2, 5.4],\n",
    "    'PetalWidth': [0.5, 1.5, 2.1],\n",
    "}\n",
    "\n",
    "def input_fn(features, batch_size=256):\n",
    "    return tf.data.Dataset.from_tensor_slices(dict(features)).batch(batch_size)\n",
    "\n",
    "predictions = classifier.predict(\n",
    "    input_fn=lambda: input_fn(predict_x)\n",
    ")"
   ]
  },
  {
   "cell_type": "code",
   "execution_count": 20,
   "metadata": {},
   "outputs": [
    {
     "name": "stdout",
     "output_type": "stream",
     "text": [
      "INFO:tensorflow:Calling model_fn.\n",
      "INFO:tensorflow:Done calling model_fn.\n",
      "INFO:tensorflow:Graph was finalized.\n",
      "INFO:tensorflow:Restoring parameters from /var/folders/wh/h43cl57j4ljf1x5_4p1bqmx80000gn/T/tmppkf2byzw/model.ckpt-5000\n",
      "INFO:tensorflow:Running local_init_op.\n",
      "INFO:tensorflow:Done running local_init_op.\n",
      "Prediction is \"Setosa\" (78.8%), expected \"Setosa\"\n",
      "Prediction is \"Versicolor\" (53.6%), expected \"Versicolor\"\n",
      "Prediction is \"Virginica\" (65.7%), expected \"Virginica\"\n"
     ]
    }
   ],
   "source": [
    "for pred_dict, expec in zip(predictions, expected):\n",
    "    class_id = pred_dict['class_ids'][0]\n",
    "    probability = pred_dict['probabilities'][class_id]\n",
    "    \n",
    "    print('Prediction is \"{}\" ({:.1f}%), expected \"{}\"'.format(\n",
    "        SPECIES[class_id], 100 * probability, expec))"
   ]
  },
  {
   "cell_type": "code",
   "execution_count": null,
   "metadata": {},
   "outputs": [],
   "source": []
  },
  {
   "cell_type": "code",
   "execution_count": null,
   "metadata": {},
   "outputs": [],
   "source": []
  }
 ],
 "metadata": {
  "kernelspec": {
   "display_name": "Python 3",
   "language": "python",
   "name": "python3"
  },
  "language_info": {
   "codemirror_mode": {
    "name": "ipython",
    "version": 3
   },
   "file_extension": ".py",
   "mimetype": "text/x-python",
   "name": "python",
   "nbconvert_exporter": "python",
   "pygments_lexer": "ipython3",
   "version": "3.7.5"
  }
 },
 "nbformat": 4,
 "nbformat_minor": 4
}
