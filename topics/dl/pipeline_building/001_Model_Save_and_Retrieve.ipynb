{
 "cells": [
  {
   "cell_type": "code",
   "execution_count": 1,
   "metadata": {},
   "outputs": [
    {
     "name": "stdout",
     "output_type": "stream",
     "text": [
      "2.1.0\n"
     ]
    }
   ],
   "source": [
    "import os\n",
    "import tensorflow as tf\n",
    "\n",
    "print(tf.version.VERSION)"
   ]
  },
  {
   "cell_type": "code",
   "execution_count": 2,
   "metadata": {},
   "outputs": [
    {
     "name": "stdout",
     "output_type": "stream",
     "text": [
      "Downloading data from https://storage.googleapis.com/tensorflow/tf-keras-datasets/mnist.npz\n",
      "11493376/11490434 [==============================] - 1s 0us/step\n"
     ]
    }
   ],
   "source": [
    "(train_images, train_labels), (test_images, test_labels) = tf.keras.datasets.mnist.load_data()\n",
    "\n",
    "train_labels = train_labels[:1000]\n",
    "test_labels = test_labels[:1000]\n",
    "\n",
    "train_images = train_images[:1000].reshape(-1, 28 * 28) / 255.0\n",
    "test_images = test_images[:1000].reshape(-1, 28 * 28) / 255.0"
   ]
  },
  {
   "cell_type": "code",
   "execution_count": 3,
   "metadata": {},
   "outputs": [
    {
     "name": "stdout",
     "output_type": "stream",
     "text": [
      "Model: \"sequential\"\n",
      "_________________________________________________________________\n",
      "Layer (type)                 Output Shape              Param #   \n",
      "=================================================================\n",
      "dense (Dense)                (None, 512)               401920    \n",
      "_________________________________________________________________\n",
      "dropout (Dropout)            (None, 512)               0         \n",
      "_________________________________________________________________\n",
      "dense_1 (Dense)              (None, 10)                5130      \n",
      "=================================================================\n",
      "Total params: 407,050\n",
      "Trainable params: 407,050\n",
      "Non-trainable params: 0\n",
      "_________________________________________________________________\n"
     ]
    }
   ],
   "source": [
    "def create_model():\n",
    "    model = tf.keras.models.Sequential([\n",
    "        tf.keras.layers.Dense(512, activation='relu', input_shape=(784,)),\n",
    "        tf.keras.layers.Dropout(0.2),\n",
    "        tf.keras.layers.Dense(10)\n",
    "    ])\n",
    "    \n",
    "    model.compile(\n",
    "        optimizer='adam',\n",
    "        loss=tf.losses.SparseCategoricalCrossentropy(from_logits=True),\n",
    "        metrics=['accuracy']\n",
    "    )\n",
    "    \n",
    "    return model\n",
    "\n",
    "model = create_model()\n",
    "model.summary()"
   ]
  },
  {
   "cell_type": "code",
   "execution_count": 10,
   "metadata": {},
   "outputs": [],
   "source": [
    "## Save checkpoints during training"
   ]
  },
  {
   "cell_type": "code",
   "execution_count": 4,
   "metadata": {},
   "outputs": [
    {
     "name": "stdout",
     "output_type": "stream",
     "text": [
      "Train on 1000 samples, validate on 1000 samples\n",
      "Epoch 1/10\n",
      " 704/1000 [====================>.........] - ETA: 0s - loss: 1.3171 - accuracy: 0.6236\n",
      "Epoch 00001: saving model to trainin_1/cp.ckpt\n",
      "1000/1000 [==============================] - 0s 470us/sample - loss: 1.1290 - accuracy: 0.6690 - val_loss: 0.7626 - val_accuracy: 0.7630\n",
      "Epoch 2/10\n",
      " 704/1000 [====================>.........] - ETA: 0s - loss: 0.4399 - accuracy: 0.8835\n",
      "Epoch 00002: saving model to trainin_1/cp.ckpt\n",
      "1000/1000 [==============================] - 0s 157us/sample - loss: 0.4170 - accuracy: 0.8920 - val_loss: 0.5380 - val_accuracy: 0.8420\n",
      "Epoch 3/10\n",
      " 704/1000 [====================>.........] - ETA: 0s - loss: 0.2899 - accuracy: 0.9162\n",
      "Epoch 00003: saving model to trainin_1/cp.ckpt\n",
      "1000/1000 [==============================] - 0s 153us/sample - loss: 0.2846 - accuracy: 0.9210 - val_loss: 0.4623 - val_accuracy: 0.8630\n",
      "Epoch 4/10\n",
      " 672/1000 [===================>..........] - ETA: 0s - loss: 0.1806 - accuracy: 0.9613\n",
      "Epoch 00004: saving model to trainin_1/cp.ckpt\n",
      "1000/1000 [==============================] - 0s 161us/sample - loss: 0.2062 - accuracy: 0.9550 - val_loss: 0.4514 - val_accuracy: 0.8580\n",
      "Epoch 5/10\n",
      " 640/1000 [==================>...........] - ETA: 0s - loss: 0.1573 - accuracy: 0.9656\n",
      "Epoch 00005: saving model to trainin_1/cp.ckpt\n",
      "1000/1000 [==============================] - 0s 165us/sample - loss: 0.1586 - accuracy: 0.9660 - val_loss: 0.4183 - val_accuracy: 0.8640\n",
      "Epoch 6/10\n",
      " 640/1000 [==================>...........] - ETA: 0s - loss: 0.1210 - accuracy: 0.9734\n",
      "Epoch 00006: saving model to trainin_1/cp.ckpt\n",
      "1000/1000 [==============================] - 0s 167us/sample - loss: 0.1159 - accuracy: 0.9770 - val_loss: 0.4261 - val_accuracy: 0.8610\n",
      "Epoch 7/10\n",
      " 672/1000 [===================>..........] - ETA: 0s - loss: 0.0909 - accuracy: 0.9926\n",
      "Epoch 00007: saving model to trainin_1/cp.ckpt\n",
      "1000/1000 [==============================] - 0s 163us/sample - loss: 0.0867 - accuracy: 0.9900 - val_loss: 0.4094 - val_accuracy: 0.8700\n",
      "Epoch 8/10\n",
      " 640/1000 [==================>...........] - ETA: 0s - loss: 0.0622 - accuracy: 0.9953\n",
      "Epoch 00008: saving model to trainin_1/cp.ckpt\n",
      "1000/1000 [==============================] - 0s 166us/sample - loss: 0.0631 - accuracy: 0.9950 - val_loss: 0.4076 - val_accuracy: 0.8710\n",
      "Epoch 9/10\n",
      " 736/1000 [=====================>........] - ETA: 0s - loss: 0.0500 - accuracy: 0.9959\n",
      "Epoch 00009: saving model to trainin_1/cp.ckpt\n",
      "1000/1000 [==============================] - 0s 154us/sample - loss: 0.0500 - accuracy: 0.9970 - val_loss: 0.3973 - val_accuracy: 0.8760\n",
      "Epoch 10/10\n",
      " 608/1000 [=================>............] - ETA: 0s - loss: 0.0366 - accuracy: 0.9984\n",
      "Epoch 00010: saving model to trainin_1/cp.ckpt\n",
      "1000/1000 [==============================] - 0s 168us/sample - loss: 0.0358 - accuracy: 0.9990 - val_loss: 0.4153 - val_accuracy: 0.8680\n"
     ]
    },
    {
     "data": {
      "text/plain": [
       "<tensorflow.python.keras.callbacks.History at 0x1457c90d0>"
      ]
     },
     "execution_count": 4,
     "metadata": {},
     "output_type": "execute_result"
    }
   ],
   "source": [
    "\n",
    "\n",
    "checkpoint_path = \"trainin_1/cp.ckpt\"\n",
    "checkpoint_dir = os.path.dirname(checkpoint_path)\n",
    "\n",
    "cp_callback = tf.keras.callbacks.ModelCheckpoint(\n",
    "    filepath=checkpoint_path,\n",
    "    save_weights_only=True,\n",
    "    verbose=1\n",
    ")\n",
    "model.fit(\n",
    "    train_images, \n",
    "    train_labels,\n",
    "    epochs=10,\n",
    "    validation_data=(test_images, test_labels),\n",
    "    callbacks=[cp_callback]\n",
    ")"
   ]
  },
  {
   "cell_type": "code",
   "execution_count": 5,
   "metadata": {},
   "outputs": [
    {
     "name": "stdout",
     "output_type": "stream",
     "text": [
      "checkpoint                  cp.ckpt.index\n",
      "cp.ckpt.data-00000-of-00001\n"
     ]
    }
   ],
   "source": [
    "!ls {checkpoint_dir}"
   ]
  },
  {
   "cell_type": "code",
   "execution_count": 7,
   "metadata": {},
   "outputs": [
    {
     "name": "stdout",
     "output_type": "stream",
     "text": [
      "1000/1000 - 0s - loss: 2.4251 - accuracy: 0.0640\n",
      "Untrained model, accuracy: 6.400000303983688\n"
     ]
    }
   ],
   "source": [
    "untrained_model = create_model()\n",
    "loss, acc = untrained_model.evaluate(test_images, test_labels, verbose=2)\n",
    "print(f\"Untrained model, accuracy: {100*acc}\")"
   ]
  },
  {
   "cell_type": "code",
   "execution_count": 8,
   "metadata": {},
   "outputs": [
    {
     "name": "stdout",
     "output_type": "stream",
     "text": [
      "1000/1000 - 0s - loss: 0.4153 - accuracy: 0.8680\n",
      "Trained model, accuracy: 86.79999709129333\n"
     ]
    }
   ],
   "source": [
    "loss, acc = model.evaluate(test_images, test_labels, verbose=2)\n",
    "print(f\"Trained model, accuracy: {100*acc}\")"
   ]
  },
  {
   "cell_type": "code",
   "execution_count": 9,
   "metadata": {},
   "outputs": [
    {
     "name": "stdout",
     "output_type": "stream",
     "text": [
      "1000/1000 - 0s - loss: 0.4153 - accuracy: 0.8680\n",
      "Trained model, accuracy: 86.79999709129333\n"
     ]
    }
   ],
   "source": [
    "untrained_model.load_weights(checkpoint_path)\n",
    "\n",
    "loss, acc = untrained_model.evaluate(test_images, test_labels, verbose=2)\n",
    "print(f\"Trained model, accuracy: {100*acc}\")"
   ]
  },
  {
   "cell_type": "markdown",
   "metadata": {},
   "source": [
    "## Checkpoint Options"
   ]
  },
  {
   "cell_type": "code",
   "execution_count": 11,
   "metadata": {},
   "outputs": [
    {
     "name": "stdout",
     "output_type": "stream",
     "text": [
      "WARNING:tensorflow:`period` argument is deprecated. Please use `save_freq` to specify the frequency in number of samples seen.\n",
      "\n",
      "Epoch 00005: saving model to trainin_2/cp-0005.ckpt\n",
      "\n",
      "Epoch 00010: saving model to trainin_2/cp-0010.ckpt\n",
      "\n",
      "Epoch 00015: saving model to trainin_2/cp-0015.ckpt\n",
      "\n",
      "Epoch 00020: saving model to trainin_2/cp-0020.ckpt\n",
      "\n",
      "Epoch 00025: saving model to trainin_2/cp-0025.ckpt\n",
      "\n",
      "Epoch 00030: saving model to trainin_2/cp-0030.ckpt\n",
      "\n",
      "Epoch 00035: saving model to trainin_2/cp-0035.ckpt\n",
      "\n",
      "Epoch 00040: saving model to trainin_2/cp-0040.ckpt\n",
      "\n",
      "Epoch 00045: saving model to trainin_2/cp-0045.ckpt\n",
      "\n",
      "Epoch 00050: saving model to trainin_2/cp-0050.ckpt\n"
     ]
    },
    {
     "data": {
      "text/plain": [
       "<tensorflow.python.keras.callbacks.History at 0x1465d4fd0>"
      ]
     },
     "execution_count": 11,
     "metadata": {},
     "output_type": "execute_result"
    }
   ],
   "source": [
    "checkpoint_path = \"trainin_2/cp-{epoch:04d}.ckpt\"\n",
    "checkpoint_dir = os.path.dirname(checkpoint_path)\n",
    "\n",
    "cp_callback = tf.keras.callbacks.ModelCheckpoint(\n",
    "    filepath=checkpoint_path,\n",
    "    verbose=1,\n",
    "    save_weights_only=True,\n",
    "    period=5\n",
    ")\n",
    "model = create_model()\n",
    "model.fit(\n",
    "    train_images, \n",
    "    train_labels,\n",
    "    epochs=50,\n",
    "    validation_data=(test_images, test_labels),\n",
    "    callbacks=[cp_callback],\n",
    "    verbose=0\n",
    ")"
   ]
  },
  {
   "cell_type": "code",
   "execution_count": 12,
   "metadata": {},
   "outputs": [
    {
     "name": "stdout",
     "output_type": "stream",
     "text": [
      "checkpoint                       cp-0030.ckpt.data-00000-of-00001\n",
      "cp-0005.ckpt.data-00000-of-00001 cp-0030.ckpt.index\n",
      "cp-0005.ckpt.index               cp-0035.ckpt.data-00000-of-00001\n",
      "cp-0010.ckpt.data-00000-of-00001 cp-0035.ckpt.index\n",
      "cp-0010.ckpt.index               cp-0040.ckpt.data-00000-of-00001\n",
      "cp-0015.ckpt.data-00000-of-00001 cp-0040.ckpt.index\n",
      "cp-0015.ckpt.index               cp-0045.ckpt.data-00000-of-00001\n",
      "cp-0020.ckpt.data-00000-of-00001 cp-0045.ckpt.index\n",
      "cp-0020.ckpt.index               cp-0050.ckpt.data-00000-of-00001\n",
      "cp-0025.ckpt.data-00000-of-00001 cp-0050.ckpt.index\n",
      "cp-0025.ckpt.index\n"
     ]
    }
   ],
   "source": [
    "!ls {checkpoint_dir}"
   ]
  },
  {
   "cell_type": "code",
   "execution_count": 13,
   "metadata": {},
   "outputs": [],
   "source": [
    "latest = tf.train.latest_checkpoint(checkpoint_dir)"
   ]
  },
  {
   "cell_type": "code",
   "execution_count": 14,
   "metadata": {},
   "outputs": [
    {
     "data": {
      "text/plain": [
       "'trainin_2/cp-0050.ckpt'"
      ]
     },
     "execution_count": 14,
     "metadata": {},
     "output_type": "execute_result"
    }
   ],
   "source": [
    "latest"
   ]
  },
  {
   "cell_type": "code",
   "execution_count": 15,
   "metadata": {},
   "outputs": [
    {
     "name": "stdout",
     "output_type": "stream",
     "text": [
      "1000/1000 - 0s - loss: 0.4818 - accuracy: 0.8780\n",
      "Restored model, accuracy: 87.8000020980835\n"
     ]
    }
   ],
   "source": [
    "untrained_model = create_model()\n",
    "untrained_model.load_weights(latest)\n",
    "\n",
    "loss, acc = untrained_model.evaluate(test_images, test_labels, verbose=2)\n",
    "print(f\"Restored model, accuracy: {100*acc}\")"
   ]
  },
  {
   "cell_type": "markdown",
   "metadata": {},
   "source": [
    "## Manually Save Weights"
   ]
  },
  {
   "cell_type": "code",
   "execution_count": 16,
   "metadata": {},
   "outputs": [
    {
     "name": "stdout",
     "output_type": "stream",
     "text": [
      "1000/1000 - 0s - loss: 0.4818 - accuracy: 0.8780\n",
      "Restored model, accuracy: 87.8000020980835\n"
     ]
    }
   ],
   "source": [
    "untrained_model.save_weights('./checkpoints/my_checkpoint')\n",
    "\n",
    "model = create_model()\n",
    "model.load_weights('./checkpoints/my_checkpoint')\n",
    "\n",
    "loss, acc = untrained_model.evaluate(test_images, test_labels, verbose=2)\n",
    "print(f\"Restored model, accuracy: {100*acc}\")"
   ]
  },
  {
   "cell_type": "markdown",
   "metadata": {},
   "source": [
    "## Save Entire Model"
   ]
  },
  {
   "cell_type": "code",
   "execution_count": 17,
   "metadata": {},
   "outputs": [
    {
     "name": "stdout",
     "output_type": "stream",
     "text": [
      "Train on 1000 samples\n",
      "Epoch 1/5\n",
      "1000/1000 [==============================] - 0s 318us/sample - loss: 1.1860 - accuracy: 0.6670\n",
      "Epoch 2/5\n",
      "1000/1000 [==============================] - 0s 81us/sample - loss: 0.4224 - accuracy: 0.8920\n",
      "Epoch 3/5\n",
      "1000/1000 [==============================] - 0s 82us/sample - loss: 0.2947 - accuracy: 0.9270\n",
      "Epoch 4/5\n",
      "1000/1000 [==============================] - 0s 81us/sample - loss: 0.2004 - accuracy: 0.9570\n",
      "Epoch 5/5\n",
      "1000/1000 [==============================] - 0s 79us/sample - loss: 0.1582 - accuracy: 0.9700\n",
      "WARNING:tensorflow:From /Users/shankar/dev/tools/anaconda3/envs/kaggle/lib/python3.7/site-packages/tensorflow_core/python/ops/resource_variable_ops.py:1786: calling BaseResourceVariable.__init__ (from tensorflow.python.ops.resource_variable_ops) with constraint is deprecated and will be removed in a future version.\n",
      "Instructions for updating:\n",
      "If using Keras pass *_constraint arguments to layers.\n",
      "INFO:tensorflow:Assets written to: saved_model/my_model/assets\n"
     ]
    }
   ],
   "source": [
    "model = create_model()\n",
    "model.fit(train_images, train_labels, epochs=5)\n",
    "\n",
    "# !mkdir -p saved_model\n",
    "model.save('saved_model/my_model')"
   ]
  },
  {
   "cell_type": "code",
   "execution_count": 18,
   "metadata": {},
   "outputs": [],
   "source": [
    "model.save('saved_model/my_model.h5')"
   ]
  },
  {
   "cell_type": "code",
   "execution_count": null,
   "metadata": {},
   "outputs": [],
   "source": []
  }
 ],
 "metadata": {
  "kernelspec": {
   "display_name": "Python 3",
   "language": "python",
   "name": "python3"
  },
  "language_info": {
   "codemirror_mode": {
    "name": "ipython",
    "version": 3
   },
   "file_extension": ".py",
   "mimetype": "text/x-python",
   "name": "python",
   "nbconvert_exporter": "python",
   "pygments_lexer": "ipython3",
   "version": "3.7.5"
  }
 },
 "nbformat": 4,
 "nbformat_minor": 4
}
