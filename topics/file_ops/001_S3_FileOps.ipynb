{
 "cells": [
  {
   "cell_type": "code",
   "execution_count": 17,
   "metadata": {},
   "outputs": [],
   "source": [
    "import glob\n",
    "import boto3\n",
    "import pandas as pd\n",
    "from boto3.session import Session\n",
    "\n",
    "import warnings\n",
    "warnings.filterwarnings('ignore')"
   ]
  },
  {
   "cell_type": "code",
   "execution_count": 18,
   "metadata": {},
   "outputs": [],
   "source": [
    "s3_details = {\"aws_access_key_id\":\"\",\n",
    "\"aws_secret_access_key\": \"\",\n",
    "\"bucket_name\": \"\",\n",
    "\"aws_region\":\"ap-south-1\"}"
   ]
  },
  {
   "cell_type": "code",
   "execution_count": 19,
   "metadata": {},
   "outputs": [],
   "source": [
    "s3_resource = boto3.resource(\n",
    "    's3',\n",
    "    aws_access_key_id=s3_details[\"aws_access_key_id\"],\n",
    "    aws_secret_access_key=s3_details[\"aws_secret_access_key\"],\n",
    "    verify=False\n",
    ")"
   ]
  },
  {
   "cell_type": "markdown",
   "metadata": {},
   "source": [
    "## How to Read a CSV file"
   ]
  },
  {
   "cell_type": "code",
   "execution_count": 20,
   "metadata": {},
   "outputs": [],
   "source": [
    "obj = s3_resource.Object(s3_details['bucket_name'], 'ADANI_INDIA/202003140818/dim_date/dim_date.csv')\n",
    "file = obj.get()['Body'] #.read()"
   ]
  },
  {
   "cell_type": "code",
   "execution_count": 21,
   "metadata": {},
   "outputs": [
    {
     "data": {
      "text/html": [
       "<div>\n",
       "<style scoped>\n",
       "    .dataframe tbody tr th:only-of-type {\n",
       "        vertical-align: middle;\n",
       "    }\n",
       "\n",
       "    .dataframe tbody tr th {\n",
       "        vertical-align: top;\n",
       "    }\n",
       "\n",
       "    .dataframe thead th {\n",
       "        text-align: right;\n",
       "    }\n",
       "</style>\n",
       "<table border=\"1\" class=\"dataframe\">\n",
       "  <thead>\n",
       "    <tr style=\"text-align: right;\">\n",
       "      <th></th>\n",
       "      <th>20140117</th>\n",
       "      <th>2014-01-17</th>\n",
       "      <th>2014</th>\n",
       "      <th>1</th>\n",
       "      <th>January</th>\n",
       "      <th>17</th>\n",
       "      <th>17.1</th>\n",
       "      <th>5</th>\n",
       "      <th>3</th>\n",
       "      <th>Friday</th>\n",
       "      <th>...</th>\n",
       "      <th>2014/03</th>\n",
       "      <th>Weekday</th>\n",
       "      <th>2014-01-13</th>\n",
       "      <th>2014-01-19</th>\n",
       "      <th>2014-01-01</th>\n",
       "      <th>2014-01-31 00:00:00</th>\n",
       "      <th>3.2</th>\n",
       "      <th>20140101</th>\n",
       "      <th>20140131</th>\n",
       "      <th>1.1</th>\n",
       "    </tr>\n",
       "  </thead>\n",
       "  <tbody>\n",
       "    <tr>\n",
       "      <th>0</th>\n",
       "      <td>20140118</td>\n",
       "      <td>2014-01-18</td>\n",
       "      <td>2014</td>\n",
       "      <td>1</td>\n",
       "      <td>January</td>\n",
       "      <td>18</td>\n",
       "      <td>18</td>\n",
       "      <td>6</td>\n",
       "      <td>3</td>\n",
       "      <td>Saturday</td>\n",
       "      <td>...</td>\n",
       "      <td>2014/03</td>\n",
       "      <td>Weekend</td>\n",
       "      <td>2014-01-13</td>\n",
       "      <td>2014-01-19</td>\n",
       "      <td>2014-01-01</td>\n",
       "      <td>2014-01-31 00:00:00</td>\n",
       "      <td>3</td>\n",
       "      <td>20140101</td>\n",
       "      <td>20140131</td>\n",
       "      <td>1</td>\n",
       "    </tr>\n",
       "    <tr>\n",
       "      <th>1</th>\n",
       "      <td>20140119</td>\n",
       "      <td>2014-01-19</td>\n",
       "      <td>2014</td>\n",
       "      <td>1</td>\n",
       "      <td>January</td>\n",
       "      <td>19</td>\n",
       "      <td>19</td>\n",
       "      <td>0</td>\n",
       "      <td>4</td>\n",
       "      <td>Sunday</td>\n",
       "      <td>...</td>\n",
       "      <td>2014/03</td>\n",
       "      <td>Weekend</td>\n",
       "      <td>2014-01-13</td>\n",
       "      <td>2014-01-19</td>\n",
       "      <td>2014-01-01</td>\n",
       "      <td>2014-01-31 00:00:00</td>\n",
       "      <td>4</td>\n",
       "      <td>20140101</td>\n",
       "      <td>20140131</td>\n",
       "      <td>1</td>\n",
       "    </tr>\n",
       "    <tr>\n",
       "      <th>2</th>\n",
       "      <td>20140120</td>\n",
       "      <td>2014-01-20</td>\n",
       "      <td>2014</td>\n",
       "      <td>1</td>\n",
       "      <td>January</td>\n",
       "      <td>20</td>\n",
       "      <td>20</td>\n",
       "      <td>1</td>\n",
       "      <td>4</td>\n",
       "      <td>Monday</td>\n",
       "      <td>...</td>\n",
       "      <td>2014/04</td>\n",
       "      <td>Weekday</td>\n",
       "      <td>2014-01-20</td>\n",
       "      <td>2014-01-26</td>\n",
       "      <td>2014-01-01</td>\n",
       "      <td>2014-01-31 00:00:00</td>\n",
       "      <td>4</td>\n",
       "      <td>20140101</td>\n",
       "      <td>20140131</td>\n",
       "      <td>1</td>\n",
       "    </tr>\n",
       "    <tr>\n",
       "      <th>3</th>\n",
       "      <td>20140121</td>\n",
       "      <td>2014-01-21</td>\n",
       "      <td>2014</td>\n",
       "      <td>1</td>\n",
       "      <td>January</td>\n",
       "      <td>21</td>\n",
       "      <td>21</td>\n",
       "      <td>2</td>\n",
       "      <td>4</td>\n",
       "      <td>Tuesday</td>\n",
       "      <td>...</td>\n",
       "      <td>2014/04</td>\n",
       "      <td>Weekday</td>\n",
       "      <td>2014-01-20</td>\n",
       "      <td>2014-01-26</td>\n",
       "      <td>2014-01-01</td>\n",
       "      <td>2014-01-31 00:00:00</td>\n",
       "      <td>4</td>\n",
       "      <td>20140101</td>\n",
       "      <td>20140131</td>\n",
       "      <td>1</td>\n",
       "    </tr>\n",
       "    <tr>\n",
       "      <th>4</th>\n",
       "      <td>20140122</td>\n",
       "      <td>2014-01-22</td>\n",
       "      <td>2014</td>\n",
       "      <td>1</td>\n",
       "      <td>January</td>\n",
       "      <td>22</td>\n",
       "      <td>22</td>\n",
       "      <td>3</td>\n",
       "      <td>4</td>\n",
       "      <td>Wednesday</td>\n",
       "      <td>...</td>\n",
       "      <td>2014/04</td>\n",
       "      <td>Weekday</td>\n",
       "      <td>2014-01-20</td>\n",
       "      <td>2014-01-26</td>\n",
       "      <td>2014-01-01</td>\n",
       "      <td>2014-01-31 00:00:00</td>\n",
       "      <td>4</td>\n",
       "      <td>20140101</td>\n",
       "      <td>20140131</td>\n",
       "      <td>1</td>\n",
       "    </tr>\n",
       "  </tbody>\n",
       "</table>\n",
       "<p>5 rows × 25 columns</p>\n",
       "</div>"
      ],
      "text/plain": [
       "   20140117  2014-01-17  2014  1  January  17  17.1  5  3     Friday  ...  \\\n",
       "0  20140118  2014-01-18  2014  1  January  18    18  6  3   Saturday  ...   \n",
       "1  20140119  2014-01-19  2014  1  January  19    19  0  4     Sunday  ...   \n",
       "2  20140120  2014-01-20  2014  1  January  20    20  1  4     Monday  ...   \n",
       "3  20140121  2014-01-21  2014  1  January  21    21  2  4    Tuesday  ...   \n",
       "4  20140122  2014-01-22  2014  1  January  22    22  3  4  Wednesday  ...   \n",
       "\n",
       "   2014/03  Weekday  2014-01-13  2014-01-19  2014-01-01  2014-01-31 00:00:00  \\\n",
       "0  2014/03  Weekend  2014-01-13  2014-01-19  2014-01-01  2014-01-31 00:00:00   \n",
       "1  2014/03  Weekend  2014-01-13  2014-01-19  2014-01-01  2014-01-31 00:00:00   \n",
       "2  2014/04  Weekday  2014-01-20  2014-01-26  2014-01-01  2014-01-31 00:00:00   \n",
       "3  2014/04  Weekday  2014-01-20  2014-01-26  2014-01-01  2014-01-31 00:00:00   \n",
       "4  2014/04  Weekday  2014-01-20  2014-01-26  2014-01-01  2014-01-31 00:00:00   \n",
       "\n",
       "  3.2  20140101  20140131 1.1  \n",
       "0   3  20140101  20140131   1  \n",
       "1   4  20140101  20140131   1  \n",
       "2   4  20140101  20140131   1  \n",
       "3   4  20140101  20140131   1  \n",
       "4   4  20140101  20140131   1  \n",
       "\n",
       "[5 rows x 25 columns]"
      ]
     },
     "execution_count": 21,
     "metadata": {},
     "output_type": "execute_result"
    }
   ],
   "source": [
    "df = pd.read_csv(file, header=14, delimiter=\"|\", low_memory=False)\n",
    "df.head()"
   ]
  },
  {
   "cell_type": "markdown",
   "metadata": {},
   "source": [
    "## How to List a Folder"
   ]
  },
  {
   "cell_type": "code",
   "execution_count": 22,
   "metadata": {},
   "outputs": [],
   "source": [
    "bucket = s3_resource.Bucket(name=s3_details[\"bucket_name\"])\n",
    "folder_name = 'DATA_ARCHIVAL_BIMBO_MEXICO_20200713' \n",
    "sub_folder = '/20200614_20200614/'"
   ]
  },
  {
   "cell_type": "code",
   "execution_count": 23,
   "metadata": {},
   "outputs": [],
   "source": [
    "def list_folders(folder_name):\n",
    "    files = []\n",
    "    for obj in bucket.objects.filter(Prefix=folder_name):\n",
    "        files.append(obj.key)\n",
    "        \n",
    "    print(f'Total Object {len(files)}')\n",
    "    return files"
   ]
  },
  {
   "cell_type": "code",
   "execution_count": 24,
   "metadata": {},
   "outputs": [
    {
     "name": "stdout",
     "output_type": "stream",
     "text": [
      "Total Object 7\n"
     ]
    },
    {
     "data": {
      "text/plain": [
       "['DATA_ARCHIVAL_BIMBO_MEXICO_20200713/20200601_20200630/schema.csv',\n",
       " 'DATA_ARCHIVAL_BIMBO_MEXICO_20200713/20200614_20200614/schema.csv',\n",
       " 'DATA_ARCHIVAL_BIMBO_MEXICO_20200713/Audit_HHTTransactionDataQueueList/20200614_20200614/Audit_HHTTransactionDataQueueList_1.gzip',\n",
       " 'DATA_ARCHIVAL_BIMBO_MEXICO_20200713/SADM_Users/20200601_20200630/SADM_Users_1.gzip',\n",
       " 'DATA_ARCHIVAL_BIMBO_MEXICO_20200713/processed_files',\n",
       " 'DATA_ARCHIVAL_BIMBO_MEXICO_20200713/processed_files/df.csv',\n",
       " 'DATA_ARCHIVAL_BIMBO_MEXICO_20200713/processed_filesdf.csv']"
      ]
     },
     "execution_count": 24,
     "metadata": {},
     "output_type": "execute_result"
    }
   ],
   "source": [
    "files = list_folders(folder_name)\n",
    "files"
   ]
  },
  {
   "cell_type": "markdown",
   "metadata": {},
   "source": [
    "### Sub-Folder"
   ]
  },
  {
   "cell_type": "code",
   "execution_count": 25,
   "metadata": {},
   "outputs": [
    {
     "name": "stdout",
     "output_type": "stream",
     "text": [
      "Total Object 1\n"
     ]
    },
    {
     "data": {
      "text/plain": [
       "['DATA_ARCHIVAL_BIMBO_MEXICO_20200713/20200614_20200614/schema.csv']"
      ]
     },
     "execution_count": 25,
     "metadata": {},
     "output_type": "execute_result"
    }
   ],
   "source": [
    "files = list_folders(folder_name + sub_folder)\n",
    "files"
   ]
  },
  {
   "cell_type": "markdown",
   "metadata": {},
   "source": [
    "## How to Create a Folder"
   ]
  },
  {
   "cell_type": "code",
   "execution_count": 26,
   "metadata": {},
   "outputs": [
    {
     "name": "stdout",
     "output_type": "stream",
     "text": [
      "Total Object 7\n"
     ]
    },
    {
     "data": {
      "text/plain": [
       "['DATA_ARCHIVAL_BIMBO_MEXICO_20200713/20200601_20200630/schema.csv',\n",
       " 'DATA_ARCHIVAL_BIMBO_MEXICO_20200713/20200614_20200614/schema.csv',\n",
       " 'DATA_ARCHIVAL_BIMBO_MEXICO_20200713/Audit_HHTTransactionDataQueueList/20200614_20200614/Audit_HHTTransactionDataQueueList_1.gzip',\n",
       " 'DATA_ARCHIVAL_BIMBO_MEXICO_20200713/SADM_Users/20200601_20200630/SADM_Users_1.gzip',\n",
       " 'DATA_ARCHIVAL_BIMBO_MEXICO_20200713/processed_files',\n",
       " 'DATA_ARCHIVAL_BIMBO_MEXICO_20200713/processed_files/df.csv',\n",
       " 'DATA_ARCHIVAL_BIMBO_MEXICO_20200713/processed_filesdf.csv']"
      ]
     },
     "execution_count": 26,
     "metadata": {},
     "output_type": "execute_result"
    }
   ],
   "source": [
    "new_sub_folder = '/processed_files'\n",
    "bucket.put_object(Key=folder_name + new_sub_folder)\n",
    "files = list_folders(folder_name)\n",
    "files"
   ]
  },
  {
   "cell_type": "code",
   "execution_count": null,
   "metadata": {},
   "outputs": [],
   "source": [
    "files_to_move = [\n",
    "    'DATA_ARCHIVAL_BIMBO_MEXICO_20200713/20200601_20200630/schema.csv',\n",
    "    'DATA_ARCHIVAL_BIMBO_MEXICO_20200713/20200614_20200614/schema.csv'\n",
    "]\n",
    "\n",
    "## I will verify this\n",
    "\n",
    "s3_resource.Object(\n",
    "    s3_details['bucket_name'], \n",
    "    'DATA_ARCHIVAL_BIMBO_MEXICO_20200713/processed_files' + \"/schema.csv\"\n",
    ").copy_from(\n",
    "    CopySource='DATA_ARCHIVAL_BIMBO_MEXICO_20200713/20200601_20200630/schema.csv'\n",
    ")"
   ]
  },
  {
   "cell_type": "markdown",
   "metadata": {},
   "source": [
    "## How to Delete a Folder"
   ]
  },
  {
   "cell_type": "code",
   "execution_count": 28,
   "metadata": {},
   "outputs": [
    {
     "name": "stdout",
     "output_type": "stream",
     "text": [
      "Total Object 6\n"
     ]
    },
    {
     "data": {
      "text/plain": [
       "['DATA_ARCHIVAL_BIMBO_MEXICO_20200713/20200601_20200630/schema.csv',\n",
       " 'DATA_ARCHIVAL_BIMBO_MEXICO_20200713/20200614_20200614/schema.csv',\n",
       " 'DATA_ARCHIVAL_BIMBO_MEXICO_20200713/Audit_HHTTransactionDataQueueList/20200614_20200614/Audit_HHTTransactionDataQueueList_1.gzip',\n",
       " 'DATA_ARCHIVAL_BIMBO_MEXICO_20200713/SADM_Users/20200601_20200630/SADM_Users_1.gzip',\n",
       " 'DATA_ARCHIVAL_BIMBO_MEXICO_20200713/processed_files/df.csv',\n",
       " 'DATA_ARCHIVAL_BIMBO_MEXICO_20200713/processed_filesdf.csv']"
      ]
     },
     "execution_count": 28,
     "metadata": {},
     "output_type": "execute_result"
    }
   ],
   "source": [
    "bucket.delete_objects(Delete={\n",
    "    'Objects': [{\n",
    "        'Key': folder_name + new_sub_folder\n",
    "    }],\n",
    "    'Quiet': False\n",
    "})\n",
    "files = list_folders(folder_name)\n",
    "files"
   ]
  },
  {
   "cell_type": "markdown",
   "metadata": {},
   "source": [
    "## Write Data Frame to a Folder"
   ]
  },
  {
   "cell_type": "code",
   "execution_count": 15,
   "metadata": {},
   "outputs": [
    {
     "data": {
      "text/plain": [
       "{'ResponseMetadata': {'RequestId': '39EC6F3D19A1F0CE',\n",
       "  'HostId': 'ymb7AQl8ICALdxLwQguBpGewqpJbwPQFGf0zqB8i5ABPU6ZKF60uj/kLkw3xM6okBqKAhjJP7UQ=',\n",
       "  'HTTPStatusCode': 200,\n",
       "  'HTTPHeaders': {'x-amz-id-2': 'ymb7AQl8ICALdxLwQguBpGewqpJbwPQFGf0zqB8i5ABPU6ZKF60uj/kLkw3xM6okBqKAhjJP7UQ=',\n",
       "   'x-amz-request-id': '39EC6F3D19A1F0CE',\n",
       "   'date': 'Thu, 30 Jul 2020 13:39:50 GMT',\n",
       "   'etag': '\"7325b48b36d35ab766fe15f21cf371ae\"',\n",
       "   'content-length': '0',\n",
       "   'server': 'AmazonS3'},\n",
       "  'RetryAttempts': 0},\n",
       " 'ETag': '\"7325b48b36d35ab766fe15f21cf371ae\"'}"
      ]
     },
     "execution_count": 15,
     "metadata": {},
     "output_type": "execute_result"
    }
   ],
   "source": [
    "from io import StringIO\n",
    "csv_buffer = StringIO()\n",
    "df.to_csv(csv_buffer)\n",
    "s3_resource.Object(s3_details['bucket_name'], 'DATA_ARCHIVAL_BIMBO_MEXICO_20200713/processed_files' + '/df.csv').put(Body=csv_buffer.getvalue())"
   ]
  },
  {
   "cell_type": "code",
   "execution_count": 16,
   "metadata": {},
   "outputs": [
    {
     "name": "stdout",
     "output_type": "stream",
     "text": [
      "Total Object 7\n"
     ]
    },
    {
     "data": {
      "text/plain": [
       "['DATA_ARCHIVAL_BIMBO_MEXICO_20200713/20200601_20200630/schema.csv',\n",
       " 'DATA_ARCHIVAL_BIMBO_MEXICO_20200713/20200614_20200614/schema.csv',\n",
       " 'DATA_ARCHIVAL_BIMBO_MEXICO_20200713/Audit_HHTTransactionDataQueueList/20200614_20200614/Audit_HHTTransactionDataQueueList_1.gzip',\n",
       " 'DATA_ARCHIVAL_BIMBO_MEXICO_20200713/SADM_Users/20200601_20200630/SADM_Users_1.gzip',\n",
       " 'DATA_ARCHIVAL_BIMBO_MEXICO_20200713/processed_files',\n",
       " 'DATA_ARCHIVAL_BIMBO_MEXICO_20200713/processed_files/df.csv',\n",
       " 'DATA_ARCHIVAL_BIMBO_MEXICO_20200713/processed_filesdf.csv']"
      ]
     },
     "execution_count": 16,
     "metadata": {},
     "output_type": "execute_result"
    }
   ],
   "source": [
    "files = list_folders(folder_name)\n",
    "files"
   ]
  },
  {
   "cell_type": "code",
   "execution_count": null,
   "metadata": {},
   "outputs": [],
   "source": []
  }
 ],
 "metadata": {
  "kernelspec": {
   "display_name": "Python 3",
   "language": "python",
   "name": "python3"
  },
  "language_info": {
   "codemirror_mode": {
    "name": "ipython",
    "version": 3
   },
   "file_extension": ".py",
   "mimetype": "text/x-python",
   "name": "python",
   "nbconvert_exporter": "python",
   "pygments_lexer": "ipython3",
   "version": "3.8.3"
  }
 },
 "nbformat": 4,
 "nbformat_minor": 4
}
