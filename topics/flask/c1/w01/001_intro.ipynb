{
 "cells": [
  {
   "cell_type": "code",
   "execution_count": 1,
   "metadata": {
    "execution": {
     "iopub.execute_input": "2020-11-23T06:08:36.280442Z",
     "iopub.status.busy": "2020-11-23T06:08:36.279090Z",
     "iopub.status.idle": "2020-11-23T06:08:36.660695Z",
     "shell.execute_reply": "2020-11-23T06:08:36.658622Z",
     "shell.execute_reply.started": "2020-11-23T06:08:36.280342Z"
    }
   },
   "outputs": [],
   "source": [
    "from flask import Flask"
   ]
  },
  {
   "cell_type": "code",
   "execution_count": 2,
   "metadata": {
    "execution": {
     "iopub.execute_input": "2020-11-23T06:25:11.293006Z",
     "iopub.status.busy": "2020-11-23T06:25:11.292431Z",
     "iopub.status.idle": "2020-11-23T06:25:11.446365Z",
     "shell.execute_reply": "2020-11-23T06:25:11.445280Z",
     "shell.execute_reply.started": "2020-11-23T06:25:11.292939Z"
    }
   },
   "outputs": [
    {
     "name": "stdout",
     "output_type": "stream",
     "text": [
      "/Users/shankar/dev/code/ds/studies/data_science/topics/flask/c1/w01/hello_world\n"
     ]
    }
   ],
   "source": [
    "import os\n",
    "os.chdir('hello_world')\n",
    "!pwd"
   ]
  },
  {
   "cell_type": "code",
   "execution_count": 3,
   "metadata": {
    "execution": {
     "iopub.execute_input": "2020-11-23T06:25:14.710763Z",
     "iopub.status.busy": "2020-11-23T06:25:14.710217Z",
     "iopub.status.idle": "2020-11-23T06:25:14.850697Z",
     "shell.execute_reply": "2020-11-23T06:25:14.849089Z",
     "shell.execute_reply.started": "2020-11-23T06:25:14.710712Z"
    }
   },
   "outputs": [],
   "source": [
    "!export FLASK_APP=app.py"
   ]
  },
  {
   "cell_type": "code",
   "execution_count": null,
   "metadata": {
    "execution": {
     "iopub.execute_input": "2020-11-23T15:48:09.034871Z",
     "iopub.status.busy": "2020-11-23T15:48:09.034624Z"
    }
   },
   "outputs": [
    {
     "name": "stdout",
     "output_type": "stream",
     "text": [
      " * Environment: production\n",
      "\u001b[31m   WARNING: This is a development server. Do not use it in a production deployment.\u001b[0m\n",
      "\u001b[2m   Use a production WSGI server instead.\u001b[0m\n",
      " * Debug mode: off\n",
      " * Running on http://127.0.0.1:5000/ (Press CTRL+C to quit)\n",
      "{'x': 10, 'y': 0}\n",
      "127.0.0.1 - - [23/Nov/2020 21:18:11] \"\u001b[37mPOST /div HTTP/1.1\u001b[0m\" 200 -\n",
      "{'x': 10, 'y': 10}\n",
      "127.0.0.1 - - [23/Nov/2020 21:18:24] \"\u001b[37mPOST /div HTTP/1.1\u001b[0m\" 200 -\n"
     ]
    }
   ],
   "source": [
    "!flask run"
   ]
  },
  {
   "cell_type": "code",
   "execution_count": null,
   "metadata": {},
   "outputs": [],
   "source": []
  }
 ],
 "metadata": {
  "kernelspec": {
   "display_name": "Python 3",
   "language": "python",
   "name": "python3"
  },
  "language_info": {
   "codemirror_mode": {
    "name": "ipython",
    "version": 3
   },
   "file_extension": ".py",
   "mimetype": "text/x-python",
   "name": "python",
   "nbconvert_exporter": "python",
   "pygments_lexer": "ipython3",
   "version": "3.8.3"
  }
 },
 "nbformat": 4,
 "nbformat_minor": 4
}
