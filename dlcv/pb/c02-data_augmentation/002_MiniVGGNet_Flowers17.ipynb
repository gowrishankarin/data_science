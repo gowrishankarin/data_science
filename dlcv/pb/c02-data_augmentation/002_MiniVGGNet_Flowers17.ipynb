{
 "cells": [
  {
   "cell_type": "code",
   "execution_count": 1,
   "metadata": {},
   "outputs": [
    {
     "name": "stderr",
     "output_type": "stream",
     "text": [
      "Using TensorFlow backend.\n"
     ]
    }
   ],
   "source": [
    "from sklearn.preprocessing import LabelBinarizer\n",
    "from sklearn.model_selection import train_test_split\n",
    "from sklearn.metrics import classification_report\n",
    "from keras.preprocessing.image import ImageDataGenerator\n",
    "from keras.optimizers import SGD\n",
    "from imutils import paths\n",
    "import matplotlib.pyplot as plt\n",
    "import numpy as np\n",
    "import os"
   ]
  },
  {
   "cell_type": "code",
   "execution_count": 2,
   "metadata": {},
   "outputs": [],
   "source": [
    "IMG_HELP_PATH = '/Users/shankar/dev/code/ds/studies/data_science/dlcv'\n",
    "import os\n",
    "import sys\n",
    "sys.path.append(os.path.abspath(IMG_HELP_PATH))\n",
    "from common.preprocessing import ImageToArrayPreprocessor\n",
    "from common.preprocessing import AspectAwarePreprocessor\n",
    "from common.datasets import SimpleDatasetLoader\n",
    "from common.nn.conv import MiniVGGNet"
   ]
  },
  {
   "cell_type": "code",
   "execution_count": 3,
   "metadata": {},
   "outputs": [],
   "source": [
    "DATASET = '../datasets/flowers17/images'"
   ]
  },
  {
   "cell_type": "code",
   "execution_count": 4,
   "metadata": {},
   "outputs": [
    {
     "name": "stdout",
     "output_type": "stream",
     "text": [
      "[INFO] Loading images\n"
     ]
    }
   ],
   "source": [
    "print(\"[INFO] Loading images\")\n",
    "imagePaths = list(paths.list_images(DATASET))\n",
    "classNames = [ pt.split(os.path.sep)[-2] for pt in imagePaths]\n",
    "classNames = [str(x) for x in np.unique(classNames)]"
   ]
  },
  {
   "cell_type": "code",
   "execution_count": 5,
   "metadata": {},
   "outputs": [
    {
     "data": {
      "text/plain": [
       "['bluebell',\n",
       " 'buttercup',\n",
       " 'coltsfoot',\n",
       " 'cowslip',\n",
       " 'crocus',\n",
       " 'daffodil',\n",
       " 'daisy',\n",
       " 'dandelion',\n",
       " 'fritillary',\n",
       " 'iris',\n",
       " 'lilyvalley',\n",
       " 'pansy',\n",
       " 'snowdrop',\n",
       " 'sunflower',\n",
       " 'tigerlily',\n",
       " 'tulip',\n",
       " 'windflower']"
      ]
     },
     "execution_count": 5,
     "metadata": {},
     "output_type": "execute_result"
    }
   ],
   "source": [
    "classNames"
   ]
  },
  {
   "cell_type": "code",
   "execution_count": 6,
   "metadata": {},
   "outputs": [],
   "source": [
    "aap = AspectAwarePreprocessor(64, 64)\n",
    "iap = ImageToArrayPreprocessor()"
   ]
  },
  {
   "cell_type": "code",
   "execution_count": 7,
   "metadata": {},
   "outputs": [
    {
     "name": "stdout",
     "output_type": "stream",
     "text": [
      "[INFO] processed 500/1360\n",
      "[INFO] processed 1000/1360\n"
     ]
    }
   ],
   "source": [
    "sdl = SimpleDatasetLoader(preprocessors=[aap, iap])\n",
    "(data, labels) = sdl.load(imagePaths, verbose=500)\n",
    "data = data.astype(\"float\")/255.0"
   ]
  },
  {
   "cell_type": "code",
   "execution_count": 8,
   "metadata": {},
   "outputs": [],
   "source": [
    "(trainX, testX, trainY, testY) = train_test_split(data, labels, test_size=0.25, random_state=42)"
   ]
  },
  {
   "cell_type": "code",
   "execution_count": 9,
   "metadata": {},
   "outputs": [],
   "source": [
    "trainY = LabelBinarizer().fit_transform(trainY)\n",
    "testY = LabelBinarizer().fit_transform(testY)"
   ]
  },
  {
   "cell_type": "code",
   "execution_count": 10,
   "metadata": {},
   "outputs": [
    {
     "name": "stdout",
     "output_type": "stream",
     "text": [
      "[INFO] Compiling model\n"
     ]
    }
   ],
   "source": [
    "print(\"[INFO] Compiling model\")\n",
    "opt = SGD(lr=0.05)\n",
    "model = MiniVGGNet.build(width=64, height=64, depth=3, classes=len(classNames))\n",
    "model.compile(loss=\"categorical_crossentropy\", optimizer=opt, metrics=['accuracy'])"
   ]
  },
  {
   "cell_type": "code",
   "execution_count": 11,
   "metadata": {},
   "outputs": [
    {
     "name": "stdout",
     "output_type": "stream",
     "text": [
      "[INFO] Training network\n",
      "Train on 1020 samples, validate on 340 samples\n",
      "Epoch 1/100\n",
      "1020/1020 [==============================] - 23s 22ms/step - loss: 3.0464 - acc: 0.2510 - val_loss: 2.6297 - val_acc: 0.3735\n",
      "Epoch 2/100\n",
      "1020/1020 [==============================] - 23s 22ms/step - loss: 1.8665 - acc: 0.4588 - val_loss: 2.1639 - val_acc: 0.4088\n",
      "Epoch 3/100\n",
      "1020/1020 [==============================] - 23s 23ms/step - loss: 1.3770 - acc: 0.5725 - val_loss: 1.9261 - val_acc: 0.4824\n",
      "Epoch 4/100\n",
      "1020/1020 [==============================] - 27s 27ms/step - loss: 1.0865 - acc: 0.6441 - val_loss: 2.0035 - val_acc: 0.4706\n",
      "Epoch 5/100\n",
      "1020/1020 [==============================] - 23s 23ms/step - loss: 0.8618 - acc: 0.7088 - val_loss: 1.5934 - val_acc: 0.5559\n",
      "Epoch 6/100\n",
      "1020/1020 [==============================] - 23s 22ms/step - loss: 0.7156 - acc: 0.7745 - val_loss: 1.6752 - val_acc: 0.5647\n",
      "Epoch 7/100\n",
      "1020/1020 [==============================] - 23s 22ms/step - loss: 0.5657 - acc: 0.7990 - val_loss: 1.7365 - val_acc: 0.5353\n",
      "Epoch 8/100\n",
      "1020/1020 [==============================] - 23s 23ms/step - loss: 0.4138 - acc: 0.8725 - val_loss: 1.4135 - val_acc: 0.6059\n",
      "Epoch 9/100\n",
      "1020/1020 [==============================] - 24s 24ms/step - loss: 0.2613 - acc: 0.9127 - val_loss: 1.4039 - val_acc: 0.6147\n",
      "Epoch 10/100\n",
      "1020/1020 [==============================] - 23s 22ms/step - loss: 0.2508 - acc: 0.9147 - val_loss: 1.6109 - val_acc: 0.5912\n",
      "Epoch 11/100\n",
      "1020/1020 [==============================] - 23s 22ms/step - loss: 0.1620 - acc: 0.9569 - val_loss: 1.3201 - val_acc: 0.6441\n",
      "Epoch 12/100\n",
      "1020/1020 [==============================] - 24s 23ms/step - loss: 0.1533 - acc: 0.9637 - val_loss: 1.2969 - val_acc: 0.6588\n",
      "Epoch 13/100\n",
      "1020/1020 [==============================] - 24s 23ms/step - loss: 0.1275 - acc: 0.9647 - val_loss: 1.5489 - val_acc: 0.6206\n",
      "Epoch 14/100\n",
      "1020/1020 [==============================] - 24s 23ms/step - loss: 0.1126 - acc: 0.9647 - val_loss: 1.4192 - val_acc: 0.6235\n",
      "Epoch 15/100\n",
      "1020/1020 [==============================] - 24s 23ms/step - loss: 0.0769 - acc: 0.9784 - val_loss: 1.4068 - val_acc: 0.6265\n",
      "Epoch 16/100\n",
      "1020/1020 [==============================] - 23s 22ms/step - loss: 0.0739 - acc: 0.9843 - val_loss: 1.4682 - val_acc: 0.6441\n",
      "Epoch 17/100\n",
      "1020/1020 [==============================] - 23s 22ms/step - loss: 0.0763 - acc: 0.9824 - val_loss: 1.3619 - val_acc: 0.6529\n",
      "Epoch 18/100\n",
      "1020/1020 [==============================] - 23s 22ms/step - loss: 0.0630 - acc: 0.9882 - val_loss: 1.5455 - val_acc: 0.6353\n",
      "Epoch 19/100\n",
      "1020/1020 [==============================] - 23s 22ms/step - loss: 0.0462 - acc: 0.9882 - val_loss: 1.4778 - val_acc: 0.6441\n",
      "Epoch 20/100\n",
      "1020/1020 [==============================] - 23s 22ms/step - loss: 0.0407 - acc: 0.9912 - val_loss: 1.5064 - val_acc: 0.6382\n",
      "Epoch 21/100\n",
      "1020/1020 [==============================] - 23s 23ms/step - loss: 0.0472 - acc: 0.9863 - val_loss: 1.4725 - val_acc: 0.6441\n",
      "Epoch 22/100\n",
      "1020/1020 [==============================] - 23s 22ms/step - loss: 0.0381 - acc: 0.9912 - val_loss: 1.4624 - val_acc: 0.6471\n",
      "Epoch 23/100\n",
      "1020/1020 [==============================] - 23s 22ms/step - loss: 0.0288 - acc: 0.9941 - val_loss: 1.4521 - val_acc: 0.6618\n",
      "Epoch 24/100\n",
      "1020/1020 [==============================] - 23s 22ms/step - loss: 0.0322 - acc: 0.9941 - val_loss: 1.4351 - val_acc: 0.6735\n",
      "Epoch 25/100\n",
      "1020/1020 [==============================] - 23s 22ms/step - loss: 0.0327 - acc: 0.9902 - val_loss: 1.5147 - val_acc: 0.6324\n",
      "Epoch 26/100\n",
      "1020/1020 [==============================] - 23s 22ms/step - loss: 0.0276 - acc: 0.9971 - val_loss: 1.4784 - val_acc: 0.6824\n",
      "Epoch 27/100\n",
      "1020/1020 [==============================] - 23s 22ms/step - loss: 0.0342 - acc: 0.9912 - val_loss: 1.4166 - val_acc: 0.6706\n",
      "Epoch 28/100\n",
      "1020/1020 [==============================] - 23s 22ms/step - loss: 0.0317 - acc: 0.9951 - val_loss: 1.4298 - val_acc: 0.6676\n",
      "Epoch 29/100\n",
      "1020/1020 [==============================] - 24s 23ms/step - loss: 0.0316 - acc: 0.9892 - val_loss: 1.5708 - val_acc: 0.6529\n",
      "Epoch 30/100\n",
      "1020/1020 [==============================] - 24s 24ms/step - loss: 0.0269 - acc: 0.9941 - val_loss: 1.5376 - val_acc: 0.6500\n",
      "Epoch 31/100\n",
      "1020/1020 [==============================] - 23s 23ms/step - loss: 0.0388 - acc: 0.9853 - val_loss: 1.5329 - val_acc: 0.6353\n",
      "Epoch 32/100\n",
      "1020/1020 [==============================] - 24s 23ms/step - loss: 0.0331 - acc: 0.9941 - val_loss: 1.6338 - val_acc: 0.6324\n",
      "Epoch 33/100\n",
      "1020/1020 [==============================] - 23s 23ms/step - loss: 0.0243 - acc: 0.9951 - val_loss: 1.5532 - val_acc: 0.6471\n",
      "Epoch 34/100\n",
      "1020/1020 [==============================] - 23s 23ms/step - loss: 0.0188 - acc: 0.9951 - val_loss: 1.5494 - val_acc: 0.6618\n",
      "Epoch 35/100\n",
      "1020/1020 [==============================] - 25s 25ms/step - loss: 0.0215 - acc: 0.9941 - val_loss: 1.4928 - val_acc: 0.6559\n",
      "Epoch 36/100\n",
      "1020/1020 [==============================] - 28s 28ms/step - loss: 0.0175 - acc: 0.9961 - val_loss: 1.5106 - val_acc: 0.6441\n",
      "Epoch 37/100\n",
      "1020/1020 [==============================] - 33s 32ms/step - loss: 0.0144 - acc: 0.9990 - val_loss: 1.5301 - val_acc: 0.6471\n",
      "Epoch 38/100\n",
      "1020/1020 [==============================] - 32s 32ms/step - loss: 0.0131 - acc: 0.9990 - val_loss: 1.5544 - val_acc: 0.6588\n",
      "Epoch 39/100\n",
      "1020/1020 [==============================] - 33s 32ms/step - loss: 0.0158 - acc: 0.9971 - val_loss: 1.6128 - val_acc: 0.6412\n",
      "Epoch 40/100\n",
      "1020/1020 [==============================] - 32s 32ms/step - loss: 0.0131 - acc: 0.9990 - val_loss: 1.6489 - val_acc: 0.6353\n",
      "Epoch 41/100\n",
      "1020/1020 [==============================] - 32s 32ms/step - loss: 0.0130 - acc: 0.9980 - val_loss: 1.6651 - val_acc: 0.6441\n",
      "Epoch 42/100\n",
      "1020/1020 [==============================] - 33s 32ms/step - loss: 0.0181 - acc: 0.9961 - val_loss: 1.5344 - val_acc: 0.6471\n",
      "Epoch 43/100\n",
      "1020/1020 [==============================] - 33s 32ms/step - loss: 0.0168 - acc: 0.9961 - val_loss: 1.5947 - val_acc: 0.6618\n",
      "Epoch 44/100\n",
      "1020/1020 [==============================] - 33s 32ms/step - loss: 0.0118 - acc: 0.9990 - val_loss: 1.4997 - val_acc: 0.6676\n",
      "Epoch 45/100\n",
      "1020/1020 [==============================] - 33s 32ms/step - loss: 0.0128 - acc: 0.9990 - val_loss: 1.5270 - val_acc: 0.6618\n",
      "Epoch 46/100\n",
      "1020/1020 [==============================] - 33s 33ms/step - loss: 0.0115 - acc: 1.0000 - val_loss: 1.5825 - val_acc: 0.6559\n",
      "Epoch 47/100\n",
      "1020/1020 [==============================] - 711s 697ms/step - loss: 0.0072 - acc: 0.9990 - val_loss: 1.5242 - val_acc: 0.6647\n",
      "Epoch 48/100\n",
      "1020/1020 [==============================] - 26s 25ms/step - loss: 0.0113 - acc: 0.9990 - val_loss: 1.5436 - val_acc: 0.6471\n",
      "Epoch 49/100\n",
      "1020/1020 [==============================] - 24s 23ms/step - loss: 0.0077 - acc: 1.0000 - val_loss: 1.5390 - val_acc: 0.6500\n",
      "Epoch 50/100\n",
      "1020/1020 [==============================] - 24s 23ms/step - loss: 0.0160 - acc: 0.9951 - val_loss: 1.5479 - val_acc: 0.6706\n",
      "Epoch 51/100\n",
      "1020/1020 [==============================] - 23s 23ms/step - loss: 0.0086 - acc: 0.9990 - val_loss: 1.5427 - val_acc: 0.6559\n",
      "Epoch 52/100\n",
      "1020/1020 [==============================] - 23s 23ms/step - loss: 0.0077 - acc: 0.9990 - val_loss: 1.5592 - val_acc: 0.6441\n",
      "Epoch 53/100\n",
      "1020/1020 [==============================] - 23s 22ms/step - loss: 0.0085 - acc: 0.9990 - val_loss: 1.5911 - val_acc: 0.6412\n",
      "Epoch 54/100\n",
      "1020/1020 [==============================] - 23s 23ms/step - loss: 0.0089 - acc: 0.9990 - val_loss: 1.5529 - val_acc: 0.6647\n",
      "Epoch 55/100\n",
      "1020/1020 [==============================] - 24s 23ms/step - loss: 0.0047 - acc: 1.0000 - val_loss: 1.5535 - val_acc: 0.6500\n",
      "Epoch 56/100\n",
      "1020/1020 [==============================] - 23s 23ms/step - loss: 0.0074 - acc: 0.9990 - val_loss: 1.5748 - val_acc: 0.6559\n",
      "Epoch 57/100\n",
      "1020/1020 [==============================] - 23s 22ms/step - loss: 0.0096 - acc: 0.9980 - val_loss: 1.6063 - val_acc: 0.6471\n",
      "Epoch 58/100\n",
      "1020/1020 [==============================] - 23s 22ms/step - loss: 0.0085 - acc: 1.0000 - val_loss: 1.6017 - val_acc: 0.6471\n",
      "Epoch 59/100\n",
      "1020/1020 [==============================] - 23s 22ms/step - loss: 0.0083 - acc: 0.9971 - val_loss: 1.5757 - val_acc: 0.6500\n",
      "Epoch 60/100\n",
      "1020/1020 [==============================] - 23s 22ms/step - loss: 0.0069 - acc: 1.0000 - val_loss: 1.5705 - val_acc: 0.6529\n",
      "Epoch 61/100\n",
      "1020/1020 [==============================] - 23s 22ms/step - loss: 0.0131 - acc: 0.9971 - val_loss: 1.5302 - val_acc: 0.6529\n",
      "Epoch 62/100\n",
      "1020/1020 [==============================] - 23s 22ms/step - loss: 0.0043 - acc: 1.0000 - val_loss: 1.5567 - val_acc: 0.6618\n",
      "Epoch 63/100\n",
      "1020/1020 [==============================] - 23s 22ms/step - loss: 0.0051 - acc: 1.0000 - val_loss: 1.5536 - val_acc: 0.6529\n",
      "Epoch 64/100\n",
      "1020/1020 [==============================] - 23s 22ms/step - loss: 0.0046 - acc: 1.0000 - val_loss: 1.5595 - val_acc: 0.6618\n",
      "Epoch 65/100\n",
      "1020/1020 [==============================] - 23s 22ms/step - loss: 0.0064 - acc: 0.9990 - val_loss: 1.6081 - val_acc: 0.6559\n",
      "Epoch 66/100\n",
      "1020/1020 [==============================] - 23s 22ms/step - loss: 0.0062 - acc: 1.0000 - val_loss: 1.7464 - val_acc: 0.6147\n",
      "Epoch 67/100\n",
      "1020/1020 [==============================] - 22s 22ms/step - loss: 0.0110 - acc: 0.9990 - val_loss: 1.7289 - val_acc: 0.6382\n",
      "Epoch 68/100\n",
      "1020/1020 [==============================] - 23s 22ms/step - loss: 0.0054 - acc: 1.0000 - val_loss: 1.6650 - val_acc: 0.6382\n",
      "Epoch 69/100\n",
      "1020/1020 [==============================] - 23s 22ms/step - loss: 0.0053 - acc: 1.0000 - val_loss: 1.6499 - val_acc: 0.6412\n",
      "Epoch 70/100\n",
      "1020/1020 [==============================] - 23s 22ms/step - loss: 0.0048 - acc: 0.9990 - val_loss: 1.5996 - val_acc: 0.6382\n",
      "Epoch 71/100\n",
      "1020/1020 [==============================] - 23s 22ms/step - loss: 0.0066 - acc: 0.9990 - val_loss: 1.5827 - val_acc: 0.6588\n",
      "Epoch 72/100\n",
      "1020/1020 [==============================] - 23s 22ms/step - loss: 0.0051 - acc: 1.0000 - val_loss: 1.6022 - val_acc: 0.6559\n",
      "Epoch 73/100\n",
      "1020/1020 [==============================] - 23s 22ms/step - loss: 0.0062 - acc: 0.9990 - val_loss: 1.6488 - val_acc: 0.6765\n",
      "Epoch 74/100\n",
      "1020/1020 [==============================] - 23s 22ms/step - loss: 0.0080 - acc: 0.9980 - val_loss: 1.7287 - val_acc: 0.6529\n",
      "Epoch 75/100\n",
      "1020/1020 [==============================] - 23s 22ms/step - loss: 0.0057 - acc: 1.0000 - val_loss: 1.6585 - val_acc: 0.6676\n",
      "Epoch 76/100\n",
      "1020/1020 [==============================] - 21s 21ms/step - loss: 0.0073 - acc: 0.9980 - val_loss: 1.7440 - val_acc: 0.6618\n",
      "Epoch 77/100\n",
      "1020/1020 [==============================] - 23s 22ms/step - loss: 0.0075 - acc: 0.9980 - val_loss: 1.8257 - val_acc: 0.6353\n",
      "Epoch 78/100\n",
      "1020/1020 [==============================] - 23s 22ms/step - loss: 0.0086 - acc: 0.9980 - val_loss: 1.7669 - val_acc: 0.6441\n",
      "Epoch 79/100\n",
      "1020/1020 [==============================] - 23s 22ms/step - loss: 0.0075 - acc: 0.9990 - val_loss: 1.7065 - val_acc: 0.6500\n",
      "Epoch 80/100\n",
      "1020/1020 [==============================] - 23s 22ms/step - loss: 0.0050 - acc: 1.0000 - val_loss: 1.7186 - val_acc: 0.6441\n",
      "Epoch 81/100\n",
      "1020/1020 [==============================] - 23s 23ms/step - loss: 0.0046 - acc: 0.9990 - val_loss: 1.6940 - val_acc: 0.6529\n",
      "Epoch 82/100\n",
      "1020/1020 [==============================] - 23s 23ms/step - loss: 0.0054 - acc: 0.9990 - val_loss: 1.6626 - val_acc: 0.6618\n",
      "Epoch 83/100\n",
      "1020/1020 [==============================] - 23s 22ms/step - loss: 0.0036 - acc: 1.0000 - val_loss: 1.6558 - val_acc: 0.6471\n",
      "Epoch 84/100\n",
      "1020/1020 [==============================] - 23s 22ms/step - loss: 0.0045 - acc: 1.0000 - val_loss: 1.6737 - val_acc: 0.6588\n",
      "Epoch 85/100\n",
      "1020/1020 [==============================] - 23s 22ms/step - loss: 0.0045 - acc: 1.0000 - val_loss: 1.7308 - val_acc: 0.6500\n",
      "Epoch 86/100\n",
      "1020/1020 [==============================] - 23s 23ms/step - loss: 0.0052 - acc: 1.0000 - val_loss: 1.7063 - val_acc: 0.6588\n",
      "Epoch 87/100\n",
      "1020/1020 [==============================] - 23s 23ms/step - loss: 0.0035 - acc: 1.0000 - val_loss: 1.6925 - val_acc: 0.6647\n",
      "Epoch 88/100\n",
      "1020/1020 [==============================] - 22s 22ms/step - loss: 0.0057 - acc: 0.9990 - val_loss: 1.7151 - val_acc: 0.6471\n",
      "Epoch 89/100\n",
      "1020/1020 [==============================] - 24s 23ms/step - loss: 0.0035 - acc: 1.0000 - val_loss: 1.7027 - val_acc: 0.6618\n",
      "Epoch 90/100\n",
      "1020/1020 [==============================] - 23s 23ms/step - loss: 0.0053 - acc: 0.9990 - val_loss: 1.7039 - val_acc: 0.6647\n",
      "Epoch 91/100\n",
      "1020/1020 [==============================] - 24s 23ms/step - loss: 0.0033 - acc: 0.9990 - val_loss: 1.6829 - val_acc: 0.6676\n",
      "Epoch 92/100\n",
      "1020/1020 [==============================] - 23s 22ms/step - loss: 0.0031 - acc: 1.0000 - val_loss: 1.6809 - val_acc: 0.6676\n",
      "Epoch 93/100\n",
      "1020/1020 [==============================] - 23s 23ms/step - loss: 0.0056 - acc: 0.9990 - val_loss: 1.7257 - val_acc: 0.6412\n",
      "Epoch 94/100\n",
      "1020/1020 [==============================] - 23s 23ms/step - loss: 0.0050 - acc: 0.9990 - val_loss: 1.6967 - val_acc: 0.6647\n",
      "Epoch 95/100\n",
      "1020/1020 [==============================] - 23s 22ms/step - loss: 0.0038 - acc: 1.0000 - val_loss: 1.6422 - val_acc: 0.6706\n",
      "Epoch 96/100\n",
      "1020/1020 [==============================] - 23s 23ms/step - loss: 0.0053 - acc: 0.9990 - val_loss: 1.6704 - val_acc: 0.6412\n",
      "Epoch 97/100\n",
      "1020/1020 [==============================] - 23s 23ms/step - loss: 0.0065 - acc: 0.9990 - val_loss: 1.6813 - val_acc: 0.6618\n",
      "Epoch 98/100\n",
      "1020/1020 [==============================] - 23s 22ms/step - loss: 0.0036 - acc: 0.9990 - val_loss: 1.6231 - val_acc: 0.6618\n",
      "Epoch 99/100\n",
      "1020/1020 [==============================] - 23s 23ms/step - loss: 0.0057 - acc: 0.9980 - val_loss: 1.6810 - val_acc: 0.6647\n",
      "Epoch 100/100\n",
      "1020/1020 [==============================] - 23s 23ms/step - loss: 0.0034 - acc: 1.0000 - val_loss: 1.6434 - val_acc: 0.6706\n"
     ]
    }
   ],
   "source": [
    "print(\"[INFO] Training network\")\n",
    "H = model.fit(trainX, trainY, validation_data=(testX, testY), batch_size=32, epochs=100, verbose=1)"
   ]
  },
  {
   "cell_type": "code",
   "execution_count": 12,
   "metadata": {},
   "outputs": [
    {
     "name": "stdout",
     "output_type": "stream",
     "text": [
      "[INFO] evaluating network\n",
      "             precision    recall  f1-score   support\n",
      "\n",
      "   bluebell       0.64      0.88      0.74        16\n",
      "  buttercup       0.60      0.60      0.60        15\n",
      "  coltsfoot       0.62      0.50      0.56        20\n",
      "    cowslip       0.53      0.56      0.54        18\n",
      "     crocus       0.50      0.60      0.55        20\n",
      "   daffodil       0.59      0.43      0.50        23\n",
      "      daisy       0.82      0.74      0.78        19\n",
      "  dandelion       0.52      0.67      0.59        18\n",
      " fritillary       0.67      0.84      0.74        19\n",
      "       iris       1.00      0.62      0.76        21\n",
      " lilyvalley       0.65      0.65      0.65        20\n",
      "      pansy       1.00      0.63      0.77        27\n",
      "   snowdrop       0.46      0.55      0.50        22\n",
      "  sunflower       0.95      0.91      0.93        23\n",
      "  tigerlily       0.94      0.94      0.94        16\n",
      "      tulip       0.43      0.65      0.52        20\n",
      " windflower       0.89      0.74      0.81        23\n",
      "\n",
      "avg / total       0.71      0.67      0.68       340\n",
      "\n"
     ]
    }
   ],
   "source": [
    "print(\"[INFO] evaluating network\")\n",
    "predictions = model.predict(testX, batch_size=32)\n",
    "print(classification_report(testY.argmax(axis=1), predictions.argmax(axis=1), target_names=classNames))\n"
   ]
  },
  {
   "cell_type": "code",
   "execution_count": 13,
   "metadata": {},
   "outputs": [
    {
     "data": {
      "image/png": "[encoded data removed]",
      "text/plain": [
       "<matplotlib.figure.Figure at 0x1a3147ab70>"
      ]
     },
     "metadata": {},
     "output_type": "display_data"
    }
   ],
   "source": [
    "# plot the training loss and accuracy\n",
    "plt.style.use(\"ggplot\")\n",
    "plt.figure()\n",
    "plt.plot(np.arange(0, 100), H.history[\"loss\"], label=\"train_loss\")\n",
    "plt.plot(np.arange(0, 100), H.history[\"val_loss\"], label=\"val_loss\")\n",
    "plt.plot(np.arange(0, 100), H.history[\"acc\"], label=\"train_acc\")\n",
    "plt.plot(np.arange(0, 100), H.history[\"val_acc\"], label=\"val_acc\")\n",
    "plt.title(\"Training Loss and Accuracy\")\n",
    "plt.xlabel(\"Epoch #\")\n",
    "plt.ylabel(\"Loss/Accuracy\")\n",
    "plt.legend()\n",
    "plt.show()"
   ]
  },
  {
   "cell_type": "code",
   "execution_count": null,
   "metadata": {},
   "outputs": [],
   "source": [
    "\n",
    "\n",
    "\n",
    "\n",
    "\n",
    "\n",
    "\n",
    "\n",
    "\n",
    "\n",
    "\n",
    "\n",
    "\n",
    "\n",
    "\n",
    "\n",
    "\n",
    "\n",
    "\n",
    "\n"
   ]
  }
 ],
 "metadata": {
  "kernelspec": {
   "display_name": "Python 3",
   "language": "python",
   "name": "python3"
  },
  "language_info": {
   "codemirror_mode": {
    "name": "ipython",
    "version": 3
   },
   "file_extension": ".py",
   "mimetype": "text/x-python",
   "name": "python",
   "nbconvert_exporter": "python",
   "pygments_lexer": "ipython3",
   "version": "3.6.4"
  }
 },
 "nbformat": 4,
 "nbformat_minor": 2
}
