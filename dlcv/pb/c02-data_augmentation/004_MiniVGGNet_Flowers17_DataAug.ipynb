{
 "cells": [
  {
   "cell_type": "code",
   "execution_count": 1,
   "metadata": {},
   "outputs": [
    {
     "name": "stderr",
     "output_type": "stream",
     "text": [
      "Using TensorFlow backend.\n"
     ]
    }
   ],
   "source": [
    "from sklearn.preprocessing import LabelBinarizer\n",
    "from sklearn.model_selection import train_test_split\n",
    "from sklearn.metrics import classification_report\n",
    "from keras.preprocessing.image import ImageDataGenerator\n",
    "from keras.optimizers import SGD\n",
    "from imutils import paths\n",
    "import matplotlib.pyplot as plt\n",
    "import numpy as np"
   ]
  },
  {
   "cell_type": "code",
   "execution_count": 2,
   "metadata": {},
   "outputs": [],
   "source": [
    "IMG_HELP_PATH = '/Users/shankar/dev/code/ds/studies/data_science/dlcv'\n",
    "import os\n",
    "import sys\n",
    "sys.path.append(os.path.abspath(IMG_HELP_PATH))\n",
    "from common.preprocessing import ImageToArrayPreprocessor\n",
    "from common.preprocessing import AspectAwarePreprocessor\n",
    "from common.datasets import SimpleDatasetLoader\n",
    "from common.nn.conv import MiniVGGNet"
   ]
  },
  {
   "cell_type": "code",
   "execution_count": 3,
   "metadata": {},
   "outputs": [],
   "source": [
    "DATASET = '../datasets/flowers17/images'"
   ]
  },
  {
   "cell_type": "code",
   "execution_count": 4,
   "metadata": {},
   "outputs": [
    {
     "name": "stdout",
     "output_type": "stream",
     "text": [
      "[INFO] Loading images\n"
     ]
    }
   ],
   "source": [
    "print(\"[INFO] Loading images\")\n",
    "imagePaths = list(paths.list_images(DATASET))\n",
    "classNames = [ pt.split(os.path.sep)[-2] for pt in imagePaths]\n",
    "classNames = [str(x) for x in np.unique(classNames)]"
   ]
  },
  {
   "cell_type": "code",
   "execution_count": 5,
   "metadata": {},
   "outputs": [],
   "source": [
    "aap = AspectAwarePreprocessor(64, 64)\n",
    "iap = ImageToArrayPreprocessor()"
   ]
  },
  {
   "cell_type": "code",
   "execution_count": 6,
   "metadata": {},
   "outputs": [
    {
     "name": "stdout",
     "output_type": "stream",
     "text": [
      "[INFO] processed 500/1360\n",
      "[INFO] processed 1000/1360\n"
     ]
    }
   ],
   "source": [
    "sdl = SimpleDatasetLoader(preprocessors=[aap, iap])\n",
    "(data, labels) = sdl.load(imagePaths, verbose=500)\n",
    "data = data.astype(\"float\")/255.0"
   ]
  },
  {
   "cell_type": "code",
   "execution_count": 7,
   "metadata": {},
   "outputs": [],
   "source": [
    "(trainX, testX, trainY, testY) = train_test_split(data, labels,\n",
    "    test_size=0.25, random_state=42)"
   ]
  },
  {
   "cell_type": "code",
   "execution_count": 8,
   "metadata": {},
   "outputs": [],
   "source": [
    "trainY = LabelBinarizer().fit_transform(trainY)\n",
    "testY = LabelBinarizer().fit_transform(testY)"
   ]
  },
  {
   "cell_type": "code",
   "execution_count": 9,
   "metadata": {},
   "outputs": [],
   "source": [
    "aug = ImageDataGenerator(\n",
    "    rotation_range=30,\n",
    "    width_shift_range=0.1,\n",
    "    height_shift_range=0.1,\n",
    "    shear_range=0.2,\n",
    "    zoom_range=0.2,\n",
    "    horizontal_flip=True,\n",
    "    fill_mode='nearest'\n",
    ")"
   ]
  },
  {
   "cell_type": "code",
   "execution_count": 10,
   "metadata": {},
   "outputs": [
    {
     "name": "stdout",
     "output_type": "stream",
     "text": [
      "[INFO] Compiling model\n"
     ]
    }
   ],
   "source": [
    "print(\"[INFO] Compiling model\")\n",
    "opt = SGD(lr=0.05)\n",
    "model = MiniVGGNet.build(width=64, height=64, depth=3, classes=len(classNames))\n",
    "model.compile(loss=\"categorical_crossentropy\", optimizer=opt, metrics=['accuracy'])"
   ]
  },
  {
   "cell_type": "code",
   "execution_count": 11,
   "metadata": {},
   "outputs": [
    {
     "name": "stdout",
     "output_type": "stream",
     "text": [
      "[INFO] Training Network\n",
      "Epoch 1/100\n",
      "31/31 [==============================] - 22s 724ms/step - loss: 3.4530 - acc: 0.1829 - val_loss: 3.5023 - val_acc: 0.2412\n",
      "Epoch 2/100\n",
      "31/31 [==============================] - 22s 708ms/step - loss: 2.5351 - acc: 0.2951 - val_loss: 2.5256 - val_acc: 0.3706\n",
      "Epoch 3/100\n",
      "31/31 [==============================] - 22s 710ms/step - loss: 2.2560 - acc: 0.3698 - val_loss: 2.0499 - val_acc: 0.4206\n",
      "Epoch 4/100\n",
      "31/31 [==============================] - 22s 705ms/step - loss: 2.0437 - acc: 0.3908 - val_loss: 1.9428 - val_acc: 0.4559\n",
      "Epoch 5/100\n",
      "31/31 [==============================] - 22s 707ms/step - loss: 1.9941 - acc: 0.4244 - val_loss: 1.8326 - val_acc: 0.5088\n",
      "Epoch 6/100\n",
      "31/31 [==============================] - 22s 711ms/step - loss: 1.7273 - acc: 0.4929 - val_loss: 1.6316 - val_acc: 0.5206\n",
      "Epoch 7/100\n",
      "31/31 [==============================] - 22s 706ms/step - loss: 1.6191 - acc: 0.4929 - val_loss: 1.8498 - val_acc: 0.5000\n",
      "Epoch 8/100\n",
      "31/31 [==============================] - 22s 707ms/step - loss: 1.4783 - acc: 0.5278 - val_loss: 1.7669 - val_acc: 0.5353\n",
      "Epoch 9/100\n",
      "31/31 [==============================] - 22s 706ms/step - loss: 1.4562 - acc: 0.5513 - val_loss: 1.4181 - val_acc: 0.5618\n",
      "Epoch 10/100\n",
      "31/31 [==============================] - 22s 708ms/step - loss: 1.4261 - acc: 0.5464 - val_loss: 1.4950 - val_acc: 0.5588\n",
      "Epoch 11/100\n",
      "31/31 [==============================] - 22s 708ms/step - loss: 1.4142 - acc: 0.5667 - val_loss: 1.3408 - val_acc: 0.5941\n",
      "Epoch 12/100\n",
      "31/31 [==============================] - 22s 709ms/step - loss: 1.3325 - acc: 0.5736 - val_loss: 1.9430 - val_acc: 0.5500\n",
      "Epoch 13/100\n",
      "31/31 [==============================] - 22s 707ms/step - loss: 1.3283 - acc: 0.5753 - val_loss: 1.5165 - val_acc: 0.5647\n",
      "Epoch 14/100\n",
      "31/31 [==============================] - 22s 715ms/step - loss: 1.2719 - acc: 0.5766 - val_loss: 1.6346 - val_acc: 0.5529\n",
      "Epoch 15/100\n",
      "31/31 [==============================] - 22s 723ms/step - loss: 1.1906 - acc: 0.6234 - val_loss: 1.2437 - val_acc: 0.6147\n",
      "Epoch 16/100\n",
      "31/31 [==============================] - 22s 706ms/step - loss: 1.2500 - acc: 0.6135 - val_loss: 1.1999 - val_acc: 0.6353\n",
      "Epoch 17/100\n",
      "31/31 [==============================] - 22s 711ms/step - loss: 1.1194 - acc: 0.6407 - val_loss: 1.1117 - val_acc: 0.6559\n",
      "Epoch 18/100\n",
      "31/31 [==============================] - 22s 710ms/step - loss: 1.1345 - acc: 0.6306 - val_loss: 1.2990 - val_acc: 0.6235\n",
      "Epoch 19/100\n",
      "31/31 [==============================] - 22s 708ms/step - loss: 1.0293 - acc: 0.6547 - val_loss: 1.1611 - val_acc: 0.6206\n",
      "Epoch 20/100\n",
      "31/31 [==============================] - 22s 709ms/step - loss: 1.0445 - acc: 0.6411 - val_loss: 1.1134 - val_acc: 0.6735\n",
      "Epoch 21/100\n",
      "31/31 [==============================] - 22s 706ms/step - loss: 1.0167 - acc: 0.6858 - val_loss: 1.0743 - val_acc: 0.6471\n",
      "Epoch 22/100\n",
      "31/31 [==============================] - 22s 712ms/step - loss: 0.9998 - acc: 0.6570 - val_loss: 1.1958 - val_acc: 0.6559\n",
      "Epoch 23/100\n",
      "31/31 [==============================] - 22s 709ms/step - loss: 0.9863 - acc: 0.6619 - val_loss: 1.2449 - val_acc: 0.6059\n",
      "Epoch 24/100\n",
      "31/31 [==============================] - 22s 713ms/step - loss: 0.9717 - acc: 0.6729 - val_loss: 1.0251 - val_acc: 0.7059\n",
      "Epoch 25/100\n",
      "31/31 [==============================] - 22s 714ms/step - loss: 0.9279 - acc: 0.6931 - val_loss: 1.1454 - val_acc: 0.6794\n",
      "Epoch 26/100\n",
      "31/31 [==============================] - 22s 711ms/step - loss: 0.9479 - acc: 0.6875 - val_loss: 2.0422 - val_acc: 0.4647\n",
      "Epoch 27/100\n",
      "31/31 [==============================] - 22s 706ms/step - loss: 0.9047 - acc: 0.6973 - val_loss: 1.2759 - val_acc: 0.6471\n",
      "Epoch 28/100\n",
      "31/31 [==============================] - 22s 709ms/step - loss: 0.8259 - acc: 0.7198 - val_loss: 1.0079 - val_acc: 0.6971\n",
      "Epoch 29/100\n",
      "31/31 [==============================] - 22s 710ms/step - loss: 0.8476 - acc: 0.7192 - val_loss: 0.9923 - val_acc: 0.6941\n",
      "Epoch 30/100\n",
      "31/31 [==============================] - 22s 721ms/step - loss: 0.8073 - acc: 0.7167 - val_loss: 1.2772 - val_acc: 0.6353\n",
      "Epoch 31/100\n",
      "31/31 [==============================] - 22s 714ms/step - loss: 0.8243 - acc: 0.7114 - val_loss: 1.1763 - val_acc: 0.6618\n",
      "Epoch 32/100\n",
      "31/31 [==============================] - 61s 2s/step - loss: 0.7416 - acc: 0.7503 - val_loss: 0.9981 - val_acc: 0.7029\n",
      "Epoch 33/100\n",
      "31/31 [==============================] - 23s 753ms/step - loss: 0.7767 - acc: 0.7153 - val_loss: 1.0128 - val_acc: 0.7118\n",
      "Epoch 34/100\n",
      "31/31 [==============================] - 23s 743ms/step - loss: 0.7243 - acc: 0.7509 - val_loss: 1.3478 - val_acc: 0.6176\n",
      "Epoch 35/100\n",
      "31/31 [==============================] - 23s 740ms/step - loss: 0.7551 - acc: 0.7550 - val_loss: 1.1445 - val_acc: 0.6794\n",
      "Epoch 36/100\n",
      "31/31 [==============================] - 23s 738ms/step - loss: 0.6653 - acc: 0.7684 - val_loss: 1.1987 - val_acc: 0.6735\n",
      "Epoch 37/100\n",
      "31/31 [==============================] - 25s 819ms/step - loss: 0.6660 - acc: 0.7742 - val_loss: 1.2528 - val_acc: 0.6706\n",
      "Epoch 38/100\n",
      "31/31 [==============================] - 30s 960ms/step - loss: 0.7024 - acc: 0.7722 - val_loss: 1.7017 - val_acc: 0.5941\n",
      "Epoch 39/100\n",
      "31/31 [==============================] - 25s 815ms/step - loss: 0.6656 - acc: 0.7824 - val_loss: 0.9400 - val_acc: 0.7147\n",
      "Epoch 40/100\n",
      "31/31 [==============================] - 24s 766ms/step - loss: 0.6162 - acc: 0.7843 - val_loss: 1.0491 - val_acc: 0.6941\n",
      "Epoch 41/100\n",
      "31/31 [==============================] - 23s 753ms/step - loss: 0.6352 - acc: 0.7805 - val_loss: 1.0096 - val_acc: 0.6882\n",
      "Epoch 42/100\n",
      "31/31 [==============================] - 24s 785ms/step - loss: 0.6543 - acc: 0.7732 - val_loss: 1.1521 - val_acc: 0.6853\n",
      "Epoch 43/100\n",
      "31/31 [==============================] - 24s 773ms/step - loss: 0.5897 - acc: 0.7955 - val_loss: 1.1534 - val_acc: 0.6618\n",
      "Epoch 44/100\n",
      "31/31 [==============================] - 25s 822ms/step - loss: 0.5509 - acc: 0.8178 - val_loss: 0.9107 - val_acc: 0.7382\n",
      "Epoch 45/100\n",
      "31/31 [==============================] - 23s 755ms/step - loss: 0.5911 - acc: 0.7994 - val_loss: 0.9696 - val_acc: 0.6971\n",
      "Epoch 46/100\n",
      "31/31 [==============================] - 24s 765ms/step - loss: 0.5814 - acc: 0.7910 - val_loss: 1.0289 - val_acc: 0.7147\n",
      "Epoch 47/100\n",
      "31/31 [==============================] - 23s 735ms/step - loss: 0.5835 - acc: 0.7936 - val_loss: 1.0878 - val_acc: 0.7000\n",
      "Epoch 48/100\n",
      "31/31 [==============================] - 23s 743ms/step - loss: 0.5986 - acc: 0.8034 - val_loss: 0.9274 - val_acc: 0.7235\n",
      "Epoch 49/100\n",
      "31/31 [==============================] - 23s 738ms/step - loss: 0.5874 - acc: 0.8034 - val_loss: 0.8679 - val_acc: 0.7500\n",
      "Epoch 50/100\n",
      "31/31 [==============================] - 24s 762ms/step - loss: 0.5378 - acc: 0.8221 - val_loss: 1.3873 - val_acc: 0.6500\n",
      "Epoch 51/100\n",
      "31/31 [==============================] - 23s 755ms/step - loss: 0.4919 - acc: 0.8377 - val_loss: 0.9404 - val_acc: 0.7529\n",
      "Epoch 52/100\n",
      "31/31 [==============================] - 23s 744ms/step - loss: 0.5059 - acc: 0.8354 - val_loss: 1.0171 - val_acc: 0.7265\n",
      "Epoch 53/100\n",
      "31/31 [==============================] - 24s 760ms/step - loss: 0.5443 - acc: 0.8135 - val_loss: 1.0297 - val_acc: 0.7353\n",
      "Epoch 54/100\n",
      "31/31 [==============================] - 24s 760ms/step - loss: 0.5422 - acc: 0.8162 - val_loss: 0.9448 - val_acc: 0.7324\n",
      "Epoch 55/100\n",
      "31/31 [==============================] - 23s 749ms/step - loss: 0.5220 - acc: 0.8188 - val_loss: 0.9483 - val_acc: 0.7382\n",
      "Epoch 56/100\n",
      "31/31 [==============================] - 25s 807ms/step - loss: 0.5397 - acc: 0.8155 - val_loss: 1.1454 - val_acc: 0.7000\n",
      "Epoch 57/100\n",
      "31/31 [==============================] - 26s 831ms/step - loss: 0.5108 - acc: 0.8258 - val_loss: 1.0144 - val_acc: 0.7382\n",
      "Epoch 58/100\n",
      "31/31 [==============================] - 24s 776ms/step - loss: 0.4546 - acc: 0.8633 - val_loss: 0.9964 - val_acc: 0.7471\n",
      "Epoch 59/100\n",
      "31/31 [==============================] - 24s 762ms/step - loss: 0.5236 - acc: 0.8288 - val_loss: 1.1017 - val_acc: 0.7088\n",
      "Epoch 60/100\n",
      "31/31 [==============================] - 24s 760ms/step - loss: 0.4454 - acc: 0.8432 - val_loss: 1.1762 - val_acc: 0.7118\n",
      "Epoch 61/100\n",
      "31/31 [==============================] - 23s 752ms/step - loss: 0.4704 - acc: 0.8301 - val_loss: 0.9585 - val_acc: 0.7500\n",
      "Epoch 62/100\n",
      "31/31 [==============================] - 23s 747ms/step - loss: 0.4556 - acc: 0.8397 - val_loss: 1.0112 - val_acc: 0.7412\n",
      "Epoch 63/100\n",
      "31/31 [==============================] - 24s 762ms/step - loss: 0.4157 - acc: 0.8531 - val_loss: 0.9789 - val_acc: 0.7441\n",
      "Epoch 64/100\n",
      "31/31 [==============================] - 23s 738ms/step - loss: 0.4313 - acc: 0.8534 - val_loss: 1.1332 - val_acc: 0.7147\n",
      "Epoch 65/100\n",
      "31/31 [==============================] - 24s 763ms/step - loss: 0.4784 - acc: 0.8380 - val_loss: 1.2690 - val_acc: 0.6971\n",
      "Epoch 66/100\n",
      "31/31 [==============================] - 25s 806ms/step - loss: 0.4667 - acc: 0.8427 - val_loss: 1.4347 - val_acc: 0.6618\n",
      "Epoch 67/100\n",
      "31/31 [==============================] - 23s 748ms/step - loss: 0.4451 - acc: 0.8351 - val_loss: 1.0495 - val_acc: 0.7529\n",
      "Epoch 68/100\n",
      "31/31 [==============================] - 23s 739ms/step - loss: 0.3439 - acc: 0.8770 - val_loss: 1.1964 - val_acc: 0.7265\n",
      "Epoch 69/100\n",
      "31/31 [==============================] - 23s 744ms/step - loss: 0.4310 - acc: 0.8540 - val_loss: 0.9736 - val_acc: 0.7588\n",
      "Epoch 70/100\n",
      "31/31 [==============================] - 23s 744ms/step - loss: 0.4001 - acc: 0.8695 - val_loss: 0.9325 - val_acc: 0.7559\n",
      "Epoch 71/100\n",
      "31/31 [==============================] - 23s 753ms/step - loss: 0.3725 - acc: 0.8675 - val_loss: 1.3232 - val_acc: 0.6824\n",
      "Epoch 72/100\n",
      "31/31 [==============================] - 23s 749ms/step - loss: 0.3712 - acc: 0.8687 - val_loss: 1.0049 - val_acc: 0.7618\n",
      "Epoch 73/100\n",
      "31/31 [==============================] - 23s 757ms/step - loss: 0.3961 - acc: 0.8669 - val_loss: 0.9630 - val_acc: 0.7735\n",
      "Epoch 74/100\n",
      "31/31 [==============================] - 23s 744ms/step - loss: 0.4023 - acc: 0.8783 - val_loss: 1.1339 - val_acc: 0.7176\n",
      "Epoch 75/100\n",
      "31/31 [==============================] - 23s 752ms/step - loss: 0.3948 - acc: 0.8746 - val_loss: 1.0372 - val_acc: 0.7324\n",
      "Epoch 76/100\n",
      "31/31 [==============================] - 24s 767ms/step - loss: 0.4087 - acc: 0.8649 - val_loss: 1.0253 - val_acc: 0.7500\n",
      "Epoch 77/100\n",
      "31/31 [==============================] - 24s 776ms/step - loss: 0.4052 - acc: 0.8577 - val_loss: 0.9641 - val_acc: 0.7471\n",
      "Epoch 78/100\n",
      "31/31 [==============================] - 25s 791ms/step - loss: 0.4154 - acc: 0.8560 - val_loss: 1.0502 - val_acc: 0.7382\n",
      "Epoch 79/100\n",
      "31/31 [==============================] - 24s 776ms/step - loss: 0.3421 - acc: 0.8825 - val_loss: 1.0087 - val_acc: 0.7618\n",
      "Epoch 80/100\n",
      "31/31 [==============================] - 25s 795ms/step - loss: 0.3441 - acc: 0.8704 - val_loss: 1.0770 - val_acc: 0.7529\n",
      "Epoch 81/100\n",
      "31/31 [==============================] - 26s 830ms/step - loss: 0.3665 - acc: 0.8736 - val_loss: 1.0715 - val_acc: 0.7529\n",
      "Epoch 82/100\n",
      "31/31 [==============================] - 24s 779ms/step - loss: 0.3282 - acc: 0.8898 - val_loss: 0.9388 - val_acc: 0.7765\n",
      "Epoch 83/100\n",
      "31/31 [==============================] - 25s 792ms/step - loss: 0.3123 - acc: 0.8852 - val_loss: 1.3675 - val_acc: 0.6912\n",
      "Epoch 84/100\n",
      "31/31 [==============================] - 24s 776ms/step - loss: 0.3905 - acc: 0.8599 - val_loss: 1.0678 - val_acc: 0.7647\n",
      "Epoch 85/100\n",
      "31/31 [==============================] - 24s 769ms/step - loss: 0.3619 - acc: 0.8756 - val_loss: 1.0177 - val_acc: 0.7824\n",
      "Epoch 86/100\n",
      "31/31 [==============================] - 23s 756ms/step - loss: 0.3157 - acc: 0.8930 - val_loss: 0.9543 - val_acc: 0.7500\n",
      "Epoch 87/100\n",
      "31/31 [==============================] - 23s 753ms/step - loss: 0.3431 - acc: 0.8775 - val_loss: 1.6686 - val_acc: 0.6441\n",
      "Epoch 88/100\n",
      "31/31 [==============================] - 24s 778ms/step - loss: 0.3575 - acc: 0.8727 - val_loss: 0.9322 - val_acc: 0.7824\n",
      "Epoch 89/100\n",
      "31/31 [==============================] - 23s 737ms/step - loss: 0.3148 - acc: 0.8943 - val_loss: 1.0701 - val_acc: 0.7324\n",
      "Epoch 90/100\n",
      "31/31 [==============================] - 23s 735ms/step - loss: 0.3241 - acc: 0.8878 - val_loss: 1.0486 - val_acc: 0.7382\n",
      "Epoch 91/100\n",
      "31/31 [==============================] - 23s 752ms/step - loss: 0.3048 - acc: 0.8969 - val_loss: 0.9822 - val_acc: 0.7676\n",
      "Epoch 92/100\n",
      "31/31 [==============================] - 26s 826ms/step - loss: 0.3235 - acc: 0.8830 - val_loss: 1.0368 - val_acc: 0.7235\n",
      "Epoch 93/100\n",
      "31/31 [==============================] - 27s 879ms/step - loss: 0.2919 - acc: 0.8852 - val_loss: 0.9475 - val_acc: 0.7618\n",
      "Epoch 94/100\n",
      "31/31 [==============================] - 25s 793ms/step - loss: 0.3160 - acc: 0.8861 - val_loss: 0.9638 - val_acc: 0.7765\n",
      "Epoch 95/100\n",
      "31/31 [==============================] - 25s 801ms/step - loss: 0.2674 - acc: 0.9067 - val_loss: 0.9468 - val_acc: 0.7676\n",
      "Epoch 96/100\n",
      "31/31 [==============================] - 25s 798ms/step - loss: 0.2877 - acc: 0.8989 - val_loss: 0.9459 - val_acc: 0.7853\n",
      "Epoch 97/100\n",
      "31/31 [==============================] - 25s 802ms/step - loss: 0.2796 - acc: 0.9093 - val_loss: 1.0839 - val_acc: 0.7500\n",
      "Epoch 98/100\n",
      "31/31 [==============================] - 25s 809ms/step - loss: 0.2942 - acc: 0.8887 - val_loss: 1.1167 - val_acc: 0.7412\n",
      "Epoch 99/100\n",
      "31/31 [==============================] - 25s 813ms/step - loss: 0.2280 - acc: 0.9050 - val_loss: 0.9979 - val_acc: 0.7735\n",
      "Epoch 100/100\n",
      "31/31 [==============================] - 26s 827ms/step - loss: 0.2771 - acc: 0.9012 - val_loss: 1.0456 - val_acc: 0.7559\n"
     ]
    }
   ],
   "source": [
    "print(\"[INFO] Training Network\")\n",
    "H = model.fit_generator(\n",
    "    aug.flow(trainX, trainY, batch_size=32),\n",
    "    validation_data=(testX, testY),\n",
    "    steps_per_epoch=len(trainX)//32,\n",
    "    epochs=100,\n",
    "    verbose=1          \n",
    ")"
   ]
  },
  {
   "cell_type": "code",
   "execution_count": 12,
   "metadata": {},
   "outputs": [
    {
     "name": "stdout",
     "output_type": "stream",
     "text": [
      "[INFO] evaluating network\n",
      "             precision    recall  f1-score   support\n",
      "\n",
      "   bluebell       0.73      1.00      0.84        16\n",
      "  buttercup       0.76      0.87      0.81        15\n",
      "  coltsfoot       0.61      0.70      0.65        20\n",
      "    cowslip       0.82      0.50      0.62        18\n",
      "     crocus       0.64      0.80      0.71        20\n",
      "   daffodil       0.57      0.35      0.43        23\n",
      "      daisy       0.90      0.95      0.92        19\n",
      "  dandelion       0.71      0.67      0.69        18\n",
      " fritillary       0.84      0.84      0.84        19\n",
      "       iris       0.94      0.81      0.87        21\n",
      " lilyvalley       0.75      0.75      0.75        20\n",
      "      pansy       0.95      0.78      0.86        27\n",
      "   snowdrop       0.62      0.73      0.67        22\n",
      "  sunflower       0.85      0.96      0.90        23\n",
      "  tigerlily       0.94      0.94      0.94        16\n",
      "      tulip       0.44      0.55      0.49        20\n",
      " windflower       0.95      0.78      0.86        23\n",
      "\n",
      "avg / total       0.77      0.76      0.75       340\n",
      "\n"
     ]
    }
   ],
   "source": [
    "print(\"[INFO] evaluating network\")\n",
    "predictions = model.predict(testX, batch_size=32)\n",
    "print(classification_report(testY.argmax(axis=1), predictions.argmax(axis=1), target_names=classNames))\n"
   ]
  },
  {
   "cell_type": "code",
   "execution_count": 13,
   "metadata": {},
   "outputs": [
    {
     "data": {
      "image/png": "[encoded data removed]",
      "text/plain": [
       "<matplotlib.figure.Figure at 0x1a3d25eb70>"
      ]
     },
     "metadata": {},
     "output_type": "display_data"
    }
   ],
   "source": [
    "# plot the training loss and accuracy\n",
    "plt.style.use(\"ggplot\")\n",
    "plt.figure()\n",
    "plt.plot(np.arange(0, 100), H.history[\"loss\"], label=\"train_loss\")\n",
    "plt.plot(np.arange(0, 100), H.history[\"val_loss\"], label=\"val_loss\")\n",
    "plt.plot(np.arange(0, 100), H.history[\"acc\"], label=\"train_acc\")\n",
    "plt.plot(np.arange(0, 100), H.history[\"val_acc\"], label=\"val_acc\")\n",
    "plt.title(\"Training Loss and Accuracy\")\n",
    "plt.xlabel(\"Epoch #\")\n",
    "plt.ylabel(\"Loss/Accuracy\")\n",
    "plt.legend()\n",
    "plt.show()"
   ]
  },
  {
   "cell_type": "code",
   "execution_count": null,
   "metadata": {},
   "outputs": [],
   "source": [
    "\n",
    "\n",
    "\n",
    "\n",
    "\n",
    "\n",
    "\n",
    "\n",
    "\n",
    "\n",
    "\n",
    "\n",
    "\n",
    "\n",
    "\n",
    "\n"
   ]
  }
 ],
 "metadata": {
  "kernelspec": {
   "display_name": "Python 3",
   "language": "python",
   "name": "python3"
  },
  "language_info": {
   "codemirror_mode": {
    "name": "ipython",
    "version": 3
   },
   "file_extension": ".py",
   "mimetype": "text/x-python",
   "name": "python",
   "nbconvert_exporter": "python",
   "pygments_lexer": "ipython3",
   "version": "3.6.4"
  }
 },
 "nbformat": 4,
 "nbformat_minor": 2
}
