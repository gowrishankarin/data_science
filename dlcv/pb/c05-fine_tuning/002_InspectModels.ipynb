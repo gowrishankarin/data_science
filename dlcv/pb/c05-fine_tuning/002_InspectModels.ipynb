{
 "cells": [
  {
   "cell_type": "code",
   "execution_count": 1,
   "metadata": {},
   "outputs": [
    {
     "name": "stderr",
     "output_type": "stream",
     "text": [
      "Using TensorFlow backend.\n"
     ]
    }
   ],
   "source": [
    "from keras.applications import VGG16"
   ]
  },
  {
   "cell_type": "code",
   "execution_count": 2,
   "metadata": {},
   "outputs": [],
   "source": [
    "INCLUDE_TOP = -1"
   ]
  },
  {
   "cell_type": "code",
   "execution_count": 3,
   "metadata": {},
   "outputs": [
    {
     "name": "stdout",
     "output_type": "stream",
     "text": [
      "[INFO] loading network...\n"
     ]
    }
   ],
   "source": [
    "print(\"[INFO] loading network...\")\n",
    "model = VGG16(weights=\"imagenet\", include_top=INCLUDE_TOP > 0)"
   ]
  },
  {
   "cell_type": "code",
   "execution_count": 4,
   "metadata": {},
   "outputs": [
    {
     "name": "stdout",
     "output_type": "stream",
     "text": [
      "[INFO] showing layers...\n",
      "[INFO] 0\t<keras.engine.topology.InputLayer object at 0x10f1475c0>\n",
      "[INFO] 1\t<keras.layers.convolutional.Conv2D object at 0x102f55198>\n",
      "[INFO] 2\t<keras.layers.convolutional.Conv2D object at 0x10f147908>\n",
      "[INFO] 3\t<keras.layers.pooling.MaxPooling2D object at 0x10f168780>\n",
      "[INFO] 4\t<keras.layers.convolutional.Conv2D object at 0x10f1920f0>\n",
      "[INFO] 5\t<keras.layers.convolutional.Conv2D object at 0x10f192fd0>\n",
      "[INFO] 6\t<keras.layers.pooling.MaxPooling2D object at 0x10f1a3588>\n",
      "[INFO] 7\t<keras.layers.convolutional.Conv2D object at 0x10f1c69e8>\n",
      "[INFO] 8\t<keras.layers.convolutional.Conv2D object at 0x10f1c6b00>\n",
      "[INFO] 9\t<keras.layers.convolutional.Conv2D object at 0x10f1e9860>\n",
      "[INFO] 10\t<keras.layers.pooling.MaxPooling2D object at 0x10f20bef0>\n",
      "[INFO] 11\t<keras.layers.convolutional.Conv2D object at 0x10f232898>\n",
      "[INFO] 12\t<keras.layers.convolutional.Conv2D object at 0x10f232f60>\n",
      "[INFO] 13\t<keras.layers.convolutional.Conv2D object at 0x10f254240>\n",
      "[INFO] 14\t<keras.layers.pooling.MaxPooling2D object at 0x10f27af98>\n",
      "[INFO] 15\t<keras.layers.convolutional.Conv2D object at 0x10f28eb38>\n",
      "[INFO] 16\t<keras.layers.convolutional.Conv2D object at 0x10f29fdd8>\n",
      "[INFO] 17\t<keras.layers.convolutional.Conv2D object at 0x10f2b0470>\n",
      "[INFO] 18\t<keras.layers.pooling.MaxPooling2D object at 0x10f2d1668>\n"
     ]
    }
   ],
   "source": [
    "print(\"[INFO] showing layers...\")\n",
    "for(i, layer) in enumerate(model.layers):\n",
    "    print(\"[INFO] {}\\t{}\".format(i, layer))"
   ]
  },
  {
   "cell_type": "code",
   "execution_count": null,
   "metadata": {},
   "outputs": [],
   "source": []
  }
 ],
 "metadata": {
  "kernelspec": {
   "display_name": "Python 3",
   "language": "python",
   "name": "python3"
  },
  "language_info": {
   "codemirror_mode": {
    "name": "ipython",
    "version": 3
   },
   "file_extension": ".py",
   "mimetype": "text/x-python",
   "name": "python",
   "nbconvert_exporter": "python",
   "pygments_lexer": "ipython3",
   "version": "3.6.4"
  }
 },
 "nbformat": 4,
 "nbformat_minor": 2
}
