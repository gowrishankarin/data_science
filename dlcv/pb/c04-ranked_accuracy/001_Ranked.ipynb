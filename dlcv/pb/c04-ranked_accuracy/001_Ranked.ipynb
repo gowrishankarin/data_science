{
 "cells": [
  {
   "cell_type": "code",
   "execution_count": 1,
   "metadata": {},
   "outputs": [],
   "source": [
    "import numpy as np"
   ]
  },
  {
   "cell_type": "code",
   "execution_count": 2,
   "metadata": {},
   "outputs": [],
   "source": [
    "def rank5_accuracy(preds, labels):\n",
    "    # Initialize the rank-1 and rank-5 accuracies\n",
    "    rank1 = 0\n",
    "    rank5 = 0\n",
    "    \n",
    "    # Loop overthe predictions and ground truth labels\n",
    "    for(p, gt) in zip(preds, labels):\n",
    "        # Sort the probabilities by their index in descending order\n",
    "        # so that the more confident guesses are at the front of the list\n",
    "        p = np.argsort(p)[::-1]\n",
    "        \n",
    "        # Check if the ground truth label is in the top-5 predictions\n",
    "        if(gt in p[:5]):\n",
    "            rank5 += 1\n",
    "            \n",
    "        # Check to see if the ground truth is the #1 predictions\n",
    "        if(gt == p[0]):\n",
    "            rank1 += 1\n",
    "            \n",
    "    # Compute the final rank-1 and rank-5 accuracies\n",
    "    rank1 /= float(len(preds))\n",
    "    rank5 /= float(len(preds))\n",
    "    \n",
    "    # Return a tuple of the rank-1 and rank-5 accuracies\n",
    "    return(rank1, rank5)"
   ]
  },
  {
   "cell_type": "code",
   "execution_count": null,
   "metadata": {},
   "outputs": [],
   "source": []
  }
 ],
 "metadata": {
  "kernelspec": {
   "display_name": "Python 3",
   "language": "python",
   "name": "python3"
  },
  "language_info": {
   "codemirror_mode": {
    "name": "ipython",
    "version": 3
   },
   "file_extension": ".py",
   "mimetype": "text/x-python",
   "name": "python",
   "nbconvert_exporter": "python",
   "pygments_lexer": "ipython3",
   "version": "3.6.4"
  }
 },
 "nbformat": 4,
 "nbformat_minor": 2
}
