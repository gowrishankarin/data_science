{
 "cells": [
  {
   "cell_type": "code",
   "execution_count": 9,
   "metadata": {},
   "outputs": [],
   "source": [
    "from sklearn.linear_model import LogisticRegression\n",
    "from sklearn.model_selection import GridSearchCV\n",
    "from sklearn.metrics import classification_report\n",
    "import pickle\n",
    "import h5py"
   ]
  },
  {
   "cell_type": "code",
   "execution_count": 10,
   "metadata": {},
   "outputs": [],
   "source": [
    "HDF5_DB = '../datasets/animals/hdf5/features.hdf5'\n",
    "MODEL = 'animals.cpickle'\n",
    "JOBS = -1"
   ]
  },
  {
   "cell_type": "code",
   "execution_count": 11,
   "metadata": {},
   "outputs": [],
   "source": [
    "# Open the HDF5 database for reading then determine the index of the training and testing\n",
    "# split, provided that this data was already shuffled prior to writing it to disk\n",
    "db = h5py.File(HDF5_DB, \"r\")\n",
    "i = int(db[\"labels\"].shape[0] * 0.75)"
   ]
  },
  {
   "cell_type": "code",
   "execution_count": 12,
   "metadata": {},
   "outputs": [
    {
     "data": {
      "text/plain": [
       "['features', 'label_names', 'labels']"
      ]
     },
     "execution_count": 12,
     "metadata": {},
     "output_type": "execute_result"
    }
   ],
   "source": [
    "db.__contains__('features')\n",
    "[key for key in db.keys()]"
   ]
  },
  {
   "cell_type": "code",
   "execution_count": 13,
   "metadata": {},
   "outputs": [
    {
     "name": "stdout",
     "output_type": "stream",
     "text": [
      "[INFO] Tuning Hyperparameters\n",
      "[INFO] Best Hyperparamerters: {'C': 10.0}\n"
     ]
    }
   ],
   "source": [
    "# Define the set of parameters that we want to tune then start a grid search \n",
    "# where we evaluate our model for each value of C\n",
    "print(\"[INFO] Tuning Hyperparameters\")\n",
    "params = {\"C\": [0.1, 1.0, 10.0, 100.0, 1000.0, 10000.0]}\n",
    "\n",
    "model = GridSearchCV(LogisticRegression(), params, cv=3, n_jobs=JOBS)\n",
    "model.fit(db[\"features\"][:i], db[\"labels\"][:i] )\n",
    "\n",
    "print(\"[INFO] Best Hyperparamerters: {}\".format(model.best_params_))"
   ]
  },
  {
   "cell_type": "code",
   "execution_count": 14,
   "metadata": {},
   "outputs": [
    {
     "name": "stdout",
     "output_type": "stream",
     "text": [
      "[INFO] Evaluating...\n",
      "             precision    recall  f1-score   support\n",
      "\n",
      "       cats       1.00      1.00      1.00       255\n",
      "       dogs       0.99      1.00      0.99       235\n",
      "      panda       1.00      1.00      1.00       260\n",
      "\n",
      "avg / total       1.00      1.00      1.00       750\n",
      "\n"
     ]
    }
   ],
   "source": [
    "print(\"[INFO] Evaluating...\")\n",
    "preds = model.predict(db[\"features\"][i:])\n",
    "print(classification_report(db[\"labels\"][i:], preds, target_names=db[\"label_names\"]))"
   ]
  },
  {
   "cell_type": "code",
   "execution_count": 15,
   "metadata": {},
   "outputs": [
    {
     "name": "stdout",
     "output_type": "stream",
     "text": [
      "[INFO] Saving Model\n"
     ]
    }
   ],
   "source": [
    "print(\"[INFO] Saving Model\")\n",
    "f = open(MODEL, \"wb\")\n",
    "f.write(pickle.dumps(model.best_estimator_))\n",
    "f.close()"
   ]
  },
  {
   "cell_type": "code",
   "execution_count": 8,
   "metadata": {},
   "outputs": [],
   "source": [
    "db.close()"
   ]
  },
  {
   "cell_type": "code",
   "execution_count": null,
   "metadata": {},
   "outputs": [],
   "source": []
  }
 ],
 "metadata": {
  "kernelspec": {
   "display_name": "Python 3",
   "language": "python",
   "name": "python3"
  },
  "language_info": {
   "codemirror_mode": {
    "name": "ipython",
    "version": 3
   },
   "file_extension": ".py",
   "mimetype": "text/x-python",
   "name": "python",
   "nbconvert_exporter": "python",
   "pygments_lexer": "ipython3",
   "version": "3.6.4"
  }
 },
 "nbformat": 4,
 "nbformat_minor": 2
}
