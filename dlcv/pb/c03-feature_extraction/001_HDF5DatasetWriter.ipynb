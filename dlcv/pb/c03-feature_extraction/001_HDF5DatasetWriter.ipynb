{
 "cells": [
  {
   "cell_type": "code",
   "execution_count": 1,
   "metadata": {},
   "outputs": [
    {
     "name": "stderr",
     "output_type": "stream",
     "text": [
      "/anaconda3/envs/dlcv/lib/python3.6/site-packages/h5py/__init__.py:36: FutureWarning: Conversion of the second argument of issubdtype from `float` to `np.floating` is deprecated. In future, it will be treated as `np.float64 == np.dtype(float).type`.\n",
      "  from ._conv import register_converters as _register_converters\n"
     ]
    }
   ],
   "source": [
    "import h5py\n",
    "import os\n"
   ]
  },
  {
   "cell_type": "code",
   "execution_count": 2,
   "metadata": {},
   "outputs": [],
   "source": [
    "class HDF5DatasetWriter():\n",
    "    def __init__(self, dims, outputPath, dataKey=\"images\", bufSize=1000):\n",
    "        # Check to see if output path exists and if so raise an exception\n",
    "        if(os.path.exists(outputPath)):\n",
    "            raise ValueError(\"The supplied ouputPath already exisists and cannot be overwirtten. Manually\"\n",
    "                \"delete the file before continuing.\", outputPath)\n",
    "            \n",
    "        # Open the HDF5 database for writing and create two datasets: One to\n",
    "        # store the images/features and another to store the class labels\n",
    "        self.db = h5py.File(outputPath, \"w\")\n",
    "        self.data = self.db.create_dataset(dataKey, dims, dtype=\"float\")\n",
    "        self.data = self.db.create_dataset(\"labels\", (dims[0],), dtype=\"int\")\n",
    "        \n",
    "        # Store the buffer size, then initialize the buffer itself along with the index\n",
    "        # into the datasets\n",
    "        self.bufSize = bufSize\n",
    "        self.buffer = {\"data\": [], \"labels\": []}\n",
    "        self.idx = 0\n",
    "        \n",
    "        \n",
    "    def add(self, rows, labels):\n",
    "        # Add the rows and labels to the buffer\n",
    "        self.buffer[\"data\"].extend(rows)\n",
    "        self.buffer[\"labels\"].extend(labels)\n",
    "        \n",
    "        # Check to see if the buffer needs to be flushed to disk\n",
    "        if(len(self.buffer[\"data\"]) >= self.bufSize):\n",
    "            self.flush()\n",
    "            \n",
    "    def flush(self):\n",
    "        # Write the buffers to disk then reset the buffer\n",
    "        i = self.idx + len(self.buffer[\"data\"])\n",
    "        self.data[self.idx:i] = self.buffer[\"data\"]\n",
    "        self.labels[self.idx:i] = self.buffer[\"labels\"]\n",
    "        self.idx = i\n",
    "        self.buffer = {\"data\": [], \"labels\": []}\n",
    "        \n",
    "    def storeClassLabels(self, classLabels):\n",
    "        # Create a dataset to store the actual class label names, \n",
    "        # then store the class labels\n",
    "        dt = h5py.special_dtype(vlen=str)\n",
    "        labelSet = self.db.create_dataset(\"label_names\", (len(classLabels),), dtype=dt)\n",
    "        labelSet[:] = classLabels\n",
    "        \n",
    "    def close(self):\n",
    "        # Check to see if there are any other entries in the buffer \n",
    "        # that need to be flushed to disk\n",
    "        if(len(self.buffer[\"data\"]) > 0):\n",
    "            self.flush()\n",
    "            \n",
    "        # Close the dataset\n",
    "        self.db.close()"
   ]
  },
  {
   "cell_type": "code",
   "execution_count": null,
   "metadata": {},
   "outputs": [],
   "source": [
    "\n",
    "\n",
    "\n",
    "\n",
    "\n",
    "\n",
    "\n",
    "\n",
    "\n",
    "\n",
    "\n",
    "\n",
    "\n",
    "\n",
    "\n",
    "\n",
    "\n",
    "\n",
    "\n",
    "\n",
    "\n",
    "\n",
    "\n"
   ]
  }
 ],
 "metadata": {
  "kernelspec": {
   "display_name": "Python 3",
   "language": "python",
   "name": "python3"
  },
  "language_info": {
   "codemirror_mode": {
    "name": "ipython",
    "version": 3
   },
   "file_extension": ".py",
   "mimetype": "text/x-python",
   "name": "python",
   "nbconvert_exporter": "python",
   "pygments_lexer": "ipython3",
   "version": "3.6.4"
  }
 },
 "nbformat": 4,
 "nbformat_minor": 2
}
