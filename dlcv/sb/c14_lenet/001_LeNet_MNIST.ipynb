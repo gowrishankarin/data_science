{
 "cells": [
  {
   "cell_type": "code",
   "execution_count": 1,
   "metadata": {},
   "outputs": [
    {
     "name": "stderr",
     "output_type": "stream",
     "text": [
      "/anaconda3/envs/dlcv/lib/python3.6/site-packages/h5py/__init__.py:36: FutureWarning: Conversion of the second argument of issubdtype from `float` to `np.floating` is deprecated. In future, it will be treated as `np.float64 == np.dtype(float).type`.\n",
      "  from ._conv import register_converters as _register_converters\n",
      "Using TensorFlow backend.\n"
     ]
    }
   ],
   "source": [
    "from sklearn.preprocessing import LabelBinarizer\n",
    "from sklearn.model_selection import train_test_split\n",
    "from sklearn.metrics import classification_report\n",
    "from keras.optimizers import SGD\n",
    "from keras import backend as K\n",
    "from imutils import paths\n",
    "import matplotlib.pyplot as plt\n",
    "import numpy as np"
   ]
  },
  {
   "cell_type": "code",
   "execution_count": 2,
   "metadata": {},
   "outputs": [],
   "source": [
    "IMG_HELP_PATH = '/Users/shankar/dev/code/ds/studies/data_science/dlcv/sb/c07-first_image_classifier'\n",
    "import os\n",
    "import sys\n",
    "sys.path.append(os.path.abspath(IMG_HELP_PATH))\n",
    "from pyimagesearch.nn.conv import LeNet"
   ]
  },
  {
   "cell_type": "code",
   "execution_count": 3,
   "metadata": {},
   "outputs": [
    {
     "name": "stdout",
     "output_type": "stream",
     "text": [
      "[INFO] accessing MNIST\n"
     ]
    }
   ],
   "source": [
    "print(\"[INFO] accessing MNIST\")\n",
    "from sklearn import datasets\n",
    "dataset = datasets.fetch_mldata(\"MNIST Original\")\n",
    "data = dataset.data"
   ]
  },
  {
   "cell_type": "code",
   "execution_count": 4,
   "metadata": {},
   "outputs": [],
   "source": [
    "if K.image_data_format() == \"channels_first\":\n",
    "    data = data.reshape(data.shape[0], 1, 28, 28)\n",
    "else: \n",
    "    data = data.reshape(data.shape[0], 28, 28, 1)"
   ]
  },
  {
   "cell_type": "code",
   "execution_count": 5,
   "metadata": {},
   "outputs": [],
   "source": [
    "(trainX, testX, trainY, testY) = train_test_split(data/255.0, dataset.target.astype(\"int\"),\n",
    "    test_size=0.25, random_state=42)"
   ]
  },
  {
   "cell_type": "code",
   "execution_count": 6,
   "metadata": {},
   "outputs": [],
   "source": [
    "# Convert the labels from integers to verctors\n",
    "le = LabelBinarizer()\n",
    "trainY = le.fit_transform(trainY)\n",
    "testY = le.transform(testY)"
   ]
  },
  {
   "cell_type": "code",
   "execution_count": 7,
   "metadata": {},
   "outputs": [
    {
     "name": "stdout",
     "output_type": "stream",
     "text": [
      "[INFO] compiling model...\n"
     ]
    }
   ],
   "source": [
    "print(\"[INFO] compiling model...\")\n",
    "opt = SGD(lr=0.01)\n",
    "model = LeNet.build(width=28, height=28, depth=1, classes=10)\n",
    "model.compile(loss=\"categorical_crossentropy\", optimizer=opt, metrics=[\"accuracy\"])"
   ]
  },
  {
   "cell_type": "code",
   "execution_count": 8,
   "metadata": {},
   "outputs": [
    {
     "name": "stdout",
     "output_type": "stream",
     "text": [
      "Train on 52500 samples, validate on 17500 samples\n",
      "Epoch 1/20\n",
      "52500/52500 [==============================] - 76s 1ms/step - loss: 1.1898 - acc: 0.7191 - val_loss: 0.4492 - val_acc: 0.8845\n",
      "Epoch 2/20\n",
      "52500/52500 [==============================] - 77s 1ms/step - loss: 0.3431 - acc: 0.9060 - val_loss: 0.2851 - val_acc: 0.9183\n",
      "Epoch 3/20\n",
      "52500/52500 [==============================] - 75s 1ms/step - loss: 0.2466 - acc: 0.9293 - val_loss: 0.2202 - val_acc: 0.9354\n",
      "Epoch 4/20\n",
      "52500/52500 [==============================] - 75s 1ms/step - loss: 0.1987 - acc: 0.9427 - val_loss: 0.1848 - val_acc: 0.9460\n",
      "Epoch 5/20\n",
      "52500/52500 [==============================] - 75s 1ms/step - loss: 0.1675 - acc: 0.9516 - val_loss: 0.1610 - val_acc: 0.9514\n",
      "Epoch 6/20\n",
      "52500/52500 [==============================] - 75s 1ms/step - loss: 0.1447 - acc: 0.9590 - val_loss: 0.1411 - val_acc: 0.9581\n",
      "Epoch 7/20\n",
      "52500/52500 [==============================] - 76s 1ms/step - loss: 0.1283 - acc: 0.9624 - val_loss: 0.1259 - val_acc: 0.9621\n",
      "Epoch 8/20\n",
      "52500/52500 [==============================] - 76s 1ms/step - loss: 0.1154 - acc: 0.9662 - val_loss: 0.1159 - val_acc: 0.9654\n",
      "Epoch 9/20\n",
      "52500/52500 [==============================] - 76s 1ms/step - loss: 0.1050 - acc: 0.9692 - val_loss: 0.1063 - val_acc: 0.9685\n",
      "Epoch 10/20\n",
      "52500/52500 [==============================] - 73s 1ms/step - loss: 0.0966 - acc: 0.9719 - val_loss: 0.1037 - val_acc: 0.9690\n",
      "Epoch 11/20\n",
      "52500/52500 [==============================] - 75s 1ms/step - loss: 0.0895 - acc: 0.9739 - val_loss: 0.0926 - val_acc: 0.9734\n",
      "Epoch 12/20\n",
      "52500/52500 [==============================] - 75s 1ms/step - loss: 0.0835 - acc: 0.9757 - val_loss: 0.0868 - val_acc: 0.9739\n",
      "Epoch 13/20\n",
      "52500/52500 [==============================] - 75s 1ms/step - loss: 0.0784 - acc: 0.9770 - val_loss: 0.0834 - val_acc: 0.9746\n",
      "Epoch 14/20\n",
      "52500/52500 [==============================] - 75s 1ms/step - loss: 0.0741 - acc: 0.9788 - val_loss: 0.0801 - val_acc: 0.9762\n",
      "Epoch 15/20\n",
      "52500/52500 [==============================] - 75s 1ms/step - loss: 0.0700 - acc: 0.9797 - val_loss: 0.0764 - val_acc: 0.9767\n",
      "Epoch 16/20\n",
      "52500/52500 [==============================] - 76s 1ms/step - loss: 0.0666 - acc: 0.9807 - val_loss: 0.0731 - val_acc: 0.9781\n",
      "Epoch 17/20\n",
      "52500/52500 [==============================] - 76s 1ms/step - loss: 0.0632 - acc: 0.9817 - val_loss: 0.0729 - val_acc: 0.9787\n",
      "Epoch 18/20\n",
      "52500/52500 [==============================] - 76s 1ms/step - loss: 0.0608 - acc: 0.9826 - val_loss: 0.0680 - val_acc: 0.9797\n",
      "Epoch 19/20\n",
      "52500/52500 [==============================] - 76s 1ms/step - loss: 0.0579 - acc: 0.9831 - val_loss: 0.0660 - val_acc: 0.9803\n",
      "Epoch 20/20\n",
      "52500/52500 [==============================] - 77s 1ms/step - loss: 0.0555 - acc: 0.9838 - val_loss: 0.0700 - val_acc: 0.9785\n"
     ]
    },
    {
     "data": {
      "text/plain": [
       "<keras.callbacks.History at 0x1a25b6f550>"
      ]
     },
     "execution_count": 8,
     "metadata": {},
     "output_type": "execute_result"
    }
   ],
   "source": [
    "model.fit(trainX, trainY, validation_data=(testX, testY), batch_size=128, epochs=20, verbose=1)"
   ]
  },
  {
   "cell_type": "code",
   "execution_count": 9,
   "metadata": {},
   "outputs": [
    {
     "name": "stdout",
     "output_type": "stream",
     "text": [
      "[INFO] evaluating network...\n",
      "             precision    recall  f1-score   support\n",
      "\n",
      "          0       0.98      0.99      0.99      1677\n",
      "          1       0.98      0.99      0.99      1935\n",
      "          2       0.97      0.98      0.98      1767\n",
      "          3       0.98      0.97      0.98      1766\n",
      "          4       0.98      0.99      0.98      1691\n",
      "          5       0.98      0.97      0.98      1653\n",
      "          6       0.97      0.99      0.98      1754\n",
      "          7       0.98      0.99      0.98      1846\n",
      "          8       0.99      0.94      0.96      1702\n",
      "          9       0.97      0.97      0.97      1709\n",
      "\n",
      "avg / total       0.98      0.98      0.98     17500\n",
      "\n"
     ]
    }
   ],
   "source": [
    "print(\"[INFO] evaluating network...\")\n",
    "predictions = model.predict(testX, batch_size=128)\n",
    "print(classification_report(testY.argmax(axis=1), predictions.argmax(axis=1), target_names=[str(x) for x in le.classes_]))"
   ]
  },
  {
   "cell_type": "code",
   "execution_count": 10,
   "metadata": {},
   "outputs": [
    {
     "ename": "NameError",
     "evalue": "name 'H' is not defined",
     "output_type": "error",
     "traceback": [
      "\u001b[0;31m---------------------------------------------------------------------------\u001b[0m",
      "\u001b[0;31mNameError\u001b[0m                                 Traceback (most recent call last)",
      "\u001b[0;32m<ipython-input-10-d939b20bff1c>\u001b[0m in \u001b[0;36m<module>\u001b[0;34m()\u001b[0m\n\u001b[1;32m      1\u001b[0m \u001b[0mplt\u001b[0m\u001b[0;34m.\u001b[0m\u001b[0mstyle\u001b[0m\u001b[0;34m.\u001b[0m\u001b[0muse\u001b[0m\u001b[0;34m(\u001b[0m\u001b[0;34m\"ggplot\"\u001b[0m\u001b[0;34m)\u001b[0m\u001b[0;34m\u001b[0m\u001b[0m\n\u001b[1;32m      2\u001b[0m \u001b[0mplt\u001b[0m\u001b[0;34m.\u001b[0m\u001b[0mfigure\u001b[0m\u001b[0;34m(\u001b[0m\u001b[0;34m)\u001b[0m\u001b[0;34m\u001b[0m\u001b[0m\n\u001b[0;32m----> 3\u001b[0;31m \u001b[0mplt\u001b[0m\u001b[0;34m.\u001b[0m\u001b[0mplot\u001b[0m\u001b[0;34m(\u001b[0m\u001b[0mnp\u001b[0m\u001b[0;34m.\u001b[0m\u001b[0marange\u001b[0m\u001b[0;34m(\u001b[0m\u001b[0;36m0\u001b[0m\u001b[0;34m,\u001b[0m \u001b[0;36m20\u001b[0m\u001b[0;34m)\u001b[0m\u001b[0;34m,\u001b[0m \u001b[0mH\u001b[0m\u001b[0;34m.\u001b[0m\u001b[0mhistory\u001b[0m\u001b[0;34m[\u001b[0m\u001b[0;34m\"loss\"\u001b[0m\u001b[0;34m]\u001b[0m\u001b[0;34m,\u001b[0m \u001b[0mlabel\u001b[0m\u001b[0;34m=\u001b[0m\u001b[0;34m\"train_loss\"\u001b[0m\u001b[0;34m)\u001b[0m\u001b[0;34m\u001b[0m\u001b[0m\n\u001b[0m\u001b[1;32m      4\u001b[0m \u001b[0mplt\u001b[0m\u001b[0;34m.\u001b[0m\u001b[0mplot\u001b[0m\u001b[0;34m(\u001b[0m\u001b[0mnp\u001b[0m\u001b[0;34m.\u001b[0m\u001b[0marange\u001b[0m\u001b[0;34m(\u001b[0m\u001b[0;36m0\u001b[0m\u001b[0;34m,\u001b[0m \u001b[0;36m20\u001b[0m\u001b[0;34m)\u001b[0m\u001b[0;34m,\u001b[0m \u001b[0mH\u001b[0m\u001b[0;34m.\u001b[0m\u001b[0mhistory\u001b[0m\u001b[0;34m[\u001b[0m\u001b[0;34m\"val_loss\"\u001b[0m\u001b[0;34m]\u001b[0m\u001b[0;34m,\u001b[0m \u001b[0mlabel\u001b[0m\u001b[0;34m=\u001b[0m\u001b[0;34m\"val_loss\"\u001b[0m\u001b[0;34m)\u001b[0m\u001b[0;34m\u001b[0m\u001b[0m\n\u001b[1;32m      5\u001b[0m \u001b[0mplt\u001b[0m\u001b[0;34m.\u001b[0m\u001b[0mplot\u001b[0m\u001b[0;34m(\u001b[0m\u001b[0mnp\u001b[0m\u001b[0;34m.\u001b[0m\u001b[0marange\u001b[0m\u001b[0;34m(\u001b[0m\u001b[0;36m0\u001b[0m\u001b[0;34m,\u001b[0m \u001b[0;36m20\u001b[0m\u001b[0;34m)\u001b[0m\u001b[0;34m,\u001b[0m \u001b[0mH\u001b[0m\u001b[0;34m.\u001b[0m\u001b[0mhistory\u001b[0m\u001b[0;34m[\u001b[0m\u001b[0;34m\"acc\"\u001b[0m\u001b[0;34m]\u001b[0m\u001b[0;34m,\u001b[0m \u001b[0mlabel\u001b[0m\u001b[0;34m=\u001b[0m\u001b[0;34m\"train_acc\"\u001b[0m\u001b[0;34m)\u001b[0m\u001b[0;34m\u001b[0m\u001b[0m\n",
      "\u001b[0;31mNameError\u001b[0m: name 'H' is not defined"
     ]
    },
    {
     "data": {
      "text/plain": [
       "<Figure size 432x288 with 0 Axes>"
      ]
     },
     "metadata": {},
     "output_type": "display_data"
    }
   ],
   "source": [
    "plt.style.use(\"ggplot\")\n",
    "plt.figure()\n",
    "plt.plot(np.arange(0, 20), H.history[\"loss\"], label=\"train_loss\")\n",
    "plt.plot(np.arange(0, 20), H.history[\"val_loss\"], label=\"val_loss\")\n",
    "plt.plot(np.arange(0, 20), H.history[\"acc\"], label=\"train_acc\")\n",
    "plt.plot(np.arange(0, 20), H.history[\"val_acc\"], label=\"val_acc\")\n",
    "plt.title(\"Training Loss and Accuracy\")\n",
    "plt.xlabel(\"Epoch #\")\n",
    "plt.ylabel(\"Loss/Accuracy\")\n",
    "plt.legend()\n",
    "plt.show()"
   ]
  },
  {
   "cell_type": "code",
   "execution_count": null,
   "metadata": {},
   "outputs": [],
   "source": []
  }
 ],
 "metadata": {
  "kernelspec": {
   "display_name": "Python 3",
   "language": "python",
   "name": "python3"
  },
  "language_info": {
   "codemirror_mode": {
    "name": "ipython",
    "version": 3
   },
   "file_extension": ".py",
   "mimetype": "text/x-python",
   "name": "python",
   "nbconvert_exporter": "python",
   "pygments_lexer": "ipython3",
   "version": "3.6.4"
  }
 },
 "nbformat": 4,
 "nbformat_minor": 2
}
