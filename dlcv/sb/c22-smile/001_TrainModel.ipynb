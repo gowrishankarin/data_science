{
 "cells": [
  {
   "cell_type": "code",
   "execution_count": 1,
   "metadata": {},
   "outputs": [
    {
     "name": "stderr",
     "output_type": "stream",
     "text": [
      "Using TensorFlow backend.\n"
     ]
    }
   ],
   "source": [
    "from sklearn.preprocessing import LabelEncoder\n",
    "from sklearn.model_selection import train_test_split\n",
    "from sklearn.metrics import classification_report\n",
    "from keras.preprocessing.image import img_to_array\n",
    "from keras.utils import np_utils\n",
    "from imutils import paths\n",
    "import matplotlib.pyplot as plt\n",
    "import numpy as np\n",
    "import imutils\n",
    "import cv2, os"
   ]
  },
  {
   "cell_type": "code",
   "execution_count": 2,
   "metadata": {},
   "outputs": [],
   "source": [
    "IMG_HELP_PATH = '/Users/shankar/dev/code/ds/studies/data_science/dlcv/sb/c07-first_image_classifier'\n",
    "import os\n",
    "import sys\n",
    "sys.path.append(os.path.abspath(IMG_HELP_PATH))\n",
    "from pyimagesearch.nn.conv import LeNet"
   ]
  },
  {
   "cell_type": "code",
   "execution_count": 3,
   "metadata": {},
   "outputs": [],
   "source": [
    "DATASET = \"../datasets/SMILEsmileD\"\n",
    "MODEL = \"output/lenet.hdf5\""
   ]
  },
  {
   "cell_type": "code",
   "execution_count": 4,
   "metadata": {},
   "outputs": [],
   "source": [
    "data = []\n",
    "labels = []"
   ]
  },
  {
   "cell_type": "code",
   "execution_count": 5,
   "metadata": {},
   "outputs": [
    {
     "data": {
      "text/plain": [
       "['../datasets/SMILEsmileD/SMILEs/positives/positives7/63.jpg',\n",
       " '../datasets/SMILEsmileD/SMILEs/positives/positives7/823.jpg',\n",
       " '../datasets/SMILEsmileD/SMILEs/positives/positives7/3578.jpg',\n",
       " '../datasets/SMILEsmileD/SMILEs/positives/positives7/10447.jpg',\n",
       " '../datasets/SMILEsmileD/SMILEs/positives/positives7/2100.jpg',\n",
       " '../datasets/SMILEsmileD/SMILEs/positives/positives7/7078.jpg',\n",
       " '../datasets/SMILEsmileD/SMILEs/positives/positives7/9055.jpg',\n",
       " '../datasets/SMILEsmileD/SMILEs/positives/positives7/189.jpg',\n",
       " '../datasets/SMILEsmileD/SMILEs/positives/positives7/11995.jpg',\n",
       " '../datasets/SMILEsmileD/SMILEs/positives/positives7/2672.jpg']"
      ]
     },
     "execution_count": 5,
     "metadata": {},
     "output_type": "execute_result"
    }
   ],
   "source": [
    "imagePaths = list(paths.list_images(DATASET))\n",
    "imagePaths[:10]"
   ]
  },
  {
   "cell_type": "code",
   "execution_count": 6,
   "metadata": {},
   "outputs": [],
   "source": [
    "# Loop over the input images\n",
    "for imagePath in sorted(imagePaths):\n",
    "    # Load the image, preprocess it and store it in the data list\n",
    "    image = cv2.imread(imagePath)\n",
    "    image = cv2.cvtColor(image, cv2.COLOR_BGR2GRAY)\n",
    "    image = imutils.resize(image, width=28)\n",
    "    image = img_to_array(image)\n",
    "    data.append(image)\n",
    "    \n",
    "    # Extrac the class label from the image path and update the labels list\n",
    "    label = imagePath.split(os.path.sep)[-3]\n",
    "    label = \"smiling\" if label == \"positives\" else \"not_smiling\"\n",
    "    labels.append(label)"
   ]
  },
  {
   "cell_type": "code",
   "execution_count": 7,
   "metadata": {},
   "outputs": [],
   "source": [
    "# Scale the raw pixel intensities to the range [0, 1]\n",
    "data = np.array(data, dtype=\"float\") / 255.0\n",
    "labels = np.array(labels)\n",
    "\n",
    "# Account for skew in the labeled data\n",
    "le = LabelEncoder().fit(labels)\n",
    "labels = np_utils.to_categorical(le.transform(labels), 2)"
   ]
  },
  {
   "cell_type": "code",
   "execution_count": 8,
   "metadata": {},
   "outputs": [
    {
     "data": {
      "text/plain": [
       "array([ 1.        ,  2.56775068])"
      ]
     },
     "execution_count": 8,
     "metadata": {},
     "output_type": "execute_result"
    }
   ],
   "source": [
    "# Account for skew in the labeled data\n",
    "classTotals = labels.sum(axis=0)\n",
    "classWeight = classTotals.max() / classTotals\n",
    "\n",
    "classWeight"
   ]
  },
  {
   "cell_type": "code",
   "execution_count": 9,
   "metadata": {},
   "outputs": [],
   "source": [
    "(trainX, testX, trainY, testY) = train_test_split(data, labels, test_size=0.2, stratify=labels, random_state=42)"
   ]
  },
  {
   "cell_type": "code",
   "execution_count": 10,
   "metadata": {},
   "outputs": [],
   "source": [
    "model = LeNet.build(width=28, height=28, depth=1, classes=2)\n",
    "model.compile(loss=\"binary_crossentropy\", optimizer=\"adam\", metrics=[\"accuracy\"])"
   ]
  },
  {
   "cell_type": "code",
   "execution_count": 11,
   "metadata": {},
   "outputs": [
    {
     "name": "stdout",
     "output_type": "stream",
     "text": [
      "Train on 10532 samples, validate on 2633 samples\n",
      "Epoch 1/15\n",
      "10532/10532 [==============================] - 13s 1ms/step - loss: 0.3893 - acc: 0.8213 - val_loss: 0.2878 - val_acc: 0.8769\n",
      "Epoch 2/15\n",
      "10532/10532 [==============================] - 12s 1ms/step - loss: 0.2696 - acc: 0.8907 - val_loss: 0.3257 - val_acc: 0.8618\n",
      "Epoch 3/15\n",
      "10532/10532 [==============================] - 13s 1ms/step - loss: 0.2400 - acc: 0.9025 - val_loss: 0.2650 - val_acc: 0.8880\n",
      "Epoch 4/15\n",
      "10532/10532 [==============================] - 12s 1ms/step - loss: 0.2159 - acc: 0.9144 - val_loss: 0.2421 - val_acc: 0.9054\n",
      "Epoch 5/15\n",
      "10532/10532 [==============================] - 12s 1ms/step - loss: 0.1990 - acc: 0.9232 - val_loss: 0.2394 - val_acc: 0.9039\n",
      "Epoch 6/15\n",
      "10532/10532 [==============================] - 12s 1ms/step - loss: 0.1850 - acc: 0.9276 - val_loss: 0.2385 - val_acc: 0.9062\n",
      "Epoch 7/15\n",
      "10532/10532 [==============================] - 13s 1ms/step - loss: 0.1639 - acc: 0.9389 - val_loss: 0.2377 - val_acc: 0.9066\n",
      "Epoch 8/15\n",
      "10532/10532 [==============================] - 13s 1ms/step - loss: 0.1439 - acc: 0.9450 - val_loss: 0.2447 - val_acc: 0.9062\n",
      "Epoch 9/15\n",
      "10532/10532 [==============================] - 13s 1ms/step - loss: 0.1248 - acc: 0.9535 - val_loss: 0.2619 - val_acc: 0.9020\n",
      "Epoch 10/15\n",
      "10532/10532 [==============================] - 13s 1ms/step - loss: 0.1032 - acc: 0.9616 - val_loss: 0.2297 - val_acc: 0.9142\n",
      "Epoch 11/15\n",
      "10532/10532 [==============================] - 13s 1ms/step - loss: 0.0831 - acc: 0.9702 - val_loss: 0.2831 - val_acc: 0.9134\n",
      "Epoch 12/15\n",
      "10532/10532 [==============================] - 13s 1ms/step - loss: 0.0610 - acc: 0.9784 - val_loss: 0.2864 - val_acc: 0.9096\n",
      "Epoch 13/15\n",
      "10532/10532 [==============================] - 13s 1ms/step - loss: 0.0480 - acc: 0.9825 - val_loss: 0.3317 - val_acc: 0.9081\n",
      "Epoch 14/15\n",
      "10532/10532 [==============================] - 13s 1ms/step - loss: 0.0307 - acc: 0.9918 - val_loss: 0.3497 - val_acc: 0.9119\n",
      "Epoch 15/15\n",
      "10532/10532 [==============================] - 13s 1ms/step - loss: 0.0179 - acc: 0.9962 - val_loss: 0.3720 - val_acc: 0.9115\n"
     ]
    }
   ],
   "source": [
    "H = model.fit(trainX, trainY, validation_data=(testX, testY), class_weight=classWeight, batch_size=64, epochs=15, verbose=1)"
   ]
  },
  {
   "cell_type": "code",
   "execution_count": 12,
   "metadata": {},
   "outputs": [
    {
     "name": "stdout",
     "output_type": "stream",
     "text": [
      "             precision    recall  f1-score   support\n",
      "\n",
      "not_smiling       0.94      0.94      0.94      1895\n",
      "    smiling       0.84      0.84      0.84       738\n",
      "\n",
      "avg / total       0.91      0.91      0.91      2633\n",
      "\n"
     ]
    }
   ],
   "source": [
    "predictions = model.predict(testX, batch_size=64)\n",
    "print(classification_report(testY.argmax(axis=1), predictions.argmax(axis=1), target_names=le.classes_))"
   ]
  },
  {
   "cell_type": "code",
   "execution_count": 13,
   "metadata": {},
   "outputs": [],
   "source": [
    "model.save(MODEL)"
   ]
  },
  {
   "cell_type": "code",
   "execution_count": 14,
   "metadata": {},
   "outputs": [
    {
     "data": {
      "image/png": "[encoded data removed]",
      "text/plain": [
       "<matplotlib.figure.Figure at 0x1a2ea59a58>"
      ]
     },
     "metadata": {},
     "output_type": "display_data"
    }
   ],
   "source": [
    "# plot the training + testing loss and accuracy\n",
    "plt.style.use(\"ggplot\")\n",
    "plt.figure()\n",
    "plt.plot(np.arange(0, 15), H.history[\"loss\"], label=\"train_loss\")\n",
    "plt.plot(np.arange(0, 15), H.history[\"val_loss\"], label=\"val_loss\")\n",
    "plt.plot(np.arange(0, 15), H.history[\"acc\"], label=\"acc\")\n",
    "plt.plot(np.arange(0, 15), H.history[\"val_acc\"], label=\"val_acc\")\n",
    "plt.title(\"Training Loss and Accuracy\")\n",
    "plt.xlabel(\"Epoch #\")\n",
    "plt.ylabel(\"Loss/Accuracy\")\n",
    "plt.legend()\n",
    "plt.show()"
   ]
  },
  {
   "cell_type": "code",
   "execution_count": null,
   "metadata": {},
   "outputs": [],
   "source": []
  },
  {
   "cell_type": "code",
   "execution_count": null,
   "metadata": {},
   "outputs": [],
   "source": [
    "\n",
    "\n",
    "\n",
    "\n",
    "\n",
    "\n",
    "\n",
    "\n",
    "\n",
    "\n",
    "\n",
    "\n",
    "\n",
    "\n",
    "\n",
    "\n",
    "\n",
    "\n",
    "\n",
    "\n",
    "\n",
    "\n",
    "\n",
    "\n",
    "\n",
    "\n",
    "\n",
    "\n",
    "\n",
    "\n",
    "\n",
    "\n",
    "\n",
    "\n",
    "\n",
    "\n",
    "\n",
    "\n",
    "\n",
    "\n",
    "\n",
    "\n"
   ]
  }
 ],
 "metadata": {
  "kernelspec": {
   "display_name": "Python 3",
   "language": "python",
   "name": "python3"
  },
  "language_info": {
   "codemirror_mode": {
    "name": "ipython",
    "version": 3
   },
   "file_extension": ".py",
   "mimetype": "text/x-python",
   "name": "python",
   "nbconvert_exporter": "python",
   "pygments_lexer": "ipython3",
   "version": "3.6.4"
  }
 },
 "nbformat": 4,
 "nbformat_minor": 2
}
