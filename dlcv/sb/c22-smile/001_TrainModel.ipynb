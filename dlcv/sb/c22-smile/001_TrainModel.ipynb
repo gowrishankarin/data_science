{
 "cells": [
  {
   "cell_type": "code",
   "execution_count": 1,
   "metadata": {},
   "outputs": [
    {
     "name": "stderr",
     "output_type": "stream",
     "text": [
      "/anaconda3/envs/dlcv/lib/python3.6/site-packages/h5py/__init__.py:36: FutureWarning: Conversion of the second argument of issubdtype from `float` to `np.floating` is deprecated. In future, it will be treated as `np.float64 == np.dtype(float).type`.\n",
      "  from ._conv import register_converters as _register_converters\n",
      "Using TensorFlow backend.\n"
     ]
    }
   ],
   "source": [
    "from sklearn.preprocessing import LabelEncoder\n",
    "from sklearn.model_selection import train_test_split\n",
    "from sklearn.metrics import classification_report\n",
    "from keras.preprocessing.image import img_to_array\n",
    "from keras.utils import np_utils\n",
    "from imutils import paths\n",
    "import matplotlib.pyplot as plt\n",
    "import numpy as np\n",
    "import imutils\n",
    "import cv2, os"
   ]
  },
  {
   "cell_type": "code",
   "execution_count": 2,
   "metadata": {},
   "outputs": [],
   "source": [
    "IMG_HELP_PATH = '/Users/shankar/dev/code/ds/studies/data_science/dlcv/sb/c07-first_image_classifier'\n",
    "import os\n",
    "import sys\n",
    "sys.path.append(os.path.abspath(IMG_HELP_PATH))\n",
    "from pyimagesearch.nn.conv import LeNet"
   ]
  },
  {
   "cell_type": "code",
   "execution_count": 9,
   "metadata": {},
   "outputs": [],
   "source": [
    "DATASET = \"../datasets/SMILEsmileD\"\n",
    "MODEL = \"output/lenet.hdf5\""
   ]
  },
  {
   "cell_type": "code",
   "execution_count": 10,
   "metadata": {},
   "outputs": [],
   "source": [
    "data = []\n",
    "labels = []"
   ]
  },
  {
   "cell_type": "code",
   "execution_count": 11,
   "metadata": {},
   "outputs": [
    {
     "data": {
      "text/plain": [
       "['../datasets/SMILEsmileD/SMILEs/negatives/negatives7/10.jpg',\n",
       " '../datasets/SMILEsmileD/SMILEs/negatives/negatives7/10000.jpg',\n",
       " '../datasets/SMILEsmileD/SMILEs/negatives/negatives7/10001.jpg',\n",
       " '../datasets/SMILEsmileD/SMILEs/negatives/negatives7/10002.jpg',\n",
       " '../datasets/SMILEsmileD/SMILEs/negatives/negatives7/10003.jpg',\n",
       " '../datasets/SMILEsmileD/SMILEs/negatives/negatives7/10004.jpg',\n",
       " '../datasets/SMILEsmileD/SMILEs/negatives/negatives7/10005.jpg',\n",
       " '../datasets/SMILEsmileD/SMILEs/negatives/negatives7/10006.jpg',\n",
       " '../datasets/SMILEsmileD/SMILEs/negatives/negatives7/10008.jpg',\n",
       " '../datasets/SMILEsmileD/SMILEs/negatives/negatives7/1001.jpg']"
      ]
     },
     "execution_count": 11,
     "metadata": {},
     "output_type": "execute_result"
    }
   ],
   "source": [
    "imagePaths = list(paths.list_images(DATASET))\n",
    "imagePaths[:10]"
   ]
  },
  {
   "cell_type": "code",
   "execution_count": 12,
   "metadata": {},
   "outputs": [],
   "source": [
    "# Loop over the input images\n",
    "for imagePath in sorted(imagePaths):\n",
    "    # Load the image, preprocess it and store it in the data list\n",
    "    image = cv2.imread(imagePath)\n",
    "    image = cv2.cvtColor(image, cv2.COLOR_BGR2GRAY)\n",
    "    image = imutils.resize(image, width=28)\n",
    "    image = img_to_array(image)\n",
    "    data.append(image)\n",
    "    \n",
    "    # Extrac the class label from the image path and update the labels list\n",
    "    label = imagePath.split(os.path.sep)[-3]\n",
    "    label = \"smiling\" if label == \"positives\" else \"not_smiling\"\n",
    "    labels.append(label)"
   ]
  },
  {
   "cell_type": "code",
   "execution_count": 13,
   "metadata": {},
   "outputs": [],
   "source": [
    "# Scale the raw pixel intensities to the range [0, 1]\n",
    "data = np.array(data, dtype=\"float\") / 255.0\n",
    "labels = np.array(labels)\n",
    "\n",
    "# Account for skew in the labeled data\n",
    "le = LabelEncoder().fit(labels)\n",
    "labels = np_utils.to_categorical(le.transform(labels), 2)"
   ]
  },
  {
   "cell_type": "code",
   "execution_count": 14,
   "metadata": {},
   "outputs": [
    {
     "data": {
      "text/plain": [
       "array([1.        , 2.56775068])"
      ]
     },
     "execution_count": 14,
     "metadata": {},
     "output_type": "execute_result"
    }
   ],
   "source": [
    "# Account for skew in the labeled data\n",
    "classTotals = labels.sum(axis=0)\n",
    "classWeight = classTotals.max() / classTotals\n",
    "\n",
    "classWeight"
   ]
  },
  {
   "cell_type": "code",
   "execution_count": 15,
   "metadata": {},
   "outputs": [],
   "source": [
    "(trainX, testX, trainY, testY) = train_test_split(data, labels, test_size=0.2, stratify=labels, random_state=42)"
   ]
  },
  {
   "cell_type": "code",
   "execution_count": 16,
   "metadata": {},
   "outputs": [],
   "source": [
    "model = LeNet.build(width=28, height=28, depth=1, classes=2)\n",
    "model.compile(loss=\"binary_crossentropy\", optimizer=\"adam\", metrics=[\"accuracy\"])"
   ]
  },
  {
   "cell_type": "code",
   "execution_count": 17,
   "metadata": {},
   "outputs": [
    {
     "name": "stdout",
     "output_type": "stream",
     "text": [
      "Train on 10532 samples, validate on 2633 samples\n",
      "Epoch 1/15\n",
      "10532/10532 [==============================] - 17s 2ms/step - loss: 0.3960 - acc: 0.8194 - val_loss: 0.2949 - val_acc: 0.8724\n",
      "Epoch 2/15\n",
      "10532/10532 [==============================] - 17s 2ms/step - loss: 0.2619 - acc: 0.8933 - val_loss: 0.2786 - val_acc: 0.8819\n",
      "Epoch 3/15\n",
      "10532/10532 [==============================] - 17s 2ms/step - loss: 0.2370 - acc: 0.9074 - val_loss: 0.2700 - val_acc: 0.8956\n",
      "Epoch 4/15\n",
      "10532/10532 [==============================] - 17s 2ms/step - loss: 0.2223 - acc: 0.9126 - val_loss: 0.2581 - val_acc: 0.8967\n",
      "Epoch 5/15\n",
      "10532/10532 [==============================] - 17s 2ms/step - loss: 0.1958 - acc: 0.9252 - val_loss: 0.2443 - val_acc: 0.9039\n",
      "Epoch 6/15\n",
      "10532/10532 [==============================] - 17s 2ms/step - loss: 0.1810 - acc: 0.9314 - val_loss: 0.2332 - val_acc: 0.9047\n",
      "Epoch 7/15\n",
      "10532/10532 [==============================] - 18s 2ms/step - loss: 0.1582 - acc: 0.9403 - val_loss: 0.2277 - val_acc: 0.9085\n",
      "Epoch 8/15\n",
      "10532/10532 [==============================] - 17s 2ms/step - loss: 0.1429 - acc: 0.9445 - val_loss: 0.2318 - val_acc: 0.9126\n",
      "Epoch 9/15\n",
      "10532/10532 [==============================] - 18s 2ms/step - loss: 0.1174 - acc: 0.9549 - val_loss: 0.2554 - val_acc: 0.9115\n",
      "Epoch 10/15\n",
      "10532/10532 [==============================] - 18s 2ms/step - loss: 0.1000 - acc: 0.9608 - val_loss: 0.2641 - val_acc: 0.9111\n",
      "Epoch 11/15\n",
      "10532/10532 [==============================] - 17s 2ms/step - loss: 0.0775 - acc: 0.9719 - val_loss: 0.2884 - val_acc: 0.9035\n",
      "Epoch 12/15\n",
      "10532/10532 [==============================] - 17s 2ms/step - loss: 0.0593 - acc: 0.9794 - val_loss: 0.3232 - val_acc: 0.8910\n",
      "Epoch 13/15\n",
      "10532/10532 [==============================] - 18s 2ms/step - loss: 0.0408 - acc: 0.9867 - val_loss: 0.3356 - val_acc: 0.9111\n",
      "Epoch 14/15\n",
      "10532/10532 [==============================] - 19s 2ms/step - loss: 0.0278 - acc: 0.9923 - val_loss: 0.3495 - val_acc: 0.9172\n",
      "Epoch 15/15\n",
      "10532/10532 [==============================] - 18s 2ms/step - loss: 0.0268 - acc: 0.9917 - val_loss: 0.3994 - val_acc: 0.9100\n"
     ]
    }
   ],
   "source": [
    "H = model.fit(trainX, trainY, validation_data=(testX, testY), class_weight=classWeight, batch_size=64, epochs=15, verbose=1)"
   ]
  },
  {
   "cell_type": "code",
   "execution_count": 19,
   "metadata": {},
   "outputs": [
    {
     "name": "stdout",
     "output_type": "stream",
     "text": [
      "             precision    recall  f1-score   support\n",
      "\n",
      "not_smiling       0.94      0.94      0.94      1895\n",
      "    smiling       0.84      0.83      0.84       738\n",
      "\n",
      "avg / total       0.91      0.91      0.91      2633\n",
      "\n"
     ]
    }
   ],
   "source": [
    "predictions = model.predict(testX, batch_size=64)\n",
    "print(classification_report(testY.argmax(axis=1), predictions.argmax(axis=1), target_names=le.classes_))"
   ]
  },
  {
   "cell_type": "code",
   "execution_count": 21,
   "metadata": {},
   "outputs": [],
   "source": [
    "model.save(MODEL)"
   ]
  },
  {
   "cell_type": "code",
   "execution_count": 22,
   "metadata": {},
   "outputs": [
    {
     "data": {
      "image/png": "[encoded data removed]",
      "text/plain": [
       "<Figure size 432x288 with 1 Axes>"
      ]
     },
     "metadata": {},
     "output_type": "display_data"
    }
   ],
   "source": [
    "# plot the training + testing loss and accuracy\n",
    "plt.style.use(\"ggplot\")\n",
    "plt.figure()\n",
    "plt.plot(np.arange(0, 15), H.history[\"loss\"], label=\"train_loss\")\n",
    "plt.plot(np.arange(0, 15), H.history[\"val_loss\"], label=\"val_loss\")\n",
    "plt.plot(np.arange(0, 15), H.history[\"acc\"], label=\"acc\")\n",
    "plt.plot(np.arange(0, 15), H.history[\"val_acc\"], label=\"val_acc\")\n",
    "plt.title(\"Training Loss and Accuracy\")\n",
    "plt.xlabel(\"Epoch #\")\n",
    "plt.ylabel(\"Loss/Accuracy\")\n",
    "plt.legend()\n",
    "plt.show()"
   ]
  },
  {
   "cell_type": "code",
   "execution_count": null,
   "metadata": {},
   "outputs": [],
   "source": []
  },
  {
   "cell_type": "code",
   "execution_count": null,
   "metadata": {},
   "outputs": [],
   "source": [
    "\n",
    "\n",
    "\n",
    "\n",
    "\n",
    "\n",
    "\n",
    "\n",
    "\n",
    "\n",
    "\n",
    "\n",
    "\n",
    "\n",
    "\n",
    "\n",
    "\n",
    "\n",
    "\n",
    "\n",
    "\n",
    "\n",
    "\n",
    "\n",
    "\n",
    "\n",
    "\n",
    "\n",
    "\n",
    "\n",
    "\n",
    "\n",
    "\n",
    "\n",
    "\n",
    "\n",
    "\n",
    "\n",
    "\n",
    "\n",
    "\n",
    "\n"
   ]
  }
 ],
 "metadata": {
  "kernelspec": {
   "display_name": "Python 3",
   "language": "python",
   "name": "python3"
  },
  "language_info": {
   "codemirror_mode": {
    "name": "ipython",
    "version": 3
   },
   "file_extension": ".py",
   "mimetype": "text/x-python",
   "name": "python",
   "nbconvert_exporter": "python",
   "pygments_lexer": "ipython3",
   "version": "3.6.4"
  }
 },
 "nbformat": 4,
 "nbformat_minor": 2
}
