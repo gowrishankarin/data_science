{
 "cells": [
  {
   "cell_type": "code",
   "execution_count": 1,
   "metadata": {},
   "outputs": [],
   "source": [
    "from sklearn.linear_model import SGDClassifier\n",
    "from sklearn.preprocessing import LabelEncoder\n",
    "from sklearn.model_selection import train_test_split\n",
    "from imutils import paths"
   ]
  },
  {
   "cell_type": "code",
   "execution_count": 6,
   "metadata": {},
   "outputs": [],
   "source": [
    "IMG_HELP_PATH = '/Users/shankar/dev/code/ds/studies/data_science/dlcv/sb/c07-first_image_classifier'\n",
    "IMG_FILE_PATH = '../datasets/animals'\n",
    "\n",
    "IM_DIM = 32\n",
    "CHANNELS = 3"
   ]
  },
  {
   "cell_type": "code",
   "execution_count": 3,
   "metadata": {},
   "outputs": [],
   "source": [
    "import os\n",
    "import sys\n",
    "sys.path.append(os.path.abspath(IMG_HELP_PATH))"
   ]
  },
  {
   "cell_type": "code",
   "execution_count": 5,
   "metadata": {},
   "outputs": [],
   "source": [
    "imagePaths = list(paths.list_images(IMG_FILE_PATH))"
   ]
  },
  {
   "cell_type": "code",
   "execution_count": 7,
   "metadata": {},
   "outputs": [
    {
     "name": "stdout",
     "output_type": "stream",
     "text": [
      "[INFO] processed 500/3000\n",
      "[INFO] processed 1000/3000\n",
      "[INFO] processed 1500/3000\n",
      "[INFO] processed 2000/3000\n",
      "[INFO] processed 2500/3000\n",
      "[INFO] processed 3000/3000\n"
     ]
    }
   ],
   "source": [
    "from pyimagesearch.preprocessing import SimplePreprocessor\n",
    "from pyimagesearch.datasets import SimpleDatasetLoader\n",
    "\n",
    "sp = SimplePreprocessor(IM_DIM, IM_DIM)\n",
    "sdl = SimpleDatasetLoader(preprocessors=[sp])\n",
    "(data,labels) = sdl.load(imagePaths, verbose=500)\n",
    "data = data.reshape((data.shape[0], IM_DIM*IM_DIM*CHANNELS))"
   ]
  },
  {
   "cell_type": "code",
   "execution_count": 8,
   "metadata": {},
   "outputs": [],
   "source": [
    "le = LabelEncoder()\n",
    "labels = le.fit_transform(labels)"
   ]
  },
  {
   "cell_type": "code",
   "execution_count": 9,
   "metadata": {},
   "outputs": [],
   "source": [
    "(trainX, testX, trainY, testY) = train_test_split(data, labels, test_size=0.25, random_state=42)"
   ]
  },
  {
   "cell_type": "code",
   "execution_count": 10,
   "metadata": {},
   "outputs": [
    {
     "name": "stdout",
     "output_type": "stream",
     "text": [
      "[INFO] training model with `None` penalty\n",
      "[INFO] `None` penalty accuracy: 55.47%\n",
      "[INFO] training model with `l1` penalty\n",
      "[INFO] `l1` penalty accuracy: 53.87%\n",
      "[INFO] training model with `l2` penalty\n",
      "[INFO] `l2` penalty accuracy: 53.20%\n"
     ]
    }
   ],
   "source": [
    "for r in (None, \"l1\", \"l2\"):\n",
    "    # Train a SGD classifier using a softmax loss functiona and with and\n",
    "    # without regularization\n",
    "    print(\"[INFO] training model with `{}` penalty\".format(r))\n",
    "    model = SGDClassifier(loss=\"log\", penalty=r, max_iter=10, learning_rate=\"constant\",\n",
    "        eta0=0.01, random_state=42)\n",
    "    model.fit(trainX, trainY)\n",
    "    \n",
    "    acc = model.score(testX, testY)\n",
    "    print(\"[INFO] `{}` penalty accuracy: {:.2f}%\".format(r, acc*100))"
   ]
  },
  {
   "cell_type": "code",
   "execution_count": null,
   "metadata": {},
   "outputs": [],
   "source": []
  }
 ],
 "metadata": {
  "kernelspec": {
   "display_name": "Python 3",
   "language": "python",
   "name": "python3"
  },
  "language_info": {
   "codemirror_mode": {
    "name": "ipython",
    "version": 3
   },
   "file_extension": ".py",
   "mimetype": "text/x-python",
   "name": "python",
   "nbconvert_exporter": "python",
   "pygments_lexer": "ipython3",
   "version": "3.6.3"
  }
 },
 "nbformat": 4,
 "nbformat_minor": 2
}
