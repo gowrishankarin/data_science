{
 "cells": [
  {
   "cell_type": "code",
   "execution_count": 1,
   "metadata": {},
   "outputs": [],
   "source": [
    "from sklearn.model_selection import train_test_split\n",
    "from sklearn.metrics import classification_report\n",
    "from sklearn.datasets import make_blobs\n",
    "import matplotlib.pyplot as plt\n",
    "import numpy as np\n",
    "import argparse"
   ]
  },
  {
   "cell_type": "code",
   "execution_count": 14,
   "metadata": {},
   "outputs": [],
   "source": [
    "def sigmoid_activation(x):\n",
    "    return 1.0/(1+np.exp(-x))\n",
    "\n",
    "def d_sigmoid(x):\n",
    "    return x*(1-x)\n",
    "\n",
    "def predict(X, W):\n",
    "    # Take the dot product between our features and weight matrix\n",
    "    preds = sigmoid_activation(X.dot(W))\n",
    "    \n",
    "    # Apply a step function to threshold the outputs to binary class labels\n",
    "    preds[preds <= 0.5] = 0\n",
    "    preds[preds > 0] = 1\n",
    "    \n",
    "    return preds\n",
    "\n",
    "def next_batch(X, y, batchSize):\n",
    "    # Loop over our dataset 'X' in mini-batches, yielding a tuple of \n",
    "    # the current batched data and labels\n",
    "    for i in np.arange(0, X.shape[0], batchSize):\n",
    "        print(i)\n",
    "        yield(X[i:i + batchSize], y[i:i + batchSize])"
   ]
  },
  {
   "cell_type": "code",
   "execution_count": 9,
   "metadata": {},
   "outputs": [],
   "source": [
    "# Hyperparameters\n",
    "ALPHA = 0.001\n",
    "EPOCHS = 100\n",
    "BATCH_SIZE = 20"
   ]
  },
  {
   "cell_type": "code",
   "execution_count": 4,
   "metadata": {},
   "outputs": [],
   "source": [
    "# Generate a 2 class classification problem with 1000 data points \n",
    "# where each data point is a 2D feature vector\n",
    "(X, y) = make_blobs(n_samples=1000, n_features=2, centers=2, \n",
    "    cluster_std=1.5, random_state=1)\n",
    "y = y.reshape((y.shape[0], 1))"
   ]
  },
  {
   "cell_type": "code",
   "execution_count": 5,
   "metadata": {},
   "outputs": [
    {
     "name": "stdout",
     "output_type": "stream",
     "text": [
      "(1000, 3)\n"
     ]
    },
    {
     "data": {
      "text/plain": [
       "array([[ -3.75777913,   4.5291416 ,   1.        ],\n",
       "       [ -7.91575179,  -3.61404891,   1.        ],\n",
       "       [  2.88672576,   5.64336681,   1.        ],\n",
       "       [ -9.0099072 ,  -2.45499607,   1.        ],\n",
       "       [-12.35882264,  -3.80245842,   1.        ],\n",
       "       [-12.13500386,  -5.30851264,   1.        ],\n",
       "       [-10.66892241,  -3.67047418,   1.        ],\n",
       "       [-10.67019716,  -2.91431518,   1.        ],\n",
       "       [ -0.09942618,   3.02882981,   1.        ],\n",
       "       [-11.36787762,  -4.88920628,   1.        ]])"
      ]
     },
     "execution_count": 5,
     "metadata": {},
     "output_type": "execute_result"
    }
   ],
   "source": [
    "# Insert a column matrix of 1s as the last entry in the feature matrix\n",
    "# -- this little trick allows us to treat the bias as a trainable parameter\n",
    "# within the weight matrix\n",
    "\n",
    "X = np.c_[X, np.ones((X.shape[0]))]\n",
    "print(X.shape)\n",
    "X[:10]"
   ]
  },
  {
   "cell_type": "code",
   "execution_count": 6,
   "metadata": {},
   "outputs": [],
   "source": [
    "# Partition the data into training and testing splits using 50% of the\n",
    "# data for training and the remaining 50% for testing\n",
    "\n",
    "(trainX, testX, trainY, testY) = train_test_split(X, y, test_size=0.5, random_state=42)"
   ]
  },
  {
   "cell_type": "code",
   "execution_count": 7,
   "metadata": {},
   "outputs": [
    {
     "name": "stdout",
     "output_type": "stream",
     "text": [
      "[INFO] training...\n"
     ]
    }
   ],
   "source": [
    "# Initialize our weight matix and list of losses\n",
    "print(\"[INFO] training...\")\n",
    "W = np.random.randn(X.shape[1], 1)\n",
    "losses = []"
   ]
  },
  {
   "cell_type": "code",
   "execution_count": 10,
   "metadata": {},
   "outputs": [
    {
     "name": "stdout",
     "output_type": "stream",
     "text": [
      "[INFO] epoch=1, loss=5.5136136\n",
      "[INFO] epoch=5, loss=0.2005280\n",
      "[INFO] epoch=10, loss=0.0825553\n",
      "[INFO] epoch=15, loss=0.0542382\n",
      "[INFO] epoch=20, loss=0.0424902\n",
      "[INFO] epoch=25, loss=0.0360875\n",
      "[INFO] epoch=30, loss=0.0319533\n",
      "[INFO] epoch=35, loss=0.0289850\n",
      "[INFO] epoch=40, loss=0.0267045\n",
      "[INFO] epoch=45, loss=0.0248717\n",
      "[INFO] epoch=50, loss=0.0233514\n",
      "[INFO] epoch=55, loss=0.0220608\n",
      "[INFO] epoch=60, loss=0.0209457\n",
      "[INFO] epoch=65, loss=0.0199687\n",
      "[INFO] epoch=70, loss=0.0191028\n",
      "[INFO] epoch=75, loss=0.0183282\n",
      "[INFO] epoch=80, loss=0.0176298\n",
      "[INFO] epoch=85, loss=0.0169957\n",
      "[INFO] epoch=90, loss=0.0164166\n",
      "[INFO] epoch=95, loss=0.0158850\n",
      "[INFO] epoch=100, loss=0.0153946\n"
     ]
    }
   ],
   "source": [
    "for epoch in np.arange(0, EPOCHS):\n",
    "    epochLoss = []\n",
    "    \n",
    "    for(batchX, batchY) in next_batch(trainX, trainY, BATCH_SIZE):\n",
    "        preds = sigmoid_activation(batchX.dot(W))\n",
    "        \n",
    "        error = preds - batchY\n",
    "        epochLoss.append(np.sum(error ** 2))\n",
    "        \n",
    "        gradient = batchX.T.dot(error)\n",
    "        \n",
    "        W += -ALPHA * gradient\n",
    "        \n",
    "    loss = np.average(epochLoss)\n",
    "    losses.append(loss)\n",
    "    \n",
    "    if epoch == 0 or (epoch + 1) % 5 == 0:\n",
    "        print(\"[INFO] epoch={}, loss={:.7f}\".format(int(epoch + 1), loss))"
   ]
  },
  {
   "cell_type": "code",
   "execution_count": 12,
   "metadata": {},
   "outputs": [
    {
     "name": "stdout",
     "output_type": "stream",
     "text": [
      "[INFO] evaluating...\n",
      "             precision    recall  f1-score   support\n",
      "\n",
      "          0       1.00      1.00      1.00       250\n",
      "          1       1.00      1.00      1.00       250\n",
      "\n",
      "avg / total       1.00      1.00      1.00       500\n",
      "\n"
     ]
    }
   ],
   "source": [
    "print(\"[INFO] evaluating...\")\n",
    "preds = predict(testX, W)\n",
    "print(classification_report(testY, preds))"
   ]
  },
  {
   "cell_type": "code",
   "execution_count": 15,
   "metadata": {},
   "outputs": [
    {
     "name": "stdout",
     "output_type": "stream",
     "text": [
      "0\n",
      "(20, 3) (20, 1)\n",
      "20\n",
      "(20, 3) (20, 1)\n",
      "40\n",
      "(20, 3) (20, 1)\n",
      "60\n",
      "(20, 3) (20, 1)\n",
      "80\n",
      "(20, 3) (20, 1)\n",
      "100\n",
      "(20, 3) (20, 1)\n",
      "120\n",
      "(20, 3) (20, 1)\n",
      "140\n",
      "(20, 3) (20, 1)\n",
      "160\n",
      "(20, 3) (20, 1)\n",
      "180\n",
      "(20, 3) (20, 1)\n",
      "200\n",
      "(20, 3) (20, 1)\n",
      "220\n",
      "(20, 3) (20, 1)\n",
      "240\n",
      "(20, 3) (20, 1)\n",
      "260\n",
      "(20, 3) (20, 1)\n",
      "280\n",
      "(20, 3) (20, 1)\n",
      "300\n",
      "(20, 3) (20, 1)\n",
      "320\n",
      "(20, 3) (20, 1)\n",
      "340\n",
      "(20, 3) (20, 1)\n",
      "360\n",
      "(20, 3) (20, 1)\n",
      "380\n",
      "(20, 3) (20, 1)\n",
      "400\n",
      "(20, 3) (20, 1)\n",
      "420\n",
      "(20, 3) (20, 1)\n",
      "440\n",
      "(20, 3) (20, 1)\n",
      "460\n",
      "(20, 3) (20, 1)\n",
      "480\n",
      "(20, 3) (20, 1)\n"
     ]
    }
   ],
   "source": [
    "for(batchX, batchY) in next_batch(trainX, trainY, BATCH_SIZE):\n",
    "    print(batchX.shape, batchY.shape)"
   ]
  },
  {
   "cell_type": "code",
   "execution_count": null,
   "metadata": {},
   "outputs": [],
   "source": []
  }
 ],
 "metadata": {
  "kernelspec": {
   "display_name": "Python 3",
   "language": "python",
   "name": "python3"
  },
  "language_info": {
   "codemirror_mode": {
    "name": "ipython",
    "version": 3
   },
   "file_extension": ".py",
   "mimetype": "text/x-python",
   "name": "python",
   "nbconvert_exporter": "python",
   "pygments_lexer": "ipython3",
   "version": "3.6.3"
  }
 },
 "nbformat": 4,
 "nbformat_minor": 2
}
