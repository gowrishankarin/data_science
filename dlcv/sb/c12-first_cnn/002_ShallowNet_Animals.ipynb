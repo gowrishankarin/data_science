{
 "cells": [
  {
   "cell_type": "code",
   "execution_count": 1,
   "metadata": {},
   "outputs": [
    {
     "name": "stderr",
     "output_type": "stream",
     "text": [
      "/anaconda3/envs/dlcv/lib/python3.6/site-packages/h5py/__init__.py:36: FutureWarning: Conversion of the second argument of issubdtype from `float` to `np.floating` is deprecated. In future, it will be treated as `np.float64 == np.dtype(float).type`.\n",
      "  from ._conv import register_converters as _register_converters\n",
      "Using TensorFlow backend.\n"
     ]
    }
   ],
   "source": [
    "from sklearn.preprocessing import LabelBinarizer\n",
    "from sklearn.model_selection import train_test_split\n",
    "from sklearn.metrics import classification_report\n",
    "from keras.optimizers import SGD\n",
    "from imutils import paths\n",
    "import matplotlib.pyplot as plt\n",
    "import numpy as np\n"
   ]
  },
  {
   "cell_type": "code",
   "execution_count": 9,
   "metadata": {},
   "outputs": [],
   "source": [
    "IMG_HELP_PATH = '/Users/shankar/dev/code/ds/studies/data_science/dlcv/sb/c07-first_image_classifier'\n",
    "IMG_FILE_PATH = '../datasets/animals'"
   ]
  },
  {
   "cell_type": "code",
   "execution_count": 11,
   "metadata": {},
   "outputs": [],
   "source": [
    "import os\n",
    "import sys\n",
    "sys.path.append(os.path.abspath(IMG_HELP_PATH))\n",
    "imagePaths = list(paths.list_images(IMG_FILE_PATH))"
   ]
  },
  {
   "cell_type": "code",
   "execution_count": 5,
   "metadata": {},
   "outputs": [],
   "source": [
    "from pyimagesearch.preprocessing import ImageToArrayPreprocessor\n",
    "from pyimagesearch.preprocessing import SimplePreprocessor\n",
    "from pyimagesearch.datasets import SimpleDatasetLoader\n",
    "from pyimagesearch.nn.conv import ShallowNet\n"
   ]
  },
  {
   "cell_type": "code",
   "execution_count": 12,
   "metadata": {},
   "outputs": [
    {
     "name": "stdout",
     "output_type": "stream",
     "text": [
      "[INFO] processed 500/3000\n",
      "[INFO] processed 1000/3000\n",
      "[INFO] processed 1500/3000\n",
      "[INFO] processed 2000/3000\n",
      "[INFO] processed 2500/3000\n",
      "[INFO] processed 3000/3000\n"
     ]
    }
   ],
   "source": [
    "sp = SimplePreprocessor(32, 32)\n",
    "iap = ImageToArrayPreprocessor()\n",
    "\n",
    "sdl = SimpleDatasetLoader(preprocessors=[sp, iap])\n",
    "(data, labels) = sdl.load(imagePaths, verbose=500)\n",
    "data = data.astype(\"float\")/255.0"
   ]
  },
  {
   "cell_type": "code",
   "execution_count": 13,
   "metadata": {},
   "outputs": [],
   "source": [
    "# Get test and train data\n",
    "(trainX, testX, trainY, testY) = train_test_split(data, labels, test_size=0.25, random_state=42)"
   ]
  },
  {
   "cell_type": "code",
   "execution_count": 14,
   "metadata": {},
   "outputs": [],
   "source": [
    "# Convert the labels from integers to verctors\n",
    "trainY = LabelBinarizer().fit_transform(trainY)\n",
    "testY = LabelBinarizer().fit_transform(testY)"
   ]
  },
  {
   "cell_type": "code",
   "execution_count": 15,
   "metadata": {},
   "outputs": [
    {
     "name": "stdout",
     "output_type": "stream",
     "text": [
      "[INFO] compiling model...\n"
     ]
    }
   ],
   "source": [
    "print(\"[INFO] compiling model...\")\n",
    "opt = SGD(lr=0.005)\n",
    "model = ShallowNet.build(width=32, height=32, depth=3, classes=3)\n",
    "model.compile(loss=\"categorical_crossentropy\", optimizer=opt, metrics=[\"accuracy\"])"
   ]
  },
  {
   "cell_type": "code",
   "execution_count": 16,
   "metadata": {},
   "outputs": [
    {
     "name": "stdout",
     "output_type": "stream",
     "text": [
      "[INFO] training network...\n",
      "Train on 2250 samples, validate on 750 samples\n",
      "Epoch 1/100\n",
      "2250/2250 [==============================] - 2s 934us/step - loss: 1.0198 - acc: 0.4698 - val_loss: 0.9861 - val_acc: 0.4840\n",
      "Epoch 2/100\n",
      "2250/2250 [==============================] - 2s 787us/step - loss: 0.9286 - acc: 0.5373 - val_loss: 1.0002 - val_acc: 0.4907\n",
      "Epoch 3/100\n",
      "2250/2250 [==============================] - 2s 804us/step - loss: 0.8883 - acc: 0.5511 - val_loss: 0.9673 - val_acc: 0.4960\n",
      "Epoch 4/100\n",
      "2250/2250 [==============================] - 2s 802us/step - loss: 0.8767 - acc: 0.5484 - val_loss: 0.9930 - val_acc: 0.4587\n",
      "Epoch 5/100\n",
      "2250/2250 [==============================] - 2s 784us/step - loss: 0.8494 - acc: 0.5707 - val_loss: 0.8655 - val_acc: 0.5600\n",
      "Epoch 6/100\n",
      "2250/2250 [==============================] - 2s 782us/step - loss: 0.8379 - acc: 0.5818 - val_loss: 0.8655 - val_acc: 0.5667\n",
      "Epoch 7/100\n",
      "2250/2250 [==============================] - 2s 782us/step - loss: 0.8150 - acc: 0.6040 - val_loss: 0.8936 - val_acc: 0.5440\n",
      "Epoch 8/100\n",
      "2250/2250 [==============================] - 2s 797us/step - loss: 0.8023 - acc: 0.6120 - val_loss: 0.9491 - val_acc: 0.5160\n",
      "Epoch 9/100\n",
      "2250/2250 [==============================] - 2s 786us/step - loss: 0.7898 - acc: 0.6236 - val_loss: 1.0129 - val_acc: 0.4920\n",
      "Epoch 10/100\n",
      "2250/2250 [==============================] - 2s 795us/step - loss: 0.7830 - acc: 0.6182 - val_loss: 0.8670 - val_acc: 0.5493\n",
      "Epoch 11/100\n",
      "2250/2250 [==============================] - 2s 800us/step - loss: 0.7728 - acc: 0.6236 - val_loss: 0.8927 - val_acc: 0.5467\n",
      "Epoch 12/100\n",
      "2250/2250 [==============================] - 2s 800us/step - loss: 0.7660 - acc: 0.6347 - val_loss: 0.8293 - val_acc: 0.5827\n",
      "Epoch 13/100\n",
      "2250/2250 [==============================] - 2s 792us/step - loss: 0.7606 - acc: 0.6364 - val_loss: 0.8770 - val_acc: 0.5467\n",
      "Epoch 14/100\n",
      "2250/2250 [==============================] - 2s 805us/step - loss: 0.7653 - acc: 0.6418 - val_loss: 0.8203 - val_acc: 0.5840\n",
      "Epoch 15/100\n",
      "2250/2250 [==============================] - 2s 812us/step - loss: 0.7474 - acc: 0.6507 - val_loss: 0.8689 - val_acc: 0.5600\n",
      "Epoch 16/100\n",
      "2250/2250 [==============================] - 2s 795us/step - loss: 0.7333 - acc: 0.6640 - val_loss: 0.8101 - val_acc: 0.5867\n",
      "Epoch 17/100\n",
      "2250/2250 [==============================] - 2s 794us/step - loss: 0.7283 - acc: 0.6618 - val_loss: 0.8080 - val_acc: 0.5893\n",
      "Epoch 18/100\n",
      "2250/2250 [==============================] - 2s 790us/step - loss: 0.7206 - acc: 0.6707 - val_loss: 0.8138 - val_acc: 0.5960\n",
      "Epoch 19/100\n",
      "2250/2250 [==============================] - 2s 804us/step - loss: 0.7140 - acc: 0.6831 - val_loss: 0.8515 - val_acc: 0.5667\n",
      "Epoch 20/100\n",
      "2250/2250 [==============================] - 2s 805us/step - loss: 0.7083 - acc: 0.6698 - val_loss: 0.8075 - val_acc: 0.5920\n",
      "Epoch 21/100\n",
      "2250/2250 [==============================] - 2s 760us/step - loss: 0.7011 - acc: 0.6800 - val_loss: 0.8817 - val_acc: 0.5507\n",
      "Epoch 22/100\n",
      "2250/2250 [==============================] - 2s 771us/step - loss: 0.7003 - acc: 0.6773 - val_loss: 0.8222 - val_acc: 0.5813\n",
      "Epoch 23/100\n",
      "2250/2250 [==============================] - 2s 795us/step - loss: 0.6936 - acc: 0.6853 - val_loss: 0.8033 - val_acc: 0.6013\n",
      "Epoch 24/100\n",
      "2250/2250 [==============================] - 2s 798us/step - loss: 0.6837 - acc: 0.6991 - val_loss: 0.8141 - val_acc: 0.5920\n",
      "Epoch 25/100\n",
      "2250/2250 [==============================] - 2s 775us/step - loss: 0.6805 - acc: 0.6991 - val_loss: 0.8694 - val_acc: 0.5600\n",
      "Epoch 26/100\n",
      "2250/2250 [==============================] - 2s 768us/step - loss: 0.6726 - acc: 0.6991 - val_loss: 0.8146 - val_acc: 0.5907\n",
      "Epoch 27/100\n",
      "2250/2250 [==============================] - 2s 782us/step - loss: 0.6649 - acc: 0.6951 - val_loss: 0.8784 - val_acc: 0.5747\n",
      "Epoch 28/100\n",
      "2250/2250 [==============================] - 2s 835us/step - loss: 0.6604 - acc: 0.7138 - val_loss: 0.8812 - val_acc: 0.5547\n",
      "Epoch 29/100\n",
      "2250/2250 [==============================] - 2s 786us/step - loss: 0.6586 - acc: 0.7093 - val_loss: 0.8279 - val_acc: 0.5787\n",
      "Epoch 30/100\n",
      "2250/2250 [==============================] - 2s 768us/step - loss: 0.6361 - acc: 0.7258 - val_loss: 0.8621 - val_acc: 0.5560\n",
      "Epoch 31/100\n",
      "2250/2250 [==============================] - 2s 813us/step - loss: 0.6369 - acc: 0.7142 - val_loss: 0.7735 - val_acc: 0.6187\n",
      "Epoch 32/100\n",
      "2250/2250 [==============================] - 2s 760us/step - loss: 0.6290 - acc: 0.7267 - val_loss: 0.8734 - val_acc: 0.5800\n",
      "Epoch 33/100\n",
      "2250/2250 [==============================] - 2s 781us/step - loss: 0.6290 - acc: 0.7244 - val_loss: 0.7570 - val_acc: 0.6333\n",
      "Epoch 34/100\n",
      "2250/2250 [==============================] - 2s 758us/step - loss: 0.6212 - acc: 0.7311 - val_loss: 0.7681 - val_acc: 0.6240\n",
      "Epoch 35/100\n",
      "2250/2250 [==============================] - 2s 814us/step - loss: 0.6125 - acc: 0.7387 - val_loss: 0.7713 - val_acc: 0.6307\n",
      "Epoch 36/100\n",
      "2250/2250 [==============================] - 2s 768us/step - loss: 0.6080 - acc: 0.7404 - val_loss: 0.7629 - val_acc: 0.6387\n",
      "Epoch 37/100\n",
      "2250/2250 [==============================] - 2s 745us/step - loss: 0.5982 - acc: 0.7502 - val_loss: 0.7487 - val_acc: 0.6347\n",
      "Epoch 38/100\n",
      "2250/2250 [==============================] - 2s 761us/step - loss: 0.5890 - acc: 0.7520 - val_loss: 0.7589 - val_acc: 0.6360\n",
      "Epoch 39/100\n",
      "2250/2250 [==============================] - 2s 795us/step - loss: 0.5904 - acc: 0.7480 - val_loss: 0.8029 - val_acc: 0.6173\n",
      "Epoch 40/100\n",
      "2250/2250 [==============================] - 2s 827us/step - loss: 0.5852 - acc: 0.7649 - val_loss: 0.8274 - val_acc: 0.6027\n",
      "Epoch 41/100\n",
      "2250/2250 [==============================] - 2s 793us/step - loss: 0.5762 - acc: 0.7627 - val_loss: 0.7855 - val_acc: 0.6373\n",
      "Epoch 42/100\n",
      "2250/2250 [==============================] - 2s 778us/step - loss: 0.5706 - acc: 0.7542 - val_loss: 0.7382 - val_acc: 0.6547\n",
      "Epoch 43/100\n",
      "2250/2250 [==============================] - 2s 779us/step - loss: 0.5670 - acc: 0.7644 - val_loss: 0.8336 - val_acc: 0.5947\n",
      "Epoch 44/100\n",
      "2250/2250 [==============================] - 2s 822us/step - loss: 0.5572 - acc: 0.7720 - val_loss: 0.7353 - val_acc: 0.6507\n",
      "Epoch 45/100\n",
      "2250/2250 [==============================] - 2s 762us/step - loss: 0.5541 - acc: 0.7813 - val_loss: 0.8128 - val_acc: 0.6000\n",
      "Epoch 46/100\n",
      "2250/2250 [==============================] - 2s 783us/step - loss: 0.5558 - acc: 0.7702 - val_loss: 0.7955 - val_acc: 0.6160\n",
      "Epoch 47/100\n",
      "2250/2250 [==============================] - 2s 830us/step - loss: 0.5430 - acc: 0.7720 - val_loss: 0.7435 - val_acc: 0.6440\n",
      "Epoch 48/100\n",
      "2250/2250 [==============================] - 2s 826us/step - loss: 0.5337 - acc: 0.7844 - val_loss: 0.7317 - val_acc: 0.6573\n",
      "Epoch 49/100\n",
      "2250/2250 [==============================] - 2s 762us/step - loss: 0.5359 - acc: 0.7764 - val_loss: 0.7928 - val_acc: 0.6173\n",
      "Epoch 50/100\n",
      "2250/2250 [==============================] - 2s 799us/step - loss: 0.5273 - acc: 0.7876 - val_loss: 0.7933 - val_acc: 0.5973\n",
      "Epoch 51/100\n",
      "2250/2250 [==============================] - 2s 801us/step - loss: 0.5234 - acc: 0.7871 - val_loss: 0.7571 - val_acc: 0.6453\n",
      "Epoch 52/100\n",
      "2250/2250 [==============================] - 2s 820us/step - loss: 0.5184 - acc: 0.7831 - val_loss: 0.7861 - val_acc: 0.6307\n",
      "Epoch 53/100\n",
      "2250/2250 [==============================] - 2s 949us/step - loss: 0.5194 - acc: 0.7911 - val_loss: 0.7252 - val_acc: 0.6533\n",
      "Epoch 54/100\n",
      "2250/2250 [==============================] - 2s 905us/step - loss: 0.5003 - acc: 0.8116 - val_loss: 0.7640 - val_acc: 0.6240\n",
      "Epoch 55/100\n",
      "2250/2250 [==============================] - 2s 887us/step - loss: 0.5000 - acc: 0.8018 - val_loss: 0.7621 - val_acc: 0.6173\n",
      "Epoch 56/100\n",
      "2250/2250 [==============================] - 2s 808us/step - loss: 0.4956 - acc: 0.8009 - val_loss: 0.7433 - val_acc: 0.6360\n",
      "Epoch 57/100\n",
      "2250/2250 [==============================] - 2s 810us/step - loss: 0.4848 - acc: 0.8120 - val_loss: 0.7643 - val_acc: 0.6200\n",
      "Epoch 58/100\n",
      "2250/2250 [==============================] - 2s 793us/step - loss: 0.4852 - acc: 0.8044 - val_loss: 0.8438 - val_acc: 0.6120\n",
      "Epoch 59/100\n",
      "2250/2250 [==============================] - 2s 888us/step - loss: 0.4825 - acc: 0.8093 - val_loss: 0.7765 - val_acc: 0.6253\n",
      "Epoch 60/100\n",
      "2250/2250 [==============================] - 2s 892us/step - loss: 0.4799 - acc: 0.8093 - val_loss: 0.8288 - val_acc: 0.5973\n",
      "Epoch 61/100\n",
      "2250/2250 [==============================] - 2s 860us/step - loss: 0.4828 - acc: 0.8138 - val_loss: 0.7160 - val_acc: 0.6733\n",
      "Epoch 62/100\n",
      "2250/2250 [==============================] - 2s 807us/step - loss: 0.4715 - acc: 0.8138 - val_loss: 0.7270 - val_acc: 0.6627\n",
      "Epoch 63/100\n",
      "2250/2250 [==============================] - 2s 800us/step - loss: 0.4657 - acc: 0.8200 - val_loss: 0.7479 - val_acc: 0.6627\n",
      "Epoch 64/100\n",
      "2250/2250 [==============================] - 2s 803us/step - loss: 0.4628 - acc: 0.8173 - val_loss: 0.8972 - val_acc: 0.6040\n",
      "Epoch 65/100\n",
      "2250/2250 [==============================] - 2s 834us/step - loss: 0.4528 - acc: 0.8271 - val_loss: 0.8136 - val_acc: 0.6067\n",
      "Epoch 66/100\n",
      "2250/2250 [==============================] - 2s 816us/step - loss: 0.4521 - acc: 0.8222 - val_loss: 0.7084 - val_acc: 0.6693\n",
      "Epoch 67/100\n",
      "2250/2250 [==============================] - 2s 862us/step - loss: 0.4519 - acc: 0.8302 - val_loss: 0.7171 - val_acc: 0.6760\n",
      "Epoch 68/100\n",
      "2250/2250 [==============================] - 2s 816us/step - loss: 0.4359 - acc: 0.8364 - val_loss: 0.8017 - val_acc: 0.6333\n",
      "Epoch 69/100\n",
      "2250/2250 [==============================] - 2s 802us/step - loss: 0.4445 - acc: 0.8244 - val_loss: 0.7342 - val_acc: 0.6627\n",
      "Epoch 70/100\n",
      "2250/2250 [==============================] - 2s 784us/step - loss: 0.4317 - acc: 0.8404 - val_loss: 0.7106 - val_acc: 0.6760\n",
      "Epoch 71/100\n",
      "2250/2250 [==============================] - 2s 827us/step - loss: 0.4318 - acc: 0.8329 - val_loss: 0.7265 - val_acc: 0.6667\n",
      "Epoch 72/100\n",
      "2250/2250 [==============================] - 2s 785us/step - loss: 0.4272 - acc: 0.8356 - val_loss: 0.7865 - val_acc: 0.6413\n",
      "Epoch 73/100\n",
      "2250/2250 [==============================] - 2s 823us/step - loss: 0.4201 - acc: 0.8396 - val_loss: 0.7294 - val_acc: 0.6707\n",
      "Epoch 74/100\n",
      "2250/2250 [==============================] - 2s 832us/step - loss: 0.4149 - acc: 0.8436 - val_loss: 0.7131 - val_acc: 0.6733\n",
      "Epoch 75/100\n",
      "2250/2250 [==============================] - 2s 822us/step - loss: 0.4113 - acc: 0.8493 - val_loss: 0.8357 - val_acc: 0.6240\n",
      "Epoch 76/100\n",
      "2250/2250 [==============================] - 2s 868us/step - loss: 0.4118 - acc: 0.8507 - val_loss: 0.7267 - val_acc: 0.6747\n",
      "Epoch 77/100\n",
      "2250/2250 [==============================] - 2s 907us/step - loss: 0.4064 - acc: 0.8516 - val_loss: 0.7934 - val_acc: 0.6427\n",
      "Epoch 78/100\n",
      "2250/2250 [==============================] - 2s 896us/step - loss: 0.4059 - acc: 0.8449 - val_loss: 0.7442 - val_acc: 0.6520\n",
      "Epoch 79/100\n",
      "2250/2250 [==============================] - 2s 843us/step - loss: 0.3994 - acc: 0.8484 - val_loss: 0.7386 - val_acc: 0.6707\n",
      "Epoch 80/100\n",
      "2250/2250 [==============================] - 2s 804us/step - loss: 0.3952 - acc: 0.8569 - val_loss: 0.7413 - val_acc: 0.6627\n",
      "Epoch 81/100\n",
      "2250/2250 [==============================] - 2s 828us/step - loss: 0.3883 - acc: 0.8627 - val_loss: 0.7280 - val_acc: 0.6827\n",
      "Epoch 82/100\n",
      "2250/2250 [==============================] - 2s 807us/step - loss: 0.3846 - acc: 0.8613 - val_loss: 0.7443 - val_acc: 0.6693\n",
      "Epoch 83/100\n",
      "2250/2250 [==============================] - 2s 805us/step - loss: 0.3887 - acc: 0.8556 - val_loss: 0.7476 - val_acc: 0.6747\n",
      "Epoch 84/100\n",
      "2250/2250 [==============================] - 2s 795us/step - loss: 0.3836 - acc: 0.8667 - val_loss: 0.7432 - val_acc: 0.6547\n",
      "Epoch 85/100\n",
      "2250/2250 [==============================] - 2s 806us/step - loss: 0.3801 - acc: 0.8573 - val_loss: 0.7255 - val_acc: 0.6720\n",
      "Epoch 86/100\n",
      "2250/2250 [==============================] - 2s 824us/step - loss: 0.3733 - acc: 0.8720 - val_loss: 0.7575 - val_acc: 0.6667\n",
      "Epoch 87/100\n",
      "2250/2250 [==============================] - 2s 812us/step - loss: 0.3753 - acc: 0.8724 - val_loss: 0.7239 - val_acc: 0.6787\n",
      "Epoch 88/100\n",
      "2250/2250 [==============================] - 2s 811us/step - loss: 0.3726 - acc: 0.8653 - val_loss: 0.7412 - val_acc: 0.6560\n",
      "Epoch 89/100\n",
      "2250/2250 [==============================] - 2s 861us/step - loss: 0.3680 - acc: 0.8618 - val_loss: 0.7390 - val_acc: 0.6707\n",
      "Epoch 90/100\n",
      "2250/2250 [==============================] - 2s 910us/step - loss: 0.3599 - acc: 0.8684 - val_loss: 0.7540 - val_acc: 0.6760\n",
      "Epoch 91/100\n",
      "2250/2250 [==============================] - 2s 885us/step - loss: 0.3545 - acc: 0.8756 - val_loss: 0.7333 - val_acc: 0.6707\n",
      "Epoch 92/100\n",
      "2250/2250 [==============================] - 2s 826us/step - loss: 0.3543 - acc: 0.8742 - val_loss: 0.7567 - val_acc: 0.6760\n",
      "Epoch 93/100\n",
      "2250/2250 [==============================] - 2s 885us/step - loss: 0.3532 - acc: 0.8769 - val_loss: 0.7608 - val_acc: 0.6413\n",
      "Epoch 94/100\n",
      "2250/2250 [==============================] - 2s 834us/step - loss: 0.3537 - acc: 0.8787 - val_loss: 0.7370 - val_acc: 0.6840\n",
      "Epoch 95/100\n",
      "2250/2250 [==============================] - 2s 828us/step - loss: 0.3494 - acc: 0.8738 - val_loss: 0.7783 - val_acc: 0.6787\n",
      "Epoch 96/100\n",
      "2250/2250 [==============================] - 2s 839us/step - loss: 0.3421 - acc: 0.8844 - val_loss: 0.8094 - val_acc: 0.6373\n",
      "Epoch 97/100\n",
      "2250/2250 [==============================] - 2s 939us/step - loss: 0.3402 - acc: 0.8836 - val_loss: 0.7485 - val_acc: 0.6707\n",
      "Epoch 98/100\n",
      "2250/2250 [==============================] - 2s 900us/step - loss: 0.3424 - acc: 0.8760 - val_loss: 0.7521 - val_acc: 0.6587\n",
      "Epoch 99/100\n",
      "2250/2250 [==============================] - 2s 818us/step - loss: 0.3298 - acc: 0.8893 - val_loss: 0.8108 - val_acc: 0.6387\n",
      "Epoch 100/100\n",
      "2250/2250 [==============================] - 2s 976us/step - loss: 0.3356 - acc: 0.8827 - val_loss: 0.8092 - val_acc: 0.6573\n"
     ]
    }
   ],
   "source": [
    "# Train the network\n",
    "print(\"[INFO] training network...\")\n",
    "H = model.fit(trainX, trainY, validation_data=(testX, testY), batch_size=32, epochs=100, verbose=1)"
   ]
  },
  {
   "cell_type": "code",
   "execution_count": 17,
   "metadata": {},
   "outputs": [
    {
     "name": "stdout",
     "output_type": "stream",
     "text": [
      "[INFO] evaluating network...\n",
      "             precision    recall  f1-score   support\n",
      "\n",
      "        cat       0.56      0.85      0.67       262\n",
      "        dog       0.62      0.35      0.44       249\n",
      "      panda       0.87      0.77      0.82       239\n",
      "\n",
      "avg / total       0.68      0.66      0.64       750\n",
      "\n"
     ]
    }
   ],
   "source": [
    "# Evaluating the network\n",
    "print(\"[INFO] evaluating network...\")\n",
    "predictions = model.predict(testX, batch_size=32)\n",
    "print(classification_report(testY.argmax(axis=1), predictions.argmax(axis=1), target_names=[\"cat\", \"dog\", \"panda\"]))"
   ]
  },
  {
   "cell_type": "code",
   "execution_count": 18,
   "metadata": {},
   "outputs": [
    {
     "data": {
      "image/png": "[encoded data removed]",
      "text/plain": [
       "<Figure size 432x288 with 1 Axes>"
      ]
     },
     "metadata": {},
     "output_type": "display_data"
    }
   ],
   "source": [
    "plt.style.use(\"ggplot\")\n",
    "plt.figure()\n",
    "plt.plot(np.arange(0, 100), H.history[\"loss\"], label=\"train_loss\")\n",
    "plt.plot(np.arange(0, 100), H.history[\"val_loss\"], label=\"val_loss\")\n",
    "plt.plot(np.arange(0, 100), H.history[\"acc\"], label=\"train_acc\")\n",
    "plt.plot(np.arange(0, 100), H.history[\"val_acc\"], label=\"val_acc\")\n",
    "plt.title(\"Training loss and accuracy\")\n",
    "plt.xlabel(\"Epoch #\")\n",
    "plt.ylabel(\"Loss/Accuracy\")\n",
    "plt.legend()\n",
    "plt.show()"
   ]
  },
  {
   "cell_type": "code",
   "execution_count": null,
   "metadata": {},
   "outputs": [],
   "source": []
  }
 ],
 "metadata": {
  "kernelspec": {
   "display_name": "Python 3",
   "language": "python",
   "name": "python3"
  },
  "language_info": {
   "codemirror_mode": {
    "name": "ipython",
    "version": 3
   },
   "file_extension": ".py",
   "mimetype": "text/x-python",
   "name": "python",
   "nbconvert_exporter": "python",
   "pygments_lexer": "ipython3",
   "version": "3.6.4"
  }
 },
 "nbformat": 4,
 "nbformat_minor": 2
}
