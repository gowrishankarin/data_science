{
 "cells": [
  {
   "cell_type": "code",
   "execution_count": 1,
   "metadata": {},
   "outputs": [
    {
     "name": "stderr",
     "output_type": "stream",
     "text": [
      "/anaconda3/envs/dlcv/lib/python3.6/site-packages/h5py/__init__.py:36: FutureWarning: Conversion of the second argument of issubdtype from `float` to `np.floating` is deprecated. In future, it will be treated as `np.float64 == np.dtype(float).type`.\n",
      "  from ._conv import register_converters as _register_converters\n",
      "Using TensorFlow backend.\n"
     ]
    }
   ],
   "source": [
    "from sklearn.preprocessing import LabelBinarizer\n",
    "from sklearn.metrics import classification_report\n",
    "from keras.optimizers import SGD\n",
    "import matplotlib.pyplot as plt\n",
    "import numpy as np"
   ]
  },
  {
   "cell_type": "code",
   "execution_count": 2,
   "metadata": {},
   "outputs": [],
   "source": [
    "IMG_HELP_PATH = '/Users/shankar/dev/code/ds/studies/data_science/dlcv/sb/c07-first_image_classifier'"
   ]
  },
  {
   "cell_type": "code",
   "execution_count": 3,
   "metadata": {},
   "outputs": [],
   "source": [
    "import os\n",
    "import sys\n",
    "sys.path.append(os.path.abspath(IMG_HELP_PATH))"
   ]
  },
  {
   "cell_type": "code",
   "execution_count": 4,
   "metadata": {},
   "outputs": [],
   "source": [
    "from pyimagesearch.nn.conv import ShallowNet"
   ]
  },
  {
   "cell_type": "code",
   "execution_count": 6,
   "metadata": {},
   "outputs": [
    {
     "name": "stdout",
     "output_type": "stream",
     "text": [
      "[INFO] Loading CIFAR-10 data...\n"
     ]
    }
   ],
   "source": [
    "print(\"[INFO] Loading CIFAR-10 data...\")\n",
    "from keras.datasets import cifar10\n",
    "((trainX, trainY), (testX, testY)) = cifar10.load_data()\n",
    "trainX = trainX.astype(\"float\")/255.0\n",
    "testX = testX.astype(\"float\")/255.0"
   ]
  },
  {
   "cell_type": "code",
   "execution_count": 7,
   "metadata": {},
   "outputs": [],
   "source": [
    "lb = LabelBinarizer()\n",
    "trainY = lb.fit_transform(trainY)\n",
    "testY = lb.transform(testY)"
   ]
  },
  {
   "cell_type": "code",
   "execution_count": 8,
   "metadata": {},
   "outputs": [],
   "source": [
    "# initialize the label names for the CIFAR-10 dataset\n",
    "labelNames = [\"airplane\", \"automobile\", \"bird\", \"cat\", \"deer\",\n",
    "    \"dog\", \"frog\", \"horse\", \"ship\", \"truck\"]"
   ]
  },
  {
   "cell_type": "code",
   "execution_count": 9,
   "metadata": {},
   "outputs": [
    {
     "name": "stdout",
     "output_type": "stream",
     "text": [
      "[INFO] Compiling model...\n"
     ]
    }
   ],
   "source": [
    "print(\"[INFO] Compiling model...\")\n",
    "opt = SGD(lr=0.01)\n",
    "model = ShallowNet.build(width=32, height=32, depth=3, classes=10)\n",
    "model.compile(loss=\"categorical_crossentropy\", optimizer=opt, metrics=[\"accuracy\"])"
   ]
  },
  {
   "cell_type": "code",
   "execution_count": 11,
   "metadata": {},
   "outputs": [
    {
     "name": "stdout",
     "output_type": "stream",
     "text": [
      "[INFO] Train the model...\n",
      "Train on 50000 samples, validate on 10000 samples\n",
      "Epoch 1/40\n",
      "50000/50000 [==============================] - 46s 912us/step - loss: 1.7899 - acc: 0.3746 - val_loss: 1.6299 - val_acc: 0.4306\n",
      "Epoch 2/40\n",
      "50000/50000 [==============================] - 47s 936us/step - loss: 1.5450 - acc: 0.4621 - val_loss: 1.4706 - val_acc: 0.4820\n",
      "Epoch 3/40\n",
      "50000/50000 [==============================] - 47s 945us/step - loss: 1.4216 - acc: 0.5040 - val_loss: 1.3676 - val_acc: 0.5189\n",
      "Epoch 4/40\n",
      "50000/50000 [==============================] - 46s 923us/step - loss: 1.3390 - acc: 0.5321 - val_loss: 1.3849 - val_acc: 0.4941\n",
      "Epoch 5/40\n",
      "50000/50000 [==============================] - 45s 895us/step - loss: 1.2738 - acc: 0.5532 - val_loss: 1.3398 - val_acc: 0.5238\n",
      "Epoch 6/40\n",
      "50000/50000 [==============================] - 44s 887us/step - loss: 1.2269 - acc: 0.5710 - val_loss: 1.3081 - val_acc: 0.5306\n",
      "Epoch 7/40\n",
      "50000/50000 [==============================] - 44s 888us/step - loss: 1.1895 - acc: 0.5848 - val_loss: 1.2713 - val_acc: 0.5504\n",
      "Epoch 8/40\n",
      "50000/50000 [==============================] - 47s 935us/step - loss: 1.1593 - acc: 0.5963 - val_loss: 1.2449 - val_acc: 0.5573\n",
      "Epoch 9/40\n",
      "50000/50000 [==============================] - 47s 942us/step - loss: 1.1351 - acc: 0.6048 - val_loss: 1.2594 - val_acc: 0.5529\n",
      "Epoch 10/40\n",
      "50000/50000 [==============================] - 47s 943us/step - loss: 1.1104 - acc: 0.6146 - val_loss: 1.2685 - val_acc: 0.5512\n",
      "Epoch 11/40\n",
      "50000/50000 [==============================] - 48s 952us/step - loss: 1.0903 - acc: 0.6200 - val_loss: 1.3228 - val_acc: 0.5277\n",
      "Epoch 12/40\n",
      "50000/50000 [==============================] - 50s 997us/step - loss: 1.0679 - acc: 0.6288 - val_loss: 1.2602 - val_acc: 0.5621\n",
      "Epoch 13/40\n",
      "50000/50000 [==============================] - 49s 976us/step - loss: 1.0453 - acc: 0.6395 - val_loss: 1.2070 - val_acc: 0.5789\n",
      "Epoch 14/40\n",
      "50000/50000 [==============================] - 46s 929us/step - loss: 1.0261 - acc: 0.6431 - val_loss: 1.3175 - val_acc: 0.5476\n",
      "Epoch 15/40\n",
      "50000/50000 [==============================] - 46s 910us/step - loss: 1.0071 - acc: 0.6527 - val_loss: 1.2161 - val_acc: 0.5755\n",
      "Epoch 16/40\n",
      "50000/50000 [==============================] - 48s 958us/step - loss: 0.9858 - acc: 0.6597 - val_loss: 1.1966 - val_acc: 0.5786\n",
      "Epoch 17/40\n",
      "50000/50000 [==============================] - 49s 978us/step - loss: 0.9674 - acc: 0.6679 - val_loss: 1.2653 - val_acc: 0.5567\n",
      "Epoch 18/40\n",
      "50000/50000 [==============================] - 47s 948us/step - loss: 0.9491 - acc: 0.6746 - val_loss: 1.1921 - val_acc: 0.5849\n",
      "Epoch 19/40\n",
      "50000/50000 [==============================] - 45s 906us/step - loss: 0.9318 - acc: 0.6794 - val_loss: 1.1721 - val_acc: 0.5911\n",
      "Epoch 20/40\n",
      "50000/50000 [==============================] - 46s 917us/step - loss: 0.9149 - acc: 0.6825 - val_loss: 1.2433 - val_acc: 0.5691\n",
      "Epoch 21/40\n",
      "50000/50000 [==============================] - 45s 910us/step - loss: 0.8966 - acc: 0.6900 - val_loss: 1.1597 - val_acc: 0.5975\n",
      "Epoch 22/40\n",
      "50000/50000 [==============================] - 46s 918us/step - loss: 0.8780 - acc: 0.6977 - val_loss: 1.1721 - val_acc: 0.6003\n",
      "Epoch 23/40\n",
      "50000/50000 [==============================] - 45s 893us/step - loss: 0.8622 - acc: 0.7033 - val_loss: 1.1553 - val_acc: 0.6032\n",
      "Epoch 24/40\n",
      "50000/50000 [==============================] - 48s 964us/step - loss: 0.8455 - acc: 0.7093 - val_loss: 1.2221 - val_acc: 0.5791\n",
      "Epoch 25/40\n",
      "50000/50000 [==============================] - 49s 979us/step - loss: 0.8310 - acc: 0.7136 - val_loss: 1.2982 - val_acc: 0.5655\n",
      "Epoch 26/40\n",
      "50000/50000 [==============================] - 49s 984us/step - loss: 0.8160 - acc: 0.7181 - val_loss: 1.1718 - val_acc: 0.5993\n",
      "Epoch 27/40\n",
      "50000/50000 [==============================] - 49s 977us/step - loss: 0.8005 - acc: 0.7248 - val_loss: 1.2146 - val_acc: 0.5916\n",
      "Epoch 28/40\n",
      "50000/50000 [==============================] - 49s 979us/step - loss: 0.7820 - acc: 0.7302 - val_loss: 1.1811 - val_acc: 0.6023\n",
      "Epoch 29/40\n",
      "50000/50000 [==============================] - 49s 973us/step - loss: 0.7696 - acc: 0.7337 - val_loss: 1.2011 - val_acc: 0.5942\n",
      "Epoch 30/40\n",
      "50000/50000 [==============================] - 48s 954us/step - loss: 0.7556 - acc: 0.7420 - val_loss: 1.1924 - val_acc: 0.5956\n",
      "Epoch 31/40\n",
      "50000/50000 [==============================] - 49s 982us/step - loss: 0.7397 - acc: 0.7473 - val_loss: 1.2026 - val_acc: 0.6006\n",
      "Epoch 32/40\n",
      "50000/50000 [==============================] - 50s 991us/step - loss: 0.7277 - acc: 0.7505 - val_loss: 1.1788 - val_acc: 0.6065\n",
      "Epoch 33/40\n",
      "50000/50000 [==============================] - 49s 977us/step - loss: 0.7114 - acc: 0.7560 - val_loss: 1.1812 - val_acc: 0.6031\n",
      "Epoch 34/40\n",
      "50000/50000 [==============================] - 49s 981us/step - loss: 0.7001 - acc: 0.7603 - val_loss: 1.2070 - val_acc: 0.6016\n",
      "Epoch 35/40\n",
      "50000/50000 [==============================] - 50s 995us/step - loss: 0.6884 - acc: 0.7647 - val_loss: 1.2010 - val_acc: 0.6074\n",
      "Epoch 36/40\n",
      "50000/50000 [==============================] - 49s 973us/step - loss: 0.6728 - acc: 0.7702 - val_loss: 1.1708 - val_acc: 0.6116\n",
      "Epoch 37/40\n",
      "50000/50000 [==============================] - 50s 1ms/step - loss: 0.6647 - acc: 0.7733 - val_loss: 1.1522 - val_acc: 0.6201\n",
      "Epoch 38/40\n",
      "50000/50000 [==============================] - 51s 1ms/step - loss: 0.6531 - acc: 0.7769 - val_loss: 1.1925 - val_acc: 0.6102\n",
      "Epoch 39/40\n",
      "50000/50000 [==============================] - 52s 1ms/step - loss: 0.6388 - acc: 0.7820 - val_loss: 1.1813 - val_acc: 0.6142\n",
      "Epoch 40/40\n",
      "50000/50000 [==============================] - 52s 1ms/step - loss: 0.6281 - acc: 0.7872 - val_loss: 1.2017 - val_acc: 0.6160\n"
     ]
    }
   ],
   "source": [
    "print(\"[INFO] Train the model...\")\n",
    "H = model.fit(trainX, trainY, validation_data=(testX, testY), batch_size=32, epochs=40, verbose=1)"
   ]
  },
  {
   "cell_type": "code",
   "execution_count": 12,
   "metadata": {},
   "outputs": [
    {
     "name": "stdout",
     "output_type": "stream",
     "text": [
      "[INFO] Evaluating Network...\n",
      "             precision    recall  f1-score   support\n",
      "\n",
      "   airplane       0.63      0.65      0.64      1000\n",
      " automobile       0.72      0.74      0.73      1000\n",
      "       bird       0.58      0.32      0.41      1000\n",
      "        cat       0.50      0.27      0.35      1000\n",
      "       deer       0.51      0.62      0.56      1000\n",
      "        dog       0.54      0.55      0.54      1000\n",
      "       frog       0.68      0.74      0.71      1000\n",
      "      horse       0.60      0.76      0.67      1000\n",
      "       ship       0.65      0.80      0.72      1000\n",
      "      truck       0.68      0.71      0.70      1000\n",
      "\n",
      "avg / total       0.61      0.62      0.60     10000\n",
      "\n"
     ]
    }
   ],
   "source": [
    "print(\"[INFO] Evaluating Network...\")\n",
    "predictions = model.predict(testX, batch_size=32)\n",
    "print(classification_report(testY.argmax(axis=1), predictions.argmax(axis=1), target_names=labelNames))"
   ]
  },
  {
   "cell_type": "code",
   "execution_count": 13,
   "metadata": {},
   "outputs": [
    {
     "data": {
      "image/png": "[encoded data removed]",
      "text/plain": [
       "<Figure size 432x288 with 1 Axes>"
      ]
     },
     "metadata": {},
     "output_type": "display_data"
    }
   ],
   "source": [
    "# plot the training loss and accuracy\n",
    "plt.style.use(\"ggplot\")\n",
    "plt.figure()\n",
    "plt.plot(np.arange(0, 40), H.history[\"loss\"], label=\"train_loss\")\n",
    "plt.plot(np.arange(0, 40), H.history[\"val_loss\"], label=\"val_loss\")\n",
    "plt.plot(np.arange(0, 40), H.history[\"acc\"], label=\"train_acc\")\n",
    "plt.plot(np.arange(0, 40), H.history[\"val_acc\"], label=\"val_acc\")\n",
    "plt.title(\"Training Loss and Accuracy\")\n",
    "plt.xlabel(\"Epoch #\")\n",
    "plt.ylabel(\"Loss/Accuracy\")\n",
    "plt.legend()\n",
    "plt.show()"
   ]
  },
  {
   "cell_type": "code",
   "execution_count": null,
   "metadata": {},
   "outputs": [],
   "source": []
  }
 ],
 "metadata": {
  "kernelspec": {
   "display_name": "Python 3",
   "language": "python",
   "name": "python3"
  },
  "language_info": {
   "codemirror_mode": {
    "name": "ipython",
    "version": 3
   },
   "file_extension": ".py",
   "mimetype": "text/x-python",
   "name": "python",
   "nbconvert_exporter": "python",
   "pygments_lexer": "ipython3",
   "version": "3.6.4"
  }
 },
 "nbformat": 4,
 "nbformat_minor": 2
}
