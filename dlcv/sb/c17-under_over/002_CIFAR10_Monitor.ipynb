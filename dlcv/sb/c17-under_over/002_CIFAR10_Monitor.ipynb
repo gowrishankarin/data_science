{
 "cells": [
  {
   "cell_type": "code",
   "execution_count": 1,
   "metadata": {},
   "outputs": [
    {
     "name": "stderr",
     "output_type": "stream",
     "text": [
      "/anaconda3/envs/dlcv/lib/python3.6/site-packages/h5py/__init__.py:36: FutureWarning: Conversion of the second argument of issubdtype from `float` to `np.floating` is deprecated. In future, it will be treated as `np.float64 == np.dtype(float).type`.\n",
      "  from ._conv import register_converters as _register_converters\n",
      "Using TensorFlow backend.\n"
     ]
    }
   ],
   "source": [
    "import matplotlib\n",
    "matplotlib.use(\"Agg\")\n",
    "\n",
    "from sklearn.preprocessing import LabelBinarizer\n",
    "from keras.optimizers import SGD\n",
    "from keras.datasets import cifar10\n",
    "import argparse\n",
    "import os"
   ]
  },
  {
   "cell_type": "code",
   "execution_count": 2,
   "metadata": {},
   "outputs": [],
   "source": [
    "IMG_HELP_PATH = '/Users/shankar/dev/code/ds/studies/data_science/dlcv/sb/c07-first_image_classifier'\n",
    "import os\n",
    "import sys\n",
    "sys.path.append(os.path.abspath(IMG_HELP_PATH))\n",
    "from pyimagesearch.nn.conv import MiniVGGNet\n",
    "from pyimagesearch.callbacks import TrainingMonitor"
   ]
  },
  {
   "cell_type": "code",
   "execution_count": 3,
   "metadata": {},
   "outputs": [
    {
     "name": "stdout",
     "output_type": "stream",
     "text": [
      "[INFO] process ID: 2751\n"
     ]
    }
   ],
   "source": [
    "print(\"[INFO] process ID: {}\".format(os.getpid()))"
   ]
  },
  {
   "cell_type": "code",
   "execution_count": 4,
   "metadata": {},
   "outputs": [
    {
     "name": "stdout",
     "output_type": "stream",
     "text": [
      "[INFO] loading CIFAR-10 data...\n"
     ]
    }
   ],
   "source": [
    "# load the training and testing data, then scale it into the\n",
    "# range [0, 1]\n",
    "print(\"[INFO] loading CIFAR-10 data...\")\n",
    "((trainX, trainY), (testX, testY)) = cifar10.load_data()\n",
    "trainX = trainX.astype(\"float\") / 255.0\n",
    "testX = testX.astype(\"float\") / 255.0\n",
    "\n",
    "# convert the labels from integers to vectors\n",
    "lb = LabelBinarizer()\n",
    "trainY = lb.fit_transform(trainY)\n",
    "testY = lb.transform(testY)"
   ]
  },
  {
   "cell_type": "code",
   "execution_count": 5,
   "metadata": {},
   "outputs": [
    {
     "name": "stdout",
     "output_type": "stream",
     "text": [
      "[INFO] compiling model...\n"
     ]
    }
   ],
   "source": [
    "# initialize the label names for the CIFAR-10 dataset\n",
    "labelNames = [\"airplane\", \"automobile\", \"bird\", \"cat\", \"deer\",\n",
    "    \"dog\", \"frog\", \"horse\", \"ship\", \"truck\"]\n",
    "\n",
    "# initialize the SGD optimizer, but without any learning rate decay\n",
    "print(\"[INFO] compiling model...\")\n",
    "opt = SGD(lr=0.01, momentum=0.9, nesterov=True)\n",
    "model = MiniVGGNet.build(width=32, height=32, depth=3, classes=10)\n",
    "model.compile(loss=\"categorical_crossentropy\", optimizer=opt,\n",
    "    metrics=[\"accuracy\"])"
   ]
  },
  {
   "cell_type": "code",
   "execution_count": null,
   "metadata": {},
   "outputs": [],
   "source": [
    "figPath = os.path.sep.join([\"./\", \"{}.png\".format(\n",
    "    os.getpid())])\n",
    "jsonPath = os.path.sep.join([\"./\", \"{}.png\".format(os.getpid())])"
   ]
  },
  {
   "cell_type": "code",
   "execution_count": null,
   "metadata": {},
   "outputs": [
    {
     "name": "stdout",
     "output_type": "stream",
     "text": [
      "Train on 50000 samples, validate on 10000 samples\n",
      "Epoch 1/10\n",
      "50000/50000 [==============================] - 429s 9ms/step - loss: 2.6286 - acc: 0.2461 - val_loss: 2.1587 - val_acc: 0.3295\n",
      "Epoch 2/10\n",
      "50000/50000 [==============================] - 430s 9ms/step - loss: 1.8193 - acc: 0.3793 - val_loss: 1.9057 - val_acc: 0.3773\n",
      "Epoch 3/10\n",
      "50000/50000 [==============================] - 413s 8ms/step - loss: 1.5923 - acc: 0.4407 - val_loss: 1.7287 - val_acc: 0.4037\n",
      "Epoch 4/10\n",
      "50000/50000 [==============================] - 378s 8ms/step - loss: 1.4656 - acc: 0.4815 - val_loss: 1.6861 - val_acc: 0.4148\n",
      "Epoch 5/10\n",
      "49152/50000 [============================>.] - ETA: 6s - loss: 1.3755 - acc: 0.5141 "
     ]
    }
   ],
   "source": [
    "callbacks = [TrainingMonitor(figPath, jsonPath=jsonPath)]\n",
    "model.fit(trainX, trainY, validation_data=(testX, testY), batch_size=2048, epochs=10, callbacks=callbacks, verbose=1)"
   ]
  },
  {
   "cell_type": "code",
   "execution_count": null,
   "metadata": {},
   "outputs": [],
   "source": []
  }
 ],
 "metadata": {
  "kernelspec": {
   "display_name": "Python 3",
   "language": "python",
   "name": "python3"
  },
  "language_info": {
   "codemirror_mode": {
    "name": "ipython",
    "version": 3
   },
   "file_extension": ".py",
   "mimetype": "text/x-python",
   "name": "python",
   "nbconvert_exporter": "python",
   "pygments_lexer": "ipython3",
   "version": "3.6.4"
  }
 },
 "nbformat": 4,
 "nbformat_minor": 2
}
