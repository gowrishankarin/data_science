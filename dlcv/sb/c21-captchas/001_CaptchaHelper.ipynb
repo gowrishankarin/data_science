{
 "cells": [
  {
   "cell_type": "code",
   "execution_count": 1,
   "metadata": {},
   "outputs": [],
   "source": [
    "import imutils\n",
    "import cv2"
   ]
  },
  {
   "cell_type": "code",
   "execution_count": 2,
   "metadata": {},
   "outputs": [],
   "source": [
    "def preprocess(image, width, height):\n",
    "    # Grab the dimensions of the image then intialize the padding values\n",
    "    (h, w) = image.shape[:2]\n",
    "    \n",
    "    # If the width is greater than the height then resize along the width\n",
    "    if w > h:\n",
    "        image = imutils.resize(image, width=width)\n",
    "    \n",
    "    # Otherwise the height is greater than the width so resize along the height\n",
    "    else:\n",
    "        image = imutils.resize(image, height=heights)\n",
    "        \n",
    "    # Determine the padding values for the width and height to obtain\n",
    "    # target dimensions\n",
    "    padW = int((width - image.shape[1]) / 2.0)\n",
    "    padH = int((height - image.shape[0]) / 2.0)\n",
    "    \n",
    "    # Pad the image then apply one more resizing to handle any rounding issues\n",
    "    image = cv2.copyMakeBorder(image, padH, padH, padW, padW, cv2.BORDER_REPLICATE)\n",
    "    image = cv2.resize(image, (width, height))\n",
    "    \n",
    "    return image"
   ]
  },
  {
   "cell_type": "code",
   "execution_count": null,
   "metadata": {},
   "outputs": [],
   "source": []
  }
 ],
 "metadata": {
  "kernelspec": {
   "display_name": "Python 3",
   "language": "python",
   "name": "python3"
  },
  "language_info": {
   "codemirror_mode": {
    "name": "ipython",
    "version": 3
   },
   "file_extension": ".py",
   "mimetype": "text/x-python",
   "name": "python",
   "nbconvert_exporter": "python",
   "pygments_lexer": "ipython3",
   "version": "3.6.4"
  }
 },
 "nbformat": 4,
 "nbformat_minor": 2
}
