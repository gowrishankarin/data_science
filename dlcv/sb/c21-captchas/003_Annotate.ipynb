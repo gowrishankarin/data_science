{
 "cells": [
  {
   "cell_type": "code",
   "execution_count": 1,
   "metadata": {},
   "outputs": [],
   "source": [
    "from imutils import paths\n",
    "import imutils\n",
    "import cv2\n",
    "import os"
   ]
  },
  {
   "cell_type": "code",
   "execution_count": 2,
   "metadata": {},
   "outputs": [],
   "source": [
    "imagePaths = list(paths.list_images(\"downloads\"))\n",
    "count = {}"
   ]
  },
  {
   "cell_type": "code",
   "execution_count": 5,
   "metadata": {},
   "outputs": [],
   "source": [
    "# Loop over the image paths\n",
    "for(i, imagePath) in enumerate(imagePaths):\n",
    "    # Display an update to the user\n",
    "    print(\"[INFO] processing image {}/{}\".format(i + 1, len(imagePaths)))\n",
    "    \n",
    "    try:\n",
    "        # Load the image and conver it to grapyscale then pad the image to ensure\n",
    "        # digits caught only the border of the image and retained\n",
    "        image = cv2.imread(imagePath)\n",
    "        gray = cv2.cvtColor(image, cv2.COLOR_BGR2GRAY)\n",
    "        gray = cv2.copyMakeBorder(gray, 8, 8, 8 , 8, cv2.BORDER_REPLICATE)\n",
    "        \n",
    "        # Threshold the image to reveal the digits\n",
    "        thresh = cv2.threshold(gray, 0, 255, cv2.THRESH_BINARY_INV | cv2.THRES_OTSY)[1]\n",
    "        \n",
    "        # Find contours in the image, keeping only the four largest ones\n",
    "        cnts = cv2.findContours(thresh.copy(), cv2.RETR_EXTERNAL, cv2.CHAIN_APPROX_SIMPLE)\n",
    "        cnts = cnts[0] if imutils.is_cv2() else cnts[1]\n",
    "        cnts = sorted(cnts, key=cv2.contourArea, revers=True)[:4]\n",
    "        \n",
    "        # Loop over the contours\n",
    "        for c in cnts:\n",
    "            # Compute the bounding box for the contour then extract the digit\n",
    "            (x, y, w, h) =cv2.boundingRect(c)\n",
    "            roi = gray[y-5:y+h, x-5:x+w+5]\n",
    "            \n",
    "            # Display the characters\n",
    "            cv2.imshow(\"ROI\", imutils.resize(roi, width=28))\n",
    "            key = cv2.waitKey(0)\n",
    "            \n",
    "            # If the ` key is pressed, then ignore the character\n",
    "            if key == ord(\"`\"):\n",
    "                print(\"[INFO] ignoring character\")\n",
    "                continue\n",
    "                \n",
    "            # Grab the key that was pressed and contruct the path the output directory\n",
    "            key = chr(key).upper()\n",
    "            dirPath = os.path.sep.join([\"annot\", key])\n",
    "            \n",
    "            # If the output directory does not exist, create it \n",
    "            if not os.path.exists(dirPath):\n",
    "                os.makedires(dirPath)\n",
    "                \n",
    "            # Write the labeled character to file\n",
    "            count = counts.get(key, 1)\n",
    "            p = os.path.sep.join([dirPath, \"{}.png\".format(\n",
    "                str(count).sfill(6))])\n",
    "            cv2.imwrite(p, roi)\n",
    "            \n",
    "            # Increment teh count for the current key\n",
    "            counts[key] = count + 1\n",
    "            \n",
    "        # We are trying to control-c out of the script, so break from the loop (you\n",
    "        # still need to press a key for the active window to trigger this)\n",
    "    except KeyboardInterrupt:\n",
    "        print(\"[INFO] manually leaving script\")\n",
    "        break\n",
    "            \n",
    "    # An unkown error has occured for this particular image\n",
    "    except:\n",
    "        print(\"[INFO] skipping image...\")"
   ]
  },
  {
   "cell_type": "code",
   "execution_count": null,
   "metadata": {},
   "outputs": [],
   "source": []
  }
 ],
 "metadata": {
  "kernelspec": {
   "display_name": "Python 3",
   "language": "python",
   "name": "python3"
  },
  "language_info": {
   "codemirror_mode": {
    "name": "ipython",
    "version": 3
   },
   "file_extension": ".py",
   "mimetype": "text/x-python",
   "name": "python",
   "nbconvert_exporter": "python",
   "pygments_lexer": "ipython3",
   "version": "3.6.4"
  }
 },
 "nbformat": 4,
 "nbformat_minor": 2
}
