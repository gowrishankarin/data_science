{
 "cells": [
  {
   "cell_type": "code",
   "execution_count": 1,
   "metadata": {},
   "outputs": [
    {
     "name": "stderr",
     "output_type": "stream",
     "text": [
      "/anaconda3/envs/dlcv/lib/python3.6/site-packages/h5py/__init__.py:36: FutureWarning: Conversion of the second argument of issubdtype from `float` to `np.floating` is deprecated. In future, it will be treated as `np.float64 == np.dtype(float).type`.\n",
      "  from ._conv import register_converters as _register_converters\n",
      "Using TensorFlow backend.\n"
     ]
    }
   ],
   "source": [
    "from keras.preprocessing.image import img_to_array\n",
    "from keras.models import load_model\n",
    "from imutils import contours\n",
    "from imutils import paths\n",
    "import numpy as np\n",
    "import argparse\n",
    "import imutils\n",
    "import cv2"
   ]
  },
  {
   "cell_type": "code",
   "execution_count": 2,
   "metadata": {},
   "outputs": [],
   "source": [
    "IMG_HELP_PATH = '/Users/shankar/dev/code/ds/studies/data_science/dlcv/sb/c07-first_image_classifier'\n",
    "import os\n",
    "import sys\n",
    "sys.path.append(os.path.abspath(IMG_HELP_PATH))\n",
    "from pyimagesearch.utils.captchahelper import preprocess\n",
    "from pyimagesearch.nn.conv import LeNet"
   ]
  },
  {
   "cell_type": "code",
   "execution_count": 3,
   "metadata": {},
   "outputs": [
    {
     "name": "stdout",
     "output_type": "stream",
     "text": [
      "[INFO] loading pre-trained network...\n"
     ]
    }
   ],
   "source": [
    "INPUT = \"downloads\"\n",
    "MODEL = \"output/lenet.hdf5\"\n",
    "\n",
    "print(\"[INFO] loading pre-trained network...\")\n",
    "model = load_model(MODEL)"
   ]
  },
  {
   "cell_type": "code",
   "execution_count": 4,
   "metadata": {},
   "outputs": [],
   "source": [
    "imagePaths = list(paths.list_images(INPUT))\n",
    "imagePaths = np.random.choice(imagePaths, size=(10,), replace=False)"
   ]
  },
  {
   "cell_type": "code",
   "execution_count": 5,
   "metadata": {},
   "outputs": [
    {
     "name": "stdout",
     "output_type": "stream",
     "text": [
      "[INFO] captcha: 2662\n",
      "[INFO] captcha: 2426\n",
      "[INFO] captcha: 6222\n",
      "[INFO] captcha: 2222\n",
      "[INFO] captcha: 2344\n",
      "[INFO] captcha: 2626\n",
      "[INFO] captcha: 2322\n",
      "[INFO] captcha: 4423\n",
      "[INFO] captcha: 4624\n",
      "[INFO] captcha: 6264\n"
     ]
    }
   ],
   "source": [
    "for imagePath in imagePaths:\n",
    "    image = cv2.imread(imagePath)\n",
    "    gray = cv2.cvtColor(image, cv2.COLOR_BGR2GRAY)\n",
    "    gray = cv2.copyMakeBorder(gray, 20, 20, 20, 20, cv2.BORDER_REPLICATE)\n",
    "    \n",
    "    thresh = cv2.threshold(gray, 0, 255, \n",
    "        cv2.THRESH_BINARY_INV | cv2.THRESH_OTSU)[1]\n",
    "    \n",
    "    # Find contours\n",
    "    cnts = cv2.findContours(thresh.copy(), cv2.RETR_EXTERNAL, cv2.CHAIN_APPROX_SIMPLE)\n",
    "    cnts = cnts[0] if imutils.is_cv2() else cnts[1]\n",
    "    cnts = sorted(cnts, key=cv2.contourArea, reverse=True)[:4]\n",
    "    cnts = contours.sort_contours(cnts)[0]\n",
    "    \n",
    "    \n",
    "    output = cv2.merge([gray] * 3)\n",
    "    predictions = []\n",
    "    \n",
    "    for c in cnts:\n",
    "        # Compute the bounding box for the contours and extract the digit\n",
    "        (x, y, w, h) = cv2.boundingRect(c)\n",
    "        roi = gray[y-5:y+h+5, x-5:x+w+5]\n",
    "        \n",
    "        # Preprocess the ROI and classify it then classify it\n",
    "        roi = preprocess(roi, 28, 28)\n",
    "        roi = np.expand_dims(img_to_array(roi), axis=0)\n",
    "        pred = model.predict(roi).argmax(axis=1)[0] + 1\n",
    "        predictions.append(str(pred))\n",
    "        \n",
    "        # Draw the predicion on the output image\n",
    "        cv2.rectangle(output, (x-2, y-2), (x+w+4, y+h+4), (0, 255, 0), 1)\n",
    "        cv2.putText(output, str(pred), (x-5, y-5), cv2.FONT_HERSHEY_SIMPLEX, 0.55, (0, 255, 0), 2)\n",
    "        \n",
    "    # Show the output image\n",
    "    print(\"[INFO] captcha: {}\".format(\"\".join(predictions)))\n",
    "    cv2.imshow(\"Output\", output)\n",
    "    cv2.waitKey()"
   ]
  },
  {
   "cell_type": "code",
   "execution_count": null,
   "metadata": {},
   "outputs": [],
   "source": []
  }
 ],
 "metadata": {
  "kernelspec": {
   "display_name": "Python 3",
   "language": "python",
   "name": "python3"
  },
  "language_info": {
   "codemirror_mode": {
    "name": "ipython",
    "version": 3
   },
   "file_extension": ".py",
   "mimetype": "text/x-python",
   "name": "python",
   "nbconvert_exporter": "python",
   "pygments_lexer": "ipython3",
   "version": "3.6.4"
  }
 },
 "nbformat": 4,
 "nbformat_minor": 2
}
