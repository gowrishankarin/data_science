{
 "cells": [
  {
   "cell_type": "code",
   "execution_count": 1,
   "metadata": {},
   "outputs": [
    {
     "name": "stderr",
     "output_type": "stream",
     "text": [
      "/anaconda3/envs/dlcv/lib/python3.6/site-packages/h5py/__init__.py:36: FutureWarning: Conversion of the second argument of issubdtype from `float` to `np.floating` is deprecated. In future, it will be treated as `np.float64 == np.dtype(float).type`.\n",
      "  from ._conv import register_converters as _register_converters\n",
      "Using TensorFlow backend.\n"
     ]
    }
   ],
   "source": [
    "from sklearn.preprocessing import LabelBinarizer\n",
    "from sklearn.model_selection import train_test_split\n",
    "from sklearn.metrics import classification_report\n",
    "from keras.preprocessing.image import img_to_array\n",
    "from keras.optimizers import SGD\n",
    "from imutils import paths\n",
    "import matplotlib.pyplot as plt\n",
    "import numpy as np\n",
    "import cv2\n",
    "import os"
   ]
  },
  {
   "cell_type": "code",
   "execution_count": 2,
   "metadata": {},
   "outputs": [],
   "source": [
    "IMG_HELP_PATH = '/Users/shankar/dev/code/ds/studies/data_science/dlcv/sb/c07-first_image_classifier'\n",
    "import os\n",
    "import sys\n",
    "sys.path.append(os.path.abspath(IMG_HELP_PATH))\n",
    "from pyimagesearch.utils.captchahelper import preprocess\n",
    "from pyimagesearch.nn.conv import LeNet"
   ]
  },
  {
   "cell_type": "code",
   "execution_count": 3,
   "metadata": {},
   "outputs": [],
   "source": [
    "DATASET = \"dataset\"\n",
    "MODEL = \"output/lenet.hdf5\""
   ]
  },
  {
   "cell_type": "code",
   "execution_count": 4,
   "metadata": {},
   "outputs": [],
   "source": [
    "# Initialize the data and labels\n",
    "data = []\n",
    "labels = []"
   ]
  },
  {
   "cell_type": "code",
   "execution_count": 5,
   "metadata": {},
   "outputs": [],
   "source": [
    "for imagePath in paths.list_images(DATASET):\n",
    "    # Load the image, preprocess it and store it in the data list\n",
    "    image = cv2.imread(imagePath)\n",
    "    image = cv2.cvtColor(image, cv2.COLOR_BGR2GRAY)\n",
    "    image = preprocess(image, 28, 28)\n",
    "    image = img_to_array(image)\n",
    "    data.append(image)\n",
    "    \n",
    "    # Extract eh class label frok the image path and update the labels list\n",
    "    label = imagePath.split(os.path.sep)[-2]\n",
    "    labels.append(label)\n",
    "    \n",
    "# Scale the raw pixel intensities to the range [0, 1]\n",
    "data = np.array(data, dtype=\"float\") / 255.0\n",
    "labels = np.array(labels)\n",
    "\n"
   ]
  },
  {
   "cell_type": "code",
   "execution_count": 6,
   "metadata": {},
   "outputs": [],
   "source": [
    "# Partition the data into training and testing splits using 75% of the data \n",
    "# for training and the remaining 25% for testing\n",
    "(trainX, testX, trainY, testY) = train_test_split(data, labels, test_size=0.25, random_state=42)\n",
    "\n",
    "# Conver the labels from integers to vectors\n",
    "lb = LabelBinarizer().fit(trainY)\n",
    "trainY = lb.transform(trainY)\n",
    "testY = lb.transform(testY)"
   ]
  },
  {
   "cell_type": "code",
   "execution_count": 7,
   "metadata": {},
   "outputs": [
    {
     "data": {
      "text/plain": [
       "array([[0, 0, 0, 0, 0, 0, 0, 0, 1, 0],\n",
       "       [0, 0, 0, 0, 0, 0, 0, 0, 0, 1],\n",
       "       [0, 0, 0, 0, 0, 0, 1, 0, 0, 0],\n",
       "       [0, 0, 0, 0, 0, 1, 0, 0, 0, 0],\n",
       "       [0, 0, 0, 0, 0, 0, 1, 0, 0, 0],\n",
       "       [0, 0, 0, 0, 0, 0, 0, 1, 0, 0],\n",
       "       [0, 0, 0, 1, 0, 0, 0, 0, 0, 0],\n",
       "       [0, 0, 0, 0, 0, 0, 0, 0, 0, 1],\n",
       "       [0, 1, 0, 0, 0, 0, 0, 0, 0, 0],\n",
       "       [0, 1, 0, 0, 0, 0, 0, 0, 0, 0]])"
      ]
     },
     "execution_count": 7,
     "metadata": {},
     "output_type": "execute_result"
    }
   ],
   "source": [
    "trainY[:10]"
   ]
  },
  {
   "cell_type": "code",
   "execution_count": 8,
   "metadata": {},
   "outputs": [
    {
     "name": "stdout",
     "output_type": "stream",
     "text": [
      "[INFO] compiling model...\n"
     ]
    }
   ],
   "source": [
    "# initialize the model\n",
    "print(\"[INFO] compiling model...\")\n",
    "model = LeNet.build(width=28, height=28, depth=1, classes=10)\n",
    "opt = SGD(lr=0.01)\n",
    "model.compile(loss=\"categorical_crossentropy\", optimizer=opt,\n",
    "    metrics=[\"accuracy\"])\n"
   ]
  },
  {
   "cell_type": "code",
   "execution_count": 9,
   "metadata": {},
   "outputs": [
    {
     "name": "stdout",
     "output_type": "stream",
     "text": [
      "[INFO] training network...\n",
      "Train on 1512 samples, validate on 504 samples\n",
      "Epoch 1/15\n",
      "1512/1512 [==============================] - 3s 2ms/step - loss: 2.2407 - acc: 0.1779 - val_loss: 2.1951 - val_acc: 0.3294\n",
      "Epoch 2/15\n",
      "1512/1512 [==============================] - 2s 2ms/step - loss: 2.1499 - acc: 0.3393 - val_loss: 2.1189 - val_acc: 0.5218\n",
      "Epoch 3/15\n",
      "1512/1512 [==============================] - 2s 2ms/step - loss: 2.0650 - acc: 0.4484 - val_loss: 2.0308 - val_acc: 0.1012\n",
      "Epoch 4/15\n",
      "1512/1512 [==============================] - 2s 2ms/step - loss: 1.9236 - acc: 0.5648 - val_loss: 1.9296 - val_acc: 0.1012\n",
      "Epoch 5/15\n",
      "1512/1512 [==============================] - 2s 2ms/step - loss: 1.6305 - acc: 0.7189 - val_loss: 1.4723 - val_acc: 0.5258\n",
      "Epoch 6/15\n",
      "1512/1512 [==============================] - 2s 2ms/step - loss: 1.1087 - acc: 0.8690 - val_loss: 0.9440 - val_acc: 0.7262\n",
      "Epoch 7/15\n",
      "1512/1512 [==============================] - 2s 2ms/step - loss: 0.6000 - acc: 0.9590 - val_loss: 0.5409 - val_acc: 0.8770\n",
      "Epoch 8/15\n",
      "1512/1512 [==============================] - 2s 2ms/step - loss: 0.3214 - acc: 0.9848 - val_loss: 0.3950 - val_acc: 0.9147\n",
      "Epoch 9/15\n",
      "1512/1512 [==============================] - 3s 2ms/step - loss: 0.2037 - acc: 0.9861 - val_loss: 0.1536 - val_acc: 0.9960\n",
      "Epoch 10/15\n",
      "1512/1512 [==============================] - 2s 2ms/step - loss: 0.1445 - acc: 0.9927 - val_loss: 0.1191 - val_acc: 0.9940\n",
      "Epoch 11/15\n",
      "1512/1512 [==============================] - 2s 2ms/step - loss: 0.1133 - acc: 0.9954 - val_loss: 0.0885 - val_acc: 0.9980\n",
      "Epoch 12/15\n",
      "1512/1512 [==============================] - 2s 2ms/step - loss: 0.0944 - acc: 0.9954 - val_loss: 0.0762 - val_acc: 0.9980\n",
      "Epoch 13/15\n",
      "1512/1512 [==============================] - 2s 2ms/step - loss: 0.0821 - acc: 0.9954 - val_loss: 0.0697 - val_acc: 0.9980\n",
      "Epoch 14/15\n",
      "1512/1512 [==============================] - 3s 2ms/step - loss: 0.0731 - acc: 0.9954 - val_loss: 0.0599 - val_acc: 0.9980\n",
      "Epoch 15/15\n",
      "1512/1512 [==============================] - 3s 2ms/step - loss: 0.0666 - acc: 0.9954 - val_loss: 0.0569 - val_acc: 0.9980\n"
     ]
    }
   ],
   "source": [
    "# train the network\n",
    "print(\"[INFO] training network...\")\n",
    "H = model.fit(trainX, trainY,  validation_data=(testX, testY),\n",
    "    batch_size=32, epochs=15, verbose=1)"
   ]
  },
  {
   "cell_type": "code",
   "execution_count": 10,
   "metadata": {},
   "outputs": [
    {
     "name": "stdout",
     "output_type": "stream",
     "text": [
      "[INFO] evaluating network...\n",
      "                    precision    recall  f1-score   support\n",
      "\n",
      ".ipynb_checkpoints       1.00      1.00      1.00        51\n",
      "                 1       1.00      1.00      1.00        75\n",
      "                 2       0.98      1.00      0.99        55\n",
      "                 3       1.00      1.00      1.00        47\n",
      "                 4       1.00      1.00      1.00        57\n",
      "                 5       1.00      0.99      0.99        69\n",
      "                 6       1.00      1.00      1.00        53\n",
      "                 7       1.00      1.00      1.00        55\n",
      "                 8       1.00      1.00      1.00        42\n",
      "\n",
      "       avg / total       1.00      1.00      1.00       504\n",
      "\n"
     ]
    },
    {
     "name": "stderr",
     "output_type": "stream",
     "text": [
      "/anaconda3/envs/dlcv/lib/python3.6/site-packages/sklearn/metrics/classification.py:1428: UserWarning: labels size, 9, does not match size of target_names, 10\n",
      "  .format(len(labels), len(target_names))\n"
     ]
    }
   ],
   "source": [
    "# evaluate the network\n",
    "print(\"[INFO] evaluating network...\")\n",
    "predictions = model.predict(testX, batch_size=32)\n",
    "print(classification_report(testY.argmax(axis=1),\n",
    "    predictions.argmax(axis=1), target_names=lb.classes_))"
   ]
  },
  {
   "cell_type": "code",
   "execution_count": 11,
   "metadata": {},
   "outputs": [
    {
     "name": "stdout",
     "output_type": "stream",
     "text": [
      "[INFO] serializing network...\n"
     ]
    }
   ],
   "source": [
    "# save the model to disk\n",
    "print(\"[INFO] serializing network...\")\n",
    "model.save(MODEL)"
   ]
  },
  {
   "cell_type": "code",
   "execution_count": 12,
   "metadata": {},
   "outputs": [
    {
     "data": {
      "image/png": "[encoded data removed]",
      "text/plain": [
       "<Figure size 432x288 with 1 Axes>"
      ]
     },
     "metadata": {},
     "output_type": "display_data"
    }
   ],
   "source": [
    "# plot the training + testing loss and accuracy\n",
    "plt.style.use(\"ggplot\")\n",
    "plt.figure()\n",
    "plt.plot(np.arange(0, 15), H.history[\"loss\"], label=\"train_loss\")\n",
    "plt.plot(np.arange(0, 15), H.history[\"val_loss\"], label=\"val_loss\")\n",
    "plt.plot(np.arange(0, 15), H.history[\"acc\"], label=\"acc\")\n",
    "plt.plot(np.arange(0, 15), H.history[\"val_acc\"], label=\"val_acc\")\n",
    "plt.title(\"Training Loss and Accuracy\")\n",
    "plt.xlabel(\"Epoch #\")\n",
    "plt.ylabel(\"Loss/Accuracy\")\n",
    "plt.legend()\n",
    "plt.show()\n",
    "\n",
    "\n",
    "\n",
    "\n",
    "\n",
    "\n",
    "\n",
    "\n",
    "\n",
    "\n",
    "\n",
    "\n",
    "\n",
    "\n",
    "\n",
    "\n",
    "\n",
    "\n",
    "\n",
    "\n",
    "\n"
   ]
  },
  {
   "cell_type": "code",
   "execution_count": null,
   "metadata": {},
   "outputs": [],
   "source": []
  }
 ],
 "metadata": {
  "kernelspec": {
   "display_name": "Python 3",
   "language": "python",
   "name": "python3"
  },
  "language_info": {
   "codemirror_mode": {
    "name": "ipython",
    "version": 3
   },
   "file_extension": ".py",
   "mimetype": "text/x-python",
   "name": "python",
   "nbconvert_exporter": "python",
   "pygments_lexer": "ipython3",
   "version": "3.6.4"
  }
 },
 "nbformat": 4,
 "nbformat_minor": 2
}
