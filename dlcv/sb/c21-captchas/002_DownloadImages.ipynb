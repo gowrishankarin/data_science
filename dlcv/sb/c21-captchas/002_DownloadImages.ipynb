{
 "cells": [
  {
   "cell_type": "code",
   "execution_count": 1,
   "metadata": {},
   "outputs": [],
   "source": [
    "import requests\n",
    "import time\n",
    "import os"
   ]
  },
  {
   "cell_type": "code",
   "execution_count": 4,
   "metadata": {},
   "outputs": [],
   "source": [
    "# IMAGE SOURCE\n",
    "IMG_SOURCE = \"https://www.e-zpassny.com/vector/jcaptcha.do\"\n",
    "total = 0\n",
    "NUM_IMAGES = 10"
   ]
  },
  {
   "cell_type": "code",
   "execution_count": 5,
   "metadata": {},
   "outputs": [
    {
     "name": "stdout",
     "output_type": "stream",
     "text": [
      "[INFO] error downloading image...\n",
      "[INFO] error downloading image...\n",
      "[INFO] error downloading image...\n",
      "[INFO] error downloading image...\n",
      "[INFO] error downloading image...\n",
      "[INFO] error downloading image...\n",
      "[INFO] error downloading image...\n",
      "[INFO] error downloading image...\n",
      "[INFO] error downloading image...\n",
      "[INFO] error downloading image...\n"
     ]
    }
   ],
   "source": [
    "# Loop over the number of images to download\n",
    "for i in range(0, NUM_IMAGES):\n",
    "    try:\n",
    "        # Try to grab a new captha image\n",
    "        r = requests.get(IMG_SOURCE, timeout=60)\n",
    "        \n",
    "        # Save the image to disk\n",
    "        p = os.path.sep.join(\"downloads\", \"{}.jpg\".format(str(total).zfill(5)))\n",
    "        f = open(p, \"wb\")\n",
    "        f.writer(r.content)\n",
    "        f.close()\n",
    "        \n",
    "        print(\"[INFO] downloaded: {}\".format(p))\n",
    "        total += 1\n",
    "        \n",
    "    # Handle if any exceptions are thrown during the downloaded process\n",
    "    except:\n",
    "        print(\"[INFO] error downloading image...\")\n",
    "        \n",
    "    # Insert a small sleep to be courteous to the server\n",
    "    time.sleep(0.1)"
   ]
  },
  {
   "cell_type": "code",
   "execution_count": null,
   "metadata": {},
   "outputs": [],
   "source": []
  }
 ],
 "metadata": {
  "kernelspec": {
   "display_name": "Python 3",
   "language": "python",
   "name": "python3"
  },
  "language_info": {
   "codemirror_mode": {
    "name": "ipython",
    "version": 3
   },
   "file_extension": ".py",
   "mimetype": "text/x-python",
   "name": "python",
   "nbconvert_exporter": "python",
   "pygments_lexer": "ipython3",
   "version": "3.6.4"
  }
 },
 "nbformat": 4,
 "nbformat_minor": 2
}
