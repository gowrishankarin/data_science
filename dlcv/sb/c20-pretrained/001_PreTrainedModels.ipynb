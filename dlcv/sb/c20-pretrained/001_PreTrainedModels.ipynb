{
 "cells": [
  {
   "cell_type": "code",
   "execution_count": 1,
   "metadata": {},
   "outputs": [
    {
     "name": "stderr",
     "output_type": "stream",
     "text": [
      "/anaconda3/envs/dlcv/lib/python3.6/site-packages/h5py/__init__.py:36: FutureWarning: Conversion of the second argument of issubdtype from `float` to `np.floating` is deprecated. In future, it will be treated as `np.float64 == np.dtype(float).type`.\n",
      "  from ._conv import register_converters as _register_converters\n",
      "Using TensorFlow backend.\n"
     ]
    }
   ],
   "source": [
    "from keras.applications import ResNet50, InceptionV3, Xception, VGG16, VGG19\n",
    "from keras.applications import imagenet_utils\n",
    "from keras.applications.inception_v3 import preprocess_input\n",
    "from keras.preprocessing.image import img_to_array, load_img\n",
    "import numpy as np\n",
    "import cv2"
   ]
  },
  {
   "cell_type": "code",
   "execution_count": 2,
   "metadata": {},
   "outputs": [],
   "source": [
    "# Define a dictionary that maps model names to their classes inside Keras\n",
    "MODELS = {\n",
    "    \"vgg16\": VGG16,\n",
    "    \"vgg19\": VGG19,\n",
    "    \"inception\": InceptionV3,\n",
    "    \"xception\": Xception,\n",
    "    \"resnet\": ResNet50\n",
    "}"
   ]
  },
  {
   "cell_type": "code",
   "execution_count": 3,
   "metadata": {},
   "outputs": [],
   "source": [
    "IMAGE_FILE = \"example_images/example_01.jpg\"\n",
    "MODEL = \"resnet\""
   ]
  },
  {
   "cell_type": "code",
   "execution_count": 4,
   "metadata": {},
   "outputs": [],
   "source": [
    "inputShape = (224, 224)\n",
    "preprocess = imagenet_utils.preprocess_input"
   ]
  },
  {
   "cell_type": "code",
   "execution_count": 5,
   "metadata": {},
   "outputs": [],
   "source": [
    "if MODEL in (\"inception\", \"xception\"):\n",
    "    inputShape = (299, 299)\n",
    "    preprocess = preprocess_input"
   ]
  },
  {
   "cell_type": "code",
   "execution_count": 6,
   "metadata": {},
   "outputs": [
    {
     "name": "stdout",
     "output_type": "stream",
     "text": [
      "[INFO] loading resnet...\n"
     ]
    }
   ],
   "source": [
    "print(\"[INFO] loading {}...\".format(MODEL))\n",
    "Network = MODELS[MODEL]\n",
    "model = Network(weights=\"imagenet\")"
   ]
  },
  {
   "cell_type": "code",
   "execution_count": null,
   "metadata": {},
   "outputs": [],
   "source": [
    "for modelName in [\"vgg16\", \"vgg19\", \"inception\", \"resnet\", \"xception\"]:\n",
    "    print(\"[INFO] loading {}...\".format(modelName))\n",
    "    Network = MODELS[modelName]\n",
    "    model = Network(weights=\"imagenet\")"
   ]
  },
  {
   "cell_type": "code",
   "execution_count": 7,
   "metadata": {},
   "outputs": [
    {
     "name": "stdout",
     "output_type": "stream",
     "text": [
      "[INFO] loading and pre-processing image...\n"
     ]
    }
   ],
   "source": [
    "print(\"[INFO] loading and pre-processing image...\")\n",
    "image = load_img(IMAGE_FILE, target_size=inputShape)\n",
    "image = img_to_array(image)"
   ]
  },
  {
   "cell_type": "code",
   "execution_count": 8,
   "metadata": {},
   "outputs": [],
   "source": [
    "image = np.expand_dims(image, axis=0)\n",
    "image = preprocess(image)"
   ]
  },
  {
   "cell_type": "code",
   "execution_count": 9,
   "metadata": {},
   "outputs": [
    {
     "name": "stdout",
     "output_type": "stream",
     "text": [
      "[INFO] classifying image with 'resnet'...\n"
     ]
    }
   ],
   "source": [
    "print(\"[INFO] classifying image with '{}'...\".format(MODEL))\n",
    "preds = model.predict(image)\n",
    "P = imagenet_utils.decode_predictions(preds)"
   ]
  },
  {
   "cell_type": "code",
   "execution_count": 10,
   "metadata": {},
   "outputs": [
    {
     "name": "stdout",
     "output_type": "stream",
     "text": [
      "1. pool_table: 100.00%\n",
      "2. restaurant: 0.00%\n",
      "3. grocery_store: 0.00%\n",
      "4. dining_table: 0.00%\n",
      "5. butcher_shop: 0.00%\n"
     ]
    }
   ],
   "source": [
    "# Loop over the predictions adn display the rank-5 predictions + probabilities to our terminal\n",
    "for(i, (imagenetID, label, prob)) in enumerate(P[0]):\n",
    "    print(\"{}. {}: {:.2f}%\".format(i + 1, label, prob * 100))"
   ]
  },
  {
   "cell_type": "code",
   "execution_count": null,
   "metadata": {},
   "outputs": [],
   "source": [
    "# Load the image via OpenCV, draw the top prediction on the image and display the image to our screen\n",
    "orig = cv2.imread(IMAGE_FILE)\n",
    "(imagenetID, label, prob) = P[0][0]\n",
    "cv2.putText(orig, \"Label: {}\".format(label), (10, 30),\n",
    "    cv2.FONT_HERSHEY_SIMPLEX, 0.8, (0, 255, 0), 2)\n",
    "cv2.imshow(\"Classification\", orig)\n",
    "cv2.waitKey(0)"
   ]
  },
  {
   "cell_type": "code",
   "execution_count": null,
   "metadata": {},
   "outputs": [],
   "source": []
  }
 ],
 "metadata": {
  "kernelspec": {
   "display_name": "Python 3",
   "language": "python",
   "name": "python3"
  },
  "language_info": {
   "codemirror_mode": {
    "name": "ipython",
    "version": 3
   },
   "file_extension": ".py",
   "mimetype": "text/x-python",
   "name": "python",
   "nbconvert_exporter": "python",
   "pygments_lexer": "ipython3",
   "version": "3.6.4"
  }
 },
 "nbformat": 4,
 "nbformat_minor": 2
}
