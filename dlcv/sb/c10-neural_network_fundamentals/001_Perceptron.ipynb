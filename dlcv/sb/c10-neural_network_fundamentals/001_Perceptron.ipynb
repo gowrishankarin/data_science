{
 "cells": [
  {
   "cell_type": "code",
   "execution_count": 1,
   "metadata": {},
   "outputs": [],
   "source": [
    "import numpy as np"
   ]
  },
  {
   "cell_type": "code",
   "execution_count": 2,
   "metadata": {},
   "outputs": [],
   "source": [
    "class Perceptron:\n",
    "    def __init__(self, N, alpha=0.1):\n",
    "        # Initialize the weight matrix and store the learning rate\n",
    "        self.W = np.random.randn(N + 1)/np.sqrt(N)\n",
    "        self.alpha = alpha\n",
    "        \n",
    "    def step(self, x):\n",
    "        # Apply the step function\n",
    "        return 1 if x > 0 else 0\n",
    "    \n",
    "    def fit(self, X, y, epochs=10):\n",
    "        # Insert a column of 1s as the last entry in the feature\n",
    "        # matrix -- this little trick allows us to treat the bias\n",
    "        # as a trainable parameter within the weight matrix\n",
    "        X = np.c_[X, np.ones((X.shape[0]))]\n",
    "        \n",
    "        # Loop over the desired number of epochs\n",
    "        for epoch in np.arange(0, epochs):\n",
    "            # Loop over each individual data point\n",
    "            for(x, target) in zip(X, y):\n",
    "                # Take the dot product between the input features\n",
    "                # and the weight matrix, then pass this value\n",
    "                # through the step function to obtain the prediction\n",
    "                p = self.step(np.dot(x, self.W))\n",
    "                \n",
    "                # Only perform the weight update, if our prediction \n",
    "                # does not match the target\n",
    "                if p != target:\n",
    "                    # Determine the error\n",
    "                    error = p - target\n",
    "                    \n",
    "                    # Update the weight matrix\n",
    "                    self.W += -self.alpha * error * x\n",
    "                    \n",
    "    def predict(self, X, addBias=True):\n",
    "        # ensure our input is a matrix\n",
    "        X = np.atleast_2d(X)\n",
    "        \n",
    "        # Check to see if the bias column should be added\n",
    "        if addBias:\n",
    "            # Insert a column of 1s as the last entry in\n",
    "            # the feature matrix(bias)\n",
    "            X = np.c_[X, np.ones((X.shape[0]))]\n",
    "            \n",
    "        # Take the dot product between the input features and the \n",
    "        # weight matrix, then pass the value through the step function\n",
    "        return self.step(np.dot(X, self.W))"
   ]
  },
  {
   "cell_type": "code",
   "execution_count": 4,
   "metadata": {},
   "outputs": [],
   "source": [
    "# BITWISE OR\n",
    "X = np.array([[0, 0], [0, 1], [1, 0], [1, 1]])\n",
    "y = np.array([[0], [1], [1], [1]])"
   ]
  },
  {
   "cell_type": "code",
   "execution_count": 5,
   "metadata": {},
   "outputs": [
    {
     "name": "stdout",
     "output_type": "stream",
     "text": [
      "[INFO] training perceptron...\n"
     ]
    }
   ],
   "source": [
    "print(\"[INFO] training perceptron...\")\n",
    "p = Perceptron(X.shape[1], alpha=0.1)\n",
    "p.fit(X, y, epochs=20)"
   ]
  },
  {
   "cell_type": "code",
   "execution_count": 6,
   "metadata": {},
   "outputs": [
    {
     "name": "stdout",
     "output_type": "stream",
     "text": [
      "[INFO] testing perceptron...\n",
      "[INFO] data=[0 0], ground-truth=0, pred=0\n",
      "[INFO] data=[0 1], ground-truth=1, pred=1\n",
      "[INFO] data=[1 0], ground-truth=1, pred=1\n",
      "[INFO] data=[1 1], ground-truth=1, pred=1\n"
     ]
    }
   ],
   "source": [
    "# Now that our perceptron is trained we can evaluate it\n",
    "print(\"[INFO] testing perceptron...\")\n",
    "\n",
    "# Now that our network is trained, loop over  the data points\n",
    "for (x, target) in zip(X, y):\n",
    "    # Make a prediction on the data point and display the result \n",
    "    # to our console\n",
    "    pred = p.predict(x)\n",
    "    print(\"[INFO] data={}, ground-truth={}, pred={}\".format(\n",
    "        x, target[0], pred))"
   ]
  },
  {
   "cell_type": "code",
   "execution_count": 7,
   "metadata": {},
   "outputs": [],
   "source": [
    "# BITWISE AND\n",
    "X = np.array([[0, 0], [0, 1], [1, 0], [1, 1]])\n",
    "y = np.array([[0], [0], [0], [1]])"
   ]
  },
  {
   "cell_type": "code",
   "execution_count": 8,
   "metadata": {},
   "outputs": [
    {
     "name": "stdout",
     "output_type": "stream",
     "text": [
      "[INFO] training perceptron...\n"
     ]
    }
   ],
   "source": [
    "print(\"[INFO] training perceptron...\")\n",
    "p = Perceptron(X.shape[1], alpha=0.1)\n",
    "p.fit(X, y, epochs=20)"
   ]
  },
  {
   "cell_type": "code",
   "execution_count": 9,
   "metadata": {},
   "outputs": [
    {
     "name": "stdout",
     "output_type": "stream",
     "text": [
      "[INFO] testing perceptron...\n",
      "[INFO] data=[0 0], ground-truth=0, pred=0\n",
      "[INFO] data=[0 1], ground-truth=0, pred=0\n",
      "[INFO] data=[1 0], ground-truth=0, pred=0\n",
      "[INFO] data=[1 1], ground-truth=1, pred=1\n"
     ]
    }
   ],
   "source": [
    "# Now that our perceptron is trained we can evaluate it\n",
    "print(\"[INFO] testing perceptron...\")\n",
    "\n",
    "# Now that our network is trained, loop over  the data points\n",
    "for (x, target) in zip(X, y):\n",
    "    # Make a prediction on the data point and display the result \n",
    "    # to our console\n",
    "    pred = p.predict(x)\n",
    "    print(\"[INFO] data={}, ground-truth={}, pred={}\".format(\n",
    "        x, target[0], pred))"
   ]
  },
  {
   "cell_type": "code",
   "execution_count": 13,
   "metadata": {},
   "outputs": [
    {
     "name": "stdout",
     "output_type": "stream",
     "text": [
      "[INFO] training perceptron...\n",
      "[INFO] testing perceptron...\n",
      "[INFO] data=[0 0], ground-truth=0, pred=1\n",
      "[INFO] data=[0 1], ground-truth=1, pred=1\n",
      "[INFO] data=[1 0], ground-truth=1, pred=1\n",
      "[INFO] data=[1 1], ground-truth=0, pred=1\n"
     ]
    }
   ],
   "source": [
    "# BITWISE XOR\n",
    "X = np.array([[0, 0], [0, 1], [1, 0], [1, 1]])\n",
    "y = np.array([[0], [1], [1], [0]])\n",
    "\n",
    "print(\"[INFO] training perceptron...\")\n",
    "p = Perceptron(X.shape[1], alpha=0.001)\n",
    "p.fit(X, y, epochs=20)\n",
    "\n",
    "# Now that our perceptron is trained we can evaluate it\n",
    "print(\"[INFO] testing perceptron...\")\n",
    "\n",
    "# Now that our network is trained, loop over  the data points\n",
    "for (x, target) in zip(X, y):\n",
    "    # Make a prediction on the data point and display the result \n",
    "    # to our console\n",
    "    pred = p.predict(x)\n",
    "    print(\"[INFO] data={}, ground-truth={}, pred={}\".format(\n",
    "        x, target[0], pred))"
   ]
  },
  {
   "cell_type": "code",
   "execution_count": null,
   "metadata": {},
   "outputs": [],
   "source": []
  },
  {
   "cell_type": "code",
   "execution_count": null,
   "metadata": {},
   "outputs": [],
   "source": []
  },
  {
   "cell_type": "code",
   "execution_count": null,
   "metadata": {},
   "outputs": [],
   "source": []
  }
 ],
 "metadata": {
  "kernelspec": {
   "display_name": "Python 3",
   "language": "python",
   "name": "python3"
  },
  "language_info": {
   "codemirror_mode": {
    "name": "ipython",
    "version": 3
   },
   "file_extension": ".py",
   "mimetype": "text/x-python",
   "name": "python",
   "nbconvert_exporter": "python",
   "pygments_lexer": "ipython3",
   "version": "3.6.3"
  }
 },
 "nbformat": 4,
 "nbformat_minor": 2
}
