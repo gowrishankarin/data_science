{
 "cells": [
  {
   "cell_type": "code",
   "execution_count": 2,
   "metadata": {},
   "outputs": [
    {
     "name": "stderr",
     "output_type": "stream",
     "text": [
      "Using TensorFlow backend.\n"
     ]
    }
   ],
   "source": [
    "from sklearn.preprocessing import LabelBinarizer\n",
    "from sklearn.model_selection import train_test_split\n",
    "from sklearn.metrics import classification_report\n",
    "from keras.models import Sequential\n",
    "from keras.layers.core import Dense\n",
    "from keras.optimizers import SGD\n",
    "from sklearn import datasets\n",
    "import matplotlib.pyplot as plt\n",
    "import numpy as np\n",
    "import argparse"
   ]
  },
  {
   "cell_type": "code",
   "execution_count": 2,
   "metadata": {},
   "outputs": [],
   "source": [
    "IMG_PATH = ''"
   ]
  },
  {
   "cell_type": "code",
   "execution_count": 3,
   "metadata": {},
   "outputs": [],
   "source": [
    "# Grab the mnist dataset, if this is your first time running this script , \n",
    "# download may take a minute -- the 55mb mnist dataset will be downloaded\n",
    "dataset = datasets.fetch_mldata(\"MNIST Original\")"
   ]
  },
  {
   "cell_type": "code",
   "execution_count": null,
   "metadata": {},
   "outputs": [],
   "source": [
    "#import tensorflow.examples.tutorials.mnist.input_data as input_data\n",
    "#m=input_data.read_data_sets(\"MNIST\")"
   ]
  },
  {
   "cell_type": "code",
   "execution_count": 4,
   "metadata": {},
   "outputs": [],
   "source": [
    "# Scale the raw pixel intensities to the range [0, 1.0], then construct \n",
    "# the training and testing splits\n",
    "data = dataset.data.astype(\"float\")/255.0\n",
    "(trainX, testX, trainY, testY) = train_test_split(data,\n",
    "    dataset.target, test_size=0.25)"
   ]
  },
  {
   "cell_type": "code",
   "execution_count": 5,
   "metadata": {},
   "outputs": [
    {
     "name": "stdout",
     "output_type": "stream",
     "text": [
      "(52500, 784)\n",
      "(52500,)\n",
      "(17500, 784)\n",
      "(17500,)\n"
     ]
    }
   ],
   "source": [
    "print(trainX.shape)\n",
    "print(trainY.shape)\n",
    "print(testX.shape)\n",
    "print(testY.shape)"
   ]
  },
  {
   "cell_type": "code",
   "execution_count": 6,
   "metadata": {},
   "outputs": [
    {
     "data": {
      "text/plain": [
       "array([5., 7., 2., 5., 2., 9., 1., 2., 9., 9.])"
      ]
     },
     "execution_count": 6,
     "metadata": {},
     "output_type": "execute_result"
    }
   ],
   "source": [
    "testY[:10]"
   ]
  },
  {
   "cell_type": "code",
   "execution_count": 7,
   "metadata": {},
   "outputs": [],
   "source": [
    "# Conver the labels from integers to vectors\n",
    "lb = LabelBinarizer()\n",
    "trainY = lb.fit_transform(trainY)\n",
    "testY = lb.transform(testY)"
   ]
  },
  {
   "cell_type": "code",
   "execution_count": 8,
   "metadata": {},
   "outputs": [
    {
     "data": {
      "text/plain": [
       "array([[0, 0, 0, 0, 0, 0, 0, 1, 0, 0],\n",
       "       [0, 0, 0, 1, 0, 0, 0, 0, 0, 0],\n",
       "       [0, 1, 0, 0, 0, 0, 0, 0, 0, 0],\n",
       "       [0, 1, 0, 0, 0, 0, 0, 0, 0, 0],\n",
       "       [0, 0, 0, 0, 0, 0, 0, 0, 0, 1],\n",
       "       [0, 0, 0, 0, 0, 0, 0, 1, 0, 0],\n",
       "       [0, 0, 0, 0, 0, 0, 0, 1, 0, 0],\n",
       "       [0, 0, 0, 0, 0, 0, 0, 0, 1, 0],\n",
       "       [0, 0, 0, 0, 0, 0, 0, 1, 0, 0],\n",
       "       [0, 0, 0, 0, 0, 0, 0, 0, 0, 1]])"
      ]
     },
     "execution_count": 8,
     "metadata": {},
     "output_type": "execute_result"
    }
   ],
   "source": [
    "trainY[:10]"
   ]
  },
  {
   "cell_type": "code",
   "execution_count": 9,
   "metadata": {},
   "outputs": [],
   "source": [
    "# Define the 784-256-128-10 architecture using Keras\n",
    "model = Sequential()\n",
    "model.add(Dense(256, input_shape=(784,), activation=\"sigmoid\"))\n",
    "model.add(Dense(128, activation=\"sigmoid\"))\n",
    "model.add(Dense(10, activation=\"softmax\"))"
   ]
  },
  {
   "cell_type": "code",
   "execution_count": 14,
   "metadata": {},
   "outputs": [
    {
     "name": "stdout",
     "output_type": "stream",
     "text": [
      "_________________________________________________________________\n",
      "Layer (type)                 Output Shape              Param #   \n",
      "=================================================================\n",
      "dense_1 (Dense)              (None, 256)               200960    \n",
      "_________________________________________________________________\n",
      "dense_2 (Dense)              (None, 128)               32896     \n",
      "_________________________________________________________________\n",
      "dense_3 (Dense)              (None, 10)                1290      \n",
      "=================================================================\n",
      "Total params: 235,146\n",
      "Trainable params: 235,146\n",
      "Non-trainable params: 0\n",
      "_________________________________________________________________\n"
     ]
    }
   ],
   "source": [
    "model.summary()\n",
    "# from keras.utils import plot_model\n",
    "# plot_model(model, to_file='model.png')"
   ]
  },
  {
   "cell_type": "code",
   "execution_count": 15,
   "metadata": {},
   "outputs": [
    {
     "name": "stdout",
     "output_type": "stream",
     "text": [
      "[INFO] training network...\n",
      "Train on 52500 samples, validate on 17500 samples\n",
      "Epoch 1/100\n",
      "52500/52500 [==============================] - 3s 54us/step - loss: 2.2777 - acc: 0.1678 - val_loss: 2.2465 - val_acc: 0.3227\n",
      "Epoch 2/100\n",
      "52500/52500 [==============================] - 3s 52us/step - loss: 2.2160 - acc: 0.3660 - val_loss: 2.1836 - val_acc: 0.3929\n",
      "Epoch 3/100\n",
      "52500/52500 [==============================] - 3s 52us/step - loss: 2.1439 - acc: 0.4941 - val_loss: 2.1013 - val_acc: 0.5118\n",
      "Epoch 4/100\n",
      "52500/52500 [==============================] - 3s 54us/step - loss: 2.0463 - acc: 0.5677 - val_loss: 1.9865 - val_acc: 0.5697\n",
      "Epoch 5/100\n",
      "52500/52500 [==============================] - 3s 53us/step - loss: 1.9117 - acc: 0.6018 - val_loss: 1.8325 - val_acc: 0.6338\n",
      "Epoch 6/100\n",
      "52500/52500 [==============================] - 3s 52us/step - loss: 1.7412 - acc: 0.6448 - val_loss: 1.6491 - val_acc: 0.6526\n",
      "Epoch 7/100\n",
      "52500/52500 [==============================] - 3s 52us/step - loss: 1.5526 - acc: 0.6772 - val_loss: 1.4608 - val_acc: 0.6926\n",
      "Epoch 8/100\n",
      "52500/52500 [==============================] - 3s 54us/step - loss: 1.3718 - acc: 0.7103 - val_loss: 1.2915 - val_acc: 0.7205\n",
      "Epoch 9/100\n",
      "52500/52500 [==============================] - 3s 53us/step - loss: 1.2149 - acc: 0.7396 - val_loss: 1.1477 - val_acc: 0.7518\n",
      "Epoch 10/100\n",
      "52500/52500 [==============================] - 3s 53us/step - loss: 1.0852 - acc: 0.7634 - val_loss: 1.0311 - val_acc: 0.7658\n",
      "Epoch 11/100\n",
      "52500/52500 [==============================] - 3s 53us/step - loss: 0.9797 - acc: 0.7829 - val_loss: 0.9369 - val_acc: 0.7817\n",
      "Epoch 12/100\n",
      "52500/52500 [==============================] - 3s 54us/step - loss: 0.8938 - acc: 0.7972 - val_loss: 0.8589 - val_acc: 0.8019\n",
      "Epoch 13/100\n",
      "52500/52500 [==============================] - 3s 54us/step - loss: 0.8230 - acc: 0.8105 - val_loss: 0.7942 - val_acc: 0.8154\n",
      "Epoch 14/100\n",
      "52500/52500 [==============================] - 3s 54us/step - loss: 0.7643 - acc: 0.8208 - val_loss: 0.7402 - val_acc: 0.8266\n",
      "Epoch 15/100\n",
      "52500/52500 [==============================] - 3s 54us/step - loss: 0.7149 - acc: 0.8304 - val_loss: 0.6948 - val_acc: 0.8321\n",
      "Epoch 16/100\n",
      "52500/52500 [==============================] - 3s 53us/step - loss: 0.6730 - acc: 0.8374 - val_loss: 0.6561 - val_acc: 0.8416\n",
      "Epoch 17/100\n",
      "52500/52500 [==============================] - 3s 54us/step - loss: 0.6374 - acc: 0.8438 - val_loss: 0.6228 - val_acc: 0.8480\n",
      "Epoch 18/100\n",
      "52500/52500 [==============================] - 3s 54us/step - loss: 0.6066 - acc: 0.8494 - val_loss: 0.5938 - val_acc: 0.8534\n",
      "Epoch 19/100\n",
      "52500/52500 [==============================] - 3s 55us/step - loss: 0.5800 - acc: 0.8553 - val_loss: 0.5692 - val_acc: 0.8581\n",
      "Epoch 20/100\n",
      "52500/52500 [==============================] - 3s 56us/step - loss: 0.5569 - acc: 0.8593 - val_loss: 0.5474 - val_acc: 0.8630\n",
      "Epoch 21/100\n",
      "52500/52500 [==============================] - 3s 55us/step - loss: 0.5365 - acc: 0.8633 - val_loss: 0.5281 - val_acc: 0.8669\n",
      "Epoch 22/100\n",
      "52500/52500 [==============================] - 3s 55us/step - loss: 0.5186 - acc: 0.8669 - val_loss: 0.5110 - val_acc: 0.8697\n",
      "Epoch 23/100\n",
      "52500/52500 [==============================] - 3s 56us/step - loss: 0.5025 - acc: 0.8700 - val_loss: 0.4963 - val_acc: 0.8737\n",
      "Epoch 24/100\n",
      "52500/52500 [==============================] - 3s 55us/step - loss: 0.4883 - acc: 0.8732 - val_loss: 0.4821 - val_acc: 0.8751\n",
      "Epoch 25/100\n",
      "52500/52500 [==============================] - 3s 55us/step - loss: 0.4754 - acc: 0.8758 - val_loss: 0.4710 - val_acc: 0.8770\n",
      "Epoch 26/100\n",
      "52500/52500 [==============================] - 3s 55us/step - loss: 0.4638 - acc: 0.8785 - val_loss: 0.4590 - val_acc: 0.8811\n",
      "Epoch 27/100\n",
      "52500/52500 [==============================] - 3s 58us/step - loss: 0.4533 - acc: 0.8801 - val_loss: 0.4493 - val_acc: 0.8828\n",
      "Epoch 28/100\n",
      "52500/52500 [==============================] - 3s 55us/step - loss: 0.4437 - acc: 0.8816 - val_loss: 0.4402 - val_acc: 0.8844\n",
      "Epoch 29/100\n",
      "52500/52500 [==============================] - 3s 63us/step - loss: 0.4350 - acc: 0.8833 - val_loss: 0.4319 - val_acc: 0.8845\n",
      "Epoch 30/100\n",
      "52500/52500 [==============================] - 3s 56us/step - loss: 0.4271 - acc: 0.8854 - val_loss: 0.4244 - val_acc: 0.8875\n",
      "Epoch 31/100\n",
      "52500/52500 [==============================] - 3s 55us/step - loss: 0.4197 - acc: 0.8865 - val_loss: 0.4171 - val_acc: 0.8878\n",
      "Epoch 32/100\n",
      "52500/52500 [==============================] - 3s 57us/step - loss: 0.4129 - acc: 0.8881 - val_loss: 0.4112 - val_acc: 0.8890\n",
      "Epoch 33/100\n",
      "52500/52500 [==============================] - 3s 57us/step - loss: 0.4065 - acc: 0.8894 - val_loss: 0.4047 - val_acc: 0.8890\n",
      "Epoch 34/100\n",
      "52500/52500 [==============================] - 3s 57us/step - loss: 0.4009 - acc: 0.8907 - val_loss: 0.3992 - val_acc: 0.8910\n",
      "Epoch 35/100\n",
      "52500/52500 [==============================] - 3s 61us/step - loss: 0.3954 - acc: 0.8922 - val_loss: 0.3941 - val_acc: 0.8921\n",
      "Epoch 36/100\n",
      "52500/52500 [==============================] - 3s 61us/step - loss: 0.3903 - acc: 0.8934 - val_loss: 0.3894 - val_acc: 0.8927\n",
      "Epoch 37/100\n",
      "52500/52500 [==============================] - 3s 61us/step - loss: 0.3856 - acc: 0.8939 - val_loss: 0.3850 - val_acc: 0.8946\n",
      "Epoch 38/100\n",
      "52500/52500 [==============================] - 3s 61us/step - loss: 0.3810 - acc: 0.8948 - val_loss: 0.3807 - val_acc: 0.8949\n",
      "Epoch 39/100\n",
      "52500/52500 [==============================] - 3s 62us/step - loss: 0.3769 - acc: 0.8956 - val_loss: 0.3765 - val_acc: 0.8962\n",
      "Epoch 40/100\n",
      "52500/52500 [==============================] - 3s 62us/step - loss: 0.3730 - acc: 0.8963 - val_loss: 0.3726 - val_acc: 0.8978\n",
      "Epoch 41/100\n",
      "52500/52500 [==============================] - 3s 62us/step - loss: 0.3692 - acc: 0.8970 - val_loss: 0.3692 - val_acc: 0.8973\n",
      "Epoch 42/100\n",
      "52500/52500 [==============================] - 3s 60us/step - loss: 0.3657 - acc: 0.8980 - val_loss: 0.3659 - val_acc: 0.8992\n",
      "Epoch 43/100\n",
      "52500/52500 [==============================] - 3s 59us/step - loss: 0.3624 - acc: 0.8988 - val_loss: 0.3629 - val_acc: 0.8996\n",
      "Epoch 44/100\n",
      "52500/52500 [==============================] - 3s 58us/step - loss: 0.3591 - acc: 0.8994 - val_loss: 0.3601 - val_acc: 0.8999\n",
      "Epoch 45/100\n",
      "52500/52500 [==============================] - 3s 58us/step - loss: 0.3561 - acc: 0.8997 - val_loss: 0.3569 - val_acc: 0.9001\n",
      "Epoch 46/100\n",
      "52500/52500 [==============================] - 3s 58us/step - loss: 0.3532 - acc: 0.9007 - val_loss: 0.3545 - val_acc: 0.9009\n",
      "Epoch 47/100\n",
      "52500/52500 [==============================] - 3s 60us/step - loss: 0.3504 - acc: 0.9012 - val_loss: 0.3519 - val_acc: 0.9014\n",
      "Epoch 48/100\n",
      "52500/52500 [==============================] - 3s 58us/step - loss: 0.3478 - acc: 0.9016 - val_loss: 0.3492 - val_acc: 0.9022\n",
      "Epoch 49/100\n",
      "52500/52500 [==============================] - 3s 57us/step - loss: 0.3452 - acc: 0.9024 - val_loss: 0.3468 - val_acc: 0.9017\n",
      "Epoch 50/100\n",
      "52500/52500 [==============================] - 3s 57us/step - loss: 0.3428 - acc: 0.9032 - val_loss: 0.3447 - val_acc: 0.9029\n",
      "Epoch 51/100\n",
      "52500/52500 [==============================] - 3s 56us/step - loss: 0.3404 - acc: 0.9033 - val_loss: 0.3424 - val_acc: 0.9031\n",
      "Epoch 52/100\n",
      "52500/52500 [==============================] - 3s 56us/step - loss: 0.3381 - acc: 0.9045 - val_loss: 0.3404 - val_acc: 0.9041\n",
      "Epoch 53/100\n",
      "52500/52500 [==============================] - 3s 56us/step - loss: 0.3359 - acc: 0.9052 - val_loss: 0.3385 - val_acc: 0.9039\n",
      "Epoch 54/100\n",
      "52500/52500 [==============================] - 3s 57us/step - loss: 0.3339 - acc: 0.9054 - val_loss: 0.3360 - val_acc: 0.9053\n",
      "Epoch 55/100\n",
      "52500/52500 [==============================] - 3s 56us/step - loss: 0.3318 - acc: 0.9059 - val_loss: 0.3343 - val_acc: 0.9054\n",
      "Epoch 56/100\n",
      "52500/52500 [==============================] - 3s 56us/step - loss: 0.3298 - acc: 0.9065 - val_loss: 0.3325 - val_acc: 0.9055\n",
      "Epoch 57/100\n",
      "52500/52500 [==============================] - 3s 56us/step - loss: 0.3280 - acc: 0.9071 - val_loss: 0.3303 - val_acc: 0.9063\n",
      "Epoch 58/100\n",
      "52500/52500 [==============================] - 3s 61us/step - loss: 0.3260 - acc: 0.9074 - val_loss: 0.3288 - val_acc: 0.9066\n",
      "Epoch 59/100\n",
      "52500/52500 [==============================] - 3s 58us/step - loss: 0.3242 - acc: 0.9082 - val_loss: 0.3270 - val_acc: 0.9066\n",
      "Epoch 60/100\n",
      "52500/52500 [==============================] - 3s 56us/step - loss: 0.3225 - acc: 0.9085 - val_loss: 0.3257 - val_acc: 0.9070\n",
      "Epoch 61/100\n",
      "52500/52500 [==============================] - 3s 57us/step - loss: 0.3208 - acc: 0.9091 - val_loss: 0.3240 - val_acc: 0.9073\n",
      "Epoch 62/100\n",
      "52500/52500 [==============================] - 3s 58us/step - loss: 0.3191 - acc: 0.9092 - val_loss: 0.3226 - val_acc: 0.9085\n",
      "Epoch 63/100\n",
      "52500/52500 [==============================] - 3s 63us/step - loss: 0.3176 - acc: 0.9096 - val_loss: 0.3210 - val_acc: 0.9086\n",
      "Epoch 64/100\n",
      "52500/52500 [==============================] - 3s 61us/step - loss: 0.3160 - acc: 0.9101 - val_loss: 0.3194 - val_acc: 0.9086\n",
      "Epoch 65/100\n",
      "52500/52500 [==============================] - 3s 62us/step - loss: 0.3145 - acc: 0.9101 - val_loss: 0.3185 - val_acc: 0.9085\n",
      "Epoch 66/100\n",
      "52500/52500 [==============================] - 3s 58us/step - loss: 0.3130 - acc: 0.9105 - val_loss: 0.3167 - val_acc: 0.9092\n",
      "Epoch 67/100\n",
      "52500/52500 [==============================] - 3s 57us/step - loss: 0.3116 - acc: 0.9107 - val_loss: 0.3155 - val_acc: 0.9098\n",
      "Epoch 68/100\n",
      "52500/52500 [==============================] - 3s 58us/step - loss: 0.3102 - acc: 0.9118 - val_loss: 0.3143 - val_acc: 0.9097\n",
      "Epoch 69/100\n",
      "52500/52500 [==============================] - 3s 57us/step - loss: 0.3087 - acc: 0.9117 - val_loss: 0.3128 - val_acc: 0.9101\n",
      "Epoch 70/100\n",
      "52500/52500 [==============================] - 3s 57us/step - loss: 0.3073 - acc: 0.9121 - val_loss: 0.3117 - val_acc: 0.9109\n",
      "Epoch 71/100\n",
      "52500/52500 [==============================] - 3s 57us/step - loss: 0.3061 - acc: 0.9128 - val_loss: 0.3104 - val_acc: 0.9115\n",
      "Epoch 72/100\n",
      "52500/52500 [==============================] - 3s 58us/step - loss: 0.3047 - acc: 0.9126 - val_loss: 0.3096 - val_acc: 0.9097\n",
      "Epoch 73/100\n",
      "52500/52500 [==============================] - 3s 56us/step - loss: 0.3036 - acc: 0.9131 - val_loss: 0.3078 - val_acc: 0.9115\n",
      "Epoch 74/100\n",
      "52500/52500 [==============================] - 3s 56us/step - loss: 0.3023 - acc: 0.9136 - val_loss: 0.3069 - val_acc: 0.9123\n",
      "Epoch 75/100\n",
      "52500/52500 [==============================] - 3s 55us/step - loss: 0.3011 - acc: 0.9132 - val_loss: 0.3056 - val_acc: 0.9121\n",
      "Epoch 76/100\n",
      "52500/52500 [==============================] - 3s 57us/step - loss: 0.2999 - acc: 0.9135 - val_loss: 0.3044 - val_acc: 0.9126\n",
      "Epoch 77/100\n",
      "52500/52500 [==============================] - 3s 57us/step - loss: 0.2987 - acc: 0.9140 - val_loss: 0.3035 - val_acc: 0.9129\n",
      "Epoch 78/100\n",
      "52500/52500 [==============================] - 3s 55us/step - loss: 0.2975 - acc: 0.9146 - val_loss: 0.3027 - val_acc: 0.9124\n",
      "Epoch 79/100\n",
      "52500/52500 [==============================] - 3s 56us/step - loss: 0.2965 - acc: 0.9146 - val_loss: 0.3012 - val_acc: 0.9137\n",
      "Epoch 80/100\n",
      "52500/52500 [==============================] - 3s 58us/step - loss: 0.2954 - acc: 0.9148 - val_loss: 0.3005 - val_acc: 0.9134\n",
      "Epoch 81/100\n",
      "52500/52500 [==============================] - 3s 58us/step - loss: 0.2943 - acc: 0.9154 - val_loss: 0.2994 - val_acc: 0.9131\n",
      "Epoch 82/100\n",
      "52500/52500 [==============================] - 3s 59us/step - loss: 0.2932 - acc: 0.9157 - val_loss: 0.2982 - val_acc: 0.9141\n",
      "Epoch 83/100\n",
      "52500/52500 [==============================] - 3s 61us/step - loss: 0.2921 - acc: 0.9161 - val_loss: 0.2976 - val_acc: 0.9133\n",
      "Epoch 84/100\n",
      "52500/52500 [==============================] - 3s 57us/step - loss: 0.2911 - acc: 0.9161 - val_loss: 0.2963 - val_acc: 0.9143\n",
      "Epoch 85/100\n",
      "52500/52500 [==============================] - 3s 56us/step - loss: 0.2901 - acc: 0.9169 - val_loss: 0.2955 - val_acc: 0.9142\n",
      "Epoch 86/100\n",
      "52500/52500 [==============================] - 3s 62us/step - loss: 0.2891 - acc: 0.9166 - val_loss: 0.2945 - val_acc: 0.9145\n",
      "Epoch 87/100\n",
      "52500/52500 [==============================] - 3s 64us/step - loss: 0.2881 - acc: 0.9170 - val_loss: 0.2937 - val_acc: 0.9149\n",
      "Epoch 88/100\n",
      "52500/52500 [==============================] - 3s 59us/step - loss: 0.2871 - acc: 0.9173 - val_loss: 0.2930 - val_acc: 0.9146\n",
      "Epoch 89/100\n",
      "52500/52500 [==============================] - 3s 61us/step - loss: 0.2861 - acc: 0.9176 - val_loss: 0.2926 - val_acc: 0.9152\n",
      "Epoch 90/100\n",
      "52500/52500 [==============================] - 3s 58us/step - loss: 0.2852 - acc: 0.9181 - val_loss: 0.2910 - val_acc: 0.9157\n",
      "Epoch 91/100\n",
      "52500/52500 [==============================] - 3s 58us/step - loss: 0.2843 - acc: 0.9180 - val_loss: 0.2897 - val_acc: 0.9148\n",
      "Epoch 92/100\n",
      "52500/52500 [==============================] - 3s 56us/step - loss: 0.2833 - acc: 0.9191 - val_loss: 0.2896 - val_acc: 0.9159\n",
      "Epoch 93/100\n",
      "52500/52500 [==============================] - 3s 59us/step - loss: 0.2824 - acc: 0.9189 - val_loss: 0.2881 - val_acc: 0.9161\n",
      "Epoch 94/100\n",
      "52500/52500 [==============================] - 3s 59us/step - loss: 0.2816 - acc: 0.9192 - val_loss: 0.2877 - val_acc: 0.9163\n",
      "Epoch 95/100\n",
      "52500/52500 [==============================] - 3s 59us/step - loss: 0.2807 - acc: 0.9195 - val_loss: 0.2871 - val_acc: 0.9164\n",
      "Epoch 96/100\n",
      "52500/52500 [==============================] - 3s 56us/step - loss: 0.2798 - acc: 0.9194 - val_loss: 0.2859 - val_acc: 0.9155\n",
      "Epoch 97/100\n",
      "52500/52500 [==============================] - 3s 56us/step - loss: 0.2789 - acc: 0.9199 - val_loss: 0.2855 - val_acc: 0.9168\n",
      "Epoch 98/100\n",
      "52500/52500 [==============================] - 3s 55us/step - loss: 0.2781 - acc: 0.9199 - val_loss: 0.2842 - val_acc: 0.9167\n",
      "Epoch 99/100\n",
      "52500/52500 [==============================] - 3s 59us/step - loss: 0.2772 - acc: 0.9203 - val_loss: 0.2833 - val_acc: 0.9167\n",
      "Epoch 100/100\n",
      "52500/52500 [==============================] - 3s 60us/step - loss: 0.2763 - acc: 0.9205 - val_loss: 0.2827 - val_acc: 0.9171\n"
     ]
    }
   ],
   "source": [
    "# Train the model using SGD\n",
    "print(\"[INFO] training network...\")\n",
    "sgd = SGD(0.01)\n",
    "model.compile(loss=\"categorical_crossentropy\", optimizer=sgd, metrics=[\"accuracy\"])\n",
    "H = model.fit(trainX, trainY, validation_data=(testX, testY), epochs=100, batch_size=128)"
   ]
  },
  {
   "cell_type": "code",
   "execution_count": 19,
   "metadata": {},
   "outputs": [
    {
     "name": "stdout",
     "output_type": "stream",
     "text": [
      "[INFO] evaluating network...\n",
      "             precision    recall  f1-score   support\n",
      "\n",
      "        0.0       0.95      0.96      0.95      1726\n",
      "        1.0       0.95      0.97      0.96      1963\n",
      "        2.0       0.91      0.89      0.90      1728\n",
      "        3.0       0.91      0.88      0.89      1727\n",
      "        4.0       0.91      0.94      0.92      1728\n",
      "        5.0       0.87      0.86      0.87      1538\n",
      "        6.0       0.93      0.95      0.94      1721\n",
      "        7.0       0.93      0.93      0.93      1861\n",
      "        8.0       0.89      0.88      0.88      1731\n",
      "        9.0       0.91      0.89      0.90      1777\n",
      "\n",
      "avg / total       0.92      0.92      0.92     17500\n",
      "\n"
     ]
    }
   ],
   "source": [
    "# Evaluate the network\n",
    "print(\"[INFO] evaluating network...\")\n",
    "predictions = model.predict(testX, batch_size=128)\n",
    "print(classification_report(testY.argmax(axis=1), predictions.argmax(axis=1), target_names=[str(x) for x in lb.classes_]))"
   ]
  },
  {
   "cell_type": "code",
   "execution_count": 21,
   "metadata": {},
   "outputs": [
    {
     "data": {
      "image/png": "[encoded data removed]",
      "text/plain": [
       "<Figure size 432x288 with 1 Axes>"
      ]
     },
     "metadata": {},
     "output_type": "display_data"
    }
   ],
   "source": [
    "# Plot the training loss and accuracy\n",
    "plt.style.use(\"ggplot\")\n",
    "plt.figure()\n",
    "plt.plot(np.arange(0, 100), H.history[\"loss\"], label=\"train_loss\")\n",
    "plt.plot(np.arange(0, 100), H.history[\"val_loss\"], label=\"val_loss\")\n",
    "plt.plot(np.arange(0, 100), H.history[\"acc\"], label=\"train_acc\")\n",
    "plt.plot(np.arange(0, 100), H.history[\"val_acc\"], label=\"val_acc\")\n",
    "plt.title(\"Training Loss and Accuracy\")\n",
    "plt.xlabel(\"Epoch #\")\n",
    "plt.ylabel(\"Loss/Accuracy\")\n",
    "plt.legend()\n",
    "plt.savefig('keras_mnist.png')"
   ]
  },
  {
   "cell_type": "code",
   "execution_count": null,
   "metadata": {},
   "outputs": [],
   "source": []
  }
 ],
 "metadata": {
  "kernelspec": {
   "display_name": "Python 3",
   "language": "python",
   "name": "python3"
  },
  "language_info": {
   "codemirror_mode": {
    "name": "ipython",
    "version": 3
   },
   "file_extension": ".py",
   "mimetype": "text/x-python",
   "name": "python",
   "nbconvert_exporter": "python",
   "pygments_lexer": "ipython3",
   "version": "3.6.4"
  }
 },
 "nbformat": 4,
 "nbformat_minor": 2
}
