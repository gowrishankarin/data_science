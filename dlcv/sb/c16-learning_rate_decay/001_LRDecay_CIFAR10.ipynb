{
 "cells": [
  {
   "cell_type": "code",
   "execution_count": 1,
   "metadata": {},
   "outputs": [],
   "source": [
    "import matplotlib\n",
    "matplotlib.use(\"Agg\")"
   ]
  },
  {
   "cell_type": "code",
   "execution_count": 2,
   "metadata": {},
   "outputs": [
    {
     "name": "stderr",
     "output_type": "stream",
     "text": [
      "/anaconda3/envs/dlcv/lib/python3.6/site-packages/h5py/__init__.py:36: FutureWarning: Conversion of the second argument of issubdtype from `float` to `np.floating` is deprecated. In future, it will be treated as `np.float64 == np.dtype(float).type`.\n",
      "  from ._conv import register_converters as _register_converters\n",
      "Using TensorFlow backend.\n"
     ]
    }
   ],
   "source": [
    "from sklearn.preprocessing import LabelBinarizer\n",
    "from sklearn.metrics import classification_report\n",
    "from keras.callbacks import LearningRateScheduler\n",
    "from keras.optimizers import SGD\n",
    "from keras.datasets import cifar10\n",
    "import matplotlib.pyplot as plt\n",
    "import numpy as np"
   ]
  },
  {
   "cell_type": "code",
   "execution_count": 14,
   "metadata": {},
   "outputs": [],
   "source": [
    "def step_decay(epoch):\n",
    "    initAlpha = 0.01\n",
    "    factor = 0.25\n",
    "    dropEvery = 5\n",
    "    \n",
    "    # Compute learning rate for the current epoch\n",
    "    alpha = initAlpha * (factor ** np.floor((1 + epoch)/dropEvery))\n",
    "    \n",
    "    return float(alpha)"
   ]
  },
  {
   "cell_type": "code",
   "execution_count": 4,
   "metadata": {},
   "outputs": [],
   "source": [
    "IMG_HELP_PATH = '/Users/shankar/dev/code/ds/studies/data_science/dlcv/sb/c07-first_image_classifier'\n",
    "import os\n",
    "import sys\n",
    "sys.path.append(os.path.abspath(IMG_HELP_PATH))\n",
    "from pyimagesearch.nn.conv import MiniVGGNet"
   ]
  },
  {
   "cell_type": "code",
   "execution_count": 5,
   "metadata": {},
   "outputs": [],
   "source": [
    "((trainX, trainY), (testX, testY)) = cifar10.load_data()\n",
    "trainX = trainX.astype(\"float\") / 255.0\n",
    "testX = testX.astype(\"float\") / 255.0"
   ]
  },
  {
   "cell_type": "code",
   "execution_count": 6,
   "metadata": {},
   "outputs": [],
   "source": [
    "lb = LabelBinarizer()\n",
    "trainY = lb.fit_transform(trainY)\n",
    "testY = lb.transform(testY)"
   ]
  },
  {
   "cell_type": "code",
   "execution_count": 7,
   "metadata": {},
   "outputs": [],
   "source": [
    "labelNames = [\"airplane\", \"automobile\", \"bird\", \"cat\", \"deer\",\n",
    "    \"dog\", \"frog\", \"horse\", \"ship\", \"truck\"]"
   ]
  },
  {
   "cell_type": "code",
   "execution_count": 15,
   "metadata": {},
   "outputs": [],
   "source": [
    "callbacks = [LearningRateScheduler(step_decay)]"
   ]
  },
  {
   "cell_type": "code",
   "execution_count": 10,
   "metadata": {},
   "outputs": [],
   "source": [
    "opt = SGD(lr=0.01, momentum=0.9, nesterov=True)\n",
    "model = MiniVGGNet.build(width=32, height=32, depth=3, classes=10)\n",
    "model.compile(loss=\"categorical_crossentropy\", optimizer=opt, metrics=[\"accuracy\"])"
   ]
  },
  {
   "cell_type": "code",
   "execution_count": 16,
   "metadata": {},
   "outputs": [
    {
     "name": "stdout",
     "output_type": "stream",
     "text": [
      "Train on 50000 samples, validate on 10000 samples\n",
      "Epoch 1/10\n",
      "50000/50000 [==============================] - 353s 7ms/step - loss: 1.7425 - acc: 0.4216 - val_loss: 1.4131 - val_acc: 0.5040\n",
      "Epoch 2/10\n",
      "50000/50000 [==============================] - 351s 7ms/step - loss: 1.2851 - acc: 0.5610 - val_loss: 1.0723 - val_acc: 0.6193\n",
      "Epoch 3/10\n",
      "50000/50000 [==============================] - 354s 7ms/step - loss: 1.0836 - acc: 0.6254 - val_loss: 0.9462 - val_acc: 0.6699\n",
      "Epoch 4/10\n",
      "50000/50000 [==============================] - 356s 7ms/step - loss: 0.9656 - acc: 0.6636 - val_loss: 0.8849 - val_acc: 0.6904\n",
      "Epoch 5/10\n",
      "50000/50000 [==============================] - 356s 7ms/step - loss: 0.8154 - acc: 0.7146 - val_loss: 0.7315 - val_acc: 0.7483\n",
      "Epoch 6/10\n",
      "50000/50000 [==============================] - 353s 7ms/step - loss: 0.7653 - acc: 0.7310 - val_loss: 0.7141 - val_acc: 0.7529\n",
      "Epoch 7/10\n",
      "50000/50000 [==============================] - 353s 7ms/step - loss: 0.7410 - acc: 0.7406 - val_loss: 0.7059 - val_acc: 0.7556\n",
      "Epoch 8/10\n",
      "50000/50000 [==============================] - 356s 7ms/step - loss: 0.7232 - acc: 0.7445 - val_loss: 0.6936 - val_acc: 0.7563\n",
      "Epoch 9/10\n",
      "50000/50000 [==============================] - 357s 7ms/step - loss: 0.7081 - acc: 0.7505 - val_loss: 0.6537 - val_acc: 0.7730\n",
      "Epoch 10/10\n",
      "50000/50000 [==============================] - 366s 7ms/step - loss: 0.6816 - acc: 0.7600 - val_loss: 0.6444 - val_acc: 0.7769\n"
     ]
    }
   ],
   "source": [
    "H = model.fit(trainX, trainY, validation_data=(testX, testY), \n",
    "    batch_size=64, epochs=10, callbacks=callbacks, verbose=1)"
   ]
  },
  {
   "cell_type": "code",
   "execution_count": 17,
   "metadata": {},
   "outputs": [
    {
     "name": "stdout",
     "output_type": "stream",
     "text": [
      "             precision    recall  f1-score   support\n",
      "\n",
      "   airplane       0.82      0.78      0.80      1000\n",
      " automobile       0.91      0.88      0.90      1000\n",
      "       bird       0.72      0.62      0.67      1000\n",
      "        cat       0.61      0.58      0.59      1000\n",
      "       deer       0.71      0.78      0.74      1000\n",
      "        dog       0.67      0.71      0.69      1000\n",
      "       frog       0.77      0.88      0.82      1000\n",
      "      horse       0.84      0.80      0.82      1000\n",
      "       ship       0.87      0.87      0.87      1000\n",
      "      truck       0.85      0.87      0.86      1000\n",
      "\n",
      "avg / total       0.78      0.78      0.78     10000\n",
      "\n"
     ]
    }
   ],
   "source": [
    "predictions = model.predict(testX, batch_size=64)\n",
    "print(classification_report(testY.argmax(axis=1), \n",
    "    predictions.argmax(axis=1), target_names=labelNames))"
   ]
  },
  {
   "cell_type": "code",
   "execution_count": 22,
   "metadata": {},
   "outputs": [],
   "source": [
    "plt.style.use(\"ggplot\")\n",
    "plt.figure()\n",
    "plt.plot(np.arange(0, 10), H.history[\"loss\"], label=\"train_loss\")\n",
    "plt.plot(np.arange(0, 10), H.history[\"val_loss\"], label=\"val_loss\")\n",
    "plt.plot(np.arange(0, 10), H.history[\"acc\"], label=\"train_acc\")\n",
    "plt.plot(np.arange(0, 10), H.history[\"val_acc\"], label=\"val_acc\")\n",
    "plt.title(\"Training Loss and Accuracy on CIFAR-10\")\n",
    "plt.xlabel(\"Epoch #\")\n",
    "plt.ylabel(\"Loss/Accuracy\")\n",
    "plt.legend()\n",
    "plt.show()\n",
    "plt.savefig(\"plt.png\")"
   ]
  },
  {
   "cell_type": "code",
   "execution_count": 21,
   "metadata": {},
   "outputs": [],
   "source": [
    "plt.style.use(\"ggplot\")\n",
    "plt.figure()\n",
    "plt.plot(np.arange(0, 10), H.history[\"loss\"], label=\"train_loss\")\n",
    "plt.plot(np.arange(0, 10), H.history[\"val_loss\"], label=\"val_loss\")\n",
    "plt.plot(np.arange(0, 10), H.history[\"acc\"], label=\"train_acc\")\n",
    "plt.plot(np.arange(0, 10), H.history[\"val_acc\"], label=\"val_acc\")\n",
    "plt.title(\"Training Loss and Accuracy\")\n",
    "plt.xlabel(\"Epoch #\")\n",
    "plt.ylabel(\"Loss/Accuracy\")\n",
    "plt.legend()\n",
    "plt.show()"
   ]
  },
  {
   "cell_type": "code",
   "execution_count": null,
   "metadata": {},
   "outputs": [],
   "source": []
  }
 ],
 "metadata": {
  "kernelspec": {
   "display_name": "Python 3",
   "language": "python",
   "name": "python3"
  },
  "language_info": {
   "codemirror_mode": {
    "name": "ipython",
    "version": 3
   },
   "file_extension": ".py",
   "mimetype": "text/x-python",
   "name": "python",
   "nbconvert_exporter": "python",
   "pygments_lexer": "ipython3",
   "version": "3.6.4"
  }
 },
 "nbformat": 4,
 "nbformat_minor": 2
}
