{
 "cells": [
  {
   "cell_type": "code",
   "execution_count": 1,
   "metadata": {},
   "outputs": [],
   "source": [
    "from skimage.exposure import rescale_intensity\n",
    "import numpy as np\n",
    "import cv2"
   ]
  },
  {
   "cell_type": "code",
   "execution_count": 20,
   "metadata": {},
   "outputs": [],
   "source": [
    "IMAGE_PATH = 'jemma.png'"
   ]
  },
  {
   "cell_type": "code",
   "execution_count": 3,
   "metadata": {},
   "outputs": [],
   "source": [
    "def convolve(image, K):\n",
    "    # Grab the spatial dimensions of the image and kernel\n",
    "    (iH, iW) = image.shape[:2]\n",
    "    (kH, kW) = K.shape[:2]\n",
    "    \n",
    "    # Allocate memory for output image take care to pad the orders of the\n",
    "    # input image so the spatial size ie width and height, are not reduced\n",
    "    pad = (kW - 1) // 2\n",
    "    image = cv2.copyMakeBorder(image, pad, pad, pad, pad, cv2.BORDER_REPLICATE)\n",
    "    output = np.zeros((iH, iW), dtype=\"float\")\n",
    "    \n",
    "    # Loop over the input image, sliding the kernel across each (x, y)-coordinate from \n",
    "    # Left-2-Right and Top-2-Bottom\n",
    "    for y in np.arange(pad, iH + pad):\n",
    "        for x in np.arange(pad, iW + pad):\n",
    "            # Extract the ROI of the image by extracting the *center*\n",
    "            # region of the current (x, y)-coordinates dimensions\n",
    "            roi = image[y - pad:y + pad + 1, x - pad:x + pad + 1]\n",
    "            \n",
    "            # Perform the actual convolution by taking the element-wise multiplications \n",
    "            # between the ROI and the kernel, the summing the matrix\n",
    "            k = (roi * K).sum()\n",
    "            \n",
    "            # Store the convolved value in the output (x, y)-coordinate of the\n",
    "            # output image\n",
    "            output[y - pad, x - pad] = k\n",
    "            \n",
    "    # Rescale the output image to be in the range [0, 255]\n",
    "    output = rescale_intensity(output, in_range=(0, 255))\n",
    "    output = (output * 255).astype(\"uint8\")\n",
    "    \n",
    "    return output"
   ]
  },
  {
   "cell_type": "code",
   "execution_count": 4,
   "metadata": {},
   "outputs": [],
   "source": [
    "# Construct the average blurring kernels used to smooth an image\n",
    "smallBlur = np.ones((7, 7), dtype=\"float\") * (1.0 / (7 * 7))\n",
    "largeBlur = np.ones((21, 21), dtype=\"float\") * (1.0 / (21 * 21))"
   ]
  },
  {
   "cell_type": "code",
   "execution_count": 5,
   "metadata": {},
   "outputs": [],
   "source": [
    "# Construct a a sharpening filter\n",
    "sharpen = np.array((\n",
    "    [0, -1, 0], [-1, 5, -1], [0, -1, 0]\n",
    "), dtype=\"int\")\n",
    "\n",
    "# Laplacian Kernel for edge detection\n",
    "laplacian = np.array((\n",
    "    [0, -1, 0], [-1, 5, -1], [0, -1, 0]\n",
    "), dtype=\"int\")\n",
    "\n",
    "# Sobel X-axis kernel\n",
    "sobelX = np.array((\n",
    "    [-1, 0, 1], [-2, 0, 2], [-1, 0, 1]\n",
    "), dtype=\"int\")\n",
    "\n",
    "# Sobel Y-axis kernel\n",
    "sobelY = np.array((\n",
    "    [-1, -2, -1], [0, 0, 0], [1, 2, 1]\n",
    "), dtype=\"int\")\n",
    "\n",
    "# Emboss kernel\n",
    "emboss = np.array((\n",
    "    [-2, -1, 0], [-1, 1, 1], [0, 1, 2]\n",
    "), dtype=\"int\")"
   ]
  },
  {
   "cell_type": "code",
   "execution_count": 6,
   "metadata": {},
   "outputs": [],
   "source": [
    "# Construct the kernel bank, a list of kernels we are going to apply using both our \n",
    "# custom 'convolve' funcitona and opencvs filter2D\n",
    "\n",
    "kernelBank = (\n",
    "    (\"small_blur\", smallBlur),\n",
    "    (\"largeBlur\", largeBlur),\n",
    "    (\"sharpen\", sharpen),\n",
    "    (\"laplacian\", laplacian),\n",
    "    (\"sobelX\", sobelX),\n",
    "    (\"sobelY\", sobelY),\n",
    "    (\"emboss\", emboss)\n",
    ")"
   ]
  },
  {
   "cell_type": "code",
   "execution_count": 22,
   "metadata": {},
   "outputs": [],
   "source": [
    "# Load the input image and conver it to grayscale \n",
    "gray = cv2.imread(IMAGE_PATH, 0)\n",
    "#gray = cv2.cvtColor(image, cv2.COLOR_BGR2GRAY)\n"
   ]
  },
  {
   "cell_type": "code",
   "execution_count": 24,
   "metadata": {},
   "outputs": [
    {
     "name": "stdout",
     "output_type": "stream",
     "text": [
      "[INFO] applying small_blur kernel\n",
      "[INFO] applying largeBlur kernel\n",
      "[INFO] applying sharpen kernel\n",
      "[INFO] applying laplacian kernel\n",
      "[INFO] applying sobelX kernel\n",
      "[INFO] applying sobelY kernel\n",
      "[INFO] applying emboss kernel\n"
     ]
    }
   ],
   "source": [
    "# Loop over kernels \n",
    "for (kernelName, K) in kernelBank:\n",
    "    # Apply the kernel to the grayscale image using both our custom\n",
    "    # 'convolve' function and openCVs filter2D function\n",
    "    print(\"[INFO] applying {} kernel\".format(kernelName))\n",
    "    convolveOutput = convolve(gray, K)\n",
    "    openCVOutput = cv2.filter2D(gray, -1, K)\n",
    "    \n",
    "    # Show the output images\n",
    "    cv2.imshow(\"Original\", gray)\n",
    "    cv2.imshow(\"{} - convolve\".format(kernelName), convolveOutput)\n",
    "    cv2.imshow(\"{} - opencv\".format(kernelName), openCVOutput)\n",
    "    "
   ]
  },
  {
   "cell_type": "code",
   "execution_count": null,
   "metadata": {},
   "outputs": [],
   "source": []
  }
 ],
 "metadata": {
  "kernelspec": {
   "display_name": "Python 3",
   "language": "python",
   "name": "python3"
  },
  "language_info": {
   "codemirror_mode": {
    "name": "ipython",
    "version": 3
   },
   "file_extension": ".py",
   "mimetype": "text/x-python",
   "name": "python",
   "nbconvert_exporter": "python",
   "pygments_lexer": "ipython3",
   "version": "3.6.4"
  }
 },
 "nbformat": 4,
 "nbformat_minor": 2
}
